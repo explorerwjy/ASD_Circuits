{
 "cells": [
  {
   "cell_type": "code",
   "execution_count": 1,
   "metadata": {},
   "outputs": [
    {
     "name": "stderr",
     "output_type": "stream",
     "text": [
      "/Users/jiayao/anaconda3/lib/python3.7/site-packages/IPython/core/interactiveshell.py:3185: DtypeWarning: Columns (38,45) have mixed types. Specify dtype option on import or set low_memory=False.\n",
      "  if (yield from self.run_code(code, result)):\n"
     ]
    }
   ],
   "source": [
    "%load_ext autoreload\n",
    "%autoreload 2\n",
    "from ASD_Circuits import *\n",
    "from venn import venn\n",
    "\n",
    "HGNC, ENSID2Entrez, GeneSymbol2Entrez, Entrez2Symbol, allen_mouse_genes = LoadGeneINFO()\n",
    "ExpMat, ExpZscoreMat, ExpMatNorm, ExpZscoreMatNorm = LoadExpressionMatrices()"
   ]
  },
  {
   "cell_type": "code",
   "execution_count": 2,
   "metadata": {},
   "outputs": [
    {
     "name": "stdout",
     "output_type": "stream",
     "text": [
      "/Users/jiayao/Work/ASD_Circuits/src/dat/Jon_data/match-exp_avg/9369.txt\n",
      "9369 Not Found in Dataset\n",
      "Olfactory_areas \t 2 \t Taenia_tecta; Dorsal_peduncular_area\n",
      "Hippocampal_region \t 1 \t Field_CA2\n",
      "Isocortex \t 7 \t Anterior_cingulate_area_ventral_part; Prelimbic_area; Lateral_visual_area; Infralimbic_area; Anterior_cingulate_area_dorsal_part; Secondary_motor_area; Temporal_association_areas\n",
      "Hippocampal_formation \t 2 \t Subiculum_dorsal_part; Postsubiculum\n",
      "Striatum \t 6 \t Lateral_septal_nucleus_caudal_caudodorsal_part; Lateral_septal_nucleus_rostral_rostroventral_part; Lateral_septal_nucleus_ventral_part; Intercalated_amygdalar_nucleus; Septofimbrial_nucleus; Medial_amygdalar_nucleus\n",
      "Thalamus \t 21 \t Nucleus_of_reuniens; Parataenial_nucleus; Rhomboid_nucleus; Paraventricular_nucleus_of_the_thalamus; Central_medial_nucleus_of_the_thalamus; Mediodorsal_nucleus_of_thalamus; Intermediodorsal_nucleus_of_the_thalamus; Submedial_nucleus_of_the_thalamus; Anteromedial_nucleus_dorsal_part; Lateral_dorsal_nucleus_of_thalamus; Subparafascicular_area; Medial_habenula; Central_lateral_nucleus_of_the_thalamus; Anteromedial_nucleus_ventral_part; Lateral_posterior_nucleus_of_the_thalamus; Lateral_habenula; Ventral_anterior_lateral_complex_of_the_thalamus; Ventral_posteromedial_nucleus_of_the_thalamus; Anterodorsal_nucleus; Subparafascicular_nucleus_magnocellular_part; Ventral_medial_nucleus_of_the_thalamus\n",
      "Hypothalamus \t 6 \t Paraventricular_hypothalamic_nucleus; Subparaventricular_zone; Periventricular_hypothalamic_nucleus_preoptic_part; Dorsomedial_nucleus_of_the_hypothalamus; Posterior_hypothalamic_nucleus; Median_preoptic_nucleus\n",
      "Cortical_subplate \t 3 \t Endopiriform_nucleus_ventral_part; Basomedial_amygdalar_nucleus; Basolateral_amygdalar_nucleus\n",
      "Pallidum \t 2 \t Medial_septal_nucleus; Triangular_nucleus_of_septum\n"
     ]
    }
   ],
   "source": [
    "SCZ_Owen = pd.read_excel(\"../dat/genes/scz/OwenLGDGenes.xlsx\")\n",
    "for i, row in SCZ_Owen.iterrows():\n",
    "    SCZ_Owen.loc[i, \"EntrezID\"] = GeneSymbol2Entrez[row[\"Gene\"]]\n",
    "    SCZ_Owen.loc[i, \"Pvalue\"] = float(SCZ_Owen.loc[i, \"Pvalue\"])\n",
    "Owen_gene2None, Owen_gene2MutN = SCZOwen_Gene_Weights(SCZ_Owen, FDR=0.05)\n",
    "Owen_Match = MakeMatchDF(Owen_gene2MutN, N=1000)\n",
    "SCZ_Owen_Spec = AvgSTRZ_Weighted(ExpZscoreMat, Owen_gene2MutN, Match_DF=Owen_Match, Method = 2,\n",
    "                                              csv_fil = \"dat/bias/SCZ.Owen.Spec.bias.csv\")\n",
    "RD_Agg_avgZ_RD = RegionDistributions(SCZ_Owen_Spec.set_index(\"STR\"), show=True)"
   ]
  },
  {
   "cell_type": "code",
   "execution_count": null,
   "metadata": {},
   "outputs": [],
   "source": [
    "# Zscore\n",
    "for "
   ]
  }
 ],
 "metadata": {
  "kernelspec": {
   "display_name": "Python 3",
   "language": "python",
   "name": "python3"
  },
  "language_info": {
   "codemirror_mode": {
    "name": "ipython",
    "version": 3
   },
   "file_extension": ".py",
   "mimetype": "text/x-python",
   "name": "python",
   "nbconvert_exporter": "python",
   "pygments_lexer": "ipython3",
   "version": "3.7.1"
  }
 },
 "nbformat": 4,
 "nbformat_minor": 2
}
