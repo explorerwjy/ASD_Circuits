{
 "cells": [
  {
   "cell_type": "markdown",
   "metadata": {},
   "source": [
    "## Weights Calculation\n",
    " Weight0: Every Gene weighted equally \n",
    " \n",
    " Weight1: Ralitive Risk\n",
    " \n",
    " Weight2: Number of Hits\n",
    " \n",
    " Weight3: LofZ"
   ]
  },
  {
   "cell_type": "code",
   "execution_count": 82,
   "metadata": {},
   "outputs": [
    {
     "name": "stdout",
     "output_type": "stream",
     "text": [
      "The autoreload extension is already loaded. To reload it, use:\n",
      "  %reload_ext autoreload\n"
     ]
    }
   ],
   "source": [
    "%load_ext autoreload\n",
    "%autoreload 2\n",
    "from ASD_Circuits import *\n",
    "from venn import venn"
   ]
  },
  {
   "cell_type": "code",
   "execution_count": 46,
   "metadata": {},
   "outputs": [
    {
     "name": "stderr",
     "output_type": "stream",
     "text": [
      "/Users/jiayao/anaconda3/lib/python3.7/site-packages/IPython/core/interactiveshell.py:3020: DtypeWarning: Columns (38,48) have mixed types. Specify dtype option on import or set low_memory=False.\n",
      "  interactivity=interactivity, compiler=compiler, result=result)\n"
     ]
    }
   ],
   "source": [
    "# Load Gene INFO\n",
    "HGNC = pd.read_csv(\"/Users/jiayao/Work/Resources/protein-coding_gene.txt\", delimiter=\"\\t\")\n",
    "ENSID2Entrez = dict(zip(HGNC[\"ensembl_gene_id\"].values, HGNC[\"entrez_id\"].values))\n",
    "GeneSymbol2Entrez = dict(zip(HGNC[\"symbol\"].values, HGNC[\"entrez_id\"].values))\n",
    "Entrez2Symbol = dict(zip(HGNC[\"entrez_id\"].values, HGNC[\"symbol\"].values))\n",
    "allen_mouse_genes = loadgenelist(\"../dat/allen-mouse-exp/allen-mouse-gene_entrez.txt\")\n",
    "\n",
    "# Load Exp Zscore Matrix\n",
    "ExpMat = \"../dat/allen-mouse-exp/energy-conn-model.csv\"\n",
    "ExpMat = pd.read_csv(ExpMat, index_col=\"ROW\")\n",
    "\n",
    "ExpZscoreMat = \"../dat/allen-mouse-exp/energy-zscore-conn-model.csv\"\n",
    "ExpZscoreMat = pd.read_csv(ExpZscoreMat, index_col=\"ROW\")\n",
    "\n",
    "ExpMatNorm = \"../dat/allen-mouse-exp/energy-neuronorm.csv\"\n",
    "ExpMatNorm = pd.read_csv(ExpMatNorm, index_col=\"ROW\")\n",
    "\n",
    "ExpZscoreMatNorm = \"../dat/allen-mouse-exp/energy-zscore-neuronorm.csv\"\n",
    "ExpZscoreMatNorm = pd.read_csv(ExpZscoreMatNorm, index_col=\"ROW\")\n",
    "\n",
    "allen_mouse_genes = loadgenelist(\"/Users/jiayao/Work/ASD_Circuits/dat/allen-mouse-exp/allen-mouse-gene_entrez.txt\")\n",
    "\n",
    "gnomad_cons = pd.read_csv(\"/Users/jiayao/Work/Resources/gnomad.v2.1.1.lof_metrics.by_gene.txt\",\n",
    "                          delimiter=\"\\t\", index_col=\"gene\")"
   ]
  },
  {
   "cell_type": "markdown",
   "metadata": {},
   "source": [
    "# SSC"
   ]
  },
  {
   "cell_type": "code",
   "execution_count": 85,
   "metadata": {},
   "outputs": [
    {
     "data": {
      "text/html": [
       "<div>\n",
       "<style scoped>\n",
       "    .dataframe tbody tr th:only-of-type {\n",
       "        vertical-align: middle;\n",
       "    }\n",
       "\n",
       "    .dataframe tbody tr th {\n",
       "        vertical-align: top;\n",
       "    }\n",
       "\n",
       "    .dataframe thead th {\n",
       "        text-align: right;\n",
       "    }\n",
       "</style>\n",
       "<table border=\"1\" class=\"dataframe\">\n",
       "  <thead>\n",
       "    <tr style=\"text-align: right;\">\n",
       "      <th></th>\n",
       "      <th>Entrez</th>\n",
       "      <th>Gene</th>\n",
       "      <th>dnLGD</th>\n",
       "      <th>dnMis</th>\n",
       "      <th>FDR</th>\n",
       "    </tr>\n",
       "  </thead>\n",
       "  <tbody>\n",
       "    <tr>\n",
       "      <th>0</th>\n",
       "      <td>3909</td>\n",
       "      <td>LAMA3</td>\n",
       "      <td>0</td>\n",
       "      <td>1</td>\n",
       "      <td>0.000</td>\n",
       "    </tr>\n",
       "    <tr>\n",
       "      <th>1</th>\n",
       "      <td>84918</td>\n",
       "      <td>LRP11</td>\n",
       "      <td>0</td>\n",
       "      <td>1</td>\n",
       "      <td>0.008</td>\n",
       "    </tr>\n",
       "  </tbody>\n",
       "</table>\n",
       "</div>"
      ],
      "text/plain": [
       "   Entrez   Gene  dnLGD  dnMis    FDR\n",
       "0    3909  LAMA3      0      1  0.000\n",
       "1   84918  LRP11      0      1  0.008"
      ]
     },
     "execution_count": 85,
     "metadata": {},
     "output_type": "execute_result"
    }
   ],
   "source": [
    "ssc_lowIQ.head(2)"
   ]
  },
  {
   "cell_type": "code",
   "execution_count": 91,
   "metadata": {},
   "outputs": [],
   "source": [
    "ssc_highIQ = pd.read_csv(\"../dat/genes/asd/ssc_highIQ.csv\")\n",
    "ssc_lowIQ = pd.read_csv(\"../dat/genes/asd/ssc_LowIQ.csv\")\n",
    "ssc_match_df = pd.read_csv(\"dat/matching/asd_ssc_exp_matches_1000.csv\", index_col=\"GENE\")\n",
    "\n",
    "ssc_lowIQ_gene2MutN = SSC_Gene_Weights(ssc_lowIQ, gnomad_cons, FDR=0.8)\n",
    "ssc_highIQ_gene2MutN = SSC_Gene_Weights(ssc_highIQ, gnomad_cons, FDR=0.8)"
   ]
  },
  {
   "cell_type": "code",
   "execution_count": 92,
   "metadata": {},
   "outputs": [
    {
     "data": {
      "text/plain": [
       "array([ 29123,  10438,   1826,   4297,   8295,  55870,  57680,   2904,\n",
       "        23389,   6326,   1106,   4851,  23135,   2194,    463,   6711,\n",
       "        23001,   7204,  53335,  57492,   8831,   7994,   1859,  10787,\n",
       "        57451,   9578,  79633,   4041,  23654,   2200,  51322,  84629,\n",
       "        58508,  23199,  26960,  58499,  22859, 493901,   6683,  22941,\n",
       "         8085,  57634,  80816,  10716,  51366,  27245,   5728,  84444,\n",
       "         5253,  28514,   9994,   9969,   4627,   5430,  23036,   6710,\n",
       "        55777,  55636,  23112,  26057,   7249,  57453,   9620, 283450,\n",
       "        23469,   6305,   2975,  64207,   2033,   6323,  25831,  23394,\n",
       "        23405,  84181,   4849,   3897,  26011,  26058,   1956,   9378,\n",
       "        25942,    394,   3608,  26046,   6651,   7468,    777,   1938,\n",
       "         2901,   9901,  23152,  23030,   9020,  11083,   5361,  23352,\n",
       "         8912,  85445,   7874,   9044, 112939,   5980,  23013,   9228,\n",
       "         9024, 152789, 116931,   7477,   1387,     29,   4739,   6601,\n",
       "        26130,  23185,  23347,  64784,  56995,   1778,  23774,   5990,\n",
       "        26050,  64324,  23179,  23451, 253461,   9950,   5126,  55209,\n",
       "        23025,   8452,  85358,  57198,  10522,   8924,  89797,  23040,\n",
       "        83439,   2737,  26512,   5133, 286046,   2047,  64848,  57556,\n",
       "         6874,  23181,   8165,  57661,   9690,  84159,  91752,    476,\n",
       "        56946,  57154,   8911,  54882,  23338,   6597,  51111,   9611,\n",
       "        23053,   5610,   4774, 134957,   9672,   1993,  55167,   4836,\n",
       "         7415, 196528,  23114,  64762,  51317,   5803, 221037,   3778,\n",
       "         9665,   9361,  51684,   7014,  83473,  80155,   7175,   4292,\n",
       "        23162,   8454, 254048,   8535,   1499, 387640,   6529,   3678,\n",
       "        64101,  11069,   8408,  10771,   7461,   1981,   3996,   9919,\n",
       "        29855,   4781,  26115,  10575,   1186,  23090,   9320,   1808,\n",
       "         9569,  55914,   2562,   8850,   5079,     43,  23241,    481,\n",
       "        53838,   6934,  79882,     25,   9612, 114548,  83394, 192670,\n",
       "       221981])"
      ]
     },
     "execution_count": 92,
     "metadata": {},
     "output_type": "execute_result"
    }
   ],
   "source": [
    "ssc_match_df.index.values"
   ]
  },
  {
   "cell_type": "code",
   "execution_count": 98,
   "metadata": {},
   "outputs": [
    {
     "data": {
      "text/plain": [
       "dict_keys([23040, 57492, 8500, 23352, 2562, 7994, 55870, 7874, 27086, 51317, 9578, 1859, 27245, 4739, 10716, 10847, 11198, 57680, 481, 26058, 64207, 9536, 8697, 7477, 5990, 4849, 8085, 25942, 1826, 29123, 26512, 7090, 152789, 6305, 2904, 5728, 7014, 26115, 287, 23654, 23389, 10087, 2626, 55167, 23126, 51322, 1106, 1995, 79718, 1778, 6323, 394, 57451, 1499, 28514, 26057, 9320, 29, 777, 26130, 2972, 6326, 3608, 23053, 26040, 10743, 9994, 5133, 53335, 23179, 91752, 3897, 27154, 51684, 23469, 6529, 8239, 8912, 9901, 7204, 4292, 8831, 9372])"
      ]
     },
     "execution_count": 98,
     "metadata": {},
     "output_type": "execute_result"
    }
   ],
   "source": [
    "len(ssc_lowIQ_gene2MutN.keys())\n",
    "ssc_lowIQ_gene2MutN.keys()"
   ]
  },
  {
   "cell_type": "code",
   "execution_count": 97,
   "metadata": {},
   "outputs": [
    {
     "data": {
      "text/plain": [
       "174"
      ]
     },
     "execution_count": 97,
     "metadata": {},
     "output_type": "execute_result"
    }
   ],
   "source": [
    "len(ssc_highIQ_gene2MutN.keys())"
   ]
  },
  {
   "cell_type": "code",
   "execution_count": 103,
   "metadata": {},
   "outputs": [
    {
     "name": "stdout",
     "output_type": "stream",
     "text": [
      "Hippocampal_formation \t 3 \t Subiculum_dorsal_part; Postsubiculum; Parasubiculum\n",
      "Cortical_subplate \t 1 \t Posterior_amygdalar_nucleus\n",
      "Olfactory_areas \t 5 \t Accessory_olfactory_bulb; Anterior_olfactory_nucleus; Main_olfactory_bulb; Dorsal_peduncular_area; Taenia_tecta\n",
      "Hippocampal_region \t 4 \t Dentate_gyrus; Field_CA3; Field_CA2; Field_CA1\n",
      "Thalamus \t 10 \t Lateral_posterior_nucleus_of_the_thalamus; Parataenial_nucleus; Central_lateral_nucleus_of_the_thalamus; Lateral_dorsal_nucleus_of_thalamus; Parafascicular_nucleus; Anteromedial_nucleus_dorsal_part; Mediodorsal_nucleus_of_thalamus; Lateral_habenula; Dorsal_part_of_the_lateral_geniculate_complex; Nucleus_of_reuniens\n",
      "Isocortex \t 16 \t Orbital_area_ventrolateral_part; Infralimbic_area; Orbital_area_lateral_part; Frontal_pole_cerebral_cortex; Retrosplenial_area_lateral_agranular_part; Secondary_motor_area; Anteromedial_visual_area; Primary_visual_area; Retrosplenial_area_dorsal_part; Agranular_insular_area_ventral_part; Posterolateral_visual_area; Anterior_cingulate_area_ventral_part; posteromedial_visual_area; Prelimbic_area; Anterior_cingulate_area_dorsal_part; Orbital_area_medial_part\n",
      "Midbrain \t 3 \t Anterior_pretectal_nucleus; Nucleus_of_the_optic_tract; Superior_colliculus_sensory_related\n",
      "Striatum \t 6 \t Nucleus_accumbens; Lateral_septal_nucleus_ventral_part; Lateral_septal_nucleus_rostral_rostroventral_part; Olfactory_tubercle; Lateral_septal_nucleus_caudal_caudodorsal_part; Caudoputamen\n",
      "Pons \t 1 \t Superior_central_nucleus_raphe\n",
      "Pallidum \t 1 \t Bed_nuclei_of_the_stria_terminalis\n"
     ]
    }
   ],
   "source": [
    "ssc_hiq_explevel_Mutcount = ExpAVGWithExpMatch(ExpMat, ssc_highIQ_gene2MutN, ssc_match_df,\n",
    "                                              csv_fil = \"dat/bias/ssc.highIQ.explevel.weighted.Mutcount.bias.csv\")\n",
    "RegionDistributions(ssc_hiq_explevel_Mutcount.set_index(\"STR\"))"
   ]
  },
  {
   "cell_type": "code",
   "execution_count": 104,
   "metadata": {},
   "outputs": [
    {
     "name": "stdout",
     "output_type": "stream",
     "text": [
      "Hippocampal_formation \t 4 \t Parasubiculum; Subiculum_ventral_part; Presubiculum; Postsubiculum\n",
      "Cortical_subplate \t 4 \t Endopiriform_nucleus_dorsal_part; Basomedial_amygdalar_nucleus; Claustrum; Basolateral_amygdalar_nucleus\n",
      "Olfactory_areas \t 6 \t Anterior_olfactory_nucleus; Accessory_olfactory_bulb; Dorsal_peduncular_area; Piriform_area; Taenia_tecta; Piriform_amygdalar_area\n",
      "Hippocampal_region \t 4 \t Dentate_gyrus; Field_CA2; Field_CA3; Field_CA1\n",
      "Thalamus \t 2 \t Lateral_posterior_nucleus_of_the_thalamus; Nucleus_of_reuniens\n",
      "Isocortex \t 26 \t Prelimbic_area; Infralimbic_area; Orbital_area_lateral_part; Anterior_cingulate_area_dorsal_part; Orbital_area_ventrolateral_part; Anterior_cingulate_area_ventral_part; Lateral_visual_area; Retrosplenial_area_lateral_agranular_part; Retrosplenial_area_dorsal_part; Secondary_motor_area; Primary_somatosensory_area_lower_limb; Primary_somatosensory_area_upper_limb; Anteromedial_visual_area; Agranular_insular_area_ventral_part; Temporal_association_areas; Primary_visual_area; Primary_motor_area; Gustatory_areas; Posterior_parietal_association_areas; Agranular_insular_area_dorsal_part; Posterolateral_visual_area; Visceral_area; posteromedial_visual_area; Supplemental_somatosensory_area; Agranular_insular_area_posterior_part; Orbital_area_medial_part\n",
      "Striatum \t 4 \t Lateral_septal_nucleus_caudal_caudodorsal_part; Lateral_septal_nucleus_rostral_rostroventral_part; Nucleus_accumbens; Intercalated_amygdalar_nucleus\n"
     ]
    }
   ],
   "source": [
    "ssc_liq_explevel_Mutcount = ExpAVGWithExpMatch(ExpMat, ssc_lowIQ_gene2MutN, ssc_match_df,\n",
    "                                              csv_fil = \"dat/bias/ssc.lowIQ.explevel.weighted.Mutcount.bias.csv\")\n",
    "RegionDistributions(ssc_liq_explevel_Mutcount.set_index(\"STR\"))"
   ]
  },
  {
   "cell_type": "code",
   "execution_count": null,
   "metadata": {},
   "outputs": [],
   "source": []
  },
  {
   "cell_type": "markdown",
   "metadata": {},
   "source": [
    "## ASC"
   ]
  },
  {
   "cell_type": "code",
   "execution_count": 76,
   "metadata": {},
   "outputs": [],
   "source": [
    "asc_df = pd.read_csv(\"../dat/genes/asd/asc_tada_RR.csv\")\n",
    "gene_classifier = pd.read_excel(\"../dat/genes/1-s2.0-S0092867419313984-mmc4.xlsx\", sheet_name=\"Heterogeneity\")\n",
    "gene_classifier = gene_classifier.head(102)\n",
    "ASDp_genes = gene_classifier[gene_classifier[\"classifier\"]==\"ASD_P\"][\"gene\"].values\n",
    "ASD_NDD_genes = gene_classifier[gene_classifier[\"classifier\"]==\"ASD_NDD\"][\"gene\"].values\n",
    "asc_asdp = asc_df[asc_df[\"gene\"].isin(ASDp_genes)]\n",
    "asc_asdndd = asc_df[asc_df[\"gene\"].isin(ASD_NDD_genes)]"
   ]
  },
  {
   "cell_type": "code",
   "execution_count": 75,
   "metadata": {},
   "outputs": [
    {
     "data": {
      "text/html": [
       "<div>\n",
       "<style scoped>\n",
       "    .dataframe tbody tr th:only-of-type {\n",
       "        vertical-align: middle;\n",
       "    }\n",
       "\n",
       "    .dataframe tbody tr th {\n",
       "        vertical-align: top;\n",
       "    }\n",
       "\n",
       "    .dataframe thead th {\n",
       "        text-align: right;\n",
       "    }\n",
       "</style>\n",
       "<table border=\"1\" class=\"dataframe\">\n",
       "  <thead>\n",
       "    <tr style=\"text-align: right;\">\n",
       "      <th></th>\n",
       "      <th>gene</th>\n",
       "      <th>hugoGene</th>\n",
       "      <th>hgnc_id</th>\n",
       "      <th>entrez_id</th>\n",
       "      <th>ensembl_gene_id</th>\n",
       "      <th>refseq_accession</th>\n",
       "      <th>uniprot_ids</th>\n",
       "      <th>location</th>\n",
       "      <th>chr</th>\n",
       "      <th>start_hg38</th>\n",
       "      <th>...</th>\n",
       "      <th>ASC65_2015</th>\n",
       "      <th>ASC102_2018</th>\n",
       "      <th>ASD:DDID</th>\n",
       "      <th>ASD_vs_DDID</th>\n",
       "      <th>ASD53</th>\n",
       "      <th>DDID49</th>\n",
       "      <th>Function</th>\n",
       "      <th>LGD_RR</th>\n",
       "      <th>misa_RR</th>\n",
       "      <th>misb_RR</th>\n",
       "    </tr>\n",
       "  </thead>\n",
       "  <tbody>\n",
       "    <tr>\n",
       "      <th>0</th>\n",
       "      <td>CHD8</td>\n",
       "      <td>CHD8</td>\n",
       "      <td>HGNC:20153</td>\n",
       "      <td>57680</td>\n",
       "      <td>ENSG00000100888</td>\n",
       "      <td>NM_020920</td>\n",
       "      <td>Q9HCK8</td>\n",
       "      <td>14q11.2</td>\n",
       "      <td>chr14</td>\n",
       "      <td>21385194</td>\n",
       "      <td>...</td>\n",
       "      <td>1</td>\n",
       "      <td>1</td>\n",
       "      <td>3.07850705163288</td>\n",
       "      <td>ASD</td>\n",
       "      <td>1</td>\n",
       "      <td>0</td>\n",
       "      <td>Gene expression regulation</td>\n",
       "      <td>60.711380</td>\n",
       "      <td>12.347005</td>\n",
       "      <td>15.270008</td>\n",
       "    </tr>\n",
       "    <tr>\n",
       "      <th>1</th>\n",
       "      <td>SCN2A</td>\n",
       "      <td>SCN2A</td>\n",
       "      <td>HGNC:10588</td>\n",
       "      <td>6326</td>\n",
       "      <td>ENSG00000136531</td>\n",
       "      <td>NM_021007</td>\n",
       "      <td>Q99250</td>\n",
       "      <td>2q24.3</td>\n",
       "      <td>chr2</td>\n",
       "      <td>165194993</td>\n",
       "      <td>...</td>\n",
       "      <td>1</td>\n",
       "      <td>1</td>\n",
       "      <td>0.6913147929608191</td>\n",
       "      <td>DDID</td>\n",
       "      <td>0</td>\n",
       "      <td>1</td>\n",
       "      <td>Neuronal communication</td>\n",
       "      <td>80.483746</td>\n",
       "      <td>6.916012</td>\n",
       "      <td>36.717196</td>\n",
       "    </tr>\n",
       "  </tbody>\n",
       "</table>\n",
       "<p>2 rows × 58 columns</p>\n",
       "</div>"
      ],
      "text/plain": [
       "    gene hugoGene     hgnc_id entrez_id  ensembl_gene_id refseq_accession  \\\n",
       "0   CHD8     CHD8  HGNC:20153     57680  ENSG00000100888        NM_020920   \n",
       "1  SCN2A    SCN2A  HGNC:10588      6326  ENSG00000136531        NM_021007   \n",
       "\n",
       "  uniprot_ids location    chr  start_hg38  ...  ASC65_2015 ASC102_2018  \\\n",
       "0      Q9HCK8  14q11.2  chr14    21385194  ...           1           1   \n",
       "1      Q99250   2q24.3   chr2   165194993  ...           1           1   \n",
       "\n",
       "             ASD:DDID  ASD_vs_DDID  ASD53  DDID49                    Function  \\\n",
       "0    3.07850705163288          ASD      1       0  Gene expression regulation   \n",
       "1  0.6913147929608191         DDID      0       1      Neuronal communication   \n",
       "\n",
       "      LGD_RR    misa_RR    misb_RR  \n",
       "0  60.711380  12.347005  15.270008  \n",
       "1  80.483746   6.916012  36.717196  \n",
       "\n",
       "[2 rows x 58 columns]"
      ]
     },
     "execution_count": 75,
     "metadata": {},
     "output_type": "execute_result"
    }
   ],
   "source": [
    "asc_df.head(2)"
   ]
  },
  {
   "cell_type": "code",
   "execution_count": 78,
   "metadata": {},
   "outputs": [],
   "source": [
    "asc_asdp_gene2MutN = ASC_Gene_Weights(asc_asdp, gnomad_cons, FDR=0.1)\n",
    "asc_asdndd_gene2MutN = ASC_Gene_Weights(asc_asdndd, gnomad_cons, FDR=0.1)"
   ]
  },
  {
   "cell_type": "code",
   "execution_count": 79,
   "metadata": {},
   "outputs": [
    {
     "name": "stdout",
     "output_type": "stream",
     "text": [
      "Hippocampal_formation \t 3 \t Postsubiculum; Parasubiculum; Subiculum_dorsal_part\n",
      "Hypothalamus \t 1 \t Medial_preoptic_nucleus\n",
      "Olfactory_areas \t 3 \t Anterior_olfactory_nucleus; Accessory_olfactory_bulb; Piriform_amygdalar_area\n",
      "Hippocampal_region \t 2 \t Dentate_gyrus; Field_CA2\n",
      "Thalamus \t 12 \t Lateral_posterior_nucleus_of_the_thalamus; Ventral_posteromedial_nucleus_of_the_thalamus_parvicellular_part; Parafascicular_nucleus; Posterior_complex_of_the_thalamus; Subparafascicular_nucleus_magnocellular_part; Parataenial_nucleus; Submedial_nucleus_of_the_thalamus; Lateral_dorsal_nucleus_of_thalamus; Rhomboid_nucleus; Mediodorsal_nucleus_of_thalamus; Central_medial_nucleus_of_the_thalamus; Central_lateral_nucleus_of_the_thalamus\n",
      "Isocortex \t 22 \t Primary_visual_area; posteromedial_visual_area; Anterolateral_visual_area; Lateral_visual_area; Orbital_area_lateral_part; Primary_somatosensory_area_lower_limb; Posterolateral_visual_area; Retrosplenial_area_lateral_agranular_part; Retrosplenial_area_dorsal_part; Prelimbic_area; Anterior_cingulate_area_ventral_part; Orbital_area_ventrolateral_part; Retrosplenial_area_ventral_part; Primary_somatosensory_area_upper_limb; Anteromedial_visual_area; Primary_somatosensory_area_trunk; Posterior_parietal_association_areas; Primary_somatosensory_area_barrel_field; Primary_motor_area; Anterior_cingulate_area_dorsal_part; Infralimbic_area; Frontal_pole_cerebral_cortex\n",
      "Midbrain \t 2 \t Anterior_pretectal_nucleus; Superior_colliculus_sensory_related\n",
      "Striatum \t 3 \t Lateral_septal_nucleus_ventral_part; Caudoputamen; Nucleus_accumbens\n",
      "Pallidum \t 1 \t Bed_nuclei_of_the_stria_terminalis\n",
      "Cerebellum \t 1 \t Ansiform_lobule\n"
     ]
    }
   ],
   "source": [
    "asc_asdp_explevel_Mutcount = ExpAVGWithExpMatch(ExpMat, asc_asdp_gene2MutN, asd_asc_match_df,\n",
    "                                              csv_fil = \"dat/bias/asc.asdp.explevel.weighted.Mutcount.bias.csv\")\n",
    "RegionDistributions(asc_asdp_explevel_Mutcount.set_index(\"STR\"))"
   ]
  },
  {
   "cell_type": "code",
   "execution_count": 80,
   "metadata": {},
   "outputs": [
    {
     "name": "stdout",
     "output_type": "stream",
     "text": [
      "Hippocampal_formation \t 4 \t Subiculum_ventral_part; Subiculum_dorsal_part; Entorhinal_area_lateral_part; Parasubiculum\n",
      "Cortical_subplate \t 6 \t Lateral_amygdalar_nucleus; Endopiriform_nucleus_dorsal_part; Claustrum; Basolateral_amygdalar_nucleus; Endopiriform_nucleus_ventral_part; Basomedial_amygdalar_nucleus\n",
      "Olfactory_areas \t 7 \t Dorsal_peduncular_area; Anterior_olfactory_nucleus; Piriform_area; Accessory_olfactory_bulb; Taenia_tecta; Piriform_amygdalar_area; Postpiriform_transition_area\n",
      "Hippocampal_region \t 4 \t Field_CA1; Field_CA2; Dentate_gyrus; Field_CA3\n",
      "Thalamus \t 2 \t Lateral_posterior_nucleus_of_the_thalamus; Nucleus_of_reuniens\n",
      "Isocortex \t 25 \t Prelimbic_area; Infralimbic_area; Retrosplenial_area_lateral_agranular_part; Anteromedial_visual_area; Orbital_area_ventrolateral_part; Orbital_area_medial_part; Orbital_area_lateral_part; Anterior_cingulate_area_dorsal_part; Secondary_motor_area; Posterior_parietal_association_areas; Lateral_visual_area; Primary_somatosensory_area_lower_limb; Visceral_area; Primary_visual_area; Retrosplenial_area_dorsal_part; Primary_motor_area; Anterior_cingulate_area_ventral_part; Primary_somatosensory_area_trunk; Temporal_association_areas; posteromedial_visual_area; Posterolateral_visual_area; Agranular_insular_area_posterior_part; Frontal_pole_cerebral_cortex; Supplemental_somatosensory_area; Anterolateral_visual_area\n",
      "Striatum \t 2 \t Nucleus_accumbens; Intercalated_amygdalar_nucleus\n"
     ]
    }
   ],
   "source": [
    "asc_asdbdd_explevel_Mutcount = ExpAVGWithExpMatch(ExpMat, asc_asdndd_gene2MutN, asd_asc_match_df,\n",
    "                                              csv_fil = \"dat/bias/asc.asdndd.explevel.weighted.Mutcount.bias.csv\")\n",
    "RegionDistributions(asc_asdbdd_explevel_Mutcount.set_index(\"STR\"))"
   ]
  },
  {
   "cell_type": "code",
   "execution_count": null,
   "metadata": {},
   "outputs": [],
   "source": []
  },
  {
   "cell_type": "code",
   "execution_count": 48,
   "metadata": {},
   "outputs": [
    {
     "name": "stdout",
     "output_type": "stream",
     "text": [
      "Number of genes: 102\n",
      "27086\n",
      "23126\n",
      "287\n",
      "93986\n"
     ]
    }
   ],
   "source": [
    "asc_gene2None, asc_gene2RR, asc_gene2MutN, asc_gene2Cons, asc_gene2MutNLofZ, asc_gene2MutNQValue = ASC_Gene_Weights(\n",
    "    \"../dat/genes/asd/asc_tada_RR.csv\", gnomad_cons, FDR=0.1)\n",
    "asd_asc_match_df = pd.read_csv(\"dat/matching/asd_asc_exp_matches_1000.csv\", index_col=\"GENE\")\n",
    "print(\"Number of genes: %d\"%len(asc_gene2RR))\n",
    "asc_gene2MutN_Length = ASC_MutCountByLength(\n",
    "    \"../dat/genes/asd/asc_tada_RR.csv\", \n",
    "    \"/Users/jiayao/Work/ASD_Circuits/src/dat/match-features.csv\" , FDR=0.1)"
   ]
  },
  {
   "cell_type": "code",
   "execution_count": 65,
   "metadata": {},
   "outputs": [
    {
     "name": "stdout",
     "output_type": "stream",
     "text": [
      "Hippocampal_formation \t 4 \t Subiculum_dorsal_part; Subiculum_ventral_part; Parasubiculum; Entorhinal_area_lateral_part\n",
      "Cortical_subplate \t 3 \t Lateral_amygdalar_nucleus; Endopiriform_nucleus_dorsal_part; Claustrum\n",
      "Olfactory_areas \t 6 \t Anterior_olfactory_nucleus; Dorsal_peduncular_area; Accessory_olfactory_bulb; Piriform_amygdalar_area; Taenia_tecta; Piriform_area\n",
      "Hippocampal_region \t 4 \t Field_CA2; Dentate_gyrus; Field_CA1; Field_CA3\n",
      "Thalamus \t 5 \t Lateral_posterior_nucleus_of_the_thalamus; Rhomboid_nucleus; Mediodorsal_nucleus_of_thalamus; Nucleus_of_reuniens; Parafascicular_nucleus\n",
      "Isocortex \t 25 \t Prelimbic_area; Retrosplenial_area_lateral_agranular_part; Orbital_area_lateral_part; Infralimbic_area; Anteromedial_visual_area; Orbital_area_ventrolateral_part; Lateral_visual_area; Primary_visual_area; Orbital_area_medial_part; Anterior_cingulate_area_dorsal_part; Primary_somatosensory_area_lower_limb; Posterior_parietal_association_areas; posteromedial_visual_area; Secondary_motor_area; Retrosplenial_area_dorsal_part; Posterolateral_visual_area; Anterolateral_visual_area; Anterior_cingulate_area_ventral_part; Visceral_area; Primary_somatosensory_area_trunk; Primary_motor_area; Temporal_association_areas; Agranular_insular_area_posterior_part; Frontal_pole_cerebral_cortex; Supplemental_somatosensory_area\n",
      "Midbrain \t 1 \t Anterior_pretectal_nucleus\n",
      "Striatum \t 2 \t Nucleus_accumbens; Caudoputamen\n"
     ]
    }
   ],
   "source": [
    "asc_explevel_Mutcount = ExpAVGWithExpMatch(ExpMat, asc_gene2MutN, asd_asc_match_df,\n",
    "                                              csv_fil = \"dat/bias/asc.explevel.weighted.Mutcount.bias.csv\")\n",
    "RegionDistributions(asc_explevel_Mutcount.set_index(\"STR\"))"
   ]
  },
  {
   "cell_type": "code",
   "execution_count": 66,
   "metadata": {},
   "outputs": [
    {
     "name": "stdout",
     "output_type": "stream",
     "text": [
      "Hippocampal_formation \t 5 \t Subiculum_dorsal_part; Subiculum_ventral_part; Postsubiculum; Entorhinal_area_lateral_part; Parasubiculum\n",
      "Cortical_subplate \t 3 \t Claustrum; Endopiriform_nucleus_dorsal_part; Lateral_amygdalar_nucleus\n",
      "Olfactory_areas \t 6 \t Anterior_olfactory_nucleus; Dorsal_peduncular_area; Accessory_olfactory_bulb; Piriform_amygdalar_area; Taenia_tecta; Piriform_area\n",
      "Hippocampal_region \t 4 \t Dentate_gyrus; Field_CA2; Field_CA1; Field_CA3\n",
      "Thalamus \t 3 \t Lateral_posterior_nucleus_of_the_thalamus; Parafascicular_nucleus; Submedial_nucleus_of_the_thalamus\n",
      "Isocortex \t 25 \t Prelimbic_area; Infralimbic_area; Orbital_area_lateral_part; Anteromedial_visual_area; Retrosplenial_area_lateral_agranular_part; Orbital_area_ventrolateral_part; Primary_visual_area; Anterior_cingulate_area_dorsal_part; Primary_somatosensory_area_lower_limb; Posterior_parietal_association_areas; posteromedial_visual_area; Orbital_area_medial_part; Posterolateral_visual_area; Anterior_cingulate_area_ventral_part; Lateral_visual_area; Secondary_motor_area; Retrosplenial_area_dorsal_part; Primary_somatosensory_area_trunk; Anterolateral_visual_area; Primary_motor_area; Visceral_area; Frontal_pole_cerebral_cortex; Temporal_association_areas; Supplemental_somatosensory_area; Agranular_insular_area_ventral_part\n",
      "Striatum \t 4 \t Nucleus_accumbens; Caudoputamen; Lateral_septal_nucleus_caudal_caudodorsal_part; Lateral_septal_nucleus_ventral_part\n"
     ]
    }
   ],
   "source": [
    "asc_explevel_norm_Mutcount = ExpAVGWithExpMatch(ExpMatNorm, asc_gene2MutN, asd_asc_match_df,\n",
    "                                              csv_fil = \"dat/bias/asc.norm.explevel.weighted.Mutcount.bias.csv\")\n",
    "RegionDistributions(asc_explevel_norm_Mutcount.set_index(\"STR\"))"
   ]
  },
  {
   "cell_type": "code",
   "execution_count": 67,
   "metadata": {},
   "outputs": [
    {
     "name": "stdout",
     "output_type": "stream",
     "text": [
      "Hippocampal_formation \t 3 \t Subiculum_dorsal_part; Subiculum_ventral_part; Parasubiculum\n",
      "Cortical_subplate \t 5 \t Endopiriform_nucleus_dorsal_part; Claustrum; Lateral_amygdalar_nucleus; Basomedial_amygdalar_nucleus; Endopiriform_nucleus_ventral_part\n",
      "Olfactory_areas \t 3 \t Piriform_area; Anterior_olfactory_nucleus; Dorsal_peduncular_area\n",
      "Hippocampal_region \t 4 \t Dentate_gyrus; Field_CA1; Field_CA2; Field_CA3\n",
      "Thalamus \t 7 \t Lateral_posterior_nucleus_of_the_thalamus; Parafascicular_nucleus; Mediodorsal_nucleus_of_thalamus; Lateral_dorsal_nucleus_of_thalamus; Submedial_nucleus_of_the_thalamus; Central_lateral_nucleus_of_the_thalamus; Nucleus_of_reuniens\n",
      "Isocortex \t 18 \t Prelimbic_area; Primary_somatosensory_area_lower_limb; Posterior_parietal_association_areas; Infralimbic_area; Anteromedial_visual_area; Primary_visual_area; Primary_motor_area; Anterior_cingulate_area_dorsal_part; Retrosplenial_area_lateral_agranular_part; Secondary_motor_area; Orbital_area_lateral_part; Anterior_cingulate_area_ventral_part; Primary_somatosensory_area_trunk; Lateral_visual_area; Agranular_insular_area_ventral_part; posteromedial_visual_area; Gustatory_areas; Orbital_area_ventrolateral_part\n",
      "Midbrain \t 2 \t Anterior_pretectal_nucleus; Nucleus_of_the_optic_tract\n",
      "Striatum \t 6 \t Nucleus_accumbens; Caudoputamen; Lateral_septal_nucleus_caudal_caudodorsal_part; Lateral_septal_nucleus_rostral_rostroventral_part; Lateral_septal_nucleus_ventral_part; Intercalated_amygdalar_nucleus\n",
      "Pallidum \t 2 \t Substantia_innominata; Bed_nuclei_of_the_stria_terminalis\n"
     ]
    }
   ],
   "source": [
    "asc_avgZ_Mutcount = AvgSTRZ_Weighted(ExpZscoreMat, asc_gene2MutN,\n",
    "                                              csv_fil = \"dat/bias/asc.avgZ.weighted.Mutcount.bias.csv\")\n",
    "RegionDistributions(asc_avgZ_Mutcount.set_index(\"STR\"))"
   ]
  },
  {
   "cell_type": "code",
   "execution_count": 68,
   "metadata": {},
   "outputs": [
    {
     "name": "stdout",
     "output_type": "stream",
     "text": [
      "Hippocampal_formation \t 5 \t Subiculum_dorsal_part; Subiculum_ventral_part; Postsubiculum; Parasubiculum; Presubiculum\n",
      "Cortical_subplate \t 3 \t Claustrum; Endopiriform_nucleus_dorsal_part; Basomedial_amygdalar_nucleus\n",
      "Olfactory_areas \t 4 \t Anterior_olfactory_nucleus; Dorsal_peduncular_area; Accessory_olfactory_bulb; Piriform_area\n",
      "Hippocampal_region \t 4 \t Dentate_gyrus; Field_CA2; Field_CA1; Field_CA3\n",
      "Thalamus \t 6 \t Lateral_posterior_nucleus_of_the_thalamus; Parafascicular_nucleus; Mediodorsal_nucleus_of_thalamus; Central_lateral_nucleus_of_the_thalamus; Submedial_nucleus_of_the_thalamus; Ventral_posteromedial_nucleus_of_the_thalamus_parvicellular_part\n",
      "Isocortex \t 20 \t Prelimbic_area; Infralimbic_area; Orbital_area_lateral_part; Anteromedial_visual_area; Retrosplenial_area_lateral_agranular_part; Primary_visual_area; Orbital_area_ventrolateral_part; Anterior_cingulate_area_dorsal_part; Primary_somatosensory_area_lower_limb; Posterior_parietal_association_areas; Anterior_cingulate_area_ventral_part; Posterolateral_visual_area; Secondary_motor_area; posteromedial_visual_area; Primary_motor_area; Orbital_area_medial_part; Primary_somatosensory_area_trunk; Retrosplenial_area_dorsal_part; Agranular_insular_area_ventral_part; Frontal_pole_cerebral_cortex\n",
      "Midbrain \t 2 \t Anterior_pretectal_nucleus; Nucleus_of_the_optic_tract\n",
      "Striatum \t 5 \t Nucleus_accumbens; Caudoputamen; Lateral_septal_nucleus_caudal_caudodorsal_part; Lateral_septal_nucleus_ventral_part; Lateral_septal_nucleus_rostral_rostroventral_part\n",
      "Pallidum \t 1 \t Bed_nuclei_of_the_stria_terminalis\n"
     ]
    }
   ],
   "source": [
    "asc_avgZ_norm_Mutcount = AvgSTRZ_Weighted(ExpZscoreMatNorm, asc_gene2MutN,\n",
    "                                              csv_fil = \"dat/bias/asc.norm.avgZ.weighted.Mutcount.bias.csv\")\n",
    "RegionDistributions(asc_avgZ_norm_Mutcount.set_index(\"STR\"))"
   ]
  },
  {
   "cell_type": "code",
   "execution_count": null,
   "metadata": {},
   "outputs": [],
   "source": []
  },
  {
   "cell_type": "code",
   "execution_count": null,
   "metadata": {},
   "outputs": [],
   "source": []
  },
  {
   "cell_type": "code",
   "execution_count": 43,
   "metadata": {},
   "outputs": [
    {
     "name": "stdout",
     "output_type": "stream",
     "text": [
      "Hippocampal_formation \t 5 \t Subiculum_dorsal_part; Postsubiculum; Presubiculum; Parasubiculum; Subiculum_ventral_part\n",
      "Cortical_subplate \t 3 \t Claustrum; Endopiriform_nucleus_dorsal_part; Posterior_amygdalar_nucleus\n",
      "Olfactory_areas \t 3 \t Piriform_area; Dorsal_peduncular_area; Taenia_tecta\n",
      "Hippocampal_region \t 4 \t Field_CA2; Field_CA1; Dentate_gyrus; Field_CA3\n",
      "Thalamus \t 1 \t Lateral_dorsal_nucleus_of_thalamus\n",
      "Isocortex \t 29 \t Posterior_parietal_association_areas; posteromedial_visual_area; Primary_somatosensory_area_trunk; Anterior_cingulate_area_ventral_part; Retrosplenial_area_lateral_agranular_part; Primary_somatosensory_area_lower_limb; Primary_auditory_area; Primary_somatosensory_area_upper_limb; Primary_visual_area; Retrosplenial_area_ventral_part; Infralimbic_area; Ectorhinal_area; Agranular_insular_area_ventral_part; Primary_motor_area; Primary_somatosensory_area_mouth; Retrosplenial_area_dorsal_part; Anteromedial_visual_area; Temporal_association_areas; Gustatory_areas; Dorsal_auditory_area; Primary_somatosensory_area_barrel_field; Primary_somatosensory_area_nose; Prelimbic_area; Posterolateral_visual_area; Secondary_motor_area; Anterior_cingulate_area_dorsal_part; Ventral_auditory_area; Perirhinal_area; Orbital_area_lateral_part\n",
      "Midbrain \t 1 \t Nucleus_of_the_optic_tract\n",
      "Striatum \t 3 \t Caudoputamen; Nucleus_accumbens; Olfactory_tubercle\n",
      "Pallidum \t 1 \t Substantia_innominata\n"
     ]
    }
   ],
   "source": [
    "asc_specificity_MutNQ = AvgSTRZ_Weighted(ExpZscoreMat, asc_gene2MutNQValue, \n",
    "                                                         csv_fil=\"dat/bias/asc.avgZ.weighted.MutNQ.bias.csv\")\n",
    "RegionDistributions(asc_specificity_MutNQ.set_index(\"STR\"))"
   ]
  },
  {
   "cell_type": "code",
   "execution_count": 45,
   "metadata": {},
   "outputs": [
    {
     "name": "stdout",
     "output_type": "stream",
     "text": [
      "Hippocampal_formation \t 5 \t Subiculum_dorsal_part; Parasubiculum; Presubiculum; Postsubiculum; Entorhinal_area_medial_part_dorsal_zone\n",
      "Cortical_subplate \t 1 \t Claustrum\n",
      "Olfactory_areas \t 3 \t Piriform_amygdalar_area; Cortical_amygdalar_area_posterior_part; Dorsal_peduncular_area\n",
      "Hippocampal_region \t 4 \t Field_CA2; Dentate_gyrus; Field_CA1; Field_CA3\n",
      "Thalamus \t 8 \t Medial_habenula; Medial_geniculate_complex_dorsal_part; Intermediodorsal_nucleus_of_the_thalamus; Lateral_dorsal_nucleus_of_thalamus; Ventral_anterior_lateral_complex_of_the_thalamus; Anteroventral_nucleus_of_thalamus; Rhomboid_nucleus; Medial_geniculate_complex_ventral_part\n",
      "Isocortex \t 23 \t Retrosplenial_area_lateral_agranular_part; posteromedial_visual_area; Primary_auditory_area; Anterior_cingulate_area_ventral_part; Posterior_parietal_association_areas; Primary_visual_area; Retrosplenial_area_ventral_part; Primary_somatosensory_area_trunk; Retrosplenial_area_dorsal_part; Anteromedial_visual_area; Ectorhinal_area; Infralimbic_area; Dorsal_auditory_area; Posterolateral_visual_area; Primary_somatosensory_area_lower_limb; Primary_somatosensory_area_upper_limb; Ventral_auditory_area; Temporal_association_areas; Anterior_cingulate_area_dorsal_part; Orbital_area_lateral_part; Prelimbic_area; Perirhinal_area; Anterolateral_visual_area\n",
      "Midbrain \t 1 \t Nucleus_of_the_optic_tract\n",
      "Striatum \t 3 \t Olfactory_tubercle; Nucleus_accumbens; Caudoputamen\n",
      "Cerebellum \t 2 \t Pyramus_VIII; Fastigial_nucleus\n"
     ]
    }
   ],
   "source": [
    "asc_explevel_MutNQ = ExpAVGWithExpMatch(ExpMat, asc_gene2MutNQValue, asd_asc_match_df,\n",
    "                                                         csv_fil=\"dat/bias/asc.explevel.weighted.MutNQ.bias.csv\")\n",
    "RegionDistributions(asc_explevel_MutNQ.set_index(\"STR\"))"
   ]
  },
  {
   "cell_type": "code",
   "execution_count": 38,
   "metadata": {},
   "outputs": [
    {
     "name": "stdout",
     "output_type": "stream",
     "text": [
      "Hippocampal_formation \t 4 \t Subiculum_dorsal_part; Subiculum_ventral_part; Parasubiculum; Presubiculum\n",
      "Cortical_subplate \t 5 \t Endopiriform_nucleus_dorsal_part; Claustrum; Basomedial_amygdalar_nucleus; Lateral_amygdalar_nucleus; Endopiriform_nucleus_ventral_part\n",
      "Olfactory_areas \t 3 \t Piriform_area; Anterior_olfactory_nucleus; Dorsal_peduncular_area\n",
      "Hippocampal_region \t 4 \t Dentate_gyrus; Field_CA1; Field_CA2; Field_CA3\n",
      "Thalamus \t 7 \t Lateral_posterior_nucleus_of_the_thalamus; Mediodorsal_nucleus_of_thalamus; Parafascicular_nucleus; Lateral_dorsal_nucleus_of_thalamus; Submedial_nucleus_of_the_thalamus; Central_lateral_nucleus_of_the_thalamus; Nucleus_of_reuniens\n",
      "Isocortex \t 18 \t Prelimbic_area; Primary_somatosensory_area_lower_limb; Posterior_parietal_association_areas; Primary_motor_area; Infralimbic_area; Anteromedial_visual_area; Anterior_cingulate_area_dorsal_part; Primary_somatosensory_area_trunk; Retrosplenial_area_lateral_agranular_part; Orbital_area_lateral_part; Primary_visual_area; Secondary_motor_area; Anterior_cingulate_area_ventral_part; Agranular_insular_area_ventral_part; Lateral_visual_area; Orbital_area_ventrolateral_part; Gustatory_areas; Primary_somatosensory_area_upper_limb\n",
      "Midbrain \t 1 \t Anterior_pretectal_nucleus\n",
      "Striatum \t 6 \t Nucleus_accumbens; Caudoputamen; Intercalated_amygdalar_nucleus; Lateral_septal_nucleus_ventral_part; Lateral_septal_nucleus_rostral_rostroventral_part; Lateral_septal_nucleus_caudal_caudodorsal_part\n",
      "Pallidum \t 2 \t Substantia_innominata; Bed_nuclei_of_the_stria_terminalis\n"
     ]
    }
   ],
   "source": [
    "asc_specificity_MutNGL = AvgSTRZ_Weighted(ExpZscoreMat, asc_gene2MutN_Length, \n",
    "                                                         csv_fil=\"dat/bias/asc.avgZ.weighted.MutNGL.bias.csv\")\n",
    "RegionDistributions(asc_specificity_MutNGL.set_index(\"STR\"))"
   ]
  },
  {
   "cell_type": "code",
   "execution_count": 24,
   "metadata": {},
   "outputs": [
    {
     "name": "stdout",
     "output_type": "stream",
     "text": [
      "Hippocampal_formation \t 5 \t Subiculum_dorsal_part; Subiculum_ventral_part; Parasubiculum; Entorhinal_area_lateral_part; Presubiculum\n",
      "Cortical_subplate \t 5 \t Endopiriform_nucleus_dorsal_part; Claustrum; Lateral_amygdalar_nucleus; Basomedial_amygdalar_nucleus; Basolateral_amygdalar_nucleus\n",
      "Olfactory_areas \t 6 \t Anterior_olfactory_nucleus; Dorsal_peduncular_area; Accessory_olfactory_bulb; Piriform_amygdalar_area; Piriform_area; Taenia_tecta\n",
      "Hippocampal_region \t 4 \t Field_CA2; Dentate_gyrus; Field_CA1; Field_CA3\n",
      "Thalamus \t 2 \t Lateral_posterior_nucleus_of_the_thalamus; Rhomboid_nucleus\n",
      "Isocortex \t 26 \t Retrosplenial_area_lateral_agranular_part; Prelimbic_area; Orbital_area_lateral_part; Infralimbic_area; Anteromedial_visual_area; Orbital_area_ventrolateral_part; Lateral_visual_area; Primary_somatosensory_area_lower_limb; Anterior_cingulate_area_dorsal_part; Posterior_parietal_association_areas; Primary_visual_area; Retrosplenial_area_dorsal_part; Orbital_area_medial_part; Secondary_motor_area; posteromedial_visual_area; Primary_somatosensory_area_trunk; Anterior_cingulate_area_ventral_part; Posterolateral_visual_area; Primary_motor_area; Anterolateral_visual_area; Visceral_area; Temporal_association_areas; Agranular_insular_area_posterior_part; Supplemental_somatosensory_area; Gustatory_areas; Frontal_pole_cerebral_cortex\n",
      "Striatum \t 2 \t Nucleus_accumbens; Caudoputamen\n"
     ]
    }
   ],
   "source": [
    "asc_explevel_MutNGL = ExpAVGWithExpMatch(ExpMat, asc_gene2MutN_Length, asd_asc_match_df,\n",
    "                                              csv_fil = \"dat/bias/asc.explevel.weighted.MutNGL.bias.csv\")\n",
    "RegionDistributions(asc_explevel_MutNGL.set_index(\"STR\"))"
   ]
  },
  {
   "cell_type": "code",
   "execution_count": 25,
   "metadata": {},
   "outputs": [
    {
     "name": "stdout",
     "output_type": "stream",
     "text": [
      "Hippocampal_formation \t 4 \t Subiculum_dorsal_part; Subiculum_ventral_part; Parasubiculum; Entorhinal_area_lateral_part\n",
      "Cortical_subplate \t 3 \t Lateral_amygdalar_nucleus; Endopiriform_nucleus_dorsal_part; Claustrum\n",
      "Olfactory_areas \t 6 \t Anterior_olfactory_nucleus; Dorsal_peduncular_area; Accessory_olfactory_bulb; Piriform_amygdalar_area; Taenia_tecta; Piriform_area\n",
      "Hippocampal_region \t 4 \t Field_CA2; Dentate_gyrus; Field_CA1; Field_CA3\n",
      "Thalamus \t 5 \t Lateral_posterior_nucleus_of_the_thalamus; Rhomboid_nucleus; Mediodorsal_nucleus_of_thalamus; Nucleus_of_reuniens; Parafascicular_nucleus\n",
      "Isocortex \t 25 \t Prelimbic_area; Retrosplenial_area_lateral_agranular_part; Orbital_area_lateral_part; Infralimbic_area; Anteromedial_visual_area; Orbital_area_ventrolateral_part; Lateral_visual_area; Primary_visual_area; Orbital_area_medial_part; Anterior_cingulate_area_dorsal_part; Primary_somatosensory_area_lower_limb; Posterior_parietal_association_areas; posteromedial_visual_area; Secondary_motor_area; Retrosplenial_area_dorsal_part; Posterolateral_visual_area; Anterolateral_visual_area; Anterior_cingulate_area_ventral_part; Visceral_area; Primary_somatosensory_area_trunk; Primary_motor_area; Temporal_association_areas; Agranular_insular_area_posterior_part; Frontal_pole_cerebral_cortex; Supplemental_somatosensory_area\n",
      "Midbrain \t 1 \t Anterior_pretectal_nucleus\n",
      "Striatum \t 2 \t Nucleus_accumbens; Caudoputamen\n"
     ]
    }
   ],
   "source": [
    "asc_explevel_Mutcount = ExpAVGWithExpMatch(ExpMat, asc_gene2MutN, asd_asc_match_df,\n",
    "                                              csv_fil = \"dat/bias/asc.explevel.weighted.Mutcount.bias.csv\")\n",
    "RegionDistributions(asc_explevel_Mutcount.set_index(\"STR\"))"
   ]
  },
  {
   "cell_type": "code",
   "execution_count": 83,
   "metadata": {},
   "outputs": [
    {
     "name": "stdout",
     "output_type": "stream",
     "text": [
      "Olfactory_areas \t 4 \t Piriform_area; Anterior_olfactory_nucleus; Dorsal_peduncular_area; Piriform_amygdalar_area\n",
      "Hippocampal_region \t 4 \t Dentate_gyrus; Field_CA1; Field_CA2; Field_CA3\n",
      "Pallidum \t 2 \t Substantia_innominata; Bed_nuclei_of_the_stria_terminalis\n",
      "Hippocampal_formation \t 4 \t Subiculum_dorsal_part; Subiculum_ventral_part; Parasubiculum; Presubiculum\n",
      "Striatum \t 6 \t Nucleus_accumbens; Caudoputamen; Intercalated_amygdalar_nucleus; Lateral_septal_nucleus_ventral_part; Lateral_septal_nucleus_rostral_rostroventral_part; Lateral_septal_nucleus_caudal_caudodorsal_part\n",
      "Cortical_subplate \t 5 \t Endopiriform_nucleus_dorsal_part; Claustrum; Basomedial_amygdalar_nucleus; Lateral_amygdalar_nucleus; Endopiriform_nucleus_ventral_part\n",
      "Isocortex \t 15 \t Prelimbic_area; Primary_somatosensory_area_lower_limb; Posterior_parietal_association_areas; Infralimbic_area; Primary_motor_area; Orbital_area_lateral_part; Anteromedial_visual_area; Primary_somatosensory_area_trunk; Anterior_cingulate_area_dorsal_part; Primary_visual_area; Secondary_motor_area; Retrosplenial_area_lateral_agranular_part; Agranular_insular_area_ventral_part; Anterior_cingulate_area_ventral_part; Lateral_visual_area\n",
      "Thalamus \t 7 \t Lateral_posterior_nucleus_of_the_thalamus; Parafascicular_nucleus; Mediodorsal_nucleus_of_thalamus; Central_lateral_nucleus_of_the_thalamus; Lateral_dorsal_nucleus_of_thalamus; Nucleus_of_reuniens; Submedial_nucleus_of_the_thalamus\n",
      "Midbrain \t 3 \t Anterior_pretectal_nucleus; Nucleus_of_the_posterior_commissure; Nucleus_of_the_optic_tract\n"
     ]
    }
   ],
   "source": [
    "RegionDistributions(asc_specificity_MutNTol.set_index(\"STR\"))"
   ]
  },
  {
   "cell_type": "code",
   "execution_count": 26,
   "metadata": {},
   "outputs": [
    {
     "data": {
      "text/plain": [
       "0.08940160000000001"
      ]
     },
     "execution_count": 26,
     "metadata": {},
     "output_type": "execute_result"
    }
   ],
   "source": [
    "ExpMat.loc[1, \"Anterior_amygdalar_area\"]"
   ]
  },
  {
   "cell_type": "code",
   "execution_count": 33,
   "metadata": {},
   "outputs": [
    {
     "name": "stdout",
     "output_type": "stream",
     "text": [
      "Striatum \t 1 \t Nucleus_accumbens\n",
      "Thalamus \t 4 \t Lateral_posterior_nucleus_of_the_thalamus; Lateral_dorsal_nucleus_of_thalamus; Medial_geniculate_complex_medial_part; Rhomboid_nucleus\n",
      "Olfactory_areas \t 5 \t Anterior_olfactory_nucleus; Piriform_amygdalar_area; Accessory_olfactory_bulb; Dorsal_peduncular_area; Taenia_tecta\n",
      "Isocortex \t 28 \t Retrosplenial_area_lateral_agranular_part; Prelimbic_area; Retrosplenial_area_dorsal_part; Anteromedial_visual_area; Orbital_area_ventrolateral_part; posteromedial_visual_area; Primary_visual_area; Posterior_parietal_association_areas; Orbital_area_lateral_part; Infralimbic_area; Primary_somatosensory_area_lower_limb; Anterior_cingulate_area_ventral_part; Anterior_cingulate_area_dorsal_part; Primary_somatosensory_area_trunk; Orbital_area_medial_part; Posterolateral_visual_area; Lateral_visual_area; Retrosplenial_area_ventral_part; Anterolateral_visual_area; Secondary_motor_area; Primary_somatosensory_area_upper_limb; Primary_motor_area; Perirhinal_area; Primary_somatosensory_area_barrel_field; Temporal_association_areas; Dorsal_auditory_area; Primary_auditory_area; Visceral_area\n",
      "Hippocampal_formation \t 5 \t Subiculum_dorsal_part; Postsubiculum; Parasubiculum; Presubiculum; Entorhinal_area_lateral_part\n",
      "Hippocampal_region \t 4 \t Field_CA2; Field_CA1; Dentate_gyrus; Field_CA3\n",
      "Midbrain \t 2 \t Nucleus_of_the_optic_tract; Anterior_pretectal_nucleus\n",
      "Cortical_subplate \t 1 \t Claustrum\n"
     ]
    }
   ],
   "source": [
    "asc_explevel_Unifrom = ExpAVGWithExpMatch(ExpMat, asc_gene2None, asd_asc_match_df,\n",
    "                                              csv_fil = \"dat/bias/asc.explevel.weighted.Uniform.bias.csv\")\n",
    "RegionDistributions(asc_explevel_Unifrom.set_index(\"STR\"))"
   ]
  },
  {
   "cell_type": "code",
   "execution_count": 35,
   "metadata": {},
   "outputs": [
    {
     "name": "stdout",
     "output_type": "stream",
     "text": [
      "Striatum \t 2 \t Nucleus_accumbens; Caudoputamen\n",
      "Thalamus \t 1 \t Lateral_posterior_nucleus_of_the_thalamus\n",
      "Olfactory_areas \t 4 \t Anterior_olfactory_nucleus; Dorsal_peduncular_area; Accessory_olfactory_bulb; Taenia_tecta\n",
      "Isocortex \t 31 \t Prelimbic_area; Orbital_area_ventrolateral_part; Retrosplenial_area_lateral_agranular_part; Infralimbic_area; Orbital_area_lateral_part; Orbital_area_medial_part; Primary_visual_area; Anteromedial_visual_area; Anterior_cingulate_area_dorsal_part; posteromedial_visual_area; Retrosplenial_area_dorsal_part; Anterior_cingulate_area_ventral_part; Primary_somatosensory_area_lower_limb; Secondary_motor_area; Lateral_visual_area; Posterior_parietal_association_areas; Visceral_area; Anterolateral_visual_area; Posterolateral_visual_area; Perirhinal_area; Primary_motor_area; Retrosplenial_area_ventral_part; Frontal_pole_cerebral_cortex; Primary_somatosensory_area_trunk; Supplemental_somatosensory_area; Dorsal_auditory_area; Temporal_association_areas; Primary_somatosensory_area_barrel_field; Primary_auditory_area; Agranular_insular_area_posterior_part; Primary_somatosensory_area_upper_limb\n",
      "Hippocampal_formation \t 5 \t Subiculum_dorsal_part; Subiculum_ventral_part; Entorhinal_area_lateral_part; Parasubiculum; Postsubiculum\n",
      "Hippocampal_region \t 4 \t Dentate_gyrus; Field_CA2; Field_CA1; Field_CA3\n",
      "Cortical_subplate \t 3 \t Lateral_amygdalar_nucleus; Claustrum; Endopiriform_nucleus_dorsal_part\n"
     ]
    }
   ],
   "source": [
    "asc_explevel_RR = ExpAVGWithExpMatch(ExpMat, asc_gene2RR, asd_asc_match_df,\n",
    "                                              csv_fil = \"dat/bias/asc.explevel.weighted.RR.bias.csv\")\n",
    "RegionDistributions(asc_explevel_RR.set_index(\"STR\"))"
   ]
  },
  {
   "cell_type": "code",
   "execution_count": null,
   "metadata": {},
   "outputs": [],
   "source": []
  },
  {
   "cell_type": "code",
   "execution_count": null,
   "metadata": {},
   "outputs": [],
   "source": []
  },
  {
   "cell_type": "code",
   "execution_count": 93,
   "metadata": {},
   "outputs": [
    {
     "name": "stdout",
     "output_type": "stream",
     "text": [
      "Olfactory_areas \t 5 \t Anterior_olfactory_nucleus; Dorsal_peduncular_area; Piriform_area; Taenia_tecta; Accessory_olfactory_bulb\n",
      "Hippocampal_region \t 4 \t Dentate_gyrus; Field_CA1; Field_CA2; Field_CA3\n",
      "Pallidum \t 1 \t Substantia_innominata\n",
      "Hippocampal_formation \t 2 \t Subiculum_dorsal_part; Subiculum_ventral_part\n",
      "Striatum \t 4 \t Nucleus_accumbens; Caudoputamen; Lateral_septal_nucleus_caudal_caudodorsal_part; Lateral_septal_nucleus_rostral_rostroventral_part\n",
      "Cortical_subplate \t 3 \t Endopiriform_nucleus_dorsal_part; Lateral_amygdalar_nucleus; Claustrum\n",
      "Isocortex \t 25 \t Prelimbic_area; Anterior_cingulate_area_dorsal_part; Infralimbic_area; Primary_somatosensory_area_lower_limb; Secondary_motor_area; Anteromedial_visual_area; Retrosplenial_area_lateral_agranular_part; Primary_visual_area; Anterior_cingulate_area_ventral_part; Posterior_parietal_association_areas; Primary_motor_area; Orbital_area_medial_part; Orbital_area_lateral_part; posteromedial_visual_area; Orbital_area_ventrolateral_part; Visceral_area; Frontal_pole_cerebral_cortex; Primary_somatosensory_area_trunk; Retrosplenial_area_dorsal_part; Retrosplenial_area_ventral_part; Anterolateral_visual_area; Agranular_insular_area_ventral_part; Supplemental_somatosensory_area; Lateral_visual_area; Gustatory_areas\n",
      "Thalamus \t 3 \t Lateral_posterior_nucleus_of_the_thalamus; Parafascicular_nucleus; Lateral_dorsal_nucleus_of_thalamus\n",
      "Midbrain \t 3 \t Anterior_pretectal_nucleus; Nucleus_of_the_optic_tract; Superior_colliculus_sensory_related\n"
     ]
    }
   ],
   "source": [
    "asc_avgZ_RR = Weighted_ZscoreAVGWithExpMatch(ExpZscoreMat, asc_gene2RR, asd_asc_match_df,\n",
    "                                              csv_fil = \"dat/bias/asc.avgZ.weighted.RR.bias.csv\")\n",
    "RegionDistributions(asc_avgZ_RR.set_index(\"STR\"))"
   ]
  },
  {
   "cell_type": "code",
   "execution_count": null,
   "metadata": {},
   "outputs": [],
   "source": [
    "xx = "
   ]
  },
  {
   "cell_type": "code",
   "execution_count": 36,
   "metadata": {},
   "outputs": [
    {
     "name": "stdout",
     "output_type": "stream",
     "text": [
      "Hippocampal_formation \t 2 \t Entorhinal_area_lateral_part; Subiculum_ventral_part\n",
      "Cortical_subplate \t 6 \t Basolateral_amygdalar_nucleus; Lateral_amygdalar_nucleus; Posterior_amygdalar_nucleus; Basomedial_amygdalar_nucleus; Endopiriform_nucleus_dorsal_part; Claustrum\n",
      "Olfactory_areas \t 4 \t Accessory_olfactory_bulb; Dorsal_peduncular_area; Piriform_area; Postpiriform_transition_area\n",
      "Hippocampal_region \t 2 \t Dentate_gyrus; Field_CA3\n",
      "Thalamus \t 1 \t Dorsal_part_of_the_lateral_geniculate_complex\n",
      "Isocortex \t 35 \t Perirhinal_area; Lateral_visual_area; Ventral_auditory_area; Primary_auditory_area; Anterolateral_visual_area; Temporal_association_areas; Dorsal_auditory_area; Agranular_insular_area_posterior_part; Primary_motor_area; Gustatory_areas; Primary_somatosensory_area_lower_limb; Agranular_insular_area_dorsal_part; Posterior_parietal_association_areas; Anterior_cingulate_area_dorsal_part; Visceral_area; Primary_somatosensory_area_upper_limb; Primary_somatosensory_area_barrel_field; Agranular_insular_area_ventral_part; Primary_somatosensory_area_mouth; Supplemental_somatosensory_area; Prelimbic_area; Orbital_area_lateral_part; Anteromedial_visual_area; Primary_somatosensory_area_trunk; Primary_somatosensory_area_nose; Secondary_motor_area; Orbital_area_ventrolateral_part; Infralimbic_area; Posterolateral_visual_area; Orbital_area_medial_part; Ectorhinal_area; Retrosplenial_area_lateral_agranular_part; Anterior_cingulate_area_ventral_part; Primary_visual_area; Retrosplenial_area_dorsal_part\n"
     ]
    }
   ],
   "source": [
    "asc_avgZ_Uniform = AvgSTRZ_Weighted(ExpMat, asc_gene2None, Match_DF=1,\n",
    "                                              csv_fil = \"dat/bias/asc.avgZ.weighted.Uniform.bias.csv\")\n",
    "RegionDistributions(asc_avgZ_Uniform.set_index(\"STR\"))"
   ]
  },
  {
   "cell_type": "code",
   "execution_count": 51,
   "metadata": {},
   "outputs": [
    {
     "name": "stdout",
     "output_type": "stream",
     "text": [
      "Olfactory_areas \t 4 \t Accessory_olfactory_bulb; Dorsal_peduncular_area; Piriform_area; Postpiriform_transition_area\n",
      "Isocortex \t 35 \t Lateral_visual_area; Agranular_insular_area_posterior_part; Anterolateral_visual_area; Perirhinal_area; Temporal_association_areas; Ventral_auditory_area; Primary_auditory_area; Dorsal_auditory_area; Visceral_area; Gustatory_areas; Primary_motor_area; Prelimbic_area; Primary_somatosensory_area_lower_limb; Agranular_insular_area_dorsal_part; Anterior_cingulate_area_dorsal_part; Posterior_parietal_association_areas; Agranular_insular_area_ventral_part; Supplemental_somatosensory_area; Anteromedial_visual_area; Orbital_area_lateral_part; Primary_somatosensory_area_upper_limb; Primary_somatosensory_area_barrel_field; Primary_somatosensory_area_mouth; Primary_somatosensory_area_trunk; Primary_somatosensory_area_nose; Secondary_motor_area; Orbital_area_ventrolateral_part; Orbital_area_medial_part; Infralimbic_area; Posterolateral_visual_area; Ectorhinal_area; Retrosplenial_area_lateral_agranular_part; Primary_visual_area; Anterior_cingulate_area_ventral_part; Retrosplenial_area_dorsal_part\n",
      "Hippocampal_formation \t 2 \t Entorhinal_area_lateral_part; Subiculum_ventral_part\n",
      "Hippocampal_region \t 2 \t Dentate_gyrus; Field_CA3\n",
      "Cortical_subplate \t 7 \t Lateral_amygdalar_nucleus; Basolateral_amygdalar_nucleus; Posterior_amygdalar_nucleus; Basomedial_amygdalar_nucleus; Endopiriform_nucleus_dorsal_part; Claustrum; Endopiriform_nucleus_ventral_part\n"
     ]
    }
   ],
   "source": [
    "asc_avgZ_Mutcount = AvgSTRZ_Weighted(ExpMat, asc_gene2MutN, Match_DF=1,\n",
    "                                              csv_fil = \"dat/bias/asc.avgZ.weighted.Mutcount.bias.csv\")\n",
    "RegionDistributions(asc_avgZ_Mutcount.set_index(\"STR\"))"
   ]
  },
  {
   "cell_type": "code",
   "execution_count": 94,
   "metadata": {},
   "outputs": [
    {
     "name": "stdout",
     "output_type": "stream",
     "text": [
      "Olfactory_areas \t 4 \t Accessory_olfactory_bulb; Dorsal_peduncular_area; Piriform_area; Postpiriform_transition_area\n",
      "Hippocampal_region \t 2 \t Dentate_gyrus; Field_CA3\n",
      "Hippocampal_formation \t 2 \t Entorhinal_area_lateral_part; Subiculum_ventral_part\n",
      "Cortical_subplate \t 7 \t Lateral_amygdalar_nucleus; Basolateral_amygdalar_nucleus; Posterior_amygdalar_nucleus; Basomedial_amygdalar_nucleus; Endopiriform_nucleus_dorsal_part; Claustrum; Endopiriform_nucleus_ventral_part\n",
      "Isocortex \t 35 \t Lateral_visual_area; Agranular_insular_area_posterior_part; Anterolateral_visual_area; Perirhinal_area; Temporal_association_areas; Ventral_auditory_area; Primary_auditory_area; Dorsal_auditory_area; Visceral_area; Gustatory_areas; Primary_motor_area; Prelimbic_area; Primary_somatosensory_area_lower_limb; Agranular_insular_area_dorsal_part; Anterior_cingulate_area_dorsal_part; Posterior_parietal_association_areas; Agranular_insular_area_ventral_part; Supplemental_somatosensory_area; Anteromedial_visual_area; Orbital_area_lateral_part; Primary_somatosensory_area_upper_limb; Primary_somatosensory_area_barrel_field; Primary_somatosensory_area_mouth; Primary_somatosensory_area_trunk; Primary_somatosensory_area_nose; Secondary_motor_area; Orbital_area_ventrolateral_part; Orbital_area_medial_part; Infralimbic_area; Posterolateral_visual_area; Ectorhinal_area; Retrosplenial_area_lateral_agranular_part; Primary_visual_area; Anterior_cingulate_area_ventral_part; Retrosplenial_area_dorsal_part\n"
     ]
    }
   ],
   "source": [
    "asc_avgZ_Mutcount = Weighted_ZscoreAVGWithExpMatch(ExpMat, asc_gene2MutN, asd_asc_match_df,\n",
    "                                              csv_fil = \"dat/bias/asc.avgZ.weighted.Mutcount.bias.csv\")\n",
    "RegionDistributions(asc_avgZ_Mutcount.set_index(\"STR\"))"
   ]
  },
  {
   "cell_type": "code",
   "execution_count": 95,
   "metadata": {},
   "outputs": [
    {
     "name": "stdout",
     "output_type": "stream",
     "text": [
      "Olfactory_areas \t 4 \t Accessory_olfactory_bulb; Dorsal_peduncular_area; Piriform_area; Postpiriform_transition_area\n",
      "Hippocampal_region \t 2 \t Dentate_gyrus; Field_CA3\n",
      "Hippocampal_formation \t 2 \t Entorhinal_area_lateral_part; Subiculum_ventral_part\n",
      "Cortical_subplate \t 7 \t Lateral_amygdalar_nucleus; Basolateral_amygdalar_nucleus; Posterior_amygdalar_nucleus; Basomedial_amygdalar_nucleus; Endopiriform_nucleus_dorsal_part; Claustrum; Endopiriform_nucleus_ventral_part\n",
      "Isocortex \t 35 \t Lateral_visual_area; Agranular_insular_area_posterior_part; Anterolateral_visual_area; Perirhinal_area; Temporal_association_areas; Ventral_auditory_area; Primary_auditory_area; Dorsal_auditory_area; Visceral_area; Gustatory_areas; Primary_motor_area; Prelimbic_area; Primary_somatosensory_area_lower_limb; Agranular_insular_area_dorsal_part; Anterior_cingulate_area_dorsal_part; Posterior_parietal_association_areas; Agranular_insular_area_ventral_part; Supplemental_somatosensory_area; Anteromedial_visual_area; Orbital_area_lateral_part; Primary_somatosensory_area_upper_limb; Primary_somatosensory_area_barrel_field; Primary_somatosensory_area_mouth; Primary_somatosensory_area_trunk; Primary_somatosensory_area_nose; Secondary_motor_area; Orbital_area_ventrolateral_part; Orbital_area_medial_part; Infralimbic_area; Posterolateral_visual_area; Ectorhinal_area; Retrosplenial_area_lateral_agranular_part; Primary_visual_area; Anterior_cingulate_area_ventral_part; Retrosplenial_area_dorsal_part\n"
     ]
    }
   ],
   "source": [
    "asc_avgZ_Mutcount2 = Weighted_ZscoreAVGWithExpMatch(ExpMat, asc_gene2MutN, asd_asc_match_df, BootstrapeWeights=True,\n",
    "                                              csv_fil = \"dat/bias/asc.avgZ.weighted.Mutcount.bias.csv\")\n",
    "RegionDistributions(asc_avgZ_Mutcount2.set_index(\"STR\"))"
   ]
  },
  {
   "cell_type": "code",
   "execution_count": 31,
   "metadata": {},
   "outputs": [
    {
     "name": "stdout",
     "output_type": "stream",
     "text": [
      "Olfactory_areas \t 7 \t Piriform_amygdalar_area; Anterior_olfactory_nucleus; Accessory_olfactory_bulb; Dorsal_peduncular_area; Taenia_tecta; Cortical_amygdalar_area_posterior_part; Piriform_area\n",
      "Hippocampal_region \t 4 \t Dentate_gyrus; Field_CA1; Field_CA2; Field_CA3\n",
      "Hippocampal_formation \t 4 \t Subiculum_dorsal_part; Parasubiculum; Postsubiculum; Presubiculum\n",
      "Striatum \t 2 \t Nucleus_accumbens; Olfactory_tubercle\n",
      "Cortical_subplate \t 2 \t Claustrum; Endopiriform_nucleus_dorsal_part\n",
      "Isocortex \t 23 \t Retrosplenial_area_lateral_agranular_part; Retrosplenial_area_dorsal_part; Prelimbic_area; Infralimbic_area; Posterior_parietal_association_areas; Primary_somatosensory_area_lower_limb; Orbital_area_lateral_part; Anteromedial_visual_area; Orbital_area_ventrolateral_part; Primary_somatosensory_area_trunk; Primary_visual_area; Anterior_cingulate_area_dorsal_part; Anterior_cingulate_area_ventral_part; posteromedial_visual_area; Posterolateral_visual_area; Orbital_area_medial_part; Primary_motor_area; Lateral_visual_area; Secondary_motor_area; Primary_somatosensory_area_upper_limb; Retrosplenial_area_ventral_part; Anterolateral_visual_area; Primary_somatosensory_area_barrel_field\n",
      "Thalamus \t 6 \t Lateral_posterior_nucleus_of_the_thalamus; Lateral_dorsal_nucleus_of_thalamus; Rhomboid_nucleus; Medial_geniculate_complex_medial_part; Mediodorsal_nucleus_of_thalamus; Posterior_complex_of_the_thalamus\n",
      "Midbrain \t 2 \t Anterior_pretectal_nucleus; Nucleus_of_the_optic_tract\n"
     ]
    }
   ],
   "source": [
    "asc_explevel_LofZ = ExpressionLevelWeightedBias(ExpMat, asc_gene2LofZ, asd_asc_match_df,\n",
    "                                              csv_fil = \"dat/bias/asc.explevel.weighted.LofZ.bias.csv\")\n",
    "RegionDistributions(asc_explevel_LofZ.set_index(\"STR\"))"
   ]
  },
  {
   "cell_type": "code",
   "execution_count": null,
   "metadata": {},
   "outputs": [],
   "source": []
  },
  {
   "cell_type": "code",
   "execution_count": 46,
   "metadata": {},
   "outputs": [
    {
     "data": {
      "text/plain": [
       "<matplotlib.axes._subplots.AxesSubplot at 0x132214780>"
      ]
     },
     "execution_count": 46,
     "metadata": {},
     "output_type": "execute_result"
    },
    {
     "data": {
      "image/png": "[encoded data removed]",
      "text/plain": [
       "<Figure size 640x640 with 1 Axes>"
      ]
     },
     "metadata": {},
     "output_type": "display_data"
    }
   ],
   "source": [
    "#asc_zmatch_bias = pd.read_csv(\"dat/bias/asd.asc.zmatch.rank.csv\", index_col=\"STR\")\n",
    "#asc_elevel_bias = pd.read_csv(\"dat/bias/asc.explevel.rank.tsv\", index_col=\"STR\")\n",
    "#spark_zmatch_bias = pd.read_csv(\"dat/bias/asd.sparktada.zmatch.rank.csv\", index_col=\"STR\")\n",
    "#spark_elevel_bias = pd.read_csv(\"dat/bias/sparktada.explevel.rank.tsv\", index_col=\"STR\")\n",
    "asc_uniform_top50 = set(asc_explevel_Unifrom.head(50).index.values)\n",
    "asc_RR_top50 = set(asc_explevel_RR.head(50).index.values)\n",
    "asc_MutCount_top50 = set(asc_explevel_Mutcount.head(50).index.values)\n",
    "asc_LofZ_top50 = set(asc_explevel_LofZ.head(50).index.values)\n",
    "dat_dict = {\"asc_uniform_top50\": asc_uniform_top50, \"asc_RR_top50\":asc_RR_top50, \n",
    "            \"asc_MutCount_top50\": asc_MutCount_top50, \"asc_LofZ_top50\":asc_LofZ_top50}\n",
    "venn(dat_dict)"
   ]
  },
  {
   "cell_type": "markdown",
   "metadata": {},
   "source": [
    "## SPARK TADA"
   ]
  },
  {
   "cell_type": "code",
   "execution_count": 57,
   "metadata": {},
   "outputs": [
    {
     "name": "stdout",
     "output_type": "stream",
     "text": [
      "['GeneID' 'HGNC' 'ExACpLI' 'gnomADpLI' 'LoFOvsE' 'sHet' 'SFARICategory'\n",
      " 'SFARIScore' 'DDDCategory' 'DDDAllelic' 'DDDMutCons' 'DDDOrgan' 'dnLGD'\n",
      " 'mutLGD' 'log10BF_dnLGD' 'dnDmis' 'mutDmis' 'log10BF_dnDmis'\n",
      " 'log10BF_All' 'PP_All' 'Qvalue' 'LGD_RR' 'Dmis_RR' 'Entrez']\n"
     ]
    }
   ],
   "source": [
    "spark_tada = pd.read_csv(\"../dat/genes/asd/spark_tada_RR.csv\")\n",
    "print(spark_tada.columns.values)"
   ]
  },
  {
   "cell_type": "code",
   "execution_count": 58,
   "metadata": {},
   "outputs": [
    {
     "name": "stdout",
     "output_type": "stream",
     "text": [
      "Number of genes: 109\n",
      "27086\n",
      "23126\n"
     ]
    }
   ],
   "source": [
    "spark_gene2None, spark_gene2MutN, spark_gene2LofZ, spark_gene2RR, spark_gene2MutNLofZ = SPARK_Gene_Weights(\n",
    "    \"../dat/genes/asd/spark_tada_RR.csv\", gnomad_cons, FDR=0.2)\n",
    "asd_sparktada_match_df = pd.read_csv(\"dat/matching/asd_sparktada_exp_matches_1000.csv\", index_col=\"GENE\")\n",
    "print(\"Number of genes: %d\"%len(spark_gene2RR))\n",
    "spark_gene2MutNGL = SPARK_MutCountByLength(\"../dat/genes/asd/spark_tada_RR.csv\", \n",
    "                                           \"/Users/jiayao/Work/ASD_Circuits/src/dat/match-features.csv\", FDR=0.2)"
   ]
  },
  {
   "cell_type": "code",
   "execution_count": 63,
   "metadata": {},
   "outputs": [
    {
     "name": "stdout",
     "output_type": "stream",
     "text": [
      "Hippocampal_formation \t 4 \t Subiculum_ventral_part; Subiculum_dorsal_part; Presubiculum; Parasubiculum\n",
      "Cortical_subplate \t 7 \t Lateral_amygdalar_nucleus; Basomedial_amygdalar_nucleus; Basolateral_amygdalar_nucleus; Endopiriform_nucleus_dorsal_part; Endopiriform_nucleus_ventral_part; Claustrum; Posterior_amygdalar_nucleus\n",
      "Olfactory_areas \t 4 \t Dorsal_peduncular_area; Taenia_tecta; Anterior_olfactory_nucleus; Piriform_area\n",
      "Hippocampal_region \t 4 \t Field_CA1; Dentate_gyrus; Field_CA2; Field_CA3\n",
      "Thalamus \t 1 \t Lateral_posterior_nucleus_of_the_thalamus\n",
      "Isocortex \t 25 \t Prelimbic_area; Primary_visual_area; Secondary_motor_area; Anterior_cingulate_area_dorsal_part; Infralimbic_area; Orbital_area_ventrolateral_part; Frontal_pole_cerebral_cortex; Orbital_area_lateral_part; Primary_motor_area; Anteromedial_visual_area; Orbital_area_medial_part; Primary_somatosensory_area_lower_limb; Anterior_cingulate_area_ventral_part; Primary_somatosensory_area_barrel_field; Posterior_parietal_association_areas; Primary_somatosensory_area_trunk; Lateral_visual_area; Posterolateral_visual_area; Agranular_insular_area_ventral_part; Anterolateral_visual_area; posteromedial_visual_area; Primary_somatosensory_area_upper_limb; Retrosplenial_area_lateral_agranular_part; Gustatory_areas; Dorsal_auditory_area\n",
      "Striatum \t 5 \t Caudoputamen; Nucleus_accumbens; Intercalated_amygdalar_nucleus; Central_amygdalar_nucleus; Lateral_septal_nucleus_caudal_caudodorsal_part\n"
     ]
    }
   ],
   "source": [
    "spark_avgZ_MutN = AvgSTRZ_Weighted(ExpZscoreMat, spark_gene2MutN,\n",
    "                                              csv_fil = \"dat/bias/sparktada.avgZ.weighted.Mutcount.bias.csv\")\n",
    "RegionDistributions(spark_avgZ_MutN.set_index(\"STR\"))"
   ]
  },
  {
   "cell_type": "code",
   "execution_count": 64,
   "metadata": {},
   "outputs": [
    {
     "name": "stdout",
     "output_type": "stream",
     "text": [
      "Hippocampal_formation \t 4 \t Subiculum_ventral_part; Subiculum_dorsal_part; Presubiculum; Parasubiculum\n",
      "Cortical_subplate \t 6 \t Basomedial_amygdalar_nucleus; Basolateral_amygdalar_nucleus; Endopiriform_nucleus_ventral_part; Claustrum; Endopiriform_nucleus_dorsal_part; Posterior_amygdalar_nucleus\n",
      "Olfactory_areas \t 4 \t Dorsal_peduncular_area; Anterior_olfactory_nucleus; Taenia_tecta; Accessory_olfactory_bulb\n",
      "Hippocampal_region \t 4 \t Dentate_gyrus; Field_CA1; Field_CA2; Field_CA3\n",
      "Isocortex \t 25 \t Prelimbic_area; Orbital_area_ventrolateral_part; Infralimbic_area; Primary_visual_area; Orbital_area_lateral_part; Anterior_cingulate_area_dorsal_part; Orbital_area_medial_part; Secondary_motor_area; Frontal_pole_cerebral_cortex; Anteromedial_visual_area; Posterolateral_visual_area; Anterior_cingulate_area_ventral_part; Retrosplenial_area_lateral_agranular_part; Primary_motor_area; posteromedial_visual_area; Primary_somatosensory_area_lower_limb; Agranular_insular_area_ventral_part; Anterolateral_visual_area; Posterior_parietal_association_areas; Gustatory_areas; Primary_somatosensory_area_trunk; Temporal_association_areas; Primary_somatosensory_area_barrel_field; Agranular_insular_area_dorsal_part; Ectorhinal_area\n",
      "Striatum \t 6 \t Nucleus_accumbens; Intercalated_amygdalar_nucleus; Caudoputamen; Central_amygdalar_nucleus; Lateral_septal_nucleus_caudal_caudodorsal_part; Lateral_septal_nucleus_rostral_rostroventral_part\n",
      "Pallidum \t 1 \t Bed_nuclei_of_the_stria_terminalis\n"
     ]
    }
   ],
   "source": [
    "spark_avgZ_norm_MutN = AvgSTRZ_Weighted(ExpZscoreMatNorm, spark_gene2MutN,\n",
    "                                              csv_fil = \"dat/bias/sparktada.norm.avgZ.weighted.Mutcount.bias.csv\")\n",
    "RegionDistributions(spark_avgZ_norm_MutN.set_index(\"STR\"))"
   ]
  },
  {
   "cell_type": "code",
   "execution_count": 59,
   "metadata": {},
   "outputs": [
    {
     "name": "stdout",
     "output_type": "stream",
     "text": [
      "Hippocampal_formation \t 5 \t Presubiculum; Subiculum_dorsal_part; Subiculum_ventral_part; Parasubiculum; Entorhinal_area_lateral_part\n",
      "Cortical_subplate \t 6 \t Lateral_amygdalar_nucleus; Claustrum; Basomedial_amygdalar_nucleus; Endopiriform_nucleus_dorsal_part; Basolateral_amygdalar_nucleus; Endopiriform_nucleus_ventral_part\n",
      "Olfactory_areas \t 5 \t Dorsal_peduncular_area; Anterior_olfactory_nucleus; Taenia_tecta; Accessory_olfactory_bulb; Main_olfactory_bulb\n",
      "Hippocampal_region \t 4 \t Dentate_gyrus; Field_CA1; Field_CA2; Field_CA3\n",
      "Isocortex \t 25 \t Prelimbic_area; Orbital_area_ventrolateral_part; Primary_visual_area; Orbital_area_medial_part; Infralimbic_area; Orbital_area_lateral_part; Anterior_cingulate_area_dorsal_part; Frontal_pole_cerebral_cortex; Secondary_motor_area; Posterolateral_visual_area; Anteromedial_visual_area; Lateral_visual_area; posteromedial_visual_area; Retrosplenial_area_lateral_agranular_part; Anterior_cingulate_area_ventral_part; Anterolateral_visual_area; Temporal_association_areas; Primary_motor_area; Primary_somatosensory_area_lower_limb; Ectorhinal_area; Posterior_parietal_association_areas; Primary_somatosensory_area_trunk; Primary_somatosensory_area_barrel_field; Dorsal_auditory_area; Primary_somatosensory_area_upper_limb\n",
      "Striatum \t 5 \t Nucleus_accumbens; Caudoputamen; Intercalated_amygdalar_nucleus; Fundus_of_striatum; Lateral_septal_nucleus_caudal_caudodorsal_part\n"
     ]
    }
   ],
   "source": [
    "spark_explevel_MutN = ExpAVGWithExpMatch(ExpMat, spark_gene2MutN, asd_sparktada_match_df,\n",
    "                                              csv_fil = \"dat/bias/sparktada.explevel.weighted.Mutcount.bias.csv\")\n",
    "RegionDistributions(spark_explevel_MutN.set_index(\"STR\"))"
   ]
  },
  {
   "cell_type": "code",
   "execution_count": 61,
   "metadata": {},
   "outputs": [
    {
     "name": "stdout",
     "output_type": "stream",
     "text": [
      "Hippocampal_formation \t 5 \t Presubiculum; Subiculum_ventral_part; Parasubiculum; Subiculum_dorsal_part; Entorhinal_area_lateral_part\n",
      "Cortical_subplate \t 6 \t Basomedial_amygdalar_nucleus; Claustrum; Lateral_amygdalar_nucleus; Basolateral_amygdalar_nucleus; Endopiriform_nucleus_ventral_part; Endopiriform_nucleus_dorsal_part\n",
      "Olfactory_areas \t 4 \t Dorsal_peduncular_area; Taenia_tecta; Anterior_olfactory_nucleus; Accessory_olfactory_bulb\n",
      "Hippocampal_region \t 4 \t Field_CA1; Dentate_gyrus; Field_CA2; Field_CA3\n",
      "Isocortex \t 26 \t Prelimbic_area; Orbital_area_ventrolateral_part; Primary_visual_area; Infralimbic_area; Orbital_area_lateral_part; Anterior_cingulate_area_dorsal_part; Orbital_area_medial_part; Posterolateral_visual_area; Frontal_pole_cerebral_cortex; Secondary_motor_area; posteromedial_visual_area; Anterior_cingulate_area_ventral_part; Anteromedial_visual_area; Retrosplenial_area_lateral_agranular_part; Temporal_association_areas; Lateral_visual_area; Anterolateral_visual_area; Ectorhinal_area; Primary_motor_area; Agranular_insular_area_ventral_part; Primary_somatosensory_area_lower_limb; Posterior_parietal_association_areas; Agranular_insular_area_dorsal_part; Primary_somatosensory_area_trunk; Gustatory_areas; Supplemental_somatosensory_area\n",
      "Striatum \t 5 \t Nucleus_accumbens; Caudoputamen; Intercalated_amygdalar_nucleus; Central_amygdalar_nucleus; Lateral_septal_nucleus_caudal_caudodorsal_part\n"
     ]
    }
   ],
   "source": [
    "spark_explevel_norm_MutN = ExpAVGWithExpMatch(ExpMatNorm, spark_gene2MutN, asd_sparktada_match_df,\n",
    "                                              csv_fil = \"dat/bias/sparktada.nrom.explevel.weighted.Mutcount.bias.csv\")\n",
    "RegionDistributions(spark_explevel_norm_MutN.set_index(\"STR\"))"
   ]
  },
  {
   "cell_type": "code",
   "execution_count": null,
   "metadata": {},
   "outputs": [],
   "source": []
  },
  {
   "cell_type": "code",
   "execution_count": 33,
   "metadata": {},
   "outputs": [
    {
     "name": "stdout",
     "output_type": "stream",
     "text": [
      "Hippocampal_formation \t 4 \t Subiculum_ventral_part; Parasubiculum; Subiculum_dorsal_part; Presubiculum\n",
      "Cortical_subplate \t 5 \t Lateral_amygdalar_nucleus; Claustrum; Endopiriform_nucleus_dorsal_part; Basomedial_amygdalar_nucleus; Basolateral_amygdalar_nucleus\n",
      "Olfactory_areas \t 5 \t Anterior_olfactory_nucleus; Dorsal_peduncular_area; Accessory_olfactory_bulb; Piriform_area; Taenia_tecta\n",
      "Hippocampal_region \t 4 \t Dentate_gyrus; Field_CA1; Field_CA2; Field_CA3\n",
      "Isocortex \t 29 \t Orbital_area_ventrolateral_part; Prelimbic_area; Infralimbic_area; Primary_visual_area; Orbital_area_lateral_part; Orbital_area_medial_part; Lateral_visual_area; Retrosplenial_area_lateral_agranular_part; Secondary_motor_area; Anterior_cingulate_area_dorsal_part; Anteromedial_visual_area; Posterolateral_visual_area; Primary_motor_area; Posterior_parietal_association_areas; Primary_somatosensory_area_trunk; Anterolateral_visual_area; Primary_somatosensory_area_barrel_field; Primary_somatosensory_area_lower_limb; posteromedial_visual_area; Frontal_pole_cerebral_cortex; Gustatory_areas; Primary_somatosensory_area_upper_limb; Dorsal_auditory_area; Agranular_insular_area_ventral_part; Supplemental_somatosensory_area; Visceral_area; Retrosplenial_area_dorsal_part; Primary_somatosensory_area_mouth; Anterior_cingulate_area_ventral_part\n",
      "Striatum \t 3 \t Nucleus_accumbens; Intercalated_amygdalar_nucleus; Caudoputamen\n"
     ]
    }
   ],
   "source": [
    "spark_explevel_MutNGL = ExpAVGWithExpMatch(ExpMat, spark_gene2MutNGL, asd_sparktada_match_df,\n",
    "                                              csv_fil = \"dat/bias/sparktada.explevel.weighted.MutNGL.bias.csv\")\n",
    "RegionDistributions(spark_explevel_MutNGL.set_index(\"STR\"))"
   ]
  },
  {
   "cell_type": "code",
   "execution_count": 37,
   "metadata": {},
   "outputs": [
    {
     "name": "stdout",
     "output_type": "stream",
     "text": [
      "Hippocampal_formation \t 4 \t Subiculum_ventral_part; Subiculum_dorsal_part; Parasubiculum; Presubiculum\n",
      "Cortical_subplate \t 6 \t Basomedial_amygdalar_nucleus; Lateral_amygdalar_nucleus; Claustrum; Endopiriform_nucleus_dorsal_part; Endopiriform_nucleus_ventral_part; Basolateral_amygdalar_nucleus\n",
      "Olfactory_areas \t 4 \t Piriform_area; Dorsal_peduncular_area; Anterior_olfactory_nucleus; Accessory_olfactory_bulb\n",
      "Hippocampal_region \t 4 \t Dentate_gyrus; Field_CA1; Field_CA3; Field_CA2\n",
      "Thalamus \t 3 \t Parafascicular_nucleus; Lateral_posterior_nucleus_of_the_thalamus; Central_lateral_nucleus_of_the_thalamus\n",
      "Isocortex \t 23 \t Primary_visual_area; Prelimbic_area; Primary_motor_area; Secondary_motor_area; Primary_somatosensory_area_trunk; Infralimbic_area; Gustatory_areas; Posterior_parietal_association_areas; Agranular_insular_area_ventral_part; Orbital_area_ventrolateral_part; Primary_somatosensory_area_barrel_field; Orbital_area_lateral_part; Anterior_cingulate_area_dorsal_part; Primary_somatosensory_area_lower_limb; Primary_somatosensory_area_upper_limb; Retrosplenial_area_lateral_agranular_part; Primary_somatosensory_area_mouth; Anteromedial_visual_area; Lateral_visual_area; Dorsal_auditory_area; posteromedial_visual_area; Agranular_insular_area_dorsal_part; Anterolateral_visual_area\n",
      "Midbrain \t 2 \t Anterior_pretectal_nucleus; Nucleus_of_the_posterior_commissure\n",
      "Striatum \t 4 \t Caudoputamen; Nucleus_accumbens; Intercalated_amygdalar_nucleus; Central_amygdalar_nucleus\n"
     ]
    }
   ],
   "source": [
    "spark_specificity_MutNGL = AvgSTRZ_Weighted(ExpZscoreMat, spark_gene2MutNGL, \n",
    "                                                         csv_fil=\"dat/bias/spark.avgZ.weighted.MutNGL.bias.csv\")\n",
    "RegionDistributions(spark_specificity_MutNGL.set_index(\"STR\"))"
   ]
  },
  {
   "cell_type": "code",
   "execution_count": null,
   "metadata": {},
   "outputs": [],
   "source": []
  },
  {
   "cell_type": "code",
   "execution_count": null,
   "metadata": {},
   "outputs": [],
   "source": []
  },
  {
   "cell_type": "code",
   "execution_count": 60,
   "metadata": {},
   "outputs": [],
   "source": [
    "spark_specificity_MutNTol = AvgSTRZ_Weighted(ExpZscoreMat, spark_gene2MutNLofZ, \n",
    "                                                         csv_fil=\"dat/bias/spark.avgZ.weighted.MutNLofZ.bias.csv\")"
   ]
  },
  {
   "cell_type": "code",
   "execution_count": 61,
   "metadata": {},
   "outputs": [
    {
     "name": "stdout",
     "output_type": "stream",
     "text": [
      "Striatum \t 4 \t Caudoputamen; Intercalated_amygdalar_nucleus; Nucleus_accumbens; Central_amygdalar_nucleus\n",
      "Thalamus \t 4 \t Lateral_posterior_nucleus_of_the_thalamus; Central_lateral_nucleus_of_the_thalamus; Parafascicular_nucleus; Lateral_dorsal_nucleus_of_thalamus\n",
      "Olfactory_areas \t 2 \t Piriform_area; Dorsal_peduncular_area\n",
      "Isocortex \t 23 \t Primary_motor_area; Gustatory_areas; Agranular_insular_area_ventral_part; Posterior_parietal_association_areas; Primary_visual_area; Prelimbic_area; Primary_somatosensory_area_trunk; Secondary_motor_area; Primary_somatosensory_area_barrel_field; Orbital_area_lateral_part; Infralimbic_area; Primary_somatosensory_area_lower_limb; Orbital_area_ventrolateral_part; Primary_somatosensory_area_upper_limb; Primary_somatosensory_area_mouth; Retrosplenial_area_lateral_agranular_part; Lateral_visual_area; Dorsal_auditory_area; Primary_somatosensory_area_nose; Supplemental_somatosensory_area; Anterior_cingulate_area_dorsal_part; Agranular_insular_area_dorsal_part; Anteromedial_visual_area\n",
      "Hippocampal_formation \t 4 \t Subiculum_ventral_part; Subiculum_dorsal_part; Parasubiculum; Presubiculum\n",
      "Hippocampal_region \t 4 \t Field_CA1; Dentate_gyrus; Field_CA3; Field_CA2\n",
      "Midbrain \t 2 \t Anterior_pretectal_nucleus; Nucleus_of_the_posterior_commissure\n",
      "Cortical_subplate \t 7 \t Basomedial_amygdalar_nucleus; Lateral_amygdalar_nucleus; Claustrum; Endopiriform_nucleus_dorsal_part; Endopiriform_nucleus_ventral_part; Basolateral_amygdalar_nucleus; Posterior_amygdalar_nucleus\n"
     ]
    }
   ],
   "source": [
    "RegionDistributions(spark_specificity_MutNTol.set_index(\"STR\"))"
   ]
  },
  {
   "cell_type": "code",
   "execution_count": 62,
   "metadata": {},
   "outputs": [
    {
     "name": "stdout",
     "output_type": "stream",
     "text": [
      "Striatum \t 1 \t Intercalated_amygdalar_nucleus\n",
      "Thalamus \t 1 \t Lateral_posterior_nucleus_of_the_thalamus\n",
      "Olfactory_areas \t 5 \t Accessory_olfactory_bulb; Anterior_olfactory_nucleus; Dorsal_peduncular_area; Main_olfactory_bulb; Piriform_area\n",
      "Isocortex \t 32 \t Orbital_area_ventrolateral_part; Primary_visual_area; Infralimbic_area; Primary_somatosensory_area_upper_limb; Orbital_area_lateral_part; Primary_somatosensory_area_trunk; Dorsal_auditory_area; Secondary_motor_area; Primary_somatosensory_area_barrel_field; Prelimbic_area; Primary_somatosensory_area_mouth; Posterior_parietal_association_areas; Posterolateral_visual_area; Retrosplenial_area_lateral_agranular_part; Orbital_area_medial_part; Primary_motor_area; Anterior_cingulate_area_dorsal_part; Retrosplenial_area_dorsal_part; posteromedial_visual_area; Primary_somatosensory_area_lower_limb; Lateral_visual_area; Primary_somatosensory_area_nose; Anterior_cingulate_area_ventral_part; Agranular_insular_area_dorsal_part; Agranular_insular_area_ventral_part; Anteromedial_visual_area; Gustatory_areas; Supplemental_somatosensory_area; Ventral_auditory_area; Anterolateral_visual_area; Frontal_pole_cerebral_cortex; Primary_auditory_area\n",
      "Hippocampal_formation \t 4 \t Presubiculum; Parasubiculum; Subiculum_dorsal_part; Subiculum_ventral_part\n",
      "Hippocampal_region \t 4 \t Dentate_gyrus; Field_CA1; Field_CA2; Field_CA3\n",
      "Cortical_subplate \t 3 \t Claustrum; Basomedial_amygdalar_nucleus; Endopiriform_nucleus_dorsal_part\n"
     ]
    }
   ],
   "source": [
    "spark_explevel_RR = ExpAVGWithExpMatch(ExpMat, spark_gene2RR, asd_sparktada_match_df,\n",
    "                                              csv_fil = \"dat/bias/sparktada.explevel.weighted.RR.bias.csv\")\n",
    "RegionDistributions(spark_explevel_RR.set_index(\"STR\"))"
   ]
  },
  {
   "cell_type": "code",
   "execution_count": 63,
   "metadata": {},
   "outputs": [
    {
     "name": "stdout",
     "output_type": "stream",
     "text": [
      "Striatum \t 1 \t Caudoputamen\n",
      "Olfactory_areas \t 5 \t Anterior_olfactory_nucleus; Dorsal_peduncular_area; Accessory_olfactory_bulb; Taenia_tecta; Main_olfactory_bulb\n",
      "Isocortex \t 34 \t Orbital_area_ventrolateral_part; Primary_visual_area; Infralimbic_area; Prelimbic_area; Secondary_motor_area; Orbital_area_medial_part; Orbital_area_lateral_part; Primary_somatosensory_area_upper_limb; Anterior_cingulate_area_dorsal_part; Primary_somatosensory_area_trunk; Posterolateral_visual_area; Anterior_cingulate_area_ventral_part; Posterior_parietal_association_areas; posteromedial_visual_area; Primary_somatosensory_area_barrel_field; Dorsal_auditory_area; Primary_motor_area; Retrosplenial_area_lateral_agranular_part; Primary_somatosensory_area_mouth; Primary_somatosensory_area_lower_limb; Retrosplenial_area_dorsal_part; Lateral_visual_area; Anteromedial_visual_area; Agranular_insular_area_dorsal_part; Frontal_pole_cerebral_cortex; Ventral_auditory_area; Anterolateral_visual_area; Primary_auditory_area; Agranular_insular_area_ventral_part; Primary_somatosensory_area_nose; Temporal_association_areas; Gustatory_areas; Supplemental_somatosensory_area; Ectorhinal_area\n",
      "Hippocampal_formation \t 4 \t Presubiculum; Parasubiculum; Subiculum_dorsal_part; Postsubiculum\n",
      "Hippocampal_region \t 4 \t Dentate_gyrus; Field_CA1; Field_CA2; Field_CA3\n",
      "Cortical_subplate \t 2 \t Lateral_amygdalar_nucleus; Claustrum\n"
     ]
    }
   ],
   "source": [
    "spark_explevel_None = ExpAVGWithExpMatch(ExpMat, spark_gene2None, asd_sparktada_match_df,\n",
    "                                              csv_fil = \"dat/bias/sparktada.explevel.weighted.Uniform.bias.csv\")\n",
    "RegionDistributions(spark_explevel_None.set_index(\"STR\"))"
   ]
  },
  {
   "cell_type": "code",
   "execution_count": 64,
   "metadata": {},
   "outputs": [
    {
     "name": "stdout",
     "output_type": "stream",
     "text": [
      "Striatum \t 5 \t Nucleus_accumbens; Caudoputamen; Intercalated_amygdalar_nucleus; Fundus_of_striatum; Lateral_septal_nucleus_caudal_caudodorsal_part\n",
      "Olfactory_areas \t 5 \t Dorsal_peduncular_area; Anterior_olfactory_nucleus; Taenia_tecta; Accessory_olfactory_bulb; Main_olfactory_bulb\n",
      "Isocortex \t 25 \t Prelimbic_area; Orbital_area_ventrolateral_part; Primary_visual_area; Orbital_area_medial_part; Infralimbic_area; Orbital_area_lateral_part; Anterior_cingulate_area_dorsal_part; Frontal_pole_cerebral_cortex; Secondary_motor_area; Posterolateral_visual_area; Anteromedial_visual_area; Lateral_visual_area; posteromedial_visual_area; Retrosplenial_area_lateral_agranular_part; Anterior_cingulate_area_ventral_part; Anterolateral_visual_area; Temporal_association_areas; Primary_motor_area; Primary_somatosensory_area_lower_limb; Ectorhinal_area; Posterior_parietal_association_areas; Primary_somatosensory_area_trunk; Primary_somatosensory_area_barrel_field; Dorsal_auditory_area; Primary_somatosensory_area_upper_limb\n",
      "Hippocampal_formation \t 5 \t Presubiculum; Subiculum_dorsal_part; Subiculum_ventral_part; Parasubiculum; Entorhinal_area_lateral_part\n",
      "Hippocampal_region \t 4 \t Dentate_gyrus; Field_CA1; Field_CA2; Field_CA3\n",
      "Cortical_subplate \t 6 \t Lateral_amygdalar_nucleus; Claustrum; Basomedial_amygdalar_nucleus; Endopiriform_nucleus_dorsal_part; Basolateral_amygdalar_nucleus; Endopiriform_nucleus_ventral_part\n"
     ]
    }
   ],
   "source": [
    "spark_explevel_MutN = ExpAVGWithExpMatch(ExpMat, spark_gene2MutN, asd_sparktada_match_df,\n",
    "                                              csv_fil = \"dat/bias/sparktada.explevel.weighted.Mutcount.bias.csv\")\n",
    "RegionDistributions(spark_explevel_MutN.set_index(\"STR\"))"
   ]
  },
  {
   "cell_type": "code",
   "execution_count": 68,
   "metadata": {},
   "outputs": [
    {
     "name": "stdout",
     "output_type": "stream",
     "text": [
      "Olfactory_areas \t 5 \t Accessory_olfactory_bulb; Dorsal_peduncular_area; Postpiriform_transition_area; Piriform_area; Taenia_tecta\n",
      "Isocortex \t 34 \t Lateral_visual_area; Temporal_association_areas; Anterolateral_visual_area; Ventral_auditory_area; Agranular_insular_area_posterior_part; Anterior_cingulate_area_dorsal_part; Gustatory_areas; Agranular_insular_area_dorsal_part; Dorsal_auditory_area; Primary_motor_area; Prelimbic_area; Primary_auditory_area; Perirhinal_area; Visceral_area; Agranular_insular_area_ventral_part; Primary_somatosensory_area_lower_limb; Supplemental_somatosensory_area; Primary_somatosensory_area_barrel_field; Primary_somatosensory_area_mouth; Primary_somatosensory_area_upper_limb; Posterior_parietal_association_areas; Secondary_motor_area; Orbital_area_lateral_part; Posterolateral_visual_area; Orbital_area_medial_part; Orbital_area_ventrolateral_part; Anteromedial_visual_area; Primary_somatosensory_area_nose; Primary_somatosensory_area_trunk; Ectorhinal_area; Infralimbic_area; Primary_visual_area; Anterior_cingulate_area_ventral_part; Retrosplenial_area_lateral_agranular_part\n",
      "Hippocampal_formation \t 2 \t Entorhinal_area_lateral_part; Subiculum_ventral_part\n",
      "Hippocampal_region \t 2 \t Dentate_gyrus; Field_CA3\n",
      "Cortical_subplate \t 7 \t Basolateral_amygdalar_nucleus; Lateral_amygdalar_nucleus; Posterior_amygdalar_nucleus; Basomedial_amygdalar_nucleus; Endopiriform_nucleus_dorsal_part; Endopiriform_nucleus_ventral_part; Claustrum\n"
     ]
    }
   ],
   "source": [
    "spark_avgZ_MutN = AvgSTRZ_Weighted(ExpMat, spark_gene2MutN, asd_sparktada_match_df,\n",
    "                                              csv_fil = \"dat/bias/sparktada.avgZ.weighted.Mutcount.bias.csv\")\n",
    "RegionDistributions(spark_avgZ_MutN.set_index(\"STR\"))"
   ]
  },
  {
   "cell_type": "code",
   "execution_count": 43,
   "metadata": {},
   "outputs": [
    {
     "name": "stdout",
     "output_type": "stream",
     "text": [
      "Olfactory_areas \t 5 \t Accessory_olfactory_bulb; Anterior_olfactory_nucleus; Dorsal_peduncular_area; Main_olfactory_bulb; Taenia_tecta\n",
      "Hippocampal_region \t 4 \t Dentate_gyrus; Field_CA1; Field_CA2; Field_CA3\n",
      "Hippocampal_formation \t 4 \t Presubiculum; Parasubiculum; Subiculum_dorsal_part; Subiculum_ventral_part\n",
      "Striatum \t 2 \t Caudoputamen; Intercalated_amygdalar_nucleus\n",
      "Cortical_subplate \t 2 \t Claustrum; Basomedial_amygdalar_nucleus\n",
      "Isocortex \t 32 \t Orbital_area_ventrolateral_part; Primary_visual_area; Infralimbic_area; Orbital_area_lateral_part; Primary_somatosensory_area_upper_limb; Primary_somatosensory_area_trunk; Secondary_motor_area; Prelimbic_area; Dorsal_auditory_area; Orbital_area_medial_part; Primary_somatosensory_area_barrel_field; Posterior_parietal_association_areas; Primary_somatosensory_area_mouth; Posterolateral_visual_area; Primary_motor_area; Retrosplenial_area_lateral_agranular_part; Anterior_cingulate_area_dorsal_part; posteromedial_visual_area; Primary_somatosensory_area_lower_limb; Retrosplenial_area_dorsal_part; Anterior_cingulate_area_ventral_part; Lateral_visual_area; Agranular_insular_area_dorsal_part; Primary_somatosensory_area_nose; Anteromedial_visual_area; Agranular_insular_area_ventral_part; Gustatory_areas; Ventral_auditory_area; Frontal_pole_cerebral_cortex; Supplemental_somatosensory_area; Anterolateral_visual_area; Primary_auditory_area\n",
      "Thalamus \t 1 \t Lateral_posterior_nucleus_of_the_thalamus\n"
     ]
    }
   ],
   "source": [
    "spark_explevel_LofZ = ExpressionLevelWeightedBias(ExpMat, spark_gene2LofZ, asd_sparktada_match_df,\n",
    "                                              csv_fil = \"dat/bias/sparktada.explevel.weighted.LofZ.bias.csv\")\n",
    "RegionDistributions(spark_explevel_LofZ.set_index(\"STR\"))"
   ]
  },
  {
   "cell_type": "code",
   "execution_count": null,
   "metadata": {},
   "outputs": [],
   "source": []
  },
  {
   "cell_type": "code",
   "execution_count": null,
   "metadata": {},
   "outputs": [],
   "source": []
  },
  {
   "cell_type": "code",
   "execution_count": null,
   "metadata": {},
   "outputs": [],
   "source": []
  },
  {
   "cell_type": "code",
   "execution_count": null,
   "metadata": {},
   "outputs": [],
   "source": []
  },
  {
   "cell_type": "code",
   "execution_count": 83,
   "metadata": {},
   "outputs": [],
   "source": [
    "spark_Norm_explevel_LofZ = ExpressionLevelWeightedBias(ExpMatNorm, spark_gene2LofZ, asd_sparktada_match_df,\n",
    "                                              csv_fil = \"dat/bias/sparktada.norm.explevel.weighted.LofZ.bias.csv\")"
   ]
  },
  {
   "cell_type": "code",
   "execution_count": 84,
   "metadata": {},
   "outputs": [
    {
     "name": "stdout",
     "output_type": "stream",
     "text": [
      "Isocortex \t 30 \t Orbital_area_ventrolateral_part; Primary_visual_area; Infralimbic_area; Orbital_area_lateral_part; Prelimbic_area; Posterolateral_visual_area; Anterior_cingulate_area_dorsal_part; posteromedial_visual_area; Primary_somatosensory_area_trunk; Retrosplenial_area_lateral_agranular_part; Orbital_area_medial_part; Secondary_motor_area; Anterior_cingulate_area_ventral_part; Primary_somatosensory_area_upper_limb; Posterior_parietal_association_areas; Retrosplenial_area_dorsal_part; Primary_motor_area; Agranular_insular_area_dorsal_part; Primary_somatosensory_area_lower_limb; Agranular_insular_area_ventral_part; Primary_somatosensory_area_barrel_field; Anteromedial_visual_area; Gustatory_areas; Primary_somatosensory_area_mouth; Supplemental_somatosensory_area; Frontal_pole_cerebral_cortex; Lateral_visual_area; Primary_somatosensory_area_nose; Anterolateral_visual_area; Temporal_association_areas\n",
      "Hippocampal_region \t 4 \t Dentate_gyrus; Field_CA1; Field_CA2; Field_CA3\n",
      "Olfactory_areas \t 5 \t Accessory_olfactory_bulb; Dorsal_peduncular_area; Anterior_olfactory_nucleus; Taenia_tecta; Piriform_area\n",
      "Striatum \t 3 \t Intercalated_amygdalar_nucleus; Nucleus_accumbens; Caudoputamen\n",
      "Hippocampal_formation \t 5 \t Presubiculum; Parasubiculum; Subiculum_dorsal_part; Postsubiculum; Subiculum_ventral_part\n",
      "Cortical_subplate \t 3 \t Claustrum; Basomedial_amygdalar_nucleus; Endopiriform_nucleus_dorsal_part\n"
     ]
    }
   ],
   "source": [
    "RegionDistributions(spark_Norm_explevel_LofZ.set_index(\"STR\"))"
   ]
  },
  {
   "cell_type": "code",
   "execution_count": 96,
   "metadata": {},
   "outputs": [
    {
     "name": "stdout",
     "output_type": "stream",
     "text": [
      "Isocortex \t 24 \t Primary_motor_area; Primary_somatosensory_area_trunk; Secondary_motor_area; Primary_somatosensory_area_upper_limb; Primary_visual_area; Posterior_parietal_association_areas; Primary_somatosensory_area_mouth; Primary_somatosensory_area_barrel_field; Agranular_insular_area_ventral_part; Gustatory_areas; Primary_somatosensory_area_lower_limb; Dorsal_auditory_area; Infralimbic_area; Agranular_insular_area_dorsal_part; Orbital_area_ventrolateral_part; Anterior_cingulate_area_dorsal_part; Prelimbic_area; Orbital_area_lateral_part; Anterior_cingulate_area_ventral_part; Retrosplenial_area_lateral_agranular_part; Retrosplenial_area_dorsal_part; posteromedial_visual_area; Primary_somatosensory_area_nose; Lateral_visual_area\n",
      "Hippocampal_region \t 4 \t Dentate_gyrus; Field_CA1; Field_CA3; Field_CA2\n",
      "Midbrain \t 4 \t Inferior_colliculus_central_nucleus; Nucleus_of_the_optic_tract; Superior_colliculus_motor_related; Anterior_pretectal_nucleus\n",
      "Olfactory_areas \t 3 \t Piriform_area; Dorsal_peduncular_area; Accessory_olfactory_bulb\n",
      "Striatum \t 4 \t Intercalated_amygdalar_nucleus; Caudoputamen; Central_amygdalar_nucleus; Nucleus_accumbens\n",
      "Thalamus \t 2 \t Lateral_posterior_nucleus_of_the_thalamus; Dorsal_part_of_the_lateral_geniculate_complex\n",
      "Hippocampal_formation \t 4 \t Subiculum_dorsal_part; Presubiculum; Subiculum_ventral_part; Parasubiculum\n",
      "Cortical_subplate \t 5 \t Basomedial_amygdalar_nucleus; Endopiriform_nucleus_dorsal_part; Endopiriform_nucleus_ventral_part; Claustrum; Posterior_amygdalar_nucleus\n"
     ]
    }
   ],
   "source": [
    "spark_avgZ_LofZ = Weighted_ZscoreAVGWithExpMatch(ExpZscoreMat, spark_gene2LofZ, asd_sparktada_match_df,\n",
    "                                              csv_fil = \"dat/bias/sparktada.avgZ.weighted.LofZ.bias.csv\")\n",
    "RegionDistributions(spark_avgZ_LofZ.set_index(\"STR\"))"
   ]
  },
  {
   "cell_type": "code",
   "execution_count": 95,
   "metadata": {},
   "outputs": [
    {
     "name": "stdout",
     "output_type": "stream",
     "text": [
      "Isocortex \t 18 \t Prelimbic_area; Infralimbic_area; Orbital_area_lateral_part; Anteromedial_visual_area; Retrosplenial_area_lateral_agranular_part; Primary_somatosensory_area_lower_limb; Orbital_area_ventrolateral_part; Anterior_cingulate_area_dorsal_part; Primary_visual_area; Posterior_parietal_association_areas; Anterior_cingulate_area_ventral_part; Orbital_area_medial_part; Lateral_visual_area; Secondary_motor_area; Primary_motor_area; Visceral_area; Primary_somatosensory_area_trunk; posteromedial_visual_area\n",
      "Hippocampal_region \t 4 \t Dentate_gyrus; Field_CA2; Field_CA1; Field_CA3\n",
      "Midbrain \t 1 \t Anterior_pretectal_nucleus\n",
      "Olfactory_areas \t 3 \t Anterior_olfactory_nucleus; Dorsal_peduncular_area; Accessory_olfactory_bulb\n",
      "Striatum \t 6 \t Nucleus_accumbens; Lateral_septal_nucleus_ventral_part; Caudoputamen; Lateral_septal_nucleus_caudal_caudodorsal_part; Lateral_septal_nucleus_rostral_rostroventral_part; Intercalated_amygdalar_nucleus\n",
      "Thalamus \t 10 \t Lateral_posterior_nucleus_of_the_thalamus; Parafascicular_nucleus; Mediodorsal_nucleus_of_thalamus; Submedial_nucleus_of_the_thalamus; Rhomboid_nucleus; Nucleus_of_reuniens; Central_lateral_nucleus_of_the_thalamus; Subparafascicular_nucleus_magnocellular_part; Central_medial_nucleus_of_the_thalamus; Anteromedial_nucleus_dorsal_part\n",
      "Hippocampal_formation \t 3 \t Subiculum_dorsal_part; Subiculum_ventral_part; Parasubiculum\n",
      "Pallidum \t 1 \t Bed_nuclei_of_the_stria_terminalis\n",
      "Cortical_subplate \t 4 \t Lateral_amygdalar_nucleus; Endopiriform_nucleus_dorsal_part; Claustrum; Basomedial_amygdalar_nucleus\n"
     ]
    }
   ],
   "source": [
    "asc_avgZ_Mutcount = ExpressionLevelWeightedBias(ExpZscoreMat, asc_gene2MutN, asd_asc_match_df,\n",
    "                                              csv_fil = \"dat/bias/asc.avgZ.weighted.Mutcount.bias.csv\")\n",
    "RegionDistributions(asc_avgZ_Mutcount.set_index(\"STR\"))"
   ]
  },
  {
   "cell_type": "code",
   "execution_count": null,
   "metadata": {},
   "outputs": [],
   "source": [
    "asc_avgZ_Mutcount = ExpressionLevelWeightedBias(ExpZscoreMat, asc_gene2MutN, asd_asc_match_df,\n",
    "                                              csv_fil = \"dat/bias/asc.avgZ.weighted.Mutcount.bias.csv\")\n",
    "RegionDistributions(asc_avgZ_Mutcount.set_index(\"STR\"))"
   ]
  },
  {
   "cell_type": "code",
   "execution_count": null,
   "metadata": {},
   "outputs": [],
   "source": [
    "asc_avgZ_Mutcount = ExpressionLevelWeightedBias(ExpZscoreMat, asc_gene2MutN, asd_asc_match_df,\n",
    "                                              csv_fil = \"dat/bias/asc.avgZ.weighted.Mutcount.bias.csv\")\n",
    "RegionDistributions(asc_avgZ_Mutcount.set_index(\"STR\"))"
   ]
  },
  {
   "cell_type": "code",
   "execution_count": 98,
   "metadata": {},
   "outputs": [
    {
     "name": "stdout",
     "output_type": "stream",
     "text": [
      "Isocortex \t 22 \t Infralimbic_area; Prelimbic_area; Orbital_area_lateral_part; Anteromedial_visual_area; Primary_somatosensory_area_lower_limb; Retrosplenial_area_lateral_agranular_part; Primary_visual_area; Orbital_area_ventrolateral_part; Posterior_parietal_association_areas; Anterior_cingulate_area_dorsal_part; Anterior_cingulate_area_ventral_part; Primary_motor_area; Orbital_area_medial_part; Primary_somatosensory_area_trunk; Secondary_motor_area; posteromedial_visual_area; Posterolateral_visual_area; Retrosplenial_area_dorsal_part; Lateral_visual_area; Agranular_insular_area_ventral_part; Visceral_area; Anterolateral_visual_area\n",
      "Hippocampal_region \t 4 \t Dentate_gyrus; Field_CA2; Field_CA1; Field_CA3\n",
      "Midbrain \t 1 \t Anterior_pretectal_nucleus\n",
      "Olfactory_areas \t 3 \t Anterior_olfactory_nucleus; Dorsal_peduncular_area; Accessory_olfactory_bulb\n",
      "Striatum \t 5 \t Nucleus_accumbens; Lateral_septal_nucleus_ventral_part; Lateral_septal_nucleus_caudal_caudodorsal_part; Caudoputamen; Lateral_septal_nucleus_rostral_rostroventral_part\n",
      "Thalamus \t 6 \t Lateral_posterior_nucleus_of_the_thalamus; Parafascicular_nucleus; Submedial_nucleus_of_the_thalamus; Mediodorsal_nucleus_of_thalamus; Nucleus_of_reuniens; Anteromedial_nucleus_dorsal_part\n",
      "Hippocampal_formation \t 4 \t Subiculum_dorsal_part; Subiculum_ventral_part; Postsubiculum; Presubiculum\n",
      "Pallidum \t 1 \t Bed_nuclei_of_the_stria_terminalis\n",
      "Cortical_subplate \t 4 \t Endopiriform_nucleus_dorsal_part; Claustrum; Lateral_amygdalar_nucleus; Basomedial_amygdalar_nucleus\n"
     ]
    }
   ],
   "source": [
    "asc_norm_avgZ_Mutcount = ExpressionLevelWeightedBias(ExpZscoreMatNorm, asc_gene2MutN, asd_asc_match_df,\n",
    "                                              csv_fil = \"dat/bias/asc.norm.avgZ.weighted.Mutcount.bias.csv\")\n",
    "RegionDistributions(asc_norm_avgZ_Mutcount.set_index(\"STR\"))"
   ]
  },
  {
   "cell_type": "code",
   "execution_count": null,
   "metadata": {},
   "outputs": [],
   "source": []
  },
  {
   "cell_type": "markdown",
   "metadata": {},
   "source": [
    "#### ASC ALL MUT"
   ]
  },
  {
   "cell_type": "code",
   "execution_count": 101,
   "metadata": {},
   "outputs": [],
   "source": [
    "# ASC ALL GENES Mutcount\n",
    "### ASC 102 GENEs\n",
    "asc_mutable = pd.read_excel(\"../dat/genes/1-s2.0-S0092867419313984-mmc2.xlsx\", sheet_name=\"Autosomal\")\n",
    "#asc102 = asc_mutable[asc_mutable[\"qval_dnccPTV\"]<0.1]\n",
    "asc_gene2MutN = {} #2\n",
    "for i, row in asc_mutable.iterrows():\n",
    "    if row[\"dn.ptv\"] == 0 and row[\"dn.misa\"] == 0 and row[\"dn.misb\"] == 0:\n",
    "        continue\n",
    "    asc_gene2MutN[row[\"entrez_id\"]] = 0\n",
    "    if row[\"dn.ptv\"] > 0:\n",
    "        asc_gene2MutN[row[\"entrez_id\"]] += 10*row[\"dn.ptv\"]\n",
    "    if row[\"dn.misa\"] > 0:\n",
    "        asc_gene2MutN[row[\"entrez_id\"]] += 1*row[\"dn.misa\"]\n",
    "    if row[\"dn.misb\"] > 0:\n",
    "        asc_gene2MutN[row[\"entrez_id\"]] += 5*row[\"dn.misb\"]"
   ]
  },
  {
   "cell_type": "code",
   "execution_count": 103,
   "metadata": {},
   "outputs": [],
   "source": [
    "asc_all_mut_bias = Weighted_ZscoreAVGWithExpMatch(ExpZscoreMat, asc_gene2MutN, csv_fil=\"dat/bias/asc.allmut.csv\")"
   ]
  },
  {
   "cell_type": "code",
   "execution_count": 104,
   "metadata": {},
   "outputs": [
    {
     "name": "stdout",
     "output_type": "stream",
     "text": [
      "Isocortex \t 25 \t Prelimbic_area; Secondary_motor_area; Primary_visual_area; Anteromedial_visual_area; Anterior_cingulate_area_dorsal_part; Primary_somatosensory_area_lower_limb; Primary_motor_area; Posterior_parietal_association_areas; Infralimbic_area; Frontal_pole_cerebral_cortex; posteromedial_visual_area; Orbital_area_lateral_part; Retrosplenial_area_lateral_agranular_part; Orbital_area_ventrolateral_part; Anterior_cingulate_area_ventral_part; Primary_somatosensory_area_upper_limb; Primary_somatosensory_area_trunk; Orbital_area_medial_part; Gustatory_areas; Retrosplenial_area_dorsal_part; Lateral_visual_area; Visceral_area; Supplemental_somatosensory_area; Agranular_insular_area_ventral_part; Primary_somatosensory_area_mouth\n",
      "Hippocampal_region \t 4 \t Dentate_gyrus; Field_CA1; Field_CA2; Field_CA3\n",
      "Midbrain \t 2 \t Anterior_pretectal_nucleus; Nucleus_of_the_optic_tract\n",
      "Olfactory_areas \t 4 \t Dorsal_peduncular_area; Accessory_olfactory_bulb; Anterior_olfactory_nucleus; Piriform_area\n",
      "Striatum \t 4 \t Nucleus_accumbens; Caudoputamen; Lateral_septal_nucleus_rostral_rostroventral_part; Lateral_septal_nucleus_caudal_caudodorsal_part\n",
      "Thalamus \t 6 \t Lateral_posterior_nucleus_of_the_thalamus; Mediodorsal_nucleus_of_thalamus; Lateral_dorsal_nucleus_of_thalamus; Parafascicular_nucleus; Central_lateral_nucleus_of_the_thalamus; Anteromedial_nucleus_ventral_part\n",
      "Hippocampal_formation \t 2 \t Subiculum_dorsal_part; Subiculum_ventral_part\n",
      "Cortical_subplate \t 3 \t Endopiriform_nucleus_dorsal_part; Claustrum; Lateral_amygdalar_nucleus\n"
     ]
    }
   ],
   "source": [
    "RegionDistributions(asc_all_mut_bias.set_index(\"STR\"))"
   ]
  },
  {
   "cell_type": "markdown",
   "metadata": {},
   "source": [
    "#### SPARK ALL MUT"
   ]
  },
  {
   "cell_type": "code",
   "execution_count": 105,
   "metadata": {},
   "outputs": [],
   "source": [
    "spark_gene2MutN = {} #2\n",
    "for i, row in spark_tada.iterrows():\n",
    "    try:\n",
    "        gene = int(GeneSymbol2Entrez[row[\"HGNC\"]])\n",
    "    except:\n",
    "        continue # Can't map gene ID\n",
    "    #asc_gene2RR[gene] = []\n",
    "    if row[\"dnLGD\"] == 0 and row[\"dnDmis\"] == 0:\n",
    "        continue\n",
    "    spark_gene2MutN[gene] = 0\n",
    "    if row[\"dnLGD\"] > 0:\n",
    "        spark_gene2MutN[gene] += 5*row[\"dnLGD\"]\n",
    "    if row[\"dnDmis\"] > 0:\n",
    "        spark_gene2MutN[gene] += 1*row[\"dnDmis\"]"
   ]
  },
  {
   "cell_type": "code",
   "execution_count": 107,
   "metadata": {},
   "outputs": [
    {
     "name": "stdout",
     "output_type": "stream",
     "text": [
      "Isocortex \t 22 \t Primary_motor_area; Prelimbic_area; Infralimbic_area; Secondary_motor_area; Orbital_area_ventrolateral_part; Frontal_pole_cerebral_cortex; Anterior_cingulate_area_dorsal_part; Primary_somatosensory_area_lower_limb; Orbital_area_medial_part; Retrosplenial_area_lateral_agranular_part; Primary_somatosensory_area_upper_limb; Primary_visual_area; Orbital_area_lateral_part; Posterior_parietal_association_areas; Agranular_insular_area_ventral_part; Anterior_cingulate_area_ventral_part; Primary_somatosensory_area_trunk; Posterolateral_visual_area; Dorsal_auditory_area; posteromedial_visual_area; Anteromedial_visual_area; Gustatory_areas\n",
      "Hippocampal_region \t 4 \t Dentate_gyrus; Field_CA1; Field_CA3; Field_CA2\n",
      "Midbrain \t 3 \t Anterior_pretectal_nucleus; Nucleus_of_the_posterior_commissure; Nucleus_of_the_optic_tract\n",
      "Olfactory_areas \t 5 \t Dorsal_peduncular_area; Anterior_olfactory_nucleus; Accessory_olfactory_bulb; Taenia_tecta; Piriform_area\n",
      "Striatum \t 4 \t Nucleus_accumbens; Caudoputamen; Lateral_septal_nucleus_rostral_rostroventral_part; Lateral_septal_nucleus_caudal_caudodorsal_part\n",
      "Thalamus \t 4 \t Lateral_posterior_nucleus_of_the_thalamus; Lateral_dorsal_nucleus_of_thalamus; Parafascicular_nucleus; Central_lateral_nucleus_of_the_thalamus\n",
      "Hippocampal_formation \t 3 \t Subiculum_dorsal_part; Subiculum_ventral_part; Parasubiculum\n",
      "Cortical_subplate \t 5 \t Endopiriform_nucleus_dorsal_part; Claustrum; Lateral_amygdalar_nucleus; Basomedial_amygdalar_nucleus; Basolateral_amygdalar_nucleus\n"
     ]
    }
   ],
   "source": [
    "spark_all_mut_bias = Weighted_ZscoreAVGWithExpMatch(ExpZscoreMat, spark_gene2MutN, csv_fil=\"dat/bias/spark.allmut.csv\")\n",
    "RegionDistributions(spark_all_mut_bias.set_index(\"STR\"))"
   ]
  },
  {
   "cell_type": "markdown",
   "metadata": {},
   "source": [
    "#### SSC ALL MUT; Seperated by Male/Female and High/Low Functioning Male"
   ]
  },
  {
   "cell_type": "code",
   "execution_count": 111,
   "metadata": {},
   "outputs": [],
   "source": [
    "ssc_mutable = pd.read_excel(\"../dat/genes/Supplementary_Table_7.xlsx\", sheet_name=\"ggg_clean\")\n",
    "ssc_gene2MutN = {} #2\n",
    "ssc_gene2MutN_M = {}\n",
    "ssc_gene2MutN_FM = {}\n",
    "ssc_gene2MutN_H = {}\n",
    "ssc_gene2MutN_L = {}\n",
    "for i, row in ssc_mutable.iterrows():\n",
    "    try:\n",
    "        gene = int(GeneSymbol2Entrez[row[\"gene\"]])\n",
    "    except:\n",
    "        continue # Can't map gene ID\n",
    "    if row[\"dnv_LGDs_prb\"] == 0 and row[\"dnv_missense_prb\"] == 0:\n",
    "        continue\n",
    "    ssc_gene2MutN[gene] = 0\n",
    "    ssc_gene2MutN_M[gene] = 0\n",
    "    ssc_gene2MutN_FM[gene] = 0\n",
    "    ssc_gene2MutN_H[gene] = 0\n",
    "    ssc_gene2MutN_L[gene] = 0\n",
    "    \n",
    "    ssc_gene2MutN[gene] += 10*row[\"dnv_LGDs_prb\"]\n",
    "    ssc_gene2MutN_M[gene] += 10*row[\"dnv_LGDs_prbM\"]\n",
    "    ssc_gene2MutN_FM[gene] += 10*row[\"dnv_LGDs_prbF\"]\n",
    "    ssc_gene2MutN_H[gene] += 10*row[\"dnv_LGDs_prbMH\"]\n",
    "    ssc_gene2MutN_L[gene] += 10*row[\"dnv_LGDs_prbML\"]\n",
    "    \n",
    "    ssc_gene2MutN[gene] += 1*row[\"dnv_missense_prb\"]\n",
    "    ssc_gene2MutN_M[gene] += 1*row[\"dnv_missense_prbM\"]\n",
    "    ssc_gene2MutN_FM[gene] += 1*row[\"dnv_missense_prbF\"]\n",
    "    ssc_gene2MutN_H[gene] += 1*row[\"dnv_missense_prbMH\"]\n",
    "    ssc_gene2MutN_L[gene] += 1*row[\"dnv_missense_prbML\"]"
   ]
  },
  {
   "cell_type": "code",
   "execution_count": 110,
   "metadata": {},
   "outputs": [
    {
     "name": "stdout",
     "output_type": "stream",
     "text": [
      "Isocortex \t 17 \t Prelimbic_area; Orbital_area_lateral_part; Infralimbic_area; Orbital_area_ventrolateral_part; Anterior_cingulate_area_ventral_part; Primary_somatosensory_area_lower_limb; Frontal_pole_cerebral_cortex; Anterior_cingulate_area_dorsal_part; Primary_somatosensory_area_upper_limb; Visceral_area; Secondary_motor_area; Orbital_area_medial_part; Supplemental_somatosensory_area; Primary_motor_area; Primary_somatosensory_area_mouth; Primary_somatosensory_area_barrel_field; Gustatory_areas\n",
      "Hippocampal_region \t 4 \t Dentate_gyrus; Field_CA2; Field_CA1; Field_CA3\n",
      "Midbrain \t 4 \t Anterior_pretectal_nucleus; Nucleus_of_the_optic_tract; Nucleus_of_the_posterior_commissure; Superior_colliculus_motor_related\n",
      "Olfactory_areas \t 4 \t Accessory_olfactory_bulb; Anterior_olfactory_nucleus; Dorsal_peduncular_area; Main_olfactory_bulb\n",
      "Striatum \t 4 \t Caudoputamen; Nucleus_accumbens; Lateral_septal_nucleus_caudal_caudodorsal_part; Lateral_septal_nucleus_rostral_rostroventral_part\n",
      "Thalamus \t 14 \t Lateral_posterior_nucleus_of_the_thalamus; Lateral_dorsal_nucleus_of_thalamus; Central_lateral_nucleus_of_the_thalamus; Mediodorsal_nucleus_of_thalamus; Medial_habenula; Anteromedial_nucleus_dorsal_part; Dorsal_part_of_the_lateral_geniculate_complex; Lateral_habenula; Parafascicular_nucleus; Nucleus_of_reuniens; Parataenial_nucleus; Anteromedial_nucleus_ventral_part; Posterior_complex_of_the_thalamus; Ventral_posteromedial_nucleus_of_the_thalamus_parvicellular_part\n",
      "Hippocampal_formation \t 1 \t Subiculum_dorsal_part\n",
      "Cortical_subplate \t 2 \t Claustrum; Endopiriform_nucleus_dorsal_part\n"
     ]
    }
   ],
   "source": [
    "ssc_all_mut_bias = Weighted_ZscoreAVGWithExpMatch(ExpZscoreMat, ssc_gene2MutN, csv_fil=\"dat/bias/ssc.allmut.csv\")\n",
    "RegionDistributions(ssc_all_mut_bias.set_index(\"STR\"))"
   ]
  },
  {
   "cell_type": "code",
   "execution_count": 112,
   "metadata": {},
   "outputs": [
    {
     "name": "stdout",
     "output_type": "stream",
     "text": [
      "Isocortex \t 19 \t Prelimbic_area; Infralimbic_area; Primary_somatosensory_area_lower_limb; Orbital_area_lateral_part; Orbital_area_ventrolateral_part; Orbital_area_medial_part; Anterior_cingulate_area_ventral_part; Anterior_cingulate_area_dorsal_part; Primary_somatosensory_area_upper_limb; Primary_motor_area; Primary_somatosensory_area_mouth; Frontal_pole_cerebral_cortex; Primary_somatosensory_area_barrel_field; Primary_somatosensory_area_trunk; Posterior_parietal_association_areas; Primary_visual_area; Secondary_motor_area; Anteromedial_visual_area; Supplemental_somatosensory_area\n",
      "Hippocampal_region \t 4 \t Dentate_gyrus; Field_CA2; Field_CA1; Field_CA3\n",
      "Midbrain \t 5 \t Anterior_pretectal_nucleus; Nucleus_of_the_optic_tract; Nucleus_of_the_posterior_commissure; Superior_colliculus_motor_related; Inferior_colliculus_central_nucleus\n",
      "Olfactory_areas \t 4 \t Accessory_olfactory_bulb; Anterior_olfactory_nucleus; Main_olfactory_bulb; Dorsal_peduncular_area\n",
      "Striatum \t 4 \t Caudoputamen; Nucleus_accumbens; Lateral_septal_nucleus_caudal_caudodorsal_part; Lateral_septal_nucleus_rostral_rostroventral_part\n",
      "Thalamus \t 11 \t Lateral_posterior_nucleus_of_the_thalamus; Central_lateral_nucleus_of_the_thalamus; Lateral_dorsal_nucleus_of_thalamus; Mediodorsal_nucleus_of_thalamus; Medial_habenula; Anteromedial_nucleus_dorsal_part; Lateral_habenula; Parafascicular_nucleus; Nucleus_of_reuniens; Posterior_complex_of_the_thalamus; Anteroventral_nucleus_of_thalamus\n",
      "Hippocampal_formation \t 1 \t Subiculum_dorsal_part\n",
      "Cortical_subplate \t 2 \t Claustrum; Endopiriform_nucleus_dorsal_part\n"
     ]
    }
   ],
   "source": [
    "ssc_all_mut_bias_M = Weighted_ZscoreAVGWithExpMatch(ExpZscoreMat, ssc_gene2MutN_M, \n",
    "                                                    csv_fil=\"dat/bias/ssc.M.allmut.csv\")\n",
    "RegionDistributions(ssc_all_mut_bias_M.set_index(\"STR\"))"
   ]
  },
  {
   "cell_type": "code",
   "execution_count": 115,
   "metadata": {},
   "outputs": [
    {
     "name": "stdout",
     "output_type": "stream",
     "text": [
      "Isocortex \t 11 \t Orbital_area_lateral_part; Visceral_area; Frontal_pole_cerebral_cortex; Agranular_insular_area_posterior_part; Anterior_cingulate_area_ventral_part; Orbital_area_ventrolateral_part; Anterior_cingulate_area_dorsal_part; Supplemental_somatosensory_area; Primary_somatosensory_area_upper_limb; Secondary_motor_area; Prelimbic_area\n",
      "Hippocampal_region \t 4 \t Dentate_gyrus; Field_CA1; Field_CA2; Field_CA3\n",
      "Midbrain \t 2 \t Anterior_pretectal_nucleus; Cuneiform_nucleus\n",
      "Olfactory_areas \t 3 \t Piriform_area; Anterior_olfactory_nucleus; Piriform_amygdalar_area\n",
      "Striatum \t 5 \t Lateral_septal_nucleus_caudal_caudodorsal_part; Caudoputamen; Septofimbrial_nucleus; Nucleus_accumbens; Lateral_septal_nucleus_rostral_rostroventral_part\n",
      "Thalamus \t 19 \t Lateral_posterior_nucleus_of_the_thalamus; Dorsal_part_of_the_lateral_geniculate_complex; Lateral_dorsal_nucleus_of_thalamus; Ventral_anterior_lateral_complex_of_the_thalamus; Central_lateral_nucleus_of_the_thalamus; Ventral_posterolateral_nucleus_of_the_thalamus; Ventral_posteromedial_nucleus_of_the_thalamus_parvicellular_part; Parataenial_nucleus; Ventral_part_of_the_lateral_geniculate_complex; Subparafascicular_nucleus_parvicellular_part; Ventral_medial_nucleus_of_the_thalamus; Anteromedial_nucleus_dorsal_part; Lateral_habenula; Medial_habenula; Parafascicular_nucleus; Nucleus_of_reuniens; Submedial_nucleus_of_the_thalamus; Mediodorsal_nucleus_of_thalamus; Medial_geniculate_complex_dorsal_part\n",
      "Hippocampal_formation \t 2 \t Entorhinal_area_lateral_part; Subiculum_ventral_part\n",
      "Cortical_subplate \t 4 \t Claustrum; Basolateral_amygdalar_nucleus; Endopiriform_nucleus_ventral_part; Lateral_amygdalar_nucleus\n"
     ]
    }
   ],
   "source": [
    "ssc_all_mut_bias_FM = Weighted_ZscoreAVGWithExpMatch(ExpZscoreMat, ssc_gene2MutN_FM, \n",
    "                                                    csv_fil=\"dat/bias/ssc.F.allmut.csv\")\n",
    "RegionDistributions(ssc_all_mut_bias_FM.set_index(\"STR\"))"
   ]
  },
  {
   "cell_type": "code",
   "execution_count": 116,
   "metadata": {},
   "outputs": [
    {
     "name": "stdout",
     "output_type": "stream",
     "text": [
      "Isocortex \t 4 \t Primary_somatosensory_area_barrel_field; Frontal_pole_cerebral_cortex; Primary_somatosensory_area_mouth; Primary_somatosensory_area_nose\n",
      "Hippocampal_region \t 4 \t Field_CA2; Dentate_gyrus; Field_CA1; Field_CA3\n",
      "Midbrain \t 5 \t Anterior_pretectal_nucleus; Nucleus_of_the_optic_tract; Cuneiform_nucleus; Nucleus_of_the_posterior_commissure; Superior_colliculus_motor_related\n",
      "Olfactory_areas \t 4 \t Main_olfactory_bulb; Accessory_olfactory_bulb; Anterior_olfactory_nucleus; Piriform_amygdalar_area\n",
      "Striatum \t 2 \t Septofimbrial_nucleus; Caudoputamen\n",
      "Medulla \t 4 \t Parvicellular_reticular_nucleus; Intermediate_reticular_nucleus; Nucleus_of_the_solitary_tract; Medullary_reticular_nucleus_dorsal_part\n",
      "Pons \t 2 \t Superior_central_nucleus_raphe; Parabrachial_nucleus\n",
      "Thalamus \t 15 \t Lateral_posterior_nucleus_of_the_thalamus; Medial_habenula; Lateral_habenula; Paraventricular_nucleus_of_the_thalamus; Lateral_dorsal_nucleus_of_thalamus; Mediodorsal_nucleus_of_thalamus; Anteroventral_nucleus_of_thalamus; Parafascicular_nucleus; Subparafascicular_nucleus_parvicellular_part; Posterior_complex_of_the_thalamus; Central_lateral_nucleus_of_the_thalamus; Intermediodorsal_nucleus_of_the_thalamus; Dorsal_part_of_the_lateral_geniculate_complex; Ventral_posteromedial_nucleus_of_the_thalamus_parvicellular_part; Ventral_anterior_lateral_complex_of_the_thalamus\n",
      "Pallidum \t 1 \t Triangular_nucleus_of_septum\n",
      "Cerebellum \t 7 \t Paramedian_lobule; Ansiform_lobule; Culmen; Central_lobule; Simple_lobule; Pyramus_VIII; Flocculus\n",
      "Cortical_subplate \t 2 \t Lateral_amygdalar_nucleus; Claustrum\n"
     ]
    }
   ],
   "source": [
    "ssc_all_mut_bias_H = Weighted_ZscoreAVGWithExpMatch(ExpZscoreMat, ssc_gene2MutN_H, \n",
    "                                                    csv_fil=\"dat/bias/ssc.H.allmut.csv\")\n",
    "RegionDistributions(ssc_all_mut_bias_H.set_index(\"STR\"))"
   ]
  },
  {
   "cell_type": "code",
   "execution_count": 117,
   "metadata": {},
   "outputs": [
    {
     "name": "stdout",
     "output_type": "stream",
     "text": [
      "Isocortex \t 21 \t Infralimbic_area; Prelimbic_area; Anterior_cingulate_area_ventral_part; Orbital_area_medial_part; Orbital_area_lateral_part; Orbital_area_ventrolateral_part; Primary_motor_area; Primary_somatosensory_area_lower_limb; Secondary_motor_area; Anteromedial_visual_area; Anterior_cingulate_area_dorsal_part; Primary_somatosensory_area_upper_limb; Agranular_insular_area_dorsal_part; Posterior_parietal_association_areas; Primary_somatosensory_area_trunk; Primary_visual_area; Agranular_insular_area_ventral_part; Retrosplenial_area_lateral_agranular_part; Supplemental_somatosensory_area; Retrosplenial_area_dorsal_part; Primary_somatosensory_area_mouth\n",
      "Hippocampal_region \t 4 \t Dentate_gyrus; Field_CA3; Field_CA1; Field_CA2\n",
      "Midbrain \t 5 \t Anterior_pretectal_nucleus; Nucleus_of_the_optic_tract; Superior_colliculus_motor_related; Nucleus_of_the_posterior_commissure; Inferior_colliculus_central_nucleus\n",
      "Olfactory_areas \t 3 \t Accessory_olfactory_bulb; Dorsal_peduncular_area; Anterior_olfactory_nucleus\n",
      "Striatum \t 6 \t Nucleus_accumbens; Lateral_septal_nucleus_caudal_caudodorsal_part; Caudoputamen; Lateral_septal_nucleus_rostral_rostroventral_part; Central_amygdalar_nucleus; Lateral_septal_nucleus_ventral_part\n",
      "Thalamus \t 7 \t Lateral_posterior_nucleus_of_the_thalamus; Central_lateral_nucleus_of_the_thalamus; Lateral_dorsal_nucleus_of_thalamus; Anteromedial_nucleus_dorsal_part; Mediodorsal_nucleus_of_thalamus; Nucleus_of_reuniens; Anteromedial_nucleus_ventral_part\n",
      "Hippocampal_formation \t 1 \t Subiculum_dorsal_part\n",
      "Pallidum \t 1 \t Bed_nuclei_of_the_stria_terminalis\n",
      "Cortical_subplate \t 2 \t Endopiriform_nucleus_dorsal_part; Claustrum\n"
     ]
    }
   ],
   "source": [
    "ssc_all_mut_bias_L = Weighted_ZscoreAVGWithExpMatch(ExpZscoreMat, ssc_gene2MutN_L, \n",
    "                                                    csv_fil=\"dat/bias/ssc.L.allmut.csv\")\n",
    "RegionDistributions(ssc_all_mut_bias_L.set_index(\"STR\"))"
   ]
  },
  {
   "cell_type": "code",
   "execution_count": 123,
   "metadata": {},
   "outputs": [
    {
     "data": {
      "text/html": [
       "<div>\n",
       "<style scoped>\n",
       "    .dataframe tbody tr th:only-of-type {\n",
       "        vertical-align: middle;\n",
       "    }\n",
       "\n",
       "    .dataframe tbody tr th {\n",
       "        vertical-align: top;\n",
       "    }\n",
       "\n",
       "    .dataframe thead th {\n",
       "        text-align: right;\n",
       "    }\n",
       "</style>\n",
       "<table border=\"1\" class=\"dataframe\">\n",
       "  <thead>\n",
       "    <tr style=\"text-align: right;\">\n",
       "      <th></th>\n",
       "      <th>gene</th>\n",
       "      <th>codingLen</th>\n",
       "      <th>codingLenInTarget</th>\n",
       "      <th>set_FMRPTargets</th>\n",
       "      <th>set_PSD</th>\n",
       "      <th>set_Embryonic</th>\n",
       "      <th>set_ChromatinModifiers</th>\n",
       "      <th>set_EssentialGenes</th>\n",
       "      <th>set_MendelianDiseaseGenes</th>\n",
       "      <th>set_DeNovoLGDsInSchizoprenia</th>\n",
       "      <th>...</th>\n",
       "      <th>dnv_missense_prbML</th>\n",
       "      <th>dnv_missense_prbMH</th>\n",
       "      <th>dnv_missense_prbF</th>\n",
       "      <th>dnv_missense_sib</th>\n",
       "      <th>dnv_synonymous_prb</th>\n",
       "      <th>dnv_synonymous_prbM</th>\n",
       "      <th>dnv_synonymous_prbML</th>\n",
       "      <th>dnv_synonymous_prbMH</th>\n",
       "      <th>dnv_synonymous_prbF</th>\n",
       "      <th>dnv_synonymous_sib</th>\n",
       "    </tr>\n",
       "  </thead>\n",
       "  <tbody>\n",
       "    <tr>\n",
       "      <th>0</th>\n",
       "      <td>CHD8</td>\n",
       "      <td>7752</td>\n",
       "      <td>7752</td>\n",
       "      <td>1</td>\n",
       "      <td>0</td>\n",
       "      <td>0</td>\n",
       "      <td>1</td>\n",
       "      <td>1</td>\n",
       "      <td>0</td>\n",
       "      <td>0</td>\n",
       "      <td>...</td>\n",
       "      <td>0</td>\n",
       "      <td>0</td>\n",
       "      <td>0</td>\n",
       "      <td>0</td>\n",
       "      <td>0</td>\n",
       "      <td>0</td>\n",
       "      <td>0</td>\n",
       "      <td>0</td>\n",
       "      <td>0</td>\n",
       "      <td>0</td>\n",
       "    </tr>\n",
       "    <tr>\n",
       "      <th>1</th>\n",
       "      <td>DYRK1A</td>\n",
       "      <td>2376</td>\n",
       "      <td>2376</td>\n",
       "      <td>0</td>\n",
       "      <td>0</td>\n",
       "      <td>1</td>\n",
       "      <td>0</td>\n",
       "      <td>1</td>\n",
       "      <td>0</td>\n",
       "      <td>0</td>\n",
       "      <td>...</td>\n",
       "      <td>0</td>\n",
       "      <td>0</td>\n",
       "      <td>0</td>\n",
       "      <td>0</td>\n",
       "      <td>0</td>\n",
       "      <td>0</td>\n",
       "      <td>0</td>\n",
       "      <td>0</td>\n",
       "      <td>0</td>\n",
       "      <td>0</td>\n",
       "    </tr>\n",
       "  </tbody>\n",
       "</table>\n",
       "<p>2 rows × 29 columns</p>\n",
       "</div>"
      ],
      "text/plain": [
       "     gene  codingLen  codingLenInTarget  set_FMRPTargets  set_PSD  \\\n",
       "0    CHD8       7752               7752                1        0   \n",
       "1  DYRK1A       2376               2376                0        0   \n",
       "\n",
       "   set_Embryonic  set_ChromatinModifiers  set_EssentialGenes  \\\n",
       "0              0                       1                   1   \n",
       "1              1                       0                   1   \n",
       "\n",
       "   set_MendelianDiseaseGenes  set_DeNovoLGDsInSchizoprenia  ...  \\\n",
       "0                          0                             0  ...   \n",
       "1                          0                             0  ...   \n",
       "\n",
       "   dnv_missense_prbML  dnv_missense_prbMH  dnv_missense_prbF  \\\n",
       "0                   0                   0                  0   \n",
       "1                   0                   0                  0   \n",
       "\n",
       "   dnv_missense_sib  dnv_synonymous_prb  dnv_synonymous_prbM  \\\n",
       "0                 0                   0                    0   \n",
       "1                 0                   0                    0   \n",
       "\n",
       "   dnv_synonymous_prbML  dnv_synonymous_prbMH  dnv_synonymous_prbF  \\\n",
       "0                     0                     0                    0   \n",
       "1                     0                     0                    0   \n",
       "\n",
       "   dnv_synonymous_sib  \n",
       "0                   0  \n",
       "1                   0  \n",
       "\n",
       "[2 rows x 29 columns]"
      ]
     },
     "execution_count": 123,
     "metadata": {},
     "output_type": "execute_result"
    }
   ],
   "source": [
    "ssc_mutable.head(2)"
   ]
  },
  {
   "cell_type": "code",
   "execution_count": 128,
   "metadata": {},
   "outputs": [],
   "source": [
    "# Sibling \n",
    "#ssc_mutable = pd.read_excel(\"../dat/genes/Supplementary_Table_7.xlsx\", sheet_name=\"ggg_clean\")\n",
    "sib_gene2MutN = {} #2\n",
    "sib_gene2None = {}\n",
    "for i, row in ssc_mutable.iterrows():\n",
    "    try:\n",
    "        gene = int(GeneSymbol2Entrez[row[\"gene\"]])\n",
    "    except:\n",
    "        continue # Can't map gene ID\n",
    "    if row[\"dnv_LGDs_sib\"] == 0 and row[\"dnv_missense_sib\"] == 0:\n",
    "        continue\n",
    "    sib_gene2None[gene] = 1\n",
    "    sib_gene2MutN[gene] = 0\n",
    "    sib_gene2MutN[gene] += 10*row[\"dnv_LGDs_sib\"]\n",
    "    sib_gene2MutN[gene] += 1*row[\"dnv_missense_sib\"]"
   ]
  },
  {
   "cell_type": "code",
   "execution_count": 129,
   "metadata": {},
   "outputs": [
    {
     "name": "stdout",
     "output_type": "stream",
     "text": [
      "Isocortex \t 5 \t Primary_somatosensory_area_upper_limb; Primary_somatosensory_area_mouth; Primary_visual_area; Primary_somatosensory_area_trunk; posteromedial_visual_area\n",
      "Hippocampal_region \t 2 \t Field_CA3; Field_CA1\n",
      "Midbrain \t 4 \t Anterior_pretectal_nucleus; Inferior_colliculus_external_nucleus; Midbrain_reticular_nucleus; Nucleus_of_the_optic_tract\n",
      "Striatum \t 2 \t Caudoputamen; Fundus_of_striatum\n",
      "Medulla \t 3 \t Spinal_nucleus_of_the_trigeminal_oral_part; Spinal_nucleus_of_the_trigeminal_interpolar_part; Spinal_nucleus_of_the_trigeminal_caudal_part\n",
      "Pons \t 2 \t Principal_sensory_nucleus_of_the_trigeminal; Nucleus_of_the_lateral_lemniscus\n",
      "Thalamus \t 27 \t Ventral_posterolateral_nucleus_of_the_thalamus; Lateral_dorsal_nucleus_of_thalamus; Dorsal_part_of_the_lateral_geniculate_complex; Ventral_posteromedial_nucleus_of_the_thalamus; Lateral_posterior_nucleus_of_the_thalamus; Posterior_limiting_nucleus_of_the_thalamus; Posterior_complex_of_the_thalamus; Ventral_anterior_lateral_complex_of_the_thalamus; Medial_geniculate_complex_medial_part; Ventral_posteromedial_nucleus_of_the_thalamus_parvicellular_part; Mediodorsal_nucleus_of_thalamus; Reticular_nucleus_of_the_thalamus; Subparafascicular_nucleus_parvicellular_part; Medial_geniculate_complex_dorsal_part; Anteromedial_nucleus_dorsal_part; Parafascicular_nucleus; Ventral_part_of_the_lateral_geniculate_complex; Rhomboid_nucleus; Central_lateral_nucleus_of_the_thalamus; Ventral_medial_nucleus_of_the_thalamus; Parataenial_nucleus; Submedial_nucleus_of_the_thalamus; Central_medial_nucleus_of_the_thalamus; Lateral_habenula; Medial_geniculate_complex_ventral_part; Anteroventral_nucleus_of_thalamus; Paraventricular_nucleus_of_the_thalamus\n",
      "Hippocampal_formation \t 2 \t Subiculum_dorsal_part; Postsubiculum\n",
      "Pallidum \t 2 \t Medial_septal_nucleus; Globus_pallidus_external_segment\n",
      "Hypothalamus \t 1 \t Subthalamic_nucleus\n"
     ]
    }
   ],
   "source": [
    "sib_all_mut_bias = Weighted_ZscoreAVGWithExpMatch(ExpZscoreMat, sib_gene2MutN, \n",
    "                                                    csv_fil=\"dat/bias/sib.allmut.csv\")\n",
    "sib_all_mut_bias_None = Weighted_ZscoreAVGWithExpMatch(ExpZscoreMat, sib_gene2None, \n",
    "                                                    csv_fil=\"dat/bias/sib.allmut.NoWeight.csv\")\n",
    "RegionDistributions(sib_all_mut_bias.set_index(\"STR\"))"
   ]
  },
  {
   "cell_type": "code",
   "execution_count": null,
   "metadata": {},
   "outputs": [],
   "source": [
    "# seperate all probands by IQ"
   ]
  },
  {
   "cell_type": "code",
   "execution_count": 130,
   "metadata": {},
   "outputs": [
    {
     "name": "stdout",
     "output_type": "stream",
     "text": [
      "Isocortex \t 7 \t Retrosplenial_area_ventral_part; Primary_visual_area; posteromedial_visual_area; Primary_somatosensory_area_upper_limb; Primary_somatosensory_area_trunk; Posterolateral_visual_area; Primary_somatosensory_area_mouth\n",
      "Hippocampal_region \t 4 \t Field_CA3; Dentate_gyrus; Field_CA1; Field_CA2\n",
      "Midbrain \t 5 \t Anterior_pretectal_nucleus; Nucleus_of_the_posterior_commissure; Dorsal_nucleus_raphe; Nucleus_of_the_optic_tract; Midbrain_reticular_nucleus\n",
      "Striatum \t 2 \t Lateral_septal_nucleus_rostral_rostroventral_part; Caudoputamen\n",
      "Pons \t 1 \t Superior_central_nucleus_raphe\n",
      "Thalamus \t 24 \t Lateral_habenula; Lateral_dorsal_nucleus_of_thalamus; Medial_geniculate_complex_medial_part; Mediodorsal_nucleus_of_thalamus; Lateral_posterior_nucleus_of_the_thalamus; Dorsal_part_of_the_lateral_geniculate_complex; Parafascicular_nucleus; Parataenial_nucleus; Ventral_posterolateral_nucleus_of_the_thalamus; Paraventricular_nucleus_of_the_thalamus; Rhomboid_nucleus; Ventral_posteromedial_nucleus_of_the_thalamus; Posterior_limiting_nucleus_of_the_thalamus; Anteromedial_nucleus_dorsal_part; Posterior_complex_of_the_thalamus; Intermediodorsal_nucleus_of_the_thalamus; Nucleus_of_reuniens; Medial_geniculate_complex_dorsal_part; Central_lateral_nucleus_of_the_thalamus; Subparafascicular_area; Central_medial_nucleus_of_the_thalamus; Subparafascicular_nucleus_parvicellular_part; Ventral_posteromedial_nucleus_of_the_thalamus_parvicellular_part; Subparafascicular_nucleus_magnocellular_part\n",
      "Hippocampal_formation \t 3 \t Postsubiculum; Subiculum_dorsal_part; Presubiculum\n",
      "Pallidum \t 1 \t Medial_septal_nucleus\n",
      "Cerebellum \t 1 \t Pyramus_VIII\n",
      "Hypothalamus \t 2 \t Posterior_hypothalamic_nucleus; Dorsal_premammillary_nucleus\n"
     ]
    }
   ],
   "source": [
    "RegionDistributions(sib_all_mut_bias_None.set_index(\"STR\"))"
   ]
  },
  {
   "cell_type": "code",
   "execution_count": 71,
   "metadata": {},
   "outputs": [],
   "source": [
    "asc_mut = pd.read_csv(\"../dat/genes/asc_tada_RR.csv\")\n",
    "spark_mut = pd.read_csv(\"../dat/genes/spark_tada_RR.csv\")"
   ]
  },
  {
   "cell_type": "code",
   "execution_count": 72,
   "metadata": {},
   "outputs": [
    {
     "data": {
      "text/html": [
       "<div>\n",
       "<style scoped>\n",
       "    .dataframe tbody tr th:only-of-type {\n",
       "        vertical-align: middle;\n",
       "    }\n",
       "\n",
       "    .dataframe tbody tr th {\n",
       "        vertical-align: top;\n",
       "    }\n",
       "\n",
       "    .dataframe thead th {\n",
       "        text-align: right;\n",
       "    }\n",
       "</style>\n",
       "<table border=\"1\" class=\"dataframe\">\n",
       "  <thead>\n",
       "    <tr style=\"text-align: right;\">\n",
       "      <th></th>\n",
       "      <th>gene</th>\n",
       "      <th>hugoGene</th>\n",
       "      <th>hgnc_id</th>\n",
       "      <th>entrez_id</th>\n",
       "      <th>ensembl_gene_id</th>\n",
       "      <th>refseq_accession</th>\n",
       "      <th>uniprot_ids</th>\n",
       "      <th>location</th>\n",
       "      <th>chr</th>\n",
       "      <th>start_hg38</th>\n",
       "      <th>...</th>\n",
       "      <th>ASC65_2015</th>\n",
       "      <th>ASC102_2018</th>\n",
       "      <th>ASD:DDID</th>\n",
       "      <th>ASD_vs_DDID</th>\n",
       "      <th>ASD53</th>\n",
       "      <th>DDID49</th>\n",
       "      <th>Function</th>\n",
       "      <th>LGD_RR</th>\n",
       "      <th>misa_RR</th>\n",
       "      <th>misb_RR</th>\n",
       "    </tr>\n",
       "  </thead>\n",
       "  <tbody>\n",
       "    <tr>\n",
       "      <th>0</th>\n",
       "      <td>CHD8</td>\n",
       "      <td>CHD8</td>\n",
       "      <td>HGNC:20153</td>\n",
       "      <td>57680</td>\n",
       "      <td>ENSG00000100888</td>\n",
       "      <td>NM_020920</td>\n",
       "      <td>Q9HCK8</td>\n",
       "      <td>14q11.2</td>\n",
       "      <td>chr14</td>\n",
       "      <td>21385194</td>\n",
       "      <td>...</td>\n",
       "      <td>1</td>\n",
       "      <td>1</td>\n",
       "      <td>3.07850705163288</td>\n",
       "      <td>ASD</td>\n",
       "      <td>1</td>\n",
       "      <td>0</td>\n",
       "      <td>Gene expression regulation</td>\n",
       "      <td>60.711380</td>\n",
       "      <td>12.347005</td>\n",
       "      <td>15.270008</td>\n",
       "    </tr>\n",
       "    <tr>\n",
       "      <th>1</th>\n",
       "      <td>SCN2A</td>\n",
       "      <td>SCN2A</td>\n",
       "      <td>HGNC:10588</td>\n",
       "      <td>6326</td>\n",
       "      <td>ENSG00000136531</td>\n",
       "      <td>NM_021007</td>\n",
       "      <td>Q99250</td>\n",
       "      <td>2q24.3</td>\n",
       "      <td>chr2</td>\n",
       "      <td>165194993</td>\n",
       "      <td>...</td>\n",
       "      <td>1</td>\n",
       "      <td>1</td>\n",
       "      <td>0.6913147929608191</td>\n",
       "      <td>DDID</td>\n",
       "      <td>0</td>\n",
       "      <td>1</td>\n",
       "      <td>Neuronal communication</td>\n",
       "      <td>80.483746</td>\n",
       "      <td>6.916012</td>\n",
       "      <td>36.717196</td>\n",
       "    </tr>\n",
       "  </tbody>\n",
       "</table>\n",
       "<p>2 rows × 58 columns</p>\n",
       "</div>"
      ],
      "text/plain": [
       "    gene hugoGene     hgnc_id entrez_id  ensembl_gene_id refseq_accession  \\\n",
       "0   CHD8     CHD8  HGNC:20153     57680  ENSG00000100888        NM_020920   \n",
       "1  SCN2A    SCN2A  HGNC:10588      6326  ENSG00000136531        NM_021007   \n",
       "\n",
       "  uniprot_ids location    chr  start_hg38  ...  ASC65_2015 ASC102_2018  \\\n",
       "0      Q9HCK8  14q11.2  chr14    21385194  ...           1           1   \n",
       "1      Q99250   2q24.3   chr2   165194993  ...           1           1   \n",
       "\n",
       "             ASD:DDID  ASD_vs_DDID  ASD53  DDID49                    Function  \\\n",
       "0    3.07850705163288          ASD      1       0  Gene expression regulation   \n",
       "1  0.6913147929608191         DDID      0       1      Neuronal communication   \n",
       "\n",
       "      LGD_RR    misa_RR    misb_RR  \n",
       "0  60.711380  12.347005  15.270008  \n",
       "1  80.483746   6.916012  36.717196  \n",
       "\n",
       "[2 rows x 58 columns]"
      ]
     },
     "execution_count": 72,
     "metadata": {},
     "output_type": "execute_result"
    }
   ],
   "source": [
    "asc_mut.head(2)"
   ]
  },
  {
   "cell_type": "code",
   "execution_count": 76,
   "metadata": {},
   "outputs": [
    {
     "data": {
      "text/plain": [
       "0         57680\n",
       "1          6326\n",
       "2          8831\n",
       "3         23394\n",
       "4         27086\n",
       "          ...  \n",
       "17479     57688\n",
       "17480    125150\n",
       "17481      9183\n",
       "17482     55055\n",
       "17483     79699\n",
       "Name: entrez_id, Length: 17484, dtype: object"
      ]
     },
     "execution_count": 76,
     "metadata": {},
     "output_type": "execute_result"
    }
   ],
   "source": [
    "asc_mut[\"entrez_id\"]"
   ]
  },
  {
   "cell_type": "code",
   "execution_count": 77,
   "metadata": {},
   "outputs": [
    {
     "name": "stdout",
     "output_type": "stream",
     "text": [
      "57680 Series([], Name: dn.ptv, dtype: int64)\n"
     ]
    },
    {
     "ename": "IndexError",
     "evalue": "index 0 is out of bounds for axis 0 with size 0",
     "output_type": "error",
     "traceback": [
      "\u001b[0;31m---------------------------------------------------------------------------\u001b[0m",
      "\u001b[0;31mIndexError\u001b[0m                                Traceback (most recent call last)",
      "\u001b[0;32m<ipython-input-77-b5a073ca0d3b>\u001b[0m in \u001b[0;36m<module>\u001b[0;34m\u001b[0m\n\u001b[1;32m     12\u001b[0m         \u001b[0;31m#if asc_mut.loc[gene, \"dn.ptv\"] > 3 and spark_mut.loc[gene, \"dnLGD\"] > 3:\u001b[0m\u001b[0;34m\u001b[0m\u001b[0;34m\u001b[0m\u001b[0;34m\u001b[0m\u001b[0m\n\u001b[1;32m     13\u001b[0m         \u001b[0mprint\u001b[0m\u001b[0;34m(\u001b[0m\u001b[0mgene\u001b[0m\u001b[0;34m,\u001b[0m \u001b[0masc_mut\u001b[0m\u001b[0;34m[\u001b[0m\u001b[0masc_mut\u001b[0m\u001b[0;34m[\u001b[0m\u001b[0;34m\"entrez_id\"\u001b[0m\u001b[0;34m]\u001b[0m\u001b[0;34m==\u001b[0m\u001b[0mgene\u001b[0m\u001b[0;34m]\u001b[0m\u001b[0;34m[\u001b[0m\u001b[0;34m\"dn.ptv\"\u001b[0m\u001b[0;34m]\u001b[0m\u001b[0;34m)\u001b[0m\u001b[0;34m\u001b[0m\u001b[0;34m\u001b[0m\u001b[0m\n\u001b[0;32m---> 14\u001b[0;31m         \u001b[0;32mif\u001b[0m \u001b[0masc_mut\u001b[0m\u001b[0;34m[\u001b[0m\u001b[0masc_mut\u001b[0m\u001b[0;34m[\u001b[0m\u001b[0;34m\"entrez_id\"\u001b[0m\u001b[0;34m]\u001b[0m\u001b[0;34m==\u001b[0m\u001b[0mgene\u001b[0m\u001b[0;34m]\u001b[0m\u001b[0;34m[\u001b[0m\u001b[0;34m\"dn.ptv\"\u001b[0m\u001b[0;34m]\u001b[0m\u001b[0;34m.\u001b[0m\u001b[0mvalues\u001b[0m\u001b[0;34m[\u001b[0m\u001b[0;36m0\u001b[0m\u001b[0;34m]\u001b[0m \u001b[0;34m>\u001b[0m \u001b[0;36m3\u001b[0m \u001b[0;32mand\u001b[0m \u001b[0mspark_mut\u001b[0m\u001b[0;34m[\u001b[0m\u001b[0mspark_mut\u001b[0m\u001b[0;34m[\u001b[0m\u001b[0;34m\"Entrez\"\u001b[0m\u001b[0;34m]\u001b[0m\u001b[0;34m==\u001b[0m\u001b[0mgene\u001b[0m\u001b[0;34m]\u001b[0m\u001b[0;34m[\u001b[0m\u001b[0;34m\"dnLGD\"\u001b[0m\u001b[0;34m]\u001b[0m\u001b[0;34m.\u001b[0m\u001b[0mvalues\u001b[0m\u001b[0;34m[\u001b[0m\u001b[0;36m0\u001b[0m\u001b[0;34m]\u001b[0m \u001b[0;34m>\u001b[0m \u001b[0;36m3\u001b[0m\u001b[0;34m:\u001b[0m\u001b[0;34m\u001b[0m\u001b[0;34m\u001b[0m\u001b[0m\n\u001b[0m\u001b[1;32m     15\u001b[0m             \u001b[0masc_rr1\u001b[0m\u001b[0;34m.\u001b[0m\u001b[0mappend\u001b[0m\u001b[0;34m(\u001b[0m\u001b[0masc_gene2RR\u001b[0m\u001b[0;34m[\u001b[0m\u001b[0mgene\u001b[0m\u001b[0;34m]\u001b[0m\u001b[0;34m)\u001b[0m\u001b[0;34m\u001b[0m\u001b[0;34m\u001b[0m\u001b[0m\n\u001b[1;32m     16\u001b[0m             \u001b[0mspark_rr1\u001b[0m\u001b[0;34m.\u001b[0m\u001b[0mappend\u001b[0m\u001b[0;34m(\u001b[0m\u001b[0mspark_gene2RR\u001b[0m\u001b[0;34m[\u001b[0m\u001b[0mgene\u001b[0m\u001b[0;34m]\u001b[0m\u001b[0;34m)\u001b[0m\u001b[0;34m\u001b[0m\u001b[0;34m\u001b[0m\u001b[0m\n",
      "\u001b[0;31mIndexError\u001b[0m: index 0 is out of bounds for axis 0 with size 0"
     ]
    }
   ],
   "source": [
    "## Corr of RR in common genes between ASC/SPARK\n",
    "asc_rr = []\n",
    "spark_rr = []\n",
    "asc_rr1 = []\n",
    "spark_rr1 = []\n",
    "asc_rr2 = []\n",
    "spark_rr2 = []\n",
    "for gene in asc_gene2RR.keys():\n",
    "    if gene in spark_gene2RR.keys():\n",
    "        asc_rr.append(asc_gene2RR[gene])\n",
    "        spark_rr.append(spark_gene2RR[gene])\n",
    "        #if asc_mut.loc[gene, \"dn.ptv\"] > 3 and spark_mut.loc[gene, \"dnLGD\"] > 3:\n",
    "        print(gene, asc_mut[asc_mut[\"entrez_id\"]==gene][\"dn.ptv\"])\n",
    "        if asc_mut[asc_mut[\"entrez_id\"]==gene][\"dn.ptv\"].values[0] > 3 and spark_mut[spark_mut[\"Entrez\"]==gene][\"dnLGD\"].values[0] > 3:\n",
    "            asc_rr1.append(asc_gene2RR[gene])\n",
    "            spark_rr1.append(spark_gene2RR[gene])\n",
    "        else:\n",
    "            asc_rr2.append(asc_gene2RR[gene])\n",
    "            spark_rr2.append(spark_gene2RR[gene])"
   ]
  },
  {
   "cell_type": "code",
   "execution_count": 63,
   "metadata": {},
   "outputs": [
    {
     "data": {
      "image/png": "[encoded data removed]",
      "text/plain": [
       "<Figure size 480x320 with 1 Axes>"
      ]
     },
     "metadata": {
      "needs_background": "light"
     },
     "output_type": "display_data"
    },
    {
     "name": "stdout",
     "output_type": "stream",
     "text": [
      "1\n"
     ]
    },
    {
     "ename": "ValueError",
     "evalue": "x and y must have length at least 2.",
     "output_type": "error",
     "traceback": [
      "\u001b[0;31m---------------------------------------------------------------------------\u001b[0m",
      "\u001b[0;31mValueError\u001b[0m                                Traceback (most recent call last)",
      "\u001b[0;32m<ipython-input-63-0c5290e62d2d>\u001b[0m in \u001b[0;36m<module>\u001b[0;34m\u001b[0m\n\u001b[1;32m      3\u001b[0m \u001b[0mplt\u001b[0m\u001b[0;34m.\u001b[0m\u001b[0mshow\u001b[0m\u001b[0;34m(\u001b[0m\u001b[0;34m)\u001b[0m\u001b[0;34m\u001b[0m\u001b[0;34m\u001b[0m\u001b[0m\n\u001b[1;32m      4\u001b[0m \u001b[0mprint\u001b[0m\u001b[0;34m(\u001b[0m\u001b[0mlen\u001b[0m\u001b[0;34m(\u001b[0m\u001b[0masc_rr\u001b[0m\u001b[0;34m)\u001b[0m\u001b[0;34m)\u001b[0m\u001b[0;34m\u001b[0m\u001b[0;34m\u001b[0m\u001b[0m\n\u001b[0;32m----> 5\u001b[0;31m \u001b[0mpearsonr\u001b[0m\u001b[0;34m(\u001b[0m\u001b[0masc_rr\u001b[0m\u001b[0;34m,\u001b[0m \u001b[0mspark_rr\u001b[0m\u001b[0;34m)\u001b[0m\u001b[0;34m\u001b[0m\u001b[0;34m\u001b[0m\u001b[0m\n\u001b[0m",
      "\u001b[0;32m~/anaconda3/lib/python3.7/site-packages/scipy/stats/stats.py\u001b[0m in \u001b[0;36mpearsonr\u001b[0;34m(x, y)\u001b[0m\n\u001b[1;32m   3836\u001b[0m \u001b[0;34m\u001b[0m\u001b[0m\n\u001b[1;32m   3837\u001b[0m     \u001b[0;32mif\u001b[0m \u001b[0mn\u001b[0m \u001b[0;34m<\u001b[0m \u001b[0;36m2\u001b[0m\u001b[0;34m:\u001b[0m\u001b[0;34m\u001b[0m\u001b[0;34m\u001b[0m\u001b[0m\n\u001b[0;32m-> 3838\u001b[0;31m         \u001b[0;32mraise\u001b[0m \u001b[0mValueError\u001b[0m\u001b[0;34m(\u001b[0m\u001b[0;34m'x and y must have length at least 2.'\u001b[0m\u001b[0;34m)\u001b[0m\u001b[0;34m\u001b[0m\u001b[0;34m\u001b[0m\u001b[0m\n\u001b[0m\u001b[1;32m   3839\u001b[0m \u001b[0;34m\u001b[0m\u001b[0m\n\u001b[1;32m   3840\u001b[0m     \u001b[0mx\u001b[0m \u001b[0;34m=\u001b[0m \u001b[0mnp\u001b[0m\u001b[0;34m.\u001b[0m\u001b[0masarray\u001b[0m\u001b[0;34m(\u001b[0m\u001b[0mx\u001b[0m\u001b[0;34m)\u001b[0m\u001b[0;34m\u001b[0m\u001b[0;34m\u001b[0m\u001b[0m\n",
      "\u001b[0;31mValueError\u001b[0m: x and y must have length at least 2."
     ]
    }
   ],
   "source": [
    "plt.scatter(asc_rr1, spark_rr1, color=\"green\")\n",
    "plt.scatter(asc_rr2, spark_rr2, color='red')\n",
    "plt.show()\n",
    "print(len(asc_rr))\n",
    "pearsonr(asc_rr, spark_rr)"
   ]
  },
  {
   "cell_type": "code",
   "execution_count": null,
   "metadata": {},
   "outputs": [],
   "source": [
    "1 0.1"
   ]
  },
  {
   "cell_type": "code",
   "execution_count": null,
   "metadata": {},
   "outputs": [],
   "source": [
    "x + y = "
   ]
  },
  {
   "cell_type": "code",
   "execution_count": null,
   "metadata": {},
   "outputs": [],
   "source": [
    "1.05 0.05"
   ]
  }
 ],
 "metadata": {
  "kernelspec": {
   "display_name": "Python 3",
   "language": "python",
   "name": "python3"
  },
  "language_info": {
   "codemirror_mode": {
    "name": "ipython",
    "version": 3
   },
   "file_extension": ".py",
   "mimetype": "text/x-python",
   "name": "python",
   "nbconvert_exporter": "python",
   "pygments_lexer": "ipython3",
   "version": "3.7.1"
  }
 },
 "nbformat": 4,
 "nbformat_minor": 2
}
