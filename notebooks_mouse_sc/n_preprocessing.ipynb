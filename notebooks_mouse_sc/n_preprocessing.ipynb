{
 "cells": [
  {
   "cell_type": "code",
   "execution_count": 2,
   "id": "6e5558e3",
   "metadata": {},
   "outputs": [
    {
     "name": "stderr",
     "output_type": "stream",
     "text": [
      "/home/jw3514/anaconda3/lib/python3.9/site-packages/statsmodels/compat/pandas.py:61: FutureWarning: pandas.Int64Index is deprecated and will be removed from pandas in a future version. Use pandas.Index with the appropriate dtype instead.\n",
      "  from pandas import Int64Index as NumericIndex\n"
     ]
    }
   ],
   "source": [
    "%load_ext autoreload\n",
    "%autoreload 2\n",
    "import sys\n",
    "sys.path.insert(1, '/home/jw3514/Work/CellType_Psy/src')\n",
    "from CellType_PSY import *\n",
    "import scanpy as sc\n",
    "HGNC, ENSID2Entrez, GeneSymbol2Entrez, Entrez2Symbol = LoadGeneINFO()"
   ]
  },
  {
   "cell_type": "markdown",
   "id": "752d9c5d",
   "metadata": {},
   "source": [
    "# Preprocessing"
   ]
  },
  {
   "cell_type": "code",
   "execution_count": 5,
   "id": "12b9e0a1",
   "metadata": {
    "code_folding": [
     0
    ]
   },
   "outputs": [],
   "source": [
    "def Z1Conversion(ExpMat, outname=\"test.z1.mat\"):\n",
    "    Z_mat = []\n",
    "    for g, row in ExpMat.iterrows():\n",
    "        tmp = ZscoreConverting(row.values)\n",
    "        Z_mat.append(tmp)\n",
    "    Z_mat = np.array(Z_mat)\n",
    "    CT_Z1_DF = pd.DataFrame(data=Z_mat, index=ExpMat.index.values, \n",
    "                            columns=ExpMat.columns.values)\n",
    "    CT_Z1_DF.to_csv(outname)\n",
    "    return CT_Z1_DF"
   ]
  },
  {
   "cell_type": "markdown",
   "id": "89e044ea",
   "metadata": {},
   "source": [
    "## Cell Type"
   ]
  },
  {
   "cell_type": "code",
   "execution_count": 69,
   "id": "3bb0a63e",
   "metadata": {},
   "outputs": [
    {
     "name": "stderr",
     "output_type": "stream",
     "text": [
      "/home/jw3514/Work/CellType_Psy/src/ASD_Circuits.py:70: RuntimeWarning: invalid value encountered in double_scalars\n",
      "  z = (x - mean)/std\n"
     ]
    }
   ],
   "source": [
    "MedianDF = pd.read_csv(\"dat/SC_UMI_Mats/cluster_MeanLogUMI.csv\", index_col=0)\n",
    "MedianDF_Z1 = Z1Conversion(MedianDF, \"dat/SC_UMI_Mats/cluster_V3_Z1Mat.csv\")"
   ]
  },
  {
   "cell_type": "code",
   "execution_count": 13,
   "id": "32824aeb",
   "metadata": {},
   "outputs": [],
   "source": [
    "max_Z, min_Z = 5, -5\n",
    "MedianDF_Z1_clipped = MedianDF_Z1.clip(upper=max_Z, lower=min_Z)\n",
    "MedianDF_Z1_clipped.to_csv(\"dat/SC_UMI_Mats/cluster_V3_Z1Mat.clip.csv\")"
   ]
  },
  {
   "cell_type": "code",
   "execution_count": 70,
   "id": "a8e8d58d",
   "metadata": {},
   "outputs": [],
   "source": [
    "max_Z, min_Z = 3, -3\n",
    "MedianDF_Z1_clipped3 = MedianDF_Z1.clip(upper=max_Z, lower=min_Z)\n",
    "MedianDF_Z1_clipped3.to_csv(\"dat/SC_UMI_Mats/cluster_V3_Z1Mat.clip3.csv\")"
   ]
  },
  {
   "cell_type": "code",
   "execution_count": 20,
   "id": "53bb2fad",
   "metadata": {},
   "outputs": [],
   "source": [
    "Z2_split_dir = \"/home/jw3514/Work/CellType_Psy/AllenBrainCellAtlas/dat/Z2.Split/ClusterV3_UMI_ISHMatch_Z2/\"\n",
    "DFs = []\n",
    "for file in os.listdir(Z2_split_dir):\n",
    "    df = pd.read_csv(Z2_split_dir + file, index_col = 0)\n",
    "    DFs.append(df)\n",
    "Z2_MAt = pd.concat(DFs)\n",
    "Z2_MAt.to_csv(\"dat/SC_UMI_Mats//Cluster_Z2Mat_ISHMatch.csv\")"
   ]
  },
  {
   "cell_type": "code",
   "execution_count": 3,
   "id": "85404fa0",
   "metadata": {},
   "outputs": [],
   "source": [
    "# Combine Zclip3\n",
    "Z2_split_dir = \"/home/jw3514/Work/CellType_Psy/AllenBrainCellAtlas/dat/Z2.Split/ClusterV3_UMI_ISHMatch_z1cplip3_Z2//\"\n",
    "DFs = []\n",
    "for file in os.listdir(Z2_split_dir):\n",
    "    df = pd.read_csv(Z2_split_dir + file, index_col = 0)\n",
    "    DFs.append(df)\n",
    "Z2_MAt = pd.concat(DFs)\n",
    "Z2_MAt.to_csv(\"dat/SC_UMI_Mats//Cluster_Z2Mat_ISHMatch.z1clip3.csv\")"
   ]
  },
  {
   "cell_type": "code",
   "execution_count": null,
   "id": "5cc7b155",
   "metadata": {},
   "outputs": [],
   "source": []
  },
  {
   "cell_type": "code",
   "execution_count": 15,
   "id": "34424903",
   "metadata": {},
   "outputs": [],
   "source": [
    "Z2_Z1clip5 = pd.read_csv(\"dat/SC_UMI_Mats//Cluster_Z2Mat_ISHMatch.csv\", index_col=0)\n",
    "Z2_Z1clip3 = pd.read_csv(\"dat/SC_UMI_Mats//Cluster_Z2Mat_ISHMatch.z1clip3.csv\", index_col=0)"
   ]
  },
  {
   "cell_type": "code",
   "execution_count": 16,
   "id": "6411949d",
   "metadata": {},
   "outputs": [],
   "source": [
    "genes = Z2_Z1clip3.index.values"
   ]
  },
  {
   "cell_type": "code",
   "execution_count": 17,
   "id": "b2b846b1",
   "metadata": {},
   "outputs": [
    {
     "data": {
      "text/html": [
       "<div>\n",
       "<style scoped>\n",
       "    .dataframe tbody tr th:only-of-type {\n",
       "        vertical-align: middle;\n",
       "    }\n",
       "\n",
       "    .dataframe tbody tr th {\n",
       "        vertical-align: top;\n",
       "    }\n",
       "\n",
       "    .dataframe thead th {\n",
       "        text-align: right;\n",
       "    }\n",
       "</style>\n",
       "<table border=\"1\" class=\"dataframe\">\n",
       "  <thead>\n",
       "    <tr style=\"text-align: right;\">\n",
       "      <th></th>\n",
       "      <th>0001 CLA-EPd-CTX Car3 Glut_1</th>\n",
       "      <th>0002 CLA-EPd-CTX Car3 Glut_1</th>\n",
       "      <th>0003 CLA-EPd-CTX Car3 Glut_1</th>\n",
       "      <th>0004 CLA-EPd-CTX Car3 Glut_1</th>\n",
       "      <th>0005 CLA-EPd-CTX Car3 Glut_2</th>\n",
       "      <th>0006 IT EP-CLA Glut_1</th>\n",
       "      <th>0007 IT EP-CLA Glut_1</th>\n",
       "      <th>0008 IT EP-CLA Glut_1</th>\n",
       "      <th>0009 IT EP-CLA Glut_1</th>\n",
       "      <th>0010 IT EP-CLA Glut_1</th>\n",
       "      <th>...</th>\n",
       "      <th>5313 BAM NN_1</th>\n",
       "      <th>5314 BAM NN_1</th>\n",
       "      <th>5315 Monocytes NN_1</th>\n",
       "      <th>5316 DC NN_1</th>\n",
       "      <th>5317 DC NN_1</th>\n",
       "      <th>5318 DC NN_1</th>\n",
       "      <th>5319 B cells NN_1</th>\n",
       "      <th>5320 ILC NN_2</th>\n",
       "      <th>5321 NK cells NN_3</th>\n",
       "      <th>5322 T cells NN_4</th>\n",
       "    </tr>\n",
       "  </thead>\n",
       "  <tbody>\n",
       "    <tr>\n",
       "      <th>4026</th>\n",
       "      <td>-1.368285</td>\n",
       "      <td>-1.985172</td>\n",
       "      <td>-2.605926</td>\n",
       "      <td>-1.580151</td>\n",
       "      <td>-1.491348</td>\n",
       "      <td>-2.700678</td>\n",
       "      <td>-2.749591</td>\n",
       "      <td>-1.651863</td>\n",
       "      <td>-1.789041</td>\n",
       "      <td>-2.095699</td>\n",
       "      <td>...</td>\n",
       "      <td>0.036018</td>\n",
       "      <td>0.056495</td>\n",
       "      <td>-0.501134</td>\n",
       "      <td>-0.098495</td>\n",
       "      <td>0.648926</td>\n",
       "      <td>0.223753</td>\n",
       "      <td>0.344987</td>\n",
       "      <td>-0.245598</td>\n",
       "      <td>0.007265</td>\n",
       "      <td>-0.088779</td>\n",
       "    </tr>\n",
       "    <tr>\n",
       "      <th>285386</th>\n",
       "      <td>-0.451323</td>\n",
       "      <td>-0.551024</td>\n",
       "      <td>-0.133967</td>\n",
       "      <td>-0.337516</td>\n",
       "      <td>-0.203270</td>\n",
       "      <td>-0.513539</td>\n",
       "      <td>-0.385356</td>\n",
       "      <td>0.138846</td>\n",
       "      <td>-0.708439</td>\n",
       "      <td>-0.434136</td>\n",
       "      <td>...</td>\n",
       "      <td>0.171248</td>\n",
       "      <td>0.122395</td>\n",
       "      <td>0.275833</td>\n",
       "      <td>-0.113096</td>\n",
       "      <td>-0.082444</td>\n",
       "      <td>0.005902</td>\n",
       "      <td>0.195109</td>\n",
       "      <td>0.256879</td>\n",
       "      <td>0.105698</td>\n",
       "      <td>0.163597</td>\n",
       "    </tr>\n",
       "  </tbody>\n",
       "</table>\n",
       "<p>2 rows × 5312 columns</p>\n",
       "</div>"
      ],
      "text/plain": [
       "        0001 CLA-EPd-CTX Car3 Glut_1  0002 CLA-EPd-CTX Car3 Glut_1  \\\n",
       "4026                       -1.368285                     -1.985172   \n",
       "285386                     -0.451323                     -0.551024   \n",
       "\n",
       "        0003 CLA-EPd-CTX Car3 Glut_1  0004 CLA-EPd-CTX Car3 Glut_1  \\\n",
       "4026                       -2.605926                     -1.580151   \n",
       "285386                     -0.133967                     -0.337516   \n",
       "\n",
       "        0005 CLA-EPd-CTX Car3 Glut_2  0006 IT EP-CLA Glut_1  \\\n",
       "4026                       -1.491348              -2.700678   \n",
       "285386                     -0.203270              -0.513539   \n",
       "\n",
       "        0007 IT EP-CLA Glut_1  0008 IT EP-CLA Glut_1  0009 IT EP-CLA Glut_1  \\\n",
       "4026                -2.749591              -1.651863              -1.789041   \n",
       "285386              -0.385356               0.138846              -0.708439   \n",
       "\n",
       "        0010 IT EP-CLA Glut_1  ...  5313 BAM NN_1  5314 BAM NN_1  \\\n",
       "4026                -2.095699  ...       0.036018       0.056495   \n",
       "285386              -0.434136  ...       0.171248       0.122395   \n",
       "\n",
       "        5315 Monocytes NN_1  5316 DC NN_1  5317 DC NN_1  5318 DC NN_1  \\\n",
       "4026              -0.501134     -0.098495      0.648926      0.223753   \n",
       "285386             0.275833     -0.113096     -0.082444      0.005902   \n",
       "\n",
       "        5319 B cells NN_1  5320 ILC NN_2  5321 NK cells NN_3  \\\n",
       "4026             0.344987      -0.245598            0.007265   \n",
       "285386           0.195109       0.256879            0.105698   \n",
       "\n",
       "        5322 T cells NN_4  \n",
       "4026            -0.088779  \n",
       "285386           0.163597  \n",
       "\n",
       "[2 rows x 5312 columns]"
      ]
     },
     "execution_count": 17,
     "metadata": {},
     "output_type": "execute_result"
    }
   ],
   "source": [
    "Z2_Z1clip5.head(2)"
   ]
  },
  {
   "cell_type": "code",
   "execution_count": 18,
   "id": "4aa90feb",
   "metadata": {},
   "outputs": [],
   "source": [
    "ct = \"0001 CLA-EPd-CTX Car3 Glut_1\"\n",
    "X = Z2_Z1clip5.loc[genes, ct]\n",
    "Y = Z2_Z1clip3.loc[genes, ct]"
   ]
  },
  {
   "cell_type": "code",
   "execution_count": 22,
   "id": "663937a9",
   "metadata": {},
   "outputs": [
    {
     "data": {
      "image/png": "[encoded data removed]",
      "text/plain": [
       "<Figure size 432x288 with 1 Axes>"
      ]
     },
     "metadata": {
      "needs_background": "light"
     },
     "output_type": "display_data"
    }
   ],
   "source": [
    "plt.scatter(X,Y,s=0.5)\n",
    "plt.plot([-5,8], [-5, 8], color=\"grey\")\n",
    "plt.grid(True)"
   ]
  },
  {
   "cell_type": "code",
   "execution_count": 20,
   "id": "54ed3327",
   "metadata": {},
   "outputs": [
    {
     "data": {
      "text/plain": [
       "<AxesSubplot: xlabel='0001 CLA-EPd-CTX Car3 Glut_1', ylabel='Density'>"
      ]
     },
     "execution_count": 20,
     "metadata": {},
     "output_type": "execute_result"
    },
    {
     "data": {
      "image/png": "[encoded data removed]",
      "text/plain": [
       "<Figure size 432x288 with 1 Axes>"
      ]
     },
     "metadata": {
      "needs_background": "light"
     },
     "output_type": "display_data"
    }
   ],
   "source": [
    "sns.kdeplot(X)\n",
    "sns.kdeplot(Y)"
   ]
  },
  {
   "cell_type": "code",
   "execution_count": null,
   "id": "d25cb9a2",
   "metadata": {},
   "outputs": [],
   "source": []
  },
  {
   "cell_type": "code",
   "execution_count": null,
   "id": "b56edfa3",
   "metadata": {},
   "outputs": [],
   "source": []
  },
  {
   "cell_type": "markdown",
   "id": "e6b02930",
   "metadata": {
    "heading_collapsed": true
   },
   "source": [
    "##### Test Check Z1 cal"
   ]
  },
  {
   "cell_type": "code",
   "execution_count": 33,
   "id": "bdff77cd",
   "metadata": {
    "hidden": true
   },
   "outputs": [],
   "source": [
    "sys.path.insert(1, '/home/jw3514/Work/CellType_Psy/AllenBrainCellAtlas/scripts')\n",
    "from script_Z2_calculation import *"
   ]
  },
  {
   "cell_type": "code",
   "execution_count": 41,
   "id": "100e5884",
   "metadata": {
    "code_folding": [],
    "hidden": true
   },
   "outputs": [],
   "source": [
    "class fakeargs:\n",
    "    def __init__(self, Z1mat, matchDIR):\n",
    "        self.input = Z1mat\n",
    "        self.match = matchDIR\n",
    "        self.start = 1\n",
    "        self.step = 1\n",
    "        self.outdir = \"\""
   ]
  },
  {
   "cell_type": "code",
   "execution_count": 42,
   "id": "2c942a0e",
   "metadata": {
    "hidden": true
   },
   "outputs": [],
   "source": [
    "Z1mat = \"dat/SC_UMI_Mats/cluster_V3_Z1Mat.clip.csv\"\n",
    "matchDIR = \"/home/jw3514/Work/ASD_Circuits/dat/genes/ExpMatch_RootExp_uniform_kernal/\""
   ]
  },
  {
   "cell_type": "code",
   "execution_count": 43,
   "id": "c869fa8d",
   "metadata": {
    "hidden": true
   },
   "outputs": [],
   "source": [
    "args = fakeargs(Z1mat, matchDIR)\n",
    "ins = script_Z2_calculation(args)"
   ]
  },
  {
   "cell_type": "code",
   "execution_count": 44,
   "id": "86d50d11",
   "metadata": {
    "hidden": true
   },
   "outputs": [],
   "source": [
    "entrez=1\n",
    "match_genes = loadgenelist(ins.matchDir+\"/{}.csv\".format(entrez), toint=True)\n",
    "match_genes = [int(g) for g in match_genes if g in ins.z1_mat.index.values]\n",
    "match_genes = match_genes[:1000]"
   ]
  },
  {
   "cell_type": "code",
   "execution_count": 58,
   "id": "51c858ed",
   "metadata": {
    "hidden": true
   },
   "outputs": [],
   "source": [
    "STR = \"0494 OB Eomes Ms4a15 Glut_4\"\n",
    "gene = entrez\n",
    "z_gene = ins.z1_mat.loc[gene, STR]\n",
    "z_matches = [ins.z1_mat.loc[g, STR] for g in match_genes]\n",
    "z_matches2 = [x for x in z_matches if x == x]\n",
    "b = (z_gene - np.mean(z_matches2)) / np.std(z_matches2)"
   ]
  },
  {
   "cell_type": "code",
   "execution_count": 59,
   "id": "eba13b94",
   "metadata": {
    "hidden": true
   },
   "outputs": [
    {
     "name": "stdout",
     "output_type": "stream",
     "text": [
      "1000 1000 987\n"
     ]
    }
   ],
   "source": [
    "print(len(match_genes), len(z_matches), len(z_matches2))"
   ]
  },
  {
   "cell_type": "code",
   "execution_count": 61,
   "id": "7d24bea3",
   "metadata": {
    "hidden": true
   },
   "outputs": [],
   "source": [
    "z_matches22 = [(g,x) for (g,x) in zip(match_genes, z_matches) if x == x]"
   ]
  },
  {
   "cell_type": "code",
   "execution_count": 65,
   "id": "ed2c852a",
   "metadata": {
    "hidden": true
   },
   "outputs": [],
   "source": [
    "with open(\"Entrez_1_CT_0494_MatchZ1.txt\", \"wt\") as f:\n",
    "    for g,z in z_matches22:\n",
    "        f.write(\"{},{}\\n\".format(g,z))"
   ]
  },
  {
   "cell_type": "code",
   "execution_count": 49,
   "id": "f576d49d",
   "metadata": {
    "hidden": true
   },
   "outputs": [
    {
     "name": "stdout",
     "output_type": "stream",
     "text": [
      "5.262477384884109\n"
     ]
    }
   ],
   "source": [
    "print(b)"
   ]
  },
  {
   "cell_type": "code",
   "execution_count": 52,
   "id": "766e9286",
   "metadata": {
    "hidden": true
   },
   "outputs": [
    {
     "name": "stdout",
     "output_type": "stream",
     "text": [
      "5.0\n",
      "0.0025883036216507124 0.9496310066306163\n"
     ]
    }
   ],
   "source": [
    "print(z_gene)\n",
    "print(np.mean(z_matches), np.std(z_matches))"
   ]
  },
  {
   "cell_type": "code",
   "execution_count": 53,
   "id": "de9fd7e6",
   "metadata": {
    "hidden": true
   },
   "outputs": [
    {
     "name": "stdout",
     "output_type": "stream",
     "text": [
      "987\n"
     ]
    }
   ],
   "source": [
    "print(len(z_matches))"
   ]
  },
  {
   "cell_type": "code",
   "execution_count": 57,
   "id": "d597ea0f",
   "metadata": {
    "hidden": true
   },
   "outputs": [
    {
     "data": {
      "text/plain": [
       "False"
      ]
     },
     "execution_count": 57,
     "metadata": {},
     "output_type": "execute_result"
    }
   ],
   "source": [
    "np.nan == np.nan"
   ]
  },
  {
   "cell_type": "markdown",
   "id": "8d59af75",
   "metadata": {
    "heading_collapsed": true
   },
   "source": [
    "## MERFISH"
   ]
  },
  {
   "cell_type": "code",
   "execution_count": 8,
   "id": "a9356d22",
   "metadata": {
    "code_folding": [
     0
    ],
    "hidden": true
   },
   "outputs": [],
   "source": [
    "def quantile_normalize(df):\n",
    "    ranks = df.rank(method='min', na_option='keep')\n",
    "    sorted_df = np.sort(df.values, axis=0)\n",
    "    nan_mask = np.isnan(df.values)\n",
    "    sorted_df[nan_mask] = 0\n",
    "    means = np.nanmean(np.where(nan_mask, np.nan, sorted_df), axis=1)\n",
    "    means[np.isnan(sorted_df).all(axis=1)] = np.nan\n",
    "    rank_mean_dict = {rank: mean for rank, mean in zip(np.arange(1, len(means)+1), means)}\n",
    "    normalized_df = ranks.applymap(lambda x: rank_mean_dict.get(x, np.nan))\n",
    "\n",
    "    return normalized_df"
   ]
  },
  {
   "cell_type": "code",
   "execution_count": 6,
   "id": "a899e86f",
   "metadata": {
    "hidden": true
   },
   "outputs": [
    {
     "name": "stderr",
     "output_type": "stream",
     "text": [
      "/tmp/ipykernel_42829/3316840270.py:1: DtypeWarning: Columns (2,3,8,9,10,21,22,23,24,25,26,27) have mixed types. Specify dtype option on import or set low_memory=False.\n",
      "  MERFISH_STRAnn = pd.read_csv(\"/home/jw3514/Work/CellType_Psy/AllenBrainCellAtlas/dat/MERFISH/MERFISH.ISH_Annot.csv\", index_col=0)\n"
     ]
    }
   ],
   "source": [
    "MERFISH_STRAnn = pd.read_csv(\"/home/jw3514/Work/CellType_Psy/AllenBrainCellAtlas/dat/MERFISH/MERFISH.ISH_Annot.csv\", index_col=0)"
   ]
  },
  {
   "cell_type": "code",
   "execution_count": 13,
   "id": "cab818bb",
   "metadata": {
    "hidden": true
   },
   "outputs": [],
   "source": [
    "## Annotate EXP: script_STR_SC_ExpMat.py"
   ]
  },
  {
   "cell_type": "code",
   "execution_count": 4,
   "id": "0ee5eeac",
   "metadata": {
    "hidden": true
   },
   "outputs": [],
   "source": [
    "MERFISH_CellMeanExp = pd.read_csv(\"dat/MERFISH/STR_Cell_Mean_DF.UMI.csv\", index_col=0)\n",
    "MERFISH_VolMeanExp = pd.read_csv(\"dat/MERFISH/STR_Vol_Mean_DF.UMI.csv\", index_col=0)"
   ]
  },
  {
   "cell_type": "code",
   "execution_count": 6,
   "id": "e3a090a7",
   "metadata": {
    "hidden": true
   },
   "outputs": [
    {
     "name": "stderr",
     "output_type": "stream",
     "text": [
      "/home/jw3514/Work/CellType_Psy/src/ASD_Circuits.py:70: RuntimeWarning: invalid value encountered in double_scalars\n",
      "  z = (x - mean)/std\n",
      "/home/jw3514/Work/CellType_Psy/src/ASD_Circuits.py:70: RuntimeWarning: invalid value encountered in double_scalars\n",
      "  z = (x - mean)/std\n"
     ]
    }
   ],
   "source": [
    "MERFISH_CellMean_Z1 = Z1Conversion(MERFISH_CellMeanExp, \"dat/MERFISH/STR_Cell_Mean_Z1Mat.csv\")\n",
    "MERFISH_VolMean_Z1 = Z1Conversion(MERFISH_VolMeanExp, \"dat/MERFISH/STR_Vol_Mean_Z1Mat.csv\")"
   ]
  },
  {
   "cell_type": "code",
   "execution_count": 7,
   "id": "b2daac4a",
   "metadata": {
    "hidden": true
   },
   "outputs": [],
   "source": [
    "max_Z, min_Z = 5, -5\n",
    "DF_Z1_clipped = MERFISH_CellMean_Z1.clip(upper=max_Z, lower=min_Z)\n",
    "DF_Z1_clipped.to_csv(\"dat/MERFISH/STR_Cell_Mean_Z1Mat.clip.csv\")\n",
    "\n",
    "max_Z, min_Z = 5, -5\n",
    "DF_Z1_clipped = MERFISH_VolMean_Z1.clip(upper=max_Z, lower=min_Z)\n",
    "DF_Z1_clipped.to_csv( \"dat/MERFISH/STR_Vol_Mean_Z1Mat.clip.csv\")"
   ]
  },
  {
   "cell_type": "code",
   "execution_count": 9,
   "id": "cc042af3",
   "metadata": {
    "hidden": true
   },
   "outputs": [],
   "source": [
    "MERFISH_VolMeanExp_EXP_QN = quantile_normalize(MERFISH_VolMeanExp)\n",
    "MERFISH_VolMeanExp_QN_Z1 = Z1Conversion(MERFISH_VolMeanExp_EXP_QN, \"dat/MERFISH/STR_Vol_Mean_QNZ1Mat.csv\")"
   ]
  },
  {
   "cell_type": "code",
   "execution_count": 16,
   "id": "956462a4",
   "metadata": {
    "hidden": true
   },
   "outputs": [],
   "source": [
    "MERFISH_CellMeanExp = pd.read_csv(\"dat/MERFISH_Zhuang/STR_Cell_Mean_DF.UMI.csv\", index_col=0)\n",
    "MERFISH_VolMeanExp = pd.read_csv(\"dat/MERFISH_Zhuang/STR_Vol_Mean_DF.UMI.csv\", index_col=0)"
   ]
  },
  {
   "cell_type": "code",
   "execution_count": 17,
   "id": "f1f4b914",
   "metadata": {
    "hidden": true
   },
   "outputs": [
    {
     "name": "stderr",
     "output_type": "stream",
     "text": [
      "/home/jw3514/Work/CellType_Psy/src/ASD_Circuits.py:70: RuntimeWarning: invalid value encountered in double_scalars\n",
      "  z = (x - mean)/std\n",
      "/home/jw3514/Work/CellType_Psy/src/ASD_Circuits.py:70: RuntimeWarning: invalid value encountered in double_scalars\n",
      "  z = (x - mean)/std\n"
     ]
    }
   ],
   "source": [
    "MERFISH_CellMean_Z1 = Z1Conversion(MERFISH_CellMeanExp, \"dat/MERFISH_Zhuang/STR_Cell_Mean_Z1Mat.csv\")\n",
    "MERFISH_VolMean_Z1 = Z1Conversion(MERFISH_VolMeanExp, \"dat/MERFISH_Zhuang/STR_Vol_Mean_Z1Mat.csv\")"
   ]
  },
  {
   "cell_type": "code",
   "execution_count": 18,
   "id": "80e89c3c",
   "metadata": {
    "hidden": true
   },
   "outputs": [],
   "source": [
    "max_Z, min_Z = 5, -5\n",
    "DF_Z1_clipped = MERFISH_CellMean_Z1.clip(upper=max_Z, lower=min_Z)\n",
    "DF_Z1_clipped.to_csv(\"dat/MERFISH_Zhuang/STR_Cell_Mean_Z1Mat.clip.csv\")\n",
    "\n",
    "max_Z, min_Z = 5, -5\n",
    "DF_Z1_clipped = MERFISH_VolMean_Z1.clip(upper=max_Z, lower=min_Z)\n",
    "DF_Z1_clipped.to_csv( \"dat/MERFISH_Zhuang/STR_Vol_Mean_Z1Mat.clip.csv\")"
   ]
  },
  {
   "cell_type": "code",
   "execution_count": 4,
   "id": "27a509a0",
   "metadata": {
    "hidden": true
   },
   "outputs": [],
   "source": [
    "MERFISH_NEU_MeanExp = pd.read_csv(\"dat/MERFISH/STR_NEU_Mean_DF.UMI.csv\", index_col=0)"
   ]
  },
  {
   "cell_type": "code",
   "execution_count": 7,
   "id": "93896e69",
   "metadata": {
    "hidden": true
   },
   "outputs": [
    {
     "name": "stderr",
     "output_type": "stream",
     "text": [
      "/home/jw3514/Work/CellType_Psy/src/ASD_Circuits.py:70: RuntimeWarning: invalid value encountered in double_scalars\n",
      "  z = (x - mean)/std\n"
     ]
    }
   ],
   "source": [
    "MERFISH_NEU_Z1 = Z1Conversion(MERFISH_NEU_MeanExp, \"dat/MERFISH/STR_NEU_Mean_Z1Mat.csv\")\n",
    "max_Z, min_Z = 5, -5\n",
    "DF_Z1_clipped = MERFISH_NEU_Z1.clip(upper=max_Z, lower=min_Z)\n",
    "DF_Z1_clipped.to_csv(\"dat/MERFISH/STR_NEU_Mean_Z1Mat.clip.csv\")"
   ]
  },
  {
   "cell_type": "code",
   "execution_count": 12,
   "id": "dd6c956f",
   "metadata": {
    "hidden": true
   },
   "outputs": [
    {
     "name": "stderr",
     "output_type": "stream",
     "text": [
      "/home/jw3514/Work/CellType_Psy/src/ASD_Circuits.py:70: RuntimeWarning: invalid value encountered in double_scalars\n",
      "  z = (x - mean)/std\n"
     ]
    }
   ],
   "source": [
    "MERFISH_NEU_Vol_MeanExp = pd.read_csv(\"dat/MERFISH/STR_NEU_Vol_Mean_DF.UMI.csv\", index_col=0)\n",
    "MERFISH_NEU_Vol_Z1 = Z1Conversion(MERFISH_NEU_Vol_MeanExp, \"dat/MERFISH/STR_NEU_Vol_Mean_Z1Mat.csv\")\n",
    "max_Z, min_Z = 5, -5\n",
    "DF_Z1_clipped = MERFISH_NEU_Vol_Z1.clip(upper=max_Z, lower=min_Z)\n",
    "DF_Z1_clipped.to_csv(\"dat/MERFISH/STR_NEU_Vol_Mean_Z1Mat.clip.csv\")"
   ]
  },
  {
   "cell_type": "code",
   "execution_count": 13,
   "id": "9b110a70",
   "metadata": {
    "hidden": true
   },
   "outputs": [
    {
     "data": {
      "text/html": [
       "<div>\n",
       "<style scoped>\n",
       "    .dataframe tbody tr th:only-of-type {\n",
       "        vertical-align: middle;\n",
       "    }\n",
       "\n",
       "    .dataframe tbody tr th {\n",
       "        vertical-align: top;\n",
       "    }\n",
       "\n",
       "    .dataframe thead th {\n",
       "        text-align: right;\n",
       "    }\n",
       "</style>\n",
       "<table border=\"1\" class=\"dataframe\">\n",
       "  <thead>\n",
       "    <tr style=\"text-align: right;\">\n",
       "      <th></th>\n",
       "      <th>Frontal pole cerebral cortex</th>\n",
       "      <th>Primary motor area</th>\n",
       "      <th>Secondary motor area</th>\n",
       "      <th>Primary somatosensory area nose</th>\n",
       "      <th>Primary somatosensory area barrel field</th>\n",
       "      <th>Primary somatosensory area lower limb</th>\n",
       "      <th>Primary somatosensory area mouth</th>\n",
       "      <th>Primary somatosensory area upper limb</th>\n",
       "      <th>Primary somatosensory area trunk</th>\n",
       "      <th>Supplemental somatosensory area</th>\n",
       "      <th>...</th>\n",
       "      <th>Pyramus VIII</th>\n",
       "      <th>Nodulus X</th>\n",
       "      <th>Simple lobule</th>\n",
       "      <th>Ansiform lobule</th>\n",
       "      <th>Paramedian lobule</th>\n",
       "      <th>Paraflocculus</th>\n",
       "      <th>Flocculus</th>\n",
       "      <th>Fastigial nucleus</th>\n",
       "      <th>Interposed nucleus</th>\n",
       "      <th>Dentate nucleus</th>\n",
       "    </tr>\n",
       "  </thead>\n",
       "  <tbody>\n",
       "    <tr>\n",
       "      <th>114786</th>\n",
       "      <td>0.007287</td>\n",
       "      <td>0.017782</td>\n",
       "      <td>0.016941</td>\n",
       "      <td>0.019084</td>\n",
       "      <td>0.021972</td>\n",
       "      <td>0.020816</td>\n",
       "      <td>0.021806</td>\n",
       "      <td>0.019340</td>\n",
       "      <td>0.014409</td>\n",
       "      <td>0.018819</td>\n",
       "      <td>...</td>\n",
       "      <td>0.005552</td>\n",
       "      <td>0.014220</td>\n",
       "      <td>0.016265</td>\n",
       "      <td>0.010392</td>\n",
       "      <td>0.006234</td>\n",
       "      <td>0.009139</td>\n",
       "      <td>0.012645</td>\n",
       "      <td>0.004848</td>\n",
       "      <td>0.005195</td>\n",
       "      <td>0.008882</td>\n",
       "    </tr>\n",
       "    <tr>\n",
       "      <th>6101</th>\n",
       "      <td>0.000023</td>\n",
       "      <td>0.000054</td>\n",
       "      <td>0.000054</td>\n",
       "      <td>0.000052</td>\n",
       "      <td>0.000061</td>\n",
       "      <td>0.000061</td>\n",
       "      <td>0.000063</td>\n",
       "      <td>0.000056</td>\n",
       "      <td>0.000043</td>\n",
       "      <td>0.000058</td>\n",
       "      <td>...</td>\n",
       "      <td>0.000021</td>\n",
       "      <td>0.000066</td>\n",
       "      <td>0.000072</td>\n",
       "      <td>0.000042</td>\n",
       "      <td>0.000024</td>\n",
       "      <td>0.000038</td>\n",
       "      <td>0.000052</td>\n",
       "      <td>0.000016</td>\n",
       "      <td>0.000025</td>\n",
       "      <td>0.000042</td>\n",
       "    </tr>\n",
       "  </tbody>\n",
       "</table>\n",
       "<p>2 rows × 212 columns</p>\n",
       "</div>"
      ],
      "text/plain": [
       "        Frontal pole cerebral cortex  Primary motor area  \\\n",
       "114786                      0.007287            0.017782   \n",
       "6101                        0.000023            0.000054   \n",
       "\n",
       "        Secondary motor area  Primary somatosensory area nose  \\\n",
       "114786              0.016941                         0.019084   \n",
       "6101                0.000054                         0.000052   \n",
       "\n",
       "        Primary somatosensory area barrel field  \\\n",
       "114786                                 0.021972   \n",
       "6101                                   0.000061   \n",
       "\n",
       "        Primary somatosensory area lower limb  \\\n",
       "114786                               0.020816   \n",
       "6101                                 0.000061   \n",
       "\n",
       "        Primary somatosensory area mouth  \\\n",
       "114786                          0.021806   \n",
       "6101                            0.000063   \n",
       "\n",
       "        Primary somatosensory area upper limb  \\\n",
       "114786                               0.019340   \n",
       "6101                                 0.000056   \n",
       "\n",
       "        Primary somatosensory area trunk  Supplemental somatosensory area  \\\n",
       "114786                          0.014409                         0.018819   \n",
       "6101                            0.000043                         0.000058   \n",
       "\n",
       "        ...  Pyramus VIII  Nodulus X  Simple lobule  Ansiform lobule  \\\n",
       "114786  ...      0.005552   0.014220       0.016265         0.010392   \n",
       "6101    ...      0.000021   0.000066       0.000072         0.000042   \n",
       "\n",
       "        Paramedian lobule  Paraflocculus  Flocculus  Fastigial nucleus  \\\n",
       "114786           0.006234       0.009139   0.012645           0.004848   \n",
       "6101             0.000024       0.000038   0.000052           0.000016   \n",
       "\n",
       "        Interposed nucleus  Dentate nucleus  \n",
       "114786            0.005195         0.008882  \n",
       "6101              0.000025         0.000042  \n",
       "\n",
       "[2 rows x 212 columns]"
      ]
     },
     "execution_count": 13,
     "metadata": {},
     "output_type": "execute_result"
    }
   ],
   "source": [
    "MERFISH_NEU_Vol_MeanExp.head(2)"
   ]
  },
  {
   "cell_type": "code",
   "execution_count": null,
   "id": "3a9e98c0",
   "metadata": {
    "hidden": true
   },
   "outputs": [],
   "source": []
  },
  {
   "cell_type": "code",
   "execution_count": 11,
   "id": "bbb51e80",
   "metadata": {
    "hidden": true
   },
   "outputs": [
    {
     "name": "stderr",
     "output_type": "stream",
     "text": [
      "/home/jw3514/Work/CellType_Psy/src/ASD_Circuits.py:70: RuntimeWarning: invalid value encountered in double_scalars\n",
      "  z = (x - mean)/std\n"
     ]
    }
   ],
   "source": [
    "MERFISH_CellMeanExp_EXP_QN = quantile_normalize(MERFISH_CellMeanExp)\n",
    "MERFISH_CellMeanExp_QN_Z1 = Z1Conversion(MERFISH_CellMeanExp_EXP_QN, \"dat/MERFISH/STR_Cell_Mean_QNZ1Mat.csv\")"
   ]
  },
  {
   "cell_type": "code",
   "execution_count": 15,
   "id": "87c800a4",
   "metadata": {
    "hidden": true
   },
   "outputs": [],
   "source": [
    "Z2_split_dir = \"/home/jw3514/Work/CellType_Psy/AllenBrainCellAtlas/dat/Z2.Split/MERFISH_Allen_CellMean_UMI_ISHMatch_Z2/\"\n",
    "DFs = []\n",
    "for file in os.listdir(Z2_split_dir):\n",
    "    df = pd.read_csv(Z2_split_dir + file, index_col = 0)\n",
    "    DFs.append(df)\n",
    "Z2_MAt = pd.concat(DFs)\n",
    "Z2_MAt.to_csv(\"dat/MERFISH/STR_Cell_Mean_Z2Mat_ISHMatch.csv\")\n",
    "\n",
    "Z2_split_dir = \"/home/jw3514/Work/CellType_Psy/AllenBrainCellAtlas/dat/Z2.Split/MERFISH_Allen_VolMean_UMI_ISHMatch_Z2/\"\n",
    "DFs = []\n",
    "for file in os.listdir(Z2_split_dir):\n",
    "    df = pd.read_csv(Z2_split_dir + file, index_col = 0)\n",
    "    DFs.append(df)\n",
    "Z2_MAt = pd.concat(DFs)\n",
    "Z2_MAt.to_csv(\"dat/MERFISH/STR_Vol_Mean_Z2Mat_ISHMatch.csv\")"
   ]
  },
  {
   "cell_type": "code",
   "execution_count": 8,
   "id": "2d28ca85",
   "metadata": {
    "hidden": true
   },
   "outputs": [],
   "source": [
    "Z2_split_dir = \"/home/jw3514/Work/CellType_Psy/AllenBrainCellAtlas/dat/Z2.Split/MERFISH_Allen_NEU_Mean_UMI_ISHMatch_Z2/\"\n",
    "DFs = []\n",
    "for file in os.listdir(Z2_split_dir):\n",
    "    df = pd.read_csv(Z2_split_dir + file, index_col = 0)\n",
    "    DFs.append(df)\n",
    "Z2_MAt = pd.concat(DFs)\n",
    "Z2_MAt.to_csv(\"dat/MERFISH/STR_NEUR_Mean_Z2Mat_ISHMatch.csv\")"
   ]
  },
  {
   "cell_type": "code",
   "execution_count": 14,
   "id": "93a124be",
   "metadata": {
    "hidden": true
   },
   "outputs": [],
   "source": [
    "Z2_split_dir = \"/home/jw3514/Work/CellType_Psy/AllenBrainCellAtlas/dat/Z2.Split/MERFISH_Allen_NEU_Vol_Mean_UMI_ISHMatch_Z2/\"\n",
    "DFs = []\n",
    "for file in os.listdir(Z2_split_dir):\n",
    "    df = pd.read_csv(Z2_split_dir + file, index_col = 0)\n",
    "    DFs.append(df)\n",
    "Z2_MAt = pd.concat(DFs)\n",
    "Z2_MAt.to_csv(\"dat/MERFISH/STR_NEUR_Vol_Mean_Z2Mat_ISHMatch.csv\")"
   ]
  },
  {
   "cell_type": "code",
   "execution_count": 19,
   "id": "62e48899",
   "metadata": {
    "hidden": true
   },
   "outputs": [],
   "source": [
    "Z2_split_dir = \"/home/jw3514/Work/CellType_Psy/AllenBrainCellAtlas/dat/Z2.Split/MERFISH_MIT_CellMean_UMI_ISHMatch_Z2/\"\n",
    "DFs = []\n",
    "for file in os.listdir(Z2_split_dir):\n",
    "    df = pd.read_csv(Z2_split_dir + file, index_col = 0)\n",
    "    DFs.append(df)\n",
    "Z2_MAt = pd.concat(DFs)\n",
    "Z2_MAt.to_csv(\"dat/MERFISH_Zhuang/STR_Cell_Mean_Z2Mat_ISHMatch.csv\")\n",
    "\n",
    "Z2_split_dir = \"/home/jw3514/Work/CellType_Psy/AllenBrainCellAtlas/dat/Z2.Split/MERFISH_MIT_VolMean_UMI_ISHMatch_Z2/\"\n",
    "DFs = []\n",
    "for file in os.listdir(Z2_split_dir):\n",
    "    df = pd.read_csv(Z2_split_dir + file, index_col = 0)\n",
    "    DFs.append(df)\n",
    "Z2_MAt = pd.concat(DFs)\n",
    "Z2_MAt.to_csv(\"dat/MERFISH_Zhuang/STR_Vol_Mean_Z2Mat_ISHMatch.csv\")"
   ]
  },
  {
   "cell_type": "code",
   "execution_count": null,
   "id": "7744de0e",
   "metadata": {
    "hidden": true
   },
   "outputs": [],
   "source": []
  },
  {
   "cell_type": "markdown",
   "id": "3f7fc224",
   "metadata": {
    "heading_collapsed": true,
    "hidden": true
   },
   "source": [
    "#### Experssion Matching Based on MERFISH"
   ]
  },
  {
   "cell_type": "code",
   "execution_count": 3,
   "id": "da143324",
   "metadata": {
    "hidden": true
   },
   "outputs": [
    {
     "name": "stderr",
     "output_type": "stream",
     "text": [
      "/tmp/ipykernel_163938/3316840270.py:1: DtypeWarning: Columns (2,3,8,9,10,21,22,23,24,25,26,27) have mixed types. Specify dtype option on import or set low_memory=False.\n",
      "  MERFISH_STRAnn = pd.read_csv(\"/home/jw3514/Work/CellType_Psy/AllenBrainCellAtlas/dat/MERFISH/MERFISH.ISH_Annot.csv\", index_col=0)\n"
     ]
    }
   ],
   "source": [
    "MERFISH_STRAnn = pd.read_csv(\"/home/jw3514/Work/CellType_Psy/AllenBrainCellAtlas/dat/MERFISH/MERFISH.ISH_Annot.csv\", index_col=0)"
   ]
  },
  {
   "cell_type": "code",
   "execution_count": 4,
   "id": "0a534651",
   "metadata": {
    "hidden": true
   },
   "outputs": [],
   "source": [
    "ClusterExpDF = pd.read_csv(\"dat/SC_UMI_Mats/cluster_MeanLogUMI.csv\", index_col=0)"
   ]
  },
  {
   "cell_type": "code",
   "execution_count": 10,
   "id": "23241aa7",
   "metadata": {
    "hidden": true
   },
   "outputs": [],
   "source": [
    "Total_Exp_Genes = np.zeros(ClusterExpDF.shape[0])\n",
    "for c, row in MERFISH_STRAnn.iterrows():\n",
    "    cluster = row[\"cluster\"]\n",
    "    if cluster in ClusterExpDF.columns.values:\n",
    "        exp = ClusterExpDF[cluster]\n",
    "        Total_Exp_Genes += exp"
   ]
  },
  {
   "cell_type": "code",
   "execution_count": 15,
   "id": "97eb01ca",
   "metadata": {
    "hidden": true
   },
   "outputs": [
    {
     "data": {
      "text/plain": [
       "Int64Index([   114786,      6101,     64321,     29088,     10434,      6917,\n",
       "                 8601,     51606,      4986,      2831,\n",
       "            ...\n",
       "            107075310,      4509,      4508,      4514,      4537,      4539,\n",
       "                 4538,      4540,      4541,      4519],\n",
       "           dtype='int64', length=17938)"
      ]
     },
     "execution_count": 15,
     "metadata": {},
     "output_type": "execute_result"
    }
   ],
   "source": [
    "Total_Exp_Genes.index"
   ]
  },
  {
   "cell_type": "code",
   "execution_count": 27,
   "id": "bc4dd6d6",
   "metadata": {
    "hidden": true
   },
   "outputs": [],
   "source": [
    "WB_ExpDF = pd.DataFrame(Total_Exp_Genes)\n",
    "WB_ExpDF.columns=[\"TotalExp\"]"
   ]
  },
  {
   "cell_type": "code",
   "execution_count": 30,
   "id": "8f7ebd5a",
   "metadata": {
    "hidden": true
   },
   "outputs": [],
   "source": [
    "WB_ExpDF = WB_ExpDF.sort_values(\"TotalExp\")\n",
    "WB_ExpDF[\"Rank\"] = [1+x for x in range(WB_ExpDF.shape[0])] # compute Rank\n",
    "WB_ExpDF[\"quantile\"] = WB_ExpDF[\"Rank\"]/WB_ExpDF.shape[0]\n",
    "WB_ExpDF.to_csv(\"MouseMERFISHGeneMatchQuantile.csv\")"
   ]
  },
  {
   "cell_type": "code",
   "execution_count": 31,
   "id": "d0fdbb0f",
   "metadata": {
    "hidden": true
   },
   "outputs": [
    {
     "data": {
      "text/html": [
       "<div>\n",
       "<style scoped>\n",
       "    .dataframe tbody tr th:only-of-type {\n",
       "        vertical-align: middle;\n",
       "    }\n",
       "\n",
       "    .dataframe tbody tr th {\n",
       "        vertical-align: top;\n",
       "    }\n",
       "\n",
       "    .dataframe thead th {\n",
       "        text-align: right;\n",
       "    }\n",
       "</style>\n",
       "<table border=\"1\" class=\"dataframe\">\n",
       "  <thead>\n",
       "    <tr style=\"text-align: right;\">\n",
       "      <th></th>\n",
       "      <th>TotalExp</th>\n",
       "      <th>Rank</th>\n",
       "      <th>quantile</th>\n",
       "    </tr>\n",
       "  </thead>\n",
       "  <tbody>\n",
       "    <tr>\n",
       "      <th>2657</th>\n",
       "      <td>0.000000e+00</td>\n",
       "      <td>1</td>\n",
       "      <td>0.000056</td>\n",
       "    </tr>\n",
       "    <tr>\n",
       "      <th>83897</th>\n",
       "      <td>0.000000e+00</td>\n",
       "      <td>2</td>\n",
       "      <td>0.000111</td>\n",
       "    </tr>\n",
       "    <tr>\n",
       "      <th>337972</th>\n",
       "      <td>0.000000e+00</td>\n",
       "      <td>3</td>\n",
       "      <td>0.000167</td>\n",
       "    </tr>\n",
       "    <tr>\n",
       "      <th>8926</th>\n",
       "      <td>0.000000e+00</td>\n",
       "      <td>4</td>\n",
       "      <td>0.000223</td>\n",
       "    </tr>\n",
       "    <tr>\n",
       "      <th>474381</th>\n",
       "      <td>0.000000e+00</td>\n",
       "      <td>5</td>\n",
       "      <td>0.000279</td>\n",
       "    </tr>\n",
       "    <tr>\n",
       "      <th>...</th>\n",
       "      <td>...</td>\n",
       "      <td>...</td>\n",
       "      <td>...</td>\n",
       "    </tr>\n",
       "    <tr>\n",
       "      <th>4512</th>\n",
       "      <td>2.320334e+07</td>\n",
       "      <td>17934</td>\n",
       "      <td>0.999777</td>\n",
       "    </tr>\n",
       "    <tr>\n",
       "      <th>107075310</th>\n",
       "      <td>2.328927e+07</td>\n",
       "      <td>17935</td>\n",
       "      <td>0.999833</td>\n",
       "    </tr>\n",
       "    <tr>\n",
       "      <th>4513</th>\n",
       "      <td>2.328927e+07</td>\n",
       "      <td>17936</td>\n",
       "      <td>0.999889</td>\n",
       "    </tr>\n",
       "    <tr>\n",
       "      <th>4514</th>\n",
       "      <td>2.361706e+07</td>\n",
       "      <td>17937</td>\n",
       "      <td>0.999944</td>\n",
       "    </tr>\n",
       "    <tr>\n",
       "      <th>4508</th>\n",
       "      <td>2.606428e+07</td>\n",
       "      <td>17938</td>\n",
       "      <td>1.000000</td>\n",
       "    </tr>\n",
       "  </tbody>\n",
       "</table>\n",
       "<p>17938 rows × 3 columns</p>\n",
       "</div>"
      ],
      "text/plain": [
       "               TotalExp   Rank  quantile\n",
       "2657       0.000000e+00      1  0.000056\n",
       "83897      0.000000e+00      2  0.000111\n",
       "337972     0.000000e+00      3  0.000167\n",
       "8926       0.000000e+00      4  0.000223\n",
       "474381     0.000000e+00      5  0.000279\n",
       "...                 ...    ...       ...\n",
       "4512       2.320334e+07  17934  0.999777\n",
       "107075310  2.328927e+07  17935  0.999833\n",
       "4513       2.328927e+07  17936  0.999889\n",
       "4514       2.361706e+07  17937  0.999944\n",
       "4508       2.606428e+07  17938  1.000000\n",
       "\n",
       "[17938 rows x 3 columns]"
      ]
     },
     "execution_count": 31,
     "metadata": {},
     "output_type": "execute_result"
    }
   ],
   "source": [
    "WB_ExpDF"
   ]
  },
  {
   "cell_type": "code",
   "execution_count": null,
   "id": "42d80c73",
   "metadata": {
    "hidden": true
   },
   "outputs": [],
   "source": []
  }
 ],
 "metadata": {
  "kernelspec": {
   "display_name": "Python 3 (ipykernel)",
   "language": "python",
   "name": "python3"
  },
  "language_info": {
   "codemirror_mode": {
    "name": "ipython",
    "version": 3
   },
   "file_extension": ".py",
   "mimetype": "text/x-python",
   "name": "python",
   "nbconvert_exporter": "python",
   "pygments_lexer": "ipython3",
   "version": "3.9.12"
  }
 },
 "nbformat": 4,
 "nbformat_minor": 5
}
