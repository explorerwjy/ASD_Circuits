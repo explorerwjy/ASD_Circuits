{
 "cells": [
  {
   "cell_type": "code",
   "execution_count": 17,
   "metadata": {},
   "outputs": [
    {
     "name": "stdout",
     "output_type": "stream",
     "text": [
      "The autoreload extension is already loaded. To reload it, use:\n",
      "  %reload_ext autoreload\n"
     ]
    }
   ],
   "source": [
    "%load_ext autoreload\n",
    "%autoreload 2\n",
    "from ASD_Circuits import *\n",
    "\n",
    "HGNC = pd.read_csv(\"/Users/jiayao/Work/Resources/protein-coding_gene.txt\", delimiter=\"\\t\")\n",
    "GeneSymbol2Entrez = dict(zip(HGNC[\"symbol\"].values, HGNC[\"entrez_id\"].values))"
   ]
  },
  {
   "cell_type": "markdown",
   "metadata": {},
   "source": [
    "# ASD"
   ]
  },
  {
   "cell_type": "code",
   "execution_count": null,
   "metadata": {},
   "outputs": [],
   "source": []
  },
  {
   "cell_type": "code",
   "execution_count": null,
   "metadata": {},
   "outputs": [],
   "source": []
  },
  {
   "cell_type": "code",
   "execution_count": null,
   "metadata": {},
   "outputs": [],
   "source": []
  },
  {
   "cell_type": "code",
   "execution_count": null,
   "metadata": {},
   "outputs": [],
   "source": []
  },
  {
   "cell_type": "markdown",
   "metadata": {},
   "source": [
    "# SCZ"
   ]
  },
  {
   "cell_type": "code",
   "execution_count": 3,
   "metadata": {},
   "outputs": [],
   "source": [
    "# Jan 2020 SCZ paper\n",
    "Howrigan_2020_gene_df = pd.read_excel(\"/Users/jiayao/Work/ASD_Circuits/dat/genes/scz/raw/SCZ_TW_Recrrent_PTV_Missense.xlsx\")\n",
    "\n",
    "Howrigan_2020_CB = Howrigan_2020_gene_df[Howrigan_2020_gene_df[\"Cohort\"]==\"CB\"]\n",
    "Howrigan_2020_TW = Howrigan_2020_gene_df[Howrigan_2020_gene_df[\"Cohort\"]==\"TW\"]"
   ]
  },
  {
   "cell_type": "code",
   "execution_count": 27,
   "metadata": {},
   "outputs": [],
   "source": [
    "# Recurrent PTV\n",
    "Howrigan_2020_CB_LGD = Howrigan_2020_CB[Howrigan_2020_CB[\"PTV count\"]>1]\n",
    "Howrigan_2020_TW_LGD = Howrigan_2020_TW[Howrigan_2020_TW[\"PTV count\"]>1]\n",
    "Howrigan_2020_LGD = list(Howrigan_2020_CB_LGD[\"gene\"].values) + list(Howrigan_2020_TW_LGD[\"gene\"].values)\n",
    "Howrigan_2020_LGD = list(set([GeneSymbol2Entrez[x] for x in Howrigan_2020_LGD if x in GeneSymbol2Entrez]))\n",
    "WriteGeneList(Howrigan_2020_LGD, \"/Users/jiayao/Work/ASD_Circuits/dat/genes/scz/Howrigan_2020_rec_LGD.txt\")"
   ]
  },
  {
   "cell_type": "code",
   "execution_count": 29,
   "metadata": {},
   "outputs": [],
   "source": [
    "# PTV with at least one missense\n",
    "Howrigan_2020_CB_LGD = Howrigan_2020_CB[Howrigan_2020_CB[\"PTV count\"]>=1]\n",
    "Howrigan_2020_TW_LGD = Howrigan_2020_TW[Howrigan_2020_TW[\"PTV count\"]>=1]\n",
    "Howrigan_2020_LGD = list(Howrigan_2020_CB_LGD[\"gene\"].values) + list(Howrigan_2020_TW_LGD[\"gene\"].values)\n",
    "Howrigan_2020_LGD = list(set([GeneSymbol2Entrez[x] for x in Howrigan_2020_LGD if x in GeneSymbol2Entrez]))\n",
    "WriteGeneList(Howrigan_2020_LGD, \"/Users/jiayao/Work/ASD_Circuits/dat/genes/scz/Howrigan_2020_LGD.txt\")"
   ]
  },
  {
   "cell_type": "code",
   "execution_count": 35,
   "metadata": {},
   "outputs": [],
   "source": [
    "# Rec genes\n",
    "Howrigan_2020 = list(Howrigan_2020_CB[\"gene\"].values) + list(Howrigan_2020_TW[\"gene\"].values)\n",
    "Howrigan_2020 = list(set([GeneSymbol2Entrez[x] for x in Howrigan_2020 if x in GeneSymbol2Entrez]))\n",
    "WriteGeneList(Howrigan_2020, \"/Users/jiayao/Work/ASD_Circuits/dat/genes/scz/Howrigan_2020_rec.txt\")"
   ]
  },
  {
   "cell_type": "code",
   "execution_count": null,
   "metadata": {},
   "outputs": [],
   "source": []
  }
 ],
 "metadata": {
  "kernelspec": {
   "display_name": "Python 3",
   "language": "python",
   "name": "python3"
  },
  "language_info": {
   "codemirror_mode": {
    "name": "ipython",
    "version": 3
   },
   "file_extension": ".py",
   "mimetype": "text/x-python",
   "name": "python",
   "nbconvert_exporter": "python",
   "pygments_lexer": "ipython3",
   "version": "3.7.1"
  }
 },
 "nbformat": 4,
 "nbformat_minor": 2
}
