{
 "cells": [
  {
   "cell_type": "code",
   "execution_count": 88,
   "metadata": {},
   "outputs": [
    {
     "name": "stdout",
     "output_type": "stream",
     "text": [
      "The autoreload extension is already loaded. To reload it, use:\n",
      "  %reload_ext autoreload\n"
     ]
    }
   ],
   "source": [
    "%load_ext autoreload\n",
    "%autoreload 2\n",
    "from ASD_Circuits import *"
   ]
  },
  {
   "cell_type": "code",
   "execution_count": 91,
   "metadata": {},
   "outputs": [],
   "source": [
    "# Load Exp Zscore Matrix\n",
    "ExpMat = \"../dat/allen-mouse-exp/energy-conn-model.csv\"\n",
    "ExpMat = pd.read_csv(ExpMat, index_col=\"ROW\")\n",
    "\n",
    "ExpZscoreMat = \"../dat/allen-mouse-exp/energy-zscore-conn-model.csv\"\n",
    "ExpZscoreMat = pd.read_csv(ExpZscoreMat, index_col=\"ROW\")\n",
    "allen_mouse_genes = loadgenelist(\"/Users/jiayao/Work/ASD_Circuits/dat/allen-mouse-exp/allen-mouse-gene_entrez.txt\")"
   ]
  },
  {
   "cell_type": "code",
   "execution_count": 7,
   "metadata": {},
   "outputs": [
    {
     "data": {
      "text/html": [
       "<div>\n",
       "<style scoped>\n",
       "    .dataframe tbody tr th:only-of-type {\n",
       "        vertical-align: middle;\n",
       "    }\n",
       "\n",
       "    .dataframe tbody tr th {\n",
       "        vertical-align: top;\n",
       "    }\n",
       "\n",
       "    .dataframe thead th {\n",
       "        text-align: right;\n",
       "    }\n",
       "</style>\n",
       "<table border=\"1\" class=\"dataframe\">\n",
       "  <thead>\n",
       "    <tr style=\"text-align: right;\">\n",
       "      <th></th>\n",
       "      <th>Anterior_amygdalar_area</th>\n",
       "      <th>Anterior_cingulate_area_dorsal_part</th>\n",
       "      <th>Anterior_cingulate_area_ventral_part</th>\n",
       "      <th>Nucleus_accumbens</th>\n",
       "      <th>Anterodorsal_nucleus</th>\n",
       "      <th>Anterior_hypothalamic_nucleus</th>\n",
       "      <th>Agranular_insular_area_dorsal_part</th>\n",
       "      <th>Agranular_insular_area_posterior_part</th>\n",
       "      <th>Agranular_insular_area_ventral_part</th>\n",
       "      <th>Nucleus_ambiguus</th>\n",
       "      <th>...</th>\n",
       "      <th>Primary_visual_area</th>\n",
       "      <th>Posterolateral_visual_area</th>\n",
       "      <th>posteromedial_visual_area</th>\n",
       "      <th>Ventral_medial_nucleus_of_the_thalamus</th>\n",
       "      <th>Ventromedial_hypothalamic_nucleus</th>\n",
       "      <th>Ventral_posterolateral_nucleus_of_the_thalamus</th>\n",
       "      <th>Ventral_posteromedial_nucleus_of_the_thalamus</th>\n",
       "      <th>Ventral_posteromedial_nucleus_of_the_thalamus_parvicellular_part</th>\n",
       "      <th>Ventral_tegmental_area</th>\n",
       "      <th>Hypoglossal_nucleus</th>\n",
       "    </tr>\n",
       "    <tr>\n",
       "      <th>ROW</th>\n",
       "      <th></th>\n",
       "      <th></th>\n",
       "      <th></th>\n",
       "      <th></th>\n",
       "      <th></th>\n",
       "      <th></th>\n",
       "      <th></th>\n",
       "      <th></th>\n",
       "      <th></th>\n",
       "      <th></th>\n",
       "      <th></th>\n",
       "      <th></th>\n",
       "      <th></th>\n",
       "      <th></th>\n",
       "      <th></th>\n",
       "      <th></th>\n",
       "      <th></th>\n",
       "      <th></th>\n",
       "      <th></th>\n",
       "      <th></th>\n",
       "      <th></th>\n",
       "    </tr>\n",
       "  </thead>\n",
       "  <tbody>\n",
       "    <tr>\n",
       "      <th>1</th>\n",
       "      <td>0.089402</td>\n",
       "      <td>0.060138</td>\n",
       "      <td>0.050112</td>\n",
       "      <td>0.023204</td>\n",
       "      <td>0.034093</td>\n",
       "      <td>0.088305</td>\n",
       "      <td>0.036078</td>\n",
       "      <td>NaN</td>\n",
       "      <td>0.046813</td>\n",
       "      <td>0.032990</td>\n",
       "      <td>...</td>\n",
       "      <td>0.035584</td>\n",
       "      <td>0.179587</td>\n",
       "      <td>0.021418</td>\n",
       "      <td>0.030367</td>\n",
       "      <td>0.115622</td>\n",
       "      <td>0.036984</td>\n",
       "      <td>0.053407</td>\n",
       "      <td>0.033779</td>\n",
       "      <td>0.110354</td>\n",
       "      <td>0.134065</td>\n",
       "    </tr>\n",
       "    <tr>\n",
       "      <th>2</th>\n",
       "      <td>0.040017</td>\n",
       "      <td>0.014211</td>\n",
       "      <td>0.023246</td>\n",
       "      <td>0.024009</td>\n",
       "      <td>0.403265</td>\n",
       "      <td>0.025202</td>\n",
       "      <td>0.354581</td>\n",
       "      <td>0.058713</td>\n",
       "      <td>0.145883</td>\n",
       "      <td>0.022381</td>\n",
       "      <td>...</td>\n",
       "      <td>0.043141</td>\n",
       "      <td>0.005781</td>\n",
       "      <td>0.213674</td>\n",
       "      <td>0.052746</td>\n",
       "      <td>0.038968</td>\n",
       "      <td>0.016603</td>\n",
       "      <td>0.018719</td>\n",
       "      <td>0.035381</td>\n",
       "      <td>0.122850</td>\n",
       "      <td>1.065840</td>\n",
       "    </tr>\n",
       "    <tr>\n",
       "      <th>9</th>\n",
       "      <td>0.148632</td>\n",
       "      <td>0.026984</td>\n",
       "      <td>0.002614</td>\n",
       "      <td>0.022323</td>\n",
       "      <td>0.058371</td>\n",
       "      <td>0.011842</td>\n",
       "      <td>0.058527</td>\n",
       "      <td>0.004481</td>\n",
       "      <td>0.026373</td>\n",
       "      <td>0.290885</td>\n",
       "      <td>...</td>\n",
       "      <td>0.016260</td>\n",
       "      <td>0.003517</td>\n",
       "      <td>0.028695</td>\n",
       "      <td>0.004277</td>\n",
       "      <td>0.214487</td>\n",
       "      <td>0.014443</td>\n",
       "      <td>0.016323</td>\n",
       "      <td>0.020207</td>\n",
       "      <td>0.046851</td>\n",
       "      <td>0.162448</td>\n",
       "    </tr>\n",
       "  </tbody>\n",
       "</table>\n",
       "<p>3 rows × 213 columns</p>\n",
       "</div>"
      ],
      "text/plain": [
       "     Anterior_amygdalar_area  Anterior_cingulate_area_dorsal_part  \\\n",
       "ROW                                                                 \n",
       "1                   0.089402                             0.060138   \n",
       "2                   0.040017                             0.014211   \n",
       "9                   0.148632                             0.026984   \n",
       "\n",
       "     Anterior_cingulate_area_ventral_part  Nucleus_accumbens  \\\n",
       "ROW                                                            \n",
       "1                                0.050112           0.023204   \n",
       "2                                0.023246           0.024009   \n",
       "9                                0.002614           0.022323   \n",
       "\n",
       "     Anterodorsal_nucleus  Anterior_hypothalamic_nucleus  \\\n",
       "ROW                                                        \n",
       "1                0.034093                       0.088305   \n",
       "2                0.403265                       0.025202   \n",
       "9                0.058371                       0.011842   \n",
       "\n",
       "     Agranular_insular_area_dorsal_part  \\\n",
       "ROW                                       \n",
       "1                              0.036078   \n",
       "2                              0.354581   \n",
       "9                              0.058527   \n",
       "\n",
       "     Agranular_insular_area_posterior_part  \\\n",
       "ROW                                          \n",
       "1                                      NaN   \n",
       "2                                 0.058713   \n",
       "9                                 0.004481   \n",
       "\n",
       "     Agranular_insular_area_ventral_part  Nucleus_ambiguus  ...  \\\n",
       "ROW                                                         ...   \n",
       "1                               0.046813          0.032990  ...   \n",
       "2                               0.145883          0.022381  ...   \n",
       "9                               0.026373          0.290885  ...   \n",
       "\n",
       "     Primary_visual_area  Posterolateral_visual_area  \\\n",
       "ROW                                                    \n",
       "1               0.035584                    0.179587   \n",
       "2               0.043141                    0.005781   \n",
       "9               0.016260                    0.003517   \n",
       "\n",
       "     posteromedial_visual_area  Ventral_medial_nucleus_of_the_thalamus  \\\n",
       "ROW                                                                      \n",
       "1                     0.021418                                0.030367   \n",
       "2                     0.213674                                0.052746   \n",
       "9                     0.028695                                0.004277   \n",
       "\n",
       "     Ventromedial_hypothalamic_nucleus  \\\n",
       "ROW                                      \n",
       "1                             0.115622   \n",
       "2                             0.038968   \n",
       "9                             0.214487   \n",
       "\n",
       "     Ventral_posterolateral_nucleus_of_the_thalamus  \\\n",
       "ROW                                                   \n",
       "1                                          0.036984   \n",
       "2                                          0.016603   \n",
       "9                                          0.014443   \n",
       "\n",
       "     Ventral_posteromedial_nucleus_of_the_thalamus  \\\n",
       "ROW                                                  \n",
       "1                                         0.053407   \n",
       "2                                         0.018719   \n",
       "9                                         0.016323   \n",
       "\n",
       "     Ventral_posteromedial_nucleus_of_the_thalamus_parvicellular_part  \\\n",
       "ROW                                                                     \n",
       "1                                             0.033779                  \n",
       "2                                             0.035381                  \n",
       "9                                             0.020207                  \n",
       "\n",
       "     Ventral_tegmental_area  Hypoglossal_nucleus  \n",
       "ROW                                               \n",
       "1                  0.110354             0.134065  \n",
       "2                  0.122850             1.065840  \n",
       "9                  0.046851             0.162448  \n",
       "\n",
       "[3 rows x 213 columns]"
      ]
     },
     "execution_count": 7,
     "metadata": {},
     "output_type": "execute_result"
    }
   ],
   "source": [
    "ExpMat.head(3)"
   ]
  },
  {
   "cell_type": "code",
   "execution_count": 19,
   "metadata": {},
   "outputs": [],
   "source": [
    "# Load Brainspan expressions\n",
    "match_feature = pd.read_csv(\"/Users/jiayao/Work/ASD_Circuits/src/dat/match-features.csv\", index_col=\"GENE\")\n",
    "match_feature = match_feature.sort_values(\"EXP\")\n",
    "match_feature[\"Rank\"] = [1+x for x in range(match_feature.shape[0])]"
   ]
  },
  {
   "cell_type": "code",
   "execution_count": 20,
   "metadata": {},
   "outputs": [
    {
     "data": {
      "text/html": [
       "<div>\n",
       "<style scoped>\n",
       "    .dataframe tbody tr th:only-of-type {\n",
       "        vertical-align: middle;\n",
       "    }\n",
       "\n",
       "    .dataframe tbody tr th {\n",
       "        vertical-align: top;\n",
       "    }\n",
       "\n",
       "    .dataframe thead th {\n",
       "        text-align: right;\n",
       "    }\n",
       "</style>\n",
       "<table border=\"1\" class=\"dataframe\">\n",
       "  <thead>\n",
       "    <tr style=\"text-align: right;\">\n",
       "      <th></th>\n",
       "      <th>EXP</th>\n",
       "      <th>LENGTH.LOG2</th>\n",
       "      <th>Rank</th>\n",
       "    </tr>\n",
       "    <tr>\n",
       "      <th>GENE</th>\n",
       "      <th></th>\n",
       "      <th></th>\n",
       "      <th></th>\n",
       "    </tr>\n",
       "  </thead>\n",
       "  <tbody>\n",
       "    <tr>\n",
       "      <th>56300</th>\n",
       "      <td>0.009033</td>\n",
       "      <td>8.994353</td>\n",
       "      <td>1</td>\n",
       "    </tr>\n",
       "    <tr>\n",
       "      <th>5169</th>\n",
       "      <td>0.009169</td>\n",
       "      <td>11.359750</td>\n",
       "      <td>2</td>\n",
       "    </tr>\n",
       "    <tr>\n",
       "      <th>7380</th>\n",
       "      <td>0.009705</td>\n",
       "      <td>9.754888</td>\n",
       "      <td>3</td>\n",
       "    </tr>\n",
       "  </tbody>\n",
       "</table>\n",
       "</div>"
      ],
      "text/plain": [
       "            EXP  LENGTH.LOG2  Rank\n",
       "GENE                              \n",
       "56300  0.009033     8.994353     1\n",
       "5169   0.009169    11.359750     2\n",
       "7380   0.009705     9.754888     3"
      ]
     },
     "execution_count": 20,
     "metadata": {},
     "output_type": "execute_result"
    }
   ],
   "source": [
    "match_feature.head(3)"
   ]
  },
  {
   "cell_type": "code",
   "execution_count": 80,
   "metadata": {},
   "outputs": [],
   "source": [
    "## Match gene set with exp-match genes\n",
    "asd_ssc = loadgenelist(\"../dat/genes/Jon.ssc.txt\")\n",
    "df = ExpressionMatchGeneSet(asd_ssc, match_feature)"
   ]
  },
  {
   "cell_type": "code",
   "execution_count": 82,
   "metadata": {},
   "outputs": [],
   "source": [
    "df.to_csv(\"dat/asd_ssc_exp_matches_1000.csv\")"
   ]
  },
  {
   "cell_type": "code",
   "execution_count": 84,
   "metadata": {},
   "outputs": [
    {
     "data": {
      "text/html": [
       "<div>\n",
       "<style scoped>\n",
       "    .dataframe tbody tr th:only-of-type {\n",
       "        vertical-align: middle;\n",
       "    }\n",
       "\n",
       "    .dataframe tbody tr th {\n",
       "        vertical-align: top;\n",
       "    }\n",
       "\n",
       "    .dataframe thead th {\n",
       "        text-align: right;\n",
       "    }\n",
       "</style>\n",
       "<table border=\"1\" class=\"dataframe\">\n",
       "  <thead>\n",
       "    <tr style=\"text-align: right;\">\n",
       "      <th></th>\n",
       "      <th>1</th>\n",
       "      <th>2</th>\n",
       "      <th>3</th>\n",
       "      <th>4</th>\n",
       "      <th>5</th>\n",
       "      <th>6</th>\n",
       "      <th>7</th>\n",
       "      <th>8</th>\n",
       "      <th>9</th>\n",
       "      <th>10</th>\n",
       "      <th>...</th>\n",
       "      <th>991</th>\n",
       "      <th>992</th>\n",
       "      <th>993</th>\n",
       "      <th>994</th>\n",
       "      <th>995</th>\n",
       "      <th>996</th>\n",
       "      <th>997</th>\n",
       "      <th>998</th>\n",
       "      <th>999</th>\n",
       "      <th>1000</th>\n",
       "    </tr>\n",
       "  </thead>\n",
       "  <tbody>\n",
       "    <tr>\n",
       "      <th>29123</th>\n",
       "      <td>388403</td>\n",
       "      <td>11083</td>\n",
       "      <td>27072</td>\n",
       "      <td>782</td>\n",
       "      <td>140467</td>\n",
       "      <td>57181</td>\n",
       "      <td>7419</td>\n",
       "      <td>29123</td>\n",
       "      <td>221545</td>\n",
       "      <td>1351</td>\n",
       "      <td>...</td>\n",
       "      <td>81565</td>\n",
       "      <td>140707</td>\n",
       "      <td>23304</td>\n",
       "      <td>59353</td>\n",
       "      <td>9879</td>\n",
       "      <td>10971</td>\n",
       "      <td>221545</td>\n",
       "      <td>726</td>\n",
       "      <td>54329</td>\n",
       "      <td>55621</td>\n",
       "    </tr>\n",
       "    <tr>\n",
       "      <th>10438</th>\n",
       "      <td>121355</td>\n",
       "      <td>79781</td>\n",
       "      <td>10160</td>\n",
       "      <td>147111</td>\n",
       "      <td>162993</td>\n",
       "      <td>29920</td>\n",
       "      <td>23569</td>\n",
       "      <td>374907</td>\n",
       "      <td>2018</td>\n",
       "      <td>29777</td>\n",
       "      <td>...</td>\n",
       "      <td>23244</td>\n",
       "      <td>84287</td>\n",
       "      <td>10507</td>\n",
       "      <td>29777</td>\n",
       "      <td>644186</td>\n",
       "      <td>113612</td>\n",
       "      <td>79781</td>\n",
       "      <td>340351</td>\n",
       "      <td>162993</td>\n",
       "      <td>23244</td>\n",
       "    </tr>\n",
       "  </tbody>\n",
       "</table>\n",
       "<p>2 rows × 1000 columns</p>\n",
       "</div>"
      ],
      "text/plain": [
       "         1      2      3       4       5      6      7       8       9     \\\n",
       "29123  388403  11083  27072     782  140467  57181   7419   29123  221545   \n",
       "10438  121355  79781  10160  147111  162993  29920  23569  374907    2018   \n",
       "\n",
       "        10    ...   991     992    993    994     995     996     997   \\\n",
       "29123   1351  ...  81565  140707  23304  59353    9879   10971  221545   \n",
       "10438  29777  ...  23244   84287  10507  29777  644186  113612   79781   \n",
       "\n",
       "         998     999    1000  \n",
       "29123     726   54329  55621  \n",
       "10438  340351  162993  23244  \n",
       "\n",
       "[2 rows x 1000 columns]"
      ]
     },
     "execution_count": 84,
     "metadata": {},
     "output_type": "execute_result"
    }
   ],
   "source": [
    "df.head(2)"
   ]
  },
  {
   "cell_type": "code",
   "execution_count": 109,
   "metadata": {},
   "outputs": [
    {
     "name": "stderr",
     "output_type": "stream",
     "text": [
      "/Users/jiayao/Work/ASD_Circuits/src/ASD_Circuits.py:274: FutureWarning: \n",
      "Passing list-likes to .loc or [] with any missing label will raise\n",
      "KeyError in the future, you can use .reindex() as an alternative.\n",
      "\n",
      "See the documentation here:\n",
      "https://pandas.pydata.org/pandas-docs/stable/user_guide/indexing.html#deprecate-loc-reindex-listlike\n",
      "  DZzscore = ZscoreMat[STR].loc[np.array(DZgenes)].values\n"
     ]
    }
   ],
   "source": [
    "asd_ssc_new_eff = ZscoreAVGWithExpMatch(ExpZscoreMat, asd_ssc, df)"
   ]
  },
  {
   "cell_type": "code",
   "execution_count": 110,
   "metadata": {},
   "outputs": [],
   "source": [
    "asd_ssc_new_eff = asd_ssc_new_eff.sort_values(\"EFF_Z\", ascending=False)\n",
    "asd_ssc_new_eff = asd_ssc_new_eff.reset_index()\n",
    "asd_ssc_new_eff[\"Rank\"] = [x+1 for x in asd_ssc_new_eff.index]\n",
    "asd_ssc_new_eff.to_csv(\"dat/asd.ssc.zmatch.rank.csv\", index=False)"
   ]
  },
  {
   "cell_type": "code",
   "execution_count": null,
   "metadata": {},
   "outputs": [],
   "source": []
  },
  {
   "cell_type": "code",
   "execution_count": null,
   "metadata": {},
   "outputs": [],
   "source": []
  },
  {
   "cell_type": "code",
   "execution_count": 77,
   "metadata": {},
   "outputs": [
    {
     "name": "stdout",
     "output_type": "stream",
     "text": [
      "15.640750629108 15344 201\n"
     ]
    }
   ],
   "source": [
    "gene = 476\n",
    "gene_exp = match_feature.loc[gene, \"EXP\"]\n",
    "gene_rank = match_feature.loc[gene, \"Rank\"]\n",
    "Interval = match_feature[(match_feature[\"Rank\"] >= gene_rank-100) &\n",
    "                                (match_feature[\"Rank\"] <= gene_rank+100)]\n",
    "print(gene_exp, gene_rank, Interval.shape[0])\n",
    "Interval_genes = Interval.index.values\n",
    "Interval_exps = Interval[\"EXP\"].values\n",
    "Interval_genes_probs = assignProb(Interval_exps)\n",
    "match_genes = np.random.choice(Interval_genes, size = 100, replace=True, p = Interval_genes_probs)"
   ]
  },
  {
   "cell_type": "code",
   "execution_count": 78,
   "metadata": {},
   "outputs": [
    {
     "name": "stdout",
     "output_type": "stream",
     "text": [
      "4.575293287539193e-14\n",
      "6.0166405036879045e-06\n",
      "6.5202367605682585e-06\n",
      "1.4416345973282906e-05\n",
      "2.7404735801649015e-05\n",
      "4.2651960387107076e-05\n",
      "4.302433895559392e-05\n",
      "0.00010142776893711864\n",
      "0.00011083446379461016\n",
      "0.0001390897748744922\n",
      "0.00014325251408646978\n",
      "0.00015396048511785203\n",
      "0.0001892369757613745\n",
      "0.00020656163827813056\n",
      "0.00023029064926824354\n",
      "0.00024775039062272886\n",
      "0.0002825678141700824\n",
      "0.00029620046279692084\n",
      "0.0003108906962762566\n",
      "0.0004123685482879233\n",
      "0.00045964147065600565\n",
      "0.0005006215340630439\n",
      "0.0005478593266584684\n",
      "0.0006979394659313318\n",
      "0.0006992628530560158\n",
      "0.0007155107978538404\n",
      "0.0008130042660580749\n",
      "0.0008657241941652591\n",
      "0.0009774098085545036\n",
      "0.001178303300837958\n",
      "0.0012859313063491528\n",
      "0.0013951783592100755\n",
      "0.0014127466351151034\n",
      "0.0014209460704110966\n",
      "0.0014241354121969083\n",
      "0.001630774745476731\n",
      "0.0019192215127505313\n",
      "0.0019228571157905614\n",
      "0.0021991620319202665\n",
      "0.0023011433409719523\n",
      "0.0023185834934122203\n",
      "0.0027198713857576003\n",
      "0.002755554096021956\n",
      "0.0027797198723472504\n",
      "0.0028049443652888493\n",
      "0.0028489008340914913\n",
      "0.003328085549957781\n",
      "0.0033818808587231177\n",
      "0.003463602565078242\n",
      "0.003521387267175833\n",
      "0.0036280990533211033\n",
      "0.003686206350522002\n",
      "0.0039003068922078307\n",
      "0.004131291730082408\n",
      "0.004168250449722488\n",
      "0.004365437133946845\n",
      "0.004557812604290307\n",
      "0.004757509955289555\n",
      "0.004867105925379413\n",
      "0.004947106122207676\n",
      "0.00501783666016235\n",
      "0.005018939831979511\n",
      "0.00502539037216856\n",
      "0.005031419099831429\n",
      "0.005084087340085265\n",
      "0.00542355646236322\n",
      "0.0055335131120635254\n",
      "0.005582968570415206\n",
      "0.0056381903774654595\n",
      "0.0057888833900262724\n",
      "0.005986624867572159\n",
      "0.0060926715859007585\n",
      "0.006170832316040001\n",
      "0.00627687512783963\n",
      "0.006466908426844173\n",
      "0.00655897709375156\n",
      "0.006680343743134417\n",
      "0.006941210669653486\n",
      "0.006973272328274126\n",
      "0.0072920293993667335\n",
      "0.00752182625268908\n",
      "0.007553798820528766\n",
      "0.007584625654808876\n",
      "0.007637908915870455\n",
      "0.007840485201745002\n",
      "0.007890991407566631\n",
      "0.007920109541565223\n",
      "0.007923606315877348\n",
      "0.00798947904262976\n",
      "0.00798962227733337\n",
      "0.008172920010280513\n",
      "0.00818367783145774\n",
      "0.008336087921571868\n",
      "0.008382008768227034\n",
      "0.008472493239622372\n",
      "0.008480291825111234\n",
      "0.00850277658753862\n",
      "0.008527569122302257\n",
      "0.008572087410980691\n",
      "0.00861982330368764\n",
      "0.00863021588160897\n",
      "0.008673635461287257\n",
      "0.00869858309018697\n",
      "0.008702468601997207\n",
      "0.008703372587470417\n",
      "0.008730973875652486\n",
      "0.0087593854350649\n",
      "0.008769433909280927\n",
      "0.008801795746018855\n",
      "0.008811689109884308\n",
      "0.008833535002063155\n",
      "0.008845304916104876\n",
      "0.008852939357310366\n",
      "0.008904945672108172\n",
      "0.008907670140578009\n",
      "0.008913429835720885\n",
      "0.008917932767379379\n",
      "0.008936157722974115\n",
      "0.008936332974884973\n",
      "0.008936816638181641\n",
      "0.008949468560989412\n",
      "0.008950557395514248\n",
      "0.008950929065365067\n",
      "0.008959183321336765\n",
      "0.008965235731402796\n",
      "0.008965365756521912\n",
      "0.00896652977987946\n",
      "0.008967144534606421\n",
      "0.008967150316265276\n",
      "0.008966708264651551\n",
      "0.008966280639119726\n",
      "0.008961319398342294\n",
      "0.008947373353605943\n",
      "0.008946916231291053\n",
      "0.008944095405779092\n",
      "0.008913343289842638\n",
      "0.008911105550832637\n",
      "0.008898748894649127\n",
      "0.008895811258407995\n",
      "0.008860907715851175\n",
      "0.008858047921297801\n",
      "0.008690636187483109\n",
      "0.00861509422885401\n",
      "0.008606226897761235\n",
      "0.008554786385812528\n",
      "0.008554534457892558\n",
      "0.008546010706822708\n",
      "0.008474559038948826\n",
      "0.008421801081689351\n",
      "0.008301133340994978\n",
      "0.008270935244957407\n",
      "0.008140874694268123\n",
      "0.007994382916313356\n",
      "0.007910255233513812\n",
      "0.007872951235644132\n",
      "0.007683663307015333\n",
      "0.007502997219839694\n",
      "0.007330490265175936\n",
      "0.00691983724886888\n",
      "0.006888910488454851\n",
      "0.006435946255978156\n",
      "0.006337289823532695\n",
      "0.005977607643938665\n",
      "0.005912196449285427\n",
      "0.005580991367908269\n",
      "0.005094288523891881\n",
      "0.005031015633211453\n",
      "0.004875397587877135\n",
      "0.004809149007506571\n",
      "0.004780071026710692\n",
      "0.00451710437615531\n",
      "0.00444600299891439\n",
      "0.004381933110746711\n",
      "0.004307683360257401\n",
      "0.004193006703476648\n",
      "0.0035093900897508216\n",
      "0.0032972761217833456\n",
      "0.002863590083457928\n",
      "0.0027995899652028524\n",
      "0.002121849417768818\n",
      "0.0017623494308171245\n",
      "0.0016226140254124465\n",
      "0.001161667458684532\n",
      "0.00115884407549709\n",
      "0.0010619077115432366\n",
      "0.0007243293840046806\n",
      "0.000702221514477993\n",
      "0.0005281574154684784\n",
      "0.0005113818868100522\n",
      "0.00047390140012879836\n",
      "0.00026549665381763056\n",
      "0.00014044762010182496\n",
      "0.00010513237903739137\n",
      "9.040565350432879e-05\n",
      "8.506599406483167e-05\n",
      "6.56240109449995e-05\n",
      "2.602485217060586e-05\n",
      "2.5829869034856764e-05\n",
      "4.3688916384771965e-06\n",
      "3.7122139356542724e-06\n",
      "4.551914400963142e-14\n"
     ]
    }
   ],
   "source": [
    "for p in Interval_genes_probs:\n",
    "    print(p)"
   ]
  },
  {
   "cell_type": "code",
   "execution_count": 79,
   "metadata": {},
   "outputs": [
    {
     "data": {
      "text/plain": [
       "0.9999999999999545"
      ]
     },
     "execution_count": 79,
     "metadata": {},
     "output_type": "execute_result"
    }
   ],
   "source": [
    "sum(Interval_genes_probs[:-1])"
   ]
  },
  {
   "cell_type": "code",
   "execution_count": null,
   "metadata": {},
   "outputs": [],
   "source": []
  },
  {
   "cell_type": "code",
   "execution_count": null,
   "metadata": {},
   "outputs": [],
   "source": []
  },
  {
   "cell_type": "code",
   "execution_count": null,
   "metadata": {},
   "outputs": [],
   "source": []
  },
  {
   "cell_type": "code",
   "execution_count": null,
   "metadata": {},
   "outputs": [],
   "source": []
  },
  {
   "cell_type": "code",
   "execution_count": null,
   "metadata": {},
   "outputs": [],
   "source": []
  },
  {
   "cell_type": "code",
   "execution_count": 59,
   "metadata": {
    "scrolled": false
   },
   "outputs": [
    {
     "data": {
      "image/png": "[encoded data removed]",
      "text/plain": [
       "<Figure size 720x480 with 1 Axes>"
      ]
     },
     "metadata": {
      "needs_background": "light"
     },
     "output_type": "display_data"
    },
    {
     "data": {
      "image/png": "[encoded data removed]",
      "text/plain": [
       "<Figure size 720x480 with 1 Axes>"
      ]
     },
     "metadata": {
      "needs_background": "light"
     },
     "output_type": "display_data"
    },
    {
     "data": {
      "image/png": "[encoded data removed]",
      "text/plain": [
       "<Figure size 720x480 with 1 Axes>"
      ]
     },
     "metadata": {
      "needs_background": "light"
     },
     "output_type": "display_data"
    },
    {
     "data": {
      "image/png": "[encoded data removed]",
      "text/plain": [
       "<Figure size 720x480 with 1 Axes>"
      ]
     },
     "metadata": {
      "needs_background": "light"
     },
     "output_type": "display_data"
    },
    {
     "data": {
      "image/png": "[encoded data removed]",
      "text/plain": [
       "<Figure size 720x480 with 1 Axes>"
      ]
     },
     "metadata": {
      "needs_background": "light"
     },
     "output_type": "display_data"
    },
    {
     "data": {
      "image/png": "[encoded data removed]",
      "text/plain": [
       "<Figure size 720x480 with 1 Axes>"
      ]
     },
     "metadata": {
      "needs_background": "light"
     },
     "output_type": "display_data"
    },
    {
     "data": {
      "image/png": "[encoded data removed]",
      "text/plain": [
       "<Figure size 720x480 with 1 Axes>"
      ]
     },
     "metadata": {
      "needs_background": "light"
     },
     "output_type": "display_data"
    }
   ],
   "source": [
    "\n",
    "ranks = []\n",
    "for i, gene in enumerate(asd_ssc):\n",
    "    try:\n",
    "        gene_exp = match_feature.loc[gene, \"EXP\"]\n",
    "\n",
    "    except:\n",
    "        #print(\"Unmathed:%d\"%gene)\n",
    "        continue\n",
    "    gene_rank = match_feature.loc[gene, \"Rank\"]\n",
    "    Interval = match_feature[(match_feature[\"Rank\"] >= gene_rank-100) &\n",
    "                                    (match_feature[\"Rank\"] <= gene_rank+100)]\n",
    "    Interval_genes = Interval.index.values\n",
    "    Interval_exps = Interval[\"EXP\"].values\n",
    "    Interval_genes_probs = assignProb(Interval_exps)\n",
    "    match_genes = np.random.choice(Interval_genes, size = 100, replace=True, p = Interval_genes_probs)\n",
    "    \n",
    "    #if i > 5:\n",
    "    #    break"
   ]
  },
  {
   "cell_type": "code",
   "execution_count": 23,
   "metadata": {},
   "outputs": [
    {
     "data": {
      "text/plain": [
       "(array([ 6.,  6., 10.,  7., 11., 19., 32., 42., 44., 48.]),\n",
       " array([   56. ,  1612.8,  3169.6,  4726.4,  6283.2,  7840. ,  9396.8,\n",
       "        10953.6, 12510.4, 14067.2, 15624. ]),\n",
       " <a list of 10 Patch objects>)"
      ]
     },
     "execution_count": 23,
     "metadata": {},
     "output_type": "execute_result"
    },
    {
     "data": {
      "image/png": "[encoded data removed]",
      "text/plain": [
       "<Figure size 720x480 with 1 Axes>"
      ]
     },
     "metadata": {
      "needs_background": "light"
     },
     "output_type": "display_data"
    }
   ],
   "source": [
    "plt.hist(ranks)"
   ]
  },
  {
   "cell_type": "code",
   "execution_count": null,
   "metadata": {},
   "outputs": [],
   "source": [
    "    exps = []\n",
    "    for g in match_genes:\n",
    "        exps.append(match_feature.loc[g, \"EXP\"])\n",
    "    plt.hist(exps)\n",
    "    plt.vlines(x = gene_exp, ymin = 0, ymax = 1)\n",
    "    plt.show()"
   ]
  }
 ],
 "metadata": {
  "kernelspec": {
   "display_name": "Python 3",
   "language": "python",
   "name": "python3"
  },
  "language_info": {
   "codemirror_mode": {
    "name": "ipython",
    "version": 3
   },
   "file_extension": ".py",
   "mimetype": "text/x-python",
   "name": "python",
   "nbconvert_exporter": "python",
   "pygments_lexer": "ipython3",
   "version": "3.7.1"
  }
 },
 "nbformat": 4,
 "nbformat_minor": 2
}
