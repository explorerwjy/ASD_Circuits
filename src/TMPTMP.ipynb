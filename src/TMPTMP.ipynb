{
 "cells": [
  {
   "cell_type": "code",
   "execution_count": 55,
   "metadata": {},
   "outputs": [
    {
     "name": "stdout",
     "output_type": "stream",
     "text": [
      "The autoreload extension is already loaded. To reload it, use:\n",
      "  %reload_ext autoreload\n"
     ]
    }
   ],
   "source": [
    "%load_ext autoreload\n",
    "%autoreload 2\n",
    "from ASD_Circuits import *\n",
    "from venn import venn\n",
    "\n",
    "HGNC, ENSID2Entrez, GeneSymbol2Entrez, Entrez2Symbol, allen_mouse_genes = LoadGeneINFO()\n",
    "ExpMat, ExpZscoreMat, ExpMatNorm, ExpZscoreMatNorm = LoadExpressionMatrices()\n",
    "ExpMat = pd.read_csv(\"dat/Jon_data/energy-exp_level.csv\", index_col=\"ROW\")\n",
    "gnomad_cons = pd.read_csv(\"../dat/genes/gnomad.v2.1.1.lof_metrics.by_gene.txt\",\n",
    "                          delimiter=\"\\t\", index_col=\"gene\")"
   ]
  },
  {
   "cell_type": "code",
   "execution_count": 56,
   "metadata": {},
   "outputs": [],
   "source": [
    "#Jon"
   ]
  },
  {
   "cell_type": "code",
   "execution_count": 57,
   "metadata": {},
   "outputs": [],
   "source": [
    "G1 = pd.read_csv(\"/Users/jiayao/Work/ASD_Circuits/src/dat/Jon_data/match-exp_avg/2200.txt\")\n",
    "G2 = pd.read_csv(\"/Users/jiayao/Work/ASD_Circuits/src/dat/Jon_data/match-exp_avg/10522.txt\")\n",
    "#Agg_match_df #= pd.read_csv(\"dat/Jon_data/\", index_col=\"GENE\")"
   ]
  },
  {
   "cell_type": "code",
   "execution_count": 58,
   "metadata": {},
   "outputs": [],
   "source": [
    "Match_DF = pd.DataFrame(data=[G1[\"2200\"].values, G2[\"10522\"].values], index=[2200, 10522])"
   ]
  },
  {
   "cell_type": "code",
   "execution_count": 59,
   "metadata": {},
   "outputs": [
    {
     "data": {
      "text/html": [
       "<div>\n",
       "<style scoped>\n",
       "    .dataframe tbody tr th:only-of-type {\n",
       "        vertical-align: middle;\n",
       "    }\n",
       "\n",
       "    .dataframe tbody tr th {\n",
       "        vertical-align: top;\n",
       "    }\n",
       "\n",
       "    .dataframe thead th {\n",
       "        text-align: right;\n",
       "    }\n",
       "</style>\n",
       "<table border=\"1\" class=\"dataframe\">\n",
       "  <thead>\n",
       "    <tr style=\"text-align: right;\">\n",
       "      <th></th>\n",
       "      <th>0</th>\n",
       "      <th>1</th>\n",
       "      <th>2</th>\n",
       "      <th>3</th>\n",
       "      <th>4</th>\n",
       "      <th>5</th>\n",
       "      <th>6</th>\n",
       "      <th>7</th>\n",
       "      <th>8</th>\n",
       "      <th>9</th>\n",
       "      <th>...</th>\n",
       "      <th>9990</th>\n",
       "      <th>9991</th>\n",
       "      <th>9992</th>\n",
       "      <th>9993</th>\n",
       "      <th>9994</th>\n",
       "      <th>9995</th>\n",
       "      <th>9996</th>\n",
       "      <th>9997</th>\n",
       "      <th>9998</th>\n",
       "      <th>9999</th>\n",
       "    </tr>\n",
       "  </thead>\n",
       "  <tbody>\n",
       "    <tr>\n",
       "      <th>2200</th>\n",
       "      <td>2081</td>\n",
       "      <td>50945</td>\n",
       "      <td>3181</td>\n",
       "      <td>84451</td>\n",
       "      <td>6936</td>\n",
       "      <td>3263</td>\n",
       "      <td>51655</td>\n",
       "      <td>1761</td>\n",
       "      <td>2768</td>\n",
       "      <td>53407</td>\n",
       "      <td>...</td>\n",
       "      <td>10693</td>\n",
       "      <td>221150</td>\n",
       "      <td>345222</td>\n",
       "      <td>127707</td>\n",
       "      <td>4694</td>\n",
       "      <td>441871</td>\n",
       "      <td>93166</td>\n",
       "      <td>5283</td>\n",
       "      <td>55336</td>\n",
       "      <td>933</td>\n",
       "    </tr>\n",
       "    <tr>\n",
       "      <th>10522</th>\n",
       "      <td>5277</td>\n",
       "      <td>3167</td>\n",
       "      <td>1158</td>\n",
       "      <td>7204</td>\n",
       "      <td>3745</td>\n",
       "      <td>5515</td>\n",
       "      <td>282996</td>\n",
       "      <td>23353</td>\n",
       "      <td>140894</td>\n",
       "      <td>50650</td>\n",
       "      <td>...</td>\n",
       "      <td>9677</td>\n",
       "      <td>5411</td>\n",
       "      <td>113026</td>\n",
       "      <td>3760</td>\n",
       "      <td>339855</td>\n",
       "      <td>7478</td>\n",
       "      <td>388610</td>\n",
       "      <td>23025</td>\n",
       "      <td>284323</td>\n",
       "      <td>9350</td>\n",
       "    </tr>\n",
       "  </tbody>\n",
       "</table>\n",
       "<p>2 rows × 10000 columns</p>\n",
       "</div>"
      ],
      "text/plain": [
       "       0      1     2      3     4     5       6      7       8      9     \\\n",
       "2200   2081  50945  3181  84451  6936  3263   51655   1761    2768  53407   \n",
       "10522  5277   3167  1158   7204  3745  5515  282996  23353  140894  50650   \n",
       "\n",
       "       ...   9990    9991    9992    9993    9994    9995    9996   9997  \\\n",
       "2200   ...  10693  221150  345222  127707    4694  441871   93166   5283   \n",
       "10522  ...   9677    5411  113026    3760  339855    7478  388610  23025   \n",
       "\n",
       "         9998  9999  \n",
       "2200    55336   933  \n",
       "10522  284323  9350  \n",
       "\n",
       "[2 rows x 10000 columns]"
      ]
     },
     "execution_count": 59,
     "metadata": {},
     "output_type": "execute_result"
    }
   ],
   "source": [
    "Match_DF.head(2)"
   ]
  },
  {
   "cell_type": "code",
   "execution_count": 60,
   "metadata": {},
   "outputs": [],
   "source": [
    "FBN12MutN = {2200:1}\n",
    "DEAF12MutN = {10522:1}"
   ]
  },
  {
   "cell_type": "code",
   "execution_count": 61,
   "metadata": {},
   "outputs": [],
   "source": [
    "FBN1_explevel_Mutcount = ExpAVGWithExpMatch(ExpMat, FBN12MutN, Match_DF,\n",
    "                                              csv_fil = None)\n",
    "DEAF1_explevel_Mutcount = ExpAVGWithExpMatch(ExpMat, DEAF12MutN, Match_DF,\n",
    "                                              csv_fil = None)"
   ]
  },
  {
   "cell_type": "code",
   "execution_count": 62,
   "metadata": {},
   "outputs": [],
   "source": [
    "Jon_res_FBN1 = pd.read_csv(\"dat/Jon_data/2200.txt\", index_col=\"ROW\")\n",
    "Jon_res_DEAF1 = pd.read_csv(\"dat/Jon_data/10522.txt\", index_col=\"ROW\")"
   ]
  },
  {
   "cell_type": "code",
   "execution_count": 63,
   "metadata": {},
   "outputs": [
    {
     "name": "stdout",
     "output_type": "stream",
     "text": [
      "0.9999999999987106 0.0\n"
     ]
    },
    {
     "data": {
      "image/png": "[encoded data removed]",
      "text/plain": [
       "<Figure size 432x288 with 1 Axes>"
      ]
     },
     "metadata": {
      "needs_background": "light"
     },
     "output_type": "display_data"
    }
   ],
   "source": [
    "X, Y = [], []\n",
    "for _str, eee in Jon_res_FBN1.loc[r'energy-exp_level-match_zscore-w_vol_weight.csv:\"2200\"',:].items():\n",
    "    if eee == eee:\n",
    "        X.append(eee)\n",
    "        Y.append(FBN1_explevel_Mutcount.loc[_str, \"EFFECT\"])\n",
    "r, p = pearsonr(X, Y)\n",
    "print(r, p)\n",
    "plt.scatter(X, Y)\n",
    "plt.plot([-1,4],[-1,4], c='black')\n",
    "plt.xlabel(\"JC explevel\")\n",
    "plt.ylabel(\"JW explevel\")\n",
    "plt.show()"
   ]
  },
  {
   "cell_type": "code",
   "execution_count": null,
   "metadata": {},
   "outputs": [],
   "source": []
  },
  {
   "cell_type": "code",
   "execution_count": 64,
   "metadata": {},
   "outputs": [
    {
     "name": "stdout",
     "output_type": "stream",
     "text": [
      "0.9999999999991181 0.0\n"
     ]
    },
    {
     "data": {
      "image/png": "[encoded data removed]",
      "text/plain": [
       "<Figure size 432x288 with 1 Axes>"
      ]
     },
     "metadata": {
      "needs_background": "light"
     },
     "output_type": "display_data"
    }
   ],
   "source": [
    "X, Y = [], []\n",
    "for _str, eee in Jon_res_DEAF1.loc[r'energy-exp_level-match_zscore-w_vol_weight.csv:\"10522\"',:].items():\n",
    "    if eee == eee:\n",
    "        X.append(eee)\n",
    "        Y.append(DEAF1_explevel_Mutcount.loc[_str, \"EFFECT\"])\n",
    "r, p = pearsonr(X, Y)\n",
    "print(r, p)\n",
    "plt.scatter(X, Y)\n",
    "plt.plot([-3,4],[-3,4], c='black')\n",
    "plt.xlabel(\"JC explevel\")\n",
    "plt.ylabel(\"JW explevel\")\n",
    "plt.show()"
   ]
  },
  {
   "cell_type": "code",
   "execution_count": null,
   "metadata": {},
   "outputs": [],
   "source": []
  }
 ],
 "metadata": {
  "kernelspec": {
   "display_name": "Python 3",
   "language": "python",
   "name": "python3"
  },
  "language_info": {
   "codemirror_mode": {
    "name": "ipython",
    "version": 3
   },
   "file_extension": ".py",
   "mimetype": "text/x-python",
   "name": "python",
   "nbconvert_exporter": "python",
   "pygments_lexer": "ipython3",
   "version": "3.7.1"
  }
 },
 "nbformat": 4,
 "nbformat_minor": 2
}
