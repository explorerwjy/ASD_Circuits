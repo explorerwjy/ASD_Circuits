{
 "cells": [
  {
   "cell_type": "code",
   "execution_count": 7,
   "metadata": {},
   "outputs": [
    {
     "name": "stdout",
     "output_type": "stream",
     "text": [
      "The autoreload extension is already loaded. To reload it, use:\n",
      "  %reload_ext autoreload\n"
     ]
    }
   ],
   "source": [
    "%load_ext autoreload\n",
    "%autoreload 2\n",
    "from ASD_Circuits import *\n",
    "from venn import venn\n",
    "\n",
    "HGNC, ENSID2Entrez, GeneSymbol2Entrez, Entrez2Symbol, allen_mouse_genes = LoadGeneINFO()\n",
    "ExpMat, ExpZscoreMat, ExpMatNorm, ExpZscoreMatNorm = LoadExpressionMatrices()\n",
    "gnomad_cons = pd.read_csv(\"../dat/genes/gnomad.v2.1.1.lof_metrics.by_gene.txt\",\n",
    "                          delimiter=\"\\t\", index_col=\"gene\")\n",
    "ExpZ2Mat = pd.read_csv(\"dat/z2.all.genes.str.mat.csv\", index_col=0)"
   ]
  },
  {
   "cell_type": "code",
   "execution_count": 31,
   "metadata": {},
   "outputs": [
    {
     "data": {
      "text/plain": [
       "(159, 67)"
      ]
     },
     "execution_count": 31,
     "metadata": {},
     "output_type": "execute_result"
    }
   ],
   "source": [
    "Spark_Meta_2stage = pd.read_excel(\"../dat/genes/asd/TabS_DenovoWEST_Stage1+2.xlsx\",\n",
    "                           skiprows=2, sheet_name=\"TopDnEnrich\")\n",
    "Spark_Meta_2stage.shape\n",
    "#Spark_Meta_ExomeWide = Spark_Meta_2stage[Spark_Meta_2stage[\"pDenovoWEST_Meta\"]<=1.3e-6]\n",
    "Spark_Meta_ExomeWide = Spark_Meta_2stage[Spark_Meta_2stage[\"pDenovoWEST_Meta\"]<=1e-2]\n",
    "#Spark_Meta_ExomeWide = Spark_Meta_2stage[Spark_Meta_2stage[\n",
    "#    \"pDenovoWEST_Meta\"]<=1e-2]\n",
    "Spark_Meta_ExomeWide.shape"
   ]
  },
  {
   "cell_type": "code",
   "execution_count": 32,
   "metadata": {},
   "outputs": [
    {
     "data": {
      "text/plain": [
       "147"
      ]
     },
     "execution_count": 32,
     "metadata": {},
     "output_type": "execute_result"
    }
   ],
   "source": [
    "Agg_gene2None, Agg_gene2MutN = Aggregate_Gene_Weights2(Spark_Meta_ExomeWide, \n",
    "          allen_mouse_genes = allen_mouse_genes, \n",
    "          out = \"dat/bias2/meta.ew.gene.weights.csv\")\n",
    "len(Agg_gene2MutN)"
   ]
  },
  {
   "cell_type": "code",
   "execution_count": 33,
   "metadata": {},
   "outputs": [
    {
     "name": "stdout",
     "output_type": "stream",
     "text": [
      "Isocortex \t 21 \t Orbital_area_lateral_part; Prelimbic_area; Orbital_area_ventrolateral_part; Primary_visual_area; Infralimbic_area; Primary_somatosensory_area_lower_limb; Anteromedial_visual_area; Primary_motor_area; Frontal_pole_cerebral_cortex; Retrosplenial_area_lateral_agranular_part; Secondary_motor_area; Visceral_area; Anterior_cingulate_area_dorsal_part; Posterior_parietal_association_areas; Lateral_visual_area; Gustatory_areas; Orbital_area_medial_part; Anterolateral_visual_area; Primary_somatosensory_area_barrel_field; Supplemental_somatosensory_area; Agranular_insular_area_posterior_part\n",
      "Thalamus \t 6 \t Lateral_posterior_nucleus_of_the_thalamus; Nucleus_of_reuniens; Mediodorsal_nucleus_of_thalamus; Parafascicular_nucleus; Central_lateral_nucleus_of_the_thalamus; Rhomboid_nucleus\n",
      "Hippocampus \t 7 \t Dentate_gyrus; Field_CA1; Field_CA2; Subiculum_ventral_part; Field_CA3; Subiculum_dorsal_part; Parasubiculum\n",
      "Striatum \t 2 \t Nucleus_accumbens; Lateral_septal_nucleus_ventral_part\n",
      "Pons \t 1 \t Superior_central_nucleus_raphe\n",
      "Amygdalar \t 4 \t Lateral_amygdalar_nucleus; Intercalated_amygdalar_nucleus; Basomedial_amygdalar_nucleus; Basolateral_amygdalar_nucleus\n",
      "Midbrain \t 2 \t Anterior_pretectal_nucleus; Nucleus_of_the_posterior_commissure\n",
      "Cortical_subplate \t 3 \t Endopiriform_nucleus_dorsal_part; Claustrum; Endopiriform_nucleus_ventral_part\n",
      "Olfactory_areas \t 4 \t Anterior_olfactory_nucleus; Accessory_olfactory_bulb; Dorsal_peduncular_area; Piriform_area\n"
     ]
    }
   ],
   "source": [
    "ASD_EW_Z2_NoNeg = AvgSTRZ_Weighted(ExpZ2Mat, Agg_gene2MutN, Method = 1, NonNeg=True, \n",
    "                                              csv_fil = \"dat/bias2/ASD.EW.pLI.z2.NoNeg.csv\")\n",
    "RD_Agg_avgZ_RD = RegionDistributions(ASD_EW_Z2_NoNeg.set_index(\"STR\"), show=True)"
   ]
  },
  {
   "cell_type": "code",
   "execution_count": 34,
   "metadata": {},
   "outputs": [],
   "source": [
    "Circuit_STRs = ASD_EW_Z2_NoNeg[\"STR\"].values"
   ]
  },
  {
   "cell_type": "code",
   "execution_count": 45,
   "metadata": {},
   "outputs": [
    {
     "data": {
      "text/plain": [
       "(array([ 1.,  0.,  0.,  0.,  1.,  0.,  1.,  2.,  2.,  3.,  4.,  9., 19.,\n",
       "        12., 23., 21., 22., 14.,  7.,  6.]),\n",
       " array([0.2066363 , 0.22018362, 0.23373094, 0.24727826, 0.26082558,\n",
       "        0.2743729 , 0.28792022, 0.30146754, 0.31501486, 0.32856218,\n",
       "        0.3421095 , 0.35565682, 0.36920414, 0.38275146, 0.39629878,\n",
       "        0.4098461 , 0.42339342, 0.43694074, 0.45048806, 0.46403538,\n",
       "        0.4775827 ]),\n",
       " <BarContainer object of 20 artists>)"
      ]
     },
     "execution_count": 45,
     "metadata": {},
     "output_type": "execute_result"
    },
    {
     "data": {
      "image/png": "[encoded data removed]",
      "text/plain": [
       "<Figure size 432x288 with 1 Axes>"
      ]
     },
     "metadata": {
      "needs_background": "light"
     },
     "output_type": "display_data"
    }
   ],
   "source": [
    "neg_genes = []\n",
    "biases = []\n",
    "for entrez in Agg_gene2MutN.keys():\n",
    "    g_biases = []\n",
    "    for STR in Circuit_STRs:\n",
    "        b = ExpZ2Mat.loc[entrez, STR]\n",
    "        g_biases.append(b)\n",
    "    g_avgBias = np.mean([max(0,x) for x in g_biases])\n",
    "    #g_avgBias = np.mean( g_biases)\n",
    "    biases.append(g_avgBias)\n",
    "    if g_avgBias <0.35:\n",
    "        neg_genes.append(entrez)\n",
    "\n",
    "plt.hist(biases, bins=20)"
   ]
  },
  {
   "cell_type": "code",
   "execution_count": 46,
   "metadata": {},
   "outputs": [
    {
     "data": {
      "text/plain": [
       "11"
      ]
     },
     "execution_count": 46,
     "metadata": {},
     "output_type": "execute_result"
    }
   ],
   "source": [
    "len(neg_genes)"
   ]
  },
  {
   "cell_type": "code",
   "execution_count": 47,
   "metadata": {},
   "outputs": [],
   "source": [
    "neg_gene_dict = {}\n",
    "for k,v in Agg_gene2MutN.items():\n",
    "    if k in neg_genes:\n",
    "        neg_gene_dict[k] = v"
   ]
  },
  {
   "cell_type": "code",
   "execution_count": 48,
   "metadata": {},
   "outputs": [
    {
     "name": "stdout",
     "output_type": "stream",
     "text": [
      "Isocortex \t 1 \t Frontal_pole_cerebral_cortex\n",
      "Thalamus \t 21 \t Parataenial_nucleus; Lateral_posterior_nucleus_of_the_thalamus; Central_lateral_nucleus_of_the_thalamus; Mediodorsal_nucleus_of_thalamus; Paraventricular_nucleus_of_the_thalamus; Nucleus_of_reuniens; Rhomboid_nucleus; Central_medial_nucleus_of_the_thalamus; Anteromedial_nucleus_dorsal_part; Anteroventral_nucleus_of_thalamus; Intermediodorsal_nucleus_of_the_thalamus; Parafascicular_nucleus; Subparafascicular_area; Ventral_posteromedial_nucleus_of_the_thalamus_parvicellular_part; Anterodorsal_nucleus; Submedial_nucleus_of_the_thalamus; Peripeduncular_nucleus; Medial_geniculate_complex_dorsal_part; Ventral_medial_nucleus_of_the_thalamus; Dorsal_part_of_the_lateral_geniculate_complex; Lateral_dorsal_nucleus_of_thalamus\n",
      "Hippocampus \t 1 \t Dentate_gyrus\n",
      "Striatum \t 2 \t Fundus_of_striatum; Lateral_septal_nucleus_ventral_part\n",
      "Pons \t 1 \t Superior_central_nucleus_raphe\n",
      "Hypothalamus \t 8 \t Medial_preoptic_nucleus; Medial_preoptic_area; Paraventricular_hypothalamic_nucleus; Arcuate_hypothalamic_nucleus; Anterior_hypothalamic_nucleus; Periventricular_hypothalamic_nucleus_preoptic_part; Lateral_preoptic_area; Posterior_hypothalamic_nucleus\n",
      "Midbrain \t 2 \t Superior_colliculus_motor_related; Nucleus_of_the_posterior_commissure\n",
      "Pallidum \t 2 \t Bed_nuclei_of_the_stria_terminalis; Medial_septal_nucleus\n",
      "Cerebellum \t 6 \t Paramedian_lobule; Ansiform_lobule; Simple_lobule; Paraflocculus; Culmen; Nodulus_X\n",
      "Medulla \t 4 \t Dorsal_cochlear_nucleus; Nucleus_of_the_solitary_tract; Inferior_olivary_complex; Magnocellular_reticular_nucleus\n",
      "Olfactory_areas \t 2 \t Accessory_olfactory_bulb; Main_olfactory_bulb\n"
     ]
    }
   ],
   "source": [
    "ASD_Neg_Spec = AvgSTRZ_Weighted(ExpZ2Mat, neg_gene_dict,Method = 1, NonNeg=True,\n",
    "                                              csv_fil = \"dat/bias2/Neg.Spec.bias.csv\")\n",
    "RD_Agg_avgZ_RD = RegionDistributions(ASD_Neg_Spec.set_index(\"STR\"), show=True)"
   ]
  },
  {
   "cell_type": "code",
   "execution_count": null,
   "metadata": {},
   "outputs": [],
   "source": []
  }
 ],
 "metadata": {
  "kernelspec": {
   "display_name": "Python 3",
   "language": "python",
   "name": "python3"
  },
  "language_info": {
   "codemirror_mode": {
    "name": "ipython",
    "version": 3
   },
   "file_extension": ".py",
   "mimetype": "text/x-python",
   "name": "python",
   "nbconvert_exporter": "python",
   "pygments_lexer": "ipython3",
   "version": "3.7.1"
  }
 },
 "nbformat": 4,
 "nbformat_minor": 2
}
