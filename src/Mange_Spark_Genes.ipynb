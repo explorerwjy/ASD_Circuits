{
 "cells": [
  {
   "cell_type": "code",
   "execution_count": 38,
   "metadata": {},
   "outputs": [
    {
     "name": "stdout",
     "output_type": "stream",
     "text": [
      "The autoreload extension is already loaded. To reload it, use:\n",
      "  %reload_ext autoreload\n"
     ]
    }
   ],
   "source": [
    "%load_ext autoreload\n",
    "%autoreload 2\n",
    "from ASD_Circuits import *\n",
    "from venn import venn"
   ]
  },
  {
   "cell_type": "markdown",
   "metadata": {
    "heading_collapsed": true
   },
   "source": [
    "## 0. xxx"
   ]
  },
  {
   "cell_type": "code",
   "execution_count": 45,
   "metadata": {
    "hidden": true
   },
   "outputs": [],
   "source": [
    "DNV_Muts = pd.read_csv(\"../dat/genes/SPARK/CodingDNVs.txt\", delimiter=\"\\t\")"
   ]
  },
  {
   "cell_type": "code",
   "execution_count": 46,
   "metadata": {
    "hidden": true
   },
   "outputs": [
    {
     "name": "stdout",
     "output_type": "stream",
     "text": [
      "(13755, 67)\n"
     ]
    }
   ],
   "source": [
    "SPARK_DNV = DNV_Muts[DNV_Muts[\"Cohort\"]==\"SPARK\"]\n",
    "print(SPARK_DNV.shape)"
   ]
  },
  {
   "cell_type": "code",
   "execution_count": 48,
   "metadata": {
    "hidden": true
   },
   "outputs": [],
   "source": [
    "SPARK_DNV.to_csv(\"../dat/genes/SPARK/ASD_OnlySPARK_DNVs.txt\", sep=\"\\t\", index=False)"
   ]
  },
  {
   "cell_type": "code",
   "execution_count": 41,
   "metadata": {
    "hidden": true
   },
   "outputs": [],
   "source": [
    "DNV_SP = pd.read_csv(\"../dat/genes/SPARK/SampTable.txt\", delimiter=\"\\t\")"
   ]
  },
  {
   "cell_type": "code",
   "execution_count": 42,
   "metadata": {
    "hidden": true
   },
   "outputs": [
    {
     "data": {
      "text/html": [
       "<div>\n",
       "<style scoped>\n",
       "    .dataframe tbody tr th:only-of-type {\n",
       "        vertical-align: middle;\n",
       "    }\n",
       "\n",
       "    .dataframe tbody tr th {\n",
       "        vertical-align: top;\n",
       "    }\n",
       "\n",
       "    .dataframe thead th {\n",
       "        text-align: right;\n",
       "    }\n",
       "</style>\n",
       "<table border=\"1\" class=\"dataframe\">\n",
       "  <thead>\n",
       "    <tr style=\"text-align: right;\">\n",
       "      <th></th>\n",
       "      <th>Cohort</th>\n",
       "      <th>FamID</th>\n",
       "      <th>FamType</th>\n",
       "      <th>IID</th>\n",
       "      <th>Sex</th>\n",
       "      <th>Pheno</th>\n",
       "      <th>ID</th>\n",
       "    </tr>\n",
       "  </thead>\n",
       "  <tbody>\n",
       "    <tr>\n",
       "      <th>0</th>\n",
       "      <td>ASC</td>\n",
       "      <td>UCD_11791</td>\n",
       "      <td>Simplex</td>\n",
       "      <td>002-09-110644</td>\n",
       "      <td>Male</td>\n",
       "      <td>Affected</td>\n",
       "      <td>No</td>\n",
       "    </tr>\n",
       "    <tr>\n",
       "      <th>1</th>\n",
       "      <td>ASC</td>\n",
       "      <td>UCD_10455</td>\n",
       "      <td>Multiplex</td>\n",
       "      <td>003-05-102508</td>\n",
       "      <td>Female</td>\n",
       "      <td>Affected</td>\n",
       "      <td>No</td>\n",
       "    </tr>\n",
       "  </tbody>\n",
       "</table>\n",
       "</div>"
      ],
      "text/plain": [
       "  Cohort      FamID    FamType            IID     Sex     Pheno  ID\n",
       "0    ASC  UCD_11791    Simplex  002-09-110644    Male  Affected  No\n",
       "1    ASC  UCD_10455  Multiplex  003-05-102508  Female  Affected  No"
      ]
     },
     "execution_count": 42,
     "metadata": {},
     "output_type": "execute_result"
    }
   ],
   "source": [
    "DNV_SP.head(2)"
   ]
  },
  {
   "cell_type": "code",
   "execution_count": 44,
   "metadata": {
    "hidden": true
   },
   "outputs": [
    {
     "name": "stdout",
     "output_type": "stream",
     "text": [
      "(10097, 7)\n"
     ]
    }
   ],
   "source": [
    "SPARK_SP = DNV_SP[DNV_SP[\"Cohort\"]==\"SPARK\"]\n",
    "print(SPARK_SP.shape)"
   ]
  },
  {
   "cell_type": "code",
   "execution_count": 9,
   "metadata": {
    "hidden": true
   },
   "outputs": [
    {
     "data": {
      "text/html": [
       "<div>\n",
       "<style scoped>\n",
       "    .dataframe tbody tr th:only-of-type {\n",
       "        vertical-align: middle;\n",
       "    }\n",
       "\n",
       "    .dataframe tbody tr th {\n",
       "        vertical-align: top;\n",
       "    }\n",
       "\n",
       "    .dataframe thead th {\n",
       "        text-align: right;\n",
       "    }\n",
       "</style>\n",
       "<table border=\"1\" class=\"dataframe\">\n",
       "  <thead>\n",
       "    <tr style=\"text-align: right;\">\n",
       "      <th></th>\n",
       "      <th>Cohort</th>\n",
       "      <th>FamID</th>\n",
       "      <th>FamType</th>\n",
       "      <th>IID</th>\n",
       "      <th>Sex</th>\n",
       "      <th>Pheno</th>\n",
       "      <th>ID</th>\n",
       "    </tr>\n",
       "  </thead>\n",
       "  <tbody>\n",
       "    <tr>\n",
       "      <th>8109</th>\n",
       "      <td>SPARK</td>\n",
       "      <td>SF0000027</td>\n",
       "      <td>Multiplex</td>\n",
       "      <td>SP0000027</td>\n",
       "      <td>Male</td>\n",
       "      <td>Affected</td>\n",
       "      <td>No</td>\n",
       "    </tr>\n",
       "    <tr>\n",
       "      <th>8110</th>\n",
       "      <td>SPARK</td>\n",
       "      <td>SF0000027</td>\n",
       "      <td>Multiplex</td>\n",
       "      <td>SP0000034</td>\n",
       "      <td>Male</td>\n",
       "      <td>Affected</td>\n",
       "      <td>No</td>\n",
       "    </tr>\n",
       "    <tr>\n",
       "      <th>8111</th>\n",
       "      <td>SPARK</td>\n",
       "      <td>SF0000035</td>\n",
       "      <td>Simplex</td>\n",
       "      <td>SP0000035</td>\n",
       "      <td>Male</td>\n",
       "      <td>Affected</td>\n",
       "      <td>No</td>\n",
       "    </tr>\n",
       "    <tr>\n",
       "      <th>8112</th>\n",
       "      <td>SPARK</td>\n",
       "      <td>SF0000027</td>\n",
       "      <td>Multiplex</td>\n",
       "      <td>SP0000063</td>\n",
       "      <td>Female</td>\n",
       "      <td>Affected</td>\n",
       "      <td>No</td>\n",
       "    </tr>\n",
       "    <tr>\n",
       "      <th>8113</th>\n",
       "      <td>SPARK</td>\n",
       "      <td>SF0000076</td>\n",
       "      <td>Simplex</td>\n",
       "      <td>SP0000076</td>\n",
       "      <td>Male</td>\n",
       "      <td>Affected</td>\n",
       "      <td>No</td>\n",
       "    </tr>\n",
       "    <tr>\n",
       "      <th>...</th>\n",
       "      <td>...</td>\n",
       "      <td>...</td>\n",
       "      <td>...</td>\n",
       "      <td>...</td>\n",
       "      <td>...</td>\n",
       "      <td>...</td>\n",
       "      <td>...</td>\n",
       "    </tr>\n",
       "    <tr>\n",
       "      <th>18199</th>\n",
       "      <td>SPARK</td>\n",
       "      <td>SF0153060</td>\n",
       "      <td>Multiplex</td>\n",
       "      <td>SP0153060</td>\n",
       "      <td>Male</td>\n",
       "      <td>Affected</td>\n",
       "      <td>No</td>\n",
       "    </tr>\n",
       "    <tr>\n",
       "      <th>18200</th>\n",
       "      <td>SPARK</td>\n",
       "      <td>SF0153750</td>\n",
       "      <td>Simplex</td>\n",
       "      <td>SP0153750</td>\n",
       "      <td>Female</td>\n",
       "      <td>Affected</td>\n",
       "      <td>Yes</td>\n",
       "    </tr>\n",
       "    <tr>\n",
       "      <th>18201</th>\n",
       "      <td>SPARK</td>\n",
       "      <td>SF0154149</td>\n",
       "      <td>Simplex</td>\n",
       "      <td>SP0154149</td>\n",
       "      <td>Female</td>\n",
       "      <td>Affected</td>\n",
       "      <td>No</td>\n",
       "    </tr>\n",
       "    <tr>\n",
       "      <th>18203</th>\n",
       "      <td>SPARK</td>\n",
       "      <td>SF0154208</td>\n",
       "      <td>Simplex</td>\n",
       "      <td>SP0154208</td>\n",
       "      <td>Male</td>\n",
       "      <td>Affected</td>\n",
       "      <td>No</td>\n",
       "    </tr>\n",
       "    <tr>\n",
       "      <th>18205</th>\n",
       "      <td>SPARK</td>\n",
       "      <td>SF0154427</td>\n",
       "      <td>Simplex</td>\n",
       "      <td>SP0154427</td>\n",
       "      <td>Male</td>\n",
       "      <td>Affected</td>\n",
       "      <td>No</td>\n",
       "    </tr>\n",
       "  </tbody>\n",
       "</table>\n",
       "<p>7051 rows × 7 columns</p>\n",
       "</div>"
      ],
      "text/plain": [
       "      Cohort      FamID    FamType        IID     Sex     Pheno   ID\n",
       "8109   SPARK  SF0000027  Multiplex  SP0000027    Male  Affected   No\n",
       "8110   SPARK  SF0000027  Multiplex  SP0000034    Male  Affected   No\n",
       "8111   SPARK  SF0000035    Simplex  SP0000035    Male  Affected   No\n",
       "8112   SPARK  SF0000027  Multiplex  SP0000063  Female  Affected   No\n",
       "8113   SPARK  SF0000076    Simplex  SP0000076    Male  Affected   No\n",
       "...      ...        ...        ...        ...     ...       ...  ...\n",
       "18199  SPARK  SF0153060  Multiplex  SP0153060    Male  Affected   No\n",
       "18200  SPARK  SF0153750    Simplex  SP0153750  Female  Affected  Yes\n",
       "18201  SPARK  SF0154149    Simplex  SP0154149  Female  Affected   No\n",
       "18203  SPARK  SF0154208    Simplex  SP0154208    Male  Affected   No\n",
       "18205  SPARK  SF0154427    Simplex  SP0154427    Male  Affected   No\n",
       "\n",
       "[7051 rows x 7 columns]"
      ]
     },
     "execution_count": 9,
     "metadata": {},
     "output_type": "execute_result"
    }
   ],
   "source": [
    "SPARK_SP[SPARK_SP[\"Pheno\"]==\"Affected\"]"
   ]
  },
  {
   "cell_type": "code",
   "execution_count": 12,
   "metadata": {
    "hidden": true
   },
   "outputs": [],
   "source": [
    "SPARK_SP.to_csv(\"../dat/genes/ASD_OnlySPARK_Trios.txt\", sep=\"\\t\", index=False)"
   ]
  },
  {
   "cell_type": "code",
   "execution_count": 33,
   "metadata": {
    "hidden": true
   },
   "outputs": [],
   "source": [
    "SPs = SPARK_SP[\"IID\"].values"
   ]
  },
  {
   "cell_type": "code",
   "execution_count": 36,
   "metadata": {
    "hidden": true
   },
   "outputs": [],
   "source": [
    "DupPairs = pd.read_csv(\"../dat/genes/SPARK/Samp_LikelyDupPairs.txt\", sep=\"\\t\", header=None, names=None)\n",
    "DupPairs_new = DupPairs[(DupPairs[0].isin(SPs)) & (DupPairs[1].isin(SPs))]\n",
    "DupPairs_new.to_csv(\"../dat/genes/SPARK/SPARK_Samp_LikelyDupPairs.txt\", sep=\"\\t\", index=False, header=False)"
   ]
  },
  {
   "cell_type": "code",
   "execution_count": 37,
   "metadata": {
    "hidden": true
   },
   "outputs": [],
   "source": [
    "SibPairs = pd.read_csv(\"../dat/genes/SPARK/Samp_LikelySibPairs.txt\", sep=\"\\t\", header=None, names=None)\n",
    "SibPairs_new = SibPairs[(SibPairs[0].isin(SPs)) & (SibPairs[1].isin(SPs))]\n",
    "SibPairs_new.to_csv(\"../dat/genes/SPARK/SPARK_Samp_LikelySibPairs.txt\", sep=\"\\t\", index=False, header=False)"
   ]
  },
  {
   "cell_type": "markdown",
   "metadata": {},
   "source": [
    "## 1. SIxx"
   ]
  },
  {
   "cell_type": "code",
   "execution_count": 51,
   "metadata": {},
   "outputs": [],
   "source": [
    "DNV_West_DF = pd.read_csv(\"../dat/genes/SPARK/Spark_OnlyWEST_All.txt\", delimiter=\"\\t\")\n",
    "Spark_DNV_Mut = pd.read_csv(\"../dat/genes/ASD_OnlySPARK_DNVs.txt\", delimiter=\"\\t\")"
   ]
  },
  {
   "cell_type": "code",
   "execution_count": 52,
   "metadata": {},
   "outputs": [
    {
     "data": {
      "text/plain": [
       "{'frameshift',\n",
       " 'frameshift;frameshift',\n",
       " 'inframe_deletion',\n",
       " 'inframe_insertion',\n",
       " 'missense',\n",
       " 'missense;missense',\n",
       " 'missense;missense;missense;missense;missense;missense;missense;missense;missense;missense;missense;missense;missense;missense;missense',\n",
       " 'missense;synonymous',\n",
       " 'protein_altering',\n",
       " 'splice_acceptor',\n",
       " 'splice_donor',\n",
       " 'splice_donor;splice_donor',\n",
       " 'splice_region',\n",
       " 'splice_region;splice_region',\n",
       " 'start_lost',\n",
       " 'stop_gained',\n",
       " 'stop_gained;missense',\n",
       " 'stop_gained;stop_gained',\n",
       " 'stop_lost',\n",
       " 'stop_retained',\n",
       " 'synonymous',\n",
       " 'synonymous;missense',\n",
       " 'synonymous;synonymous'}"
      ]
     },
     "execution_count": 52,
     "metadata": {},
     "output_type": "execute_result"
    }
   ],
   "source": [
    "set(Spark_DNV_Mut[\"GeneEff\"].values)"
   ]
  },
  {
   "cell_type": "code",
   "execution_count": 53,
   "metadata": {},
   "outputs": [],
   "source": [
    "def CountMut(DF):\n",
    "    N_LGD, N_Dmis = 0,0\n",
    "    for i, row in DF.iterrows():\n",
    "        GeneEff = row[\"GeneEff\"].split(\";\")[0]\n",
    "        if GeneEff in [\"frameshift\", \"splice_acceptor\", \"splice_donor\", \"start_lost\", \"stop_gained\", \"stop_lost\"]:\n",
    "            N_LGD += 1\n",
    "        elif GeneEff == \"missense\":\n",
    "            if row[\"REVEL\"] != \".\":\n",
    "                if float(row[\"REVEL\"]) > 0.5:\n",
    "                    N_Dmis += 1\n",
    "    return N_LGD, N_Dmis"
   ]
  },
  {
   "cell_type": "code",
   "execution_count": 55,
   "metadata": {},
   "outputs": [
    {
     "data": {
      "text/html": [
       "<div>\n",
       "<style scoped>\n",
       "    .dataframe tbody tr th:only-of-type {\n",
       "        vertical-align: middle;\n",
       "    }\n",
       "\n",
       "    .dataframe tbody tr th {\n",
       "        vertical-align: top;\n",
       "    }\n",
       "\n",
       "    .dataframe thead th {\n",
       "        text-align: right;\n",
       "    }\n",
       "</style>\n",
       "<table border=\"1\" class=\"dataframe\">\n",
       "  <thead>\n",
       "    <tr style=\"text-align: right;\">\n",
       "      <th></th>\n",
       "      <th>GeneID</th>\n",
       "      <th>HGNC</th>\n",
       "      <th>EntrezID</th>\n",
       "      <th>pLI</th>\n",
       "      <th>LOUEFbin</th>\n",
       "      <th>LOUEF</th>\n",
       "      <th>LoFOvsE</th>\n",
       "      <th>SynOvsE</th>\n",
       "      <th>sHet</th>\n",
       "      <th>forecASD</th>\n",
       "      <th>...</th>\n",
       "      <th>AllExpected</th>\n",
       "      <th>pAllEnrich</th>\n",
       "      <th>MisObserved</th>\n",
       "      <th>MisExpected</th>\n",
       "      <th>pMisEnrich</th>\n",
       "      <th>MisEvents</th>\n",
       "      <th>MisDist</th>\n",
       "      <th>pMisCluster</th>\n",
       "      <th>pMisComb</th>\n",
       "      <th>pDenovoWEST</th>\n",
       "    </tr>\n",
       "  </thead>\n",
       "  <tbody>\n",
       "    <tr>\n",
       "      <th>0</th>\n",
       "      <td>ENSG00000169057</td>\n",
       "      <td>MECP2</td>\n",
       "      <td>4204</td>\n",
       "      <td>0.698089047724915</td>\n",
       "      <td>1</td>\n",
       "      <td>4.0700e-01</td>\n",
       "      <td>8.5755e-02</td>\n",
       "      <td>2.0282e+00</td>\n",
       "      <td>0.0882033728499718</td>\n",
       "      <td>0.659685863874346</td>\n",
       "      <td>...</td>\n",
       "      <td>0.030862147475845807</td>\n",
       "      <td>1.06E-15</td>\n",
       "      <td>2.3310000000000004</td>\n",
       "      <td>0.02324823948587133</td>\n",
       "      <td>1.11E-14</td>\n",
       "      <td>7</td>\n",
       "      <td>257.2</td>\n",
       "      <td>0.16</td>\n",
       "      <td>6.34E-14</td>\n",
       "      <td>1.06E-15</td>\n",
       "    </tr>\n",
       "  </tbody>\n",
       "</table>\n",
       "<p>1 rows × 29 columns</p>\n",
       "</div>"
      ],
      "text/plain": [
       "            GeneID   HGNC EntrezID                pLI LOUEFbin       LOUEF  \\\n",
       "0  ENSG00000169057  MECP2     4204  0.698089047724915        1  4.0700e-01   \n",
       "\n",
       "      LoFOvsE     SynOvsE                sHet           forecASD  ...  \\\n",
       "0  8.5755e-02  2.0282e+00  0.0882033728499718  0.659685863874346  ...   \n",
       "\n",
       "            AllExpected pAllEnrich         MisObserved          MisExpected  \\\n",
       "0  0.030862147475845807   1.06E-15  2.3310000000000004  0.02324823948587133   \n",
       "\n",
       "  pMisEnrich MisEvents MisDist pMisCluster  pMisComb pDenovoWEST  \n",
       "0   1.11E-14         7   257.2        0.16  6.34E-14    1.06E-15  \n",
       "\n",
       "[1 rows x 29 columns]"
      ]
     },
     "execution_count": 55,
     "metadata": {},
     "output_type": "execute_result"
    }
   ],
   "source": [
    "Muts"
   ]
  },
  {
   "cell_type": "code",
   "execution_count": 79,
   "metadata": {},
   "outputs": [],
   "source": [
    "for i, row in DNV_West_DF.iterrows():\n",
    "    HGNC = row[\"HGNC\"]\n",
    "    Muts = Spark_DNV_Mut[Spark_DNV_Mut[\"HGNC\"]==HGNC]\n",
    "    N_LGD, N_Dmis = CountMut(Muts)\n",
    "    DNV_West_DF.loc[i, \"dnLGD\"] = N_LGD\n",
    "    DNV_West_DF.loc[i, \"dnDmis\"] = N_Dmis"
   ]
  },
  {
   "cell_type": "code",
   "execution_count": 80,
   "metadata": {},
   "outputs": [
    {
     "data": {
      "text/html": [
       "<div>\n",
       "<style scoped>\n",
       "    .dataframe tbody tr th:only-of-type {\n",
       "        vertical-align: middle;\n",
       "    }\n",
       "\n",
       "    .dataframe tbody tr th {\n",
       "        vertical-align: top;\n",
       "    }\n",
       "\n",
       "    .dataframe thead th {\n",
       "        text-align: right;\n",
       "    }\n",
       "</style>\n",
       "<table border=\"1\" class=\"dataframe\">\n",
       "  <thead>\n",
       "    <tr style=\"text-align: right;\">\n",
       "      <th></th>\n",
       "      <th>GeneID</th>\n",
       "      <th>HGNC</th>\n",
       "      <th>EntrezID</th>\n",
       "      <th>pLI</th>\n",
       "      <th>LOUEFbin</th>\n",
       "      <th>LOUEF</th>\n",
       "      <th>LoFOvsE</th>\n",
       "      <th>SynOvsE</th>\n",
       "      <th>sHet</th>\n",
       "      <th>forecASD</th>\n",
       "      <th>...</th>\n",
       "      <th>MisObserved</th>\n",
       "      <th>MisExpected</th>\n",
       "      <th>pMisEnrich</th>\n",
       "      <th>MisEvents</th>\n",
       "      <th>MisDist</th>\n",
       "      <th>pMisCluster</th>\n",
       "      <th>pMisComb</th>\n",
       "      <th>pDenovoWEST</th>\n",
       "      <th>dnLGD</th>\n",
       "      <th>dnDmis</th>\n",
       "    </tr>\n",
       "  </thead>\n",
       "  <tbody>\n",
       "    <tr>\n",
       "      <th>0</th>\n",
       "      <td>ENSG00000169057</td>\n",
       "      <td>MECP2</td>\n",
       "      <td>4204</td>\n",
       "      <td>0.698089047724915</td>\n",
       "      <td>1</td>\n",
       "      <td>4.0700e-01</td>\n",
       "      <td>8.5755e-02</td>\n",
       "      <td>2.0282e+00</td>\n",
       "      <td>0.0882033728499718</td>\n",
       "      <td>0.659685863874346</td>\n",
       "      <td>...</td>\n",
       "      <td>2.3310000000000004</td>\n",
       "      <td>0.02324823948587133</td>\n",
       "      <td>1.11E-14</td>\n",
       "      <td>7</td>\n",
       "      <td>257.2</td>\n",
       "      <td>0.16</td>\n",
       "      <td>6.34E-14</td>\n",
       "      <td>1.06E-15</td>\n",
       "      <td>2.0</td>\n",
       "      <td>7.0</td>\n",
       "    </tr>\n",
       "    <tr>\n",
       "      <th>1</th>\n",
       "      <td>ENSG00000251322</td>\n",
       "      <td>SHANK3</td>\n",
       "      <td>85358</td>\n",
       "      <td>0.999839619981909</td>\n",
       "      <td>0</td>\n",
       "      <td>1.2300e-01</td>\n",
       "      <td>3.9226e-02</td>\n",
       "      <td>1.2148e+00</td>\n",
       "      <td>.</td>\n",
       "      <td>0.896</td>\n",
       "      <td>...</td>\n",
       "      <td>1.197</td>\n",
       "      <td>0.13206389525852902</td>\n",
       "      <td>3.43E-06</td>\n",
       "      <td>5</td>\n",
       "      <td>1186.8</td>\n",
       "      <td>0.46</td>\n",
       "      <td>2.27E-05</td>\n",
       "      <td>1.00E-14</td>\n",
       "      <td>9.0</td>\n",
       "      <td>3.0</td>\n",
       "    </tr>\n",
       "  </tbody>\n",
       "</table>\n",
       "<p>2 rows × 31 columns</p>\n",
       "</div>"
      ],
      "text/plain": [
       "            GeneID    HGNC EntrezID                pLI LOUEFbin       LOUEF  \\\n",
       "0  ENSG00000169057   MECP2     4204  0.698089047724915        1  4.0700e-01   \n",
       "1  ENSG00000251322  SHANK3    85358  0.999839619981909        0  1.2300e-01   \n",
       "\n",
       "      LoFOvsE     SynOvsE                sHet           forecASD  ...  \\\n",
       "0  8.5755e-02  2.0282e+00  0.0882033728499718  0.659685863874346  ...   \n",
       "1  3.9226e-02  1.2148e+00                   .              0.896  ...   \n",
       "\n",
       "          MisObserved          MisExpected pMisEnrich MisEvents MisDist  \\\n",
       "0  2.3310000000000004  0.02324823948587133   1.11E-14         7   257.2   \n",
       "1               1.197  0.13206389525852902   3.43E-06         5  1186.8   \n",
       "\n",
       "  pMisCluster  pMisComb pDenovoWEST dnLGD dnDmis  \n",
       "0        0.16  6.34E-14    1.06E-15   2.0    7.0  \n",
       "1        0.46  2.27E-05    1.00E-14   9.0    3.0  \n",
       "\n",
       "[2 rows x 31 columns]"
      ]
     },
     "execution_count": 80,
     "metadata": {},
     "output_type": "execute_result"
    }
   ],
   "source": [
    "DNV_West_DF.head(2)"
   ]
  },
  {
   "cell_type": "code",
   "execution_count": 81,
   "metadata": {},
   "outputs": [],
   "source": [
    "SPARK = DNV_West_DF.head(102)\n",
    "SPARK_101 = set(SPARK[\"EntrezID\"].values)"
   ]
  },
  {
   "cell_type": "code",
   "execution_count": 82,
   "metadata": {},
   "outputs": [],
   "source": [
    "DNV_West_DF.to_csv(\"../dat/genes/SPARK/SPARK_Only_WEST_MutN.csv\", index=False)"
   ]
  },
  {
   "cell_type": "code",
   "execution_count": 77,
   "metadata": {},
   "outputs": [],
   "source": [
    "asc_df = pd.read_csv(\"../dat/genes/asd/asc_tada_RR.csv\")\n",
    "asc_101 = set(asc_df.head(102)[\"entrez_id\"].values)"
   ]
  },
  {
   "cell_type": "code",
   "execution_count": 83,
   "metadata": {},
   "outputs": [
    {
     "data": {
      "text/plain": [
       "<matplotlib.axes._subplots.AxesSubplot at 0x133c1f048>"
      ]
     },
     "execution_count": 83,
     "metadata": {},
     "output_type": "execute_result"
    },
    {
     "data": {
      "text/plain": [
       "<Figure size 720x480 with 0 Axes>"
      ]
     },
     "metadata": {},
     "output_type": "display_data"
    },
    {
     "data": {
      "image/png": "[encoded data removed]",
      "text/plain": [
       "<Figure size 640x640 with 1 Axes>"
      ]
     },
     "metadata": {},
     "output_type": "display_data"
    }
   ],
   "source": [
    "dat_dict = {\"ASC\": asc_101, \"SPARK\":set(SPARK[\"EntrezID\"].values), }\n",
    "plt.figure(dpi=120)\n",
    "venn(dat_dict)"
   ]
  },
  {
   "cell_type": "code",
   "execution_count": 71,
   "metadata": {},
   "outputs": [
    {
     "ename": "TypeError",
     "evalue": "venn_dispatch() got multiple values for argument 'func'",
     "output_type": "error",
     "traceback": [
      "\u001b[0;31m---------------------------------------------------------------------------\u001b[0m",
      "\u001b[0;31mTypeError\u001b[0m                                 Traceback (most recent call last)",
      "\u001b[0;32m<ipython-input-71-8302c27e17b9>\u001b[0m in \u001b[0;36m<module>\u001b[0;34m\u001b[0m\n\u001b[0;32m----> 1\u001b[0;31m \u001b[0mvenn\u001b[0m\u001b[0;34m(\u001b[0m\u001b[0mSPARK_101\u001b[0m\u001b[0;34m,\u001b[0m \u001b[0masc_101\u001b[0m\u001b[0;34m)\u001b[0m\u001b[0;34m\u001b[0m\u001b[0;34m\u001b[0m\u001b[0m\n\u001b[0m",
      "\u001b[0;31mTypeError\u001b[0m: venn_dispatch() got multiple values for argument 'func'"
     ]
    }
   ],
   "source": [
    "venn(SPARK_101, asc_101)"
   ]
  },
  {
   "cell_type": "code",
   "execution_count": null,
   "metadata": {},
   "outputs": [],
   "source": []
  }
 ],
 "metadata": {
  "kernelspec": {
   "display_name": "Python 3",
   "language": "python",
   "name": "python3"
  },
  "language_info": {
   "codemirror_mode": {
    "name": "ipython",
    "version": 3
   },
   "file_extension": ".py",
   "mimetype": "text/x-python",
   "name": "python",
   "nbconvert_exporter": "python",
   "pygments_lexer": "ipython3",
   "version": "3.7.1"
  }
 },
 "nbformat": 4,
 "nbformat_minor": 2
}
