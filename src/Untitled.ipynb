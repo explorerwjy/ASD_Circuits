{
 "cells": [
  {
   "cell_type": "code",
   "execution_count": 2,
   "metadata": {},
   "outputs": [
    {
     "name": "stderr",
     "output_type": "stream",
     "text": [
      "/Users/jiayao/anaconda3/lib/python3.7/site-packages/IPython/core/interactiveshell.py:3020: DtypeWarning: Columns (38,48) have mixed types. Specify dtype option on import or set low_memory=False.\n",
      "  interactivity=interactivity, compiler=compiler, result=result)\n"
     ]
    }
   ],
   "source": [
    "%load_ext autoreload\n",
    "%autoreload 2\n",
    "from ASD_Circuits import *\n",
    "\n",
    "HGNC = pd.read_csv(\"/Users/jiayao/Work/Resources/protein-coding_gene.txt\", delimiter=\"\\t\")\n",
    "ENSID2Entrez = dict(zip(HGNC[\"ensembl_gene_id\"].values, HGNC[\"entrez_id\"].values))\n",
    "GeneSymbol2Entrez = dict(zip(HGNC[\"symbol\"].values, HGNC[\"entrez_id\"].values))\n",
    "Entrez2Symbol = dict(zip(HGNC[\"entrez_id\"].values, HGNC[\"symbol\"].values))\n",
    "allen_mouse_genes = loadgenelist(\"../dat/allen-mouse-exp/allen-mouse-gene_entrez.txt\")"
   ]
  },
  {
   "cell_type": "code",
   "execution_count": 27,
   "metadata": {},
   "outputs": [
    {
     "data": {
      "text/html": [
       "<div>\n",
       "<style scoped>\n",
       "    .dataframe tbody tr th:only-of-type {\n",
       "        vertical-align: middle;\n",
       "    }\n",
       "\n",
       "    .dataframe tbody tr th {\n",
       "        vertical-align: top;\n",
       "    }\n",
       "\n",
       "    .dataframe thead th {\n",
       "        text-align: right;\n",
       "    }\n",
       "</style>\n",
       "<table border=\"1\" class=\"dataframe\">\n",
       "  <thead>\n",
       "    <tr style=\"text-align: right;\">\n",
       "      <th></th>\n",
       "      <th>EXP</th>\n",
       "      <th>LENGTH.LOG2</th>\n",
       "    </tr>\n",
       "    <tr>\n",
       "      <th>GENE</th>\n",
       "      <th></th>\n",
       "      <th></th>\n",
       "    </tr>\n",
       "  </thead>\n",
       "  <tbody>\n",
       "    <tr>\n",
       "      <th>1</th>\n",
       "      <td>0.064184</td>\n",
       "      <td>10.539159</td>\n",
       "    </tr>\n",
       "    <tr>\n",
       "      <th>2</th>\n",
       "      <td>0.270140</td>\n",
       "      <td>12.111462</td>\n",
       "    </tr>\n",
       "  </tbody>\n",
       "</table>\n",
       "</div>"
      ],
      "text/plain": [
       "           EXP  LENGTH.LOG2\n",
       "GENE                       \n",
       "1     0.064184    10.539159\n",
       "2     0.270140    12.111462"
      ]
     },
     "execution_count": 27,
     "metadata": {},
     "output_type": "execute_result"
    }
   ],
   "source": [
    "match_feature = pd.read_csv(\"/Users/jiayao/Work/ASD_Circuits/src/dat/match-features.csv\", index_col=\"GENE\")\n",
    "match_feature.head(2)"
   ]
  },
  {
   "cell_type": "code",
   "execution_count": 53,
   "metadata": {},
   "outputs": [],
   "source": [
    "match_feature = match_feature.sort_values(\"LENGTH.LOG2\")\n",
    "Ndiciles = 10\n",
    "interval = int(match_feature.shape[0]/Ndiciles)\n",
    "Deciles = []\n",
    "LengthCut = []\n",
    "for i in range(Ndiciles):\n",
    "    Deciles.append(match_feature.index.values[i * interval:(i+1)*interval])\n",
    "    LengthCut.append(match_feature.loc[match_feature.index.values[(i+1)*interval-1], \"LENGTH.LOG2\"])"
   ]
  },
  {
   "cell_type": "code",
   "execution_count": 100,
   "metadata": {},
   "outputs": [],
   "source": [
    "Percent_True_LGD = []\n",
    "Enrichment_LGD = []\n",
    "Percent_True_Mis = []\n",
    "Enrichment_Mis = []\n",
    "for i in range(Ndiciles):\n",
    "    test_genes = asc[asc[\"entrez_id\"].isin(Deciles[i])]\n",
    "    N_LGD = sum(test_genes[\"dn.ptv\"])\n",
    "    N_LGD_exp = sum(test_genes[\"mut.ptv\"]) * 2 * ASC_NTrio\n",
    "    #print(N_LGD, N_LGD_exp, (N_LGD - N_LGD_exp)/N_LGD)\n",
    "    Percent_True_LGD.append((N_LGD - N_LGD_exp)/N_LGD)\n",
    "    Enrichment_LGD.append(N_LGD/N_LGD_exp)\n",
    "    \n",
    "    N_Mis = sum(test_genes[\"dn.misa\"]) + sum(test_genes[\"dn.misb\"])\n",
    "    N_Mis_exp = sum(test_genes[\"mut.misa\"]) * 2 * ASC_NTrio + sum(test_genes[\"mut.misb\"]) * 2 * ASC_NTrio\n",
    "    Percent_True_Mis.append((N_Mis - N_Mis_exp)/N_Mis)\n",
    "    Enrichment_Mis.append(N_Mis/N_Mis_exp)"
   ]
  },
  {
   "cell_type": "code",
   "execution_count": 102,
   "metadata": {},
   "outputs": [
    {
     "data": {
      "text/plain": [
       "Text(0.5, 1.0, 'ASC Gene Enrichment by length')"
      ]
     },
     "execution_count": 102,
     "metadata": {},
     "output_type": "execute_result"
    },
    {
     "data": {
      "image/png": "[encoded data removed]",
      "text/plain": [
       "<Figure size 432x288 with 1 Axes>"
      ]
     },
     "metadata": {
      "needs_background": "light"
     },
     "output_type": "display_data"
    }
   ],
   "source": [
    "plt.plot(list(range(10)), Percent_True_LGD, label=\"LGD\", marker=\"o\")\n",
    "plt.plot(list(range(10)), Percent_True_Mis, label=\"DMis\", marker=\"o\")\n",
    "plt.legend()\n",
    "plt.xlabel(\"Length Deciles\")\n",
    "plt.ylabel(\"Percent_True\")\n",
    "plt.title(\"ASC Gene Enrichment by length\")"
   ]
  },
  {
   "cell_type": "code",
   "execution_count": 94,
   "metadata": {},
   "outputs": [],
   "source": [
    "spark_tada = pd.read_csv(\"../dat/genes/asd/spark_tada_RR.csv\")\n",
    "SPARK_NTrio = 7015"
   ]
  },
  {
   "cell_type": "code",
   "execution_count": 95,
   "metadata": {},
   "outputs": [],
   "source": [
    "spark_tada = spark_tada[spark_tada[\"Entrez\"]!=\".\"]"
   ]
  },
  {
   "cell_type": "code",
   "execution_count": 96,
   "metadata": {},
   "outputs": [],
   "source": [
    "spark_tada[\"Entrez\"] = [int(x) for x in spark_tada[\"Entrez\"].values]"
   ]
  },
  {
   "cell_type": "code",
   "execution_count": 97,
   "metadata": {},
   "outputs": [],
   "source": [
    "Percent_True_LGD = []\n",
    "Enrichment_LGD = []\n",
    "Percent_True_Mis = []\n",
    "Enrichment_Mis = []\n",
    "for i in range(Ndiciles):\n",
    "    test_genes = spark_tada[spark_tada[\"Entrez\"].isin(Deciles[i])]\n",
    "    N_LGD = sum(test_genes[\"dnLGD\"])\n",
    "    N_LGD_exp = sum(test_genes[\"mutLGD\"]) * 2 * SPARK_NTrio\n",
    "    #print(N_LGD, N_LGD_exp, (N_LGD - N_LGD_exp)/N_LGD)\n",
    "    Percent_True_LGD.append((N_LGD - N_LGD_exp)/N_LGD)\n",
    "    Enrichment_LGD.append(N_LGD/N_LGD_exp)\n",
    "    \n",
    "    N_Mis = sum(test_genes[\"dnDmis\"]) \n",
    "    N_Mis_exp = sum(test_genes[\"mutDmis\"]) * 2 * SPARK_NTrio\n",
    "    Percent_True_Mis.append((N_Mis - N_Mis_exp)/N_Mis)\n",
    "    Enrichment_Mis.append(N_Mis/N_Mis_exp)"
   ]
  },
  {
   "cell_type": "code",
   "execution_count": 98,
   "metadata": {},
   "outputs": [
    {
     "data": {
      "text/plain": [
       "Text(0.5, 1.0, 'SPARK Gene Enrichment by length')"
      ]
     },
     "execution_count": 98,
     "metadata": {},
     "output_type": "execute_result"
    },
    {
     "data": {
      "image/png": "[encoded data removed]",
      "text/plain": [
       "<Figure size 432x288 with 1 Axes>"
      ]
     },
     "metadata": {
      "needs_background": "light"
     },
     "output_type": "display_data"
    }
   ],
   "source": [
    "plt.plot(list(range(10)), Enrichment_LGD, label=\"LGD\", marker=\"o\")\n",
    "plt.plot(list(range(10)), Enrichment_Mis, label=\"DMis\", marker=\"o\")\n",
    "plt.legend()\n",
    "plt.xlabel(\"Length Deciles\")\n",
    "plt.ylabel(\"Enrichment\")\n",
    "plt.title(\"SPARK Gene Enrichment by length\")"
   ]
  },
  {
   "cell_type": "code",
   "execution_count": null,
   "metadata": {},
   "outputs": [],
   "source": []
  },
  {
   "cell_type": "code",
   "execution_count": null,
   "metadata": {},
   "outputs": [],
   "source": []
  },
  {
   "cell_type": "code",
   "execution_count": 4,
   "metadata": {},
   "outputs": [
    {
     "data": {
      "text/plain": [
       "<matplotlib.axes._subplots.AxesSubplot at 0x110ed5cf8>"
      ]
     },
     "execution_count": 4,
     "metadata": {},
     "output_type": "execute_result"
    },
    {
     "data": {
      "image/png": "[encoded data removed]",
      "text/plain": [
       "<Figure size 432x288 with 1 Axes>"
      ]
     },
     "metadata": {
      "needs_background": "light"
     },
     "output_type": "display_data"
    }
   ],
   "source": [
    "match_feature[\"LENGTH.LOG2\"].hist()"
   ]
  },
  {
   "cell_type": "code",
   "execution_count": 36,
   "metadata": {},
   "outputs": [],
   "source": [
    "# Check enrichment\n",
    "asc = pd.read_excel(\"../dat/genes/1-s2.0-S0092867419313984-mmc2.xlsx\", sheet_name=\"Autosomal\")\n",
    "ssc = pd.read_excel(\"../dat/genes/pnas.1516376112.sd01.xlsx\", sheet_name=\"ST1-genes-beautified\")"
   ]
  },
  {
   "cell_type": "code",
   "execution_count": 111,
   "metadata": {},
   "outputs": [
    {
     "data": {
      "text/plain": [
       "(17484, 55)"
      ]
     },
     "execution_count": 111,
     "metadata": {},
     "output_type": "execute_result"
    }
   ],
   "source": [
    "asc.shape"
   ]
  },
  {
   "cell_type": "code",
   "execution_count": 112,
   "metadata": {},
   "outputs": [
    {
     "data": {
      "text/plain": [
       "array(['gene', 'hugoGene', 'hgnc_id', 'entrez_id', 'ensembl_gene_id',\n",
       "       'refseq_accession', 'uniprot_ids', 'location', 'chr', 'start_hg38',\n",
       "       'stop_hg38', 'strand', 'cDNA', 'exons', 'dn.ptv', 'dn.misa',\n",
       "       'dn.misb', 'dbs.case.ptv', 'dbs.control.ptv', 'sweden.case.ptv',\n",
       "       'sweden.control.ptv', 'case.ptv', 'control.ptv', 'mut.ptv',\n",
       "       'mut.misa', 'mut.misb', 'pLI', 'gamma_dn.ptv', 'gamma_dn.misa',\n",
       "       'gamma_dn.misb', 'BF_dn.ptv', 'BF_dn.misa', 'BF_dn.misb',\n",
       "       'gamma_cc_ptv', 'rho.ptv', 'BF_cc.ptv', 'qval_dnccPTV',\n",
       "       'ddidDN.ptv', 'ddidDN.misb', 'ddidDN.misa', 'asd_rate_dn',\n",
       "       'asd_dn', 'ddid_dn', 'ddid_rate_dn', 'Transmitted_PTV_proband',\n",
       "       'Untransmitted_PTV_proband', 'ASC33_2014', 'SSC27_2014',\n",
       "       'ASC65_2015', 'ASC102_2018', 'ASD:DDID', 'ASD_vs_DDID', 'ASD53',\n",
       "       'DDID49', 'Function'], dtype=object)"
      ]
     },
     "execution_count": 112,
     "metadata": {},
     "output_type": "execute_result"
    }
   ],
   "source": [
    "asc.columns.values"
   ]
  },
  {
   "cell_type": "code",
   "execution_count": 114,
   "metadata": {},
   "outputs": [
    {
     "data": {
      "text/plain": [
       "2220"
      ]
     },
     "execution_count": 114,
     "metadata": {},
     "output_type": "execute_result"
    }
   ],
   "source": [
    "asc[\"dn.ptv\"].sum() + asc[\"dn.misa\"].sum() + asc[\"dn.misb\"].sum() "
   ]
  },
  {
   "cell_type": "code",
   "execution_count": 31,
   "metadata": {},
   "outputs": [],
   "source": [
    "for i, row in asc.iterrows():\n",
    "    #print(i, row[\"entrez_id\"])\n",
    "    try:\n",
    "        asc.loc[i, \"LENGTH.LOG2\"] = match_feature.loc[row[\"entrez_id\"], \"LENGTH.LOG2\"]\n",
    "    except:\n",
    "        asc.loc[i, \"LENGTH.LOG2\"] = 0"
   ]
  },
  {
   "cell_type": "code",
   "execution_count": 108,
   "metadata": {},
   "outputs": [
    {
     "name": "stdout",
     "output_type": "stream",
     "text": [
      "972 607.1299978120027 0.3753806606872401\n"
     ]
    }
   ],
   "source": [
    "ASC_NTrio = 6430\n",
    "N_LGD = sum(asc[\"dn.ptv\"])\n",
    "N_LGD_exp = sum(asc[\"mut.ptv\"]) * 2 * ASC_NTrio\n",
    "print(N_LGD, N_LGD_exp, (N_LGD - N_LGD_exp)/N_LGD)"
   ]
  },
  {
   "cell_type": "code",
   "execution_count": 42,
   "metadata": {},
   "outputs": [],
   "source": [
    "cutoff = 11\n",
    "long_genes = match_feature[match_feature[\"LENGTH.LOG2\"]>=cutoff].index.values\n",
    "short_genes = match_feature[match_feature[\"LENGTH.LOG2\"]<cutoff].index.values"
   ]
  },
  {
   "cell_type": "code",
   "execution_count": 43,
   "metadata": {},
   "outputs": [],
   "source": [
    "asc_long = asc[asc[\"entrez_id\"].isin(long_genes)]\n",
    "asc_short = asc[asc[\"entrez_id\"].isin(short_genes)]"
   ]
  },
  {
   "cell_type": "code",
   "execution_count": 44,
   "metadata": {},
   "outputs": [
    {
     "name": "stdout",
     "output_type": "stream",
     "text": [
      "586 302.34213201913906 0.4840577951891825\n"
     ]
    }
   ],
   "source": [
    "N_LGD_long = sum(asc_long[\"dn.ptv\"])\n",
    "N_LGD_exp_long = sum(asc_long[\"mut.ptv\"]) * 2 * ASC_NTrio\n",
    "print(N_LGD_long, N_LGD_exp_long, (N_LGD_long - N_LGD_exp_long)/N_LGD_long)"
   ]
  },
  {
   "cell_type": "code",
   "execution_count": 45,
   "metadata": {},
   "outputs": [
    {
     "name": "stdout",
     "output_type": "stream",
     "text": [
      "278 233.79230464659517 0.1590204868827512\n"
     ]
    }
   ],
   "source": [
    "N_LGD_short = sum(asc_short[\"dn.ptv\"])\n",
    "N_LGD_exp_short = sum(asc_short[\"mut.ptv\"]) * 2 * ASC_NTrio\n",
    "print(N_LGD_short, N_LGD_exp_short, (N_LGD_short - N_LGD_exp_short)/N_LGD_short)"
   ]
  },
  {
   "cell_type": "code",
   "execution_count": 33,
   "metadata": {},
   "outputs": [
    {
     "data": {
      "text/plain": [
       "<matplotlib.axes._subplots.AxesSubplot at 0x13f7b95f8>"
      ]
     },
     "execution_count": 33,
     "metadata": {},
     "output_type": "execute_result"
    },
    {
     "data": {
      "image/png": "[encoded data removed]",
      "text/plain": [
       "<Figure size 432x288 with 1 Axes>"
      ]
     },
     "metadata": {
      "needs_background": "light"
     },
     "output_type": "display_data"
    }
   ],
   "source": [
    "asc.head(300)[\"LENGTH.LOG2\"].hist()"
   ]
  },
  {
   "cell_type": "code",
   "execution_count": null,
   "metadata": {},
   "outputs": [],
   "source": []
  },
  {
   "cell_type": "code",
   "execution_count": null,
   "metadata": {},
   "outputs": [],
   "source": []
  },
  {
   "cell_type": "code",
   "execution_count": null,
   "metadata": {},
   "outputs": [],
   "source": []
  },
  {
   "cell_type": "code",
   "execution_count": 120,
   "metadata": {},
   "outputs": [
    {
     "data": {
      "text/plain": [
       "365"
      ]
     },
     "execution_count": 120,
     "metadata": {},
     "output_type": "execute_result"
    }
   ],
   "source": [
    "0.3753806606872401"
   ]
  },
  {
   "cell_type": "code",
   "execution_count": 185,
   "metadata": {},
   "outputs": [],
   "source": [
    "N_Mis = sum(asc[\"dn.misa\"]) + sum(asc[\"dn.misb\"])\n",
    "N_Mis_exp = (sum(asc[\"mut.misa\"]) + sum(asc[\"mut.misb\"])) * 2 * ASC_NTrio"
   ]
  },
  {
   "cell_type": "code",
   "execution_count": 186,
   "metadata": {},
   "outputs": [
    {
     "name": "stdout",
     "output_type": "stream",
     "text": [
      "1248 1065.95140089696 0.14587227492230773\n"
     ]
    }
   ],
   "source": [
    "print(N_Mis, N_Mis_exp, (N_Mis - N_Mis_exp)/N_Mis)"
   ]
  },
  {
   "cell_type": "code",
   "execution_count": 125,
   "metadata": {},
   "outputs": [
    {
     "data": {
      "text/plain": [
       "182.04859910304003"
      ]
     },
     "execution_count": 125,
     "metadata": {},
     "output_type": "execute_result"
    }
   ],
   "source": [
    "1248-1065.95140089696"
   ]
  },
  {
   "cell_type": "code",
   "execution_count": 137,
   "metadata": {},
   "outputs": [
    {
     "data": {
      "text/plain": [
       "2.0054945054945055"
      ]
     },
     "execution_count": 137,
     "metadata": {},
     "output_type": "execute_result"
    }
   ],
   "source": [
    "365 / 182"
   ]
  },
  {
   "cell_type": "code",
   "execution_count": 132,
   "metadata": {},
   "outputs": [],
   "source": [
    "asc102 = pd.read_excel(\"../dat/genes/1-s2.0-S0092867419313984-mmc2.xlsx\", sheet_name=\"102_ASD\")\n",
    "asc102 = asc[asc[\"gene\"].isin(asc102[\"gene\"].values)]"
   ]
  },
  {
   "cell_type": "code",
   "execution_count": 133,
   "metadata": {},
   "outputs": [
    {
     "data": {
      "text/plain": [
       "216"
      ]
     },
     "execution_count": 133,
     "metadata": {},
     "output_type": "execute_result"
    }
   ],
   "source": [
    "sum(asc102[\"dn.ptv\"])"
   ]
  },
  {
   "cell_type": "code",
   "execution_count": 134,
   "metadata": {},
   "outputs": [
    {
     "data": {
      "text/plain": [
       "175"
      ]
     },
     "execution_count": 134,
     "metadata": {},
     "output_type": "execute_result"
    }
   ],
   "source": [
    "sum(asc102[\"dn.misa\"]) + sum(asc102[\"dn.misb\"])"
   ]
  },
  {
   "cell_type": "code",
   "execution_count": 136,
   "metadata": {},
   "outputs": [
    {
     "data": {
      "text/plain": [
       "1.2342857142857142"
      ]
     },
     "execution_count": 136,
     "metadata": {},
     "output_type": "execute_result"
    }
   ],
   "source": [
    "216 / 175"
   ]
  },
  {
   "cell_type": "code",
   "execution_count": null,
   "metadata": {},
   "outputs": [],
   "source": []
  },
  {
   "cell_type": "code",
   "execution_count": null,
   "metadata": {},
   "outputs": [],
   "source": []
  },
  {
   "cell_type": "code",
   "execution_count": null,
   "metadata": {},
   "outputs": [],
   "source": []
  },
  {
   "cell_type": "code",
   "execution_count": 145,
   "metadata": {},
   "outputs": [
    {
     "name": "stdout",
     "output_type": "stream",
     "text": [
      "582 236.80902558514816 2.457676596413059\n"
     ]
    }
   ],
   "source": [
    "SSC_Prob = 2508\n",
    "SSC_Sib = 1911\n",
    "N_LGD = sum(ssc[\"dnv_LGDs_prb\"])\n",
    "N_LGD_exp = sum(asc[\"mut.ptv\"]) * 2 * ASC_NTrio#sum(ssc[\"dnv_LGDs_sib\"]) \n",
    "print(N_LGD, N_LGD_exp, N_LGD/N_LGD_exp)"
   ]
  },
  {
   "cell_type": "code",
   "execution_count": 157,
   "metadata": {},
   "outputs": [
    {
     "name": "stdout",
     "output_type": "stream",
     "text": [
      "0.2579744816586922 0.25798011512297225 -2.1837292757959545e-05\n"
     ]
    }
   ],
   "source": [
    "N_LGD = sum(ssc[\"dnv_synonymous_prb\"])/SSC_Prob\n",
    "N_LGD_exp = sum(ssc[\"dnv_synonymous_sib\"])/SSC_Sib\n",
    "print(N_LGD, N_LGD_exp, (N_LGD - N_LGD_exp)/N_LGD)"
   ]
  },
  {
   "cell_type": "code",
   "execution_count": null,
   "metadata": {},
   "outputs": [],
   "source": []
  },
  {
   "cell_type": "code",
   "execution_count": null,
   "metadata": {},
   "outputs": [],
   "source": []
  },
  {
   "cell_type": "code",
   "execution_count": null,
   "metadata": {},
   "outputs": [],
   "source": []
  },
  {
   "cell_type": "code",
   "execution_count": 152,
   "metadata": {},
   "outputs": [],
   "source": [
    "ssc = pd.read_excel(\"../dat/genes/Supplementary_Table_7.xlsx\")"
   ]
  },
  {
   "cell_type": "code",
   "execution_count": 154,
   "metadata": {},
   "outputs": [
    {
     "name": "stdout",
     "output_type": "stream",
     "text": [
      "0.2579744816586922 0.25798011512297225 0.9999781631840989\n"
     ]
    }
   ],
   "source": [
    "SSC_Prob = 2508\n",
    "SSC_Sib = 1911\n",
    "N_LGD = sum(ssc[\"dnv_synonymous_prb\"])/SSC_Prob\n",
    "N_LGD_exp = sum(ssc[\"dnv_synonymous_sib\"])/SSC_Sib\n",
    "print(N_LGD, N_LGD_exp, N_LGD/N_LGD_exp)"
   ]
  },
  {
   "cell_type": "code",
   "execution_count": 161,
   "metadata": {},
   "outputs": [
    {
     "name": "stdout",
     "output_type": "stream",
     "text": [
      "0.1559011164274322 0.09366823652537938 0.3991817462771061\n"
     ]
    }
   ],
   "source": [
    "SSC_Prob = 2508\n",
    "SSC_Sib = 1911\n",
    "N_LGD = sum(ssc[\"dnv_LGDs_prb\"])/SSC_Prob\n",
    "N_LGD_exp = sum(ssc[\"dnv_LGDs_sib\"])/SSC_Sib\n",
    "print(N_LGD, N_LGD_exp, (N_LGD - N_LGD_exp)/N_LGD)"
   ]
  },
  {
   "cell_type": "code",
   "execution_count": 162,
   "metadata": {},
   "outputs": [
    {
     "data": {
      "text/plain": [
       "156.0800627943485"
      ]
     },
     "execution_count": 162,
     "metadata": {},
     "output_type": "execute_result"
    }
   ],
   "source": [
    "0.3991817462771061 * sum(ssc[\"dnv_LGDs_prb\"])"
   ]
  },
  {
   "cell_type": "code",
   "execution_count": null,
   "metadata": {},
   "outputs": [],
   "source": []
  },
  {
   "cell_type": "code",
   "execution_count": 187,
   "metadata": {},
   "outputs": [
    {
     "name": "stdout",
     "output_type": "stream",
     "text": [
      "0.6678628389154705 0.598116169544741 0.10443262494435197\n"
     ]
    }
   ],
   "source": [
    "N_LGD = sum(ssc[\"dnv_missense_prb\"])/SSC_Prob\n",
    "N_LGD_exp = sum(ssc[\"dnv_missense_sib\"])/SSC_Sib\n",
    "print(N_LGD, N_LGD_exp, (N_LGD - N_LGD_exp)/N_LGD)"
   ]
  },
  {
   "cell_type": "code",
   "execution_count": 166,
   "metadata": {},
   "outputs": [
    {
     "data": {
      "text/plain": [
       "174.92464678178956"
      ]
     },
     "execution_count": 166,
     "metadata": {},
     "output_type": "execute_result"
    }
   ],
   "source": [
    "0.10443262494435197 * sum(ssc[\"dnv_missense_prb\"])"
   ]
  },
  {
   "cell_type": "code",
   "execution_count": 167,
   "metadata": {},
   "outputs": [
    {
     "data": {
      "text/plain": [
       "0.8914285714285715"
      ]
     },
     "execution_count": 167,
     "metadata": {},
     "output_type": "execute_result"
    }
   ],
   "source": [
    "156 / 175"
   ]
  },
  {
   "cell_type": "code",
   "execution_count": 188,
   "metadata": {},
   "outputs": [],
   "source": [
    "ssc_top = pd.read_excel(\"../dat/genes/pnas.1516376112.sd01.xlsx\", sheet_name=\"ST1-genes-beautified\")\n",
    "ssc_top = ssc[ssc[\"gene\"].isin(ssc_top[\"gene\"].values[:134])]"
   ]
  },
  {
   "cell_type": "code",
   "execution_count": 189,
   "metadata": {},
   "outputs": [
    {
     "data": {
      "text/plain": [
       "98"
      ]
     },
     "execution_count": 189,
     "metadata": {},
     "output_type": "execute_result"
    }
   ],
   "source": [
    "sum(ssc_top[\"dnv_LGDs_prb\"])"
   ]
  },
  {
   "cell_type": "code",
   "execution_count": 190,
   "metadata": {},
   "outputs": [
    {
     "data": {
      "text/plain": [
       "97"
      ]
     },
     "execution_count": 190,
     "metadata": {},
     "output_type": "execute_result"
    }
   ],
   "source": [
    "sum(ssc_top[\"dnv_missense_prb\"])"
   ]
  },
  {
   "cell_type": "code",
   "execution_count": 191,
   "metadata": {},
   "outputs": [
    {
     "data": {
      "text/plain": [
       "0.225347066"
      ]
     },
     "execution_count": 191,
     "metadata": {},
     "output_type": "execute_result"
    }
   ],
   "source": [
    "1.75231E-05 * ASC_NTrio * 2"
   ]
  },
  {
   "cell_type": "code",
   "execution_count": null,
   "metadata": {},
   "outputs": [],
   "source": []
  },
  {
   "cell_type": "code",
   "execution_count": null,
   "metadata": {},
   "outputs": [],
   "source": []
  },
  {
   "cell_type": "code",
   "execution_count": 192,
   "metadata": {},
   "outputs": [],
   "source": [
    "asc = pd.read_excel(\"../dat/genes/1-s2.0-S0092867419313984-mmc2.xlsx\", sheet_name=\"102_ASD\")\n",
    "ssc = pd.read_excel(\"../dat/genes/pnas.1516376112.sd01.xlsx\", sheet_name=\"ST1-genes-beautified\")"
   ]
  },
  {
   "cell_type": "code",
   "execution_count": 193,
   "metadata": {},
   "outputs": [
    {
     "name": "stdout",
     "output_type": "stream",
     "text": [
      "(139, 72)\n",
      "52\n"
     ]
    }
   ],
   "source": [
    "tmp = ssc[ssc[\"GR_PUBNOAUT_LGDs_post\"]>0.9]\n",
    "print(tmp.shape)\n",
    "sg_lgd_genes = set(tmp[tmp[\"type\"].isin([\"single LGD lower IQ\", \"single LGD higher IQ\"])][\"gene\"].values)\n",
    "print(len(sg_lgd_genes))"
   ]
  },
  {
   "cell_type": "code",
   "execution_count": 194,
   "metadata": {},
   "outputs": [
    {
     "name": "stdout",
     "output_type": "stream",
     "text": [
      "(139, 72)\n",
      "81\n"
     ]
    }
   ],
   "source": [
    "tmp = ssc[ssc[\"GR_PUBNOAUT_LGDs_post\"]>0.9]\n",
    "print(tmp.shape)\n",
    "sg_lgd_genes = set(tmp[tmp[\"type\"].isin([\"rec LGD\", \"single LGD lower IQ\", \"single LGD higher IQ\"])][\"gene\"].values)\n",
    "print(len(sg_lgd_genes))"
   ]
  },
  {
   "cell_type": "code",
   "execution_count": 95,
   "metadata": {},
   "outputs": [
    {
     "data": {
      "text/plain": [
       "(81, 72)"
      ]
     },
     "execution_count": 95,
     "metadata": {},
     "output_type": "execute_result"
    }
   ],
   "source": [
    "tmp[tmp[\"dnv_LGDs_prb\"]>=1].shape"
   ]
  },
  {
   "cell_type": "code",
   "execution_count": 85,
   "metadata": {},
   "outputs": [
    {
     "name": "stdout",
     "output_type": "stream",
     "text": [
      "(105, 30)\n",
      "{'WHSC1', 'SEMA6A', 'EP400', 'NOTCH1', 'VCP', 'ATP1B1', 'ZC3H14', 'ZNF462', 'STXBP5', 'UBR5', 'PHF3', 'CUL1', 'ZNF292', 'PDCD1', 'CUL3', 'DOT1L', 'TCF3', 'INTS6', 'EIF2AK2', 'DLL1', 'ARHGAP5', 'GOLGA5', 'PHF15', 'ATP1A1', 'ZFHX3', 'TNRC18', 'WNT7B', 'KDM4B', 'GIGYF2', 'NBEA', 'ZMYND11', 'NAA15', 'MED13', 'C11orf30', 'CNOT3', 'PCSK2', 'SRCAP', 'TANC2', 'C11orf24', 'SPEN', 'RAPGEF4', 'CDC42BPB', 'LTN1', 'CIC', 'JAKMIP1', 'TERF2', 'SKIDA1', 'KAT2B', 'KAT6A', 'UBN2', 'ELAVL2', 'XKR6', 'NEDD9', 'DSCAML1', 'AHDC1', 'TRIO', 'ITGA5', 'CSMD2', 'ERBB2IP', 'CASP8AP2', 'HECTD1', 'BTAF1', 'BRSK2', 'SUFU', 'LRRC4', 'NFIA', 'THSD7A', 'TAF4', 'NFIB', 'SPTBN1', 'NMT1', 'GAREM', 'CBX4', 'SRRM2', 'ARID5B', 'MAP3K14', 'SMURF1', 'UBAP2L', 'SLC25A6', 'MSL2', 'LARP4B', 'L1CAM'}\n",
      "82\n",
      "17\n"
     ]
    }
   ],
   "source": [
    "tmp2 = asc\n",
    "print(tmp2.shape)\n",
    "#print(set(tmp2[\"HGNC\"].values).difference(sg_lgd_genes))\n",
    "print(set(sg_lgd_genes).difference(set(tmp2[\"gene\"].values)))\n",
    "print(len(set(sg_lgd_genes).difference(set(tmp2[\"gene\"].values))))\n",
    "print(len(set(sg_lgd_genes).intersection(set(tmp2[\"gene\"].values))))"
   ]
  },
  {
   "cell_type": "code",
   "execution_count": 96,
   "metadata": {},
   "outputs": [
    {
     "data": {
      "text/plain": [
       "(72, 30)"
      ]
     },
     "execution_count": 96,
     "metadata": {},
     "output_type": "execute_result"
    }
   ],
   "source": [
    "asc[asc[\"dn.ptv\"]>0].shape"
   ]
  },
  {
   "cell_type": "code",
   "execution_count": 109,
   "metadata": {},
   "outputs": [
    {
     "data": {
      "text/plain": [
       "(39, 30)"
      ]
     },
     "execution_count": 109,
     "metadata": {},
     "output_type": "execute_result"
    }
   ],
   "source": [
    "asc[(asc[\"dn.ptv\"]>0)&((asc[\"dn.misa\"]>0)|(asc[\"dn.misb\"]>0))].shape"
   ]
  },
  {
   "cell_type": "code",
   "execution_count": 110,
   "metadata": {},
   "outputs": [
    {
     "data": {
      "text/plain": [
       "102"
      ]
     },
     "execution_count": 110,
     "metadata": {},
     "output_type": "execute_result"
    }
   ],
   "source": [
    "33 + 30 + 39"
   ]
  },
  {
   "cell_type": "code",
   "execution_count": 97,
   "metadata": {},
   "outputs": [
    {
     "data": {
      "text/plain": [
       "0.7058823529411765"
      ]
     },
     "execution_count": 97,
     "metadata": {},
     "output_type": "execute_result"
    }
   ],
   "source": [
    "72/102"
   ]
  },
  {
   "cell_type": "code",
   "execution_count": 99,
   "metadata": {},
   "outputs": [
    {
     "data": {
      "text/plain": [
       "0.5827338129496403"
      ]
     },
     "execution_count": 99,
     "metadata": {},
     "output_type": "execute_result"
    }
   ],
   "source": [
    "81/139"
   ]
  },
  {
   "cell_type": "code",
   "execution_count": 88,
   "metadata": {},
   "outputs": [
    {
     "data": {
      "text/plain": [
       "160.0"
      ]
     },
     "execution_count": 88,
     "metadata": {},
     "output_type": "execute_result"
    }
   ],
   "source": [
    "0.4 * 400"
   ]
  },
  {
   "cell_type": "code",
   "execution_count": 77,
   "metadata": {},
   "outputs": [],
   "source": [
    "spark_tada = pd.read_csv(\"../dat/genes/TADA.SPARK.ONLY.txt\", delimiter=\"\\t\")\n",
    "spark_wigler = pd.read_csv(\"../dat/genes/spark_wiglermodel.csv\")\n",
    "spark_tada = spark_tada.sort_values(\"Qvalue\")#.columns.values\n",
    "spark_wigler = spark_wigler.sort_values(\"FDR\")"
   ]
  },
  {
   "cell_type": "code",
   "execution_count": 109,
   "metadata": {},
   "outputs": [
    {
     "name": "stdout",
     "output_type": "stream",
     "text": [
      "1075 701.9714550089319 0.3470032976661098\n"
     ]
    }
   ],
   "source": [
    "SPARK_Prob = 7015\n",
    "N_LGD = sum(spark_tada[\"dnLGD\"])\n",
    "N_LGD_exp = sum(spark_tada[\"mutLGD\"])*2*SPARK_Prob\n",
    "print(N_LGD, N_LGD_exp, (N_LGD - N_LGD_exp)/N_LGD)"
   ]
  },
  {
   "cell_type": "code",
   "execution_count": 110,
   "metadata": {},
   "outputs": [
    {
     "name": "stdout",
     "output_type": "stream",
     "text": [
      "1366 1101.2128900362748 0.19384122252102873\n"
     ]
    }
   ],
   "source": [
    "SPARK_Prob = 7015\n",
    "N_LGD = sum(spark_tada[\"dnDmis\"])\n",
    "N_LGD_exp = sum(spark_tada[\"mutDmis\"])*2*SPARK_Prob\n",
    "print(N_LGD, N_LGD_exp, (N_LGD - N_LGD_exp)/N_LGD)"
   ]
  },
  {
   "cell_type": "code",
   "execution_count": null,
   "metadata": {},
   "outputs": [],
   "source": []
  },
  {
   "cell_type": "code",
   "execution_count": null,
   "metadata": {},
   "outputs": [],
   "source": []
  },
  {
   "cell_type": "code",
   "execution_count": 78,
   "metadata": {},
   "outputs": [
    {
     "name": "stdout",
     "output_type": "stream",
     "text": [
      "(371, 12)\n",
      "116\n"
     ]
    }
   ],
   "source": [
    "tmp = spark_wigler[spark_wigler[\"FDR\"]<0.2]\n",
    "print(tmp.shape)\n",
    "sg_lgd_genes = set(tmp[tmp[\"MUT.TYPE\"]==\"lgd\"][\"SYMBOL\"].values)\n",
    "print(len(sg_lgd_genes))"
   ]
  },
  {
   "cell_type": "code",
   "execution_count": 79,
   "metadata": {},
   "outputs": [
    {
     "name": "stdout",
     "output_type": "stream",
     "text": [
      "(110, 21)\n",
      "{nan, 'CDC40', 'SRRM1', 'H3F3B', 'AFF4', 'RUNX1T1', 'BICRA', 'CAMTA1', 'KDM3B', 'MKL2', 'SOX5', 'PPFIA2', 'KIAA1958', 'MAZ', 'MSL3', 'ZNF292', 'SETD1B', 'CYFIP2', 'GATA2', 'NSD2', 'SLC6A1', 'KCNMA1', 'ARHGAP5', 'MIDN', 'COL4A1', 'PCLO', 'LRFN4', 'KMT2B', 'CDK13', 'AHR', 'SMG1', 'PCBP4', 'RCC2', 'ATAD2B', 'LRRC7', 'ROCK1', 'SMAD4', 'HERC2', 'CHRM4', 'ASXL2', 'RIPK1', 'CCT7', 'TRIML1', 'BTBD2', 'ZNF423', 'SON', 'SRCAP', 'RTN1', 'MACF1', 'CTNND1', 'EPHB6', 'KCNT1', 'DLGAP4', 'CACNA1E', 'AP1G1', 'NRXN3', 'CELF2', 'ZFYVE9', 'STT3B', 'ARHGEF12', 'NFIL3', 'SNAP91', 'KDM1A', 'USP9X', 'HDAC7', 'PRRC2A', 'PTPRA', 'DSCAML1', 'AHDC1', 'CSMD2', 'MED13L', 'ANKRD11', 'KCNB1', 'KDM5C', 'TSC2', 'UPF2', 'NRXN1', 'EXT1', 'SMARCD1', 'PUF60', 'ZFP36L2', 'ARHGEF17', 'ZNF805', 'WTIP', 'EPS15L1', 'BCL11B', 'TET3', 'PIEZO1', 'FBN1', 'PICALM', 'ATN1', 'HIC2', 'DNAJC5', 'SYT3', 'PTPRD', 'GALNT2', 'TAF4', 'GPR152', 'SPTBN1', 'ANAPC2', 'GAPVD1', 'SKI', 'CLK2', 'SRRM2', 'HEG1'}\n",
      "105\n",
      "11\n"
     ]
    }
   ],
   "source": [
    "tmp2 = spark_tada[spark_tada[\"Qvalue\"]<0.2]\n",
    "print(tmp2.shape)\n",
    "#print(set(tmp2[\"HGNC\"].values).difference(sg_lgd_genes))\n",
    "print(set(sg_lgd_genes).difference(set(tmp2[\"HGNC\"].values)))\n",
    "print(len(set(sg_lgd_genes).difference(set(tmp2[\"HGNC\"].values))))\n",
    "print(len(set(sg_lgd_genes).intersection(set(tmp2[\"HGNC\"].values))))"
   ]
  },
  {
   "cell_type": "code",
   "execution_count": 81,
   "metadata": {},
   "outputs": [
    {
     "data": {
      "text/html": [
       "<div>\n",
       "<style scoped>\n",
       "    .dataframe tbody tr th:only-of-type {\n",
       "        vertical-align: middle;\n",
       "    }\n",
       "\n",
       "    .dataframe tbody tr th {\n",
       "        vertical-align: top;\n",
       "    }\n",
       "\n",
       "    .dataframe thead th {\n",
       "        text-align: right;\n",
       "    }\n",
       "</style>\n",
       "<table border=\"1\" class=\"dataframe\">\n",
       "  <thead>\n",
       "    <tr style=\"text-align: right;\">\n",
       "      <th></th>\n",
       "      <th>GeneID</th>\n",
       "      <th>HGNC</th>\n",
       "      <th>ExACpLI</th>\n",
       "      <th>gnomADpLI</th>\n",
       "      <th>LoFOvsE</th>\n",
       "      <th>sHet</th>\n",
       "      <th>SFARICategory</th>\n",
       "      <th>SFARIScore</th>\n",
       "      <th>DDDCategory</th>\n",
       "      <th>DDDAllelic</th>\n",
       "      <th>...</th>\n",
       "      <th>DDDOrgan</th>\n",
       "      <th>dnLGD</th>\n",
       "      <th>mutLGD</th>\n",
       "      <th>log10BF_dnLGD</th>\n",
       "      <th>dnDmis</th>\n",
       "      <th>mutDmis</th>\n",
       "      <th>log10BF_dnDmis</th>\n",
       "      <th>log10BF_All</th>\n",
       "      <th>PP_All</th>\n",
       "      <th>Qvalue</th>\n",
       "    </tr>\n",
       "  </thead>\n",
       "  <tbody>\n",
       "    <tr>\n",
       "      <th>6</th>\n",
       "      <td>ENSG00000169057</td>\n",
       "      <td>MECP2</td>\n",
       "      <td>0.698089047724915</td>\n",
       "      <td>8.9382e-01</td>\n",
       "      <td>8.5755e-02</td>\n",
       "      <td>0.0882033728499718</td>\n",
       "      <td>Rare Single Gene Mutation, Syndromic, Functional</td>\n",
       "      <td>1</td>\n",
       "      <td>confirmed</td>\n",
       "      <td>x-linked dominant|hemizygous</td>\n",
       "      <td>...</td>\n",
       "      <td>Brain/Cognition,GI tract</td>\n",
       "      <td>2</td>\n",
       "      <td>0.000002</td>\n",
       "      <td>2.10</td>\n",
       "      <td>7</td>\n",
       "      <td>0.000009</td>\n",
       "      <td>5.77</td>\n",
       "      <td>7.87</td>\n",
       "      <td>1.000</td>\n",
       "      <td>4.020000e-07</td>\n",
       "    </tr>\n",
       "    <tr>\n",
       "      <th>38</th>\n",
       "      <td>ENSG00000099381</td>\n",
       "      <td>SETD1A</td>\n",
       "      <td>0.999996231355084</td>\n",
       "      <td>1.0000e+00</td>\n",
       "      <td>5.9487e-02</td>\n",
       "      <td>0.304280384392774</td>\n",
       "      <td>.</td>\n",
       "      <td>.</td>\n",
       "      <td>probable</td>\n",
       "      <td>monoallelic</td>\n",
       "      <td>...</td>\n",
       "      <td>Brain/Cognition</td>\n",
       "      <td>2</td>\n",
       "      <td>0.000007</td>\n",
       "      <td>1.51</td>\n",
       "      <td>2</td>\n",
       "      <td>0.000022</td>\n",
       "      <td>0.79</td>\n",
       "      <td>2.30</td>\n",
       "      <td>0.947</td>\n",
       "      <td>8.880000e-03</td>\n",
       "    </tr>\n",
       "    <tr>\n",
       "      <th>45</th>\n",
       "      <td>ENSG00000119669</td>\n",
       "      <td>IRF2BPL</td>\n",
       "      <td>0.968935346112199</td>\n",
       "      <td>8.3623e-01</td>\n",
       "      <td>1.5675e-01</td>\n",
       "      <td>.</td>\n",
       "      <td>Rare Single Gene Mutation, Syndromic</td>\n",
       "      <td>1</td>\n",
       "      <td>probable</td>\n",
       "      <td>monoallelic</td>\n",
       "      <td>...</td>\n",
       "      <td>Brain/Cognition</td>\n",
       "      <td>2</td>\n",
       "      <td>0.000003</td>\n",
       "      <td>2.09</td>\n",
       "      <td>0</td>\n",
       "      <td>0.000004</td>\n",
       "      <td>-0.12</td>\n",
       "      <td>1.97</td>\n",
       "      <td>0.890</td>\n",
       "      <td>2.000000e-02</td>\n",
       "    </tr>\n",
       "    <tr>\n",
       "      <th>50</th>\n",
       "      <td>ENSG00000134138</td>\n",
       "      <td>MEIS2</td>\n",
       "      <td>0.994254955106549</td>\n",
       "      <td>9.9938e-01</td>\n",
       "      <td>3.8881e-02</td>\n",
       "      <td>0.144679600719824</td>\n",
       "      <td>Rare Single Gene Mutation, Syndromic</td>\n",
       "      <td>1</td>\n",
       "      <td>probable</td>\n",
       "      <td>monoallelic</td>\n",
       "      <td>...</td>\n",
       "      <td>NaN</td>\n",
       "      <td>2</td>\n",
       "      <td>0.000003</td>\n",
       "      <td>2.08</td>\n",
       "      <td>0</td>\n",
       "      <td>0.000006</td>\n",
       "      <td>-0.18</td>\n",
       "      <td>1.89</td>\n",
       "      <td>0.872</td>\n",
       "      <td>3.000000e-02</td>\n",
       "    </tr>\n",
       "    <tr>\n",
       "      <th>55</th>\n",
       "      <td>ENSG00000153234</td>\n",
       "      <td>NR4A2</td>\n",
       "      <td>0.991432865508232</td>\n",
       "      <td>9.9959e-01</td>\n",
       "      <td>0.0000e+00</td>\n",
       "      <td>0.241622722878938</td>\n",
       "      <td>Rare Single Gene Mutation</td>\n",
       "      <td>1</td>\n",
       "      <td>probable</td>\n",
       "      <td>monoallelic</td>\n",
       "      <td>...</td>\n",
       "      <td>NaN</td>\n",
       "      <td>2</td>\n",
       "      <td>0.000003</td>\n",
       "      <td>2.03</td>\n",
       "      <td>0</td>\n",
       "      <td>0.000011</td>\n",
       "      <td>-0.31</td>\n",
       "      <td>1.71</td>\n",
       "      <td>0.816</td>\n",
       "      <td>4.000000e-02</td>\n",
       "    </tr>\n",
       "    <tr>\n",
       "      <th>61</th>\n",
       "      <td>ENSG00000204406</td>\n",
       "      <td>MBD5</td>\n",
       "      <td>0.999852333253027</td>\n",
       "      <td>1.0000e+00</td>\n",
       "      <td>4.3103e-02</td>\n",
       "      <td>0.237216741361891</td>\n",
       "      <td>Rare Single Gene Mutation, Syndromic</td>\n",
       "      <td>1</td>\n",
       "      <td>probable</td>\n",
       "      <td>monoallelic</td>\n",
       "      <td>...</td>\n",
       "      <td>Brain/Cognition</td>\n",
       "      <td>2</td>\n",
       "      <td>0.000005</td>\n",
       "      <td>1.68</td>\n",
       "      <td>0</td>\n",
       "      <td>0.000002</td>\n",
       "      <td>-0.05</td>\n",
       "      <td>1.64</td>\n",
       "      <td>0.796</td>\n",
       "      <td>6.000000e-02</td>\n",
       "    </tr>\n",
       "    <tr>\n",
       "      <th>63</th>\n",
       "      <td>ENSG00000198081</td>\n",
       "      <td>ZBTB14</td>\n",
       "      <td>0.628505782225752</td>\n",
       "      <td>2.6111e-01</td>\n",
       "      <td>2.4967e-01</td>\n",
       "      <td>0.0929288498219421</td>\n",
       "      <td>.</td>\n",
       "      <td>.</td>\n",
       "      <td>.</td>\n",
       "      <td>.</td>\n",
       "      <td>...</td>\n",
       "      <td>.</td>\n",
       "      <td>1</td>\n",
       "      <td>0.000001</td>\n",
       "      <td>0.91</td>\n",
       "      <td>1</td>\n",
       "      <td>0.000002</td>\n",
       "      <td>0.67</td>\n",
       "      <td>1.58</td>\n",
       "      <td>0.772</td>\n",
       "      <td>6.000000e-02</td>\n",
       "    </tr>\n",
       "    <tr>\n",
       "      <th>84</th>\n",
       "      <td>ENSG00000100207</td>\n",
       "      <td>TCF20</td>\n",
       "      <td>0.999977934276122</td>\n",
       "      <td>1.0000e+00</td>\n",
       "      <td>3.0129e-02</td>\n",
       "      <td>0.203852642966786</td>\n",
       "      <td>Rare Single Gene Mutation, Syndromic</td>\n",
       "      <td>1</td>\n",
       "      <td>confirmed</td>\n",
       "      <td>monoallelic</td>\n",
       "      <td>...</td>\n",
       "      <td>Brain/Cognition</td>\n",
       "      <td>2</td>\n",
       "      <td>0.000008</td>\n",
       "      <td>1.38</td>\n",
       "      <td>0</td>\n",
       "      <td>0.000004</td>\n",
       "      <td>-0.11</td>\n",
       "      <td>1.26</td>\n",
       "      <td>0.625</td>\n",
       "      <td>1.200000e-01</td>\n",
       "    </tr>\n",
       "    <tr>\n",
       "      <th>90</th>\n",
       "      <td>ENSG00000113327</td>\n",
       "      <td>GABRG2</td>\n",
       "      <td>0.958543398155425</td>\n",
       "      <td>7.3852e-01</td>\n",
       "      <td>1.8958e-01</td>\n",
       "      <td>0.0881628365141871</td>\n",
       "      <td>.</td>\n",
       "      <td>.</td>\n",
       "      <td>probable</td>\n",
       "      <td>monoallelic</td>\n",
       "      <td>...</td>\n",
       "      <td>NaN</td>\n",
       "      <td>1</td>\n",
       "      <td>0.000002</td>\n",
       "      <td>0.77</td>\n",
       "      <td>1</td>\n",
       "      <td>0.000009</td>\n",
       "      <td>0.44</td>\n",
       "      <td>1.21</td>\n",
       "      <td>0.597</td>\n",
       "      <td>1.400000e-01</td>\n",
       "    </tr>\n",
       "    <tr>\n",
       "      <th>102</th>\n",
       "      <td>ENSG00000104853</td>\n",
       "      <td>CLPTM1</td>\n",
       "      <td>0.98048307691788</td>\n",
       "      <td>9.5767e-01</td>\n",
       "      <td>1.6508e-01</td>\n",
       "      <td>0.116517742381536</td>\n",
       "      <td>.</td>\n",
       "      <td>.</td>\n",
       "      <td>.</td>\n",
       "      <td>.</td>\n",
       "      <td>...</td>\n",
       "      <td>.</td>\n",
       "      <td>1</td>\n",
       "      <td>0.000004</td>\n",
       "      <td>0.63</td>\n",
       "      <td>1</td>\n",
       "      <td>0.000008</td>\n",
       "      <td>0.50</td>\n",
       "      <td>1.13</td>\n",
       "      <td>0.550</td>\n",
       "      <td>1.800000e-01</td>\n",
       "    </tr>\n",
       "    <tr>\n",
       "      <th>107</th>\n",
       "      <td>ENSG00000007545</td>\n",
       "      <td>CRAMP1</td>\n",
       "      <td>0.95454193553226</td>\n",
       "      <td>5.0239e-02</td>\n",
       "      <td>2.5749e-01</td>\n",
       "      <td>0.0641554269372486</td>\n",
       "      <td>.</td>\n",
       "      <td>.</td>\n",
       "      <td>.</td>\n",
       "      <td>.</td>\n",
       "      <td>...</td>\n",
       "      <td>.</td>\n",
       "      <td>1</td>\n",
       "      <td>0.000005</td>\n",
       "      <td>0.51</td>\n",
       "      <td>1</td>\n",
       "      <td>0.000004</td>\n",
       "      <td>0.60</td>\n",
       "      <td>1.11</td>\n",
       "      <td>0.542</td>\n",
       "      <td>1.900000e-01</td>\n",
       "    </tr>\n",
       "  </tbody>\n",
       "</table>\n",
       "<p>11 rows × 21 columns</p>\n",
       "</div>"
      ],
      "text/plain": [
       "              GeneID     HGNC            ExACpLI   gnomADpLI     LoFOvsE  \\\n",
       "6    ENSG00000169057    MECP2  0.698089047724915  8.9382e-01  8.5755e-02   \n",
       "38   ENSG00000099381   SETD1A  0.999996231355084  1.0000e+00  5.9487e-02   \n",
       "45   ENSG00000119669  IRF2BPL  0.968935346112199  8.3623e-01  1.5675e-01   \n",
       "50   ENSG00000134138    MEIS2  0.994254955106549  9.9938e-01  3.8881e-02   \n",
       "55   ENSG00000153234    NR4A2  0.991432865508232  9.9959e-01  0.0000e+00   \n",
       "61   ENSG00000204406     MBD5  0.999852333253027  1.0000e+00  4.3103e-02   \n",
       "63   ENSG00000198081   ZBTB14  0.628505782225752  2.6111e-01  2.4967e-01   \n",
       "84   ENSG00000100207    TCF20  0.999977934276122  1.0000e+00  3.0129e-02   \n",
       "90   ENSG00000113327   GABRG2  0.958543398155425  7.3852e-01  1.8958e-01   \n",
       "102  ENSG00000104853   CLPTM1   0.98048307691788  9.5767e-01  1.6508e-01   \n",
       "107  ENSG00000007545   CRAMP1   0.95454193553226  5.0239e-02  2.5749e-01   \n",
       "\n",
       "                   sHet                                     SFARICategory  \\\n",
       "6    0.0882033728499718  Rare Single Gene Mutation, Syndromic, Functional   \n",
       "38    0.304280384392774                                                 .   \n",
       "45                    .              Rare Single Gene Mutation, Syndromic   \n",
       "50    0.144679600719824              Rare Single Gene Mutation, Syndromic   \n",
       "55    0.241622722878938                         Rare Single Gene Mutation   \n",
       "61    0.237216741361891              Rare Single Gene Mutation, Syndromic   \n",
       "63   0.0929288498219421                                                 .   \n",
       "84    0.203852642966786              Rare Single Gene Mutation, Syndromic   \n",
       "90   0.0881628365141871                                                 .   \n",
       "102   0.116517742381536                                                 .   \n",
       "107  0.0641554269372486                                                 .   \n",
       "\n",
       "    SFARIScore DDDCategory                    DDDAllelic  ...  \\\n",
       "6            1   confirmed  x-linked dominant|hemizygous  ...   \n",
       "38           .    probable                   monoallelic  ...   \n",
       "45           1    probable                   monoallelic  ...   \n",
       "50           1    probable                   monoallelic  ...   \n",
       "55           1    probable                   monoallelic  ...   \n",
       "61           1    probable                   monoallelic  ...   \n",
       "63           .           .                             .  ...   \n",
       "84           1   confirmed                   monoallelic  ...   \n",
       "90           .    probable                   monoallelic  ...   \n",
       "102          .           .                             .  ...   \n",
       "107          .           .                             .  ...   \n",
       "\n",
       "                     DDDOrgan dnLGD    mutLGD  log10BF_dnLGD  dnDmis  \\\n",
       "6    Brain/Cognition,GI tract     2  0.000002           2.10       7   \n",
       "38            Brain/Cognition     2  0.000007           1.51       2   \n",
       "45            Brain/Cognition     2  0.000003           2.09       0   \n",
       "50                        NaN     2  0.000003           2.08       0   \n",
       "55                        NaN     2  0.000003           2.03       0   \n",
       "61            Brain/Cognition     2  0.000005           1.68       0   \n",
       "63                          .     1  0.000001           0.91       1   \n",
       "84            Brain/Cognition     2  0.000008           1.38       0   \n",
       "90                        NaN     1  0.000002           0.77       1   \n",
       "102                         .     1  0.000004           0.63       1   \n",
       "107                         .     1  0.000005           0.51       1   \n",
       "\n",
       "      mutDmis  log10BF_dnDmis  log10BF_All  PP_All        Qvalue  \n",
       "6    0.000009            5.77         7.87   1.000  4.020000e-07  \n",
       "38   0.000022            0.79         2.30   0.947  8.880000e-03  \n",
       "45   0.000004           -0.12         1.97   0.890  2.000000e-02  \n",
       "50   0.000006           -0.18         1.89   0.872  3.000000e-02  \n",
       "55   0.000011           -0.31         1.71   0.816  4.000000e-02  \n",
       "61   0.000002           -0.05         1.64   0.796  6.000000e-02  \n",
       "63   0.000002            0.67         1.58   0.772  6.000000e-02  \n",
       "84   0.000004           -0.11         1.26   0.625  1.200000e-01  \n",
       "90   0.000009            0.44         1.21   0.597  1.400000e-01  \n",
       "102  0.000008            0.50         1.13   0.550  1.800000e-01  \n",
       "107  0.000004            0.60         1.11   0.542  1.900000e-01  \n",
       "\n",
       "[11 rows x 21 columns]"
      ]
     },
     "execution_count": 81,
     "metadata": {},
     "output_type": "execute_result"
    }
   ],
   "source": [
    "tmp2[tmp2[\"HGNC\"].isin(set(sg_lgd_genes).intersection(set(tmp2[\"HGNC\"].values)))]"
   ]
  },
  {
   "cell_type": "code",
   "execution_count": 1,
   "metadata": {},
   "outputs": [
    {
     "data": {
      "text/plain": [
       "0.18132600000000001"
      ]
     },
     "execution_count": 1,
     "metadata": {},
     "output_type": "execute_result"
    }
   ],
   "source": [
    "1.41E-05 * 6430 * 2"
   ]
  },
  {
   "cell_type": "code",
   "execution_count": 2,
   "metadata": {},
   "outputs": [
    {
     "data": {
      "text/plain": [
       "61.111111111111114"
      ]
     },
     "execution_count": 2,
     "metadata": {},
     "output_type": "execute_result"
    }
   ],
   "source": [
    "11 / 0.18"
   ]
  },
  {
   "cell_type": "code",
   "execution_count": 3,
   "metadata": {},
   "outputs": [],
   "source": [
    "from scipy.stats import chi2"
   ]
  },
  {
   "cell_type": "code",
   "execution_count": 9,
   "metadata": {},
   "outputs": [
    {
     "data": {
      "text/plain": [
       "0.0017107309486780716"
      ]
     },
     "execution_count": 9,
     "metadata": {},
     "output_type": "execute_result"
    }
   ],
   "source": [
    "u = 11 / 6430\n",
    "alpha = 0.05\n",
    "u"
   ]
  },
  {
   "cell_type": "code",
   "execution_count": 13,
   "metadata": {},
   "outputs": [
    {
     "data": {
      "text/plain": [
       "5.49116036723684"
      ]
     },
     "execution_count": 13,
     "metadata": {},
     "output_type": "execute_result"
    }
   ],
   "source": [
    "0.5 * chi2.ppf(alpha/2, 11*2)"
   ]
  },
  {
   "cell_type": "code",
   "execution_count": 14,
   "metadata": {},
   "outputs": [
    {
     "data": {
      "text/plain": [
       "19.682038513301954"
      ]
     },
     "execution_count": 14,
     "metadata": {},
     "output_type": "execute_result"
    }
   ],
   "source": [
    "0.5 * chi2.ppf(1-alpha/2, 11*2+2)"
   ]
  },
  {
   "cell_type": "code",
   "execution_count": 15,
   "metadata": {},
   "outputs": [
    {
     "data": {
      "text/plain": [
       "30.944444444444446"
      ]
     },
     "execution_count": 15,
     "metadata": {},
     "output_type": "execute_result"
    }
   ],
   "source": [
    "5.57 / 0.18"
   ]
  },
  {
   "cell_type": "code",
   "execution_count": 16,
   "metadata": {},
   "outputs": [
    {
     "data": {
      "text/plain": [
       "5.555555555555555"
      ]
     },
     "execution_count": 16,
     "metadata": {},
     "output_type": "execute_result"
    }
   ],
   "source": [
    "1 / 0.18"
   ]
  },
  {
   "cell_type": "code",
   "execution_count": 21,
   "metadata": {},
   "outputs": [],
   "source": [
    "matching_feature = pd.read_csv(\"/Users/jiayao/Work/ASD_Circuits/src/dat/match-features.csv\")\n",
    "gnomad_constrain = pd.read_csv(\"/Users/jiayao/Work/Resources/gnomad.v2.1.1.lof_metrics.by_gene.txt\", delimiter=\"\\t\", index_col=\"gene\")"
   ]
  },
  {
   "cell_type": "code",
   "execution_count": 22,
   "metadata": {},
   "outputs": [
    {
     "data": {
      "text/html": [
       "<div>\n",
       "<style scoped>\n",
       "    .dataframe tbody tr th:only-of-type {\n",
       "        vertical-align: middle;\n",
       "    }\n",
       "\n",
       "    .dataframe tbody tr th {\n",
       "        vertical-align: top;\n",
       "    }\n",
       "\n",
       "    .dataframe thead th {\n",
       "        text-align: right;\n",
       "    }\n",
       "</style>\n",
       "<table border=\"1\" class=\"dataframe\">\n",
       "  <thead>\n",
       "    <tr style=\"text-align: right;\">\n",
       "      <th></th>\n",
       "      <th>transcript</th>\n",
       "      <th>obs_mis</th>\n",
       "      <th>exp_mis</th>\n",
       "      <th>oe_mis</th>\n",
       "      <th>mu_mis</th>\n",
       "      <th>possible_mis</th>\n",
       "      <th>obs_mis_pphen</th>\n",
       "      <th>exp_mis_pphen</th>\n",
       "      <th>oe_mis_pphen</th>\n",
       "      <th>possible_mis_pphen</th>\n",
       "      <th>...</th>\n",
       "      <th>gene_type</th>\n",
       "      <th>gene_length</th>\n",
       "      <th>exac_pLI</th>\n",
       "      <th>exac_obs_lof</th>\n",
       "      <th>exac_exp_lof</th>\n",
       "      <th>exac_oe_lof</th>\n",
       "      <th>brain_expression</th>\n",
       "      <th>chromosome</th>\n",
       "      <th>start_position</th>\n",
       "      <th>end_position</th>\n",
       "    </tr>\n",
       "    <tr>\n",
       "      <th>gene</th>\n",
       "      <th></th>\n",
       "      <th></th>\n",
       "      <th></th>\n",
       "      <th></th>\n",
       "      <th></th>\n",
       "      <th></th>\n",
       "      <th></th>\n",
       "      <th></th>\n",
       "      <th></th>\n",
       "      <th></th>\n",
       "      <th></th>\n",
       "      <th></th>\n",
       "      <th></th>\n",
       "      <th></th>\n",
       "      <th></th>\n",
       "      <th></th>\n",
       "      <th></th>\n",
       "      <th></th>\n",
       "      <th></th>\n",
       "      <th></th>\n",
       "      <th></th>\n",
       "    </tr>\n",
       "  </thead>\n",
       "  <tbody>\n",
       "    <tr>\n",
       "      <th>MED13</th>\n",
       "      <td>ENST00000397786</td>\n",
       "      <td>871</td>\n",
       "      <td>1117.8</td>\n",
       "      <td>0.77921</td>\n",
       "      <td>0.000056</td>\n",
       "      <td>14195</td>\n",
       "      <td>314.0</td>\n",
       "      <td>529.75</td>\n",
       "      <td>0.59273</td>\n",
       "      <td>6708.0</td>\n",
       "      <td>...</td>\n",
       "      <td>protein_coding</td>\n",
       "      <td>122678</td>\n",
       "      <td>1.0</td>\n",
       "      <td>0.0</td>\n",
       "      <td>64.393</td>\n",
       "      <td>0.000000</td>\n",
       "      <td>NaN</td>\n",
       "      <td>17</td>\n",
       "      <td>60019966</td>\n",
       "      <td>60142643</td>\n",
       "    </tr>\n",
       "    <tr>\n",
       "      <th>NIPBL</th>\n",
       "      <td>ENST00000282516</td>\n",
       "      <td>846</td>\n",
       "      <td>1441.5</td>\n",
       "      <td>0.58688</td>\n",
       "      <td>0.000074</td>\n",
       "      <td>18540</td>\n",
       "      <td>158.0</td>\n",
       "      <td>543.10</td>\n",
       "      <td>0.29092</td>\n",
       "      <td>7135.0</td>\n",
       "      <td>...</td>\n",
       "      <td>protein_coding</td>\n",
       "      <td>189655</td>\n",
       "      <td>1.0</td>\n",
       "      <td>1.0</td>\n",
       "      <td>110.570</td>\n",
       "      <td>0.009044</td>\n",
       "      <td>NaN</td>\n",
       "      <td>5</td>\n",
       "      <td>36876861</td>\n",
       "      <td>37066515</td>\n",
       "    </tr>\n",
       "  </tbody>\n",
       "</table>\n",
       "<p>2 rows × 76 columns</p>\n",
       "</div>"
      ],
      "text/plain": [
       "            transcript  obs_mis  exp_mis   oe_mis    mu_mis  possible_mis  \\\n",
       "gene                                                                        \n",
       "MED13  ENST00000397786      871   1117.8  0.77921  0.000056         14195   \n",
       "NIPBL  ENST00000282516      846   1441.5  0.58688  0.000074         18540   \n",
       "\n",
       "       obs_mis_pphen  exp_mis_pphen  oe_mis_pphen  possible_mis_pphen  ...  \\\n",
       "gene                                                                   ...   \n",
       "MED13          314.0         529.75       0.59273              6708.0  ...   \n",
       "NIPBL          158.0         543.10       0.29092              7135.0  ...   \n",
       "\n",
       "            gene_type  gene_length  exac_pLI  exac_obs_lof  exac_exp_lof  \\\n",
       "gene                                                                       \n",
       "MED13  protein_coding       122678       1.0           0.0        64.393   \n",
       "NIPBL  protein_coding       189655       1.0           1.0       110.570   \n",
       "\n",
       "       exac_oe_lof  brain_expression  chromosome  start_position  end_position  \n",
       "gene                                                                            \n",
       "MED13     0.000000               NaN          17        60019966      60142643  \n",
       "NIPBL     0.009044               NaN           5        36876861      37066515  \n",
       "\n",
       "[2 rows x 76 columns]"
      ]
     },
     "execution_count": 22,
     "metadata": {},
     "output_type": "execute_result"
    }
   ],
   "source": [
    "gnomad_constrain.head(2)"
   ]
  },
  {
   "cell_type": "code",
   "execution_count": 23,
   "metadata": {},
   "outputs": [
    {
     "data": {
      "text/plain": [
       "array(['transcript', 'obs_mis', 'exp_mis', 'oe_mis', 'mu_mis',\n",
       "       'possible_mis', 'obs_mis_pphen', 'exp_mis_pphen', 'oe_mis_pphen',\n",
       "       'possible_mis_pphen', 'obs_syn', 'exp_syn', 'oe_syn', 'mu_syn',\n",
       "       'possible_syn', 'obs_lof', 'mu_lof', 'possible_lof', 'exp_lof',\n",
       "       'pLI', 'pNull', 'pRec', 'oe_lof', 'oe_syn_lower', 'oe_syn_upper',\n",
       "       'oe_mis_lower', 'oe_mis_upper', 'oe_lof_lower', 'oe_lof_upper',\n",
       "       'constraint_flag', 'syn_z', 'mis_z', 'lof_z', 'oe_lof_upper_rank',\n",
       "       'oe_lof_upper_bin', 'oe_lof_upper_bin_6', 'n_sites', 'classic_caf',\n",
       "       'max_af', 'no_lofs', 'obs_het_lof', 'obs_hom_lof', 'defined', 'p',\n",
       "       'exp_hom_lof', 'classic_caf_afr', 'classic_caf_amr',\n",
       "       'classic_caf_asj', 'classic_caf_eas', 'classic_caf_fin',\n",
       "       'classic_caf_nfe', 'classic_caf_oth', 'classic_caf_sas', 'p_afr',\n",
       "       'p_amr', 'p_asj', 'p_eas', 'p_fin', 'p_nfe', 'p_oth', 'p_sas',\n",
       "       'transcript_type', 'gene_id', 'transcript_level', 'cds_length',\n",
       "       'num_coding_exons', 'gene_type', 'gene_length', 'exac_pLI',\n",
       "       'exac_obs_lof', 'exac_exp_lof', 'exac_oe_lof', 'brain_expression',\n",
       "       'chromosome', 'start_position', 'end_position'], dtype=object)"
      ]
     },
     "execution_count": 23,
     "metadata": {},
     "output_type": "execute_result"
    }
   ],
   "source": [
    "gnomad_constrain.columns.values"
   ]
  },
  {
   "cell_type": "code",
   "execution_count": 44,
   "metadata": {},
   "outputs": [
    {
     "name": "stdout",
     "output_type": "stream",
     "text": [
      "14935\n"
     ]
    }
   ],
   "source": [
    "Exps, zscore = [], []\n",
    "count = 0\n",
    "for i, row in matching_feature.iterrows():\n",
    "    try:\n",
    "        _id = int(row[\"GENE\"])\n",
    "        gene = Entrez2Symbol[_id]\n",
    "        z = gnomad_constrain.loc[gene, \"lof_z\"]\n",
    "        if z!=z:\n",
    "            continue\n",
    "        z = float(z)\n",
    "        exp = row[\"EXP\"]\n",
    "        zscore.append(z)\n",
    "        Exps.append(exp)\n",
    "        count += 1\n",
    "    except:\n",
    "        continue\n",
    "print(count)"
   ]
  },
  {
   "cell_type": "code",
   "execution_count": 45,
   "metadata": {},
   "outputs": [
    {
     "name": "stdout",
     "output_type": "stream",
     "text": [
      "14935 14935\n"
     ]
    }
   ],
   "source": [
    "print(len(Exps), len(zscore))"
   ]
  },
  {
   "cell_type": "code",
   "execution_count": 48,
   "metadata": {},
   "outputs": [
    {
     "data": {
      "text/plain": [
       "SpearmanrResult(correlation=0.3336620345704195, pvalue=0.0)"
      ]
     },
     "execution_count": 48,
     "metadata": {},
     "output_type": "execute_result"
    },
    {
     "data": {
      "image/png": "[encoded data removed]",
      "text/plain": [
       "<Figure size 432x288 with 1 Axes>"
      ]
     },
     "metadata": {
      "needs_background": "light"
     },
     "output_type": "display_data"
    }
   ],
   "source": [
    "plt.scatter(Exps, zscore)\n",
    "spearmanr(Exps, zscore)"
   ]
  },
  {
   "cell_type": "code",
   "execution_count": null,
   "metadata": {},
   "outputs": [],
   "source": []
  }
 ],
 "metadata": {
  "kernelspec": {
   "display_name": "Python 3",
   "language": "python",
   "name": "python3"
  },
  "language_info": {
   "codemirror_mode": {
    "name": "ipython",
    "version": 3
   },
   "file_extension": ".py",
   "mimetype": "text/x-python",
   "name": "python",
   "nbconvert_exporter": "python",
   "pygments_lexer": "ipython3",
   "version": "3.7.1"
  }
 },
 "nbformat": 4,
 "nbformat_minor": 2
}
