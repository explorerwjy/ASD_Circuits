{
 "cells": [
  {
   "cell_type": "code",
   "execution_count": 1,
   "metadata": {},
   "outputs": [
    {
     "name": "stderr",
     "output_type": "stream",
     "text": [
      "/Users/jiayao/anaconda3/lib/python3.7/site-packages/statsmodels/compat/pandas.py:49: FutureWarning: The Panel class is removed from pandas. Accessing it from the top-level namespace will also be removed in the next version\n",
      "  data_klasses = (pandas.Series, pandas.DataFrame, pandas.Panel)\n"
     ]
    }
   ],
   "source": [
    "%load_ext autoreload\n",
    "%autoreload 2\n",
    "from ASD_Circuits import *"
   ]
  },
  {
   "cell_type": "code",
   "execution_count": null,
   "metadata": {},
   "outputs": [],
   "source": [
    "### Subset expression matrix"
   ]
  },
  {
   "cell_type": "code",
   "execution_count": 3,
   "metadata": {},
   "outputs": [],
   "source": [
    "# expression matrix\n",
    "raw_matrix = pd.read_csv(\"../dat/allen-mouse-exp/replicate/expression_energy.csv\")"
   ]
  },
  {
   "cell_type": "code",
   "execution_count": 5,
   "metadata": {},
   "outputs": [
    {
     "name": "stdout",
     "output_type": "stream",
     "text": [
      "(26078, 1328)\n"
     ]
    },
    {
     "data": {
      "text/html": [
       "<div>\n",
       "<style scoped>\n",
       "    .dataframe tbody tr th:only-of-type {\n",
       "        vertical-align: middle;\n",
       "    }\n",
       "\n",
       "    .dataframe tbody tr th {\n",
       "        vertical-align: top;\n",
       "    }\n",
       "\n",
       "    .dataframe thead th {\n",
       "        text-align: right;\n",
       "    }\n",
       "</style>\n",
       "<table border=\"1\" class=\"dataframe\">\n",
       "  <thead>\n",
       "    <tr style=\"text-align: right;\">\n",
       "      <th></th>\n",
       "      <th>gene</th>\n",
       "      <th>1000</th>\n",
       "      <th>223</th>\n",
       "      <th>12998</th>\n",
       "      <th>163</th>\n",
       "      <th>552</th>\n",
       "      <th>875</th>\n",
       "      <th>484682524</th>\n",
       "      <th>484682500</th>\n",
       "      <th>561</th>\n",
       "      <th>...</th>\n",
       "      <th>651</th>\n",
       "      <th>607344834</th>\n",
       "      <th>484682520</th>\n",
       "      <th>438</th>\n",
       "      <th>304325711</th>\n",
       "      <th>324</th>\n",
       "      <th>321</th>\n",
       "      <th>796</th>\n",
       "      <th>436</th>\n",
       "      <th>1051</th>\n",
       "    </tr>\n",
       "  </thead>\n",
       "  <tbody>\n",
       "    <tr>\n",
       "      <th>0</th>\n",
       "      <td>68637491</td>\n",
       "      <td>NaN</td>\n",
       "      <td>8.54318</td>\n",
       "      <td>NaN</td>\n",
       "      <td>NaN</td>\n",
       "      <td>NaN</td>\n",
       "      <td>11.279900</td>\n",
       "      <td>NaN</td>\n",
       "      <td>NaN</td>\n",
       "      <td>NaN</td>\n",
       "      <td>...</td>\n",
       "      <td>8.374100</td>\n",
       "      <td>NaN</td>\n",
       "      <td>NaN</td>\n",
       "      <td>9.31575</td>\n",
       "      <td>NaN</td>\n",
       "      <td>14.19060</td>\n",
       "      <td>8.33054</td>\n",
       "      <td>12.49050</td>\n",
       "      <td>NaN</td>\n",
       "      <td>NaN</td>\n",
       "    </tr>\n",
       "    <tr>\n",
       "      <th>1</th>\n",
       "      <td>1086</td>\n",
       "      <td>NaN</td>\n",
       "      <td>1.63863</td>\n",
       "      <td>NaN</td>\n",
       "      <td>3.04064</td>\n",
       "      <td>NaN</td>\n",
       "      <td>0.860511</td>\n",
       "      <td>NaN</td>\n",
       "      <td>NaN</td>\n",
       "      <td>NaN</td>\n",
       "      <td>...</td>\n",
       "      <td>0.398294</td>\n",
       "      <td>NaN</td>\n",
       "      <td>NaN</td>\n",
       "      <td>0.72872</td>\n",
       "      <td>NaN</td>\n",
       "      <td>1.53664</td>\n",
       "      <td>1.14846</td>\n",
       "      <td>1.01822</td>\n",
       "      <td>NaN</td>\n",
       "      <td>NaN</td>\n",
       "    </tr>\n",
       "  </tbody>\n",
       "</table>\n",
       "<p>2 rows × 1328 columns</p>\n",
       "</div>"
      ],
      "text/plain": [
       "       gene  1000      223  12998      163  552        875  484682524  \\\n",
       "0  68637491   NaN  8.54318    NaN      NaN  NaN  11.279900        NaN   \n",
       "1      1086   NaN  1.63863    NaN  3.04064  NaN   0.860511        NaN   \n",
       "\n",
       "   484682500  561  ...       651  607344834  484682520      438  304325711  \\\n",
       "0        NaN  NaN  ...  8.374100        NaN        NaN  9.31575        NaN   \n",
       "1        NaN  NaN  ...  0.398294        NaN        NaN  0.72872        NaN   \n",
       "\n",
       "        324      321       796  436  1051  \n",
       "0  14.19060  8.33054  12.49050  NaN   NaN  \n",
       "1   1.53664  1.14846   1.01822  NaN   NaN  \n",
       "\n",
       "[2 rows x 1328 columns]"
      ]
     },
     "execution_count": 5,
     "metadata": {},
     "output_type": "execute_result"
    }
   ],
   "source": [
    "print(raw_matrix.shape)\n",
    "raw_matrix.head(2)"
   ]
  },
  {
   "cell_type": "code",
   "execution_count": 10,
   "metadata": {},
   "outputs": [],
   "source": [
    "# subset to 213 selected structures\n",
    "structure_df = pd.read_csv(\"../dat/allen-mouse-exp/replicate/allen_brain_atlas_structures.csv\")\n",
    "Selected_STR = [x.strip() for x in open(\"/Users/jiayao/Work/ASD_Circuits/dat/allen-mouse-exp/Structures.txt\", 'rt')]"
   ]
  },
  {
   "cell_type": "code",
   "execution_count": 65,
   "metadata": {},
   "outputs": [],
   "source": [
    "STR_ID2Name = {}\n",
    "selected_str_ids = []\n",
    "for i, row in structure_df.iterrows():\n",
    "    name = row[\"safe_name\"]\n",
    "    name = re.sub('[()]', '', name)\n",
    "    name = re.sub('[-]', ' ', name)\n",
    "    name = \"_\".join(name.split())\n",
    "    if name in Selected_STR:\n",
    "        STR_ID2Name[str(row[\"id\"])] = name\n",
    "        selected_str_ids.append(str(row[\"id\"]))\n",
    "STR_ID2Name[\"gene\"] = \"section_id\""
   ]
  },
  {
   "cell_type": "code",
   "execution_count": 57,
   "metadata": {},
   "outputs": [],
   "source": [
    "raw_matrix = raw_matrix[[\"gene\"]+selected_str_ids]"
   ]
  },
  {
   "cell_type": "code",
   "execution_count": 58,
   "metadata": {},
   "outputs": [
    {
     "data": {
      "text/plain": [
       "(26078, 214)"
      ]
     },
     "execution_count": 58,
     "metadata": {},
     "output_type": "execute_result"
    }
   ],
   "source": [
    "\n",
    "raw_matrix.shape"
   ]
  },
  {
   "cell_type": "code",
   "execution_count": 66,
   "metadata": {},
   "outputs": [],
   "source": [
    "raw_matrix.columns = [STR_ID2Name[x] for x in raw_matrix.columns]"
   ]
  },
  {
   "cell_type": "code",
   "execution_count": 68,
   "metadata": {},
   "outputs": [
    {
     "data": {
      "text/plain": [
       "(26078, 214)"
      ]
     },
     "execution_count": 68,
     "metadata": {},
     "output_type": "execute_result"
    }
   ],
   "source": [
    "raw_matrix.shape"
   ]
  },
  {
   "cell_type": "code",
   "execution_count": 69,
   "metadata": {},
   "outputs": [],
   "source": [
    "### convert section id -> mouse gene -> human gene expression matrix"
   ]
  },
  {
   "cell_type": "code",
   "execution_count": null,
   "metadata": {},
   "outputs": [],
   "source": []
  }
 ],
 "metadata": {
  "kernelspec": {
   "display_name": "Python 3",
   "language": "python",
   "name": "python3"
  },
  "language_info": {
   "codemirror_mode": {
    "name": "ipython",
    "version": 3
   },
   "file_extension": ".py",
   "mimetype": "text/x-python",
   "name": "python",
   "nbconvert_exporter": "python",
   "pygments_lexer": "ipython3",
   "version": "3.7.1"
  }
 },
 "nbformat": 4,
 "nbformat_minor": 2
}
