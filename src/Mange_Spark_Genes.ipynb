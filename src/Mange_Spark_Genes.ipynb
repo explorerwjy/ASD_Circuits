{
 "cells": [
  {
   "cell_type": "code",
   "execution_count": 1,
   "metadata": {},
   "outputs": [],
   "source": [
    "%load_ext autoreload\n",
    "%autoreload 2\n",
    "from ASD_Circuits import *\n",
    "from venn import venn\n",
    "\n",
    "HGNC, ENSID2Entrez, GeneSymbol2Entrez, Entrez2Symbol, allen_mouse_genes = LoadGeneINFO()\n",
    "ExpMat, ExpZscoreMat, ExpMatNorm, ExpZscoreMatNorm = LoadExpressionMatrices()\n",
    "ExpMat = pd.read_csv(\"dat/Jon_data/energy-exp_level.csv\", index_col=\"ROW\")\n",
    "ExpMat2, ExpZscoreMat2, ExpMatNorm2, ExpZscoreMatNorm2 = LoadExpressionMatrices(\n",
    "                        ExpMat = \"../dat/allen-mouse-exp/new-energy-conn-model.csv\", \n",
    "                        ExpZscoreMat = \"../dat/allen-mouse-exp/new-energy-conn-zscore.csv\",\n",
    "                        ExpMatNorm = \"../dat/allen-mouse-exp/energy-neuronorm.csv\",\n",
    "                        ExpZscoreMatNorm = \"../dat/allen-mouse-exp/energy-zscore-neuronorm.csv\")\n",
    "gnomad_cons = pd.read_csv(\"../dat/genes/gnomad.v2.1.1.lof_metrics.by_gene.txt\",\n",
    "                          delimiter=\"\\t\", index_col=\"gene\")"
   ]
  },
  {
   "cell_type": "code",
   "execution_count": 2,
   "metadata": {},
   "outputs": [],
   "source": [
    "def CountMut(DF):\n",
    "    N_LGD, N_mis, N_Dmis, N_syn = 0,0,0,0\n",
    "    for i, row in DF.iterrows():\n",
    "        GeneEff = row[\"GeneEff\"].split(\";\")[0]\n",
    "        if GeneEff in [\"frameshift\", \"splice_acceptor\", \"splice_donor\", \"start_lost\", \"stop_gained\", \"stop_lost\"]:\n",
    "            N_LGD += 1\n",
    "        elif GeneEff == \"missense\":\n",
    "            N_mis += 1\n",
    "            row[\"REVEL\"] = row[\"REVEL\"].split(\";\")[0]\n",
    "            if row[\"REVEL\"] != \".\":\n",
    "                if float(row[\"REVEL\"]) > 0.5:\n",
    "                    N_Dmis += 1\n",
    "        elif GeneEff == \"synonymous\":\n",
    "            N_syn += 1\n",
    "    return N_LGD, N_mis, N_Dmis, N_syn\n",
    "    #return N_LGD, N_Dmis"
   ]
  },
  {
   "cell_type": "markdown",
   "metadata": {
    "heading_collapsed": true
   },
   "source": [
    "## 0. xxx"
   ]
  },
  {
   "cell_type": "code",
   "execution_count": 45,
   "metadata": {
    "hidden": true
   },
   "outputs": [],
   "source": [
    "DNV_Muts = pd.read_csv(\"../dat/genes/SPARK/CodingDNVs.txt\", delimiter=\"\\t\")"
   ]
  },
  {
   "cell_type": "code",
   "execution_count": 46,
   "metadata": {
    "hidden": true
   },
   "outputs": [
    {
     "name": "stdout",
     "output_type": "stream",
     "text": [
      "(13755, 67)\n"
     ]
    }
   ],
   "source": [
    "SPARK_DNV = DNV_Muts[DNV_Muts[\"Cohort\"]==\"SPARK\"]\n",
    "print(SPARK_DNV.shape)"
   ]
  },
  {
   "cell_type": "code",
   "execution_count": 48,
   "metadata": {
    "hidden": true
   },
   "outputs": [],
   "source": [
    "SPARK_DNV.to_csv(\"../dat/genes/SPARK/ASD_OnlySPARK_DNVs.txt\", sep=\"\\t\", index=False)"
   ]
  },
  {
   "cell_type": "code",
   "execution_count": 41,
   "metadata": {
    "hidden": true
   },
   "outputs": [],
   "source": [
    "DNV_SP = pd.read_csv(\"../dat/genes/SPARK/SampTable.txt\", delimiter=\"\\t\")"
   ]
  },
  {
   "cell_type": "code",
   "execution_count": 42,
   "metadata": {
    "hidden": true
   },
   "outputs": [
    {
     "data": {
      "text/html": [
       "<div>\n",
       "<style scoped>\n",
       "    .dataframe tbody tr th:only-of-type {\n",
       "        vertical-align: middle;\n",
       "    }\n",
       "\n",
       "    .dataframe tbody tr th {\n",
       "        vertical-align: top;\n",
       "    }\n",
       "\n",
       "    .dataframe thead th {\n",
       "        text-align: right;\n",
       "    }\n",
       "</style>\n",
       "<table border=\"1\" class=\"dataframe\">\n",
       "  <thead>\n",
       "    <tr style=\"text-align: right;\">\n",
       "      <th></th>\n",
       "      <th>Cohort</th>\n",
       "      <th>FamID</th>\n",
       "      <th>FamType</th>\n",
       "      <th>IID</th>\n",
       "      <th>Sex</th>\n",
       "      <th>Pheno</th>\n",
       "      <th>ID</th>\n",
       "    </tr>\n",
       "  </thead>\n",
       "  <tbody>\n",
       "    <tr>\n",
       "      <th>0</th>\n",
       "      <td>ASC</td>\n",
       "      <td>UCD_11791</td>\n",
       "      <td>Simplex</td>\n",
       "      <td>002-09-110644</td>\n",
       "      <td>Male</td>\n",
       "      <td>Affected</td>\n",
       "      <td>No</td>\n",
       "    </tr>\n",
       "    <tr>\n",
       "      <th>1</th>\n",
       "      <td>ASC</td>\n",
       "      <td>UCD_10455</td>\n",
       "      <td>Multiplex</td>\n",
       "      <td>003-05-102508</td>\n",
       "      <td>Female</td>\n",
       "      <td>Affected</td>\n",
       "      <td>No</td>\n",
       "    </tr>\n",
       "  </tbody>\n",
       "</table>\n",
       "</div>"
      ],
      "text/plain": [
       "  Cohort      FamID    FamType            IID     Sex     Pheno  ID\n",
       "0    ASC  UCD_11791    Simplex  002-09-110644    Male  Affected  No\n",
       "1    ASC  UCD_10455  Multiplex  003-05-102508  Female  Affected  No"
      ]
     },
     "execution_count": 42,
     "metadata": {},
     "output_type": "execute_result"
    }
   ],
   "source": [
    "DNV_SP.head(2)"
   ]
  },
  {
   "cell_type": "code",
   "execution_count": 44,
   "metadata": {
    "hidden": true
   },
   "outputs": [
    {
     "name": "stdout",
     "output_type": "stream",
     "text": [
      "(10097, 7)\n"
     ]
    }
   ],
   "source": [
    "SPARK_SP = DNV_SP[DNV_SP[\"Cohort\"]==\"SPARK\"]\n",
    "print(SPARK_SP.shape)"
   ]
  },
  {
   "cell_type": "code",
   "execution_count": 9,
   "metadata": {
    "hidden": true
   },
   "outputs": [
    {
     "data": {
      "text/html": [
       "<div>\n",
       "<style scoped>\n",
       "    .dataframe tbody tr th:only-of-type {\n",
       "        vertical-align: middle;\n",
       "    }\n",
       "\n",
       "    .dataframe tbody tr th {\n",
       "        vertical-align: top;\n",
       "    }\n",
       "\n",
       "    .dataframe thead th {\n",
       "        text-align: right;\n",
       "    }\n",
       "</style>\n",
       "<table border=\"1\" class=\"dataframe\">\n",
       "  <thead>\n",
       "    <tr style=\"text-align: right;\">\n",
       "      <th></th>\n",
       "      <th>Cohort</th>\n",
       "      <th>FamID</th>\n",
       "      <th>FamType</th>\n",
       "      <th>IID</th>\n",
       "      <th>Sex</th>\n",
       "      <th>Pheno</th>\n",
       "      <th>ID</th>\n",
       "    </tr>\n",
       "  </thead>\n",
       "  <tbody>\n",
       "    <tr>\n",
       "      <th>8109</th>\n",
       "      <td>SPARK</td>\n",
       "      <td>SF0000027</td>\n",
       "      <td>Multiplex</td>\n",
       "      <td>SP0000027</td>\n",
       "      <td>Male</td>\n",
       "      <td>Affected</td>\n",
       "      <td>No</td>\n",
       "    </tr>\n",
       "    <tr>\n",
       "      <th>8110</th>\n",
       "      <td>SPARK</td>\n",
       "      <td>SF0000027</td>\n",
       "      <td>Multiplex</td>\n",
       "      <td>SP0000034</td>\n",
       "      <td>Male</td>\n",
       "      <td>Affected</td>\n",
       "      <td>No</td>\n",
       "    </tr>\n",
       "    <tr>\n",
       "      <th>8111</th>\n",
       "      <td>SPARK</td>\n",
       "      <td>SF0000035</td>\n",
       "      <td>Simplex</td>\n",
       "      <td>SP0000035</td>\n",
       "      <td>Male</td>\n",
       "      <td>Affected</td>\n",
       "      <td>No</td>\n",
       "    </tr>\n",
       "    <tr>\n",
       "      <th>8112</th>\n",
       "      <td>SPARK</td>\n",
       "      <td>SF0000027</td>\n",
       "      <td>Multiplex</td>\n",
       "      <td>SP0000063</td>\n",
       "      <td>Female</td>\n",
       "      <td>Affected</td>\n",
       "      <td>No</td>\n",
       "    </tr>\n",
       "    <tr>\n",
       "      <th>8113</th>\n",
       "      <td>SPARK</td>\n",
       "      <td>SF0000076</td>\n",
       "      <td>Simplex</td>\n",
       "      <td>SP0000076</td>\n",
       "      <td>Male</td>\n",
       "      <td>Affected</td>\n",
       "      <td>No</td>\n",
       "    </tr>\n",
       "    <tr>\n",
       "      <th>...</th>\n",
       "      <td>...</td>\n",
       "      <td>...</td>\n",
       "      <td>...</td>\n",
       "      <td>...</td>\n",
       "      <td>...</td>\n",
       "      <td>...</td>\n",
       "      <td>...</td>\n",
       "    </tr>\n",
       "    <tr>\n",
       "      <th>18199</th>\n",
       "      <td>SPARK</td>\n",
       "      <td>SF0153060</td>\n",
       "      <td>Multiplex</td>\n",
       "      <td>SP0153060</td>\n",
       "      <td>Male</td>\n",
       "      <td>Affected</td>\n",
       "      <td>No</td>\n",
       "    </tr>\n",
       "    <tr>\n",
       "      <th>18200</th>\n",
       "      <td>SPARK</td>\n",
       "      <td>SF0153750</td>\n",
       "      <td>Simplex</td>\n",
       "      <td>SP0153750</td>\n",
       "      <td>Female</td>\n",
       "      <td>Affected</td>\n",
       "      <td>Yes</td>\n",
       "    </tr>\n",
       "    <tr>\n",
       "      <th>18201</th>\n",
       "      <td>SPARK</td>\n",
       "      <td>SF0154149</td>\n",
       "      <td>Simplex</td>\n",
       "      <td>SP0154149</td>\n",
       "      <td>Female</td>\n",
       "      <td>Affected</td>\n",
       "      <td>No</td>\n",
       "    </tr>\n",
       "    <tr>\n",
       "      <th>18203</th>\n",
       "      <td>SPARK</td>\n",
       "      <td>SF0154208</td>\n",
       "      <td>Simplex</td>\n",
       "      <td>SP0154208</td>\n",
       "      <td>Male</td>\n",
       "      <td>Affected</td>\n",
       "      <td>No</td>\n",
       "    </tr>\n",
       "    <tr>\n",
       "      <th>18205</th>\n",
       "      <td>SPARK</td>\n",
       "      <td>SF0154427</td>\n",
       "      <td>Simplex</td>\n",
       "      <td>SP0154427</td>\n",
       "      <td>Male</td>\n",
       "      <td>Affected</td>\n",
       "      <td>No</td>\n",
       "    </tr>\n",
       "  </tbody>\n",
       "</table>\n",
       "<p>7051 rows × 7 columns</p>\n",
       "</div>"
      ],
      "text/plain": [
       "      Cohort      FamID    FamType        IID     Sex     Pheno   ID\n",
       "8109   SPARK  SF0000027  Multiplex  SP0000027    Male  Affected   No\n",
       "8110   SPARK  SF0000027  Multiplex  SP0000034    Male  Affected   No\n",
       "8111   SPARK  SF0000035    Simplex  SP0000035    Male  Affected   No\n",
       "8112   SPARK  SF0000027  Multiplex  SP0000063  Female  Affected   No\n",
       "8113   SPARK  SF0000076    Simplex  SP0000076    Male  Affected   No\n",
       "...      ...        ...        ...        ...     ...       ...  ...\n",
       "18199  SPARK  SF0153060  Multiplex  SP0153060    Male  Affected   No\n",
       "18200  SPARK  SF0153750    Simplex  SP0153750  Female  Affected  Yes\n",
       "18201  SPARK  SF0154149    Simplex  SP0154149  Female  Affected   No\n",
       "18203  SPARK  SF0154208    Simplex  SP0154208    Male  Affected   No\n",
       "18205  SPARK  SF0154427    Simplex  SP0154427    Male  Affected   No\n",
       "\n",
       "[7051 rows x 7 columns]"
      ]
     },
     "execution_count": 9,
     "metadata": {},
     "output_type": "execute_result"
    }
   ],
   "source": [
    "SPARK_SP[SPARK_SP[\"Pheno\"]==\"Affected\"]"
   ]
  },
  {
   "cell_type": "code",
   "execution_count": 12,
   "metadata": {
    "hidden": true
   },
   "outputs": [],
   "source": [
    "SPARK_SP.to_csv(\"../dat/genes/ASD_OnlySPARK_Trios.txt\", sep=\"\\t\", index=False)"
   ]
  },
  {
   "cell_type": "code",
   "execution_count": 33,
   "metadata": {
    "hidden": true
   },
   "outputs": [],
   "source": [
    "SPs = SPARK_SP[\"IID\"].values"
   ]
  },
  {
   "cell_type": "code",
   "execution_count": 36,
   "metadata": {
    "hidden": true
   },
   "outputs": [],
   "source": [
    "DupPairs = pd.read_csv(\"../dat/genes/SPARK/Samp_LikelyDupPairs.txt\", sep=\"\\t\", header=None, names=None)\n",
    "DupPairs_new = DupPairs[(DupPairs[0].isin(SPs)) & (DupPairs[1].isin(SPs))]\n",
    "DupPairs_new.to_csv(\"../dat/genes/SPARK/SPARK_Samp_LikelyDupPairs.txt\", sep=\"\\t\", index=False, header=False)"
   ]
  },
  {
   "cell_type": "code",
   "execution_count": 37,
   "metadata": {
    "hidden": true
   },
   "outputs": [],
   "source": [
    "SibPairs = pd.read_csv(\"../dat/genes/SPARK/Samp_LikelySibPairs.txt\", sep=\"\\t\", header=None, names=None)\n",
    "SibPairs_new = SibPairs[(SibPairs[0].isin(SPs)) & (SibPairs[1].isin(SPs))]\n",
    "SibPairs_new.to_csv(\"../dat/genes/SPARK/SPARK_Samp_LikelySibPairs.txt\", sep=\"\\t\", index=False, header=False)"
   ]
  },
  {
   "cell_type": "markdown",
   "metadata": {
    "heading_collapsed": true
   },
   "source": [
    "## 1. SIxx"
   ]
  },
  {
   "cell_type": "code",
   "execution_count": 51,
   "metadata": {
    "hidden": true
   },
   "outputs": [],
   "source": [
    "DNV_West_DF = pd.read_csv(\"../dat/genes/SPARK/Spark_OnlyWEST_All.txt\", delimiter=\"\\t\")\n",
    "Spark_DNV_Mut = pd.read_csv(\"../dat/genes/ASD_OnlySPARK_DNVs.txt\", delimiter=\"\\t\")"
   ]
  },
  {
   "cell_type": "code",
   "execution_count": 52,
   "metadata": {
    "hidden": true
   },
   "outputs": [
    {
     "data": {
      "text/plain": [
       "{'frameshift',\n",
       " 'frameshift;frameshift',\n",
       " 'inframe_deletion',\n",
       " 'inframe_insertion',\n",
       " 'missense',\n",
       " 'missense;missense',\n",
       " 'missense;missense;missense;missense;missense;missense;missense;missense;missense;missense;missense;missense;missense;missense;missense',\n",
       " 'missense;synonymous',\n",
       " 'protein_altering',\n",
       " 'splice_acceptor',\n",
       " 'splice_donor',\n",
       " 'splice_donor;splice_donor',\n",
       " 'splice_region',\n",
       " 'splice_region;splice_region',\n",
       " 'start_lost',\n",
       " 'stop_gained',\n",
       " 'stop_gained;missense',\n",
       " 'stop_gained;stop_gained',\n",
       " 'stop_lost',\n",
       " 'stop_retained',\n",
       " 'synonymous',\n",
       " 'synonymous;missense',\n",
       " 'synonymous;synonymous'}"
      ]
     },
     "execution_count": 52,
     "metadata": {},
     "output_type": "execute_result"
    }
   ],
   "source": [
    "set(Spark_DNV_Mut[\"GeneEff\"].values)"
   ]
  },
  {
   "cell_type": "code",
   "execution_count": 55,
   "metadata": {
    "hidden": true
   },
   "outputs": [
    {
     "data": {
      "text/html": [
       "<div>\n",
       "<style scoped>\n",
       "    .dataframe tbody tr th:only-of-type {\n",
       "        vertical-align: middle;\n",
       "    }\n",
       "\n",
       "    .dataframe tbody tr th {\n",
       "        vertical-align: top;\n",
       "    }\n",
       "\n",
       "    .dataframe thead th {\n",
       "        text-align: right;\n",
       "    }\n",
       "</style>\n",
       "<table border=\"1\" class=\"dataframe\">\n",
       "  <thead>\n",
       "    <tr style=\"text-align: right;\">\n",
       "      <th></th>\n",
       "      <th>GeneID</th>\n",
       "      <th>HGNC</th>\n",
       "      <th>EntrezID</th>\n",
       "      <th>pLI</th>\n",
       "      <th>LOUEFbin</th>\n",
       "      <th>LOUEF</th>\n",
       "      <th>LoFOvsE</th>\n",
       "      <th>SynOvsE</th>\n",
       "      <th>sHet</th>\n",
       "      <th>forecASD</th>\n",
       "      <th>...</th>\n",
       "      <th>AllExpected</th>\n",
       "      <th>pAllEnrich</th>\n",
       "      <th>MisObserved</th>\n",
       "      <th>MisExpected</th>\n",
       "      <th>pMisEnrich</th>\n",
       "      <th>MisEvents</th>\n",
       "      <th>MisDist</th>\n",
       "      <th>pMisCluster</th>\n",
       "      <th>pMisComb</th>\n",
       "      <th>pDenovoWEST</th>\n",
       "    </tr>\n",
       "  </thead>\n",
       "  <tbody>\n",
       "    <tr>\n",
       "      <th>0</th>\n",
       "      <td>ENSG00000169057</td>\n",
       "      <td>MECP2</td>\n",
       "      <td>4204</td>\n",
       "      <td>0.698089047724915</td>\n",
       "      <td>1</td>\n",
       "      <td>4.0700e-01</td>\n",
       "      <td>8.5755e-02</td>\n",
       "      <td>2.0282e+00</td>\n",
       "      <td>0.0882033728499718</td>\n",
       "      <td>0.659685863874346</td>\n",
       "      <td>...</td>\n",
       "      <td>0.030862147475845807</td>\n",
       "      <td>1.06E-15</td>\n",
       "      <td>2.3310000000000004</td>\n",
       "      <td>0.02324823948587133</td>\n",
       "      <td>1.11E-14</td>\n",
       "      <td>7</td>\n",
       "      <td>257.2</td>\n",
       "      <td>0.16</td>\n",
       "      <td>6.34E-14</td>\n",
       "      <td>1.06E-15</td>\n",
       "    </tr>\n",
       "  </tbody>\n",
       "</table>\n",
       "<p>1 rows × 29 columns</p>\n",
       "</div>"
      ],
      "text/plain": [
       "            GeneID   HGNC EntrezID                pLI LOUEFbin       LOUEF  \\\n",
       "0  ENSG00000169057  MECP2     4204  0.698089047724915        1  4.0700e-01   \n",
       "\n",
       "      LoFOvsE     SynOvsE                sHet           forecASD  ...  \\\n",
       "0  8.5755e-02  2.0282e+00  0.0882033728499718  0.659685863874346  ...   \n",
       "\n",
       "            AllExpected pAllEnrich         MisObserved          MisExpected  \\\n",
       "0  0.030862147475845807   1.06E-15  2.3310000000000004  0.02324823948587133   \n",
       "\n",
       "  pMisEnrich MisEvents MisDist pMisCluster  pMisComb pDenovoWEST  \n",
       "0   1.11E-14         7   257.2        0.16  6.34E-14    1.06E-15  \n",
       "\n",
       "[1 rows x 29 columns]"
      ]
     },
     "execution_count": 55,
     "metadata": {},
     "output_type": "execute_result"
    }
   ],
   "source": [
    "Muts"
   ]
  },
  {
   "cell_type": "code",
   "execution_count": 79,
   "metadata": {
    "hidden": true
   },
   "outputs": [],
   "source": [
    "for i, row in DNV_West_DF.iterrows():\n",
    "    HGNC = row[\"HGNC\"]\n",
    "    Muts = Spark_DNV_Mut[Spark_DNV_Mut[\"HGNC\"]==HGNC]\n",
    "    N_LGD, N_Dmis = CountMut(Muts)\n",
    "    DNV_West_DF.loc[i, \"dnLGD\"] = N_LGD\n",
    "    DNV_West_DF.loc[i, \"dnDmis\"] = N_Dmis"
   ]
  },
  {
   "cell_type": "code",
   "execution_count": 80,
   "metadata": {
    "hidden": true
   },
   "outputs": [
    {
     "data": {
      "text/html": [
       "<div>\n",
       "<style scoped>\n",
       "    .dataframe tbody tr th:only-of-type {\n",
       "        vertical-align: middle;\n",
       "    }\n",
       "\n",
       "    .dataframe tbody tr th {\n",
       "        vertical-align: top;\n",
       "    }\n",
       "\n",
       "    .dataframe thead th {\n",
       "        text-align: right;\n",
       "    }\n",
       "</style>\n",
       "<table border=\"1\" class=\"dataframe\">\n",
       "  <thead>\n",
       "    <tr style=\"text-align: right;\">\n",
       "      <th></th>\n",
       "      <th>GeneID</th>\n",
       "      <th>HGNC</th>\n",
       "      <th>EntrezID</th>\n",
       "      <th>pLI</th>\n",
       "      <th>LOUEFbin</th>\n",
       "      <th>LOUEF</th>\n",
       "      <th>LoFOvsE</th>\n",
       "      <th>SynOvsE</th>\n",
       "      <th>sHet</th>\n",
       "      <th>forecASD</th>\n",
       "      <th>...</th>\n",
       "      <th>MisObserved</th>\n",
       "      <th>MisExpected</th>\n",
       "      <th>pMisEnrich</th>\n",
       "      <th>MisEvents</th>\n",
       "      <th>MisDist</th>\n",
       "      <th>pMisCluster</th>\n",
       "      <th>pMisComb</th>\n",
       "      <th>pDenovoWEST</th>\n",
       "      <th>dnLGD</th>\n",
       "      <th>dnDmis</th>\n",
       "    </tr>\n",
       "  </thead>\n",
       "  <tbody>\n",
       "    <tr>\n",
       "      <th>0</th>\n",
       "      <td>ENSG00000169057</td>\n",
       "      <td>MECP2</td>\n",
       "      <td>4204</td>\n",
       "      <td>0.698089047724915</td>\n",
       "      <td>1</td>\n",
       "      <td>4.0700e-01</td>\n",
       "      <td>8.5755e-02</td>\n",
       "      <td>2.0282e+00</td>\n",
       "      <td>0.0882033728499718</td>\n",
       "      <td>0.659685863874346</td>\n",
       "      <td>...</td>\n",
       "      <td>2.3310000000000004</td>\n",
       "      <td>0.02324823948587133</td>\n",
       "      <td>1.11E-14</td>\n",
       "      <td>7</td>\n",
       "      <td>257.2</td>\n",
       "      <td>0.16</td>\n",
       "      <td>6.34E-14</td>\n",
       "      <td>1.06E-15</td>\n",
       "      <td>2.0</td>\n",
       "      <td>7.0</td>\n",
       "    </tr>\n",
       "    <tr>\n",
       "      <th>1</th>\n",
       "      <td>ENSG00000251322</td>\n",
       "      <td>SHANK3</td>\n",
       "      <td>85358</td>\n",
       "      <td>0.999839619981909</td>\n",
       "      <td>0</td>\n",
       "      <td>1.2300e-01</td>\n",
       "      <td>3.9226e-02</td>\n",
       "      <td>1.2148e+00</td>\n",
       "      <td>.</td>\n",
       "      <td>0.896</td>\n",
       "      <td>...</td>\n",
       "      <td>1.197</td>\n",
       "      <td>0.13206389525852902</td>\n",
       "      <td>3.43E-06</td>\n",
       "      <td>5</td>\n",
       "      <td>1186.8</td>\n",
       "      <td>0.46</td>\n",
       "      <td>2.27E-05</td>\n",
       "      <td>1.00E-14</td>\n",
       "      <td>9.0</td>\n",
       "      <td>3.0</td>\n",
       "    </tr>\n",
       "  </tbody>\n",
       "</table>\n",
       "<p>2 rows × 31 columns</p>\n",
       "</div>"
      ],
      "text/plain": [
       "            GeneID    HGNC EntrezID                pLI LOUEFbin       LOUEF  \\\n",
       "0  ENSG00000169057   MECP2     4204  0.698089047724915        1  4.0700e-01   \n",
       "1  ENSG00000251322  SHANK3    85358  0.999839619981909        0  1.2300e-01   \n",
       "\n",
       "      LoFOvsE     SynOvsE                sHet           forecASD  ...  \\\n",
       "0  8.5755e-02  2.0282e+00  0.0882033728499718  0.659685863874346  ...   \n",
       "1  3.9226e-02  1.2148e+00                   .              0.896  ...   \n",
       "\n",
       "          MisObserved          MisExpected pMisEnrich MisEvents MisDist  \\\n",
       "0  2.3310000000000004  0.02324823948587133   1.11E-14         7   257.2   \n",
       "1               1.197  0.13206389525852902   3.43E-06         5  1186.8   \n",
       "\n",
       "  pMisCluster  pMisComb pDenovoWEST dnLGD dnDmis  \n",
       "0        0.16  6.34E-14    1.06E-15   2.0    7.0  \n",
       "1        0.46  2.27E-05    1.00E-14   9.0    3.0  \n",
       "\n",
       "[2 rows x 31 columns]"
      ]
     },
     "execution_count": 80,
     "metadata": {},
     "output_type": "execute_result"
    }
   ],
   "source": [
    "DNV_West_DF.head(2)"
   ]
  },
  {
   "cell_type": "code",
   "execution_count": 81,
   "metadata": {
    "hidden": true
   },
   "outputs": [],
   "source": [
    "SPARK = DNV_West_DF.head(102)\n",
    "SPARK_101 = set(SPARK[\"EntrezID\"].values)"
   ]
  },
  {
   "cell_type": "code",
   "execution_count": 82,
   "metadata": {
    "hidden": true
   },
   "outputs": [],
   "source": [
    "DNV_West_DF.to_csv(\"../dat/genes/SPARK/SPARK_Only_WEST_MutN.csv\", index=False)"
   ]
  },
  {
   "cell_type": "code",
   "execution_count": 77,
   "metadata": {
    "hidden": true
   },
   "outputs": [],
   "source": [
    "asc_df = pd.read_csv(\"../dat/genes/asd/asc_tada_RR.csv\")\n",
    "asc_101 = set(asc_df.head(102)[\"entrez_id\"].values)"
   ]
  },
  {
   "cell_type": "code",
   "execution_count": 83,
   "metadata": {
    "hidden": true
   },
   "outputs": [
    {
     "data": {
      "text/plain": [
       "<matplotlib.axes._subplots.AxesSubplot at 0x133c1f048>"
      ]
     },
     "execution_count": 83,
     "metadata": {},
     "output_type": "execute_result"
    },
    {
     "data": {
      "text/plain": [
       "<Figure size 720x480 with 0 Axes>"
      ]
     },
     "metadata": {},
     "output_type": "display_data"
    },
    {
     "data": {
      "image/png": "[encoded data removed]",
      "text/plain": [
       "<Figure size 640x640 with 1 Axes>"
      ]
     },
     "metadata": {},
     "output_type": "display_data"
    }
   ],
   "source": [
    "dat_dict = {\"ASC\": asc_101, \"SPARK\":set(SPARK[\"EntrezID\"].values), }\n",
    "plt.figure(dpi=120)\n",
    "venn(dat_dict)"
   ]
  },
  {
   "cell_type": "code",
   "execution_count": 71,
   "metadata": {
    "hidden": true
   },
   "outputs": [
    {
     "ename": "TypeError",
     "evalue": "venn_dispatch() got multiple values for argument 'func'",
     "output_type": "error",
     "traceback": [
      "\u001b[0;31m---------------------------------------------------------------------------\u001b[0m",
      "\u001b[0;31mTypeError\u001b[0m                                 Traceback (most recent call last)",
      "\u001b[0;32m<ipython-input-71-8302c27e17b9>\u001b[0m in \u001b[0;36m<module>\u001b[0;34m\u001b[0m\n\u001b[0;32m----> 1\u001b[0;31m \u001b[0mvenn\u001b[0m\u001b[0;34m(\u001b[0m\u001b[0mSPARK_101\u001b[0m\u001b[0;34m,\u001b[0m \u001b[0masc_101\u001b[0m\u001b[0;34m)\u001b[0m\u001b[0;34m\u001b[0m\u001b[0;34m\u001b[0m\u001b[0m\n\u001b[0m",
      "\u001b[0;31mTypeError\u001b[0m: venn_dispatch() got multiple values for argument 'func'"
     ]
    }
   ],
   "source": [
    "venn(SPARK_101, asc_101)"
   ]
  },
  {
   "cell_type": "markdown",
   "metadata": {
    "heading_collapsed": true
   },
   "source": [
    "## XXX"
   ]
  },
  {
   "cell_type": "code",
   "execution_count": 2,
   "metadata": {
    "hidden": true
   },
   "outputs": [],
   "source": [
    "phenotype = pd.read_excel(\"../dat/genes/SPARK/Data_DiscovSampInfo.xlsx\", sheet_name=\"SPARK\", header=1)"
   ]
  },
  {
   "cell_type": "code",
   "execution_count": 3,
   "metadata": {
    "hidden": true
   },
   "outputs": [
    {
     "data": {
      "text/html": [
       "<div>\n",
       "<style scoped>\n",
       "    .dataframe tbody tr th:only-of-type {\n",
       "        vertical-align: middle;\n",
       "    }\n",
       "\n",
       "    .dataframe tbody tr th {\n",
       "        vertical-align: top;\n",
       "    }\n",
       "\n",
       "    .dataframe thead th {\n",
       "        text-align: right;\n",
       "    }\n",
       "</style>\n",
       "<table border=\"1\" class=\"dataframe\">\n",
       "  <thead>\n",
       "    <tr style=\"text-align: right;\">\n",
       "      <th></th>\n",
       "      <th>FelicianoP2019</th>\n",
       "      <th>Exome</th>\n",
       "      <th>SNPArray</th>\n",
       "      <th>FamID</th>\n",
       "      <th>FamIDOrig</th>\n",
       "      <th>FamHist</th>\n",
       "      <th>IID</th>\n",
       "      <th>Role</th>\n",
       "      <th>Sex</th>\n",
       "      <th>Father</th>\n",
       "      <th>...</th>\n",
       "      <th>ProbEUR</th>\n",
       "      <th>ProbAFR</th>\n",
       "      <th>ProbNAT</th>\n",
       "      <th>ProbSAS</th>\n",
       "      <th>ProbEAS</th>\n",
       "      <th>Denovo</th>\n",
       "      <th>TDT</th>\n",
       "      <th>TDTchrX</th>\n",
       "      <th>PseudoCC</th>\n",
       "      <th>PseudoCCchrX</th>\n",
       "    </tr>\n",
       "  </thead>\n",
       "  <tbody>\n",
       "    <tr>\n",
       "      <th>0</th>\n",
       "      <td>.</td>\n",
       "      <td>x</td>\n",
       "      <td>x</td>\n",
       "      <td>SF0000003</td>\n",
       "      <td>.</td>\n",
       "      <td>Simplex</td>\n",
       "      <td>SP0000002</td>\n",
       "      <td>Mother</td>\n",
       "      <td>Female</td>\n",
       "      <td>.</td>\n",
       "      <td>...</td>\n",
       "      <td>0.288</td>\n",
       "      <td>0.382</td>\n",
       "      <td>0.317</td>\n",
       "      <td>0.005</td>\n",
       "      <td>0.009</td>\n",
       "      <td>.</td>\n",
       "      <td>duo</td>\n",
       "      <td>duo</td>\n",
       "      <td>control</td>\n",
       "      <td>control</td>\n",
       "    </tr>\n",
       "    <tr>\n",
       "      <th>1</th>\n",
       "      <td>.</td>\n",
       "      <td>x</td>\n",
       "      <td>x</td>\n",
       "      <td>SF0000003</td>\n",
       "      <td>.</td>\n",
       "      <td>Simplex</td>\n",
       "      <td>SP0000003</td>\n",
       "      <td>Proband</td>\n",
       "      <td>Male</td>\n",
       "      <td>.</td>\n",
       "      <td>...</td>\n",
       "      <td>0.355</td>\n",
       "      <td>0.243</td>\n",
       "      <td>0.378</td>\n",
       "      <td>0.000</td>\n",
       "      <td>0.024</td>\n",
       "      <td>.</td>\n",
       "      <td>duo</td>\n",
       "      <td>duo</td>\n",
       "      <td>case</td>\n",
       "      <td>.</td>\n",
       "    </tr>\n",
       "  </tbody>\n",
       "</table>\n",
       "<p>2 rows × 29 columns</p>\n",
       "</div>"
      ],
      "text/plain": [
       "  FelicianoP2019 Exome SNPArray      FamID FamIDOrig  FamHist        IID  \\\n",
       "0              .     x        x  SF0000003         .  Simplex  SP0000002   \n",
       "1              .     x        x  SF0000003         .  Simplex  SP0000003   \n",
       "\n",
       "      Role     Sex Father  ... ProbEUR  ProbAFR ProbNAT ProbSAS ProbEAS  \\\n",
       "0   Mother  Female      .  ...   0.288    0.382   0.317   0.005   0.009   \n",
       "1  Proband    Male      .  ...   0.355    0.243   0.378   0.000   0.024   \n",
       "\n",
       "  Denovo  TDT TDTchrX PseudoCC  PseudoCCchrX  \n",
       "0      .  duo     duo  control       control  \n",
       "1      .  duo     duo     case             .  \n",
       "\n",
       "[2 rows x 29 columns]"
      ]
     },
     "execution_count": 3,
     "metadata": {},
     "output_type": "execute_result"
    }
   ],
   "source": [
    "phenotype.head(2)"
   ]
  },
  {
   "cell_type": "code",
   "execution_count": 39,
   "metadata": {
    "hidden": true
   },
   "outputs": [
    {
     "name": "stdout",
     "output_type": "stream",
     "text": [
      "N Cog: 1920; N Uncog: 5493\n"
     ]
    }
   ],
   "source": [
    "proband = phenotype[(phenotype[\"Role\"]==\"Proband\") & (phenotype[\"ASD\"]==True)]\n",
    "proband = proband[proband[\"FamHist\"]==\"Simplex\"]\n",
    "CognitImpair  = proband[proband[\"CognitImpair\"]==\"True\"]\n",
    "UnCognitImpair = proband[proband[\"CognitImpair\"]==\"False\"]\n",
    "Probands_CognitImpair = CognitImpair[\"IID\"].values\n",
    "Probands_UnCognitImpair = UnCognitImpair[\"IID\"].values\n",
    "print(\"N Cog: %d; N Uncog: %d\"%(len(Probands_CognitImpair), len(Probands_UnCognitImpair)))"
   ]
  },
  {
   "cell_type": "code",
   "execution_count": 40,
   "metadata": {
    "hidden": true
   },
   "outputs": [],
   "source": [
    "DNVs = pd.read_csv(\"../dat/genes/SPARK/ASD_Discov_DNVs.txt\", delimiter=\"\\t\")\n",
    "Cog_DNVs = DNVs[DNVs[\"IID\"].isin(Probands_CognitImpair)]\n",
    "UnCog_DNVs = DNVs[DNVs[\"IID\"].isin(Probands_UnCognitImpair)]"
   ]
  },
  {
   "cell_type": "code",
   "execution_count": 41,
   "metadata": {
    "hidden": true
   },
   "outputs": [
    {
     "data": {
      "text/plain": [
       "995"
      ]
     },
     "execution_count": 41,
     "metadata": {},
     "output_type": "execute_result"
    }
   ],
   "source": [
    "len(set(Cog_DNVs[\"IID\"].values))"
   ]
  },
  {
   "cell_type": "code",
   "execution_count": 42,
   "metadata": {
    "hidden": true
   },
   "outputs": [
    {
     "data": {
      "text/plain": [
       "2881"
      ]
     },
     "execution_count": 42,
     "metadata": {},
     "output_type": "execute_result"
    }
   ],
   "source": [
    "len(set(UnCog_DNVs[\"IID\"].values))"
   ]
  },
  {
   "cell_type": "code",
   "execution_count": 43,
   "metadata": {
    "hidden": true
   },
   "outputs": [
    {
     "name": "stdout",
     "output_type": "stream",
     "text": [
      "195.00867395327617 304.4487465287477\n",
      "557.9076281382011 871.008835772089\n"
     ]
    }
   ],
   "source": [
    "# Calculate Enrichment Rate\n",
    "All_Genes = pd.read_csv(\"../dat/genes/asd/TADA.SPARK.ONLY.txt\", delimiter=\"\\t\")\n",
    "Cog_LGD_Exp = 2 * len(Probands_CognitImpair) * All_Genes[\"mutLGD\"].sum()\n",
    "Cog_Dmis_Exp = 2 * len(Probands_CognitImpair) * All_Genes[\"mutDmis\"].sum()\n",
    "Cog_Dmis_Exp = 2 * len(Probands_CognitImpair) * All_Genes[\"mutDmis\"].sum()\n",
    "\n",
    "UnCog_LGD_Exp = 2 * len(Probands_UnCognitImpair) * All_Genes[\"mutLGD\"].sum()\n",
    "UnCog_Dmis_Exp = 2 * len(Probands_UnCognitImpair) * All_Genes[\"mutDmis\"].sum()\n",
    "UnCog_Dmis_Exp = 2 * len(Probands_UnCognitImpair) * All_Genes[\"mutDmis\"].sum()\n",
    "\n",
    "print(Cog_LGD_Exp, Cog_Dmis_Exp)\n",
    "print(UnCog_LGD_Exp, UnCog_Dmis_Exp)"
   ]
  },
  {
   "cell_type": "code",
   "execution_count": 44,
   "metadata": {
    "hidden": true
   },
   "outputs": [
    {
     "data": {
      "text/plain": [
       "(282, 302)"
      ]
     },
     "execution_count": 44,
     "metadata": {},
     "output_type": "execute_result"
    }
   ],
   "source": [
    "CountMut(Cog_DNVs)"
   ]
  },
  {
   "cell_type": "code",
   "execution_count": 45,
   "metadata": {
    "hidden": true
   },
   "outputs": [
    {
     "data": {
      "text/plain": [
       "(598, 730)"
      ]
     },
     "execution_count": 45,
     "metadata": {},
     "output_type": "execute_result"
    }
   ],
   "source": [
    "CountMut(UnCog_DNVs)"
   ]
  },
  {
   "cell_type": "code",
   "execution_count": 46,
   "metadata": {
    "hidden": true
   },
   "outputs": [],
   "source": [
    "# Calculate Mutation Count in Candidate Genes\n",
    "Spark_Meta = pd.read_excel(\"/Users/jiayao/Work/ASD_Circuits/dat/genes/asd/spark_Meta_top_genes.xlsx\")\n",
    "Spark_Meta_Cog = Spark_Meta.copy(deep=True)\n",
    "Spark_Meta_UnCog = Spark_Meta.copy(deep=True)\n",
    "\n",
    "for i, row in Spark_Meta_Cog.iterrows():\n",
    "    HGNC = row[\"HGNC\"]\n",
    "    Muts = Cog_DNVs[Cog_DNVs[\"HGNC\"]==HGNC]\n",
    "    N_LGD, N_Dmis = CountMut(Muts)\n",
    "    Spark_Meta_Cog.loc[i, \"AutismMerged_LoF\"] = N_LGD\n",
    "    Spark_Meta_Cog.loc[i, \"AutismMerged_Dmis_REVEL0.5\"] = N_Dmis\n",
    "    \n",
    "for i, row in Spark_Meta_UnCog.iterrows():\n",
    "    HGNC = row[\"HGNC\"]\n",
    "    Muts = UnCog_DNVs[UnCog_DNVs[\"HGNC\"]==HGNC]\n",
    "    N_LGD, N_Dmis = CountMut(Muts)\n",
    "    Spark_Meta_UnCog.loc[i, \"AutismMerged_LoF\"] = N_LGD\n",
    "    Spark_Meta_UnCog.loc[i, \"AutismMerged_Dmis_REVEL0.5\"] = N_Dmis    "
   ]
  },
  {
   "cell_type": "code",
   "execution_count": 47,
   "metadata": {
    "hidden": true
   },
   "outputs": [],
   "source": [
    "_, Cog_gene2MutN = Aggregate_Gene_Weights2(Spark_Meta_Cog, out = \"dat/bias2/Cog.gene.weights.csv\")\n",
    "Cog_Match = MakeMatchDF(Cog_gene2MutN, N=1000)\n",
    "_, Uncog_gene2MutN = Aggregate_Gene_Weights2(Spark_Meta_UnCog, out = \"dat/bias2/Uncog.gene.weights.csv\")\n",
    "Uncog_Match = MakeMatchDF(Uncog_gene2MutN, N=1000)"
   ]
  },
  {
   "cell_type": "code",
   "execution_count": 48,
   "metadata": {
    "hidden": true
   },
   "outputs": [
    {
     "name": "stdout",
     "output_type": "stream",
     "text": [
      "Midbrain \t 1 \t Anterior_pretectal_nucleus\n",
      "Hippocampal_region \t 4 \t Dentate_gyrus; Field_CA1; Field_CA3; Field_CA2\n",
      "Hippocampal_formation \t 4 \t Subiculum_ventral_part; Parasubiculum; Presubiculum; Subiculum_dorsal_part\n",
      "Olfactory_areas \t 4 \t Dorsal_peduncular_area; Anterior_olfactory_nucleus; Taenia_tecta; Accessory_olfactory_bulb\n",
      "Thalamus \t 5 \t Nucleus_of_reuniens; Central_lateral_nucleus_of_the_thalamus; Lateral_posterior_nucleus_of_the_thalamus; Parafascicular_nucleus; Submedial_nucleus_of_the_thalamus\n",
      "Striatum \t 3 \t Nucleus_accumbens; Intercalated_amygdalar_nucleus; Caudoputamen\n",
      "Isocortex \t 23 \t Prelimbic_area; Infralimbic_area; Orbital_area_lateral_part; Orbital_area_ventrolateral_part; Anterior_cingulate_area_dorsal_part; Secondary_motor_area; Primary_visual_area; Anteromedial_visual_area; Visceral_area; Retrosplenial_area_lateral_agranular_part; Primary_somatosensory_area_lower_limb; Orbital_area_medial_part; Primary_motor_area; Agranular_insular_area_posterior_part; Lateral_visual_area; Gustatory_areas; Anterior_cingulate_area_ventral_part; Supplemental_somatosensory_area; Posterolateral_visual_area; Agranular_insular_area_ventral_part; Posterior_parietal_association_areas; Anterolateral_visual_area; Primary_somatosensory_area_trunk\n",
      "Cortical_subplate \t 6 \t Lateral_amygdalar_nucleus; Basomedial_amygdalar_nucleus; Claustrum; Endopiriform_nucleus_dorsal_part; Endopiriform_nucleus_ventral_part; Basolateral_amygdalar_nucleus\n"
     ]
    }
   ],
   "source": [
    "Cog_Meta_Spec = AvgSTRZ_Weighted(ExpZscoreMat, Cog_gene2MutN, Match_DF=Cog_Match, Method = 2,\n",
    "                                              csv_fil = \"dat/bias2/Cog.Spec.bias.csv\")\n",
    "RD_Agg_avgZ_RD = RegionDistributions(Cog_Meta_Spec.set_index(\"STR\"), show=True)"
   ]
  },
  {
   "cell_type": "code",
   "execution_count": 49,
   "metadata": {
    "hidden": true
   },
   "outputs": [
    {
     "name": "stdout",
     "output_type": "stream",
     "text": [
      "Midbrain \t 1 \t Anterior_pretectal_nucleus\n",
      "Hippocampal_region \t 4 \t Field_CA1; Dentate_gyrus; Field_CA2; Field_CA3\n",
      "Hippocampal_formation \t 4 \t Subiculum_dorsal_part; Subiculum_ventral_part; Parasubiculum; Presubiculum\n",
      "Olfactory_areas \t 4 \t Dorsal_peduncular_area; Anterior_olfactory_nucleus; Accessory_olfactory_bulb; Piriform_area\n",
      "Thalamus \t 5 \t Lateral_posterior_nucleus_of_the_thalamus; Parafascicular_nucleus; Lateral_dorsal_nucleus_of_thalamus; Posterior_complex_of_the_thalamus; Dorsal_part_of_the_lateral_geniculate_complex\n",
      "Striatum \t 4 \t Nucleus_accumbens; Intercalated_amygdalar_nucleus; Caudoputamen; Central_amygdalar_nucleus\n",
      "Isocortex \t 23 \t Orbital_area_lateral_part; Agranular_insular_area_ventral_part; Primary_motor_area; Orbital_area_ventrolateral_part; Prelimbic_area; Gustatory_areas; Agranular_insular_area_dorsal_part; Primary_visual_area; Primary_somatosensory_area_upper_limb; Infralimbic_area; Primary_somatosensory_area_lower_limb; Primary_somatosensory_area_trunk; Secondary_motor_area; Frontal_pole_cerebral_cortex; Posterior_parietal_association_areas; Anterior_cingulate_area_dorsal_part; posteromedial_visual_area; Primary_somatosensory_area_mouth; Posterolateral_visual_area; Retrosplenial_area_lateral_agranular_part; Anteromedial_visual_area; Orbital_area_medial_part; Anterior_cingulate_area_ventral_part\n",
      "Cortical_subplate \t 5 \t Basomedial_amygdalar_nucleus; Posterior_amygdalar_nucleus; Lateral_amygdalar_nucleus; Endopiriform_nucleus_ventral_part; Claustrum\n"
     ]
    }
   ],
   "source": [
    "Uncog_Meta_Spec = AvgSTRZ_Weighted(ExpZscoreMat, Uncog_gene2MutN, Match_DF=Uncog_Match, Method = 2,\n",
    "                                              csv_fil = \"dat/bias2/Uncog.Spec.bias.csv\")\n",
    "RD_Agg_avgZ_RD = RegionDistributions(Uncog_Meta_Spec.set_index(\"STR\"), show=True)"
   ]
  },
  {
   "cell_type": "code",
   "execution_count": 50,
   "metadata": {
    "hidden": true
   },
   "outputs": [],
   "source": [
    "Cog_Meta_Spec = Cog_Meta_Spec.set_index(\"STR\")\n",
    "Uncog_Meta_Spec = Uncog_Meta_Spec.set_index(\"STR\")"
   ]
  },
  {
   "cell_type": "code",
   "execution_count": 51,
   "metadata": {
    "hidden": true
   },
   "outputs": [],
   "source": [
    "g = LoadConnectome2() # Load Connectiome\n",
    "EdgeWeightsDict = EdgeDict(g, keyon=\"label\")"
   ]
  },
  {
   "cell_type": "code",
   "execution_count": 52,
   "metadata": {
    "hidden": true
   },
   "outputs": [
    {
     "name": "stderr",
     "output_type": "stream",
     "text": [
      "\n",
      " Temperature        Energy    Accept   Improve      Steps        Elapsed   Remaining\n",
      "     0.00001          0.61     0.00%     0.00%      20000.00     0:01:22     0:00:00"
     ]
    },
    {
     "name": "stdout",
     "output_type": "stream",
     "text": [
      "Done\n"
     ]
    }
   ],
   "source": [
    "state = run_CircuitOpt(g, EdgeWeightsDict, Cog_Meta_Spec, False, False)"
   ]
  },
  {
   "cell_type": "code",
   "execution_count": 53,
   "metadata": {
    "hidden": true
   },
   "outputs": [
    {
     "name": "stdout",
     "output_type": "stream",
     "text": [
      "Hippocampal_region \t 4 \t Dentate_gyrus; Field_CA1; Field_CA3; Field_CA2\n",
      "Hippocampal_formation \t 4 \t Subiculum_ventral_part; Parasubiculum; Presubiculum; Subiculum_dorsal_part\n",
      "Olfactory_areas \t 4 \t Dorsal_peduncular_area; Anterior_olfactory_nucleus; Taenia_tecta; Accessory_olfactory_bulb\n",
      "Thalamus \t 4 \t Nucleus_of_reuniens; Central_lateral_nucleus_of_the_thalamus; Lateral_posterior_nucleus_of_the_thalamus; Submedial_nucleus_of_the_thalamus\n",
      "Striatum \t 1 \t Nucleus_accumbens\n",
      "Isocortex \t 18 \t Prelimbic_area; Infralimbic_area; Orbital_area_lateral_part; Orbital_area_ventrolateral_part; Anterior_cingulate_area_dorsal_part; Secondary_motor_area; Primary_visual_area; Anteromedial_visual_area; Retrosplenial_area_lateral_agranular_part; Primary_somatosensory_area_lower_limb; Orbital_area_medial_part; Lateral_visual_area; Anterior_cingulate_area_ventral_part; Posterolateral_visual_area; Agranular_insular_area_ventral_part; Posterior_parietal_association_areas; Anterolateral_visual_area; Primary_somatosensory_area_trunk\n",
      "Cortical_subplate \t 3 \t Claustrum; Endopiriform_nucleus_dorsal_part; Basolateral_amygdalar_nucleus\n"
     ]
    }
   ],
   "source": [
    "xx = RegionDistributions(Cog_Meta_Spec, show=True, states=state)"
   ]
  },
  {
   "cell_type": "code",
   "execution_count": 54,
   "metadata": {
    "hidden": true
   },
   "outputs": [
    {
     "name": "stderr",
     "output_type": "stream",
     "text": [
      "\n",
      " Temperature        Energy    Accept   Improve      Steps        Elapsed   Remaining\n",
      "     0.00001          0.64     0.00%     0.00%      20000.00     0:01:24     0:00:00"
     ]
    },
    {
     "name": "stdout",
     "output_type": "stream",
     "text": [
      "Done\n"
     ]
    }
   ],
   "source": [
    "state2 = run_CircuitOpt(g, EdgeWeightsDict, Uncog_Meta_Spec, False, False)"
   ]
  },
  {
   "cell_type": "code",
   "execution_count": 55,
   "metadata": {
    "hidden": true
   },
   "outputs": [
    {
     "name": "stdout",
     "output_type": "stream",
     "text": [
      "Midbrain \t 1 \t Anterior_pretectal_nucleus\n",
      "Hippocampal_region \t 4 \t Field_CA1; Dentate_gyrus; Field_CA2; Field_CA3\n",
      "Hippocampal_formation \t 4 \t Subiculum_dorsal_part; Subiculum_ventral_part; Parasubiculum; Presubiculum\n",
      "Olfactory_areas \t 4 \t Dorsal_peduncular_area; Anterior_olfactory_nucleus; Accessory_olfactory_bulb; Piriform_area\n",
      "Thalamus \t 5 \t Lateral_posterior_nucleus_of_the_thalamus; Parafascicular_nucleus; Lateral_dorsal_nucleus_of_thalamus; Posterior_complex_of_the_thalamus; Dorsal_part_of_the_lateral_geniculate_complex\n",
      "Striatum \t 1 \t Caudoputamen\n",
      "Isocortex \t 23 \t Orbital_area_lateral_part; Agranular_insular_area_ventral_part; Primary_motor_area; Orbital_area_ventrolateral_part; Prelimbic_area; Gustatory_areas; Agranular_insular_area_dorsal_part; Primary_visual_area; Primary_somatosensory_area_upper_limb; Infralimbic_area; Primary_somatosensory_area_lower_limb; Primary_somatosensory_area_trunk; Secondary_motor_area; Frontal_pole_cerebral_cortex; Posterior_parietal_association_areas; Anterior_cingulate_area_dorsal_part; posteromedial_visual_area; Primary_somatosensory_area_mouth; Posterolateral_visual_area; Retrosplenial_area_lateral_agranular_part; Anteromedial_visual_area; Orbital_area_medial_part; Anterior_cingulate_area_ventral_part\n",
      "Cortical_subplate \t 1 \t Claustrum\n"
     ]
    }
   ],
   "source": [
    "xx2 = RegionDistributions(Uncog_Meta_Spec, show=True, states=state2)"
   ]
  },
  {
   "cell_type": "markdown",
   "metadata": {
    "heading_collapsed": true,
    "hidden": true
   },
   "source": [
    "#### Jon's Version"
   ]
  },
  {
   "cell_type": "code",
   "execution_count": 66,
   "metadata": {
    "hidden": true
   },
   "outputs": [],
   "source": [
    "spark_mut_count = pd.read_csv(\"../dat/genes/SPARK/spark-cognitive_impairment.csv\")\n",
    "HighFunc_Dict = dict(zip(spark_mut_count[\"gen\"].values, spark_mut_count[\"phen1.weight\"].values)) \n",
    "LowFunc_Dict = dict(zip(spark_mut_count[\"gen\"].values, spark_mut_count[\"phen2.weight\"].values)) \n",
    "HF_Match = MakeMatchDF(HighFunc_Dict, N=1000)\n",
    "LF_Match = MakeMatchDF(LowFunc_Dict, N=1000)"
   ]
  },
  {
   "cell_type": "code",
   "execution_count": 67,
   "metadata": {
    "hidden": true
   },
   "outputs": [
    {
     "name": "stdout",
     "output_type": "stream",
     "text": [
      "Midbrain \t 2 \t Anterior_pretectal_nucleus; Nucleus_of_the_optic_tract\n",
      "Hippocampal_region \t 4 \t Dentate_gyrus; Field_CA1; Field_CA2; Field_CA3\n",
      "Hippocampal_formation \t 4 \t Subiculum_dorsal_part; Subiculum_ventral_part; Parasubiculum; Presubiculum\n",
      "Olfactory_areas \t 3 \t Anterior_olfactory_nucleus; Accessory_olfactory_bulb; Dorsal_peduncular_area\n",
      "Thalamus \t 6 \t Lateral_posterior_nucleus_of_the_thalamus; Parafascicular_nucleus; Mediodorsal_nucleus_of_thalamus; Parataenial_nucleus; Subparafascicular_nucleus_magnocellular_part; Submedial_nucleus_of_the_thalamus\n",
      "Striatum \t 6 \t Intercalated_amygdalar_nucleus; Central_amygdalar_nucleus; Nucleus_accumbens; Lateral_septal_nucleus_ventral_part; Lateral_septal_nucleus_rostral_rostroventral_part; Caudoputamen\n",
      "Isocortex \t 20 \t Orbital_area_lateral_part; Agranular_insular_area_ventral_part; Orbital_area_ventrolateral_part; Primary_visual_area; Prelimbic_area; Primary_motor_area; Frontal_pole_cerebral_cortex; Infralimbic_area; Gustatory_areas; Primary_somatosensory_area_lower_limb; Primary_somatosensory_area_trunk; Agranular_insular_area_dorsal_part; Posterior_parietal_association_areas; Primary_somatosensory_area_upper_limb; Retrosplenial_area_lateral_agranular_part; Posterolateral_visual_area; Secondary_motor_area; Anterior_cingulate_area_dorsal_part; posteromedial_visual_area; Anteromedial_visual_area\n",
      "Cortical_subplate \t 5 \t Basomedial_amygdalar_nucleus; Lateral_amygdalar_nucleus; Endopiriform_nucleus_dorsal_part; Endopiriform_nucleus_ventral_part; Claustrum\n"
     ]
    }
   ],
   "source": [
    "HF_Meta_Spec = AvgSTRZ_Weighted(ExpZscoreMat, HighFunc_Dict, Match_DF=HF_Match, Method = 2,\n",
    "                                              csv_fil = \"dat/bias2/HF.Spec.bias.csv\")\n",
    "RD_Agg_avgZ_RD = RegionDistributions(HF_Meta_Spec.set_index(\"STR\"), show=True)"
   ]
  },
  {
   "cell_type": "code",
   "execution_count": 68,
   "metadata": {
    "hidden": true
   },
   "outputs": [
    {
     "name": "stdout",
     "output_type": "stream",
     "text": [
      "Midbrain \t 1 \t Anterior_pretectal_nucleus\n",
      "Hippocampal_region \t 4 \t Dentate_gyrus; Field_CA1; Field_CA2; Field_CA3\n",
      "Hippocampal_formation \t 2 \t Subiculum_ventral_part; Subiculum_dorsal_part\n",
      "Olfactory_areas \t 4 \t Dorsal_peduncular_area; Anterior_olfactory_nucleus; Accessory_olfactory_bulb; Taenia_tecta\n",
      "Thalamus \t 7 \t Lateral_posterior_nucleus_of_the_thalamus; Nucleus_of_reuniens; Parafascicular_nucleus; Submedial_nucleus_of_the_thalamus; Rhomboid_nucleus; Mediodorsal_nucleus_of_thalamus; Central_lateral_nucleus_of_the_thalamus\n",
      "Striatum \t 3 \t Nucleus_accumbens; Caudoputamen; Intercalated_amygdalar_nucleus\n",
      "Isocortex \t 23 \t Prelimbic_area; Infralimbic_area; Orbital_area_lateral_part; Orbital_area_ventrolateral_part; Anteromedial_visual_area; Primary_somatosensory_area_lower_limb; Primary_visual_area; Anterior_cingulate_area_dorsal_part; Orbital_area_medial_part; Secondary_motor_area; Retrosplenial_area_lateral_agranular_part; Visceral_area; Primary_motor_area; Agranular_insular_area_posterior_part; Lateral_visual_area; Agranular_insular_area_ventral_part; Gustatory_areas; Anterior_cingulate_area_ventral_part; Posterior_parietal_association_areas; posteromedial_visual_area; Primary_somatosensory_area_trunk; Frontal_pole_cerebral_cortex; Posterolateral_visual_area\n",
      "Cortical_subplate \t 6 \t Lateral_amygdalar_nucleus; Claustrum; Endopiriform_nucleus_dorsal_part; Basomedial_amygdalar_nucleus; Endopiriform_nucleus_ventral_part; Basolateral_amygdalar_nucleus\n"
     ]
    }
   ],
   "source": [
    "LF_Meta_Spec = AvgSTRZ_Weighted(ExpZscoreMat, LowFunc_Dict, Match_DF=LF_Match, Method = 2,\n",
    "                                              csv_fil = \"dat/bias2/LF.Spec.bias.csv\")\n",
    "RD_Agg_avgZ_RD = RegionDistributions(LF_Meta_Spec.set_index(\"STR\"), show=True)"
   ]
  },
  {
   "cell_type": "code",
   "execution_count": 69,
   "metadata": {
    "hidden": true
   },
   "outputs": [
    {
     "name": "stderr",
     "output_type": "stream",
     "text": [
      "\n",
      " Temperature        Energy    Accept   Improve      Steps        Elapsed   Remaining\n",
      "     0.00001          0.65     0.00%     0.00%      20000.00     0:01:21     0:00:00\n",
      " Temperature        Energy    Accept   Improve      Steps        Elapsed   Remaining\n",
      "     0.79433          0.78    98.50%    53.50%        400.00     0:00:01     0:01:10"
     ]
    },
    {
     "name": "stdout",
     "output_type": "stream",
     "text": [
      "Done\n"
     ]
    },
    {
     "name": "stderr",
     "output_type": "stream",
     "text": [
      "     0.00001          0.58     0.00%     0.00%      20000.00     0:01:24     0:00:00"
     ]
    },
    {
     "name": "stdout",
     "output_type": "stream",
     "text": [
      "Done\n"
     ]
    }
   ],
   "source": [
    "HF_Meta_Spec = HF_Meta_Spec.set_index(\"STR\")\n",
    "LF_Meta_Spec = LF_Meta_Spec.set_index(\"STR\")\n",
    "HF_states = run_CircuitOpt(g, EdgeWeightsDict, HF_Meta_Spec, False, False)\n",
    "LF_states = run_CircuitOpt(g, EdgeWeightsDict, LF_Meta_Spec, False, False)"
   ]
  },
  {
   "cell_type": "code",
   "execution_count": 70,
   "metadata": {
    "hidden": true
   },
   "outputs": [
    {
     "name": "stdout",
     "output_type": "stream",
     "text": [
      "Hippocampal_region \t 4 \t Dentate_gyrus; Field_CA1; Field_CA2; Field_CA3\n",
      "Hippocampal_formation \t 4 \t Subiculum_dorsal_part; Subiculum_ventral_part; Parasubiculum; Presubiculum\n",
      "Olfactory_areas \t 3 \t Anterior_olfactory_nucleus; Accessory_olfactory_bulb; Dorsal_peduncular_area\n",
      "Thalamus \t 4 \t Lateral_posterior_nucleus_of_the_thalamus; Mediodorsal_nucleus_of_thalamus; Parataenial_nucleus; Submedial_nucleus_of_the_thalamus\n",
      "Striatum \t 1 \t Caudoputamen\n",
      "Isocortex \t 19 \t Orbital_area_lateral_part; Agranular_insular_area_ventral_part; Orbital_area_ventrolateral_part; Primary_visual_area; Prelimbic_area; Primary_motor_area; Frontal_pole_cerebral_cortex; Infralimbic_area; Gustatory_areas; Primary_somatosensory_area_lower_limb; Primary_somatosensory_area_trunk; Agranular_insular_area_dorsal_part; Posterior_parietal_association_areas; Retrosplenial_area_lateral_agranular_part; Posterolateral_visual_area; Secondary_motor_area; Anterior_cingulate_area_dorsal_part; posteromedial_visual_area; Anteromedial_visual_area\n",
      "Cortical_subplate \t 2 \t Endopiriform_nucleus_dorsal_part; Claustrum\n"
     ]
    }
   ],
   "source": [
    "xx1 = RegionDistributions(HF_Meta_Spec, show=True, states=HF_states)"
   ]
  },
  {
   "cell_type": "code",
   "execution_count": 71,
   "metadata": {
    "hidden": true
   },
   "outputs": [
    {
     "name": "stdout",
     "output_type": "stream",
     "text": [
      "Hippocampal_formation \t 1 \t Subiculum_dorsal_part\n",
      "Olfactory_areas \t 4 \t Dorsal_peduncular_area; Anterior_olfactory_nucleus; Accessory_olfactory_bulb; Taenia_tecta\n",
      "Thalamus \t 6 \t Lateral_posterior_nucleus_of_the_thalamus; Nucleus_of_reuniens; Submedial_nucleus_of_the_thalamus; Rhomboid_nucleus; Mediodorsal_nucleus_of_thalamus; Central_lateral_nucleus_of_the_thalamus\n",
      "Striatum \t 2 \t Nucleus_accumbens; Caudoputamen\n",
      "Isocortex \t 23 \t Prelimbic_area; Infralimbic_area; Orbital_area_lateral_part; Orbital_area_ventrolateral_part; Anteromedial_visual_area; Primary_somatosensory_area_lower_limb; Primary_visual_area; Anterior_cingulate_area_dorsal_part; Orbital_area_medial_part; Secondary_motor_area; Retrosplenial_area_lateral_agranular_part; Visceral_area; Primary_motor_area; Agranular_insular_area_posterior_part; Lateral_visual_area; Agranular_insular_area_ventral_part; Gustatory_areas; Anterior_cingulate_area_ventral_part; Posterior_parietal_association_areas; posteromedial_visual_area; Primary_somatosensory_area_trunk; Frontal_pole_cerebral_cortex; Posterolateral_visual_area\n",
      "Cortical_subplate \t 3 \t Claustrum; Endopiriform_nucleus_dorsal_part; Basolateral_amygdalar_nucleus\n"
     ]
    }
   ],
   "source": [
    "xx2 = RegionDistributions(LF_Meta_Spec, show=True, states=LF_states)"
   ]
  },
  {
   "cell_type": "code",
   "execution_count": 83,
   "metadata": {
    "hidden": true
   },
   "outputs": [
    {
     "name": "stderr",
     "output_type": "stream",
     "text": [
      "/Users/jiayao/anaconda3/lib/python3.7/site-packages/ipykernel_launcher.py:1: UserWarning: Boolean Series key will be reindexed to match DataFrame index.\n",
      "  \"\"\"Entry point for launching an IPython kernel.\n"
     ]
    }
   ],
   "source": [
    "_ = HF_Meta_Spec.head(50)[HF_Meta_Spec[\"REGION\"]==\"Isocortex\"].index.values.sort()"
   ]
  },
  {
   "cell_type": "code",
   "execution_count": 86,
   "metadata": {
    "hidden": true
   },
   "outputs": [
    {
     "name": "stderr",
     "output_type": "stream",
     "text": [
      "/Users/jiayao/anaconda3/lib/python3.7/site-packages/ipykernel_launcher.py:1: UserWarning: Boolean Series key will be reindexed to match DataFrame index.\n",
      "  \"\"\"Entry point for launching an IPython kernel.\n"
     ]
    },
    {
     "data": {
      "text/plain": [
       "['Agranular_insular_area_dorsal_part',\n",
       " 'Agranular_insular_area_ventral_part',\n",
       " 'Anterior_cingulate_area_dorsal_part',\n",
       " 'Anteromedial_visual_area',\n",
       " 'Frontal_pole_cerebral_cortex',\n",
       " 'Gustatory_areas',\n",
       " 'Infralimbic_area',\n",
       " 'Orbital_area_lateral_part',\n",
       " 'Orbital_area_ventrolateral_part',\n",
       " 'Posterior_parietal_association_areas',\n",
       " 'Posterolateral_visual_area',\n",
       " 'Prelimbic_area',\n",
       " 'Primary_motor_area',\n",
       " 'Primary_somatosensory_area_lower_limb',\n",
       " 'Primary_somatosensory_area_trunk',\n",
       " 'Primary_somatosensory_area_upper_limb',\n",
       " 'Primary_visual_area',\n",
       " 'Retrosplenial_area_lateral_agranular_part',\n",
       " 'Secondary_motor_area',\n",
       " 'posteromedial_visual_area']"
      ]
     },
     "execution_count": 86,
     "metadata": {},
     "output_type": "execute_result"
    }
   ],
   "source": [
    "sorted(HF_Meta_Spec.head(50)[HF_Meta_Spec[\"REGION\"]==\"Isocortex\"].index.values)"
   ]
  },
  {
   "cell_type": "code",
   "execution_count": null,
   "metadata": {
    "hidden": true
   },
   "outputs": [],
   "source": [
    "Anteromedial_visual_area"
   ]
  },
  {
   "cell_type": "code",
   "execution_count": null,
   "metadata": {
    "hidden": true
   },
   "outputs": [],
   "source": [
    "Posterolateral_visual_area\n",
    "Primary_somatosensory_area_upper_limb\n",
    "Primary_visual_area\n",
    "posteromedial_visual_area\n",
    "Retrosplenial_area_lateral_agranular_part"
   ]
  },
  {
   "cell_type": "markdown",
   "metadata": {},
   "source": [
    "## Top50 "
   ]
  },
  {
   "cell_type": "markdown",
   "metadata": {},
   "source": [
    "### Select Siblings"
   ]
  },
  {
   "cell_type": "code",
   "execution_count": 3,
   "metadata": {},
   "outputs": [],
   "source": [
    "ASD_Discov_Muts = pd.read_csv(\"../dat/genes/SPARK/ASD_Discov_DNVs.txt\", delimiter=\"\\t\")\n",
    "ASD_Rep_Muts = pd.read_csv(\"../dat/genes/SPARK/ASD_Rep_DNVs.txt\", delimiter=\"\\t\")\n",
    "ASD_Discov_Trios = pd.read_csv(\"../dat/genes/SPARK/ASD_Discov_Trios.txt\", delimiter=\"\\t\")\n",
    "ASD_Rep_Trios = pd.read_csv(\"../dat/genes/SPARK/ASD_Rep_Trios.txt\", delimiter=\"\\t\")"
   ]
  },
  {
   "cell_type": "code",
   "execution_count": 4,
   "metadata": {},
   "outputs": [
    {
     "data": {
      "text/html": [
       "<div>\n",
       "<style scoped>\n",
       "    .dataframe tbody tr th:only-of-type {\n",
       "        vertical-align: middle;\n",
       "    }\n",
       "\n",
       "    .dataframe tbody tr th {\n",
       "        vertical-align: top;\n",
       "    }\n",
       "\n",
       "    .dataframe thead th {\n",
       "        text-align: right;\n",
       "    }\n",
       "</style>\n",
       "<table border=\"1\" class=\"dataframe\">\n",
       "  <thead>\n",
       "    <tr style=\"text-align: right;\">\n",
       "      <th></th>\n",
       "      <th>Cohort</th>\n",
       "      <th>FamID</th>\n",
       "      <th>IID</th>\n",
       "      <th>Sex</th>\n",
       "      <th>Pheno</th>\n",
       "      <th>DNASource</th>\n",
       "      <th>VarID</th>\n",
       "      <th>Chrom</th>\n",
       "      <th>Position</th>\n",
       "      <th>Ref</th>\n",
       "      <th>...</th>\n",
       "      <th>pExt_HBDR</th>\n",
       "      <th>HGNCv24</th>\n",
       "      <th>DS_AG</th>\n",
       "      <th>DS_AL</th>\n",
       "      <th>DS_DG</th>\n",
       "      <th>DS_DL</th>\n",
       "      <th>DP_AG</th>\n",
       "      <th>DP_AL</th>\n",
       "      <th>DP_DG</th>\n",
       "      <th>DP_DL</th>\n",
       "    </tr>\n",
       "  </thead>\n",
       "  <tbody>\n",
       "    <tr>\n",
       "      <th>0</th>\n",
       "      <td>MSSNG</td>\n",
       "      <td>FAM_D4S2Z</td>\n",
       "      <td>D4S2Z-01</td>\n",
       "      <td>Male</td>\n",
       "      <td>Affected</td>\n",
       "      <td>.</td>\n",
       "      <td>10:102239623:C:T</td>\n",
       "      <td>10</td>\n",
       "      <td>102239623</td>\n",
       "      <td>C</td>\n",
       "      <td>...</td>\n",
       "      <td>1</td>\n",
       "      <td>WNT8B</td>\n",
       "      <td>0.0038</td>\n",
       "      <td>0</td>\n",
       "      <td>0</td>\n",
       "      <td>0</td>\n",
       "      <td>28</td>\n",
       "      <td>-21</td>\n",
       "      <td>28</td>\n",
       "      <td>-43</td>\n",
       "    </tr>\n",
       "    <tr>\n",
       "      <th>1</th>\n",
       "      <td>MSSNG</td>\n",
       "      <td>FAM_2-1540-003</td>\n",
       "      <td>2-1540-003</td>\n",
       "      <td>Male</td>\n",
       "      <td>Affected</td>\n",
       "      <td>Blood</td>\n",
       "      <td>10:102689078:G:C</td>\n",
       "      <td>10</td>\n",
       "      <td>102689078</td>\n",
       "      <td>G</td>\n",
       "      <td>...</td>\n",
       "      <td>0.73</td>\n",
       "      <td>SLF2</td>\n",
       "      <td>0</td>\n",
       "      <td>0</td>\n",
       "      <td>0.0001</td>\n",
       "      <td>0</td>\n",
       "      <td>-4</td>\n",
       "      <td>1</td>\n",
       "      <td>34</td>\n",
       "      <td>1</td>\n",
       "    </tr>\n",
       "  </tbody>\n",
       "</table>\n",
       "<p>2 rows × 44 columns</p>\n",
       "</div>"
      ],
      "text/plain": [
       "  Cohort           FamID         IID   Sex     Pheno DNASource  \\\n",
       "0  MSSNG       FAM_D4S2Z    D4S2Z-01  Male  Affected         .   \n",
       "1  MSSNG  FAM_2-1540-003  2-1540-003  Male  Affected     Blood   \n",
       "\n",
       "              VarID Chrom   Position Ref  ... pExt_HBDR HGNCv24   DS_AG DS_AL  \\\n",
       "0  10:102239623:C:T    10  102239623   C  ...         1   WNT8B  0.0038     0   \n",
       "1  10:102689078:G:C    10  102689078   G  ...      0.73    SLF2       0     0   \n",
       "\n",
       "    DS_DG DS_DL DP_AG DP_AL DP_DG DP_DL  \n",
       "0       0     0    28   -21    28   -43  \n",
       "1  0.0001     0    -4     1    34     1  \n",
       "\n",
       "[2 rows x 44 columns]"
      ]
     },
     "execution_count": 4,
     "metadata": {},
     "output_type": "execute_result"
    }
   ],
   "source": [
    "ASD_Discov_Muts.head(2)"
   ]
  },
  {
   "cell_type": "code",
   "execution_count": 5,
   "metadata": {},
   "outputs": [
    {
     "name": "stdout",
     "output_type": "stream",
     "text": [
      "5768 2499\n"
     ]
    }
   ],
   "source": [
    "ASD_Discov_Sib = ASD_Discov_Trios[ASD_Discov_Trios[\"Pheno\"]==\"Unaffected\"][\"IID\"].values\n",
    "ASD_Rep_Sib = ASD_Rep_Trios[ASD_Rep_Trios[\"Pheno\"]==\"Unaffected\"][\"IID\"].values\n",
    "print(len(ASD_Discov_Sib), len(ASD_Rep_Sib))"
   ]
  },
  {
   "cell_type": "code",
   "execution_count": 6,
   "metadata": {},
   "outputs": [
    {
     "name": "stdout",
     "output_type": "stream",
     "text": [
      "8267\n"
     ]
    }
   ],
   "source": [
    "Combined_siblings = np.concatenate((ASD_Discov_Sib, ASD_Rep_Sib), axis=None)\n",
    "N_siblings = Combined_siblings.shape[0]\n",
    "print(N_siblings)"
   ]
  },
  {
   "cell_type": "code",
   "execution_count": 7,
   "metadata": {},
   "outputs": [],
   "source": [
    "AllMuts = pd.concat([ASD_Discov_Muts, ASD_Rep_Muts])\n",
    "AllMuts = AllMuts.reset_index()\n",
    "AllSiblingMuts = AllMuts[AllMuts[\"IID\"].isin(Combined_siblings)]"
   ]
  },
  {
   "cell_type": "code",
   "execution_count": 8,
   "metadata": {},
   "outputs": [],
   "source": [
    "dat = []\n",
    "for i, row in AllSiblingMuts.iterrows():\n",
    "    GeneEff = row[\"GeneEff\"].split(\";\")[0]\n",
    "    if GeneEff in [\"frameshift\", \"splice_acceptor\", \"splice_donor\", \"start_lost\", \"stop_gained\", \"stop_lost\"]:\n",
    "        dat.append(row.values)\n",
    "    elif GeneEff == \"missense\":\n",
    "        dat.append(row.values)\n",
    "xx = pd.DataFrame(dat, columns = AllSiblingMuts.columns.values)"
   ]
  },
  {
   "cell_type": "code",
   "execution_count": 9,
   "metadata": {},
   "outputs": [
    {
     "data": {
      "text/html": [
       "<div>\n",
       "<style scoped>\n",
       "    .dataframe tbody tr th:only-of-type {\n",
       "        vertical-align: middle;\n",
       "    }\n",
       "\n",
       "    .dataframe tbody tr th {\n",
       "        vertical-align: top;\n",
       "    }\n",
       "\n",
       "    .dataframe thead th {\n",
       "        text-align: right;\n",
       "    }\n",
       "</style>\n",
       "<table border=\"1\" class=\"dataframe\">\n",
       "  <thead>\n",
       "    <tr style=\"text-align: right;\">\n",
       "      <th></th>\n",
       "      <th>index</th>\n",
       "      <th>Cohort</th>\n",
       "      <th>FamID</th>\n",
       "      <th>IID</th>\n",
       "      <th>Sex</th>\n",
       "      <th>Pheno</th>\n",
       "      <th>DNASource</th>\n",
       "      <th>VarID</th>\n",
       "      <th>Chrom</th>\n",
       "      <th>Position</th>\n",
       "      <th>...</th>\n",
       "      <th>pExt_HBDR</th>\n",
       "      <th>HGNCv24</th>\n",
       "      <th>DS_AG</th>\n",
       "      <th>DS_AL</th>\n",
       "      <th>DS_DG</th>\n",
       "      <th>DS_DL</th>\n",
       "      <th>DP_AG</th>\n",
       "      <th>DP_AL</th>\n",
       "      <th>DP_DG</th>\n",
       "      <th>DP_DL</th>\n",
       "    </tr>\n",
       "  </thead>\n",
       "  <tbody>\n",
       "    <tr>\n",
       "      <th>0</th>\n",
       "      <td>24</td>\n",
       "      <td>MSSNG</td>\n",
       "      <td>FAM_MSSNG00124-003</td>\n",
       "      <td>MSSNG00124-004</td>\n",
       "      <td>Female</td>\n",
       "      <td>Unaffected</td>\n",
       "      <td>Blood</td>\n",
       "      <td>10:1170220:C:A</td>\n",
       "      <td>10</td>\n",
       "      <td>1170220</td>\n",
       "      <td>...</td>\n",
       "      <td>0.975</td>\n",
       "      <td>WDR37</td>\n",
       "      <td>0</td>\n",
       "      <td>0</td>\n",
       "      <td>0.0191</td>\n",
       "      <td>0</td>\n",
       "      <td>-30</td>\n",
       "      <td>-15</td>\n",
       "      <td>1</td>\n",
       "      <td>-26</td>\n",
       "    </tr>\n",
       "    <tr>\n",
       "      <th>1</th>\n",
       "      <td>33</td>\n",
       "      <td>MSSNG</td>\n",
       "      <td>FAM_F0193</td>\n",
       "      <td>REACH000363</td>\n",
       "      <td>Female</td>\n",
       "      <td>Unaffected</td>\n",
       "      <td>.</td>\n",
       "      <td>10:116361637:C:A</td>\n",
       "      <td>10</td>\n",
       "      <td>116361637</td>\n",
       "      <td>...</td>\n",
       "      <td>0.013</td>\n",
       "      <td>ABLIM1</td>\n",
       "      <td>0</td>\n",
       "      <td>0</td>\n",
       "      <td>0.0001</td>\n",
       "      <td>0</td>\n",
       "      <td>-15</td>\n",
       "      <td>50</td>\n",
       "      <td>6</td>\n",
       "      <td>1</td>\n",
       "    </tr>\n",
       "    <tr>\n",
       "      <th>2</th>\n",
       "      <td>44</td>\n",
       "      <td>MSSNG</td>\n",
       "      <td>FAM_MSSNG00102-003</td>\n",
       "      <td>MSSNG00102-005</td>\n",
       "      <td>Female</td>\n",
       "      <td>Unaffected</td>\n",
       "      <td>Blood</td>\n",
       "      <td>10:122280506:G:A</td>\n",
       "      <td>10</td>\n",
       "      <td>122280506</td>\n",
       "      <td>...</td>\n",
       "      <td>0.836</td>\n",
       "      <td>PLPP4</td>\n",
       "      <td>0.0948</td>\n",
       "      <td>0.1462</td>\n",
       "      <td>0</td>\n",
       "      <td>0</td>\n",
       "      <td>12</td>\n",
       "      <td>-23</td>\n",
       "      <td>-23</td>\n",
       "      <td>44</td>\n",
       "    </tr>\n",
       "    <tr>\n",
       "      <th>3</th>\n",
       "      <td>49</td>\n",
       "      <td>MSSNG</td>\n",
       "      <td>FAM_F0284</td>\n",
       "      <td>REACH000750</td>\n",
       "      <td>Male</td>\n",
       "      <td>Unaffected</td>\n",
       "      <td>.</td>\n",
       "      <td>10:126681378:C:T</td>\n",
       "      <td>10</td>\n",
       "      <td>126681378</td>\n",
       "      <td>...</td>\n",
       "      <td>1</td>\n",
       "      <td>CTBP2</td>\n",
       "      <td>0.0051</td>\n",
       "      <td>0.0016</td>\n",
       "      <td>0</td>\n",
       "      <td>0</td>\n",
       "      <td>-9</td>\n",
       "      <td>3</td>\n",
       "      <td>3</td>\n",
       "      <td>-25</td>\n",
       "    </tr>\n",
       "    <tr>\n",
       "      <th>4</th>\n",
       "      <td>65</td>\n",
       "      <td>MSSNG</td>\n",
       "      <td>FAM_1-0389-005</td>\n",
       "      <td>1-0389-005</td>\n",
       "      <td>Female</td>\n",
       "      <td>Unaffected</td>\n",
       "      <td>Blood</td>\n",
       "      <td>10:13656081:G:A</td>\n",
       "      <td>10</td>\n",
       "      <td>13656081</td>\n",
       "      <td>...</td>\n",
       "      <td>1</td>\n",
       "      <td>PRPF18</td>\n",
       "      <td>0</td>\n",
       "      <td>0</td>\n",
       "      <td>0</td>\n",
       "      <td>0.0006</td>\n",
       "      <td>-7</td>\n",
       "      <td>-9</td>\n",
       "      <td>1</td>\n",
       "      <td>5</td>\n",
       "    </tr>\n",
       "    <tr>\n",
       "      <th>...</th>\n",
       "      <td>...</td>\n",
       "      <td>...</td>\n",
       "      <td>...</td>\n",
       "      <td>...</td>\n",
       "      <td>...</td>\n",
       "      <td>...</td>\n",
       "      <td>...</td>\n",
       "      <td>...</td>\n",
       "      <td>...</td>\n",
       "      <td>...</td>\n",
       "      <td>...</td>\n",
       "      <td>...</td>\n",
       "      <td>...</td>\n",
       "      <td>...</td>\n",
       "      <td>...</td>\n",
       "      <td>...</td>\n",
       "      <td>...</td>\n",
       "      <td>...</td>\n",
       "      <td>...</td>\n",
       "      <td>...</td>\n",
       "      <td>...</td>\n",
       "    </tr>\n",
       "    <tr>\n",
       "      <th>5295</th>\n",
       "      <td>751</td>\n",
       "      <td>NaN</td>\n",
       "      <td>SF0180601</td>\n",
       "      <td>SP0180602</td>\n",
       "      <td>Female</td>\n",
       "      <td>Unaffected</td>\n",
       "      <td>NaN</td>\n",
       "      <td>12:7060845:C:A</td>\n",
       "      <td>12</td>\n",
       "      <td>7060845</td>\n",
       "      <td>...</td>\n",
       "      <td>0.556</td>\n",
       "      <td>PTPN6</td>\n",
       "      <td>0.0001</td>\n",
       "      <td>0.0000</td>\n",
       "      <td>0.0000</td>\n",
       "      <td>0.0000</td>\n",
       "      <td>14</td>\n",
       "      <td>-4</td>\n",
       "      <td>49</td>\n",
       "      <td>-9</td>\n",
       "    </tr>\n",
       "    <tr>\n",
       "      <th>5296</th>\n",
       "      <td>752</td>\n",
       "      <td>NaN</td>\n",
       "      <td>SF0146252</td>\n",
       "      <td>SP0146253</td>\n",
       "      <td>Female</td>\n",
       "      <td>Unaffected</td>\n",
       "      <td>NaN</td>\n",
       "      <td>12:19422720:T:C</td>\n",
       "      <td>12</td>\n",
       "      <td>19422720</td>\n",
       "      <td>...</td>\n",
       "      <td>0.019</td>\n",
       "      <td>PLEKHA5</td>\n",
       "      <td>0.0000</td>\n",
       "      <td>0.0000</td>\n",
       "      <td>0.0000</td>\n",
       "      <td>0.0000</td>\n",
       "      <td>-16</td>\n",
       "      <td>30</td>\n",
       "      <td>-37</td>\n",
       "      <td>30</td>\n",
       "    </tr>\n",
       "    <tr>\n",
       "      <th>5297</th>\n",
       "      <td>754</td>\n",
       "      <td>NaN</td>\n",
       "      <td>SF0221737</td>\n",
       "      <td>SP0221738</td>\n",
       "      <td>Male</td>\n",
       "      <td>Unaffected</td>\n",
       "      <td>NaN</td>\n",
       "      <td>12:54676885:TG:T</td>\n",
       "      <td>12</td>\n",
       "      <td>54676885</td>\n",
       "      <td>...</td>\n",
       "      <td>0.657</td>\n",
       "      <td>.</td>\n",
       "      <td>.</td>\n",
       "      <td>.</td>\n",
       "      <td>.</td>\n",
       "      <td>.</td>\n",
       "      <td>.</td>\n",
       "      <td>.</td>\n",
       "      <td>.</td>\n",
       "      <td>.</td>\n",
       "    </tr>\n",
       "    <tr>\n",
       "      <th>5298</th>\n",
       "      <td>756</td>\n",
       "      <td>NaN</td>\n",
       "      <td>SF0177516</td>\n",
       "      <td>SP0177517</td>\n",
       "      <td>Female</td>\n",
       "      <td>Unaffected</td>\n",
       "      <td>NaN</td>\n",
       "      <td>13:110829039:G:A</td>\n",
       "      <td>13</td>\n",
       "      <td>110829039</td>\n",
       "      <td>...</td>\n",
       "      <td>0.992</td>\n",
       "      <td>COL4A1</td>\n",
       "      <td>0.0000</td>\n",
       "      <td>0.0023</td>\n",
       "      <td>0.0000</td>\n",
       "      <td>0.0000</td>\n",
       "      <td>6</td>\n",
       "      <td>32</td>\n",
       "      <td>32</td>\n",
       "      <td>15</td>\n",
       "    </tr>\n",
       "    <tr>\n",
       "      <th>5299</th>\n",
       "      <td>758</td>\n",
       "      <td>NaN</td>\n",
       "      <td>SF0239104</td>\n",
       "      <td>SP0239105</td>\n",
       "      <td>Male</td>\n",
       "      <td>Unaffected</td>\n",
       "      <td>NaN</td>\n",
       "      <td>15:43317055:T:C</td>\n",
       "      <td>15</td>\n",
       "      <td>43317055</td>\n",
       "      <td>...</td>\n",
       "      <td>0.967</td>\n",
       "      <td>UBR1</td>\n",
       "      <td>0.0000</td>\n",
       "      <td>0.0000</td>\n",
       "      <td>0.0003</td>\n",
       "      <td>0.0456</td>\n",
       "      <td>-1</td>\n",
       "      <td>35</td>\n",
       "      <td>48</td>\n",
       "      <td>-28</td>\n",
       "    </tr>\n",
       "  </tbody>\n",
       "</table>\n",
       "<p>5300 rows × 45 columns</p>\n",
       "</div>"
      ],
      "text/plain": [
       "      index Cohort               FamID             IID     Sex       Pheno  \\\n",
       "0        24  MSSNG  FAM_MSSNG00124-003  MSSNG00124-004  Female  Unaffected   \n",
       "1        33  MSSNG           FAM_F0193     REACH000363  Female  Unaffected   \n",
       "2        44  MSSNG  FAM_MSSNG00102-003  MSSNG00102-005  Female  Unaffected   \n",
       "3        49  MSSNG           FAM_F0284     REACH000750    Male  Unaffected   \n",
       "4        65  MSSNG      FAM_1-0389-005      1-0389-005  Female  Unaffected   \n",
       "...     ...    ...                 ...             ...     ...         ...   \n",
       "5295    751    NaN           SF0180601       SP0180602  Female  Unaffected   \n",
       "5296    752    NaN           SF0146252       SP0146253  Female  Unaffected   \n",
       "5297    754    NaN           SF0221737       SP0221738    Male  Unaffected   \n",
       "5298    756    NaN           SF0177516       SP0177517  Female  Unaffected   \n",
       "5299    758    NaN           SF0239104       SP0239105    Male  Unaffected   \n",
       "\n",
       "     DNASource             VarID Chrom   Position  ... pExt_HBDR  HGNCv24  \\\n",
       "0        Blood    10:1170220:C:A    10    1170220  ...     0.975    WDR37   \n",
       "1            .  10:116361637:C:A    10  116361637  ...     0.013   ABLIM1   \n",
       "2        Blood  10:122280506:G:A    10  122280506  ...     0.836    PLPP4   \n",
       "3            .  10:126681378:C:T    10  126681378  ...         1    CTBP2   \n",
       "4        Blood   10:13656081:G:A    10   13656081  ...         1   PRPF18   \n",
       "...        ...               ...   ...        ...  ...       ...      ...   \n",
       "5295       NaN    12:7060845:C:A    12    7060845  ...     0.556    PTPN6   \n",
       "5296       NaN   12:19422720:T:C    12   19422720  ...     0.019  PLEKHA5   \n",
       "5297       NaN  12:54676885:TG:T    12   54676885  ...     0.657        .   \n",
       "5298       NaN  13:110829039:G:A    13  110829039  ...     0.992   COL4A1   \n",
       "5299       NaN   15:43317055:T:C    15   43317055  ...     0.967     UBR1   \n",
       "\n",
       "       DS_AG   DS_AL   DS_DG   DS_DL DP_AG DP_AL DP_DG DP_DL  \n",
       "0          0       0  0.0191       0   -30   -15     1   -26  \n",
       "1          0       0  0.0001       0   -15    50     6     1  \n",
       "2     0.0948  0.1462       0       0    12   -23   -23    44  \n",
       "3     0.0051  0.0016       0       0    -9     3     3   -25  \n",
       "4          0       0       0  0.0006    -7    -9     1     5  \n",
       "...      ...     ...     ...     ...   ...   ...   ...   ...  \n",
       "5295  0.0001  0.0000  0.0000  0.0000    14    -4    49    -9  \n",
       "5296  0.0000  0.0000  0.0000  0.0000   -16    30   -37    30  \n",
       "5297       .       .       .       .     .     .     .     .  \n",
       "5298  0.0000  0.0023  0.0000  0.0000     6    32    32    15  \n",
       "5299  0.0000  0.0000  0.0003  0.0456    -1    35    48   -28  \n",
       "\n",
       "[5300 rows x 45 columns]"
      ]
     },
     "execution_count": 9,
     "metadata": {},
     "output_type": "execute_result"
    }
   ],
   "source": [
    "xx "
   ]
  },
  {
   "cell_type": "code",
   "execution_count": 10,
   "metadata": {},
   "outputs": [],
   "source": [
    "Sibling_genes = np.array(list(set(AllSiblingMuts[\"HGNC\"].values)))\n",
    "dat = []\n",
    "for g in Sibling_genes:\n",
    "    HGNC = g\n",
    "    try:\n",
    "        Entrez = int(GeneSymbol2Entrez[HGNC])\n",
    "    except:\n",
    "        Entrez = -1\n",
    "    Muts = AllSiblingMuts[AllSiblingMuts[\"HGNC\"]==HGNC]\n",
    "    N_LGD, N_Mis, N_Dmis, N_Syn = CountMut(Muts)\n",
    "    dat.append([HGNC, Entrez, N_LGD, N_Mis, N_Dmis, N_Syn])\n",
    "SiblingDF = pd.DataFrame(dat, columns=[\"HGNC\", \"Entrez\", \"N_LGD\", \"N_Mis\", \"N_Dmis\", \"N_Syn\"])"
   ]
  },
  {
   "cell_type": "code",
   "execution_count": 11,
   "metadata": {},
   "outputs": [],
   "source": [
    "SiblingDF = SiblingDF[(SiblingDF[\"N_LGD\"]>0) | (SiblingDF[\"N_Mis\"]>0)]"
   ]
  },
  {
   "cell_type": "code",
   "execution_count": 12,
   "metadata": {},
   "outputs": [],
   "source": [
    "SiblingDF.to_csv(\"dat/ASD_Siblings.csv\", index=False)"
   ]
  },
  {
   "cell_type": "code",
   "execution_count": 50,
   "metadata": {},
   "outputs": [],
   "source": [
    "_, Sibling_weights = Sibling_Gene_Weights(SiblingDF)"
   ]
  },
  {
   "cell_type": "code",
   "execution_count": 53,
   "metadata": {},
   "outputs": [],
   "source": [
    "Agg_Match = MakeMatchDF(Sibling_weights, N=1000)\n",
    "Agg_Match.to_csv(\"dat/ASD_Siblings.Matches.csv\")"
   ]
  },
  {
   "cell_type": "code",
   "execution_count": 54,
   "metadata": {},
   "outputs": [
    {
     "name": "stdout",
     "output_type": "stream",
     "text": [
      "Olfactory_areas \t 2 \t Accessory_olfactory_bulb; Main_olfactory_bulb\n",
      "Pallidum \t 3 \t Triangular_nucleus_of_septum; Medial_septal_nucleus; Bed_nuclei_of_the_stria_terminalis\n",
      "Pons \t 1 \t Nucleus_incertus\n",
      "Isocortex \t 1 \t Orbital_area_medial_part\n",
      "Hippocampal_region \t 2 \t Dentate_gyrus; Field_CA3\n",
      "Cerebellum \t 2 \t Pyramus_VIII; Central_lobule\n",
      "Striatum \t 4 \t Lateral_septal_nucleus_rostral_rostroventral_part; Lateral_septal_nucleus_caudal_caudodorsal_part; Lateral_septal_nucleus_ventral_part; Septofimbrial_nucleus\n",
      "Hippocampal_formation \t 1 \t Presubiculum\n",
      "Midbrain \t 6 \t Anterior_pretectal_nucleus; Nucleus_of_the_optic_tract; Superior_colliculus_sensory_related; Inferior_colliculus_central_nucleus; Superior_colliculus_motor_related; Periaqueductal_gray\n",
      "Thalamus \t 24 \t Intermediodorsal_nucleus_of_the_thalamus; Rhomboid_nucleus; Subparafascicular_area; Paraventricular_nucleus_of_the_thalamus; Parataenial_nucleus; Central_medial_nucleus_of_the_thalamus; Anteromedial_nucleus_dorsal_part; Posterior_limiting_nucleus_of_the_thalamus; Nucleus_of_reuniens; Anteromedial_nucleus_ventral_part; Lateral_posterior_nucleus_of_the_thalamus; Mediodorsal_nucleus_of_thalamus; Subparafascicular_nucleus_magnocellular_part; Central_lateral_nucleus_of_the_thalamus; Medial_geniculate_complex_dorsal_part; Lateral_dorsal_nucleus_of_thalamus; Medial_geniculate_complex_ventral_part; Lateral_habenula; Parafascicular_nucleus; Medial_habenula; Submedial_nucleus_of_the_thalamus; Medial_geniculate_complex_medial_part; Anteroventral_nucleus_of_thalamus; Ventral_posteromedial_nucleus_of_the_thalamus_parvicellular_part\n",
      "Hypothalamus \t 4 \t Paraventricular_hypothalamic_nucleus; Posterior_hypothalamic_nucleus; Subparaventricular_zone; Periventricular_hypothalamic_nucleus_preoptic_part\n"
     ]
    }
   ],
   "source": [
    "Sib_Meta_Spec = AvgSTRZ_Weighted(ExpZscoreMat, Sibling_weights, Match_DF=Agg_Match, Method = 2,\n",
    "                                              csv_fil = \"dat/bias2/ASD.Siblings.spec.bias.csv\")\n",
    "RD_Agg_avgZ_RD = RegionDistributions(Sib_Meta_Spec.set_index(\"STR\"), show=True)"
   ]
  },
  {
   "cell_type": "code",
   "execution_count": 57,
   "metadata": {},
   "outputs": [
    {
     "name": "stdout",
     "output_type": "stream",
     "text": [
      "Olfactory_areas \t 2 \t Accessory_olfactory_bulb; Dorsal_peduncular_area\n",
      "Pallidum \t 3 \t Triangular_nucleus_of_septum; Medial_septal_nucleus; Bed_nuclei_of_the_stria_terminalis\n",
      "Pons \t 2 \t Nucleus_incertus; Superior_central_nucleus_raphe\n",
      "Isocortex \t 3 \t Orbital_area_medial_part; Orbital_area_ventrolateral_part; Infralimbic_area\n",
      "Cerebellum \t 1 \t Pyramus_VIII\n",
      "Striatum \t 3 \t Lateral_septal_nucleus_ventral_part; Lateral_septal_nucleus_rostral_rostroventral_part; Lateral_septal_nucleus_caudal_caudodorsal_part\n",
      "Medulla \t 3 \t Medullary_reticular_nucleus_dorsal_part; Nucleus_prepositus; Inferior_olivary_complex\n",
      "Midbrain \t 8 \t Central_linear_nucleus_raphe; Medial_pretectal_area; Anterior_pretectal_nucleus; Cuneiform_nucleus; Interpeduncular_nucleus; Nucleus_of_the_posterior_commissure; Nucleus_of_the_optic_tract; Inferior_colliculus_central_nucleus\n",
      "Thalamus \t 19 \t Rhomboid_nucleus; Central_medial_nucleus_of_the_thalamus; Intermediodorsal_nucleus_of_the_thalamus; Posterior_limiting_nucleus_of_the_thalamus; Parataenial_nucleus; Subparafascicular_area; Subparafascicular_nucleus_magnocellular_part; Nucleus_of_reuniens; Anteromedial_nucleus_dorsal_part; Anteromedial_nucleus_ventral_part; Submedial_nucleus_of_the_thalamus; Paraventricular_nucleus_of_the_thalamus; Mediodorsal_nucleus_of_thalamus; Medial_geniculate_complex_dorsal_part; Parafascicular_nucleus; Central_lateral_nucleus_of_the_thalamus; Medial_geniculate_complex_medial_part; Ventral_posteromedial_nucleus_of_the_thalamus_parvicellular_part; Medial_geniculate_complex_ventral_part\n",
      "Hypothalamus \t 6 \t Paraventricular_hypothalamic_nucleus; Subparaventricular_zone; Posterior_hypothalamic_nucleus; Supramammillary_nucleus; Periventricular_hypothalamic_nucleus_posterior_part; Dorsal_premammillary_nucleus\n"
     ]
    }
   ],
   "source": [
    "Sib_Meta_Spec = AvgSTRZ_Weighted(ExpZscoreMat, Sibling_weights, Match_DF=Agg_Match, Method = 1,\n",
    "                                              csv_fil = \"dat/bias2/ASD.Siblings.avgz.bias.csv\")\n",
    "RD_Agg_avgZ_RD = RegionDistributions(Sib_Meta_Spec.set_index(\"STR\"), show=True)"
   ]
  },
  {
   "cell_type": "code",
   "execution_count": null,
   "metadata": {},
   "outputs": [],
   "source": []
  },
  {
   "cell_type": "code",
   "execution_count": null,
   "metadata": {},
   "outputs": [],
   "source": []
  },
  {
   "cell_type": "code",
   "execution_count": 32,
   "metadata": {},
   "outputs": [],
   "source": [
    "DenovoWEST_TADA = pd.read_csv(\"../dat/genes/asd/DenovoWEST_TADA.txt\", delimiter=\"\\t\")"
   ]
  },
  {
   "cell_type": "code",
   "execution_count": 40,
   "metadata": {},
   "outputs": [
    {
     "data": {
      "text/plain": [
       "array(['GeneID', 'HGNC', 'EntrezID', 'pLI', 'LOUEFbin', 'LOUEF',\n",
       "       'LoFOvsE', 'SynOvsE', 'sHet', 'forecASD', 'Frisk', 'SFARICategory',\n",
       "       'SFARIScore', 'DDDCategory', 'DDDAllelic', 'DDDMutCons',\n",
       "       'DDDOrgan', 'GeneSet', 'dnLGD', 'mutLGD', 'log10BF_dnLGD',\n",
       "       'dnDmis', 'mutDmis', 'log10BF_dnDmis', 'log10BF_All', 'PP_All',\n",
       "       'Qvalue', 'AllObserved', 'AllExpected', 'pAllEnrich',\n",
       "       'MisObserved', 'MisExpected', 'pMisEnrich', 'MisEvents', 'MisDist',\n",
       "       'pMisCluster', 'pMisComb', 'pDenovoWEST'], dtype=object)"
      ]
     },
     "execution_count": 40,
     "metadata": {},
     "output_type": "execute_result"
    }
   ],
   "source": [
    "DenovoWEST_TADA.columns.values"
   ]
  },
  {
   "cell_type": "code",
   "execution_count": 33,
   "metadata": {},
   "outputs": [
    {
     "name": "stdout",
     "output_type": "stream",
     "text": [
      "2696 1732.863855985384 0.35724634421907125\n",
      "3326 2556.112713640646 0.23147543185789363\n"
     ]
    }
   ],
   "source": [
    "TotalN = 16877\n",
    "TotalLGD = sum(DenovoWEST_TADA[\"dnLGD\"].values)\n",
    "ExpLGD = sum(DenovoWEST_TADA[\"mutLGD\"].values) * 2 * TotalN\n",
    "print(TotalLGD, ExpLGD, (TotalLGD - ExpLGD)/TotalLGD)\n",
    "\n",
    "TotalDmis = sum(DenovoWEST_TADA[\"dnDmis\"].values)\n",
    "ExpDmis = sum(DenovoWEST_TADA[\"mutDmis\"].values) * 2 * TotalN\n",
    "print(TotalDmis, ExpDmis, (TotalDmis - ExpDmis)/TotalDmis)"
   ]
  },
  {
   "cell_type": "code",
   "execution_count": 34,
   "metadata": {},
   "outputs": [
    {
     "data": {
      "text/plain": [
       "0.7586976463858273"
      ]
     },
     "execution_count": 34,
     "metadata": {},
     "output_type": "execute_result"
    }
   ],
   "source": [
    "SiblingDF[\"N_LGD\"].sum() / (DenovoWEST_TADA[\"mutLGD\"].sum() * 2 * N_siblings)"
   ]
  },
  {
   "cell_type": "code",
   "execution_count": 37,
   "metadata": {},
   "outputs": [
    {
     "data": {
      "text/plain": [
       "0.7235949212822491"
      ]
     },
     "execution_count": 37,
     "metadata": {},
     "output_type": "execute_result"
    }
   ],
   "source": [
    "SiblingDF[\"N_Dmis\"].sum() / (DenovoWEST_TADA[\"mutDmis\"].sum() * 2 * N_siblings)"
   ]
  },
  {
   "cell_type": "code",
   "execution_count": 41,
   "metadata": {},
   "outputs": [],
   "source": [
    "#SiblingDF[\"N_Syn\"].sum() / (DenovoWEST_TADA[\"mutsyn\"].sum() * 2 * N_siblings)"
   ]
  },
  {
   "cell_type": "code",
   "execution_count": 46,
   "metadata": {},
   "outputs": [],
   "source": [
    "N_boot = 10\n",
    "for i in range(N_boot):\n",
    "    #bootstraped_siblings = np.random.choice(Combined_siblings, len(Combined_siblings), replace = True)\n",
    "    #for df\n",
    "    bootstrapped_sibling = SiblingDF.sample(frac=1, replace=True)"
   ]
  },
  {
   "cell_type": "code",
   "execution_count": null,
   "metadata": {},
   "outputs": [],
   "source": []
  }
 ],
 "metadata": {
  "kernelspec": {
   "display_name": "Python 3",
   "language": "python",
   "name": "python3"
  },
  "language_info": {
   "codemirror_mode": {
    "name": "ipython",
    "version": 3
   },
   "file_extension": ".py",
   "mimetype": "text/x-python",
   "name": "python",
   "nbconvert_exporter": "python",
   "pygments_lexer": "ipython3",
   "version": "3.7.1"
  }
 },
 "nbformat": 4,
 "nbformat_minor": 2
}
