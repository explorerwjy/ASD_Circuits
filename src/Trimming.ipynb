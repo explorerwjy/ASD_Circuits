{
 "cells": [
  {
   "cell_type": "code",
   "execution_count": 1,
   "metadata": {},
   "outputs": [],
   "source": [
    "%load_ext autoreload\n",
    "%autoreload 2\n",
    "from ASD_Circuits import *"
   ]
  },
  {
   "cell_type": "code",
   "execution_count": 2,
   "metadata": {},
   "outputs": [],
   "source": [
    "g = LoadConnectome2()"
   ]
  },
  {
   "cell_type": "code",
   "execution_count": null,
   "metadata": {},
   "outputs": [],
   "source": [
    "meta_jon = pd.read_csv(\"dat/Jon_data/exp_bias-match-specific.csv\")\n",
    "meta_jon.columns = [\"STR\", \"EFFECT\", \"Rank\", \"NGene\"]\n",
    "meta_jon = meta_jon.set_index(\"STR\")\n",
    "meta_jon.head(2)"
   ]
  },
  {
   "cell_type": "markdown",
   "metadata": {
    "heading_collapsed": true
   },
   "source": [
    "#### Directional Scoring"
   ]
  },
  {
   "cell_type": "code",
   "execution_count": null,
   "metadata": {
    "hidden": true
   },
   "outputs": [],
   "source": [
    "Scores_nonweight = pd.read_csv(\"dat/Conn.Nonweight.csv\", index_col=0)\n",
    "Scores_weight = pd.read_csv(\"dat/Conn.Weight.csv\", index_col=0)"
   ]
  },
  {
   "cell_type": "code",
   "execution_count": null,
   "metadata": {
    "hidden": true
   },
   "outputs": [],
   "source": [
    "Scores_nonweight.head(2)"
   ]
  },
  {
   "cell_type": "code",
   "execution_count": null,
   "metadata": {
    "hidden": true
   },
   "outputs": [],
   "source": [
    "def ScoreConn(STRs, Scores_nonweight):\n",
    "    Total_Score = 0\n",
    "    for i, STR1 in enumerate(STRs):\n",
    "        for j, STR2 in enumerate(STRs):\n",
    "            Total_Score += Scores_nonweight.loc[STR1, STR2] / np.sum(Scores_nonweight.loc[STR1, :])\n",
    "    return Total_Score/len(STRs)\n",
    "def ArgMaxConn(STRs, Scores_nonweight):\n",
    "    to_remove = None\n",
    "    max_score = 0\n",
    "    for STR in STRs:\n",
    "        xx = np.delete(STRs, np.where(STRs == STR))\n",
    "        score = ScoreConn(xx, Scores_nonweight)\n",
    "        #print(STR, score)\n",
    "        if score > max_score:\n",
    "            max_score = score\n",
    "            to_remove = STR\n",
    "    return to_remove, max_score"
   ]
  },
  {
   "cell_type": "code",
   "execution_count": null,
   "metadata": {
    "hidden": true
   },
   "outputs": [],
   "source": [
    "InitSTRs = meta_jon.head(50).index.values\n",
    "Scores = []\n",
    "for i in range(len(InitSTRs), 1, -1):\n",
    "    to_remove, score = ArgMaxConn(InitSTRs, Scores_nonweight)\n",
    "    print(to_remove)\n",
    "    Scores.append(score)\n",
    "    InitSTRs = np.delete(InitSTRs, np.where(InitSTRs == to_remove))"
   ]
  },
  {
   "cell_type": "code",
   "execution_count": null,
   "metadata": {
    "hidden": true
   },
   "outputs": [],
   "source": [
    "print(len(Scores))"
   ]
  },
  {
   "cell_type": "code",
   "execution_count": null,
   "metadata": {
    "hidden": true
   },
   "outputs": [],
   "source": [
    "Scores"
   ]
  },
  {
   "cell_type": "code",
   "execution_count": null,
   "metadata": {
    "hidden": true
   },
   "outputs": [],
   "source": [
    "plt.plot(list(range(len(InitSTRs), 2, -1)), Scores)"
   ]
  },
  {
   "cell_type": "code",
   "execution_count": null,
   "metadata": {
    "hidden": true
   },
   "outputs": [],
   "source": [
    "class MostCohesiveCirtuis(Annealer):\n",
    "    def __init__(self, Graph, InCirtuitNodes, OutCirtuitNodes):\n",
    "        self.Graph = Graph\n",
    "        #self.CandidateNodes = CandidateNodes\n",
    "        #self.InCirtuitNodes = CandidateNodes\n",
    "        #self.OutCirtuitNodes = []\n",
    "        super(MostCohesiveCirtuis, self).__init__(state)  # important!\n",
    "    def move(self):\n",
    "        # Add node or Remove node\n",
    "        initial_energy = self.energy()\n",
    "        CandidateNodes\n",
    "        FLAG_Drop = True\n",
    "        if len(self.OutCirtuitNodes) == 0 or np.random.rand() > 0.7:\n",
    "            FLAG_Drop = True\n",
    "        else:\n",
    "            FLAG_Drop = False\n",
    "        if FLAG_Drop: # Drop a node\n",
    "            node = random.choice(self.InCirtuitNodes)\n",
    "            self.InCirtuitNodes.remove(node)\n",
    "            self.OutCirtuitNodes.append(node)\n",
    "        else: # Add a node\n",
    "            node = random.choice(self.OutCirtuitNodes)\n",
    "            self.OutCirtuitNodes.remove(node)\n",
    "            self.InCirtuitNodes.append(node)\n",
    "        return self.energy() - initial_energy\n",
    "    def energy(self):\n",
    "        top_nodes = self.Graph.vs.select(label_in=self.InCirtuitNodes)\n",
    "        g2 = self.Graph.copy()\n",
    "        g2 = g2.subgraph(top_nodes)\n",
    "        cohesives = []\n",
    "        for v in g2.vs:\n",
    "            coh = InOutCohesiveSingleNode(self.Graph, g2, v[\"label\"])\n",
    "            cohesives.append(coh)\n",
    "        cohesive = np.mean(cohesives)\n",
    "        return 1 - cohesive"
   ]
  },
  {
   "cell_type": "markdown",
   "metadata": {
    "heading_collapsed": true
   },
   "source": [
    "#### SA "
   ]
  },
  {
   "cell_type": "code",
   "execution_count": null,
   "metadata": {
    "hidden": true
   },
   "outputs": [],
   "source": [
    "#g = LoadConnectome2(ConnFil=\n",
    "#                    \"../dat/allen-mouse-conn/norm_density-max_ipsi_contra-pval_0.05-deg_min_1-by_weight.csv\")\n",
    "g = LoadConnectome2(ConnFil=\n",
    "                    \"../dat/allen-mouse-conn/norm_density-max_ipsi_contra-pval_0.05-deg_min_1-by_weight_pvalue.csv\")\n",
    "EdgeWeightsDict = EdgeDict(g, keyon=\"label\")"
   ]
  },
  {
   "cell_type": "code",
   "execution_count": null,
   "metadata": {
    "hidden": true
   },
   "outputs": [],
   "source": [
    "Candidate = meta_jon.head(50).index.values\n",
    "ScoreSTRSet(g, Candidate, EdgeWeightsDict)"
   ]
  },
  {
   "cell_type": "code",
   "execution_count": null,
   "metadata": {
    "hidden": true,
    "scrolled": true
   },
   "outputs": [],
   "source": [
    "def onexxx(meta_jon, N, g=g, EdgeWeightsDict=EdgeWeightsDict):\n",
    "    CandidateNodes = meta_jon.head(N).index.values\n",
    "    xxx = ScoreSTRSet(g, CandidateNodes, EdgeWeightsDict)\n",
    "    YYY = []\n",
    "    for i in range(100):\n",
    "        CandidateNodes = np.random.choice(meta_jon.index.values, N, replace=False)\n",
    "        yyy = ScoreSTRSet(g, CandidateNodes, EdgeWeightsDict)\n",
    "        YYY.append(yyy)\n",
    "    return xxx, np.mean(YYY)\n",
    "XXX1, YYY1 = [], []\n",
    "for i in range(213):\n",
    "    xxx, yyy = onexxx(meta_jon, i)\n",
    "    XXX1.append(xxx)\n",
    "    YYY1.append(yyy)"
   ]
  },
  {
   "cell_type": "code",
   "execution_count": null,
   "metadata": {
    "hidden": true
   },
   "outputs": [],
   "source": [
    "Candidate = meta_jon.head(50).index.values\n",
    "ScoreSTRSet(g, Candidate, EdgeWeightsDict, Direction=True, Weighted=True)"
   ]
  },
  {
   "cell_type": "code",
   "execution_count": null,
   "metadata": {
    "hidden": true
   },
   "outputs": [],
   "source": [
    "def onexxx(meta_jon, N, g=g, EdgeWeightsDict=EdgeWeightsDict):\n",
    "    CandidateNodes = meta_jon.head(N).index.values\n",
    "    xxx = ScoreSTRSet(g, CandidateNodes, EdgeWeightsDict, Direction=True, Weighted=True)\n",
    "    YYY = []\n",
    "    for i in range(100):\n",
    "        CandidateNodes = np.random.choice(meta_jon.index.values, N, replace=False)\n",
    "        yyy = ScoreSTRSet(g, CandidateNodes, EdgeWeightsDict, Direction=True, Weighted=True)\n",
    "        YYY.append(yyy)\n",
    "    return xxx, np.mean(YYY)\n",
    "XXX2, YYY2 = [], []\n",
    "for i in range(213):\n",
    "    xxx, yyy = onexxx(meta_jon, i)\n",
    "    XXX2.append(xxx)\n",
    "    YYY2.append(yyy)"
   ]
  },
  {
   "cell_type": "code",
   "execution_count": null,
   "metadata": {
    "hidden": true
   },
   "outputs": [],
   "source": []
  },
  {
   "cell_type": "code",
   "execution_count": null,
   "metadata": {
    "hidden": true
   },
   "outputs": [],
   "source": [
    "fig, ax = plt.subplots(dpi=200)\n",
    "ax.plot(list(range(1,213,1)), XXX1[1:213], label=\"ASD\", color=\"green\", linestyle=\"-\")\n",
    "ax.plot(list(range(1,213,1)), YYY1[1:213], label=\"shuffle\", color=\"green\", linestyle=\"dotted\")\n",
    "ax.plot(list(range(1,213,1)), XXX2[1:213], label=\"ASD W&D\", color=\"blue\", linestyle=\"-\")\n",
    "ax.plot(list(range(1,213,1)), YYY2[1:213], label=\"shuffle W&D\", color=\"blue\", linestyle=\"dotted\")\n",
    "ax.set_xlim(213, 1)  # decreasing time\n",
    "ax.legend()\n",
    "plt.grid(True)\n",
    "plt.xlabel(\"topN\")\n",
    "plt.ylabel(\"Cohe\")"
   ]
  },
  {
   "cell_type": "code",
   "execution_count": null,
   "metadata": {
    "hidden": true
   },
   "outputs": [],
   "source": [
    "def movingAVG(Input, smoothLen=3):\n",
    "    res = []\n",
    "    for i in range(len(Input)):\n",
    "        if i - smoothLen < 0:\n",
    "            new = np.mean(Input[0:i+smoothLen])\n",
    "        elif i+ smoothLen > len(Input):\n",
    "            new = np.mean(Input[i-smoothLen:])\n",
    "        else:\n",
    "            new = np.mean(Input[i-smoothLen:i+smoothLen])\n",
    "        res.append(new)\n",
    "    return res"
   ]
  },
  {
   "cell_type": "code",
   "execution_count": null,
   "metadata": {
    "hidden": true
   },
   "outputs": [],
   "source": [
    "unweight = movingAVG(np.array(XXX1[1:213])/np.array(YYY1[1:213]))\n",
    "weighted = movingAVG(np.array(XXX2[1:213])/np.array(YYY2[1:213]))"
   ]
  },
  {
   "cell_type": "code",
   "execution_count": null,
   "metadata": {
    "hidden": true
   },
   "outputs": [],
   "source": [
    "fig, ax = plt.subplots(dpi=200)\n",
    "ax.plot(list(range(1,213,1)), unweight, label=\"ASD\", color=\"green\", linestyle=\"-\")\n",
    "ax.plot(list(range(1,213,1)), weighted, label=\"ASD W&D\", color=\"blue\", linestyle=\"-\")\n",
    "ax.set_xlim(213, 1)  # decreasing time\n",
    "ax.legend()\n",
    "#plt.title(\"Ratio of ASD/Exp Cohesiveness\")\n",
    "plt.grid(True)\n",
    "plt.xlabel(\"Top N as Candidate Structures\")\n",
    "plt.ylabel(\"ASD / Random Cohesiveness\")"
   ]
  },
  {
   "cell_type": "code",
   "execution_count": null,
   "metadata": {
    "hidden": true
   },
   "outputs": [],
   "source": [
    "fig, ax = plt.subplots(dpi=200)\n",
    "ax.plot(list(range(1,213,1)), np.array(XXX1[1:213])-np.array(YYY1[1:213]), label=\"ASD\", color=\"green\", linestyle=\"-\")\n",
    "ax.plot(list(range(1,213,1)), np.array(XXX2[1:213])-np.array(YYY2[1:213]), label=\"ASD W&D\", color=\"blue\", linestyle=\"-\")\n",
    "ax.set_xlim(213, 1)  # decreasing time\n",
    "ax.legend()\n",
    "plt.title(\"Diff of ASD-Exp Cohesiveness\")\n",
    "plt.grid(True)\n",
    "plt.xlabel(\"topN\")\n",
    "plt.ylabel(\"Cohe Diff\")"
   ]
  },
  {
   "cell_type": "code",
   "execution_count": null,
   "metadata": {
    "hidden": true
   },
   "outputs": [],
   "source": []
  },
  {
   "cell_type": "code",
   "execution_count": null,
   "metadata": {
    "hidden": true
   },
   "outputs": [],
   "source": []
  },
  {
   "cell_type": "code",
   "execution_count": null,
   "metadata": {
    "hidden": true
   },
   "outputs": [],
   "source": []
  },
  {
   "cell_type": "code",
   "execution_count": null,
   "metadata": {
    "hidden": true
   },
   "outputs": [],
   "source": [
    "CandidateNodes = meta_jon.head(50).index.values\n",
    "Init_States = np.ones(len(CandidateNodes))\n",
    "for idx in range(len(Init_States)):\n",
    "    if np.random.rand() > 0.5:\n",
    "        Init_States[idx] = 0\n",
    "ins = MostCohesiveCirtuis(Init_States, g, CandidateNodes, EdgeWeightsDict)"
   ]
  },
  {
   "cell_type": "code",
   "execution_count": null,
   "metadata": {
    "hidden": true
   },
   "outputs": [],
   "source": [
    "%%time\n",
    "InCirtuitNodes = meta_jon.head(50).index.values\n",
    "top_nodes = g.vs.select(label_in=InCirtuitNodes)\n",
    "g2 = g.copy().subgraph(top_nodes)\n",
    "Node=\"Dentate_gyrus\"\n",
    "CohesivenessSingleNodeMaxInOut(g, g2, Node, EdgeWeightsDict)"
   ]
  },
  {
   "cell_type": "code",
   "execution_count": null,
   "metadata": {
    "hidden": true
   },
   "outputs": [],
   "source": [
    "%%time\n",
    "ins.copy_strategy = \"deepcopy\"\n",
    "ins.Tmax=1\n",
    "ins.Tmin=0.0001\n",
    "Tmps, Energys, state, e = ins.anneal()\n",
    "print(\"Done\")"
   ]
  },
  {
   "cell_type": "code",
   "execution_count": null,
   "metadata": {
    "hidden": true
   },
   "outputs": [],
   "source": [
    "plt.plot(Tmps, Energys)\n",
    "plt.xlabel(\"Temp\")\n",
    "plt.ylabel(\"Energy\")\n",
    "plt.gca().invert_xaxis()\n",
    "plt.xscale(\"log\")\n",
    "plt.show()"
   ]
  },
  {
   "cell_type": "code",
   "execution_count": null,
   "metadata": {
    "hidden": true
   },
   "outputs": [],
   "source": [
    "print(1-e, state)"
   ]
  },
  {
   "cell_type": "code",
   "execution_count": null,
   "metadata": {
    "hidden": true
   },
   "outputs": [],
   "source": [
    "InCirtuitNodes = ins.CandidateNodes[np.where(ins.state==1)[0]]\n",
    "print(list(InCirtuitNodes))"
   ]
  },
  {
   "cell_type": "code",
   "execution_count": null,
   "metadata": {
    "hidden": true
   },
   "outputs": [],
   "source": [
    "OutCirtuitNodes = ins.CandidateNodes[np.where(ins.state==0)[0]]\n",
    "print(len(OutCirtuitNodes))\n",
    "print(list(OutCirtuitNodes))"
   ]
  },
  {
   "cell_type": "code",
   "execution_count": null,
   "metadata": {
    "hidden": true
   },
   "outputs": [],
   "source": [
    "top_nodes = g.vs.select(label_in=InCirtuitNodes)\n",
    "g2 = g.copy().subgraph(top_nodes)"
   ]
  },
  {
   "cell_type": "code",
   "execution_count": null,
   "metadata": {
    "hidden": true
   },
   "outputs": [],
   "source": [
    "############### developing plot circuits"
   ]
  },
  {
   "cell_type": "code",
   "execution_count": null,
   "metadata": {
    "hidden": true
   },
   "outputs": [],
   "source": [
    "InCirtuitNodes = meta_jon.head(50).index.values\n",
    "top_nodes = g.vs.select(label_in=InCirtuitNodes)\n",
    "g2 = g.copy().subgraph(top_nodes)\n",
    "Node=\"Prelimbic_area\"\n",
    "CohesivenessSingleNodeMaxInOut(g, g2, Node, EdgeWeightsDict)"
   ]
  },
  {
   "cell_type": "code",
   "execution_count": null,
   "metadata": {
    "hidden": true
   },
   "outputs": [],
   "source": [
    "coord_dict = {}\n",
    "for Node in InCirtuitNodes:\n",
    "    Cohe, ITR = CohesivenessSingleNodeMaxInOut(g, g2, Node, EdgeWeightsDict)\n",
    "    coord_dict[Node] = (Cohe, np.log10(min(10, ITR)))\n",
    "    #print(Node, Cohe, ITR)\n",
    "    #print(Node)"
   ]
  },
  {
   "cell_type": "code",
   "execution_count": null,
   "metadata": {
    "hidden": true
   },
   "outputs": [],
   "source": [
    "STR2REG, REG2STR = LoadSTR2REG()"
   ]
  },
  {
   "cell_type": "code",
   "execution_count": null,
   "metadata": {
    "hidden": true
   },
   "outputs": [],
   "source": [
    "Regions = list(REG2STR.keys())\n",
    "colors = ['b', 'g', 'r', 'c', 'm', 'y', 'k']\n",
    "r = random.random\n",
    "color_dict = {}\n",
    "i=0\n",
    "for region in Regions:\n",
    "    if i > len(colors)-1:\n",
    "        i = 0\n",
    "    color_dict[region] = colors[i]\n",
    "    i += 1"
   ]
  },
  {
   "cell_type": "code",
   "execution_count": null,
   "metadata": {
    "hidden": true
   },
   "outputs": [],
   "source": [
    "fig, ax = plt.subplots(dpi=200, figsize=(12,12))\n",
    "for K,v in coord_dict.items():\n",
    "    x,y = v\n",
    "    ax.scatter(x,y, s=80, c=color_dict[STR2REG[K]], marker=\"o\")\n",
    "    ax.text(x,y,s=K)\n",
    "factor = 0.98\n",
    "for e in g2.es:\n",
    "    #print(e.source, e.target)\n",
    "    #print(g2.vs[e.source][\"label\"], g2.vs[e.target][\"label\"])\n",
    "    point1 = coord_dict[g2.vs[e.source][\"label\"]]\n",
    "    point2 = coord_dict[g2.vs[e.target][\"label\"]]\n",
    "    plt.arrow(point1[0], point1[1], \n",
    "              dx=(point2[0]-point1[0]) * factor, dy=(point2[1]-point1[1]) * factor, \n",
    "              head_width = 0.01, width = 0.00001, ec=\"grey\", alpha=0.6)\n",
    "#plt.yscale(\"log\")\n",
    "plt.xlabel(\"Cohesiveness\")\n",
    "plt.ylabel(\"log(ITR)\")\n",
    "plt.show()"
   ]
  },
  {
   "cell_type": "code",
   "execution_count": null,
   "metadata": {
    "hidden": true
   },
   "outputs": [],
   "source": []
  },
  {
   "cell_type": "code",
   "execution_count": null,
   "metadata": {
    "hidden": true
   },
   "outputs": [],
   "source": []
  },
  {
   "cell_type": "code",
   "execution_count": null,
   "metadata": {
    "hidden": true
   },
   "outputs": [],
   "source": []
  },
  {
   "cell_type": "code",
   "execution_count": null,
   "metadata": {
    "hidden": true
   },
   "outputs": [],
   "source": [
    "############### End developing plot circuits"
   ]
  },
  {
   "cell_type": "code",
   "execution_count": null,
   "metadata": {
    "hidden": true
   },
   "outputs": [],
   "source": []
  },
  {
   "cell_type": "code",
   "execution_count": null,
   "metadata": {
    "hidden": true
   },
   "outputs": [],
   "source": [
    "CandidateNodes = meta_jon.head(100).index.values\n",
    "Init_States = np.ones(len(CandidateNodes))\n",
    "for idx in range(len(Init_States)):\n",
    "    if np.random.rand() > 0.5:\n",
    "        Init_States[idx] = 0\n",
    "ins2 = MostCohesiveCirtuis(Init_States, g, CandidateNodes, EdgeWeightsDict)"
   ]
  },
  {
   "cell_type": "code",
   "execution_count": null,
   "metadata": {
    "hidden": true
   },
   "outputs": [],
   "source": [
    "len(Init_States)"
   ]
  },
  {
   "cell_type": "code",
   "execution_count": null,
   "metadata": {
    "hidden": true
   },
   "outputs": [],
   "source": [
    "%%time\n",
    "ins2.copy_strategy = \"deepcopy\"\n",
    "ins2.Tmax=1\n",
    "ins2.Tmin=0.00001\n",
    "Tmps, Energys, state, e = ins2.anneal()\n",
    "print(\"Done\")"
   ]
  },
  {
   "cell_type": "code",
   "execution_count": null,
   "metadata": {
    "hidden": true
   },
   "outputs": [],
   "source": [
    "print(1-e, state)\n",
    "OutCirtuitNodes = ins2.CandidateNodes[np.where(ins.state==0)[0]]\n",
    "print(list(OutCirtuitNodes))\n",
    "print(len(OutCirtuitNodes))"
   ]
  },
  {
   "cell_type": "code",
   "execution_count": null,
   "metadata": {
    "hidden": true
   },
   "outputs": [],
   "source": [
    "print(len(OutCirtuitNodes))"
   ]
  },
  {
   "cell_type": "code",
   "execution_count": null,
   "metadata": {
    "hidden": true
   },
   "outputs": [],
   "source": [
    "InCirtuitNodes = ins2.CandidateNodes[np.where(ins2.state==1)[0]]\n",
    "print(len(InCirtuitNodes))\n",
    "list(InCirtuitNodes)"
   ]
  },
  {
   "cell_type": "code",
   "execution_count": null,
   "metadata": {
    "hidden": true
   },
   "outputs": [],
   "source": [
    "with open(\"test.circuits.txt\", 'wt') as fout:\n",
    "    fout.write(\"Cohesiveness:{}\\n\".format(1-e))\n",
    "    fout.write(\"InCirtuitNodes:\" + \",\".join(InCirtuitNodes) + \"\\n\")\n",
    "    fout.write(\"OutCirtuitNodes:\" + \",\".join(OutCirtuitNodes) + \"\\n\")"
   ]
  },
  {
   "cell_type": "code",
   "execution_count": null,
   "metadata": {
    "hidden": true
   },
   "outputs": [],
   "source": [
    "with open(\"/Users/jiayao//Work/ASD_Circuits/src/dat/Jon_data/test.txt\", 'rt') as fin:\n",
    "    In_Circuits_Jon = []\n",
    "    for l in fin:\n",
    "        l=l.strip()\n",
    "        In_Circuits_Jon.append(l)\n",
    "jon = copy.deepcopy(ins)"
   ]
  },
  {
   "cell_type": "code",
   "execution_count": null,
   "metadata": {
    "hidden": true
   },
   "outputs": [],
   "source": [
    "Out_Circuits_Jon = list()"
   ]
  },
  {
   "cell_type": "code",
   "execution_count": null,
   "metadata": {
    "hidden": true
   },
   "outputs": [],
   "source": [
    "jon.state = np.zeros(50)\n",
    "for Node in In_Circuits_Jon:\n",
    "    jon.state[np.where(ins.CandidateNodes==Node)[0]] = 1\n",
    "1 - jon.energy()"
   ]
  },
  {
   "cell_type": "code",
   "execution_count": null,
   "metadata": {
    "hidden": true
   },
   "outputs": [],
   "source": [
    "1 - ins.energy()"
   ]
  },
  {
   "cell_type": "code",
   "execution_count": null,
   "metadata": {
    "hidden": true
   },
   "outputs": [],
   "source": [
    "jon.energy() - ins.energy()"
   ]
  },
  {
   "cell_type": "code",
   "execution_count": null,
   "metadata": {
    "hidden": true
   },
   "outputs": [],
   "source": [
    "#ins.state[np.where(ins.CandidateNodes==\"Caudoputamen\")[0]] = 1\n",
    "#ins.state[np.where(ins.CandidateNodes==\"Parafascicular_nucleus\")[0]] = 1\n",
    "#1 - ins.energy()"
   ]
  },
  {
   "cell_type": "code",
   "execution_count": null,
   "metadata": {
    "hidden": true
   },
   "outputs": [],
   "source": [
    "#ins.state = np.ones(len(CandidateNodes))\n",
    "#1 - ins.energy()"
   ]
  },
  {
   "cell_type": "code",
   "execution_count": null,
   "metadata": {
    "hidden": true
   },
   "outputs": [],
   "source": []
  },
  {
   "cell_type": "code",
   "execution_count": null,
   "metadata": {
    "hidden": true
   },
   "outputs": [],
   "source": [
    "def run_one_sim(meta_jon, g):\n",
    "    CandidateNodes = np.random.choice(meta_jon.head(213).index.values, 100)\n",
    "    Init_States = np.ones(len(CandidateNodes))\n",
    "    for idx in range(len(Init_States)):\n",
    "        if np.random.rand() > 0.5:\n",
    "            Init_States[idx] = 0\n",
    "    ins = MostCohesiveCirtuis(Init_States, g, CandidateNodes, None)\n",
    "    ins.copy_strategy = \"deepcopy\"\n",
    "    ins.Tmax=1\n",
    "    ins.Tmin=0.00001\n",
    "    Tmps, Energys, state, e = ins.anneal()\n",
    "    return 1-e\n",
    "\n",
    "res = []\n",
    "for i in range(10):\n",
    "    cohe = run_one_sim(meta_jon, g)\n",
    "    print(cohe)\n",
    "    res.append(cohe)"
   ]
  },
  {
   "cell_type": "code",
   "execution_count": null,
   "metadata": {
    "hidden": true
   },
   "outputs": [],
   "source": []
  },
  {
   "cell_type": "code",
   "execution_count": null,
   "metadata": {
    "hidden": true
   },
   "outputs": [],
   "source": []
  },
  {
   "cell_type": "code",
   "execution_count": null,
   "metadata": {
    "hidden": true
   },
   "outputs": [],
   "source": []
  },
  {
   "cell_type": "markdown",
   "metadata": {},
   "source": [
    "### Most Cohesive in connectome"
   ]
  },
  {
   "cell_type": "code",
   "execution_count": null,
   "metadata": {},
   "outputs": [],
   "source": [
    "CandidateNodes = np.random.choice(meta_jon.head(213).index.values, 50)\n",
    "Init_States = np.ones(len(CandidateNodes))\n",
    "for idx in range(len(Init_States)):\n",
    "    if np.random.rand() > 0.5:\n",
    "        Init_States[idx] = 0\n",
    "#print(Init_States)\n",
    "#Init_States = jon.state\n",
    "#del ins\n",
    "ins = MostCohesiveCirtuis(Init_States, g, CandidateNodes)"
   ]
  },
  {
   "cell_type": "code",
   "execution_count": null,
   "metadata": {},
   "outputs": [],
   "source": [
    "%%time\n",
    "ins.copy_strategy = \"deepcopy\"\n",
    "ins.Tmax=1\n",
    "ins.Tmin=0.00001\n",
    "Tmps, Energys, state, e = ins.anneal()\n",
    "print(\"Done\")"
   ]
  },
  {
   "cell_type": "code",
   "execution_count": null,
   "metadata": {},
   "outputs": [],
   "source": [
    "plt.plot(Tmps, Energys)\n",
    "plt.xlabel(\"Temp\")\n",
    "plt.ylabel(\"Energy\")\n",
    "plt.gca().invert_xaxis()\n",
    "plt.xscale(\"log\")\n",
    "plt.show()"
   ]
  },
  {
   "cell_type": "code",
   "execution_count": null,
   "metadata": {},
   "outputs": [],
   "source": [
    "print(1-e, state)"
   ]
  },
  {
   "cell_type": "code",
   "execution_count": null,
   "metadata": {},
   "outputs": [],
   "source": [
    "def run_one_sim(meta_jon, g):\n",
    "    CandidateNodes = np.random.choice(meta_jon.head(213).index.values, 50)\n",
    "    Init_States = np.ones(len(CandidateNodes))\n",
    "    for idx in range(len(Init_States)):\n",
    "        if np.random.rand() > 0.5:\n",
    "            Init_States[idx] = 0\n",
    "    ins = MostCohesiveCirtuis(Init_States, g, CandidateNodes)\n",
    "    ins.copy_strategy = \"deepcopy\"\n",
    "    ins.Tmax=1\n",
    "    ins.Tmin=0.00001\n",
    "    Tmps, Energys, state, e = ins.anneal()\n",
    "    return 1-e\n",
    "\n",
    "res = []\n",
    "for i in range(10):\n",
    "    cohe = run_one_sim(meta_jon, g)\n",
    "    res.append(cohe)"
   ]
  },
  {
   "cell_type": "code",
   "execution_count": null,
   "metadata": {},
   "outputs": [],
   "source": [
    "print(np.mean(res))\n",
    "print(res)"
   ]
  }
 ],
 "metadata": {
  "kernelspec": {
   "display_name": "Python 3",
   "language": "python",
   "name": "python3"
  },
  "language_info": {
   "codemirror_mode": {
    "name": "ipython",
    "version": 3
   },
   "file_extension": ".py",
   "mimetype": "text/x-python",
   "name": "python",
   "nbconvert_exporter": "python",
   "pygments_lexer": "ipython3",
   "version": "3.7.1"
  }
 },
 "nbformat": 4,
 "nbformat_minor": 2
}
