{
 "cells": [
  {
   "cell_type": "code",
   "execution_count": 1,
   "metadata": {},
   "outputs": [],
   "source": [
    "%load_ext autoreload\n",
    "%autoreload 2\n",
    "from ASD_Circuits import *"
   ]
  },
  {
   "cell_type": "code",
   "execution_count": 2,
   "metadata": {
    "jupyter": {
     "source_hidden": true
    }
   },
   "outputs": [],
   "source": [
    "#expression_energy = pd.read_csv(\"../dat/allen-mouse-exp/replicate/expression_energy.csv\")\n",
    "expression_energy = pd.read_csv(\"../dat/allen-mouse-exp/jon/energy-conn-model.csv\", index_col=\"ROW\")\n",
    "STR_volume = pd.read_csv(\"dat/voxel.csv\", index_col=\"KEY\")"
   ]
  },
  {
   "cell_type": "code",
   "execution_count": 6,
   "metadata": {
    "collapsed": true,
    "jupyter": {
     "outputs_hidden": true,
     "source_hidden": true
    }
   },
   "outputs": [
    {
     "data": {
      "text/plain": [
       "(15681, 213)"
      ]
     },
     "execution_count": 6,
     "metadata": {},
     "output_type": "execute_result"
    }
   ],
   "source": [
    "expression_energy.shape"
   ]
  },
  {
   "cell_type": "code",
   "execution_count": 7,
   "metadata": {
    "collapsed": true,
    "jupyter": {
     "outputs_hidden": true,
     "source_hidden": true
    }
   },
   "outputs": [
    {
     "data": {
      "text/html": [
       "<div>\n",
       "<style scoped>\n",
       "    .dataframe tbody tr th:only-of-type {\n",
       "        vertical-align: middle;\n",
       "    }\n",
       "\n",
       "    .dataframe tbody tr th {\n",
       "        vertical-align: top;\n",
       "    }\n",
       "\n",
       "    .dataframe thead th {\n",
       "        text-align: right;\n",
       "    }\n",
       "</style>\n",
       "<table border=\"1\" class=\"dataframe\">\n",
       "  <thead>\n",
       "    <tr style=\"text-align: right;\">\n",
       "      <th></th>\n",
       "      <th>Anterior_amygdalar_area</th>\n",
       "      <th>Anterior_cingulate_area_dorsal_part</th>\n",
       "      <th>Anterior_cingulate_area_ventral_part</th>\n",
       "      <th>Nucleus_accumbens</th>\n",
       "      <th>Anterodorsal_nucleus</th>\n",
       "      <th>Anterior_hypothalamic_nucleus</th>\n",
       "      <th>Agranular_insular_area_dorsal_part</th>\n",
       "      <th>Agranular_insular_area_posterior_part</th>\n",
       "      <th>Agranular_insular_area_ventral_part</th>\n",
       "      <th>Nucleus_ambiguus</th>\n",
       "      <th>...</th>\n",
       "      <th>Primary_visual_area</th>\n",
       "      <th>Posterolateral_visual_area</th>\n",
       "      <th>posteromedial_visual_area</th>\n",
       "      <th>Ventral_medial_nucleus_of_the_thalamus</th>\n",
       "      <th>Ventromedial_hypothalamic_nucleus</th>\n",
       "      <th>Ventral_posterolateral_nucleus_of_the_thalamus</th>\n",
       "      <th>Ventral_posteromedial_nucleus_of_the_thalamus</th>\n",
       "      <th>Ventral_posteromedial_nucleus_of_the_thalamus_parvicellular_part</th>\n",
       "      <th>Ventral_tegmental_area</th>\n",
       "      <th>Hypoglossal_nucleus</th>\n",
       "    </tr>\n",
       "    <tr>\n",
       "      <th>ROW</th>\n",
       "      <th></th>\n",
       "      <th></th>\n",
       "      <th></th>\n",
       "      <th></th>\n",
       "      <th></th>\n",
       "      <th></th>\n",
       "      <th></th>\n",
       "      <th></th>\n",
       "      <th></th>\n",
       "      <th></th>\n",
       "      <th></th>\n",
       "      <th></th>\n",
       "      <th></th>\n",
       "      <th></th>\n",
       "      <th></th>\n",
       "      <th></th>\n",
       "      <th></th>\n",
       "      <th></th>\n",
       "      <th></th>\n",
       "      <th></th>\n",
       "      <th></th>\n",
       "    </tr>\n",
       "  </thead>\n",
       "  <tbody>\n",
       "    <tr>\n",
       "      <th>1</th>\n",
       "      <td>0.129948</td>\n",
       "      <td>0.060500</td>\n",
       "      <td>0.063547</td>\n",
       "      <td>0.046318</td>\n",
       "      <td>0.029235</td>\n",
       "      <td>0.283072</td>\n",
       "      <td>0.026315</td>\n",
       "      <td>NaN</td>\n",
       "      <td>0.072782</td>\n",
       "      <td>0.058972</td>\n",
       "      <td>...</td>\n",
       "      <td>0.031173</td>\n",
       "      <td>0.242497</td>\n",
       "      <td>0.007004</td>\n",
       "      <td>0.104897</td>\n",
       "      <td>0.272817</td>\n",
       "      <td>0.107278</td>\n",
       "      <td>0.140856</td>\n",
       "      <td>0.109031</td>\n",
       "      <td>0.251835</td>\n",
       "      <td>0.214892</td>\n",
       "    </tr>\n",
       "    <tr>\n",
       "      <th>2</th>\n",
       "      <td>0.065605</td>\n",
       "      <td>0.012055</td>\n",
       "      <td>0.030225</td>\n",
       "      <td>0.048060</td>\n",
       "      <td>0.375491</td>\n",
       "      <td>0.102894</td>\n",
       "      <td>0.228004</td>\n",
       "      <td>0.093791</td>\n",
       "      <td>0.174076</td>\n",
       "      <td>0.046022</td>\n",
       "      <td>...</td>\n",
       "      <td>0.040116</td>\n",
       "      <td>0.016684</td>\n",
       "      <td>0.171418</td>\n",
       "      <td>0.158988</td>\n",
       "      <td>0.112546</td>\n",
       "      <td>0.051621</td>\n",
       "      <td>0.059596</td>\n",
       "      <td>0.112288</td>\n",
       "      <td>0.274680</td>\n",
       "      <td>1.004292</td>\n",
       "    </tr>\n",
       "  </tbody>\n",
       "</table>\n",
       "<p>2 rows × 213 columns</p>\n",
       "</div>"
      ],
      "text/plain": [
       "     Anterior_amygdalar_area  Anterior_cingulate_area_dorsal_part  \\\n",
       "ROW                                                                 \n",
       "1                   0.129948                             0.060500   \n",
       "2                   0.065605                             0.012055   \n",
       "\n",
       "     Anterior_cingulate_area_ventral_part  Nucleus_accumbens  \\\n",
       "ROW                                                            \n",
       "1                                0.063547           0.046318   \n",
       "2                                0.030225           0.048060   \n",
       "\n",
       "     Anterodorsal_nucleus  Anterior_hypothalamic_nucleus  \\\n",
       "ROW                                                        \n",
       "1                0.029235                       0.283072   \n",
       "2                0.375491                       0.102894   \n",
       "\n",
       "     Agranular_insular_area_dorsal_part  \\\n",
       "ROW                                       \n",
       "1                              0.026315   \n",
       "2                              0.228004   \n",
       "\n",
       "     Agranular_insular_area_posterior_part  \\\n",
       "ROW                                          \n",
       "1                                      NaN   \n",
       "2                                 0.093791   \n",
       "\n",
       "     Agranular_insular_area_ventral_part  Nucleus_ambiguus  ...  \\\n",
       "ROW                                                         ...   \n",
       "1                               0.072782          0.058972  ...   \n",
       "2                               0.174076          0.046022  ...   \n",
       "\n",
       "     Primary_visual_area  Posterolateral_visual_area  \\\n",
       "ROW                                                    \n",
       "1               0.031173                    0.242497   \n",
       "2               0.040116                    0.016684   \n",
       "\n",
       "     posteromedial_visual_area  Ventral_medial_nucleus_of_the_thalamus  \\\n",
       "ROW                                                                      \n",
       "1                     0.007004                                0.104897   \n",
       "2                     0.171418                                0.158988   \n",
       "\n",
       "     Ventromedial_hypothalamic_nucleus  \\\n",
       "ROW                                      \n",
       "1                             0.272817   \n",
       "2                             0.112546   \n",
       "\n",
       "     Ventral_posterolateral_nucleus_of_the_thalamus  \\\n",
       "ROW                                                   \n",
       "1                                          0.107278   \n",
       "2                                          0.051621   \n",
       "\n",
       "     Ventral_posteromedial_nucleus_of_the_thalamus  \\\n",
       "ROW                                                  \n",
       "1                                         0.140856   \n",
       "2                                         0.059596   \n",
       "\n",
       "     Ventral_posteromedial_nucleus_of_the_thalamus_parvicellular_part  \\\n",
       "ROW                                                                     \n",
       "1                                             0.109031                  \n",
       "2                                             0.112288                  \n",
       "\n",
       "     Ventral_tegmental_area  Hypoglossal_nucleus  \n",
       "ROW                                               \n",
       "1                  0.251835             0.214892  \n",
       "2                  0.274680             1.004292  \n",
       "\n",
       "[2 rows x 213 columns]"
      ]
     },
     "execution_count": 7,
     "metadata": {},
     "output_type": "execute_result"
    }
   ],
   "source": [
    "expression_energy.head(2)"
   ]
  },
  {
   "cell_type": "code",
   "execution_count": 8,
   "metadata": {
    "collapsed": true,
    "jupyter": {
     "outputs_hidden": true,
     "source_hidden": true
    }
   },
   "outputs": [
    {
     "data": {
      "text/html": [
       "<div>\n",
       "<style scoped>\n",
       "    .dataframe tbody tr th:only-of-type {\n",
       "        vertical-align: middle;\n",
       "    }\n",
       "\n",
       "    .dataframe tbody tr th {\n",
       "        vertical-align: top;\n",
       "    }\n",
       "\n",
       "    .dataframe thead th {\n",
       "        text-align: right;\n",
       "    }\n",
       "</style>\n",
       "<table border=\"1\" class=\"dataframe\">\n",
       "  <thead>\n",
       "    <tr style=\"text-align: right;\">\n",
       "      <th></th>\n",
       "      <th>VOLUME</th>\n",
       "    </tr>\n",
       "    <tr>\n",
       "      <th>KEY</th>\n",
       "      <th></th>\n",
       "    </tr>\n",
       "  </thead>\n",
       "  <tbody>\n",
       "    <tr>\n",
       "      <th>Basic_cell_groups_and_regions</th>\n",
       "      <td>417724</td>\n",
       "    </tr>\n",
       "    <tr>\n",
       "      <th>Cerebrum</th>\n",
       "      <td>261163</td>\n",
       "    </tr>\n",
       "  </tbody>\n",
       "</table>\n",
       "</div>"
      ],
      "text/plain": [
       "                               VOLUME\n",
       "KEY                                  \n",
       "Basic_cell_groups_and_regions  417724\n",
       "Cerebrum                       261163"
      ]
     },
     "execution_count": 8,
     "metadata": {},
     "output_type": "execute_result"
    }
   ],
   "source": [
    "STR_volume.head(2)"
   ]
  },
  {
   "cell_type": "markdown",
   "metadata": {
    "heading_collapsed": true,
    "jupyter": {
     "source_hidden": true
    }
   },
   "source": [
    "## Missing Value Distribution"
   ]
  },
  {
   "cell_type": "code",
   "execution_count": 9,
   "metadata": {
    "collapsed": true,
    "hidden": true,
    "jupyter": {
     "outputs_hidden": true,
     "source_hidden": true
    }
   },
   "outputs": [
    {
     "data": {
      "image/png": "[encoded data removed]",
      "text/plain": [
       "<Figure size 720x480 with 1 Axes>"
      ]
     },
     "metadata": {
      "needs_background": "light"
     },
     "output_type": "display_data"
    }
   ],
   "source": [
    "NullFrac = []\n",
    "for i,row in expression_energy.iterrows():\n",
    "    Nnull = row.isnull().sum()\n",
    "    NullFrac.append(Nnull/len(row))\n",
    "fig = plt.figure(dpi=120)\n",
    "plt.hist(NullFrac, bins=100)\n",
    "plt.yscale('log')\n",
    "plt.title(\"Missing Value Dist of Genes\")\n",
    "plt.xlabel(\"Frac.of.Missing\")\n",
    "plt.ylabel(\"Log10 Freq\")\n",
    "plt.show()"
   ]
  },
  {
   "cell_type": "code",
   "execution_count": 10,
   "metadata": {
    "collapsed": true,
    "hidden": true,
    "jupyter": {
     "outputs_hidden": true,
     "source_hidden": true
    }
   },
   "outputs": [
    {
     "data": {
      "image/png": "[encoded data removed]",
      "text/plain": [
       "<Figure size 720x480 with 1 Axes>"
      ]
     },
     "metadata": {
      "needs_background": "light"
     },
     "output_type": "display_data"
    }
   ],
   "source": [
    "NullFrac = []\n",
    "for col in expression_energy.columns.values:\n",
    "    COL = expression_energy[col]\n",
    "    Nnull = COL.isnull().sum()\n",
    "    NullFrac.append(Nnull/len(COL))\n",
    "fig = plt.figure(dpi=120)\n",
    "plt.hist(NullFrac, bins=100)\n",
    "plt.yscale('log')\n",
    "plt.title(\"Missing Value Dist of STRs\")\n",
    "plt.xlabel(\"Frac.of.Missing\")\n",
    "plt.ylabel(\"Log10 Freq\")\n",
    "plt.show()"
   ]
  },
  {
   "cell_type": "markdown",
   "metadata": {},
   "source": [
    "## Calculate Matching Features"
   ]
  },
  {
   "cell_type": "code",
   "execution_count": 11,
   "metadata": {
    "jupyter": {
     "source_hidden": true
    }
   },
   "outputs": [],
   "source": [
    "expression_energy_mis0 = expression_energy.fillna(0)"
   ]
  },
  {
   "cell_type": "code",
   "execution_count": 4,
   "metadata": {
    "jupyter": {
     "source_hidden": true
    }
   },
   "outputs": [],
   "source": [
    "volumes_213 = []\n",
    "for STR in expression_energy.columns.values:\n",
    "    vol = STR_volume.loc[STR, \"VOLUME\"]\n",
    "    volumes_213.append(vol)\n",
    "volumes_213 = np.array(volumes_213)\n",
    "    #print(STR)"
   ]
  },
  {
   "cell_type": "code",
   "execution_count": 5,
   "metadata": {
    "jupyter": {
     "source_hidden": true
    }
   },
   "outputs": [],
   "source": [
    "g_exp_whole_brain = []\n",
    "writer = csv.writer(open(\"./dat/gene_match_features.csv\", 'wt'))\n",
    "writer.writerow([\"Entrez\", \"Exp.Volume.Weighted.Mean\", \"Exp.Volume.Weighted.Mean.Nan.to.0\", \n",
    "                 \"Exp.Mean.Nan.to.0\", \"Exp.Mean.Rm.Nan\"])\n",
    "for g, row in expression_energy.iterrows():\n",
    "    rep_na_zero = np.array(row.fillna(0).values)\n",
    "    rm_na = np.array([x for x in row.values if x==x])\n",
    "    \n",
    "    c_gexp = []; c_volume = []\n",
    "    for exp, vol in zip(row.values, volumes_213):\n",
    "        if exp == exp:\n",
    "            c_gexp.append(exp)\n",
    "            c_volume.append(vol)\n",
    "    c_gexp = np.array(c_gexp); c_volume = np.array(c_volume)\n",
    "    exp0 = np.sum(c_gexp * c_volume) / np.sum(c_volume)\n",
    "    exp1 = sum(rep_na_zero * volumes_213) / sum(volumes_213) # volume weighted\n",
    "    exp2 = np.mean(rep_na_zero) # just mean\n",
    "    exp3 = np.mean(rm_na) # ignore missing values\n",
    "    writer.writerow([g, exp0, exp1, exp2, exp3])"
   ]
  },
  {
   "cell_type": "code",
   "execution_count": 6,
   "metadata": {
    "jupyter": {
     "outputs_hidden": true,
     "source_hidden": true
    }
   },
   "outputs": [
    {
     "data": {
      "text/html": [
       "<div>\n",
       "<style scoped>\n",
       "    .dataframe tbody tr th:only-of-type {\n",
       "        vertical-align: middle;\n",
       "    }\n",
       "\n",
       "    .dataframe tbody tr th {\n",
       "        vertical-align: top;\n",
       "    }\n",
       "\n",
       "    .dataframe thead th {\n",
       "        text-align: right;\n",
       "    }\n",
       "</style>\n",
       "<table border=\"1\" class=\"dataframe\">\n",
       "  <thead>\n",
       "    <tr style=\"text-align: right;\">\n",
       "      <th></th>\n",
       "      <th>Entrez</th>\n",
       "      <th>Exp.Volume.Weighted.Mean</th>\n",
       "      <th>Exp.Volume.Weighted.Mean.Nan.to.0</th>\n",
       "      <th>Exp.Mean.Nan.to.0</th>\n",
       "      <th>Exp.Mean.Rm.Nan</th>\n",
       "    </tr>\n",
       "  </thead>\n",
       "  <tbody>\n",
       "    <tr>\n",
       "      <th>0</th>\n",
       "      <td>1</td>\n",
       "      <td>0.064841</td>\n",
       "      <td>0.060939</td>\n",
       "      <td>0.111468</td>\n",
       "      <td>0.116959</td>\n",
       "    </tr>\n",
       "    <tr>\n",
       "      <th>1</th>\n",
       "      <td>2</td>\n",
       "      <td>0.296199</td>\n",
       "      <td>0.295117</td>\n",
       "      <td>0.282343</td>\n",
       "      <td>0.283675</td>\n",
       "    </tr>\n",
       "  </tbody>\n",
       "</table>\n",
       "</div>"
      ],
      "text/plain": [
       "   Entrez  Exp.Volume.Weighted.Mean  Exp.Volume.Weighted.Mean.Nan.to.0  \\\n",
       "0       1                  0.064841                           0.060939   \n",
       "1       2                  0.296199                           0.295117   \n",
       "\n",
       "   Exp.Mean.Nan.to.0  Exp.Mean.Rm.Nan  \n",
       "0           0.111468         0.116959  \n",
       "1           0.282343         0.283675  "
      ]
     },
     "execution_count": 6,
     "metadata": {},
     "output_type": "execute_result"
    }
   ],
   "source": [
    "matching_features = pd.read_csv(\"./dat/gene_match_features.csv\")\n",
    "matching_features.head(2)"
   ]
  },
  {
   "cell_type": "code",
   "execution_count": 15,
   "metadata": {
    "collapsed": true,
    "jupyter": {
     "outputs_hidden": true,
     "source_hidden": true
    }
   },
   "outputs": [
    {
     "data": {
      "text/plain": [
       "[]"
      ]
     },
     "execution_count": 15,
     "metadata": {},
     "output_type": "execute_result"
    },
    {
     "data": {
      "image/png": "[encoded data removed]",
      "text/plain": [
       "<Figure size 480x480 with 1 Axes>"
      ]
     },
     "metadata": {
      "needs_background": "light"
     },
     "output_type": "display_data"
    }
   ],
   "source": [
    "x = matching_features[\"Exp.Mean.Nan.to.0\"].values\n",
    "y = matching_features[\"Exp.Mean.Rm.Nan\"].values \n",
    "plt.figure(dpi=120, figsize=(4,4))\n",
    "plt.scatter(x,y,s=1.5)\n",
    "plt.xlabel(\"Nan as 0\")\n",
    "plt.ylabel(\"Remove Nan\")\n",
    "r, p = pearsonr(x,y)\n",
    "plt.text(x=max(x)*0.1, y = max(y)*0.9, s=\"r=%.4f; p=%.4e\"%(r, p))\n",
    "plt.plot()"
   ]
  },
  {
   "cell_type": "code",
   "execution_count": 16,
   "metadata": {
    "collapsed": true,
    "jupyter": {
     "outputs_hidden": true,
     "source_hidden": true
    }
   },
   "outputs": [
    {
     "data": {
      "text/plain": [
       "[]"
      ]
     },
     "execution_count": 16,
     "metadata": {},
     "output_type": "execute_result"
    },
    {
     "data": {
      "image/png": "[encoded data removed]",
      "text/plain": [
       "<Figure size 480x480 with 1 Axes>"
      ]
     },
     "metadata": {
      "needs_background": "light"
     },
     "output_type": "display_data"
    }
   ],
   "source": [
    "x = matching_features[\"Exp.Mean.Nan.to.0\"].values\n",
    "y = matching_features[\"Exp.Volume.Weighted.Mean\"].values \n",
    "plt.figure(dpi=120, figsize=(4,4))\n",
    "plt.scatter(x,y,s=1.5)\n",
    "plt.xlabel(\"Mean of STR\")\n",
    "plt.ylabel(\"Weighted Mean of STR by Vol\")\n",
    "r, p = pearsonr(x,y)\n",
    "plt.text(x=max(x)*0.1, y = max(y)*0.9, s=\"r=%.4f; p=%.4e\"%(r, p))\n",
    "plt.plot()"
   ]
  },
  {
   "cell_type": "markdown",
   "metadata": {},
   "source": [
    "## Log and QuantileNorm, Expression Zscore Calculate"
   ]
  },
  {
   "cell_type": "code",
   "execution_count": 3,
   "metadata": {},
   "outputs": [],
   "source": [
    "df = pd.read_csv(\"../dat/allen-mouse-exp/jon/energy-conn-model-no_log-no_quant_norm.csv\", index_col=\"ROW\")\n",
    "df = df.fillna(0) # fill missing value with 0\n",
    "for c in df.columns.values:   \n",
    "    df[c] = np.log2(1+df[c])   # log2\n",
    "df = quantileNormalize(df)     # qt norm"
   ]
  },
  {
   "cell_type": "code",
   "execution_count": 4,
   "metadata": {},
   "outputs": [],
   "source": [
    "df.to_csv(\"../dat/allen-mouse-exp/new-energy-conn-model.csv\")"
   ]
  },
  {
   "cell_type": "code",
   "execution_count": 5,
   "metadata": {},
   "outputs": [],
   "source": [
    "df_z = []\n",
    "for i in df.index.values :\n",
    "    i_z = ZscoreConverting(df.loc[i,:].values)\n",
    "    df_z.append(i_z)\n",
    "df_z = pd.DataFrame(data=df_z, columns=df.columns.values, index=df.index.values)\n",
    "df_z.to_csv(\"../dat/allen-mouse-exp/new-energy-conn-zscore.csv\")"
   ]
  },
  {
   "cell_type": "markdown",
   "metadata": {},
   "source": [
    "## Expression Matching Genes"
   ]
  },
  {
   "cell_type": "code",
   "execution_count": 7,
   "metadata": {},
   "outputs": [],
   "source": [
    "# Load expressions\n",
    "match_feature = pd.read_csv(\"./dat/gene_match_features.csv\", index_col=\"Entrez\")\n",
    "match_feature = match_feature.sort_values(\"Exp.Volume.Weighted.Mean\")\n",
    "match_feature[\"Rank\"] = [1+x for x in range(match_feature.shape[0])] # compute Rank\n",
    "match_feature[\"quantile\"] = match_feature[\"Rank\"]/match_feature.shape[0]"
   ]
  },
  {
   "cell_type": "code",
   "execution_count": 12,
   "metadata": {},
   "outputs": [],
   "source": [
    "asd_agg = loadgenelist(\"../dat/genes/asd/agg.FDR0.2.txt\")\n",
    "df = ExpressionMatchGeneSet(asd_agg, match_feature, savefil=\"dat/matching/asd_agg_exp_matches_1000.new1.csv\")\n",
    "asd_asc = loadgenelist(\"../dat/genes/asd/asd.asc.entrez.list\")\n",
    "df = ExpressionMatchGeneSet(asd_asc, match_feature, savefil=\"dat/matching/asd_asc_exp_matches_1000.new1.csv\")\n",
    "asd_spark_tada = loadgenelist(\"../dat/genes/asd/asd.spark.tada.txt\")\n",
    "df = ExpressionMatchGeneSet(asd_spark_tada, match_feature, savefil=\"dat/matching/asd_sparktada_exp_matches_1000.new1.csv\")"
   ]
  },
  {
   "cell_type": "code",
   "execution_count": 9,
   "metadata": {},
   "outputs": [],
   "source": [
    "asd_agg = loadgenelist(\"../dat/genes/asd/agg.FDR0.2.txt\")\n",
    "df = ExpressionMatchGeneSet(asd_agg, match_feature, savefil=\"dat/matching/asd_agg_exp_matches_1000.new2.csv\")\n",
    "asd_asc = loadgenelist(\"../dat/genes/asd/asd.asc.entrez.list\")\n",
    "df = ExpressionMatchGeneSet(asd_asc, match_feature, savefil=\"dat/matching/asd_asc_exp_matches_1000.new2.csv\")\n",
    "asd_spark_tada = loadgenelist(\"../dat/genes/asd/asd.spark.tada.txt\")\n",
    "df = ExpressionMatchGeneSet(asd_spark_tada, match_feature, savefil=\"dat/matching/asd_sparktada_exp_matches_1000.new2.csv\")"
   ]
  },
  {
   "cell_type": "code",
   "execution_count": 10,
   "metadata": {},
   "outputs": [],
   "source": [
    "ssc_sibling = loadgenelist(\"../dat/genes/asd/asd.sib.entrez.list\")\n",
    "df = ExpressionMatchGeneSet(ssc_sibling, match_feature, savefil=\"dat/matching/asd_sib_exp_matches_1000.new1.csv\")\n",
    "df = ExpressionMatchGeneSet(ssc_sibling, match_feature, savefil=\"dat/matching/asd_sib_exp_matches_1000.new2.csv\")"
   ]
  },
  {
   "cell_type": "code",
   "execution_count": null,
   "metadata": {},
   "outputs": [],
   "source": [
    "ssc_sibling = loadgenelist(\"../dat/genes/asd/asd.sib.entrez.list\")\n",
    "df = ExpressionMatchGeneSet(ssc_sibling, match_feature, savefil=\"dat/matching/asd_sib_exp_matches_1000.new1.csv\")\n",
    "df = ExpressionMatchGeneSet(ssc_sibling, match_feature, savefil=\"dat/matching/asd_sib_exp_matches_1000.new2.csv\")"
   ]
  },
  {
   "cell_type": "code",
   "execution_count": 11,
   "metadata": {},
   "outputs": [],
   "source": [
    "tmp_sibling = [2200, 10522]\n",
    "df = ExpressionMatchGeneSet(tmp_sibling, match_feature, savefil=\"dat/matching/tmp_matches_1000.new1.csv\")\n",
    "df = ExpressionMatchGeneSet(tmp_sibling, match_feature, savefil=\"dat/matching/tmp_matches_1000.new2.csv\")"
   ]
  },
  {
   "cell_type": "code",
   "execution_count": null,
   "metadata": {},
   "outputs": [],
   "source": []
  }
 ],
 "metadata": {
  "kernelspec": {
   "display_name": "Python 3",
   "language": "python",
   "name": "python3"
  },
  "language_info": {
   "codemirror_mode": {
    "name": "ipython",
    "version": 3
   },
   "file_extension": ".py",
   "mimetype": "text/x-python",
   "name": "python",
   "nbconvert_exporter": "python",
   "pygments_lexer": "ipython3",
   "version": "3.7.1"
  }
 },
 "nbformat": 4,
 "nbformat_minor": 4
}
