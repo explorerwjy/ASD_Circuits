{
 "cells": [
  {
   "cell_type": "code",
   "execution_count": 1,
   "id": "77ad03de",
   "metadata": {},
   "outputs": [
    {
     "name": "stderr",
     "output_type": "stream",
     "text": [
      "/home/jw3514/anaconda3/lib/python3.9/site-packages/statsmodels/compat/pandas.py:61: FutureWarning: pandas.Int64Index is deprecated and will be removed from pandas in a future version. Use pandas.Index with the appropriate dtype instead.\n",
      "  from pandas import Int64Index as NumericIndex\n"
     ]
    }
   ],
   "source": [
    "%load_ext autoreload\n",
    "%autoreload 2\n",
    "import sys\n",
    "sys.path.insert(1, '/home/jw3514/Work/ASD_Circuits/src')\n",
    "from ASD_Circuits import *\n",
    "from tabulate import tabulate"
   ]
  },
  {
   "cell_type": "code",
   "execution_count": 5,
   "id": "08d9e99a",
   "metadata": {},
   "outputs": [
    {
     "name": "stderr",
     "output_type": "stream",
     "text": [
      "/tmp/ipykernel_3260590/1349915247.py:4: DtypeWarning: Columns (4) have mixed types. Specify dtype option on import or set low_memory=False.\n",
      "  BGMR = pd.read_csv(\"~/Work/Resources/MutationRate_20170710_rate.txt\", delimiter=\"\\t\")\n",
      "/tmp/ipykernel_3260590/1349915247.py:8: SettingWithCopyWarning: \n",
      "A value is trying to be set on a copy of a slice from a DataFrame.\n",
      "Try using .loc[row_indexer,col_indexer] = value instead\n",
      "\n",
      "See the caveats in the documentation: https://pandas.pydata.org/pandas-docs/stable/user_guide/indexing.html#returning-a-view-versus-a-copy\n",
      "  BGMR[\"Mutability_Dmg\"] = BGMR[\"p_LGD\"] + BGMR[\"prevel_0.5\"]\n",
      "/tmp/ipykernel_3260590/1349915247.py:9: SettingWithCopyWarning: \n",
      "A value is trying to be set on a copy of a slice from a DataFrame.\n",
      "Try using .loc[row_indexer,col_indexer] = value instead\n",
      "\n",
      "See the caveats in the documentation: https://pandas.pydata.org/pandas-docs/stable/user_guide/indexing.html#returning-a-view-versus-a-copy\n",
      "  BGMR[\"Mutability_syn\"] = BGMR[\"p_synonymous\"]\n"
     ]
    }
   ],
   "source": [
    "HGNC, ENSID2Entrez, GeneSymbol2Entrez, Entrez2Symbol, allen_mouse_genes = LoadGeneINFO()\n",
    "Z2Mat = pd.read_csv(\"../dat/allen-mouse-exp//AllenMouseBrain_Z2bias.csv\", index_col=0)\n",
    "allen_mouse_genes = Z2Mat.index.values\n",
    "BGMR = pd.read_csv(\"~/Work/Resources/MutationRate_20170710_rate.txt\", delimiter=\"\\t\")\n",
    "BGMR[\"Entrez\"] = [int(GeneSymbol2Entrez.get(x, -1)) for x in BGMR[\"GeneName\"].values]\n",
    "BGMR = BGMR[BGMR[\"Entrez\"].isin(allen_mouse_genes)]\n",
    "BGMR.index = BGMR[\"Entrez\"].values\n",
    "BGMR[\"Mutability_Dmg\"] = BGMR[\"p_LGD\"] + BGMR[\"prevel_0.5\"]\n",
    "BGMR[\"Mutability_syn\"] = BGMR[\"p_synonymous\"]"
   ]
  },
  {
   "cell_type": "code",
   "execution_count": 9,
   "id": "74216120",
   "metadata": {},
   "outputs": [
    {
     "data": {
      "text/html": [
       "<div>\n",
       "<style scoped>\n",
       "    .dataframe tbody tr th:only-of-type {\n",
       "        vertical-align: middle;\n",
       "    }\n",
       "\n",
       "    .dataframe tbody tr th {\n",
       "        vertical-align: top;\n",
       "    }\n",
       "\n",
       "    .dataframe thead th {\n",
       "        text-align: right;\n",
       "    }\n",
       "</style>\n",
       "<table border=\"1\" class=\"dataframe\">\n",
       "  <thead>\n",
       "    <tr style=\"text-align: right;\">\n",
       "      <th></th>\n",
       "      <th>#Reference</th>\n",
       "      <th>GeneVersion</th>\n",
       "      <th>Transcript.TranscriptVersion</th>\n",
       "      <th>ExonCount</th>\n",
       "      <th>Chr</th>\n",
       "      <th>StartPos</th>\n",
       "      <th>EndPos</th>\n",
       "      <th>GeneName</th>\n",
       "      <th>p_synonymous</th>\n",
       "      <th>p_misense</th>\n",
       "      <th>...</th>\n",
       "      <th>0.7</th>\n",
       "      <th>0.75</th>\n",
       "      <th>0.8</th>\n",
       "      <th>0.85</th>\n",
       "      <th>0.9</th>\n",
       "      <th>0.95</th>\n",
       "      <th>0.56</th>\n",
       "      <th>Entrez</th>\n",
       "      <th>Mutability_Dmg</th>\n",
       "      <th>Mutability_syn</th>\n",
       "    </tr>\n",
       "  </thead>\n",
       "  <tbody>\n",
       "    <tr>\n",
       "      <th>55344</th>\n",
       "      <td>&gt;hg19</td>\n",
       "      <td>wgEncodeGencodeBasicV19</td>\n",
       "      <td>ENST00000381657</td>\n",
       "      <td>5</td>\n",
       "      <td>X</td>\n",
       "      <td>200852</td>\n",
       "      <td>216005</td>\n",
       "      <td>PLCXD1</td>\n",
       "      <td>0.000008</td>\n",
       "      <td>0.000015</td>\n",
       "      <td>...</td>\n",
       "      <td>5.117010e-07</td>\n",
       "      <td>4.081868e-07</td>\n",
       "      <td>3.877915e-07</td>\n",
       "      <td>2.665134e-07</td>\n",
       "      <td>1.323599e-07</td>\n",
       "      <td>2.553236e-08</td>\n",
       "      <td>5.510965e-07</td>\n",
       "      <td>55344</td>\n",
       "      <td>0.000002</td>\n",
       "      <td>0.000008</td>\n",
       "    </tr>\n",
       "    <tr>\n",
       "      <th>28227</th>\n",
       "      <td>&gt;hg19</td>\n",
       "      <td>wgEncodeGencodeBasicV19</td>\n",
       "      <td>ENST00000390665</td>\n",
       "      <td>12</td>\n",
       "      <td>X</td>\n",
       "      <td>295099</td>\n",
       "      <td>347429</td>\n",
       "      <td>PPP2R3B</td>\n",
       "      <td>0.000017</td>\n",
       "      <td>0.000028</td>\n",
       "      <td>...</td>\n",
       "      <td>2.274970e-06</td>\n",
       "      <td>1.627129e-06</td>\n",
       "      <td>1.317029e-06</td>\n",
       "      <td>1.074042e-06</td>\n",
       "      <td>3.170196e-07</td>\n",
       "      <td>3.219619e-08</td>\n",
       "      <td>3.546518e-06</td>\n",
       "      <td>28227</td>\n",
       "      <td>0.000003</td>\n",
       "      <td>0.000017</td>\n",
       "    </tr>\n",
       "  </tbody>\n",
       "</table>\n",
       "<p>2 rows × 67 columns</p>\n",
       "</div>"
      ],
      "text/plain": [
       "      #Reference              GeneVersion Transcript.TranscriptVersion  \\\n",
       "55344      >hg19  wgEncodeGencodeBasicV19              ENST00000381657   \n",
       "28227      >hg19  wgEncodeGencodeBasicV19              ENST00000390665   \n",
       "\n",
       "       ExonCount Chr  StartPos  EndPos GeneName  p_synonymous  p_misense  ...  \\\n",
       "55344          5   X    200852  216005   PLCXD1      0.000008   0.000015  ...   \n",
       "28227         12   X    295099  347429  PPP2R3B      0.000017   0.000028  ...   \n",
       "\n",
       "                0.7          0.75           0.8          0.85           0.9  \\\n",
       "55344  5.117010e-07  4.081868e-07  3.877915e-07  2.665134e-07  1.323599e-07   \n",
       "28227  2.274970e-06  1.627129e-06  1.317029e-06  1.074042e-06  3.170196e-07   \n",
       "\n",
       "               0.95          0.56  Entrez  Mutability_Dmg  Mutability_syn  \n",
       "55344  2.553236e-08  5.510965e-07   55344        0.000002        0.000008  \n",
       "28227  3.219619e-08  3.546518e-06   28227        0.000003        0.000017  \n",
       "\n",
       "[2 rows x 67 columns]"
      ]
     },
     "execution_count": 9,
     "metadata": {},
     "output_type": "execute_result"
    }
   ],
   "source": [
    "BGMR.head(2)"
   ]
  },
  {
   "cell_type": "markdown",
   "id": "2f7c6da7",
   "metadata": {},
   "source": [
    "### Correlation between Mut Rate and Mut cont of Sibling"
   ]
  },
  {
   "cell_type": "code",
   "execution_count": 8,
   "id": "ef403e9e",
   "metadata": {},
   "outputs": [
    {
     "data": {
      "text/html": [
       "<div>\n",
       "<style scoped>\n",
       "    .dataframe tbody tr th:only-of-type {\n",
       "        vertical-align: middle;\n",
       "    }\n",
       "\n",
       "    .dataframe tbody tr th {\n",
       "        vertical-align: top;\n",
       "    }\n",
       "\n",
       "    .dataframe thead th {\n",
       "        text-align: right;\n",
       "    }\n",
       "</style>\n",
       "<table border=\"1\" class=\"dataframe\">\n",
       "  <thead>\n",
       "    <tr style=\"text-align: right;\">\n",
       "      <th></th>\n",
       "      <th>HGNC</th>\n",
       "      <th>Entrez</th>\n",
       "      <th>N_LGD</th>\n",
       "      <th>N_Mis</th>\n",
       "      <th>N_Dmis</th>\n",
       "      <th>N_Syn</th>\n",
       "    </tr>\n",
       "  </thead>\n",
       "  <tbody>\n",
       "    <tr>\n",
       "      <th>0</th>\n",
       "      <td>ZNF679</td>\n",
       "      <td>168417</td>\n",
       "      <td>0</td>\n",
       "      <td>2</td>\n",
       "      <td>0</td>\n",
       "      <td>0</td>\n",
       "    </tr>\n",
       "    <tr>\n",
       "      <th>1</th>\n",
       "      <td>ARHGAP12</td>\n",
       "      <td>94134</td>\n",
       "      <td>0</td>\n",
       "      <td>1</td>\n",
       "      <td>1</td>\n",
       "      <td>0</td>\n",
       "    </tr>\n",
       "  </tbody>\n",
       "</table>\n",
       "</div>"
      ],
      "text/plain": [
       "       HGNC  Entrez  N_LGD  N_Mis  N_Dmis  N_Syn\n",
       "0    ZNF679  168417      0      2       0      0\n",
       "1  ARHGAP12   94134      0      1       1      0"
      ]
     },
     "execution_count": 8,
     "metadata": {},
     "output_type": "execute_result"
    }
   ],
   "source": [
    "SiblingDF = pd.read_csv(\"../scripts/dat/ASD_Siblings.csv\")\n",
    "SiblingDF.head(2)"
   ]
  },
  {
   "cell_type": "code",
   "execution_count": 16,
   "id": "54f9219e",
   "metadata": {},
   "outputs": [],
   "source": [
    "Mut_rate = []\n",
    "Mut_count = []\n",
    "for i, row in SiblingDF.iterrows():\n",
    "    entrez = row[\"Entrez\"]\n",
    "    Muts = row[\"N_LGD\"] + row[\"N_Dmis\"]\n",
    "    #print(entrez)\n",
    "    if Muts > 0 and entrez in BGMR.index.values:\n",
    "        Mut_rate.append(BGMR.loc[entrez, \"Mutability_Dmg\"])\n",
    "        Mut_count.append(Muts)"
   ]
  },
  {
   "cell_type": "code",
   "execution_count": 20,
   "id": "71c0661f",
   "metadata": {},
   "outputs": [
    {
     "name": "stdout",
     "output_type": "stream",
     "text": [
      "1234\n"
     ]
    },
    {
     "data": {
      "text/plain": [
       "(0.41648219742771325, 5.897545827526664e-53)"
      ]
     },
     "execution_count": 20,
     "metadata": {},
     "output_type": "execute_result"
    },
    {
     "data": {
      "image/png": "[encoded data removed]",
      "text/plain": [
       "<Figure size 480x320 with 1 Axes>"
      ]
     },
     "metadata": {
      "needs_background": "light"
     },
     "output_type": "display_data"
    }
   ],
   "source": [
    "print(len(Mut_count))\n",
    "plt.scatter(Mut_count, Mut_rate)\n",
    "pearsonr(Mut_count, Mut_rate)"
   ]
  },
  {
   "cell_type": "markdown",
   "id": "68af182b",
   "metadata": {},
   "source": [
    "### Simulations"
   ]
  },
  {
   "cell_type": "code",
   "execution_count": 26,
   "id": "93ea740d",
   "metadata": {},
   "outputs": [],
   "source": [
    "meta = pd.read_csv(\"/home/jw3514/Work/ASD_Circuits/scripts/dat/meta_denovo_simulations.csv\", \n",
    "                   index_col=\"index\")"
   ]
  },
  {
   "cell_type": "code",
   "execution_count": 27,
   "id": "cb789859",
   "metadata": {},
   "outputs": [
    {
     "data": {
      "text/html": [
       "<div>\n",
       "<style scoped>\n",
       "    .dataframe tbody tr th:only-of-type {\n",
       "        vertical-align: middle;\n",
       "    }\n",
       "\n",
       "    .dataframe tbody tr th {\n",
       "        vertical-align: top;\n",
       "    }\n",
       "\n",
       "    .dataframe thead th {\n",
       "        text-align: right;\n",
       "    }\n",
       "</style>\n",
       "<table border=\"1\" class=\"dataframe\">\n",
       "  <thead>\n",
       "    <tr style=\"text-align: right;\">\n",
       "      <th></th>\n",
       "      <th>1</th>\n",
       "      <th>2</th>\n",
       "      <th>131076</th>\n",
       "      <th>12</th>\n",
       "      <th>13</th>\n",
       "      <th>14</th>\n",
       "      <th>15</th>\n",
       "      <th>16</th>\n",
       "      <th>18</th>\n",
       "      <th>163859</th>\n",
       "      <th>...</th>\n",
       "      <th>196513</th>\n",
       "      <th>196527</th>\n",
       "      <th>196528</th>\n",
       "      <th>196541</th>\n",
       "      <th>163782</th>\n",
       "      <th>163786</th>\n",
       "      <th>6503</th>\n",
       "      <th>131034</th>\n",
       "      <th>327657</th>\n",
       "      <th>201895</th>\n",
       "    </tr>\n",
       "    <tr>\n",
       "      <th>index</th>\n",
       "      <th></th>\n",
       "      <th></th>\n",
       "      <th></th>\n",
       "      <th></th>\n",
       "      <th></th>\n",
       "      <th></th>\n",
       "      <th></th>\n",
       "      <th></th>\n",
       "      <th></th>\n",
       "      <th></th>\n",
       "      <th></th>\n",
       "      <th></th>\n",
       "      <th></th>\n",
       "      <th></th>\n",
       "      <th></th>\n",
       "      <th></th>\n",
       "      <th></th>\n",
       "      <th></th>\n",
       "      <th></th>\n",
       "      <th></th>\n",
       "      <th></th>\n",
       "    </tr>\n",
       "  </thead>\n",
       "  <tbody>\n",
       "    <tr>\n",
       "      <th>0</th>\n",
       "      <td>0,0</td>\n",
       "      <td>0,1</td>\n",
       "      <td>0,0</td>\n",
       "      <td>0,0</td>\n",
       "      <td>0,0</td>\n",
       "      <td>0,0</td>\n",
       "      <td>0,0</td>\n",
       "      <td>0,0</td>\n",
       "      <td>0,1</td>\n",
       "      <td>1,0</td>\n",
       "      <td>...</td>\n",
       "      <td>0,0</td>\n",
       "      <td>0,0</td>\n",
       "      <td>0,0</td>\n",
       "      <td>0,0</td>\n",
       "      <td>0,0</td>\n",
       "      <td>0,0</td>\n",
       "      <td>0,0</td>\n",
       "      <td>0,0</td>\n",
       "      <td>0,0</td>\n",
       "      <td>0,0</td>\n",
       "    </tr>\n",
       "    <tr>\n",
       "      <th>1</th>\n",
       "      <td>0,0</td>\n",
       "      <td>0,0</td>\n",
       "      <td>0,0</td>\n",
       "      <td>0,0</td>\n",
       "      <td>0,0</td>\n",
       "      <td>0,0</td>\n",
       "      <td>0,0</td>\n",
       "      <td>1,0</td>\n",
       "      <td>0,1</td>\n",
       "      <td>0,0</td>\n",
       "      <td>...</td>\n",
       "      <td>0,0</td>\n",
       "      <td>0,0</td>\n",
       "      <td>0,0</td>\n",
       "      <td>0,0</td>\n",
       "      <td>0,0</td>\n",
       "      <td>0,0</td>\n",
       "      <td>0,0</td>\n",
       "      <td>0,1</td>\n",
       "      <td>0,0</td>\n",
       "      <td>0,0</td>\n",
       "    </tr>\n",
       "  </tbody>\n",
       "</table>\n",
       "<p>2 rows × 13752 columns</p>\n",
       "</div>"
      ],
      "text/plain": [
       "         1    2 131076   12   13   14   15   16   18 163859  ... 196513  \\\n",
       "index                                                        ...          \n",
       "0      0,0  0,1    0,0  0,0  0,0  0,0  0,0  0,0  0,1    1,0  ...    0,0   \n",
       "1      0,0  0,0    0,0  0,0  0,0  0,0  0,0  1,0  0,1    0,0  ...    0,0   \n",
       "\n",
       "      196527 196528 196541 163782 163786 6503 131034 327657 201895  \n",
       "index                                                               \n",
       "0        0,0    0,0    0,0    0,0    0,0  0,0    0,0    0,0    0,0  \n",
       "1        0,0    0,0    0,0    0,0    0,0  0,0    0,1    0,0    0,0  \n",
       "\n",
       "[2 rows x 13752 columns]"
      ]
     },
     "execution_count": 27,
     "metadata": {},
     "output_type": "execute_result"
    }
   ],
   "source": [
    "meta.head(2)"
   ]
  },
  {
   "cell_type": "code",
   "execution_count": 40,
   "id": "d31ab726",
   "metadata": {
    "scrolled": false
   },
   "outputs": [
    {
     "name": "stdout",
     "output_type": "stream",
     "text": [
      "2680\n",
      "(0.5524543134542409, 4.9066721256639954e-214)\n"
     ]
    },
    {
     "data": {
      "image/png": "[encoded data removed]",
      "text/plain": [
       "<Figure size 480x320 with 1 Axes>"
      ]
     },
     "metadata": {
      "needs_background": "light"
     },
     "output_type": "display_data"
    },
    {
     "name": "stdout",
     "output_type": "stream",
     "text": [
      "2622\n",
      "(0.5141661127070426, 6.419811342711156e-177)\n"
     ]
    },
    {
     "data": {
      "image/png": "[encoded data removed]",
      "text/plain": [
       "<Figure size 480x320 with 1 Axes>"
      ]
     },
     "metadata": {
      "needs_background": "light"
     },
     "output_type": "display_data"
    },
    {
     "name": "stdout",
     "output_type": "stream",
     "text": [
      "2623\n",
      "(0.5246723060281221, 1.677422782141305e-185)\n"
     ]
    },
    {
     "data": {
      "image/png": "[encoded data removed]",
      "text/plain": [
       "<Figure size 480x320 with 1 Axes>"
      ]
     },
     "metadata": {
      "needs_background": "light"
     },
     "output_type": "display_data"
    },
    {
     "name": "stdout",
     "output_type": "stream",
     "text": [
      "2736\n",
      "(0.5424840373969825, 3.3246572270600715e-209)\n"
     ]
    },
    {
     "data": {
      "image/png": "[encoded data removed]",
      "text/plain": [
       "<Figure size 480x320 with 1 Axes>"
      ]
     },
     "metadata": {
      "needs_background": "light"
     },
     "output_type": "display_data"
    },
    {
     "name": "stdout",
     "output_type": "stream",
     "text": [
      "2762\n",
      "(0.4997723876371246, 1.7724046034517161e-174)\n"
     ]
    },
    {
     "data": {
      "image/png": "[encoded data removed]",
      "text/plain": [
       "<Figure size 480x320 with 1 Axes>"
      ]
     },
     "metadata": {
      "needs_background": "light"
     },
     "output_type": "display_data"
    },
    {
     "name": "stdout",
     "output_type": "stream",
     "text": [
      "2614\n",
      "(0.5489101173592293, 1.2455354733258937e-205)\n"
     ]
    },
    {
     "data": {
      "image/png": "[encoded data removed]",
      "text/plain": [
       "<Figure size 480x320 with 1 Axes>"
      ]
     },
     "metadata": {
      "needs_background": "light"
     },
     "output_type": "display_data"
    },
    {
     "name": "stdout",
     "output_type": "stream",
     "text": [
      "2516\n",
      "(0.5325550264864957, 2.4783037772146957e-184)\n"
     ]
    },
    {
     "data": {
      "image/png": "[encoded data removed]",
      "text/plain": [
       "<Figure size 480x320 with 1 Axes>"
      ]
     },
     "metadata": {
      "needs_background": "light"
     },
     "output_type": "display_data"
    }
   ],
   "source": [
    "def xxx(genes, values, BGMR):\n",
    "    \n",
    "    Mut_rate = []\n",
    "    Mut_count = []\n",
    "    for entrez, value in zip(genes, values):\n",
    "        #print(entrez, value)\n",
    "        Muts = np.sum([int(x) for x in value.split(\",\")])\n",
    "        #print(Muts)\n",
    "        if Muts > 0 and int(entrez) in BGMR.index.values:\n",
    "            Mut_rate.append(BGMR.loc[int(entrez), \"Mutability_Dmg\"])\n",
    "            Mut_count.append(Muts)\n",
    "    print(len(Mut_count))\n",
    "    plt.scatter(Mut_count, Mut_rate)\n",
    "    print(pearsonr(Mut_count, Mut_rate))\n",
    "    plt.show()\n",
    "    \n",
    "for i, row in meta.iterrows():\n",
    "    xxx(meta.columns, row, BGMR)\n",
    "    if i > 5:\n",
    "        break"
   ]
  },
  {
   "cell_type": "code",
   "execution_count": null,
   "id": "662ab390",
   "metadata": {},
   "outputs": [],
   "source": []
  }
 ],
 "metadata": {
  "kernelspec": {
   "display_name": "Python 3 (ipykernel)",
   "language": "python",
   "name": "python3"
  },
  "language_info": {
   "codemirror_mode": {
    "name": "ipython",
    "version": 3
   },
   "file_extension": ".py",
   "mimetype": "text/x-python",
   "name": "python",
   "nbconvert_exporter": "python",
   "pygments_lexer": "ipython3",
   "version": "3.9.12"
  }
 },
 "nbformat": 4,
 "nbformat_minor": 5
}
