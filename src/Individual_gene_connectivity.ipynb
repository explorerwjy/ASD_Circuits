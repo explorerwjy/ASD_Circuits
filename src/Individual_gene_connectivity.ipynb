{
 "cells": [
  {
   "cell_type": "code",
   "execution_count": 108,
   "metadata": {},
   "outputs": [
    {
     "name": "stdout",
     "output_type": "stream",
     "text": [
      "The autoreload extension is already loaded. To reload it, use:\n",
      "  %reload_ext autoreload\n"
     ]
    }
   ],
   "source": [
    "%load_ext autoreload\n",
    "%autoreload 2\n",
    "from ASD_Circuits import *"
   ]
  },
  {
   "cell_type": "code",
   "execution_count": 3,
   "metadata": {},
   "outputs": [
    {
     "name": "stderr",
     "output_type": "stream",
     "text": [
      "/Users/jiayao/anaconda3/lib/python3.7/site-packages/IPython/core/interactiveshell.py:3020: DtypeWarning: Columns (38,48) have mixed types. Specify dtype option on import or set low_memory=False.\n",
      "  interactivity=interactivity, compiler=compiler, result=result)\n"
     ]
    }
   ],
   "source": [
    "HGNC = pd.read_csv(\"/Users/jiayao/Work/Resources/protein-coding_gene.txt\", delimiter=\"\\t\")\n",
    "ENSID2Entrez = dict(zip(HGNC[\"ensembl_gene_id\"].values, HGNC[\"entrez_id\"].values))\n",
    "GeneSymbol2Entrez = dict(zip(HGNC[\"symbol\"].values, HGNC[\"entrez_id\"].values))\n",
    "Entrez2Symbol = dict(zip(HGNC[\"entrez_id\"].values, HGNC[\"symbol\"].values))\n",
    "allen_mouse_genes = loadgenelist(\"../dat/allen-mouse-exp/allen-mouse-gene_entrez.txt\")"
   ]
  },
  {
   "cell_type": "code",
   "execution_count": 4,
   "metadata": {},
   "outputs": [],
   "source": [
    "# Load Exp Zscore Matrix\n",
    "ExpMat = \"../dat/allen-mouse-exp/energy-conn-model.csv\"\n",
    "ExpMat = pd.read_csv(ExpMat, index_col=\"ROW\")\n",
    "\n",
    "ExpZscoreMat = \"../dat/allen-mouse-exp/energy-zscore-conn-model.csv\"\n",
    "ExpZscoreMat = pd.read_csv(ExpZscoreMat, index_col=\"ROW\")\n",
    "allen_mouse_genes = loadgenelist(\"/Users/jiayao/Work/ASD_Circuits/dat/allen-mouse-exp/allen-mouse-gene_entrez.txt\")"
   ]
  },
  {
   "cell_type": "code",
   "execution_count": 5,
   "metadata": {},
   "outputs": [],
   "source": [
    "graph = LoadConnectome2()"
   ]
  },
  {
   "cell_type": "code",
   "execution_count": 6,
   "metadata": {},
   "outputs": [],
   "source": [
    "# ASC\n",
    "asc_zmatch = pd.read_csv(\"dat/bias/asd.asc.zmatch.rank.csv\", index_col=\"STR\")\n",
    "asc_zmatch_top50_str = asc_zmatch.head(50).index.values\n",
    "asc_zmatch_sg = pd.read_csv(\"dat/bias/asd.asc.zmatch.sg.csv\")\n",
    "asc_zmatch_sg = asc_zmatch_sg.set_index(\"STR\")"
   ]
  },
  {
   "cell_type": "code",
   "execution_count": 7,
   "metadata": {},
   "outputs": [
    {
     "name": "stdout",
     "output_type": "stream",
     "text": [
      "(3.2391005589352804e-06, 0.20619235836627142, 0.16080710572913692)\n"
     ]
    }
   ],
   "source": [
    "p_bin = Agg_vs_Indv_gene_Binomial_Test_Cohesiveness(graph, asc_zmatch, asc_zmatch_sg)\n",
    "print(p_bin)"
   ]
  },
  {
   "cell_type": "code",
   "execution_count": 114,
   "metadata": {},
   "outputs": [
    {
     "data": {
      "image/png": "[encoded data removed]",
      "text/plain": [
       "<Figure size 480x320 with 1 Axes>"
      ]
     },
     "metadata": {
      "needs_background": "light"
     },
     "output_type": "display_data"
    }
   ],
   "source": [
    "Agg_vs_Indv_gene_PermutationLikeCohesiveness(graph, asc_zmatch, asc_zmatch_sg)"
   ]
  },
  {
   "cell_type": "code",
   "execution_count": 8,
   "metadata": {},
   "outputs": [],
   "source": [
    "asc_elevel = pd.read_csv(\"dat/bias/asc.explevel.rank.tsv\", index_col=\"STR\")\n",
    "asc_elevel_top50_str = asc_elevel.head(50).index.values\n",
    "asc_elevel_sg = pd.read_csv(\"dat/bias/asc.elevel.sg.csv\")\n",
    "asc_elevel_sg = asc_elevel_sg.set_index(\"STR\")"
   ]
  },
  {
   "cell_type": "code",
   "execution_count": 9,
   "metadata": {},
   "outputs": [
    {
     "name": "stdout",
     "output_type": "stream",
     "text": [
      "(5.172916904175694e-10, 0.22294500295683028, 0.1646338483450043)\n"
     ]
    }
   ],
   "source": [
    "p_bin = Agg_vs_Indv_gene_Binomial_Test_Cohesiveness(graph, asc_elevel, asc_elevel_sg)\n",
    "print(p_bin)"
   ]
  },
  {
   "cell_type": "code",
   "execution_count": 113,
   "metadata": {},
   "outputs": [
    {
     "data": {
      "image/png": "[encoded data removed]",
      "text/plain": [
       "<Figure size 480x320 with 1 Axes>"
      ]
     },
     "metadata": {
      "needs_background": "light"
     },
     "output_type": "display_data"
    }
   ],
   "source": [
    "Agg_vs_Indv_gene_PermutationLikeCohesiveness(graph, asc_elevel, asc_elevel_sg)"
   ]
  },
  {
   "cell_type": "code",
   "execution_count": 10,
   "metadata": {},
   "outputs": [],
   "source": [
    "# TADA \n",
    "tada_zmatch = pd.read_csv(\"dat/bias/asd.tada.zmatch.rank.csv\", index_col=\"STR\")\n",
    "tada_zmatch_top50_str = tada_zmatch.head(50).index.values\n",
    "tada_zmatch_sg = pd.read_csv(\"dat/bias/asd.tada.zmatch.sg.csv\")\n",
    "tada_zmatch_sg = tada_zmatch_sg.set_index(\"STR\")"
   ]
  },
  {
   "cell_type": "code",
   "execution_count": 11,
   "metadata": {},
   "outputs": [
    {
     "name": "stdout",
     "output_type": "stream",
     "text": [
      "(2.5798951753619556e-05, 0.19803801348865727, 0.15872981869854258)\n"
     ]
    }
   ],
   "source": [
    "p_bin = Agg_vs_Indv_gene_Binomial_Test_Cohesiveness(graph, tada_zmatch, tada_zmatch_sg)\n",
    "print(p_bin)"
   ]
  },
  {
   "cell_type": "code",
   "execution_count": 12,
   "metadata": {},
   "outputs": [],
   "source": [
    "tada_elevel = pd.read_csv(\"dat/bias/tada.explevel.rank.tsv\", index_col=\"STR\")\n",
    "tada_elevel_top50_str = tada_elevel.head(50).index.values\n",
    "tada_elevel_sg = pd.read_csv(\"dat/bias/tada.elevel.sg.csv\")\n",
    "tada_elevel_sg = tada_elevel_sg.set_index(\"STR\")"
   ]
  },
  {
   "cell_type": "code",
   "execution_count": 13,
   "metadata": {},
   "outputs": [
    {
     "name": "stdout",
     "output_type": "stream",
     "text": [
      "(0.02979969768917129, 0.1846932321315623, 0.1642346448133127)\n"
     ]
    }
   ],
   "source": [
    "p_bin = Agg_vs_Indv_gene_Binomial_Test_Cohesiveness(graph, tada_elevel, tada_elevel_sg)\n",
    "print(p_bin)"
   ]
  },
  {
   "cell_type": "code",
   "execution_count": 14,
   "metadata": {},
   "outputs": [],
   "source": [
    "# SPARK\n",
    "spark_zmatch = pd.read_csv(\"dat/bias/asd.spark.zmatch.rank.csv\", index_col=\"STR\")\n",
    "spark_zmatch_top50_str = asc_zmatch.head(50).index.values\n",
    "spark_zmatch_sg = pd.read_csv(\"dat/bias/asd.spark.zmatch.sg.csv\")\n",
    "spark_zmatch_sg = spark_zmatch_sg.set_index(\"STR\")"
   ]
  },
  {
   "cell_type": "code",
   "execution_count": 15,
   "metadata": {},
   "outputs": [
    {
     "name": "stdout",
     "output_type": "stream",
     "text": [
      "(0.3253513356683635, 0.14752851711026616, 0.1576819661750599)\n"
     ]
    }
   ],
   "source": [
    "p_bin = Agg_vs_Indv_gene_Binomial_Test_Cohesiveness(graph, spark_zmatch, spark_zmatch_sg)\n",
    "print(p_bin)"
   ]
  },
  {
   "cell_type": "code",
   "execution_count": 16,
   "metadata": {},
   "outputs": [],
   "source": [
    "spark_elevel = pd.read_csv(\"dat/bias/spark.explevel.rank.tsv\", index_col=\"STR\")\n",
    "spark_elevel_top50_str = spark_elevel.head(50).index.values\n",
    "spark_elevel_sg = pd.read_csv(\"dat/bias/spark.elevel.sg.csv\")\n",
    "spark_elevel_sg = spark_elevel_sg.set_index(\"STR\")"
   ]
  },
  {
   "cell_type": "code",
   "execution_count": 105,
   "metadata": {},
   "outputs": [
    {
     "name": "stdout",
     "output_type": "stream",
     "text": [
      "(0.3253513356683635, 0.14752851711026616, 0.1576819661750599)\n"
     ]
    }
   ],
   "source": [
    "p_bin = Agg_vs_Indv_gene_Binomial_Test_Cohesiveness(graph, spark_zmatch, spark_zmatch_sg)\n",
    "print(p_bin)"
   ]
  },
  {
   "cell_type": "code",
   "execution_count": 104,
   "metadata": {},
   "outputs": [],
   "source": [
    "# SPARK tada\n",
    "spark_elevel = pd.read_csv(\"dat/bias/sparktada.explevel.rank.tsv\", index_col=\"STR\")\n",
    "spark_elevel_top50_str = spark_elevel.head(50).index.values\n",
    "spark_elevel_sg = pd.read_csv(\"dat/bias/sparktada.elevel.sg.csv\")\n",
    "spark_elevel_sg = spark_elevel_sg.set_index(\"STR\")"
   ]
  },
  {
   "cell_type": "code",
   "execution_count": 106,
   "metadata": {},
   "outputs": [
    {
     "name": "stdout",
     "output_type": "stream",
     "text": [
      "(2.0072539974113288e-05, 0.20608317815021726, 0.16543255505709625)\n"
     ]
    }
   ],
   "source": [
    "p_bin = Agg_vs_Indv_gene_Binomial_Test_Cohesiveness(graph, spark_elevel, spark_elevel_sg)\n",
    "print(p_bin)"
   ]
  },
  {
   "cell_type": "code",
   "execution_count": 112,
   "metadata": {},
   "outputs": [
    {
     "data": {
      "image/png": "[encoded data removed]",
      "text/plain": [
       "<Figure size 480x320 with 1 Axes>"
      ]
     },
     "metadata": {
      "needs_background": "light"
     },
     "output_type": "display_data"
    }
   ],
   "source": [
    "Agg_vs_Indv_gene_PermutationLikeCohesiveness(graph, spark_elevel, spark_elevel_sg)"
   ]
  },
  {
   "cell_type": "code",
   "execution_count": 18,
   "metadata": {},
   "outputs": [],
   "source": [
    "# SIB\n",
    "sib_zmatch = pd.read_csv(\"dat/bias/asd.sib.zmatch.rank.csv\", index_col=\"STR\")\n",
    "sib_zmatch_top50_str = sib_zmatch.head(50).index.values\n",
    "sib_zmatch_sg = pd.read_csv(\"dat/bias/asd.sib.zmatch.sg.csv\")\n",
    "sib_zmatch_sg = sib_zmatch_sg.set_index(\"STR\")"
   ]
  },
  {
   "cell_type": "code",
   "execution_count": 19,
   "metadata": {},
   "outputs": [
    {
     "name": "stdout",
     "output_type": "stream",
     "text": [
      "(6.919622722886064e-07, 0.10373066424021839, 0.15572449401663077)\n"
     ]
    }
   ],
   "source": [
    "p_bin = Agg_vs_Indv_gene_Binomial_Test_Cohesiveness(graph, sib_zmatch, sib_zmatch_sg)\n",
    "print(p_bin)"
   ]
  },
  {
   "cell_type": "code",
   "execution_count": 20,
   "metadata": {},
   "outputs": [],
   "source": [
    "# SIB\n",
    "sib_elevel = pd.read_csv(\"dat/bias/sib.explevel.rank.tsv\", index_col=\"STR\")\n",
    "sib_elevel_top50_str = sib_elevel.head(50).index.values\n",
    "sib_elevel_sg = pd.read_csv(\"dat/bias/sib.elevel.sg.csv\")\n",
    "sib_elevel_sg = sib_elevel_sg.set_index(\"STR\")"
   ]
  },
  {
   "cell_type": "code",
   "execution_count": 21,
   "metadata": {},
   "outputs": [
    {
     "name": "stdout",
     "output_type": "stream",
     "text": [
      "(8.035549982748785e-28, 0.04520990312163617, 0.1600619153426757)\n"
     ]
    }
   ],
   "source": [
    "p_bin = Agg_vs_Indv_gene_Binomial_Test_Cohesiveness(graph, sib_elevel, sib_elevel_sg)\n",
    "print(p_bin)"
   ]
  },
  {
   "cell_type": "code",
   "execution_count": 115,
   "metadata": {},
   "outputs": [
    {
     "data": {
      "image/png": "[encoded data removed]",
      "text/plain": [
       "<Figure size 480x320 with 1 Axes>"
      ]
     },
     "metadata": {
      "needs_background": "light"
     },
     "output_type": "display_data"
    }
   ],
   "source": [
    "Agg_vs_Indv_gene_PermutationLikeCohesiveness(graph, sib_elevel, sib_elevel_sg)"
   ]
  },
  {
   "cell_type": "markdown",
   "metadata": {},
   "source": [
    "### Compare ASC genes and sibling genes"
   ]
  },
  {
   "cell_type": "code",
   "execution_count": 31,
   "metadata": {},
   "outputs": [],
   "source": [
    "asc_elevel_avg_top50_bias = []\n",
    "asc_elevel_N_str_gt_1 = []\n",
    "for c in asc_elevel_sg.columns.values:\n",
    "    dat = asc_elevel_sg[c]\n",
    "    top50 = dat.sort_values(ascending=False).index[:50]\n",
    "    top50_bias = dat.sort_values(ascending=False).values[:50]\n",
    "    asc_elevel_avg_top50_bias.append(np.mean(top50_bias))\n",
    "    asc_elevel_N_str_gt_1.append(len([x for x in dat if x > 1]))"
   ]
  },
  {
   "cell_type": "code",
   "execution_count": 34,
   "metadata": {},
   "outputs": [],
   "source": [
    "sib_elevel_avg_top50_bias = []\n",
    "sib_elevel_N_str_gt_1 = []\n",
    "for c in sib_elevel_sg.columns.values:\n",
    "    dat = sib_elevel_sg[c]\n",
    "    top50 = dat.sort_values(ascending=False).index[:50]\n",
    "    top50_bias = dat.sort_values(ascending=False).values[:50]\n",
    "    sib_elevel_avg_top50_bias.append(np.mean(top50_bias))\n",
    "    sib_elevel_N_str_gt_1.append(len([x for x in dat if x > 1]))"
   ]
  },
  {
   "cell_type": "code",
   "execution_count": 69,
   "metadata": {},
   "outputs": [
    {
     "name": "stdout",
     "output_type": "stream",
     "text": [
      "1.0977701574825054 1.2145389974105323\n",
      "MannwhitneyuResult(statistic=43474.0, pvalue=0.001997665849750269)\n"
     ]
    },
    {
     "data": {
      "image/png": "[encoded data removed]",
      "text/plain": [
       "<Figure size 432x288 with 1 Axes>"
      ]
     },
     "metadata": {
      "needs_background": "light"
     },
     "output_type": "display_data"
    }
   ],
   "source": [
    "plt.hist(asc_elevel_avg_top50_bias, bins=20, color=\"blue\", alpha=0.5, label=\"asc_elevel\", density=1)\n",
    "plt.hist(sib_elevel_avg_top50_bias, bins=20, color=\"red\", alpha=0.5, label=\"sib_elevel\", density=1)\n",
    "print(np.mean(asc_elevel_avg_top50_bias), np.mean(sib_elevel_avg_top50_bias))\n",
    "print(mannwhitneyu(asc_elevel_avg_top50_bias, sib_elevel_avg_top50_bias))\n",
    "plt.legend()\n",
    "plt.title(\"avg top50 str bias\")\n",
    "plt.show()"
   ]
  },
  {
   "cell_type": "code",
   "execution_count": 73,
   "metadata": {},
   "outputs": [
    {
     "name": "stdout",
     "output_type": "stream",
     "text": [
      "20.612244897959183 21.845724907063197\n",
      "MannwhitneyuResult(statistic=48959.0, pvalue=0.12057050605952863)\n"
     ]
    },
    {
     "data": {
      "image/png": "[encoded data removed]",
      "text/plain": [
       "<Figure size 432x288 with 1 Axes>"
      ]
     },
     "metadata": {
      "needs_background": "light"
     },
     "output_type": "display_data"
    }
   ],
   "source": [
    "plt.hist(asc_elevel_N_str_gt_1, bins=10, density=1, color=\"blue\", alpha=0.5, label=\"asc_elevel\")\n",
    "plt.hist(sib_elevel_N_str_gt_1, bins=50, density=1, color=\"red\", alpha=0.5, label=\"sib_elevel\")\n",
    "print(np.mean(asc_elevel_N_str_gt_1), np.mean(sib_elevel_N_str_gt_1))\n",
    "print(mannwhitneyu(asc_elevel_N_str_gt_1, sib_elevel_N_str_gt_1))\n",
    "plt.legend()\n",
    "plt.title(\"number of biased STR (z>1) per gene\")\n",
    "plt.show()"
   ]
  },
  {
   "cell_type": "code",
   "execution_count": 65,
   "metadata": {},
   "outputs": [],
   "source": [
    "# pairwise correlation\n",
    "asc_elevel_sg_pairwise_corr = []\n",
    "for g1, g2 in itertools.combinations(asc_elevel_sg.columns.values, 2):\n",
    "    #print(g1, g2)\n",
    "    #break\n",
    "    g1_top50_bias = asc_elevel_sg.loc[asc_elevel_top50_str, g1]\n",
    "    g2_top50_bias = asc_elevel_sg.loc[asc_elevel_top50_str, g2]\n",
    "    r = 0\n",
    "    for x1, x2 in zip(g1_top50_bias, g2_top50_bias):\n",
    "        if x1 > 0 and x2 > 0:\n",
    "            r += 1\n",
    "    #r, p = spearmanr(g1_top50_bias, g2_top50_bias)\n",
    "    if r == r:\n",
    "        asc_elevel_sg_pairwise_corr.append(r)"
   ]
  },
  {
   "cell_type": "code",
   "execution_count": 66,
   "metadata": {},
   "outputs": [],
   "source": [
    "# pairwise correlation\n",
    "sib_elevel_sg_pairwise_corr = []\n",
    "for g1, g2 in itertools.combinations(sib_elevel_sg.columns.values[:100], 2):\n",
    "    #print(g1, g2)\n",
    "    #break\n",
    "    g1_top50_bias = sib_elevel_sg.loc[sib_elevel_top50_str, g1]\n",
    "    g2_top50_bias = sib_elevel_sg.loc[sib_elevel_top50_str, g2]\n",
    "    #r, p = spearmanr(g1_top50_bias, g2_top50_bias)\n",
    "    r = 0\n",
    "    for x1, x2 in zip(g1_top50_bias, g2_top50_bias):\n",
    "        if x1 > 0 and x2 > 0:\n",
    "            r += 1\n",
    "    if r == r:\n",
    "        sib_elevel_sg_pairwise_corr.append(r)"
   ]
  },
  {
   "cell_type": "code",
   "execution_count": 101,
   "metadata": {},
   "outputs": [
    {
     "name": "stdout",
     "output_type": "stream",
     "text": [
      "11.440563854407742 7.094545454545455\n",
      "MannwhitneyuResult(statistic=9047436.5, pvalue=6.669390043005259e-87)\n"
     ]
    },
    {
     "data": {
      "image/png": "[encoded data removed]",
      "text/plain": [
       "<Figure size 432x288 with 1 Axes>"
      ]
     },
     "metadata": {
      "needs_background": "light"
     },
     "output_type": "display_data"
    }
   ],
   "source": [
    "plt.hist(asc_elevel_sg_pairwise_corr, density=1, color=\"blue\", alpha=0.5, label=\"asc_elevel\")\n",
    "plt.hist(sib_elevel_sg_pairwise_corr, density=1, color=\"red\", alpha=0.5, label=\"sib_elevel\")\n",
    "print(np.mean(asc_elevel_sg_pairwise_corr), np.mean(sib_elevel_sg_pairwise_corr))\n",
    "print(mannwhitneyu(asc_elevel_sg_pairwise_corr, sib_elevel_sg_pairwise_corr))\n",
    "plt.title(\"Number of positive bias among top50 per gene\")\n",
    "plt.legend()\n",
    "plt.show()"
   ]
  },
  {
   "cell_type": "code",
   "execution_count": 93,
   "metadata": {},
   "outputs": [],
   "source": [
    "# N STR has positive bias among top50\n",
    "asc_N_STR_Pos_bias_top50 = []\n",
    "#MoreCommenSTRs = \n",
    "for g in asc_elevel_sg.columns.values:\n",
    "    top50_bias = asc_elevel_sg.loc[:, g]\n",
    "    asc_N_STR_Pos_bias_top50.append(len([x for x in top50_bias if x > 0]))"
   ]
  },
  {
   "cell_type": "code",
   "execution_count": 94,
   "metadata": {},
   "outputs": [],
   "source": [
    "# N STR has positive bias among top50\n",
    "sib_N_STR_Pos_bias_top50 = []\n",
    "for g in sib_elevel_sg.columns.values:\n",
    "    top50_bias = sib_elevel_sg.loc[:, g]\n",
    "    sib_N_STR_Pos_bias_top50.append(len([x for x in top50_bias if x > 0]))"
   ]
  },
  {
   "cell_type": "code",
   "execution_count": 97,
   "metadata": {},
   "outputs": [
    {
     "name": "stdout",
     "output_type": "stream",
     "text": [
      "78.95918367346938 77.31691449814126\n",
      "MannwhitneyuResult(statistic=46025.0, pvalue=0.018538088441973386)\n"
     ]
    },
    {
     "data": {
      "image/png": "[encoded data removed]",
      "text/plain": [
       "<Figure size 432x288 with 1 Axes>"
      ]
     },
     "metadata": {
      "needs_background": "light"
     },
     "output_type": "display_data"
    }
   ],
   "source": [
    "plt.hist(asc_N_STR_Pos_bias_top50, density=1, color=\"blue\", alpha=0.5, label=\"asc_elevel\")\n",
    "plt.hist(sib_N_STR_Pos_bias_top50, density=1, color=\"red\", alpha=0.5, label=\"sib_elevel\")\n",
    "print(np.mean(asc_N_STR_Pos_bias_top50), np.mean(sib_N_STR_Pos_bias_top50))\n",
    "print(mannwhitneyu(asc_N_STR_Pos_bias_top50, sib_N_STR_Pos_bias_top50))\n",
    "plt.legend()\n",
    "plt.title(\"ASC vs Siblings N positive biased STR per gene\")\n",
    "plt.xlabel(\"Number of Positive biased STR per gene\")\n",
    "plt.show()"
   ]
  },
  {
   "cell_type": "code",
   "execution_count": 98,
   "metadata": {},
   "outputs": [],
   "source": [
    "# N STR has positive bias among top50\n",
    "asc_N_STR_Pos_bias_top50 = []\n",
    "#MoreCommenSTRs = \n",
    "for g in asc_elevel_sg.columns.values:\n",
    "    top50_bias = asc_elevel_sg.loc[asc_elevel_top50_str, g]\n",
    "    asc_N_STR_Pos_bias_top50.append(len([x for x in top50_bias if x > 0]))"
   ]
  },
  {
   "cell_type": "code",
   "execution_count": 99,
   "metadata": {},
   "outputs": [],
   "source": [
    "# N STR has positive bias among top50\n",
    "sib_N_STR_Pos_bias_top50 = []\n",
    "for g in sib_elevel_sg.columns.values:\n",
    "    top50_bias = sib_elevel_sg.loc[sib_elevel_top50_str, g]\n",
    "    sib_N_STR_Pos_bias_top50.append(len([x for x in top50_bias if x > 0]))"
   ]
  },
  {
   "cell_type": "code",
   "execution_count": 100,
   "metadata": {},
   "outputs": [
    {
     "name": "stdout",
     "output_type": "stream",
     "text": [
      "23.948979591836736 18.243494423791823\n",
      "MannwhitneyuResult(statistic=39126.0, pvalue=1.144478133583476e-05)\n"
     ]
    },
    {
     "data": {
      "image/png": "[encoded data removed]",
      "text/plain": [
       "<Figure size 432x288 with 1 Axes>"
      ]
     },
     "metadata": {
      "needs_background": "light"
     },
     "output_type": "display_data"
    }
   ],
   "source": [
    "plt.hist(asc_N_STR_Pos_bias_top50, density=1, color=\"blue\", alpha=0.5, label=\"asc_elevel\")\n",
    "plt.hist(sib_N_STR_Pos_bias_top50, density=1, color=\"red\", alpha=0.5, label=\"sib_elevel\")\n",
    "print(np.mean(asc_N_STR_Pos_bias_top50), np.mean(sib_N_STR_Pos_bias_top50))\n",
    "print(mannwhitneyu(asc_N_STR_Pos_bias_top50, sib_N_STR_Pos_bias_top50))\n",
    "plt.legend()\n",
    "plt.title(\"ASC vs Siblings N positive biased STR among top50 per gene\")\n",
    "plt.xlabel(\"Number of Positive biased STR among top 50 per gene\")\n",
    "plt.show()"
   ]
  },
  {
   "cell_type": "code",
   "execution_count": 91,
   "metadata": {},
   "outputs": [
    {
     "name": "stderr",
     "output_type": "stream",
     "text": [
      "/Users/jiayao/anaconda3/lib/python3.7/site-packages/numpy/core/fromnumeric.py:2920: RuntimeWarning: Mean of empty slice.\n",
      "  out=out, **kwargs)\n",
      "/Users/jiayao/anaconda3/lib/python3.7/site-packages/numpy/core/_methods.py:85: RuntimeWarning: invalid value encountered in double_scalars\n",
      "  ret = ret.dtype.type(ret / rcount)\n"
     ]
    }
   ],
   "source": [
    "# top bias vs avg bias\n",
    "top_biases, N_bias_gt_1 = [], []\n",
    "#MoreCommenSTRs = \n",
    "for g in asc_elevel_sg.columns.values:\n",
    "    dat = asc_elevel_sg.loc[:, g]\n",
    "    dat = asc_elevel_sg.loc[asc_elevel_top50_str, g]\n",
    "    #top_biases.append(max(dat))\n",
    "    top_biases.append(np.mean([x for x in dat if x > 1]))\n",
    "    N_bias_gt_1.append(len([x for x in dat if x > 1]))"
   ]
  },
  {
   "cell_type": "code",
   "execution_count": 92,
   "metadata": {},
   "outputs": [
    {
     "data": {
      "text/plain": [
       "Text(0, 0.5, 'N biased STR (z>1)')"
      ]
     },
     "execution_count": 92,
     "metadata": {},
     "output_type": "execute_result"
    },
    {
     "data": {
      "image/png": "[encoded data removed]",
      "text/plain": [
       "<Figure size 432x288 with 1 Axes>"
      ]
     },
     "metadata": {
      "needs_background": "light"
     },
     "output_type": "display_data"
    }
   ],
   "source": [
    "plt.scatter(top_biases, N_bias_gt_1)\n",
    "plt.xlabel(\"top bias\")\n",
    "plt.ylabel(\"N biased STR (z>1)\")"
   ]
  },
  {
   "cell_type": "code",
   "execution_count": null,
   "metadata": {},
   "outputs": [],
   "source": []
  },
  {
   "cell_type": "code",
   "execution_count": null,
   "metadata": {},
   "outputs": [],
   "source": []
  },
  {
   "cell_type": "code",
   "execution_count": 120,
   "metadata": {},
   "outputs": [],
   "source": [
    "str2reg = pd.read_csv(\"/Users/jiayao/Work/ASD_Circuits/src/dat/structure2region.map\", delimiter=\"\\t\")\n",
    "str2reg = str2reg.sort_values(\"REG\")"
   ]
  },
  {
   "cell_type": "code",
   "execution_count": 121,
   "metadata": {},
   "outputs": [
    {
     "data": {
      "text/html": [
       "<div>\n",
       "<style scoped>\n",
       "    .dataframe tbody tr th:only-of-type {\n",
       "        vertical-align: middle;\n",
       "    }\n",
       "\n",
       "    .dataframe tbody tr th {\n",
       "        vertical-align: top;\n",
       "    }\n",
       "\n",
       "    .dataframe thead th {\n",
       "        text-align: right;\n",
       "    }\n",
       "</style>\n",
       "<table border=\"1\" class=\"dataframe\">\n",
       "  <thead>\n",
       "    <tr style=\"text-align: right;\">\n",
       "      <th></th>\n",
       "      <th>STR</th>\n",
       "      <th>REG</th>\n",
       "    </tr>\n",
       "  </thead>\n",
       "  <tbody>\n",
       "    <tr>\n",
       "      <th>171</th>\n",
       "      <td>Interposed_nucleus</td>\n",
       "      <td>Cerebellum</td>\n",
       "    </tr>\n",
       "    <tr>\n",
       "      <th>205</th>\n",
       "      <td>Paraflocculus</td>\n",
       "      <td>Cerebellum</td>\n",
       "    </tr>\n",
       "  </tbody>\n",
       "</table>\n",
       "</div>"
      ],
      "text/plain": [
       "                    STR         REG\n",
       "171  Interposed_nucleus  Cerebellum\n",
       "205       Paraflocculus  Cerebellum"
      ]
     },
     "execution_count": 121,
     "metadata": {},
     "output_type": "execute_result"
    }
   ],
   "source": [
    "str2reg.head(2)"
   ]
  },
  {
   "cell_type": "code",
   "execution_count": 128,
   "metadata": {},
   "outputs": [],
   "source": [
    "#str2reg[str2reg[\"REG\"]==\"Thalamus\"]"
   ]
  },
  {
   "cell_type": "code",
   "execution_count": null,
   "metadata": {},
   "outputs": [],
   "source": [
    "for spark in "
   ]
  }
 ],
 "metadata": {
  "kernelspec": {
   "display_name": "Python 3",
   "language": "python",
   "name": "python3"
  },
  "language_info": {
   "codemirror_mode": {
    "name": "ipython",
    "version": 3
   },
   "file_extension": ".py",
   "mimetype": "text/x-python",
   "name": "python",
   "nbconvert_exporter": "python",
   "pygments_lexer": "ipython3",
   "version": "3.7.1"
  }
 },
 "nbformat": 4,
 "nbformat_minor": 2
}
