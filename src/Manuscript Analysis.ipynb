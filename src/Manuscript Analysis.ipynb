{
 "cells": [
  {
   "cell_type": "code",
   "execution_count": 76,
   "metadata": {},
   "outputs": [
    {
     "name": "stdout",
     "output_type": "stream",
     "text": [
      "The autoreload extension is already loaded. To reload it, use:\n",
      "  %reload_ext autoreload\n"
     ]
    },
    {
     "name": "stderr",
     "output_type": "stream",
     "text": [
      "/Users/jiayao/anaconda3/lib/python3.7/site-packages/IPython/core/interactiveshell.py:3185: DtypeWarning: Columns (38,45) have mixed types. Specify dtype option on import or set low_memory=False.\n",
      "  if (yield from self.run_code(code, result)):\n"
     ]
    }
   ],
   "source": [
    "%load_ext autoreload\n",
    "%autoreload 2\n",
    "from ASD_Circuits import *\n",
    "from venn import venn\n",
    "\n",
    "HGNC, ENSID2Entrez, GeneSymbol2Entrez, Entrez2Symbol, allen_mouse_genes = LoadGeneINFO()\n",
    "ExpMat, ExpZscoreMat, ExpMatNorm, ExpZscoreMatNorm = LoadExpressionMatrices()\n",
    "ExpMat = pd.read_csv(\"dat/Jon_data/energy-exp_level.csv\", index_col=\"ROW\")\n",
    "ExpMat2, ExpZscoreMat2, ExpMatNorm2, ExpZscoreMatNorm2 = LoadExpressionMatrices(\n",
    "                        ExpMat = \"../dat/allen-mouse-exp/new-energy-conn-model.csv\", \n",
    "                        ExpZscoreMat = \"../dat/allen-mouse-exp/new-energy-conn-zscore.csv\",\n",
    "                        ExpMatNorm = \"../dat/allen-mouse-exp/energy-neuronorm.csv\",\n",
    "                        ExpZscoreMatNorm = \"../dat/allen-mouse-exp/energy-zscore-neuronorm.csv\")\n",
    "gnomad_cons = pd.read_csv(\"../dat/genes/gnomad.v2.1.1.lof_metrics.by_gene.txt\",\n",
    "                          delimiter=\"\\t\", index_col=\"gene\")"
   ]
  },
  {
   "cell_type": "markdown",
   "metadata": {},
   "source": [
    "# 1. Control Data"
   ]
  },
  {
   "cell_type": "markdown",
   "metadata": {},
   "source": [
    "## 1.1 Sibling Subsampled"
   ]
  },
  {
   "cell_type": "code",
   "execution_count": 18,
   "metadata": {},
   "outputs": [
    {
     "name": "stderr",
     "output_type": "stream",
     "text": [
      "/Users/jiayao/anaconda3/lib/python3.7/site-packages/pandas/core/indexing.py:376: SettingWithCopyWarning: \n",
      "A value is trying to be set on a copy of a slice from a DataFrame.\n",
      "Try using .loc[row_indexer,col_indexer] = value instead\n",
      "\n",
      "See the caveats in the documentation: http://pandas.pydata.org/pandas-docs/stable/user_guide/indexing.html#returning-a-view-versus-a-copy\n",
      "  self.obj[key] = _infer_fill_value(value)\n",
      "/Users/jiayao/anaconda3/lib/python3.7/site-packages/pandas/core/indexing.py:494: SettingWithCopyWarning: \n",
      "A value is trying to be set on a copy of a slice from a DataFrame.\n",
      "Try using .loc[row_indexer,col_indexer] = value instead\n",
      "\n",
      "See the caveats in the documentation: http://pandas.pydata.org/pandas-docs/stable/user_guide/indexing.html#returning-a-view-versus-a-copy\n",
      "  self.obj[item] = s\n"
     ]
    }
   ],
   "source": [
    "# subsample 1000 times same number of gene as ASD\n",
    "ssc_genes = pd.read_excel(\"../dat/genes/Supplementary_Table_7.xlsx\")\n",
    "sibling_genes = ssc_genes[(ssc_genes[\"dnv_LGDs_sib\"]>0) | (ssc_genes[\"dnv_missense_sib\"]>0)]\n",
    "for i, row in sibling_genes.iterrows():\n",
    "    entrez = int(GeneSymbol2Entrez.get(row[\"gene\"], 0))\n",
    "    sibling_genes.loc[i, \"EntrezID\"] = entrez"
   ]
  },
  {
   "cell_type": "code",
   "execution_count": 22,
   "metadata": {},
   "outputs": [
    {
     "data": {
      "text/plain": [
       "array(['gene', 'codingLen', 'codingLenInTarget', 'set_FMRPTargets',\n",
       "       'set_PSD', 'set_Embryonic', 'set_ChromatinModifiers',\n",
       "       'set_EssentialGenes', 'set_MendelianDiseaseGenes',\n",
       "       'set_DeNovoLGDsInSchizoprenia', 'set_DeNovoLGDsInID',\n",
       "       'dnv_LGDs_prb', 'dnv_LGDs_prbM', 'dnv_LGDs_prbML',\n",
       "       'dnv_LGDs_prbMH', 'dnv_LGDs_prbF', 'dnv_LGDs_sib',\n",
       "       'dnv_missense_prb', 'dnv_missense_prbM', 'dnv_missense_prbML',\n",
       "       'dnv_missense_prbMH', 'dnv_missense_prbF', 'dnv_missense_sib',\n",
       "       'dnv_synonymous_prb', 'dnv_synonymous_prbM',\n",
       "       'dnv_synonymous_prbML', 'dnv_synonymous_prbMH',\n",
       "       'dnv_synonymous_prbF', 'dnv_synonymous_sib', 'EntrezID'],\n",
       "      dtype=object)"
      ]
     },
     "execution_count": 22,
     "metadata": {},
     "output_type": "execute_result"
    }
   ],
   "source": [
    "sibling_genes.columns.values"
   ]
  },
  {
   "cell_type": "code",
   "execution_count": 19,
   "metadata": {},
   "outputs": [
    {
     "name": "stdout",
     "output_type": "stream",
     "text": [
      "/Users/jiayao/Work/ASD_Circuits/src/dat/Jon_data/match-exp_avg/23126.txt\n",
      "23126 Not Found in Dataset\n",
      "/Users/jiayao/Work/ASD_Circuits/src/dat/Jon_data/match-exp_avg/10847.txt\n",
      "10847 Not Found in Dataset\n",
      "/Users/jiayao/Work/ASD_Circuits/src/dat/Jon_data/match-exp_avg/339761.txt\n",
      "339761 Not Found in Dataset\n",
      "/Users/jiayao/Work/ASD_Circuits/src/dat/Jon_data/match-exp_avg/118427.txt\n",
      "118427 Not Found in Dataset\n",
      "/Users/jiayao/Work/ASD_Circuits/src/dat/Jon_data/match-exp_avg/219429.txt\n",
      "219429 Not Found in Dataset\n",
      "/Users/jiayao/Work/ASD_Circuits/src/dat/Jon_data/match-exp_avg/6339.txt\n",
      "6339 Not Found in Dataset\n",
      "/Users/jiayao/Work/ASD_Circuits/src/dat/Jon_data/match-exp_avg/293.txt\n",
      "293 Not Found in Dataset\n",
      "/Users/jiayao/Work/ASD_Circuits/src/dat/Jon_data/match-exp_avg/7179.txt\n",
      "7179 Not Found in Dataset\n",
      "/Users/jiayao/Work/ASD_Circuits/src/dat/Jon_data/match-exp_avg/23524.txt\n",
      "23524 Not Found in Dataset\n",
      "/Users/jiayao/Work/ASD_Circuits/src/dat/Jon_data/match-exp_avg/23499.txt\n",
      "23499 Not Found in Dataset\n",
      "/Users/jiayao/Work/ASD_Circuits/src/dat/Jon_data/match-exp_avg/5792.txt\n",
      "5792 Not Found in Dataset\n",
      "/Users/jiayao/Work/ASD_Circuits/src/dat/Jon_data/match-exp_avg/89795.txt\n",
      "89795 Not Found in Dataset\n",
      "/Users/jiayao/Work/ASD_Circuits/src/dat/Jon_data/match-exp_avg/6712.txt\n",
      "6712 Not Found in Dataset\n",
      "/Users/jiayao/Work/ASD_Circuits/src/dat/Jon_data/match-exp_avg/221656.txt\n",
      "221656 Not Found in Dataset\n",
      "/Users/jiayao/Work/ASD_Circuits/src/dat/Jon_data/match-exp_avg/11262.txt\n",
      "11262 Not Found in Dataset\n",
      "/Users/jiayao/Work/ASD_Circuits/src/dat/Jon_data/match-exp_avg/79703.txt\n",
      "79703 Not Found in Dataset\n",
      "/Users/jiayao/Work/ASD_Circuits/src/dat/Jon_data/match-exp_avg/153733.txt\n",
      "153733 Not Found in Dataset\n",
      "/Users/jiayao/Work/ASD_Circuits/src/dat/Jon_data/match-exp_avg/9330.txt\n",
      "9330 Not Found in Dataset\n",
      "/Users/jiayao/Work/ASD_Circuits/src/dat/Jon_data/match-exp_avg/9928.txt\n",
      "9928 Not Found in Dataset\n",
      "/Users/jiayao/Work/ASD_Circuits/src/dat/Jon_data/match-exp_avg/153478.txt\n",
      "153478 Not Found in Dataset\n",
      "/Users/jiayao/Work/ASD_Circuits/src/dat/Jon_data/match-exp_avg/79725.txt\n",
      "79725 Not Found in Dataset\n",
      "/Users/jiayao/Work/ASD_Circuits/src/dat/Jon_data/match-exp_avg/7568.txt\n",
      "7568 Not Found in Dataset\n",
      "/Users/jiayao/Work/ASD_Circuits/src/dat/Jon_data/match-exp_avg/25850.txt\n",
      "25850 Not Found in Dataset\n",
      "/Users/jiayao/Work/ASD_Circuits/src/dat/Jon_data/match-exp_avg/90333.txt\n",
      "90333 Not Found in Dataset\n",
      "/Users/jiayao/Work/ASD_Circuits/src/dat/Jon_data/match-exp_avg/94025.txt\n",
      "94025 Not Found in Dataset\n",
      "/Users/jiayao/Work/ASD_Circuits/src/dat/Jon_data/match-exp_avg/4583.txt\n",
      "4583 Not Found in Dataset\n",
      "/Users/jiayao/Work/ASD_Circuits/src/dat/Jon_data/match-exp_avg/4585.txt\n",
      "4585 Not Found in Dataset\n",
      "/Users/jiayao/Work/ASD_Circuits/src/dat/Jon_data/match-exp_avg/4648.txt\n",
      "4648 Not Found in Dataset\n",
      "/Users/jiayao/Work/ASD_Circuits/src/dat/Jon_data/match-exp_avg/113146.txt\n",
      "113146 Not Found in Dataset\n",
      "/Users/jiayao/Work/ASD_Circuits/src/dat/Jon_data/match-exp_avg/9947.txt\n",
      "9947 Not Found in Dataset\n",
      "/Users/jiayao/Work/ASD_Circuits/src/dat/Jon_data/match-exp_avg/57705.txt\n",
      "57705 Not Found in Dataset\n",
      "/Users/jiayao/Work/ASD_Circuits/src/dat/Jon_data/match-exp_avg/80832.txt\n",
      "80832 Not Found in Dataset\n",
      "/Users/jiayao/Work/ASD_Circuits/src/dat/Jon_data/match-exp_avg/139170.txt\n",
      "139170 Not Found in Dataset\n",
      "/Users/jiayao/Work/ASD_Circuits/src/dat/Jon_data/match-exp_avg/1642.txt\n",
      "1642 Not Found in Dataset\n",
      "/Users/jiayao/Work/ASD_Circuits/src/dat/Jon_data/match-exp_avg/56171.txt\n",
      "56171 Not Found in Dataset\n",
      "/Users/jiayao/Work/ASD_Circuits/src/dat/Jon_data/match-exp_avg/27146.txt\n",
      "27146 Not Found in Dataset\n",
      "/Users/jiayao/Work/ASD_Circuits/src/dat/Jon_data/match-exp_avg/8687.txt\n",
      "8687 Not Found in Dataset\n",
      "/Users/jiayao/Work/ASD_Circuits/src/dat/Jon_data/match-exp_avg/3908.txt\n",
      "3908 Not Found in Dataset\n",
      "/Users/jiayao/Work/ASD_Circuits/src/dat/Jon_data/match-exp_avg/11024.txt\n",
      "11024 Not Found in Dataset\n",
      "/Users/jiayao/Work/ASD_Circuits/src/dat/Jon_data/match-exp_avg/79782.txt\n",
      "79782 Not Found in Dataset\n",
      "/Users/jiayao/Work/ASD_Circuits/src/dat/Jon_data/match-exp_avg/374819.txt\n",
      "374819 Not Found in Dataset\n",
      "/Users/jiayao/Work/ASD_Circuits/src/dat/Jon_data/match-exp_avg/199713.txt\n",
      "199713 Not Found in Dataset\n",
      "/Users/jiayao/Work/ASD_Circuits/src/dat/Jon_data/match-exp_avg/135948.txt\n",
      "135948 Not Found in Dataset\n",
      "/Users/jiayao/Work/ASD_Circuits/src/dat/Jon_data/match-exp_avg/343173.txt\n",
      "343173 Not Found in Dataset\n",
      "/Users/jiayao/Work/ASD_Circuits/src/dat/Jon_data/match-exp_avg/346517.txt\n",
      "346517 Not Found in Dataset\n",
      "/Users/jiayao/Work/ASD_Circuits/src/dat/Jon_data/match-exp_avg/55344.txt\n",
      "55344 Not Found in Dataset\n",
      "/Users/jiayao/Work/ASD_Circuits/src/dat/Jon_data/match-exp_avg/63891.txt\n",
      "63891 Not Found in Dataset\n",
      "/Users/jiayao/Work/ASD_Circuits/src/dat/Jon_data/match-exp_avg/150094.txt\n",
      "150094 Not Found in Dataset\n",
      "/Users/jiayao/Work/ASD_Circuits/src/dat/Jon_data/match-exp_avg/83889.txt\n",
      "83889 Not Found in Dataset\n",
      "/Users/jiayao/Work/ASD_Circuits/src/dat/Jon_data/match-exp_avg/51710.txt\n",
      "51710 Not Found in Dataset\n",
      "/Users/jiayao/Work/ASD_Circuits/src/dat/Jon_data/match-exp_avg/58492.txt\n",
      "58492 Not Found in Dataset\n",
      "/Users/jiayao/Work/ASD_Circuits/src/dat/Jon_data/match-exp_avg/85320.txt\n",
      "85320 Not Found in Dataset\n",
      "/Users/jiayao/Work/ASD_Circuits/src/dat/Jon_data/match-exp_avg/130.txt\n",
      "130 Not Found in Dataset\n",
      "/Users/jiayao/Work/ASD_Circuits/src/dat/Jon_data/match-exp_avg/55616.txt\n",
      "55616 Not Found in Dataset\n",
      "/Users/jiayao/Work/ASD_Circuits/src/dat/Jon_data/match-exp_avg/79908.txt\n",
      "79908 Not Found in Dataset\n",
      "/Users/jiayao/Work/ASD_Circuits/src/dat/Jon_data/match-exp_avg/160298.txt\n",
      "160298 Not Found in Dataset\n",
      "/Users/jiayao/Work/ASD_Circuits/src/dat/Jon_data/match-exp_avg/162083.txt\n",
      "162083 Not Found in Dataset\n",
      "/Users/jiayao/Work/ASD_Circuits/src/dat/Jon_data/match-exp_avg/56918.txt\n",
      "56918 Not Found in Dataset\n",
      "/Users/jiayao/Work/ASD_Circuits/src/dat/Jon_data/match-exp_avg/29082.txt\n",
      "29082 Not Found in Dataset\n",
      "/Users/jiayao/Work/ASD_Circuits/src/dat/Jon_data/match-exp_avg/11129.txt\n",
      "11129 Not Found in Dataset\n",
      "/Users/jiayao/Work/ASD_Circuits/src/dat/Jon_data/match-exp_avg/130749.txt\n",
      "130749 Not Found in Dataset\n",
      "/Users/jiayao/Work/ASD_Circuits/src/dat/Jon_data/match-exp_avg/613212.txt\n",
      "613212 Not Found in Dataset\n",
      "/Users/jiayao/Work/ASD_Circuits/src/dat/Jon_data/match-exp_avg/54798.txt\n",
      "54798 Not Found in Dataset\n",
      "/Users/jiayao/Work/ASD_Circuits/src/dat/Jon_data/match-exp_avg/127579.txt\n",
      "127579 Not Found in Dataset\n",
      "/Users/jiayao/Work/ASD_Circuits/src/dat/Jon_data/match-exp_avg/347516.txt\n",
      "347516 Not Found in Dataset\n",
      "/Users/jiayao/Work/ASD_Circuits/src/dat/Jon_data/match-exp_avg/196472.txt\n",
      "196472 Not Found in Dataset\n",
      "/Users/jiayao/Work/ASD_Circuits/src/dat/Jon_data/match-exp_avg/2220.txt\n",
      "2220 Not Found in Dataset\n",
      "/Users/jiayao/Work/ASD_Circuits/src/dat/Jon_data/match-exp_avg/115352.txt\n",
      "115352 Not Found in Dataset\n",
      "/Users/jiayao/Work/ASD_Circuits/src/dat/Jon_data/match-exp_avg/654463.txt\n",
      "654463 Not Found in Dataset\n",
      "/Users/jiayao/Work/ASD_Circuits/src/dat/Jon_data/match-exp_avg/81608.txt\n",
      "81608 Not Found in Dataset\n",
      "/Users/jiayao/Work/ASD_Circuits/src/dat/Jon_data/match-exp_avg/84624.txt\n",
      "84624 Not Found in Dataset\n",
      "/Users/jiayao/Work/ASD_Circuits/src/dat/Jon_data/match-exp_avg/2359.txt\n",
      "2359 Not Found in Dataset\n",
      "/Users/jiayao/Work/ASD_Circuits/src/dat/Jon_data/match-exp_avg/2689.txt\n",
      "2689 Not Found in Dataset\n",
      "/Users/jiayao/Work/ASD_Circuits/src/dat/Jon_data/match-exp_avg/54762.txt\n",
      "54762 Not Found in Dataset\n",
      "/Users/jiayao/Work/ASD_Circuits/src/dat/Jon_data/match-exp_avg/64711.txt\n",
      "64711 Not Found in Dataset\n",
      "/Users/jiayao/Work/ASD_Circuits/src/dat/Jon_data/match-exp_avg/79713.txt\n",
      "79713 Not Found in Dataset\n",
      "/Users/jiayao/Work/ASD_Circuits/src/dat/Jon_data/match-exp_avg/51763.txt\n",
      "51763 Not Found in Dataset\n",
      "/Users/jiayao/Work/ASD_Circuits/src/dat/Jon_data/match-exp_avg/3809.txt\n",
      "3809 Not Found in Dataset\n",
      "/Users/jiayao/Work/ASD_Circuits/src/dat/Jon_data/match-exp_avg/124751.txt\n",
      "124751 Not Found in Dataset\n",
      "/Users/jiayao/Work/ASD_Circuits/src/dat/Jon_data/match-exp_avg/3891.txt\n",
      "3891 Not Found in Dataset\n",
      "/Users/jiayao/Work/ASD_Circuits/src/dat/Jon_data/match-exp_avg/4018.txt\n",
      "4018 Not Found in Dataset\n",
      "/Users/jiayao/Work/ASD_Circuits/src/dat/Jon_data/match-exp_avg/220074.txt\n",
      "220074 Not Found in Dataset\n",
      "/Users/jiayao/Work/ASD_Circuits/src/dat/Jon_data/match-exp_avg/51213.txt\n",
      "51213 Not Found in Dataset\n",
      "/Users/jiayao/Work/ASD_Circuits/src/dat/Jon_data/match-exp_avg/8174.txt\n",
      "8174 Not Found in Dataset\n",
      "/Users/jiayao/Work/ASD_Circuits/src/dat/Jon_data/match-exp_avg/133558.txt\n",
      "133558 Not Found in Dataset\n",
      "/Users/jiayao/Work/ASD_Circuits/src/dat/Jon_data/match-exp_avg/4600.txt\n",
      "4600 Not Found in Dataset\n",
      "/Users/jiayao/Work/ASD_Circuits/src/dat/Jon_data/match-exp_avg/4624.txt\n",
      "4624 Not Found in Dataset\n",
      "/Users/jiayao/Work/ASD_Circuits/src/dat/Jon_data/match-exp_avg/57644.txt\n",
      "57644 Not Found in Dataset\n",
      "/Users/jiayao/Work/ASD_Circuits/src/dat/Jon_data/match-exp_avg/400818.txt\n",
      "400818 Not Found in Dataset\n",
      "/Users/jiayao/Work/ASD_Circuits/src/dat/Jon_data/match-exp_avg/137682.txt\n",
      "137682 Not Found in Dataset\n",
      "/Users/jiayao/Work/ASD_Circuits/src/dat/Jon_data/match-exp_avg/55998.txt\n",
      "55998 Not Found in Dataset\n",
      "/Users/jiayao/Work/ASD_Circuits/src/dat/Jon_data/match-exp_avg/138805.txt\n",
      "138805 Not Found in Dataset\n",
      "/Users/jiayao/Work/ASD_Circuits/src/dat/Jon_data/match-exp_avg/26189.txt\n",
      "26189 Not Found in Dataset\n",
      "/Users/jiayao/Work/ASD_Circuits/src/dat/Jon_data/match-exp_avg/4992.txt\n",
      "4992 Not Found in Dataset\n",
      "/Users/jiayao/Work/ASD_Circuits/src/dat/Jon_data/match-exp_avg/26740.txt\n",
      "26740 Not Found in Dataset\n",
      "/Users/jiayao/Work/ASD_Circuits/src/dat/Jon_data/match-exp_avg/26212.txt\n",
      "26212 Not Found in Dataset\n",
      "/Users/jiayao/Work/ASD_Circuits/src/dat/Jon_data/match-exp_avg/391194.txt\n",
      "391194 Not Found in Dataset\n",
      "/Users/jiayao/Work/ASD_Circuits/src/dat/Jon_data/match-exp_avg/343171.txt\n",
      "343171 Not Found in Dataset\n",
      "/Users/jiayao/Work/ASD_Circuits/src/dat/Jon_data/match-exp_avg/390199.txt\n",
      "390199 Not Found in Dataset\n",
      "/Users/jiayao/Work/ASD_Circuits/src/dat/Jon_data/match-exp_avg/390538.txt\n",
      "390538 Not Found in Dataset\n",
      "/Users/jiayao/Work/ASD_Circuits/src/dat/Jon_data/match-exp_avg/390142.txt\n",
      "390142 Not Found in Dataset\n",
      "/Users/jiayao/Work/ASD_Circuits/src/dat/Jon_data/match-exp_avg/389090.txt\n",
      "389090 Not Found in Dataset\n",
      "/Users/jiayao/Work/ASD_Circuits/src/dat/Jon_data/match-exp_avg/341416.txt\n",
      "341416 Not Found in Dataset\n",
      "/Users/jiayao/Work/ASD_Circuits/src/dat/Jon_data/match-exp_avg/283365.txt\n",
      "283365 Not Found in Dataset\n",
      "/Users/jiayao/Work/ASD_Circuits/src/dat/Jon_data/match-exp_avg/390261.txt\n",
      "390261 Not Found in Dataset\n",
      "/Users/jiayao/Work/ASD_Circuits/src/dat/Jon_data/match-exp_avg/341568.txt\n",
      "341568 Not Found in Dataset\n"
     ]
    },
    {
     "name": "stdout",
     "output_type": "stream",
     "text": [
      "/Users/jiayao/Work/ASD_Circuits/src/dat/Jon_data/match-exp_avg/340529.txt\n",
      "340529 Not Found in Dataset\n",
      "/Users/jiayao/Work/ASD_Circuits/src/dat/Jon_data/match-exp_avg/645974.txt\n",
      "645974 Not Found in Dataset\n",
      "/Users/jiayao/Work/ASD_Circuits/src/dat/Jon_data/match-exp_avg/5189.txt\n",
      "5189 Not Found in Dataset\n",
      "/Users/jiayao/Work/ASD_Circuits/src/dat/Jon_data/match-exp_avg/653583.txt\n",
      "653583 Not Found in Dataset\n",
      "/Users/jiayao/Work/ASD_Circuits/src/dat/Jon_data/match-exp_avg/50640.txt\n",
      "50640 Not Found in Dataset\n",
      "/Users/jiayao/Work/ASD_Circuits/src/dat/Jon_data/match-exp_avg/404785.txt\n",
      "404785 Not Found in Dataset\n",
      "/Users/jiayao/Work/ASD_Circuits/src/dat/Jon_data/match-exp_avg/5645.txt\n",
      "5645 Not Found in Dataset\n",
      "/Users/jiayao/Work/ASD_Circuits/src/dat/Jon_data/match-exp_avg/5646.txt\n",
      "5646 Not Found in Dataset\n",
      "/Users/jiayao/Work/ASD_Circuits/src/dat/Jon_data/match-exp_avg/5673.txt\n",
      "5673 Not Found in Dataset\n",
      "/Users/jiayao/Work/ASD_Circuits/src/dat/Jon_data/match-exp_avg/6019.txt\n",
      "6019 Not Found in Dataset\n",
      "/Users/jiayao/Work/ASD_Circuits/src/dat/Jon_data/match-exp_avg/51121.txt\n",
      "51121 Not Found in Dataset\n",
      "/Users/jiayao/Work/ASD_Circuits/src/dat/Jon_data/match-exp_avg/390598.txt\n",
      "390598 Not Found in Dataset\n",
      "/Users/jiayao/Work/ASD_Circuits/src/dat/Jon_data/match-exp_avg/91607.txt\n",
      "91607 Not Found in Dataset\n",
      "/Users/jiayao/Work/ASD_Circuits/src/dat/Jon_data/match-exp_avg/55106.txt\n",
      "55106 Not Found in Dataset\n",
      "/Users/jiayao/Work/ASD_Circuits/src/dat/Jon_data/match-exp_avg/342618.txt\n",
      "342618 Not Found in Dataset\n",
      "/Users/jiayao/Work/ASD_Circuits/src/dat/Jon_data/match-exp_avg/729597.txt\n",
      "729597 Not Found in Dataset\n",
      "/Users/jiayao/Work/ASD_Circuits/src/dat/Jon_data/match-exp_avg/51332.txt\n",
      "51332 Not Found in Dataset\n",
      "/Users/jiayao/Work/ASD_Circuits/src/dat/Jon_data/match-exp_avg/10250.txt\n",
      "10250 Not Found in Dataset\n",
      "/Users/jiayao/Work/ASD_Circuits/src/dat/Jon_data/match-exp_avg/100170229.txt\n",
      "100170229 Not Found in Dataset\n",
      "/Users/jiayao/Work/ASD_Circuits/src/dat/Jon_data/match-exp_avg/6758.txt\n",
      "6758 Not Found in Dataset\n",
      "/Users/jiayao/Work/ASD_Circuits/src/dat/Jon_data/match-exp_avg/6799.txt\n",
      "6799 Not Found in Dataset\n",
      "/Users/jiayao/Work/ASD_Circuits/src/dat/Jon_data/match-exp_avg/23336.txt\n",
      "23336 Not Found in Dataset\n",
      "/Users/jiayao/Work/ASD_Circuits/src/dat/Jon_data/match-exp_avg/83551.txt\n",
      "83551 Not Found in Dataset\n",
      "/Users/jiayao/Work/ASD_Circuits/src/dat/Jon_data/match-exp_avg/116179.txt\n",
      "116179 Not Found in Dataset\n",
      "/Users/jiayao/Work/ASD_Circuits/src/dat/Jon_data/match-exp_avg/100113407.txt\n",
      "100113407 Not Found in Dataset\n",
      "/Users/jiayao/Work/ASD_Circuits/src/dat/Jon_data/match-exp_avg/7307.txt\n",
      "7307 Not Found in Dataset\n",
      "/Users/jiayao/Work/ASD_Circuits/src/dat/Jon_data/match-exp_avg/7363.txt\n",
      "7363 Not Found in Dataset\n",
      "/Users/jiayao/Work/ASD_Circuits/src/dat/Jon_data/match-exp_avg/7692.txt\n",
      "7692 Not Found in Dataset\n",
      "/Users/jiayao/Work/ASD_Circuits/src/dat/Jon_data/match-exp_avg/7697.txt\n",
      "7697 Not Found in Dataset\n",
      "/Users/jiayao/Work/ASD_Circuits/src/dat/Jon_data/match-exp_avg/7711.txt\n",
      "7711 Not Found in Dataset\n",
      "/Users/jiayao/Work/ASD_Circuits/src/dat/Jon_data/match-exp_avg/7739.txt\n",
      "7739 Not Found in Dataset\n",
      "/Users/jiayao/Work/ASD_Circuits/src/dat/Jon_data/match-exp_avg/7773.txt\n",
      "7773 Not Found in Dataset\n",
      "/Users/jiayao/Work/ASD_Circuits/src/dat/Jon_data/match-exp_avg/162967.txt\n",
      "162967 Not Found in Dataset\n",
      "/Users/jiayao/Work/ASD_Circuits/src/dat/Jon_data/match-exp_avg/79973.txt\n",
      "79973 Not Found in Dataset\n",
      "/Users/jiayao/Work/ASD_Circuits/src/dat/Jon_data/match-exp_avg/92283.txt\n",
      "92283 Not Found in Dataset\n",
      "/Users/jiayao/Work/ASD_Circuits/src/dat/Jon_data/match-exp_avg/57615.txt\n",
      "57615 Not Found in Dataset\n",
      "/Users/jiayao/Work/ASD_Circuits/src/dat/Jon_data/match-exp_avg/162966.txt\n",
      "162966 Not Found in Dataset\n",
      "/Users/jiayao/Work/ASD_Circuits/src/dat/Jon_data/match-exp_avg/388561.txt\n",
      "388561 Not Found in Dataset\n",
      "/Users/jiayao/Work/ASD_Circuits/src/dat/Jon_data/match-exp_avg/342132.txt\n",
      "342132 Not Found in Dataset\n",
      "/Users/jiayao/Work/ASD_Circuits/src/dat/Jon_data/match-exp_avg/90485.txt\n",
      "90485 Not Found in Dataset\n"
     ]
    }
   ],
   "source": [
    "sibling_genes_entrez = [int(GeneSymbol2Entrez[x]) for x in sibling_genes[\"gene\"].values if x in GeneSymbol2Entrez]\n",
    "sib_dict = dict(zip(sibling_genes_entrez, sibling_genes_entrez))\n",
    "sib_Match = MakeMatchDF(sib_dict, N=1000)"
   ]
  },
  {
   "cell_type": "code",
   "execution_count": 29,
   "metadata": {},
   "outputs": [],
   "source": [
    "sib_Match.to_csv(\"dat/sibling_match.csv\")"
   ]
  },
  {
   "cell_type": "code",
   "execution_count": 27,
   "metadata": {},
   "outputs": [],
   "source": [
    "subsampled_sibling_data = []\n",
    "for i in range(1000):\n",
    "    tmp_df = sibling_genes.sample(n=157, replace=False)\n",
    "    _, _sib = Sibling_Gene_Weights(tmp_df)\n",
    "    subsampled_sibling_data.append(_sib)"
   ]
  },
  {
   "cell_type": "code",
   "execution_count": 28,
   "metadata": {},
   "outputs": [],
   "source": [
    "filehandler = open(\"dat/sibling_subsamples.pk\", 'wb') \n",
    "pickle.dump(subsampled_sibling_data, filehandler)"
   ]
  },
  {
   "cell_type": "code",
   "execution_count": null,
   "metadata": {},
   "outputs": [],
   "source": []
  },
  {
   "cell_type": "markdown",
   "metadata": {},
   "source": [
    "# 2. Long & Short Connection"
   ]
  },
  {
   "cell_type": "code",
   "execution_count": null,
   "metadata": {},
   "outputs": [],
   "source": []
  },
  {
   "cell_type": "code",
   "execution_count": 83,
   "metadata": {},
   "outputs": [],
   "source": [
    "meta_jon = pd.read_csv(\"dat/Jon_data/exp_bias-match-specific.csv\")\n",
    "meta_jon.columns = [\"STR\", \"EFFECT\", \"Rank\", \"NGene\"]\n",
    "meta_jon = meta_jon.set_index(\"STR\")\n",
    "g = LoadConnectome2(ConnFil=\n",
    "                    \"../dat/allen-mouse-conn/norm_density-max_ipsi_contra-pval_0.05-deg_min_1-by_weight_pvalue.csv\")\n",
    "EdgeWeightsDict = EdgeDict(g, keyon=\"label\")\n",
    "adj_mat = pd.read_csv(\n",
    "    \"../dat/allen-mouse-conn/norm_density-max_ipsi_contra-pval_0.05-deg_min_1-by_weight_pvalue.csv\",\n",
    "    index_col=\"ROW\")"
   ]
  },
  {
   "cell_type": "code",
   "execution_count": 10,
   "metadata": {},
   "outputs": [
    {
     "name": "stderr",
     "output_type": "stream",
     "text": [
      "/Users/jiayao/Work/ASD_Circuits/src/ASD_Circuits.py:993: RuntimeWarning: divide by zero encountered in double_scalars\n",
      "  return max(Frac_In, Frac_Out), Frac_In/Frac_Out\n"
     ]
    },
    {
     "name": "stdout",
     "output_type": "stream",
     "text": [
      "0.5355748265814344\n"
     ]
    }
   ],
   "source": [
    "sim1 = pd.read_csv(\"/Users/jiayao/Work/ASD_Circuits/src/dat/circuits/ASD_Pad1_W_D_SA.csv\")\n",
    "candidates = sim1.columns.values\n",
    "Init_States = np.ones(len(candidates))\n",
    "ins = MostCohesiveCirtuis(Init_States, g, candidates, EdgeWeightsDict)\n",
    "Cohes = []\n",
    "for i, row in sim1.iterrows():\n",
    "    ins.state = row.values\n",
    "    InCirtuitNodes = ins.CandidateNodes[np.where(ins.state==1)[0]]\n",
    "    Cohes.append(1-ins.energy())\n",
    "best_id = np.argmax(Cohes)\n",
    "state = sim1.loc[1, :].values\n",
    "print(Cohes[best_id])"
   ]
  },
  {
   "cell_type": "code",
   "execution_count": 11,
   "metadata": {},
   "outputs": [
    {
     "name": "stdout",
     "output_type": "stream",
     "text": [
      "34\n"
     ]
    }
   ],
   "source": [
    "InCirtuitNodes = ins.CandidateNodes[np.where(state==1)[0]]\n",
    "print(len(InCirtuitNodes))"
   ]
  },
  {
   "cell_type": "markdown",
   "metadata": {
    "heading_collapsed": true
   },
   "source": [
    "### 2.1 Exp correlation"
   ]
  },
  {
   "cell_type": "code",
   "execution_count": 13,
   "metadata": {
    "hidden": true
   },
   "outputs": [
    {
     "data": {
      "text/html": [
       "<div>\n",
       "<style scoped>\n",
       "    .dataframe tbody tr th:only-of-type {\n",
       "        vertical-align: middle;\n",
       "    }\n",
       "\n",
       "    .dataframe tbody tr th {\n",
       "        vertical-align: top;\n",
       "    }\n",
       "\n",
       "    .dataframe thead th {\n",
       "        text-align: right;\n",
       "    }\n",
       "</style>\n",
       "<table border=\"1\" class=\"dataframe\">\n",
       "  <thead>\n",
       "    <tr style=\"text-align: right;\">\n",
       "      <th></th>\n",
       "      <th>Anterior_amygdalar_area</th>\n",
       "      <th>Anterior_cingulate_area_dorsal_part</th>\n",
       "      <th>Anterior_cingulate_area_ventral_part</th>\n",
       "      <th>Nucleus_accumbens</th>\n",
       "      <th>Anterodorsal_nucleus</th>\n",
       "      <th>Anterior_hypothalamic_nucleus</th>\n",
       "      <th>Agranular_insular_area_dorsal_part</th>\n",
       "      <th>Agranular_insular_area_posterior_part</th>\n",
       "      <th>Agranular_insular_area_ventral_part</th>\n",
       "      <th>Nucleus_ambiguus</th>\n",
       "      <th>...</th>\n",
       "      <th>Primary_visual_area</th>\n",
       "      <th>Posterolateral_visual_area</th>\n",
       "      <th>posteromedial_visual_area</th>\n",
       "      <th>Ventral_medial_nucleus_of_the_thalamus</th>\n",
       "      <th>Ventromedial_hypothalamic_nucleus</th>\n",
       "      <th>Ventral_posterolateral_nucleus_of_the_thalamus</th>\n",
       "      <th>Ventral_posteromedial_nucleus_of_the_thalamus</th>\n",
       "      <th>Ventral_posteromedial_nucleus_of_the_thalamus_parvicellular_part</th>\n",
       "      <th>Ventral_tegmental_area</th>\n",
       "      <th>Hypoglossal_nucleus</th>\n",
       "    </tr>\n",
       "    <tr>\n",
       "      <th>ROW</th>\n",
       "      <th></th>\n",
       "      <th></th>\n",
       "      <th></th>\n",
       "      <th></th>\n",
       "      <th></th>\n",
       "      <th></th>\n",
       "      <th></th>\n",
       "      <th></th>\n",
       "      <th></th>\n",
       "      <th></th>\n",
       "      <th></th>\n",
       "      <th></th>\n",
       "      <th></th>\n",
       "      <th></th>\n",
       "      <th></th>\n",
       "      <th></th>\n",
       "      <th></th>\n",
       "      <th></th>\n",
       "      <th></th>\n",
       "      <th></th>\n",
       "      <th></th>\n",
       "    </tr>\n",
       "  </thead>\n",
       "  <tbody>\n",
       "    <tr>\n",
       "      <th>Anterior_amygdalar_area</th>\n",
       "      <td>1.00000</td>\n",
       "      <td>0.85538</td>\n",
       "      <td>0.855530</td>\n",
       "      <td>0.914668</td>\n",
       "      <td>0.808901</td>\n",
       "      <td>0.879144</td>\n",
       "      <td>0.896017</td>\n",
       "      <td>0.861916</td>\n",
       "      <td>0.902554</td>\n",
       "      <td>0.835838</td>\n",
       "      <td>...</td>\n",
       "      <td>0.870985</td>\n",
       "      <td>0.849980</td>\n",
       "      <td>0.866197</td>\n",
       "      <td>0.863410</td>\n",
       "      <td>0.867540</td>\n",
       "      <td>0.887105</td>\n",
       "      <td>0.866147</td>\n",
       "      <td>0.845258</td>\n",
       "      <td>0.880674</td>\n",
       "      <td>0.822443</td>\n",
       "    </tr>\n",
       "    <tr>\n",
       "      <th>Anterior_cingulate_area_dorsal_part</th>\n",
       "      <td>0.85538</td>\n",
       "      <td>1.00000</td>\n",
       "      <td>0.967816</td>\n",
       "      <td>0.900520</td>\n",
       "      <td>0.824164</td>\n",
       "      <td>0.850890</td>\n",
       "      <td>0.903118</td>\n",
       "      <td>0.875560</td>\n",
       "      <td>0.908175</td>\n",
       "      <td>0.788785</td>\n",
       "      <td>...</td>\n",
       "      <td>0.916002</td>\n",
       "      <td>0.891939</td>\n",
       "      <td>0.904911</td>\n",
       "      <td>0.869791</td>\n",
       "      <td>0.818651</td>\n",
       "      <td>0.849138</td>\n",
       "      <td>0.842211</td>\n",
       "      <td>0.859613</td>\n",
       "      <td>0.862093</td>\n",
       "      <td>0.813509</td>\n",
       "    </tr>\n",
       "  </tbody>\n",
       "</table>\n",
       "<p>2 rows × 213 columns</p>\n",
       "</div>"
      ],
      "text/plain": [
       "                                     Anterior_amygdalar_area  \\\n",
       "ROW                                                            \n",
       "Anterior_amygdalar_area                              1.00000   \n",
       "Anterior_cingulate_area_dorsal_part                  0.85538   \n",
       "\n",
       "                                     Anterior_cingulate_area_dorsal_part  \\\n",
       "ROW                                                                        \n",
       "Anterior_amygdalar_area                                          0.85538   \n",
       "Anterior_cingulate_area_dorsal_part                              1.00000   \n",
       "\n",
       "                                     Anterior_cingulate_area_ventral_part  \\\n",
       "ROW                                                                         \n",
       "Anterior_amygdalar_area                                          0.855530   \n",
       "Anterior_cingulate_area_dorsal_part                              0.967816   \n",
       "\n",
       "                                     Nucleus_accumbens  Anterodorsal_nucleus  \\\n",
       "ROW                                                                            \n",
       "Anterior_amygdalar_area                       0.914668              0.808901   \n",
       "Anterior_cingulate_area_dorsal_part           0.900520              0.824164   \n",
       "\n",
       "                                     Anterior_hypothalamic_nucleus  \\\n",
       "ROW                                                                  \n",
       "Anterior_amygdalar_area                                   0.879144   \n",
       "Anterior_cingulate_area_dorsal_part                       0.850890   \n",
       "\n",
       "                                     Agranular_insular_area_dorsal_part  \\\n",
       "ROW                                                                       \n",
       "Anterior_amygdalar_area                                        0.896017   \n",
       "Anterior_cingulate_area_dorsal_part                            0.903118   \n",
       "\n",
       "                                     Agranular_insular_area_posterior_part  \\\n",
       "ROW                                                                          \n",
       "Anterior_amygdalar_area                                           0.861916   \n",
       "Anterior_cingulate_area_dorsal_part                               0.875560   \n",
       "\n",
       "                                     Agranular_insular_area_ventral_part  \\\n",
       "ROW                                                                        \n",
       "Anterior_amygdalar_area                                         0.902554   \n",
       "Anterior_cingulate_area_dorsal_part                             0.908175   \n",
       "\n",
       "                                     Nucleus_ambiguus  ...  \\\n",
       "ROW                                                    ...   \n",
       "Anterior_amygdalar_area                      0.835838  ...   \n",
       "Anterior_cingulate_area_dorsal_part          0.788785  ...   \n",
       "\n",
       "                                     Primary_visual_area  \\\n",
       "ROW                                                        \n",
       "Anterior_amygdalar_area                         0.870985   \n",
       "Anterior_cingulate_area_dorsal_part             0.916002   \n",
       "\n",
       "                                     Posterolateral_visual_area  \\\n",
       "ROW                                                               \n",
       "Anterior_amygdalar_area                                0.849980   \n",
       "Anterior_cingulate_area_dorsal_part                    0.891939   \n",
       "\n",
       "                                     posteromedial_visual_area  \\\n",
       "ROW                                                              \n",
       "Anterior_amygdalar_area                               0.866197   \n",
       "Anterior_cingulate_area_dorsal_part                   0.904911   \n",
       "\n",
       "                                     Ventral_medial_nucleus_of_the_thalamus  \\\n",
       "ROW                                                                           \n",
       "Anterior_amygdalar_area                                            0.863410   \n",
       "Anterior_cingulate_area_dorsal_part                                0.869791   \n",
       "\n",
       "                                     Ventromedial_hypothalamic_nucleus  \\\n",
       "ROW                                                                      \n",
       "Anterior_amygdalar_area                                       0.867540   \n",
       "Anterior_cingulate_area_dorsal_part                           0.818651   \n",
       "\n",
       "                                     Ventral_posterolateral_nucleus_of_the_thalamus  \\\n",
       "ROW                                                                                   \n",
       "Anterior_amygdalar_area                                                    0.887105   \n",
       "Anterior_cingulate_area_dorsal_part                                        0.849138   \n",
       "\n",
       "                                     Ventral_posteromedial_nucleus_of_the_thalamus  \\\n",
       "ROW                                                                                  \n",
       "Anterior_amygdalar_area                                                   0.866147   \n",
       "Anterior_cingulate_area_dorsal_part                                       0.842211   \n",
       "\n",
       "                                     Ventral_posteromedial_nucleus_of_the_thalamus_parvicellular_part  \\\n",
       "ROW                                                                                                     \n",
       "Anterior_amygdalar_area                                                       0.845258                  \n",
       "Anterior_cingulate_area_dorsal_part                                           0.859613                  \n",
       "\n",
       "                                     Ventral_tegmental_area  \\\n",
       "ROW                                                           \n",
       "Anterior_amygdalar_area                            0.880674   \n",
       "Anterior_cingulate_area_dorsal_part                0.862093   \n",
       "\n",
       "                                     Hypoglossal_nucleus  \n",
       "ROW                                                       \n",
       "Anterior_amygdalar_area                         0.822443  \n",
       "Anterior_cingulate_area_dorsal_part             0.813509  \n",
       "\n",
       "[2 rows x 213 columns]"
      ]
     },
     "execution_count": 13,
     "metadata": {},
     "output_type": "execute_result"
    }
   ],
   "source": [
    "Exp_Corr_DF = pd.read_csv(\"/Users/jiayao/Work/ASD_Circuits/dat/allen-mouse-conn/Dist_ExpressionCorrelation.csv\",\n",
    "                         index_col = \"ROW\")\n",
    "Exp_Corr_DF.head(2)"
   ]
  },
  {
   "cell_type": "code",
   "execution_count": 26,
   "metadata": {
    "hidden": true
   },
   "outputs": [
    {
     "data": {
      "text/plain": [
       "['Dentate_gyrus',\n",
       " 'Prelimbic_area',\n",
       " 'Orbital_area_lateral_part',\n",
       " 'Field_CA1',\n",
       " 'Infralimbic_area',\n",
       " 'Dorsal_peduncular_area',\n",
       " 'Nucleus_accumbens',\n",
       " 'Field_CA2',\n",
       " 'Lateral_posterior_nucleus_of_the_thalamus',\n",
       " 'Orbital_area_ventrolateral_part',\n",
       " 'Claustrum',\n",
       " 'Field_CA3',\n",
       " 'Anterior_olfactory_nucleus',\n",
       " 'Endopiriform_nucleus_dorsal_part',\n",
       " 'Subiculum_dorsal_part',\n",
       " 'Anterior_cingulate_area_dorsal_part',\n",
       " 'Primary_visual_area',\n",
       " 'Anteromedial_visual_area',\n",
       " 'Nucleus_of_reuniens',\n",
       " 'Accessory_olfactory_bulb',\n",
       " 'Retrosplenial_area_lateral_agranular_part',\n",
       " 'Orbital_area_medial_part',\n",
       " 'Secondary_motor_area',\n",
       " 'Anterior_cingulate_area_ventral_part',\n",
       " 'Presubiculum',\n",
       " 'Agranular_insular_area_ventral_part',\n",
       " 'Mediodorsal_nucleus_of_thalamus',\n",
       " 'Lateral_septal_nucleus_caudal_caudodorsal_part',\n",
       " 'Basolateral_amygdalar_nucleus',\n",
       " 'Submedial_nucleus_of_the_thalamus',\n",
       " 'Primary_somatosensory_area_trunk',\n",
       " 'Posterior_parietal_association_areas',\n",
       " 'Lateral_visual_area',\n",
       " 'Taenia_tecta']"
      ]
     },
     "execution_count": 26,
     "metadata": {},
     "output_type": "execute_result"
    }
   ],
   "source": [
    "list(InCirtuitNodes)"
   ]
  },
  {
   "cell_type": "markdown",
   "metadata": {},
   "source": [
    "### 2.2 Within/Cross Regions"
   ]
  },
  {
   "cell_type": "code",
   "execution_count": 45,
   "metadata": {},
   "outputs": [
    {
     "name": "stdout",
     "output_type": "stream",
     "text": [
      "CPU times: user 2 µs, sys: 1e+03 ns, total: 3 µs\n",
      "Wall time: 5.01 µs\n"
     ]
    }
   ],
   "source": [
    "#adj_mat_cir = adj_mat.loc[InCirtuitNodes, InCirtuitNodes]\n",
    "#str2reg = STR2Region()\n",
    "#adj_mat_cir \n",
    "%time\n",
    "ALL_STRs = adj_mat.index.values\n",
    "adj_mat_local = []\n",
    "adj_mat_distal = []\n",
    "for str_i in ALL_STRs:\n",
    "    tmp_local = []\n",
    "    tmp_distal = []\n",
    "    for str_j in ALL_STRs:\n",
    "        weight = adj_mat.loc[str_i, str_j]\n",
    "        if weight == 0:\n",
    "            tmp_local.append(0)\n",
    "            tmp_distal.append(0)\n",
    "        else:\n",
    "            rg_i = str2reg[str_i]\n",
    "            rg_j = str2reg[str_j]\n",
    "            if rg_i == rg_j:\n",
    "                tmp_local.append(weight)\n",
    "                tmp_distal.append(0)\n",
    "            else:\n",
    "                tmp_local.append(0)\n",
    "                tmp_distal.append(weight)\n",
    "    adj_mat_local.append(tmp_local)\n",
    "    adj_mat_distal.append(tmp_distal)\n",
    "adj_mat_local = pd.DataFrame(data=adj_mat_local, index=ALL_STRs, columns=ALL_STRs)\n",
    "adj_mat_distal = pd.DataFrame(data=adj_mat_distal, index=ALL_STRs, columns=ALL_STRs)"
   ]
  },
  {
   "cell_type": "code",
   "execution_count": 50,
   "metadata": {},
   "outputs": [],
   "source": [
    "###### local co\n",
    "type(\"xxx\") == str\n",
    "g_local = LoadConnectome2(ConnFil=adj_mat_local)\n",
    "g_distal = LoadConnectome2(ConnFil=adj_mat_distal)\n",
    "EdgeWeightsDict_local = EdgeDict(g_local, keyon=\"label\")\n",
    "EdgeWeightsDict_distal = EdgeDict(g_distal, keyon=\"label\")"
   ]
  },
  {
   "cell_type": "code",
   "execution_count": 122,
   "metadata": {},
   "outputs": [
    {
     "data": {
      "text/html": [
       "<div>\n",
       "<style scoped>\n",
       "    .dataframe tbody tr th:only-of-type {\n",
       "        vertical-align: middle;\n",
       "    }\n",
       "\n",
       "    .dataframe tbody tr th {\n",
       "        vertical-align: top;\n",
       "    }\n",
       "\n",
       "    .dataframe thead th {\n",
       "        text-align: right;\n",
       "    }\n",
       "</style>\n",
       "<table border=\"1\" class=\"dataframe\">\n",
       "  <thead>\n",
       "    <tr style=\"text-align: right;\">\n",
       "      <th></th>\n",
       "      <th>EFFECT</th>\n",
       "      <th>Rank</th>\n",
       "      <th>NGene</th>\n",
       "    </tr>\n",
       "    <tr>\n",
       "      <th>STR</th>\n",
       "      <th></th>\n",
       "      <th></th>\n",
       "      <th></th>\n",
       "    </tr>\n",
       "  </thead>\n",
       "  <tbody>\n",
       "    <tr>\n",
       "      <th>Dentate_gyrus</th>\n",
       "      <td>0.511273</td>\n",
       "      <td>1</td>\n",
       "      <td>95</td>\n",
       "    </tr>\n",
       "    <tr>\n",
       "      <th>Prelimbic_area</th>\n",
       "      <td>0.463267</td>\n",
       "      <td>2</td>\n",
       "      <td>95</td>\n",
       "    </tr>\n",
       "  </tbody>\n",
       "</table>\n",
       "</div>"
      ],
      "text/plain": [
       "                  EFFECT  Rank  NGene\n",
       "STR                                  \n",
       "Dentate_gyrus   0.511273     1     95\n",
       "Prelimbic_area  0.463267     2     95"
      ]
     },
     "execution_count": 122,
     "metadata": {},
     "output_type": "execute_result"
    }
   ],
   "source": [
    "meta_jon = pd.read_csv(\"dat/Jon_data/exp_bias-match-specific.csv\")\n",
    "meta_jon.columns = [\"STR\", \"EFFECT\", \"Rank\", \"NGene\"]\n",
    "meta_jon = meta_jon.set_index(\"STR\")\n",
    "meta_jon.head(2)\n"
   ]
  },
  {
   "cell_type": "code",
   "execution_count": 124,
   "metadata": {},
   "outputs": [
    {
     "data": {
      "text/plain": [
       "0.36263797442835155"
      ]
     },
     "execution_count": 124,
     "metadata": {},
     "output_type": "execute_result"
    }
   ],
   "source": [
    "Candidate = meta_jon.head(50).index.values\n",
    "np.mean(ScoreSTRSet(g, Candidate, EdgeWeightsDict))"
   ]
  },
  {
   "cell_type": "code",
   "execution_count": 126,
   "metadata": {},
   "outputs": [],
   "source": [
    "CandidateNodes = meta_jon.head(50).index.values\n",
    "Init_States = np.ones(len(CandidateNodes))\n",
    "for idx in range(len(Init_States)):\n",
    "    if np.random.rand() > 0.5:\n",
    "        Init_States[idx] = 0\n",
    "ins = MostCohesiveCirtuis(Init_States, g, CandidateNodes, EdgeWeightsDict, Direction=False, Weighted=False)"
   ]
  },
  {
   "cell_type": "code",
   "execution_count": 127,
   "metadata": {},
   "outputs": [
    {
     "name": "stderr",
     "output_type": "stream",
     "text": [
      "\n",
      " Temperature        Energy    Accept   Improve      Steps        Elapsed   Remaining\n",
      "     0.00010          0.62     0.00%     0.00%      20000.00     0:01:19     0:00:00"
     ]
    },
    {
     "name": "stdout",
     "output_type": "stream",
     "text": [
      "Done\n"
     ]
    }
   ],
   "source": [
    "ins.copy_strategy = \"deepcopy\"\n",
    "ins.Tmax=1\n",
    "ins.Tmin=0.0001\n",
    "Tmps, Energys, state, e = ins.anneal()\n",
    "print(\"Done\")"
   ]
  },
  {
   "cell_type": "code",
   "execution_count": 128,
   "metadata": {},
   "outputs": [
    {
     "name": "stdout",
     "output_type": "stream",
     "text": [
      "0.37967599066691526 [1. 1. 1. 1. 1. 1. 1. 1. 1. 0. 1. 0. 1. 1. 1. 1. 1. 1. 0. 1. 1. 0. 0. 1.\n",
      " 1. 0. 1. 1. 1. 1. 0. 0. 0. 0. 1. 1. 1. 1. 1. 0. 0. 1. 1. 1. 1. 1. 1. 1.\n",
      " 1. 1.]\n"
     ]
    }
   ],
   "source": [
    "print(1-e, state)\n",
    "InCirtuitNodes = ins.CandidateNodes[np.where(ins.state==1)[0]]"
   ]
  },
  {
   "cell_type": "code",
   "execution_count": null,
   "metadata": {},
   "outputs": [],
   "source": []
  },
  {
   "cell_type": "code",
   "execution_count": 117,
   "metadata": {},
   "outputs": [
    {
     "name": "stdout",
     "output_type": "stream",
     "text": [
      "0.5062177065637561\n"
     ]
    }
   ],
   "source": [
    "sim1 = pd.read_csv(\"/Users/jiayao/Work/ASD_Circuits/src/dat/circuits/ASD_Pad1_W_D_SA.csv\")\n",
    "candidates = sim1.columns.values\n",
    "Init_States = np.ones(len(candidates))\n",
    "#del ins\n",
    "ins = MostCohesiveCirtuis(Init_States, g_local, candidates, EdgeWeightsDict_local)\n",
    "Cohes = []\n",
    "for i, row in sim1.iterrows():\n",
    "    ins.state = row.values\n",
    "    InCirtuitNodes = ins.CandidateNodes[np.where(ins.state==1)[0]]\n",
    "    Cohes.append(1-ins.energy())\n",
    "best_id = np.argmax(Cohes)\n",
    "state = sim1.loc[1, :].values\n",
    "print(Cohes[best_id])"
   ]
  },
  {
   "cell_type": "code",
   "execution_count": 68,
   "metadata": {},
   "outputs": [
    {
     "name": "stdout",
     "output_type": "stream",
     "text": [
      "0.28887966996161585\n"
     ]
    }
   ],
   "source": [
    "sim1 = pd.read_csv(\"/Users/jiayao/Work/ASD_Circuits/src/dat/circuits/ASD_Pad1_W_D_SA.csv\")\n",
    "candidates = sim1.columns.values\n",
    "Init_States = np.ones(len(candidates))\n",
    "ins = MostCohesiveCirtuis(Init_States, g_distal, candidates, EdgeWeightsDict)\n",
    "Cohes = []\n",
    "for i, row in sim1.iterrows():\n",
    "    ins.state = row.values\n",
    "    InCirtuitNodes = ins.CandidateNodes[np.where(ins.state==1)[0]]\n",
    "    Cohes.append(1-ins.energy())\n",
    "best_id = np.argmax(Cohes)\n",
    "state = sim1.loc[1, :].values\n",
    "print(Cohes[best_id])"
   ]
  },
  {
   "cell_type": "code",
   "execution_count": 129,
   "metadata": {},
   "outputs": [],
   "source": [
    "local = ScoreSTRSet(g_local, InCirtuitNodes, EdgeWeightsDict)\n",
    "distal = ScoreSTRSet(g_distal, InCirtuitNodes, EdgeWeightsDict)\n",
    "total = ScoreSTRSet(g, InCirtuitNodes, EdgeWeightsDict)"
   ]
  },
  {
   "cell_type": "code",
   "execution_count": 130,
   "metadata": {},
   "outputs": [
    {
     "name": "stdout",
     "output_type": "stream",
     "text": [
      "0.4978755850951142 0.28891859917511553 0.37967599066691526\n"
     ]
    }
   ],
   "source": [
    "print(np.mean(local), np.mean(distal), np.mean(total))"
   ]
  },
  {
   "cell_type": "code",
   "execution_count": 121,
   "metadata": {},
   "outputs": [
    {
     "name": "stdout",
     "output_type": "stream",
     "text": [
      "0.4956158540290119 0.29083948169414986 0.36263797442835155\n"
     ]
    }
   ],
   "source": [
    "InCirtuitNodes = sim1.columns.values\n",
    "local = ScoreSTRSet(g_local, InCirtuitNodes, EdgeWeightsDict)\n",
    "distal = ScoreSTRSet(g_distal, InCirtuitNodes, EdgeWeightsDict)\n",
    "total = ScoreSTRSet(g, InCirtuitNodes, EdgeWeightsDict)\n",
    "print(np.mean(local), np.mean(distal), np.mean(total))"
   ]
  },
  {
   "cell_type": "code",
   "execution_count": 74,
   "metadata": {},
   "outputs": [
    {
     "data": {
      "image/png": "[encoded data removed]",
      "text/plain": [
       "<Figure size 480x320 with 1 Axes>"
      ]
     },
     "metadata": {
      "needs_background": "light"
     },
     "output_type": "display_data"
    }
   ],
   "source": [
    "plt.hist(local, label=\"local\", alpha=0.8)\n",
    "plt.hist(distal, label=\"distal\", alpha=0.8)\n",
    "plt.legend()\n",
    "plt.show()"
   ]
  },
  {
   "cell_type": "code",
   "execution_count": 75,
   "metadata": {},
   "outputs": [],
   "source": [
    "\n",
    "#InCirtuitNodes = df.columns.values[]"
   ]
  },
  {
   "cell_type": "code",
   "execution_count": 78,
   "metadata": {},
   "outputs": [
    {
     "data": {
      "text/plain": [
       "array([1., 1., 1., 1., 1., 1., 1., 1., 1., 1., 1., 1., 0., 1., 1., 1., 1.,\n",
       "       1., 1., 1., 0., 1., 1., 1., 1., 1., 0., 0., 1., 1., 0., 0., 1., 0.,\n",
       "       1., 0., 1., 0., 0., 0., 0., 0., 1., 1., 1., 1., 1., 1., 1., 0.])"
      ]
     },
     "execution_count": 78,
     "metadata": {},
     "output_type": "execute_result"
    }
   ],
   "source": [
    "df.loc[0,:].values"
   ]
  },
  {
   "cell_type": "code",
   "execution_count": null,
   "metadata": {},
   "outputs": [],
   "source": []
  },
  {
   "cell_type": "code",
   "execution_count": 104,
   "metadata": {},
   "outputs": [
    {
     "name": "stdout",
     "output_type": "stream",
     "text": [
      "0.3188506220012396 0.4150582970240224 0.26957693710191544\n"
     ]
    }
   ],
   "source": [
    "Complete, Local, Distal = [],[],[]\n",
    "for i in range(1000):\n",
    "    df = pd.read_csv(\"dat/cont.cir/ASD.MetaMatch.{}.csv\".format(i), names=None)\n",
    "    InCirtuitNodes = df.columns.values\n",
    "    complete = ScoreSTRSet(g, InCirtuitNodes, EdgeWeightsDict, False, False)\n",
    "    local = ScoreSTRSet(g_local, InCirtuitNodes, EdgeWeightsDict, False, False)\n",
    "    distal = ScoreSTRSet(g_distal, InCirtuitNodes, EdgeWeightsDict, False, False)\n",
    "    Complete.append(np.mean(complete))\n",
    "    Local.append(np.mean(local))\n",
    "    Distal.append(np.mean(distal))\n",
    "print(np.mean(Complete), np.mean(Local), np.mean(Distal))"
   ]
  },
  {
   "cell_type": "code",
   "execution_count": 102,
   "metadata": {},
   "outputs": [],
   "source": [
    "Complete, Local, Distal = [],[],[]\n",
    "for i in range(1000):\n",
    "    df = pd.read_csv(\"dat/cont.cir/ASD.MetaMatch.{}.csv\".format(i), names=None)\n",
    "    InCirtuitNodes = df.columns.values[np.where(df.loc[0,:].values==1)[0]]\n",
    "    complete = ScoreSTRSet(g, InCirtuitNodes, EdgeWeightsDict, False, False)\n",
    "    local = ScoreSTRSet(g_local, InCirtuitNodes, EdgeWeightsDict, False, False)\n",
    "    distal = ScoreSTRSet(g_distal, InCirtuitNodes, EdgeWeightsDict, False, False)\n",
    "    Complete.append(np.mean(complete))\n",
    "    Local.append(np.mean(local))\n",
    "    Distal.append(np.mean(distal))"
   ]
  },
  {
   "cell_type": "code",
   "execution_count": 103,
   "metadata": {},
   "outputs": [
    {
     "name": "stdout",
     "output_type": "stream",
     "text": [
      "0.36415218426412843 0.47525381440123765 0.2921850958076417\n"
     ]
    }
   ],
   "source": [
    "print(np.mean(Complete), np.mean(Local), np.mean(Distal))"
   ]
  },
  {
   "cell_type": "code",
   "execution_count": 99,
   "metadata": {},
   "outputs": [
    {
     "ename": "ZeroDivisionError",
     "evalue": "division by zero",
     "output_type": "error",
     "traceback": [
      "\u001b[0;31m---------------------------------------------------------------------------\u001b[0m",
      "\u001b[0;31mZeroDivisionError\u001b[0m                         Traceback (most recent call last)",
      "\u001b[0;32m<ipython-input-99-c1e600f55772>\u001b[0m in \u001b[0;36m<module>\u001b[0;34m\u001b[0m\n\u001b[1;32m      1\u001b[0m \u001b[0mcomplete\u001b[0m \u001b[0;34m=\u001b[0m \u001b[0mScoreSTRSet\u001b[0m\u001b[0;34m(\u001b[0m\u001b[0mg\u001b[0m\u001b[0;34m,\u001b[0m \u001b[0mInCirtuitNodes\u001b[0m\u001b[0;34m,\u001b[0m \u001b[0mEdgeWeightsDict\u001b[0m\u001b[0;34m,\u001b[0m \u001b[0;32mTrue\u001b[0m\u001b[0;34m,\u001b[0m \u001b[0;32mTrue\u001b[0m\u001b[0;34m)\u001b[0m\u001b[0;34m\u001b[0m\u001b[0;34m\u001b[0m\u001b[0m\n\u001b[0;32m----> 2\u001b[0;31m \u001b[0mlocal\u001b[0m \u001b[0;34m=\u001b[0m \u001b[0mScoreSTRSet\u001b[0m\u001b[0;34m(\u001b[0m\u001b[0mg_local\u001b[0m\u001b[0;34m,\u001b[0m \u001b[0mInCirtuitNodes\u001b[0m\u001b[0;34m,\u001b[0m \u001b[0mEdgeWeightsDict\u001b[0m\u001b[0;34m,\u001b[0m \u001b[0;32mTrue\u001b[0m\u001b[0;34m,\u001b[0m \u001b[0;32mTrue\u001b[0m\u001b[0;34m)\u001b[0m\u001b[0;34m\u001b[0m\u001b[0;34m\u001b[0m\u001b[0m\n\u001b[0m\u001b[1;32m      3\u001b[0m \u001b[0mdistal\u001b[0m \u001b[0;34m=\u001b[0m \u001b[0mScoreSTRSet\u001b[0m\u001b[0;34m(\u001b[0m\u001b[0mg_distal\u001b[0m\u001b[0;34m,\u001b[0m \u001b[0mInCirtuitNodes\u001b[0m\u001b[0;34m,\u001b[0m \u001b[0mEdgeWeightsDict\u001b[0m\u001b[0;34m,\u001b[0m \u001b[0;32mTrue\u001b[0m\u001b[0;34m,\u001b[0m \u001b[0;32mTrue\u001b[0m\u001b[0;34m)\u001b[0m\u001b[0;34m\u001b[0m\u001b[0;34m\u001b[0m\u001b[0m\n\u001b[1;32m      4\u001b[0m \u001b[0mprint\u001b[0m\u001b[0;34m(\u001b[0m\u001b[0mcomplete\u001b[0m\u001b[0;34m,\u001b[0m \u001b[0mlocal\u001b[0m\u001b[0;34m,\u001b[0m \u001b[0mdistal\u001b[0m\u001b[0;34m)\u001b[0m\u001b[0;34m\u001b[0m\u001b[0;34m\u001b[0m\u001b[0m\n",
      "\u001b[0;32m~/Work/ASD_Circuits/src/ASD_Circuits.py\u001b[0m in \u001b[0;36mScoreSTRSet\u001b[0;34m(Graph, CandidateNodes, WeightDict, Weighted, Direction)\u001b[0m\n\u001b[1;32m   1045\u001b[0m     \u001b[0mcohesives\u001b[0m \u001b[0;34m=\u001b[0m \u001b[0;34m[\u001b[0m\u001b[0;34m]\u001b[0m\u001b[0;34m\u001b[0m\u001b[0;34m\u001b[0m\u001b[0m\n\u001b[1;32m   1046\u001b[0m     \u001b[0;32mfor\u001b[0m \u001b[0mv\u001b[0m \u001b[0;32min\u001b[0m \u001b[0mg2\u001b[0m\u001b[0;34m.\u001b[0m\u001b[0mvs\u001b[0m\u001b[0;34m:\u001b[0m\u001b[0;34m\u001b[0m\u001b[0;34m\u001b[0m\u001b[0m\n\u001b[0;32m-> 1047\u001b[0;31m         \u001b[0mcoh\u001b[0m\u001b[0;34m,\u001b[0m \u001b[0mITR\u001b[0m \u001b[0;34m=\u001b[0m \u001b[0mCohesivenessSingleNodeMaxInOut\u001b[0m\u001b[0;34m(\u001b[0m\u001b[0mGraph\u001b[0m\u001b[0;34m,\u001b[0m \u001b[0mg2\u001b[0m\u001b[0;34m,\u001b[0m \u001b[0mv\u001b[0m\u001b[0;34m[\u001b[0m\u001b[0;34m\"label\"\u001b[0m\u001b[0;34m]\u001b[0m\u001b[0;34m,\u001b[0m \u001b[0mWeightDict\u001b[0m\u001b[0;34m,\u001b[0m \u001b[0mDirection\u001b[0m\u001b[0;34m=\u001b[0m\u001b[0mDirection\u001b[0m\u001b[0;34m,\u001b[0m \u001b[0mweighted\u001b[0m\u001b[0;34m=\u001b[0m\u001b[0mWeighted\u001b[0m\u001b[0;34m)\u001b[0m\u001b[0;34m\u001b[0m\u001b[0;34m\u001b[0m\u001b[0m\n\u001b[0m\u001b[1;32m   1048\u001b[0m         \u001b[0mcohesives\u001b[0m\u001b[0;34m.\u001b[0m\u001b[0mappend\u001b[0m\u001b[0;34m(\u001b[0m\u001b[0mcoh\u001b[0m\u001b[0;34m)\u001b[0m\u001b[0;34m\u001b[0m\u001b[0;34m\u001b[0m\u001b[0m\n\u001b[1;32m   1049\u001b[0m     \u001b[0;31m#return cohesives\u001b[0m\u001b[0;34m\u001b[0m\u001b[0;34m\u001b[0m\u001b[0;34m\u001b[0m\u001b[0m\n",
      "\u001b[0;32m~/Work/ASD_Circuits/src/ASD_Circuits.py\u001b[0m in \u001b[0;36mCohesivenessSingleNodeMaxInOut\u001b[0;34m(g, g_, STR, weightDict, weighted, Direction)\u001b[0m\n\u001b[1;32m   1016\u001b[0m         \u001b[0;32melse\u001b[0m\u001b[0;34m:\u001b[0m\u001b[0;34m\u001b[0m\u001b[0;34m\u001b[0m\u001b[0m\n\u001b[1;32m   1017\u001b[0m             \u001b[0mFrac_In\u001b[0m \u001b[0;34m=\u001b[0m \u001b[0mCircuit_In\u001b[0m\u001b[0;34m/\u001b[0m\u001b[0mTotal_In\u001b[0m\u001b[0;34m\u001b[0m\u001b[0;34m\u001b[0m\u001b[0m\n\u001b[0;32m-> 1018\u001b[0;31m         \u001b[0;32mreturn\u001b[0m \u001b[0mmax\u001b[0m\u001b[0;34m(\u001b[0m\u001b[0mFrac_In\u001b[0m\u001b[0;34m,\u001b[0m \u001b[0mFrac_Out\u001b[0m\u001b[0;34m)\u001b[0m\u001b[0;34m,\u001b[0m \u001b[0mFrac_In\u001b[0m\u001b[0;34m/\u001b[0m\u001b[0mFrac_Out\u001b[0m\u001b[0;34m\u001b[0m\u001b[0;34m\u001b[0m\u001b[0m\n\u001b[0m\u001b[1;32m   1019\u001b[0m     \u001b[0;32melse\u001b[0m\u001b[0;34m:\u001b[0m\u001b[0;34m\u001b[0m\u001b[0;34m\u001b[0m\u001b[0m\n\u001b[1;32m   1020\u001b[0m         \u001b[0;32mfor\u001b[0m \u001b[0m_node\u001b[0m \u001b[0;32min\u001b[0m \u001b[0mNode\u001b[0m\u001b[0;34m.\u001b[0m\u001b[0msuccessors\u001b[0m\u001b[0;34m(\u001b[0m\u001b[0;34m)\u001b[0m\u001b[0;34m:\u001b[0m\u001b[0;34m\u001b[0m\u001b[0;34m\u001b[0m\u001b[0m\n",
      "\u001b[0;31mZeroDivisionError\u001b[0m: division by zero"
     ]
    }
   ],
   "source": [
    "complete = ScoreSTRSet(g, InCirtuitNodes, EdgeWeightsDict, True, True)\n",
    "local = ScoreSTRSet(g_local, InCirtuitNodes, EdgeWeightsDict, True, True)\n",
    "distal = ScoreSTRSet(g_distal, InCirtuitNodes, EdgeWeightsDict, True, True)\n",
    "print(complete, local, distal)"
   ]
  },
  {
   "cell_type": "code",
   "execution_count": null,
   "metadata": {},
   "outputs": [],
   "source": []
  },
  {
   "cell_type": "code",
   "execution_count": null,
   "metadata": {},
   "outputs": [],
   "source": []
  },
  {
   "cell_type": "code",
   "execution_count": null,
   "metadata": {},
   "outputs": [],
   "source": []
  },
  {
   "cell_type": "code",
   "execution_count": null,
   "metadata": {},
   "outputs": [],
   "source": []
  },
  {
   "cell_type": "code",
   "execution_count": null,
   "metadata": {},
   "outputs": [],
   "source": []
  },
  {
   "cell_type": "code",
   "execution_count": null,
   "metadata": {},
   "outputs": [],
   "source": []
  },
  {
   "cell_type": "code",
   "execution_count": 39,
   "metadata": {},
   "outputs": [],
   "source": [
    "def ITR(Internal_In, Total_In, Internal_Out, Total_Out):\n",
    "    return (Internal_In/Total_In) / (Internal_Out/Total_Out)"
   ]
  },
  {
   "cell_type": "code",
   "execution_count": 40,
   "metadata": {},
   "outputs": [
    {
     "data": {
      "text/plain": [
       "6.0"
      ]
     },
     "execution_count": 40,
     "metadata": {},
     "output_type": "execute_result"
    }
   ],
   "source": [
    "ITR(4,6,1,9) # Brodcastor"
   ]
  },
  {
   "cell_type": "code",
   "execution_count": 41,
   "metadata": {},
   "outputs": [
    {
     "data": {
      "text/plain": [
       "0.1875"
      ]
     },
     "execution_count": 41,
     "metadata": {},
     "output_type": "execute_result"
    }
   ],
   "source": [
    "ITR(1,6,8,9) # Intergrator"
   ]
  },
  {
   "cell_type": "code",
   "execution_count": null,
   "metadata": {},
   "outputs": [],
   "source": []
  },
  {
   "cell_type": "markdown",
   "metadata": {},
   "source": [
    "### 2.3 Cartesian Ipsilateral distance"
   ]
  },
  {
   "cell_type": "code",
   "execution_count": null,
   "metadata": {},
   "outputs": [],
   "source": []
  },
  {
   "cell_type": "markdown",
   "metadata": {},
   "source": [
    "# 3. ASDp vs NDD"
   ]
  },
  {
   "cell_type": "code",
   "execution_count": 77,
   "metadata": {},
   "outputs": [],
   "source": [
    "ASD_P_NDD_Split = pd.read_excel(\"../dat/genes/asd/ASC_ASDpNDD_Split.xlsx\")\n",
    "Spark_Meta = pd.read_excel(\"/Users/jiayao/Work/ASD_Circuits/dat/genes/asd/spark_Meta_top_genes.xlsx\")"
   ]
  },
  {
   "cell_type": "code",
   "execution_count": 78,
   "metadata": {},
   "outputs": [],
   "source": [
    "ASD_P = ASD_P_NDD_Split[ASD_P_NDD_Split[\"classifier\"]==\"ASD_P\"][\"gene\"].values\n",
    "NDD = ASD_P_NDD_Split[ASD_P_NDD_Split[\"classifier\"]==\"ASD_NDD\"][\"gene\"].values \n",
    "Spark_Meta_ASDp = Spark_Meta[Spark_Meta[\"HGNC\"].isin(ASD_P)]\n",
    "Spark_Meta_NDD = Spark_Meta[Spark_Meta[\"HGNC\"].isin(NDD)]"
   ]
  },
  {
   "cell_type": "code",
   "execution_count": 79,
   "metadata": {},
   "outputs": [
    {
     "name": "stdout",
     "output_type": "stream",
     "text": [
      "/Users/jiayao/Work/ASD_Circuits/src/dat/Jon_data/match-exp_avg/23126.txt\n",
      "23126 Not Found in Dataset\n",
      "/Users/jiayao/Work/ASD_Circuits/src/dat/Jon_data/match-exp_avg/27086.txt\n",
      "27086 Not Found in Dataset\n",
      "/Users/jiayao/Work/ASD_Circuits/src/dat/Jon_data/match-exp_avg/287.txt\n",
      "287 Not Found in Dataset\n",
      "/Users/jiayao/Work/ASD_Circuits/src/dat/Jon_data/match-exp_avg/7314.txt\n",
      "7314 Not Found in Dataset\n",
      "/Users/jiayao/Work/ASD_Circuits/src/dat/Jon_data/match-exp_avg/23096.txt\n",
      "23096 Not Found in Dataset\n",
      "/Users/jiayao/Work/ASD_Circuits/src/dat/Jon_data/match-exp_avg/23392.txt\n",
      "23392 Not Found in Dataset\n",
      "/Users/jiayao/Work/ASD_Circuits/src/dat/Jon_data/match-exp_avg/90167.txt\n",
      "90167 Not Found in Dataset\n",
      "/Users/jiayao/Work/ASD_Circuits/src/dat/Jon_data/match-exp_avg/293.txt\n",
      "293 Not Found in Dataset\n",
      "/Users/jiayao/Work/ASD_Circuits/src/dat/Jon_data/match-exp_avg/58491.txt\n",
      "58491 Not Found in Dataset\n",
      "/Users/jiayao/Work/ASD_Circuits/src/dat/Jon_data/match-exp_avg/10847.txt\n",
      "10847 Not Found in Dataset\n",
      "/Users/jiayao/Work/ASD_Circuits/src/dat/Jon_data/match-exp_avg/256158.txt\n",
      "256158 Not Found in Dataset\n",
      "/Users/jiayao/Work/ASD_Circuits/src/dat/Jon_data/match-exp_avg/158405.txt\n",
      "158405 Not Found in Dataset\n"
     ]
    }
   ],
   "source": [
    "Agg_gene2None, Agg_gene2MutN = Aggregate_Gene_Weights2(Spark_Meta, out = \"dat/bias2/meta.gene.weights.csv\")\n",
    "_, ASDp_gene2MutN = Aggregate_Gene_Weights2(Spark_Meta_ASDp, out = None)\n",
    "_, NDD_gene2MutN = Aggregate_Gene_Weights2(Spark_Meta_NDD, out = None)\n",
    "Agg_Match = MakeMatchDF(Agg_gene2MutN, N=1000)"
   ]
  },
  {
   "cell_type": "code",
   "execution_count": 80,
   "metadata": {},
   "outputs": [
    {
     "name": "stdout",
     "output_type": "stream",
     "text": [
      "24 34\n"
     ]
    }
   ],
   "source": [
    "print(len(ASDp_gene2MutN), len(NDD_gene2MutN))"
   ]
  },
  {
   "cell_type": "code",
   "execution_count": 84,
   "metadata": {},
   "outputs": [],
   "source": [
    "SA_wd = \"/Users/jiayao/Work/ASD_Circuits/src/dat/circuits/ASD_Pad1_SA.csv\"\n",
    "weighted = True; directed = True\n",
    "Incircuit_wd = GetBestCoheSAFil(SA_wd, weighted, directed, g=g, EdgeWeightsDict=EdgeWeightsDict)"
   ]
  },
  {
   "cell_type": "code",
   "execution_count": 87,
   "metadata": {},
   "outputs": [
    {
     "data": {
      "text/plain": [
       "'Hippocampal_region'"
      ]
     },
     "execution_count": 87,
     "metadata": {},
     "output_type": "execute_result"
    }
   ],
   "source": [
    "str2reg = STR2Region()\n",
    "str2reg[\"Dentate_gyrus\"]"
   ]
  },
  {
   "cell_type": "code",
   "execution_count": 88,
   "metadata": {},
   "outputs": [
    {
     "data": {
      "text/html": [
       "<div>\n",
       "<style scoped>\n",
       "    .dataframe tbody tr th:only-of-type {\n",
       "        vertical-align: middle;\n",
       "    }\n",
       "\n",
       "    .dataframe tbody tr th {\n",
       "        vertical-align: top;\n",
       "    }\n",
       "\n",
       "    .dataframe thead th {\n",
       "        text-align: right;\n",
       "    }\n",
       "</style>\n",
       "<table border=\"1\" class=\"dataframe\">\n",
       "  <thead>\n",
       "    <tr style=\"text-align: right;\">\n",
       "      <th></th>\n",
       "      <th>STR</th>\n",
       "      <th>REG</th>\n",
       "    </tr>\n",
       "  </thead>\n",
       "  <tbody>\n",
       "    <tr>\n",
       "      <th>0</th>\n",
       "      <td>Dentate_gyrus</td>\n",
       "      <td>Hippocampal_region</td>\n",
       "    </tr>\n",
       "    <tr>\n",
       "      <th>1</th>\n",
       "      <td>Prelimbic_area</td>\n",
       "      <td>Isocortex</td>\n",
       "    </tr>\n",
       "  </tbody>\n",
       "</table>\n",
       "</div>"
      ],
      "text/plain": [
       "              STR                 REG\n",
       "0   Dentate_gyrus  Hippocampal_region\n",
       "1  Prelimbic_area           Isocortex"
      ]
     },
     "execution_count": 88,
     "metadata": {},
     "output_type": "execute_result"
    }
   ],
   "source": [
    "Incircuit_wd\n",
    "Incircuit_regions = [str2reg[x] for x in Incircuit_wd]\n",
    "Incircuit_df = pd.DataFrame(data={\"STR\":Incircuit_wd, \"REG\":Incircuit_regions})\n",
    "Incircuit_df.head(2)"
   ]
  },
  {
   "cell_type": "code",
   "execution_count": 89,
   "metadata": {},
   "outputs": [],
   "source": [
    "#def oneSTRGeneSet():\n",
    "   "
   ]
  },
  {
   "cell_type": "code",
   "execution_count": 90,
   "metadata": {},
   "outputs": [],
   "source": [
    "STR = \"Dentate_gyrus\"\n",
    "asd_p = ZscoreOneSTR_Weighted_Indv_Gene(STR, ExpZscoreMat, ASDp_gene2MutN, Method = 2, Match_DF = Agg_Match)"
   ]
  },
  {
   "cell_type": "code",
   "execution_count": 91,
   "metadata": {},
   "outputs": [],
   "source": [
    "G1_Region = [\"Isocortex\"]\n",
    "G2_Region = [\"Thalamus\", \"Striatum\"]\n",
    "\n",
    "# ASDp\n",
    "G1, G2 = [], []\n",
    "for region in G1_Region:\n",
    "    STRs = Incircuit_df[Incircuit_df[\"REG\"]==region][\"STR\"].values\n",
    "    for STR in STRs:\n",
    "        z_dist = ZscoreOneSTR_Weighted_Indv_Gene(STR, ExpZscoreMat, ASDp_gene2MutN, Method = 2, Match_DF = Agg_Match)\n",
    "        G1.append(z_dist)\n",
    "G1 = np.array(G1)        \n",
    "for region in G2_Region:\n",
    "    STRs = Incircuit_df[Incircuit_df[\"REG\"]==region][\"STR\"].values\n",
    "    for STR in STRs:\n",
    "        z_dist = ZscoreOneSTR_Weighted_Indv_Gene(STR, ExpZscoreMat, ASDp_gene2MutN, Method = 2, Match_DF = Agg_Match)\n",
    "        G2.append(z_dist)\n",
    "G1 = np.array(G1)  \n",
    "G2 = np.array(G2)  \n",
    "xx_1 = np.mean(G1, axis=0)\n",
    "xx_2 = np.mean(G2, axis=0)"
   ]
  },
  {
   "cell_type": "code",
   "execution_count": 92,
   "metadata": {},
   "outputs": [
    {
     "name": "stdout",
     "output_type": "stream",
     "text": [
      "1.0939422143746094 1.429810191677173 0.765096109079633\n",
      "wilcoxon 126.0 0.7313888072967529\n",
      "mannwu 263.0 0.4912362699802683\n"
     ]
    },
    {
     "data": {
      "image/png": "[encoded data removed]",
      "text/plain": [
       "<Figure size 720x480 with 1 Axes>"
      ]
     },
     "metadata": {
      "needs_background": "light"
     },
     "output_type": "display_data"
    }
   ],
   "source": [
    "fig = plt.figure(dpi=120)\n",
    "colors = [\"red\", \"green\", \"blue\"]\n",
    "sns.distplot(a=xx_1, hist=False, label=\"Isocortex\", color=colors[0])\n",
    "sns.distplot(a=xx_2, hist=False, label=\"Thalamus & Straitum\", color=colors[1])\n",
    "plt.title(\"ASDp\")\n",
    "from scipy.stats import wilcoxon\n",
    "print(np.mean(xx_1), np.mean(xx_2), np.mean(xx_1)/np.mean(xx_2))\n",
    "w, p = wilcoxon(xx_1, xx_2)\n",
    "print(\"wilcoxon\", w, p)\n",
    "w, p = mannwhitneyu(xx_1, xx_2)\n",
    "print(\"mannwu\", w, p)"
   ]
  },
  {
   "cell_type": "code",
   "execution_count": 93,
   "metadata": {},
   "outputs": [],
   "source": [
    "G1_Region = [\"Isocortex\"]\n",
    "G2_Region = [\"Thalamus\", \"Striatum\"]\n",
    "\n",
    "# ASDp\n",
    "G1, G2 = [], []\n",
    "for region in G1_Region:\n",
    "    STRs = Incircuit_df[Incircuit_df[\"REG\"]==region][\"STR\"].values\n",
    "    for STR in STRs:\n",
    "        z_dist = ZscoreOneSTR_Weighted_Indv_Gene(STR, ExpZscoreMat, NDD_gene2MutN, Method = 2, Match_DF = Agg_Match)\n",
    "        G1.append(z_dist)\n",
    "G1 = np.array(G1)        \n",
    "for region in G2_Region:\n",
    "    STRs = Incircuit_df[Incircuit_df[\"REG\"]==region][\"STR\"].values\n",
    "    for STR in STRs:\n",
    "        z_dist = ZscoreOneSTR_Weighted_Indv_Gene(STR, ExpZscoreMat, NDD_gene2MutN, Method = 2, Match_DF = Agg_Match)\n",
    "        G2.append(z_dist)\n",
    "G1 = np.array(G1)  \n",
    "G2 = np.array(G2)  \n",
    "xx_1 = np.mean(G1, axis=0)\n",
    "xx_2 = np.mean(G2, axis=0)"
   ]
  },
  {
   "cell_type": "code",
   "execution_count": 94,
   "metadata": {},
   "outputs": [
    {
     "data": {
      "text/plain": [
       "Text(0.5, 1.0, 'NDD')"
      ]
     },
     "execution_count": 94,
     "metadata": {},
     "output_type": "execute_result"
    },
    {
     "data": {
      "image/png": "[encoded data removed]",
      "text/plain": [
       "<Figure size 720x480 with 1 Axes>"
      ]
     },
     "metadata": {
      "needs_background": "light"
     },
     "output_type": "display_data"
    }
   ],
   "source": [
    "fig = plt.figure(dpi=120)\n",
    "colors = [\"red\", \"green\", \"blue\"]\n",
    "sns.distplot(a=xx_1, hist=False, label=\"Isocortex\", color=colors[0])\n",
    "sns.distplot(a=xx_2, hist=False, label=\"Thalamus & Straitum\", color=colors[1])\n",
    "mannwhitneyu(xx_1, xx_2)\n",
    "plt.title(\"NDD\")"
   ]
  },
  {
   "cell_type": "code",
   "execution_count": 95,
   "metadata": {},
   "outputs": [
    {
     "name": "stdout",
     "output_type": "stream",
     "text": [
      "1.3544220870836106 1.1973652899847167 1.1311686570611201\n",
      "wilcoxon 247.0 0.7505744646291802\n",
      "mannwu 428.0 0.13110831742682938\n"
     ]
    }
   ],
   "source": [
    "from scipy.stats import wilcoxon\n",
    "print(np.mean(xx_1), np.mean(xx_2), np.mean(xx_1)/np.mean(xx_2))\n",
    "w, p = wilcoxon(xx_1, xx_2)\n",
    "print(\"wilcoxon\", w, p)\n",
    "w, p = mannwhitneyu(xx_1, xx_2)\n",
    "print(\"mannwu\", w, p)"
   ]
  },
  {
   "cell_type": "code",
   "execution_count": null,
   "metadata": {},
   "outputs": [],
   "source": []
  },
  {
   "cell_type": "code",
   "execution_count": 202,
   "metadata": {},
   "outputs": [
    {
     "data": {
      "text/plain": [
       "['Striatum',\n",
       " 'Thalamus',\n",
       " 'Isocortex',\n",
       " 'Hippocampal_formation',\n",
       " 'Cortical_subplate',\n",
       " 'Olfactory_areas',\n",
       " 'Hippocampal_region']"
      ]
     },
     "execution_count": 202,
     "metadata": {},
     "output_type": "execute_result"
    }
   ],
   "source": [
    "REGs = list(set(Incircuit_df[\"REG\"].values))\n",
    "REGs"
   ]
  },
  {
   "cell_type": "code",
   "execution_count": 205,
   "metadata": {},
   "outputs": [
    {
     "name": "stdout",
     "output_type": "stream",
     "text": [
      "Striatum\n",
      "1.2073628808832506 1.128681788475073 1.0697106068438307\n",
      "MannwhitneyuResult(statistic=356.0, pvalue=0.42221681756962065)\n",
      "MannwhitneyuResult(statistic=3147.0, pvalue=0.2934174432205695)\n",
      "Thalamus\n",
      "1.5966456747726148 1.2488779161169496 1.278464175054801\n",
      "MannwhitneyuResult(statistic=352.0, pvalue=0.3957058430106323)\n",
      "MannwhitneyuResult(statistic=5864.0, pvalue=0.47987716193181584)\n",
      "Isocortex\n",
      "1.0939422143746094 1.3544220870836106 0.8076819071447102\n",
      "MannwhitneyuResult(statistic=340.0, pvalue=0.3194508361420093)\n",
      "MannwhitneyuResult(statistic=69568.0, pvalue=0.20025227333305184)\n",
      "Hippocampal_formation\n",
      "1.1096809018787732 1.277120501254313 0.8688928732949707\n",
      "MannwhitneyuResult(statistic=364.0, pvalue=0.4761889955322788)\n",
      "MannwhitneyuResult(statistic=5720.0, pvalue=0.3595450493775452)\n",
      "Cortical_subplate\n",
      "1.3048360580262055 1.6162828972914167 0.8073067284278408\n",
      "MannwhitneyuResult(statistic=356.0, pvalue=0.42221681756962065)\n",
      "MannwhitneyuResult(statistic=3206.0, pvalue=0.3637244952752816)\n",
      "Olfactory_areas\n",
      "1.3333186078990322 1.1317167427812331 1.178138095423379\n",
      "MannwhitneyuResult(statistic=347.0, pvalue=0.36324689061587456)\n",
      "MannwhitneyuResult(statistic=5540.0, pvalue=0.22777581966084898)\n",
      "Hippocampal_region\n",
      "1.5559412812811602 1.6754649652718403 0.9286623794181887\n",
      "MannwhitneyuResult(statistic=355.0, pvalue=0.41555091868818056)\n",
      "MannwhitneyuResult(statistic=5778.0, pvalue=0.40705356794734293)\n"
     ]
    }
   ],
   "source": [
    "for REG in list(set(Incircuit_df[\"REG\"].values)):\n",
    "    print(REG)\n",
    "    STRs = Incircuit_df[Incircuit_df[\"REG\"]==REG][\"STR\"].values\n",
    "    tmp_dat_asdp = []\n",
    "    tmp_dat_ndd = []\n",
    "    for STR in STRs:\n",
    "        asd_p = ZscoreOneSTR_Weighted_Indv_Gene(STR, ExpZscoreMat, ASDp_gene2MutN, Method = 2, Match_DF = Agg_Match)\n",
    "        asd_ndd = ZscoreOneSTR_Weighted_Indv_Gene(STR, ExpZscoreMat, NDD_gene2MutN, Method = 2, Match_DF = Agg_Match)\n",
    "        tmp_dat_asdp.append(asd_p)\n",
    "        tmp_dat_ndd.append(asd_ndd)\n",
    "    tmp_dat_asdp = np.array(tmp_dat_asdp)\n",
    "    tmp_dat_ndd = np.array(tmp_dat_ndd)\n",
    "    xx_1 = np.mean(tmp_dat_asdp, axis=0)\n",
    "    xx_2 = np.mean(tmp_dat_ndd, axis=0)\n",
    "    print(np.mean(xx_1), np.mean(xx_2), np.mean(xx_1)/np.mean(xx_2))\n",
    "    print(mannwhitneyu(xx_1, xx_2))\n",
    "    print(mannwhitneyu(tmp_dat_asdp.flatten(), tmp_dat_ndd.flatten()))"
   ]
  },
  {
   "cell_type": "code",
   "execution_count": 210,
   "metadata": {},
   "outputs": [
    {
     "name": "stdout",
     "output_type": "stream",
     "text": [
      "1.5966456747726148 1.2488779161169496 1.278464175054801\n",
      "MannwhitneyuResult(statistic=352.0, pvalue=0.3957058430106323)\n",
      "MannwhitneyuResult(statistic=5864.0, pvalue=0.47987716193181584)\n"
     ]
    }
   ],
   "source": [
    "REG=\"Thalamus\"\n",
    "STRs = Incircuit_df[Incircuit_df[\"REG\"]==REG][\"STR\"].values\n",
    "tmp_dat_asdp = []\n",
    "tmp_dat_ndd = []\n",
    "for STR in STRs:\n",
    "    asd_p = ZscoreOneSTR_Weighted_Indv_Gene(STR, ExpZscoreMat, ASDp_gene2MutN, Method = 2, Match_DF = Agg_Match)\n",
    "    asd_ndd = ZscoreOneSTR_Weighted_Indv_Gene(STR, ExpZscoreMat, NDD_gene2MutN, Method = 2, Match_DF = Agg_Match)\n",
    "    tmp_dat_asdp.append(asd_p)\n",
    "    tmp_dat_ndd.append(asd_ndd)\n",
    "tmp_dat_asdp = np.array(tmp_dat_asdp)\n",
    "tmp_dat_ndd = np.array(tmp_dat_ndd)\n",
    "xx_1 = np.mean(tmp_dat_asdp, axis=0)\n",
    "xx_2 = np.mean(tmp_dat_ndd, axis=0)\n",
    "print(np.mean(xx_1), np.mean(xx_2), np.mean(xx_1)/np.mean(xx_2))\n",
    "print(mannwhitneyu(xx_1, xx_2))\n",
    "print(mannwhitneyu(tmp_dat_asdp.flatten(), tmp_dat_ndd.flatten()))"
   ]
  },
  {
   "cell_type": "code",
   "execution_count": 211,
   "metadata": {},
   "outputs": [
    {
     "data": {
      "text/plain": [
       "Text(0.5, 1.0, 'Thalamus')"
      ]
     },
     "execution_count": 211,
     "metadata": {},
     "output_type": "execute_result"
    },
    {
     "data": {
      "image/png": "[encoded data removed]",
      "text/plain": [
       "<Figure size 720x480 with 1 Axes>"
      ]
     },
     "metadata": {
      "needs_background": "light"
     },
     "output_type": "display_data"
    }
   ],
   "source": [
    "fig = plt.figure(dpi=120)\n",
    "colors = [\"red\", \"green\", \"blue\"]\n",
    "sns.distplot(a=xx_1, hist=False, label=\"ASDp\", color=colors[0])\n",
    "sns.distplot(a=xx_2, hist=False, label=\"NDD\", color=colors[1])\n",
    "mannwhitneyu(xx_1, xx_2)\n",
    "plt.title(REG)"
   ]
  },
  {
   "cell_type": "code",
   "execution_count": null,
   "metadata": {},
   "outputs": [],
   "source": []
  },
  {
   "cell_type": "code",
   "execution_count": 208,
   "metadata": {},
   "outputs": [
    {
     "name": "stdout",
     "output_type": "stream",
     "text": [
      "15.315191001244534 18.96190921917055 0.8076819071447102\n",
      "MannwhitneyuResult(statistic=340.0, pvalue=0.3194508361420093)\n",
      "MannwhitneyuResult(statistic=69568.0, pvalue=0.20025227333305184)\n"
     ]
    }
   ],
   "source": [
    "REG=\"Isocortex\"\n",
    "STRs = Incircuit_df[Incircuit_df[\"REG\"]==REG][\"STR\"].values\n",
    "tmp_dat_asdp = []\n",
    "tmp_dat_ndd = []\n",
    "for STR in STRs:\n",
    "    asd_p = ZscoreOneSTR_Weighted_Indv_Gene(STR, ExpZscoreMat, ASDp_gene2MutN, Method = 2, Match_DF = Agg_Match)\n",
    "    asd_ndd = ZscoreOneSTR_Weighted_Indv_Gene(STR, ExpZscoreMat, NDD_gene2MutN, Method = 2, Match_DF = Agg_Match)\n",
    "    tmp_dat_asdp.append(asd_p)\n",
    "    tmp_dat_ndd.append(asd_ndd)\n",
    "tmp_dat_asdp = np.array(tmp_dat_asdp)\n",
    "tmp_dat_ndd = np.array(tmp_dat_ndd)\n",
    "xx_1 = np.sum(tmp_dat_asdp, axis=0)\n",
    "xx_2 = np.sum(tmp_dat_ndd, axis=0)\n",
    "print(np.mean(xx_1), np.mean(xx_2), np.mean(xx_1)/np.mean(xx_2))\n",
    "print(mannwhitneyu(xx_1, xx_2))\n",
    "print(mannwhitneyu(tmp_dat_asdp.flatten(), tmp_dat_ndd.flatten()))"
   ]
  },
  {
   "cell_type": "code",
   "execution_count": 209,
   "metadata": {},
   "outputs": [
    {
     "data": {
      "text/plain": [
       "Text(0.5, 1.0, 'Isocortex')"
      ]
     },
     "execution_count": 209,
     "metadata": {},
     "output_type": "execute_result"
    },
    {
     "data": {
      "image/png": "[encoded data removed]",
      "text/plain": [
       "<Figure size 720x480 with 1 Axes>"
      ]
     },
     "metadata": {
      "needs_background": "light"
     },
     "output_type": "display_data"
    }
   ],
   "source": [
    "fig = plt.figure(dpi=120)\n",
    "colors = [\"red\", \"green\", \"blue\"]\n",
    "sns.distplot(a=xx_1, hist=False, label=\"ASDp\", color=colors[0])\n",
    "sns.distplot(a=xx_2, hist=False, label=\"NDD\", color=colors[1])\n",
    "mannwhitneyu(xx_1, xx_2)\n",
    "plt.title(REG)"
   ]
  },
  {
   "cell_type": "code",
   "execution_count": 197,
   "metadata": {},
   "outputs": [
    {
     "data": {
      "text/plain": [
       "15.315191001244534"
      ]
     },
     "execution_count": 197,
     "metadata": {},
     "output_type": "execute_result"
    }
   ],
   "source": [
    "np.mean(xx_1)"
   ]
  },
  {
   "cell_type": "code",
   "execution_count": null,
   "metadata": {},
   "outputs": [],
   "source": []
  },
  {
   "cell_type": "code",
   "execution_count": null,
   "metadata": {},
   "outputs": [],
   "source": [
    "    tmp_dat_asdp = np.array(tmp_dat_asdp)\n",
    "    tmp_dat_ndd = np.array(tmp_dat_ndd)\n",
    "    xx_1 = np.sum(tmp_dat_asdp, axis=0)\n",
    "    xx_2 = np.sum(tmp_dat_ndd, axis=0)\n",
    "    print(np.mean(xx_1), np.mean(xx_2), np.mean(xx_1)/np.mean(xx_2))\n",
    "    print(mannwhitneyu(xx_1, xx_2))\n",
    "    print(mannwhitneyu(tmp_dat_asdp.flatten(), tmp_dat_ndd.flatten()))"
   ]
  },
  {
   "cell_type": "code",
   "execution_count": 194,
   "metadata": {},
   "outputs": [
    {
     "name": "stdout",
     "output_type": "stream",
     "text": [
      "Thalamus Lateral_posterior_nucleus_of_the_thalamus\n",
      "2.7143339861684534 0.779528647445773 3.482019544839464\n",
      "MannwhitneyuResult(statistic=317.0, pvalue=0.19443014205879294)\n",
      "\n",
      "Thalamus Nucleus_of_reuniens\n",
      "0.6500364280016345 1.5763445148576292 0.4123695181318558\n",
      "MannwhitneyuResult(statistic=329.0, pvalue=0.2556132862487377)\n",
      "\n",
      "Isocortex Infralimbic_area\n",
      "0.8895732974263292 1.9696716719161798 0.4516353208049719\n",
      "MannwhitneyuResult(statistic=324.0, pvalue=0.22896962063127257)\n",
      "\n",
      "Isocortex Retrosplenial_area_lateral_agranular_part\n",
      "0.6458270265995456 1.4665296804438648 0.440377740192805\n",
      "MannwhitneyuResult(statistic=343.0, pvalue=0.337956843104302)\n",
      "\n",
      "Cortical_subplate Basolateral_amygdalar_nucleus\n",
      "0.6914534249568876 1.6408511080405321 0.42139924918757915\n",
      "MannwhitneyuResult(statistic=325.0, pvalue=0.23417038834373272)\n",
      "\n",
      "Olfactory_areas Accessory_olfactory_bulb\n",
      "1.8434805922153685 0.5769028017032269 3.195478660829421\n",
      "MannwhitneyuResult(statistic=332.0, pvalue=0.2723438005316339)\n",
      "\n",
      "Olfactory_areas Taenia_tecta\n",
      "0.49502765267413734 0.995132087802107 0.4974491916620611\n",
      "MannwhitneyuResult(statistic=328.0, pvalue=0.2501581721227109)\n",
      "\n"
     ]
    }
   ],
   "source": [
    "for REG in list(set(Incircuit_df[\"REG\"].values)):\n",
    "    #print(REG)\n",
    "    STRs = Incircuit_df[Incircuit_df[\"REG\"]==REG][\"STR\"].values\n",
    "\n",
    "    for STR in STRs:\n",
    "        #print(REG, STR)\n",
    "        asd_p = ZscoreOneSTR_Weighted_Indv_Gene(STR, ExpZscoreMat, ASDp_gene2MutN, Method = 2, Match_DF = Agg_Match)\n",
    "        asd_ndd = ZscoreOneSTR_Weighted_Indv_Gene(STR, ExpZscoreMat, NDD_gene2MutN, Method = 2, Match_DF = Agg_Match)\n",
    "        bias_1, bias_2 = np.mean(asd_p), np.mean(asd_ndd)\n",
    "        ratio = bias_1/bias_2\n",
    "        if ratio > 2 or ratio < 0.5:\n",
    "            print(REG, STR)\n",
    "            print(bias_1, bias_2, ratio)\n",
    "            print(mannwhitneyu(asd_p, asd_ndd))\n",
    "            print()\n",
    "        #print(np.mean(asd_p), np.mean(asd_ndd), np.mean(asd_p)/np.mean(asd_ndd))\n"
   ]
  },
  {
   "cell_type": "code",
   "execution_count": 34,
   "metadata": {},
   "outputs": [],
   "source": [
    "ssc_mutations = pd.read_excel(\"/Users/jiayao/Work/BrainDisorders/data/nature13908-s2/Supplementary_Table_2.xlsx\")"
   ]
  },
  {
   "cell_type": "code",
   "execution_count": 35,
   "metadata": {},
   "outputs": [
    {
     "data": {
      "text/plain": [
       "{\"3'UTR\",\n",
       " \"3'UTR-intron\",\n",
       " \"5'UTR\",\n",
       " \"5'UTR-intron\",\n",
       " 'frame-shift',\n",
       " 'intergenic',\n",
       " 'intron',\n",
       " 'missense',\n",
       " 'no-frame-shift',\n",
       " 'no-frame-shift-newStop',\n",
       " 'noEnd',\n",
       " 'noStart',\n",
       " 'non-coding',\n",
       " 'non-coding-intron',\n",
       " 'nonsense',\n",
       " 'splice-site',\n",
       " 'synonymous'}"
      ]
     },
     "execution_count": 35,
     "metadata": {},
     "output_type": "execute_result"
    }
   ],
   "source": [
    "set(ssc_mutations[\"effectType\"].values)"
   ]
  },
  {
   "cell_type": "code",
   "execution_count": 36,
   "metadata": {},
   "outputs": [],
   "source": [
    "ssc_proband_mut_dat = []\n",
    "for i, row in ssc_mutations.iterrows():\n",
    "    if \"pM\" in row[\"inChild\"] or \"pF\" in row[\"inChild\"]:\n",
    "        if row[\"effectType\"] in [\"missense\", \"noStart\", \"nonsense\", \"splice-site\", \"frame-shift\"]:\n",
    "            ssc_proband_mut_dat.append(row)\n",
    "ssc_proband_mut = pd.DataFrame(data=ssc_proband_mut_dat, columns=ssc_mutations.columns.values)"
   ]
  },
  {
   "cell_type": "code",
   "execution_count": 31,
   "metadata": {},
   "outputs": [
    {
     "data": {
      "text/html": [
       "<div>\n",
       "<style scoped>\n",
       "    .dataframe tbody tr th:only-of-type {\n",
       "        vertical-align: middle;\n",
       "    }\n",
       "\n",
       "    .dataframe tbody tr th {\n",
       "        vertical-align: top;\n",
       "    }\n",
       "\n",
       "    .dataframe thead th {\n",
       "        text-align: right;\n",
       "    }\n",
       "</style>\n",
       "<table border=\"1\" class=\"dataframe\">\n",
       "  <thead>\n",
       "    <tr style=\"text-align: right;\">\n",
       "      <th></th>\n",
       "      <th>familyId</th>\n",
       "      <th>location</th>\n",
       "      <th>variant</th>\n",
       "      <th>vcfVariant</th>\n",
       "      <th>inChild</th>\n",
       "      <th>fromParent</th>\n",
       "      <th>effectGene</th>\n",
       "      <th>effectType</th>\n",
       "      <th>familyDescription</th>\n",
       "      <th>CSHL</th>\n",
       "      <th>YALE</th>\n",
       "      <th>UW</th>\n",
       "      <th>IossifovWE2012</th>\n",
       "      <th>EichlerWE2012</th>\n",
       "      <th>StateWE2012</th>\n",
       "      <th>EichlerTG2012</th>\n",
       "    </tr>\n",
       "  </thead>\n",
       "  <tbody>\n",
       "    <tr>\n",
       "      <th>0</th>\n",
       "      <td>14505</td>\n",
       "      <td>1:897349</td>\n",
       "      <td>sub(G-&gt;A)</td>\n",
       "      <td>1:897349:G:A</td>\n",
       "      <td>pM</td>\n",
       "      <td>NaN</td>\n",
       "      <td>KLHL17</td>\n",
       "      <td>synonymous</td>\n",
       "      <td>pMsM</td>\n",
       "      <td>NaN</td>\n",
       "      <td>NaN</td>\n",
       "      <td>weak:valid</td>\n",
       "      <td>NaN</td>\n",
       "      <td>NaN</td>\n",
       "      <td>NaN</td>\n",
       "      <td>NaN</td>\n",
       "    </tr>\n",
       "    <tr>\n",
       "      <th>1</th>\n",
       "      <td>14320</td>\n",
       "      <td>3:127395222</td>\n",
       "      <td>sub(T-&gt;G)</td>\n",
       "      <td>3:127395222:T:G</td>\n",
       "      <td>pF</td>\n",
       "      <td>NaN</td>\n",
       "      <td>ABTB1</td>\n",
       "      <td>noStart</td>\n",
       "      <td>pFsM</td>\n",
       "      <td>strong</td>\n",
       "      <td>NaN</td>\n",
       "      <td>NaN</td>\n",
       "      <td>NaN</td>\n",
       "      <td>NaN</td>\n",
       "      <td>NaN</td>\n",
       "      <td>NaN</td>\n",
       "    </tr>\n",
       "    <tr>\n",
       "      <th>2</th>\n",
       "      <td>12111</td>\n",
       "      <td>1:1225729</td>\n",
       "      <td>sub(G-&gt;A)</td>\n",
       "      <td>1:1225729:G:A</td>\n",
       "      <td>sF</td>\n",
       "      <td>NaN</td>\n",
       "      <td>SCNN1D</td>\n",
       "      <td>missense</td>\n",
       "      <td>pMsF</td>\n",
       "      <td>NaN</td>\n",
       "      <td>NaN</td>\n",
       "      <td>strong:valid</td>\n",
       "      <td>NaN</td>\n",
       "      <td>NaN</td>\n",
       "      <td>NaN</td>\n",
       "      <td>NaN</td>\n",
       "    </tr>\n",
       "    <tr>\n",
       "      <th>3</th>\n",
       "      <td>11138</td>\n",
       "      <td>1:1230203</td>\n",
       "      <td>sub(G-&gt;A)</td>\n",
       "      <td>1:1230203:G:A</td>\n",
       "      <td>sM</td>\n",
       "      <td>NaN</td>\n",
       "      <td>ACAP3</td>\n",
       "      <td>intron</td>\n",
       "      <td>pMsM</td>\n",
       "      <td>strong</td>\n",
       "      <td>NaN</td>\n",
       "      <td>NaN</td>\n",
       "      <td>NaN</td>\n",
       "      <td>NaN</td>\n",
       "      <td>NaN</td>\n",
       "      <td>NaN</td>\n",
       "    </tr>\n",
       "  </tbody>\n",
       "</table>\n",
       "</div>"
      ],
      "text/plain": [
       "   familyId     location    variant       vcfVariant inChild fromParent  \\\n",
       "0     14505     1:897349  sub(G->A)     1:897349:G:A      pM        NaN   \n",
       "1     14320  3:127395222  sub(T->G)  3:127395222:T:G      pF        NaN   \n",
       "2     12111    1:1225729  sub(G->A)    1:1225729:G:A      sF        NaN   \n",
       "3     11138    1:1230203  sub(G->A)    1:1230203:G:A      sM        NaN   \n",
       "\n",
       "  effectGene  effectType familyDescription    CSHL YALE            UW  \\\n",
       "0     KLHL17  synonymous              pMsM     NaN  NaN    weak:valid   \n",
       "1      ABTB1     noStart              pFsM  strong  NaN           NaN   \n",
       "2     SCNN1D    missense              pMsF     NaN  NaN  strong:valid   \n",
       "3      ACAP3      intron              pMsM  strong  NaN           NaN   \n",
       "\n",
       "  IossifovWE2012 EichlerWE2012 StateWE2012 EichlerTG2012  \n",
       "0            NaN           NaN         NaN           NaN  \n",
       "1            NaN           NaN         NaN           NaN  \n",
       "2            NaN           NaN         NaN           NaN  \n",
       "3            NaN           NaN         NaN           NaN  "
      ]
     },
     "execution_count": 31,
     "metadata": {},
     "output_type": "execute_result"
    }
   ],
   "source": [
    "mutations.head(4)"
   ]
  },
  {
   "cell_type": "code",
   "execution_count": 39,
   "metadata": {},
   "outputs": [],
   "source": [
    "ssc_fam_info = pd.read_excel(\"/Users/jiayao/Work/BrainDisorders/data/nature13908-s2/Supplementary_Table_1.xlsx\",\n",
    "                            index_col=\"familyId\")"
   ]
  },
  {
   "cell_type": "code",
   "execution_count": 40,
   "metadata": {},
   "outputs": [
    {
     "data": {
      "text/html": [
       "<div>\n",
       "<style scoped>\n",
       "    .dataframe tbody tr th:only-of-type {\n",
       "        vertical-align: middle;\n",
       "    }\n",
       "\n",
       "    .dataframe tbody tr th {\n",
       "        vertical-align: top;\n",
       "    }\n",
       "\n",
       "    .dataframe thead th {\n",
       "        text-align: right;\n",
       "    }\n",
       "</style>\n",
       "<table border=\"1\" class=\"dataframe\">\n",
       "  <thead>\n",
       "    <tr style=\"text-align: right;\">\n",
       "      <th></th>\n",
       "      <th>collection</th>\n",
       "      <th>probandGender</th>\n",
       "      <th>siblingGender</th>\n",
       "      <th>SequencedAtCSHL</th>\n",
       "      <th>SequencedAtUW</th>\n",
       "      <th>SequencedAtYALE</th>\n",
       "      <th>motherRace</th>\n",
       "      <th>fatherRace</th>\n",
       "      <th>probandVIQ</th>\n",
       "      <th>probandNVIQ</th>\n",
       "      <th>...</th>\n",
       "      <th>fatherAgeInMonthsAtBirthOfProband</th>\n",
       "      <th>motherAgeInMonthsAtBirthOfSibling</th>\n",
       "      <th>fatherAgeInMonthsAtBirthOfSibling</th>\n",
       "      <th>prbRecLGDs</th>\n",
       "      <th>prbLGDs</th>\n",
       "      <th>prbMissense</th>\n",
       "      <th>prbSynonymous</th>\n",
       "      <th>sibLGDs</th>\n",
       "      <th>sibMissense</th>\n",
       "      <th>sibSynonymous</th>\n",
       "    </tr>\n",
       "    <tr>\n",
       "      <th>familyId</th>\n",
       "      <th></th>\n",
       "      <th></th>\n",
       "      <th></th>\n",
       "      <th></th>\n",
       "      <th></th>\n",
       "      <th></th>\n",
       "      <th></th>\n",
       "      <th></th>\n",
       "      <th></th>\n",
       "      <th></th>\n",
       "      <th></th>\n",
       "      <th></th>\n",
       "      <th></th>\n",
       "      <th></th>\n",
       "      <th></th>\n",
       "      <th></th>\n",
       "      <th></th>\n",
       "      <th></th>\n",
       "      <th></th>\n",
       "      <th></th>\n",
       "      <th></th>\n",
       "    </tr>\n",
       "  </thead>\n",
       "  <tbody>\n",
       "    <tr>\n",
       "      <th>11542</th>\n",
       "      <td>ssc</td>\n",
       "      <td>F</td>\n",
       "      <td>F</td>\n",
       "      <td>NaN</td>\n",
       "      <td>p1,s1</td>\n",
       "      <td>NaN</td>\n",
       "      <td>more-than-one-race</td>\n",
       "      <td>white</td>\n",
       "      <td>121.0</td>\n",
       "      <td>102.0</td>\n",
       "      <td>...</td>\n",
       "      <td>430.0</td>\n",
       "      <td>403.0</td>\n",
       "      <td>404.0</td>\n",
       "      <td>0.0</td>\n",
       "      <td>0.0</td>\n",
       "      <td>0.0</td>\n",
       "      <td>0.0</td>\n",
       "      <td>0.0</td>\n",
       "      <td>2.0</td>\n",
       "      <td>0.0</td>\n",
       "    </tr>\n",
       "    <tr>\n",
       "      <th>13736</th>\n",
       "      <td>ssc</td>\n",
       "      <td>M</td>\n",
       "      <td>M</td>\n",
       "      <td>p1,s1</td>\n",
       "      <td>NaN</td>\n",
       "      <td>NaN</td>\n",
       "      <td>white</td>\n",
       "      <td>white</td>\n",
       "      <td>119.0</td>\n",
       "      <td>112.0</td>\n",
       "      <td>...</td>\n",
       "      <td>400.0</td>\n",
       "      <td>425.0</td>\n",
       "      <td>429.0</td>\n",
       "      <td>0.0</td>\n",
       "      <td>0.0</td>\n",
       "      <td>0.0</td>\n",
       "      <td>0.0</td>\n",
       "      <td>0.0</td>\n",
       "      <td>0.0</td>\n",
       "      <td>0.0</td>\n",
       "    </tr>\n",
       "  </tbody>\n",
       "</table>\n",
       "<p>2 rows × 21 columns</p>\n",
       "</div>"
      ],
      "text/plain": [
       "         collection probandGender siblingGender SequencedAtCSHL SequencedAtUW  \\\n",
       "familyId                                                                        \n",
       "11542           ssc             F             F             NaN         p1,s1   \n",
       "13736           ssc             M             M           p1,s1           NaN   \n",
       "\n",
       "         SequencedAtYALE          motherRace fatherRace  probandVIQ  \\\n",
       "familyId                                                              \n",
       "11542                NaN  more-than-one-race      white       121.0   \n",
       "13736                NaN               white      white       119.0   \n",
       "\n",
       "          probandNVIQ  ...  fatherAgeInMonthsAtBirthOfProband  \\\n",
       "familyId               ...                                      \n",
       "11542           102.0  ...                              430.0   \n",
       "13736           112.0  ...                              400.0   \n",
       "\n",
       "          motherAgeInMonthsAtBirthOfSibling  \\\n",
       "familyId                                      \n",
       "11542                                 403.0   \n",
       "13736                                 425.0   \n",
       "\n",
       "          fatherAgeInMonthsAtBirthOfSibling  prbRecLGDs  prbLGDs  prbMissense  \\\n",
       "familyId                                                                        \n",
       "11542                                 404.0         0.0      0.0          0.0   \n",
       "13736                                 429.0         0.0      0.0          0.0   \n",
       "\n",
       "          prbSynonymous  sibLGDs  sibMissense  sibSynonymous  \n",
       "familyId                                                      \n",
       "11542               0.0      0.0          2.0            0.0  \n",
       "13736               0.0      0.0          0.0            0.0  \n",
       "\n",
       "[2 rows x 21 columns]"
      ]
     },
     "execution_count": 40,
     "metadata": {},
     "output_type": "execute_result"
    }
   ],
   "source": [
    "ssc_fam_info.head(2)"
   ]
  },
  {
   "cell_type": "code",
   "execution_count": 47,
   "metadata": {},
   "outputs": [],
   "source": [
    "for i, row in ssc_proband_mut.iterrows():\n",
    "    VIQ = ssc_fam_info.loc[row[\"familyId\"], \"probandVIQ\"]\n",
    "    NVIQ = ssc_fam_info.loc[row[\"familyId\"], \"probandNVIQ\"]\n",
    "    ssc_proband_mut.loc[i, \"VIQ\"] = VIQ\n",
    "    ssc_proband_mut.loc[i, \"NVIQ\"] = NVIQ"
   ]
  },
  {
   "cell_type": "code",
   "execution_count": 48,
   "metadata": {},
   "outputs": [
    {
     "data": {
      "text/plain": [
       "(159, 67)"
      ]
     },
     "execution_count": 48,
     "metadata": {},
     "output_type": "execute_result"
    }
   ],
   "source": [
    "Spark_Meta = pd.read_excel(\"/Users/jiayao/Work/ASD_Circuits/dat/genes/asd/spark_Meta_top_genes.xlsx\")\n",
    "Spark_Meta.shape"
   ]
  },
  {
   "cell_type": "code",
   "execution_count": 49,
   "metadata": {},
   "outputs": [
    {
     "data": {
      "text/html": [
       "<div>\n",
       "<style scoped>\n",
       "    .dataframe tbody tr th:only-of-type {\n",
       "        vertical-align: middle;\n",
       "    }\n",
       "\n",
       "    .dataframe tbody tr th {\n",
       "        vertical-align: top;\n",
       "    }\n",
       "\n",
       "    .dataframe thead th {\n",
       "        text-align: right;\n",
       "    }\n",
       "</style>\n",
       "<table border=\"1\" class=\"dataframe\">\n",
       "  <thead>\n",
       "    <tr style=\"text-align: right;\">\n",
       "      <th></th>\n",
       "      <th>GeneID</th>\n",
       "      <th>EntrezID</th>\n",
       "      <th>HGNC</th>\n",
       "      <th>CytoBand</th>\n",
       "      <th>ExACpLI</th>\n",
       "      <th>LoFOvsE</th>\n",
       "      <th>LOEUF</th>\n",
       "      <th>LOEUFbin</th>\n",
       "      <th>SynOvsE</th>\n",
       "      <th>sHet</th>\n",
       "      <th>...</th>\n",
       "      <th>AllExpected_NDD</th>\n",
       "      <th>pAllEnrich_NDD</th>\n",
       "      <th>MisObserved_NDD</th>\n",
       "      <th>MisExpected_NDD</th>\n",
       "      <th>pMisEnrich_NDD</th>\n",
       "      <th>MisEvents_NDD</th>\n",
       "      <th>MisDist_NDD</th>\n",
       "      <th>pMisCluster_NDD</th>\n",
       "      <th>pMisComb_NDD</th>\n",
       "      <th>pDenovoWEST_NDD</th>\n",
       "    </tr>\n",
       "  </thead>\n",
       "  <tbody>\n",
       "    <tr>\n",
       "      <th>0</th>\n",
       "      <td>ENSG00000143442</td>\n",
       "      <td>23126</td>\n",
       "      <td>POGZ</td>\n",
       "      <td>1q21.3</td>\n",
       "      <td>1</td>\n",
       "      <td>0.045859</td>\n",
       "      <td>0.119</td>\n",
       "      <td>0</td>\n",
       "      <td>0.97057</td>\n",
       "      <td>0.214955</td>\n",
       "      <td>...</td>\n",
       "      <td>0.934605</td>\n",
       "      <td>1e-14</td>\n",
       "      <td>2.44</td>\n",
       "      <td>0.601588</td>\n",
       "      <td>0.00168</td>\n",
       "      <td>9</td>\n",
       "      <td>550.2</td>\n",
       "      <td>0.03</td>\n",
       "      <td>0.000571</td>\n",
       "      <td>1e-14</td>\n",
       "    </tr>\n",
       "    <tr>\n",
       "      <th>1</th>\n",
       "      <td>ENSG00000169057</td>\n",
       "      <td>4204</td>\n",
       "      <td>MECP2</td>\n",
       "      <td>Xq28</td>\n",
       "      <td>0.69809</td>\n",
       "      <td>0.085755</td>\n",
       "      <td>0.407</td>\n",
       "      <td>1</td>\n",
       "      <td>2.02820</td>\n",
       "      <td>0.0882034</td>\n",
       "      <td>...</td>\n",
       "      <td>0.18052</td>\n",
       "      <td>1e-14</td>\n",
       "      <td>9.24</td>\n",
       "      <td>0.124697</td>\n",
       "      <td>1e-14</td>\n",
       "      <td>44</td>\n",
       "      <td>131.4</td>\n",
       "      <td>1.01e-08</td>\n",
       "      <td>5.22e-21</td>\n",
       "      <td>5.22e-21</td>\n",
       "    </tr>\n",
       "    <tr>\n",
       "      <th>2</th>\n",
       "      <td>ENSG00000136531</td>\n",
       "      <td>6326</td>\n",
       "      <td>SCN2A</td>\n",
       "      <td>2q24.3</td>\n",
       "      <td>1</td>\n",
       "      <td>0.060487</td>\n",
       "      <td>0.127</td>\n",
       "      <td>0</td>\n",
       "      <td>1.00840</td>\n",
       "      <td>0.257771</td>\n",
       "      <td>...</td>\n",
       "      <td>1.88419</td>\n",
       "      <td>1e-14</td>\n",
       "      <td>34.18</td>\n",
       "      <td>1.47464</td>\n",
       "      <td>1e-14</td>\n",
       "      <td>58</td>\n",
       "      <td>1106.6</td>\n",
       "      <td>0.00247</td>\n",
       "      <td>9.7e-16</td>\n",
       "      <td>9.7e-16</td>\n",
       "    </tr>\n",
       "    <tr>\n",
       "      <th>3</th>\n",
       "      <td>ENSG00000171862</td>\n",
       "      <td>5728</td>\n",
       "      <td>PTEN</td>\n",
       "      <td>10q23.31</td>\n",
       "      <td>0.97551</td>\n",
       "      <td>0.240930</td>\n",
       "      <td>0.507</td>\n",
       "      <td>2</td>\n",
       "      <td>1.01830</td>\n",
       "      <td>0.12616</td>\n",
       "      <td>...</td>\n",
       "      <td>0.365588</td>\n",
       "      <td>1e-14</td>\n",
       "      <td>14.1</td>\n",
       "      <td>0.273796</td>\n",
       "      <td>1e-14</td>\n",
       "      <td>20</td>\n",
       "      <td>178.5</td>\n",
       "      <td>0.00542</td>\n",
       "      <td>2.09e-15</td>\n",
       "      <td>2.09e-15</td>\n",
       "    </tr>\n",
       "    <tr>\n",
       "      <th>4</th>\n",
       "      <td>ENSG00000173575</td>\n",
       "      <td>1106</td>\n",
       "      <td>CHD2</td>\n",
       "      <td>15q26.1</td>\n",
       "      <td>1</td>\n",
       "      <td>0.027031</td>\n",
       "      <td>0.070</td>\n",
       "      <td>0</td>\n",
       "      <td>0.95212</td>\n",
       "      <td>0.172054</td>\n",
       "      <td>...</td>\n",
       "      <td>1.61531</td>\n",
       "      <td>1e-14</td>\n",
       "      <td>8.78</td>\n",
       "      <td>1.11824</td>\n",
       "      <td>1.38e-09</td>\n",
       "      <td>13</td>\n",
       "      <td>410.8</td>\n",
       "      <td>2.4e-05</td>\n",
       "      <td>1.06e-12</td>\n",
       "      <td>1e-14</td>\n",
       "    </tr>\n",
       "    <tr>\n",
       "      <th>...</th>\n",
       "      <td>...</td>\n",
       "      <td>...</td>\n",
       "      <td>...</td>\n",
       "      <td>...</td>\n",
       "      <td>...</td>\n",
       "      <td>...</td>\n",
       "      <td>...</td>\n",
       "      <td>...</td>\n",
       "      <td>...</td>\n",
       "      <td>...</td>\n",
       "      <td>...</td>\n",
       "      <td>...</td>\n",
       "      <td>...</td>\n",
       "      <td>...</td>\n",
       "      <td>...</td>\n",
       "      <td>...</td>\n",
       "      <td>...</td>\n",
       "      <td>...</td>\n",
       "      <td>...</td>\n",
       "      <td>...</td>\n",
       "      <td>...</td>\n",
       "    </tr>\n",
       "    <tr>\n",
       "      <th>154</th>\n",
       "      <td>ENSG00000147050</td>\n",
       "      <td>7403</td>\n",
       "      <td>KDM6A</td>\n",
       "      <td>Xp11.3</td>\n",
       "      <td>0.99999</td>\n",
       "      <td>0.070167</td>\n",
       "      <td>0.161</td>\n",
       "      <td>0</td>\n",
       "      <td>0.99117</td>\n",
       "      <td>0.175065</td>\n",
       "      <td>...</td>\n",
       "      <td>0.541389</td>\n",
       "      <td>5.41e-17</td>\n",
       "      <td>2.99</td>\n",
       "      <td>0.340524</td>\n",
       "      <td>2.93e-05</td>\n",
       "      <td>9</td>\n",
       "      <td>513.7</td>\n",
       "      <td>0.01</td>\n",
       "      <td>6.04e-06</td>\n",
       "      <td>5.41e-17</td>\n",
       "    </tr>\n",
       "    <tr>\n",
       "      <th>155</th>\n",
       "      <td>ENSG00000117305</td>\n",
       "      <td>3155</td>\n",
       "      <td>HMGCL</td>\n",
       "      <td>1p36.11</td>\n",
       "      <td>0.0025625</td>\n",
       "      <td>0.671950</td>\n",
       "      <td>1.112</td>\n",
       "      <td>6</td>\n",
       "      <td>1.02010</td>\n",
       "      <td>0.0114368</td>\n",
       "      <td>...</td>\n",
       "      <td>0.0576467</td>\n",
       "      <td>0.15</td>\n",
       "      <td>0.16</td>\n",
       "      <td>0.044162</td>\n",
       "      <td>0.08</td>\n",
       "      <td>2</td>\n",
       "      <td>68</td>\n",
       "      <td>0.14</td>\n",
       "      <td>0.06</td>\n",
       "      <td>0.06</td>\n",
       "    </tr>\n",
       "    <tr>\n",
       "      <th>156</th>\n",
       "      <td>ENSG00000095951</td>\n",
       "      <td>3096</td>\n",
       "      <td>HIVEP1</td>\n",
       "      <td>6p24.1</td>\n",
       "      <td>0.99999</td>\n",
       "      <td>0.095681</td>\n",
       "      <td>0.173</td>\n",
       "      <td>0</td>\n",
       "      <td>1.01900</td>\n",
       "      <td>0.140793</td>\n",
       "      <td>...</td>\n",
       "      <td>1.36579</td>\n",
       "      <td>0.37</td>\n",
       "      <td>1.47</td>\n",
       "      <td>0.916254</td>\n",
       "      <td>0.15</td>\n",
       "      <td>7</td>\n",
       "      <td>1676</td>\n",
       "      <td>0.31</td>\n",
       "      <td>0.19</td>\n",
       "      <td>0.19</td>\n",
       "    </tr>\n",
       "    <tr>\n",
       "      <th>157</th>\n",
       "      <td>ENSG00000177150</td>\n",
       "      <td>125228</td>\n",
       "      <td>FAM210A</td>\n",
       "      <td>18p11.21</td>\n",
       "      <td>0.015124</td>\n",
       "      <td>0.857950</td>\n",
       "      <td>1.450</td>\n",
       "      <td>7</td>\n",
       "      <td>1.01740</td>\n",
       "      <td>0.0202452</td>\n",
       "      <td>...</td>\n",
       "      <td>.</td>\n",
       "      <td>.</td>\n",
       "      <td>.</td>\n",
       "      <td>.</td>\n",
       "      <td>.</td>\n",
       "      <td>.</td>\n",
       "      <td>.</td>\n",
       "      <td>.</td>\n",
       "      <td>.</td>\n",
       "      <td>.</td>\n",
       "    </tr>\n",
       "    <tr>\n",
       "      <th>158</th>\n",
       "      <td>ENSG00000188827</td>\n",
       "      <td>84464</td>\n",
       "      <td>SLX4</td>\n",
       "      <td>16p13.3</td>\n",
       "      <td>8.9032e-08</td>\n",
       "      <td>0.680040</td>\n",
       "      <td>0.872</td>\n",
       "      <td>4</td>\n",
       "      <td>1.24150</td>\n",
       "      <td>0.0146009</td>\n",
       "      <td>...</td>\n",
       "      <td>0.201024</td>\n",
       "      <td>0.02</td>\n",
       "      <td>0.47</td>\n",
       "      <td>0.13112</td>\n",
       "      <td>0.03</td>\n",
       "      <td>5</td>\n",
       "      <td>1191.6</td>\n",
       "      <td>0.42</td>\n",
       "      <td>0.06</td>\n",
       "      <td>0.02</td>\n",
       "    </tr>\n",
       "  </tbody>\n",
       "</table>\n",
       "<p>159 rows × 67 columns</p>\n",
       "</div>"
      ],
      "text/plain": [
       "              GeneID  EntrezID     HGNC  CytoBand     ExACpLI   LoFOvsE  \\\n",
       "0    ENSG00000143442     23126     POGZ    1q21.3           1  0.045859   \n",
       "1    ENSG00000169057      4204    MECP2      Xq28     0.69809  0.085755   \n",
       "2    ENSG00000136531      6326    SCN2A    2q24.3           1  0.060487   \n",
       "3    ENSG00000171862      5728     PTEN  10q23.31     0.97551  0.240930   \n",
       "4    ENSG00000173575      1106     CHD2   15q26.1           1  0.027031   \n",
       "..               ...       ...      ...       ...         ...       ...   \n",
       "154  ENSG00000147050      7403    KDM6A    Xp11.3     0.99999  0.070167   \n",
       "155  ENSG00000117305      3155    HMGCL   1p36.11   0.0025625  0.671950   \n",
       "156  ENSG00000095951      3096   HIVEP1    6p24.1     0.99999  0.095681   \n",
       "157  ENSG00000177150    125228  FAM210A  18p11.21    0.015124  0.857950   \n",
       "158  ENSG00000188827     84464     SLX4   16p13.3  8.9032e-08  0.680040   \n",
       "\n",
       "     LOEUF  LOEUFbin  SynOvsE       sHet  ... AllExpected_NDD pAllEnrich_NDD  \\\n",
       "0    0.119         0  0.97057   0.214955  ...        0.934605          1e-14   \n",
       "1    0.407         1  2.02820  0.0882034  ...         0.18052          1e-14   \n",
       "2    0.127         0  1.00840   0.257771  ...         1.88419          1e-14   \n",
       "3    0.507         2  1.01830    0.12616  ...        0.365588          1e-14   \n",
       "4    0.070         0  0.95212   0.172054  ...         1.61531          1e-14   \n",
       "..     ...       ...      ...        ...  ...             ...            ...   \n",
       "154  0.161         0  0.99117   0.175065  ...        0.541389       5.41e-17   \n",
       "155  1.112         6  1.02010  0.0114368  ...       0.0576467           0.15   \n",
       "156  0.173         0  1.01900   0.140793  ...         1.36579           0.37   \n",
       "157  1.450         7  1.01740  0.0202452  ...               .              .   \n",
       "158  0.872         4  1.24150  0.0146009  ...        0.201024           0.02   \n",
       "\n",
       "    MisObserved_NDD MisExpected_NDD pMisEnrich_NDD MisEvents_NDD MisDist_NDD  \\\n",
       "0              2.44        0.601588        0.00168             9       550.2   \n",
       "1              9.24        0.124697          1e-14            44       131.4   \n",
       "2             34.18         1.47464          1e-14            58      1106.6   \n",
       "3              14.1        0.273796          1e-14            20       178.5   \n",
       "4              8.78         1.11824       1.38e-09            13       410.8   \n",
       "..              ...             ...            ...           ...         ...   \n",
       "154            2.99        0.340524       2.93e-05             9       513.7   \n",
       "155            0.16        0.044162           0.08             2          68   \n",
       "156            1.47        0.916254           0.15             7        1676   \n",
       "157               .               .              .             .           .   \n",
       "158            0.47         0.13112           0.03             5      1191.6   \n",
       "\n",
       "    pMisCluster_NDD  pMisComb_NDD  pDenovoWEST_NDD  \n",
       "0              0.03      0.000571            1e-14  \n",
       "1          1.01e-08      5.22e-21         5.22e-21  \n",
       "2           0.00247       9.7e-16          9.7e-16  \n",
       "3           0.00542      2.09e-15         2.09e-15  \n",
       "4           2.4e-05      1.06e-12            1e-14  \n",
       "..              ...           ...              ...  \n",
       "154            0.01      6.04e-06         5.41e-17  \n",
       "155            0.14          0.06             0.06  \n",
       "156            0.31          0.19             0.19  \n",
       "157               .             .                .  \n",
       "158            0.42          0.06             0.02  \n",
       "\n",
       "[159 rows x 67 columns]"
      ]
     },
     "execution_count": 49,
     "metadata": {},
     "output_type": "execute_result"
    }
   ],
   "source": [
    "Spark_Meta"
   ]
  },
  {
   "cell_type": "code",
   "execution_count": 50,
   "metadata": {},
   "outputs": [],
   "source": [
    "ssc_proband_mut_candidate = ssc_proband_mut[ssc_proband_mut[\"effectGene\"].isin(Spark_Meta[\"HGNC\"].values)]"
   ]
  },
  {
   "cell_type": "code",
   "execution_count": 51,
   "metadata": {},
   "outputs": [
    {
     "data": {
      "text/html": [
       "<div>\n",
       "<style scoped>\n",
       "    .dataframe tbody tr th:only-of-type {\n",
       "        vertical-align: middle;\n",
       "    }\n",
       "\n",
       "    .dataframe tbody tr th {\n",
       "        vertical-align: top;\n",
       "    }\n",
       "\n",
       "    .dataframe thead th {\n",
       "        text-align: right;\n",
       "    }\n",
       "</style>\n",
       "<table border=\"1\" class=\"dataframe\">\n",
       "  <thead>\n",
       "    <tr style=\"text-align: right;\">\n",
       "      <th></th>\n",
       "      <th>familyId</th>\n",
       "      <th>location</th>\n",
       "      <th>variant</th>\n",
       "      <th>vcfVariant</th>\n",
       "      <th>inChild</th>\n",
       "      <th>fromParent</th>\n",
       "      <th>effectGene</th>\n",
       "      <th>effectType</th>\n",
       "      <th>familyDescription</th>\n",
       "      <th>CSHL</th>\n",
       "      <th>YALE</th>\n",
       "      <th>UW</th>\n",
       "      <th>IossifovWE2012</th>\n",
       "      <th>EichlerWE2012</th>\n",
       "      <th>StateWE2012</th>\n",
       "      <th>EichlerTG2012</th>\n",
       "      <th>VIQ</th>\n",
       "      <th>NVIQ</th>\n",
       "    </tr>\n",
       "  </thead>\n",
       "  <tbody>\n",
       "    <tr>\n",
       "      <th>108</th>\n",
       "      <td>13545</td>\n",
       "      <td>20:49509095</td>\n",
       "      <td>ins(T)</td>\n",
       "      <td>20:49509094:G:GT</td>\n",
       "      <td>pM</td>\n",
       "      <td>NaN</td>\n",
       "      <td>ADNP</td>\n",
       "      <td>frame-shift</td>\n",
       "      <td>pM</td>\n",
       "      <td>NaN</td>\n",
       "      <td>strong:valid</td>\n",
       "      <td>NaN</td>\n",
       "      <td>NaN</td>\n",
       "      <td>NaN</td>\n",
       "      <td>NaN</td>\n",
       "      <td>yes</td>\n",
       "      <td>23.0</td>\n",
       "      <td>38.0</td>\n",
       "    </tr>\n",
       "    <tr>\n",
       "      <th>123</th>\n",
       "      <td>12130</td>\n",
       "      <td>20:49510028</td>\n",
       "      <td>del(2)</td>\n",
       "      <td>20:49510027:CTT:C</td>\n",
       "      <td>pF</td>\n",
       "      <td>NaN</td>\n",
       "      <td>ADNP</td>\n",
       "      <td>frame-shift</td>\n",
       "      <td>pF</td>\n",
       "      <td>NaN</td>\n",
       "      <td>NaN</td>\n",
       "      <td>strong:valid</td>\n",
       "      <td>NaN</td>\n",
       "      <td>yes</td>\n",
       "      <td>NaN</td>\n",
       "      <td>NaN</td>\n",
       "      <td>62.0</td>\n",
       "      <td>55.0</td>\n",
       "    </tr>\n",
       "    <tr>\n",
       "      <th>242</th>\n",
       "      <td>12645</td>\n",
       "      <td>4:114232545</td>\n",
       "      <td>sub(C-&gt;T)</td>\n",
       "      <td>4:114232545:C:T</td>\n",
       "      <td>pM</td>\n",
       "      <td>NaN</td>\n",
       "      <td>ANK2</td>\n",
       "      <td>nonsense</td>\n",
       "      <td>pMsM</td>\n",
       "      <td>strong:valid</td>\n",
       "      <td>NaN</td>\n",
       "      <td>NaN</td>\n",
       "      <td>yes</td>\n",
       "      <td>NaN</td>\n",
       "      <td>NaN</td>\n",
       "      <td>NaN</td>\n",
       "      <td>94.0</td>\n",
       "      <td>84.0</td>\n",
       "    </tr>\n",
       "    <tr>\n",
       "      <th>259</th>\n",
       "      <td>14256</td>\n",
       "      <td>4:114251469</td>\n",
       "      <td>sub(C-&gt;T)</td>\n",
       "      <td>4:114251469:C:T</td>\n",
       "      <td>pM</td>\n",
       "      <td>NaN</td>\n",
       "      <td>ANK2</td>\n",
       "      <td>nonsense</td>\n",
       "      <td>pMsF</td>\n",
       "      <td>NaN</td>\n",
       "      <td>strong:valid</td>\n",
       "      <td>NaN</td>\n",
       "      <td>NaN</td>\n",
       "      <td>NaN</td>\n",
       "      <td>NaN</td>\n",
       "      <td>NaN</td>\n",
       "      <td>105.0</td>\n",
       "      <td>98.0</td>\n",
       "    </tr>\n",
       "    <tr>\n",
       "      <th>264</th>\n",
       "      <td>13768</td>\n",
       "      <td>4:114277600</td>\n",
       "      <td>del(1)</td>\n",
       "      <td>4:114277599:AG:A</td>\n",
       "      <td>pM</td>\n",
       "      <td>NaN</td>\n",
       "      <td>ANK2</td>\n",
       "      <td>frame-shift</td>\n",
       "      <td>pMsF</td>\n",
       "      <td>strong</td>\n",
       "      <td>NaN</td>\n",
       "      <td>NaN</td>\n",
       "      <td>NaN</td>\n",
       "      <td>NaN</td>\n",
       "      <td>NaN</td>\n",
       "      <td>NaN</td>\n",
       "      <td>100.0</td>\n",
       "      <td>94.0</td>\n",
       "    </tr>\n",
       "    <tr>\n",
       "      <th>...</th>\n",
       "      <td>...</td>\n",
       "      <td>...</td>\n",
       "      <td>...</td>\n",
       "      <td>...</td>\n",
       "      <td>...</td>\n",
       "      <td>...</td>\n",
       "      <td>...</td>\n",
       "      <td>...</td>\n",
       "      <td>...</td>\n",
       "      <td>...</td>\n",
       "      <td>...</td>\n",
       "      <td>...</td>\n",
       "      <td>...</td>\n",
       "      <td>...</td>\n",
       "      <td>...</td>\n",
       "      <td>...</td>\n",
       "      <td>...</td>\n",
       "      <td>...</td>\n",
       "    </tr>\n",
       "    <tr>\n",
       "      <th>5326</th>\n",
       "      <td>14204</td>\n",
       "      <td>10:28899669</td>\n",
       "      <td>del(4)</td>\n",
       "      <td>10:28899668:AATTC:A</td>\n",
       "      <td>pF</td>\n",
       "      <td>NaN</td>\n",
       "      <td>WAC</td>\n",
       "      <td>frame-shift</td>\n",
       "      <td>pFsF</td>\n",
       "      <td>strong:valid</td>\n",
       "      <td>NaN</td>\n",
       "      <td>NaN</td>\n",
       "      <td>NaN</td>\n",
       "      <td>NaN</td>\n",
       "      <td>NaN</td>\n",
       "      <td>NaN</td>\n",
       "      <td>68.0</td>\n",
       "      <td>57.0</td>\n",
       "    </tr>\n",
       "    <tr>\n",
       "      <th>5328</th>\n",
       "      <td>12044</td>\n",
       "      <td>4:85715777</td>\n",
       "      <td>sub(G-&gt;A)</td>\n",
       "      <td>4:85715777:G:A</td>\n",
       "      <td>pM</td>\n",
       "      <td>NaN</td>\n",
       "      <td>WDFY3</td>\n",
       "      <td>nonsense</td>\n",
       "      <td>pMsM</td>\n",
       "      <td>NaN</td>\n",
       "      <td>strong:valid</td>\n",
       "      <td>NaN</td>\n",
       "      <td>NaN</td>\n",
       "      <td>NaN</td>\n",
       "      <td>NaN</td>\n",
       "      <td>NaN</td>\n",
       "      <td>76.0</td>\n",
       "      <td>75.0</td>\n",
       "    </tr>\n",
       "    <tr>\n",
       "      <th>5341</th>\n",
       "      <td>13094</td>\n",
       "      <td>4:85719152</td>\n",
       "      <td>sub(T-&gt;A)</td>\n",
       "      <td>4:85719152:T:A</td>\n",
       "      <td>pM</td>\n",
       "      <td>NaN</td>\n",
       "      <td>WDFY3</td>\n",
       "      <td>nonsense</td>\n",
       "      <td>pMsM</td>\n",
       "      <td>strong:valid</td>\n",
       "      <td>NaN</td>\n",
       "      <td>NaN</td>\n",
       "      <td>yes</td>\n",
       "      <td>NaN</td>\n",
       "      <td>NaN</td>\n",
       "      <td>NaN</td>\n",
       "      <td>55.0</td>\n",
       "      <td>80.0</td>\n",
       "    </tr>\n",
       "    <tr>\n",
       "      <th>5451</th>\n",
       "      <td>12693</td>\n",
       "      <td>22:41572350</td>\n",
       "      <td>sub(C-&gt;T)</td>\n",
       "      <td>22:41572350:C:T</td>\n",
       "      <td>pM</td>\n",
       "      <td>NaN</td>\n",
       "      <td>EP300</td>\n",
       "      <td>missense</td>\n",
       "      <td>pMsF</td>\n",
       "      <td>strong</td>\n",
       "      <td>NaN</td>\n",
       "      <td>NaN</td>\n",
       "      <td>NaN</td>\n",
       "      <td>NaN</td>\n",
       "      <td>NaN</td>\n",
       "      <td>NaN</td>\n",
       "      <td>97.0</td>\n",
       "      <td>93.0</td>\n",
       "    </tr>\n",
       "    <tr>\n",
       "      <th>5522</th>\n",
       "      <td>11379</td>\n",
       "      <td>X:41524649</td>\n",
       "      <td>sub(C-&gt;T)</td>\n",
       "      <td>X:41524649:C:T</td>\n",
       "      <td>pF</td>\n",
       "      <td>NaN</td>\n",
       "      <td>CASK</td>\n",
       "      <td>missense</td>\n",
       "      <td>pF</td>\n",
       "      <td>NaN</td>\n",
       "      <td>not called:valid</td>\n",
       "      <td>NaN</td>\n",
       "      <td>NaN</td>\n",
       "      <td>NaN</td>\n",
       "      <td>yes</td>\n",
       "      <td>NaN</td>\n",
       "      <td>78.0</td>\n",
       "      <td>65.0</td>\n",
       "    </tr>\n",
       "  </tbody>\n",
       "</table>\n",
       "<p>160 rows × 18 columns</p>\n",
       "</div>"
      ],
      "text/plain": [
       "      familyId     location    variant           vcfVariant inChild  \\\n",
       "108      13545  20:49509095     ins(T)     20:49509094:G:GT      pM   \n",
       "123      12130  20:49510028     del(2)    20:49510027:CTT:C      pF   \n",
       "242      12645  4:114232545  sub(C->T)      4:114232545:C:T      pM   \n",
       "259      14256  4:114251469  sub(C->T)      4:114251469:C:T      pM   \n",
       "264      13768  4:114277600     del(1)     4:114277599:AG:A      pM   \n",
       "...        ...          ...        ...                  ...     ...   \n",
       "5326     14204  10:28899669     del(4)  10:28899668:AATTC:A      pF   \n",
       "5328     12044   4:85715777  sub(G->A)       4:85715777:G:A      pM   \n",
       "5341     13094   4:85719152  sub(T->A)       4:85719152:T:A      pM   \n",
       "5451     12693  22:41572350  sub(C->T)      22:41572350:C:T      pM   \n",
       "5522     11379   X:41524649  sub(C->T)       X:41524649:C:T      pF   \n",
       "\n",
       "     fromParent effectGene   effectType familyDescription          CSHL  \\\n",
       "108         NaN       ADNP  frame-shift                pM           NaN   \n",
       "123         NaN       ADNP  frame-shift                pF           NaN   \n",
       "242         NaN       ANK2     nonsense              pMsM  strong:valid   \n",
       "259         NaN       ANK2     nonsense              pMsF           NaN   \n",
       "264         NaN       ANK2  frame-shift              pMsF        strong   \n",
       "...         ...        ...          ...               ...           ...   \n",
       "5326        NaN        WAC  frame-shift              pFsF  strong:valid   \n",
       "5328        NaN      WDFY3     nonsense              pMsM           NaN   \n",
       "5341        NaN      WDFY3     nonsense              pMsM  strong:valid   \n",
       "5451        NaN      EP300     missense              pMsF        strong   \n",
       "5522        NaN       CASK     missense                pF           NaN   \n",
       "\n",
       "                  YALE            UW IossifovWE2012 EichlerWE2012 StateWE2012  \\\n",
       "108       strong:valid           NaN            NaN           NaN         NaN   \n",
       "123                NaN  strong:valid            NaN           yes         NaN   \n",
       "242                NaN           NaN            yes           NaN         NaN   \n",
       "259       strong:valid           NaN            NaN           NaN         NaN   \n",
       "264                NaN           NaN            NaN           NaN         NaN   \n",
       "...                ...           ...            ...           ...         ...   \n",
       "5326               NaN           NaN            NaN           NaN         NaN   \n",
       "5328      strong:valid           NaN            NaN           NaN         NaN   \n",
       "5341               NaN           NaN            yes           NaN         NaN   \n",
       "5451               NaN           NaN            NaN           NaN         NaN   \n",
       "5522  not called:valid           NaN            NaN           NaN         yes   \n",
       "\n",
       "     EichlerTG2012    VIQ  NVIQ  \n",
       "108            yes   23.0  38.0  \n",
       "123            NaN   62.0  55.0  \n",
       "242            NaN   94.0  84.0  \n",
       "259            NaN  105.0  98.0  \n",
       "264            NaN  100.0  94.0  \n",
       "...            ...    ...   ...  \n",
       "5326           NaN   68.0  57.0  \n",
       "5328           NaN   76.0  75.0  \n",
       "5341           NaN   55.0  80.0  \n",
       "5451           NaN   97.0  93.0  \n",
       "5522           NaN   78.0  65.0  \n",
       "\n",
       "[160 rows x 18 columns]"
      ]
     },
     "execution_count": 51,
     "metadata": {},
     "output_type": "execute_result"
    }
   ],
   "source": [
    "ssc_proband_mut_candidate"
   ]
  },
  {
   "cell_type": "code",
   "execution_count": 56,
   "metadata": {},
   "outputs": [],
   "source": [
    "ssc_proband_mut_candidate.to_csv(\"dat/ssc_mut_IQ_meta_candidate.csv\")"
   ]
  },
  {
   "cell_type": "code",
   "execution_count": 53,
   "metadata": {},
   "outputs": [],
   "source": [
    "HighIQMuts = ssc_proband_mut_candidate[ssc_proband_mut_candidate[\"NVIQ\"]>70]\n",
    "LowIQMuts = ssc_proband_mut_candidate[ssc_proband_mut_candidate[\"NVIQ\"]<=70]"
   ]
  },
  {
   "cell_type": "code",
   "execution_count": 65,
   "metadata": {},
   "outputs": [
    {
     "data": {
      "text/plain": [
       "58"
      ]
     },
     "execution_count": 65,
     "metadata": {},
     "output_type": "execute_result"
    }
   ],
   "source": [
    "HighIQGenes = set(HighIQMuts[\"effectGene\"].values)\n",
    "len(set(HighIQMuts[\"effectGene\"].values))\n"
   ]
  },
  {
   "cell_type": "code",
   "execution_count": 66,
   "metadata": {},
   "outputs": [
    {
     "data": {
      "text/plain": [
       "54"
      ]
     },
     "execution_count": 66,
     "metadata": {},
     "output_type": "execute_result"
    }
   ],
   "source": [
    "LowIQGenes = set(LowIQMuts[\"effectGene\"].values)\n",
    "len(set(LowIQMuts[\"effectGene\"].values))"
   ]
  },
  {
   "cell_type": "code",
   "execution_count": 70,
   "metadata": {},
   "outputs": [
    {
     "name": "stdout",
     "output_type": "stream",
     "text": [
      "29\n",
      "29\n",
      "25\n"
     ]
    }
   ],
   "source": [
    "Common_genes = HighIQGenes.intersection(LowIQGenes)\n",
    "print(len(Common_genes))\n",
    "HighIQOnly_genes = list(HighIQGenes.difference(LowIQGenes))\n",
    "print(len(HighIQOnly_genes))\n",
    "LowIQOnly_genes = list(LowIQGenes.difference(HighIQGenes))\n",
    "print(len(LowIQOnly_genes))"
   ]
  },
  {
   "cell_type": "code",
   "execution_count": 101,
   "metadata": {},
   "outputs": [],
   "source": [
    "HighIQEntrez = [GeneSymbol2Entrez[x] for x in HighIQGenes]\n",
    "LowIQEntrez = [GeneSymbol2Entrez[x] for x in LowIQGenes]\n",
    "HighIQ_gene2MutN = dict(zip(HighIQEntrez, [1]*len(HighIQEntrez)))\n",
    "LowIQ_gene2MutN = dict(zip(LowIQEntrez, [1]*len(LowIQEntrez)))"
   ]
  },
  {
   "cell_type": "code",
   "execution_count": 111,
   "metadata": {
    "scrolled": false
   },
   "outputs": [
    {
     "name": "stdout",
     "output_type": "stream",
     "text": [
      "Thalamus\n",
      "['Lateral_posterior_nucleus_of_the_thalamus' 'Nucleus_of_reuniens'\n",
      " 'Mediodorsal_nucleus_of_thalamus' 'Submedial_nucleus_of_the_thalamus']\n",
      "0.3368246780743576 0.24267364081606643 1.3879738934219585\n",
      "MannwhitneyuResult(statistic=3.0, pvalue=0.09696542614120535)\n",
      "MannwhitneyuResult(statistic=19938.0, pvalue=0.23468584239974716)\n"
     ]
    },
    {
     "data": {
      "image/png": "[encoded data removed]",
      "text/plain": [
       "<Figure size 720x480 with 1 Axes>"
      ]
     },
     "metadata": {
      "needs_background": "light"
     },
     "output_type": "display_data"
    },
    {
     "name": "stdout",
     "output_type": "stream",
     "text": [
      "Olfactory_areas\n",
      "['Dorsal_peduncular_area' 'Anterior_olfactory_nucleus'\n",
      " 'Accessory_olfactory_bulb' 'Taenia_tecta']\n",
      "0.2659204157263358 0.28988791599941555 0.9173214923759427\n",
      "MannwhitneyuResult(statistic=7.0, pvalue=0.44261695723660077)\n",
      "MannwhitneyuResult(statistic=20190.0, pvalue=0.3043716857780724)\n"
     ]
    },
    {
     "data": {
      "image/png": "[encoded data removed]",
      "text/plain": [
       "<Figure size 720x480 with 1 Axes>"
      ]
     },
     "metadata": {
      "needs_background": "light"
     },
     "output_type": "display_data"
    },
    {
     "name": "stdout",
     "output_type": "stream",
     "text": [
      "Cortical_subplate\n",
      "['Claustrum' 'Endopiriform_nucleus_dorsal_part'\n",
      " 'Basolateral_amygdalar_nucleus']\n",
      "0.09763141209074157 0.4034079975164734 0.2420165507173782\n",
      "MannwhitneyuResult(statistic=0.0, pvalue=0.04042779918502612)\n",
      "MannwhitneyuResult(statistic=9787.0, pvalue=0.006721181977488384)\n"
     ]
    },
    {
     "data": {
      "image/png": "[encoded data removed]",
      "text/plain": [
       "<Figure size 720x480 with 1 Axes>"
      ]
     },
     "metadata": {
      "needs_background": "light"
     },
     "output_type": "display_data"
    },
    {
     "name": "stdout",
     "output_type": "stream",
     "text": [
      "Striatum\n",
      "['Nucleus_accumbens' 'Lateral_septal_nucleus_rostral_rostroventral_part'\n",
      " 'Lateral_septal_nucleus_caudal_caudodorsal_part']\n",
      "0.13498985689350504 0.27158161277988824 0.4970507963030316\n",
      "MannwhitneyuResult(statistic=0.0, pvalue=0.04042779918502612)\n",
      "MannwhitneyuResult(statistic=10427.0, pvalue=0.05002047528657057)\n"
     ]
    },
    {
     "data": {
      "image/png": "[encoded data removed]",
      "text/plain": [
       "<Figure size 720x480 with 1 Axes>"
      ]
     },
     "metadata": {
      "needs_background": "light"
     },
     "output_type": "display_data"
    },
    {
     "name": "stdout",
     "output_type": "stream",
     "text": [
      "Hippocampal_region\n",
      "['Dentate_gyrus' 'Field_CA1' 'Field_CA2' 'Field_CA3']\n",
      "0.3042749919072159 0.41518723224752746 0.7328621120165189\n",
      "MannwhitneyuResult(statistic=3.0, pvalue=0.09696542614120535)\n",
      "MannwhitneyuResult(statistic=19353.0, pvalue=0.11222228232781484)\n"
     ]
    },
    {
     "data": {
      "image/png": "[encoded data removed]",
      "text/plain": [
       "<Figure size 720x480 with 1 Axes>"
      ]
     },
     "metadata": {
      "needs_background": "light"
     },
     "output_type": "display_data"
    },
    {
     "name": "stdout",
     "output_type": "stream",
     "text": [
      "Hippocampal_formation\n",
      "['Subiculum_ventral_part' 'Subiculum_dorsal_part' 'Parasubiculum'\n",
      " 'Presubiculum']\n",
      "0.12621772342286658 0.29171435724351413 0.432675733260204\n",
      "MannwhitneyuResult(statistic=1.0, pvalue=0.030300984856003035)\n",
      "MannwhitneyuResult(statistic=18597.0, pvalue=0.03217873213629922)\n"
     ]
    },
    {
     "data": {
      "image/png": "[encoded data removed]",
      "text/plain": [
       "<Figure size 720x480 with 1 Axes>"
      ]
     },
     "metadata": {
      "needs_background": "light"
     },
     "output_type": "display_data"
    },
    {
     "name": "stdout",
     "output_type": "stream",
     "text": [
      "Isocortex\n",
      "['Prelimbic_area' 'Orbital_area_lateral_part' 'Infralimbic_area'\n",
      " 'Orbital_area_ventrolateral_part' 'Anterior_cingulate_area_dorsal_part'\n",
      " 'Primary_visual_area' 'Anteromedial_visual_area'\n",
      " 'Retrosplenial_area_lateral_agranular_part' 'Orbital_area_medial_part'\n",
      " 'Secondary_motor_area' 'Anterior_cingulate_area_ventral_part'\n",
      " 'Agranular_insular_area_ventral_part'\n",
      " 'Posterior_parietal_association_areas' 'Lateral_visual_area']\n",
      "0.14262470165985172 0.3112570612972824 0.45822157757773885\n",
      "MannwhitneyuResult(statistic=21.0, pvalue=0.00021987904338980794)\n",
      "MannwhitneyuResult(statistic=229707.0, pvalue=0.0006385030863518125)\n"
     ]
    },
    {
     "data": {
      "image/png": "[encoded data removed]",
      "text/plain": [
       "<Figure size 720x480 with 1 Axes>"
      ]
     },
     "metadata": {
      "needs_background": "light"
     },
     "output_type": "display_data"
    }
   ],
   "source": [
    "for REG in list(set(Incircuit_df[\"REG\"].values)):\n",
    "    print(REG)\n",
    "    STRs = Incircuit_df[Incircuit_df[\"REG\"]==REG][\"STR\"].values\n",
    "    print(STRs)\n",
    "    tmp_dat_asdp = []\n",
    "    tmp_dat_ndd = []\n",
    "    for STR in STRs:\n",
    "        asd_p = ZscoreOneSTR_Weighted_Indv_Gene(STR, ExpZscoreMat, HighIQ_gene2MutN, Method = 2, \n",
    "                                                Match_DF = Agg_Match)\n",
    "        asd_ndd = ZscoreOneSTR_Weighted_Indv_Gene(STR, ExpZscoreMat, LowIQ_gene2MutN, Method = 2, \n",
    "                                                  Match_DF = Agg_Match)\n",
    "        tmp_dat_asdp.append(asd_p)\n",
    "        tmp_dat_ndd.append(asd_ndd)\n",
    "    tmp_dat_asdp = np.array(tmp_dat_asdp)\n",
    "    tmp_dat_ndd = np.array(tmp_dat_ndd)\n",
    "    #print(tmp_dat_asdp.shape, tmp_dat_ndd.shape)\n",
    "    xx_1 = np.mean(tmp_dat_asdp, axis=0)\n",
    "    xx_2 = np.mean(tmp_dat_ndd, axis=0)\n",
    "    #print(len(xx_1), len(xx_2))\n",
    "    print(np.mean(xx_1), np.mean(xx_2), np.mean(xx_1)/np.mean(xx_2))\n",
    "    print(mannwhitneyu(np.mean(tmp_dat_asdp, axis=1), np.mean(tmp_dat_ndd, axis=1)))\n",
    "    #print(wilcoxon(xx_1, xx_2))\n",
    "    print(mannwhitneyu(tmp_dat_asdp.flatten(), tmp_dat_ndd.flatten()))\n",
    "    fig = plt.figure(dpi=120)\n",
    "    colors = [\"red\", \"green\", \"blue\"]\n",
    "    sns.distplot(a=xx_1, hist=False, label=\"HighIQ\", color=colors[0])\n",
    "    sns.distplot(a=xx_2, hist=False, label=\"LowIQ\", color=colors[1])\n",
    "    mannwhitneyu(xx_1, xx_2)\n",
    "    plt.title(REG)\n",
    "    plt.show()"
   ]
  },
  {
   "cell_type": "code",
   "execution_count": 113,
   "metadata": {
    "scrolled": false
   },
   "outputs": [
    {
     "name": "stdout",
     "output_type": "stream",
     "text": [
      "Thalamus Lateral_posterior_nucleus_of_the_thalamus\n",
      "0.41122468992679584 0.395700009301666 1.0392334603492375\n",
      "MannwhitneyuResult(statistic=1283.0, pvalue=0.45602267193758333)\n",
      "\n",
      "Thalamus Nucleus_of_reuniens\n",
      "0.24365459250013216 0.14508203222867255 1.6794263821456088\n",
      "MannwhitneyuResult(statistic=1242.0, pvalue=0.3501435398601562)\n",
      "\n",
      "Thalamus Mediodorsal_nucleus_of_thalamus\n",
      "0.38727009081194275 0.22725318964909863 1.7041348964559133\n",
      "MannwhitneyuResult(statistic=1193.0, pvalue=0.2379343880659736)\n",
      "\n",
      "Thalamus Submedial_nucleus_of_the_thalamus\n",
      "0.3051493390585599 0.2026593320848286 1.5057255736480535\n",
      "MannwhitneyuResult(statistic=1251.0, pvalue=0.3727106562342851)\n",
      "\n",
      "Olfactory_areas Dorsal_peduncular_area\n",
      "0.27137182501154256 0.3506125254048385 0.7739935266094677\n",
      "MannwhitneyuResult(statistic=1249.0, pvalue=0.3676546298452593)\n",
      "\n",
      "Olfactory_areas Anterior_olfactory_nucleus\n",
      "0.33702260746625196 0.3519290001304747 0.9576437501351229\n",
      "MannwhitneyuResult(statistic=1259.0, pvalue=0.39314679378648143)\n",
      "\n",
      "Olfactory_areas Accessory_olfactory_bulb\n",
      "0.41563254199706634 0.28247442888278257 1.4713988223321266\n",
      "MannwhitneyuResult(statistic=1277.0, pvalue=0.4401353973186626)\n",
      "\n",
      "Olfactory_areas Taenia_tecta\n",
      "0.039654688430482324 0.1745357095795667 0.22720100388628314\n",
      "MannwhitneyuResult(statistic=1235.0, pvalue=0.33294543500649737)\n",
      "\n",
      "Cortical_subplate Claustrum\n",
      "0.17378400623158527 0.38704450463047907 0.44900264479275104\n",
      "MannwhitneyuResult(statistic=1143.0, pvalue=0.14739139168078447)\n",
      "\n",
      "Cortical_subplate Endopiriform_nucleus_dorsal_part\n",
      "0.1619626077198381 0.43276815798501106 0.37424797719394054\n",
      "MannwhitneyuResult(statistic=1095.0, pvalue=0.08549612596491368)\n",
      "\n",
      "Cortical_subplate Basolateral_amygdalar_nucleus\n",
      "-0.04285237767919863 0.39041132993393 -0.10976212623350509\n",
      "MannwhitneyuResult(statistic=1036.0, pvalue=0.03886622826123705)\n",
      "\n",
      "Striatum Nucleus_accumbens\n",
      "0.16462032843294963 0.3753848068430222 0.43853753650128485\n",
      "MannwhitneyuResult(statistic=1087.0, pvalue=0.07742921062019377)\n",
      "\n",
      "Striatum Lateral_septal_nucleus_rostral_rostroventral_part\n",
      "0.1343332143063822 0.23723575478449951 0.5662435429617595\n",
      "MannwhitneyuResult(statistic=1198.0, pvalue=0.24841360396355877)\n",
      "\n",
      "Striatum Lateral_septal_nucleus_caudal_caudodorsal_part\n",
      "0.10601602794118326 0.20212427671214292 0.5245091270860398\n",
      "MannwhitneyuResult(statistic=1210.0, pvalue=0.27453425304514445)\n",
      "\n",
      "Hippocampal_region Dentate_gyrus\n",
      "0.3986803092028611 0.37450256354635647 1.0645596265818669\n",
      "MannwhitneyuResult(statistic=1278.0, pvalue=0.44277729741964533)\n",
      "\n",
      "Hippocampal_region Field_CA1\n",
      "0.33427893231874656 0.5110237543383398 0.6541357999131805\n",
      "MannwhitneyuResult(statistic=1167.0, pvalue=0.1875342152091567)\n",
      "\n",
      "Hippocampal_region Field_CA2\n",
      "0.25061735171200766 0.4466889132942281 0.5610556793625395\n",
      "MannwhitneyuResult(statistic=1167.0, pvalue=0.1875342152091567)\n",
      "\n",
      "Hippocampal_region Field_CA3\n",
      "0.23352337439524865 0.3285336978111855 0.7108049370614606\n",
      "MannwhitneyuResult(statistic=1242.0, pvalue=0.3501435398601562)\n",
      "\n",
      "Hippocampal_formation Subiculum_ventral_part\n",
      "0.12263405202071129 0.3389696039574341 0.3617848048585235\n",
      "MannwhitneyuResult(statistic=1141.0, pvalue=0.14432766067406905)\n",
      "\n",
      "Hippocampal_formation Subiculum_dorsal_part\n",
      "0.2535556716403471 0.3586248450074191 0.7070220459352213\n",
      "MannwhitneyuResult(statistic=1219.0, pvalue=0.29497580509622834)\n",
      "\n",
      "Hippocampal_formation Parasubiculum\n",
      "0.09059629322207459 0.20274342216285327 0.4468519484163747\n",
      "MannwhitneyuResult(statistic=1182.0, pvalue=0.21575739976116176)\n",
      "\n",
      "Hippocampal_formation Presubiculum\n",
      "0.038084876808333175 0.2665195578463502 0.14289711838066793\n",
      "MannwhitneyuResult(statistic=1117.0, pvalue=0.11090226984537038)\n",
      "\n",
      "Isocortex Prelimbic_area\n",
      "0.10104573852065918 0.3971063931001254 0.25445507873045436\n",
      "MannwhitneyuResult(statistic=1054.0, pvalue=0.05014013378036805)\n",
      "\n",
      "Isocortex Orbital_area_lateral_part\n",
      "0.31627920304765805 0.4947514069599003 0.6392689310195182\n",
      "MannwhitneyuResult(statistic=1195.0, pvalue=0.24209674589316899)\n",
      "\n",
      "Isocortex Infralimbic_area\n",
      "0.1996878331934462 0.38353720041255907 0.5206478875547097\n",
      "MannwhitneyuResult(statistic=1140.0, pvalue=0.14281200602582628)\n",
      "\n",
      "Isocortex Orbital_area_ventrolateral_part\n",
      "0.27174390681366156 0.39043749066914757 0.6959984973470039\n",
      "MannwhitneyuResult(statistic=1218.0, pvalue=0.29267024177838274)\n",
      "\n",
      "Isocortex Anterior_cingulate_area_dorsal_part\n",
      "-0.000883370233648438 0.2677435439400408 -0.00329931478701224\n",
      "MannwhitneyuResult(statistic=1089.0, pvalue=0.07938958770168775)\n",
      "\n",
      "Isocortex Primary_visual_area\n",
      "0.1673801589399642 0.23448745591957199 0.7138128488944617\n",
      "MannwhitneyuResult(statistic=1213.0, pvalue=0.281269934043393)\n",
      "\n",
      "Isocortex Anteromedial_visual_area\n",
      "0.12153445050517833 0.26369240969947594 0.46089476236228527\n",
      "MannwhitneyuResult(statistic=1197.0, pvalue=0.2462982733279358)\n",
      "\n",
      "Isocortex Retrosplenial_area_lateral_agranular_part\n",
      "0.21019805110088693 0.20329248785593965 1.0339686100444636\n",
      "MannwhitneyuResult(statistic=1292.0, pvalue=0.47997806008742855)\n",
      "\n",
      "Isocortex Orbital_area_medial_part\n",
      "0.03926290257606741 0.2779448184851091 0.1412615021573821\n",
      "MannwhitneyuResult(statistic=1088.0, pvalue=0.07840475379801035)\n",
      "\n",
      "Isocortex Secondary_motor_area\n",
      "0.03836523644231912 0.2534900745818769 0.15134808140161407\n",
      "MannwhitneyuResult(statistic=1153.0, pvalue=0.16335992994750148)\n",
      "\n",
      "Isocortex Anterior_cingulate_area_ventral_part\n",
      "0.05513068716534975 0.2498974369055953 0.22061325577411456\n",
      "MannwhitneyuResult(statistic=1134.0, pvalue=0.13394440483341014)\n",
      "\n",
      "Isocortex Agranular_insular_area_ventral_part\n",
      "0.23958919521574407 0.44269392690007964 0.5412073232931919\n",
      "MannwhitneyuResult(statistic=1180.0, pvalue=0.2118579698638831)\n",
      "\n",
      "Isocortex Posterior_parietal_association_areas\n",
      "0.10251933820262948 0.29074324591220185 0.35261124598432836\n",
      "MannwhitneyuResult(statistic=1130.0, pvalue=0.1282472821740061)\n",
      "\n",
      "Isocortex Lateral_visual_area\n",
      "0.134892491748008 0.20778096682033131 0.649205236707989\n",
      "MannwhitneyuResult(statistic=1253.0, pvalue=0.3777887095247227)\n",
      "\n"
     ]
    }
   ],
   "source": [
    "for REG in list(set(Incircuit_df[\"REG\"].values)):\n",
    "    #print(REG)\n",
    "    STRs = Incircuit_df[Incircuit_df[\"REG\"]==REG][\"STR\"].values\n",
    "\n",
    "    for STR in STRs:\n",
    "        #print(REG, STR)\n",
    "        asd_p = ZscoreOneSTR_Weighted_Indv_Gene(STR, ExpZscoreMat, HighIQ_gene2MutN, Method = 2, \n",
    "                                                Match_DF = Agg_Match)\n",
    "        asd_ndd = ZscoreOneSTR_Weighted_Indv_Gene(STR, ExpZscoreMat, LowIQ_gene2MutN, Method = 2, \n",
    "                                                  Match_DF = Agg_Match)\n",
    "        \n",
    "        bias_1, bias_2 = np.mean(asd_p), np.mean(asd_ndd)\n",
    "        ratio = bias_1/bias_2\n",
    "        #if ratio > 2 or ratio < 0.5:\n",
    "        print(REG, STR)\n",
    "        print(bias_1, bias_2, ratio)\n",
    "        print(mannwhitneyu(asd_p, asd_ndd))\n",
    "        print()\n",
    "        #print(np.mean(asd_p), np.mean(asd_ndd), np.mean(asd_p)/np.mean(asd_ndd))"
   ]
  },
  {
   "cell_type": "code",
   "execution_count": null,
   "metadata": {},
   "outputs": [],
   "source": []
  }
 ],
 "metadata": {
  "kernelspec": {
   "display_name": "Python 3",
   "language": "python",
   "name": "python3"
  },
  "language_info": {
   "codemirror_mode": {
    "name": "ipython",
    "version": 3
   },
   "file_extension": ".py",
   "mimetype": "text/x-python",
   "name": "python",
   "nbconvert_exporter": "python",
   "pygments_lexer": "ipython3",
   "version": "3.7.1"
  }
 },
 "nbformat": 4,
 "nbformat_minor": 2
}
