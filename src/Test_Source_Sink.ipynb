{
 "cells": [
  {
   "cell_type": "code",
   "execution_count": 2,
   "metadata": {},
   "outputs": [
    {
     "name": "stdout",
     "output_type": "stream",
     "text": [
      "The autoreload extension is already loaded. To reload it, use:\n",
      "  %reload_ext autoreload\n"
     ]
    }
   ],
   "source": [
    "%load_ext autoreload\n",
    "%autoreload 2\n",
    "from ASD_Circuits import *\n",
    "import numpy.ma as ma"
   ]
  },
  {
   "cell_type": "code",
   "execution_count": 3,
   "metadata": {},
   "outputs": [],
   "source": [
    "def NormMat(ConnMat):\n",
    "    New_Mat = []\n",
    "    for STR in ConnMat.index.values:\n",
    "        STR_i_weights = ConnMat.loc[STR, :].values\n",
    "        normed = [w/sum(STR_i_weights) for w in STR_i_weights]\n",
    "        New_Mat.append(normed)\n",
    "    return pd.DataFrame(data = New_Mat, index=ConnMat.index.values, columns = ConnMat.columns.values)\n",
    "\n",
    "def DeDirection(ConnMat):\n",
    "    New_Symmtric_Mat = ConnMat.copy(deep=True)\n",
    "    for i, STR_i in enumerate(ConnMat.index.values):\n",
    "        for j, STR_j in enumerate(ConnMat.columns.values):\n",
    "            New_Symmtric_Mat.loc[STR_i, STR_j] = ConnMat.loc[STR_i, STR_j] + ConnMat.loc[STR_j, STR_i]\n",
    "            New_Symmtric_Mat.loc[STR_j, STR_i] = ConnMat.loc[STR_i, STR_j] + ConnMat.loc[STR_j, STR_i]\n",
    "    return New_Symmtric_Mat"
   ]
  },
  {
   "cell_type": "code",
   "execution_count": 4,
   "metadata": {},
   "outputs": [],
   "source": [
    "# Load Exp Bias\n",
    "SparkMetaBias = pd.read_csv(\"dat/Jon_data/Spark_Final_ExpBias.csv\")\n",
    "SparkMetaBias.columns = [\"STR\", \"EFFECT\", \"Rank\", \"NGene\"]\n",
    "SparkMetaBias = SparkMetaBias.set_index(\"STR\")\n",
    "STR2REG = STR2Region()"
   ]
  },
  {
   "cell_type": "code",
   "execution_count": 5,
   "metadata": {},
   "outputs": [],
   "source": [
    "ConnFil=\"../dat/allen-mouse-conn/norm_density-max_ipsi_contra-pval_0.05-deg_min_1-by_weight.csv\"\n",
    "ConnMat = pd.read_csv(ConnFil, index_col=0) \n",
    "ConnMat_binary = ConnMat.mask(ConnMat>0, other = 1, inplace=False)\n",
    "\n",
    "ConnMat_norm = NormMat(ConnMat)\n",
    "ConnMat_binary_norm = NormMat(ConnMat_binary)\n",
    "\n",
    "ConnMat_Symm = NormMat(DeDirection(ConnMat))\n",
    "ConnMat_Symm_bin = NormMat(DeDirection(ConnMat_binary))"
   ]
  },
  {
   "cell_type": "code",
   "execution_count": 26,
   "metadata": {},
   "outputs": [],
   "source": [
    "def process(BiasDF, ConnMat):\n",
    "    diffG = DiffusionGraph(BiasDF, ConnMat)\n",
    "    states = diffG.Diffuse2_vec(N = 20000, alpha=1e-3, beta=1e-3)\n",
    "    BiasExchangeMat = np.zeros((213, 213))\n",
    "    for i, src_node in enumerate(diffG.Matrix.index.values):\n",
    "        for j, tgt_node in enumerate(diffG.Matrix.columns.values):\n",
    "            t_heat = diffG.Matrix.loc[src_node, tgt_node] * states[-1, i]\n",
    "            if t_heat > 0:\n",
    "                BiasExchangeMat[i,j] = t_heat\n",
    "    DF = pd.DataFrame(data=BiasExchangeMat, \n",
    "                      index=diffG.Matrix.index.values, columns=diffG.Matrix.columns.values)\n",
    "    DF_mask = DF.mask(DF<0.04, other=0)\n",
    "    hot_graph = LoadConnectome2(DF_mask)\n",
    "    hot_graph_lg = hot_graph.clusters().giant()\n",
    "    hot_graph_lg_nodes = hot_graph_lg.vs.select(_degree_gt=2)\n",
    "    hot_subgraph = hot_graph_lg.subgraph(hot_graph_lg_nodes)\n",
    "    return hot_subgraph"
   ]
  },
  {
   "cell_type": "code",
   "execution_count": 27,
   "metadata": {},
   "outputs": [],
   "source": [
    "asd_hot = process(SparkMetaBias, ConnMat_norm)"
   ]
  },
  {
   "cell_type": "code",
   "execution_count": 28,
   "metadata": {},
   "outputs": [
    {
     "name": "stdout",
     "output_type": "stream",
     "text": [
      "49\n"
     ]
    }
   ],
   "source": [
    "print(len(asd_hot.vs[\"label\"]))"
   ]
  },
  {
   "cell_type": "code",
   "execution_count": 16,
   "metadata": {},
   "outputs": [],
   "source": [
    "InputDir = \"dat/cont.sib.bias/ASD.sib.Spec.bias.{}.csv\"\n",
    "sib_hots = []\n",
    "for i in range(10):\n",
    "    df = pd.read_csv(InputDir.format(i), index_col=\"STR\")\n",
    "    sib_hots.append(process(df, ConnMat_norm))"
   ]
  },
  {
   "cell_type": "code",
   "execution_count": 17,
   "metadata": {},
   "outputs": [
    {
     "name": "stdout",
     "output_type": "stream",
     "text": [
      "85\n",
      "148\n",
      "7\n",
      "0\n",
      "88\n",
      "113\n",
      "41\n",
      "14\n",
      "188\n",
      "196\n"
     ]
    }
   ],
   "source": [
    "for sib_hot in sib_hots:\n",
    "    print(len(sib_hot.vs[\"label\"]))"
   ]
  },
  {
   "cell_type": "code",
   "execution_count": 19,
   "metadata": {},
   "outputs": [],
   "source": [
    "test = sib_hots[1]"
   ]
  },
  {
   "cell_type": "code",
   "execution_count": 22,
   "metadata": {},
   "outputs": [
    {
     "data": {
      "image/png": "[encoded data removed]",
      "text/plain": [
       "<Figure size 432x288 with 1 Axes>"
      ]
     },
     "metadata": {
      "needs_background": "light"
     },
     "output_type": "display_data"
    },
    {
     "data": {
      "image/png": "[encoded data removed]",
      "text/plain": [
       "<Figure size 432x288 with 1 Axes>"
      ]
     },
     "metadata": {
      "needs_background": "light"
     },
     "output_type": "display_data"
    }
   ],
   "source": [
    "edges_rank = sorted([x for x in test.es[\"weight\"] if x > 0])\n",
    "plt.plot(np.arange(len(edges_rank)), edges_rank)\n",
    "cut = 0.0001\n",
    "plt.hlines(y = cut, xmin = 0, xmax = len(edges_rank), colors=\"black\")\n",
    "plt.show()\n",
    "plt.plot(np.arange(len(edges_rank)-1), [edges_rank[i] - edges_rank[i-1] for i in range(1, len(edges_rank), 1)])\n",
    "plt.show()"
   ]
  },
  {
   "cell_type": "code",
   "execution_count": null,
   "metadata": {},
   "outputs": [],
   "source": []
  }
 ],
 "metadata": {
  "kernelspec": {
   "display_name": "Python 3",
   "language": "python",
   "name": "python3"
  },
  "language_info": {
   "codemirror_mode": {
    "name": "ipython",
    "version": 3
   },
   "file_extension": ".py",
   "mimetype": "text/x-python",
   "name": "python",
   "nbconvert_exporter": "python",
   "pygments_lexer": "ipython3",
   "version": "3.7.1"
  }
 },
 "nbformat": 4,
 "nbformat_minor": 2
}
