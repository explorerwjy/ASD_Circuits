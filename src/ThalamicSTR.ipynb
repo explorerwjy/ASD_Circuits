{
 "cells": [
  {
   "cell_type": "code",
   "execution_count": 1,
   "metadata": {},
   "outputs": [],
   "source": [
    "%load_ext autoreload\n",
    "%autoreload 2\n",
    "from ASD_Circuits import *"
   ]
  },
  {
   "cell_type": "code",
   "execution_count": 2,
   "metadata": {},
   "outputs": [
    {
     "name": "stderr",
     "output_type": "stream",
     "text": [
      "/Users/jiayao/anaconda3/lib/python3.7/site-packages/IPython/core/interactiveshell.py:3020: DtypeWarning: Columns (38,48) have mixed types. Specify dtype option on import or set low_memory=False.\n",
      "  interactivity=interactivity, compiler=compiler, result=result)\n"
     ]
    }
   ],
   "source": [
    "# Load Gene INFO\n",
    "HGNC = pd.read_csv(\"/Users/jiayao/Work/Resources/protein-coding_gene.txt\", delimiter=\"\\t\")\n",
    "ENSID2Entrez = dict(zip(HGNC[\"ensembl_gene_id\"].values, HGNC[\"entrez_id\"].values))\n",
    "GeneSymbol2Entrez = dict(zip(HGNC[\"symbol\"].values, HGNC[\"entrez_id\"].values))\n",
    "Entrez2Symbol = dict(zip(HGNC[\"entrez_id\"].values, HGNC[\"symbol\"].values))\n",
    "allen_mouse_genes = loadgenelist(\"../dat/allen-mouse-exp/allen-mouse-gene_entrez.txt\")\n",
    "\n",
    "# Load Exp Zscore Matrix\n",
    "ExpMat = \"../dat/allen-mouse-exp/energy-conn-model.csv\"\n",
    "ExpMat = pd.read_csv(ExpMat, index_col=\"ROW\")\n",
    "\n",
    "ExpZscoreMat = \"../dat/allen-mouse-exp/energy-zscore-conn-model.csv\"\n",
    "ExpZscoreMat = pd.read_csv(ExpZscoreMat, index_col=\"ROW\")\n",
    "\n",
    "ExpMatNorm = \"../dat/allen-mouse-exp/energy-neuronorm.csv\"\n",
    "ExpMatNorm = pd.read_csv(ExpMatNorm, index_col=\"ROW\")\n",
    "\n",
    "ExpZscoreMatNorm = \"../dat/allen-mouse-exp/energy-zscore-neuronorm.csv\"\n",
    "ExpZscoreMatNorm = pd.read_csv(ExpZscoreMatNorm, index_col=\"ROW\")\n",
    "\n",
    "allen_mouse_genes = loadgenelist(\"/Users/jiayao/Work/ASD_Circuits/dat/allen-mouse-exp/allen-mouse-gene_entrez.txt\")"
   ]
  },
  {
   "cell_type": "code",
   "execution_count": 53,
   "metadata": {},
   "outputs": [],
   "source": [
    "def GetSTRBiasDist(STR, ExpMat, Genes2Weights, Match_DF):\n",
    "    g_exp_level_zs = {}\n",
    "    for i, (gene, weight) in enumerate(Genes2Weights.items()):\n",
    "        try:\n",
    "            g_exp_level = ExpMat.loc[gene, STR]\n",
    "            assert g_exp_level == g_exp_level\n",
    "        except:\n",
    "            continue\n",
    "        g_matches = Match_DF.loc[gene, :].values\n",
    "        g_matches_exps = ExpMat.loc[g_matches, STR].values\n",
    "        g_matches_exps = [x for x in g_matches_exps if x==x]\n",
    "        g_exp_level_z = (g_exp_level - np.mean(g_matches_exps))/np.std(g_matches_exps)\n",
    "        g_exp_level_score = g_exp_level_z * weight\n",
    "        g_exp_level_zs[gene] = g_exp_level_score\n",
    "    return g_exp_level_zs\n",
    "\n",
    "def SingleGeneExpZ(STR, gene, ExpMat, Match_DF):\n",
    "        g_exp_level = ExpMat.loc[gene, STR]\n",
    "        assert g_exp_level == g_exp_level\n",
    "        g_matches = Match_DF.loc[gene, :].values\n",
    "        g_matches_exps = ExpMat.loc[g_matches, STR].values\n",
    "        g_matches_exps = [x for x in g_matches_exps if x==x]\n",
    "        PlotPermutationP(g_matches_exps, g_exp_level, title=STR)"
   ]
  },
  {
   "cell_type": "code",
   "execution_count": 3,
   "metadata": {},
   "outputs": [],
   "source": [
    "gnomad_cons = pd.read_csv(\"/Users/jiayao/Work/Resources/gnomad.v2.1.1.lof_metrics.by_gene.txt\",\n",
    "                          delimiter=\"\\t\", index_col=\"gene\")"
   ]
  },
  {
   "cell_type": "code",
   "execution_count": 54,
   "metadata": {},
   "outputs": [],
   "source": [
    "### ASC 102 GENEs\n",
    "#asc_mutable = pd.read_excel(\"../dat/genes/1-s2.0-S0092867419313984-mmc2.xlsx\", sheet_name=\"Autosomal\")\n",
    "asc_mutable = pd.read_csv(\"../dat/genes/asc_tada_RR.csv\")\n",
    "asc102 = asc_mutable[asc_mutable[\"qval_dnccPTV\"]<0.1]\n",
    "asc_gene2None =   {} #0\n",
    "asc_gene2RR = {}   #1\n",
    "asc_gene2PostRR = {}\n",
    "asc_gene2MutN = {} #2\n",
    "asc_gene2LofZ = {} #3\n",
    "\n",
    "asc_gene2RR_LGD = {}\n",
    "asc_gene2MutN_LGD = {}\n",
    "\n",
    "for i, row in asc102.iterrows():\n",
    "    g = int(row[\"entrez_id\"])\n",
    "    #asc_gene2RR[g] = [1]\n",
    "    asc_gene2PostRR[g] = [1]\n",
    "    asc_gene2MutN[g] = 0\n",
    "    if row[\"dn.ptv\"] > 0 or row[\"case.ptv\"] > 0:\n",
    "        #asc_gene2RR[row[\"entrez_id\"]].append(row[\"gamma_dn.ptv\"])\n",
    "        #asc_gene2RR[g].append(row[\"LGD_RR\"])\n",
    "        #LGD_RR = row[\"LGD_RR\"]\n",
    "        asc_gene2MutN[g] += 5*row[\"dn.ptv\"]\n",
    "    if row[\"dn.misa\"] > 0:\n",
    "        #asc_gene2RR[row[\"entrez_id\"]].append(row[\"gamma_dn.misa\"])\n",
    "        #asc_gene2RR[g].append(row[\"misa_RR\"])\n",
    "        asc_gene2MutN[g] += 1*row[\"dn.misa\"]\n",
    "    if row[\"dn.misb\"] > 0:\n",
    "        #asc_gene2RR[row[\"entrez_id\"]].append(row[\"gamma_dn.misb\"])\n",
    "        #asc_gene2RR[g].append(row[\"misb_RR\"])\n",
    "        asc_gene2MutN[g] += 2*row[\"dn.misb\"]\n",
    "    #if len(asc_gene2RR[g]) == 0:\n",
    "    #    print(row[\"entrez_id\"])\n",
    "    \n",
    "    asc_gene2RR_LGD[g] = row[\"LGD_RR\"]\n",
    "    asc_gene2MutN_LGD[g] = row[\"dn.ptv\"]\n",
    "    \n",
    "    #asc_gene2RR[g] = max(asc_gene2RR[g])\n",
    "    #asc_gene2RR[g] = math.log2(row[\"LGD_RR\"] * 5 + row[\"misa_RR\"] * 1 + row[\"misb_RR\"] * 2)\n",
    "    asc_gene2RR[g] = row[\"LGD_RR\"] * 1 + row[\"misa_RR\"] * 1 + row[\"misb_RR\"] * 1\n",
    "    asc_gene2None[g] = 1\n",
    "    asc_gene2LofZ[g] = max(1, gnomad_cons.loc[row[\"gene\"], \"lof_z\"]+1)\n",
    "    \n",
    "asd_asc_match_df = pd.read_csv(\"dat/matching/asd_asc_exp_matches_1000.csv\", index_col=\"GENE\")"
   ]
  },
  {
   "cell_type": "code",
   "execution_count": 64,
   "metadata": {},
   "outputs": [],
   "source": [
    "asc_gene2RR[11011] = 100"
   ]
  },
  {
   "cell_type": "code",
   "execution_count": 65,
   "metadata": {},
   "outputs": [],
   "source": [
    "Mediodorsal_MutN = GetSTRBiasDist(\"Mediodorsal_nucleus_of_thalamus\", ExpMat, asc_gene2MutN, asd_asc_match_df)\n",
    "Mediodorsal_RR = GetSTRBiasDist(\"Mediodorsal_nucleus_of_thalamus\", ExpMat, asc_gene2RR, asd_asc_match_df)"
   ]
  },
  {
   "cell_type": "code",
   "execution_count": 66,
   "metadata": {},
   "outputs": [],
   "source": [
    "def zscore(a, xx):\n",
    "    return (a-np.mean(xx)) / np.std(xx)"
   ]
  },
  {
   "cell_type": "code",
   "execution_count": 67,
   "metadata": {},
   "outputs": [
    {
     "name": "stdout",
     "output_type": "stream",
     "text": [
      "11011 118.01687437723949 6.639935557399758\n",
      "6934 72.10566864909816 4.015615584695281\n",
      "11011 621.1414440907341 6.866092449811461\n",
      "6934 289.0837915425353 3.1903084610850283\n"
     ]
    },
    {
     "data": {
      "image/png": "[encoded data removed]",
      "text/plain": [
       "<Figure size 480x320 with 1 Axes>"
      ]
     },
     "metadata": {
      "needs_background": "light"
     },
     "output_type": "display_data"
    }
   ],
   "source": [
    "for k,v in Mediodorsal_MutN.items():\n",
    "    if v > 60:\n",
    "        print(k,v, zscore(v, list(Mediodorsal_MutN.values())))    \n",
    "        \n",
    "for k,v in Mediodorsal_RR.items():\n",
    "    if v > 200:\n",
    "        print(k,v, zscore(v, list(Mediodorsal_RR.values())))\n",
    "        \n",
    "SingleGeneExpZ(\"Mediodorsal_nucleus_of_thalamus\", 11011, ExpMat, asd_asc_match_df)"
   ]
  },
  {
   "cell_type": "code",
   "execution_count": 41,
   "metadata": {},
   "outputs": [
    {
     "name": "stdout",
     "output_type": "stream",
     "text": [
      "11011 118.01687437723949 6.639935557399758\n",
      "6934 72.10566864909816 4.015615584695281\n",
      "11011 326.4063155560019 4.509663419357024\n",
      "6934 289.0837915425353 3.9973471723163163\n"
     ]
    },
    {
     "data": {
      "image/png": "[encoded data removed]",
      "text/plain": [
       "<Figure size 480x320 with 1 Axes>"
      ]
     },
     "metadata": {
      "needs_background": "light"
     },
     "output_type": "display_data"
    }
   ],
   "source": [
    "for k,v in Mediodorsal_MutN.items():\n",
    "    if v > 60:\n",
    "        print(k,v, zscore(v, list(Mediodorsal_MutN.values())))    \n",
    "        \n",
    "for k,v in Mediodorsal_RR.items():\n",
    "    if v > 200:\n",
    "        print(k,v, zscore(v, list(Mediodorsal_RR.values())))\n",
    "        \n",
    "SingleGeneExpZ(\"Mediodorsal_nucleus_of_thalamus\", 11011, ExpMat, asd_asc_match_df)"
   ]
  },
  {
   "cell_type": "code",
   "execution_count": 68,
   "metadata": {},
   "outputs": [
    {
     "name": "stdout",
     "output_type": "stream",
     "text": [
      "1.8544206489990518\n"
     ]
    },
    {
     "data": {
      "image/png": "[encoded data removed]",
      "text/plain": [
       "<Figure size 480x320 with 1 Axes>"
      ]
     },
     "metadata": {
      "needs_background": "light"
     },
     "output_type": "display_data"
    },
    {
     "name": "stdout",
     "output_type": "stream",
     "text": [
      "0.8823243884234504\n"
     ]
    },
    {
     "data": {
      "image/png": "[encoded data removed]",
      "text/plain": [
       "<Figure size 480x320 with 1 Axes>"
      ]
     },
     "metadata": {
      "needs_background": "light"
     },
     "output_type": "display_data"
    }
   ],
   "source": [
    "plt.hist(Mediodorsal_MutN.values())\n",
    "print(np.mean(list(Mediodorsal_MutN.values())))\n",
    "plt.show()\n",
    "plt.hist(Mediodorsal_RR.values())\n",
    "print(np.mean(list(Mediodorsal_RR.values())))\n",
    "plt.show()"
   ]
  },
  {
   "cell_type": "code",
   "execution_count": 27,
   "metadata": {},
   "outputs": [
    {
     "name": "stdout",
     "output_type": "stream",
     "text": [
      "1.840724551926765\n"
     ]
    },
    {
     "data": {
      "image/png": "[encoded data removed]",
      "text/plain": [
       "<Figure size 480x320 with 1 Axes>"
      ]
     },
     "metadata": {
      "needs_background": "light"
     },
     "output_type": "display_data"
    },
    {
     "name": "stdout",
     "output_type": "stream",
     "text": [
      "-0.04059337993818944\n"
     ]
    },
    {
     "data": {
      "image/png": "[encoded data removed]",
      "text/plain": [
       "<Figure size 480x320 with 1 Axes>"
      ]
     },
     "metadata": {
      "needs_background": "light"
     },
     "output_type": "display_data"
    }
   ],
   "source": [
    "Nucleus_of_reuniens_MutN = GetSTRBiasDist(\"Nucleus_of_reuniens\", ExpMat, asc_gene2MutN, asd_asc_match_df)\n",
    "Nucleus_of_reuniens_RR = GetSTRBiasDist(\"Nucleus_of_reuniens\", ExpMat, asc_gene2RR, asd_asc_match_df)\n",
    "\n",
    "plt.hist(Nucleus_of_reuniens_MutN.values())\n",
    "print(np.mean(list(Nucleus_of_reuniens_MutN.values())))\n",
    "plt.show()\n",
    "plt.hist(Nucleus_of_reuniens_RR.values())\n",
    "print(np.mean(list(Nucleus_of_reuniens_RR.values())))\n",
    "plt.show()"
   ]
  },
  {
   "cell_type": "code",
   "execution_count": 36,
   "metadata": {},
   "outputs": [
    {
     "name": "stdout",
     "output_type": "stream",
     "text": [
      "6326 154.58979460012694\n",
      "6326 278.07557241171844\n",
      "6934 259.60933885863443\n"
     ]
    },
    {
     "data": {
      "image/png": "[encoded data removed]",
      "text/plain": [
       "<Figure size 480x320 with 1 Axes>"
      ]
     },
     "metadata": {
      "needs_background": "light"
     },
     "output_type": "display_data"
    }
   ],
   "source": [
    "for k,v in Nucleus_of_reuniens_MutN.items():\n",
    "    if v > 100:\n",
    "        print(k,v)\n",
    "        \n",
    "for k,v in Nucleus_of_reuniens_RR.items():\n",
    "    if v > 200:\n",
    "        print(k,v)\n",
    "        \n",
    "SingleGeneExpZ(\"Nucleus_of_reuniens\", 6326, ExpMat, asd_asc_match_df)"
   ]
  },
  {
   "cell_type": "code",
   "execution_count": 37,
   "metadata": {},
   "outputs": [
    {
     "name": "stdout",
     "output_type": "stream",
     "text": [
      "4.149826984927822\n"
     ]
    },
    {
     "data": {
      "image/png": "[encoded data removed]",
      "text/plain": [
       "<Figure size 480x320 with 1 Axes>"
      ]
     },
     "metadata": {
      "needs_background": "light"
     },
     "output_type": "display_data"
    },
    {
     "name": "stdout",
     "output_type": "stream",
     "text": [
      "22.13476346619201\n"
     ]
    },
    {
     "data": {
      "image/png": "[encoded data removed]",
      "text/plain": [
       "<Figure size 480x320 with 1 Axes>"
      ]
     },
     "metadata": {
      "needs_background": "light"
     },
     "output_type": "display_data"
    }
   ],
   "source": [
    "Dentate_gyrus_MutN = GetSTRBiasDist(\"Dentate_gyrus\", ExpMat, asc_gene2MutN, asd_asc_match_df)\n",
    "Dentate_gyrus_RR = GetSTRBiasDist(\"Dentate_gyrus\", ExpMat, asc_gene2RR, asd_asc_match_df)\n",
    "\n",
    "plt.hist(Dentate_gyrus_MutN.values())\n",
    "print(np.mean(list(Dentate_gyrus_MutN.values())))\n",
    "plt.show()\n",
    "plt.hist(Dentate_gyrus_RR.values())\n",
    "print(np.mean(list(Dentate_gyrus_RR.values())))\n",
    "plt.show()"
   ]
  },
  {
   "cell_type": "code",
   "execution_count": null,
   "metadata": {},
   "outputs": [],
   "source": []
  }
 ],
 "metadata": {
  "kernelspec": {
   "display_name": "Python 3",
   "language": "python",
   "name": "python3"
  },
  "language_info": {
   "codemirror_mode": {
    "name": "ipython",
    "version": 3
   },
   "file_extension": ".py",
   "mimetype": "text/x-python",
   "name": "python",
   "nbconvert_exporter": "python",
   "pygments_lexer": "ipython3",
   "version": "3.7.1"
  }
 },
 "nbformat": 4,
 "nbformat_minor": 2
}
