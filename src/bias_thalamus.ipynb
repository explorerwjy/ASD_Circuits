{
 "cells": [
  {
   "cell_type": "code",
   "execution_count": 247,
   "metadata": {},
   "outputs": [
    {
     "name": "stdout",
     "output_type": "stream",
     "text": [
      "The autoreload extension is already loaded. To reload it, use:\n",
      "  %reload_ext autoreload\n"
     ]
    }
   ],
   "source": [
    "%load_ext autoreload\n",
    "%autoreload 2\n",
    "from ASD_Circuits import *\n",
    "from utils import *\n",
    "from IPython.display import display, HTML\n",
    "ins = BrainSpan()"
   ]
  },
  {
   "cell_type": "code",
   "execution_count": 329,
   "metadata": {},
   "outputs": [
    {
     "data": {
      "text/plain": [
       "766.6666666666666"
      ]
     },
     "execution_count": 329,
     "metadata": {},
     "output_type": "execute_result"
    }
   ],
   "source": [
    "40000 * 0.23 / 12"
   ]
  },
  {
   "cell_type": "code",
   "execution_count": 336,
   "metadata": {},
   "outputs": [
    {
     "name": "stderr",
     "output_type": "stream",
     "text": [
      "/Users/jiayao/anaconda3/lib/python3.7/site-packages/IPython/core/interactiveshell.py:3020: DtypeWarning: Columns (38,48) have mixed types. Specify dtype option on import or set low_memory=False.\n",
      "  interactivity=interactivity, compiler=compiler, result=result)\n"
     ]
    }
   ],
   "source": [
    "HGNC = pd.read_csv(\"/Users/jiayao/Work/Resources/protein-coding_gene.txt\", delimiter=\"\\t\")\n",
    "ENSID2Entrez = dict(zip(HGNC[\"ensembl_gene_id\"].values, HGNC[\"entrez_id\"].values))\n",
    "GeneSymbol2Entrez = dict(zip(HGNC[\"symbol\"].values, HGNC[\"entrez_id\"].values))\n",
    "Entrez2Symbol = dict(zip(HGNC[\"entrez_id\"].values, HGNC[\"symbol\"].values))\n",
    "allen_mouse_genes = loadgenelist(\"../dat/allen-mouse-exp/allen-mouse-gene_entrez.txt\")\n",
    "\n",
    "str2reg_df = pd.read_csv(\"/Users/jiayao/Work/ASD_Circuits/src/dat/structure2region.map\", delimiter=\"\\t\")\n",
    "str2reg_df = str2reg_df.sort_values(\"REG\")\n",
    "str2reg = dict(zip(str2reg_df[\"STR\"].values, str2reg_df[\"REG\"].values))\n",
    "\n",
    "ExpMatNorm = \"../dat/allen-mouse-exp/energy-neuronorm.csv\"\n",
    "ExpMatNorm = pd.read_csv(ExpMatNorm, index_col=\"ROW\")\n",
    "\n",
    "ExpMat1 = \"../dat/allen-mouse-exp/energy-conn-model.csv\"\n",
    "ExpMat1 = pd.read_csv(ExpMat1, index_col=\"ROW\")\n",
    "\n",
    "ExpMat2 = \"../dat/allen-mouse-exp/jon/energy-conn-model.csv\"\n",
    "ExpMat2 = pd.read_csv(ExpMat2, index_col=\"ROW\")\n",
    "\n",
    "ExpZscoreMat = \"../dat/allen-mouse-exp/energy-zscore-conn-model.csv\"\n",
    "ExpZscoreMat = pd.read_csv(ExpZscoreMat, index_col=\"ROW\")\n",
    "\n",
    "ZscoreMatNorm = \"../dat/allen-mouse-exp/energy-zscore-neuronorm.csv\"\n",
    "ZscoreMatNorm = pd.read_csv(ZscoreMatNorm, index_col=\"ROW\")"
   ]
  },
  {
   "cell_type": "markdown",
   "metadata": {},
   "source": [
    "## Prenatal/Postnatal Bias Check"
   ]
  },
  {
   "cell_type": "code",
   "execution_count": 85,
   "metadata": {},
   "outputs": [],
   "source": [
    "# Brain Span Gene Expresion process\n",
    "GeneExp = pd.read_csv(\"/Users/jiayao/Work/BrainDisorders/data/expression/brainspan/gene_matrix/expression_matrix.csv\", header=None)\n",
    "GeneExp = GeneExp.set_index(0)\n",
    "for c in GeneExp.columns.values:\n",
    "    GeneExp[c] = np.log2(1+GeneExp[c])\n",
    "GeneExp = quantileNormalize(GeneExp)\n",
    "GeneExp.to_csv(\"/Users/jiayao/Work/BrainDisorders/data/expression/brainspan/gene_matrix/log2.qn.expression_matrix.csv\")"
   ]
  },
  {
   "cell_type": "code",
   "execution_count": 86,
   "metadata": {},
   "outputs": [],
   "source": [
    "GeneExp = pd.read_csv(\"/Users/jiayao/Work/BrainDisorders/data/expression/brainspan/gene_matrix/log2.qn.expression_matrix.csv\")\n",
    "GeneExp = GeneExp.set_index(\"0\")\n",
    "GeneExp.columns = [int(x) for x in GeneExp.columns.values]\n",
    "GeneRow = pd.read_csv(\"/Users/jiayao/Work/BrainDisorders/data/expression/brainspan/gene_matrix/rows_metadata.csv\")\n",
    "GeneCol = pd.read_csv(\"/Users/jiayao/Work/BrainDisorders/data/expression/brainspan/gene_matrix/columns_metadata.csv\")\n",
    "GeneCol[\"Period\"] = GeneCol.apply(lambda row: ins.TemporalMap(row[\"age\"])[0], axis=1)\n",
    "GeneCol[\"Stage\"] = GeneCol.apply(lambda row: ins.TemporalMap(row[\"age\"])[1], axis=1)\n",
    "GeneCol[\"Description\"] = GeneCol.apply(lambda row: ins.TemporalMap(row[\"age\"])[2], axis=1)\n",
    "GeneDat = [GeneExp, GeneRow, GeneCol]"
   ]
  },
  {
   "cell_type": "code",
   "execution_count": 45,
   "metadata": {},
   "outputs": [],
   "source": [
    "spark_tol = pd.read_csv(\"dat/bias/spark.explevel.rank.tsv\", index_col=\"STR\")\n",
    "spark_tada = pd.read_csv(\"dat/bias/sparktada.norm.explevel.rank.tsv\", index_col=\"STR\")\n",
    "asc_tada = pd.read_csv(\"dat/bias/asc.norm.explevel.rank.tsv\", index_col=\"STR\")"
   ]
  },
  {
   "cell_type": "code",
   "execution_count": 113,
   "metadata": {},
   "outputs": [],
   "source": [
    "spark_tol_thalamus_strs = []\n",
    "spark_tol_striatum_strs = []\n",
    "spark_tol_isocortex_strs = []\n",
    "for x in spark_tol.head(50).index:\n",
    "    if str2reg[x] == \"Thalamus\":\n",
    "        spark_tol_thalamus_strs.append(x)\n",
    "    if str2reg[x] == \"Striatum\":\n",
    "        spark_tol_striatum_strs.append(x)\n",
    "    if str2reg[x] == \"Isocortex\":\n",
    "        spark_tol_isocortex_strs.append(x)"
   ]
  },
  {
   "cell_type": "code",
   "execution_count": 114,
   "metadata": {},
   "outputs": [
    {
     "name": "stdout",
     "output_type": "stream",
     "text": [
      "['Lateral_posterior_nucleus_of_the_thalamus', 'Medial_geniculate_complex_dorsal_part', 'Rhomboid_nucleus', 'Parataenial_nucleus', 'Lateral_habenula', 'Lateral_dorsal_nucleus_of_thalamus', 'Medial_habenula', 'Intermediodorsal_nucleus_of_the_thalamus', 'Paraventricular_nucleus_of_the_thalamus']\n",
      "['Caudoputamen', 'Nucleus_accumbens', 'Lateral_septal_nucleus_rostral_rostroventral_part', 'Fundus_of_striatum', 'Lateral_septal_nucleus_caudal_caudodorsal_part', 'Lateral_septal_nucleus_ventral_part', 'Olfactory_tubercle']\n",
      "['Retrosplenial_area_lateral_agranular_part', 'Orbital_area_ventrolateral_part', 'Infralimbic_area', 'Frontal_pole_cerebral_cortex', 'Orbital_area_lateral_part', 'Prelimbic_area', 'Anterior_cingulate_area_dorsal_part', 'Orbital_area_medial_part', 'Secondary_motor_area', 'Anterior_cingulate_area_ventral_part', 'Anteromedial_visual_area', 'posteromedial_visual_area', 'Agranular_insular_area_ventral_part', 'Visceral_area', 'Agranular_insular_area_dorsal_part', 'Posterolateral_visual_area']\n"
     ]
    }
   ],
   "source": [
    "print(spark_tol_thalamus_strs)\n",
    "print(spark_tol_striatum_strs)\n",
    "print(spark_tol_isocortex_strs)"
   ]
  },
  {
   "cell_type": "code",
   "execution_count": 46,
   "metadata": {},
   "outputs": [
    {
     "name": "stdout",
     "output_type": "stream",
     "text": [
      "Lateral_posterior_nucleus_of_the_thalamus\n",
      "Lateral_dorsal_nucleus_of_thalamus\n",
      "Rhomboid_nucleus\n",
      "Dorsal_part_of_the_lateral_geniculate_complex\n"
     ]
    }
   ],
   "source": [
    "for x in asc_tada.head(50).index:\n",
    "    if str2reg[x] == \"Thalamus\":\n",
    "        print(x)"
   ]
  },
  {
   "cell_type": "code",
   "execution_count": 215,
   "metadata": {},
   "outputs": [],
   "source": [
    "spark_tol_sg = pd.read_csv(\"dat/bias/spark.elevel.sg.csv\")\n",
    "spark_tol_sg = spark_tol_sg.set_index(\"STR\")\n",
    "#df.columns = [Entrez2Symbol[int(c)] for c in df.columns]"
   ]
  },
  {
   "cell_type": "code",
   "execution_count": 216,
   "metadata": {},
   "outputs": [],
   "source": [
    "gene_names = []; thalamus_bias = []; striatum_bias = []; cortex_bias = [];\n",
    "for entrez in spark_tol_sg.columns.values:\n",
    "    target_thalamus = spark_tol_sg.loc[spark_tol_thalamus_strs, entrez]\n",
    "    target_striatum = spark_tol_sg.loc[spark_tol_striatum_strs, entrez]\n",
    "    target_cortex = spark_tol_sg.loc[spark_tol_isocortex_strs, entrez]\n",
    "    \n",
    "    thalamus_bias.append(np.mean([x for x in target_thalamus if x == x]))\n",
    "    striatum_bias.append(np.mean([x for x in target_striatum if x == x]))\n",
    "    cortex_bias.append(np.mean([x for x in target_cortex if x == x]))\n",
    "    \n",
    "    gene_names.append(Entrez2Symbol[int(entrez)])\n",
    "    #print(target_thalamus)\n",
    "    #break\n",
    "    #print(c)"
   ]
  },
  {
   "cell_type": "code",
   "execution_count": 217,
   "metadata": {},
   "outputs": [],
   "source": [
    "df = pd.DataFrame(data={\"Entrez\":spark_tol_sg.columns.values, \"Name\":gene_names, \"Thalamus.Bias\":thalamus_bias,\n",
    "                       \"Striatum.Bias\":striatum_bias, \"Cortex.Bias\":cortex_bias})\n",
    "df = df.sort_values(\"Thalamus.Bias\", ascending=False)"
   ]
  },
  {
   "cell_type": "code",
   "execution_count": 221,
   "metadata": {},
   "outputs": [],
   "source": [
    "for i, row in df.iterrows():\n",
    "    try:\n",
    "        df.loc[i, \"lofZ\"] = Gene2LoFZ[int(row[\"Entrez\"])]\n",
    "        df.loc[i, \"pLI\"] = Gene2pLI[int(row[\"Entrez\"])]\n",
    "    except:\n",
    "        df.loc[i, \"lofZ\"] = 1\n",
    "        df.loc[i, \"pLI\"] = 0"
   ]
  },
  {
   "cell_type": "code",
   "execution_count": 237,
   "metadata": {},
   "outputs": [],
   "source": [
    "spark_tada = pd.read_csv(\"../dat/genes/TADA.SPARK.ONLY.txt\", delimiter=\"\\t\")\n",
    "spark_wigler = pd.read_csv(\"../dat/genes/spark_wiglermodel.csv\")\n",
    "spark_tada = spark_tada.sort_values(\"Qvalue\")#.columns.values\n",
    "spark_wigler = spark_wigler.sort_values(\"FDR\")\n",
    "tmp = spark_wigler[spark_wigler[\"FDR\"]<0.2]\n",
    "tmp2 = spark_tada[spark_tada[\"Qvalue\"]<0.2]\n",
    "sg_lgd_genes = set(tmp[tmp[\"MUT.TYPE\"]==\"lgd\"][\"SYMBOL\"].values)\n",
    "XX = set(sg_lgd_genes).difference(set(tmp2[\"HGNC\"].values))"
   ]
  },
  {
   "cell_type": "code",
   "execution_count": 240,
   "metadata": {},
   "outputs": [],
   "source": [
    "df2 = df[df[\"Name\"].isin(XX)]"
   ]
  },
  {
   "cell_type": "code",
   "execution_count": 246,
   "metadata": {},
   "outputs": [
    {
     "name": "stdout",
     "output_type": "stream",
     "text": [
      "0.0669609654986933\n"
     ]
    },
    {
     "data": {
      "image/png": "[encoded data removed]",
      "text/plain": [
       "<Figure size 480x320 with 1 Axes>"
      ]
     },
     "metadata": {
      "needs_background": "light"
     },
     "output_type": "display_data"
    },
    {
     "name": "stdout",
     "output_type": "stream",
     "text": [
      "0.12377671933926493\n"
     ]
    },
    {
     "data": {
      "image/png": "[encoded data removed]",
      "text/plain": [
       "<Figure size 480x320 with 1 Axes>"
      ]
     },
     "metadata": {
      "needs_background": "light"
     },
     "output_type": "display_data"
    }
   ],
   "source": [
    "df2[\"Thalamus.Bias\"].hist()\n",
    "print(np.mean(df2[\"Thalamus.Bias\"].values))\n",
    "plt.show()\n",
    "df2[\"Cortex.Bias\"].hist()\n",
    "print(np.mean(df2[\"Cortex.Bias\"].values))\n",
    "plt.show()"
   ]
  },
  {
   "cell_type": "code",
   "execution_count": null,
   "metadata": {},
   "outputs": [],
   "source": []
  },
  {
   "cell_type": "code",
   "execution_count": null,
   "metadata": {},
   "outputs": [],
   "source": []
  },
  {
   "cell_type": "code",
   "execution_count": null,
   "metadata": {},
   "outputs": [],
   "source": []
  },
  {
   "cell_type": "code",
   "execution_count": 219,
   "metadata": {},
   "outputs": [
    {
     "name": "stdout",
     "output_type": "stream",
     "text": [
      "SpearmanrResult(correlation=0.05575146939086845, pvalue=0.335057321216114)\n"
     ]
    },
    {
     "data": {
      "image/png": "[encoded data removed]",
      "text/plain": [
       "<Figure size 480x320 with 1 Axes>"
      ]
     },
     "metadata": {
      "needs_background": "light"
     },
     "output_type": "display_data"
    }
   ],
   "source": [
    "plt.scatter(df[\"Thalamus.Bias\"].values, df[\"lofZ\"].values)\n",
    "print(spearmanr(df[\"Thalamus.Bias\"].values, df[\"lofZ\"].values))\n",
    "plt.xlabel(\"Bias\")\n",
    "plt.ylabel(\"lofZ\")\n",
    "plt.xlim((-2, 2))\n",
    "plt.show()"
   ]
  },
  {
   "cell_type": "code",
   "execution_count": 222,
   "metadata": {},
   "outputs": [
    {
     "name": "stdout",
     "output_type": "stream",
     "text": [
      "SpearmanrResult(correlation=nan, pvalue=nan)\n"
     ]
    },
    {
     "data": {
      "image/png": "[encoded data removed]",
      "text/plain": [
       "<Figure size 480x320 with 1 Axes>"
      ]
     },
     "metadata": {
      "needs_background": "light"
     },
     "output_type": "display_data"
    }
   ],
   "source": [
    "plt.scatter(df[\"Thalamus.Bias\"].values, df[\"pLI\"].values)\n",
    "print(spearmanr(df[\"Thalamus.Bias\"].values, df[\"pLI\"].values))\n",
    "plt.xlabel(\"Bias\")\n",
    "plt.ylabel(\"lofZ\")\n",
    "plt.xlim((-2, 2))\n",
    "plt.show()"
   ]
  },
  {
   "cell_type": "code",
   "execution_count": 208,
   "metadata": {},
   "outputs": [
    {
     "name": "stdout",
     "output_type": "stream",
     "text": [
      "0.03221382768606158\n"
     ]
    },
    {
     "data": {
      "image/png": "[encoded data removed]",
      "text/plain": [
       "<Figure size 480x320 with 1 Axes>"
      ]
     },
     "metadata": {
      "needs_background": "light"
     },
     "output_type": "display_data"
    },
    {
     "data": {
      "image/png": "[encoded data removed]",
      "text/plain": [
       "<Figure size 480x320 with 1 Axes>"
      ]
     },
     "metadata": {
      "needs_background": "light"
     },
     "output_type": "display_data"
    },
    {
     "data": {
      "image/png": "[encoded data removed]",
      "text/plain": [
       "<Figure size 480x320 with 1 Axes>"
      ]
     },
     "metadata": {
      "needs_background": "light"
     },
     "output_type": "display_data"
    }
   ],
   "source": [
    "df[\"Thalamus.Bias\"].hist(bins=50)\n",
    "print(np.mean(df[\"Thalamus.Bias\"].values))\n",
    "plt.show()\n",
    "df[\"Striatum.Bias\"].hist(bins=50)\n",
    "plt.show()\n",
    "df[\"Cortex.Bias\"].hist(bins=50)\n",
    "plt.show()"
   ]
  },
  {
   "cell_type": "code",
   "execution_count": null,
   "metadata": {},
   "outputs": [],
   "source": []
  },
  {
   "cell_type": "code",
   "execution_count": 209,
   "metadata": {},
   "outputs": [],
   "source": [
    "spark_tad_sg = pd.read_csv(\"dat/bias/sparktada.elevel.sg.csv\")\n",
    "spark_tad_sg = spark_tad_sg.set_index(\"STR\")\n",
    "\n",
    "gene_names = []; thalamus_bias = []; striatum_bias = []; cortex_bias = [];\n",
    "for entrez in spark_tad_sg.columns.values:\n",
    "    target_thalamus = spark_tad_sg.loc[spark_tol_thalamus_strs, entrez]\n",
    "    target_striatum = spark_tad_sg.loc[spark_tol_striatum_strs, entrez]\n",
    "    target_cortex = spark_tad_sg.loc[spark_tol_isocortex_strs, entrez]\n",
    "    \n",
    "    thalamus_bias.append(np.mean([x for x in target_thalamus if x == x]))\n",
    "    striatum_bias.append(np.mean([x for x in target_striatum if x == x]))\n",
    "    cortex_bias.append(np.mean([x for x in target_cortex if x == x]))\n",
    "    \n",
    "    gene_names.append(Entrez2Symbol[int(entrez)])\n",
    "\n",
    "df = pd.DataFrame(data={\"Entrez\":spark_tad_sg.columns.values, \"Name\":gene_names, \"Thalamus.Bias\":thalamus_bias,\n",
    "                   \"Striatum.Bias\":striatum_bias, \"Cortex.Bias\":cortex_bias})\n",
    "df = df.sort_values(\"Thalamus.Bias\", ascending=False)"
   ]
  },
  {
   "cell_type": "code",
   "execution_count": 210,
   "metadata": {},
   "outputs": [
    {
     "data": {
      "text/html": [
       "<div>\n",
       "<style scoped>\n",
       "    .dataframe tbody tr th:only-of-type {\n",
       "        vertical-align: middle;\n",
       "    }\n",
       "\n",
       "    .dataframe tbody tr th {\n",
       "        vertical-align: top;\n",
       "    }\n",
       "\n",
       "    .dataframe thead th {\n",
       "        text-align: right;\n",
       "    }\n",
       "</style>\n",
       "<table border=\"1\" class=\"dataframe\">\n",
       "  <thead>\n",
       "    <tr style=\"text-align: right;\">\n",
       "      <th></th>\n",
       "      <th>Entrez</th>\n",
       "      <th>Name</th>\n",
       "      <th>Thalamus.Bias</th>\n",
       "      <th>Striatum.Bias</th>\n",
       "      <th>Cortex.Bias</th>\n",
       "    </tr>\n",
       "  </thead>\n",
       "  <tbody>\n",
       "    <tr>\n",
       "      <th>76</th>\n",
       "      <td>6934</td>\n",
       "      <td>TCF7L2</td>\n",
       "      <td>6.987713</td>\n",
       "      <td>-1.343804</td>\n",
       "      <td>-2.285960</td>\n",
       "    </tr>\n",
       "    <tr>\n",
       "      <th>59</th>\n",
       "      <td>1499</td>\n",
       "      <td>CTNNB1</td>\n",
       "      <td>1.941358</td>\n",
       "      <td>-0.065499</td>\n",
       "      <td>-0.424604</td>\n",
       "    </tr>\n",
       "  </tbody>\n",
       "</table>\n",
       "</div>"
      ],
      "text/plain": [
       "   Entrez    Name  Thalamus.Bias  Striatum.Bias  Cortex.Bias\n",
       "76   6934  TCF7L2       6.987713      -1.343804    -2.285960\n",
       "59   1499  CTNNB1       1.941358      -0.065499    -0.424604"
      ]
     },
     "execution_count": 210,
     "metadata": {},
     "output_type": "execute_result"
    }
   ],
   "source": [
    "df.head(2)"
   ]
  },
  {
   "cell_type": "code",
   "execution_count": 223,
   "metadata": {},
   "outputs": [],
   "source": [
    "gnomad_cons = pd.read_csv(\"/Users/jiayao/Work/Resources/gnomad.v2.1.1.lof_metrics.by_gene.txt\", delimiter=\"\\t\")\n",
    "Gene2LoFZ = {}\n",
    "Gene2pLI = {}\n",
    "for i, row in gnomad_cons.iterrows():\n",
    "    try:\n",
    "        Gene2LoFZ[GeneSymbol2Entrez[row[\"gene\"]]] = row[\"lof_z\"] #max(1, row[\"lof_z\"] + 1)\n",
    "        Gene2pLI[GeneSymbol2Entrez[row[\"gene\"]]] = row[\"pLI\"]\n",
    "    except:\n",
    "        continue\n",
    "for i, row in df.iterrows():\n",
    "    try:\n",
    "        df.loc[i, \"lofZ\"] = Gene2LoFZ[int(row[\"Entrez\"])]\n",
    "    except:\n",
    "        df.loc[i, \"lofZ\"] = 1"
   ]
  },
  {
   "cell_type": "code",
   "execution_count": 232,
   "metadata": {},
   "outputs": [
    {
     "data": {
      "text/plain": [
       "2.227398684563078"
      ]
     },
     "execution_count": 232,
     "metadata": {},
     "output_type": "execute_result"
    }
   ],
   "source": [
    "np.var([x for x in list(Gene2LoFZ.values()) if x==x])\n",
    "np.mean([x for x in list(Gene2LoFZ.values()) if x==x])"
   ]
  },
  {
   "cell_type": "code",
   "execution_count": 212,
   "metadata": {},
   "outputs": [
    {
     "name": "stdout",
     "output_type": "stream",
     "text": [
      "SpearmanrResult(correlation=0.06439256639904593, pvalue=0.5099325222550456)\n"
     ]
    },
    {
     "data": {
      "image/png": "[encoded data removed]",
      "text/plain": [
       "<Figure size 480x320 with 1 Axes>"
      ]
     },
     "metadata": {
      "needs_background": "light"
     },
     "output_type": "display_data"
    }
   ],
   "source": [
    "plt.scatter(df[\"Thalamus.Bias\"].values, df[\"lofZ\"].values)\n",
    "print(spearmanr(df[\"Thalamus.Bias\"].values, df[\"lofZ\"].values))\n",
    "plt.xlabel(\"Bias\")\n",
    "plt.ylabel(\"lofZ\")\n",
    "plt.xlim((-2, 2))\n",
    "plt.show()"
   ]
  },
  {
   "cell_type": "code",
   "execution_count": 213,
   "metadata": {},
   "outputs": [
    {
     "data": {
      "image/png": "[encoded data removed]",
      "text/plain": [
       "<Figure size 480x320 with 1 Axes>"
      ]
     },
     "metadata": {
      "needs_background": "light"
     },
     "output_type": "display_data"
    }
   ],
   "source": [
    "plt.scatter(df[\"Striatum.Bias\"].values, df[\"lofZ\"].values)\n",
    "plt.xlabel(\"Bias\")\n",
    "plt.ylabel(\"lofZ\")\n",
    "plt.show()"
   ]
  },
  {
   "cell_type": "code",
   "execution_count": 214,
   "metadata": {},
   "outputs": [
    {
     "data": {
      "image/png": "[encoded data removed]",
      "text/plain": [
       "<Figure size 480x320 with 1 Axes>"
      ]
     },
     "metadata": {
      "needs_background": "light"
     },
     "output_type": "display_data"
    }
   ],
   "source": [
    "plt.scatter(df[\"Cortex.Bias\"].values, df[\"lofZ\"].values)\n",
    "plt.xlabel(\"Bias\")\n",
    "plt.ylabel(\"lofZ\")\n",
    "plt.show()"
   ]
  },
  {
   "cell_type": "code",
   "execution_count": 177,
   "metadata": {},
   "outputs": [
    {
     "name": "stdout",
     "output_type": "stream",
     "text": [
      "-0.0778260697999025\n"
     ]
    },
    {
     "data": {
      "image/png": "[encoded data removed]",
      "text/plain": [
       "<Figure size 480x320 with 1 Axes>"
      ]
     },
     "metadata": {
      "needs_background": "light"
     },
     "output_type": "display_data"
    },
    {
     "data": {
      "image/png": "[encoded data removed]",
      "text/plain": [
       "<Figure size 480x320 with 1 Axes>"
      ]
     },
     "metadata": {
      "needs_background": "light"
     },
     "output_type": "display_data"
    },
    {
     "data": {
      "image/png": "[encoded data removed]",
      "text/plain": [
       "<Figure size 480x320 with 1 Axes>"
      ]
     },
     "metadata": {
      "needs_background": "light"
     },
     "output_type": "display_data"
    }
   ],
   "source": [
    "df[\"Thalamus.Bias\"].hist(bins=50)\n",
    "print(np.mean(df[\"Thalamus.Bias\"].values))\n",
    "plt.show()\n",
    "df[\"Striatum.Bias\"].hist(bins=50)\n",
    "plt.show()\n",
    "df[\"Cortex.Bias\"].hist(bins=50)\n",
    "plt.show()"
   ]
  },
  {
   "cell_type": "code",
   "execution_count": null,
   "metadata": {},
   "outputs": [],
   "source": []
  },
  {
   "cell_type": "code",
   "execution_count": null,
   "metadata": {},
   "outputs": [],
   "source": []
  },
  {
   "cell_type": "code",
   "execution_count": null,
   "metadata": {},
   "outputs": [],
   "source": []
  },
  {
   "cell_type": "code",
   "execution_count": null,
   "metadata": {},
   "outputs": [],
   "source": []
  },
  {
   "cell_type": "code",
   "execution_count": 162,
   "metadata": {},
   "outputs": [],
   "source": [
    "thalamus_biased_genes = df[df[\"Thalamus.Bias\"]>0][\"Name\"].values\n",
    "straitum_biased_genes = df[df[\"Striatum.Bias\"]>0][\"Name\"].values\n",
    "cortex_biased_genes = df[df[\"Cortex.Bias\"]>0][\"Name\"].values"
   ]
  },
  {
   "cell_type": "code",
   "execution_count": 163,
   "metadata": {},
   "outputs": [
    {
     "name": "stdout",
     "output_type": "stream",
     "text": [
      "['TCF7L2' 'ZNF423' 'GRM1' 'ZFHX3' 'CTNNB1' 'CTNND1' 'KIF26B' 'AGRN'\n",
      " 'LRRC7' 'PPFIA2' 'ABLIM3' 'CNNM2' 'HID1' 'SMARCC2' 'NDST1' 'HEG1'\n",
      " 'COL1A1' 'STT3B' 'RTN1' 'RCC2' 'TENM2' 'THBS2' 'KCNMA1' 'TRIM28' 'NRXN1'\n",
      " 'KDM3B' 'SHANK3' 'TMEM131' 'MORN4' 'RFX3' 'KIAA0922' 'EXOC3' 'TNR'\n",
      " 'ZNF469' 'MAP4K2' 'ZNF462' 'PITPNM1' 'SPTBN1' 'PRRC2A' 'CDC40' 'ASXL3'\n",
      " 'XPO1' 'SMARCD1' 'CLCN7' 'MYT1L' 'SPEN' 'ATXN1' 'LLGL1' 'PLEC' 'TNRC18'\n",
      " 'PCLO' 'CACNA1H' 'SPTB' 'KIF5A' 'ACTB' 'ANAPC2' 'CACNA1E' 'UPF2' 'POLR2A'\n",
      " 'BPTF' 'PIK3CD' 'CHD8' 'AUTS2' 'H3F3B' 'AHR' 'BTBD2' 'AHDC1' 'DHX30'\n",
      " 'RIPK1' 'GRIN2B' 'NEO1' 'FAT4' 'HERC2' 'PNN' 'CDK13' 'RALGAPA1' 'ZSWIM8'\n",
      " 'SMG1' 'LRP5' 'TSPOAP1' 'SETD5' 'B4GALNT4' 'CAPRIN1' 'CRAMP1' 'BICRA'\n",
      " 'DLL1' 'MED13' 'CHD2' 'DICER1' 'CLK2' 'WDFY3' 'KMT2B' 'C1QC' 'DYRK1A'\n",
      " 'EEF2' 'KCNB1' 'KMT5B' 'SON' 'EPS15L1' 'KDM4B' 'KMT2C' 'TSC2' 'BRD1'\n",
      " 'HIVEP1' 'CBFA2T3' 'PACS2' 'PTPRA' 'DSCAM' 'EP300' 'ARID1A' 'MSL3' 'AFF4'\n",
      " 'CACTIN' 'MED26' 'KAT6A' 'PDE3A' 'NSD2' 'WTIP' 'HECTD4' 'CHD6' 'ARID1B'\n",
      " 'PKD1' 'MECP2' 'SHANK2' 'RUNX1T1' 'SNAP91' 'USP9X' 'DNM2' 'NAV1' 'PUF60'\n",
      " 'FGD5' 'SPHKAP' 'CELF2']\n",
      "['ZNF423' 'GRM1' 'LRRC7' 'CNNM2' 'SMARCC2' 'RTN1' 'RCC2' 'THBS2' 'TRIM28'\n",
      " 'KDM3B' 'SHANK3' 'MORN4' 'RFX3' 'KIAA0922' 'EXOC3' 'TNR' 'ZNF469'\n",
      " 'ZNF462' 'SPTBN1' 'PRRC2A' 'ASXL3' 'XPO1' 'SMARCD1' 'MYT1L' 'SPEN'\n",
      " 'ATXN1' 'LLGL1' 'PLEC' 'TNRC18' 'CACNA1H' 'ACTB' 'CACNA1E' 'BPTF' 'CHD8'\n",
      " 'AUTS2' 'H3F3B' 'DHX30' 'GRIN2B' 'PNN' 'CDK13' 'LRP5' 'TSPOAP1' 'CRAMP1'\n",
      " 'BICRA' 'DLL1' 'MED13' 'CHD2' 'DICER1' 'CLK2' 'KMT2B' 'C1QC' 'DYRK1A'\n",
      " 'KMT5B' 'SON' 'EPS15L1' 'TSC2' 'BRD1' 'CBFA2T3' 'ARID1A' 'MSL3' 'AFF4'\n",
      " 'CACTIN' 'KAT6A' 'PDE3A' 'NSD2' 'WTIP' 'ARID1B' 'PKD1' 'MECP2' 'SHANK2'\n",
      " 'RUNX1T1' 'DNM2' 'FGD5' 'CELF2' 'ZNF292' 'NEDD9' 'DLGAP4' 'ZFYVE28'\n",
      " 'DOT1L' 'DIDO1' 'GATA2' 'ARHGAP5' 'GALNT2' 'NSD1' 'ZNF217' 'ASXL2'\n",
      " 'KDM2A' 'MBD6' 'KIF2C' 'PRR12' 'BEND3' 'MBD5' 'PTEN' 'SMAD4' 'TRRAP'\n",
      " 'TMEM201' 'CACNA1A' 'ZNF516' 'BCL11B' 'PITPNM3' 'TAF4' 'AKAP11' 'DNMT1'\n",
      " 'SUPT6H' 'MKL2' 'MIDN' 'PUM1' 'PHF3' 'HIST1H1D' 'BCL9L' 'PHF21A' 'EGFR'\n",
      " 'ABL1' 'GPR152' 'PACS1' 'TENM4' 'MYH9' 'BCR' 'DSCAML1' 'CHD7' 'CACNA1I'\n",
      " 'REV3L' 'GTF3C1' 'EXT1' 'ASH1L' 'MED13L' 'CASZ1' 'TULP4' 'GSE1' 'GABRB3'\n",
      " 'PTK2B' 'BTAF1' 'IRF2BPL' 'ANKRD11' 'GRIK5' 'TMEM179' 'SYNGAP1' 'SKI'\n",
      " 'CHRM4' 'KCNT1' 'PLXND1' 'GALNTL6' 'LMTK2' 'KCTD1' 'SLC6A1' 'SRGAP3'\n",
      " 'MEIS2']\n",
      "['CTNND1' 'LRRC7' 'PPFIA2' 'HID1' 'NDST1' 'HEG1' 'STT3B' 'RTN1' 'TENM2'\n",
      " 'THBS2' 'KCNMA1' 'NRXN1' 'KDM3B' 'SHANK3' 'TMEM131' 'MORN4' 'RFX3'\n",
      " 'KIAA0922' 'EXOC3' 'TNR' 'SPTBN1' 'CDC40' 'ASXL3' 'CLCN7' 'MYT1L' 'ATXN1'\n",
      " 'TNRC18' 'PCLO' 'ACTB' 'CACNA1E' 'PIK3CD' 'H3F3B' 'AHR' 'AHDC1' 'GRIN2B'\n",
      " 'NEO1' 'FAT4' 'CDK13' 'RALGAPA1' 'ZSWIM8' 'SMG1' 'B4GALNT4' 'BICRA'\n",
      " 'MED13' 'DICER1' 'C1QC' 'KCNB1' 'KMT5B' 'KMT2C' 'TSC2' 'BRD1' 'HIVEP1'\n",
      " 'CBFA2T3' 'EP300' 'MSL3' 'MED26' 'KAT6A' 'NSD2' 'MECP2' 'SHANK2' 'DNM2'\n",
      " 'NAV1' 'SPHKAP' 'CELF2' 'ZNF292' 'NEDD9' 'DLGAP4' 'NFIL3' 'ZFYVE28'\n",
      " 'JMJD1C' 'TPR' 'SCN2A' 'KCNQ2' 'DOT1L' 'KDM1A' 'F2RL3' 'GALNT2' 'EPHB6'\n",
      " 'CTNND2' 'GAPVD1' 'ZNF217' 'HECTD1' 'MBD6' 'ADNP' 'KIF2C' 'INTS2'\n",
      " 'ZFP36L2' 'MBD5' 'STT3A' 'PTEN' 'SMAD4' 'TRRAP' 'CACNA1A' 'ZNF516'\n",
      " 'BCL11B' 'BRSK2' 'HNRNPUL2' 'PITPNM3' 'MAZ' 'TAF4' 'DNMT1' 'SUPT6H'\n",
      " 'MIDN' 'COL5A1' 'PUM1' 'PHF3' 'SOX5' 'HIST1H1D' 'ULK1' 'PHF21A' 'EGFR'\n",
      " 'NYAP1' 'GPR152' 'PACS1' 'TENM4' 'MYH9' 'HDAC4' 'BCR' 'DSCAML1' 'KDM5C'\n",
      " 'CACNA1I' 'TLE3' 'NCOA2' 'CLCN4' 'EXT1' 'DENND3' 'ASH1L' 'MED13L' 'NBEA'\n",
      " 'TET3' 'GATAD2A' 'CASZ1' 'GREB1L' 'GSE1' 'GABRB3' 'DEAF1' 'LRFN4' 'PTK2B'\n",
      " 'BTAF1' 'IRF2BPL' 'ANKRD11' 'MAPK8IP3' 'GRIK5' 'ROCK1' 'SYNGAP1' 'CELSR2'\n",
      " 'SKI' 'DAB2IP' 'CHRM4' 'PLXND1' 'GALNTL6' 'LMTK2' 'JPH3' 'KCTD1' 'SRGAP3'\n",
      " 'MEIS2']\n"
     ]
    }
   ],
   "source": [
    "print(thalamus_biased_genes)\n",
    "print(straitum_biased_genes)\n",
    "print(cortex_biased_genes)"
   ]
  },
  {
   "cell_type": "code",
   "execution_count": 164,
   "metadata": {},
   "outputs": [],
   "source": [
    "selected_genes = GeneRow[GeneRow[\"gene_symbol\"].isin(thalamus_biased_genes)][\"row_num\"].values"
   ]
  },
  {
   "cell_type": "code",
   "execution_count": 165,
   "metadata": {},
   "outputs": [
    {
     "data": {
      "text/plain": [
       "array([   92,   229,   508,   657,   675,   943,   948,   960,   971,\n",
       "        1009,  1113,  1133,  1201,  1328,  1330,  1462,  1491,  1505,\n",
       "        1595,  1603,  2067,  2315,  2327,  2392,  2420,  2434,  2756,\n",
       "        2802,  2812,  3057,  3353,  3578,  3630,  3839,  4445,  4578,\n",
       "        4797,  5138,  5189,  5519,  5581,  5640,  5895,  5982,  5999,\n",
       "        6124,  6255,  6386,  6576,  6607,  6663,  6700,  6804,  6962,\n",
       "        7135,  7521,  7871,  7924,  7977,  8103,  8188,  8305,  9142,\n",
       "        9224,  9237,  9375,  9502,  9689,  9787,  9912, 10037, 10054,\n",
       "       10172, 10224, 10318, 10329, 10415, 10425, 10808, 10828, 10969,\n",
       "       11166, 11203, 12299, 12412, 12421, 12440, 12510, 12656, 13159,\n",
       "       13266, 13272, 13278, 13509, 13638, 13716, 13746, 13864, 14241,\n",
       "       14286, 14664, 14823, 14893, 14988, 15000, 15031, 15251, 15408,\n",
       "       15458, 16538, 16572, 16577, 16973, 17361, 17517, 18110, 18223,\n",
       "       18283, 20599, 28324, 45467])"
      ]
     },
     "execution_count": 165,
     "metadata": {},
     "output_type": "execute_result"
    }
   ],
   "source": [
    "selected_genes"
   ]
  },
  {
   "cell_type": "code",
   "execution_count": 166,
   "metadata": {},
   "outputs": [],
   "source": [
    "def gene_set_profile(geneset, GeneExp=GeneExp, GeneRow=GeneRow, GeneCol=GeneCol):\n",
    "    selected_genes = GeneRow[GeneRow[\"gene_symbol\"].isin(geneset)][\"row_num\"].values\n",
    "    Regions = GeneCol[\"structure_acronym\"].values\n",
    "    gene_set_res = []\n",
    "    for gene_row in selected_genes:\n",
    "        gene_res = []\n",
    "        for stage in Stages:\n",
    "            cols = GeneCol[(GeneCol[\"Period\"]==stage) & (GeneCol[\"structure_acronym\"].isin(Regions))][\"column_num\"].values\n",
    "            exp_values = GeneExp.loc[gene_row, cols]\n",
    "            exp_values = [x for x in exp_values if x==x]\n",
    "            gene_res.append(np.mean(exp_values))\n",
    "        gene_set_res.append(gene_res)\n",
    "    gene_set_res = np.array(gene_set_res)\n",
    "    return gene_set_res"
   ]
  },
  {
   "cell_type": "code",
   "execution_count": 167,
   "metadata": {},
   "outputs": [
    {
     "name": "stdout",
     "output_type": "stream",
     "text": [
      "1.108086588028641\n"
     ]
    },
    {
     "data": {
      "text/plain": [
       "Text(0.5, 1.0, 'Thalamus')"
      ]
     },
     "execution_count": 167,
     "metadata": {},
     "output_type": "execute_result"
    },
    {
     "data": {
      "image/png": "[encoded data removed]",
      "text/plain": [
       "<Figure size 432x288 with 1 Axes>"
      ]
     },
     "metadata": {
      "needs_background": "light"
     },
     "output_type": "display_data"
    }
   ],
   "source": [
    "thalamus_profile = gene_set_profile(thalamus_biased_genes)\n",
    "res = []; std=[]\n",
    "for i, stage in enumerate(Stages):\n",
    "    point = thalamus_profile[:,i]\n",
    "    res.append(np.mean(point))\n",
    "    std.append(np.std(point)/math.sqrt(len(point)))\n",
    "print(np.mean(res[:6])/np.mean(res[6:]))\n",
    "plt.errorbar(range(2,14), res, yerr=std)\n",
    "plt.grid(True)\n",
    "plt.title(\"Thalamus\")"
   ]
  },
  {
   "cell_type": "code",
   "execution_count": 168,
   "metadata": {},
   "outputs": [
    {
     "name": "stdout",
     "output_type": "stream",
     "text": [
      "1.1249475733626488\n"
     ]
    },
    {
     "data": {
      "text/plain": [
       "Text(0.5, 1.0, 'Striatum')"
      ]
     },
     "execution_count": 168,
     "metadata": {},
     "output_type": "execute_result"
    },
    {
     "data": {
      "image/png": "[encoded data removed]",
      "text/plain": [
       "<Figure size 432x288 with 1 Axes>"
      ]
     },
     "metadata": {
      "needs_background": "light"
     },
     "output_type": "display_data"
    }
   ],
   "source": [
    "straitum_profile = gene_set_profile(straitum_biased_genes)\n",
    "res = []; std=[]\n",
    "for i, stage in enumerate(Stages):\n",
    "    point = straitum_profile[:,i]\n",
    "    res.append(np.mean(point))\n",
    "    std.append(np.std(point)/math.sqrt(len(point)))\n",
    "print(np.mean(res[:6])/np.mean(res[6:]))\n",
    "plt.errorbar(range(2,14), res, yerr=std)\n",
    "plt.grid(True)\n",
    "plt.title(\"Striatum\")"
   ]
  },
  {
   "cell_type": "code",
   "execution_count": 169,
   "metadata": {},
   "outputs": [
    {
     "name": "stdout",
     "output_type": "stream",
     "text": [
      "1.1052672250299485\n"
     ]
    },
    {
     "data": {
      "text/plain": [
       "Text(0.5, 1.0, 'Cortex')"
      ]
     },
     "execution_count": 169,
     "metadata": {},
     "output_type": "execute_result"
    },
    {
     "data": {
      "image/png": "[encoded data removed]",
      "text/plain": [
       "<Figure size 432x288 with 1 Axes>"
      ]
     },
     "metadata": {
      "needs_background": "light"
     },
     "output_type": "display_data"
    }
   ],
   "source": [
    "cortex_profile = gene_set_profile(cortex_biased_genes)\n",
    "res = []; std=[]\n",
    "for i, stage in enumerate(Stages):\n",
    "    point = cortex_profile[:,i]\n",
    "    res.append(np.mean(point))\n",
    "    std.append(np.std(point)/math.sqrt(len(point)))\n",
    "print(np.mean(res[:6])/np.mean(res[6:]))\n",
    "plt.errorbar(range(2,14), res, yerr=std)\n",
    "plt.grid(True)\n",
    "plt.title(\"Cortex\")          "
   ]
  },
  {
   "cell_type": "markdown",
   "metadata": {},
   "source": [
    "## Remove Top Constraint genes and see thalamical bias"
   ]
  },
  {
   "cell_type": "code",
   "execution_count": 251,
   "metadata": {},
   "outputs": [],
   "source": [
    "# Constraint \n",
    "gnomad_cons = pd.read_csv(\"/Users/jiayao/Work/Resources/gnomad.v2.1.1.lof_metrics.by_gene.txt\", delimiter=\"\\t\")\n",
    "Gene2LoFZ = {}\n",
    "Gene2pLI = {}\n",
    "for i, row in gnomad_cons.iterrows():\n",
    "    try:\n",
    "        Gene2LoFZ[GeneSymbol2Entrez[row[\"gene\"]]] = row[\"lof_z\"]#max(1, row[\"lof_z\"] + 1)\n",
    "        Gene2pLI[GeneSymbol2Entrez[row[\"gene\"]]] = row[\"pLI\"]\n",
    "    except:\n",
    "        continue"
   ]
  },
  {
   "cell_type": "code",
   "execution_count": 307,
   "metadata": {},
   "outputs": [
    {
     "data": {
      "text/plain": [
       "{'A1BG': 1.0,\n",
       " 'A1CF': 29974.0,\n",
       " 'A2M': 2.0,\n",
       " 'A2ML1': 144568.0,\n",
       " 'A3GALT2': 127550.0,\n",
       " 'A4GALT': 53947.0,\n",
       " 'A4GNT': 51146.0,\n",
       " 'AAAS': 8086.0,\n",
       " 'AACS': 65985.0,\n",
       " 'AADAC': 13.0,\n",
       " 'AADACL2': 344752.0,\n",
       " 'AADACL3': 126767.0,\n",
       " 'AADACL4': 343066.0,\n",
       " 'AADAT': 51166.0,\n",
       " 'AAED1': 195827.0,\n",
       " 'AAGAB': 79719.0,\n",
       " 'AAK1': 22848.0,\n",
       " 'AAMDC': 28971.0,\n",
       " 'AAMP': 14.0,\n",
       " 'AANAT': 15.0,\n",
       " 'AAR2': 25980.0,\n",
       " 'AARD': 441376.0,\n",
       " 'AARS': 16.0,\n",
       " 'AARS2': 57505.0,\n",
       " 'AARSD1': 80755.0,\n",
       " 'AASDH': 132949.0,\n",
       " 'AASDHPPT': 60496.0,\n",
       " 'AASS': 10157.0,\n",
       " 'AATF': 26574.0,\n",
       " 'AATK': 9625.0,\n",
       " 'ABAT': 18.0,\n",
       " 'ABCA1': 19.0,\n",
       " 'ABCA2': 20.0,\n",
       " 'ABCA3': 21.0,\n",
       " 'ABCA4': 24.0,\n",
       " 'ABCA5': 23461.0,\n",
       " 'ABCA6': 23460.0,\n",
       " 'ABCA7': 10347.0,\n",
       " 'ABCA8': 10351.0,\n",
       " 'ABCA9': 10350.0,\n",
       " 'ABCA10': 10349.0,\n",
       " 'ABCA12': 26154.0,\n",
       " 'ABCA13': 154664.0,\n",
       " 'ABCB1': 5243.0,\n",
       " 'ABCB4': 5244.0,\n",
       " 'ABCB5': 340273.0,\n",
       " 'ABCB6': 10058.0,\n",
       " 'ABCB7': 22.0,\n",
       " 'ABCB8': 11194.0,\n",
       " 'ABCB9': 23457.0,\n",
       " 'ABCB10': 23456.0,\n",
       " 'ABCB11': 8647.0,\n",
       " 'ABCC1': 4363.0,\n",
       " 'ABCC2': 1244.0,\n",
       " 'ABCC3': 8714.0,\n",
       " 'ABCC4': 10257.0,\n",
       " 'ABCC5': 10057.0,\n",
       " 'ABCC6': 368.0,\n",
       " 'ABCC8': 6833.0,\n",
       " 'ABCC9': 10060.0,\n",
       " 'ABCC10': 89845.0,\n",
       " 'ABCC11': 85320.0,\n",
       " 'ABCC12': 94160.0,\n",
       " 'ABCD1': 215.0,\n",
       " 'ABCD2': 225.0,\n",
       " 'ABCD3': 5825.0,\n",
       " 'ABCD4': 5826.0,\n",
       " 'ABCE1': 6059.0,\n",
       " 'ABCF1': 23.0,\n",
       " 'ABCF2': 10061.0,\n",
       " 'ABCF3': 55324.0,\n",
       " 'ABCG1': 9619.0,\n",
       " 'ABCG2': 9429.0,\n",
       " 'ABCG4': 64137.0,\n",
       " 'ABCG5': 64240.0,\n",
       " 'ABCG8': 64241.0,\n",
       " 'ABHD1': 84696.0,\n",
       " 'ABHD2': 11057.0,\n",
       " 'ABHD3': 171586.0,\n",
       " 'ABHD4': 63874.0,\n",
       " 'ABHD5': 51099.0,\n",
       " 'ABHD6': 57406.0,\n",
       " 'ABHD8': 79575.0,\n",
       " 'ABHD10': 55347.0,\n",
       " 'ABHD11': 83451.0,\n",
       " 'ABHD12': 26090.0,\n",
       " 'ABHD12B': 145447.0,\n",
       " 'ABHD13': 84945.0,\n",
       " 'ABHD14A': 25864.0,\n",
       " 'ABHD14B': 84836.0,\n",
       " 'ABHD15': 116236.0,\n",
       " 'ABHD16A': 7920.0,\n",
       " 'ABHD16B': 140701.0,\n",
       " 'ABHD17A': 81926.0,\n",
       " 'ABHD17B': 51104.0,\n",
       " 'ABHD17C': 58489.0,\n",
       " 'ABHD18': 80167.0,\n",
       " 'ABI1': 10006.0,\n",
       " 'ABI2': 10152.0,\n",
       " 'ABI3': 51225.0,\n",
       " 'ABI3BP': 25890.0,\n",
       " 'ABL1': 25.0,\n",
       " 'ABL2': 27.0,\n",
       " 'ABLIM1': 3983.0,\n",
       " 'ABLIM2': 84448.0,\n",
       " 'ABLIM3': 22885.0,\n",
       " 'ABO': 28.0,\n",
       " 'ABR': 29.0,\n",
       " 'ABRA': 137735.0,\n",
       " 'ABRACL': 58527.0,\n",
       " 'ABT1': 29777.0,\n",
       " 'ABTB1': 80325.0,\n",
       " 'ABTB2': 25841.0,\n",
       " 'ACAA1': 30.0,\n",
       " 'ACAA2': 10449.0,\n",
       " 'ACACA': 31.0,\n",
       " 'ACACB': 32.0,\n",
       " 'ACAD8': 27034.0,\n",
       " 'ACAD9': 28976.0,\n",
       " 'ACAD10': 80724.0,\n",
       " 'ACAD11': 84129.0,\n",
       " 'ACADL': 33.0,\n",
       " 'ACADM': 34.0,\n",
       " 'ACADS': 35.0,\n",
       " 'ACADSB': 36.0,\n",
       " 'ACADVL': 37.0,\n",
       " 'ACAN': 176.0,\n",
       " 'ACAP1': 9744.0,\n",
       " 'ACAP2': 23527.0,\n",
       " 'ACAP3': 116983.0,\n",
       " 'ACAT1': 38.0,\n",
       " 'ACAT2': 39.0,\n",
       " 'ACBD3': 64746.0,\n",
       " 'ACBD4': 79777.0,\n",
       " 'ACBD5': 91452.0,\n",
       " 'ACBD6': 84320.0,\n",
       " 'ACBD7': 414149.0,\n",
       " 'ACCS': 84680.0,\n",
       " 'ACCSL': 390110.0,\n",
       " 'ACD': 65057.0,\n",
       " 'ACE': 1636.0,\n",
       " 'ACE2': 59272.0,\n",
       " 'ACER1': 125981.0,\n",
       " 'ACER2': 340485.0,\n",
       " 'ACER3': 55331.0,\n",
       " 'ACHE': 43.0,\n",
       " 'ACIN1': 22985.0,\n",
       " 'ACKR1': 2532.0,\n",
       " 'ACKR2': 1238.0,\n",
       " 'ACKR3': 57007.0,\n",
       " 'ACKR4': 51554.0,\n",
       " 'ACLY': 47.0,\n",
       " 'ACMSD': 130013.0,\n",
       " 'ACO1': 48.0,\n",
       " 'ACO2': 50.0,\n",
       " 'ACOD1': 730249.0,\n",
       " 'ACOT1': 641371.0,\n",
       " 'ACOT2': 10965.0,\n",
       " 'ACOT4': 122970.0,\n",
       " 'ACOT6': 641372.0,\n",
       " 'ACOT7': 11332.0,\n",
       " 'ACOT8': 10005.0,\n",
       " 'ACOT9': 23597.0,\n",
       " 'ACOT11': 26027.0,\n",
       " 'ACOT12': 134526.0,\n",
       " 'ACOT13': 55856.0,\n",
       " 'ACOX1': 51.0,\n",
       " 'ACOX2': 8309.0,\n",
       " 'ACOX3': 8310.0,\n",
       " 'ACOXL': 55289.0,\n",
       " 'ACP1': 52.0,\n",
       " 'ACP2': 53.0,\n",
       " 'ACP5': 54.0,\n",
       " 'ACP6': 51205.0,\n",
       " 'ACP7': 390928.0,\n",
       " 'ACPP': 55.0,\n",
       " 'ACPT': 93650.0,\n",
       " 'ACR': 49.0,\n",
       " 'ACRBP': 84519.0,\n",
       " 'ACRV1': 56.0,\n",
       " 'ACSBG1': 23205.0,\n",
       " 'ACSBG2': 81616.0,\n",
       " 'ACSF2': 80221.0,\n",
       " 'ACSF3': 197322.0,\n",
       " 'ACSL1': 2180.0,\n",
       " 'ACSL3': 2181.0,\n",
       " 'ACSL4': 2182.0,\n",
       " 'ACSL5': 51703.0,\n",
       " 'ACSL6': 23305.0,\n",
       " 'ACSM1': 116285.0,\n",
       " 'ACSM2A': 123876.0,\n",
       " 'ACSM2B': 348158.0,\n",
       " 'ACSM3': 6296.0,\n",
       " 'ACSM4': 341392.0,\n",
       " 'ACSM5': 54988.0,\n",
       " 'ACSM6': 142827.0,\n",
       " 'ACSS1': 84532.0,\n",
       " 'ACSS2': 55902.0,\n",
       " 'ACSS3': 79611.0,\n",
       " 'ACTA1': 58.0,\n",
       " 'ACTA2': 59.0,\n",
       " 'ACTB': 60.0,\n",
       " 'ACTBL2': 345651.0,\n",
       " 'ACTC1': 70.0,\n",
       " 'ACTG1': 71.0,\n",
       " 'ACTG2': 72.0,\n",
       " 'ACTL6A': 86.0,\n",
       " 'ACTL6B': 51412.0,\n",
       " 'ACTL7A': 10881.0,\n",
       " 'ACTL7B': 10880.0,\n",
       " 'ACTL8': 81569.0,\n",
       " 'ACTL9': 284382.0,\n",
       " 'ACTL10': 170487.0,\n",
       " 'ACTN1': 87.0,\n",
       " 'ACTN2': 88.0,\n",
       " 'ACTN3': 89.0,\n",
       " 'ACTN4': 81.0,\n",
       " 'ACTR1A': 10121.0,\n",
       " 'ACTR1B': 10120.0,\n",
       " 'ACTR2': 10097.0,\n",
       " 'ACTR3': 10096.0,\n",
       " 'ACTR3B': 57180.0,\n",
       " 'ACTR3C': 653857.0,\n",
       " 'ACTR5': 79913.0,\n",
       " 'ACTR6': 64431.0,\n",
       " 'ACTR8': 93973.0,\n",
       " 'ACTR10': 55860.0,\n",
       " 'ACTRT1': 139741.0,\n",
       " 'ACTRT2': 140625.0,\n",
       " 'ACTRT3': 84517.0,\n",
       " 'ACVR1': 90.0,\n",
       " 'ACVR1B': 91.0,\n",
       " 'ACVR1C': 130399.0,\n",
       " 'ACVR2A': 92.0,\n",
       " 'ACVR2B': 93.0,\n",
       " 'ACVRL1': 94.0,\n",
       " 'ACY1': 95.0,\n",
       " 'ACY3': 91703.0,\n",
       " 'ACYP1': 97.0,\n",
       " 'ACYP2': 98.0,\n",
       " 'ADA': 100.0,\n",
       " 'ADA2': 51816.0,\n",
       " 'ADAD1': 132612.0,\n",
       " 'ADAD2': 161931.0,\n",
       " 'ADAL': 161823.0,\n",
       " 'ADAM2': 2515.0,\n",
       " 'ADAM7': 8756.0,\n",
       " 'ADAM8': 101.0,\n",
       " 'ADAM9': 8754.0,\n",
       " 'ADAM10': 102.0,\n",
       " 'ADAM11': 4185.0,\n",
       " 'ADAM12': 8038.0,\n",
       " 'ADAM15': 8751.0,\n",
       " 'ADAM17': 6868.0,\n",
       " 'ADAM18': 8749.0,\n",
       " 'ADAM19': 8728.0,\n",
       " 'ADAM20': 8748.0,\n",
       " 'ADAM21': 8747.0,\n",
       " 'ADAM22': 53616.0,\n",
       " 'ADAM23': 8745.0,\n",
       " 'ADAM28': 10863.0,\n",
       " 'ADAM29': 11086.0,\n",
       " 'ADAM30': 11085.0,\n",
       " 'ADAM32': 203102.0,\n",
       " 'ADAM33': 80332.0,\n",
       " 'ADAMDEC1': 27299.0,\n",
       " 'ADAMTS1': 9510.0,\n",
       " 'ADAMTS2': 9509.0,\n",
       " 'ADAMTS3': 9508.0,\n",
       " 'ADAMTS4': 9507.0,\n",
       " 'ADAMTS5': 11096.0,\n",
       " 'ADAMTS6': 11174.0,\n",
       " 'ADAMTS7': 11173.0,\n",
       " 'ADAMTS8': 11095.0,\n",
       " 'ADAMTS9': 56999.0,\n",
       " 'ADAMTS10': 81794.0,\n",
       " 'ADAMTS12': 81792.0,\n",
       " 'ADAMTS13': 11093.0,\n",
       " 'ADAMTS14': 140766.0,\n",
       " 'ADAMTS15': 170689.0,\n",
       " 'ADAMTS16': 170690.0,\n",
       " 'ADAMTS17': 170691.0,\n",
       " 'ADAMTS18': 170692.0,\n",
       " 'ADAMTS19': 171019.0,\n",
       " 'ADAMTS20': 80070.0,\n",
       " 'ADAMTSL1': 92949.0,\n",
       " 'ADAMTSL2': 9719.0,\n",
       " 'ADAMTSL3': 57188.0,\n",
       " 'ADAMTSL4': 54507.0,\n",
       " 'ADAMTSL5': 339366.0,\n",
       " 'ADAP1': 11033.0,\n",
       " 'ADAP2': 55803.0,\n",
       " 'ADAR': 103.0,\n",
       " 'ADARB1': 104.0,\n",
       " 'ADARB2': 105.0,\n",
       " 'ADAT1': 23536.0,\n",
       " 'ADAT2': 134637.0,\n",
       " 'ADAT3': 113179.0,\n",
       " 'ADCK1': 57143.0,\n",
       " 'ADCK2': 90956.0,\n",
       " 'ADCK5': 203054.0,\n",
       " 'ADCY1': 107.0,\n",
       " 'ADCY2': 108.0,\n",
       " 'ADCY3': 109.0,\n",
       " 'ADCY4': 196883.0,\n",
       " 'ADCY5': 111.0,\n",
       " 'ADCY6': 112.0,\n",
       " 'ADCY7': 113.0,\n",
       " 'ADCY8': 114.0,\n",
       " 'ADCY9': 115.0,\n",
       " 'ADCY10': 55811.0,\n",
       " 'ADCYAP1': 116.0,\n",
       " 'ADCYAP1R1': 117.0,\n",
       " 'ADD1': 118.0,\n",
       " 'ADD2': 119.0,\n",
       " 'ADD3': 120.0,\n",
       " 'ADGB': 79747.0,\n",
       " 'ADGRA1': 84435.0,\n",
       " 'ADGRA2': 25960.0,\n",
       " 'ADGRA3': 166647.0,\n",
       " 'ADGRB1': 575.0,\n",
       " 'ADGRB2': 576.0,\n",
       " 'ADGRB3': 577.0,\n",
       " 'ADGRD1': 283383.0,\n",
       " 'ADGRD2': 347088.0,\n",
       " 'ADGRE1': 2015.0,\n",
       " 'ADGRE2': 30817.0,\n",
       " 'ADGRE3': 84658.0,\n",
       " 'ADGRE5': 976.0,\n",
       " 'ADGRF1': 266977.0,\n",
       " 'ADGRF2': 222611.0,\n",
       " 'ADGRF3': 165082.0,\n",
       " 'ADGRF4': 221393.0,\n",
       " 'ADGRF5': 221395.0,\n",
       " 'ADGRG1': 9289.0,\n",
       " 'ADGRG2': 10149.0,\n",
       " 'ADGRG3': 222487.0,\n",
       " 'ADGRG4': 139378.0,\n",
       " 'ADGRG5': 221188.0,\n",
       " 'ADGRG6': 57211.0,\n",
       " 'ADGRG7': 84873.0,\n",
       " 'ADGRL1': 22859.0,\n",
       " 'ADGRL2': 23266.0,\n",
       " 'ADGRL3': 23284.0,\n",
       " 'ADGRL4': 64123.0,\n",
       " 'ADGRV1': 84059.0,\n",
       " 'ADH1A': 124.0,\n",
       " 'ADH1B': 125.0,\n",
       " 'ADH1C': 126.0,\n",
       " 'ADH4': 127.0,\n",
       " 'ADH5': 128.0,\n",
       " 'ADH6': 130.0,\n",
       " 'ADH7': 131.0,\n",
       " 'ADHFE1': 137872.0,\n",
       " 'ADI1': 55256.0,\n",
       " 'ADIG': 149685.0,\n",
       " 'ADIPOQ': 9370.0,\n",
       " 'ADIPOR1': 51094.0,\n",
       " 'ADIPOR2': 79602.0,\n",
       " 'ADIRF': 10974.0,\n",
       " 'ADK': 132.0,\n",
       " 'ADM': 133.0,\n",
       " 'ADM2': 79924.0,\n",
       " 'ADM5': 199800.0,\n",
       " 'ADNP': 23394.0,\n",
       " 'ADNP2': 22850.0,\n",
       " 'ADO': 84890.0,\n",
       " 'ADORA1': 134.0,\n",
       " 'ADORA2A': 135.0,\n",
       " 'ADORA2B': 136.0,\n",
       " 'ADORA3': 140.0,\n",
       " 'ADPGK': 83440.0,\n",
       " 'ADPRH': 141.0,\n",
       " 'ADPRHL1': 113622.0,\n",
       " 'ADPRHL2': 54936.0,\n",
       " 'ADPRM': 56985.0,\n",
       " 'ADRA1A': 148.0,\n",
       " 'ADRA1B': 147.0,\n",
       " 'ADRA1D': 146.0,\n",
       " 'ADRA2A': 150.0,\n",
       " 'ADRA2B': 151.0,\n",
       " 'ADRA2C': 152.0,\n",
       " 'ADRB1': 153.0,\n",
       " 'ADRB2': 154.0,\n",
       " 'ADRB3': 155.0,\n",
       " 'ADRM1': 11047.0,\n",
       " 'ADSL': 158.0,\n",
       " 'ADSS': 159.0,\n",
       " 'ADSSL1': 122622.0,\n",
       " 'ADTRP': 84830.0,\n",
       " 'AEBP1': 165.0,\n",
       " 'AEBP2': 121536.0,\n",
       " 'AEN': 64782.0,\n",
       " 'AES': 166.0,\n",
       " 'AFAP1': 60312.0,\n",
       " 'AFAP1L1': 134265.0,\n",
       " 'AFAP1L2': 84632.0,\n",
       " 'AFDN': 4301.0,\n",
       " 'AFF1': 4299.0,\n",
       " 'AFF2': 2334.0,\n",
       " 'AFF3': 3899.0,\n",
       " 'AFF4': 27125.0,\n",
       " 'AFG1L': 246269.0,\n",
       " 'AFG3L2': 10939.0,\n",
       " 'AFM': 173.0,\n",
       " 'AFMID': 125061.0,\n",
       " 'AFP': 174.0,\n",
       " 'AFTPH': 54812.0,\n",
       " 'AGA': 175.0,\n",
       " 'AGAP1': 116987.0,\n",
       " 'AGAP2': 116986.0,\n",
       " 'AGAP3': 116988.0,\n",
       " 'AGAP4': 119016.0,\n",
       " 'AGAP5': 729092.0,\n",
       " 'AGAP6': 414189.0,\n",
       " 'AGAP9': 642517.0,\n",
       " 'AGBL1': 123624.0,\n",
       " 'AGBL2': 79841.0,\n",
       " 'AGBL3': 340351.0,\n",
       " 'AGBL4': 84871.0,\n",
       " 'AGBL5': 60509.0,\n",
       " 'AGER': 177.0,\n",
       " 'AGFG1': 3267.0,\n",
       " 'AGFG2': 3268.0,\n",
       " 'AGGF1': 55109.0,\n",
       " 'AGK': 55750.0,\n",
       " 'AGL': 178.0,\n",
       " 'AGMAT': 79814.0,\n",
       " 'AGMO': 392636.0,\n",
       " 'AGO1': 26523.0,\n",
       " 'AGO2': 27161.0,\n",
       " 'AGO3': 192669.0,\n",
       " 'AGO4': 192670.0,\n",
       " 'AGPAT1': 10554.0,\n",
       " 'AGPAT2': 10555.0,\n",
       " 'AGPAT3': 56894.0,\n",
       " 'AGPAT4': 56895.0,\n",
       " 'AGPAT5': 55326.0,\n",
       " 'AGPS': 8540.0,\n",
       " 'AGR2': 10551.0,\n",
       " 'AGR3': 155465.0,\n",
       " 'AGRN': 375790.0,\n",
       " 'AGRP': 181.0,\n",
       " 'AGT': 183.0,\n",
       " 'AGTPBP1': 23287.0,\n",
       " 'AGTR1': 185.0,\n",
       " 'AGTR2': 186.0,\n",
       " 'AGTRAP': 57085.0,\n",
       " 'AGXT': 189.0,\n",
       " 'AGXT2': 64902.0,\n",
       " 'AHCTF1': 25909.0,\n",
       " 'AHCY': 191.0,\n",
       " 'AHCYL1': 10768.0,\n",
       " 'AHCYL2': 23382.0,\n",
       " 'AHDC1': 27245.0,\n",
       " 'AHI1': 54806.0,\n",
       " 'AHNAK': 79026.0,\n",
       " 'AHNAK2': 113146.0,\n",
       " 'AHR': 196.0,\n",
       " 'AHRR': 57491.0,\n",
       " 'AHSA1': 10598.0,\n",
       " 'AHSA2': 130872.0,\n",
       " 'AHSG': 197.0,\n",
       " 'AHSP': 51327.0,\n",
       " 'AICDA': 57379.0,\n",
       " 'AIDA': 64853.0,\n",
       " 'AIF1': 199.0,\n",
       " 'AIF1L': 83543.0,\n",
       " 'AIFM1': 9131.0,\n",
       " 'AIFM2': 84883.0,\n",
       " 'AIFM3': 150209.0,\n",
       " 'AIG1': 51390.0,\n",
       " 'AIM2': 9447.0,\n",
       " 'AIMP1': 9255.0,\n",
       " 'AIMP2': 7965.0,\n",
       " 'AIP': 9049.0,\n",
       " 'AIPL1': 23746.0,\n",
       " 'AIRE': 326.0,\n",
       " 'AJAP1': 55966.0,\n",
       " 'AJUBA': 84962.0,\n",
       " 'AK1': 203.0,\n",
       " 'AK2': 204.0,\n",
       " 'AK3': 50808.0,\n",
       " 'AK4': 205.0,\n",
       " 'AK5': 26289.0,\n",
       " 'AK6': 102157402.0,\n",
       " 'AK7': 122481.0,\n",
       " 'AK8': 158067.0,\n",
       " 'AK9': 221264.0,\n",
       " 'AKAIN1': 642597.0,\n",
       " 'AKAP1': 8165.0,\n",
       " 'AKAP2': 11217.0,\n",
       " 'AKAP3': 10566.0,\n",
       " 'AKAP4': 8852.0,\n",
       " 'AKAP5': 9495.0,\n",
       " 'AKAP6': 9472.0,\n",
       " 'AKAP7': 9465.0,\n",
       " 'AKAP8': 10270.0,\n",
       " 'AKAP8L': 26993.0,\n",
       " 'AKAP9': 10142.0,\n",
       " 'AKAP10': 11216.0,\n",
       " 'AKAP11': 11215.0,\n",
       " 'AKAP12': 9590.0,\n",
       " 'AKAP13': 11214.0,\n",
       " 'AKAP14': 158798.0,\n",
       " 'AKAP17A': 8227.0,\n",
       " 'AKIP1': 56672.0,\n",
       " 'AKIRIN1': 79647.0,\n",
       " 'AKIRIN2': 55122.0,\n",
       " 'AKNA': 80709.0,\n",
       " 'AKNAD1': 254268.0,\n",
       " 'AKR1A1': 10327.0,\n",
       " 'AKR1B1': 231.0,\n",
       " 'AKR1B10': 57016.0,\n",
       " 'AKR1B15': 441282.0,\n",
       " 'AKR1C1': 1645.0,\n",
       " 'AKR1C2': 1646.0,\n",
       " 'AKR1C3': 8644.0,\n",
       " 'AKR1C4': 1109.0,\n",
       " 'AKR1D1': 6718.0,\n",
       " 'AKR1E2': 83592.0,\n",
       " 'AKR7A2': 8574.0,\n",
       " 'AKR7A3': 22977.0,\n",
       " 'AKR7L': 246181.0,\n",
       " 'AKT1': 207.0,\n",
       " 'AKT1S1': 84335.0,\n",
       " 'AKT2': 208.0,\n",
       " 'AKT3': 10000.0,\n",
       " 'AKTIP': 64400.0,\n",
       " 'ALAD': 210.0,\n",
       " 'ALAS1': 211.0,\n",
       " 'ALAS2': 212.0,\n",
       " 'ALB': 213.0,\n",
       " 'ALCAM': 214.0,\n",
       " 'ALDH1A1': 216.0,\n",
       " 'ALDH1A2': 8854.0,\n",
       " 'ALDH1A3': 220.0,\n",
       " 'ALDH1B1': 219.0,\n",
       " 'ALDH1L1': 10840.0,\n",
       " 'ALDH1L2': 160428.0,\n",
       " 'ALDH2': 217.0,\n",
       " 'ALDH3A1': 218.0,\n",
       " 'ALDH3A2': 224.0,\n",
       " 'ALDH3B1': 221.0,\n",
       " 'ALDH3B2': 222.0,\n",
       " 'ALDH4A1': 8659.0,\n",
       " 'ALDH5A1': 7915.0,\n",
       " 'ALDH6A1': 4329.0,\n",
       " 'ALDH7A1': 501.0,\n",
       " 'ALDH8A1': 64577.0,\n",
       " 'ALDH9A1': 223.0,\n",
       " 'ALDH16A1': 126133.0,\n",
       " 'ALDH18A1': 5832.0,\n",
       " 'ALDOA': 226.0,\n",
       " 'ALDOB': 229.0,\n",
       " 'ALDOC': 230.0,\n",
       " 'ALG1': 56052.0,\n",
       " 'ALG1L': 200810.0,\n",
       " 'ALG1L2': 644974.0,\n",
       " 'ALG2': 85365.0,\n",
       " 'ALG3': 10195.0,\n",
       " 'ALG5': 29880.0,\n",
       " 'ALG6': 29929.0,\n",
       " 'ALG8': 79053.0,\n",
       " 'ALG9': 79796.0,\n",
       " 'ALG10': 84920.0,\n",
       " 'ALG10B': 144245.0,\n",
       " 'ALG11': 440138.0,\n",
       " 'ALG12': 79087.0,\n",
       " 'ALG13': 79868.0,\n",
       " 'ALG14': 199857.0,\n",
       " 'ALK': 238.0,\n",
       " 'ALKAL1': 389658.0,\n",
       " 'ALKAL2': 285016.0,\n",
       " 'ALKBH1': 8846.0,\n",
       " 'ALKBH2': 121642.0,\n",
       " 'ALKBH3': 221120.0,\n",
       " 'ALKBH4': 54784.0,\n",
       " 'ALKBH5': 54890.0,\n",
       " 'ALKBH6': 84964.0,\n",
       " 'ALKBH7': 84266.0,\n",
       " 'ALKBH8': 91801.0,\n",
       " 'ALLC': 55821.0,\n",
       " 'ALMS1': 7840.0,\n",
       " 'ALOX5': 240.0,\n",
       " 'ALOX5AP': 241.0,\n",
       " 'ALOX12': 239.0,\n",
       " 'ALOX12B': 242.0,\n",
       " 'ALOX15': 246.0,\n",
       " 'ALOX15B': 247.0,\n",
       " 'ALOXE3': 59344.0,\n",
       " 'ALPI': 248.0,\n",
       " 'ALPK1': 80216.0,\n",
       " 'ALPK2': 115701.0,\n",
       " 'ALPK3': 57538.0,\n",
       " 'ALPL': 249.0,\n",
       " 'ALPP': 250.0,\n",
       " 'ALPPL2': 251.0,\n",
       " 'ALS2': 57679.0,\n",
       " 'ALS2CL': 259173.0,\n",
       " 'ALS2CR12': 130540.0,\n",
       " 'ALX1': 8092.0,\n",
       " 'ALX3': 257.0,\n",
       " 'ALX4': 60529.0,\n",
       " 'ALYREF': 10189.0,\n",
       " 'AMACR': 23600.0,\n",
       " 'AMBN': 258.0,\n",
       " 'AMBP': 259.0,\n",
       " 'AMBRA1': 55626.0,\n",
       " 'AMD1': 262.0,\n",
       " 'AMDHD1': 144193.0,\n",
       " 'AMDHD2': 51005.0,\n",
       " 'AMELX': 265.0,\n",
       " 'AMELY': 266.0,\n",
       " 'AMER1': 139285.0,\n",
       " 'AMER2': 219287.0,\n",
       " 'AMER3': 205147.0,\n",
       " 'AMFR': 267.0,\n",
       " 'AMH': 268.0,\n",
       " 'AMHR2': 269.0,\n",
       " 'AMIGO1': 57463.0,\n",
       " 'AMIGO2': 347902.0,\n",
       " 'AMIGO3': 386724.0,\n",
       " 'AMMECR1': 9949.0,\n",
       " 'AMMECR1L': 83607.0,\n",
       " 'AMN': 81693.0,\n",
       " 'AMN1': 196394.0,\n",
       " 'AMOT': 154796.0,\n",
       " 'AMOTL1': 154810.0,\n",
       " 'AMOTL2': 51421.0,\n",
       " 'AMPD1': 270.0,\n",
       " 'AMPD2': 271.0,\n",
       " 'AMPD3': 272.0,\n",
       " 'AMPH': 273.0,\n",
       " 'AMT': 275.0,\n",
       " 'AMTN': 401138.0,\n",
       " 'AMY1A': 276.0,\n",
       " 'AMY1B': 277.0,\n",
       " 'AMY1C': 278.0,\n",
       " 'AMY2A': 279.0,\n",
       " 'AMY2B': 280.0,\n",
       " 'AMZ1': 155185.0,\n",
       " 'AMZ2': 51321.0,\n",
       " 'ANAPC1': 64682.0,\n",
       " 'ANAPC2': 29882.0,\n",
       " 'ANAPC4': 29945.0,\n",
       " 'ANAPC5': 51433.0,\n",
       " 'ANAPC7': 51434.0,\n",
       " 'ANAPC10': 10393.0,\n",
       " 'ANAPC11': 51529.0,\n",
       " 'ANAPC13': 25847.0,\n",
       " 'ANAPC15': 25906.0,\n",
       " 'ANAPC16': 119504.0,\n",
       " 'ANG': 283.0,\n",
       " 'ANGEL1': 23357.0,\n",
       " 'ANGEL2': 90806.0,\n",
       " 'ANGPT1': 284.0,\n",
       " 'ANGPT2': 285.0,\n",
       " 'ANGPT4': 51378.0,\n",
       " 'ANGPTL1': 9068.0,\n",
       " 'ANGPTL2': 23452.0,\n",
       " 'ANGPTL3': 27329.0,\n",
       " 'ANGPTL4': 51129.0,\n",
       " 'ANGPTL5': 253935.0,\n",
       " 'ANGPTL6': 83854.0,\n",
       " 'ANGPTL7': 10218.0,\n",
       " 'ANGPTL8': 55908.0,\n",
       " 'ANHX': 647589.0,\n",
       " 'ANK1': 286.0,\n",
       " 'ANK2': 287.0,\n",
       " 'ANK3': 288.0,\n",
       " 'ANKAR': 150709.0,\n",
       " 'ANKDD1A': 348094.0,\n",
       " 'ANKDD1B': 728780.0,\n",
       " 'ANKEF1': 63926.0,\n",
       " 'ANKFN1': 162282.0,\n",
       " 'ANKFY1': 51479.0,\n",
       " 'ANKH': 56172.0,\n",
       " 'ANKHD1': 54882.0,\n",
       " 'ANKIB1': 54467.0,\n",
       " 'ANKK1': 255239.0,\n",
       " 'ANKLE1': 126549.0,\n",
       " 'ANKLE2': 23141.0,\n",
       " 'ANKMY1': 51281.0,\n",
       " 'ANKMY2': 57037.0,\n",
       " 'ANKRA2': 57763.0,\n",
       " 'ANKRD1': 27063.0,\n",
       " 'ANKRD2': 26287.0,\n",
       " 'ANKRD6': 22881.0,\n",
       " 'ANKRD7': 56311.0,\n",
       " 'ANKRD9': 122416.0,\n",
       " 'ANKRD10': 55608.0,\n",
       " 'ANKRD11': 29123.0,\n",
       " 'ANKRD12': 23253.0,\n",
       " 'ANKRD13A': 88455.0,\n",
       " 'ANKRD13B': 124930.0,\n",
       " 'ANKRD13C': 81573.0,\n",
       " 'ANKRD13D': 338692.0,\n",
       " 'ANKRD16': 54522.0,\n",
       " 'ANKRD17': 26057.0,\n",
       " 'ANKRD18A': 253650.0,\n",
       " 'ANKRD18B': 441459.0,\n",
       " 'ANKRD20A1': 84210.0,\n",
       " 'ANKRD20A2': 441430.0,\n",
       " 'ANKRD20A3': 441425.0,\n",
       " 'ANKRD20A4': 728747.0,\n",
       " 'ANKRD22': 118932.0,\n",
       " 'ANKRD23': 200539.0,\n",
       " 'ANKRD24': 170961.0,\n",
       " 'ANKRD26': 22852.0,\n",
       " 'ANKRD27': 84079.0,\n",
       " 'ANKRD28': 23243.0,\n",
       " 'ANKRD29': 147463.0,\n",
       " 'ANKRD30A': 91074.0,\n",
       " 'ANKRD30B': 374860.0,\n",
       " 'ANKRD30BL': 554226.0,\n",
       " 'ANKRD31': 256006.0,\n",
       " 'ANKRD33': 341405.0,\n",
       " 'ANKRD33B': 651746.0,\n",
       " 'ANKRD34A': 284615.0,\n",
       " 'ANKRD34B': 340120.0,\n",
       " 'ANKRD34C': 390616.0,\n",
       " 'ANKRD35': 148741.0,\n",
       " 'ANKRD36': 375248.0,\n",
       " 'ANKRD36B': 57730.0,\n",
       " 'ANKRD36C': 400986.0,\n",
       " 'ANKRD37': 353322.0,\n",
       " 'ANKRD39': 51239.0,\n",
       " 'ANKRD40': 91369.0,\n",
       " 'ANKRD42': 338699.0,\n",
       " 'ANKRD44': 91526.0,\n",
       " 'ANKRD45': 339416.0,\n",
       " 'ANKRD46': 157567.0,\n",
       " 'ANKRD49': 54851.0,\n",
       " 'ANKRD50': 57182.0,\n",
       " 'ANKRD52': 283373.0,\n",
       " 'ANKRD53': 79998.0,\n",
       " 'ANKRD54': 129138.0,\n",
       " 'ANKRD55': 79722.0,\n",
       " 'ANKRD60': 140731.0,\n",
       " 'ANKRD61': 100310846.0,\n",
       " 'ANKRD62': 342850.0,\n",
       " 'ANKRD63': 100131244.0,\n",
       " 'ANKRD65': 441869.0,\n",
       " 'ANKRD66': 100287718.0,\n",
       " 'ANKS1A': 23294.0,\n",
       " 'ANKS1B': 56899.0,\n",
       " 'ANKS3': 124401.0,\n",
       " 'ANKS4B': 257629.0,\n",
       " 'ANKS6': 203286.0,\n",
       " 'ANKUB1': 389161.0,\n",
       " 'ANKZF1': 55139.0,\n",
       " 'ANLN': 54443.0,\n",
       " 'ANO1': 55107.0,\n",
       " 'ANO2': 57101.0,\n",
       " 'ANO3': 63982.0,\n",
       " 'ANO4': 121601.0,\n",
       " 'ANO5': 203859.0,\n",
       " 'ANO6': 196527.0,\n",
       " 'ANO7': 50636.0,\n",
       " 'ANO8': 57719.0,\n",
       " 'ANO9': 338440.0,\n",
       " 'ANO10': 55129.0,\n",
       " 'ANOS1': 3730.0,\n",
       " 'ANP32A': 8125.0,\n",
       " 'ANP32B': 10541.0,\n",
       " 'ANP32D': 23519.0,\n",
       " 'ANP32E': 81611.0,\n",
       " 'ANPEP': 290.0,\n",
       " 'ANTXR1': 84168.0,\n",
       " 'ANTXR2': 118429.0,\n",
       " 'ANTXRL': 195977.0,\n",
       " 'ANXA1': 301.0,\n",
       " 'ANXA2': 302.0,\n",
       " 'ANXA2R': 389289.0,\n",
       " 'ANXA3': 306.0,\n",
       " 'ANXA4': 307.0,\n",
       " 'ANXA5': 308.0,\n",
       " 'ANXA6': 309.0,\n",
       " 'ANXA7': 310.0,\n",
       " 'ANXA8': 653145.0,\n",
       " 'ANXA8L1': 728113.0,\n",
       " 'ANXA9': 8416.0,\n",
       " 'ANXA10': 11199.0,\n",
       " 'ANXA11': 311.0,\n",
       " 'ANXA13': 312.0,\n",
       " 'AOAH': 313.0,\n",
       " 'AOC1': 26.0,\n",
       " 'AOC2': 314.0,\n",
       " 'AOC3': 8639.0,\n",
       " 'AOX1': 316.0,\n",
       " 'AP1AR': 55435.0,\n",
       " 'AP1B1': 162.0,\n",
       " 'AP1G1': 164.0,\n",
       " 'AP1G2': 8906.0,\n",
       " 'AP1M1': 8907.0,\n",
       " 'AP1M2': 10053.0,\n",
       " 'AP1S1': 1174.0,\n",
       " 'AP1S2': 8905.0,\n",
       " 'AP1S3': 130340.0,\n",
       " 'AP2A1': 160.0,\n",
       " 'AP2A2': 161.0,\n",
       " 'AP2B1': 163.0,\n",
       " 'AP2M1': 1173.0,\n",
       " 'AP2S1': 1175.0,\n",
       " 'AP3B1': 8546.0,\n",
       " 'AP3B2': 8120.0,\n",
       " 'AP3D1': 8943.0,\n",
       " 'AP3M1': 26985.0,\n",
       " 'AP3M2': 10947.0,\n",
       " 'AP3S1': 1176.0,\n",
       " 'AP3S2': 10239.0,\n",
       " 'AP4B1': 10717.0,\n",
       " 'AP4E1': 23431.0,\n",
       " 'AP4M1': 9179.0,\n",
       " 'AP4S1': 11154.0,\n",
       " 'AP5B1': 91056.0,\n",
       " 'AP5M1': 55745.0,\n",
       " 'AP5S1': 55317.0,\n",
       " 'AP5Z1': 9907.0,\n",
       " 'APAF1': 317.0,\n",
       " 'APBA1': 320.0,\n",
       " 'APBA2': 321.0,\n",
       " 'APBA3': 9546.0,\n",
       " 'APBB1': 322.0,\n",
       " 'APBB1IP': 54518.0,\n",
       " 'APBB2': 323.0,\n",
       " 'APC': 324.0,\n",
       " 'APC2': 10297.0,\n",
       " 'APCDD1': 147495.0,\n",
       " 'APCDD1L': 164284.0,\n",
       " 'APCS': 325.0,\n",
       " 'APEH': 327.0,\n",
       " 'APELA': 100506013.0,\n",
       " 'APEX1': 328.0,\n",
       " 'APEX2': 27301.0,\n",
       " 'APH1A': 51107.0,\n",
       " 'APH1B': 83464.0,\n",
       " 'API5': 8539.0,\n",
       " 'APIP': 51074.0,\n",
       " 'APLF': 200558.0,\n",
       " 'APLN': 8862.0,\n",
       " 'APLNR': 187.0,\n",
       " 'APLP1': 333.0,\n",
       " 'APLP2': 334.0,\n",
       " 'APMAP': 57136.0,\n",
       " 'APOA1': 335.0,\n",
       " 'APOA2': 336.0,\n",
       " 'APOA4': 337.0,\n",
       " 'APOA5': 116519.0,\n",
       " 'APOB': 338.0,\n",
       " 'APOBEC1': 339.0,\n",
       " 'APOBEC2': 10930.0,\n",
       " 'APOBEC3A': 200315.0,\n",
       " 'APOBEC3B': 9582.0,\n",
       " 'APOBEC3C': 27350.0,\n",
       " 'APOBEC3D': 140564.0,\n",
       " 'APOBEC3F': 200316.0,\n",
       " 'APOBEC3G': 60489.0,\n",
       " 'APOBEC3H': 164668.0,\n",
       " 'APOBEC4': 403314.0,\n",
       " 'APOBR': 55911.0,\n",
       " 'APOC1': 341.0,\n",
       " 'APOC2': 344.0,\n",
       " 'APOC3': 345.0,\n",
       " 'APOC4': 346.0,\n",
       " 'APOD': 347.0,\n",
       " 'APOE': 348.0,\n",
       " 'APOF': 319.0,\n",
       " 'APOH': 350.0,\n",
       " 'APOL1': 8542.0,\n",
       " 'APOL2': 23780.0,\n",
       " 'APOL3': 80833.0,\n",
       " 'APOL4': 80832.0,\n",
       " 'APOL5': 80831.0,\n",
       " 'APOL6': 80830.0,\n",
       " 'APOLD1': 81575.0,\n",
       " 'APOM': 55937.0,\n",
       " 'APOO': 79135.0,\n",
       " 'APOOL': 139322.0,\n",
       " 'APOPT1': 84334.0,\n",
       " 'APP': 351.0,\n",
       " 'APPBP2': 10513.0,\n",
       " 'APPL1': 26060.0,\n",
       " 'APPL2': 55198.0,\n",
       " 'APRT': 353.0,\n",
       " 'APTX': 54840.0,\n",
       " 'AQP1': 358.0,\n",
       " 'AQP2': 359.0,\n",
       " 'AQP3': 360.0,\n",
       " 'AQP4': 361.0,\n",
       " 'AQP5': 362.0,\n",
       " 'AQP6': 363.0,\n",
       " 'AQP7': 364.0,\n",
       " 'AQP8': 343.0,\n",
       " 'AQP9': 366.0,\n",
       " 'AQP10': 89872.0,\n",
       " 'AQP11': 282679.0,\n",
       " 'AQP12A': 375318.0,\n",
       " 'AQP12B': 653437.0,\n",
       " 'AQR': 9716.0,\n",
       " 'AR': 367.0,\n",
       " 'ARAF': 369.0,\n",
       " 'ARAP1': 116985.0,\n",
       " 'ARAP2': 116984.0,\n",
       " 'ARAP3': 64411.0,\n",
       " 'ARC': 23237.0,\n",
       " 'ARCN1': 372.0,\n",
       " 'AREG': 374.0,\n",
       " 'AREL1': 9870.0,\n",
       " 'ARF1': 375.0,\n",
       " 'ARF3': 377.0,\n",
       " 'ARF4': 378.0,\n",
       " 'ARF5': 381.0,\n",
       " 'ARF6': 382.0,\n",
       " 'ARFGAP1': 55738.0,\n",
       " 'ARFGAP2': 84364.0,\n",
       " 'ARFGAP3': 26286.0,\n",
       " 'ARFGEF1': 10565.0,\n",
       " 'ARFGEF2': 10564.0,\n",
       " 'ARFGEF3': 57221.0,\n",
       " 'ARFIP1': 27236.0,\n",
       " 'ARFIP2': 23647.0,\n",
       " 'ARFRP1': 10139.0,\n",
       " 'ARG1': 383.0,\n",
       " 'ARG2': 384.0,\n",
       " 'ARGFX': 503582.0,\n",
       " 'ARGLU1': 55082.0,\n",
       " 'ARHGAP1': 392.0,\n",
       " 'ARHGAP4': 393.0,\n",
       " 'ARHGAP5': 394.0,\n",
       " 'ARHGAP6': 395.0,\n",
       " 'ARHGAP8': 23779.0,\n",
       " 'ARHGAP9': 64333.0,\n",
       " 'ARHGAP10': 79658.0,\n",
       " 'ARHGAP11A': 9824.0,\n",
       " 'ARHGAP11B': 89839.0,\n",
       " 'ARHGAP12': 94134.0,\n",
       " 'ARHGAP15': 55843.0,\n",
       " 'ARHGAP17': 55114.0,\n",
       " 'ARHGAP18': 93663.0,\n",
       " 'ARHGAP19': 84986.0,\n",
       " 'ARHGAP20': 57569.0,\n",
       " 'ARHGAP21': 57584.0,\n",
       " 'ARHGAP22': 58504.0,\n",
       " 'ARHGAP23': 57636.0,\n",
       " 'ARHGAP24': 83478.0,\n",
       " 'ARHGAP25': 9938.0,\n",
       " 'ARHGAP26': 23092.0,\n",
       " 'ARHGAP27': 201176.0,\n",
       " 'ARHGAP28': 79822.0,\n",
       " 'ARHGAP29': 9411.0,\n",
       " 'ARHGAP30': 257106.0,\n",
       " 'ARHGAP31': 57514.0,\n",
       " 'ARHGAP32': 9743.0,\n",
       " 'ARHGAP33': 115703.0,\n",
       " 'ARHGAP35': 2909.0,\n",
       " 'ARHGAP36': 158763.0,\n",
       " 'ARHGAP39': 80728.0,\n",
       " 'ARHGAP40': 343578.0,\n",
       " 'ARHGAP42': 143872.0,\n",
       " 'ARHGAP44': 9912.0,\n",
       " 'ARHGAP45': 23526.0,\n",
       " 'ARHGDIA': 396.0,\n",
       " 'ARHGDIB': 397.0,\n",
       " 'ARHGDIG': 398.0,\n",
       " 'ARHGEF1': 9138.0,\n",
       " 'ARHGEF2': 9181.0,\n",
       " 'ARHGEF3': 50650.0,\n",
       " 'ARHGEF4': 50649.0,\n",
       " 'ARHGEF5': 7984.0,\n",
       " 'ARHGEF6': 9459.0,\n",
       " 'ARHGEF7': 8874.0,\n",
       " 'ARHGEF9': 23229.0,\n",
       " 'ARHGEF10': 9639.0,\n",
       " 'ARHGEF10L': 55160.0,\n",
       " 'ARHGEF11': 9826.0,\n",
       " 'ARHGEF12': 23365.0,\n",
       " 'ARHGEF15': 22899.0,\n",
       " 'ARHGEF16': 27237.0,\n",
       " 'ARHGEF17': 9828.0,\n",
       " 'ARHGEF18': 23370.0,\n",
       " 'ARHGEF19': 128272.0,\n",
       " 'ARHGEF25': 115557.0,\n",
       " 'ARHGEF26': 26084.0,\n",
       " 'ARHGEF28': 64283.0,\n",
       " 'ARHGEF33': 100271715.0,\n",
       " 'ARHGEF35': 445328.0,\n",
       " 'ARHGEF37': 389337.0,\n",
       " 'ARHGEF38': 54848.0,\n",
       " 'ARHGEF39': 84904.0,\n",
       " 'ARHGEF40': 55701.0,\n",
       " 'ARID1A': 8289.0,\n",
       " 'ARID1B': 57492.0,\n",
       " 'ARID2': 196528.0,\n",
       " 'ARID3A': 1820.0,\n",
       " 'ARID3B': 10620.0,\n",
       " 'ARID3C': 138715.0,\n",
       " 'ARID4A': 5926.0,\n",
       " 'ARID4B': 51742.0,\n",
       " ...}"
      ]
     },
     "execution_count": 307,
     "metadata": {},
     "output_type": "execute_result"
    }
   ],
   "source": [
    "GeneSymbol2Entrez"
   ]
  },
  {
   "cell_type": "code",
   "execution_count": 286,
   "metadata": {},
   "outputs": [],
   "source": [
    "ssc_wigler = ssc = pd.read_excel(\"../dat/genes/pnas.1516376112.sd01.xlsx\", sheet_name=\"ST1-genes-beautified\")"
   ]
  },
  {
   "cell_type": "code",
   "execution_count": 310,
   "metadata": {},
   "outputs": [
    {
     "data": {
      "text/plain": [
       "249"
      ]
     },
     "execution_count": 310,
     "metadata": {},
     "output_type": "execute_result"
    }
   ],
   "source": [
    "ssc_wigler[\"Entrez\"] = [GeneSymbol2Entrez.get(x, 0) for x in ssc_wigler[\"gene\"].values]\n",
    "ssc_wigler = ssc_wigler[ssc_wigler[\"Entrez\"]!=0].dropna(subset=[\"Entrez\"])\n",
    "#ssc_wigler[\"Entrez\"] = [int(x) for x in ssc_wigler[\"Entrez\"].values]\n",
    "ssc_wigler = ssc_wigler.set_index(\"Entrez\")\n",
    "Lost_Gene = 0\n",
    "for i, row in ssc_wigler.iterrows():\n",
    "    try:\n",
    "    #print(i)\n",
    "        ssc_wigler.loc[i, \"lof_z\"] = Gene2LoFZ[int(i)]\n",
    "        ssc_wigler.loc[i, \"pLI\"] = Gene2pLI[int(i)]\n",
    "    except:\n",
    "        #print(i, row[\"SYMBOL\"])\n",
    "        Lost_Gene += 1\n",
    "Lost_Gene"
   ]
  },
  {
   "cell_type": "code",
   "execution_count": 309,
   "metadata": {},
   "outputs": [
    {
     "data": {
      "text/html": [
       "<div>\n",
       "<style scoped>\n",
       "    .dataframe tbody tr th:only-of-type {\n",
       "        vertical-align: middle;\n",
       "    }\n",
       "\n",
       "    .dataframe tbody tr th {\n",
       "        vertical-align: top;\n",
       "    }\n",
       "\n",
       "    .dataframe thead th {\n",
       "        text-align: right;\n",
       "    }\n",
       "</style>\n",
       "<table border=\"1\" class=\"dataframe\">\n",
       "  <thead>\n",
       "    <tr style=\"text-align: right;\">\n",
       "      <th></th>\n",
       "      <th>gene</th>\n",
       "      <th>codingLen</th>\n",
       "      <th>codingLenInTarget</th>\n",
       "      <th>chromosome</th>\n",
       "      <th>set_FMRPTargets</th>\n",
       "      <th>set_PSD</th>\n",
       "      <th>set_Embryonic</th>\n",
       "      <th>set_ChromatinModifiers</th>\n",
       "      <th>set_EssentialGenes</th>\n",
       "      <th>set_HLA</th>\n",
       "      <th>...</th>\n",
       "      <th>GR_PUB_missense_oC</th>\n",
       "      <th>GR_PUB_missense_eC</th>\n",
       "      <th>GR_PUB_LGDs_oC</th>\n",
       "      <th>GR_PUB_LGDs_eC</th>\n",
       "      <th>GR_PUB_LGDs_post</th>\n",
       "      <th>GR_PUBNOAUT_LGDs_oC</th>\n",
       "      <th>GR_PUBNOAUT_LGDs_eC</th>\n",
       "      <th>GR_PUBNOAUT_LGDs_post</th>\n",
       "      <th>lof_z</th>\n",
       "      <th>pLI</th>\n",
       "    </tr>\n",
       "    <tr>\n",
       "      <th>Entrez</th>\n",
       "      <th></th>\n",
       "      <th></th>\n",
       "      <th></th>\n",
       "      <th></th>\n",
       "      <th></th>\n",
       "      <th></th>\n",
       "      <th></th>\n",
       "      <th></th>\n",
       "      <th></th>\n",
       "      <th></th>\n",
       "      <th></th>\n",
       "      <th></th>\n",
       "      <th></th>\n",
       "      <th></th>\n",
       "      <th></th>\n",
       "      <th></th>\n",
       "      <th></th>\n",
       "      <th></th>\n",
       "      <th></th>\n",
       "      <th></th>\n",
       "      <th></th>\n",
       "    </tr>\n",
       "  </thead>\n",
       "  <tbody>\n",
       "    <tr>\n",
       "      <th>29123.0</th>\n",
       "      <td>ANKRD11</td>\n",
       "      <td>7992</td>\n",
       "      <td>7992</td>\n",
       "      <td>16</td>\n",
       "      <td>1</td>\n",
       "      <td>0</td>\n",
       "      <td>0</td>\n",
       "      <td>0</td>\n",
       "      <td>1</td>\n",
       "      <td>0</td>\n",
       "      <td>...</td>\n",
       "      <td>206</td>\n",
       "      <td>324.360067</td>\n",
       "      <td>0</td>\n",
       "      <td>10.454</td>\n",
       "      <td>1.000</td>\n",
       "      <td>0</td>\n",
       "      <td>7.824</td>\n",
       "      <td>1.000</td>\n",
       "      <td>8.1680</td>\n",
       "      <td>1.0</td>\n",
       "    </tr>\n",
       "    <tr>\n",
       "      <th>4035.0</th>\n",
       "      <td>LRP1</td>\n",
       "      <td>13635</td>\n",
       "      <td>13635</td>\n",
       "      <td>12</td>\n",
       "      <td>1</td>\n",
       "      <td>1</td>\n",
       "      <td>0</td>\n",
       "      <td>0</td>\n",
       "      <td>1</td>\n",
       "      <td>0</td>\n",
       "      <td>...</td>\n",
       "      <td>314</td>\n",
       "      <td>528.571905</td>\n",
       "      <td>1</td>\n",
       "      <td>15.010</td>\n",
       "      <td>1.000</td>\n",
       "      <td>0</td>\n",
       "      <td>11.180</td>\n",
       "      <td>1.000</td>\n",
       "      <td>14.0900</td>\n",
       "      <td>1.0</td>\n",
       "    </tr>\n",
       "    <tr>\n",
       "      <th>1826.0</th>\n",
       "      <td>DSCAM</td>\n",
       "      <td>6039</td>\n",
       "      <td>6039</td>\n",
       "      <td>21</td>\n",
       "      <td>1</td>\n",
       "      <td>0</td>\n",
       "      <td>0</td>\n",
       "      <td>0</td>\n",
       "      <td>1</td>\n",
       "      <td>0</td>\n",
       "      <td>...</td>\n",
       "      <td>120</td>\n",
       "      <td>192.457225</td>\n",
       "      <td>1</td>\n",
       "      <td>7.175</td>\n",
       "      <td>0.998</td>\n",
       "      <td>0</td>\n",
       "      <td>5.373</td>\n",
       "      <td>0.999</td>\n",
       "      <td>8.0664</td>\n",
       "      <td>1.0</td>\n",
       "    </tr>\n",
       "    <tr>\n",
       "      <th>4297.0</th>\n",
       "      <td>KMT2A</td>\n",
       "      <td>11919</td>\n",
       "      <td>11919</td>\n",
       "      <td>11</td>\n",
       "      <td>0</td>\n",
       "      <td>0</td>\n",
       "      <td>0</td>\n",
       "      <td>0</td>\n",
       "      <td>0</td>\n",
       "      <td>0</td>\n",
       "      <td>...</td>\n",
       "      <td>182</td>\n",
       "      <td>203.376705</td>\n",
       "      <td>1</td>\n",
       "      <td>7.412</td>\n",
       "      <td>0.999</td>\n",
       "      <td>0</td>\n",
       "      <td>5.554</td>\n",
       "      <td>0.999</td>\n",
       "      <td>11.3810</td>\n",
       "      <td>1.0</td>\n",
       "    </tr>\n",
       "    <tr>\n",
       "      <th>8295.0</th>\n",
       "      <td>TRRAP</td>\n",
       "      <td>11580</td>\n",
       "      <td>11513</td>\n",
       "      <td>7</td>\n",
       "      <td>1</td>\n",
       "      <td>0</td>\n",
       "      <td>1</td>\n",
       "      <td>1</td>\n",
       "      <td>1</td>\n",
       "      <td>0</td>\n",
       "      <td>...</td>\n",
       "      <td>184</td>\n",
       "      <td>380.642911</td>\n",
       "      <td>0</td>\n",
       "      <td>11.684</td>\n",
       "      <td>1.000</td>\n",
       "      <td>0</td>\n",
       "      <td>8.738</td>\n",
       "      <td>0.999</td>\n",
       "      <td>12.5930</td>\n",
       "      <td>1.0</td>\n",
       "    </tr>\n",
       "  </tbody>\n",
       "</table>\n",
       "<p>5 rows × 74 columns</p>\n",
       "</div>"
      ],
      "text/plain": [
       "            gene  codingLen  codingLenInTarget chromosome  set_FMRPTargets  \\\n",
       "Entrez                                                                       \n",
       "29123.0  ANKRD11       7992               7992         16                1   \n",
       "4035.0      LRP1      13635              13635         12                1   \n",
       "1826.0     DSCAM       6039               6039         21                1   \n",
       "4297.0     KMT2A      11919              11919         11                0   \n",
       "8295.0     TRRAP      11580              11513          7                1   \n",
       "\n",
       "         set_PSD  set_Embryonic  set_ChromatinModifiers  set_EssentialGenes  \\\n",
       "Entrez                                                                        \n",
       "29123.0        0              0                       0                   1   \n",
       "4035.0         1              0                       0                   1   \n",
       "1826.0         0              0                       0                   1   \n",
       "4297.0         0              0                       0                   0   \n",
       "8295.0         0              1                       1                   1   \n",
       "\n",
       "         set_HLA  ...  GR_PUB_missense_oC  GR_PUB_missense_eC  GR_PUB_LGDs_oC  \\\n",
       "Entrez            ...                                                           \n",
       "29123.0        0  ...                 206          324.360067               0   \n",
       "4035.0         0  ...                 314          528.571905               1   \n",
       "1826.0         0  ...                 120          192.457225               1   \n",
       "4297.0         0  ...                 182          203.376705               1   \n",
       "8295.0         0  ...                 184          380.642911               0   \n",
       "\n",
       "         GR_PUB_LGDs_eC  GR_PUB_LGDs_post  GR_PUBNOAUT_LGDs_oC  \\\n",
       "Entrez                                                           \n",
       "29123.0          10.454             1.000                    0   \n",
       "4035.0           15.010             1.000                    0   \n",
       "1826.0            7.175             0.998                    0   \n",
       "4297.0            7.412             0.999                    0   \n",
       "8295.0           11.684             1.000                    0   \n",
       "\n",
       "         GR_PUBNOAUT_LGDs_eC  GR_PUBNOAUT_LGDs_post    lof_z  pLI  \n",
       "Entrez                                                             \n",
       "29123.0                7.824                  1.000   8.1680  1.0  \n",
       "4035.0                11.180                  1.000  14.0900  1.0  \n",
       "1826.0                 5.373                  0.999   8.0664  1.0  \n",
       "4297.0                 5.554                  0.999  11.3810  1.0  \n",
       "8295.0                 8.738                  0.999  12.5930  1.0  \n",
       "\n",
       "[5 rows x 74 columns]"
      ]
     },
     "execution_count": 309,
     "metadata": {},
     "output_type": "execute_result"
    }
   ],
   "source": [
    "ssc_wigler.head(5)"
   ]
  },
  {
   "cell_type": "code",
   "execution_count": 304,
   "metadata": {},
   "outputs": [
    {
     "data": {
      "text/plain": [
       "(234, 74)"
      ]
     },
     "execution_count": 304,
     "metadata": {},
     "output_type": "execute_result"
    }
   ],
   "source": [
    "ssc_wigler_tops = ssc_wigler[ssc_wigler[\"GR_PUBNOAUT_LGDs_post\"]>0.8].sort_values(\"lof_z\", ascending=False)\n",
    "ssc_wigler_tops.shape"
   ]
  },
  {
   "cell_type": "code",
   "execution_count": 311,
   "metadata": {},
   "outputs": [
    {
     "data": {
      "text/html": [
       "<div>\n",
       "<style scoped>\n",
       "    .dataframe tbody tr th:only-of-type {\n",
       "        vertical-align: middle;\n",
       "    }\n",
       "\n",
       "    .dataframe tbody tr th {\n",
       "        vertical-align: top;\n",
       "    }\n",
       "\n",
       "    .dataframe thead th {\n",
       "        text-align: right;\n",
       "    }\n",
       "</style>\n",
       "<table border=\"1\" class=\"dataframe\">\n",
       "  <thead>\n",
       "    <tr style=\"text-align: right;\">\n",
       "      <th></th>\n",
       "      <th>1</th>\n",
       "      <th>2</th>\n",
       "      <th>3</th>\n",
       "      <th>4</th>\n",
       "      <th>5</th>\n",
       "      <th>6</th>\n",
       "      <th>7</th>\n",
       "      <th>8</th>\n",
       "      <th>9</th>\n",
       "      <th>10</th>\n",
       "      <th>...</th>\n",
       "      <th>991</th>\n",
       "      <th>992</th>\n",
       "      <th>993</th>\n",
       "      <th>994</th>\n",
       "      <th>995</th>\n",
       "      <th>996</th>\n",
       "      <th>997</th>\n",
       "      <th>998</th>\n",
       "      <th>999</th>\n",
       "      <th>1000</th>\n",
       "    </tr>\n",
       "    <tr>\n",
       "      <th>GENE</th>\n",
       "      <th></th>\n",
       "      <th></th>\n",
       "      <th></th>\n",
       "      <th></th>\n",
       "      <th></th>\n",
       "      <th></th>\n",
       "      <th></th>\n",
       "      <th></th>\n",
       "      <th></th>\n",
       "      <th></th>\n",
       "      <th></th>\n",
       "      <th></th>\n",
       "      <th></th>\n",
       "      <th></th>\n",
       "      <th></th>\n",
       "      <th></th>\n",
       "      <th></th>\n",
       "      <th></th>\n",
       "      <th></th>\n",
       "      <th></th>\n",
       "      <th></th>\n",
       "    </tr>\n",
       "  </thead>\n",
       "  <tbody>\n",
       "    <tr>\n",
       "      <th>29123</th>\n",
       "      <td>388403</td>\n",
       "      <td>11083</td>\n",
       "      <td>27072</td>\n",
       "      <td>782</td>\n",
       "      <td>140467</td>\n",
       "      <td>57181</td>\n",
       "      <td>7419</td>\n",
       "      <td>29123</td>\n",
       "      <td>221545</td>\n",
       "      <td>1351</td>\n",
       "      <td>...</td>\n",
       "      <td>81565</td>\n",
       "      <td>140707</td>\n",
       "      <td>23304</td>\n",
       "      <td>59353</td>\n",
       "      <td>9879</td>\n",
       "      <td>10971</td>\n",
       "      <td>221545</td>\n",
       "      <td>726</td>\n",
       "      <td>54329</td>\n",
       "      <td>55621</td>\n",
       "    </tr>\n",
       "    <tr>\n",
       "      <th>10438</th>\n",
       "      <td>121355</td>\n",
       "      <td>79781</td>\n",
       "      <td>10160</td>\n",
       "      <td>147111</td>\n",
       "      <td>162993</td>\n",
       "      <td>29920</td>\n",
       "      <td>23569</td>\n",
       "      <td>374907</td>\n",
       "      <td>2018</td>\n",
       "      <td>29777</td>\n",
       "      <td>...</td>\n",
       "      <td>23244</td>\n",
       "      <td>84287</td>\n",
       "      <td>10507</td>\n",
       "      <td>29777</td>\n",
       "      <td>644186</td>\n",
       "      <td>113612</td>\n",
       "      <td>79781</td>\n",
       "      <td>340351</td>\n",
       "      <td>162993</td>\n",
       "      <td>23244</td>\n",
       "    </tr>\n",
       "  </tbody>\n",
       "</table>\n",
       "<p>2 rows × 1000 columns</p>\n",
       "</div>"
      ],
      "text/plain": [
       "            1      2      3       4       5      6      7       8       9  \\\n",
       "GENE                                                                        \n",
       "29123  388403  11083  27072     782  140467  57181   7419   29123  221545   \n",
       "10438  121355  79781  10160  147111  162993  29920  23569  374907    2018   \n",
       "\n",
       "          10  ...    991     992    993    994     995     996     997  \\\n",
       "GENE          ...                                                        \n",
       "29123   1351  ...  81565  140707  23304  59353    9879   10971  221545   \n",
       "10438  29777  ...  23244   84287  10507  29777  644186  113612   79781   \n",
       "\n",
       "          998     999   1000  \n",
       "GENE                          \n",
       "29123     726   54329  55621  \n",
       "10438  340351  162993  23244  \n",
       "\n",
       "[2 rows x 1000 columns]"
      ]
     },
     "execution_count": 311,
     "metadata": {},
     "output_type": "execute_result"
    }
   ],
   "source": [
    "ssc_wigler_match_df.head(2)"
   ]
  },
  {
   "cell_type": "code",
   "execution_count": 313,
   "metadata": {},
   "outputs": [
    {
     "data": {
      "text/plain": [
       "(212, 74)"
      ]
     },
     "execution_count": 313,
     "metadata": {},
     "output_type": "execute_result"
    }
   ],
   "source": [
    "ssc_wigler_tops.index = [int(x) for x in ssc_wigler_tops.index.values]\n",
    "ssc_wigler_tops = ssc_wigler_tops[ssc_wigler_tops.index.isin(ssc_wigler_match_df.index.values)]\n",
    "ssc_wigler_tops.shape"
   ]
  },
  {
   "cell_type": "code",
   "execution_count": 342,
   "metadata": {},
   "outputs": [
    {
     "name": "stdout",
     "output_type": "stream",
     "text": [
      "Cerebellum \t 3 \t Culmen; Pyramus_VIII; Simple_lobule\n",
      "Midbrain \t 2 \t Anterior_pretectal_nucleus; Nucleus_of_the_optic_tract\n",
      "Pallidum \t 2 \t Triangular_nucleus_of_septum; Bed_nuclei_of_the_stria_terminalis\n",
      "Cortical_subplate \t 2 \t Claustrum; Posterior_amygdalar_nucleus\n",
      "Hippocampal_formation \t 3 \t Parasubiculum; Subiculum_dorsal_part; Presubiculum\n",
      "Isocortex \t 10 \t Infralimbic_area; Orbital_area_ventrolateral_part; Frontal_pole_cerebral_cortex; Orbital_area_lateral_part; Retrosplenial_area_lateral_agranular_part; Prelimbic_area; Secondary_motor_area; Anterior_cingulate_area_ventral_part; posteromedial_visual_area; Retrosplenial_area_dorsal_part\n",
      "Olfactory_areas \t 5 \t Accessory_olfactory_bulb; Anterior_olfactory_nucleus; Main_olfactory_bulb; Dorsal_peduncular_area; Taenia_tecta\n",
      "Thalamus \t 12 \t Lateral_posterior_nucleus_of_the_thalamus; Lateral_habenula; Parataenial_nucleus; Medial_habenula; Submedial_nucleus_of_the_thalamus; Nucleus_of_reuniens; Intermediodorsal_nucleus_of_the_thalamus; Mediodorsal_nucleus_of_thalamus; Central_lateral_nucleus_of_the_thalamus; Anteromedial_nucleus_ventral_part; Central_medial_nucleus_of_the_thalamus; Subparafascicular_nucleus_magnocellular_part\n",
      "Striatum \t 7 \t Lateral_septal_nucleus_caudal_caudodorsal_part; Lateral_septal_nucleus_rostral_rostroventral_part; Lateral_septal_nucleus_ventral_part; Caudoputamen; Septofimbrial_nucleus; Nucleus_accumbens; Intercalated_amygdalar_nucleus\n",
      "Hippocampal_region \t 4 \t Dentate_gyrus; Field_CA2; Field_CA3; Field_CA1\n"
     ]
    }
   ],
   "source": [
    "ssc_wigler_zscore = ZscoreAVGWithExpMatch(ExpZscoreMat, ssc_wigler_tops.index.values, \n",
    "                                      ssc_wigler_match_df, csv_fil=\"dat/bias/sscwigler.zscore.csv\")\n",
    "RegionDistributions(ssc_wigler_zscore.head(50).set_index(\"STR\"))"
   ]
  },
  {
   "cell_type": "code",
   "execution_count": 343,
   "metadata": {},
   "outputs": [
    {
     "name": "stdout",
     "output_type": "stream",
     "text": [
      "Cerebellum \t 3 \t Culmen; Pyramus_VIII; Simple_lobule\n",
      "Midbrain \t 4 \t Anterior_pretectal_nucleus; Nucleus_of_the_optic_tract; Superior_colliculus_sensory_related; Inferior_colliculus_central_nucleus\n",
      "Pallidum \t 2 \t Bed_nuclei_of_the_stria_terminalis; Triangular_nucleus_of_septum\n",
      "Cortical_subplate \t 3 \t Claustrum; Basomedial_amygdalar_nucleus; Endopiriform_nucleus_dorsal_part\n",
      "Hippocampal_formation \t 3 \t Parasubiculum; Subiculum_dorsal_part; Presubiculum\n",
      "Isocortex \t 13 \t Infralimbic_area; Orbital_area_ventrolateral_part; Frontal_pole_cerebral_cortex; Orbital_area_lateral_part; Retrosplenial_area_lateral_agranular_part; Prelimbic_area; Anterior_cingulate_area_ventral_part; posteromedial_visual_area; Secondary_motor_area; Posterolateral_visual_area; Retrosplenial_area_dorsal_part; Anterior_cingulate_area_dorsal_part; Anteromedial_visual_area\n",
      "Olfactory_areas \t 5 \t Accessory_olfactory_bulb; Anterior_olfactory_nucleus; Main_olfactory_bulb; Dorsal_peduncular_area; Taenia_tecta\n",
      "Thalamus \t 6 \t Lateral_posterior_nucleus_of_the_thalamus; Lateral_habenula; Submedial_nucleus_of_the_thalamus; Parataenial_nucleus; Nucleus_of_reuniens; Central_lateral_nucleus_of_the_thalamus\n",
      "Striatum \t 7 \t Lateral_septal_nucleus_ventral_part; Lateral_septal_nucleus_caudal_caudodorsal_part; Lateral_septal_nucleus_rostral_rostroventral_part; Nucleus_accumbens; Caudoputamen; Septofimbrial_nucleus; Intercalated_amygdalar_nucleus\n",
      "Hippocampal_region \t 4 \t Dentate_gyrus; Field_CA2; Field_CA3; Field_CA1\n"
     ]
    }
   ],
   "source": [
    "ssc_wigler_zscore = ZscoreAVGWithExpMatch(ZscoreMatNorm, ssc_wigler_tops.index.values, \n",
    "                                      ssc_wigler_match_df, csv_fil=\"dat/bias/sscwigler.zscore.neuronorm.csv\")\n",
    "RegionDistributions(ssc_wigler_zscore.head(50).set_index(\"STR\"))"
   ]
  },
  {
   "cell_type": "code",
   "execution_count": null,
   "metadata": {},
   "outputs": [],
   "source": []
  },
  {
   "cell_type": "code",
   "execution_count": null,
   "metadata": {},
   "outputs": [],
   "source": []
  },
  {
   "cell_type": "code",
   "execution_count": 323,
   "metadata": {},
   "outputs": [],
   "source": [
    "ssc_wigler_match_df = pd.read_csv(\"dat/matching/asd_ssc_exp_matches_1000.csv\", index_col=\"GENE\")\n",
    "ssc_wigler_elevel = ExpAVGWithExpMatch(ExpMatNorm, ssc_wigler_tops.index.values, \n",
    "                                      ssc_wigler_match_df, csv_fil=\"dat/bias/sscwigler.neuronorm.csv\")"
   ]
  },
  {
   "cell_type": "code",
   "execution_count": 324,
   "metadata": {},
   "outputs": [
    {
     "name": "stdout",
     "output_type": "stream",
     "text": [
      "Cerebellum \t 3 \t Culmen; Pyramus_VIII; Simple_lobule\n",
      "Midbrain \t 5 \t Anterior_pretectal_nucleus; Nucleus_of_the_optic_tract; Inferior_colliculus_central_nucleus; Superior_colliculus_sensory_related; Inferior_colliculus_dorsal_nucleus\n",
      "Pallidum \t 2 \t Triangular_nucleus_of_septum; Bed_nuclei_of_the_stria_terminalis\n",
      "Cortical_subplate \t 2 \t Claustrum; Endopiriform_nucleus_dorsal_part\n",
      "Hippocampal_formation \t 2 \t Subiculum_dorsal_part; Parasubiculum\n",
      "Isocortex \t 15 \t Orbital_area_ventrolateral_part; Infralimbic_area; Retrosplenial_area_lateral_agranular_part; Orbital_area_lateral_part; Frontal_pole_cerebral_cortex; Prelimbic_area; Anterior_cingulate_area_ventral_part; Secondary_motor_area; posteromedial_visual_area; Anterior_cingulate_area_dorsal_part; Posterolateral_visual_area; Retrosplenial_area_dorsal_part; Anteromedial_visual_area; Agranular_insular_area_ventral_part; Primary_visual_area\n",
      "Olfactory_areas \t 5 \t Accessory_olfactory_bulb; Anterior_olfactory_nucleus; Main_olfactory_bulb; Dorsal_peduncular_area; Taenia_tecta\n",
      "Thalamus \t 6 \t Lateral_posterior_nucleus_of_the_thalamus; Lateral_habenula; Parataenial_nucleus; Submedial_nucleus_of_the_thalamus; Nucleus_of_reuniens; Central_lateral_nucleus_of_the_thalamus\n",
      "Striatum \t 6 \t Lateral_septal_nucleus_caudal_caudodorsal_part; Lateral_septal_nucleus_ventral_part; Lateral_septal_nucleus_rostral_rostroventral_part; Nucleus_accumbens; Septofimbrial_nucleus; Caudoputamen\n",
      "Hippocampal_region \t 4 \t Dentate_gyrus; Field_CA3; Field_CA2; Field_CA1\n"
     ]
    }
   ],
   "source": [
    "RegionDistributions(ssc_wigler_elevel.head(50).set_index(\"STR\"))"
   ]
  },
  {
   "cell_type": "code",
   "execution_count": null,
   "metadata": {},
   "outputs": [],
   "source": [
    "\n",
    "\n",
    "ssc_wigler_match_df = pd.read_csv(\"dat/matching/asd_ssc_exp_matches_1000.csv\", index_col=\"GENE\")\n",
    "ssc_wigler_elevel = ExpAVGWithExpMatch(ExpMat1, ssc_wigler_tops.index.values, \n",
    "                                      ssc_wigler_match_df, csv_fil=\"dat/bias/sscwigler.expmatV1.csv\")"
   ]
  },
  {
   "cell_type": "code",
   "execution_count": 325,
   "metadata": {},
   "outputs": [],
   "source": [
    "ssc_wigler_match_df = pd.read_csv(\"dat/matching/asd_ssc_exp_matches_1000.csv\", index_col=\"GENE\")\n",
    "ssc_wigler_elevel = ExpAVGWithExpMatch(ExpMat1, ssc_wigler_tops.index.values, \n",
    "                                      ssc_wigler_match_df, csv_fil=\"dat/bias/sscwigler.expmatV1.csv\")"
   ]
  },
  {
   "cell_type": "code",
   "execution_count": 326,
   "metadata": {},
   "outputs": [
    {
     "name": "stdout",
     "output_type": "stream",
     "text": [
      "Cerebellum \t 2 \t Culmen; Pyramus_VIII\n",
      "Midbrain \t 4 \t Anterior_pretectal_nucleus; Nucleus_of_the_optic_tract; Inferior_colliculus_central_nucleus; Superior_colliculus_sensory_related\n",
      "Cortical_subplate \t 1 \t Claustrum\n",
      "Hippocampal_formation \t 2 \t Parasubiculum; Subiculum_dorsal_part\n",
      "Isocortex \t 12 \t Orbital_area_ventrolateral_part; Infralimbic_area; Retrosplenial_area_lateral_agranular_part; Orbital_area_lateral_part; Prelimbic_area; Retrosplenial_area_dorsal_part; Frontal_pole_cerebral_cortex; Anterior_cingulate_area_ventral_part; Anterior_cingulate_area_dorsal_part; Secondary_motor_area; posteromedial_visual_area; Anteromedial_visual_area\n",
      "Olfactory_areas \t 5 \t Accessory_olfactory_bulb; Anterior_olfactory_nucleus; Main_olfactory_bulb; Taenia_tecta; Dorsal_peduncular_area\n",
      "Thalamus \t 14 \t Lateral_posterior_nucleus_of_the_thalamus; Parataenial_nucleus; Submedial_nucleus_of_the_thalamus; Nucleus_of_reuniens; Central_medial_nucleus_of_the_thalamus; Lateral_habenula; Rhomboid_nucleus; Intermediodorsal_nucleus_of_the_thalamus; Mediodorsal_nucleus_of_thalamus; Medial_habenula; Subparafascicular_nucleus_magnocellular_part; Anteromedial_nucleus_dorsal_part; Parafascicular_nucleus; Central_lateral_nucleus_of_the_thalamus\n",
      "Striatum \t 6 \t Lateral_septal_nucleus_rostral_rostroventral_part; Lateral_septal_nucleus_caudal_caudodorsal_part; Nucleus_accumbens; Lateral_septal_nucleus_ventral_part; Caudoputamen; Septofimbrial_nucleus\n",
      "Hippocampal_region \t 4 \t Dentate_gyrus; Field_CA3; Field_CA2; Field_CA1\n"
     ]
    }
   ],
   "source": [
    "RegionDistributions(ssc_wigler_elevel.head(50).set_index(\"STR\"))"
   ]
  },
  {
   "cell_type": "code",
   "execution_count": 327,
   "metadata": {},
   "outputs": [],
   "source": [
    "ssc_wigler_match_df = pd.read_csv(\"dat/matching/asd_ssc_exp_matches_1000.csv\", index_col=\"GENE\")\n",
    "ssc_wigler_elevel = ExpAVGWithExpMatch(ExpMat2, ssc_wigler_tops.index.values, \n",
    "                                      ssc_wigler_match_df, csv_fil=\"dat/bias/sscwigler.expmatV2.csv\")"
   ]
  },
  {
   "cell_type": "code",
   "execution_count": 328,
   "metadata": {},
   "outputs": [
    {
     "name": "stdout",
     "output_type": "stream",
     "text": [
      "Cerebellum \t 3 \t Culmen; Pyramus_VIII; Simple_lobule\n",
      "Midbrain \t 4 \t Anterior_pretectal_nucleus; Nucleus_of_the_optic_tract; Inferior_colliculus_central_nucleus; Superior_colliculus_sensory_related\n",
      "Pallidum \t 2 \t Triangular_nucleus_of_septum; Bed_nuclei_of_the_stria_terminalis\n",
      "Cortical_subplate \t 1 \t Claustrum\n",
      "Hippocampal_formation \t 2 \t Subiculum_dorsal_part; Parasubiculum\n",
      "Isocortex \t 13 \t Infralimbic_area; Orbital_area_ventrolateral_part; Retrosplenial_area_lateral_agranular_part; Orbital_area_lateral_part; Prelimbic_area; Frontal_pole_cerebral_cortex; Anterior_cingulate_area_ventral_part; Retrosplenial_area_dorsal_part; Secondary_motor_area; Anterior_cingulate_area_dorsal_part; posteromedial_visual_area; Anteromedial_visual_area; Posterolateral_visual_area\n",
      "Olfactory_areas \t 5 \t Accessory_olfactory_bulb; Anterior_olfactory_nucleus; Main_olfactory_bulb; Dorsal_peduncular_area; Taenia_tecta\n",
      "Thalamus \t 10 \t Lateral_posterior_nucleus_of_the_thalamus; Lateral_habenula; Parataenial_nucleus; Medial_habenula; Submedial_nucleus_of_the_thalamus; Nucleus_of_reuniens; Intermediodorsal_nucleus_of_the_thalamus; Anteromedial_nucleus_ventral_part; Mediodorsal_nucleus_of_thalamus; Subparafascicular_area\n",
      "Striatum \t 6 \t Lateral_septal_nucleus_rostral_rostroventral_part; Lateral_septal_nucleus_caudal_caudodorsal_part; Lateral_septal_nucleus_ventral_part; Nucleus_accumbens; Septofimbrial_nucleus; Caudoputamen\n",
      "Hippocampal_region \t 4 \t Dentate_gyrus; Field_CA3; Field_CA2; Field_CA1\n"
     ]
    }
   ],
   "source": [
    "RegionDistributions(ssc_wigler_elevel.head(50).set_index(\"STR\"))"
   ]
  },
  {
   "cell_type": "code",
   "execution_count": null,
   "metadata": {},
   "outputs": [],
   "source": []
  },
  {
   "cell_type": "code",
   "execution_count": null,
   "metadata": {},
   "outputs": [],
   "source": []
  },
  {
   "cell_type": "code",
   "execution_count": null,
   "metadata": {},
   "outputs": [],
   "source": []
  },
  {
   "cell_type": "code",
   "execution_count": 273,
   "metadata": {},
   "outputs": [
    {
     "data": {
      "text/plain": [
       "123"
      ]
     },
     "execution_count": 273,
     "metadata": {},
     "output_type": "execute_result"
    }
   ],
   "source": [
    "Spark_wigler = pd.read_csv(\"../dat/genes/spark_wiglermodel.csv\")\n",
    "Spark_wigler = Spark_wigler.dropna(subset=[\"GENE\"]).set_index(\"GENE\").drop_duplicates(subset=\"SYMBOL\", keep='first')\n",
    "Spark_wigler.index = [int(x) for x in Spark_wigler.index.values]\n",
    "Spark_wigler = Spark_wigler.sort_values(\"FDR\")\n",
    "Lost_Gene = 0\n",
    "for i, row in Spark_wigler.iterrows():\n",
    "    try:\n",
    "    #print(i)\n",
    "        Spark_wigler.loc[i, \"lof_z\"] = Gene2LoFZ[int(i)]\n",
    "        Spark_wigler.loc[i, \"pLI\"] = Gene2pLI[int(i)]\n",
    "    except:\n",
    "        #print(i, row[\"SYMBOL\"])\n",
    "        Lost_Gene += 1\n",
    "Lost_Gene"
   ]
  },
  {
   "cell_type": "code",
   "execution_count": 274,
   "metadata": {},
   "outputs": [
    {
     "data": {
      "text/plain": [
       "(318, 13)"
      ]
     },
     "execution_count": 274,
     "metadata": {},
     "output_type": "execute_result"
    }
   ],
   "source": [
    "spark_wigler_tops = Spark_wigler[Spark_wigler[\"FDR\"]<0.2].sort_values(\"lof_z\", ascending=False)\n",
    "spark_wigler_tops.shape"
   ]
  },
  {
   "cell_type": "code",
   "execution_count": 275,
   "metadata": {},
   "outputs": [
    {
     "data": {
      "text/html": [
       "<div>\n",
       "<style scoped>\n",
       "    .dataframe tbody tr th:only-of-type {\n",
       "        vertical-align: middle;\n",
       "    }\n",
       "\n",
       "    .dataframe tbody tr th {\n",
       "        vertical-align: top;\n",
       "    }\n",
       "\n",
       "    .dataframe thead th {\n",
       "        text-align: right;\n",
       "    }\n",
       "</style>\n",
       "<table border=\"1\" class=\"dataframe\">\n",
       "  <thead>\n",
       "    <tr style=\"text-align: right;\">\n",
       "      <th></th>\n",
       "      <th>MUT.TYPE</th>\n",
       "      <th>A.D</th>\n",
       "      <th>nA.D</th>\n",
       "      <th>OBS.SYN</th>\n",
       "      <th>EXP</th>\n",
       "      <th>OBS</th>\n",
       "      <th>R.A</th>\n",
       "      <th>R.nA</th>\n",
       "      <th>A.DR</th>\n",
       "      <th>FDR</th>\n",
       "      <th>SYMBOL</th>\n",
       "      <th>lof_z</th>\n",
       "      <th>pLI</th>\n",
       "    </tr>\n",
       "  </thead>\n",
       "  <tbody>\n",
       "    <tr>\n",
       "      <th>23499</th>\n",
       "      <td>lgd</td>\n",
       "      <td>0.43</td>\n",
       "      <td>0.57</td>\n",
       "      <td>176.0</td>\n",
       "      <td>7.725</td>\n",
       "      <td>0.0</td>\n",
       "      <td>0.461857</td>\n",
       "      <td>0.000442</td>\n",
       "      <td>0.998734</td>\n",
       "      <td>0.001266</td>\n",
       "      <td>MACF1</td>\n",
       "      <td>15.611</td>\n",
       "      <td>1.0</td>\n",
       "    </tr>\n",
       "    <tr>\n",
       "      <th>23352</th>\n",
       "      <td>rec.mis</td>\n",
       "      <td>0.35</td>\n",
       "      <td>0.65</td>\n",
       "      <td>209.0</td>\n",
       "      <td>8.769</td>\n",
       "      <td>2.0</td>\n",
       "      <td>0.159970</td>\n",
       "      <td>0.005978</td>\n",
       "      <td>0.935105</td>\n",
       "      <td>0.064895</td>\n",
       "      <td>UBR4</td>\n",
       "      <td>13.866</td>\n",
       "      <td>1.0</td>\n",
       "    </tr>\n",
       "    <tr>\n",
       "      <th>1778</th>\n",
       "      <td>rec.lgd</td>\n",
       "      <td>0.90</td>\n",
       "      <td>0.10</td>\n",
       "      <td>196.0</td>\n",
       "      <td>8.364</td>\n",
       "      <td>2.0</td>\n",
       "      <td>0.151549</td>\n",
       "      <td>0.008154</td>\n",
       "      <td>0.994057</td>\n",
       "      <td>0.005943</td>\n",
       "      <td>DYNC1H1</td>\n",
       "      <td>13.319</td>\n",
       "      <td>1.0</td>\n",
       "    </tr>\n",
       "    <tr>\n",
       "      <th>8295</th>\n",
       "      <td>rec.mis</td>\n",
       "      <td>0.35</td>\n",
       "      <td>0.65</td>\n",
       "      <td>208.0</td>\n",
       "      <td>8.738</td>\n",
       "      <td>0.0</td>\n",
       "      <td>0.417363</td>\n",
       "      <td>0.000160</td>\n",
       "      <td>0.999287</td>\n",
       "      <td>0.000713</td>\n",
       "      <td>TRRAP</td>\n",
       "      <td>12.593</td>\n",
       "      <td>1.0</td>\n",
       "    </tr>\n",
       "    <tr>\n",
       "      <th>58508</th>\n",
       "      <td>rec.lgd</td>\n",
       "      <td>0.90</td>\n",
       "      <td>0.10</td>\n",
       "      <td>162.0</td>\n",
       "      <td>7.242</td>\n",
       "      <td>2.0</td>\n",
       "      <td>0.127107</td>\n",
       "      <td>0.018773</td>\n",
       "      <td>0.983855</td>\n",
       "      <td>0.016145</td>\n",
       "      <td>KMT2C</td>\n",
       "      <td>12.592</td>\n",
       "      <td>1.0</td>\n",
       "    </tr>\n",
       "    <tr>\n",
       "      <th>...</th>\n",
       "      <td>...</td>\n",
       "      <td>...</td>\n",
       "      <td>...</td>\n",
       "      <td>...</td>\n",
       "      <td>...</td>\n",
       "      <td>...</td>\n",
       "      <td>...</td>\n",
       "      <td>...</td>\n",
       "      <td>...</td>\n",
       "      <td>...</td>\n",
       "      <td>...</td>\n",
       "      <td>...</td>\n",
       "      <td>...</td>\n",
       "    </tr>\n",
       "    <tr>\n",
       "      <th>114784</th>\n",
       "      <td>lgd</td>\n",
       "      <td>0.43</td>\n",
       "      <td>0.57</td>\n",
       "      <td>196.0</td>\n",
       "      <td>8.364</td>\n",
       "      <td>2.0</td>\n",
       "      <td>0.151549</td>\n",
       "      <td>0.008154</td>\n",
       "      <td>0.933428</td>\n",
       "      <td>0.066572</td>\n",
       "      <td>CSMD2</td>\n",
       "      <td>NaN</td>\n",
       "      <td>NaN</td>\n",
       "    </tr>\n",
       "    <tr>\n",
       "      <th>9858</th>\n",
       "      <td>rec.mis</td>\n",
       "      <td>0.35</td>\n",
       "      <td>0.65</td>\n",
       "      <td>51.0</td>\n",
       "      <td>3.363</td>\n",
       "      <td>0.0</td>\n",
       "      <td>0.714409</td>\n",
       "      <td>0.034631</td>\n",
       "      <td>0.917410</td>\n",
       "      <td>0.082590</td>\n",
       "      <td>PPP1R26</td>\n",
       "      <td>NaN</td>\n",
       "      <td>NaN</td>\n",
       "    </tr>\n",
       "    <tr>\n",
       "      <th>51111</th>\n",
       "      <td>rec.lgd</td>\n",
       "      <td>0.90</td>\n",
       "      <td>0.10</td>\n",
       "      <td>26.0</td>\n",
       "      <td>2.294</td>\n",
       "      <td>1.0</td>\n",
       "      <td>0.182375</td>\n",
       "      <td>0.231378</td>\n",
       "      <td>0.876451</td>\n",
       "      <td>0.123549</td>\n",
       "      <td>KMT5B</td>\n",
       "      <td>NaN</td>\n",
       "      <td>NaN</td>\n",
       "    </tr>\n",
       "    <tr>\n",
       "      <th>29998</th>\n",
       "      <td>lgd</td>\n",
       "      <td>0.43</td>\n",
       "      <td>0.57</td>\n",
       "      <td>29.0</td>\n",
       "      <td>2.461</td>\n",
       "      <td>0.0</td>\n",
       "      <td>0.781844</td>\n",
       "      <td>0.085350</td>\n",
       "      <td>0.873586</td>\n",
       "      <td>0.126414</td>\n",
       "      <td>BICRA</td>\n",
       "      <td>NaN</td>\n",
       "      <td>NaN</td>\n",
       "    </tr>\n",
       "    <tr>\n",
       "      <th>9256</th>\n",
       "      <td>rec.mis</td>\n",
       "      <td>0.35</td>\n",
       "      <td>0.65</td>\n",
       "      <td>94.0</td>\n",
       "      <td>4.836</td>\n",
       "      <td>1.0</td>\n",
       "      <td>0.298168</td>\n",
       "      <td>0.038392</td>\n",
       "      <td>0.807022</td>\n",
       "      <td>0.192978</td>\n",
       "      <td>TSPOAP1</td>\n",
       "      <td>NaN</td>\n",
       "      <td>NaN</td>\n",
       "    </tr>\n",
       "  </tbody>\n",
       "</table>\n",
       "<p>318 rows × 13 columns</p>\n",
       "</div>"
      ],
      "text/plain": [
       "       MUT.TYPE   A.D  nA.D  OBS.SYN    EXP  OBS       R.A      R.nA  \\\n",
       "23499       lgd  0.43  0.57    176.0  7.725  0.0  0.461857  0.000442   \n",
       "23352   rec.mis  0.35  0.65    209.0  8.769  2.0  0.159970  0.005978   \n",
       "1778    rec.lgd  0.90  0.10    196.0  8.364  2.0  0.151549  0.008154   \n",
       "8295    rec.mis  0.35  0.65    208.0  8.738  0.0  0.417363  0.000160   \n",
       "58508   rec.lgd  0.90  0.10    162.0  7.242  2.0  0.127107  0.018773   \n",
       "...         ...   ...   ...      ...    ...  ...       ...       ...   \n",
       "114784      lgd  0.43  0.57    196.0  8.364  2.0  0.151549  0.008154   \n",
       "9858    rec.mis  0.35  0.65     51.0  3.363  0.0  0.714409  0.034631   \n",
       "51111   rec.lgd  0.90  0.10     26.0  2.294  1.0  0.182375  0.231378   \n",
       "29998       lgd  0.43  0.57     29.0  2.461  0.0  0.781844  0.085350   \n",
       "9256    rec.mis  0.35  0.65     94.0  4.836  1.0  0.298168  0.038392   \n",
       "\n",
       "            A.DR       FDR   SYMBOL   lof_z  pLI  \n",
       "23499   0.998734  0.001266    MACF1  15.611  1.0  \n",
       "23352   0.935105  0.064895     UBR4  13.866  1.0  \n",
       "1778    0.994057  0.005943  DYNC1H1  13.319  1.0  \n",
       "8295    0.999287  0.000713    TRRAP  12.593  1.0  \n",
       "58508   0.983855  0.016145    KMT2C  12.592  1.0  \n",
       "...          ...       ...      ...     ...  ...  \n",
       "114784  0.933428  0.066572    CSMD2     NaN  NaN  \n",
       "9858    0.917410  0.082590  PPP1R26     NaN  NaN  \n",
       "51111   0.876451  0.123549    KMT5B     NaN  NaN  \n",
       "29998   0.873586  0.126414    BICRA     NaN  NaN  \n",
       "9256    0.807022  0.192978  TSPOAP1     NaN  NaN  \n",
       "\n",
       "[318 rows x 13 columns]"
      ]
     },
     "execution_count": 275,
     "metadata": {},
     "output_type": "execute_result"
    }
   ],
   "source": [
    "spark_wigler_tops"
   ]
  },
  {
   "cell_type": "code",
   "execution_count": 279,
   "metadata": {},
   "outputs": [],
   "source": [
    "asd_sparkwigler_match_df = pd.read_csv(\"dat/matching/asd_spark_exp_matches_1000.csv\", index_col=\"GENE\")\n",
    "asd_sparkwigler_elevel = ExpAVGWithExpMatch(ExpMatNorm, spark_wigler_tops.index.values, \n",
    "                                      asd_sparkwigler_match_df, csv_fil=\"dat/bias/sparkwigler.test.csv\")"
   ]
  },
  {
   "cell_type": "code",
   "execution_count": 285,
   "metadata": {},
   "outputs": [
    {
     "name": "stdout",
     "output_type": "stream",
     "text": [
      "Cerebellum \t 2 \t Ansiform_lobule; Pyramus_VIII\n",
      "Pallidum \t 2 \t Triangular_nucleus_of_septum; Bed_nuclei_of_the_stria_terminalis\n",
      "Cortical_subplate \t 5 \t Claustrum; Endopiriform_nucleus_dorsal_part; Posterior_amygdalar_nucleus; Basolateral_amygdalar_nucleus; Basomedial_amygdalar_nucleus\n",
      "Isocortex \t 18 \t Infralimbic_area; Retrosplenial_area_lateral_agranular_part; Frontal_pole_cerebral_cortex; Orbital_area_ventrolateral_part; Prelimbic_area; Orbital_area_lateral_part; Anterior_cingulate_area_dorsal_part; Orbital_area_medial_part; Secondary_motor_area; Anterior_cingulate_area_ventral_part; Posterolateral_visual_area; Visceral_area; Anteromedial_visual_area; posteromedial_visual_area; Agranular_insular_area_ventral_part; Supplemental_somatosensory_area; Agranular_insular_area_dorsal_part; Gustatory_areas\n",
      "Olfactory_areas \t 5 \t Accessory_olfactory_bulb; Dorsal_peduncular_area; Anterior_olfactory_nucleus; Main_olfactory_bulb; Taenia_tecta\n",
      "Thalamus \t 5 \t Lateral_posterior_nucleus_of_the_thalamus; Lateral_habenula; Rhomboid_nucleus; Parataenial_nucleus; Medial_geniculate_complex_dorsal_part\n",
      "Striatum \t 9 \t Nucleus_accumbens; Caudoputamen; Lateral_septal_nucleus_rostral_rostroventral_part; Lateral_septal_nucleus_caudal_caudodorsal_part; Fundus_of_striatum; Lateral_septal_nucleus_ventral_part; Central_amygdalar_nucleus; Intercalated_amygdalar_nucleus; Septofimbrial_nucleus\n",
      "Hippocampal_region \t 4 \t Dentate_gyrus; Field_CA1; Field_CA2; Field_CA3\n"
     ]
    }
   ],
   "source": [
    "RegionDistributions(asd_sparkwigler_elevel.head(100).set_index(\"STR\"))"
   ]
  },
  {
   "cell_type": "code",
   "execution_count": null,
   "metadata": {},
   "outputs": [],
   "source": []
  }
 ],
 "metadata": {
  "kernelspec": {
   "display_name": "Python 3",
   "language": "python",
   "name": "python3"
  },
  "language_info": {
   "codemirror_mode": {
    "name": "ipython",
    "version": 3
   },
   "file_extension": ".py",
   "mimetype": "text/x-python",
   "name": "python",
   "nbconvert_exporter": "python",
   "pygments_lexer": "ipython3",
   "version": "3.7.1"
  }
 },
 "nbformat": 4,
 "nbformat_minor": 2
}
