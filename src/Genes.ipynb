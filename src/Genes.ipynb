{
 "cells": [
  {
   "cell_type": "code",
   "execution_count": 2,
   "metadata": {},
   "outputs": [
    {
     "name": "stderr",
     "output_type": "stream",
     "text": [
      "/Users/jiayao/anaconda3/lib/python3.7/site-packages/IPython/core/interactiveshell.py:3267: DtypeWarning: Columns (38,48) have mixed types.Specify dtype option on import or set low_memory=False.\n",
      "  exec(code_obj, self.user_global_ns, self.user_ns)\n"
     ]
    }
   ],
   "source": [
    "%load_ext autoreload\n",
    "%autoreload 2\n",
    "from ASD_Circuits import *\n",
    "\n",
    "HGNC = pd.read_csv(\"/Users/jiayao/Work/Resources/protein-coding_gene.txt\", delimiter=\"\\t\")\n",
    "ENSID2Entrez = dict(zip(HGNC[\"ensembl_gene_id\"].values, HGNC[\"entrez_id\"].values))\n",
    "GeneSymbol2Entrez = dict(zip(HGNC[\"symbol\"].values, HGNC[\"entrez_id\"].values))\n",
    "Entrez2Symbol = dict(zip(HGNC[\"entrez_id\"].values, HGNC[\"symbol\"].values))\n",
    "allen_mouse_genes = loadgenelist(\"../dat/allen-mouse-exp/allen-mouse-gene_entrez.txt\")"
   ]
  },
  {
   "cell_type": "markdown",
   "metadata": {
    "heading_collapsed": true
   },
   "source": [
    "# ASD"
   ]
  },
  {
   "cell_type": "code",
   "execution_count": 3,
   "metadata": {
    "hidden": true
   },
   "outputs": [],
   "source": [
    "DenovoWEST_TADA = pd.read_csv(\"../dat/genes/asd/DenovoWEST_TADA.txt\", delimiter=\"\\t\")"
   ]
  },
  {
   "cell_type": "code",
   "execution_count": 6,
   "metadata": {
    "hidden": true
   },
   "outputs": [
    {
     "name": "stdout",
     "output_type": "stream",
     "text": [
      "['GeneID' 'HGNC' 'EntrezID' 'pLI' 'LOUEFbin' 'LOUEF' 'LoFOvsE' 'SynOvsE'\n",
      " 'sHet' 'forecASD' 'Frisk' 'SFARICategory' 'SFARIScore' 'DDDCategory'\n",
      " 'DDDAllelic' 'DDDMutCons' 'DDDOrgan' 'GeneSet' 'dnLGD' 'mutLGD'\n",
      " 'log10BF_dnLGD' 'dnDmis' 'mutDmis' 'log10BF_dnDmis' 'log10BF_All'\n",
      " 'PP_All' 'Qvalue' 'AllObserved' 'AllExpected' 'pAllEnrich' 'MisObserved'\n",
      " 'MisExpected' 'pMisEnrich' 'MisEvents' 'MisDist' 'pMisCluster' 'pMisComb'\n",
      " 'pDenovoWEST']\n"
     ]
    }
   ],
   "source": [
    "print(DenovoWEST_TADA.columns.values)"
   ]
  },
  {
   "cell_type": "code",
   "execution_count": 4,
   "metadata": {
    "hidden": true
   },
   "outputs": [
    {
     "data": {
      "text/html": [
       "<div>\n",
       "<style scoped>\n",
       "    .dataframe tbody tr th:only-of-type {\n",
       "        vertical-align: middle;\n",
       "    }\n",
       "\n",
       "    .dataframe tbody tr th {\n",
       "        vertical-align: top;\n",
       "    }\n",
       "\n",
       "    .dataframe thead th {\n",
       "        text-align: right;\n",
       "    }\n",
       "</style>\n",
       "<table border=\"1\" class=\"dataframe\">\n",
       "  <thead>\n",
       "    <tr style=\"text-align: right;\">\n",
       "      <th></th>\n",
       "      <th>GeneID</th>\n",
       "      <th>HGNC</th>\n",
       "      <th>EntrezID</th>\n",
       "      <th>pLI</th>\n",
       "      <th>LOUEFbin</th>\n",
       "      <th>LOUEF</th>\n",
       "      <th>LoFOvsE</th>\n",
       "      <th>SynOvsE</th>\n",
       "      <th>sHet</th>\n",
       "      <th>forecASD</th>\n",
       "      <th>...</th>\n",
       "      <th>AllExpected</th>\n",
       "      <th>pAllEnrich</th>\n",
       "      <th>MisObserved</th>\n",
       "      <th>MisExpected</th>\n",
       "      <th>pMisEnrich</th>\n",
       "      <th>MisEvents</th>\n",
       "      <th>MisDist</th>\n",
       "      <th>pMisCluster</th>\n",
       "      <th>pMisComb</th>\n",
       "      <th>pDenovoWEST</th>\n",
       "    </tr>\n",
       "  </thead>\n",
       "  <tbody>\n",
       "    <tr>\n",
       "      <th>0</th>\n",
       "      <td>ENSG00000136531</td>\n",
       "      <td>SCN2A</td>\n",
       "      <td>6326</td>\n",
       "      <td>0.999999992314383</td>\n",
       "      <td>0</td>\n",
       "      <td>1.2700e-01</td>\n",
       "      <td>6.0487e-02</td>\n",
       "      <td>1.0084e+00</td>\n",
       "      <td>0.257771076876808</td>\n",
       "      <td>1</td>\n",
       "      <td>...</td>\n",
       "      <td>0.7341930968145816</td>\n",
       "      <td>1.00E-14</td>\n",
       "      <td>6.759</td>\n",
       "      <td>0.5579805995344479</td>\n",
       "      <td>1.69E-16</td>\n",
       "      <td>21</td>\n",
       "      <td>1271.4</td>\n",
       "      <td>0.27</td>\n",
       "      <td>1.76E-15</td>\n",
       "      <td>1.76E-15</td>\n",
       "    </tr>\n",
       "    <tr>\n",
       "      <th>1</th>\n",
       "      <td>ENSG00000100888</td>\n",
       "      <td>CHD8</td>\n",
       "      <td>57680</td>\n",
       "      <td>0.999999999998095</td>\n",
       "      <td>0</td>\n",
       "      <td>8.2000e-02</td>\n",
       "      <td>3.8764e-02</td>\n",
       "      <td>9.4139e-01</td>\n",
       "      <td>0.155416372713663</td>\n",
       "      <td>1</td>\n",
       "      <td>...</td>\n",
       "      <td>0.8339649944288832</td>\n",
       "      <td>1.00E-14</td>\n",
       "      <td>4.194</td>\n",
       "      <td>0.5547438680353904</td>\n",
       "      <td>3.51E-09</td>\n",
       "      <td>14</td>\n",
       "      <td>679.5</td>\n",
       "      <td>1.49E-04</td>\n",
       "      <td>1.53E-11</td>\n",
       "      <td>1.00E-14</td>\n",
       "    </tr>\n",
       "  </tbody>\n",
       "</table>\n",
       "<p>2 rows × 38 columns</p>\n",
       "</div>"
      ],
      "text/plain": [
       "            GeneID   HGNC EntrezID                pLI LOUEFbin       LOUEF  \\\n",
       "0  ENSG00000136531  SCN2A     6326  0.999999992314383        0  1.2700e-01   \n",
       "1  ENSG00000100888   CHD8    57680  0.999999999998095        0  8.2000e-02   \n",
       "\n",
       "      LoFOvsE     SynOvsE               sHet forecASD  ...  \\\n",
       "0  6.0487e-02  1.0084e+00  0.257771076876808        1  ...   \n",
       "1  3.8764e-02  9.4139e-01  0.155416372713663        1  ...   \n",
       "\n",
       "          AllExpected pAllEnrich MisObserved         MisExpected pMisEnrich  \\\n",
       "0  0.7341930968145816   1.00E-14       6.759  0.5579805995344479   1.69E-16   \n",
       "1  0.8339649944288832   1.00E-14       4.194  0.5547438680353904   3.51E-09   \n",
       "\n",
       "  MisEvents MisDist pMisCluster  pMisComb  pDenovoWEST  \n",
       "0        21  1271.4        0.27  1.76E-15     1.76E-15  \n",
       "1        14   679.5    1.49E-04  1.53E-11     1.00E-14  \n",
       "\n",
       "[2 rows x 38 columns]"
      ]
     },
     "execution_count": 4,
     "metadata": {},
     "output_type": "execute_result"
    }
   ],
   "source": [
    "DenovoWEST_TADA.head(2)"
   ]
  },
  {
   "cell_type": "code",
   "execution_count": 8,
   "metadata": {
    "hidden": true
   },
   "outputs": [
    {
     "name": "stdout",
     "output_type": "stream",
     "text": [
      "2696 1732.863855985384 0.35724634421907125\n",
      "3326 2556.112713640646 0.23147543185789363\n"
     ]
    }
   ],
   "source": [
    "TotalN = 16877\n",
    "TotalLGD = sum(DenovoWEST_TADA[\"dnLGD\"].values)\n",
    "ExpLGD = sum(DenovoWEST_TADA[\"mutLGD\"].values) * 2 * TotalN\n",
    "print(TotalLGD, ExpLGD, (TotalLGD - ExpLGD)/TotalLGD)\n",
    "\n",
    "TotalDmis = sum(DenovoWEST_TADA[\"dnDmis\"].values)\n",
    "ExpDmis = sum(DenovoWEST_TADA[\"mutDmis\"].values) * 2 * TotalN\n",
    "print(TotalDmis, ExpDmis, (TotalDmis - ExpDmis)/TotalDmis)"
   ]
  },
  {
   "cell_type": "code",
   "execution_count": null,
   "metadata": {
    "hidden": true
   },
   "outputs": [],
   "source": []
  },
  {
   "cell_type": "code",
   "execution_count": null,
   "metadata": {
    "hidden": true
   },
   "outputs": [],
   "source": []
  },
  {
   "cell_type": "code",
   "execution_count": null,
   "metadata": {
    "hidden": true
   },
   "outputs": [],
   "source": []
  },
  {
   "cell_type": "code",
   "execution_count": null,
   "metadata": {
    "hidden": true
   },
   "outputs": [],
   "source": []
  },
  {
   "cell_type": "code",
   "execution_count": 3,
   "metadata": {
    "hidden": true
   },
   "outputs": [
    {
     "name": "stdout",
     "output_type": "stream",
     "text": [
      "['GeneID' 'HGNC' 'ExACpLI' 'gnomADpLI' 'LoFOvsE' 'sHet' 'SFARICategory'\n",
      " 'SFARIScore' 'DDDCategory' 'DDDAllelic' 'DDDMutCons' 'DDDOrgan' 'dnLGD'\n",
      " 'mutLGD' 'log10BF_dnLGD' 'dnDmis' 'mutDmis' 'log10BF_dnDmis'\n",
      " 'log10BF_All' 'PP_All' 'Qvalue']\n"
     ]
    },
    {
     "data": {
      "text/html": [
       "<div>\n",
       "<style scoped>\n",
       "    .dataframe tbody tr th:only-of-type {\n",
       "        vertical-align: middle;\n",
       "    }\n",
       "\n",
       "    .dataframe tbody tr th {\n",
       "        vertical-align: top;\n",
       "    }\n",
       "\n",
       "    .dataframe thead th {\n",
       "        text-align: right;\n",
       "    }\n",
       "</style>\n",
       "<table border=\"1\" class=\"dataframe\">\n",
       "  <thead>\n",
       "    <tr style=\"text-align: right;\">\n",
       "      <th></th>\n",
       "      <th>GeneID</th>\n",
       "      <th>HGNC</th>\n",
       "      <th>ExACpLI</th>\n",
       "      <th>gnomADpLI</th>\n",
       "      <th>LoFOvsE</th>\n",
       "      <th>sHet</th>\n",
       "      <th>SFARICategory</th>\n",
       "      <th>SFARIScore</th>\n",
       "      <th>DDDCategory</th>\n",
       "      <th>DDDAllelic</th>\n",
       "      <th>...</th>\n",
       "      <th>DDDOrgan</th>\n",
       "      <th>dnLGD</th>\n",
       "      <th>mutLGD</th>\n",
       "      <th>log10BF_dnLGD</th>\n",
       "      <th>dnDmis</th>\n",
       "      <th>mutDmis</th>\n",
       "      <th>log10BF_dnDmis</th>\n",
       "      <th>log10BF_All</th>\n",
       "      <th>PP_All</th>\n",
       "      <th>Qvalue</th>\n",
       "    </tr>\n",
       "  </thead>\n",
       "  <tbody>\n",
       "    <tr>\n",
       "      <th>0</th>\n",
       "      <td>ENSG00000101126</td>\n",
       "      <td>ADNP</td>\n",
       "      <td>0.9989040999292</td>\n",
       "      <td>1.0000e+00</td>\n",
       "      <td>2.5868e-02</td>\n",
       "      <td>0.135996662587073</td>\n",
       "      <td>Rare Single Gene Mutation, Syndromic, Functional</td>\n",
       "      <td>1</td>\n",
       "      <td>confirmed</td>\n",
       "      <td>monoallelic</td>\n",
       "      <td>...</td>\n",
       "      <td>Brain/Cognition</td>\n",
       "      <td>12</td>\n",
       "      <td>0.000005</td>\n",
       "      <td>16.25</td>\n",
       "      <td>2</td>\n",
       "      <td>0.000005</td>\n",
       "      <td>1.36</td>\n",
       "      <td>17.62</td>\n",
       "      <td>1.0</td>\n",
       "      <td>9.990000e-16</td>\n",
       "    </tr>\n",
       "    <tr>\n",
       "      <th>1</th>\n",
       "      <td>ENSG00000136531</td>\n",
       "      <td>SCN2A</td>\n",
       "      <td>0.999999992314383</td>\n",
       "      <td>1.0000e+00</td>\n",
       "      <td>6.0487e-02</td>\n",
       "      <td>0.257771076876808</td>\n",
       "      <td>Rare Single Gene Mutation, Syndromic</td>\n",
       "      <td>1</td>\n",
       "      <td>confirmed</td>\n",
       "      <td>monoallelic</td>\n",
       "      <td>...</td>\n",
       "      <td>Brain/Cognition</td>\n",
       "      <td>10</td>\n",
       "      <td>0.000010</td>\n",
       "      <td>12.33</td>\n",
       "      <td>7</td>\n",
       "      <td>0.000048</td>\n",
       "      <td>3.86</td>\n",
       "      <td>16.20</td>\n",
       "      <td>1.0</td>\n",
       "      <td>5.500000e-15</td>\n",
       "    </tr>\n",
       "  </tbody>\n",
       "</table>\n",
       "<p>2 rows × 21 columns</p>\n",
       "</div>"
      ],
      "text/plain": [
       "            GeneID   HGNC            ExACpLI   gnomADpLI     LoFOvsE  \\\n",
       "0  ENSG00000101126   ADNP    0.9989040999292  1.0000e+00  2.5868e-02   \n",
       "1  ENSG00000136531  SCN2A  0.999999992314383  1.0000e+00  6.0487e-02   \n",
       "\n",
       "                sHet                                     SFARICategory  \\\n",
       "0  0.135996662587073  Rare Single Gene Mutation, Syndromic, Functional   \n",
       "1  0.257771076876808              Rare Single Gene Mutation, Syndromic   \n",
       "\n",
       "  SFARIScore DDDCategory   DDDAllelic  ...         DDDOrgan dnLGD    mutLGD  \\\n",
       "0          1   confirmed  monoallelic  ...  Brain/Cognition    12  0.000005   \n",
       "1          1   confirmed  monoallelic  ...  Brain/Cognition    10  0.000010   \n",
       "\n",
       "   log10BF_dnLGD  dnDmis   mutDmis  log10BF_dnDmis  log10BF_All  PP_All  \\\n",
       "0          16.25       2  0.000005            1.36        17.62     1.0   \n",
       "1          12.33       7  0.000048            3.86        16.20     1.0   \n",
       "\n",
       "         Qvalue  \n",
       "0  9.990000e-16  \n",
       "1  5.500000e-15  \n",
       "\n",
       "[2 rows x 21 columns]"
      ]
     },
     "execution_count": 3,
     "metadata": {},
     "output_type": "execute_result"
    }
   ],
   "source": [
    "spark_tada = pd.read_csv(\"/Users/jiayao/Work/ASD_Circuits/dat/genes/TADA.SPARK.ONLY.txt\", delimiter=\"\\t\")\n",
    "print(spark_tada.columns.values)\n",
    "spark_tada.head(2)"
   ]
  },
  {
   "cell_type": "code",
   "execution_count": 15,
   "metadata": {
    "hidden": true
   },
   "outputs": [],
   "source": [
    "NTrios = 7015\n",
    "for i, row in spark_tada.iterrows():\n",
    "    row[\"LGD_exp\"] = row[\"mutLGD\"] * NTrios * 2\n",
    "    row[\"LGD_RR\"] = row[\"dnLGD\"]/row[\"LGD_exp\"]\n",
    "    row[\"Dmis_exp\"] = row[\"mutDmis\"] * NTrios * 2\n",
    "    row[\"Dmis_RR\"] = row[\"dnDmis\"]/row[\"Dmis_exp\"]\n",
    "    spark_tada.loc[i, \"LGD_RR\"] = max(1, row[\"LGD_RR\"])\n",
    "    spark_tada.loc[i, \"Dmis_RR\"] = max(1, row[\"Dmis_RR\"])\n",
    "    try:\n",
    "        spark_tada.loc[i, \"Entrez\"] = int(GeneSymbol2Entrez[row[\"HGNC\"]])\n",
    "    except:\n",
    "        spark_tada.loc[i, \"Entrez\"] = \".\"\n",
    "spark_tada.to_csv(\"../dat/genes/spark_tada_RR.csv\", index=False)"
   ]
  },
  {
   "cell_type": "code",
   "execution_count": 9,
   "metadata": {
    "hidden": true
   },
   "outputs": [
    {
     "name": "stdout",
     "output_type": "stream",
     "text": [
      "['gene' 'hugoGene' 'hgnc_id' 'entrez_id' 'ensembl_gene_id'\n",
      " 'refseq_accession' 'uniprot_ids' 'location' 'chr' 'start_hg38'\n",
      " 'stop_hg38' 'strand' 'cDNA' 'exons' 'dn.ptv' 'dn.misa' 'dn.misb'\n",
      " 'dbs.case.ptv' 'dbs.control.ptv' 'sweden.case.ptv' 'sweden.control.ptv'\n",
      " 'case.ptv' 'control.ptv' 'mut.ptv' 'mut.misa' 'mut.misb' 'pLI'\n",
      " 'gamma_dn.ptv' 'gamma_dn.misa' 'gamma_dn.misb' 'BF_dn.ptv' 'BF_dn.misa'\n",
      " 'BF_dn.misb' 'gamma_cc_ptv' 'rho.ptv' 'BF_cc.ptv' 'qval_dnccPTV'\n",
      " 'ddidDN.ptv' 'ddidDN.misb' 'ddidDN.misa' 'asd_rate_dn' 'asd_dn' 'ddid_dn'\n",
      " 'ddid_rate_dn' 'Transmitted_PTV_proband' 'Untransmitted_PTV_proband'\n",
      " 'ASC33_2014' 'SSC27_2014' 'ASC65_2015' 'ASC102_2018' 'ASD:DDID'\n",
      " 'ASD_vs_DDID' 'ASD53' 'DDID49' 'Function']\n"
     ]
    },
    {
     "data": {
      "text/html": [
       "<div>\n",
       "<style scoped>\n",
       "    .dataframe tbody tr th:only-of-type {\n",
       "        vertical-align: middle;\n",
       "    }\n",
       "\n",
       "    .dataframe tbody tr th {\n",
       "        vertical-align: top;\n",
       "    }\n",
       "\n",
       "    .dataframe thead th {\n",
       "        text-align: right;\n",
       "    }\n",
       "</style>\n",
       "<table border=\"1\" class=\"dataframe\">\n",
       "  <thead>\n",
       "    <tr style=\"text-align: right;\">\n",
       "      <th></th>\n",
       "      <th>gene</th>\n",
       "      <th>hugoGene</th>\n",
       "      <th>hgnc_id</th>\n",
       "      <th>entrez_id</th>\n",
       "      <th>ensembl_gene_id</th>\n",
       "      <th>refseq_accession</th>\n",
       "      <th>uniprot_ids</th>\n",
       "      <th>location</th>\n",
       "      <th>chr</th>\n",
       "      <th>start_hg38</th>\n",
       "      <th>...</th>\n",
       "      <th>Untransmitted_PTV_proband</th>\n",
       "      <th>ASC33_2014</th>\n",
       "      <th>SSC27_2014</th>\n",
       "      <th>ASC65_2015</th>\n",
       "      <th>ASC102_2018</th>\n",
       "      <th>ASD:DDID</th>\n",
       "      <th>ASD_vs_DDID</th>\n",
       "      <th>ASD53</th>\n",
       "      <th>DDID49</th>\n",
       "      <th>Function</th>\n",
       "    </tr>\n",
       "  </thead>\n",
       "  <tbody>\n",
       "    <tr>\n",
       "      <th>0</th>\n",
       "      <td>CHD8</td>\n",
       "      <td>CHD8</td>\n",
       "      <td>HGNC:20153</td>\n",
       "      <td>57680</td>\n",
       "      <td>ENSG00000100888</td>\n",
       "      <td>NM_020920</td>\n",
       "      <td>Q9HCK8</td>\n",
       "      <td>14q11.2</td>\n",
       "      <td>chr14</td>\n",
       "      <td>21385194</td>\n",
       "      <td>...</td>\n",
       "      <td>1</td>\n",
       "      <td>1</td>\n",
       "      <td>1</td>\n",
       "      <td>1</td>\n",
       "      <td>1</td>\n",
       "      <td>3.07851</td>\n",
       "      <td>ASD</td>\n",
       "      <td>1</td>\n",
       "      <td>0</td>\n",
       "      <td>Gene expression regulation</td>\n",
       "    </tr>\n",
       "    <tr>\n",
       "      <th>1</th>\n",
       "      <td>SCN2A</td>\n",
       "      <td>SCN2A</td>\n",
       "      <td>HGNC:10588</td>\n",
       "      <td>6326</td>\n",
       "      <td>ENSG00000136531</td>\n",
       "      <td>NM_021007</td>\n",
       "      <td>Q99250</td>\n",
       "      <td>2q24.3</td>\n",
       "      <td>chr2</td>\n",
       "      <td>165194993</td>\n",
       "      <td>...</td>\n",
       "      <td>0</td>\n",
       "      <td>1</td>\n",
       "      <td>1</td>\n",
       "      <td>1</td>\n",
       "      <td>1</td>\n",
       "      <td>0.691315</td>\n",
       "      <td>DDID</td>\n",
       "      <td>0</td>\n",
       "      <td>1</td>\n",
       "      <td>Neuronal communication</td>\n",
       "    </tr>\n",
       "  </tbody>\n",
       "</table>\n",
       "<p>2 rows × 55 columns</p>\n",
       "</div>"
      ],
      "text/plain": [
       "    gene hugoGene     hgnc_id entrez_id  ensembl_gene_id refseq_accession  \\\n",
       "0   CHD8     CHD8  HGNC:20153     57680  ENSG00000100888        NM_020920   \n",
       "1  SCN2A    SCN2A  HGNC:10588      6326  ENSG00000136531        NM_021007   \n",
       "\n",
       "  uniprot_ids location    chr  start_hg38  ...  Untransmitted_PTV_proband  \\\n",
       "0      Q9HCK8  14q11.2  chr14    21385194  ...                          1   \n",
       "1      Q99250   2q24.3   chr2   165194993  ...                          0   \n",
       "\n",
       "  ASC33_2014  SSC27_2014  ASC65_2015  ASC102_2018  ASD:DDID  ASD_vs_DDID  \\\n",
       "0          1           1           1            1   3.07851          ASD   \n",
       "1          1           1           1            1  0.691315         DDID   \n",
       "\n",
       "   ASD53  DDID49                    Function  \n",
       "0      1       0  Gene expression regulation  \n",
       "1      0       1      Neuronal communication  \n",
       "\n",
       "[2 rows x 55 columns]"
      ]
     },
     "execution_count": 9,
     "metadata": {},
     "output_type": "execute_result"
    }
   ],
   "source": [
    "asc_mutable = pd.read_excel(\"../dat/genes/1-s2.0-S0092867419313984-mmc2.xlsx\", sheet_name=\"Autosomal\")\n",
    "print(asc_mutable.columns.values)\n",
    "asc_mutable.head(2)"
   ]
  },
  {
   "cell_type": "code",
   "execution_count": 17,
   "metadata": {
    "hidden": true
   },
   "outputs": [],
   "source": [
    "NTrios = 6430\n",
    "for i, row in asc_mutable.iterrows():\n",
    "    row[\"LGD_exp\"] = row[\"mut.ptv\"] * NTrios * 2\n",
    "    row[\"LGD_RR\"] = row[\"dn.ptv\"]/row[\"LGD_exp\"]\n",
    "    try:\n",
    "        row[\"misa_exp\"] = row[\"mut.misa\"] * NTrios * 2\n",
    "        row[\"misa_RR\"] = row[\"dn.misa\"]/row[\"misa_exp\"]\n",
    "    except:\n",
    "        row[\"misa_RR\"] = 1\n",
    "    try:\n",
    "        row[\"misb_exp\"] = row[\"mut.misb\"] * NTrios * 2\n",
    "        row[\"misb_RR\"] = row[\"dn.misb\"]/row[\"misb_exp\"]\n",
    "    except:\n",
    "        row[\"misb_RR\"] = 1\n",
    "    asc_mutable.loc[i, \"LGD_RR\"] = max(1, row[\"LGD_RR\"])\n",
    "    asc_mutable.loc[i, \"misa_RR\"] = max(1, row[\"misa_RR\"])\n",
    "    asc_mutable.loc[i, \"misb_RR\"] = max(1, row[\"misb_RR\"])\n",
    "asc_mutable.to_csv(\"../dat/genes/asc_tada_RR.csv\", index=False)"
   ]
  },
  {
   "cell_type": "code",
   "execution_count": null,
   "metadata": {
    "hidden": true
   },
   "outputs": [],
   "source": []
  },
  {
   "cell_type": "code",
   "execution_count": null,
   "metadata": {
    "hidden": true,
    "scrolled": true
   },
   "outputs": [],
   "source": [
    "spark_tada.head(10)"
   ]
  },
  {
   "cell_type": "code",
   "execution_count": 23,
   "metadata": {
    "hidden": true
   },
   "outputs": [],
   "source": [
    "LGDs = spark_tada[spark_tada[\"dnLGD\"]>=1]"
   ]
  },
  {
   "cell_type": "code",
   "execution_count": 26,
   "metadata": {
    "hidden": true
   },
   "outputs": [
    {
     "data": {
      "text/plain": [
       "1092"
      ]
     },
     "execution_count": 26,
     "metadata": {},
     "output_type": "execute_result"
    }
   ],
   "source": [
    "sum(spark_tada[\"dnLGD\"].values)"
   ]
  },
  {
   "cell_type": "code",
   "execution_count": 28,
   "metadata": {
    "hidden": true
   },
   "outputs": [
    {
     "data": {
      "text/plain": [
       "336"
      ]
     },
     "execution_count": 28,
     "metadata": {},
     "output_type": "execute_result"
    }
   ],
   "source": [
    "sum(spark_tada[\"dnLGD\"].values[:200])"
   ]
  },
  {
   "cell_type": "code",
   "execution_count": 24,
   "metadata": {
    "hidden": true
   },
   "outputs": [
    {
     "data": {
      "text/plain": [
       "(908, 21)"
      ]
     },
     "execution_count": 24,
     "metadata": {},
     "output_type": "execute_result"
    }
   ],
   "source": [
    "LGDs"
   ]
  },
  {
   "cell_type": "code",
   "execution_count": null,
   "metadata": {
    "hidden": true
   },
   "outputs": [],
   "source": [
    "spark_tada.head(5)"
   ]
  },
  {
   "cell_type": "code",
   "execution_count": 4,
   "metadata": {
    "hidden": true
   },
   "outputs": [
    {
     "name": "stdout",
     "output_type": "stream",
     "text": [
      "(303, 21)\n"
     ]
    }
   ],
   "source": [
    "print(spark_tada[spark_tada[\"Qvalue\"]<0.5].shape)"
   ]
  },
  {
   "cell_type": "code",
   "execution_count": 6,
   "metadata": {
    "hidden": true
   },
   "outputs": [],
   "source": [
    "WriteGeneList([GeneSymbol2Entrez[x] for x in spark_tada[spark_tada[\"Qvalue\"]<0.5][\"HGNC\"].values if x in GeneSymbol2Entrez],\n",
    "             \"/Users/jiayao/Work/ASD_Circuits/dat/genes/asd.spark.tada.300.txt\")"
   ]
  },
  {
   "cell_type": "code",
   "execution_count": 15,
   "metadata": {
    "hidden": true
   },
   "outputs": [
    {
     "data": {
      "text/html": [
       "<div>\n",
       "<style scoped>\n",
       "    .dataframe tbody tr th:only-of-type {\n",
       "        vertical-align: middle;\n",
       "    }\n",
       "\n",
       "    .dataframe tbody tr th {\n",
       "        vertical-align: top;\n",
       "    }\n",
       "\n",
       "    .dataframe thead th {\n",
       "        text-align: right;\n",
       "    }\n",
       "</style>\n",
       "<table border=\"1\" class=\"dataframe\">\n",
       "  <thead>\n",
       "    <tr style=\"text-align: right;\">\n",
       "      <th></th>\n",
       "      <th>GENE</th>\n",
       "      <th>MUT.TYPE</th>\n",
       "      <th>A.D</th>\n",
       "      <th>nA.D</th>\n",
       "      <th>OBS.SYN</th>\n",
       "      <th>EXP</th>\n",
       "      <th>OBS</th>\n",
       "      <th>R.A</th>\n",
       "      <th>R.nA</th>\n",
       "      <th>A.DR</th>\n",
       "      <th>FDR</th>\n",
       "      <th>SYMBOL</th>\n",
       "    </tr>\n",
       "  </thead>\n",
       "  <tbody>\n",
       "    <tr>\n",
       "      <th>0</th>\n",
       "      <td>5310.0</td>\n",
       "      <td>rec.lgd</td>\n",
       "      <td>0.90</td>\n",
       "      <td>0.10</td>\n",
       "      <td>246.0</td>\n",
       "      <td>9.905</td>\n",
       "      <td>0.0</td>\n",
       "      <td>0.371391</td>\n",
       "      <td>0.000050</td>\n",
       "      <td>0.999985</td>\n",
       "      <td>0.000015</td>\n",
       "      <td>PKD1</td>\n",
       "    </tr>\n",
       "    <tr>\n",
       "      <th>1</th>\n",
       "      <td>5310.0</td>\n",
       "      <td>rec.mis</td>\n",
       "      <td>0.35</td>\n",
       "      <td>0.65</td>\n",
       "      <td>246.0</td>\n",
       "      <td>9.905</td>\n",
       "      <td>0.0</td>\n",
       "      <td>0.371391</td>\n",
       "      <td>0.000050</td>\n",
       "      <td>0.999750</td>\n",
       "      <td>0.000250</td>\n",
       "      <td>PKD1</td>\n",
       "    </tr>\n",
       "    <tr>\n",
       "      <th>2</th>\n",
       "      <td>8295.0</td>\n",
       "      <td>rec.mis</td>\n",
       "      <td>0.35</td>\n",
       "      <td>0.65</td>\n",
       "      <td>208.0</td>\n",
       "      <td>8.738</td>\n",
       "      <td>0.0</td>\n",
       "      <td>0.417363</td>\n",
       "      <td>0.000160</td>\n",
       "      <td>0.999287</td>\n",
       "      <td>0.000713</td>\n",
       "      <td>TRRAP</td>\n",
       "    </tr>\n",
       "    <tr>\n",
       "      <th>3</th>\n",
       "      <td>2033.0</td>\n",
       "      <td>rec.lgd</td>\n",
       "      <td>0.90</td>\n",
       "      <td>0.10</td>\n",
       "      <td>117.0</td>\n",
       "      <td>5.587</td>\n",
       "      <td>0.0</td>\n",
       "      <td>0.571952</td>\n",
       "      <td>0.003746</td>\n",
       "      <td>0.999273</td>\n",
       "      <td>0.000727</td>\n",
       "      <td>EP300</td>\n",
       "    </tr>\n",
       "    <tr>\n",
       "      <th>4</th>\n",
       "      <td>4297.0</td>\n",
       "      <td>rec.lgd</td>\n",
       "      <td>0.90</td>\n",
       "      <td>0.10</td>\n",
       "      <td>116.0</td>\n",
       "      <td>5.554</td>\n",
       "      <td>0.0</td>\n",
       "      <td>0.573843</td>\n",
       "      <td>0.003872</td>\n",
       "      <td>0.999251</td>\n",
       "      <td>0.000749</td>\n",
       "      <td>KMT2A</td>\n",
       "    </tr>\n",
       "    <tr>\n",
       "      <th>5</th>\n",
       "      <td>58499.0</td>\n",
       "      <td>rec.lgd</td>\n",
       "      <td>0.90</td>\n",
       "      <td>0.10</td>\n",
       "      <td>113.0</td>\n",
       "      <td>5.461</td>\n",
       "      <td>0.0</td>\n",
       "      <td>0.579204</td>\n",
       "      <td>0.004249</td>\n",
       "      <td>0.999186</td>\n",
       "      <td>0.000814</td>\n",
       "      <td>ZNF462</td>\n",
       "    </tr>\n",
       "    <tr>\n",
       "      <th>6</th>\n",
       "      <td>22941.0</td>\n",
       "      <td>rec.lgd</td>\n",
       "      <td>0.90</td>\n",
       "      <td>0.10</td>\n",
       "      <td>106.0</td>\n",
       "      <td>5.255</td>\n",
       "      <td>0.0</td>\n",
       "      <td>0.591260</td>\n",
       "      <td>0.005221</td>\n",
       "      <td>0.999020</td>\n",
       "      <td>0.000980</td>\n",
       "      <td>SHANK2</td>\n",
       "    </tr>\n",
       "    <tr>\n",
       "      <th>7</th>\n",
       "      <td>29123.0</td>\n",
       "      <td>lgd</td>\n",
       "      <td>0.43</td>\n",
       "      <td>0.57</td>\n",
       "      <td>179.0</td>\n",
       "      <td>7.824</td>\n",
       "      <td>0.0</td>\n",
       "      <td>0.457307</td>\n",
       "      <td>0.000400</td>\n",
       "      <td>0.998842</td>\n",
       "      <td>0.001158</td>\n",
       "      <td>ANKRD11</td>\n",
       "    </tr>\n",
       "    <tr>\n",
       "      <th>8</th>\n",
       "      <td>23499.0</td>\n",
       "      <td>lgd</td>\n",
       "      <td>0.43</td>\n",
       "      <td>0.57</td>\n",
       "      <td>176.0</td>\n",
       "      <td>7.725</td>\n",
       "      <td>0.0</td>\n",
       "      <td>0.461857</td>\n",
       "      <td>0.000442</td>\n",
       "      <td>0.998734</td>\n",
       "      <td>0.001266</td>\n",
       "      <td>MACF1</td>\n",
       "    </tr>\n",
       "    <tr>\n",
       "      <th>9</th>\n",
       "      <td>29123.0</td>\n",
       "      <td>rec.mis</td>\n",
       "      <td>0.35</td>\n",
       "      <td>0.65</td>\n",
       "      <td>179.0</td>\n",
       "      <td>7.824</td>\n",
       "      <td>0.0</td>\n",
       "      <td>0.457307</td>\n",
       "      <td>0.000400</td>\n",
       "      <td>0.998378</td>\n",
       "      <td>0.001622</td>\n",
       "      <td>ANKRD11</td>\n",
       "    </tr>\n",
       "  </tbody>\n",
       "</table>\n",
       "</div>"
      ],
      "text/plain": [
       "      GENE MUT.TYPE   A.D  nA.D  OBS.SYN    EXP  OBS       R.A      R.nA  \\\n",
       "0   5310.0  rec.lgd  0.90  0.10    246.0  9.905  0.0  0.371391  0.000050   \n",
       "1   5310.0  rec.mis  0.35  0.65    246.0  9.905  0.0  0.371391  0.000050   \n",
       "2   8295.0  rec.mis  0.35  0.65    208.0  8.738  0.0  0.417363  0.000160   \n",
       "3   2033.0  rec.lgd  0.90  0.10    117.0  5.587  0.0  0.571952  0.003746   \n",
       "4   4297.0  rec.lgd  0.90  0.10    116.0  5.554  0.0  0.573843  0.003872   \n",
       "5  58499.0  rec.lgd  0.90  0.10    113.0  5.461  0.0  0.579204  0.004249   \n",
       "6  22941.0  rec.lgd  0.90  0.10    106.0  5.255  0.0  0.591260  0.005221   \n",
       "7  29123.0      lgd  0.43  0.57    179.0  7.824  0.0  0.457307  0.000400   \n",
       "8  23499.0      lgd  0.43  0.57    176.0  7.725  0.0  0.461857  0.000442   \n",
       "9  29123.0  rec.mis  0.35  0.65    179.0  7.824  0.0  0.457307  0.000400   \n",
       "\n",
       "       A.DR       FDR   SYMBOL  \n",
       "0  0.999985  0.000015     PKD1  \n",
       "1  0.999750  0.000250     PKD1  \n",
       "2  0.999287  0.000713    TRRAP  \n",
       "3  0.999273  0.000727    EP300  \n",
       "4  0.999251  0.000749    KMT2A  \n",
       "5  0.999186  0.000814   ZNF462  \n",
       "6  0.999020  0.000980   SHANK2  \n",
       "7  0.998842  0.001158  ANKRD11  \n",
       "8  0.998734  0.001266    MACF1  \n",
       "9  0.998378  0.001622  ANKRD11  "
      ]
     },
     "execution_count": 15,
     "metadata": {},
     "output_type": "execute_result"
    }
   ],
   "source": [
    "ssc_spark_tal = pd.read_csv(\"../dat/genes/spark-simplex.csv\")\n",
    "for i, row in ssc_spark_tal.iterrows():\n",
    "    try:\n",
    "        ssc_spark_tal.loc[i, \"SYMBOL\"] = Entrez2Symbol[int(row[\"GENE\"])]\n",
    "    except:\n",
    "        ssc_spark_tal.loc[i, \"SYMBOL\"] = \"NA\"\n",
    "ssc_spark_tal.head(10)"
   ]
  },
  {
   "cell_type": "code",
   "execution_count": 16,
   "metadata": {
    "hidden": true
   },
   "outputs": [],
   "source": [
    "ssc_spark_tal.to_csv(\"../dat/genes/spark_wiglermodel.csv\", index=False)"
   ]
  },
  {
   "cell_type": "markdown",
   "metadata": {},
   "source": [
    "# SCZ"
   ]
  },
  {
   "cell_type": "code",
   "execution_count": 3,
   "metadata": {},
   "outputs": [],
   "source": [
    "# Jan 2020 SCZ paper\n",
    "Howrigan_2020_gene_df = pd.read_excel(\"/Users/jiayao/Work/ASD_Circuits/dat/genes/scz/raw/SCZ_TW_Recrrent_PTV_Missense.xlsx\")\n",
    "\n",
    "Howrigan_2020_CB = Howrigan_2020_gene_df[Howrigan_2020_gene_df[\"Cohort\"]==\"CB\"]\n",
    "Howrigan_2020_TW = Howrigan_2020_gene_df[Howrigan_2020_gene_df[\"Cohort\"]==\"TW\"]"
   ]
  },
  {
   "cell_type": "code",
   "execution_count": 27,
   "metadata": {},
   "outputs": [],
   "source": [
    "# Recurrent PTV\n",
    "Howrigan_2020_CB_LGD = Howrigan_2020_CB[Howrigan_2020_CB[\"PTV count\"]>1]\n",
    "Howrigan_2020_TW_LGD = Howrigan_2020_TW[Howrigan_2020_TW[\"PTV count\"]>1]\n",
    "Howrigan_2020_LGD = list(Howrigan_2020_CB_LGD[\"gene\"].values) + list(Howrigan_2020_TW_LGD[\"gene\"].values)\n",
    "Howrigan_2020_LGD = list(set([GeneSymbol2Entrez[x] for x in Howrigan_2020_LGD if x in GeneSymbol2Entrez]))\n",
    "WriteGeneList(Howrigan_2020_LGD, \"/Users/jiayao/Work/ASD_Circuits/dat/genes/scz/Howrigan_2020_rec_LGD.txt\")"
   ]
  },
  {
   "cell_type": "code",
   "execution_count": 29,
   "metadata": {},
   "outputs": [],
   "source": [
    "# PTV with at least one missense\n",
    "Howrigan_2020_CB_LGD = Howrigan_2020_CB[Howrigan_2020_CB[\"PTV count\"]>=1]\n",
    "Howrigan_2020_TW_LGD = Howrigan_2020_TW[Howrigan_2020_TW[\"PTV count\"]>=1]\n",
    "Howrigan_2020_LGD = list(Howrigan_2020_CB_LGD[\"gene\"].values) + list(Howrigan_2020_TW_LGD[\"gene\"].values)\n",
    "Howrigan_2020_LGD = list(set([GeneSymbol2Entrez[x] for x in Howrigan_2020_LGD if x in GeneSymbol2Entrez]))\n",
    "WriteGeneList(Howrigan_2020_LGD, \"/Users/jiayao/Work/ASD_Circuits/dat/genes/scz/Howrigan_2020_LGD.txt\")"
   ]
  },
  {
   "cell_type": "code",
   "execution_count": 35,
   "metadata": {},
   "outputs": [],
   "source": [
    "# Rec genes\n",
    "Howrigan_2020 = list(Howrigan_2020_CB[\"gene\"].values) + list(Howrigan_2020_TW[\"gene\"].values)\n",
    "Howrigan_2020 = list(set([GeneSymbol2Entrez[x] for x in Howrigan_2020 if x in GeneSymbol2Entrez]))\n",
    "WriteGeneList(Howrigan_2020, \"/Users/jiayao/Work/ASD_Circuits/dat/genes/scz/Howrigan_2020_rec.txt\")"
   ]
  },
  {
   "cell_type": "code",
   "execution_count": null,
   "metadata": {},
   "outputs": [],
   "source": [
    "# Owen 2020 SCZ LGDs\n",
    "Genes = [\"\"]"
   ]
  },
  {
   "cell_type": "markdown",
   "metadata": {
    "heading_collapsed": true
   },
   "source": [
    "# Simulate Healthy Indvs"
   ]
  },
  {
   "cell_type": "code",
   "execution_count": 116,
   "metadata": {
    "hidden": true
   },
   "outputs": [
    {
     "name": "stdout",
     "output_type": "stream",
     "text": [
      "(18954, 64)\n",
      "(18954, 65)\n"
     ]
    },
    {
     "name": "stderr",
     "output_type": "stream",
     "text": [
      "/Users/jiayao/anaconda3/lib/python3.7/site-packages/IPython/core/interactiveshell.py:3020: DtypeWarning: Columns (4,5) have mixed types. Specify dtype option on import or set low_memory=False.\n",
      "  interactivity=interactivity, compiler=compiler, result=result)\n"
     ]
    }
   ],
   "source": [
    "Nindv = 16877\n",
    "BGMR = pd.read_csv(\"/Users/jiayao/Work/Resources/MutationRate_20170711_rate.txt\", delimiter=\"\\t\")\n",
    "#BGMR.index=BGMR[\"GeneName\"].values\n",
    "print(BGMR.shape)\n",
    "BGMR[\"Entrez\"] = [int(GeneSymbol2Entrez.get(x, -1)) for x in BGMR[\"GeneName\"].values]\n",
    "#BGMR = BGMR[BGMR[\"Entrez\"].isin(allen_mouse_genes)]\n",
    "BGMR.index=BGMR[\"Entrez\"].values\n",
    "print(BGMR.shape)"
   ]
  },
  {
   "cell_type": "code",
   "execution_count": 123,
   "metadata": {
    "hidden": true
   },
   "outputs": [],
   "source": [
    "N_simulations = 10\n",
    "N_indv = 1000"
   ]
  },
  {
   "cell_type": "code",
   "execution_count": 124,
   "metadata": {
    "hidden": true
   },
   "outputs": [],
   "source": [
    "DAT = []\n",
    "for i in range(N_simulations):\n",
    "    LGDs1 = np.random.rand(N_indv, BGMR.shape[0])\n",
    "    LGDs2 = np.random.rand(N_indv, BGMR.shape[0])\n",
    "    Dmis1 = np.random.rand(N_indv, BGMR.shape[0])\n",
    "    Dmis2 = np.random.rand(N_indv, BGMR.shape[0])\n",
    "    LGD_idx = np.array([])\n",
    "    Dmis_idx = np.array([])\n",
    "    for j in range(N_indv):\n",
    "        j_lgd_1 = np.where(BGMR[\"p_LGD\"].values > LGDs1[j, :])\n",
    "        j_lgd_2 = np.where(BGMR[\"p_LGD\"].values > LGDs2[j, :])\n",
    "        j_dmis_1 = np.where(BGMR[\"prevel_0.5\"].values > Dmis1[j, :])\n",
    "        j_dmis_2 = np.where(BGMR[\"prevel_0.5\"].values > Dmis2[j, :])\n",
    "        LGD_idx = np.append(LGD_idx, j_lgd_1)\n",
    "        LGD_idx = np.append(LGD_idx, j_lgd_2)\n",
    "        Dmis_idx = np.append(Dmis_idx, j_dmis_1)\n",
    "        Dmis_idx = np.append(Dmis_idx, j_dmis_2)\n",
    "        k,v = np.unique([BGMR.index[k] for k in LGD_idx], return_counts=True)\n",
    "        Entrez_LGD = dict(zip(k, v))\n",
    "        k,v = np.unique([BGMR.index[k] for k in Dmis_idx], return_counts=True)\n",
    "        Entrez_Dmis = dict(zip(k, v))\n",
    "        dat = {\"LGD\": Entrez_LGD, \"Dmis\": Entrez_Dmis}\n",
    "    DAT.append(dat)"
   ]
  },
  {
   "cell_type": "code",
   "execution_count": 132,
   "metadata": {
    "hidden": true
   },
   "outputs": [
    {
     "name": "stdout",
     "output_type": "stream",
     "text": [
      "0.88\n",
      "0.74\n",
      "0.9\n",
      "0.9\n",
      "0.76\n",
      "0.91\n",
      "0.84\n",
      "0.96\n",
      "0.75\n",
      "0.97\n"
     ]
    }
   ],
   "source": [
    "for dat in DAT:\n",
    "    nlgd = len(dat[\"LGD\"])\n",
    "    print(nlgd / 100)"
   ]
  },
  {
   "cell_type": "code",
   "execution_count": 94,
   "metadata": {
    "hidden": true
   },
   "outputs": [],
   "source": [
    "# Clean up data\n",
    "# Collect All Keys:\n",
    "keys = []\n",
    "for dat in DAT:\n",
    "    keys.extend(list(dat[\"LGD\"].keys()) + list(dat[\"Dmis\"].keys()))\n",
    "keys = list(set(keys))"
   ]
  },
  {
   "cell_type": "code",
   "execution_count": 101,
   "metadata": {
    "hidden": true
   },
   "outputs": [
    {
     "data": {
      "text/plain": [
       "110"
      ]
     },
     "execution_count": 101,
     "metadata": {},
     "output_type": "execute_result"
    }
   ],
   "source": [
    "len(keys)"
   ]
  },
  {
   "cell_type": "code",
   "execution_count": 96,
   "metadata": {
    "hidden": true
   },
   "outputs": [],
   "source": [
    "dat_df = []\n",
    "for dat in DAT:\n",
    "    row_df = []\n",
    "    for k in keys:\n",
    "        lgd = dat[\"LGD\"].get(k, 0)\n",
    "        dmis = dat[\"Dmis\"].get(k, 0)\n",
    "        row_df.append(\"%d,%d\"%(lgd,dmis))\n",
    "    dat_df.append(row_df)"
   ]
  },
  {
   "cell_type": "code",
   "execution_count": 108,
   "metadata": {
    "hidden": true
   },
   "outputs": [
    {
     "name": "stdout",
     "output_type": "stream",
     "text": [
      "10 110\n"
     ]
    }
   ],
   "source": [
    "print(len(dat_df), len(dat_df[0]))"
   ]
  },
  {
   "cell_type": "code",
   "execution_count": 109,
   "metadata": {
    "hidden": true
   },
   "outputs": [],
   "source": [
    "df = pd.DataFrame(dat_df, columns=keys, index=list(range(N_simulations)))"
   ]
  },
  {
   "cell_type": "code",
   "execution_count": 113,
   "metadata": {
    "hidden": true
   },
   "outputs": [],
   "source": [
    "df[\"index\"] = df.index\n",
    "df = df.set_index('index')"
   ]
  },
  {
   "cell_type": "code",
   "execution_count": 115,
   "metadata": {
    "hidden": true
   },
   "outputs": [],
   "source": [
    "df.to_csv(\"dat/meta_denovo_simulations.csv\")"
   ]
  },
  {
   "cell_type": "code",
   "execution_count": null,
   "metadata": {
    "hidden": true
   },
   "outputs": [],
   "source": []
  },
  {
   "cell_type": "code",
   "execution_count": 118,
   "metadata": {
    "hidden": true
   },
   "outputs": [],
   "source": [
    "N_simulations = 10\n",
    "N_indv = 100"
   ]
  },
  {
   "cell_type": "code",
   "execution_count": 78,
   "metadata": {
    "hidden": true
   },
   "outputs": [],
   "source": [
    "LGDs = np.random.rand(N_indv, BGMR.shape[0])\n",
    "Dmis = np.random.rand(N_indv, BGMR.shape[0])\n",
    "LGD_idx = np.array([])\n",
    "Dmis_idx = np.array([])\n",
    "for j in range(N_indv):\n",
    "    j_lgd = np.where(BGMR[\"p_LGD\"].values > LGDs[j, :])\n",
    "    j_dmis = np.where(BGMR[\"prevel_0.5\"].values > Dmis[j, :])\n",
    "    LGD_idx = np.append(LGD_idx, j_lgd)\n",
    "    Dmis_idx = np.append(Dmis_idx, j_dmis)\n",
    "    k,v = np.unique([BGMR.index[k] for k in LGD_idx], return_counts=True)\n",
    "    Entrez_LGD = dict(zip(k, v))\n",
    "    k,v = np.unique([BGMR.index[k] for k in Dmis_idx], return_counts=True)\n",
    "    Entrez_Dmis = dict(zip(k, v))"
   ]
  },
  {
   "cell_type": "code",
   "execution_count": 87,
   "metadata": {
    "hidden": true
   },
   "outputs": [],
   "source": [
    "dat = {\"LGD\": Entrez_LGD, \"Dmis\": Entrez_Dmis}"
   ]
  },
  {
   "cell_type": "code",
   "execution_count": 133,
   "metadata": {
    "hidden": true
   },
   "outputs": [
    {
     "data": {
      "text/html": [
       "<div>\n",
       "<style scoped>\n",
       "    .dataframe tbody tr th:only-of-type {\n",
       "        vertical-align: middle;\n",
       "    }\n",
       "\n",
       "    .dataframe tbody tr th {\n",
       "        vertical-align: top;\n",
       "    }\n",
       "\n",
       "    .dataframe thead th {\n",
       "        text-align: right;\n",
       "    }\n",
       "</style>\n",
       "<table border=\"1\" class=\"dataframe\">\n",
       "  <thead>\n",
       "    <tr style=\"text-align: right;\">\n",
       "      <th></th>\n",
       "      <th>339977</th>\n",
       "      <th>2058</th>\n",
       "      <th>6157</th>\n",
       "      <th>10257</th>\n",
       "      <th>24</th>\n",
       "      <th>4125</th>\n",
       "      <th>84000</th>\n",
       "      <th>387104</th>\n",
       "      <th>55343</th>\n",
       "      <th>4145</th>\n",
       "      <th>...</th>\n",
       "      <th>4037</th>\n",
       "      <th>389072</th>\n",
       "      <th>4054</th>\n",
       "      <th>79837</th>\n",
       "      <th>51168</th>\n",
       "      <th>79841</th>\n",
       "      <th>10223</th>\n",
       "      <th>157680</th>\n",
       "      <th>51185</th>\n",
       "      <th>4086</th>\n",
       "    </tr>\n",
       "    <tr>\n",
       "      <th>index</th>\n",
       "      <th></th>\n",
       "      <th></th>\n",
       "      <th></th>\n",
       "      <th></th>\n",
       "      <th></th>\n",
       "      <th></th>\n",
       "      <th></th>\n",
       "      <th></th>\n",
       "      <th></th>\n",
       "      <th></th>\n",
       "      <th></th>\n",
       "      <th></th>\n",
       "      <th></th>\n",
       "      <th></th>\n",
       "      <th></th>\n",
       "      <th></th>\n",
       "      <th></th>\n",
       "      <th></th>\n",
       "      <th></th>\n",
       "      <th></th>\n",
       "      <th></th>\n",
       "    </tr>\n",
       "  </thead>\n",
       "  <tbody>\n",
       "    <tr>\n",
       "      <th>0</th>\n",
       "      <td>0,0</td>\n",
       "      <td>0,0</td>\n",
       "      <td>0,0</td>\n",
       "      <td>0,1</td>\n",
       "      <td>0,0</td>\n",
       "      <td>0,0</td>\n",
       "      <td>0,0</td>\n",
       "      <td>0,0</td>\n",
       "      <td>0,0</td>\n",
       "      <td>1,0</td>\n",
       "      <td>...</td>\n",
       "      <td>0,0</td>\n",
       "      <td>0,0</td>\n",
       "      <td>0,0</td>\n",
       "      <td>0,0</td>\n",
       "      <td>0,0</td>\n",
       "      <td>0,0</td>\n",
       "      <td>0,0</td>\n",
       "      <td>0,0</td>\n",
       "      <td>0,0</td>\n",
       "      <td>0,0</td>\n",
       "    </tr>\n",
       "    <tr>\n",
       "      <th>1</th>\n",
       "      <td>0,0</td>\n",
       "      <td>0,0</td>\n",
       "      <td>1,0</td>\n",
       "      <td>0,0</td>\n",
       "      <td>0,0</td>\n",
       "      <td>0,0</td>\n",
       "      <td>0,0</td>\n",
       "      <td>0,0</td>\n",
       "      <td>0,0</td>\n",
       "      <td>0,0</td>\n",
       "      <td>...</td>\n",
       "      <td>0,0</td>\n",
       "      <td>0,0</td>\n",
       "      <td>0,0</td>\n",
       "      <td>0,0</td>\n",
       "      <td>0,0</td>\n",
       "      <td>0,0</td>\n",
       "      <td>0,0</td>\n",
       "      <td>0,0</td>\n",
       "      <td>0,0</td>\n",
       "      <td>0,0</td>\n",
       "    </tr>\n",
       "  </tbody>\n",
       "</table>\n",
       "<p>2 rows × 402 columns</p>\n",
       "</div>"
      ],
      "text/plain": [
       "      339977 2058 6157 10257   24 4125 84000 387104 55343 4145  ... 4037  \\\n",
       "index                                                           ...        \n",
       "0        0,0  0,0  0,0   0,1  0,0  0,0   0,0    0,0   0,0  1,0  ...  0,0   \n",
       "1        0,0  0,0  1,0   0,0  0,0  0,0   0,0    0,0   0,0  0,0  ...  0,0   \n",
       "\n",
       "      389072 4054 79837 51168 79841 10223 157680 51185 4086  \n",
       "index                                                        \n",
       "0        0,0  0,0   0,0   0,0   0,0   0,0    0,0   0,0  0,0  \n",
       "1        0,0  0,0   0,0   0,0   0,0   0,0    0,0   0,0  0,0  \n",
       "\n",
       "[2 rows x 402 columns]"
      ]
     },
     "execution_count": 133,
     "metadata": {},
     "output_type": "execute_result"
    }
   ],
   "source": [
    "## Load\n",
    "df = pd.read_csv(\"dat/meta_denovo_simulations.csv\", index_col=\"index\")\n",
    "df.head(2)"
   ]
  },
  {
   "cell_type": "code",
   "execution_count": 134,
   "metadata": {
    "hidden": true
   },
   "outputs": [
    {
     "name": "stdout",
     "output_type": "stream",
     "text": [
      "0.03\n",
      "0.1\n",
      "0.04\n",
      "0.11\n",
      "0.12\n",
      "0.05\n",
      "0.08\n",
      "0.06\n",
      "0.14\n",
      "0.07\n",
      "0.09\n",
      "0.09\n",
      "0.07\n",
      "0.07\n",
      "0.09\n",
      "0.03\n",
      "0.09\n",
      "0.04\n",
      "0.1\n",
      "0.11\n"
     ]
    }
   ],
   "source": [
    "for i, row in df.iterrows():\n",
    "    nlgd = [int(x.split(\",\")[0]) for x in row.values]\n",
    "    print(sum(nlgd)/100)"
   ]
  },
  {
   "cell_type": "code",
   "execution_count": null,
   "metadata": {
    "hidden": true
   },
   "outputs": [],
   "source": []
  },
  {
   "cell_type": "markdown",
   "metadata": {},
   "source": [
    "# Cont"
   ]
  },
  {
   "cell_type": "code",
   "execution_count": 3,
   "metadata": {},
   "outputs": [],
   "source": [
    "ASD_Discov_Muts = pd.read_csv(\"../dat/genes/SPARK/ASD_Discov_DNVs.txt\", delimiter=\"\\t\")\n",
    "ASD_Rep_Muts = pd.read_csv(\"../dat/genes/SPARK/ASD_Rep_DNVs.txt\", delimiter=\"\\t\")\n",
    "ASD_Discov_Trios = pd.read_csv(\"../dat/genes/SPARK/ASD_Discov_Trios.txt\", delimiter=\"\\t\")\n",
    "ASD_Rep_Trios = pd.read_csv(\"../dat/genes/SPARK/ASD_Rep_Trios.txt\", delimiter=\"\\t\")"
   ]
  },
  {
   "cell_type": "code",
   "execution_count": 4,
   "metadata": {},
   "outputs": [
    {
     "name": "stdout",
     "output_type": "stream",
     "text": [
      "5768 2499\n",
      "8267\n"
     ]
    }
   ],
   "source": [
    "ASD_Discov_Sib = ASD_Discov_Trios[ASD_Discov_Trios[\"Pheno\"]==\"Unaffected\"][\"IID\"].values\n",
    "ASD_Rep_Sib = ASD_Rep_Trios[ASD_Rep_Trios[\"Pheno\"]==\"Unaffected\"][\"IID\"].values\n",
    "print(len(ASD_Discov_Sib), len(ASD_Rep_Sib))\n",
    "Combined_siblings = np.concatenate((ASD_Discov_Sib, ASD_Rep_Sib), axis=None)\n",
    "N_siblings = Combined_siblings.shape[0]\n",
    "print(N_siblings)"
   ]
  },
  {
   "cell_type": "code",
   "execution_count": 5,
   "metadata": {},
   "outputs": [],
   "source": [
    "AllMuts = pd.concat([ASD_Discov_Muts, ASD_Rep_Muts])\n",
    "AllMuts = AllMuts.reset_index()\n",
    "AllSiblingMuts = AllMuts[AllMuts[\"IID\"].isin(Combined_siblings)]"
   ]
  },
  {
   "cell_type": "code",
   "execution_count": 6,
   "metadata": {},
   "outputs": [],
   "source": [
    "dat = []\n",
    "for i, row in AllSiblingMuts.iterrows():\n",
    "    GeneEff = row[\"GeneEff\"].split(\";\")[0]\n",
    "    if GeneEff in [\"frameshift\", \"splice_acceptor\", \"splice_donor\", \"start_lost\", \"stop_gained\", \"stop_lost\"]:\n",
    "        dat.append(row.values)\n",
    "    elif GeneEff == \"missense\":\n",
    "        dat.append(row.values)\n",
    "xx = pd.DataFrame(dat, columns = AllSiblingMuts.columns.values)"
   ]
  },
  {
   "cell_type": "code",
   "execution_count": 9,
   "metadata": {},
   "outputs": [],
   "source": [
    "xx.to_csv(\"dat/ASD_Siblings_LGDMis.tsv\", sep=\"\\t\")"
   ]
  },
  {
   "cell_type": "code",
   "execution_count": 10,
   "metadata": {},
   "outputs": [
    {
     "data": {
      "text/html": [
       "<div>\n",
       "<style scoped>\n",
       "    .dataframe tbody tr th:only-of-type {\n",
       "        vertical-align: middle;\n",
       "    }\n",
       "\n",
       "    .dataframe tbody tr th {\n",
       "        vertical-align: top;\n",
       "    }\n",
       "\n",
       "    .dataframe thead th {\n",
       "        text-align: right;\n",
       "    }\n",
       "</style>\n",
       "<table border=\"1\" class=\"dataframe\">\n",
       "  <thead>\n",
       "    <tr style=\"text-align: right;\">\n",
       "      <th></th>\n",
       "      <th>index</th>\n",
       "      <th>Cohort</th>\n",
       "      <th>FamID</th>\n",
       "      <th>IID</th>\n",
       "      <th>Sex</th>\n",
       "      <th>Pheno</th>\n",
       "      <th>DNASource</th>\n",
       "      <th>VarID</th>\n",
       "      <th>Chrom</th>\n",
       "      <th>Position</th>\n",
       "      <th>...</th>\n",
       "      <th>pExt_HBDR</th>\n",
       "      <th>HGNCv24</th>\n",
       "      <th>DS_AG</th>\n",
       "      <th>DS_AL</th>\n",
       "      <th>DS_DG</th>\n",
       "      <th>DS_DL</th>\n",
       "      <th>DP_AG</th>\n",
       "      <th>DP_AL</th>\n",
       "      <th>DP_DG</th>\n",
       "      <th>DP_DL</th>\n",
       "    </tr>\n",
       "  </thead>\n",
       "  <tbody>\n",
       "    <tr>\n",
       "      <th>0</th>\n",
       "      <td>24</td>\n",
       "      <td>MSSNG</td>\n",
       "      <td>FAM_MSSNG00124-003</td>\n",
       "      <td>MSSNG00124-004</td>\n",
       "      <td>Female</td>\n",
       "      <td>Unaffected</td>\n",
       "      <td>Blood</td>\n",
       "      <td>10:1170220:C:A</td>\n",
       "      <td>10</td>\n",
       "      <td>1170220</td>\n",
       "      <td>...</td>\n",
       "      <td>0.975</td>\n",
       "      <td>WDR37</td>\n",
       "      <td>0</td>\n",
       "      <td>0</td>\n",
       "      <td>0.0191</td>\n",
       "      <td>0</td>\n",
       "      <td>-30</td>\n",
       "      <td>-15</td>\n",
       "      <td>1</td>\n",
       "      <td>-26</td>\n",
       "    </tr>\n",
       "    <tr>\n",
       "      <th>1</th>\n",
       "      <td>33</td>\n",
       "      <td>MSSNG</td>\n",
       "      <td>FAM_F0193</td>\n",
       "      <td>REACH000363</td>\n",
       "      <td>Female</td>\n",
       "      <td>Unaffected</td>\n",
       "      <td>.</td>\n",
       "      <td>10:116361637:C:A</td>\n",
       "      <td>10</td>\n",
       "      <td>116361637</td>\n",
       "      <td>...</td>\n",
       "      <td>0.013</td>\n",
       "      <td>ABLIM1</td>\n",
       "      <td>0</td>\n",
       "      <td>0</td>\n",
       "      <td>0.0001</td>\n",
       "      <td>0</td>\n",
       "      <td>-15</td>\n",
       "      <td>50</td>\n",
       "      <td>6</td>\n",
       "      <td>1</td>\n",
       "    </tr>\n",
       "    <tr>\n",
       "      <th>2</th>\n",
       "      <td>44</td>\n",
       "      <td>MSSNG</td>\n",
       "      <td>FAM_MSSNG00102-003</td>\n",
       "      <td>MSSNG00102-005</td>\n",
       "      <td>Female</td>\n",
       "      <td>Unaffected</td>\n",
       "      <td>Blood</td>\n",
       "      <td>10:122280506:G:A</td>\n",
       "      <td>10</td>\n",
       "      <td>122280506</td>\n",
       "      <td>...</td>\n",
       "      <td>0.836</td>\n",
       "      <td>PLPP4</td>\n",
       "      <td>0.0948</td>\n",
       "      <td>0.1462</td>\n",
       "      <td>0</td>\n",
       "      <td>0</td>\n",
       "      <td>12</td>\n",
       "      <td>-23</td>\n",
       "      <td>-23</td>\n",
       "      <td>44</td>\n",
       "    </tr>\n",
       "    <tr>\n",
       "      <th>3</th>\n",
       "      <td>49</td>\n",
       "      <td>MSSNG</td>\n",
       "      <td>FAM_F0284</td>\n",
       "      <td>REACH000750</td>\n",
       "      <td>Male</td>\n",
       "      <td>Unaffected</td>\n",
       "      <td>.</td>\n",
       "      <td>10:126681378:C:T</td>\n",
       "      <td>10</td>\n",
       "      <td>126681378</td>\n",
       "      <td>...</td>\n",
       "      <td>1</td>\n",
       "      <td>CTBP2</td>\n",
       "      <td>0.0051</td>\n",
       "      <td>0.0016</td>\n",
       "      <td>0</td>\n",
       "      <td>0</td>\n",
       "      <td>-9</td>\n",
       "      <td>3</td>\n",
       "      <td>3</td>\n",
       "      <td>-25</td>\n",
       "    </tr>\n",
       "    <tr>\n",
       "      <th>4</th>\n",
       "      <td>65</td>\n",
       "      <td>MSSNG</td>\n",
       "      <td>FAM_1-0389-005</td>\n",
       "      <td>1-0389-005</td>\n",
       "      <td>Female</td>\n",
       "      <td>Unaffected</td>\n",
       "      <td>Blood</td>\n",
       "      <td>10:13656081:G:A</td>\n",
       "      <td>10</td>\n",
       "      <td>13656081</td>\n",
       "      <td>...</td>\n",
       "      <td>1</td>\n",
       "      <td>PRPF18</td>\n",
       "      <td>0</td>\n",
       "      <td>0</td>\n",
       "      <td>0</td>\n",
       "      <td>0.0006</td>\n",
       "      <td>-7</td>\n",
       "      <td>-9</td>\n",
       "      <td>1</td>\n",
       "      <td>5</td>\n",
       "    </tr>\n",
       "    <tr>\n",
       "      <th>...</th>\n",
       "      <td>...</td>\n",
       "      <td>...</td>\n",
       "      <td>...</td>\n",
       "      <td>...</td>\n",
       "      <td>...</td>\n",
       "      <td>...</td>\n",
       "      <td>...</td>\n",
       "      <td>...</td>\n",
       "      <td>...</td>\n",
       "      <td>...</td>\n",
       "      <td>...</td>\n",
       "      <td>...</td>\n",
       "      <td>...</td>\n",
       "      <td>...</td>\n",
       "      <td>...</td>\n",
       "      <td>...</td>\n",
       "      <td>...</td>\n",
       "      <td>...</td>\n",
       "      <td>...</td>\n",
       "      <td>...</td>\n",
       "      <td>...</td>\n",
       "    </tr>\n",
       "    <tr>\n",
       "      <th>5295</th>\n",
       "      <td>751</td>\n",
       "      <td>NaN</td>\n",
       "      <td>SF0180601</td>\n",
       "      <td>SP0180602</td>\n",
       "      <td>Female</td>\n",
       "      <td>Unaffected</td>\n",
       "      <td>NaN</td>\n",
       "      <td>12:7060845:C:A</td>\n",
       "      <td>12</td>\n",
       "      <td>7060845</td>\n",
       "      <td>...</td>\n",
       "      <td>0.556</td>\n",
       "      <td>PTPN6</td>\n",
       "      <td>0.0001</td>\n",
       "      <td>0.0000</td>\n",
       "      <td>0.0000</td>\n",
       "      <td>0.0000</td>\n",
       "      <td>14</td>\n",
       "      <td>-4</td>\n",
       "      <td>49</td>\n",
       "      <td>-9</td>\n",
       "    </tr>\n",
       "    <tr>\n",
       "      <th>5296</th>\n",
       "      <td>752</td>\n",
       "      <td>NaN</td>\n",
       "      <td>SF0146252</td>\n",
       "      <td>SP0146253</td>\n",
       "      <td>Female</td>\n",
       "      <td>Unaffected</td>\n",
       "      <td>NaN</td>\n",
       "      <td>12:19422720:T:C</td>\n",
       "      <td>12</td>\n",
       "      <td>19422720</td>\n",
       "      <td>...</td>\n",
       "      <td>0.019</td>\n",
       "      <td>PLEKHA5</td>\n",
       "      <td>0.0000</td>\n",
       "      <td>0.0000</td>\n",
       "      <td>0.0000</td>\n",
       "      <td>0.0000</td>\n",
       "      <td>-16</td>\n",
       "      <td>30</td>\n",
       "      <td>-37</td>\n",
       "      <td>30</td>\n",
       "    </tr>\n",
       "    <tr>\n",
       "      <th>5297</th>\n",
       "      <td>754</td>\n",
       "      <td>NaN</td>\n",
       "      <td>SF0221737</td>\n",
       "      <td>SP0221738</td>\n",
       "      <td>Male</td>\n",
       "      <td>Unaffected</td>\n",
       "      <td>NaN</td>\n",
       "      <td>12:54676885:TG:T</td>\n",
       "      <td>12</td>\n",
       "      <td>54676885</td>\n",
       "      <td>...</td>\n",
       "      <td>0.657</td>\n",
       "      <td>.</td>\n",
       "      <td>.</td>\n",
       "      <td>.</td>\n",
       "      <td>.</td>\n",
       "      <td>.</td>\n",
       "      <td>.</td>\n",
       "      <td>.</td>\n",
       "      <td>.</td>\n",
       "      <td>.</td>\n",
       "    </tr>\n",
       "    <tr>\n",
       "      <th>5298</th>\n",
       "      <td>756</td>\n",
       "      <td>NaN</td>\n",
       "      <td>SF0177516</td>\n",
       "      <td>SP0177517</td>\n",
       "      <td>Female</td>\n",
       "      <td>Unaffected</td>\n",
       "      <td>NaN</td>\n",
       "      <td>13:110829039:G:A</td>\n",
       "      <td>13</td>\n",
       "      <td>110829039</td>\n",
       "      <td>...</td>\n",
       "      <td>0.992</td>\n",
       "      <td>COL4A1</td>\n",
       "      <td>0.0000</td>\n",
       "      <td>0.0023</td>\n",
       "      <td>0.0000</td>\n",
       "      <td>0.0000</td>\n",
       "      <td>6</td>\n",
       "      <td>32</td>\n",
       "      <td>32</td>\n",
       "      <td>15</td>\n",
       "    </tr>\n",
       "    <tr>\n",
       "      <th>5299</th>\n",
       "      <td>758</td>\n",
       "      <td>NaN</td>\n",
       "      <td>SF0239104</td>\n",
       "      <td>SP0239105</td>\n",
       "      <td>Male</td>\n",
       "      <td>Unaffected</td>\n",
       "      <td>NaN</td>\n",
       "      <td>15:43317055:T:C</td>\n",
       "      <td>15</td>\n",
       "      <td>43317055</td>\n",
       "      <td>...</td>\n",
       "      <td>0.967</td>\n",
       "      <td>UBR1</td>\n",
       "      <td>0.0000</td>\n",
       "      <td>0.0000</td>\n",
       "      <td>0.0003</td>\n",
       "      <td>0.0456</td>\n",
       "      <td>-1</td>\n",
       "      <td>35</td>\n",
       "      <td>48</td>\n",
       "      <td>-28</td>\n",
       "    </tr>\n",
       "  </tbody>\n",
       "</table>\n",
       "<p>5300 rows × 45 columns</p>\n",
       "</div>"
      ],
      "text/plain": [
       "      index Cohort               FamID             IID     Sex       Pheno  \\\n",
       "0        24  MSSNG  FAM_MSSNG00124-003  MSSNG00124-004  Female  Unaffected   \n",
       "1        33  MSSNG           FAM_F0193     REACH000363  Female  Unaffected   \n",
       "2        44  MSSNG  FAM_MSSNG00102-003  MSSNG00102-005  Female  Unaffected   \n",
       "3        49  MSSNG           FAM_F0284     REACH000750    Male  Unaffected   \n",
       "4        65  MSSNG      FAM_1-0389-005      1-0389-005  Female  Unaffected   \n",
       "...     ...    ...                 ...             ...     ...         ...   \n",
       "5295    751    NaN           SF0180601       SP0180602  Female  Unaffected   \n",
       "5296    752    NaN           SF0146252       SP0146253  Female  Unaffected   \n",
       "5297    754    NaN           SF0221737       SP0221738    Male  Unaffected   \n",
       "5298    756    NaN           SF0177516       SP0177517  Female  Unaffected   \n",
       "5299    758    NaN           SF0239104       SP0239105    Male  Unaffected   \n",
       "\n",
       "     DNASource             VarID Chrom   Position  ... pExt_HBDR  HGNCv24  \\\n",
       "0        Blood    10:1170220:C:A    10    1170220  ...     0.975    WDR37   \n",
       "1            .  10:116361637:C:A    10  116361637  ...     0.013   ABLIM1   \n",
       "2        Blood  10:122280506:G:A    10  122280506  ...     0.836    PLPP4   \n",
       "3            .  10:126681378:C:T    10  126681378  ...         1    CTBP2   \n",
       "4        Blood   10:13656081:G:A    10   13656081  ...         1   PRPF18   \n",
       "...        ...               ...   ...        ...  ...       ...      ...   \n",
       "5295       NaN    12:7060845:C:A    12    7060845  ...     0.556    PTPN6   \n",
       "5296       NaN   12:19422720:T:C    12   19422720  ...     0.019  PLEKHA5   \n",
       "5297       NaN  12:54676885:TG:T    12   54676885  ...     0.657        .   \n",
       "5298       NaN  13:110829039:G:A    13  110829039  ...     0.992   COL4A1   \n",
       "5299       NaN   15:43317055:T:C    15   43317055  ...     0.967     UBR1   \n",
       "\n",
       "       DS_AG   DS_AL   DS_DG   DS_DL DP_AG DP_AL DP_DG DP_DL  \n",
       "0          0       0  0.0191       0   -30   -15     1   -26  \n",
       "1          0       0  0.0001       0   -15    50     6     1  \n",
       "2     0.0948  0.1462       0       0    12   -23   -23    44  \n",
       "3     0.0051  0.0016       0       0    -9     3     3   -25  \n",
       "4          0       0       0  0.0006    -7    -9     1     5  \n",
       "...      ...     ...     ...     ...   ...   ...   ...   ...  \n",
       "5295  0.0001  0.0000  0.0000  0.0000    14    -4    49    -9  \n",
       "5296  0.0000  0.0000  0.0000  0.0000   -16    30   -37    30  \n",
       "5297       .       .       .       .     .     .     .     .  \n",
       "5298  0.0000  0.0023  0.0000  0.0000     6    32    32    15  \n",
       "5299  0.0000  0.0000  0.0003  0.0456    -1    35    48   -28  \n",
       "\n",
       "[5300 rows x 45 columns]"
      ]
     },
     "execution_count": 10,
     "metadata": {},
     "output_type": "execute_result"
    }
   ],
   "source": [
    "xx"
   ]
  },
  {
   "cell_type": "code",
   "execution_count": 11,
   "metadata": {},
   "outputs": [],
   "source": [
    "def CountMut(DF):\n",
    "    N_LGD, N_mis, N_Dmis, N_syn = 0,0,0,0\n",
    "    for i, row in DF.iterrows():\n",
    "        GeneEff = row[\"GeneEff\"].split(\";\")[0]\n",
    "        if GeneEff in [\"frameshift\", \"splice_acceptor\", \"splice_donor\", \"start_lost\", \"stop_gained\", \"stop_lost\"]:\n",
    "            N_LGD += 1\n",
    "        elif GeneEff == \"missense\":\n",
    "            N_mis += 1\n",
    "            row[\"REVEL\"] = row[\"REVEL\"].split(\";\")[0]\n",
    "            if row[\"REVEL\"] != \".\":\n",
    "                if float(row[\"REVEL\"]) > 0.5:\n",
    "                    N_Dmis += 1\n",
    "        elif GeneEff == \"synonymous\":\n",
    "            N_syn += 1\n",
    "    return N_LGD, N_mis, N_Dmis, N_syn\n",
    "    #return N_LGD, N_Dmis"
   ]
  },
  {
   "cell_type": "code",
   "execution_count": 13,
   "metadata": {},
   "outputs": [],
   "source": [
    "Sibling_genes = np.array(list(set(xx[\"HGNC\"].values)))\n",
    "dat = []\n",
    "for g in Sibling_genes:\n",
    "    HGNC = g\n",
    "    try:\n",
    "        Entrez = int(GeneSymbol2Entrez[HGNC])\n",
    "    except:\n",
    "        Entrez = -1\n",
    "    Muts = xx[xx[\"HGNC\"]==HGNC]\n",
    "    N_LGD, N_Mis, N_Dmis, N_Syn = CountMut(Muts)\n",
    "    dat.append([HGNC, Entrez, N_LGD, N_Mis, N_Dmis, N_Syn])\n",
    "SiblingDF = pd.DataFrame(dat, columns=[\"HGNC\", \"Entrez\", \"N_LGD\", \"N_Mis\", \"N_Dmis\", \"N_Syn\"])"
   ]
  },
  {
   "cell_type": "code",
   "execution_count": 14,
   "metadata": {},
   "outputs": [],
   "source": [
    "_, Sibling_weights = Sibling_Gene_Weights(SiblingDF)\n",
    "Agg_Match = MakeMatchDF(Sibling_weights, N=1000)\n",
    "Agg_Match.to_csv(\"dat/ASD_Siblings.2.Matches.csv\")"
   ]
  },
  {
   "cell_type": "code",
   "execution_count": 15,
   "metadata": {},
   "outputs": [
    {
     "data": {
      "text/plain": [
       "True"
      ]
     },
     "execution_count": 15,
     "metadata": {},
     "output_type": "execute_result"
    }
   ],
   "source": [
    "197258 in Agg_Match.index.values"
   ]
  },
  {
   "cell_type": "code",
   "execution_count": null,
   "metadata": {},
   "outputs": [],
   "source": []
  }
 ],
 "metadata": {
  "kernelspec": {
   "display_name": "Python 3",
   "language": "python",
   "name": "python3"
  },
  "language_info": {
   "codemirror_mode": {
    "name": "ipython",
    "version": 3
   },
   "file_extension": ".py",
   "mimetype": "text/x-python",
   "name": "python",
   "nbconvert_exporter": "python",
   "pygments_lexer": "ipython3",
   "version": "3.7.1"
  }
 },
 "nbformat": 4,
 "nbformat_minor": 2
}
