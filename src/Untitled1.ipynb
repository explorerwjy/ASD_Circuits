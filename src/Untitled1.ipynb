{
 "cells": [
  {
   "cell_type": "code",
   "execution_count": 76,
   "metadata": {},
   "outputs": [
    {
     "name": "stdout",
     "output_type": "stream",
     "text": [
      "The autoreload extension is already loaded. To reload it, use:\n",
      "  %reload_ext autoreload\n"
     ]
    }
   ],
   "source": [
    "%load_ext autoreload\n",
    "%autoreload 2\n",
    "from ASD_Circuits import *"
   ]
  },
  {
   "cell_type": "code",
   "execution_count": 77,
   "metadata": {},
   "outputs": [
    {
     "data": {
      "text/html": [
       "<div>\n",
       "<style scoped>\n",
       "    .dataframe tbody tr th:only-of-type {\n",
       "        vertical-align: middle;\n",
       "    }\n",
       "\n",
       "    .dataframe tbody tr th {\n",
       "        vertical-align: top;\n",
       "    }\n",
       "\n",
       "    .dataframe thead th {\n",
       "        text-align: right;\n",
       "    }\n",
       "</style>\n",
       "<table border=\"1\" class=\"dataframe\">\n",
       "  <thead>\n",
       "    <tr style=\"text-align: right;\">\n",
       "      <th></th>\n",
       "      <th>EFFECT</th>\n",
       "      <th>REGION</th>\n",
       "      <th>Rank</th>\n",
       "    </tr>\n",
       "    <tr>\n",
       "      <th>STR</th>\n",
       "      <th></th>\n",
       "      <th></th>\n",
       "      <th></th>\n",
       "    </tr>\n",
       "  </thead>\n",
       "  <tbody>\n",
       "    <tr>\n",
       "      <th>Dentate_gyrus</th>\n",
       "      <td>0.459557</td>\n",
       "      <td>Hippocampal_region</td>\n",
       "      <td>1</td>\n",
       "    </tr>\n",
       "    <tr>\n",
       "      <th>Field_CA1</th>\n",
       "      <td>0.434854</td>\n",
       "      <td>Hippocampal_region</td>\n",
       "      <td>2</td>\n",
       "    </tr>\n",
       "  </tbody>\n",
       "</table>\n",
       "</div>"
      ],
      "text/plain": [
       "                 EFFECT              REGION  Rank\n",
       "STR                                              \n",
       "Dentate_gyrus  0.459557  Hippocampal_region     1\n",
       "Field_CA1      0.434854  Hippocampal_region     2"
      ]
     },
     "execution_count": 77,
     "metadata": {},
     "output_type": "execute_result"
    }
   ],
   "source": [
    "g = LoadConnectome2() # Load Connectiome\n",
    "EdgeWeightsDict = EdgeDict(g, keyon=\"label\")\n",
    "\n",
    "meta_new = pd.read_csv(\"dat/bias2/ASD.Meta.Spec.bias.csv\") # Load Bias\n",
    "meta_new = meta_new.set_index(\"STR\")\n",
    "meta_new.head(2)"
   ]
  },
  {
   "cell_type": "code",
   "execution_count": 78,
   "metadata": {},
   "outputs": [],
   "source": [
    "adj_mat = pd.read_csv(ConnFil, index_col=0)\n",
    "adj_mat_local, adj_mat_distal = LocalDistal_Region()\n",
    "g_local_region = LoadConnectome2(ConnFil=adj_mat_local)\n",
    "g_distal_region = LoadConnectome2(ConnFil=adj_mat_distal)\n",
    "EdgeWeightsDict_local_region = EdgeDict(g_local_region, keyon=\"label\")\n",
    "EdgeWeightsDict_distal_region = EdgeDict(g_distal_region, keyon=\"label\")"
   ]
  },
  {
   "cell_type": "code",
   "execution_count": 79,
   "metadata": {},
   "outputs": [
    {
     "name": "stdout",
     "output_type": "stream",
     "text": [
      "Total    0.367\n",
      "Local    0.535\n",
      "Distal   0.294\n"
     ]
    }
   ],
   "source": [
    "# ASD\n",
    "CandidateSTRs = meta_new.head(50).index.values\n",
    "asd_scores = ScoreSTRSet(g, CandidateSTRs, EdgeWeightsDict)\n",
    "print(\"Total   % .3f\"% np.mean(asd_scores))\n",
    "asd_scores = ScoreSTRSet(g_local_region, CandidateSTRs, EdgeWeightsDict_local_region)\n",
    "print(\"Local   % .3f\"% np.mean(asd_scores))\n",
    "asd_scores = ScoreSTRSet(g_distal_region, CandidateSTRs, EdgeWeightsDict_distal_region)\n",
    "print(\"Distal  % .3f\"% np.mean(asd_scores))"
   ]
  },
  {
   "cell_type": "code",
   "execution_count": 87,
   "metadata": {},
   "outputs": [
    {
     "name": "stdout",
     "output_type": "stream",
     "text": [
      "Total      0.382\n",
      "Local      0.432\n",
      "Distal     0.310\n"
     ]
    }
   ],
   "source": [
    "SA_wd = \"/Users/jiayao/Work/ASD_Circuits/src/dat/circuits2/ASD_Pad1_SA.csv\"\n",
    "Weighted = False; Direction = False\n",
    "InCirtuitNodes = GetBestCoheSAFil(SA_wd, Weighted, Direction, g=g, EdgeWeightsDict=EdgeWeightsDict)\n",
    "asd_scores_total = ScoreSTRSet(g, InCirtuitNodes, EdgeWeightsDict, Weighted=Weighted, Direction=Direction)\n",
    "asd_scores_local = ScoreSTRSet(g_local_region, InCirtuitNodes, EdgeWeightsDict_local_region, Weighted=Weighted, Direction=Direction)\n",
    "asd_scores_distal = ScoreSTRSet(g_distal_region, InCirtuitNodes, EdgeWeightsDict_distal_region, Weighted=Weighted, Direction=Direction)\n",
    "print(\"Total     % .3f\"% np.mean(asd_scores_total))\n",
    "print(\"Local     % .3f\"% np.mean(asd_scores_local))\n",
    "print(\"Distal    % .3f\"% np.mean(asd_scores_distal))"
   ]
  },
  {
   "cell_type": "code",
   "execution_count": 88,
   "metadata": {},
   "outputs": [
    {
     "name": "stdout",
     "output_type": "stream",
     "text": [
      "35\n"
     ]
    }
   ],
   "source": [
    "print(len(InCirtuitNodes))"
   ]
  },
  {
   "cell_type": "code",
   "execution_count": 89,
   "metadata": {},
   "outputs": [
    {
     "data": {
      "text/plain": [
       "array(['Orbital_area_lateral_part', 'Prelimbic_area',\n",
       "       'Orbital_area_ventrolateral_part', 'Dorsal_peduncular_area',\n",
       "       'Infralimbic_area', 'Nucleus_accumbens',\n",
       "       'Anterior_olfactory_nucleus', 'Accessory_olfactory_bulb',\n",
       "       'Lateral_posterior_nucleus_of_the_thalamus',\n",
       "       'Endopiriform_nucleus_dorsal_part', 'Claustrum',\n",
       "       'Primary_visual_area', 'Subiculum_dorsal_part',\n",
       "       'Agranular_insular_area_ventral_part', 'Anteromedial_visual_area',\n",
       "       'Primary_somatosensory_area_lower_limb', 'Primary_motor_area',\n",
       "       'Anterior_cingulate_area_dorsal_part', 'Gustatory_areas',\n",
       "       'Nucleus_of_reuniens', 'Parafascicular_nucleus',\n",
       "       'Secondary_motor_area',\n",
       "       'Retrosplenial_area_lateral_agranular_part', 'Caudoputamen',\n",
       "       'Orbital_area_medial_part', 'Frontal_pole_cerebral_cortex',\n",
       "       'Visceral_area', 'Basolateral_amygdalar_nucleus',\n",
       "       'Agranular_insular_area_posterior_part',\n",
       "       'Submedial_nucleus_of_the_thalamus',\n",
       "       'Anterior_cingulate_area_ventral_part',\n",
       "       'Mediodorsal_nucleus_of_thalamus', 'Lateral_visual_area',\n",
       "       'Posterior_parietal_association_areas',\n",
       "       'posteromedial_visual_area'], dtype=object)"
      ]
     },
     "execution_count": 89,
     "metadata": {},
     "output_type": "execute_result"
    }
   ],
   "source": [
    "InCirtuitNodes"
   ]
  },
  {
   "cell_type": "code",
   "execution_count": null,
   "metadata": {},
   "outputs": [],
   "source": []
  },
  {
   "cell_type": "code",
   "execution_count": null,
   "metadata": {},
   "outputs": [],
   "source": []
  },
  {
   "cell_type": "code",
   "execution_count": null,
   "metadata": {},
   "outputs": [],
   "source": []
  },
  {
   "cell_type": "code",
   "execution_count": null,
   "metadata": {},
   "outputs": [],
   "source": []
  },
  {
   "cell_type": "code",
   "execution_count": null,
   "metadata": {},
   "outputs": [],
   "source": []
  },
  {
   "cell_type": "code",
   "execution_count": null,
   "metadata": {},
   "outputs": [],
   "source": []
  },
  {
   "cell_type": "code",
   "execution_count": null,
   "metadata": {},
   "outputs": [],
   "source": []
  },
  {
   "cell_type": "code",
   "execution_count": null,
   "metadata": {},
   "outputs": [],
   "source": []
  },
  {
   "cell_type": "code",
   "execution_count": null,
   "metadata": {},
   "outputs": [],
   "source": []
  },
  {
   "cell_type": "code",
   "execution_count": null,
   "metadata": {},
   "outputs": [],
   "source": []
  },
  {
   "cell_type": "code",
   "execution_count": 16,
   "metadata": {},
   "outputs": [],
   "source": [
    "JW_ExpMat = \"../dat/allen-mouse-exp/jon/energy-conn-model-no_log-no_quant_norm.csv\"\n",
    "JW_ExpMat = pd.read_csv(JW_ExpMat, index_col=\"ROW\")\n",
    "JW_ExpMatNorm = \"../dat/allen-mouse-exp/energy-neuronorm.csv\"\n",
    "JW_ExpMatNorm = pd.read_csv(JW_ExpMatNorm, index_col=\"ROW\")"
   ]
  },
  {
   "cell_type": "code",
   "execution_count": 32,
   "metadata": {},
   "outputs": [],
   "source": [
    "Jon_ExpMat = \"../dat/allen-mouse-exp/jon/exp_level-before_norm.csv\"\n",
    "Jon_ExpMat = pd.read_csv(Jon_ExpMat, index_col=\"ROW\")\n",
    "Jon_ExpMatNorm = \"../dat/allen-mouse-exp/jon/exp_level-after_norm.csv\"\n",
    "Jon_ExpMatNorm = pd.read_csv(Jon_ExpMatNorm, index_col=\"ROW\")"
   ]
  },
  {
   "cell_type": "code",
   "execution_count": 17,
   "metadata": {},
   "outputs": [
    {
     "data": {
      "text/html": [
       "<div>\n",
       "<style scoped>\n",
       "    .dataframe tbody tr th:only-of-type {\n",
       "        vertical-align: middle;\n",
       "    }\n",
       "\n",
       "    .dataframe tbody tr th {\n",
       "        vertical-align: top;\n",
       "    }\n",
       "\n",
       "    .dataframe thead th {\n",
       "        text-align: right;\n",
       "    }\n",
       "</style>\n",
       "<table border=\"1\" class=\"dataframe\">\n",
       "  <thead>\n",
       "    <tr style=\"text-align: right;\">\n",
       "      <th></th>\n",
       "      <th>Anterior_amygdalar_area</th>\n",
       "      <th>Anterior_cingulate_area_dorsal_part</th>\n",
       "      <th>Anterior_cingulate_area_ventral_part</th>\n",
       "      <th>Nucleus_accumbens</th>\n",
       "      <th>Anterodorsal_nucleus</th>\n",
       "      <th>Anterior_hypothalamic_nucleus</th>\n",
       "      <th>Agranular_insular_area_dorsal_part</th>\n",
       "      <th>Agranular_insular_area_posterior_part</th>\n",
       "      <th>Agranular_insular_area_ventral_part</th>\n",
       "      <th>Nucleus_ambiguus</th>\n",
       "      <th>...</th>\n",
       "      <th>Primary_visual_area</th>\n",
       "      <th>Posterolateral_visual_area</th>\n",
       "      <th>posteromedial_visual_area</th>\n",
       "      <th>Ventral_medial_nucleus_of_the_thalamus</th>\n",
       "      <th>Ventromedial_hypothalamic_nucleus</th>\n",
       "      <th>Ventral_posterolateral_nucleus_of_the_thalamus</th>\n",
       "      <th>Ventral_posteromedial_nucleus_of_the_thalamus</th>\n",
       "      <th>Ventral_posteromedial_nucleus_of_the_thalamus_parvicellular_part</th>\n",
       "      <th>Ventral_tegmental_area</th>\n",
       "      <th>Hypoglossal_nucleus</th>\n",
       "    </tr>\n",
       "    <tr>\n",
       "      <th>ROW</th>\n",
       "      <th></th>\n",
       "      <th></th>\n",
       "      <th></th>\n",
       "      <th></th>\n",
       "      <th></th>\n",
       "      <th></th>\n",
       "      <th></th>\n",
       "      <th></th>\n",
       "      <th></th>\n",
       "      <th></th>\n",
       "      <th></th>\n",
       "      <th></th>\n",
       "      <th></th>\n",
       "      <th></th>\n",
       "      <th></th>\n",
       "      <th></th>\n",
       "      <th></th>\n",
       "      <th></th>\n",
       "      <th></th>\n",
       "      <th></th>\n",
       "      <th></th>\n",
       "    </tr>\n",
       "  </thead>\n",
       "  <tbody>\n",
       "    <tr>\n",
       "      <th>1</th>\n",
       "      <td>0.089402</td>\n",
       "      <td>0.060138</td>\n",
       "      <td>0.050112</td>\n",
       "      <td>0.023204</td>\n",
       "      <td>0.034093</td>\n",
       "      <td>0.088305</td>\n",
       "      <td>0.036078</td>\n",
       "      <td>NaN</td>\n",
       "      <td>0.046813</td>\n",
       "      <td>0.032990</td>\n",
       "      <td>...</td>\n",
       "      <td>0.035584</td>\n",
       "      <td>0.179587</td>\n",
       "      <td>0.021418</td>\n",
       "      <td>0.030367</td>\n",
       "      <td>0.115622</td>\n",
       "      <td>0.036984</td>\n",
       "      <td>0.053407</td>\n",
       "      <td>0.033779</td>\n",
       "      <td>0.110354</td>\n",
       "      <td>0.134065</td>\n",
       "    </tr>\n",
       "    <tr>\n",
       "      <th>2</th>\n",
       "      <td>0.040017</td>\n",
       "      <td>0.014211</td>\n",
       "      <td>0.023246</td>\n",
       "      <td>0.024009</td>\n",
       "      <td>0.403265</td>\n",
       "      <td>0.025202</td>\n",
       "      <td>0.354581</td>\n",
       "      <td>0.058713</td>\n",
       "      <td>0.145883</td>\n",
       "      <td>0.022381</td>\n",
       "      <td>...</td>\n",
       "      <td>0.043141</td>\n",
       "      <td>0.005781</td>\n",
       "      <td>0.213674</td>\n",
       "      <td>0.052746</td>\n",
       "      <td>0.038968</td>\n",
       "      <td>0.016603</td>\n",
       "      <td>0.018719</td>\n",
       "      <td>0.035381</td>\n",
       "      <td>0.122850</td>\n",
       "      <td>1.065840</td>\n",
       "    </tr>\n",
       "  </tbody>\n",
       "</table>\n",
       "<p>2 rows × 213 columns</p>\n",
       "</div>"
      ],
      "text/plain": [
       "     Anterior_amygdalar_area  Anterior_cingulate_area_dorsal_part  \\\n",
       "ROW                                                                 \n",
       "1                   0.089402                             0.060138   \n",
       "2                   0.040017                             0.014211   \n",
       "\n",
       "     Anterior_cingulate_area_ventral_part  Nucleus_accumbens  \\\n",
       "ROW                                                            \n",
       "1                                0.050112           0.023204   \n",
       "2                                0.023246           0.024009   \n",
       "\n",
       "     Anterodorsal_nucleus  Anterior_hypothalamic_nucleus  \\\n",
       "ROW                                                        \n",
       "1                0.034093                       0.088305   \n",
       "2                0.403265                       0.025202   \n",
       "\n",
       "     Agranular_insular_area_dorsal_part  \\\n",
       "ROW                                       \n",
       "1                              0.036078   \n",
       "2                              0.354581   \n",
       "\n",
       "     Agranular_insular_area_posterior_part  \\\n",
       "ROW                                          \n",
       "1                                      NaN   \n",
       "2                                 0.058713   \n",
       "\n",
       "     Agranular_insular_area_ventral_part  Nucleus_ambiguus  ...  \\\n",
       "ROW                                                         ...   \n",
       "1                               0.046813          0.032990  ...   \n",
       "2                               0.145883          0.022381  ...   \n",
       "\n",
       "     Primary_visual_area  Posterolateral_visual_area  \\\n",
       "ROW                                                    \n",
       "1               0.035584                    0.179587   \n",
       "2               0.043141                    0.005781   \n",
       "\n",
       "     posteromedial_visual_area  Ventral_medial_nucleus_of_the_thalamus  \\\n",
       "ROW                                                                      \n",
       "1                     0.021418                                0.030367   \n",
       "2                     0.213674                                0.052746   \n",
       "\n",
       "     Ventromedial_hypothalamic_nucleus  \\\n",
       "ROW                                      \n",
       "1                             0.115622   \n",
       "2                             0.038968   \n",
       "\n",
       "     Ventral_posterolateral_nucleus_of_the_thalamus  \\\n",
       "ROW                                                   \n",
       "1                                          0.036984   \n",
       "2                                          0.016603   \n",
       "\n",
       "     Ventral_posteromedial_nucleus_of_the_thalamus  \\\n",
       "ROW                                                  \n",
       "1                                         0.053407   \n",
       "2                                         0.018719   \n",
       "\n",
       "     Ventral_posteromedial_nucleus_of_the_thalamus_parvicellular_part  \\\n",
       "ROW                                                                     \n",
       "1                                             0.033779                  \n",
       "2                                             0.035381                  \n",
       "\n",
       "     Ventral_tegmental_area  Hypoglossal_nucleus  \n",
       "ROW                                               \n",
       "1                  0.110354             0.134065  \n",
       "2                  0.122850             1.065840  \n",
       "\n",
       "[2 rows x 213 columns]"
      ]
     },
     "execution_count": 17,
     "metadata": {},
     "output_type": "execute_result"
    }
   ],
   "source": [
    "JW_ExpMat.head(2)"
   ]
  },
  {
   "cell_type": "code",
   "execution_count": 18,
   "metadata": {},
   "outputs": [
    {
     "name": "stdout",
     "output_type": "stream",
     "text": [
      "(0.911201393837356, 0.0)\n"
     ]
    }
   ],
   "source": [
    "dat1 = JW_ExpMat[\"Anterior_amygdalar_area\"].values\n",
    "dat2 = Jon_ExpMat[\"Anterior_amygdalar_area\"].values\n",
    "def rm_nan_and_pearsonr(dat1, dat2):\n",
    "    tmp1, tmp2 = [], []\n",
    "    for v1, v2 in zip(dat1, dat2):\n",
    "        if v1 != v1 or v2 != v2:\n",
    "            continue\n",
    "        else:\n",
    "            tmp1.append(v1)\n",
    "            tmp2.append(v2)\n",
    "    return pearsonr(tmp1, tmp2)\n",
    "print(rm_nan_and_pearsonr(dat1, dat2))"
   ]
  },
  {
   "cell_type": "code",
   "execution_count": 39,
   "metadata": {},
   "outputs": [
    {
     "name": "stdout",
     "output_type": "stream",
     "text": [
      "(0.9692945557075049, 0.0)\n"
     ]
    }
   ],
   "source": [
    "dat1 = JW_ExpMatNorm[\"Anterior_amygdalar_area\"].values\n",
    "dat2 = Jon_ExpMat[\"Anterior_amygdalar_area\"].values\n",
    "print(rm_nan_and_pearsonr(dat1, dat2))"
   ]
  },
  {
   "cell_type": "code",
   "execution_count": 20,
   "metadata": {},
   "outputs": [],
   "source": [
    "# Norm Neuron"
   ]
  },
  {
   "cell_type": "code",
   "execution_count": 33,
   "metadata": {},
   "outputs": [],
   "source": [
    "cell_comp = pd.read_csv(\"../dat/cell_composition/Cell_Atlas_for_the_Mouse_brain_2.csv\", index_col=\"Regions\")\n",
    "STRs = cell_comp.index.values\n",
    "STRs = [modify_str(x) for x in STRs]\n",
    "cell_comp.index = STRs\n",
    "STRs = [x.strip() for x in open(\"/Users/jiayao/Work/ASD_Circuits/dat/allen-mouse-exp/Structures.txt\", 'rt')]\n",
    "STR_cell_comp = cell_comp[cell_comp.index.isin(STRs)]"
   ]
  },
  {
   "cell_type": "code",
   "execution_count": 34,
   "metadata": {},
   "outputs": [],
   "source": [
    "# Norm\n",
    "df = Jon_ExpMat.copy(deep=True)\n",
    "for c in df.columns.values:\n",
    "    neuro_count = cell_comp.loc[c, \"Neurons [mm-3]\"]\n",
    "    df[c] = (df[c]/neuro_count) * (10**5)"
   ]
  },
  {
   "cell_type": "code",
   "execution_count": 35,
   "metadata": {},
   "outputs": [],
   "source": [
    "# Log\n",
    "for c in df.columns.values:\n",
    "    df[c] = np.log2(1+df[c])"
   ]
  },
  {
   "cell_type": "code",
   "execution_count": 36,
   "metadata": {},
   "outputs": [],
   "source": [
    "# QUNTILE\n",
    "df = quantileNormalize(df)"
   ]
  },
  {
   "cell_type": "code",
   "execution_count": 37,
   "metadata": {},
   "outputs": [
    {
     "name": "stdout",
     "output_type": "stream",
     "text": [
      "(0.9674530944770965, 0.0)\n"
     ]
    }
   ],
   "source": [
    "dat1 = df[\"Anterior_amygdalar_area\"].values\n",
    "dat2 = Jon_ExpMatNorm[\"Anterior_amygdalar_area\"].values\n",
    "print(rm_nan_and_pearsonr(dat1, dat2))"
   ]
  },
  {
   "cell_type": "code",
   "execution_count": 38,
   "metadata": {},
   "outputs": [
    {
     "name": "stdout",
     "output_type": "stream",
     "text": [
      "(0.9675096104052767, 0.0)\n"
     ]
    }
   ],
   "source": [
    "STR = \"Nucleus_accumbens\"\n",
    "dat1 = df[STR].values\n",
    "dat2 = Jon_ExpMatNorm[STR].values\n",
    "print(rm_nan_and_pearsonr(dat1, dat2))"
   ]
  },
  {
   "cell_type": "code",
   "execution_count": 40,
   "metadata": {},
   "outputs": [],
   "source": [
    "df_z = []\n",
    "df = Jon_ExpMat.copy(deep=True)\n",
    "for i in df.index.values :\n",
    "    i_z = ZscoreConverting(df.loc[i,:].values)\n",
    "    df_z.append(i_z)\n",
    "df_z = pd.DataFrame(data=df_z, columns=df.columns.values, index=df.index.values)"
   ]
  },
  {
   "cell_type": "code",
   "execution_count": 41,
   "metadata": {},
   "outputs": [],
   "source": [
    "Aggregate = pd.read_csv(\"../dat/genes/asd/DenovoWEST_TADA.txt\", delimiter=\"\\t\")\n",
    "Aggregate['pDenovoWEST'] = pd.to_numeric(Aggregate[\"pDenovoWEST\"], errors='coerce')\n",
    "Agg_gene2None, Agg_gene2MutN = Aggregate_Gene_Weights(Aggregate, out = \"dat/bias2/meta.gene.weights.csv\")"
   ]
  },
  {
   "cell_type": "code",
   "execution_count": 64,
   "metadata": {},
   "outputs": [
    {
     "name": "stdout",
     "output_type": "stream",
     "text": [
      "Isocortex \t 19 \t Prelimbic_area; Orbital_area_lateral_part; Infralimbic_area; Orbital_area_ventrolateral_part; Primary_visual_area; Anterior_cingulate_area_dorsal_part; Primary_somatosensory_area_lower_limb; Anteromedial_visual_area; Orbital_area_medial_part; Primary_motor_area; Retrosplenial_area_lateral_agranular_part; Visceral_area; Gustatory_areas; Secondary_motor_area; Agranular_insular_area_ventral_part; Anterior_cingulate_area_ventral_part; Posterior_parietal_association_areas; Primary_somatosensory_area_trunk; Lateral_visual_area\n",
      "Hippocampal_region \t 4 \t Dentate_gyrus; Field_CA1; Field_CA2; Field_CA3\n",
      "Olfactory_areas \t 3 \t Dorsal_peduncular_area; Anterior_olfactory_nucleus; Accessory_olfactory_bulb\n",
      "Pallidum \t 1 \t Bed_nuclei_of_the_stria_terminalis\n",
      "Thalamus \t 5 \t Lateral_posterior_nucleus_of_the_thalamus; Parafascicular_nucleus; Nucleus_of_reuniens; Mediodorsal_nucleus_of_thalamus; Submedial_nucleus_of_the_thalamus\n",
      "Midbrain \t 1 \t Anterior_pretectal_nucleus\n",
      "Striatum \t 7 \t Nucleus_accumbens; Intercalated_amygdalar_nucleus; Caudoputamen; Lateral_septal_nucleus_ventral_part; Central_amygdalar_nucleus; Lateral_septal_nucleus_rostral_rostroventral_part; Lateral_septal_nucleus_caudal_caudodorsal_part\n",
      "Cortical_subplate \t 6 \t Claustrum; Lateral_amygdalar_nucleus; Basomedial_amygdalar_nucleus; Endopiriform_nucleus_dorsal_part; Endopiriform_nucleus_ventral_part; Basolateral_amygdalar_nucleus\n",
      "Hippocampal_formation \t 4 \t Subiculum_ventral_part; Subiculum_dorsal_part; Parasubiculum; Presubiculum\n"
     ]
    }
   ],
   "source": [
    "Agg_Match = MakeMatchDF(Agg_gene2MutN, N=1000)\n",
    "ASD_Meta_Spec = AvgSTRZ_Weighted(df_z, Agg_gene2MutN, Match_DF=Agg_Match, Method = 2,\n",
    "                                              csv_fil = \"dat/bias/ASD.Meta.Spec.bias.diff.csv\")\n",
    "RD_Agg_avgZ_RD = RegionDistributions(ASD_Meta_Spec.set_index(\"STR\"), show=True)"
   ]
  },
  {
   "cell_type": "code",
   "execution_count": 65,
   "metadata": {},
   "outputs": [
    {
     "data": {
      "text/html": [
       "<div>\n",
       "<style scoped>\n",
       "    .dataframe tbody tr th:only-of-type {\n",
       "        vertical-align: middle;\n",
       "    }\n",
       "\n",
       "    .dataframe tbody tr th {\n",
       "        vertical-align: top;\n",
       "    }\n",
       "\n",
       "    .dataframe thead th {\n",
       "        text-align: right;\n",
       "    }\n",
       "</style>\n",
       "<table border=\"1\" class=\"dataframe\">\n",
       "  <thead>\n",
       "    <tr style=\"text-align: right;\">\n",
       "      <th></th>\n",
       "      <th>EFFECT</th>\n",
       "      <th>Rank</th>\n",
       "      <th>NGene</th>\n",
       "    </tr>\n",
       "    <tr>\n",
       "      <th>STR</th>\n",
       "      <th></th>\n",
       "      <th></th>\n",
       "      <th></th>\n",
       "    </tr>\n",
       "  </thead>\n",
       "  <tbody>\n",
       "    <tr>\n",
       "      <th>Dentate_gyrus</th>\n",
       "      <td>0.511273</td>\n",
       "      <td>1</td>\n",
       "      <td>95</td>\n",
       "    </tr>\n",
       "    <tr>\n",
       "      <th>Prelimbic_area</th>\n",
       "      <td>0.463267</td>\n",
       "      <td>2</td>\n",
       "      <td>95</td>\n",
       "    </tr>\n",
       "  </tbody>\n",
       "</table>\n",
       "</div>"
      ],
      "text/plain": [
       "                  EFFECT  Rank  NGene\n",
       "STR                                  \n",
       "Dentate_gyrus   0.511273     1     95\n",
       "Prelimbic_area  0.463267     2     95"
      ]
     },
     "execution_count": 65,
     "metadata": {},
     "output_type": "execute_result"
    }
   ],
   "source": [
    "ASD_Meta_Spec = ASD_Meta_Spec.set_index(\"STR\")\n",
    "meta_jon = pd.read_csv(\"dat/Jon_data/exp_bias-match-specific.csv\")\n",
    "meta_jon.columns = [\"STR\", \"EFFECT\", \"Rank\", \"NGene\"]\n",
    "meta_jon = meta_jon.set_index(\"STR\")\n",
    "meta_jon.head(2)"
   ]
  },
  {
   "cell_type": "code",
   "execution_count": 66,
   "metadata": {},
   "outputs": [],
   "source": [
    "jon50 = set(meta_jon.head(50).index.values)\n",
    "jw50 = set(ASD_Meta_Spec.head(50).index.values)"
   ]
  },
  {
   "cell_type": "code",
   "execution_count": 67,
   "metadata": {},
   "outputs": [
    {
     "data": {
      "text/html": [
       "<div>\n",
       "<style scoped>\n",
       "    .dataframe tbody tr th:only-of-type {\n",
       "        vertical-align: middle;\n",
       "    }\n",
       "\n",
       "    .dataframe tbody tr th {\n",
       "        vertical-align: top;\n",
       "    }\n",
       "\n",
       "    .dataframe thead th {\n",
       "        text-align: right;\n",
       "    }\n",
       "</style>\n",
       "<table border=\"1\" class=\"dataframe\">\n",
       "  <thead>\n",
       "    <tr style=\"text-align: right;\">\n",
       "      <th></th>\n",
       "      <th>EFFECT</th>\n",
       "      <th>REGION</th>\n",
       "      <th>Rank</th>\n",
       "    </tr>\n",
       "    <tr>\n",
       "      <th>STR</th>\n",
       "      <th></th>\n",
       "      <th></th>\n",
       "      <th></th>\n",
       "    </tr>\n",
       "  </thead>\n",
       "  <tbody>\n",
       "    <tr>\n",
       "      <th>Dentate_gyrus</th>\n",
       "      <td>0.528232</td>\n",
       "      <td>Hippocampal_region</td>\n",
       "      <td>1</td>\n",
       "    </tr>\n",
       "    <tr>\n",
       "      <th>Prelimbic_area</th>\n",
       "      <td>0.464738</td>\n",
       "      <td>Isocortex</td>\n",
       "      <td>2</td>\n",
       "    </tr>\n",
       "    <tr>\n",
       "      <th>Field_CA1</th>\n",
       "      <td>0.453302</td>\n",
       "      <td>Hippocampal_region</td>\n",
       "      <td>3</td>\n",
       "    </tr>\n",
       "    <tr>\n",
       "      <th>Orbital_area_lateral_part</th>\n",
       "      <td>0.443268</td>\n",
       "      <td>Isocortex</td>\n",
       "      <td>4</td>\n",
       "    </tr>\n",
       "    <tr>\n",
       "      <th>Infralimbic_area</th>\n",
       "      <td>0.433055</td>\n",
       "      <td>Isocortex</td>\n",
       "      <td>5</td>\n",
       "    </tr>\n",
       "    <tr>\n",
       "      <th>...</th>\n",
       "      <td>...</td>\n",
       "      <td>...</td>\n",
       "      <td>...</td>\n",
       "    </tr>\n",
       "    <tr>\n",
       "      <th>Nucleus_prepositus</th>\n",
       "      <td>-0.468327</td>\n",
       "      <td>Medulla</td>\n",
       "      <td>196</td>\n",
       "    </tr>\n",
       "    <tr>\n",
       "      <th>Tegmental_reticular_nucleus</th>\n",
       "      <td>-0.477183</td>\n",
       "      <td>Pons</td>\n",
       "      <td>197</td>\n",
       "    </tr>\n",
       "    <tr>\n",
       "      <th>Lateral_reticular_nucleus</th>\n",
       "      <td>-0.479135</td>\n",
       "      <td>Medulla</td>\n",
       "      <td>198</td>\n",
       "    </tr>\n",
       "    <tr>\n",
       "      <th>Motor_nucleus_of_trigeminal</th>\n",
       "      <td>-0.490002</td>\n",
       "      <td>Pons</td>\n",
       "      <td>199</td>\n",
       "    </tr>\n",
       "    <tr>\n",
       "      <th>Pontine_reticular_nucleus</th>\n",
       "      <td>-0.521048</td>\n",
       "      <td>Pons</td>\n",
       "      <td>200</td>\n",
       "    </tr>\n",
       "  </tbody>\n",
       "</table>\n",
       "<p>200 rows × 3 columns</p>\n",
       "</div>"
      ],
      "text/plain": [
       "                               EFFECT              REGION  Rank\n",
       "STR                                                            \n",
       "Dentate_gyrus                0.528232  Hippocampal_region     1\n",
       "Prelimbic_area               0.464738           Isocortex     2\n",
       "Field_CA1                    0.453302  Hippocampal_region     3\n",
       "Orbital_area_lateral_part    0.443268           Isocortex     4\n",
       "Infralimbic_area             0.433055           Isocortex     5\n",
       "...                               ...                 ...   ...\n",
       "Nucleus_prepositus          -0.468327             Medulla   196\n",
       "Tegmental_reticular_nucleus -0.477183                Pons   197\n",
       "Lateral_reticular_nucleus   -0.479135             Medulla   198\n",
       "Motor_nucleus_of_trigeminal -0.490002                Pons   199\n",
       "Pontine_reticular_nucleus   -0.521048                Pons   200\n",
       "\n",
       "[200 rows x 3 columns]"
      ]
     },
     "execution_count": 67,
     "metadata": {},
     "output_type": "execute_result"
    }
   ],
   "source": [
    "ASD_Meta_Spec.head(200)"
   ]
  },
  {
   "cell_type": "code",
   "execution_count": 68,
   "metadata": {},
   "outputs": [
    {
     "name": "stdout",
     "output_type": "stream",
     "text": [
      "49\n"
     ]
    }
   ],
   "source": [
    "print(len(jon50.intersection(jw50)))"
   ]
  },
  {
   "cell_type": "code",
   "execution_count": 69,
   "metadata": {},
   "outputs": [
    {
     "data": {
      "text/plain": [
       "(0.9985797297698765, 1.099386750125291e-270)"
      ]
     },
     "execution_count": 69,
     "metadata": {},
     "output_type": "execute_result"
    },
    {
     "data": {
      "image/png": "[encoded data removed]",
      "text/plain": [
       "<Figure size 480x320 with 1 Axes>"
      ]
     },
     "metadata": {
      "needs_background": "light"
     },
     "output_type": "display_data"
    }
   ],
   "source": [
    "dat1 = []\n",
    "dat2 = []\n",
    "for i, row in meta_jon.iterrows():\n",
    "    dat1.append(row[\"EFFECT\"])\n",
    "    dat2.append(ASD_Meta_Spec.loc[i, \"EFFECT\"])\n",
    "plt.scatter(dat1, dat2)\n",
    "pearsonr(dat1, dat2)"
   ]
  },
  {
   "cell_type": "code",
   "execution_count": 70,
   "metadata": {},
   "outputs": [],
   "source": [
    "df_z.to_csv(\"../dat/allen-mouse-exp/energy-zscore-conn-model.0524.csv\")"
   ]
  },
  {
   "cell_type": "code",
   "execution_count": null,
   "metadata": {},
   "outputs": [],
   "source": []
  }
 ],
 "metadata": {
  "kernelspec": {
   "display_name": "Python 3",
   "language": "python",
   "name": "python3"
  },
  "language_info": {
   "codemirror_mode": {
    "name": "ipython",
    "version": 3
   },
   "file_extension": ".py",
   "mimetype": "text/x-python",
   "name": "python",
   "nbconvert_exporter": "python",
   "pygments_lexer": "ipython3",
   "version": "3.7.1"
  }
 },
 "nbformat": 4,
 "nbformat_minor": 2
}
