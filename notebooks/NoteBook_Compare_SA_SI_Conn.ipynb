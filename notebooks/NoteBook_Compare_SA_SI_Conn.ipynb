{
 "cells": [
  {
   "cell_type": "code",
   "execution_count": 2,
   "id": "72e49c55",
   "metadata": {},
   "outputs": [
    {
     "name": "stderr",
     "output_type": "stream",
     "text": [
      "/home/jw3514/anaconda3/lib/python3.9/site-packages/statsmodels/compat/pandas.py:61: FutureWarning: pandas.Int64Index is deprecated and will be removed from pandas in a future version. Use pandas.Index with the appropriate dtype instead.\n",
      "  from pandas import Int64Index as NumericIndex\n"
     ]
    }
   ],
   "source": [
    "%load_ext autoreload\n",
    "%autoreload 2\n",
    "import sys\n",
    "sys.path.insert(1, '/home/jw3514/Work/ASD_Circuits/src')\n",
    "from ASD_Circuits import *\n",
    "from tabulate import tabulate\n",
    "import csv"
   ]
  },
  {
   "cell_type": "code",
   "execution_count": 3,
   "id": "c068f459",
   "metadata": {},
   "outputs": [],
   "source": [
    "def searchFil(text, DIR):\n",
    "    RES = []\n",
    "    for file in os.listdir(DIR):\n",
    "        if text in file:\n",
    "            RES.append(file)\n",
    "    return RES\n",
    "\n",
    "def LoadSA2(fname, DIR, topL=50):\n",
    "    fin = open(DIR+fname, 'rt')\n",
    "    max_cohe, max_bias, max_STRs = 0, 0, []\n",
    "    for i, l in enumerate(fin):\n",
    "        if i > topL:\n",
    "            break\n",
    "        l = l.strip().split()\n",
    "        cohe = float(l[0])\n",
    "        bias = float(l[1])\n",
    "        STRs = l[2].split(\",\")\n",
    "        if cohe > max_cohe:\n",
    "            max_cohe = cohe\n",
    "            max_bias = bias\n",
    "            max_STRs = STRs\n",
    "    return max_cohe, max_bias, max_STRs"
   ]
  },
  {
   "cell_type": "code",
   "execution_count": 4,
   "id": "8c18909a",
   "metadata": {},
   "outputs": [],
   "source": [
    "InfoMat = pd.read_csv(\"../dat/allen-mouse-conn/ScoreingMat_jw_v3/InfoMat.Ipsi.csv\", index_col=0)\n",
    "adj_mat = pd.read_csv(\"../dat/allen-mouse-conn/ScoreingMat_jw_v3/WeightMat.Ipsi.csv\", index_col=0)"
   ]
  },
  {
   "cell_type": "code",
   "execution_count": 5,
   "id": "b70bd404",
   "metadata": {},
   "outputs": [],
   "source": [
    "size = 46\n",
    "#biaslim_df = pd.read_csv(biaslim_dir + \"biaslim.size.{}.txt\".format(size), names=[\"size\", \"bias\"])\n",
    "ASD_DIR_SI = \"/home/jw3514/Work/ASD_Circuits/dat/Circuits/SA/ASD_Pareto_Dec14_Info/\"\n",
    "ASD_DIR_Conn = \"/home/jw3514/Work/ASD_Circuits/dat/Circuits/SA/ASD_Pareto_Dec14_Conn/\"\n",
    "ASD_BiasDF = pd.read_csv(\"../dat/Unionize_bias/Spark_Meta_EWS.Z2.bias.csv\", index_col=\"STR\")\n",
    "biaslim_df = pd.read_csv(\n",
    "    \"../dat/Circuits/SA/biaslims2/biaslim.size.46.top17.txt\", names=[\"size\", \"bias\"])\n",
    "biaslim_df = biaslim_df.sort_values(\"bias\", ascending=False)"
   ]
  },
  {
   "cell_type": "code",
   "execution_count": 13,
   "id": "e4932cc0",
   "metadata": {},
   "outputs": [
    {
     "data": {
      "text/plain": [
       "55"
      ]
     },
     "execution_count": 13,
     "metadata": {},
     "output_type": "execute_result"
    }
   ],
   "source": [
    "f = open(\"ASD.SA.Circuits.Size46.csv\", 'wt')\n",
    "writer = csv.writer(f) \n",
    "writer.writerow([\"idx\", \"Bias\", \"SI_score\", \"Conn_score\", \"gain STRs\", \"lost STRs\", \"STRs\"])"
   ]
  },
  {
   "cell_type": "code",
   "execution_count": 14,
   "id": "4f2d54e1",
   "metadata": {},
   "outputs": [
    {
     "name": "stdout",
     "output_type": "stream",
     "text": [
      "0.504659027153166 0.12098298676748583\n",
      "Isocortex\t18\tOrbital_area_lateral_part; Prelimbic_area; Primary_somatosensory_area_lower_limb; Orbital_area_ventrolateral_part; Infralimbic_area; Anteromedial_visual_area; Retrosplenial_area_lateral_agranular_part; Primary_visual_area; Primary_motor_area; Secondary_motor_area; Visceral_area; Anterior_cingulate_area_dorsal_part; Posterior_parietal_association_areas; Lateral_visual_area; Agranular_insular_area_posterior_part; Primary_somatosensory_area_trunk; Gustatory_areas; Agranular_insular_area_ventral_part\n",
      "Hippocampus\t6\tDentate_gyrus; Field_CA2; Subiculum_ventral_part; Field_CA1; Field_CA3; Parasubiculum\n",
      "Cortical_subplate\t3\tClaustrum; Endopiriform_nucleus_dorsal_part; Endopiriform_nucleus_ventral_part\n",
      "Pallidum\t1\tBed_nuclei_of_the_stria_terminalis\n",
      "Midbrain\t1\tAnterior_pretectal_nucleus\n",
      "Striatum\t4\tNucleus_accumbens; Caudoputamen; Lateral_septal_nucleus_ventral_part; Lateral_septal_nucleus_rostral_rostroventral_part\n",
      "Olfactory_areas\t2\tAnterior_olfactory_nucleus; Dorsal_peduncular_area\n",
      "Thalamus\t8\tParafascicular_nucleus; Nucleus_of_reuniens; Lateral_posterior_nucleus_of_the_thalamus; Rhomboid_nucleus; Submedial_nucleus_of_the_thalamus; Parataenial_nucleus; Subparafascicular_nucleus_magnocellular_part; Mediodorsal_nucleus_of_thalamus\n",
      "Amygdalar\t3\tLateral_amygdalar_nucleus; Basomedial_amygdalar_nucleus; Intercalated_amygdalar_nucleus\n",
      "\n"
     ]
    },
    {
     "data": {
      "text/plain": [
       "1254"
      ]
     },
     "execution_count": 14,
     "metadata": {},
     "output_type": "execute_result"
    }
   ],
   "source": [
    "idx = 0\n",
    "top_STRs = ASD_BiasDF.head(size).index.values\n",
    "scoreSI = ScoreCircuit_SI_Joint(top_STRs, InfoMat)\n",
    "scoreCO = ScoreCircuit_NEdges(top_STRs, adj_mat)\n",
    "print(scoreSI, scoreCO)\n",
    "print(RegionDistributionsList(top_STRs))\n",
    "writer.writerow([idx, ASD_BiasDF.loc[top_STRs, \"EFFECT\"].mean(), scoreSI, scoreCO, \n",
    "                \"\", \"\", \";\".join(top_STRs)])\n"
   ]
  },
  {
   "cell_type": "code",
   "execution_count": 15,
   "id": "ef214fa4",
   "metadata": {},
   "outputs": [
    {
     "name": "stdout",
     "output_type": "stream",
     "text": [
      "0.38 0.38 0.56 3\n",
      "add ['Orbital_area_medial_part', 'Subiculum_dorsal_part', 'Supplemental_somatosensory_area']\n",
      "drop ['Subparafascicular_nucleus_magnocellular_part', 'Endopiriform_nucleus_ventral_part', 'Intercalated_amygdalar_nucleus']\n",
      "\n",
      "0.375 0.375 0.649 5\n",
      "add ['Basolateral_amygdalar_nucleus', 'Entorhinal_area_lateral_part', 'Piriform_area']\n",
      "drop ['Parasubiculum', 'Supplemental_somatosensory_area', 'Gustatory_areas']\n",
      "\n",
      "0.37 0.37 0.701 7\n",
      "add ['Anterior_cingulate_area_ventral_part', 'Anteromedial_nucleus_dorsal_part', 'Gustatory_areas']\n",
      "drop ['Field_CA3', 'Visceral_area', 'Lateral_septal_nucleus_ventral_part']\n",
      "\n",
      "0.365 0.365 0.729 8\n",
      "add ['Field_CA3', 'Taenia_tecta']\n",
      "drop ['Dentate_gyrus', 'Field_CA1']\n",
      "\n",
      "0.36 0.36 0.762 10\n",
      "add ['Primary_somatosensory_area_barrel_field', 'Supplemental_somatosensory_area', 'Ventral_medial_nucleus_of_the_thalamus']\n",
      "drop ['Field_CA3', 'Taenia_tecta', 'Field_CA2']\n",
      "\n",
      "0.355 0.355 0.791 12\n",
      "add ['Taenia_tecta', 'Frontal_pole_cerebral_cortex']\n",
      "drop ['Agranular_insular_area_posterior_part', 'Basomedial_amygdalar_nucleus']\n",
      "\n",
      "0.35 0.35 0.809 13\n",
      "add ['Posterior_complex_of_the_thalamus']\n",
      "drop ['Lateral_amygdalar_nucleus']\n",
      "\n",
      "0.345 0.345 0.821 15\n",
      "add ['Central_lateral_nucleus_of_the_thalamus', 'Anterolateral_visual_area']\n",
      "drop ['Lateral_septal_nucleus_rostral_rostroventral_part', 'Bed_nuclei_of_the_stria_terminalis']\n",
      "\n",
      "0.34 0.34 0.836 14\n",
      "add ['Agranular_insular_area_dorsal_part', 'Agranular_insular_area_posterior_part', 'Temporal_association_areas', 'Subparafascicular_nucleus_magnocellular_part', 'Intermediodorsal_nucleus_of_the_thalamus', 'Bed_nuclei_of_the_stria_terminalis']\n",
      "drop ['Taenia_tecta', 'Central_lateral_nucleus_of_the_thalamus', 'Anterolateral_visual_area', 'Anterior_olfactory_nucleus', 'Endopiriform_nucleus_dorsal_part', 'Piriform_area']\n",
      "\n",
      "0.335 0.335 0.845 16\n",
      "add ['Subparafascicular_area', 'Anterolateral_visual_area']\n",
      "drop ['Subparafascicular_nucleus_magnocellular_part', 'Dorsal_peduncular_area']\n",
      "\n",
      "0.33 0.33 0.856 16\n",
      "add ['Taenia_tecta', 'Dorsal_peduncular_area', 'Lateral_hypothalamic_area', 'Anteromedial_nucleus_ventral_part', 'Piriform_area', 'Subparafascicular_nucleus_magnocellular_part', 'Lateral_septal_nucleus_rostral_rostroventral_part', 'Substantia_innominata']\n",
      "drop ['Anterior_cingulate_area_ventral_part', 'Lateral_posterior_nucleus_of_the_thalamus', 'Temporal_association_areas', 'Lateral_visual_area', 'Subparafascicular_area', 'Posterior_complex_of_the_thalamus', 'Anterolateral_visual_area', 'Retrosplenial_area_lateral_agranular_part']\n",
      "\n",
      "0.325 0.325 0.866 18\n",
      "add ['Anterior_cingulate_area_ventral_part', 'Central_lateral_nucleus_of_the_thalamus', 'Posterior_complex_of_the_thalamus', 'Subparafascicular_area']\n",
      "drop ['Taenia_tecta', 'Dorsal_peduncular_area', 'Piriform_area', 'Lateral_septal_nucleus_rostral_rostroventral_part']\n",
      "\n",
      "0.32 0.32 0.873 18\n",
      "add ['Superior_central_nucleus_raphe', 'Temporal_association_areas']\n",
      "drop ['Anterior_cingulate_area_ventral_part', 'Substantia_innominata']\n",
      "\n",
      "0.315 0.316 0.88 19\n",
      "add ['Anterior_cingulate_area_ventral_part', 'Substantia_innominata']\n",
      "drop ['Parafascicular_nucleus', 'Central_lateral_nucleus_of_the_thalamus']\n",
      "\n",
      "0.31 0.31 0.886 20\n",
      "add ['Taenia_tecta', 'Dorsal_peduncular_area', 'Piriform_area', 'Lateral_septal_nucleus_rostral_rostroventral_part', 'Lateral_preoptic_area']\n",
      "drop ['Anterior_pretectal_nucleus', 'Anterior_cingulate_area_ventral_part', 'Primary_visual_area', 'Subparafascicular_nucleus_magnocellular_part', 'Posterior_complex_of_the_thalamus']\n",
      "\n",
      "0.305 0.305 0.887 21\n",
      "add ['Anterolateral_visual_area', 'Anterior_pretectal_nucleus', 'Nucleus_of_the_optic_tract', 'Lateral_posterior_nucleus_of_the_thalamus', 'Lateral_visual_area', 'Dorsal_auditory_area', 'Primary_visual_area', 'Posterior_complex_of_the_thalamus', 'Subparafascicular_nucleus_parvicellular_part', 'Nucleus_of_the_posterior_commissure']\n",
      "drop ['Taenia_tecta', 'Lateral_septal_nucleus_rostral_rostroventral_part', 'Bed_nuclei_of_the_stria_terminalis', 'Parataenial_nucleus', 'Subiculum_ventral_part', 'Dorsal_peduncular_area', 'Anteromedial_nucleus_ventral_part', 'Piriform_area', 'Lateral_preoptic_area', 'Substantia_innominata']\n",
      "\n",
      "0.3 0.3 0.893 22\n",
      "add ['Anterior_cingulate_area_ventral_part', 'Central_lateral_nucleus_of_the_thalamus']\n",
      "drop ['Subiculum_dorsal_part', 'Nucleus_accumbens']\n"
     ]
    }
   ],
   "source": [
    "cc = 0\n",
    "PrevSet = set(top_STRs)\n",
    "for i, row in biaslim_df.iterrows():\n",
    "    #print(row[\"fname\"], DIR)\n",
    "    idx += 1\n",
    "    fil = searchFil(\"keepN_{}-minbias_{}.txt\".format(size, row[\"bias\"]), ASD_DIR_SI)[0]\n",
    "    cohe, real_minbias, STRs = LoadSA2(fil, ASD_DIR_SI)\n",
    "    score = ScoreCircuit_SI_Joint(STRs, InfoMat)\n",
    "    score2 = ScoreCircuit_NEdges(STRs, adj_mat)\n",
    "    add_strs = list(set(STRs).difference(PrevSet))\n",
    "    lost_strs = list(set(PrevSet).difference(STRs))\n",
    "    print(row[\"bias\"], round(real_minbias, 3), round(score, 3),\n",
    "          len(set(STRs).difference(top_STRs)))\n",
    "    print(\"add\", add_strs)\n",
    "    print(\"drop\", lost_strs)\n",
    "    PrevSet = set(STRs)\n",
    "    cc += 1\n",
    "    if cc > 16:\n",
    "        break\n",
    "        \n",
    "    if row[\"bias\"] == 0.37:\n",
    "        List2Fil(STRs, \"Circuits.Info.Size46.Bias0.37.txt\")\n",
    "    if row[\"bias\"] == 0.36:\n",
    "        List2Fil(STRs, \"Circuits.Info.Size46.Bias0.36.txt\")\n",
    "    \n",
    "    writer.writerow([idx, real_minbias, score, score2, \n",
    "                \";\".join(add_strs), \";\".join(lost_strs), \";\".join(STRs)])\n",
    "    print()\n",
    "f.close()"
   ]
  },
  {
   "cell_type": "code",
   "execution_count": 23,
   "id": "1d2f1039",
   "metadata": {},
   "outputs": [
    {
     "name": "stdout",
     "output_type": "stream",
     "text": [
      "0.38 0.38 0.138 3\n",
      "add {'Subiculum_dorsal_part', 'Piriform_area', 'Orbital_area_medial_part'}\n",
      "drop {'Subparafascicular_nucleus_magnocellular_part', 'Intercalated_amygdalar_nucleus', 'Endopiriform_nucleus_ventral_part'}\n",
      "\n",
      "0.375 0.375 0.159 5\n",
      "add {'Supplemental_somatosensory_area', 'Entorhinal_area_lateral_part'}\n",
      "drop {'Lateral_septal_nucleus_ventral_part', 'Parasubiculum'}\n",
      "\n",
      "0.37 0.37 0.171 7\n",
      "add {'Anteromedial_nucleus_dorsal_part', 'Basolateral_amygdalar_nucleus'}\n",
      "drop {'Field_CA1', 'Visceral_area'}\n",
      "\n",
      "0.365 0.365 0.179 9\n",
      "add {'Primary_somatosensory_area_barrel_field', 'Frontal_pole_cerebral_cortex', 'Anterolateral_visual_area'}\n",
      "drop {'Lateral_septal_nucleus_rostral_rostroventral_part', 'Basomedial_amygdalar_nucleus', 'Anteromedial_nucleus_dorsal_part'}\n",
      "\n",
      "0.36 0.36 0.186 10\n",
      "add {'Basomedial_amygdalar_nucleus', 'Taenia_tecta', 'Lateral_septal_nucleus_rostral_rostroventral_part', 'Anterior_cingulate_area_ventral_part'}\n",
      "drop {'Dentate_gyrus', 'Field_CA3', 'Field_CA2', 'Anterolateral_visual_area'}\n",
      "\n",
      "0.355 0.355 0.194 12\n",
      "add {'Anteromedial_nucleus_dorsal_part', 'Ventral_medial_nucleus_of_the_thalamus', 'Anterolateral_visual_area'}\n",
      "drop {'Lateral_septal_nucleus_rostral_rostroventral_part', 'Basomedial_amygdalar_nucleus', 'Taenia_tecta'}\n",
      "\n",
      "0.35 0.35 0.199 13\n",
      "add {'Taenia_tecta'}\n",
      "drop {'Lateral_amygdalar_nucleus'}\n",
      "\n",
      "0.345 0.345 0.202 14\n",
      "add {'Agranular_insular_area_dorsal_part'}\n",
      "drop {'Anterior_olfactory_nucleus'}\n",
      "\n",
      "0.34 0.34 0.207 15\n",
      "add {'Dorsal_auditory_area', 'Temporal_association_areas', 'Lateral_amygdalar_nucleus'}\n",
      "drop {'Dorsal_peduncular_area', 'Parafascicular_nucleus', 'Taenia_tecta'}\n",
      "\n",
      "0.335 0.335 0.21 17\n",
      "add {'Posterior_complex_of_the_thalamus', 'Primary_somatosensory_area_upper_limb', 'Anterior_olfactory_nucleus', 'Parafascicular_nucleus', 'Dorsal_peduncular_area', 'Taenia_tecta'}\n",
      "drop {'Agranular_insular_area_posterior_part', 'Bed_nuclei_of_the_stria_terminalis', 'Parataenial_nucleus', 'Retrosplenial_area_lateral_agranular_part', 'Lateral_amygdalar_nucleus', 'Anterior_cingulate_area_ventral_part'}\n",
      "\n",
      "0.33 0.331 0.214 18\n",
      "add {'Agranular_insular_area_posterior_part', 'Central_lateral_nucleus_of_the_thalamus', 'Retrosplenial_area_lateral_agranular_part', 'Nucleus_of_the_optic_tract', 'Anterior_cingulate_area_ventral_part'}\n",
      "drop {'Anterior_olfactory_nucleus', 'Endopiriform_nucleus_dorsal_part', 'Subiculum_dorsal_part', 'Dorsal_peduncular_area', 'Taenia_tecta'}\n",
      "\n",
      "0.325 0.325 0.216 19\n",
      "add {'Subiculum_dorsal_part', 'Taenia_tecta'}\n",
      "drop {'Central_lateral_nucleus_of_the_thalamus', 'Parafascicular_nucleus'}\n",
      "\n",
      "0.32 0.32 0.218 18\n",
      "add {'Bed_nuclei_of_the_stria_terminalis', 'Intermediodorsal_nucleus_of_the_thalamus', 'Parataenial_nucleus', 'Lateral_hypothalamic_area', 'Substantia_innominata'}\n",
      "drop {'Primary_somatosensory_area_upper_limb', 'Piriform_area', 'Retrosplenial_area_lateral_agranular_part', 'Taenia_tecta', 'Anterior_cingulate_area_ventral_part'}\n",
      "\n",
      "0.315 0.316 0.22 20\n",
      "add {'Primary_somatosensory_area_upper_limb', 'Anteromedial_nucleus_ventral_part', 'Nucleus_of_the_posterior_commissure'}\n",
      "drop {'Bed_nuclei_of_the_stria_terminalis', 'Parataenial_nucleus', 'Substantia_innominata'}\n",
      "\n",
      "0.31 0.31 0.222 22\n",
      "add {'Central_lateral_nucleus_of_the_thalamus', 'Piriform_area', 'Substantia_innominata', 'Taenia_tecta'}\n",
      "drop {'Subiculum_ventral_part', 'Nucleus_of_reuniens', 'Anteromedial_nucleus_ventral_part', 'Nucleus_of_the_posterior_commissure'}\n",
      "\n",
      "0.305 0.305 0.223 22\n",
      "add {'Subparafascicular_area', 'Subparafascicular_nucleus_parvicellular_part', 'Anterior_cingulate_area_ventral_part'}\n",
      "drop {'Piriform_area', 'Substantia_innominata', 'Taenia_tecta'}\n",
      "\n",
      "0.3 0.3 0.224 23\n",
      "add {'Piriform_area', 'Anteromedial_nucleus_ventral_part', 'Nucleus_of_the_posterior_commissure'}\n",
      "drop {'Nucleus_accumbens', 'Subparafascicular_area', 'Subiculum_dorsal_part'}\n"
     ]
    }
   ],
   "source": [
    "cc = 0\n",
    "PrevSet = set(top_STRs)\n",
    "for i, row in biaslim_df.iterrows():\n",
    "    #print(row[\"fname\"], DIR)\n",
    "\n",
    "    fil = searchFil(\"keepN_{}-minbias_{}.txt\".format(size, row[\"bias\"]), ASD_DIR_Conn)[0]\n",
    "    cohe, real_minbias, STRs = LoadSA2(fil, ASD_DIR_Conn)\n",
    "    score = ScoreCircuit_NEdges(STRs, adj_mat)\n",
    "    print(row[\"bias\"], round(real_minbias, 3), round(score, 3),\n",
    "          len(set(STRs).difference(top_STRs)))\n",
    "    print(\"add\", set(STRs).difference(PrevSet))\n",
    "    print(\"drop\", set(PrevSet).difference(STRs))\n",
    "    PrevSet = set(STRs)\n",
    "    cc += 1\n",
    "    if cc > 16:\n",
    "        break\n",
    "        \n",
    "    if row[\"bias\"] == 0.37:\n",
    "        List2Fil(STRs, \"Circuits.Info.Size46.Bias0.37.txt\")\n",
    "    if row[\"bias\"] == 0.36:\n",
    "        List2Fil(STRs, \"Circuits.Info.Size46.Bias0.36.txt\")\n",
    "        \n",
    "    print()"
   ]
  },
  {
   "cell_type": "code",
   "execution_count": null,
   "id": "f14c1a9c",
   "metadata": {},
   "outputs": [],
   "source": []
  }
 ],
 "metadata": {
  "kernelspec": {
   "display_name": "Python 3 (ipykernel)",
   "language": "python",
   "name": "python3"
  },
  "language_info": {
   "codemirror_mode": {
    "name": "ipython",
    "version": 3
   },
   "file_extension": ".py",
   "mimetype": "text/x-python",
   "name": "python",
   "nbconvert_exporter": "python",
   "pygments_lexer": "ipython3",
   "version": "3.9.12"
  }
 },
 "nbformat": 4,
 "nbformat_minor": 5
}
