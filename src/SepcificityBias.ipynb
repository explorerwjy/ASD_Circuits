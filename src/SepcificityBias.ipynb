{
 "cells": [
  {
   "cell_type": "code",
   "execution_count": 1,
   "metadata": {},
   "outputs": [
    {
     "name": "stderr",
     "output_type": "stream",
     "text": [
      "/Users/jiayao/anaconda3/lib/python3.7/site-packages/IPython/core/interactiveshell.py:3185: DtypeWarning: Columns (38,45) have mixed types. Specify dtype option on import or set low_memory=False.\n",
      "  if (yield from self.run_code(code, result)):\n"
     ]
    }
   ],
   "source": [
    "%load_ext autoreload\n",
    "%autoreload 2\n",
    "from ASD_Circuits import *\n",
    "from venn import venn\n",
    "\n",
    "HGNC, ENSID2Entrez, GeneSymbol2Entrez, Entrez2Symbol, allen_mouse_genes = LoadGeneINFO()\n",
    "ExpMat, ExpZscoreMat, ExpMatNorm, ExpZscoreMatNorm = LoadExpressionMatrices()\n",
    "gnomad_cons = pd.read_csv(\"../dat/genes/gnomad.v2.1.1.lof_metrics.by_gene.txt\",\n",
    "                          delimiter=\"\\t\", index_col=\"gene\")"
   ]
  },
  {
   "cell_type": "markdown",
   "metadata": {},
   "source": [
    "# Pvalue for Zmean from sib"
   ]
  },
  {
   "cell_type": "code",
   "execution_count": 71,
   "metadata": {},
   "outputs": [],
   "source": [
    "EFFECTS = []\n",
    "for i in range(1000):\n",
    "    tmp = ssc_sib.sample(n=101)\n",
    "    Sib_sample101 = sibling_gene_weight(tmp)\n",
    "    Sib_avgZ1 = AvgSTRZ_Weighted(ExpZscoreMat, Sib_sample101, Method=1)\n",
    "    effect = np.array(Sib_avgZ1[\"EFFECT\"].values)\n",
    "    EFFECTS.append(effect)\n",
    "EFFECTS = np.array(EFFECTS)"
   ]
  },
  {
   "cell_type": "code",
   "execution_count": 73,
   "metadata": {},
   "outputs": [],
   "source": [
    "np.save(\"dat/bias/effects_sib.nparr\", EFFECTS)"
   ]
  },
  {
   "cell_type": "code",
   "execution_count": 75,
   "metadata": {},
   "outputs": [
    {
     "data": {
      "text/plain": [
       "(1000, 213)"
      ]
     },
     "execution_count": 75,
     "metadata": {},
     "output_type": "execute_result"
    }
   ],
   "source": [
    "EFFECTS.shape"
   ]
  },
  {
   "cell_type": "code",
   "execution_count": 90,
   "metadata": {},
   "outputs": [
    {
     "data": {
      "text/plain": [
       "(array([  4.,  23.,  66., 168., 272., 256., 135.,  53.,  18.,   5.]),\n",
       " array([-0.03107105, -0.0233376 , -0.01560414, -0.00787069, -0.00013723,\n",
       "         0.00759623,  0.01532968,  0.02306314,  0.0307966 ,  0.03853005,\n",
       "         0.04626351]),\n",
       " <a list of 10 Patch objects>)"
      ]
     },
     "execution_count": 90,
     "metadata": {},
     "output_type": "execute_result"
    },
    {
     "data": {
      "image/png": "[encoded data removed]",
      "text/plain": [
       "<Figure size 480x320 with 1 Axes>"
      ]
     },
     "metadata": {
      "needs_background": "light"
     },
     "output_type": "display_data"
    }
   ],
   "source": [
    "plt.hist(EFFECTS[:, 100])"
   ]
  },
  {
   "cell_type": "code",
   "execution_count": 91,
   "metadata": {},
   "outputs": [],
   "source": [
    "Meta_Zscore = pd.read_csv(\"dat/bias/Agg.AvgZ.Mutcount.bias.csv\", index_col = \"STR\")\n",
    "for i,( _str, row )in enumerate(Meta_Zscore.iterrows()):\n",
    "    effect = row[\"EFFECT\"]\n",
    "    if effect > 0:\n",
    "        pvalue = GetPermutationP(EFFECTS[:, i], effect)\n",
    "    else:\n",
    "        pvalue = GetPermutationP(EFFECTS[:, i], effect, gt = False)\n",
    "    Meta_Zscore.loc[_str, \"Pvalue\"] = pvalue"
   ]
  },
  {
   "cell_type": "code",
   "execution_count": 92,
   "metadata": {},
   "outputs": [],
   "source": [
    "Meta_Zscore.to_csv('dat/bias/test.csv')"
   ]
  },
  {
   "cell_type": "markdown",
   "metadata": {},
   "source": [
    "## De novo Simulations"
   ]
  },
  {
   "cell_type": "code",
   "execution_count": 95,
   "metadata": {},
   "outputs": [
    {
     "data": {
      "text/html": [
       "<div>\n",
       "<style scoped>\n",
       "    .dataframe tbody tr th:only-of-type {\n",
       "        vertical-align: middle;\n",
       "    }\n",
       "\n",
       "    .dataframe tbody tr th {\n",
       "        vertical-align: top;\n",
       "    }\n",
       "\n",
       "    .dataframe thead th {\n",
       "        text-align: right;\n",
       "    }\n",
       "</style>\n",
       "<table border=\"1\" class=\"dataframe\">\n",
       "  <thead>\n",
       "    <tr style=\"text-align: right;\">\n",
       "      <th></th>\n",
       "      <th>1</th>\n",
       "      <th>2</th>\n",
       "      <th>131076</th>\n",
       "      <th>12</th>\n",
       "      <th>13</th>\n",
       "      <th>14</th>\n",
       "      <th>15</th>\n",
       "      <th>16</th>\n",
       "      <th>18</th>\n",
       "      <th>163859</th>\n",
       "      <th>...</th>\n",
       "      <th>196513</th>\n",
       "      <th>196527</th>\n",
       "      <th>196528</th>\n",
       "      <th>196541</th>\n",
       "      <th>163782</th>\n",
       "      <th>163786</th>\n",
       "      <th>6503</th>\n",
       "      <th>131034</th>\n",
       "      <th>327657</th>\n",
       "      <th>201895</th>\n",
       "    </tr>\n",
       "    <tr>\n",
       "      <th>index</th>\n",
       "      <th></th>\n",
       "      <th></th>\n",
       "      <th></th>\n",
       "      <th></th>\n",
       "      <th></th>\n",
       "      <th></th>\n",
       "      <th></th>\n",
       "      <th></th>\n",
       "      <th></th>\n",
       "      <th></th>\n",
       "      <th></th>\n",
       "      <th></th>\n",
       "      <th></th>\n",
       "      <th></th>\n",
       "      <th></th>\n",
       "      <th></th>\n",
       "      <th></th>\n",
       "      <th></th>\n",
       "      <th></th>\n",
       "      <th></th>\n",
       "      <th></th>\n",
       "    </tr>\n",
       "  </thead>\n",
       "  <tbody>\n",
       "    <tr>\n",
       "      <th>0</th>\n",
       "      <td>0,0</td>\n",
       "      <td>0,1</td>\n",
       "      <td>0,0</td>\n",
       "      <td>0,0</td>\n",
       "      <td>0,0</td>\n",
       "      <td>0,0</td>\n",
       "      <td>0,0</td>\n",
       "      <td>0,0</td>\n",
       "      <td>0,1</td>\n",
       "      <td>1,0</td>\n",
       "      <td>...</td>\n",
       "      <td>0,0</td>\n",
       "      <td>0,0</td>\n",
       "      <td>0,0</td>\n",
       "      <td>0,0</td>\n",
       "      <td>0,0</td>\n",
       "      <td>0,0</td>\n",
       "      <td>0,0</td>\n",
       "      <td>0,0</td>\n",
       "      <td>0,0</td>\n",
       "      <td>0,0</td>\n",
       "    </tr>\n",
       "    <tr>\n",
       "      <th>1</th>\n",
       "      <td>0,0</td>\n",
       "      <td>0,0</td>\n",
       "      <td>0,0</td>\n",
       "      <td>0,0</td>\n",
       "      <td>0,0</td>\n",
       "      <td>0,0</td>\n",
       "      <td>0,0</td>\n",
       "      <td>1,0</td>\n",
       "      <td>0,1</td>\n",
       "      <td>0,0</td>\n",
       "      <td>...</td>\n",
       "      <td>0,0</td>\n",
       "      <td>0,0</td>\n",
       "      <td>0,0</td>\n",
       "      <td>0,0</td>\n",
       "      <td>0,0</td>\n",
       "      <td>0,0</td>\n",
       "      <td>0,0</td>\n",
       "      <td>0,1</td>\n",
       "      <td>0,0</td>\n",
       "      <td>0,0</td>\n",
       "    </tr>\n",
       "  </tbody>\n",
       "</table>\n",
       "<p>2 rows × 13752 columns</p>\n",
       "</div>"
      ],
      "text/plain": [
       "         1    2 131076   12   13   14   15   16   18 163859  ... 196513  \\\n",
       "index                                                        ...          \n",
       "0      0,0  0,1    0,0  0,0  0,0  0,0  0,0  0,0  0,1    1,0  ...    0,0   \n",
       "1      0,0  0,0    0,0  0,0  0,0  0,0  0,0  1,0  0,1    0,0  ...    0,0   \n",
       "\n",
       "      196527 196528 196541 163782 163786 6503 131034 327657 201895  \n",
       "index                                                               \n",
       "0        0,0    0,0    0,0    0,0    0,0  0,0    0,0    0,0    0,0  \n",
       "1        0,0    0,0    0,0    0,0    0,0  0,0    0,1    0,0    0,0  \n",
       "\n",
       "[2 rows x 13752 columns]"
      ]
     },
     "execution_count": 95,
     "metadata": {},
     "output_type": "execute_result"
    }
   ],
   "source": [
    "denovo_simulations = pd.read_csv(\"dat/meta_denovo_simulations.csv\", index_col = \"indexm\")\n",
    "denovo_simulations.head(2)"
   ]
  },
  {
   "cell_type": "code",
   "execution_count": 129,
   "metadata": {},
   "outputs": [],
   "source": [
    "def sim_denovo_row2gweight(row, n_gene=101, LGD_Weight = 0.357, DMIS_Weight = 0.231):\n",
    "    dat = []\n",
    "    for index, value in row.items():\n",
    "        N_lgd, N_dmis = map(int, value.split(\",\"))\n",
    "        #print(index, N_lgd, N_dmis)\n",
    "        if N_lgd + N_dmis == 0:\n",
    "            continue\n",
    "        dat.append([index, N_lgd, N_dmis, N_lgd * LGD_Weight + N_dmis * DMIS_Weight])\n",
    "    df = pd.DataFrame(data=dat, columns=[\"Entrez\", \"NLGD\", \"NDmis\", \"Weight\"])\n",
    "    df = df.sort_values(\"Weight\", ascending=False)\n",
    "    top = df.head(n_gene)\n",
    "    return dict(zip([int(x) for x in top[\"Entrez\"].values], top[\"Weight\"].values))"
   ]
  },
  {
   "cell_type": "code",
   "execution_count": 132,
   "metadata": {},
   "outputs": [],
   "source": [
    "EFFECTS = []\n",
    "for i, row in denovo_simulations.iterrows():\n",
    "    weights = sim_denovo_row2gweight(row)\n",
    "    sim_avgZ1 = AvgSTRZ_Weighted(ExpZscoreMat, weights, Method=1)\n",
    "    effect = np.array(sim_avgZ1[\"EFFECT\"].values)\n",
    "    EFFECTS.append(effect)\n",
    "EFFECTS = np.array(EFFECTS)"
   ]
  },
  {
   "cell_type": "code",
   "execution_count": 133,
   "metadata": {},
   "outputs": [],
   "source": [
    "np.save(\"dat/bias/effects_sim.nparr\", EFFECTS)"
   ]
  },
  {
   "cell_type": "code",
   "execution_count": 134,
   "metadata": {},
   "outputs": [],
   "source": [
    "Meta_Zscore = pd.read_csv(\"dat/bias/Agg.AvgZ.Mutcount.bias.csv\", index_col = \"STR\")\n",
    "for i,( _str, row )in enumerate(Meta_Zscore.iterrows()):\n",
    "    effect = row[\"EFFECT\"]\n",
    "    if effect > 0:\n",
    "        pvalue = GetPermutationP(EFFECTS[:, i], effect)\n",
    "    else:\n",
    "        pvalue = GetPermutationP(EFFECTS[:, i], effect, gt = False)\n",
    "    Meta_Zscore.loc[_str, \"Pvalue\"] = pvalue\n",
    "Meta_Zscore.to_csv('dat/bias/test.csv')"
   ]
  },
  {
   "cell_type": "code",
   "execution_count": 139,
   "metadata": {},
   "outputs": [
    {
     "data": {
      "text/plain": [
       "(array([ 36., 139., 232., 246., 180.,  86.,  51.,  18.,   9.,   3.]),\n",
       " array([0.05159681, 0.0607005 , 0.06980418, 0.07890787, 0.08801156,\n",
       "        0.09711525, 0.10621894, 0.11532263, 0.12442632, 0.13353001,\n",
       "        0.1426337 ]),\n",
       " <a list of 10 Patch objects>)"
      ]
     },
     "execution_count": 139,
     "metadata": {},
     "output_type": "execute_result"
    },
    {
     "data": {
      "image/png": "[encoded data removed]",
      "text/plain": [
       "<Figure size 480x320 with 1 Axes>"
      ]
     },
     "metadata": {
      "needs_background": "light"
     },
     "output_type": "display_data"
    }
   ],
   "source": [
    "plt.hist(EFFECTS[:, 50])"
   ]
  },
  {
   "cell_type": "code",
   "execution_count": 140,
   "metadata": {},
   "outputs": [
    {
     "data": {
      "text/plain": [
       "(array([ 4.,  4., 21., 46., 51., 50., 22.,  8.,  5.,  2.]),\n",
       " array([-0.38713945, -0.30449129, -0.22184313, -0.13919496, -0.0565468 ,\n",
       "         0.02610136,  0.10874952,  0.19139768,  0.27404584,  0.356694  ,\n",
       "         0.43934216]),\n",
       " <a list of 10 Patch objects>)"
      ]
     },
     "execution_count": 140,
     "metadata": {},
     "output_type": "execute_result"
    },
    {
     "data": {
      "image/png": "[encoded data removed]",
      "text/plain": [
       "<Figure size 480x320 with 1 Axes>"
      ]
     },
     "metadata": {
      "needs_background": "light"
     },
     "output_type": "display_data"
    }
   ],
   "source": [
    "plt.hist(EFFECTS[1, :])"
   ]
  },
  {
   "cell_type": "code",
   "execution_count": 143,
   "metadata": {},
   "outputs": [],
   "source": [
    "## Dist as same STR\n",
    "EFFECTS2 = {}\n",
    "for i, row in denovo_simulations.iterrows():\n",
    "    weights = sim_denovo_row2gweight(row)\n",
    "    sim_avgZ1 = AvgSTRZ_Weighted(ExpZscoreMat, weights, Method=1)\n",
    "    for STR, row in sim_avgZ1.iterrows():\n",
    "        #print(STR, EFFECT)\n",
    "        if STR in EFFECTS2:\n",
    "            EFFECTS2[STR].append(row[\"EFFECT\"])\n",
    "        else:\n",
    "            EFFECTS2[STR] = [row[\"EFFECT\"]]"
   ]
  },
  {
   "cell_type": "code",
   "execution_count": 145,
   "metadata": {},
   "outputs": [],
   "source": [
    "#EFFECTS2[]\n",
    "Meta_Zscore = pd.read_csv(\"dat/bias/Agg.AvgZ.Mutcount.bias.csv\", index_col = \"STR\")\n",
    "for i,( _str, row )in enumerate(Meta_Zscore.iterrows()):\n",
    "    effect = row[\"EFFECT\"]\n",
    "    if effect > 0:\n",
    "        pvalue = GetPermutationP(EFFECTS2[_str], effect)\n",
    "    else:\n",
    "        pvalue = GetPermutationP(EFFECTS2[_str], effect, gt = False)\n",
    "    Meta_Zscore.loc[_str, \"Pvalue\"] = pvalue\n",
    "Meta_Zscore.to_csv('dat/bias/test2.csv')"
   ]
  },
  {
   "cell_type": "code",
   "execution_count": 193,
   "metadata": {},
   "outputs": [],
   "source": [
    "dat = []\n",
    "for k, v in EFFECTS2.items():\n",
    "    dat.append([k, np.mean(v), np.var(v)])\n",
    "null = pd.DataFrame(data=dat, columns=[\"STR\", \"MEAN\", \"VAR\"])\n",
    "null = null.sort_values(\"MEAN\", ascending=False)\n",
    "null.index = null[\"STR\"].values"
   ]
  },
  {
   "cell_type": "code",
   "execution_count": 194,
   "metadata": {},
   "outputs": [
    {
     "data": {
      "text/html": [
       "<div>\n",
       "<style scoped>\n",
       "    .dataframe tbody tr th:only-of-type {\n",
       "        vertical-align: middle;\n",
       "    }\n",
       "\n",
       "    .dataframe tbody tr th {\n",
       "        vertical-align: top;\n",
       "    }\n",
       "\n",
       "    .dataframe thead th {\n",
       "        text-align: right;\n",
       "    }\n",
       "</style>\n",
       "<table border=\"1\" class=\"dataframe\">\n",
       "  <thead>\n",
       "    <tr style=\"text-align: right;\">\n",
       "      <th></th>\n",
       "      <th>STR</th>\n",
       "      <th>MEAN</th>\n",
       "      <th>VAR</th>\n",
       "    </tr>\n",
       "  </thead>\n",
       "  <tbody>\n",
       "    <tr>\n",
       "      <th>Anterior_pretectal_nucleus</th>\n",
       "      <td>Anterior_pretectal_nucleus</td>\n",
       "      <td>0.250317</td>\n",
       "      <td>0.009316</td>\n",
       "    </tr>\n",
       "    <tr>\n",
       "      <th>Inferior_colliculus_central_nucleus</th>\n",
       "      <td>Inferior_colliculus_central_nucleus</td>\n",
       "      <td>0.196168</td>\n",
       "      <td>0.008804</td>\n",
       "    </tr>\n",
       "    <tr>\n",
       "      <th>Inferior_colliculus_external_nucleus</th>\n",
       "      <td>Inferior_colliculus_external_nucleus</td>\n",
       "      <td>0.195882</td>\n",
       "      <td>0.009545</td>\n",
       "    </tr>\n",
       "    <tr>\n",
       "      <th>Nucleus_of_the_optic_tract</th>\n",
       "      <td>Nucleus_of_the_optic_tract</td>\n",
       "      <td>0.184289</td>\n",
       "      <td>0.008402</td>\n",
       "    </tr>\n",
       "    <tr>\n",
       "      <th>Lateral_posterior_nucleus_of_the_thalamus</th>\n",
       "      <td>Lateral_posterior_nucleus_of_the_thalamus</td>\n",
       "      <td>0.159468</td>\n",
       "      <td>0.008886</td>\n",
       "    </tr>\n",
       "    <tr>\n",
       "      <th>...</th>\n",
       "      <td>...</td>\n",
       "      <td>...</td>\n",
       "      <td>...</td>\n",
       "    </tr>\n",
       "    <tr>\n",
       "      <th>Retrochiasmatic_area</th>\n",
       "      <td>Retrochiasmatic_area</td>\n",
       "      <td>-0.147751</td>\n",
       "      <td>0.006912</td>\n",
       "    </tr>\n",
       "    <tr>\n",
       "      <th>Substantia_nigra_compact_part</th>\n",
       "      <td>Substantia_nigra_compact_part</td>\n",
       "      <td>-0.162306</td>\n",
       "      <td>0.007995</td>\n",
       "    </tr>\n",
       "    <tr>\n",
       "      <th>Nucleus_raphe_magnus</th>\n",
       "      <td>Nucleus_raphe_magnus</td>\n",
       "      <td>-0.168415</td>\n",
       "      <td>0.008699</td>\n",
       "    </tr>\n",
       "    <tr>\n",
       "      <th>Tuberal_nucleus</th>\n",
       "      <td>Tuberal_nucleus</td>\n",
       "      <td>-0.168593</td>\n",
       "      <td>0.007232</td>\n",
       "    </tr>\n",
       "    <tr>\n",
       "      <th>Diagonal_band_nucleus</th>\n",
       "      <td>Diagonal_band_nucleus</td>\n",
       "      <td>-0.177062</td>\n",
       "      <td>0.007150</td>\n",
       "    </tr>\n",
       "  </tbody>\n",
       "</table>\n",
       "<p>213 rows × 3 columns</p>\n",
       "</div>"
      ],
      "text/plain": [
       "                                                                                 STR  \\\n",
       "Anterior_pretectal_nucleus                                Anterior_pretectal_nucleus   \n",
       "Inferior_colliculus_central_nucleus              Inferior_colliculus_central_nucleus   \n",
       "Inferior_colliculus_external_nucleus            Inferior_colliculus_external_nucleus   \n",
       "Nucleus_of_the_optic_tract                                Nucleus_of_the_optic_tract   \n",
       "Lateral_posterior_nucleus_of_the_thalamus  Lateral_posterior_nucleus_of_the_thalamus   \n",
       "...                                                                              ...   \n",
       "Retrochiasmatic_area                                            Retrochiasmatic_area   \n",
       "Substantia_nigra_compact_part                          Substantia_nigra_compact_part   \n",
       "Nucleus_raphe_magnus                                            Nucleus_raphe_magnus   \n",
       "Tuberal_nucleus                                                      Tuberal_nucleus   \n",
       "Diagonal_band_nucleus                                          Diagonal_band_nucleus   \n",
       "\n",
       "                                               MEAN       VAR  \n",
       "Anterior_pretectal_nucleus                 0.250317  0.009316  \n",
       "Inferior_colliculus_central_nucleus        0.196168  0.008804  \n",
       "Inferior_colliculus_external_nucleus       0.195882  0.009545  \n",
       "Nucleus_of_the_optic_tract                 0.184289  0.008402  \n",
       "Lateral_posterior_nucleus_of_the_thalamus  0.159468  0.008886  \n",
       "...                                             ...       ...  \n",
       "Retrochiasmatic_area                      -0.147751  0.006912  \n",
       "Substantia_nigra_compact_part             -0.162306  0.007995  \n",
       "Nucleus_raphe_magnus                      -0.168415  0.008699  \n",
       "Tuberal_nucleus                           -0.168593  0.007232  \n",
       "Diagonal_band_nucleus                     -0.177062  0.007150  \n",
       "\n",
       "[213 rows x 3 columns]"
      ]
     },
     "execution_count": 194,
     "metadata": {},
     "output_type": "execute_result"
    }
   ],
   "source": [
    "null"
   ]
  },
  {
   "cell_type": "code",
   "execution_count": 238,
   "metadata": {},
   "outputs": [
    {
     "data": {
      "image/png": "[encoded data removed]",
      "text/plain": [
       "<Figure size 480x320 with 1 Axes>"
      ]
     },
     "metadata": {
      "needs_background": "light"
     },
     "output_type": "display_data"
    }
   ],
   "source": [
    "plt.hist(EFFECTS2[\"Dentate_gyrus\"], bins=50)\n",
    "plt.title(\"Dentate_gyrus\")\n",
    "plt.show()"
   ]
  },
  {
   "cell_type": "code",
   "execution_count": 239,
   "metadata": {},
   "outputs": [
    {
     "data": {
      "image/png": "[encoded data removed]",
      "text/plain": [
       "<Figure size 480x320 with 1 Axes>"
      ]
     },
     "metadata": {
      "needs_background": "light"
     },
     "output_type": "display_data"
    }
   ],
   "source": [
    "plt.hist(EFFECTS2[\"Substantia_innominata\"], bins=50)\n",
    "plt.title(\"Substantia_innominata\")\n",
    "plt.show()"
   ]
  },
  {
   "cell_type": "code",
   "execution_count": 195,
   "metadata": {},
   "outputs": [],
   "source": [
    "STR2REG = STR2Region()\n",
    "for i, row in null.iterrows():\n",
    "    null.loc[i, \"REG\"] = STR2REG[row[\"STR\"]]"
   ]
  },
  {
   "cell_type": "code",
   "execution_count": 196,
   "metadata": {},
   "outputs": [
    {
     "data": {
      "text/html": [
       "<div>\n",
       "<style scoped>\n",
       "    .dataframe tbody tr th:only-of-type {\n",
       "        vertical-align: middle;\n",
       "    }\n",
       "\n",
       "    .dataframe tbody tr th {\n",
       "        vertical-align: top;\n",
       "    }\n",
       "\n",
       "    .dataframe thead th {\n",
       "        text-align: right;\n",
       "    }\n",
       "</style>\n",
       "<table border=\"1\" class=\"dataframe\">\n",
       "  <thead>\n",
       "    <tr style=\"text-align: right;\">\n",
       "      <th></th>\n",
       "      <th>STR</th>\n",
       "      <th>MEAN</th>\n",
       "      <th>VAR</th>\n",
       "      <th>REG</th>\n",
       "    </tr>\n",
       "  </thead>\n",
       "  <tbody>\n",
       "    <tr>\n",
       "      <th>Anterior_pretectal_nucleus</th>\n",
       "      <td>Anterior_pretectal_nucleus</td>\n",
       "      <td>0.250317</td>\n",
       "      <td>0.009316</td>\n",
       "      <td>Midbrain</td>\n",
       "    </tr>\n",
       "    <tr>\n",
       "      <th>Inferior_colliculus_central_nucleus</th>\n",
       "      <td>Inferior_colliculus_central_nucleus</td>\n",
       "      <td>0.196168</td>\n",
       "      <td>0.008804</td>\n",
       "      <td>Midbrain</td>\n",
       "    </tr>\n",
       "    <tr>\n",
       "      <th>Inferior_colliculus_external_nucleus</th>\n",
       "      <td>Inferior_colliculus_external_nucleus</td>\n",
       "      <td>0.195882</td>\n",
       "      <td>0.009545</td>\n",
       "      <td>Midbrain</td>\n",
       "    </tr>\n",
       "    <tr>\n",
       "      <th>Nucleus_of_the_optic_tract</th>\n",
       "      <td>Nucleus_of_the_optic_tract</td>\n",
       "      <td>0.184289</td>\n",
       "      <td>0.008402</td>\n",
       "      <td>Midbrain</td>\n",
       "    </tr>\n",
       "    <tr>\n",
       "      <th>Lateral_posterior_nucleus_of_the_thalamus</th>\n",
       "      <td>Lateral_posterior_nucleus_of_the_thalamus</td>\n",
       "      <td>0.159468</td>\n",
       "      <td>0.008886</td>\n",
       "      <td>Thalamus</td>\n",
       "    </tr>\n",
       "  </tbody>\n",
       "</table>\n",
       "</div>"
      ],
      "text/plain": [
       "                                                                                 STR  \\\n",
       "Anterior_pretectal_nucleus                                Anterior_pretectal_nucleus   \n",
       "Inferior_colliculus_central_nucleus              Inferior_colliculus_central_nucleus   \n",
       "Inferior_colliculus_external_nucleus            Inferior_colliculus_external_nucleus   \n",
       "Nucleus_of_the_optic_tract                                Nucleus_of_the_optic_tract   \n",
       "Lateral_posterior_nucleus_of_the_thalamus  Lateral_posterior_nucleus_of_the_thalamus   \n",
       "\n",
       "                                               MEAN       VAR       REG  \n",
       "Anterior_pretectal_nucleus                 0.250317  0.009316  Midbrain  \n",
       "Inferior_colliculus_central_nucleus        0.196168  0.008804  Midbrain  \n",
       "Inferior_colliculus_external_nucleus       0.195882  0.009545  Midbrain  \n",
       "Nucleus_of_the_optic_tract                 0.184289  0.008402  Midbrain  \n",
       "Lateral_posterior_nucleus_of_the_thalamus  0.159468  0.008886  Thalamus  "
      ]
     },
     "execution_count": 196,
     "metadata": {},
     "output_type": "execute_result"
    }
   ],
   "source": [
    "null.head(5)"
   ]
  },
  {
   "cell_type": "code",
   "execution_count": 197,
   "metadata": {},
   "outputs": [],
   "source": [
    "REGs = list(set(null[\"REG\"].values))"
   ]
  },
  {
   "cell_type": "code",
   "execution_count": 227,
   "metadata": {},
   "outputs": [],
   "source": [
    "dat = []\n",
    "for reg in REGs:\n",
    "    dat.append([reg, np.mean(null[null[\"REG\"]==reg][\"MEAN\"].values)])\n",
    "torank = pd.DataFrame(data=dat, columns=[\"REG\", \"MEAN\"])\n",
    "torank = torank.sort_values(\"MEAN\")\n",
    "torank.head(2)\n",
    "REGs = torank[\"REG\"].values"
   ]
  },
  {
   "cell_type": "code",
   "execution_count": null,
   "metadata": {},
   "outputs": [],
   "source": []
  },
  {
   "cell_type": "code",
   "execution_count": 228,
   "metadata": {},
   "outputs": [
    {
     "data": {
      "image/png": "[encoded data removed]",
      "text/plain": [
       "<Figure size 720x480 with 1 Axes>"
      ]
     },
     "metadata": {
      "needs_background": "light"
     },
     "output_type": "display_data"
    }
   ],
   "source": [
    "dat = []\n",
    "x_ = -1\n",
    "fig, ax = plt.subplots(dpi=120)\n",
    "for reg in REGs:\n",
    "    x_ += 1\n",
    "    tmp = null[null[\"REG\"]==reg]\n",
    "    ax.scatter([x_]*tmp.shape[0], tmp[\"MEAN\"].values, marker='x')\n",
    "ax.hlines(xmin = 0, xmax = 12, y=0, linestyles='dashed', alpha=0.5)\n",
    "ax.set_xticks(np.arange(0, 13, 1.0))\n",
    "ax.set_xticklabels(REGs, rotation='vertical')\n",
    "ax.set_title(\"Mean bias of STRs for different Regions\")\n",
    "ax.set_xlabel(\"Regions\")\n",
    "ax.set_ylabel(\"Mean bias from de novo simulations\")\n",
    "plt.show()"
   ]
  },
  {
   "cell_type": "code",
   "execution_count": 240,
   "metadata": {},
   "outputs": [],
   "source": [
    "mean_var = null[\"VAR\"].mean()"
   ]
  },
  {
   "cell_type": "code",
   "execution_count": 242,
   "metadata": {},
   "outputs": [
    {
     "data": {
      "image/png": "[encoded data removed]",
      "text/plain": [
       "<Figure size 720x480 with 1 Axes>"
      ]
     },
     "metadata": {
      "needs_background": "light"
     },
     "output_type": "display_data"
    }
   ],
   "source": [
    "dat = []\n",
    "x_ = -1\n",
    "fig, ax = plt.subplots(dpi=120)\n",
    "for reg in REGs:\n",
    "    x_ += 1\n",
    "    tmp = null[null[\"REG\"]==reg]\n",
    "    ax.scatter([x_]*tmp.shape[0], tmp[\"VAR\"].values, marker='x')\n",
    "ax.hlines(xmin = 0, xmax = 12, y=mean_var, linestyles='dashed', alpha=0.5)\n",
    "ax.set_xticks(np.arange(0, 13, 1.0))\n",
    "ax.set_xticklabels(REGs, rotation='vertical')\n",
    "ax.set_title(\"Variance of STRs bias for different Regions\")\n",
    "ax.set_xlabel(\"Regions\")\n",
    "ax.set_ylabel(\"Variance from de novo simulations\")\n",
    "plt.show()"
   ]
  },
  {
   "cell_type": "code",
   "execution_count": 201,
   "metadata": {},
   "outputs": [],
   "source": [
    "Meta_Zscore = pd.read_csv(\"dat/bias/Agg.AvgZ.Mutcount.bias.csv\", index_col = \"STR\")\n",
    "for i,( _str, row )in enumerate(Meta_Zscore.iterrows()):\n",
    "    effect = row[\"EFFECT\"]\n",
    "    if effect > 0:\n",
    "        pvalue = GetPermutationP(EFFECTS2[_str], effect)\n",
    "    else:\n",
    "        pvalue = GetPermutationP(EFFECTS2[_str], effect, gt = False)\n",
    "    new_effect = effect - null.loc[_str, \"MEAN\"]\n",
    "    Meta_Zscore.loc[_str, \"Pvalue\"] = pvalue\n",
    "    Meta_Zscore.loc[_str, \"EFFECT2\"] = new_effect\n",
    "Meta_Zscore.to_csv('dat/bias/test3.csv')"
   ]
  },
  {
   "cell_type": "code",
   "execution_count": null,
   "metadata": {},
   "outputs": [],
   "source": [
    "## Qunatils checking"
   ]
  },
  {
   "cell_type": "code",
   "execution_count": 205,
   "metadata": {},
   "outputs": [
    {
     "data": {
      "text/html": [
       "<div>\n",
       "<style scoped>\n",
       "    .dataframe tbody tr th:only-of-type {\n",
       "        vertical-align: middle;\n",
       "    }\n",
       "\n",
       "    .dataframe tbody tr th {\n",
       "        vertical-align: top;\n",
       "    }\n",
       "\n",
       "    .dataframe thead th {\n",
       "        text-align: right;\n",
       "    }\n",
       "</style>\n",
       "<table border=\"1\" class=\"dataframe\">\n",
       "  <thead>\n",
       "    <tr style=\"text-align: right;\">\n",
       "      <th></th>\n",
       "      <th>Anterior_amygdalar_area</th>\n",
       "      <th>Anterior_cingulate_area_dorsal_part</th>\n",
       "      <th>Anterior_cingulate_area_ventral_part</th>\n",
       "      <th>Nucleus_accumbens</th>\n",
       "      <th>Anterodorsal_nucleus</th>\n",
       "      <th>Anterior_hypothalamic_nucleus</th>\n",
       "      <th>Agranular_insular_area_dorsal_part</th>\n",
       "      <th>Agranular_insular_area_posterior_part</th>\n",
       "      <th>Agranular_insular_area_ventral_part</th>\n",
       "      <th>Nucleus_ambiguus</th>\n",
       "      <th>...</th>\n",
       "      <th>Primary_visual_area</th>\n",
       "      <th>Posterolateral_visual_area</th>\n",
       "      <th>posteromedial_visual_area</th>\n",
       "      <th>Ventral_medial_nucleus_of_the_thalamus</th>\n",
       "      <th>Ventromedial_hypothalamic_nucleus</th>\n",
       "      <th>Ventral_posterolateral_nucleus_of_the_thalamus</th>\n",
       "      <th>Ventral_posteromedial_nucleus_of_the_thalamus</th>\n",
       "      <th>Ventral_posteromedial_nucleus_of_the_thalamus_parvicellular_part</th>\n",
       "      <th>Ventral_tegmental_area</th>\n",
       "      <th>Hypoglossal_nucleus</th>\n",
       "    </tr>\n",
       "    <tr>\n",
       "      <th>ROW</th>\n",
       "      <th></th>\n",
       "      <th></th>\n",
       "      <th></th>\n",
       "      <th></th>\n",
       "      <th></th>\n",
       "      <th></th>\n",
       "      <th></th>\n",
       "      <th></th>\n",
       "      <th></th>\n",
       "      <th></th>\n",
       "      <th></th>\n",
       "      <th></th>\n",
       "      <th></th>\n",
       "      <th></th>\n",
       "      <th></th>\n",
       "      <th></th>\n",
       "      <th></th>\n",
       "      <th></th>\n",
       "      <th></th>\n",
       "      <th></th>\n",
       "      <th></th>\n",
       "    </tr>\n",
       "  </thead>\n",
       "  <tbody>\n",
       "    <tr>\n",
       "      <th>1</th>\n",
       "      <td>0.160640</td>\n",
       "      <td>-0.539153</td>\n",
       "      <td>-0.504043</td>\n",
       "      <td>-0.761513</td>\n",
       "      <td>-0.693056</td>\n",
       "      <td>1.644456</td>\n",
       "      <td>-0.925718</td>\n",
       "      <td>NaN</td>\n",
       "      <td>-0.445816</td>\n",
       "      <td>-0.491676</td>\n",
       "      <td>...</td>\n",
       "      <td>-0.826146</td>\n",
       "      <td>1.096054</td>\n",
       "      <td>-1.042356</td>\n",
       "      <td>-0.149321</td>\n",
       "      <td>1.309056</td>\n",
       "      <td>-0.090982</td>\n",
       "      <td>0.224140</td>\n",
       "      <td>-0.079631</td>\n",
       "      <td>1.733742</td>\n",
       "      <td>0.713978</td>\n",
       "    </tr>\n",
       "    <tr>\n",
       "      <th>2</th>\n",
       "      <td>-0.476558</td>\n",
       "      <td>-0.559858</td>\n",
       "      <td>-0.517535</td>\n",
       "      <td>-0.524070</td>\n",
       "      <td>0.155116</td>\n",
       "      <td>-0.414605</td>\n",
       "      <td>-0.132720</td>\n",
       "      <td>-0.366087</td>\n",
       "      <td>-0.228981</td>\n",
       "      <td>-0.431621</td>\n",
       "      <td>...</td>\n",
       "      <td>-0.477847</td>\n",
       "      <td>-0.507564</td>\n",
       "      <td>-0.227819</td>\n",
       "      <td>-0.304092</td>\n",
       "      <td>-0.342912</td>\n",
       "      <td>-0.505963</td>\n",
       "      <td>-0.469515</td>\n",
       "      <td>-0.360610</td>\n",
       "      <td>-0.054245</td>\n",
       "      <td>1.149715</td>\n",
       "    </tr>\n",
       "  </tbody>\n",
       "</table>\n",
       "<p>2 rows × 213 columns</p>\n",
       "</div>"
      ],
      "text/plain": [
       "     Anterior_amygdalar_area  Anterior_cingulate_area_dorsal_part  \\\n",
       "ROW                                                                 \n",
       "1                   0.160640                            -0.539153   \n",
       "2                  -0.476558                            -0.559858   \n",
       "\n",
       "     Anterior_cingulate_area_ventral_part  Nucleus_accumbens  \\\n",
       "ROW                                                            \n",
       "1                               -0.504043          -0.761513   \n",
       "2                               -0.517535          -0.524070   \n",
       "\n",
       "     Anterodorsal_nucleus  Anterior_hypothalamic_nucleus  \\\n",
       "ROW                                                        \n",
       "1               -0.693056                       1.644456   \n",
       "2                0.155116                      -0.414605   \n",
       "\n",
       "     Agranular_insular_area_dorsal_part  \\\n",
       "ROW                                       \n",
       "1                             -0.925718   \n",
       "2                             -0.132720   \n",
       "\n",
       "     Agranular_insular_area_posterior_part  \\\n",
       "ROW                                          \n",
       "1                                      NaN   \n",
       "2                                -0.366087   \n",
       "\n",
       "     Agranular_insular_area_ventral_part  Nucleus_ambiguus  ...  \\\n",
       "ROW                                                         ...   \n",
       "1                              -0.445816         -0.491676  ...   \n",
       "2                              -0.228981         -0.431621  ...   \n",
       "\n",
       "     Primary_visual_area  Posterolateral_visual_area  \\\n",
       "ROW                                                    \n",
       "1              -0.826146                    1.096054   \n",
       "2              -0.477847                   -0.507564   \n",
       "\n",
       "     posteromedial_visual_area  Ventral_medial_nucleus_of_the_thalamus  \\\n",
       "ROW                                                                      \n",
       "1                    -1.042356                               -0.149321   \n",
       "2                    -0.227819                               -0.304092   \n",
       "\n",
       "     Ventromedial_hypothalamic_nucleus  \\\n",
       "ROW                                      \n",
       "1                             1.309056   \n",
       "2                            -0.342912   \n",
       "\n",
       "     Ventral_posterolateral_nucleus_of_the_thalamus  \\\n",
       "ROW                                                   \n",
       "1                                         -0.090982   \n",
       "2                                         -0.505963   \n",
       "\n",
       "     Ventral_posteromedial_nucleus_of_the_thalamus  \\\n",
       "ROW                                                  \n",
       "1                                         0.224140   \n",
       "2                                        -0.469515   \n",
       "\n",
       "     Ventral_posteromedial_nucleus_of_the_thalamus_parvicellular_part  \\\n",
       "ROW                                                                     \n",
       "1                                            -0.079631                  \n",
       "2                                            -0.360610                  \n",
       "\n",
       "     Ventral_tegmental_area  Hypoglossal_nucleus  \n",
       "ROW                                               \n",
       "1                  1.733742             0.713978  \n",
       "2                 -0.054245             1.149715  \n",
       "\n",
       "[2 rows x 213 columns]"
      ]
     },
     "execution_count": 205,
     "metadata": {},
     "output_type": "execute_result"
    }
   ],
   "source": [
    "ExpZscoreMat.head(2)"
   ]
  },
  {
   "cell_type": "code",
   "execution_count": null,
   "metadata": {},
   "outputs": [],
   "source": [
    "ExpZscoreMat"
   ]
  },
  {
   "cell_type": "code",
   "execution_count": 219,
   "metadata": {},
   "outputs": [],
   "source": [
    "def get_percentile(STR, MAT = ExpZscoreMat, P=[10, 50, 90]):\n",
    "    values = MAT[STR].values\n",
    "    values = [x for x in values if x==x]\n",
    "    res = []\n",
    "    for p in P:\n",
    "        res.append(np.percentile(values, q=p))\n",
    "    return res"
   ]
  },
  {
   "cell_type": "code",
   "execution_count": 220,
   "metadata": {},
   "outputs": [
    {
     "name": "stdout",
     "output_type": "stream",
     "text": [
      "[-1.0036701566616328, -0.188189282385728, 1.2515600583166464]\n",
      "[-1.0036701565866828, -0.18818928298236598, 1.2515600524549726]\n",
      "[-1.0036702236757309, -0.18818928405823449, 1.251565298976829]\n",
      "[-1.0036701846273999, -0.18818834763392, 1.2515622453055562]\n"
     ]
    }
   ],
   "source": [
    "print(get_percentile(\"Anterior_amygdalar_area\"))\n",
    "print(get_percentile(\"Anterior_cingulate_area_dorsal_part\"))\n",
    "print(get_percentile(\"Anterior_cingulate_area_ventral_part\"))\n",
    "print(get_percentile(\"Ventral_tegmental_area\"))"
   ]
  },
  {
   "cell_type": "markdown",
   "metadata": {},
   "source": [
    "### P value for expression level"
   ]
  },
  {
   "cell_type": "code",
   "execution_count": 243,
   "metadata": {},
   "outputs": [
    {
     "data": {
      "text/html": [
       "<div>\n",
       "<style scoped>\n",
       "    .dataframe tbody tr th:only-of-type {\n",
       "        vertical-align: middle;\n",
       "    }\n",
       "\n",
       "    .dataframe tbody tr th {\n",
       "        vertical-align: top;\n",
       "    }\n",
       "\n",
       "    .dataframe thead th {\n",
       "        text-align: right;\n",
       "    }\n",
       "</style>\n",
       "<table border=\"1\" class=\"dataframe\">\n",
       "  <thead>\n",
       "    <tr style=\"text-align: right;\">\n",
       "      <th></th>\n",
       "      <th>1</th>\n",
       "      <th>2</th>\n",
       "      <th>131076</th>\n",
       "      <th>12</th>\n",
       "      <th>13</th>\n",
       "      <th>14</th>\n",
       "      <th>15</th>\n",
       "      <th>16</th>\n",
       "      <th>18</th>\n",
       "      <th>163859</th>\n",
       "      <th>...</th>\n",
       "      <th>196513</th>\n",
       "      <th>196527</th>\n",
       "      <th>196528</th>\n",
       "      <th>196541</th>\n",
       "      <th>163782</th>\n",
       "      <th>163786</th>\n",
       "      <th>6503</th>\n",
       "      <th>131034</th>\n",
       "      <th>327657</th>\n",
       "      <th>201895</th>\n",
       "    </tr>\n",
       "    <tr>\n",
       "      <th>index</th>\n",
       "      <th></th>\n",
       "      <th></th>\n",
       "      <th></th>\n",
       "      <th></th>\n",
       "      <th></th>\n",
       "      <th></th>\n",
       "      <th></th>\n",
       "      <th></th>\n",
       "      <th></th>\n",
       "      <th></th>\n",
       "      <th></th>\n",
       "      <th></th>\n",
       "      <th></th>\n",
       "      <th></th>\n",
       "      <th></th>\n",
       "      <th></th>\n",
       "      <th></th>\n",
       "      <th></th>\n",
       "      <th></th>\n",
       "      <th></th>\n",
       "      <th></th>\n",
       "    </tr>\n",
       "  </thead>\n",
       "  <tbody>\n",
       "    <tr>\n",
       "      <th>0</th>\n",
       "      <td>0,0</td>\n",
       "      <td>0,1</td>\n",
       "      <td>0,0</td>\n",
       "      <td>0,0</td>\n",
       "      <td>0,0</td>\n",
       "      <td>0,0</td>\n",
       "      <td>0,0</td>\n",
       "      <td>0,0</td>\n",
       "      <td>0,1</td>\n",
       "      <td>1,0</td>\n",
       "      <td>...</td>\n",
       "      <td>0,0</td>\n",
       "      <td>0,0</td>\n",
       "      <td>0,0</td>\n",
       "      <td>0,0</td>\n",
       "      <td>0,0</td>\n",
       "      <td>0,0</td>\n",
       "      <td>0,0</td>\n",
       "      <td>0,0</td>\n",
       "      <td>0,0</td>\n",
       "      <td>0,0</td>\n",
       "    </tr>\n",
       "    <tr>\n",
       "      <th>1</th>\n",
       "      <td>0,0</td>\n",
       "      <td>0,0</td>\n",
       "      <td>0,0</td>\n",
       "      <td>0,0</td>\n",
       "      <td>0,0</td>\n",
       "      <td>0,0</td>\n",
       "      <td>0,0</td>\n",
       "      <td>1,0</td>\n",
       "      <td>0,1</td>\n",
       "      <td>0,0</td>\n",
       "      <td>...</td>\n",
       "      <td>0,0</td>\n",
       "      <td>0,0</td>\n",
       "      <td>0,0</td>\n",
       "      <td>0,0</td>\n",
       "      <td>0,0</td>\n",
       "      <td>0,0</td>\n",
       "      <td>0,0</td>\n",
       "      <td>0,1</td>\n",
       "      <td>0,0</td>\n",
       "      <td>0,0</td>\n",
       "    </tr>\n",
       "  </tbody>\n",
       "</table>\n",
       "<p>2 rows × 13752 columns</p>\n",
       "</div>"
      ],
      "text/plain": [
       "         1    2 131076   12   13   14   15   16   18 163859  ... 196513  \\\n",
       "index                                                        ...          \n",
       "0      0,0  0,1    0,0  0,0  0,0  0,0  0,0  0,0  0,1    1,0  ...    0,0   \n",
       "1      0,0  0,0    0,0  0,0  0,0  0,0  0,0  1,0  0,1    0,0  ...    0,0   \n",
       "\n",
       "      196527 196528 196541 163782 163786 6503 131034 327657 201895  \n",
       "index                                                               \n",
       "0        0,0    0,0    0,0    0,0    0,0  0,0    0,0    0,0    0,0  \n",
       "1        0,0    0,0    0,0    0,0    0,0  0,0    0,1    0,0    0,0  \n",
       "\n",
       "[2 rows x 13752 columns]"
      ]
     },
     "execution_count": 243,
     "metadata": {},
     "output_type": "execute_result"
    }
   ],
   "source": [
    "## Construct expression match matrix\n",
    "#denovo_simulations.head(2)\n",
    "dat = []\n",
    "for g in denovo_simulations.index:\n",
    "    tmp = "
   ]
  },
  {
   "cell_type": "code",
   "execution_count": null,
   "metadata": {},
   "outputs": [],
   "source": [
    "## Dist as same STR\n",
    "EFFECTS2 = {}\n",
    "for i, row in denovo_simulations.iterrows():\n",
    "    weights = sim_denovo_row2gweight(row)\n",
    "    sim_avgZ1 = AvgSTRZ_Weighted(ExpZscoreMat, weights, Method=1)\n",
    "    for STR, row in sim_avgZ1.iterrows():\n",
    "        #print(STR, EFFECT)\n",
    "        if STR in EFFECTS2:\n",
    "            EFFECTS2[STR].append(row[\"EFFECT\"])\n",
    "        else:\n",
    "            EFFECTS2[STR] = [row[\"EFFECT\"]]"
   ]
  },
  {
   "cell_type": "code",
   "execution_count": null,
   "metadata": {},
   "outputs": [],
   "source": []
  },
  {
   "cell_type": "code",
   "execution_count": null,
   "metadata": {},
   "outputs": [],
   "source": []
  },
  {
   "cell_type": "markdown",
   "metadata": {
    "heading_collapsed": true
   },
   "source": [
    "# Compare 3 different method for sepcificity bias"
   ]
  },
  {
   "cell_type": "code",
   "execution_count": null,
   "metadata": {
    "hidden": true
   },
   "outputs": [],
   "source": []
  },
  {
   "cell_type": "code",
   "execution_count": 2,
   "metadata": {
    "hidden": true
   },
   "outputs": [
    {
     "name": "stdout",
     "output_type": "stream",
     "text": [
      "101\n"
     ]
    }
   ],
   "source": [
    "Aggregate = pd.read_csv(\"../dat/genes/asd/DenovoWEST_TADA.txt\", delimiter=\"\\t\")\n",
    "Aggregate['pDenovoWEST'] = pd.to_numeric(Aggregate[\"pDenovoWEST\"], errors='coerce')\n",
    "Agg_gene2None, Agg_gene2MutN = Aggregate_Gene_Weights(Aggregate, out = \"dat/bias2/meta.gene.weights.csv\")\n",
    "Agg_match_df = pd.read_csv(\"dat/matching/asd_agg_exp_matches_1000.new.csv\", index_col=\"GENE\")\n",
    "print(len(Agg_gene2MutN))"
   ]
  },
  {
   "cell_type": "code",
   "execution_count": 39,
   "metadata": {
    "hidden": true
   },
   "outputs": [
    {
     "name": "stdout",
     "output_type": "stream",
     "text": [
      "41\n"
     ]
    }
   ],
   "source": [
    "Agg_avgZ1 = AvgSTRZ_Weighted(ExpZscoreMat2, Agg_gene2MutN, Method=1,\n",
    "                                              csv_fil = \"dat/bias3/Agg.AvgZ1.Mutcount.bias.csv\")"
   ]
  },
  {
   "cell_type": "code",
   "execution_count": 12,
   "metadata": {
    "hidden": true
   },
   "outputs": [
    {
     "name": "stdout",
     "output_type": "stream",
     "text": [
      "39\n"
     ]
    }
   ],
   "source": [
    "Agg_avgZ2 = AvgSTRZ_Weighted(ExpZscoreMat2, Agg_gene2MutN, Method=2, Match_DF=Agg_match_df, \n",
    "                                              csv_fil = \"dat/bias3/Agg.AvgZ2.Mutcount.bias.csv\")"
   ]
  },
  {
   "cell_type": "code",
   "execution_count": 15,
   "metadata": {
    "hidden": true
   },
   "outputs": [
    {
     "name": "stdout",
     "output_type": "stream",
     "text": [
      "38\n"
     ]
    }
   ],
   "source": [
    "Agg_avgZ3 = AvgSTRZ_Weighted(ExpZscoreMat2, Agg_gene2MutN, Method=3, Match_DF=Agg_match_df, \n",
    "                                              csv_fil = \"dat/bias3/Agg.AvgZ3.Mutcount.bias.csv\")"
   ]
  },
  {
   "cell_type": "code",
   "execution_count": 40,
   "metadata": {
    "hidden": true
   },
   "outputs": [
    {
     "data": {
      "image/png": "[encoded data removed]",
      "text/plain": [
       "<Figure size 480x320 with 1 Axes>"
      ]
     },
     "metadata": {
      "needs_background": "light"
     },
     "output_type": "display_data"
    }
   ],
   "source": [
    "PlotEffectDist(Agg_avgZ3, title=\"Effect size Agg avgZ FDR:%f %d genes\"%(0.2, 101))"
   ]
  },
  {
   "cell_type": "code",
   "execution_count": 20,
   "metadata": {
    "hidden": true
   },
   "outputs": [
    {
     "data": {
      "image/png": "[encoded data removed]",
      "text/plain": [
       "<Figure size 480x320 with 1 Axes>"
      ]
     },
     "metadata": {
      "needs_background": "light"
     },
     "output_type": "display_data"
    }
   ],
   "source": [
    "PlotEffectDist(Agg_avgZ2, title=\"Effect size Agg avgZ FDR:%f %d genes\"%(0.2, 101))"
   ]
  },
  {
   "cell_type": "code",
   "execution_count": 21,
   "metadata": {
    "hidden": true
   },
   "outputs": [
    {
     "data": {
      "image/png": "[encoded data removed]",
      "text/plain": [
       "<Figure size 480x320 with 1 Axes>"
      ]
     },
     "metadata": {
      "needs_background": "light"
     },
     "output_type": "display_data"
    }
   ],
   "source": [
    "PlotEffectDist(Agg_avgZ1, title=\"Effect size Agg avgZ FDR:%f %d genes\"%(0.2, 101))"
   ]
  },
  {
   "cell_type": "code",
   "execution_count": 17,
   "metadata": {
    "hidden": true
   },
   "outputs": [
    {
     "name": "stdout",
     "output_type": "stream",
     "text": [
      "Midbrain \t 1 \t Anterior_pretectal_nucleus\n",
      "Thalamus \t 5 \t Lateral_posterior_nucleus_of_the_thalamus; Parafascicular_nucleus; Nucleus_of_reuniens; Rhomboid_nucleus; Mediodorsal_nucleus_of_thalamus\n",
      "Isocortex \t 22 \t Prelimbic_area; Orbital_area_lateral_part; Orbital_area_ventrolateral_part; Infralimbic_area; Primary_somatosensory_area_lower_limb; Primary_visual_area; Anterior_cingulate_area_dorsal_part; Anteromedial_visual_area; Primary_motor_area; Retrosplenial_area_lateral_agranular_part; Agranular_insular_area_ventral_part; Secondary_motor_area; Gustatory_areas; Visceral_area; Lateral_visual_area; Dorsal_auditory_area; Posterior_parietal_association_areas; Agranular_insular_area_posterior_part; Primary_somatosensory_area_trunk; Anterior_cingulate_area_ventral_part; Orbital_area_medial_part; Posterolateral_visual_area\n",
      "Hippocampal_formation \t 3 \t Subiculum_ventral_part; Subiculum_dorsal_part; Parasubiculum\n",
      "Olfactory_areas \t 4 \t Anterior_olfactory_nucleus; Dorsal_peduncular_area; Accessory_olfactory_bulb; Piriform_area\n",
      "Striatum \t 4 \t Nucleus_accumbens; Caudoputamen; Intercalated_amygdalar_nucleus; Lateral_septal_nucleus_ventral_part\n",
      "Hippocampal_region \t 4 \t Dentate_gyrus; Field_CA1; Field_CA3; Field_CA2\n",
      "Cortical_subplate \t 6 \t Claustrum; Lateral_amygdalar_nucleus; Basomedial_amygdalar_nucleus; Endopiriform_nucleus_dorsal_part; Endopiriform_nucleus_ventral_part; Basolateral_amygdalar_nucleus\n",
      "Pallidum \t 1 \t Bed_nuclei_of_the_stria_terminalis\n"
     ]
    }
   ],
   "source": [
    "RD_Agg_expl_RD = RegionDistributions(Agg_avgZ3.set_index(\"STR\"), show=True)"
   ]
  },
  {
   "cell_type": "code",
   "execution_count": 18,
   "metadata": {
    "hidden": true
   },
   "outputs": [
    {
     "name": "stdout",
     "output_type": "stream",
     "text": [
      "Midbrain \t 1 \t Anterior_pretectal_nucleus\n",
      "Thalamus \t 6 \t Lateral_posterior_nucleus_of_the_thalamus; Parafascicular_nucleus; Nucleus_of_reuniens; Rhomboid_nucleus; Submedial_nucleus_of_the_thalamus; Mediodorsal_nucleus_of_thalamus\n",
      "Isocortex \t 21 \t Orbital_area_lateral_part; Prelimbic_area; Orbital_area_ventrolateral_part; Infralimbic_area; Primary_somatosensory_area_lower_limb; Primary_visual_area; Anteromedial_visual_area; Anterior_cingulate_area_dorsal_part; Retrosplenial_area_lateral_agranular_part; Primary_motor_area; Secondary_motor_area; Gustatory_areas; Visceral_area; Agranular_insular_area_ventral_part; Dorsal_auditory_area; Orbital_area_medial_part; Lateral_visual_area; Primary_somatosensory_area_trunk; Posterior_parietal_association_areas; Agranular_insular_area_posterior_part; Anterior_cingulate_area_ventral_part\n",
      "Hippocampal_formation \t 4 \t Subiculum_ventral_part; Subiculum_dorsal_part; Parasubiculum; Presubiculum\n",
      "Olfactory_areas \t 3 \t Anterior_olfactory_nucleus; Dorsal_peduncular_area; Accessory_olfactory_bulb\n",
      "Striatum \t 4 \t Nucleus_accumbens; Intercalated_amygdalar_nucleus; Caudoputamen; Lateral_septal_nucleus_ventral_part\n",
      "Hippocampal_region \t 4 \t Dentate_gyrus; Field_CA1; Field_CA2; Field_CA3\n",
      "Cortical_subplate \t 6 \t Lateral_amygdalar_nucleus; Basomedial_amygdalar_nucleus; Claustrum; Endopiriform_nucleus_dorsal_part; Endopiriform_nucleus_ventral_part; Basolateral_amygdalar_nucleus\n",
      "Pallidum \t 1 \t Bed_nuclei_of_the_stria_terminalis\n"
     ]
    }
   ],
   "source": [
    "RD_Agg_expl_RD = RegionDistributions(Agg_avgZ2.set_index(\"STR\"), show=True)"
   ]
  },
  {
   "cell_type": "code",
   "execution_count": 19,
   "metadata": {
    "hidden": true
   },
   "outputs": [
    {
     "name": "stdout",
     "output_type": "stream",
     "text": [
      "Midbrain \t 1 \t Anterior_pretectal_nucleus\n",
      "Thalamus \t 8 \t Lateral_posterior_nucleus_of_the_thalamus; Rhomboid_nucleus; Parafascicular_nucleus; Nucleus_of_reuniens; Intermediodorsal_nucleus_of_the_thalamus; Paraventricular_nucleus_of_the_thalamus; Mediodorsal_nucleus_of_thalamus; Submedial_nucleus_of_the_thalamus\n",
      "Isocortex \t 22 \t Prelimbic_area; Orbital_area_lateral_part; Dorsal_auditory_area; Orbital_area_ventrolateral_part; Infralimbic_area; Primary_visual_area; Primary_somatosensory_area_lower_limb; Anteromedial_visual_area; Anterior_cingulate_area_dorsal_part; Agranular_insular_area_posterior_part; Retrosplenial_area_lateral_agranular_part; Visceral_area; Secondary_motor_area; Orbital_area_medial_part; Primary_motor_area; Lateral_visual_area; Posterolateral_visual_area; Agranular_insular_area_ventral_part; Gustatory_areas; Posterior_parietal_association_areas; Primary_somatosensory_area_trunk; Anterior_cingulate_area_ventral_part\n",
      "Hippocampal_formation \t 3 \t Subiculum_ventral_part; Subiculum_dorsal_part; Parasubiculum\n",
      "Olfactory_areas \t 3 \t Dorsal_peduncular_area; Anterior_olfactory_nucleus; Accessory_olfactory_bulb\n",
      "Striatum \t 4 \t Nucleus_accumbens; Caudoputamen; Intercalated_amygdalar_nucleus; Lateral_septal_nucleus_ventral_part\n",
      "Hippocampal_region \t 4 \t Dentate_gyrus; Field_CA3; Field_CA1; Field_CA2\n",
      "Cortical_subplate \t 5 \t Lateral_amygdalar_nucleus; Claustrum; Basomedial_amygdalar_nucleus; Endopiriform_nucleus_dorsal_part; Endopiriform_nucleus_ventral_part\n"
     ]
    }
   ],
   "source": [
    "RD_Agg_expl_RD = RegionDistributions(Agg_avgZ1.set_index(\"STR\"), show=True)"
   ]
  },
  {
   "cell_type": "markdown",
   "metadata": {
    "heading_collapsed": true
   },
   "source": [
    "# For Method 3, Does it able to normlize gene set size?"
   ]
  },
  {
   "cell_type": "code",
   "execution_count": 23,
   "metadata": {
    "hidden": true
   },
   "outputs": [],
   "source": [
    "ssc_all = pd.read_excel(\"/Users/jiayao/Work/ASD_Circuits/dat/genes/Supplementary_Table_7.xlsx\")\n",
    "ssc_sib = ssc_all[(ssc_all[\"dnv_LGDs_sib\"]!=0) | (ssc_all[\"dnv_missense_sib\"]!=0)]"
   ]
  },
  {
   "cell_type": "code",
   "execution_count": 24,
   "metadata": {
    "hidden": true
   },
   "outputs": [
    {
     "data": {
      "text/plain": [
       "(1215, 29)"
      ]
     },
     "execution_count": 24,
     "metadata": {},
     "output_type": "execute_result"
    }
   ],
   "source": [
    "ssc_sib.shape"
   ]
  },
  {
   "cell_type": "code",
   "execution_count": 25,
   "metadata": {
    "hidden": true
   },
   "outputs": [],
   "source": [
    "tmp = ssc_sib.sample(n=101)"
   ]
  },
  {
   "cell_type": "code",
   "execution_count": 26,
   "metadata": {
    "hidden": true
   },
   "outputs": [
    {
     "data": {
      "text/plain": [
       "(101, 29)"
      ]
     },
     "execution_count": 26,
     "metadata": {},
     "output_type": "execute_result"
    }
   ],
   "source": [
    "tmp.shape"
   ]
  },
  {
   "cell_type": "code",
   "execution_count": 32,
   "metadata": {
    "hidden": true
   },
   "outputs": [],
   "source": [
    "def sibling_gene_weight(df):\n",
    "    gene2MutN = {}\n",
    "    for i, row in df.iterrows():\n",
    "        try:\n",
    "            g = GeneSymbol2Entrez[row[\"gene\"]]\n",
    "            gene2MutN[g] = row[\"dnv_LGDs_sib\"]*0.375 + (row[\"dnv_missense_sib\"]) * 0.145\n",
    "        except:\n",
    "            continue\n",
    "    return gene2MutN"
   ]
  },
  {
   "cell_type": "code",
   "execution_count": 41,
   "metadata": {
    "hidden": true
   },
   "outputs": [
    {
     "name": "stdout",
     "output_type": "stream",
     "text": [
      "94\n"
     ]
    }
   ],
   "source": [
    "tmp = ssc_sib.sample(n=101)\n",
    "Sib_sample101 = sibling_gene_weight(tmp)\n",
    "print(len(Sib_sample101))"
   ]
  },
  {
   "cell_type": "code",
   "execution_count": 42,
   "metadata": {
    "hidden": true
   },
   "outputs": [
    {
     "name": "stdout",
     "output_type": "stream",
     "text": [
      "35\n"
     ]
    }
   ],
   "source": [
    "Sib_avgZ1 = AvgSTRZ_Weighted(ExpZscoreMat2, Sib_sample101, Method=1,\n",
    "                                              csv_fil = \"dat/bias3/Sib.AvgZ1.Mutcount.bias.csv\")"
   ]
  },
  {
   "cell_type": "code",
   "execution_count": 43,
   "metadata": {
    "hidden": true
   },
   "outputs": [
    {
     "data": {
      "image/png": "[encoded data removed]",
      "text/plain": [
       "<Figure size 480x320 with 1 Axes>"
      ]
     },
     "metadata": {
      "needs_background": "light"
     },
     "output_type": "display_data"
    }
   ],
   "source": [
    "PlotEffectDist(Sib_avgZ1, title=\"Effect size Agg avgZ FDR:%f %d genes\"%(0.2, 101))"
   ]
  },
  {
   "cell_type": "code",
   "execution_count": 48,
   "metadata": {
    "hidden": true
   },
   "outputs": [
    {
     "name": "stdout",
     "output_type": "stream",
     "text": [
      "0.0019389413868474712 5.378630752479766e-07\n",
      "0.00212888363670234 1.7775576724506274e-06\n",
      "0.0016110278965608001 1.3050112890064857e-06\n",
      "0.0019358141239947896 5.760567288389296e-07\n",
      "0.0022852619988945146 7.708278715898236e-07\n",
      "0.0031768258531090377 2.2397084615744967e-06\n",
      "0.0023976437120662992 7.834306513733399e-07\n",
      "0.002349322249294572 1.029242751347744e-06\n",
      "0.0020237881053463396 2.221745386863179e-06\n",
      "0.0019175731271255324 5.128107621677241e-07\n"
     ]
    }
   ],
   "source": [
    "for i in range(10):\n",
    "    tmp = ssc_sib.sample(n=101)\n",
    "    Sib_sample101 = sibling_gene_weight(tmp)\n",
    "    Sib_avgZ1 = AvgSTRZ_Weighted(ExpZscoreMat2, Sib_sample101, Method=1)\n",
    "    top50_bs = Sib_avgZ1.head(50)[\"EFFECT\"].values\n",
    "    print(np.mean(top50_bs), np.var(top50_bs))"
   ]
  },
  {
   "cell_type": "code",
   "execution_count": 49,
   "metadata": {
    "hidden": true
   },
   "outputs": [
    {
     "name": "stdout",
     "output_type": "stream",
     "text": [
      "0.0056178484525570005 2.7923883679755892e-06\n",
      "0.0063490141009708775 6.71122461813859e-06\n",
      "0.006272680032825859 7.2703626914502964e-06\n",
      "0.004640283704860911 9.524726181487976e-06\n",
      "0.007033120044551493 3.6697212756592134e-05\n",
      "0.0053330014479219855 4.446320349635775e-06\n",
      "0.004881409060390986 3.2799961958770596e-06\n",
      "0.008129327437749478 2.2443012497996824e-05\n",
      "0.005829531961867925 7.041011879232908e-06\n",
      "0.006899409318098098 1.1198934525975897e-05\n"
     ]
    }
   ],
   "source": [
    "for i in range(10):\n",
    "    tmp = ssc_sib.sample(n=51)\n",
    "    Sib_sample101 = sibling_gene_weight(tmp)\n",
    "    Sib_avgZ1 = AvgSTRZ_Weighted(ExpZscoreMat2, Sib_sample101, Method=1)\n",
    "    top50_bs = Sib_avgZ1.head(50)[\"EFFECT\"].values\n",
    "    print(np.mean(top50_bs), np.var(top50_bs))"
   ]
  },
  {
   "cell_type": "code",
   "execution_count": 50,
   "metadata": {
    "hidden": true
   },
   "outputs": [
    {
     "name": "stdout",
     "output_type": "stream",
     "text": [
      "0.001100446505943761 2.988754348972949e-07\n",
      "0.0011642074229136932 7.341448714940769e-07\n",
      "0.0010108115411336094 4.5438772774939387e-07\n",
      "0.0007369056751881707 2.392685044830714e-07\n",
      "0.0007036137265139063 5.696060924448429e-08\n",
      "0.00099602873182754 3.12551865580685e-07\n",
      "0.0008208283876010277 2.821142591447742e-07\n",
      "0.0006866171908992538 1.9505664913639837e-07\n",
      "0.0010822239264682272 1.9859062228758234e-07\n",
      "0.0008399816450629278 1.6045526842913665e-07\n"
     ]
    }
   ],
   "source": [
    "for i in range(10):\n",
    "    tmp = ssc_sib.sample(n=200)\n",
    "    Sib_sample101 = sibling_gene_weight(tmp)\n",
    "    Sib_avgZ1 = AvgSTRZ_Weighted(ExpZscoreMat2, Sib_sample101, Method=1)\n",
    "    top50_bs = Sib_avgZ1.head(50)[\"EFFECT\"].values\n",
    "    print(np.mean(top50_bs), np.var(top50_bs))"
   ]
  },
  {
   "cell_type": "code",
   "execution_count": null,
   "metadata": {
    "hidden": true
   },
   "outputs": [],
   "source": [
    "print(\"hj\")"
   ]
  },
  {
   "cell_type": "code",
   "execution_count": 56,
   "metadata": {
    "hidden": true
   },
   "outputs": [],
   "source": [
    "Sib_match = Agg_match_df = pd.read_csv(\"dat/matching/asd_sib_exp_matches_1000.csv\", index_col=\"GENE\")"
   ]
  },
  {
   "cell_type": "code",
   "execution_count": 58,
   "metadata": {
    "hidden": true
   },
   "outputs": [
    {
     "name": "stdout",
     "output_type": "stream",
     "text": [
      "230.46532803896204 4366.858251996743\n"
     ]
    }
   ],
   "source": [
    "tmp = ssc_sib.sample(n=51)\n",
    "Sib_sample51 = sibling_gene_weight(tmp)\n",
    "Sib_avgZ3_51 = AvgSTRZ_Weighted(ExpZscoreMat2, Sib_sample51, Method=3, Match_DF=Sib_match)\n",
    "top50_bs = Sib_avgZ3_51.head(50)[\"EFFECT\"].values\n",
    "print(np.mean(top50_bs), np.var(top50_bs))"
   ]
  },
  {
   "cell_type": "code",
   "execution_count": 59,
   "metadata": {
    "hidden": true
   },
   "outputs": [
    {
     "name": "stdout",
     "output_type": "stream",
     "text": [
      "47.95358833527919 498.3731183045462\n"
     ]
    }
   ],
   "source": [
    "tmp = ssc_sib.sample(n=101)\n",
    "Sib_sample101 = sibling_gene_weight(tmp)\n",
    "Sib_avgZ3_101 = AvgSTRZ_Weighted(ExpZscoreMat2, Sib_sample101, Method=3, Match_DF=Sib_match)\n",
    "top50_bs = Sib_avgZ3_101.head(50)[\"EFFECT\"].values\n",
    "print(np.mean(top50_bs), np.var(top50_bs))"
   ]
  },
  {
   "cell_type": "code",
   "execution_count": 60,
   "metadata": {
    "hidden": true
   },
   "outputs": [
    {
     "name": "stdout",
     "output_type": "stream",
     "text": [
      "24.469691297297096 160.61366363201324\n"
     ]
    }
   ],
   "source": [
    "tmp = ssc_sib.sample(n=201)\n",
    "Sib_sample201 = sibling_gene_weight(tmp)\n",
    "Sib_avgZ3_201 = AvgSTRZ_Weighted(ExpZscoreMat2, Sib_sample201, Method=3, Match_DF=Sib_match)\n",
    "top50_bs = Sib_avgZ3_201.head(50)[\"EFFECT\"].values\n",
    "print(np.mean(top50_bs), np.var(top50_bs))"
   ]
  },
  {
   "cell_type": "code",
   "execution_count": null,
   "metadata": {
    "hidden": true
   },
   "outputs": [],
   "source": []
  }
 ],
 "metadata": {
  "kernelspec": {
   "display_name": "Python 3",
   "language": "python",
   "name": "python3"
  },
  "language_info": {
   "codemirror_mode": {
    "name": "ipython",
    "version": 3
   },
   "file_extension": ".py",
   "mimetype": "text/x-python",
   "name": "python",
   "nbconvert_exporter": "python",
   "pygments_lexer": "ipython3",
   "version": "3.7.1"
  }
 },
 "nbformat": 4,
 "nbformat_minor": 2
}
