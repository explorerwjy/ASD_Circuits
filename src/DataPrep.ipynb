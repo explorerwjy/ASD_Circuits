{
 "cells": [
  {
   "cell_type": "code",
   "execution_count": 7,
   "metadata": {},
   "outputs": [
    {
     "name": "stdout",
     "output_type": "stream",
     "text": [
      "The autoreload extension is already loaded. To reload it, use:\n",
      "  %reload_ext autoreload\n"
     ]
    }
   ],
   "source": [
    "%load_ext autoreload\n",
    "%autoreload 2\n",
    "from ASD_Circuits import *"
   ]
  },
  {
   "cell_type": "code",
   "execution_count": 3,
   "metadata": {},
   "outputs": [
    {
     "name": "stderr",
     "output_type": "stream",
     "text": [
      "/Users/jiayao/anaconda3/lib/python3.7/site-packages/IPython/core/interactiveshell.py:3020: DtypeWarning: Columns (38,48) have mixed types. Specify dtype option on import or set low_memory=False.\n",
      "  interactivity=interactivity, compiler=compiler, result=result)\n"
     ]
    }
   ],
   "source": [
    "HGNC = pd.read_csv(\"/Users/jiayao/Work/Resources/protein-coding_gene.txt\", delimiter=\"\\t\")\n",
    "ENSID2Entrez = dict(zip(HGNC[\"ensembl_gene_id\"].values, HGNC[\"entrez_id\"].values))\n",
    "GeneSymbol2Entrez = dict(zip(HGNC[\"symbol\"].values, HGNC[\"entrez_id\"].values))\n",
    "Entrez2Symbol = dict(zip(HGNC[\"entrez_id\"].values, HGNC[\"symbol\"].values))\n",
    "allen_mouse_genes = loadgenelist(\"../dat/allen-mouse-exp/allen-mouse-gene_entrez.txt\")"
   ]
  },
  {
   "cell_type": "markdown",
   "metadata": {},
   "source": [
    "# ASD/NDD Split"
   ]
  },
  {
   "cell_type": "code",
   "execution_count": 12,
   "metadata": {},
   "outputs": [],
   "source": [
    "ASC = pd.read_csv(\"../dat/genes/asd/asc_tada_RR.csv\", index_col=\"gene\")\n",
    "NDD = pd.read_excel(\"/Users/jiayao/Work/ASD_Circuits/dat/genes/1-s2.0-S0092867419313984-mmc4.xlsx\", sheet_name=\"NDD_de_novo\")\n",
    "ASDpNDDsplits = pd.read_excel(\"/Users/jiayao/Work/ASD_Circuits/dat/genes/1-s2.0-S0092867419313984-mmc4.xlsx\", \n",
    "                              sheet_name=\"Heterogeneity\")"
   ]
  },
  {
   "cell_type": "code",
   "execution_count": 15,
   "metadata": {},
   "outputs": [
    {
     "data": {
      "text/plain": [
       "array(['hugoGene', 'hgnc_id', 'entrez_id', 'ensembl_gene_id',\n",
       "       'refseq_accession', 'uniprot_ids', 'location', 'chr', 'start_hg38',\n",
       "       'stop_hg38', 'strand', 'cDNA', 'exons', 'dn.ptv', 'dn.misa',\n",
       "       'dn.misb', 'dbs.case.ptv', 'dbs.control.ptv', 'sweden.case.ptv',\n",
       "       'sweden.control.ptv', 'case.ptv', 'control.ptv', 'mut.ptv',\n",
       "       'mut.misa', 'mut.misb', 'pLI', 'gamma_dn.ptv', 'gamma_dn.misa',\n",
       "       'gamma_dn.misb', 'BF_dn.ptv', 'BF_dn.misa', 'BF_dn.misb',\n",
       "       'gamma_cc_ptv', 'rho.ptv', 'BF_cc.ptv', 'qval_dnccPTV',\n",
       "       'ddidDN.ptv', 'ddidDN.misb', 'ddidDN.misa', 'asd_rate_dn',\n",
       "       'asd_dn', 'ddid_dn', 'ddid_rate_dn', 'Transmitted_PTV_proband',\n",
       "       'Untransmitted_PTV_proband', 'ASC33_2014', 'SSC27_2014',\n",
       "       'ASC65_2015', 'ASC102_2018', 'ASD:DDID', 'ASD_vs_DDID', 'ASD53',\n",
       "       'DDID49', 'Function', 'LGD_RR', 'misa_RR', 'misb_RR'], dtype=object)"
      ]
     },
     "execution_count": 15,
     "metadata": {},
     "output_type": "execute_result"
    }
   ],
   "source": [
    "ASC.columns.values"
   ]
  },
  {
   "cell_type": "code",
   "execution_count": 8,
   "metadata": {},
   "outputs": [],
   "source": [
    "NDD_counts = CountNDD(NDD)"
   ]
  },
  {
   "cell_type": "code",
   "execution_count": 25,
   "metadata": {
    "collapsed": true
   },
   "outputs": [
    {
     "name": "stdout",
     "output_type": "stream",
     "text": [
      "19 19 \t 5 5 \t ASD_P ASD_p\n",
      "22 22 \t 26 27 \t ASD_NDD ASD_NDD\n",
      "14 14 \t 17 17 \t ASD_NDD ASD_NDD\n",
      "10 9 \t 22 20 \t ASD_NDD ASD_NDD\n",
      "9 9 \t 14 14 \t ASD_NDD ASD_NDD\n",
      "8 7 \t 14 13 \t ASD_NDD ASD_NDD\n",
      "10 9 \t 32 31 \t ASD_NDD ASD_NDD\n",
      "8 7 \t 3 3 \t ASD_P ASD_p\n",
      "6 6 \t 19 20 \t ASD_NDD ASD_NDD\n",
      "8 8 \t 10 10 \t ASD_NDD ASD_NDD\n",
      "6 6 \t 11 11 \t ASD_NDD ASD_NDD\n",
      "7 7 \t 2 2 \t ASD_P ASD_p\n",
      "10 5 \t 2 2 \t ASD_P ASD_p\n",
      "5 5 \t 19 17 \t ASD_NDD ASD_NDD\n",
      "4 4 \t 0 0 \t ASD_P ASD_p\n",
      "8 7 \t 10 10 \t ASD_NDD ASD_NDD\n",
      "5 4 \t 33 32 \t ASD_NDD ASD_NDD\n",
      "8 7 \t 3 2 \t ASD_P ASD_p\n",
      "6 6 \t 3 2 \t ASD_P ASD_p\n",
      "5 5 \t 6 6 \t ASD_NDD ASD_NDD\n",
      "4 4 \t 15 16 \t ASD_NDD ASD_NDD\n",
      "5 5 \t 3 3 \t ASD_P ASD_p\n",
      "5 5 \t 2 1 \t ASD_P ASD_p\n",
      "4 4 \t 1 1 \t ASD_P ASD_p\n",
      "6 3 \t 17 18 \t ASD_NDD ASD_NDD\n",
      "4 4 \t 6 5 \t ASD_NDD ASD_NDD\n",
      "4 4 \t 1 1 \t ASD_P ASD_p\n",
      "8 6 \t 3 3 \t ASD_P ASD_p\n",
      "4 3 \t 6 6 \t ASD_NDD ASD_NDD\n",
      "4 3 \t 1 1 \t ASD_P ASD_p\n",
      "5 4 \t 2 1 \t ASD_P ASD_p\n",
      "3 3 \t 7 7 \t ASD_NDD ASD_NDD\n",
      "7 7 \t 6 6 \t ASD_NDD ASD_NDD\n",
      "4 4 \t 7 6 \t ASD_NDD ASD_NDD\n",
      "3 3 \t 6 3 \t ASD_NDD ASD_NDD\n",
      "3 3 \t 0 0 \t ASD_P ASD_p\n",
      "4 2 \t 4 3 \t ASD_NDD ASD_NDD\n",
      "8 8 \t 13 12 \t ASD_NDD ASD_NDD\n",
      "3 3 \t 0 0 \t ASD_P ASD_p\n",
      "2 2 \t 0 0 \t ASD_P ASD_p\n",
      "8 8 \t 5 4 \t ASD_P ASD_p\n",
      "2 2 \t 0 0 \t ASD_P ASD_p\n",
      "2 2 \t 0 0 \t ASD_P ASD_p\n",
      "3 3 \t 4 4 \t ASD_NDD ASD_NDD\n",
      "4 3 \t 4 4 \t ASD_NDD ASD_NDD\n",
      "2 2 \t 3 3 \t ASD_NDD ASD_NDD\n",
      "0 0 \t 1 1 \t ASD_P ASD_NDD\n",
      "3 3 \t 14 14 \t ASD_NDD ASD_NDD\n",
      "3 3 \t 0 0 \t ASD_P ASD_p\n",
      "2 2 \t 2 2 \t ASD_NDD ASD_NDD\n",
      "6 2 \t 2 1 \t ASD_P ASD_p\n",
      "4 3 \t 17 17 \t ASD_NDD ASD_NDD\n",
      "1 1 \t 0 0 \t ASD_P ASD_p\n",
      "2 2 \t 1 1 \t ASD_P ASD_p\n",
      "2 2 \t 2 2 \t ASD_NDD ASD_NDD\n",
      "2 2 \t 0 0 \t ASD_P ASD_p\n",
      "2 2 \t 18 18 \t ASD_NDD ASD_NDD\n",
      "2 2 \t 1 1 \t ASD_P ASD_p\n",
      "2 2 \t 2 1 \t ASD_P ASD_NDD\n",
      "6 4 \t 6 7 \t ASD_NDD ASD_NDD\n",
      "5 5 \t 13 13 \t ASD_NDD ASD_NDD\n",
      "2 2 \t 16 15 \t ASD_NDD ASD_NDD\n",
      "5 5 \t 8 8 \t ASD_NDD ASD_NDD\n",
      "2 2 \t 5 5 \t ASD_NDD ASD_NDD\n",
      "3 2 \t 10 9 \t ASD_NDD ASD_NDD\n",
      "2 2 \t 4 4 \t ASD_NDD ASD_NDD\n",
      "3 2 \t 10 10 \t ASD_NDD ASD_NDD\n",
      "2 2 \t 4 4 \t ASD_NDD ASD_NDD\n",
      "2 2 \t 0 0 \t ASD_P ASD_p\n",
      "3 3 \t 0 0 \t ASD_P ASD_p\n",
      "2 2 \t 0 0 \t ASD_P ASD_p\n",
      "2 2 \t 0 0 \t ASD_P ASD_p\n",
      "1 1 \t 3 3 \t ASD_NDD ASD_NDD\n",
      "3 3 \t 0 0 \t ASD_P ASD_p\n",
      "2 2 \t 2 2 \t ASD_NDD ASD_NDD\n",
      "3 2 \t 0 0 \t ASD_P ASD_p\n",
      "2 2 \t 1 1 \t ASD_P ASD_p\n",
      "2 2 \t 0 0 \t ASD_P ASD_p\n",
      "5 4 \t 2 2 \t ASD_P ASD_p\n",
      "3 3 \t 0 0 \t ASD_P ASD_p\n",
      "2 2 \t 0 0 \t ASD_P ASD_p\n",
      "3 3 \t 4 4 \t ASD_NDD ASD_NDD\n",
      "2 2 \t 0 0 \t ASD_P ASD_p\n",
      "3 3 \t 0 0 \t ASD_P ASD_p\n",
      "3 2 \t 3 2 \t ASD_NDD ASD_NDD\n",
      "2 2 \t 0 0 \t ASD_P ASD_p\n",
      "0 0 \t 0 0 \t ASD_P ASD_NDD\n",
      "2 2 \t 1 0 \t ASD_P ASD_p\n",
      "3 1 \t 1 1 \t ASD_NDD ASD_p\n",
      "1 1 \t 4 4 \t ASD_NDD ASD_NDD\n",
      "3 3 \t 1 0 \t ASD_P ASD_p\n",
      "3 3 \t 0 0 \t ASD_P ASD_p\n",
      "3 2 \t 4 4 \t ASD_NDD ASD_NDD\n",
      "3 3 \t 1 1 \t ASD_P ASD_p\n",
      "3 3 \t 4 4 \t ASD_NDD ASD_NDD\n",
      "2 0 \t 2 1 \t ASD_P ASD_NDD\n",
      "1 1 \t 0 0 \t ASD_P ASD_p\n",
      "3 3 \t 2 2 \t ASD_P ASD_p\n",
      "2 2 \t 0 0 \t ASD_P ASD_p\n",
      "3 2 \t 3 3 \t ASD_NDD ASD_NDD\n",
      "3 2 \t 0 0 \t ASD_P ASD_p\n",
      "3 3 \t 0 0 \t ASD_P ASD_p\n"
     ]
    }
   ],
   "source": [
    "def myASDNDDClassifier(NASD, NNDD, NASDProband=6430, NNDDProband=5264):\n",
    "    if NASD/NASDProband > NNDD/NNDDProband:\n",
    "        return \"ASD_p\"\n",
    "    else:\n",
    "        return \"ASD_NDD\"\n",
    "\n",
    "ASDpNDDsplits = ASDpNDDsplits.head(102)\n",
    "for i, row in ASDpNDDsplits.iterrows():\n",
    "    gene = row[\"gene\"]\n",
    "    dnASD = row[\"dn.asd\"]\n",
    "    mycountASD = ASC.loc[gene, \"dn.ptv\"] + ASC.loc[gene, \"dn.misa\"] + ASC.loc[gene, \"dn.misb\"]\n",
    "    dnNDD = row[\"dn.ndd\"]\n",
    "    try:\n",
    "        mycountNDD = NDD_counts[gene][\"All\"]\n",
    "    except:\n",
    "        mycountNDD = 0\n",
    "    _class = row[\"classifier\"]\n",
    "    myclass = myASDNDDClassifier(dnASD, dnNDD)\n",
    "    print(dnASD, mycountASD, \"\\t\", dnNDD, mycountNDD, \"\\t\",_class, myclass)"
   ]
  },
  {
   "cell_type": "code",
   "execution_count": null,
   "metadata": {},
   "outputs": [],
   "source": [
    "asc_asdp_gene2MutN = ASC_Gene_Weights(asc_asdp, gnomad_cons, FDR=0.1)\n",
    "asc_asdndd_gene2MutN = ASC_Gene_Weights(asc_asdndd, gnomad_cons, FDR=0.1)"
   ]
  },
  {
   "cell_type": "code",
   "execution_count": null,
   "metadata": {},
   "outputs": [],
   "source": [
    "asc_asdp_explevel_Mutcount = ExpAVGWithExpMatch(ExpMat, asc_asdp_gene2MutN, asd_asc_match_df,\n",
    "                                              csv_fil = \"dat/bias/asc.asdp.explevel.weighted.Mutcount.bias.csv\")\n",
    "RegionDistributions(asc_asdp_explevel_Mutcount.set_index(\"STR\"))"
   ]
  },
  {
   "cell_type": "code",
   "execution_count": null,
   "metadata": {},
   "outputs": [],
   "source": [
    "asc_asdbdd_explevel_Mutcount = ExpAVGWithExpMatch(ExpMat, asc_asdndd_gene2MutN, asd_asc_match_df,\n",
    "                                              csv_fil = \"dat/bias/asc.asdndd.explevel.weighted.Mutcount.bias.csv\")\n",
    "RegionDistributions(asc_asdbdd_explevel_Mutcount.set_index(\"STR\"))"
   ]
  },
  {
   "cell_type": "markdown",
   "metadata": {},
   "source": [
    "## SCZ GWAS TOP HITs"
   ]
  },
  {
   "cell_type": "code",
   "execution_count": 19,
   "metadata": {},
   "outputs": [
    {
     "name": "stdout",
     "output_type": "stream",
     "text": [
      "(321,)\n"
     ]
    }
   ],
   "source": [
    "scz_gwas_gene_test = pd.read_csv(\"/Users/jiayao/Work/NB_proposal/dat/GWAS/GeneTest/scz.genetest.tsv\", \n",
    "                                delimiter=\"\\t\")\n",
    "scz_gwas_genes = scz_gwas_gene_test[scz_gwas_gene_test[\"P\"]<5e-8][\"GENE\"].values\n",
    "print(scz_gwas_genes.shape)"
   ]
  },
  {
   "cell_type": "code",
   "execution_count": 26,
   "metadata": {},
   "outputs": [],
   "source": [
    "scz_gwas_genes_entrez = [GeneSymbol2Entrez[x] for x in scz_gwas_genes if x in GeneSymbol2Entrez]\n",
    "scz_gwas_genes_entrez = filtergenelist(scz_gwas_genes_entrez, allen_mouse_genes)\n",
    "WriteGeneList(scz_gwas_genes_entrez, \"../dat/genes/scz.gwas.entrez.list\")"
   ]
  },
  {
   "cell_type": "markdown",
   "metadata": {},
   "source": [
    "## De novo SCZ dataset (Howrigan 2020)"
   ]
  },
  {
   "cell_type": "code",
   "execution_count": 34,
   "metadata": {},
   "outputs": [],
   "source": [
    "scz_denovo = pd.read_excel(\"/Users/jiayao/Work/ASD_Circuits/doc/41593_2019_564_MOESM8_ESM.xlsx\")\n",
    "scz_denovo = scz_denovo[(scz_denovo[\"DISEASE\"] == \"SCZ\") & (scz_denovo[\"annotation_used\"]!=\"synonymous\")]"
   ]
  },
  {
   "cell_type": "code",
   "execution_count": 50,
   "metadata": {},
   "outputs": [
    {
     "data": {
      "text/html": [
       "<div>\n",
       "<style scoped>\n",
       "    .dataframe tbody tr th:only-of-type {\n",
       "        vertical-align: middle;\n",
       "    }\n",
       "\n",
       "    .dataframe tbody tr th {\n",
       "        vertical-align: top;\n",
       "    }\n",
       "\n",
       "    .dataframe thead th {\n",
       "        text-align: right;\n",
       "    }\n",
       "</style>\n",
       "<table border=\"1\" class=\"dataframe\">\n",
       "  <thead>\n",
       "    <tr style=\"text-align: right;\">\n",
       "      <th></th>\n",
       "      <th>CHROM</th>\n",
       "      <th>POS</th>\n",
       "      <th>REF</th>\n",
       "      <th>ALT</th>\n",
       "      <th>STUDY</th>\n",
       "      <th>DISEASE</th>\n",
       "      <th>gene_symbol_used</th>\n",
       "      <th>vep_gene</th>\n",
       "      <th>refseq_gene</th>\n",
       "      <th>cadd_gene</th>\n",
       "      <th>...</th>\n",
       "      <th>MutationAssessor_prediction</th>\n",
       "      <th>MetaSVM_prediction</th>\n",
       "      <th>MetaLR_prediction</th>\n",
       "      <th>combined_damaging_prediction</th>\n",
       "      <th>DistToSplice</th>\n",
       "      <th>Changing.ESR</th>\n",
       "      <th>frontal_cortex_DHS_peak</th>\n",
       "      <th>cerebrum_frontal_cortex_DHS_peak</th>\n",
       "      <th>cerebellum_DHS_peak</th>\n",
       "      <th>cfc_non_crb_DHS_peak</th>\n",
       "    </tr>\n",
       "  </thead>\n",
       "  <tbody>\n",
       "    <tr>\n",
       "      <th>0</th>\n",
       "      <td>1</td>\n",
       "      <td>899318</td>\n",
       "      <td>CCT</td>\n",
       "      <td>C</td>\n",
       "      <td>CMB</td>\n",
       "      <td>SCZ</td>\n",
       "      <td>KLHL17</td>\n",
       "      <td>KLHL17</td>\n",
       "      <td>KLHL17</td>\n",
       "      <td>KLHL17</td>\n",
       "      <td>...</td>\n",
       "      <td>NaN</td>\n",
       "      <td>NaN</td>\n",
       "      <td>NaN</td>\n",
       "      <td>False</td>\n",
       "      <td>20.0</td>\n",
       "      <td>True</td>\n",
       "      <td>True</td>\n",
       "      <td>True</td>\n",
       "      <td>False</td>\n",
       "      <td>True</td>\n",
       "    </tr>\n",
       "    <tr>\n",
       "      <th>1</th>\n",
       "      <td>1</td>\n",
       "      <td>1274965</td>\n",
       "      <td>G</td>\n",
       "      <td>A</td>\n",
       "      <td>CMB</td>\n",
       "      <td>SCZ</td>\n",
       "      <td>DVL1</td>\n",
       "      <td>DVL1</td>\n",
       "      <td>DVL1</td>\n",
       "      <td>DVL1</td>\n",
       "      <td>...</td>\n",
       "      <td>medium</td>\n",
       "      <td>tolerated</td>\n",
       "      <td>tolerated</td>\n",
       "      <td>True</td>\n",
       "      <td>4.0</td>\n",
       "      <td>False</td>\n",
       "      <td>True</td>\n",
       "      <td>True</td>\n",
       "      <td>False</td>\n",
       "      <td>True</td>\n",
       "    </tr>\n",
       "  </tbody>\n",
       "</table>\n",
       "<p>2 rows × 44 columns</p>\n",
       "</div>"
      ],
      "text/plain": [
       "  CHROM      POS  REF ALT STUDY DISEASE gene_symbol_used vep_gene refseq_gene  \\\n",
       "0     1   899318  CCT   C   CMB     SCZ           KLHL17   KLHL17      KLHL17   \n",
       "1     1  1274965    G   A   CMB     SCZ             DVL1     DVL1        DVL1   \n",
       "\n",
       "  cadd_gene         ...          MutationAssessor_prediction  \\\n",
       "0    KLHL17         ...                                  NaN   \n",
       "1      DVL1         ...                               medium   \n",
       "\n",
       "  MetaSVM_prediction MetaLR_prediction combined_damaging_prediction  \\\n",
       "0                NaN               NaN                        False   \n",
       "1          tolerated         tolerated                         True   \n",
       "\n",
       "  DistToSplice Changing.ESR frontal_cortex_DHS_peak  \\\n",
       "0         20.0         True                    True   \n",
       "1          4.0        False                    True   \n",
       "\n",
       "   cerebrum_frontal_cortex_DHS_peak  cerebellum_DHS_peak cfc_non_crb_DHS_peak  \n",
       "0                              True                False                 True  \n",
       "1                              True                False                 True  \n",
       "\n",
       "[2 rows x 44 columns]"
      ]
     },
     "execution_count": 50,
     "metadata": {},
     "output_type": "execute_result"
    }
   ],
   "source": [
    "scz_denovo.head(2)"
   ]
  },
  {
   "cell_type": "code",
   "execution_count": 59,
   "metadata": {},
   "outputs": [],
   "source": [
    "Genes = list(set(scz_denovo[\"gene_symbol_used\"].values))\n",
    "writer = csv.writer(open(\"dat/scz.denovo.counts.mutrate.txt\", \"wt\"), delimiter=\"\\t\")\n",
    "writer.writerow([\"gene.id\", \"mut.lgd\", \"dn.lgd\", \"mut.mis\", \"dn.mis\"]) #, \"mut.all\", \"dn.all\"])\n",
    "Missed_genes = []\n",
    "for gene in Genes:\n",
    "    try:\n",
    "        gene_df = scz_denovo[scz_denovo[\"gene_symbol_used\"]==gene]\n",
    "        n_lgd = gene_df[gene_df[\"annotation_used\"]==\"ptv\"].shape[0]\n",
    "        n_mis = gene_df[gene_df[\"annotation_used\"]==\"missense\"].shape[0]\n",
    "        n_all = n_lgd + n_mis\n",
    "        rate_mis = bg.loc[gene, \"p_misense\"]\n",
    "        rate_lgd = bg.loc[gene, \"p_LGD\"]\n",
    "        rate_all = rate_lgd + rate_mis\n",
    "        writer.writerow([gene, rate_lgd, n_lgd, rate_mis, n_mis])\n",
    "    except:\n",
    "        #print(gene)\n",
    "        Missed_genes.append(gene)"
   ]
  },
  {
   "cell_type": "code",
   "execution_count": 48,
   "metadata": {},
   "outputs": [
    {
     "data": {
      "text/html": [
       "<div>\n",
       "<style scoped>\n",
       "    .dataframe tbody tr th:only-of-type {\n",
       "        vertical-align: middle;\n",
       "    }\n",
       "\n",
       "    .dataframe tbody tr th {\n",
       "        vertical-align: top;\n",
       "    }\n",
       "\n",
       "    .dataframe thead th {\n",
       "        text-align: right;\n",
       "    }\n",
       "</style>\n",
       "<table border=\"1\" class=\"dataframe\">\n",
       "  <thead>\n",
       "    <tr style=\"text-align: right;\">\n",
       "      <th></th>\n",
       "      <th>#Reference</th>\n",
       "      <th>GeneVersion</th>\n",
       "      <th>Transcript.TranscriptVersion</th>\n",
       "      <th>ExonCount</th>\n",
       "      <th>Chr</th>\n",
       "      <th>StartPos</th>\n",
       "      <th>EndPos</th>\n",
       "      <th>p_synonymous</th>\n",
       "      <th>p_misense</th>\n",
       "      <th>p_nonsense</th>\n",
       "      <th>...</th>\n",
       "      <th>0.55</th>\n",
       "      <th>0.6</th>\n",
       "      <th>0.65</th>\n",
       "      <th>0.7</th>\n",
       "      <th>0.75</th>\n",
       "      <th>0.8</th>\n",
       "      <th>0.85</th>\n",
       "      <th>0.9</th>\n",
       "      <th>0.95</th>\n",
       "      <th>0.56</th>\n",
       "    </tr>\n",
       "    <tr>\n",
       "      <th>GeneName</th>\n",
       "      <th></th>\n",
       "      <th></th>\n",
       "      <th></th>\n",
       "      <th></th>\n",
       "      <th></th>\n",
       "      <th></th>\n",
       "      <th></th>\n",
       "      <th></th>\n",
       "      <th></th>\n",
       "      <th></th>\n",
       "      <th></th>\n",
       "      <th></th>\n",
       "      <th></th>\n",
       "      <th></th>\n",
       "      <th></th>\n",
       "      <th></th>\n",
       "      <th></th>\n",
       "      <th></th>\n",
       "      <th></th>\n",
       "      <th></th>\n",
       "      <th></th>\n",
       "    </tr>\n",
       "  </thead>\n",
       "  <tbody>\n",
       "    <tr>\n",
       "      <th>PLCXD1</th>\n",
       "      <td>&gt;hg19</td>\n",
       "      <td>wgEncodeGencodeBasicV19</td>\n",
       "      <td>ENST00000381657</td>\n",
       "      <td>5</td>\n",
       "      <td>X</td>\n",
       "      <td>200852</td>\n",
       "      <td>216005</td>\n",
       "      <td>0.000008</td>\n",
       "      <td>0.000015</td>\n",
       "      <td>5.192486e-07</td>\n",
       "      <td>...</td>\n",
       "      <td>5.525957e-07</td>\n",
       "      <td>5.454919e-07</td>\n",
       "      <td>5.343863e-07</td>\n",
       "      <td>5.117010e-07</td>\n",
       "      <td>4.081868e-07</td>\n",
       "      <td>3.877915e-07</td>\n",
       "      <td>2.665134e-07</td>\n",
       "      <td>1.323599e-07</td>\n",
       "      <td>2.553236e-08</td>\n",
       "      <td>5.510965e-07</td>\n",
       "    </tr>\n",
       "    <tr>\n",
       "      <th>PPP2R3B</th>\n",
       "      <td>&gt;hg19</td>\n",
       "      <td>wgEncodeGencodeBasicV19</td>\n",
       "      <td>ENST00000390665</td>\n",
       "      <td>12</td>\n",
       "      <td>X</td>\n",
       "      <td>295099</td>\n",
       "      <td>347429</td>\n",
       "      <td>0.000017</td>\n",
       "      <td>0.000028</td>\n",
       "      <td>1.030881e-06</td>\n",
       "      <td>...</td>\n",
       "      <td>3.744647e-06</td>\n",
       "      <td>3.082277e-06</td>\n",
       "      <td>2.537585e-06</td>\n",
       "      <td>2.274970e-06</td>\n",
       "      <td>1.627129e-06</td>\n",
       "      <td>1.317029e-06</td>\n",
       "      <td>1.074042e-06</td>\n",
       "      <td>3.170196e-07</td>\n",
       "      <td>3.219619e-08</td>\n",
       "      <td>3.546518e-06</td>\n",
       "    </tr>\n",
       "  </tbody>\n",
       "</table>\n",
       "<p>2 rows × 63 columns</p>\n",
       "</div>"
      ],
      "text/plain": [
       "         #Reference              GeneVersion Transcript.TranscriptVersion  \\\n",
       "GeneName                                                                    \n",
       "PLCXD1        >hg19  wgEncodeGencodeBasicV19              ENST00000381657   \n",
       "PPP2R3B       >hg19  wgEncodeGencodeBasicV19              ENST00000390665   \n",
       "\n",
       "          ExonCount Chr  StartPos  EndPos  p_synonymous  p_misense  \\\n",
       "GeneName                                                             \n",
       "PLCXD1            5   X    200852  216005      0.000008   0.000015   \n",
       "PPP2R3B          12   X    295099  347429      0.000017   0.000028   \n",
       "\n",
       "            p_nonsense      ...               0.55           0.6  \\\n",
       "GeneName                    ...                                    \n",
       "PLCXD1    5.192486e-07      ...       5.525957e-07  5.454919e-07   \n",
       "PPP2R3B   1.030881e-06      ...       3.744647e-06  3.082277e-06   \n",
       "\n",
       "                  0.65           0.7          0.75           0.8  \\\n",
       "GeneName                                                           \n",
       "PLCXD1    5.343863e-07  5.117010e-07  4.081868e-07  3.877915e-07   \n",
       "PPP2R3B   2.537585e-06  2.274970e-06  1.627129e-06  1.317029e-06   \n",
       "\n",
       "                  0.85           0.9          0.95          0.56  \n",
       "GeneName                                                          \n",
       "PLCXD1    2.665134e-07  1.323599e-07  2.553236e-08  5.510965e-07  \n",
       "PPP2R3B   1.074042e-06  3.170196e-07  3.219619e-08  3.546518e-06  \n",
       "\n",
       "[2 rows x 63 columns]"
      ]
     },
     "execution_count": 48,
     "metadata": {},
     "output_type": "execute_result"
    }
   ],
   "source": [
    "bg = pd.read_csv(\"/Users/jiayao/Work/Resources/MutationRate_20170710_rate.txt\", delimiter=\"\\t\", index_col=\"GeneName\")\n",
    "bg.head(2)"
   ]
  },
  {
   "cell_type": "code",
   "execution_count": 60,
   "metadata": {},
   "outputs": [],
   "source": [
    "# RES: /Users/jiayao/Work/ASD_Circuits/dat/TADA_v1.2/scz.tata.csv"
   ]
  },
  {
   "cell_type": "markdown",
   "metadata": {},
   "source": [
    "### Get entrez ID for scz genes"
   ]
  },
  {
   "cell_type": "code",
   "execution_count": 22,
   "metadata": {},
   "outputs": [
    {
     "name": "stderr",
     "output_type": "stream",
     "text": [
      "/Users/jiayao/anaconda3/lib/python3.7/site-packages/IPython/core/interactiveshell.py:3020: DtypeWarning: Columns (38,48) have mixed types. Specify dtype option on import or set low_memory=False.\n",
      "  interactivity=interactivity, compiler=compiler, result=result)\n"
     ]
    }
   ],
   "source": [
    "SCZ_Genes = pd.read_csv(\n",
    "        \"/Users/jiayao/Work/BrainDisorders/data/psychencode/INT-17_SCZ_High_Confidence_Gene_List.csv\")\n",
    "SCZ_Genes_ens = SCZ_Genes[\"ensembl_names\"].values\n",
    "\n",
    "SCZ_Entrez = [GeneSymbol2Entrez[x] for x in SCZ_Genes_ens if x in GeneSymbol2Entrez]"
   ]
  },
  {
   "cell_type": "code",
   "execution_count": 23,
   "metadata": {},
   "outputs": [],
   "source": [
    "avil_genes = pd.read_csv(\"dat/match-features.csv\")[\"GENE\"].values"
   ]
  },
  {
   "cell_type": "code",
   "execution_count": 24,
   "metadata": {},
   "outputs": [
    {
     "data": {
      "text/plain": [
       "array([        1,         2,         9, ..., 102724560, 102724652,\n",
       "       102724788])"
      ]
     },
     "execution_count": 24,
     "metadata": {},
     "output_type": "execute_result"
    }
   ],
   "source": [
    "avil_genes"
   ]
  },
  {
   "cell_type": "code",
   "execution_count": 25,
   "metadata": {},
   "outputs": [],
   "source": [
    "fout = open(\"dat/scz.gene.list\", 'wt')\n",
    "for x in SCZ_Entrez:\n",
    "    x = int(x)\n",
    "    if x in avil_genes:\n",
    "        fout.write(str(int(x))+\"\\n\")"
   ]
  },
  {
   "cell_type": "code",
   "execution_count": 67,
   "metadata": {},
   "outputs": [],
   "source": [
    "## de novo scz\n",
    "SCZ_Genes = pd.read_csv(\"/Users/jiayao/Work/ASD_Circuits/dat/TADA_v1.2/scz.tata.csv\")\n",
    "SCZ_Genes = SCZ_Genes[SCZ_Genes[\"qval\"]<0.5]\n",
    "SCZ_Genes_symbol = SCZ_Genes[\"gene.id\"].values\n",
    "HGNC = pd.read_csv(\"/Users/jiayao/Work/Resources/protein-coding_gene.txt\", delimiter=\"\\t\")\n",
    "GeneSymbol2Entrez = dict(zip(HGNC[\"symbol\"].values, HGNC[\"entrez_id\"].values))\n",
    "SCZ_Entrez = [GeneSymbol2Entrez[x] for x in SCZ_Genes_symbol if x in GeneSymbol2Entrez]\n",
    "\n",
    "fout = open(\"dat/scz.denovo.gene.list\", 'wt')\n",
    "for x in SCZ_Entrez:\n",
    "    x = int(x)\n",
    "    if x in avil_genes:\n",
    "        fout.write(str(int(x))+\"\\n\")"
   ]
  },
  {
   "cell_type": "markdown",
   "metadata": {},
   "source": [
    "### Quantile Norm expression data"
   ]
  },
  {
   "cell_type": "code",
   "execution_count": 17,
   "metadata": {},
   "outputs": [
    {
     "data": {
      "text/html": [
       "<div>\n",
       "<style scoped>\n",
       "    .dataframe tbody tr th:only-of-type {\n",
       "        vertical-align: middle;\n",
       "    }\n",
       "\n",
       "    .dataframe tbody tr th {\n",
       "        vertical-align: top;\n",
       "    }\n",
       "\n",
       "    .dataframe thead th {\n",
       "        text-align: right;\n",
       "    }\n",
       "</style>\n",
       "<table border=\"1\" class=\"dataframe\">\n",
       "  <thead>\n",
       "    <tr style=\"text-align: right;\">\n",
       "      <th></th>\n",
       "      <th>Anterior_amygdalar_area</th>\n",
       "      <th>Anterior_cingulate_area_dorsal_part</th>\n",
       "      <th>Anterior_cingulate_area_ventral_part</th>\n",
       "      <th>Nucleus_accumbens</th>\n",
       "      <th>Anterodorsal_nucleus</th>\n",
       "      <th>Anterior_hypothalamic_nucleus</th>\n",
       "      <th>Agranular_insular_area_dorsal_part</th>\n",
       "      <th>Agranular_insular_area_posterior_part</th>\n",
       "      <th>Agranular_insular_area_ventral_part</th>\n",
       "      <th>Nucleus_ambiguus</th>\n",
       "      <th>...</th>\n",
       "      <th>Primary_visual_area</th>\n",
       "      <th>Posterolateral_visual_area</th>\n",
       "      <th>posteromedial_visual_area</th>\n",
       "      <th>Ventral_medial_nucleus_of_the_thalamus</th>\n",
       "      <th>Ventromedial_hypothalamic_nucleus</th>\n",
       "      <th>Ventral_posterolateral_nucleus_of_the_thalamus</th>\n",
       "      <th>Ventral_posteromedial_nucleus_of_the_thalamus</th>\n",
       "      <th>Ventral_posteromedial_nucleus_of_the_thalamus_parvicellular_part</th>\n",
       "      <th>Ventral_tegmental_area</th>\n",
       "      <th>Hypoglossal_nucleus</th>\n",
       "    </tr>\n",
       "    <tr>\n",
       "      <th>ROW</th>\n",
       "      <th></th>\n",
       "      <th></th>\n",
       "      <th></th>\n",
       "      <th></th>\n",
       "      <th></th>\n",
       "      <th></th>\n",
       "      <th></th>\n",
       "      <th></th>\n",
       "      <th></th>\n",
       "      <th></th>\n",
       "      <th></th>\n",
       "      <th></th>\n",
       "      <th></th>\n",
       "      <th></th>\n",
       "      <th></th>\n",
       "      <th></th>\n",
       "      <th></th>\n",
       "      <th></th>\n",
       "      <th></th>\n",
       "      <th></th>\n",
       "      <th></th>\n",
       "    </tr>\n",
       "  </thead>\n",
       "  <tbody>\n",
       "    <tr>\n",
       "      <th>1</th>\n",
       "      <td>0.089402</td>\n",
       "      <td>0.060138</td>\n",
       "      <td>0.050112</td>\n",
       "      <td>0.023204</td>\n",
       "      <td>0.034093</td>\n",
       "      <td>0.088305</td>\n",
       "      <td>0.036078</td>\n",
       "      <td>NaN</td>\n",
       "      <td>0.046813</td>\n",
       "      <td>0.032990</td>\n",
       "      <td>...</td>\n",
       "      <td>0.035584</td>\n",
       "      <td>0.179587</td>\n",
       "      <td>0.021418</td>\n",
       "      <td>0.030367</td>\n",
       "      <td>0.115622</td>\n",
       "      <td>0.036984</td>\n",
       "      <td>0.053407</td>\n",
       "      <td>0.033779</td>\n",
       "      <td>0.110354</td>\n",
       "      <td>0.134065</td>\n",
       "    </tr>\n",
       "    <tr>\n",
       "      <th>2</th>\n",
       "      <td>0.040017</td>\n",
       "      <td>0.014211</td>\n",
       "      <td>0.023246</td>\n",
       "      <td>0.024009</td>\n",
       "      <td>0.403265</td>\n",
       "      <td>0.025202</td>\n",
       "      <td>0.354581</td>\n",
       "      <td>0.058713</td>\n",
       "      <td>0.145883</td>\n",
       "      <td>0.022381</td>\n",
       "      <td>...</td>\n",
       "      <td>0.043141</td>\n",
       "      <td>0.005781</td>\n",
       "      <td>0.213674</td>\n",
       "      <td>0.052746</td>\n",
       "      <td>0.038968</td>\n",
       "      <td>0.016603</td>\n",
       "      <td>0.018719</td>\n",
       "      <td>0.035381</td>\n",
       "      <td>0.122850</td>\n",
       "      <td>1.065840</td>\n",
       "    </tr>\n",
       "    <tr>\n",
       "      <th>9</th>\n",
       "      <td>0.148632</td>\n",
       "      <td>0.026984</td>\n",
       "      <td>0.002614</td>\n",
       "      <td>0.022323</td>\n",
       "      <td>0.058371</td>\n",
       "      <td>0.011842</td>\n",
       "      <td>0.058527</td>\n",
       "      <td>0.004481</td>\n",
       "      <td>0.026373</td>\n",
       "      <td>0.290885</td>\n",
       "      <td>...</td>\n",
       "      <td>0.016260</td>\n",
       "      <td>0.003517</td>\n",
       "      <td>0.028695</td>\n",
       "      <td>0.004277</td>\n",
       "      <td>0.214487</td>\n",
       "      <td>0.014443</td>\n",
       "      <td>0.016323</td>\n",
       "      <td>0.020207</td>\n",
       "      <td>0.046851</td>\n",
       "      <td>0.162448</td>\n",
       "    </tr>\n",
       "    <tr>\n",
       "      <th>10</th>\n",
       "      <td>0.022789</td>\n",
       "      <td>0.277115</td>\n",
       "      <td>0.340467</td>\n",
       "      <td>0.003136</td>\n",
       "      <td>0.395426</td>\n",
       "      <td>0.017588</td>\n",
       "      <td>0.068191</td>\n",
       "      <td>0.055832</td>\n",
       "      <td>0.013445</td>\n",
       "      <td>0.001063</td>\n",
       "      <td>...</td>\n",
       "      <td>0.017032</td>\n",
       "      <td>0.046885</td>\n",
       "      <td>0.056515</td>\n",
       "      <td>0.020204</td>\n",
       "      <td>0.025072</td>\n",
       "      <td>0.014544</td>\n",
       "      <td>0.004447</td>\n",
       "      <td>0.000343</td>\n",
       "      <td>0.018108</td>\n",
       "      <td>0.001659</td>\n",
       "    </tr>\n",
       "    <tr>\n",
       "      <th>12</th>\n",
       "      <td>0.114911</td>\n",
       "      <td>0.120483</td>\n",
       "      <td>0.164051</td>\n",
       "      <td>0.058857</td>\n",
       "      <td>0.375381</td>\n",
       "      <td>0.057778</td>\n",
       "      <td>0.267599</td>\n",
       "      <td>0.249365</td>\n",
       "      <td>0.146081</td>\n",
       "      <td>1.805787</td>\n",
       "      <td>...</td>\n",
       "      <td>0.096950</td>\n",
       "      <td>0.086672</td>\n",
       "      <td>0.134096</td>\n",
       "      <td>0.074759</td>\n",
       "      <td>0.409347</td>\n",
       "      <td>0.072722</td>\n",
       "      <td>0.109240</td>\n",
       "      <td>0.037688</td>\n",
       "      <td>0.125389</td>\n",
       "      <td>2.658146</td>\n",
       "    </tr>\n",
       "  </tbody>\n",
       "</table>\n",
       "<p>5 rows × 213 columns</p>\n",
       "</div>"
      ],
      "text/plain": [
       "     Anterior_amygdalar_area  Anterior_cingulate_area_dorsal_part  \\\n",
       "ROW                                                                 \n",
       "1                   0.089402                             0.060138   \n",
       "2                   0.040017                             0.014211   \n",
       "9                   0.148632                             0.026984   \n",
       "10                  0.022789                             0.277115   \n",
       "12                  0.114911                             0.120483   \n",
       "\n",
       "     Anterior_cingulate_area_ventral_part  Nucleus_accumbens  \\\n",
       "ROW                                                            \n",
       "1                                0.050112           0.023204   \n",
       "2                                0.023246           0.024009   \n",
       "9                                0.002614           0.022323   \n",
       "10                               0.340467           0.003136   \n",
       "12                               0.164051           0.058857   \n",
       "\n",
       "     Anterodorsal_nucleus  Anterior_hypothalamic_nucleus  \\\n",
       "ROW                                                        \n",
       "1                0.034093                       0.088305   \n",
       "2                0.403265                       0.025202   \n",
       "9                0.058371                       0.011842   \n",
       "10               0.395426                       0.017588   \n",
       "12               0.375381                       0.057778   \n",
       "\n",
       "     Agranular_insular_area_dorsal_part  \\\n",
       "ROW                                       \n",
       "1                              0.036078   \n",
       "2                              0.354581   \n",
       "9                              0.058527   \n",
       "10                             0.068191   \n",
       "12                             0.267599   \n",
       "\n",
       "     Agranular_insular_area_posterior_part  \\\n",
       "ROW                                          \n",
       "1                                      NaN   \n",
       "2                                 0.058713   \n",
       "9                                 0.004481   \n",
       "10                                0.055832   \n",
       "12                                0.249365   \n",
       "\n",
       "     Agranular_insular_area_ventral_part  Nucleus_ambiguus  \\\n",
       "ROW                                                          \n",
       "1                               0.046813          0.032990   \n",
       "2                               0.145883          0.022381   \n",
       "9                               0.026373          0.290885   \n",
       "10                              0.013445          0.001063   \n",
       "12                              0.146081          1.805787   \n",
       "\n",
       "            ...           Primary_visual_area  Posterolateral_visual_area  \\\n",
       "ROW         ...                                                             \n",
       "1           ...                      0.035584                    0.179587   \n",
       "2           ...                      0.043141                    0.005781   \n",
       "9           ...                      0.016260                    0.003517   \n",
       "10          ...                      0.017032                    0.046885   \n",
       "12          ...                      0.096950                    0.086672   \n",
       "\n",
       "     posteromedial_visual_area  Ventral_medial_nucleus_of_the_thalamus  \\\n",
       "ROW                                                                      \n",
       "1                     0.021418                                0.030367   \n",
       "2                     0.213674                                0.052746   \n",
       "9                     0.028695                                0.004277   \n",
       "10                    0.056515                                0.020204   \n",
       "12                    0.134096                                0.074759   \n",
       "\n",
       "     Ventromedial_hypothalamic_nucleus  \\\n",
       "ROW                                      \n",
       "1                             0.115622   \n",
       "2                             0.038968   \n",
       "9                             0.214487   \n",
       "10                            0.025072   \n",
       "12                            0.409347   \n",
       "\n",
       "     Ventral_posterolateral_nucleus_of_the_thalamus  \\\n",
       "ROW                                                   \n",
       "1                                          0.036984   \n",
       "2                                          0.016603   \n",
       "9                                          0.014443   \n",
       "10                                         0.014544   \n",
       "12                                         0.072722   \n",
       "\n",
       "     Ventral_posteromedial_nucleus_of_the_thalamus  \\\n",
       "ROW                                                  \n",
       "1                                         0.053407   \n",
       "2                                         0.018719   \n",
       "9                                         0.016323   \n",
       "10                                        0.004447   \n",
       "12                                        0.109240   \n",
       "\n",
       "     Ventral_posteromedial_nucleus_of_the_thalamus_parvicellular_part  \\\n",
       "ROW                                                                     \n",
       "1                                             0.033779                  \n",
       "2                                             0.035381                  \n",
       "9                                             0.020207                  \n",
       "10                                            0.000343                  \n",
       "12                                            0.037688                  \n",
       "\n",
       "     Ventral_tegmental_area  Hypoglossal_nucleus  \n",
       "ROW                                               \n",
       "1                  0.110354             0.134065  \n",
       "2                  0.122850             1.065840  \n",
       "9                  0.046851             0.162448  \n",
       "10                 0.018108             0.001659  \n",
       "12                 0.125389             2.658146  \n",
       "\n",
       "[5 rows x 213 columns]"
      ]
     },
     "execution_count": 17,
     "metadata": {},
     "output_type": "execute_result"
    }
   ],
   "source": [
    "exp_energy = pd.read_csv(\"/Users/jiayao/Work/ASD_Circuits/dat/allen-mouse-exp/energy-conn-model.csv\",\n",
    "                        index_col=\"ROW\")\n",
    "exp_energy.head()"
   ]
  },
  {
   "cell_type": "code",
   "execution_count": 18,
   "metadata": {},
   "outputs": [],
   "source": [
    "df_n = quantileNormalize(exp_energy)\n",
    "df_n.to_csv(\"dat/qn.energy-conn-model.csv\")"
   ]
  },
  {
   "cell_type": "markdown",
   "metadata": {},
   "source": [
    "## Get Matched Gene Set"
   ]
  },
  {
   "cell_type": "code",
   "execution_count": 79,
   "metadata": {},
   "outputs": [],
   "source": [
    "ContGeneSet(prefix=\"dat/asd_sib_match_genes\", outfil=\"../dat/genes/asd.sib.match.cont.list\")"
   ]
  },
  {
   "cell_type": "code",
   "execution_count": 80,
   "metadata": {},
   "outputs": [],
   "source": [
    "ContGeneSet(prefix=\"dat/asd_ssc_match_genes\", outfil=\"../dat/genes/asd.ssc.match.cont.list\")"
   ]
  },
  {
   "cell_type": "code",
   "execution_count": 84,
   "metadata": {},
   "outputs": [],
   "source": [
    "ContGeneSet(prefix=\"dat/asd_spark_match_genes\", outfil=\"../dat/genes/asd.spark.match.cont.list\")\n",
    "ContGeneSet(prefix=\"dat/asd_tada_match_genes\", outfil=\"../dat/genes/asd.tada.match.cont.list\")"
   ]
  },
  {
   "cell_type": "code",
   "execution_count": 144,
   "metadata": {},
   "outputs": [],
   "source": [
    "ContGeneSet(prefix=\"dat/asd_siblgd_match_genes\", outfil=\"../dat/genes/asd.siblgd.match.cont.list\")"
   ]
  },
  {
   "cell_type": "code",
   "execution_count": 133,
   "metadata": {},
   "outputs": [
    {
     "data": {
      "text/plain": [
       "(185, 16)"
      ]
     },
     "execution_count": 133,
     "metadata": {},
     "output_type": "execute_result"
    }
   ],
   "source": [
    "# ASD genes and Control gene sets\n",
    "DatDir = \"/Users/jiayao/Work/BrainDisorders/data/DenovoVariants/\"\n",
    "#SSCProLGD = pd.read_excel(DatDir + \"wigler2014ProLGD.xlsx\")\n",
    "#ProMIS.to_excel(DatDir + \"wigler2014ProMIS.xlsx\", index=False)\n",
    "SSCSibNSYN = pd.read_excel(DatDir + \"wigler2014SibNSYN.xlsx\")\n",
    "set(SSCSibNSYN[\"effectType\"])\n",
    "SSCSibLGD = SSCSibNSYN[SSCSibNSYN[\"effectType\"].isin(\n",
    "    [\"frame-shift\", \"splice-site\", \"nonsense\", \"noEnd\", \"noStart\"])]\n",
    "SSCSibLGD.shape"
   ]
  },
  {
   "cell_type": "code",
   "execution_count": 134,
   "metadata": {},
   "outputs": [],
   "source": [
    "GeneSymbol2Entrez = {}\n",
    "HGNC = pd.read_csv(\"/Users/jiayao/Work/Resources/protein-coding_gene.txt\", delimiter=\"\\t\")\n",
    "GeneSymbol2Entrez = dict(zip(HGNC[\"symbol\"].values, HGNC[\"entrez_id\"].values))"
   ]
  },
  {
   "cell_type": "code",
   "execution_count": 135,
   "metadata": {},
   "outputs": [],
   "source": [
    "SSCSibLGD = list(SSCSibLGD[\"effectGene\"].values)\n",
    "SSCSibLGD.remove(\"CCDC41\"); SSCSibLGD.append(\"CEP83\")\n",
    "SSCSibLGD.remove(\"FAM211B\"); SSCSibLGD.append(\"LRRC75B\")\n",
    "SSCSibLGD.remove(\"GYLTL1B\"); SSCSibLGD.append(\"LARGE2\")\n",
    "SSCSibLGD.remove(\"NBPF9,NBPF8\"); SSCSibLGD.append(\"NBPF8\")\n",
    "SSCSibLGD.remove(\"SDPR\"); SSCSibLGD.append(\"CAVIN2\")\n",
    "SSCSibLGD.remove(\"PCDHGA11\"); #SSCSibLGD.append(\"PCDHGA11\")\n",
    "SSCSibLGD.remove(\"TOMM70A\"); SSCSibLGD.append(\"TOMM70\")\n",
    "SSCSibLGD = [GeneSymbol2Entrez[x] for x in SSCSibLGD]"
   ]
  },
  {
   "cell_type": "code",
   "execution_count": 141,
   "metadata": {},
   "outputs": [],
   "source": [
    "allen_mouse_genes = loadgenelist(\"../dat/allen-mouse-exp/allen-mouse-gene_entrez.txt\")\n",
    "SSCSibLGD = filtergenelist(SSCSibLGD, allen_mouse_genes)\n",
    "WriteGeneList(SSCSibLGD, \"../dat/genes/asd.sib.lgd.list\")"
   ]
  },
  {
   "cell_type": "code",
   "execution_count": 140,
   "metadata": {},
   "outputs": [
    {
     "data": {
      "text/plain": [
       "158"
      ]
     },
     "execution_count": 140,
     "metadata": {},
     "output_type": "execute_result"
    }
   ],
   "source": [
    "len(SSCSibLGD)"
   ]
  },
  {
   "cell_type": "code",
   "execution_count": 147,
   "metadata": {},
   "outputs": [
    {
     "name": "stderr",
     "output_type": "stream",
     "text": [
      "/Users/jiayao/anaconda3/lib/python3.7/site-packages/pandas/io/excel.py:329: FutureWarning: The `sheetname` keyword is deprecated, use `sheet_name` instead\n",
      "  **kwds)\n"
     ]
    }
   ],
   "source": [
    "TADAFeb17 = pd.read_excel(\"../dat/genes/TADA_202002.xlsx\", sheetname=\"TADA\", skiprows=1)"
   ]
  },
  {
   "cell_type": "code",
   "execution_count": 148,
   "metadata": {},
   "outputs": [
    {
     "data": {
      "text/html": [
       "<div>\n",
       "<style scoped>\n",
       "    .dataframe tbody tr th:only-of-type {\n",
       "        vertical-align: middle;\n",
       "    }\n",
       "\n",
       "    .dataframe tbody tr th {\n",
       "        vertical-align: top;\n",
       "    }\n",
       "\n",
       "    .dataframe thead th {\n",
       "        text-align: right;\n",
       "    }\n",
       "</style>\n",
       "<table border=\"1\" class=\"dataframe\">\n",
       "  <thead>\n",
       "    <tr style=\"text-align: right;\">\n",
       "      <th></th>\n",
       "      <th>GeneID</th>\n",
       "      <th>ASC65_2015</th>\n",
       "      <th>ASC102_2018</th>\n",
       "      <th>pLI</th>\n",
       "      <th>HGNC</th>\n",
       "      <th>SFARICategory</th>\n",
       "      <th>SFARIScore</th>\n",
       "      <th>DDCategory</th>\n",
       "      <th>DDAllelic</th>\n",
       "      <th>DDMutCons</th>\n",
       "      <th>...</th>\n",
       "      <th>logBF_ASCCaseLGD</th>\n",
       "      <th>SPARKCaseLGD</th>\n",
       "      <th>SPARKCtrlLGD</th>\n",
       "      <th>logBF_SPARKCaseLGD</th>\n",
       "      <th>logBF_woSPARK30K</th>\n",
       "      <th>PP_woSPARK30K</th>\n",
       "      <th>Qvalue_woSPARK30K</th>\n",
       "      <th>logBF_All</th>\n",
       "      <th>PP_All</th>\n",
       "      <th>Qvalue</th>\n",
       "    </tr>\n",
       "  </thead>\n",
       "  <tbody>\n",
       "    <tr>\n",
       "      <th>0</th>\n",
       "      <td>ENSG00000136531</td>\n",
       "      <td>1</td>\n",
       "      <td>1</td>\n",
       "      <td>1</td>\n",
       "      <td>SCN2A</td>\n",
       "      <td>Rare Single Gene Mutation, Syndromic</td>\n",
       "      <td>1</td>\n",
       "      <td>confirmed|confirmed|confirmed</td>\n",
       "      <td>monoallelic|monoallelic|monoallelic</td>\n",
       "      <td>loss of function|loss of function|all missense...</td>\n",
       "      <td>...</td>\n",
       "      <td>2.142983</td>\n",
       "      <td>1</td>\n",
       "      <td>0</td>\n",
       "      <td>0.676413</td>\n",
       "      <td>54.647785</td>\n",
       "      <td>1.0</td>\n",
       "      <td>0.000000e+00</td>\n",
       "      <td>85.613359</td>\n",
       "      <td>1.0</td>\n",
       "      <td>0.0</td>\n",
       "    </tr>\n",
       "    <tr>\n",
       "      <th>1</th>\n",
       "      <td>ENSG00000101126</td>\n",
       "      <td>1</td>\n",
       "      <td>1</td>\n",
       "      <td>0.998904</td>\n",
       "      <td>ADNP</td>\n",
       "      <td>Rare Single Gene Mutation, Syndromic, Functional</td>\n",
       "      <td>1</td>\n",
       "      <td>confirmed</td>\n",
       "      <td>monoallelic</td>\n",
       "      <td>loss of function</td>\n",
       "      <td>...</td>\n",
       "      <td>2.142983</td>\n",
       "      <td>2</td>\n",
       "      <td>1</td>\n",
       "      <td>0.756500</td>\n",
       "      <td>33.270047</td>\n",
       "      <td>1.0</td>\n",
       "      <td>9.242607e-15</td>\n",
       "      <td>66.304512</td>\n",
       "      <td>1.0</td>\n",
       "      <td>0.0</td>\n",
       "    </tr>\n",
       "  </tbody>\n",
       "</table>\n",
       "<p>2 rows × 59 columns</p>\n",
       "</div>"
      ],
      "text/plain": [
       "            GeneID ASC65_2015 ASC102_2018       pLI   HGNC  \\\n",
       "0  ENSG00000136531          1           1         1  SCN2A   \n",
       "1  ENSG00000101126          1           1  0.998904   ADNP   \n",
       "\n",
       "                                      SFARICategory SFARIScore  \\\n",
       "0              Rare Single Gene Mutation, Syndromic          1   \n",
       "1  Rare Single Gene Mutation, Syndromic, Functional          1   \n",
       "\n",
       "                      DDCategory                            DDAllelic  \\\n",
       "0  confirmed|confirmed|confirmed  monoallelic|monoallelic|monoallelic   \n",
       "1                      confirmed                          monoallelic   \n",
       "\n",
       "                                           DDMutCons   ...   logBF_ASCCaseLGD  \\\n",
       "0  loss of function|loss of function|all missense...   ...           2.142983   \n",
       "1                                   loss of function   ...           2.142983   \n",
       "\n",
       "   SPARKCaseLGD  SPARKCtrlLGD  logBF_SPARKCaseLGD  logBF_woSPARK30K  \\\n",
       "0             1             0            0.676413         54.647785   \n",
       "1             2             1            0.756500         33.270047   \n",
       "\n",
       "   PP_woSPARK30K  Qvalue_woSPARK30K  logBF_All  PP_All  Qvalue  \n",
       "0            1.0       0.000000e+00  85.613359     1.0     0.0  \n",
       "1            1.0       9.242607e-15  66.304512     1.0     0.0  \n",
       "\n",
       "[2 rows x 59 columns]"
      ]
     },
     "execution_count": 148,
     "metadata": {},
     "output_type": "execute_result"
    }
   ],
   "source": [
    "TADAFeb17.head(2)"
   ]
  },
  {
   "cell_type": "code",
   "execution_count": 172,
   "metadata": {},
   "outputs": [],
   "source": [
    "aa = TADAFeb17[TADAFeb17[\"Qvalue\"]<=0.2][\"HGNC\"].values\n",
    "aa = list(aa)\n",
    "aa.remove(\"ECPAS\")\n",
    "aa.remove(\"UGT1A6\")\n",
    "aa.remove(\"UGT1A10\")\n",
    "aa.remove(\"OGA\")\n",
    "#aa.remove(\"UGT1A10\")\n",
    "#aa.remove(\"UGT1A10\")"
   ]
  },
  {
   "cell_type": "code",
   "execution_count": 173,
   "metadata": {},
   "outputs": [],
   "source": [
    "tadaFeb17 = [GeneSymbol2Entrez[x] for x in aa]\n",
    "tadaFeb17.extend([23392, 54578, 54575, 10724])\n",
    "tadaFeb17 = filtergenelist(tadaFeb17, allen_mouse_genes)\n",
    "WriteGeneList(tadaFeb17, \"../dat/genes/asd.tada.list\")"
   ]
  },
  {
   "cell_type": "markdown",
   "metadata": {},
   "source": [
    "### Gene List Overlap"
   ]
  },
  {
   "cell_type": "code",
   "execution_count": 30,
   "metadata": {},
   "outputs": [
    {
     "data": {
      "text/plain": [
       "<matplotlib_venn._common.VennDiagram at 0x1c204f2a90>"
      ]
     },
     "execution_count": 30,
     "metadata": {},
     "output_type": "execute_result"
    },
    {
     "data": {
      "image/png": "[encoded data removed]",
      "text/plain": [
       "<Figure size 900x600 with 1 Axes>"
      ]
     },
     "metadata": {},
     "output_type": "display_data"
    }
   ],
   "source": [
    "from matplotlib_venn import venn3, venn3_circles\n",
    "ssc_str = [int(x.strip()) for x in open(\"../dat/genes/asd.ssc.entrez.list\", \"rt\")]\n",
    "spark_str = [int(x.strip()) for x in open(\"../dat/genes/asd.spark.entrez.list\", \"rt\")]\n",
    "tada_str = [int(x.strip()) for x in open(\"../dat/genes/asd.tada.list\", \"rt\")]\n",
    "plt.figure(dpi=150)\n",
    "venn3([set(ssc_str), set(spark_str), set(tada_str)], \n",
    "      set_labels = ('ssc', 'spark', 'tada'))"
   ]
  },
  {
   "cell_type": "code",
   "execution_count": 4,
   "metadata": {},
   "outputs": [
    {
     "data": {
      "text/plain": [
       "<matplotlib_venn._common.VennDiagram at 0x1c1a602550>"
      ]
     },
     "execution_count": 4,
     "metadata": {},
     "output_type": "execute_result"
    },
    {
     "data": {
      "image/png": "[encoded data removed]",
      "text/plain": [
       "<Figure size 900x600 with 1 Axes>"
      ]
     },
     "metadata": {},
     "output_type": "display_data"
    }
   ],
   "source": [
    "from matplotlib_venn import venn3, venn3_circles\n",
    "scz_gwas = [int(x.strip()) for x in open(\"../dat/genes/scz.gwas.entrez.list\", \"rt\")]\n",
    "scz_denovo = [int(x.strip()) for x in open(\"../dat/genes/scz.denovo.entrez.list\", \"rt\")]\n",
    "scz_psyencode = [int(x.strip()) for x in open(\"../dat/genes/scz.psyencode.entrez.list\", \"rt\")]\n",
    "plt.figure(dpi=150)\n",
    "venn3([set(scz_gwas), set(scz_denovo), set(scz_psyencode)], \n",
    "      set_labels = ('scz_gwas_str', 'scz_denovo_str', 'scz_psyencode_str'))"
   ]
  },
  {
   "cell_type": "code",
   "execution_count": 5,
   "metadata": {},
   "outputs": [
    {
     "data": {
      "text/html": [
       "<div>\n",
       "<style scoped>\n",
       "    .dataframe tbody tr th:only-of-type {\n",
       "        vertical-align: middle;\n",
       "    }\n",
       "\n",
       "    .dataframe tbody tr th {\n",
       "        vertical-align: top;\n",
       "    }\n",
       "\n",
       "    .dataframe thead th {\n",
       "        text-align: right;\n",
       "    }\n",
       "</style>\n",
       "<table border=\"1\" class=\"dataframe\">\n",
       "  <thead>\n",
       "    <tr style=\"text-align: right;\">\n",
       "      <th></th>\n",
       "      <th>GENE</th>\n",
       "      <th>EXP</th>\n",
       "      <th>LENGTH.LOG2</th>\n",
       "    </tr>\n",
       "  </thead>\n",
       "  <tbody>\n",
       "    <tr>\n",
       "      <th>0</th>\n",
       "      <td>1</td>\n",
       "      <td>0.064184</td>\n",
       "      <td>10.539159</td>\n",
       "    </tr>\n",
       "    <tr>\n",
       "      <th>1</th>\n",
       "      <td>2</td>\n",
       "      <td>0.270140</td>\n",
       "      <td>12.111462</td>\n",
       "    </tr>\n",
       "  </tbody>\n",
       "</table>\n",
       "</div>"
      ],
      "text/plain": [
       "   GENE       EXP  LENGTH.LOG2\n",
       "0     1  0.064184    10.539159\n",
       "1     2  0.270140    12.111462"
      ]
     },
     "execution_count": 5,
     "metadata": {},
     "output_type": "execute_result"
    }
   ],
   "source": [
    "mouse_exp_df = pd.read_csv(\"/Users/jiayao/Work/ASD_Circuits/src/dat/match-features.csv\")\n",
    "mouse_exp_df.head(2)"
   ]
  },
  {
   "cell_type": "code",
   "execution_count": 16,
   "metadata": {},
   "outputs": [
    {
     "data": {
      "image/png": "[encoded data removed]",
      "text/plain": [
       "<Figure size 1200x800 with 1 Axes>"
      ]
     },
     "metadata": {
      "needs_background": "light"
     },
     "output_type": "display_data"
    },
    {
     "name": "stdout",
     "output_type": "stream",
     "text": [
      "2.9311108518745113\n",
      "3.9520805713141605\n",
      "3.088526758970134\n",
      "18446.5 0.06417464808155592\n"
     ]
    }
   ],
   "source": [
    "plt.figure(dpi=200)\n",
    "plt.hist(mouse_exp_df[mouse_exp_df[\"GENE\"].isin(scz_gwas)][\"EXP\"].values, \n",
    "         bins=50, color=\"red\", label=\"gwas\", alpha=.5, density=1)\n",
    "plt.hist(mouse_exp_df[mouse_exp_df[\"GENE\"].isin(scz_denovo)][\"EXP\"].values, \n",
    "         bins=50, color=\"blue\", label=\"de novo\", alpha=.5, density=1)\n",
    "plt.hist(mouse_exp_df[mouse_exp_df[\"GENE\"].isin(scz_psyencode)][\"EXP\"].values, \n",
    "         bins=50, color=\"green\", label=\"psy\", alpha=.5, density=1)\n",
    "plt.legend()\n",
    "plt.show()\n",
    "for sett in [scz_gwas, scz_denovo, scz_psyencode]:\n",
    "    print(np.mean(mouse_exp_df[mouse_exp_df[\"GENE\"].isin(sett)][\"EXP\"].values))\n",
    "    \n",
    "t, p = scipy.stats.mannwhitneyu(\n",
    "    mouse_exp_df[mouse_exp_df[\"GENE\"].isin(scz_denovo)][\"EXP\"].values, \n",
    "    mouse_exp_df[mouse_exp_df[\"GENE\"].isin(scz_gwas)][\"EXP\"].values, \n",
    "    alternative='greater')\n",
    "print(t, p)"
   ]
  },
  {
   "cell_type": "code",
   "execution_count": 24,
   "metadata": {},
   "outputs": [],
   "source": [
    "symbol_scz_gwas = [Entrez2Symbol[int(x)] for x in scz_gwas]\n",
    "symbol_scz_denovo = [Entrez2Symbol[int(x)] for x in scz_denovo]\n",
    "symbol_scz_psyencode = [Entrez2Symbol[int(x)] for x in scz_psyencode]"
   ]
  },
  {
   "cell_type": "code",
   "execution_count": 32,
   "metadata": {
    "scrolled": false
   },
   "outputs": [
    {
     "data": {
      "image/png": "[encoded data removed]",
      "text/plain": [
       "<Figure size 1200x800 with 1 Axes>"
      ]
     },
     "metadata": {
      "needs_background": "light"
     },
     "output_type": "display_data"
    },
    {
     "name": "stdout",
     "output_type": "stream",
     "text": [
      "0.9881056298024783\n",
      "1.0354942226727877\n",
      "1.0401523550037222\n",
      "17806.5 0.19602959193832625\n"
     ]
    }
   ],
   "source": [
    "gtex_exp_df = pd.read_csv(\"/Users/jiayao/Work/NB_proposal/dat/GTEx_SMTS_Gene_Exp.tsv\", delimiter=\"\\t\")\n",
    "plt.figure(dpi=200)\n",
    "plt.hist(gtex_exp_df[gtex_exp_df[\"Description\"].isin(symbol_scz_gwas)][\"Brain\"].values, \n",
    "         bins=50, color=\"red\", label=\"gwas\", alpha=.5, density=1)\n",
    "plt.hist(gtex_exp_df[gtex_exp_df[\"Description\"].isin(symbol_scz_denovo)][\"Brain\"].values, \n",
    "         bins=50, color=\"blue\", label=\"de novo\", alpha=.5, density=1)\n",
    "plt.hist(gtex_exp_df[gtex_exp_df[\"Description\"].isin(symbol_scz_psyencode)][\"Brain\"].values, \n",
    "         bins=50, color=\"green\", label=\"psy\", alpha=.5, density=1)\n",
    "plt.legend()\n",
    "plt.show()\n",
    "for sett in [symbol_scz_gwas, symbol_scz_denovo, symbol_scz_psyencode]:\n",
    "    print(np.mean(gtex_exp_df[gtex_exp_df[\"Description\"].isin(sett)][\"Brain\"].values))\n",
    "    \n",
    "t, p = scipy.stats.mannwhitneyu(\n",
    "    gtex_exp_df[gtex_exp_df[\"Description\"].isin(symbol_scz_denovo)][\"Brain\"].values, \n",
    "    gtex_exp_df[gtex_exp_df[\"Description\"].isin(symbol_scz_gwas)][\"Brain\"].values, \n",
    "    alternative='greater')\n",
    "print(t, p)"
   ]
  },
  {
   "cell_type": "code",
   "execution_count": null,
   "metadata": {},
   "outputs": [],
   "source": []
  },
  {
   "cell_type": "code",
   "execution_count": 32,
   "metadata": {},
   "outputs": [],
   "source": [
    "ExpZscoreMat = \"../dat/allen-mouse-exp/energy-zscore-conn-model.csv\"\n",
    "ExpZscoreMat = pd.read_csv(ExpZscoreMat, index_col=\"ROW\")"
   ]
  },
  {
   "cell_type": "code",
   "execution_count": 43,
   "metadata": {},
   "outputs": [],
   "source": [
    "asd_sib = [int(x.strip()) for x in open(\"../dat/genes/asd.sib.entrez.list\", \"rt\")]\n",
    "scz_gwas_qbias = pd.read_csv(\"dat/bias/scz.gwas.quantilescore.rank.tsv\", delimiter=\"\\t\")\n",
    "mean_top_50_case = np.mean(scz_gwas_qbias[\"Score\"].values[:50])\n",
    "res = []\n",
    "for i in range(100):\n",
    "    asd_sibrand = np.random.choice(asd_sib, 250)\n",
    "    df = QuantileAVGScoring(ExpZscoreMat, asd_sibrand,\n",
    "                  csv_fil=None)\n",
    "    top_50_bias = [x[1] for x in df[:50]]\n",
    "    mean_top_50_bias = np.mean(top_50_bias)\n",
    "    diff = mean_top_50_case - mean_top_50_bias\n",
    "    res.append(diff)"
   ]
  },
  {
   "cell_type": "code",
   "execution_count": 50,
   "metadata": {},
   "outputs": [
    {
     "name": "stdout",
     "output_type": "stream",
     "text": [
      "0.003383917659588731\n",
      "0.05027741860196748\n"
     ]
    },
    {
     "data": {
      "image/png": "[encoded data removed]",
      "text/plain": [
       "<Figure size 720x480 with 1 Axes>"
      ]
     },
     "metadata": {
      "needs_background": "light"
     },
     "output_type": "display_data"
    }
   ],
   "source": [
    "plt.figure(dpi=120)\n",
    "plt.hist(res, label=\"scz_gwas\")\n",
    "plt.hist(res2, label=\"asd_ssc\")\n",
    "plt.title(\"Hist of mean bias diff\")\n",
    "print(np.mean(res))\n",
    "print(np.mean(res2))\n",
    "plt.xlabel(\"mean_case - mean_asd_rand\")\n",
    "plt.legend()\n",
    "plt.show()"
   ]
  },
  {
   "cell_type": "code",
   "execution_count": 38,
   "metadata": {},
   "outputs": [],
   "source": [
    "asd_sib = [int(x.strip()) for x in open(\"../dat/genes/asd.sib.entrez.list\", \"rt\")]\n",
    "scz_gwas_qbias = pd.read_csv(\"dat/bias/asd.ssc.quantilescore.rank.tsv\", delimiter=\"\\t\")\n",
    "mean_top_50_case = np.mean(scz_gwas_qbias[\"Score\"].values[:50])\n",
    "res2 = []\n",
    "for i in range(100):\n",
    "    asd_sibrand = np.random.choice(asd_sib, 250)\n",
    "    df = QuantileAVGScoring(ExpZscoreMat, asd_sibrand,\n",
    "                  csv_fil=None)\n",
    "    top_50_bias = [x[1] for x in df[:50]]\n",
    "    mean_top_50_bias = np.mean(top_50_bias)\n",
    "    diff = mean_top_50_case - mean_top_50_bias\n",
    "    res2.append(diff)"
   ]
  },
  {
   "cell_type": "code",
   "execution_count": 41,
   "metadata": {},
   "outputs": [
    {
     "name": "stdout",
     "output_type": "stream",
     "text": [
      "0.05027741860196748\n"
     ]
    },
    {
     "data": {
      "image/png": "[encoded data removed]",
      "text/plain": [
       "<Figure size 432x288 with 1 Axes>"
      ]
     },
     "metadata": {
      "needs_background": "light"
     },
     "output_type": "display_data"
    }
   ],
   "source": [
    "plt.hist(res2)\n",
    "print(np.mean(res2))\n",
    "plt.show()"
   ]
  },
  {
   "cell_type": "code",
   "execution_count": 35,
   "metadata": {},
   "outputs": [
    {
     "data": {
      "text/html": [
       "<div>\n",
       "<style scoped>\n",
       "    .dataframe tbody tr th:only-of-type {\n",
       "        vertical-align: middle;\n",
       "    }\n",
       "\n",
       "    .dataframe tbody tr th {\n",
       "        vertical-align: top;\n",
       "    }\n",
       "\n",
       "    .dataframe thead th {\n",
       "        text-align: right;\n",
       "    }\n",
       "</style>\n",
       "<table border=\"1\" class=\"dataframe\">\n",
       "  <thead>\n",
       "    <tr style=\"text-align: right;\">\n",
       "      <th></th>\n",
       "      <th>EXP</th>\n",
       "      <th>LENGTH.LOG2</th>\n",
       "      <th>ExpQ</th>\n",
       "      <th>LenQ</th>\n",
       "    </tr>\n",
       "    <tr>\n",
       "      <th>GENE</th>\n",
       "      <th></th>\n",
       "      <th></th>\n",
       "      <th></th>\n",
       "      <th></th>\n",
       "    </tr>\n",
       "  </thead>\n",
       "  <tbody>\n",
       "    <tr>\n",
       "      <th>10975</th>\n",
       "      <td>11.873905</td>\n",
       "      <td>7.417853</td>\n",
       "      <td>0.95645</td>\n",
       "      <td>0.000064</td>\n",
       "    </tr>\n",
       "    <tr>\n",
       "      <th>84987</th>\n",
       "      <td>4.420141</td>\n",
       "      <td>7.442943</td>\n",
       "      <td>0.82516</td>\n",
       "      <td>0.000128</td>\n",
       "    </tr>\n",
       "  </tbody>\n",
       "</table>\n",
       "</div>"
      ],
      "text/plain": [
       "             EXP  LENGTH.LOG2     ExpQ      LenQ\n",
       "GENE                                            \n",
       "10975  11.873905     7.417853  0.95645  0.000064\n",
       "84987   4.420141     7.442943  0.82516  0.000128"
      ]
     },
     "execution_count": 35,
     "metadata": {},
     "output_type": "execute_result"
    }
   ],
   "source": [
    "MatchFeatures = pd.read_csv(\"dat/match-features.csv\",index_col=\"GENE\")\n",
    "# Annotate quntiles\n",
    "MatchFeatures = MatchFeatures.sort_values(\"EXP\")\n",
    "count = 0\n",
    "for g, row in MatchFeatures.iterrows():\n",
    "    count += 1\n",
    "    quntitle = count/MatchFeatures.shape[0]\n",
    "    MatchFeatures.loc[g, \"ExpQ\"] = quntitle\n",
    "MatchFeatures = MatchFeatures.sort_values(\"LENGTH.LOG2\")\n",
    "count = 0\n",
    "for g, row in MatchFeatures.iterrows():\n",
    "    count += 1\n",
    "    quntitle = count/MatchFeatures.shape[0]\n",
    "    MatchFeatures.loc[g, \"LenQ\"] = quntitle\n",
    "MatchFeatures.head(2)"
   ]
  },
  {
   "cell_type": "code",
   "execution_count": 209,
   "metadata": {},
   "outputs": [],
   "source": [
    "gene = 7273\n",
    "exp = MatchFeatures.loc[gene, \"EXP\"]\n",
    "expq = MatchFeatures.loc[gene, \"ExpQ\"]\n",
    "lower = max(0, expq - r)\n",
    "upper = min(1, expq + r)\n",
    "quntiles = MatchFeatures[(MatchFeatures[\"ExpQ\"]>=lower) & \\\n",
    "                        (MatchFeatures[\"ExpQ\"]<=upper)]\n",
    "quntiles = quntiles[~quntiles.index.isin(asd_ssc_genes)]\n",
    "dat = []\n",
    "for g, row in quntiles.iterrows():\n",
    "    sample = dict(row)\n",
    "    sample[\"GENE\"] = g\n",
    "    dat.append(sample)\n",
    "match = np.random.choice(dat, 1000, p=assignProb([x[\"ExpQ\"] for x in dat]))\n",
    "write_match(gene, match, Dir)"
   ]
  },
  {
   "cell_type": "code",
   "execution_count": 211,
   "metadata": {},
   "outputs": [
    {
     "data": {
      "image/png": "[encoded data removed]",
      "text/plain": [
       "<Figure size 432x288 with 1 Axes>"
      ]
     },
     "metadata": {
      "needs_background": "light"
     },
     "output_type": "display_data"
    },
    {
     "data": {
      "image/png": "[encoded data removed]",
      "text/plain": [
       "<Figure size 432x288 with 1 Axes>"
      ]
     },
     "metadata": {
      "needs_background": "light"
     },
     "output_type": "display_data"
    }
   ],
   "source": [
    "plt.hist([x[\"EXP\"] for x in match], bins=50, density=1)\n",
    "plt.vlines(x=MatchFeatures.loc[gene,\"EXP\"], ymin=0, ymax=100)\n",
    "plt.show()\n",
    "plt.hist([x[\"ExpQ\"] for x in match], bins=50, density=1)\n",
    "plt.vlines(x=MatchFeatures.loc[gene,\"ExpQ\"], ymin=0, ymax=100)\n",
    "plt.show()"
   ]
  },
  {
   "cell_type": "code",
   "execution_count": 219,
   "metadata": {},
   "outputs": [],
   "source": [
    "asd_ssc_genes = loadgenelist(\"../dat/genes/asd.ssc.entrez.list\")\n",
    "r = 0.02\n",
    "Dir = \"dat/Match/asd_ssc_match_genes\"\n",
    "for gene in asd_ssc_genes:\n",
    "    if gene not in MatchFeatures.index:\n",
    "        continue\n",
    "    exp = MatchFeatures.loc[gene, \"EXP\"]\n",
    "    expq = MatchFeatures.loc[gene, \"ExpQ\"]\n",
    "    ## Modify r if necessary\n",
    "    if expq - r < 0:\n",
    "        r = expq - 0\n",
    "    if expq + r > 1:\n",
    "        r = 1 - expq\n",
    "    lower = max(0, expq - r)\n",
    "    upper = min(1, expq + r)\n",
    "    quntiles = MatchFeatures[(MatchFeatures[\"ExpQ\"]>=lower) & \\\n",
    "                            (MatchFeatures[\"ExpQ\"]<=upper)]\n",
    "    quntiles = quntiles[~quntiles.index.isin(asd_ssc_genes)]\n",
    "    dat = []\n",
    "    for g, row in quntiles.iterrows():\n",
    "        sample = dict(row)\n",
    "        sample[\"GENE\"] = g\n",
    "        dat.append(sample)\n",
    "    match = np.random.choice(dat, 1000, p=assignProb([x[\"ExpQ\"] for x in dat]))\n",
    "    write_match(gene, match, Dir)"
   ]
  },
  {
   "cell_type": "code",
   "execution_count": 220,
   "metadata": {},
   "outputs": [],
   "source": [
    "# Check kernel\n",
    "gene = 7273\n",
    "matched_genes = loadgenelist(\"%s/%d.match.csv\"%(Dir, gene))\n",
    "exps = []\n",
    "q_exps = []\n",
    "for g in matched_genes:\n",
    "    exps.append(MatchFeatures.loc[g, \"EXP\"])\n",
    "    q_exps.append(MatchFeatures.loc[g, \"ExpQ\"])"
   ]
  },
  {
   "cell_type": "code",
   "execution_count": 221,
   "metadata": {},
   "outputs": [
    {
     "data": {
      "image/png": "[encoded data removed]",
      "text/plain": [
       "<Figure size 432x288 with 1 Axes>"
      ]
     },
     "metadata": {
      "needs_background": "light"
     },
     "output_type": "display_data"
    },
    {
     "data": {
      "image/png": "[encoded data removed]",
      "text/plain": [
       "<Figure size 432x288 with 1 Axes>"
      ]
     },
     "metadata": {
      "needs_background": "light"
     },
     "output_type": "display_data"
    }
   ],
   "source": [
    "plt.hist(q_exps,bins=50)\n",
    "plt.vlines(x=MatchFeatures.loc[gene,\"ExpQ\"], ymin=0, ymax=100)\n",
    "plt.show()\n",
    "plt.hist(q_exps,bins=50)\n",
    "plt.vlines(x=MatchFeatures.loc[gene,\"ExpQ\"], ymin=0, ymax=100)\n",
    "plt.show()"
   ]
  },
  {
   "cell_type": "code",
   "execution_count": 222,
   "metadata": {},
   "outputs": [],
   "source": [
    "# How good are these matching in terms of exp ???\n",
    "dat = []\n",
    "for f in os.listdir(Dir):\n",
    "    tmp = {}\n",
    "    gene = int(f.split(\".\")[0])\n",
    "    matched_genes = loadgenelist(\"%s/%s\"%(Dir, f))\n",
    "    exps = []\n",
    "    q_exps = []\n",
    "    for g in matched_genes:\n",
    "        exps.append(MatchFeatures.loc[g, \"EXP\"])\n",
    "        q_exps.append(MatchFeatures.loc[g, \"ExpQ\"])\n",
    "    tmp[\"gene\"] = gene\n",
    "    tmp[\"exp\"] = MatchFeatures.loc[gene,\"EXP\"]\n",
    "    tmp[\"qexp\"] = MatchFeatures.loc[gene,\"ExpQ\"]\n",
    "    tmp[\"exps\"] = exps\n",
    "    tmp[\"qexps\"] = q_exps\n",
    "    dat.append(tmp)"
   ]
  },
  {
   "cell_type": "code",
   "execution_count": 223,
   "metadata": {},
   "outputs": [],
   "source": [
    "dat.sort(key=lambda x:x[\"exp\"])"
   ]
  },
  {
   "cell_type": "code",
   "execution_count": 224,
   "metadata": {},
   "outputs": [
    {
     "data": {
      "image/png": "[encoded data removed]",
      "text/plain": [
       "<Figure size 2700x1800 with 1 Axes>"
      ]
     },
     "metadata": {
      "needs_background": "light"
     },
     "output_type": "display_data"
    }
   ],
   "source": [
    "data_to_plot = [x[\"exps\"] for x in dat[0:20]]\n",
    "fig = plt.figure(1, figsize=(9, 6), dpi=300)\n",
    "ax = fig.add_subplot(111)\n",
    "bp = ax.boxplot(data_to_plot)\n",
    "ax.scatter(range(1,20+1), [x[\"exp\"] for x in dat[0:20]])\n",
    "plt.show()"
   ]
  },
  {
   "cell_type": "code",
   "execution_count": 217,
   "metadata": {},
   "outputs": [
    {
     "data": {
      "text/plain": [
       "7273"
      ]
     },
     "execution_count": 217,
     "metadata": {},
     "output_type": "execute_result"
    }
   ],
   "source": [
    "dat[16][\"gene\"]"
   ]
  },
  {
   "cell_type": "code",
   "execution_count": 218,
   "metadata": {},
   "outputs": [
    {
     "data": {
      "text/plain": [
       "0.11563841971126801"
      ]
     },
     "execution_count": 218,
     "metadata": {},
     "output_type": "execute_result"
    }
   ],
   "source": [
    "dat[16][\"exp\"]"
   ]
  },
  {
   "cell_type": "code",
   "execution_count": 225,
   "metadata": {},
   "outputs": [],
   "source": [
    "dat.sort(key=lambda x:x[\"qexp\"])"
   ]
  },
  {
   "cell_type": "code",
   "execution_count": 232,
   "metadata": {
    "scrolled": true
   },
   "outputs": [
    {
     "data": {
      "image/png": "[encoded data removed]",
      "text/plain": [
       "<Figure size 720x480 with 1 Axes>"
      ]
     },
     "metadata": {
      "needs_background": "light"
     },
     "output_type": "display_data"
    },
    {
     "data": {
      "image/png": "[encoded data removed]",
      "text/plain": [
       "<Figure size 720x480 with 1 Axes>"
      ]
     },
     "metadata": {
      "needs_background": "light"
     },
     "output_type": "display_data"
    },
    {
     "data": {
      "image/png": "[encoded data removed]",
      "text/plain": [
       "<Figure size 720x480 with 1 Axes>"
      ]
     },
     "metadata": {
      "needs_background": "light"
     },
     "output_type": "display_data"
    },
    {
     "data": {
      "image/png": "[encoded data removed]",
      "text/plain": [
       "<Figure size 720x480 with 1 Axes>"
      ]
     },
     "metadata": {
      "needs_background": "light"
     },
     "output_type": "display_data"
    },
    {
     "data": {
      "image/png": "[encoded data removed]",
      "text/plain": [
       "<Figure size 720x480 with 1 Axes>"
      ]
     },
     "metadata": {
      "needs_background": "light"
     },
     "output_type": "display_data"
    },
    {
     "data": {
      "image/png": "[encoded data removed]",
      "text/plain": [
       "<Figure size 720x480 with 1 Axes>"
      ]
     },
     "metadata": {
      "needs_background": "light"
     },
     "output_type": "display_data"
    },
    {
     "data": {
      "image/png": "[encoded data removed]",
      "text/plain": [
       "<Figure size 720x480 with 1 Axes>"
      ]
     },
     "metadata": {
      "needs_background": "light"
     },
     "output_type": "display_data"
    },
    {
     "data": {
      "image/png": "[encoded data removed]",
      "text/plain": [
       "<Figure size 720x480 with 1 Axes>"
      ]
     },
     "metadata": {
      "needs_background": "light"
     },
     "output_type": "display_data"
    },
    {
     "data": {
      "image/png": "[encoded data removed]",
      "text/plain": [
       "<Figure size 720x480 with 1 Axes>"
      ]
     },
     "metadata": {
      "needs_background": "light"
     },
     "output_type": "display_data"
    },
    {
     "data": {
      "image/png": "[encoded data removed]",
      "text/plain": [
       "<Figure size 720x480 with 1 Axes>"
      ]
     },
     "metadata": {
      "needs_background": "light"
     },
     "output_type": "display_data"
    },
    {
     "data": {
      "image/png": "[encoded data removed]",
      "text/plain": [
       "<Figure size 720x480 with 1 Axes>"
      ]
     },
     "metadata": {
      "needs_background": "light"
     },
     "output_type": "display_data"
    },
    {
     "data": {
      "image/png": "[encoded data removed]",
      "text/plain": [
       "<Figure size 720x480 with 1 Axes>"
      ]
     },
     "metadata": {
      "needs_background": "light"
     },
     "output_type": "display_data"
    },
    {
     "data": {
      "image/png": "[encoded data removed]",
      "text/plain": [
       "<Figure size 720x480 with 1 Axes>"
      ]
     },
     "metadata": {
      "needs_background": "light"
     },
     "output_type": "display_data"
    },
    {
     "ename": "ValueError",
     "evalue": "x and y must be the same size",
     "output_type": "error",
     "traceback": [
      "\u001b[0;31m---------------------------------------------------------------------------\u001b[0m",
      "\u001b[0;31mValueError\u001b[0m                                Traceback (most recent call last)",
      "\u001b[0;32m<ipython-input-232-4e67e6dc4101>\u001b[0m in \u001b[0;36m<module>\u001b[0;34m\u001b[0m\n\u001b[1;32m      7\u001b[0m     \u001b[0max\u001b[0m \u001b[0;34m=\u001b[0m \u001b[0mfig\u001b[0m\u001b[0;34m.\u001b[0m\u001b[0madd_subplot\u001b[0m\u001b[0;34m(\u001b[0m\u001b[0;36m111\u001b[0m\u001b[0;34m)\u001b[0m\u001b[0;34m\u001b[0m\u001b[0;34m\u001b[0m\u001b[0m\n\u001b[1;32m      8\u001b[0m     \u001b[0mbp\u001b[0m \u001b[0;34m=\u001b[0m \u001b[0max\u001b[0m\u001b[0;34m.\u001b[0m\u001b[0mboxplot\u001b[0m\u001b[0;34m(\u001b[0m\u001b[0mdata_to_plot\u001b[0m\u001b[0;34m)\u001b[0m\u001b[0;34m\u001b[0m\u001b[0;34m\u001b[0m\u001b[0m\n\u001b[0;32m----> 9\u001b[0;31m     \u001b[0max\u001b[0m\u001b[0;34m.\u001b[0m\u001b[0mscatter\u001b[0m\u001b[0;34m(\u001b[0m\u001b[0mrange\u001b[0m\u001b[0;34m(\u001b[0m\u001b[0;36m1\u001b[0m\u001b[0;34m,\u001b[0m\u001b[0;36m21\u001b[0m\u001b[0;34m)\u001b[0m\u001b[0;34m,\u001b[0m \u001b[0;34m[\u001b[0m\u001b[0mx\u001b[0m\u001b[0;34m[\u001b[0m\u001b[0;34m\"qexp\"\u001b[0m\u001b[0;34m]\u001b[0m \u001b[0;32mfor\u001b[0m \u001b[0mx\u001b[0m \u001b[0;32min\u001b[0m \u001b[0mdat\u001b[0m\u001b[0;34m[\u001b[0m\u001b[0mi\u001b[0m\u001b[0;34m:\u001b[0m\u001b[0mi\u001b[0m\u001b[0;34m+\u001b[0m\u001b[0;36m20\u001b[0m\u001b[0;34m]\u001b[0m\u001b[0;34m]\u001b[0m\u001b[0;34m)\u001b[0m\u001b[0;34m\u001b[0m\u001b[0;34m\u001b[0m\u001b[0m\n\u001b[0m\u001b[1;32m     10\u001b[0m     \u001b[0mplt\u001b[0m\u001b[0;34m.\u001b[0m\u001b[0mshow\u001b[0m\u001b[0;34m(\u001b[0m\u001b[0;34m)\u001b[0m\u001b[0;34m\u001b[0m\u001b[0;34m\u001b[0m\u001b[0m\n\u001b[1;32m     11\u001b[0m     \u001b[0mi\u001b[0m \u001b[0;34m+=\u001b[0m \u001b[0;36m20\u001b[0m\u001b[0;34m\u001b[0m\u001b[0;34m\u001b[0m\u001b[0m\n",
      "\u001b[0;32m~/anaconda3/lib/python3.7/site-packages/matplotlib/__init__.py\u001b[0m in \u001b[0;36minner\u001b[0;34m(ax, data, *args, **kwargs)\u001b[0m\n\u001b[1;32m   1541\u001b[0m     \u001b[0;32mdef\u001b[0m \u001b[0minner\u001b[0m\u001b[0;34m(\u001b[0m\u001b[0max\u001b[0m\u001b[0;34m,\u001b[0m \u001b[0;34m*\u001b[0m\u001b[0margs\u001b[0m\u001b[0;34m,\u001b[0m \u001b[0mdata\u001b[0m\u001b[0;34m=\u001b[0m\u001b[0;32mNone\u001b[0m\u001b[0;34m,\u001b[0m \u001b[0;34m**\u001b[0m\u001b[0mkwargs\u001b[0m\u001b[0;34m)\u001b[0m\u001b[0;34m:\u001b[0m\u001b[0;34m\u001b[0m\u001b[0;34m\u001b[0m\u001b[0m\n\u001b[1;32m   1542\u001b[0m         \u001b[0;32mif\u001b[0m \u001b[0mdata\u001b[0m \u001b[0;32mis\u001b[0m \u001b[0;32mNone\u001b[0m\u001b[0;34m:\u001b[0m\u001b[0;34m\u001b[0m\u001b[0;34m\u001b[0m\u001b[0m\n\u001b[0;32m-> 1543\u001b[0;31m             \u001b[0;32mreturn\u001b[0m \u001b[0mfunc\u001b[0m\u001b[0;34m(\u001b[0m\u001b[0max\u001b[0m\u001b[0;34m,\u001b[0m \u001b[0;34m*\u001b[0m\u001b[0mmap\u001b[0m\u001b[0;34m(\u001b[0m\u001b[0msanitize_sequence\u001b[0m\u001b[0;34m,\u001b[0m \u001b[0margs\u001b[0m\u001b[0;34m)\u001b[0m\u001b[0;34m,\u001b[0m \u001b[0;34m**\u001b[0m\u001b[0mkwargs\u001b[0m\u001b[0;34m)\u001b[0m\u001b[0;34m\u001b[0m\u001b[0;34m\u001b[0m\u001b[0m\n\u001b[0m\u001b[1;32m   1544\u001b[0m \u001b[0;34m\u001b[0m\u001b[0m\n\u001b[1;32m   1545\u001b[0m         \u001b[0mbound\u001b[0m \u001b[0;34m=\u001b[0m \u001b[0mnew_sig\u001b[0m\u001b[0;34m.\u001b[0m\u001b[0mbind\u001b[0m\u001b[0;34m(\u001b[0m\u001b[0max\u001b[0m\u001b[0;34m,\u001b[0m \u001b[0;34m*\u001b[0m\u001b[0margs\u001b[0m\u001b[0;34m,\u001b[0m \u001b[0;34m**\u001b[0m\u001b[0mkwargs\u001b[0m\u001b[0;34m)\u001b[0m\u001b[0;34m\u001b[0m\u001b[0;34m\u001b[0m\u001b[0m\n",
      "\u001b[0;32m~/anaconda3/lib/python3.7/site-packages/matplotlib/cbook/deprecation.py\u001b[0m in \u001b[0;36mwrapper\u001b[0;34m(*args, **kwargs)\u001b[0m\n\u001b[1;32m    356\u001b[0m                 \u001b[0;34mf\"%(removal)s.  If any parameter follows {name!r}, they \"\u001b[0m\u001b[0;34m\u001b[0m\u001b[0;34m\u001b[0m\u001b[0m\n\u001b[1;32m    357\u001b[0m                 f\"should be pass as keyword, not positionally.\")\n\u001b[0;32m--> 358\u001b[0;31m         \u001b[0;32mreturn\u001b[0m \u001b[0mfunc\u001b[0m\u001b[0;34m(\u001b[0m\u001b[0;34m*\u001b[0m\u001b[0margs\u001b[0m\u001b[0;34m,\u001b[0m \u001b[0;34m**\u001b[0m\u001b[0mkwargs\u001b[0m\u001b[0;34m)\u001b[0m\u001b[0;34m\u001b[0m\u001b[0;34m\u001b[0m\u001b[0m\n\u001b[0m\u001b[1;32m    359\u001b[0m \u001b[0;34m\u001b[0m\u001b[0m\n\u001b[1;32m    360\u001b[0m     \u001b[0;32mreturn\u001b[0m \u001b[0mwrapper\u001b[0m\u001b[0;34m\u001b[0m\u001b[0;34m\u001b[0m\u001b[0m\n",
      "\u001b[0;32m~/anaconda3/lib/python3.7/site-packages/matplotlib/axes/_axes.py\u001b[0m in \u001b[0;36mscatter\u001b[0;34m(self, x, y, s, c, marker, cmap, norm, vmin, vmax, alpha, linewidths, verts, edgecolors, plotnonfinite, **kwargs)\u001b[0m\n\u001b[1;32m   4378\u001b[0m         \u001b[0my\u001b[0m \u001b[0;34m=\u001b[0m \u001b[0mnp\u001b[0m\u001b[0;34m.\u001b[0m\u001b[0mma\u001b[0m\u001b[0;34m.\u001b[0m\u001b[0mravel\u001b[0m\u001b[0;34m(\u001b[0m\u001b[0my\u001b[0m\u001b[0;34m)\u001b[0m\u001b[0;34m\u001b[0m\u001b[0;34m\u001b[0m\u001b[0m\n\u001b[1;32m   4379\u001b[0m         \u001b[0;32mif\u001b[0m \u001b[0mx\u001b[0m\u001b[0;34m.\u001b[0m\u001b[0msize\u001b[0m \u001b[0;34m!=\u001b[0m \u001b[0my\u001b[0m\u001b[0;34m.\u001b[0m\u001b[0msize\u001b[0m\u001b[0;34m:\u001b[0m\u001b[0;34m\u001b[0m\u001b[0;34m\u001b[0m\u001b[0m\n\u001b[0;32m-> 4380\u001b[0;31m             \u001b[0;32mraise\u001b[0m \u001b[0mValueError\u001b[0m\u001b[0;34m(\u001b[0m\u001b[0;34m\"x and y must be the same size\"\u001b[0m\u001b[0;34m)\u001b[0m\u001b[0;34m\u001b[0m\u001b[0;34m\u001b[0m\u001b[0m\n\u001b[0m\u001b[1;32m   4381\u001b[0m \u001b[0;34m\u001b[0m\u001b[0m\n\u001b[1;32m   4382\u001b[0m         \u001b[0;32mif\u001b[0m \u001b[0ms\u001b[0m \u001b[0;32mis\u001b[0m \u001b[0;32mNone\u001b[0m\u001b[0;34m:\u001b[0m\u001b[0;34m\u001b[0m\u001b[0;34m\u001b[0m\u001b[0m\n",
      "\u001b[0;31mValueError\u001b[0m: x and y must be the same size"
     ]
    },
    {
     "data": {
      "image/png": "[encoded data removed]",
      "text/plain": [
       "<Figure size 720x480 with 1 Axes>"
      ]
     },
     "metadata": {
      "needs_background": "light"
     },
     "output_type": "display_data"
    }
   ],
   "source": [
    "i = 0\n",
    "while 1:\n",
    "    if i > len(dat):\n",
    "        break\n",
    "    data_to_plot = [x[\"qexps\"] for x in dat[i:i+20]]\n",
    "    fig = plt.figure(1, figsize=(6, 4), dpi=120)\n",
    "    ax = fig.add_subplot(111)\n",
    "    bp = ax.boxplot(data_to_plot)\n",
    "    ax.scatter(range(1,21), [x[\"qexp\"] for x in dat[i:i+20]])\n",
    "    plt.show()\n",
    "    i += 20"
   ]
  },
  {
   "cell_type": "code",
   "execution_count": 59,
   "metadata": {},
   "outputs": [
    {
     "name": "stderr",
     "output_type": "stream",
     "text": [
      "/Users/jiayao/anaconda3/lib/python3.7/site-packages/ipykernel_launcher.py:10: UserWarning: Pandas doesn't allow columns to be created via a new attribute name - see https://pandas.pydata.org/pandas-docs/stable/indexing.html#attribute-access\n",
      "  # Remove the CWD from sys.path while we load stuff.\n"
     ]
    }
   ],
   "source": [
    "### Combine SingleGene bias\n",
    "files = \"/Users/jiayao/Work/ASD_Circuits/src/dat/bias/single_gene_spark_zmatch/spark.zmatch.single.gene.list\"\n",
    "dfs = []\n",
    "for f in open(files, 'rt'):\n",
    "    f=f.strip()\n",
    "    df = pd.read_csv(f)\n",
    "    df.head(2)\n",
    "    cols = df.columns.values\n",
    "    cols[0] = \"STR\"\n",
    "    df.colums = cols\n",
    "    df = df.set_index(\"STR\") \n",
    "    dfs.append(df)"
   ]
  },
  {
   "cell_type": "code",
   "execution_count": 60,
   "metadata": {},
   "outputs": [],
   "source": [
    "ddd = dfs[0].join(dfs[1:])"
   ]
  },
  {
   "cell_type": "code",
   "execution_count": 61,
   "metadata": {},
   "outputs": [],
   "source": [
    "ddd.to_csv(\"dat/bias/asd.spark.zmatch.sg.csv\")"
   ]
  },
  {
   "cell_type": "code",
   "execution_count": 47,
   "metadata": {},
   "outputs": [
    {
     "data": {
      "text/plain": [
       "(213, 98)"
      ]
     },
     "execution_count": 47,
     "metadata": {},
     "output_type": "execute_result"
    }
   ],
   "source": [
    "ddd.shape"
   ]
  },
  {
   "cell_type": "code",
   "execution_count": 21,
   "metadata": {},
   "outputs": [
    {
     "data": {
      "text/html": [
       "<div>\n",
       "<style scoped>\n",
       "    .dataframe tbody tr th:only-of-type {\n",
       "        vertical-align: middle;\n",
       "    }\n",
       "\n",
       "    .dataframe tbody tr th {\n",
       "        vertical-align: top;\n",
       "    }\n",
       "\n",
       "    .dataframe thead th {\n",
       "        text-align: right;\n",
       "    }\n",
       "</style>\n",
       "<table border=\"1\" class=\"dataframe\">\n",
       "  <thead>\n",
       "    <tr style=\"text-align: right;\">\n",
       "      <th></th>\n",
       "      <th>10522</th>\n",
       "    </tr>\n",
       "    <tr>\n",
       "      <th>STR</th>\n",
       "      <th></th>\n",
       "    </tr>\n",
       "  </thead>\n",
       "  <tbody>\n",
       "    <tr>\n",
       "      <th>Anterior_amygdalar_area</th>\n",
       "      <td>NaN</td>\n",
       "    </tr>\n",
       "    <tr>\n",
       "      <th>Anterior_cingulate_area_dorsal_part</th>\n",
       "      <td>0.400004</td>\n",
       "    </tr>\n",
       "  </tbody>\n",
       "</table>\n",
       "</div>"
      ],
      "text/plain": [
       "                                        10522\n",
       "STR                                          \n",
       "Anterior_amygdalar_area                   NaN\n",
       "Anterior_cingulate_area_dorsal_part  0.400004"
      ]
     },
     "execution_count": 21,
     "metadata": {},
     "output_type": "execute_result"
    }
   ],
   "source": [
    "df.head(2)"
   ]
  },
  {
   "cell_type": "code",
   "execution_count": 37,
   "metadata": {},
   "outputs": [
    {
     "data": {
      "text/plain": [
       "0.9998080023409531"
      ]
     },
     "execution_count": 37,
     "metadata": {},
     "output_type": "execute_result"
    }
   ],
   "source": [
    "from scipy.stats import poisson\n",
    "mean_depth = 40\n",
    "require_depth = 20\n",
    "1 - poisson.pmf(require_depth, mean_depth)"
   ]
  },
  {
   "cell_type": "markdown",
   "metadata": {},
   "source": [
    "## Expression Normalize by Neuron Count"
   ]
  },
  {
   "cell_type": "code",
   "execution_count": 3,
   "metadata": {},
   "outputs": [],
   "source": [
    "ExpMat = \"../dat/allen-mouse-exp/energy-conn-model.csv\"\n",
    "ExpMat = pd.read_csv(ExpMat, index_col=\"ROW\")"
   ]
  },
  {
   "cell_type": "code",
   "execution_count": 26,
   "metadata": {},
   "outputs": [],
   "source": [
    "def modify_str(x):\n",
    "    x = re.sub(\"[()]\", \"\", x)\n",
    "    x = re.sub(\"-\", \"_\", x)\n",
    "    x = re.sub(\"reunions\", \"reuniens\", x)\n",
    "    x = \"_\".join(x.split(\" \"))\n",
    "    return x\n",
    "\n",
    "cell_comp = pd.read_csv(\"../dat/cell_composition/Cell_Atlas_for_the_Mouse_brain_1.csv\", index_col=\"Regions\")\n",
    "STRs = cell_comp.index.values\n",
    "STRs = [modify_str(x) for x in STRs]\n",
    "cell_comp.index = STRs"
   ]
  },
  {
   "cell_type": "code",
   "execution_count": 27,
   "metadata": {},
   "outputs": [
    {
     "data": {
      "text/html": [
       "<div>\n",
       "<style scoped>\n",
       "    .dataframe tbody tr th:only-of-type {\n",
       "        vertical-align: middle;\n",
       "    }\n",
       "\n",
       "    .dataframe tbody tr th {\n",
       "        vertical-align: top;\n",
       "    }\n",
       "\n",
       "    .dataframe thead th {\n",
       "        text-align: right;\n",
       "    }\n",
       "</style>\n",
       "<table border=\"1\" class=\"dataframe\">\n",
       "  <thead>\n",
       "    <tr style=\"text-align: right;\">\n",
       "      <th></th>\n",
       "      <th>Cells</th>\n",
       "      <th>Neurons</th>\n",
       "      <th>Glia</th>\n",
       "      <th>Excitatory</th>\n",
       "      <th>Inhibitory</th>\n",
       "      <th>Modulatory</th>\n",
       "      <th>Astrocytes</th>\n",
       "      <th>Oligodendrocytes</th>\n",
       "      <th>Microglia</th>\n",
       "    </tr>\n",
       "  </thead>\n",
       "  <tbody>\n",
       "    <tr>\n",
       "      <th>root</th>\n",
       "      <td>111080000</td>\n",
       "      <td>71760000</td>\n",
       "      <td>39320000</td>\n",
       "      <td>65729437</td>\n",
       "      <td>5623818</td>\n",
       "      <td>406745</td>\n",
       "      <td>6116949</td>\n",
       "      <td>20946065</td>\n",
       "      <td>12256986</td>\n",
       "    </tr>\n",
       "    <tr>\n",
       "      <th>Basic_cell_groups_and_regions</th>\n",
       "      <td>104269365</td>\n",
       "      <td>71760000</td>\n",
       "      <td>32509365</td>\n",
       "      <td>65729437</td>\n",
       "      <td>5623818</td>\n",
       "      <td>406745</td>\n",
       "      <td>5172719</td>\n",
       "      <td>16694501</td>\n",
       "      <td>10642145</td>\n",
       "    </tr>\n",
       "    <tr>\n",
       "      <th>Cerebrum</th>\n",
       "      <td>42954307</td>\n",
       "      <td>25341736</td>\n",
       "      <td>17612571</td>\n",
       "      <td>21374196</td>\n",
       "      <td>3829654</td>\n",
       "      <td>137886</td>\n",
       "      <td>2681289</td>\n",
       "      <td>8644110</td>\n",
       "      <td>6287172</td>\n",
       "    </tr>\n",
       "    <tr>\n",
       "      <th>Cerebral_cortex</th>\n",
       "      <td>36851649</td>\n",
       "      <td>22153353</td>\n",
       "      <td>14698296</td>\n",
       "      <td>19695432</td>\n",
       "      <td>2351291</td>\n",
       "      <td>106630</td>\n",
       "      <td>2133711</td>\n",
       "      <td>6885189</td>\n",
       "      <td>5679396</td>\n",
       "    </tr>\n",
       "    <tr>\n",
       "      <th>Cortical_plate</th>\n",
       "      <td>35649755</td>\n",
       "      <td>21485755</td>\n",
       "      <td>14164000</td>\n",
       "      <td>19097897</td>\n",
       "      <td>2286513</td>\n",
       "      <td>101345</td>\n",
       "      <td>2056232</td>\n",
       "      <td>6527709</td>\n",
       "      <td>5580059</td>\n",
       "    </tr>\n",
       "    <tr>\n",
       "      <th>Isocortex</th>\n",
       "      <td>19845690</td>\n",
       "      <td>10273660</td>\n",
       "      <td>9572030</td>\n",
       "      <td>8966944</td>\n",
       "      <td>1242948</td>\n",
       "      <td>63768</td>\n",
       "      <td>1148184</td>\n",
       "      <td>4359847</td>\n",
       "      <td>4063999</td>\n",
       "    </tr>\n",
       "    <tr>\n",
       "      <th>Frontal_pole_cerebral_cortex</th>\n",
       "      <td>44816</td>\n",
       "      <td>27742</td>\n",
       "      <td>17074</td>\n",
       "      <td>5398</td>\n",
       "      <td>22179</td>\n",
       "      <td>165</td>\n",
       "      <td>438</td>\n",
       "      <td>5886</td>\n",
       "      <td>10750</td>\n",
       "    </tr>\n",
       "    <tr>\n",
       "      <th>Frontal_pole_layer_1</th>\n",
       "      <td>29660</td>\n",
       "      <td>17248</td>\n",
       "      <td>12412</td>\n",
       "      <td>0</td>\n",
       "      <td>17139</td>\n",
       "      <td>109</td>\n",
       "      <td>389</td>\n",
       "      <td>4709</td>\n",
       "      <td>7314</td>\n",
       "    </tr>\n",
       "    <tr>\n",
       "      <th>Frontal_pole_layer_2/3</th>\n",
       "      <td>15156</td>\n",
       "      <td>10494</td>\n",
       "      <td>4662</td>\n",
       "      <td>5398</td>\n",
       "      <td>5040</td>\n",
       "      <td>56</td>\n",
       "      <td>49</td>\n",
       "      <td>1177</td>\n",
       "      <td>3436</td>\n",
       "    </tr>\n",
       "    <tr>\n",
       "      <th>Somatomotor_areas</th>\n",
       "      <td>3151042</td>\n",
       "      <td>1456531</td>\n",
       "      <td>1694511</td>\n",
       "      <td>1235407</td>\n",
       "      <td>206861</td>\n",
       "      <td>14263</td>\n",
       "      <td>238853</td>\n",
       "      <td>772017</td>\n",
       "      <td>683641</td>\n",
       "    </tr>\n",
       "  </tbody>\n",
       "</table>\n",
       "</div>"
      ],
      "text/plain": [
       "                                   Cells   Neurons      Glia  Excitatory  \\\n",
       "root                           111080000  71760000  39320000    65729437   \n",
       "Basic_cell_groups_and_regions  104269365  71760000  32509365    65729437   \n",
       "Cerebrum                        42954307  25341736  17612571    21374196   \n",
       "Cerebral_cortex                 36851649  22153353  14698296    19695432   \n",
       "Cortical_plate                  35649755  21485755  14164000    19097897   \n",
       "Isocortex                       19845690  10273660   9572030     8966944   \n",
       "Frontal_pole_cerebral_cortex       44816     27742     17074        5398   \n",
       "Frontal_pole_layer_1               29660     17248     12412           0   \n",
       "Frontal_pole_layer_2/3             15156     10494      4662        5398   \n",
       "Somatomotor_areas                3151042   1456531   1694511     1235407   \n",
       "\n",
       "                               Inhibitory  Modulatory  Astrocytes  \\\n",
       "root                              5623818      406745     6116949   \n",
       "Basic_cell_groups_and_regions     5623818      406745     5172719   \n",
       "Cerebrum                          3829654      137886     2681289   \n",
       "Cerebral_cortex                   2351291      106630     2133711   \n",
       "Cortical_plate                    2286513      101345     2056232   \n",
       "Isocortex                         1242948       63768     1148184   \n",
       "Frontal_pole_cerebral_cortex        22179         165         438   \n",
       "Frontal_pole_layer_1                17139         109         389   \n",
       "Frontal_pole_layer_2/3               5040          56          49   \n",
       "Somatomotor_areas                  206861       14263      238853   \n",
       "\n",
       "                               Oligodendrocytes  Microglia  \n",
       "root                                   20946065   12256986  \n",
       "Basic_cell_groups_and_regions          16694501   10642145  \n",
       "Cerebrum                                8644110    6287172  \n",
       "Cerebral_cortex                         6885189    5679396  \n",
       "Cortical_plate                          6527709    5580059  \n",
       "Isocortex                               4359847    4063999  \n",
       "Frontal_pole_cerebral_cortex               5886      10750  \n",
       "Frontal_pole_layer_1                       4709       7314  \n",
       "Frontal_pole_layer_2/3                     1177       3436  \n",
       "Somatomotor_areas                        772017     683641  "
      ]
     },
     "execution_count": 27,
     "metadata": {},
     "output_type": "execute_result"
    }
   ],
   "source": [
    "cell_comp.head(10)"
   ]
  },
  {
   "cell_type": "code",
   "execution_count": 28,
   "metadata": {},
   "outputs": [],
   "source": [
    "strs = [l.strip() for l in open(\"dat/213_structures.txt\", 'r')]"
   ]
  },
  {
   "cell_type": "code",
   "execution_count": 29,
   "metadata": {},
   "outputs": [
    {
     "name": "stdout",
     "output_type": "stream",
     "text": [
      "set()\n"
     ]
    }
   ],
   "source": [
    "print(set(strs).difference(set(cell_comp.index.values)))"
   ]
  },
  {
   "cell_type": "code",
   "execution_count": 6,
   "metadata": {},
   "outputs": [],
   "source": [
    "phenotypeDF = pd.read_excel(\"/Users/jiayao/Work/BrainDisorders/data/nature13908-s2/Supplementary_Table_1.xlsx\")"
   ]
  },
  {
   "cell_type": "code",
   "execution_count": 8,
   "metadata": {},
   "outputs": [
    {
     "data": {
      "text/html": [
       "<div>\n",
       "<style scoped>\n",
       "    .dataframe tbody tr th:only-of-type {\n",
       "        vertical-align: middle;\n",
       "    }\n",
       "\n",
       "    .dataframe tbody tr th {\n",
       "        vertical-align: top;\n",
       "    }\n",
       "\n",
       "    .dataframe thead th {\n",
       "        text-align: right;\n",
       "    }\n",
       "</style>\n",
       "<table border=\"1\" class=\"dataframe\">\n",
       "  <thead>\n",
       "    <tr style=\"text-align: right;\">\n",
       "      <th></th>\n",
       "      <th>familyId</th>\n",
       "      <th>collection</th>\n",
       "      <th>probandGender</th>\n",
       "      <th>siblingGender</th>\n",
       "      <th>SequencedAtCSHL</th>\n",
       "      <th>SequencedAtUW</th>\n",
       "      <th>SequencedAtYALE</th>\n",
       "      <th>motherRace</th>\n",
       "      <th>fatherRace</th>\n",
       "      <th>probandVIQ</th>\n",
       "      <th>...</th>\n",
       "      <th>fatherAgeInMonthsAtBirthOfProband</th>\n",
       "      <th>motherAgeInMonthsAtBirthOfSibling</th>\n",
       "      <th>fatherAgeInMonthsAtBirthOfSibling</th>\n",
       "      <th>prbRecLGDs</th>\n",
       "      <th>prbLGDs</th>\n",
       "      <th>prbMissense</th>\n",
       "      <th>prbSynonymous</th>\n",
       "      <th>sibLGDs</th>\n",
       "      <th>sibMissense</th>\n",
       "      <th>sibSynonymous</th>\n",
       "    </tr>\n",
       "  </thead>\n",
       "  <tbody>\n",
       "    <tr>\n",
       "      <th>0</th>\n",
       "      <td>11542</td>\n",
       "      <td>ssc</td>\n",
       "      <td>F</td>\n",
       "      <td>F</td>\n",
       "      <td>NaN</td>\n",
       "      <td>p1,s1</td>\n",
       "      <td>NaN</td>\n",
       "      <td>more-than-one-race</td>\n",
       "      <td>white</td>\n",
       "      <td>121.0</td>\n",
       "      <td>...</td>\n",
       "      <td>430.0</td>\n",
       "      <td>403.0</td>\n",
       "      <td>404.0</td>\n",
       "      <td>0.0</td>\n",
       "      <td>0.0</td>\n",
       "      <td>0.0</td>\n",
       "      <td>0.0</td>\n",
       "      <td>0.0</td>\n",
       "      <td>2.0</td>\n",
       "      <td>0.0</td>\n",
       "    </tr>\n",
       "    <tr>\n",
       "      <th>1</th>\n",
       "      <td>13736</td>\n",
       "      <td>ssc</td>\n",
       "      <td>M</td>\n",
       "      <td>M</td>\n",
       "      <td>p1,s1</td>\n",
       "      <td>NaN</td>\n",
       "      <td>NaN</td>\n",
       "      <td>white</td>\n",
       "      <td>white</td>\n",
       "      <td>119.0</td>\n",
       "      <td>...</td>\n",
       "      <td>400.0</td>\n",
       "      <td>425.0</td>\n",
       "      <td>429.0</td>\n",
       "      <td>0.0</td>\n",
       "      <td>0.0</td>\n",
       "      <td>0.0</td>\n",
       "      <td>0.0</td>\n",
       "      <td>0.0</td>\n",
       "      <td>0.0</td>\n",
       "      <td>0.0</td>\n",
       "    </tr>\n",
       "  </tbody>\n",
       "</table>\n",
       "<p>2 rows × 22 columns</p>\n",
       "</div>"
      ],
      "text/plain": [
       "   familyId collection probandGender siblingGender SequencedAtCSHL  \\\n",
       "0     11542        ssc             F             F             NaN   \n",
       "1     13736        ssc             M             M           p1,s1   \n",
       "\n",
       "  SequencedAtUW SequencedAtYALE          motherRace fatherRace  probandVIQ  \\\n",
       "0         p1,s1             NaN  more-than-one-race      white       121.0   \n",
       "1           NaN             NaN               white      white       119.0   \n",
       "\n",
       "   ...  fatherAgeInMonthsAtBirthOfProband  motherAgeInMonthsAtBirthOfSibling  \\\n",
       "0  ...                              430.0                              403.0   \n",
       "1  ...                              400.0                              425.0   \n",
       "\n",
       "   fatherAgeInMonthsAtBirthOfSibling  prbRecLGDs  prbLGDs  prbMissense  \\\n",
       "0                              404.0         0.0      0.0          0.0   \n",
       "1                              429.0         0.0      0.0          0.0   \n",
       "\n",
       "   prbSynonymous  sibLGDs  sibMissense  sibSynonymous  \n",
       "0            0.0      0.0          2.0            0.0  \n",
       "1            0.0      0.0          0.0            0.0  \n",
       "\n",
       "[2 rows x 22 columns]"
      ]
     },
     "execution_count": 8,
     "metadata": {},
     "output_type": "execute_result"
    }
   ],
   "source": [
    "phenotypeDF.head(2)"
   ]
  },
  {
   "cell_type": "code",
   "execution_count": 13,
   "metadata": {},
   "outputs": [],
   "source": [
    "IQGT70Fam = phenotypeDF[phenotypeDF[\"probandNVIQ\"]>70][\"familyId\"].values\n",
    "IQLE70Fam = phenotypeDF[phenotypeDF[\"probandNVIQ\"]<=70][\"familyId\"].values"
   ]
  },
  {
   "cell_type": "code",
   "execution_count": 14,
   "metadata": {},
   "outputs": [
    {
     "data": {
      "text/plain": [
       "1851"
      ]
     },
     "execution_count": 14,
     "metadata": {},
     "output_type": "execute_result"
    }
   ],
   "source": [
    "len(IQGT70Fam)"
   ]
  },
  {
   "cell_type": "code",
   "execution_count": 15,
   "metadata": {},
   "outputs": [
    {
     "data": {
      "text/html": [
       "<div>\n",
       "<style scoped>\n",
       "    .dataframe tbody tr th:only-of-type {\n",
       "        vertical-align: middle;\n",
       "    }\n",
       "\n",
       "    .dataframe tbody tr th {\n",
       "        vertical-align: top;\n",
       "    }\n",
       "\n",
       "    .dataframe thead th {\n",
       "        text-align: right;\n",
       "    }\n",
       "</style>\n",
       "<table border=\"1\" class=\"dataframe\">\n",
       "  <thead>\n",
       "    <tr style=\"text-align: right;\">\n",
       "      <th></th>\n",
       "      <th>familyId</th>\n",
       "      <th>location</th>\n",
       "      <th>variant</th>\n",
       "      <th>vcfVariant</th>\n",
       "      <th>inChild</th>\n",
       "      <th>fromParent</th>\n",
       "      <th>effectGene</th>\n",
       "      <th>effectType</th>\n",
       "      <th>familyDescription</th>\n",
       "      <th>CSHL</th>\n",
       "      <th>YALE</th>\n",
       "      <th>UW</th>\n",
       "      <th>IossifovWE2012</th>\n",
       "      <th>EichlerWE2012</th>\n",
       "      <th>StateWE2012</th>\n",
       "      <th>EichlerTG2012</th>\n",
       "    </tr>\n",
       "  </thead>\n",
       "  <tbody>\n",
       "    <tr>\n",
       "      <th>1</th>\n",
       "      <td>14320</td>\n",
       "      <td>3:127395222</td>\n",
       "      <td>sub(T-&gt;G)</td>\n",
       "      <td>3:127395222:T:G</td>\n",
       "      <td>pF</td>\n",
       "      <td>NaN</td>\n",
       "      <td>ABTB1</td>\n",
       "      <td>noStart</td>\n",
       "      <td>pFsM</td>\n",
       "      <td>strong</td>\n",
       "      <td>NaN</td>\n",
       "      <td>NaN</td>\n",
       "      <td>NaN</td>\n",
       "      <td>NaN</td>\n",
       "      <td>NaN</td>\n",
       "      <td>NaN</td>\n",
       "    </tr>\n",
       "    <tr>\n",
       "      <th>10</th>\n",
       "      <td>13096</td>\n",
       "      <td>1:1890629</td>\n",
       "      <td>sub(C-&gt;T)</td>\n",
       "      <td>1:1890629:C:T</td>\n",
       "      <td>pM</td>\n",
       "      <td>NaN</td>\n",
       "      <td>KIAA1751</td>\n",
       "      <td>missense</td>\n",
       "      <td>pMsM</td>\n",
       "      <td>strong</td>\n",
       "      <td>NaN</td>\n",
       "      <td>NaN</td>\n",
       "      <td>yes</td>\n",
       "      <td>NaN</td>\n",
       "      <td>NaN</td>\n",
       "      <td>NaN</td>\n",
       "    </tr>\n",
       "    <tr>\n",
       "      <th>13</th>\n",
       "      <td>13350</td>\n",
       "      <td>1:3385486</td>\n",
       "      <td>sub(C-&gt;T)</td>\n",
       "      <td>1:3385486:C:T</td>\n",
       "      <td>pM</td>\n",
       "      <td>NaN</td>\n",
       "      <td>ARHGEF16</td>\n",
       "      <td>missense</td>\n",
       "      <td>pM</td>\n",
       "      <td>strong</td>\n",
       "      <td>NaN</td>\n",
       "      <td>NaN</td>\n",
       "      <td>NaN</td>\n",
       "      <td>NaN</td>\n",
       "      <td>NaN</td>\n",
       "      <td>NaN</td>\n",
       "    </tr>\n",
       "  </tbody>\n",
       "</table>\n",
       "</div>"
      ],
      "text/plain": [
       "    familyId     location    variant       vcfVariant inChild fromParent  \\\n",
       "1      14320  3:127395222  sub(T->G)  3:127395222:T:G      pF        NaN   \n",
       "10     13096    1:1890629  sub(C->T)    1:1890629:C:T      pM        NaN   \n",
       "13     13350    1:3385486  sub(C->T)    1:3385486:C:T      pM        NaN   \n",
       "\n",
       "   effectGene effectType familyDescription    CSHL YALE   UW IossifovWE2012  \\\n",
       "1       ABTB1    noStart              pFsM  strong  NaN  NaN            NaN   \n",
       "10   KIAA1751   missense              pMsM  strong  NaN  NaN            yes   \n",
       "13   ARHGEF16   missense                pM  strong  NaN  NaN            NaN   \n",
       "\n",
       "   EichlerWE2012 StateWE2012 EichlerTG2012  \n",
       "1            NaN         NaN           NaN  \n",
       "10           NaN         NaN           NaN  \n",
       "13           NaN         NaN           NaN  "
      ]
     },
     "execution_count": 15,
     "metadata": {},
     "output_type": "execute_result"
    }
   ],
   "source": [
    "nature13908_vars = \"/Users/jiayao/Work/BrainDisorders/data/nature13908-s2/Supplementary_Table_2.xlsx\"\n",
    "all_var = pd.read_excel(nature13908_vars)\n",
    "LGD = set([\"noStart\", \"frame-shift\", \"nonsense\", \"noEnd\", \"no-frame-shift-newStop\",\"splice-site\"])\n",
    "MIS = set([\"missense\"])\n",
    "LGDMIS = set([\"noStart\", \"frame-shift\", \"nonsense\", \"noEnd\", \"no-frame-shift-newStop\",\"splice-site\", \"missense\"])\n",
    "SYN = set([\"synonymous\"])\n",
    "InPro = set([\"pMsM\", \"pMsF\", \"pFsF\", \"pF\", \"pM\", \"pFsM\"])\n",
    "coding_var = all_var[(all_var[\"inChild\"].isin(InPro)) & (all_var[\"effectType\"].isin(LGDMIS))]\n",
    "\n",
    "coding_var.head(3)"
   ]
  },
  {
   "cell_type": "code",
   "execution_count": 17,
   "metadata": {},
   "outputs": [],
   "source": [
    "##all_var[all_var[\"effectGene\"]==\"CHD8\"]\n",
    "IQGT70Vars = coding_var[coding_var[\"familyId\"].isin(IQGT70Fam)]\n",
    "IQLE70Vars = coding_var[coding_var[\"familyId\"].isin(IQLE70Fam)]"
   ]
  },
  {
   "cell_type": "code",
   "execution_count": 62,
   "metadata": {},
   "outputs": [],
   "source": [
    "SSC_pred = pd.read_excel(\"../dat/genes/pnas.1516376112.sd01.xlsx\", sheet_name=\"ST1-genes-beautified\", index_col = \"gene\")"
   ]
  },
  {
   "cell_type": "code",
   "execution_count": 63,
   "metadata": {},
   "outputs": [
    {
     "data": {
      "text/html": [
       "<div>\n",
       "<style scoped>\n",
       "    .dataframe tbody tr th:only-of-type {\n",
       "        vertical-align: middle;\n",
       "    }\n",
       "\n",
       "    .dataframe tbody tr th {\n",
       "        vertical-align: top;\n",
       "    }\n",
       "\n",
       "    .dataframe thead th {\n",
       "        text-align: right;\n",
       "    }\n",
       "</style>\n",
       "<table border=\"1\" class=\"dataframe\">\n",
       "  <thead>\n",
       "    <tr style=\"text-align: right;\">\n",
       "      <th></th>\n",
       "      <th>codingLen</th>\n",
       "      <th>codingLenInTarget</th>\n",
       "      <th>chromosome</th>\n",
       "      <th>set_FMRPTargets</th>\n",
       "      <th>set_PSD</th>\n",
       "      <th>set_Embryonic</th>\n",
       "      <th>set_ChromatinModifiers</th>\n",
       "      <th>set_EssentialGenes</th>\n",
       "      <th>set_HLA</th>\n",
       "      <th>set_Defensins</th>\n",
       "      <th>...</th>\n",
       "      <th>prior</th>\n",
       "      <th>GR_PUB_synonymous_oC</th>\n",
       "      <th>GR_PUB_missense_oC</th>\n",
       "      <th>GR_PUB_missense_eC</th>\n",
       "      <th>GR_PUB_LGDs_oC</th>\n",
       "      <th>GR_PUB_LGDs_eC</th>\n",
       "      <th>GR_PUB_LGDs_post</th>\n",
       "      <th>GR_PUBNOAUT_LGDs_oC</th>\n",
       "      <th>GR_PUBNOAUT_LGDs_eC</th>\n",
       "      <th>GR_PUBNOAUT_LGDs_post</th>\n",
       "    </tr>\n",
       "    <tr>\n",
       "      <th>gene</th>\n",
       "      <th></th>\n",
       "      <th></th>\n",
       "      <th></th>\n",
       "      <th></th>\n",
       "      <th></th>\n",
       "      <th></th>\n",
       "      <th></th>\n",
       "      <th></th>\n",
       "      <th></th>\n",
       "      <th></th>\n",
       "      <th></th>\n",
       "      <th></th>\n",
       "      <th></th>\n",
       "      <th></th>\n",
       "      <th></th>\n",
       "      <th></th>\n",
       "      <th></th>\n",
       "      <th></th>\n",
       "      <th></th>\n",
       "      <th></th>\n",
       "      <th></th>\n",
       "    </tr>\n",
       "  </thead>\n",
       "  <tbody>\n",
       "    <tr>\n",
       "      <th>ANKRD11</th>\n",
       "      <td>7992</td>\n",
       "      <td>7992</td>\n",
       "      <td>16</td>\n",
       "      <td>1</td>\n",
       "      <td>0</td>\n",
       "      <td>0</td>\n",
       "      <td>0</td>\n",
       "      <td>1</td>\n",
       "      <td>0</td>\n",
       "      <td>0</td>\n",
       "      <td>...</td>\n",
       "      <td>0.90</td>\n",
       "      <td>179</td>\n",
       "      <td>206</td>\n",
       "      <td>324.360067</td>\n",
       "      <td>0</td>\n",
       "      <td>10.454</td>\n",
       "      <td>1.0</td>\n",
       "      <td>0</td>\n",
       "      <td>7.824</td>\n",
       "      <td>1.0</td>\n",
       "    </tr>\n",
       "    <tr>\n",
       "      <th>LRP1</th>\n",
       "      <td>13635</td>\n",
       "      <td>13635</td>\n",
       "      <td>12</td>\n",
       "      <td>1</td>\n",
       "      <td>1</td>\n",
       "      <td>0</td>\n",
       "      <td>0</td>\n",
       "      <td>1</td>\n",
       "      <td>0</td>\n",
       "      <td>0</td>\n",
       "      <td>...</td>\n",
       "      <td>0.35</td>\n",
       "      <td>281</td>\n",
       "      <td>314</td>\n",
       "      <td>528.571905</td>\n",
       "      <td>1</td>\n",
       "      <td>15.010</td>\n",
       "      <td>1.0</td>\n",
       "      <td>0</td>\n",
       "      <td>11.180</td>\n",
       "      <td>1.0</td>\n",
       "    </tr>\n",
       "  </tbody>\n",
       "</table>\n",
       "<p>2 rows × 71 columns</p>\n",
       "</div>"
      ],
      "text/plain": [
       "         codingLen  codingLenInTarget chromosome  set_FMRPTargets  set_PSD  \\\n",
       "gene                                                                         \n",
       "ANKRD11       7992               7992         16                1        0   \n",
       "LRP1         13635              13635         12                1        1   \n",
       "\n",
       "         set_Embryonic  set_ChromatinModifiers  set_EssentialGenes  set_HLA  \\\n",
       "gene                                                                          \n",
       "ANKRD11              0                       0                   1        0   \n",
       "LRP1                 0                       0                   1        0   \n",
       "\n",
       "         set_Defensins  ...  prior  GR_PUB_synonymous_oC  GR_PUB_missense_oC  \\\n",
       "gene                    ...                                                    \n",
       "ANKRD11              0  ...   0.90                   179                 206   \n",
       "LRP1                 0  ...   0.35                   281                 314   \n",
       "\n",
       "         GR_PUB_missense_eC  GR_PUB_LGDs_oC  GR_PUB_LGDs_eC  GR_PUB_LGDs_post  \\\n",
       "gene                                                                            \n",
       "ANKRD11          324.360067               0          10.454               1.0   \n",
       "LRP1             528.571905               1          15.010               1.0   \n",
       "\n",
       "         GR_PUBNOAUT_LGDs_oC  GR_PUBNOAUT_LGDs_eC  GR_PUBNOAUT_LGDs_post  \n",
       "gene                                                                      \n",
       "ANKRD11                    0                7.824                    1.0  \n",
       "LRP1                       0               11.180                    1.0  \n",
       "\n",
       "[2 rows x 71 columns]"
      ]
     },
     "execution_count": 63,
     "metadata": {},
     "output_type": "execute_result"
    }
   ],
   "source": [
    "SSC_pred.head(2)"
   ]
  },
  {
   "cell_type": "code",
   "execution_count": 64,
   "metadata": {},
   "outputs": [],
   "source": [
    "def AggGenes(VarDF, GeneSymbol2Entrez, SSC_pred):\n",
    "    Data = []\n",
    "    Genes = list(set(VarDF[\"effectGene\"].values))\n",
    "    for gene in Genes:\n",
    "        try:\n",
    "            Entrez = int(GeneSymbol2Entrez[gene])\n",
    "        except:\n",
    "            print(gene, )\n",
    "            continue\n",
    "        geneDF = VarDF[VarDF[\"effectGene\"]==gene]\n",
    "        NLGD = geneDF[geneDF[\"effectType\"]!=\"missense\"].shape[0]\n",
    "        NMIS = geneDF[geneDF[\"effectType\"]==\"missense\"] .shape[0]\n",
    "        FDR = SSC_pred.loc[gene, \"GR_PUB_LGDs_post\"]\n",
    "        Data.append([Entrez, gene, NLGD, NMIS, FDR])\n",
    "    DF = pd.DataFrame(data=Data, columns=[\"Entrez\", \"Gene\", \"dnLGD\", \"dnMis\", \"FDR\"])\n",
    "    return DF"
   ]
  },
  {
   "cell_type": "code",
   "execution_count": 66,
   "metadata": {
    "collapsed": true
   },
   "outputs": [
    {
     "name": "stdout",
     "output_type": "stream",
     "text": [
      "LPHN2\n",
      "MTHFS,ST20-MTHFS\n",
      "NARG2\n",
      "PCDHA9\n",
      "KIR2DL2\n",
      "PTPLAD1\n",
      "KIAA1432\n",
      "KIAA1967\n",
      "ZSCAN30,ZNF397\n",
      "CCBL2\n",
      "HDGFRP2\n",
      "ANKHD1-EIF4EBP3,ANKHD1\n",
      "PAPL\n",
      "ZAK\n",
      "CARKD\n",
      "TMEM14E\n",
      "FAM134A\n",
      "SRPR\n",
      "EMR1\n",
      "BAI1\n",
      "GPR114\n",
      "SPANXD,SPANXE\n",
      "KIAA0195\n",
      "SUV420H1\n",
      "KIAA1751\n",
      "C11orf85\n",
      "GPR75-ASB3,ASB3\n",
      "GPR98\n",
      "C10orf137\n",
      "AQPEP\n",
      "KIAA1731\n",
      "P2RY11,PPAN-P2RY11\n",
      "PCDHA13\n",
      "GPR112\n",
      "C16orf13\n",
      "SOGA2\n",
      "ERBB2IP\n",
      "DOM3Z\n",
      "ADRBK2\n",
      "C5orf54\n",
      "PCDHB9\n",
      "RAB43,ISY1-RAB43\n",
      "KIAA1984\n",
      "MTERFD2\n",
      "KIAA1009\n",
      "QTRTD1\n",
      "PTGES3L,PTGES3L-AARSD1\n",
      "UGT1A10,UGT1A8,UGT1A9,UGT1A4,UGT1A5,UGT1A6,UGT1A7,UGT1A1,UGT1A3\n",
      "GLTSCR1L\n",
      "NAPRT1\n",
      "PCDHA2\n",
      "PCDHB16\n",
      "GCN1L1\n",
      "PCNX\n",
      "EPT1\n",
      "BAI3\n",
      "HMHA1\n",
      "C4orf27\n",
      "C9orf156\n",
      "RLTPR\n",
      "KIAA1432\n",
      "PCDHB4\n",
      "C1orf173\n",
      "KIAA0195\n",
      "PCDHA11\n",
      "SUV420H1\n",
      "GLTSCR2\n",
      "CCDC169-SOHLH2,SOHLH2\n"
     ]
    }
   ],
   "source": [
    "IQGT70Vars.shape\n",
    "SSC_IQGT70 = AggGenes(IQGT70Vars, GeneSymbol2Entrez, SSC_pred)\n",
    "SSC_IQLE70 = AggGenes(IQLE70Vars, GeneSymbol2Entrez, SSC_pred)"
   ]
  },
  {
   "cell_type": "code",
   "execution_count": 67,
   "metadata": {},
   "outputs": [
    {
     "data": {
      "text/html": [
       "<div>\n",
       "<style scoped>\n",
       "    .dataframe tbody tr th:only-of-type {\n",
       "        vertical-align: middle;\n",
       "    }\n",
       "\n",
       "    .dataframe tbody tr th {\n",
       "        vertical-align: top;\n",
       "    }\n",
       "\n",
       "    .dataframe thead th {\n",
       "        text-align: right;\n",
       "    }\n",
       "</style>\n",
       "<table border=\"1\" class=\"dataframe\">\n",
       "  <thead>\n",
       "    <tr style=\"text-align: right;\">\n",
       "      <th></th>\n",
       "      <th>Entrez</th>\n",
       "      <th>Gene</th>\n",
       "      <th>dnLGD</th>\n",
       "      <th>dnMis</th>\n",
       "      <th>FDR</th>\n",
       "    </tr>\n",
       "  </thead>\n",
       "  <tbody>\n",
       "    <tr>\n",
       "      <th>0</th>\n",
       "      <td>51127</td>\n",
       "      <td>TRIM17</td>\n",
       "      <td>1</td>\n",
       "      <td>0</td>\n",
       "      <td>0.007</td>\n",
       "    </tr>\n",
       "    <tr>\n",
       "      <th>1</th>\n",
       "      <td>3914</td>\n",
       "      <td>LAMB3</td>\n",
       "      <td>0</td>\n",
       "      <td>1</td>\n",
       "      <td>0.000</td>\n",
       "    </tr>\n",
       "    <tr>\n",
       "      <th>2</th>\n",
       "      <td>200035</td>\n",
       "      <td>NUDT17</td>\n",
       "      <td>1</td>\n",
       "      <td>0</td>\n",
       "      <td>0.000</td>\n",
       "    </tr>\n",
       "    <tr>\n",
       "      <th>3</th>\n",
       "      <td>55643</td>\n",
       "      <td>BTBD2</td>\n",
       "      <td>0</td>\n",
       "      <td>1</td>\n",
       "      <td>0.807</td>\n",
       "    </tr>\n",
       "    <tr>\n",
       "      <th>4</th>\n",
       "      <td>9397</td>\n",
       "      <td>NMT2</td>\n",
       "      <td>0</td>\n",
       "      <td>1</td>\n",
       "      <td>0.324</td>\n",
       "    </tr>\n",
       "    <tr>\n",
       "      <th>...</th>\n",
       "      <td>...</td>\n",
       "      <td>...</td>\n",
       "      <td>...</td>\n",
       "      <td>...</td>\n",
       "      <td>...</td>\n",
       "    </tr>\n",
       "    <tr>\n",
       "      <th>1298</th>\n",
       "      <td>5208</td>\n",
       "      <td>PFKFB2</td>\n",
       "      <td>1</td>\n",
       "      <td>0</td>\n",
       "      <td>0.000</td>\n",
       "    </tr>\n",
       "    <tr>\n",
       "      <th>1299</th>\n",
       "      <td>23774</td>\n",
       "      <td>BRD1</td>\n",
       "      <td>0</td>\n",
       "      <td>1</td>\n",
       "      <td>0.807</td>\n",
       "    </tr>\n",
       "    <tr>\n",
       "      <th>1300</th>\n",
       "      <td>4087</td>\n",
       "      <td>SMAD2</td>\n",
       "      <td>0</td>\n",
       "      <td>1</td>\n",
       "      <td>0.595</td>\n",
       "    </tr>\n",
       "    <tr>\n",
       "      <th>1301</th>\n",
       "      <td>6934</td>\n",
       "      <td>TCF7L2</td>\n",
       "      <td>1</td>\n",
       "      <td>0</td>\n",
       "      <td>0.236</td>\n",
       "    </tr>\n",
       "    <tr>\n",
       "      <th>1302</th>\n",
       "      <td>23185</td>\n",
       "      <td>LARP4B</td>\n",
       "      <td>1</td>\n",
       "      <td>0</td>\n",
       "      <td>0.962</td>\n",
       "    </tr>\n",
       "  </tbody>\n",
       "</table>\n",
       "<p>1303 rows × 5 columns</p>\n",
       "</div>"
      ],
      "text/plain": [
       "      Entrez    Gene  dnLGD  dnMis    FDR\n",
       "0      51127  TRIM17      1      0  0.007\n",
       "1       3914   LAMB3      0      1  0.000\n",
       "2     200035  NUDT17      1      0  0.000\n",
       "3      55643   BTBD2      0      1  0.807\n",
       "4       9397    NMT2      0      1  0.324\n",
       "...      ...     ...    ...    ...    ...\n",
       "1298    5208  PFKFB2      1      0  0.000\n",
       "1299   23774    BRD1      0      1  0.807\n",
       "1300    4087   SMAD2      0      1  0.595\n",
       "1301    6934  TCF7L2      1      0  0.236\n",
       "1302   23185  LARP4B      1      0  0.962\n",
       "\n",
       "[1303 rows x 5 columns]"
      ]
     },
     "execution_count": 67,
     "metadata": {},
     "output_type": "execute_result"
    }
   ],
   "source": [
    "SSC_IQGT70"
   ]
  },
  {
   "cell_type": "code",
   "execution_count": 68,
   "metadata": {},
   "outputs": [
    {
     "data": {
      "text/html": [
       "<div>\n",
       "<style scoped>\n",
       "    .dataframe tbody tr th:only-of-type {\n",
       "        vertical-align: middle;\n",
       "    }\n",
       "\n",
       "    .dataframe tbody tr th {\n",
       "        vertical-align: top;\n",
       "    }\n",
       "\n",
       "    .dataframe thead th {\n",
       "        text-align: right;\n",
       "    }\n",
       "</style>\n",
       "<table border=\"1\" class=\"dataframe\">\n",
       "  <thead>\n",
       "    <tr style=\"text-align: right;\">\n",
       "      <th></th>\n",
       "      <th>Entrez</th>\n",
       "      <th>Gene</th>\n",
       "      <th>dnLGD</th>\n",
       "      <th>dnMis</th>\n",
       "      <th>FDR</th>\n",
       "    </tr>\n",
       "  </thead>\n",
       "  <tbody>\n",
       "    <tr>\n",
       "      <th>91</th>\n",
       "      <td>57680</td>\n",
       "      <td>CHD8</td>\n",
       "      <td>5</td>\n",
       "      <td>0</td>\n",
       "      <td>1.0</td>\n",
       "    </tr>\n",
       "  </tbody>\n",
       "</table>\n",
       "</div>"
      ],
      "text/plain": [
       "    Entrez  Gene  dnLGD  dnMis  FDR\n",
       "91   57680  CHD8      5      0  1.0"
      ]
     },
     "execution_count": 68,
     "metadata": {},
     "output_type": "execute_result"
    }
   ],
   "source": [
    "SSC_IQLE70[SSC_IQLE70[\"Gene\"]==\"CHD8\"]"
   ]
  },
  {
   "cell_type": "code",
   "execution_count": 69,
   "metadata": {},
   "outputs": [
    {
     "data": {
      "text/html": [
       "<div>\n",
       "<style scoped>\n",
       "    .dataframe tbody tr th:only-of-type {\n",
       "        vertical-align: middle;\n",
       "    }\n",
       "\n",
       "    .dataframe tbody tr th {\n",
       "        vertical-align: top;\n",
       "    }\n",
       "\n",
       "    .dataframe thead th {\n",
       "        text-align: right;\n",
       "    }\n",
       "</style>\n",
       "<table border=\"1\" class=\"dataframe\">\n",
       "  <thead>\n",
       "    <tr style=\"text-align: right;\">\n",
       "      <th></th>\n",
       "      <th>Entrez</th>\n",
       "      <th>Gene</th>\n",
       "      <th>dnLGD</th>\n",
       "      <th>dnMis</th>\n",
       "      <th>FDR</th>\n",
       "    </tr>\n",
       "  </thead>\n",
       "  <tbody>\n",
       "    <tr>\n",
       "      <th>774</th>\n",
       "      <td>57680</td>\n",
       "      <td>CHD8</td>\n",
       "      <td>2</td>\n",
       "      <td>0</td>\n",
       "      <td>1.0</td>\n",
       "    </tr>\n",
       "  </tbody>\n",
       "</table>\n",
       "</div>"
      ],
      "text/plain": [
       "     Entrez  Gene  dnLGD  dnMis  FDR\n",
       "774   57680  CHD8      2      0  1.0"
      ]
     },
     "execution_count": 69,
     "metadata": {},
     "output_type": "execute_result"
    }
   ],
   "source": [
    "SSC_IQGT70[SSC_IQGT70[\"Gene\"]==\"CHD8\"]"
   ]
  },
  {
   "cell_type": "code",
   "execution_count": 57,
   "metadata": {},
   "outputs": [
    {
     "data": {
      "text/plain": [
       "(567, 16)"
      ]
     },
     "execution_count": 57,
     "metadata": {},
     "output_type": "execute_result"
    }
   ],
   "source": [
    "IQLE70Vars.shape"
   ]
  },
  {
   "cell_type": "code",
   "execution_count": 20,
   "metadata": {},
   "outputs": [
    {
     "data": {
      "text/plain": [
       "(2064, 16)"
      ]
     },
     "execution_count": 20,
     "metadata": {},
     "output_type": "execute_result"
    }
   ],
   "source": [
    "coding_var.shape"
   ]
  },
  {
   "cell_type": "code",
   "execution_count": 70,
   "metadata": {},
   "outputs": [],
   "source": [
    "SSC_IQLE70.to_csv(\"../dat/genes/asd/ssc_LowIQ.csv\", index=False)\n",
    "SSC_IQGT70.to_csv(\"../dat/genes/asd/ssc_highIQ.csv\", index=False)"
   ]
  },
  {
   "cell_type": "code",
   "execution_count": null,
   "metadata": {},
   "outputs": [],
   "source": []
  }
 ],
 "metadata": {
  "kernelspec": {
   "display_name": "Python 3",
   "language": "python",
   "name": "python3"
  },
  "language_info": {
   "codemirror_mode": {
    "name": "ipython",
    "version": 3
   },
   "file_extension": ".py",
   "mimetype": "text/x-python",
   "name": "python",
   "nbconvert_exporter": "python",
   "pygments_lexer": "ipython3",
   "version": "3.7.1"
  }
 },
 "nbformat": 4,
 "nbformat_minor": 2
}
