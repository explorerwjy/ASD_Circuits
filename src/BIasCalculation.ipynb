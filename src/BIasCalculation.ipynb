{
 "cells": [
  {
   "cell_type": "code",
   "execution_count": 106,
   "metadata": {},
   "outputs": [
    {
     "name": "stdout",
     "output_type": "stream",
     "text": [
      "The autoreload extension is already loaded. To reload it, use:\n",
      "  %reload_ext autoreload\n"
     ]
    }
   ],
   "source": [
    "%load_ext autoreload\n",
    "%autoreload 2\n",
    "from ASD_Circuits import *"
   ]
  },
  {
   "cell_type": "code",
   "execution_count": 100,
   "metadata": {},
   "outputs": [
    {
     "name": "stderr",
     "output_type": "stream",
     "text": [
      "/Users/jiayao/anaconda3/lib/python3.7/site-packages/IPython/core/interactiveshell.py:3020: DtypeWarning: Columns (38,48) have mixed types. Specify dtype option on import or set low_memory=False.\n",
      "  interactivity=interactivity, compiler=compiler, result=result)\n"
     ]
    }
   ],
   "source": [
    "# Load Gene INFO\n",
    "HGNC = pd.read_csv(\"/Users/jiayao/Work/Resources/protein-coding_gene.txt\", delimiter=\"\\t\")\n",
    "ENSID2Entrez = dict(zip(HGNC[\"ensembl_gene_id\"].values, HGNC[\"entrez_id\"].values))\n",
    "GeneSymbol2Entrez = dict(zip(HGNC[\"symbol\"].values, HGNC[\"entrez_id\"].values))\n",
    "Entrez2Symbol = dict(zip(HGNC[\"entrez_id\"].values, HGNC[\"symbol\"].values))\n",
    "allen_mouse_genes = loadgenelist(\"../dat/allen-mouse-exp/allen-mouse-gene_entrez.txt\")\n",
    "\n",
    "# Load Exp Zscore Matrix\n",
    "ExpMat = \"../dat/allen-mouse-exp/energy-conn-model.csv\"\n",
    "ExpMat = pd.read_csv(ExpMat, index_col=\"ROW\")\n",
    "\n",
    "ExpZscoreMat = \"../dat/allen-mouse-exp/energy-zscore-conn-model.csv\"\n",
    "ExpZscoreMat = pd.read_csv(ExpZscoreMat, index_col=\"ROW\")\n",
    "\n",
    "ExpMatNorm = \"../dat/allen-mouse-exp/energy-neuronorm.csv\"\n",
    "ExpMatNorm = pd.read_csv(ExpMatNorm, index_col=\"ROW\")\n",
    "\n",
    "allen_mouse_genes = loadgenelist(\"/Users/jiayao/Work/ASD_Circuits/dat/allen-mouse-exp/allen-mouse-gene_entrez.txt\")"
   ]
  },
  {
   "cell_type": "code",
   "execution_count": 3,
   "metadata": {},
   "outputs": [],
   "source": [
    "# Load Brainspan expressions\n",
    "match_feature = pd.read_csv(\"/Users/jiayao/Work/ASD_Circuits/src/dat/match-features.csv\", index_col=\"GENE\")\n",
    "match_feature = match_feature.sort_values(\"EXP\")\n",
    "match_feature[\"Rank\"] = [1+x for x in range(match_feature.shape[0])]"
   ]
  },
  {
   "cell_type": "markdown",
   "metadata": {},
   "source": [
    "## 1. Expression Matching"
   ]
  },
  {
   "cell_type": "code",
   "execution_count": null,
   "metadata": {},
   "outputs": [],
   "source": [
    "## Match gene set with exp-match genes\n",
    "asd_ssc = loadgenelist(\"../dat/genes/Jon.ssc.txt\")\n",
    "df = ExpressionMatchGeneSet(asd_ssc, match_feature)\n",
    "df.to_csv(\"dat/matching/asd_ssc_exp_matches_1000.csv\")"
   ]
  },
  {
   "cell_type": "code",
   "execution_count": null,
   "metadata": {},
   "outputs": [],
   "source": [
    "asd_spark = loadgenelist(\"../dat/genes/Jon.spark.txt\")\n",
    "df = ExpressionMatchGeneSet(asd_spark, match_feature, savefil=\"dat/matching/asd_spark_exp_matches_1000.csv\")"
   ]
  },
  {
   "cell_type": "code",
   "execution_count": null,
   "metadata": {},
   "outputs": [],
   "source": [
    "asd_tada = loadgenelist(\"../dat/genes/Jon.tada.txt\")\n",
    "df = ExpressionMatchGeneSet(asd_tada, match_feature, savefil=\"dat/matching/asd_tada_exp_matches_1000.csv\")"
   ]
  },
  {
   "cell_type": "code",
   "execution_count": null,
   "metadata": {},
   "outputs": [],
   "source": [
    "asd_sib = loadgenelist(\"../dat/genes/asd.sib.entrez.list\")\n",
    "df = ExpressionMatchGeneSet(asd_sib, match_feature, savefil=\"dat/matching/asd_sib_exp_matches_1000.csv\")"
   ]
  },
  {
   "cell_type": "code",
   "execution_count": null,
   "metadata": {},
   "outputs": [],
   "source": [
    "asd_asc = loadgenelist(\"../dat/genes/asd.asc.entrez.list\")\n",
    "df = ExpressionMatchGeneSet(asd_asc, match_feature, savefil=\"dat/matching/asd_asc_exp_matches_1000.csv\")"
   ]
  },
  {
   "cell_type": "code",
   "execution_count": null,
   "metadata": {},
   "outputs": [],
   "source": [
    "asd_spark_tada = loadgenelist(\"../dat/genes/asd.spark.tada.txt\")\n",
    "df = ExpressionMatchGeneSet(asd_spark_tada, match_feature, savefil=\"dat/matching/asd_sparktada_exp_matches_1000.csv\")"
   ]
  },
  {
   "cell_type": "code",
   "execution_count": 62,
   "metadata": {},
   "outputs": [],
   "source": [
    "asd_spark_tada = loadgenelist(\"../dat/genes/asd.spark.tada.300.txt\")\n",
    "df = ExpressionMatchGeneSet(asd_spark_tada, match_feature, savefil=\"dat/matching/asd_sparktada300_exp_matches_1000.csv\")"
   ]
  },
  {
   "cell_type": "code",
   "execution_count": 20,
   "metadata": {},
   "outputs": [],
   "source": [
    "asc_sub_ssc = loadgenelist(\"../dat/genes/asc_sub_ssc.txt\")\n",
    "df = ExpressionMatchGeneSet(asc_sub_ssc, match_feature, savefil=\"dat/matching/asc_sub_ssc_exp_matches_1000.csv\")"
   ]
  },
  {
   "cell_type": "code",
   "execution_count": 21,
   "metadata": {},
   "outputs": [],
   "source": [
    "ssc_sub_asc = loadgenelist(\"../dat/genes/ssc_sub_asc.txt\")\n",
    "df = ExpressionMatchGeneSet(ssc_sub_asc, match_feature, savefil=\"dat/matching/ssc_sub_asc_exp_matches_1000.csv\")"
   ]
  },
  {
   "cell_type": "code",
   "execution_count": 91,
   "metadata": {},
   "outputs": [],
   "source": [
    "toppLI = loadgenelist(\"../dat/genes/top_pLI.100.txt\")\n",
    "df = ExpressionMatchGeneSet(toppLI, match_feature, savefil=\"dat/matching/top_pLI_exp_matches_1000.csv\")"
   ]
  },
  {
   "cell_type": "markdown",
   "metadata": {},
   "source": [
    "## 2. Exp Level Bias Calculation"
   ]
  },
  {
   "cell_type": "code",
   "execution_count": null,
   "metadata": {},
   "outputs": [],
   "source": [
    "asd_ssc_match_df = pd.read_csv(\"dat/asd_ssc_exp_matches_1000.csv\", index_col=\"GENE\")\n",
    "ssc_elevel_match = ExpAVGWithExpMatch(ExpMat, asd_ssc_match_df.index.values, \n",
    "                                      asd_ssc_match_df, csv_fil=\"dat/bias/ssc.explevel.rank.tsv\")"
   ]
  },
  {
   "cell_type": "code",
   "execution_count": null,
   "metadata": {},
   "outputs": [],
   "source": [
    "asd_spark_match_df = pd.read_csv(\"dat/asd_spark_exp_matches_1000.csv\", index_col=\"GENE\")\n",
    "spark_elevel_match = ExpAVGWithExpMatch(ExpMat, asd_spark_match_df.index.values\n",
    "                                        , asd_spark_match_df, csv_fil=\"dat/bias/spark.explevel.rank.tsv\")"
   ]
  },
  {
   "cell_type": "code",
   "execution_count": null,
   "metadata": {},
   "outputs": [],
   "source": [
    "asd_tada_match_df = pd.read_csv(\"dat/asd_tada_exp_matches_1000.csv\", index_col=\"GENE\")\n",
    "tada_elevel_match = ExpAVGWithExpMatch(ExpMat, asd_tada_match_df.index.values\n",
    "                                       , asd_tada_match_df, csv_fil=\"dat/bias/tada.explevel.rank.tsv\")"
   ]
  },
  {
   "cell_type": "code",
   "execution_count": null,
   "metadata": {},
   "outputs": [],
   "source": [
    "asd_sib_match_df = pd.read_csv(\"dat/asd_sib_exp_matches_1000.csv\", index_col=\"GENE\")\n",
    "tada_elevel_match = ExpAVGWithExpMatch(ExpMat, asd_sib_match_df.index.values\n",
    "                                       , asd_sib_match_df, csv_fil=\"dat/bias/sib.explevel.rank.tsv\")"
   ]
  },
  {
   "cell_type": "code",
   "execution_count": null,
   "metadata": {},
   "outputs": [],
   "source": [
    "asd_asc_match_df = pd.read_csv(\"dat/asd_asc_exp_matches_1000.csv\", index_col=\"GENE\")\n",
    "asc_elevel_match = ExpAVGWithExpMatch(ExpMat, asd_asc_match_df.index.values, \n",
    "                                      asd_asc_match_df, csv_fil=\"dat/bias/asc.explevel.rank.tsv\")"
   ]
  },
  {
   "cell_type": "code",
   "execution_count": 10,
   "metadata": {},
   "outputs": [],
   "source": [
    "asd_sparktada_match_df = pd.read_csv(\"dat/matching/asd_sparktada_exp_matches_1000.csv\", index_col=\"GENE\")\n",
    "asd_sparktada_elevel_match = ExpAVGWithExpMatch(ExpMat, asd_sparktada_match_df.index.values, \n",
    "                                      asd_sparktada_match_df, csv_fil=\"dat/bias/sparktada.explevel.rank.tsv\")"
   ]
  },
  {
   "cell_type": "markdown",
   "metadata": {},
   "source": [
    "#### 2.2 expression level with normed "
   ]
  },
  {
   "cell_type": "code",
   "execution_count": 18,
   "metadata": {},
   "outputs": [],
   "source": [
    "asd_asc_match_df = pd.read_csv(\"dat/matching/asd_asc_exp_matches_1000.csv\", index_col=\"GENE\")\n",
    "asc_elevel_match = ExpAVGWithExpMatch(ExpMatNorm, asd_asc_match_df.index.values, \n",
    "                                      asd_asc_match_df, csv_fil=\"dat/bias/asc.norm.explevel.rank.tsv\")"
   ]
  },
  {
   "cell_type": "code",
   "execution_count": 19,
   "metadata": {},
   "outputs": [],
   "source": [
    "asd_sparktada_match_df = pd.read_csv(\"dat/matching/asd_sparktada_exp_matches_1000.csv\", index_col=\"GENE\")\n",
    "asd_sparktada_elevel_match = ExpAVGWithExpMatch(ExpMatNorm, asd_sparktada_match_df.index.values, \n",
    "                                      asd_sparktada_match_df, csv_fil=\"dat/bias/sparktada.norm.explevel.rank.tsv\")"
   ]
  },
  {
   "cell_type": "code",
   "execution_count": 65,
   "metadata": {},
   "outputs": [
    {
     "name": "stdout",
     "output_type": "stream",
     "text": [
      "Cortical_subplate \t 3 \t Claustrum; Basomedial_amygdalar_nucleus; Endopiriform_nucleus_dorsal_part\n",
      "Hippocampal_region \t 4 \t Dentate_gyrus; Field_CA1; Field_CA2; Field_CA3\n",
      "Isocortex \t 31 \t Orbital_area_ventrolateral_part; Infralimbic_area; Primary_visual_area; Prelimbic_area; Anterior_cingulate_area_dorsal_part; Orbital_area_medial_part; Orbital_area_lateral_part; Posterolateral_visual_area; posteromedial_visual_area; Anterior_cingulate_area_ventral_part; Secondary_motor_area; Retrosplenial_area_lateral_agranular_part; Primary_somatosensory_area_trunk; Retrosplenial_area_dorsal_part; Primary_somatosensory_area_upper_limb; Posterior_parietal_association_areas; Agranular_insular_area_dorsal_part; Anteromedial_visual_area; Frontal_pole_cerebral_cortex; Primary_motor_area; Primary_somatosensory_area_lower_limb; Agranular_insular_area_ventral_part; Primary_somatosensory_area_barrel_field; Lateral_visual_area; Gustatory_areas; Temporal_association_areas; Anterolateral_visual_area; Supplemental_somatosensory_area; Primary_somatosensory_area_mouth; Ectorhinal_area; Primary_somatosensory_area_nose\n",
      "Olfactory_areas \t 4 \t Dorsal_peduncular_area; Accessory_olfactory_bulb; Anterior_olfactory_nucleus; Taenia_tecta\n",
      "Striatum \t 3 \t Nucleus_accumbens; Intercalated_amygdalar_nucleus; Caudoputamen\n",
      "Hippocampal_formation \t 5 \t Presubiculum; Parasubiculum; Subiculum_dorsal_part; Postsubiculum; Subiculum_ventral_part\n"
     ]
    }
   ],
   "source": [
    "asc_sub_ssc_elevel_match = pd.read_csv(\"dat/bias/sparktada.norm.explevel.rank.tsv\", index_col=\"STR\")\n",
    "RegionDistributions(asc_sub_ssc_elevel_match)"
   ]
  },
  {
   "cell_type": "code",
   "execution_count": 63,
   "metadata": {},
   "outputs": [],
   "source": [
    "asd_sparktada_match_df = pd.read_csv(\"dat/matching/asd_sparktada300_exp_matches_1000.csv\", index_col=\"GENE\")\n",
    "asd_sparktada_elevel_match = ExpAVGWithExpMatch(ExpMatNorm, asd_sparktada_match_df.index.values, \n",
    "                                      asd_sparktada_match_df, csv_fil=\"dat/bias/sparktada300.norm.explevel.rank.tsv\")"
   ]
  },
  {
   "cell_type": "code",
   "execution_count": 64,
   "metadata": {},
   "outputs": [
    {
     "name": "stdout",
     "output_type": "stream",
     "text": [
      "Cortical_subplate \t 3 \t Endopiriform_nucleus_dorsal_part; Claustrum; Basolateral_amygdalar_nucleus\n",
      "Hippocampal_region \t 3 \t Field_CA1; Dentate_gyrus; Field_CA2\n",
      "Isocortex \t 32 \t Anterior_cingulate_area_dorsal_part; Infralimbic_area; Prelimbic_area; Orbital_area_lateral_part; Orbital_area_ventrolateral_part; Posterolateral_visual_area; Orbital_area_medial_part; Retrosplenial_area_lateral_agranular_part; posteromedial_visual_area; Anterior_cingulate_area_ventral_part; Primary_somatosensory_area_lower_limb; Secondary_motor_area; Temporal_association_areas; Anteromedial_visual_area; Primary_visual_area; Primary_motor_area; Lateral_visual_area; Posterior_parietal_association_areas; Agranular_insular_area_ventral_part; Ectorhinal_area; Primary_somatosensory_area_trunk; Gustatory_areas; Primary_somatosensory_area_upper_limb; Supplemental_somatosensory_area; Retrosplenial_area_dorsal_part; Agranular_insular_area_dorsal_part; Anterolateral_visual_area; Primary_somatosensory_area_nose; Visceral_area; Frontal_pole_cerebral_cortex; Primary_somatosensory_area_barrel_field; Primary_somatosensory_area_mouth\n",
      "Olfactory_areas \t 5 \t Dorsal_peduncular_area; Anterior_olfactory_nucleus; Taenia_tecta; Piriform_area; Accessory_olfactory_bulb\n",
      "Striatum \t 2 \t Nucleus_accumbens; Caudoputamen\n",
      "Hippocampal_formation \t 5 \t Subiculum_dorsal_part; Parasubiculum; Entorhinal_area_lateral_part; Presubiculum; Postsubiculum\n"
     ]
    }
   ],
   "source": [
    "asc_sub_ssc_elevel_match = pd.read_csv(\"dat/bias/sparktada300.norm.explevel.rank.tsv\", index_col=\"STR\")\n",
    "RegionDistributions(asc_sub_ssc_elevel_match)"
   ]
  },
  {
   "cell_type": "code",
   "execution_count": null,
   "metadata": {},
   "outputs": [],
   "source": [
    "asd_sparktada_match_df = pd.read_csv(\"dat/matching/asd_sparktada300_exp_matches_1000.csv\", index_col=\"GENE\")\n",
    "asd_sparktada_elevel_match = ExpAVGWithExpMatch(ExpMatNorm, asd_sparktada_match_df.index.values, \n",
    "                                      asd_sparktada_match_df, csv_fil=\"dat/bias/sparktada300.norm.explevel.rank.tsv\")"
   ]
  },
  {
   "cell_type": "code",
   "execution_count": null,
   "metadata": {},
   "outputs": [],
   "source": []
  },
  {
   "cell_type": "code",
   "execution_count": 33,
   "metadata": {},
   "outputs": [
    {
     "name": "stdout",
     "output_type": "stream",
     "text": [
      "Cortical_subplate \t 2 \t Claustrum; Endopiriform_nucleus_dorsal_part\n",
      "Hippocampal_region \t 4 \t Dentate_gyrus; Field_CA2; Field_CA1; Field_CA3\n",
      "Isocortex \t 25 \t Retrosplenial_area_lateral_agranular_part; Anteromedial_visual_area; Infralimbic_area; Prelimbic_area; Anterior_cingulate_area_ventral_part; posteromedial_visual_area; Orbital_area_lateral_part; Orbital_area_ventrolateral_part; Primary_visual_area; Posterior_parietal_association_areas; Primary_somatosensory_area_lower_limb; Anterior_cingulate_area_dorsal_part; Retrosplenial_area_dorsal_part; Posterolateral_visual_area; Primary_somatosensory_area_trunk; Orbital_area_medial_part; Anterolateral_visual_area; Lateral_visual_area; Retrosplenial_area_ventral_part; Secondary_motor_area; Primary_motor_area; Primary_somatosensory_area_upper_limb; Visceral_area; Primary_somatosensory_area_barrel_field; Temporal_association_areas\n",
      "Midbrain \t 1 \t Nucleus_of_the_optic_tract\n",
      "Olfactory_areas \t 5 \t Anterior_olfactory_nucleus; Dorsal_peduncular_area; Taenia_tecta; Piriform_amygdalar_area; Accessory_olfactory_bulb\n",
      "Striatum \t 3 \t Nucleus_accumbens; Olfactory_tubercle; Caudoputamen\n",
      "Thalamus \t 4 \t Lateral_posterior_nucleus_of_the_thalamus; Lateral_dorsal_nucleus_of_thalamus; Rhomboid_nucleus; Dorsal_part_of_the_lateral_geniculate_complex\n",
      "Hippocampal_formation \t 6 \t Postsubiculum; Subiculum_dorsal_part; Presubiculum; Parasubiculum; Entorhinal_area_lateral_part; Subiculum_ventral_part\n"
     ]
    }
   ],
   "source": [
    "asc_sub_ssc_elevel_match = pd.read_csv(\"dat/bias/asc.norm.explevel.rank.tsv\", index_col=\"STR\")\n",
    "RegionDistributions(asc_sub_ssc_elevel_match)"
   ]
  },
  {
   "cell_type": "code",
   "execution_count": 34,
   "metadata": {},
   "outputs": [
    {
     "name": "stdout",
     "output_type": "stream",
     "text": [
      "Cortical_subplate \t 1 \t Claustrum\n",
      "Hippocampal_region \t 4 \t Field_CA2; Field_CA1; Dentate_gyrus; Field_CA3\n",
      "Isocortex \t 28 \t Retrosplenial_area_lateral_agranular_part; Prelimbic_area; Retrosplenial_area_dorsal_part; Anteromedial_visual_area; Orbital_area_ventrolateral_part; posteromedial_visual_area; Primary_visual_area; Posterior_parietal_association_areas; Orbital_area_lateral_part; Infralimbic_area; Primary_somatosensory_area_lower_limb; Anterior_cingulate_area_ventral_part; Anterior_cingulate_area_dorsal_part; Primary_somatosensory_area_trunk; Orbital_area_medial_part; Posterolateral_visual_area; Lateral_visual_area; Retrosplenial_area_ventral_part; Anterolateral_visual_area; Secondary_motor_area; Primary_somatosensory_area_upper_limb; Primary_motor_area; Perirhinal_area; Primary_somatosensory_area_barrel_field; Temporal_association_areas; Dorsal_auditory_area; Primary_auditory_area; Visceral_area\n",
      "Midbrain \t 2 \t Nucleus_of_the_optic_tract; Anterior_pretectal_nucleus\n",
      "Olfactory_areas \t 5 \t Anterior_olfactory_nucleus; Piriform_amygdalar_area; Accessory_olfactory_bulb; Dorsal_peduncular_area; Taenia_tecta\n",
      "Striatum \t 1 \t Nucleus_accumbens\n",
      "Thalamus \t 4 \t Lateral_posterior_nucleus_of_the_thalamus; Lateral_dorsal_nucleus_of_thalamus; Medial_geniculate_complex_medial_part; Rhomboid_nucleus\n",
      "Hippocampal_formation \t 5 \t Subiculum_dorsal_part; Postsubiculum; Parasubiculum; Presubiculum; Entorhinal_area_lateral_part\n"
     ]
    }
   ],
   "source": [
    "asc_sub_ssc_elevel_match = pd.read_csv(\"dat/bias/asc.explevel.rank.tsv\", index_col=\"STR\")\n",
    "RegionDistributions(asc_sub_ssc_elevel_match)"
   ]
  },
  {
   "cell_type": "code",
   "execution_count": 56,
   "metadata": {},
   "outputs": [],
   "source": [
    "asd_sparktol_match_df = pd.read_csv(\"dat/matching/asd_spark_exp_matches_1000.csv\", index_col=\"GENE\")\n",
    "asd_sparktol_elevel_match = ExpAVGWithExpMatch(ExpMatNorm, asd_sparktol_match_df.index.values, \n",
    "                                      asd_sparktol_match_df, csv_fil=\"dat/bias/sparktol.norm.explevel.rank.tsv\")"
   ]
  },
  {
   "cell_type": "code",
   "execution_count": 57,
   "metadata": {},
   "outputs": [
    {
     "name": "stdout",
     "output_type": "stream",
     "text": [
      "Cortical_subplate \t 5 \t Claustrum; Endopiriform_nucleus_dorsal_part; Posterior_amygdalar_nucleus; Basolateral_amygdalar_nucleus; Basomedial_amygdalar_nucleus\n",
      "Hippocampal_region \t 4 \t Dentate_gyrus; Field_CA1; Field_CA2; Field_CA3\n",
      "Isocortex \t 18 \t Infralimbic_area; Retrosplenial_area_lateral_agranular_part; Frontal_pole_cerebral_cortex; Orbital_area_ventrolateral_part; Prelimbic_area; Orbital_area_lateral_part; Anterior_cingulate_area_dorsal_part; Orbital_area_medial_part; Secondary_motor_area; Anterior_cingulate_area_ventral_part; Posterolateral_visual_area; Visceral_area; Anteromedial_visual_area; posteromedial_visual_area; Agranular_insular_area_ventral_part; Supplemental_somatosensory_area; Agranular_insular_area_dorsal_part; Gustatory_areas\n",
      "Olfactory_areas \t 5 \t Accessory_olfactory_bulb; Dorsal_peduncular_area; Anterior_olfactory_nucleus; Main_olfactory_bulb; Taenia_tecta\n",
      "Striatum \t 9 \t Nucleus_accumbens; Caudoputamen; Lateral_septal_nucleus_rostral_rostroventral_part; Lateral_septal_nucleus_caudal_caudodorsal_part; Fundus_of_striatum; Lateral_septal_nucleus_ventral_part; Central_amygdalar_nucleus; Intercalated_amygdalar_nucleus; Septofimbrial_nucleus\n",
      "Thalamus \t 5 \t Lateral_posterior_nucleus_of_the_thalamus; Lateral_habenula; Rhomboid_nucleus; Parataenial_nucleus; Medial_geniculate_complex_dorsal_part\n",
      "Cerebellum \t 2 \t Ansiform_lobule; Pyramus_VIII\n",
      "Pallidum \t 2 \t Triangular_nucleus_of_septum; Bed_nuclei_of_the_stria_terminalis\n"
     ]
    }
   ],
   "source": [
    "asc_sub_ssc_elevel_match = pd.read_csv(\"dat/bias/sparktol.norm.explevel.rank.tsv\", index_col=\"STR\")\n",
    "RegionDistributions(asc_sub_ssc_elevel_match)"
   ]
  },
  {
   "cell_type": "code",
   "execution_count": 58,
   "metadata": {},
   "outputs": [],
   "source": [
    "asd_sparktol_match_df = pd.read_csv(\"dat/matching/asd_spark_exp_matches_1000.csv\", index_col=\"GENE\")\n",
    "genes = set(asd_sparktol_match_df.index.values).difference(set([6934, 23090, 2911]))\n",
    "asd_sparktol_elevel_match = ExpAVGWithExpMatch(ExpMatNorm, genes, \n",
    "                                      asd_sparktol_match_df, csv_fil=\"dat/bias/sparktol.norm.explevel.test.rank.tsv\")"
   ]
  },
  {
   "cell_type": "code",
   "execution_count": 59,
   "metadata": {},
   "outputs": [
    {
     "name": "stdout",
     "output_type": "stream",
     "text": [
      "Cortical_subplate \t 5 \t Claustrum; Endopiriform_nucleus_dorsal_part; Posterior_amygdalar_nucleus; Basolateral_amygdalar_nucleus; Basomedial_amygdalar_nucleus\n",
      "Hippocampal_region \t 4 \t Dentate_gyrus; Field_CA1; Field_CA2; Field_CA3\n",
      "Isocortex \t 22 \t Infralimbic_area; Retrosplenial_area_lateral_agranular_part; Frontal_pole_cerebral_cortex; Orbital_area_ventrolateral_part; Orbital_area_lateral_part; Prelimbic_area; Anterior_cingulate_area_dorsal_part; Secondary_motor_area; Orbital_area_medial_part; Anterior_cingulate_area_ventral_part; Posterolateral_visual_area; Anteromedial_visual_area; Visceral_area; Agranular_insular_area_ventral_part; posteromedial_visual_area; Agranular_insular_area_dorsal_part; Supplemental_somatosensory_area; Gustatory_areas; Retrosplenial_area_dorsal_part; Primary_somatosensory_area_lower_limb; Primary_visual_area; Primary_motor_area\n",
      "Olfactory_areas \t 6 \t Accessory_olfactory_bulb; Dorsal_peduncular_area; Anterior_olfactory_nucleus; Taenia_tecta; Main_olfactory_bulb; Piriform_area\n",
      "Striatum \t 8 \t Nucleus_accumbens; Caudoputamen; Lateral_septal_nucleus_rostral_rostroventral_part; Lateral_septal_nucleus_caudal_caudodorsal_part; Fundus_of_striatum; Central_amygdalar_nucleus; Intercalated_amygdalar_nucleus; Lateral_septal_nucleus_ventral_part\n",
      "Thalamus \t 2 \t Lateral_posterior_nucleus_of_the_thalamus; Lateral_habenula\n",
      "Cerebellum \t 2 \t Ansiform_lobule; Pyramus_VIII\n",
      "Pallidum \t 1 \t Bed_nuclei_of_the_stria_terminalis\n"
     ]
    }
   ],
   "source": [
    "asc_sub_ssc_elevel_match = pd.read_csv(\"dat/bias/sparktol.norm.explevel.test.rank.tsv\", index_col=\"STR\")\n",
    "RegionDistributions(asc_sub_ssc_elevel_match)"
   ]
  },
  {
   "cell_type": "code",
   "execution_count": 69,
   "metadata": {},
   "outputs": [
    {
     "data": {
      "text/plain": [
       "False"
      ]
     },
     "execution_count": 69,
     "metadata": {},
     "output_type": "execute_result"
    }
   ],
   "source": [
    "2911 in asd_sparktol_match_df.index.values"
   ]
  },
  {
   "cell_type": "code",
   "execution_count": 72,
   "metadata": {},
   "outputs": [
    {
     "data": {
      "text/html": [
       "<div>\n",
       "<style scoped>\n",
       "    .dataframe tbody tr th:only-of-type {\n",
       "        vertical-align: middle;\n",
       "    }\n",
       "\n",
       "    .dataframe tbody tr th {\n",
       "        vertical-align: top;\n",
       "    }\n",
       "\n",
       "    .dataframe thead th {\n",
       "        text-align: right;\n",
       "    }\n",
       "</style>\n",
       "<table border=\"1\" class=\"dataframe\">\n",
       "  <thead>\n",
       "    <tr style=\"text-align: right;\">\n",
       "      <th></th>\n",
       "      <th>1</th>\n",
       "      <th>2</th>\n",
       "      <th>3</th>\n",
       "      <th>4</th>\n",
       "      <th>5</th>\n",
       "      <th>6</th>\n",
       "      <th>7</th>\n",
       "      <th>8</th>\n",
       "      <th>9</th>\n",
       "      <th>10</th>\n",
       "      <th>...</th>\n",
       "      <th>991</th>\n",
       "      <th>992</th>\n",
       "      <th>993</th>\n",
       "      <th>994</th>\n",
       "      <th>995</th>\n",
       "      <th>996</th>\n",
       "      <th>997</th>\n",
       "      <th>998</th>\n",
       "      <th>999</th>\n",
       "      <th>1000</th>\n",
       "    </tr>\n",
       "    <tr>\n",
       "      <th>GENE</th>\n",
       "      <th></th>\n",
       "      <th></th>\n",
       "      <th></th>\n",
       "      <th></th>\n",
       "      <th></th>\n",
       "      <th></th>\n",
       "      <th></th>\n",
       "      <th></th>\n",
       "      <th></th>\n",
       "      <th></th>\n",
       "      <th></th>\n",
       "      <th></th>\n",
       "      <th></th>\n",
       "      <th></th>\n",
       "      <th></th>\n",
       "      <th></th>\n",
       "      <th></th>\n",
       "      <th></th>\n",
       "      <th></th>\n",
       "      <th></th>\n",
       "      <th></th>\n",
       "    </tr>\n",
       "  </thead>\n",
       "  <tbody>\n",
       "    <tr>\n",
       "      <th>23090</th>\n",
       "      <td>344805</td>\n",
       "      <td>51237</td>\n",
       "      <td>10786</td>\n",
       "      <td>84875</td>\n",
       "      <td>162417</td>\n",
       "      <td>55159</td>\n",
       "      <td>113130</td>\n",
       "      <td>134285</td>\n",
       "      <td>658</td>\n",
       "      <td>2268</td>\n",
       "      <td>...</td>\n",
       "      <td>223</td>\n",
       "      <td>9622</td>\n",
       "      <td>140458</td>\n",
       "      <td>55553</td>\n",
       "      <td>143872</td>\n",
       "      <td>8992</td>\n",
       "      <td>23554</td>\n",
       "      <td>51442</td>\n",
       "      <td>4314</td>\n",
       "      <td>91057</td>\n",
       "    </tr>\n",
       "    <tr>\n",
       "      <th>2911</th>\n",
       "      <td>23193</td>\n",
       "      <td>27067</td>\n",
       "      <td>140809</td>\n",
       "      <td>64409</td>\n",
       "      <td>27124</td>\n",
       "      <td>151126</td>\n",
       "      <td>84649</td>\n",
       "      <td>5358</td>\n",
       "      <td>54554</td>\n",
       "      <td>2934</td>\n",
       "      <td>...</td>\n",
       "      <td>5202</td>\n",
       "      <td>79575</td>\n",
       "      <td>728642</td>\n",
       "      <td>6520</td>\n",
       "      <td>1000</td>\n",
       "      <td>81846</td>\n",
       "      <td>80829</td>\n",
       "      <td>4326</td>\n",
       "      <td>63971</td>\n",
       "      <td>26054</td>\n",
       "    </tr>\n",
       "  </tbody>\n",
       "</table>\n",
       "<p>2 rows × 1000 columns</p>\n",
       "</div>"
      ],
      "text/plain": [
       "            1      2       3      4       5       6       7       8      9  \\\n",
       "GENE                                                                         \n",
       "23090  344805  51237   10786  84875  162417   55159  113130  134285    658   \n",
       "2911    23193  27067  140809  64409   27124  151126   84649    5358  54554   \n",
       "\n",
       "         10  ...   991    992     993    994     995    996    997    998  \\\n",
       "GENE         ...                                                            \n",
       "23090  2268  ...   223   9622  140458  55553  143872   8992  23554  51442   \n",
       "2911   2934  ...  5202  79575  728642   6520    1000  81846  80829   4326   \n",
       "\n",
       "         999   1000  \n",
       "GENE                 \n",
       "23090   4314  91057  \n",
       "2911   63971  26054  \n",
       "\n",
       "[2 rows x 1000 columns]"
      ]
     },
     "execution_count": 72,
     "metadata": {},
     "output_type": "execute_result"
    }
   ],
   "source": [
    "asd_sparktol_match_df2 = pd.read_csv(\"dat/matching/asd_spark_exp_matches_1000.csv\", index_col=\"GENE\")\n",
    "xx = asd_sparktol_match_df2.loc[[23090, 2911], :]"
   ]
  },
  {
   "cell_type": "code",
   "execution_count": 74,
   "metadata": {},
   "outputs": [],
   "source": [
    "asd_sparktol_match_df = pd.read_csv(\"dat/matching/asd_sparktada_exp_matches_1000.csv\", index_col=\"GENE\")\n",
    "genes = set(asd_sparktol_match_df.index.values).union(set([6934, 23090, 2911]))\n",
    "asd_sparktol_elevel_match = ExpAVGWithExpMatch(ExpMatNorm, genes, \n",
    "                                      pd.concat([asd_sparktol_match_df, xx]), csv_fil=\"dat/bias/sparktol.norm.explevel.test.rank.tsv\")"
   ]
  },
  {
   "cell_type": "code",
   "execution_count": 77,
   "metadata": {},
   "outputs": [
    {
     "name": "stdout",
     "output_type": "stream",
     "text": [
      "Cortical_subplate \t 2 \t Basomedial_amygdalar_nucleus; Claustrum\n",
      "Hippocampal_region \t 4 \t Dentate_gyrus; Field_CA1; Field_CA2; Field_CA3\n",
      "Isocortex \t 30 \t Orbital_area_ventrolateral_part; Infralimbic_area; Primary_visual_area; Prelimbic_area; Orbital_area_medial_part; Posterolateral_visual_area; Anterior_cingulate_area_dorsal_part; Anterior_cingulate_area_ventral_part; posteromedial_visual_area; Orbital_area_lateral_part; Retrosplenial_area_lateral_agranular_part; Secondary_motor_area; Primary_somatosensory_area_trunk; Retrosplenial_area_dorsal_part; Anteromedial_visual_area; Posterior_parietal_association_areas; Agranular_insular_area_dorsal_part; Frontal_pole_cerebral_cortex; Primary_somatosensory_area_upper_limb; Agranular_insular_area_ventral_part; Primary_somatosensory_area_lower_limb; Temporal_association_areas; Primary_motor_area; Gustatory_areas; Lateral_visual_area; Primary_somatosensory_area_barrel_field; Supplemental_somatosensory_area; Anterolateral_visual_area; Ectorhinal_area; Primary_somatosensory_area_mouth\n",
      "Olfactory_areas \t 5 \t Dorsal_peduncular_area; Accessory_olfactory_bulb; Taenia_tecta; Anterior_olfactory_nucleus; Main_olfactory_bulb\n",
      "Striatum \t 4 \t Nucleus_accumbens; Intercalated_amygdalar_nucleus; Caudoputamen; Lateral_septal_nucleus_caudal_caudodorsal_part\n",
      "Hippocampal_formation \t 5 \t Presubiculum; Parasubiculum; Subiculum_dorsal_part; Postsubiculum; Subiculum_ventral_part\n"
     ]
    }
   ],
   "source": [
    "asc_sub_ssc_elevel_match = pd.read_csv(\"dat/bias/sparktol.norm.explevel.test.rank.tsv\", index_col=\"STR\")\n",
    "RegionDistributions(asc_sub_ssc_elevel_match)"
   ]
  },
  {
   "cell_type": "code",
   "execution_count": 88,
   "metadata": {},
   "outputs": [
    {
     "name": "stdout",
     "output_type": "stream",
     "text": [
      "105\n"
     ]
    }
   ],
   "source": [
    "ssc_spark_tal = pd.read_csv(\"../dat/genes/spark-simplex.csv\")\n",
    "top100_spark_tal = set([int(x) for x in ssc_spark_tal.head(120)[\"GENE\"].values])\n",
    "print(len(top100_spark_tal))\n",
    "# 96 genes"
   ]
  },
  {
   "cell_type": "code",
   "execution_count": 94,
   "metadata": {},
   "outputs": [],
   "source": [
    "asd_sparktol_match_df = pd.read_csv(\"dat/matching/asd_spark_exp_matches_1000.csv\", index_col=\"GENE\")\n",
    "genes = top100_spark_tal\n",
    "asd_sparktol_elevel_match = ExpAVGWithExpMatch(ExpMatNorm, genes, \n",
    "                                      asd_sparktol_match_df, csv_fil=\"dat/bias/sparktol.norm.explevel.100.rank.tsv\")"
   ]
  },
  {
   "cell_type": "code",
   "execution_count": 95,
   "metadata": {},
   "outputs": [
    {
     "name": "stdout",
     "output_type": "stream",
     "text": [
      "Cortical_subplate \t 4 \t Posterior_amygdalar_nucleus; Basomedial_amygdalar_nucleus; Basolateral_amygdalar_nucleus; Claustrum\n",
      "Hippocampal_region \t 4 \t Dentate_gyrus; Field_CA3; Field_CA2; Field_CA1\n",
      "Isocortex \t 16 \t posteromedial_visual_area; Posterolateral_visual_area; Orbital_area_ventrolateral_part; Retrosplenial_area_lateral_agranular_part; Infralimbic_area; Frontal_pole_cerebral_cortex; Primary_visual_area; Prelimbic_area; Orbital_area_lateral_part; Secondary_motor_area; Anteromedial_visual_area; Anterior_cingulate_area_dorsal_part; Agranular_insular_area_ventral_part; Gustatory_areas; Orbital_area_medial_part; Agranular_insular_area_dorsal_part\n",
      "Midbrain \t 2 \t Anterior_pretectal_nucleus; Nucleus_of_the_optic_tract\n",
      "Olfactory_areas \t 4 \t Accessory_olfactory_bulb; Dorsal_peduncular_area; Anterior_olfactory_nucleus; Main_olfactory_bulb\n",
      "Striatum \t 5 \t Intercalated_amygdalar_nucleus; Caudoputamen; Nucleus_accumbens; Lateral_septal_nucleus_rostral_rostroventral_part; Lateral_septal_nucleus_caudal_caudodorsal_part\n",
      "Thalamus \t 7 \t Lateral_posterior_nucleus_of_the_thalamus; Medial_geniculate_complex_dorsal_part; Lateral_habenula; Mediodorsal_nucleus_of_thalamus; Central_medial_nucleus_of_the_thalamus; Central_lateral_nucleus_of_the_thalamus; Dorsal_part_of_the_lateral_geniculate_complex\n",
      "Hippocampal_formation \t 3 \t Parasubiculum; Presubiculum; Postsubiculum\n",
      "Cerebellum \t 5 \t Ansiform_lobule; Paramedian_lobule; Culmen; Simple_lobule; Pyramus_VIII\n"
     ]
    }
   ],
   "source": [
    "asc_sub_ssc_elevel_match = pd.read_csv(\"dat/bias/sparktol.norm.explevel.100.rank.tsv\", index_col=\"STR\")\n",
    "RegionDistributions(asc_sub_ssc_elevel_match)"
   ]
  },
  {
   "cell_type": "code",
   "execution_count": 92,
   "metadata": {},
   "outputs": [],
   "source": [
    "asd_sparktol_match_df = pd.read_csv(\"dat/matching/top_pLI_exp_matches_1000.csv\", index_col=\"GENE\")\n",
    "asd_sparktol_elevel_match = ExpAVGWithExpMatch(ExpMatNorm, asd_sparktol_match_df.index.values, \n",
    "                                     asd_sparktol_match_df, csv_fil=\"dat/bias/top_pLI.norm.explevel.rank.tsv\")"
   ]
  },
  {
   "cell_type": "code",
   "execution_count": 93,
   "metadata": {},
   "outputs": [
    {
     "name": "stdout",
     "output_type": "stream",
     "text": [
      "Hippocampal_region \t 4 \t Dentate_gyrus; Field_CA1; Field_CA2; Field_CA3\n",
      "Isocortex \t 11 \t Prelimbic_area; Frontal_pole_cerebral_cortex; Infralimbic_area; Anterior_cingulate_area_dorsal_part; Secondary_motor_area; Orbital_area_ventrolateral_part; Anterior_cingulate_area_ventral_part; Orbital_area_lateral_part; Orbital_area_medial_part; Retrosplenial_area_dorsal_part; Retrosplenial_area_lateral_agranular_part\n",
      "Midbrain \t 6 \t Inferior_colliculus_dorsal_nucleus; Inferior_colliculus_central_nucleus; Superior_colliculus_sensory_related; Nucleus_of_the_optic_tract; Medial_pretectal_area; Anterior_pretectal_nucleus\n",
      "Olfactory_areas \t 4 \t Accessory_olfactory_bulb; Main_olfactory_bulb; Dorsal_peduncular_area; Anterior_olfactory_nucleus\n",
      "Striatum \t 3 \t Lateral_septal_nucleus_ventral_part; Lateral_septal_nucleus_rostral_rostroventral_part; Lateral_septal_nucleus_caudal_caudodorsal_part\n",
      "Thalamus \t 9 \t Lateral_habenula; Lateral_posterior_nucleus_of_the_thalamus; Medial_habenula; Subparafascicular_nucleus_magnocellular_part; Central_medial_nucleus_of_the_thalamus; Mediodorsal_nucleus_of_thalamus; Submedial_nucleus_of_the_thalamus; Medial_geniculate_complex_dorsal_part; Parataenial_nucleus\n",
      "Cerebellum \t 11 \t Central_lobule; Culmen; Pyramus_VIII; Ansiform_lobule; Simple_lobule; Paramedian_lobule; Nodulus_X; Paraflocculus; Flocculus; Interposed_nucleus; Fastigial_nucleus\n",
      "Pallidum \t 2 \t Bed_nuclei_of_the_stria_terminalis; Triangular_nucleus_of_septum\n"
     ]
    }
   ],
   "source": [
    "asc_sub_ssc_elevel_match = pd.read_csv(\"dat/bias/top_pLI.norm.explevel.rank.tsv\", index_col=\"STR\")\n",
    "RegionDistributions(asc_sub_ssc_elevel_match)"
   ]
  },
  {
   "cell_type": "code",
   "execution_count": null,
   "metadata": {},
   "outputs": [],
   "source": []
  },
  {
   "cell_type": "markdown",
   "metadata": {},
   "source": [
    "#### 2.3 expression level with normed and matching with pLI"
   ]
  },
  {
   "cell_type": "code",
   "execution_count": 47,
   "metadata": {},
   "outputs": [],
   "source": [
    "asd_sparktada_match_df = pd.read_csv(\"dat/matching/asd_sparktada_exp_matches_pLI_1000.csv\", index_col=\"GENE\")\n",
    "asd_sparktada_elevel_match = ExpAVGWithExpMatch(ExpMatNorm, asd_sparktada_match_df.index.values, \n",
    "                                      asd_sparktada_match_df, csv_fil=\"dat/bias/sparktada.norm.pLI.explevel.rank.tsv\")"
   ]
  },
  {
   "cell_type": "code",
   "execution_count": 51,
   "metadata": {},
   "outputs": [
    {
     "data": {
      "text/html": [
       "<div>\n",
       "<style scoped>\n",
       "    .dataframe tbody tr th:only-of-type {\n",
       "        vertical-align: middle;\n",
       "    }\n",
       "\n",
       "    .dataframe tbody tr th {\n",
       "        vertical-align: top;\n",
       "    }\n",
       "\n",
       "    .dataframe thead th {\n",
       "        text-align: right;\n",
       "    }\n",
       "</style>\n",
       "<table border=\"1\" class=\"dataframe\">\n",
       "  <thead>\n",
       "    <tr style=\"text-align: right;\">\n",
       "      <th></th>\n",
       "      <th>STR</th>\n",
       "      <th>EFFECT</th>\n",
       "    </tr>\n",
       "  </thead>\n",
       "  <tbody>\n",
       "    <tr>\n",
       "      <th>136</th>\n",
       "      <td>Presubiculum</td>\n",
       "      <td>-0.021888</td>\n",
       "    </tr>\n",
       "    <tr>\n",
       "      <th>203</th>\n",
       "      <td>Primary_visual_area</td>\n",
       "      <td>-0.040699</td>\n",
       "    </tr>\n",
       "    <tr>\n",
       "      <th>204</th>\n",
       "      <td>Posterolateral_visual_area</td>\n",
       "      <td>-0.044565</td>\n",
       "    </tr>\n",
       "  </tbody>\n",
       "</table>\n",
       "</div>"
      ],
      "text/plain": [
       "                            STR    EFFECT\n",
       "136                Presubiculum -0.021888\n",
       "203         Primary_visual_area -0.040699\n",
       "204  Posterolateral_visual_area -0.044565"
      ]
     },
     "execution_count": 51,
     "metadata": {},
     "output_type": "execute_result"
    }
   ],
   "source": [
    "asd_sparktada_elevel_match.head(3)"
   ]
  },
  {
   "cell_type": "code",
   "execution_count": 49,
   "metadata": {},
   "outputs": [],
   "source": [
    "asd_asc_match_df = pd.read_csv(\"dat/matching/asd_asc_exp_matches_pLI_1000.csv\", index_col=\"GENE\")\n",
    "asc_elevel_match = ExpAVGWithExpMatch(ExpMatNorm, asd_asc_match_df.index.values, \n",
    "                                      asd_asc_match_df, csv_fil=\"dat/bias/asc.norm.pLI.explevel.rank.tsv\")"
   ]
  },
  {
   "cell_type": "code",
   "execution_count": 50,
   "metadata": {},
   "outputs": [
    {
     "data": {
      "text/html": [
       "<div>\n",
       "<style scoped>\n",
       "    .dataframe tbody tr th:only-of-type {\n",
       "        vertical-align: middle;\n",
       "    }\n",
       "\n",
       "    .dataframe tbody tr th {\n",
       "        vertical-align: top;\n",
       "    }\n",
       "\n",
       "    .dataframe thead th {\n",
       "        text-align: right;\n",
       "    }\n",
       "</style>\n",
       "<table border=\"1\" class=\"dataframe\">\n",
       "  <thead>\n",
       "    <tr style=\"text-align: right;\">\n",
       "      <th></th>\n",
       "      <th>STR</th>\n",
       "      <th>EFFECT</th>\n",
       "    </tr>\n",
       "  </thead>\n",
       "  <tbody>\n",
       "    <tr>\n",
       "      <th>155</th>\n",
       "      <td>Retrosplenial_area_lateral_agranular_part</td>\n",
       "      <td>0.006062</td>\n",
       "    </tr>\n",
       "    <tr>\n",
       "      <th>75</th>\n",
       "      <td>Lateral_posterior_nucleus_of_the_thalamus</td>\n",
       "      <td>-0.031218</td>\n",
       "    </tr>\n",
       "    <tr>\n",
       "      <th>205</th>\n",
       "      <td>posteromedial_visual_area</td>\n",
       "      <td>-0.035025</td>\n",
       "    </tr>\n",
       "  </tbody>\n",
       "</table>\n",
       "</div>"
      ],
      "text/plain": [
       "                                           STR    EFFECT\n",
       "155  Retrosplenial_area_lateral_agranular_part  0.006062\n",
       "75   Lateral_posterior_nucleus_of_the_thalamus -0.031218\n",
       "205                  posteromedial_visual_area -0.035025"
      ]
     },
     "execution_count": 50,
     "metadata": {},
     "output_type": "execute_result"
    }
   ],
   "source": [
    "asc_elevel_match.head(3)"
   ]
  },
  {
   "cell_type": "code",
   "execution_count": 54,
   "metadata": {},
   "outputs": [
    {
     "name": "stdout",
     "output_type": "stream",
     "text": [
      "Cortical_subplate \t 1 \t Claustrum\n",
      "Hippocampal_region \t 3 \t Dentate_gyrus; Field_CA1; Field_CA2\n",
      "Isocortex \t 35 \t Primary_visual_area; Posterolateral_visual_area; Orbital_area_ventrolateral_part; Orbital_area_lateral_part; posteromedial_visual_area; Orbital_area_medial_part; Prelimbic_area; Frontal_pole_cerebral_cortex; Infralimbic_area; Anterior_cingulate_area_dorsal_part; Retrosplenial_area_dorsal_part; Anterior_cingulate_area_ventral_part; Retrosplenial_area_lateral_agranular_part; Secondary_motor_area; Ventral_auditory_area; Agranular_insular_area_dorsal_part; Primary_somatosensory_area_trunk; Primary_somatosensory_area_upper_limb; Ectorhinal_area; Dorsal_auditory_area; Primary_somatosensory_area_barrel_field; Primary_auditory_area; Supplemental_somatosensory_area; Temporal_association_areas; Posterior_parietal_association_areas; Primary_motor_area; Agranular_insular_area_ventral_part; Anteromedial_visual_area; Gustatory_areas; Lateral_visual_area; Primary_somatosensory_area_mouth; Anterolateral_visual_area; Primary_somatosensory_area_lower_limb; Primary_somatosensory_area_nose; Visceral_area\n",
      "Midbrain \t 1 \t Inferior_colliculus_central_nucleus\n",
      "Olfactory_areas \t 5 \t Accessory_olfactory_bulb; Dorsal_peduncular_area; Main_olfactory_bulb; Anterior_olfactory_nucleus; Taenia_tecta\n",
      "Striatum \t 1 \t Intercalated_amygdalar_nucleus\n",
      "Hippocampal_formation \t 4 \t Presubiculum; Parasubiculum; Postsubiculum; Entorhinal_area_lateral_part\n"
     ]
    }
   ],
   "source": [
    "asc_sub_ssc_elevel_match = pd.read_csv(\"dat/bias/sparktada.norm.pLI.explevel.rank.tsv\", index_col=\"STR\")\n",
    "RegionDistributions(asc_sub_ssc_elevel_match)"
   ]
  },
  {
   "cell_type": "code",
   "execution_count": 55,
   "metadata": {},
   "outputs": [
    {
     "name": "stdout",
     "output_type": "stream",
     "text": [
      "Hippocampal_region \t 3 \t Dentate_gyrus; Field_CA2; Field_CA1\n",
      "Isocortex \t 22 \t Retrosplenial_area_lateral_agranular_part; posteromedial_visual_area; Orbital_area_lateral_part; Posterolateral_visual_area; Primary_visual_area; Anteromedial_visual_area; Prelimbic_area; Retrosplenial_area_dorsal_part; Orbital_area_ventrolateral_part; Anterior_cingulate_area_ventral_part; Infralimbic_area; Perirhinal_area; Posterior_parietal_association_areas; Primary_somatosensory_area_lower_limb; Anterior_cingulate_area_dorsal_part; Orbital_area_medial_part; Primary_somatosensory_area_trunk; Retrosplenial_area_ventral_part; Lateral_visual_area; Anterolateral_visual_area; Visceral_area; Temporal_association_areas\n",
      "Olfactory_areas \t 3 \t Anterior_olfactory_nucleus; Piriform_amygdalar_area; Dorsal_peduncular_area\n",
      "Striatum \t 2 \t Olfactory_tubercle; Nucleus_accumbens\n",
      "Thalamus \t 15 \t Lateral_posterior_nucleus_of_the_thalamus; Rhomboid_nucleus; Posterior_complex_of_the_thalamus; Central_medial_nucleus_of_the_thalamus; Ventral_posteromedial_nucleus_of_the_thalamus; Lateral_dorsal_nucleus_of_thalamus; Subparafascicular_area; Intermediodorsal_nucleus_of_the_thalamus; Central_lateral_nucleus_of_the_thalamus; Subparafascicular_nucleus_magnocellular_part; Medial_geniculate_complex_medial_part; Parataenial_nucleus; Parafascicular_nucleus; Submedial_nucleus_of_the_thalamus; Ventral_posteromedial_nucleus_of_the_thalamus_parvicellular_part\n",
      "Hippocampal_formation \t 5 \t Postsubiculum; Entorhinal_area_lateral_part; Presubiculum; Subiculum_dorsal_part; Parasubiculum\n"
     ]
    }
   ],
   "source": [
    "asc_sub_ssc_elevel_match = pd.read_csv(\"dat/bias/asc.norm.pLI.explevel.rank.tsv\", index_col=\"STR\")\n",
    "RegionDistributions(asc_sub_ssc_elevel_match)"
   ]
  },
  {
   "cell_type": "code",
   "execution_count": null,
   "metadata": {},
   "outputs": [],
   "source": []
  },
  {
   "cell_type": "code",
   "execution_count": 60,
   "metadata": {},
   "outputs": [
    {
     "name": "stdout",
     "output_type": "stream",
     "text": [
      "Cortical_subplate \t 2 \t Claustrum; Endopiriform_nucleus_dorsal_part\n",
      "Hippocampal_region \t 4 \t Dentate_gyrus; Field_CA1; Field_CA2; Field_CA3\n",
      "Isocortex \t 23 \t Retrosplenial_area_lateral_agranular_part; Infralimbic_area; Prelimbic_area; Anterior_cingulate_area_ventral_part; Anteromedial_visual_area; Posterior_parietal_association_areas; Primary_somatosensory_area_lower_limb; Primary_visual_area; Anterior_cingulate_area_dorsal_part; Retrosplenial_area_dorsal_part; Orbital_area_lateral_part; Orbital_area_ventrolateral_part; posteromedial_visual_area; Primary_somatosensory_area_trunk; Orbital_area_medial_part; Posterolateral_visual_area; Retrosplenial_area_ventral_part; Secondary_motor_area; Primary_motor_area; Primary_somatosensory_area_upper_limb; Anterolateral_visual_area; Lateral_visual_area; Temporal_association_areas\n",
      "Midbrain \t 2 \t Anterior_pretectal_nucleus; Nucleus_of_the_optic_tract\n",
      "Olfactory_areas \t 3 \t Anterior_olfactory_nucleus; Dorsal_peduncular_area; Taenia_tecta\n",
      "Striatum \t 5 \t Nucleus_accumbens; Lateral_septal_nucleus_caudal_caudodorsal_part; Lateral_septal_nucleus_ventral_part; Lateral_septal_nucleus_rostral_rostroventral_part; Caudoputamen\n",
      "Thalamus \t 5 \t Lateral_posterior_nucleus_of_the_thalamus; Lateral_dorsal_nucleus_of_thalamus; Submedial_nucleus_of_the_thalamus; Parafascicular_nucleus; Central_lateral_nucleus_of_the_thalamus\n",
      "Hippocampal_formation \t 6 \t Subiculum_dorsal_part; Postsubiculum; Presubiculum; Parasubiculum; Subiculum_ventral_part; Entorhinal_area_lateral_part\n"
     ]
    }
   ],
   "source": [
    "asc_sub_ssc_elevel_match = pd.read_csv(\"dat/bias/asd.asc.norm.zmatch.rank.csv\", index_col=\"STR\")\n",
    "RegionDistributions(asc_sub_ssc_elevel_match)"
   ]
  },
  {
   "cell_type": "code",
   "execution_count": 61,
   "metadata": {},
   "outputs": [
    {
     "name": "stdout",
     "output_type": "stream",
     "text": [
      "Cortical_subplate \t 2 \t Basomedial_amygdalar_nucleus; Lateral_amygdalar_nucleus\n",
      "Hippocampal_region \t 4 \t Dentate_gyrus; Field_CA1; Field_CA2; Field_CA3\n",
      "Isocortex \t 28 \t Infralimbic_area; Orbital_area_ventrolateral_part; Prelimbic_area; Primary_visual_area; Orbital_area_lateral_part; Anterior_cingulate_area_dorsal_part; Anterior_cingulate_area_ventral_part; Orbital_area_medial_part; Posterolateral_visual_area; Secondary_motor_area; Primary_somatosensory_area_trunk; Retrosplenial_area_lateral_agranular_part; posteromedial_visual_area; Primary_somatosensory_area_upper_limb; Posterior_parietal_association_areas; Primary_motor_area; Agranular_insular_area_dorsal_part; Primary_somatosensory_area_lower_limb; Agranular_insular_area_ventral_part; Retrosplenial_area_dorsal_part; Anteromedial_visual_area; Gustatory_areas; Primary_somatosensory_area_barrel_field; Frontal_pole_cerebral_cortex; Anterolateral_visual_area; Lateral_visual_area; Temporal_association_areas; Primary_somatosensory_area_mouth\n",
      "Midbrain \t 1 \t Inferior_colliculus_central_nucleus\n",
      "Olfactory_areas \t 5 \t Dorsal_peduncular_area; Accessory_olfactory_bulb; Anterior_olfactory_nucleus; Taenia_tecta; Main_olfactory_bulb\n",
      "Striatum \t 4 \t Intercalated_amygdalar_nucleus; Lateral_septal_nucleus_caudal_caudodorsal_part; Nucleus_accumbens; Central_amygdalar_nucleus\n",
      "Thalamus \t 2 \t Dorsal_part_of_the_lateral_geniculate_complex; Lateral_posterior_nucleus_of_the_thalamus\n",
      "Hippocampal_formation \t 4 \t Presubiculum; Subiculum_dorsal_part; Parasubiculum; Subiculum_ventral_part\n"
     ]
    }
   ],
   "source": [
    "asc_sub_ssc_elevel_match = pd.read_csv(\"dat/bias/asd.norm.sparktada.zmatch.rank.csv\", index_col=\"STR\")\n",
    "RegionDistributions(asc_sub_ssc_elevel_match)"
   ]
  },
  {
   "cell_type": "markdown",
   "metadata": {},
   "source": [
    "#### 2.3 gene set substraction"
   ]
  },
  {
   "cell_type": "code",
   "execution_count": 35,
   "metadata": {},
   "outputs": [],
   "source": [
    "asc_sub_ssc_match_df = pd.read_csv(\"dat/matching/asc_sub_ssc_exp_matches_1000.csv\", index_col=\"GENE\")\n",
    "asc_sub_ssc_elevel_match = ExpAVGWithExpMatch(ExpMatNorm, asc_sub_ssc_match_df.index.values, \n",
    "                                      asc_sub_ssc_match_df, csv_fil=\"dat/bias/asc_sub_ssc.norm.explevel.rank.tsv\")"
   ]
  },
  {
   "cell_type": "code",
   "execution_count": 37,
   "metadata": {},
   "outputs": [],
   "source": [
    "ssc_sub_asc_match_df = pd.read_csv(\"dat/matching/ssc_sub_asc_exp_matches_1000.csv\", index_col=\"GENE\")\n",
    "ssc_sub_asc_elevel_match = ExpAVGWithExpMatch(ExpMatNorm, ssc_sub_asc_match_df.index.values, \n",
    "                                      ssc_sub_asc_match_df, csv_fil=\"dat/bias/ssc_sub_asc.norm.explevel.rank.tsv\")"
   ]
  },
  {
   "cell_type": "code",
   "execution_count": 38,
   "metadata": {},
   "outputs": [
    {
     "name": "stdout",
     "output_type": "stream",
     "text": [
      "Cortical_subplate \t 1 \t Lateral_amygdalar_nucleus\n",
      "Hippocampal_region \t 4 \t Dentate_gyrus; Field_CA1; Field_CA2; Field_CA3\n",
      "Isocortex \t 31 \t Retrosplenial_area_lateral_agranular_part; posteromedial_visual_area; Posterior_parietal_association_areas; Anterior_cingulate_area_ventral_part; Primary_visual_area; Primary_somatosensory_area_lower_limb; Primary_somatosensory_area_trunk; Anteromedial_visual_area; Orbital_area_medial_part; Temporal_association_areas; Retrosplenial_area_dorsal_part; Ectorhinal_area; Anterolateral_visual_area; Lateral_visual_area; Prelimbic_area; Orbital_area_lateral_part; Primary_somatosensory_area_upper_limb; Posterolateral_visual_area; Orbital_area_ventrolateral_part; Anterior_cingulate_area_dorsal_part; Primary_somatosensory_area_barrel_field; Retrosplenial_area_ventral_part; Gustatory_areas; Agranular_insular_area_ventral_part; Infralimbic_area; Primary_auditory_area; Primary_somatosensory_area_nose; Supplemental_somatosensory_area; Visceral_area; Perirhinal_area; Primary_somatosensory_area_mouth\n",
      "Olfactory_areas \t 2 \t Piriform_area; Piriform_amygdalar_area\n",
      "Striatum \t 3 \t Olfactory_tubercle; Nucleus_accumbens; Caudoputamen\n",
      "Thalamus \t 4 \t Central_medial_nucleus_of_the_thalamus; Lateral_posterior_nucleus_of_the_thalamus; Rhomboid_nucleus; Medial_geniculate_complex_dorsal_part\n",
      "Hippocampal_formation \t 5 \t Subiculum_dorsal_part; Postsubiculum; Entorhinal_area_lateral_part; Parasubiculum; Presubiculum\n"
     ]
    }
   ],
   "source": [
    "asc_sub_ssc_elevel_match = pd.read_csv(\"dat/bias/asc_sub_ssc.norm.explevel.rank.tsv\", index_col=\"STR\")\n",
    "RegionDistributions(asc_sub_ssc_elevel_match)"
   ]
  },
  {
   "cell_type": "code",
   "execution_count": 39,
   "metadata": {},
   "outputs": [
    {
     "name": "stdout",
     "output_type": "stream",
     "text": [
      "Cortical_subplate \t 2 \t Posterior_amygdalar_nucleus; Claustrum\n",
      "Hippocampal_region \t 4 \t Dentate_gyrus; Field_CA3; Field_CA2; Field_CA1\n",
      "Isocortex \t 8 \t Frontal_pole_cerebral_cortex; Orbital_area_ventrolateral_part; Infralimbic_area; Retrosplenial_area_lateral_agranular_part; Orbital_area_lateral_part; Anterior_cingulate_area_ventral_part; Prelimbic_area; posteromedial_visual_area\n",
      "Midbrain \t 6 \t Anterior_pretectal_nucleus; Nucleus_of_the_optic_tract; Inferior_colliculus_central_nucleus; Inferior_colliculus_dorsal_nucleus; Superior_colliculus_sensory_related; Inferior_colliculus_external_nucleus\n",
      "Olfactory_areas \t 5 \t Accessory_olfactory_bulb; Main_olfactory_bulb; Anterior_olfactory_nucleus; Dorsal_peduncular_area; Taenia_tecta\n",
      "Striatum \t 6 \t Lateral_septal_nucleus_ventral_part; Lateral_septal_nucleus_caudal_caudodorsal_part; Septofimbrial_nucleus; Lateral_septal_nucleus_rostral_rostroventral_part; Caudoputamen; Nucleus_accumbens\n",
      "Hypothalamus \t 2 \t Dorsal_premammillary_nucleus; Dorsomedial_nucleus_of_the_hypothalamus\n",
      "Thalamus \t 10 \t Lateral_posterior_nucleus_of_the_thalamus; Lateral_habenula; Parataenial_nucleus; Nucleus_of_reuniens; Submedial_nucleus_of_the_thalamus; Anteromedial_nucleus_ventral_part; Medial_habenula; Central_medial_nucleus_of_the_thalamus; Central_lateral_nucleus_of_the_thalamus; Subparafascicular_nucleus_magnocellular_part\n",
      "Hippocampal_formation \t 2 \t Parasubiculum; Subiculum_dorsal_part\n",
      "Cerebellum \t 3 \t Pyramus_VIII; Culmen; Simple_lobule\n",
      "Pallidum \t 2 \t Triangular_nucleus_of_septum; Bed_nuclei_of_the_stria_terminalis\n"
     ]
    }
   ],
   "source": [
    "ssc_sub_asc_elevel_match = pd.read_csv(\"dat/bias/ssc_sub_asc.norm.explevel.rank.tsv\", index_col=\"STR\")\n",
    "RegionDistributions(ssc_sub_asc_elevel_match)"
   ]
  },
  {
   "cell_type": "code",
   "execution_count": null,
   "metadata": {},
   "outputs": [],
   "source": []
  },
  {
   "cell_type": "markdown",
   "metadata": {},
   "source": [
    "## 3 Bias considering constraint"
   ]
  },
  {
   "cell_type": "code",
   "execution_count": 98,
   "metadata": {},
   "outputs": [],
   "source": [
    "gnomad_cons = pd.read_csv(\"/Users/jiayao/Work/Resources/gnomad.v2.1.1.lof_metrics.by_gene.txt\", delimiter=\"\\t\")"
   ]
  },
  {
   "cell_type": "code",
   "execution_count": 101,
   "metadata": {},
   "outputs": [
    {
     "name": "stdout",
     "output_type": "stream",
     "text": [
      "['gene' 'transcript' 'obs_mis' 'exp_mis' 'oe_mis' 'mu_mis' 'possible_mis'\n",
      " 'obs_mis_pphen' 'exp_mis_pphen' 'oe_mis_pphen' 'possible_mis_pphen'\n",
      " 'obs_syn' 'exp_syn' 'oe_syn' 'mu_syn' 'possible_syn' 'obs_lof' 'mu_lof'\n",
      " 'possible_lof' 'exp_lof' 'pLI' 'pNull' 'pRec' 'oe_lof' 'oe_syn_lower'\n",
      " 'oe_syn_upper' 'oe_mis_lower' 'oe_mis_upper' 'oe_lof_lower'\n",
      " 'oe_lof_upper' 'constraint_flag' 'syn_z' 'mis_z' 'lof_z'\n",
      " 'oe_lof_upper_rank' 'oe_lof_upper_bin' 'oe_lof_upper_bin_6' 'n_sites'\n",
      " 'classic_caf' 'max_af' 'no_lofs' 'obs_het_lof' 'obs_hom_lof' 'defined'\n",
      " 'p' 'exp_hom_lof' 'classic_caf_afr' 'classic_caf_amr' 'classic_caf_asj'\n",
      " 'classic_caf_eas' 'classic_caf_fin' 'classic_caf_nfe' 'classic_caf_oth'\n",
      " 'classic_caf_sas' 'p_afr' 'p_amr' 'p_asj' 'p_eas' 'p_fin' 'p_nfe' 'p_oth'\n",
      " 'p_sas' 'transcript_type' 'gene_id' 'transcript_level' 'cds_length'\n",
      " 'num_coding_exons' 'gene_type' 'gene_length' 'exac_pLI' 'exac_obs_lof'\n",
      " 'exac_exp_lof' 'exac_oe_lof' 'brain_expression' 'chromosome'\n",
      " 'start_position' 'end_position']\n"
     ]
    },
    {
     "data": {
      "text/html": [
       "<div>\n",
       "<style scoped>\n",
       "    .dataframe tbody tr th:only-of-type {\n",
       "        vertical-align: middle;\n",
       "    }\n",
       "\n",
       "    .dataframe tbody tr th {\n",
       "        vertical-align: top;\n",
       "    }\n",
       "\n",
       "    .dataframe thead th {\n",
       "        text-align: right;\n",
       "    }\n",
       "</style>\n",
       "<table border=\"1\" class=\"dataframe\">\n",
       "  <thead>\n",
       "    <tr style=\"text-align: right;\">\n",
       "      <th></th>\n",
       "      <th>gene</th>\n",
       "      <th>transcript</th>\n",
       "      <th>obs_mis</th>\n",
       "      <th>exp_mis</th>\n",
       "      <th>oe_mis</th>\n",
       "      <th>mu_mis</th>\n",
       "      <th>possible_mis</th>\n",
       "      <th>obs_mis_pphen</th>\n",
       "      <th>exp_mis_pphen</th>\n",
       "      <th>oe_mis_pphen</th>\n",
       "      <th>...</th>\n",
       "      <th>gene_type</th>\n",
       "      <th>gene_length</th>\n",
       "      <th>exac_pLI</th>\n",
       "      <th>exac_obs_lof</th>\n",
       "      <th>exac_exp_lof</th>\n",
       "      <th>exac_oe_lof</th>\n",
       "      <th>brain_expression</th>\n",
       "      <th>chromosome</th>\n",
       "      <th>start_position</th>\n",
       "      <th>end_position</th>\n",
       "    </tr>\n",
       "  </thead>\n",
       "  <tbody>\n",
       "    <tr>\n",
       "      <th>0</th>\n",
       "      <td>MED13</td>\n",
       "      <td>ENST00000397786</td>\n",
       "      <td>871</td>\n",
       "      <td>1117.8</td>\n",
       "      <td>0.77921</td>\n",
       "      <td>0.000056</td>\n",
       "      <td>14195</td>\n",
       "      <td>314.0</td>\n",
       "      <td>529.75</td>\n",
       "      <td>0.59273</td>\n",
       "      <td>...</td>\n",
       "      <td>protein_coding</td>\n",
       "      <td>122678</td>\n",
       "      <td>1.0</td>\n",
       "      <td>0.0</td>\n",
       "      <td>64.393</td>\n",
       "      <td>0.000000</td>\n",
       "      <td>NaN</td>\n",
       "      <td>17</td>\n",
       "      <td>60019966</td>\n",
       "      <td>60142643</td>\n",
       "    </tr>\n",
       "    <tr>\n",
       "      <th>1</th>\n",
       "      <td>NIPBL</td>\n",
       "      <td>ENST00000282516</td>\n",
       "      <td>846</td>\n",
       "      <td>1441.5</td>\n",
       "      <td>0.58688</td>\n",
       "      <td>0.000074</td>\n",
       "      <td>18540</td>\n",
       "      <td>158.0</td>\n",
       "      <td>543.10</td>\n",
       "      <td>0.29092</td>\n",
       "      <td>...</td>\n",
       "      <td>protein_coding</td>\n",
       "      <td>189655</td>\n",
       "      <td>1.0</td>\n",
       "      <td>1.0</td>\n",
       "      <td>110.570</td>\n",
       "      <td>0.009044</td>\n",
       "      <td>NaN</td>\n",
       "      <td>5</td>\n",
       "      <td>36876861</td>\n",
       "      <td>37066515</td>\n",
       "    </tr>\n",
       "  </tbody>\n",
       "</table>\n",
       "<p>2 rows × 77 columns</p>\n",
       "</div>"
      ],
      "text/plain": [
       "    gene       transcript  obs_mis  exp_mis   oe_mis    mu_mis  possible_mis  \\\n",
       "0  MED13  ENST00000397786      871   1117.8  0.77921  0.000056         14195   \n",
       "1  NIPBL  ENST00000282516      846   1441.5  0.58688  0.000074         18540   \n",
       "\n",
       "   obs_mis_pphen  exp_mis_pphen  oe_mis_pphen  ...       gene_type  \\\n",
       "0          314.0         529.75       0.59273  ...  protein_coding   \n",
       "1          158.0         543.10       0.29092  ...  protein_coding   \n",
       "\n",
       "   gene_length  exac_pLI  exac_obs_lof  exac_exp_lof  exac_oe_lof  \\\n",
       "0       122678       1.0           0.0        64.393     0.000000   \n",
       "1       189655       1.0           1.0       110.570     0.009044   \n",
       "\n",
       "   brain_expression  chromosome  start_position  end_position  \n",
       "0               NaN          17        60019966      60142643  \n",
       "1               NaN           5        36876861      37066515  \n",
       "\n",
       "[2 rows x 77 columns]"
      ]
     },
     "execution_count": 101,
     "metadata": {},
     "output_type": "execute_result"
    }
   ],
   "source": [
    "print(gnomad_cons.columns.values)\n",
    "gnomad_cons.head(2)"
   ]
  },
  {
   "cell_type": "code",
   "execution_count": 104,
   "metadata": {},
   "outputs": [],
   "source": [
    "Gene2LoFZ = {}\n",
    "for i, row in gnomad_cons.iterrows():\n",
    "    try:\n",
    "        Gene2LoFZ[GeneSymbol2Entrez[row[\"gene\"]]] = max(1, row[\"lof_z\"] + 1)\n",
    "    except:\n",
    "        continue"
   ]
  },
  {
   "cell_type": "code",
   "execution_count": 105,
   "metadata": {},
   "outputs": [
    {
     "data": {
      "text/plain": [
       "(array([1.043e+04, 5.392e+03, 1.816e+03, 3.880e+02, 7.700e+01, 2.400e+01,\n",
       "        3.000e+00, 0.000e+00, 0.000e+00, 1.000e+00]),\n",
       " array([ 1.   ,  3.276,  5.552,  7.828, 10.104, 12.38 , 14.656, 16.932,\n",
       "        19.208, 21.484, 23.76 ]),\n",
       " <a list of 10 Patch objects>)"
      ]
     },
     "execution_count": 105,
     "metadata": {},
     "output_type": "execute_result"
    },
    {
     "data": {
      "image/png": "[encoded data removed]",
      "text/plain": [
       "<Figure size 480x320 with 1 Axes>"
      ]
     },
     "metadata": {
      "needs_background": "light"
     },
     "output_type": "display_data"
    }
   ],
   "source": [
    "plt.hist(Gene2LoFZ.values())"
   ]
  },
  {
   "cell_type": "code",
   "execution_count": null,
   "metadata": {},
   "outputs": [],
   "source": [
    "asd_asc_match_df = pd.read_csv(\"dat/matching/asd_asc_exp_matches_pLI_1000.csv\", index_col=\"GENE\")\n",
    "asc_elevel_match = ExpAVGWithExpMatch(ExpMatNorm, asd_asc_match_df.index.values, \n",
    "                                      asd_asc_match_df, csv_fil=\"dat/bias/asc.norm.pLI.explevel.rank.tsv\")"
   ]
  },
  {
   "cell_type": "code",
   "execution_count": 111,
   "metadata": {},
   "outputs": [
    {
     "name": "stdout",
     "output_type": "stream",
     "text": [
      "Cortical_subplate \t 2 \t Basomedial_amygdalar_nucleus; Endopiriform_nucleus_ventral_part\n",
      "Hippocampal_region \t 3 \t Field_CA1; Dentate_gyrus; Field_CA2\n",
      "Isocortex \t 31 \t Primary_visual_area; Orbital_area_ventrolateral_part; Infralimbic_area; Orbital_area_lateral_part; Primary_somatosensory_area_trunk; Posterolateral_visual_area; posteromedial_visual_area; Primary_somatosensory_area_upper_limb; Posterior_parietal_association_areas; Anterior_cingulate_area_dorsal_part; Prelimbic_area; Orbital_area_medial_part; Primary_somatosensory_area_barrel_field; Retrosplenial_area_dorsal_part; Anteromedial_visual_area; Primary_somatosensory_area_lower_limb; Primary_motor_area; Anterior_cingulate_area_ventral_part; Secondary_motor_area; Retrosplenial_area_lateral_agranular_part; Agranular_insular_area_dorsal_part; Primary_somatosensory_area_mouth; Agranular_insular_area_ventral_part; Anterolateral_visual_area; Gustatory_areas; Primary_somatosensory_area_nose; Lateral_visual_area; Supplemental_somatosensory_area; Temporal_association_areas; Frontal_pole_cerebral_cortex; Retrosplenial_area_ventral_part\n",
      "Midbrain \t 3 \t Inferior_colliculus_central_nucleus; Inferior_colliculus_external_nucleus; Superior_colliculus_sensory_related\n",
      "Olfactory_areas \t 3 \t Dorsal_peduncular_area; Anterior_olfactory_nucleus; Taenia_tecta\n",
      "Striatum \t 3 \t Intercalated_amygdalar_nucleus; Central_amygdalar_nucleus; Caudoputamen\n",
      "Hippocampal_formation \t 5 \t Presubiculum; Parasubiculum; Subiculum_dorsal_part; Postsubiculum; Subiculum_ventral_part\n"
     ]
    }
   ],
   "source": [
    "asd_sparktada_match_df = pd.read_csv(\"dat/matching/asd_sparktada_exp_matches_pLI_1000.csv\", index_col=\"GENE\")\n",
    "asd_sparktada_elevel_match = ExpAVGWithExpMatch_Constraint(ExpMatNorm, asd_sparktada_match_df.index.values, \n",
    "                        asd_sparktada_match_df, Gene2LoFZ, csv_fil=\"dat/bias/sparktada.norm.lofz.explevel.rank.tsv\")\n",
    "asd_sparktada_elevel_match = pd.read_csv(\"dat/bias/sparktada.norm.lofz.explevel.rank.tsv\", index_col=\"STR\")\n",
    "RegionDistributions(asd_sparktada_elevel_match)"
   ]
  },
  {
   "cell_type": "code",
   "execution_count": 112,
   "metadata": {},
   "outputs": [
    {
     "name": "stdout",
     "output_type": "stream",
     "text": [
      "Cortical_subplate \t 2 \t Claustrum; Endopiriform_nucleus_dorsal_part\n",
      "Hippocampal_region \t 4 \t Dentate_gyrus; Field_CA1; Field_CA2; Field_CA3\n",
      "Isocortex \t 23 \t Retrosplenial_area_lateral_agranular_part; Infralimbic_area; Prelimbic_area; Anterior_cingulate_area_ventral_part; Anteromedial_visual_area; Posterior_parietal_association_areas; Primary_somatosensory_area_lower_limb; Primary_visual_area; Retrosplenial_area_dorsal_part; Anterior_cingulate_area_dorsal_part; Orbital_area_lateral_part; Orbital_area_ventrolateral_part; posteromedial_visual_area; Primary_somatosensory_area_trunk; Orbital_area_medial_part; Posterolateral_visual_area; Retrosplenial_area_ventral_part; Secondary_motor_area; Primary_motor_area; Primary_somatosensory_area_upper_limb; Anterolateral_visual_area; Lateral_visual_area; Temporal_association_areas\n",
      "Midbrain \t 3 \t Nucleus_of_the_optic_tract; Anterior_pretectal_nucleus; Superior_colliculus_sensory_related\n",
      "Olfactory_areas \t 3 \t Anterior_olfactory_nucleus; Dorsal_peduncular_area; Taenia_tecta\n",
      "Striatum \t 5 \t Nucleus_accumbens; Lateral_septal_nucleus_caudal_caudodorsal_part; Lateral_septal_nucleus_ventral_part; Lateral_septal_nucleus_rostral_rostroventral_part; Caudoputamen\n",
      "Thalamus \t 4 \t Lateral_posterior_nucleus_of_the_thalamus; Submedial_nucleus_of_the_thalamus; Lateral_dorsal_nucleus_of_thalamus; Parafascicular_nucleus\n",
      "Hippocampal_formation \t 6 \t Subiculum_dorsal_part; Postsubiculum; Presubiculum; Parasubiculum; Subiculum_ventral_part; Entorhinal_area_lateral_part\n"
     ]
    }
   ],
   "source": [
    "asd_asc_zmatch_lofz = pd.read_csv(\"dat/bias/asd.asc.norm.lofz.zmatch.rank.csv\", index_col=\"STR\")\n",
    "RegionDistributions(asd_asc_zmatch_lofz)"
   ]
  },
  {
   "cell_type": "code",
   "execution_count": 113,
   "metadata": {},
   "outputs": [
    {
     "name": "stdout",
     "output_type": "stream",
     "text": [
      "Cortical_subplate \t 1 \t Basomedial_amygdalar_nucleus\n",
      "Hippocampal_region \t 4 \t Dentate_gyrus; Field_CA1; Field_CA2; Field_CA3\n",
      "Isocortex \t 28 \t Infralimbic_area; Orbital_area_ventrolateral_part; Prelimbic_area; Primary_visual_area; Orbital_area_lateral_part; Anterior_cingulate_area_dorsal_part; Anterior_cingulate_area_ventral_part; Orbital_area_medial_part; Secondary_motor_area; Posterolateral_visual_area; Primary_somatosensory_area_trunk; Retrosplenial_area_lateral_agranular_part; posteromedial_visual_area; Posterior_parietal_association_areas; Primary_somatosensory_area_upper_limb; Primary_motor_area; Primary_somatosensory_area_lower_limb; Retrosplenial_area_dorsal_part; Agranular_insular_area_dorsal_part; Agranular_insular_area_ventral_part; Anteromedial_visual_area; Gustatory_areas; Primary_somatosensory_area_barrel_field; Frontal_pole_cerebral_cortex; Anterolateral_visual_area; Lateral_visual_area; Primary_somatosensory_area_mouth; Temporal_association_areas\n",
      "Midbrain \t 1 \t Inferior_colliculus_central_nucleus\n",
      "Olfactory_areas \t 5 \t Dorsal_peduncular_area; Accessory_olfactory_bulb; Anterior_olfactory_nucleus; Taenia_tecta; Main_olfactory_bulb\n",
      "Striatum \t 5 \t Intercalated_amygdalar_nucleus; Nucleus_accumbens; Lateral_septal_nucleus_caudal_caudodorsal_part; Caudoputamen; Central_amygdalar_nucleus\n",
      "Thalamus \t 1 \t Dorsal_part_of_the_lateral_geniculate_complex\n",
      "Hippocampal_formation \t 5 \t Presubiculum; Subiculum_dorsal_part; Parasubiculum; Subiculum_ventral_part; Postsubiculum\n"
     ]
    }
   ],
   "source": [
    "asd_sparktada_zmatch_lofz = pd.read_csv(\"dat/bias/asd.norm.lofz.sparktada.zmatch.rank.csv\", index_col=\"STR\")\n",
    "RegionDistributions(asd_sparktada_zmatch_lofz)"
   ]
  },
  {
   "cell_type": "code",
   "execution_count": null,
   "metadata": {},
   "outputs": [],
   "source": []
  },
  {
   "cell_type": "code",
   "execution_count": 119,
   "metadata": {},
   "outputs": [
    {
     "data": {
      "text/plain": [
       "<matplotlib.axes._subplots.AxesSubplot at 0x136e81fd0>"
      ]
     },
     "execution_count": 119,
     "metadata": {},
     "output_type": "execute_result"
    },
    {
     "data": {
      "image/png": "[encoded data removed]",
      "text/plain": [
       "<Figure size 480x320 with 1 Axes>"
      ]
     },
     "metadata": {
      "needs_background": "light"
     },
     "output_type": "display_data"
    }
   ],
   "source": [
    "ssc_wigler_neuronorm = pd.read_csv(\"dat/bias/sscwigler.neuronorm.csv\", index_col=\"STR\")\n",
    "ssc_wigler_neuronorm[\"EFFECT\"].hist()"
   ]
  },
  {
   "cell_type": "code",
   "execution_count": 120,
   "metadata": {},
   "outputs": [
    {
     "data": {
      "text/plain": [
       "<matplotlib.axes._subplots.AxesSubplot at 0x1381ab9e8>"
      ]
     },
     "execution_count": 120,
     "metadata": {},
     "output_type": "execute_result"
    },
    {
     "data": {
      "image/png": "[encoded data removed]",
      "text/plain": [
       "<Figure size 480x320 with 1 Axes>"
      ]
     },
     "metadata": {
      "needs_background": "light"
     },
     "output_type": "display_data"
    }
   ],
   "source": [
    "ssc_wigler_expV1 = pd.read_csv(\"dat/bias/sscwigler.expmatV1.csv\", index_col=\"STR\")\n",
    "ssc_wigler_expV1[\"EFFECT\"].hist()"
   ]
  },
  {
   "cell_type": "code",
   "execution_count": 121,
   "metadata": {},
   "outputs": [
    {
     "data": {
      "text/plain": [
       "<matplotlib.axes._subplots.AxesSubplot at 0x13c9d8748>"
      ]
     },
     "execution_count": 121,
     "metadata": {},
     "output_type": "execute_result"
    },
    {
     "data": {
      "image/png": "[encoded data removed]",
      "text/plain": [
       "<Figure size 480x320 with 1 Axes>"
      ]
     },
     "metadata": {
      "needs_background": "light"
     },
     "output_type": "display_data"
    }
   ],
   "source": [
    "ssc_wigler_expV2 = pd.read_csv(\"dat/bias/sscwigler.expmatV2.csv\", index_col=\"STR\")\n",
    "ssc_wigler_expV2[\"EFFECT\"].hist()"
   ]
  },
  {
   "cell_type": "code",
   "execution_count": null,
   "metadata": {},
   "outputs": [],
   "source": [
    "asc_sub_ssc_elevel_match = pd.read_csv(\"dat/bias/sparktada.norm.pLI.explevel.rank.tsv\", index_col=\"STR\")\n",
    "RegionDistributions(asc_sub_ssc_elevel_match)"
   ]
  }
 ],
 "metadata": {
  "kernelspec": {
   "display_name": "Python 3",
   "language": "python",
   "name": "python3"
  },
  "language_info": {
   "codemirror_mode": {
    "name": "ipython",
    "version": 3
   },
   "file_extension": ".py",
   "mimetype": "text/x-python",
   "name": "python",
   "nbconvert_exporter": "python",
   "pygments_lexer": "ipython3",
   "version": "3.7.1"
  }
 },
 "nbformat": 4,
 "nbformat_minor": 2
}
