{
 "cells": [
  {
   "cell_type": "code",
   "execution_count": 116,
   "metadata": {},
   "outputs": [
    {
     "name": "stdout",
     "output_type": "stream",
     "text": [
      "The autoreload extension is already loaded. To reload it, use:\n",
      "  %reload_ext autoreload\n"
     ]
    }
   ],
   "source": [
    "%load_ext autoreload\n",
    "%autoreload 2\n",
    "from ASD_Circuits import *\n",
    "from venn import venn\n",
    "\n",
    "HGNC, ENSID2Entrez, GeneSymbol2Entrez, Entrez2Symbol, allen_mouse_genes = LoadGeneINFO()\n",
    "ExpMat, ExpZscoreMat, ExpMatNorm, ExpZscoreMatNorm = LoadExpressionMatrices()\n",
    "ExpMat = pd.read_csv(\"dat/Jon_data/energy-exp_level.csv\", index_col=\"ROW\")\n",
    "ExpMat2, ExpZscoreMat2, ExpMatNorm2, ExpZscoreMatNorm2 = LoadExpressionMatrices(\n",
    "                        ExpMat = \"../dat/allen-mouse-exp/new-energy-conn-model.csv\", \n",
    "                        ExpZscoreMat = \"../dat/allen-mouse-exp/new-energy-conn-zscore.csv\",\n",
    "                        ExpMatNorm = \"../dat/allen-mouse-exp/energy-neuronorm.csv\",\n",
    "                        ExpZscoreMatNorm = \"../dat/allen-mouse-exp/energy-zscore-neuronorm.csv\")\n",
    "gnomad_cons = pd.read_csv(\"../dat/genes/gnomad.v2.1.1.lof_metrics.by_gene.txt\",\n",
    "                          delimiter=\"\\t\", index_col=\"gene\")"
   ]
  },
  {
   "cell_type": "markdown",
   "metadata": {
    "heading_collapsed": true
   },
   "source": [
    "# 1. Control Data"
   ]
  },
  {
   "cell_type": "markdown",
   "metadata": {
    "hidden": true
   },
   "source": [
    "## 1.1 Sibling Subsampled"
   ]
  },
  {
   "cell_type": "code",
   "execution_count": null,
   "metadata": {
    "hidden": true
   },
   "outputs": [],
   "source": []
  },
  {
   "cell_type": "markdown",
   "metadata": {},
   "source": [
    "# 2. Long & Short Connection"
   ]
  },
  {
   "cell_type": "code",
   "execution_count": 17,
   "metadata": {},
   "outputs": [],
   "source": [
    "meta_jon = pd.read_csv(\"dat/Jon_data/exp_bias-match-specific.csv\")\n",
    "meta_jon.columns = [\"STR\", \"EFFECT\", \"Rank\", \"NGene\"]\n",
    "meta_jon = meta_jon.set_index(\"STR\")\n",
    "g = LoadConnectome2(ConnFil=\n",
    "                    \"../dat/allen-mouse-conn/norm_density-max_ipsi_contra-pval_0.05-deg_min_1-by_weight_pvalue.csv\")\n",
    "EdgeWeightsDict = EdgeDict(g, keyon=\"label\")\n",
    "adj_mat = pd.read_csv(\n",
    "    \"../dat/allen-mouse-conn/norm_density-max_ipsi_contra-pval_0.05-deg_min_1-by_weight_pvalue.csv\",\n",
    "    index_col=\"ROW\")"
   ]
  },
  {
   "cell_type": "code",
   "execution_count": 10,
   "metadata": {},
   "outputs": [
    {
     "name": "stderr",
     "output_type": "stream",
     "text": [
      "/Users/jiayao/Work/ASD_Circuits/src/ASD_Circuits.py:993: RuntimeWarning: divide by zero encountered in double_scalars\n",
      "  return max(Frac_In, Frac_Out), Frac_In/Frac_Out\n"
     ]
    },
    {
     "name": "stdout",
     "output_type": "stream",
     "text": [
      "0.5355748265814344\n"
     ]
    }
   ],
   "source": [
    "sim1 = pd.read_csv(\"/Users/jiayao/Work/ASD_Circuits/src/dat/circuits/ASD_Pad1_W_D_SA.csv\")\n",
    "candidates = sim1.columns.values\n",
    "Init_States = np.ones(len(candidates))\n",
    "ins = MostCohesiveCirtuis(Init_States, g, candidates, EdgeWeightsDict)\n",
    "Cohes = []\n",
    "for i, row in sim1.iterrows():\n",
    "    ins.state = row.values\n",
    "    InCirtuitNodes = ins.CandidateNodes[np.where(ins.state==1)[0]]\n",
    "    Cohes.append(1-ins.energy())\n",
    "best_id = np.argmax(Cohes)\n",
    "state = sim1.loc[1, :].values\n",
    "print(Cohes[best_id])"
   ]
  },
  {
   "cell_type": "code",
   "execution_count": 11,
   "metadata": {},
   "outputs": [
    {
     "name": "stdout",
     "output_type": "stream",
     "text": [
      "34\n"
     ]
    }
   ],
   "source": [
    "InCirtuitNodes = ins.CandidateNodes[np.where(state==1)[0]]\n",
    "print(len(InCirtuitNodes))"
   ]
  },
  {
   "cell_type": "markdown",
   "metadata": {
    "heading_collapsed": true
   },
   "source": [
    "### 2.1 Exp correlation"
   ]
  },
  {
   "cell_type": "code",
   "execution_count": 13,
   "metadata": {
    "hidden": true
   },
   "outputs": [
    {
     "data": {
      "text/html": [
       "<div>\n",
       "<style scoped>\n",
       "    .dataframe tbody tr th:only-of-type {\n",
       "        vertical-align: middle;\n",
       "    }\n",
       "\n",
       "    .dataframe tbody tr th {\n",
       "        vertical-align: top;\n",
       "    }\n",
       "\n",
       "    .dataframe thead th {\n",
       "        text-align: right;\n",
       "    }\n",
       "</style>\n",
       "<table border=\"1\" class=\"dataframe\">\n",
       "  <thead>\n",
       "    <tr style=\"text-align: right;\">\n",
       "      <th></th>\n",
       "      <th>Anterior_amygdalar_area</th>\n",
       "      <th>Anterior_cingulate_area_dorsal_part</th>\n",
       "      <th>Anterior_cingulate_area_ventral_part</th>\n",
       "      <th>Nucleus_accumbens</th>\n",
       "      <th>Anterodorsal_nucleus</th>\n",
       "      <th>Anterior_hypothalamic_nucleus</th>\n",
       "      <th>Agranular_insular_area_dorsal_part</th>\n",
       "      <th>Agranular_insular_area_posterior_part</th>\n",
       "      <th>Agranular_insular_area_ventral_part</th>\n",
       "      <th>Nucleus_ambiguus</th>\n",
       "      <th>...</th>\n",
       "      <th>Primary_visual_area</th>\n",
       "      <th>Posterolateral_visual_area</th>\n",
       "      <th>posteromedial_visual_area</th>\n",
       "      <th>Ventral_medial_nucleus_of_the_thalamus</th>\n",
       "      <th>Ventromedial_hypothalamic_nucleus</th>\n",
       "      <th>Ventral_posterolateral_nucleus_of_the_thalamus</th>\n",
       "      <th>Ventral_posteromedial_nucleus_of_the_thalamus</th>\n",
       "      <th>Ventral_posteromedial_nucleus_of_the_thalamus_parvicellular_part</th>\n",
       "      <th>Ventral_tegmental_area</th>\n",
       "      <th>Hypoglossal_nucleus</th>\n",
       "    </tr>\n",
       "    <tr>\n",
       "      <th>ROW</th>\n",
       "      <th></th>\n",
       "      <th></th>\n",
       "      <th></th>\n",
       "      <th></th>\n",
       "      <th></th>\n",
       "      <th></th>\n",
       "      <th></th>\n",
       "      <th></th>\n",
       "      <th></th>\n",
       "      <th></th>\n",
       "      <th></th>\n",
       "      <th></th>\n",
       "      <th></th>\n",
       "      <th></th>\n",
       "      <th></th>\n",
       "      <th></th>\n",
       "      <th></th>\n",
       "      <th></th>\n",
       "      <th></th>\n",
       "      <th></th>\n",
       "      <th></th>\n",
       "    </tr>\n",
       "  </thead>\n",
       "  <tbody>\n",
       "    <tr>\n",
       "      <th>Anterior_amygdalar_area</th>\n",
       "      <td>1.00000</td>\n",
       "      <td>0.85538</td>\n",
       "      <td>0.855530</td>\n",
       "      <td>0.914668</td>\n",
       "      <td>0.808901</td>\n",
       "      <td>0.879144</td>\n",
       "      <td>0.896017</td>\n",
       "      <td>0.861916</td>\n",
       "      <td>0.902554</td>\n",
       "      <td>0.835838</td>\n",
       "      <td>...</td>\n",
       "      <td>0.870985</td>\n",
       "      <td>0.849980</td>\n",
       "      <td>0.866197</td>\n",
       "      <td>0.863410</td>\n",
       "      <td>0.867540</td>\n",
       "      <td>0.887105</td>\n",
       "      <td>0.866147</td>\n",
       "      <td>0.845258</td>\n",
       "      <td>0.880674</td>\n",
       "      <td>0.822443</td>\n",
       "    </tr>\n",
       "    <tr>\n",
       "      <th>Anterior_cingulate_area_dorsal_part</th>\n",
       "      <td>0.85538</td>\n",
       "      <td>1.00000</td>\n",
       "      <td>0.967816</td>\n",
       "      <td>0.900520</td>\n",
       "      <td>0.824164</td>\n",
       "      <td>0.850890</td>\n",
       "      <td>0.903118</td>\n",
       "      <td>0.875560</td>\n",
       "      <td>0.908175</td>\n",
       "      <td>0.788785</td>\n",
       "      <td>...</td>\n",
       "      <td>0.916002</td>\n",
       "      <td>0.891939</td>\n",
       "      <td>0.904911</td>\n",
       "      <td>0.869791</td>\n",
       "      <td>0.818651</td>\n",
       "      <td>0.849138</td>\n",
       "      <td>0.842211</td>\n",
       "      <td>0.859613</td>\n",
       "      <td>0.862093</td>\n",
       "      <td>0.813509</td>\n",
       "    </tr>\n",
       "  </tbody>\n",
       "</table>\n",
       "<p>2 rows × 213 columns</p>\n",
       "</div>"
      ],
      "text/plain": [
       "                                     Anterior_amygdalar_area  \\\n",
       "ROW                                                            \n",
       "Anterior_amygdalar_area                              1.00000   \n",
       "Anterior_cingulate_area_dorsal_part                  0.85538   \n",
       "\n",
       "                                     Anterior_cingulate_area_dorsal_part  \\\n",
       "ROW                                                                        \n",
       "Anterior_amygdalar_area                                          0.85538   \n",
       "Anterior_cingulate_area_dorsal_part                              1.00000   \n",
       "\n",
       "                                     Anterior_cingulate_area_ventral_part  \\\n",
       "ROW                                                                         \n",
       "Anterior_amygdalar_area                                          0.855530   \n",
       "Anterior_cingulate_area_dorsal_part                              0.967816   \n",
       "\n",
       "                                     Nucleus_accumbens  Anterodorsal_nucleus  \\\n",
       "ROW                                                                            \n",
       "Anterior_amygdalar_area                       0.914668              0.808901   \n",
       "Anterior_cingulate_area_dorsal_part           0.900520              0.824164   \n",
       "\n",
       "                                     Anterior_hypothalamic_nucleus  \\\n",
       "ROW                                                                  \n",
       "Anterior_amygdalar_area                                   0.879144   \n",
       "Anterior_cingulate_area_dorsal_part                       0.850890   \n",
       "\n",
       "                                     Agranular_insular_area_dorsal_part  \\\n",
       "ROW                                                                       \n",
       "Anterior_amygdalar_area                                        0.896017   \n",
       "Anterior_cingulate_area_dorsal_part                            0.903118   \n",
       "\n",
       "                                     Agranular_insular_area_posterior_part  \\\n",
       "ROW                                                                          \n",
       "Anterior_amygdalar_area                                           0.861916   \n",
       "Anterior_cingulate_area_dorsal_part                               0.875560   \n",
       "\n",
       "                                     Agranular_insular_area_ventral_part  \\\n",
       "ROW                                                                        \n",
       "Anterior_amygdalar_area                                         0.902554   \n",
       "Anterior_cingulate_area_dorsal_part                             0.908175   \n",
       "\n",
       "                                     Nucleus_ambiguus  ...  \\\n",
       "ROW                                                    ...   \n",
       "Anterior_amygdalar_area                      0.835838  ...   \n",
       "Anterior_cingulate_area_dorsal_part          0.788785  ...   \n",
       "\n",
       "                                     Primary_visual_area  \\\n",
       "ROW                                                        \n",
       "Anterior_amygdalar_area                         0.870985   \n",
       "Anterior_cingulate_area_dorsal_part             0.916002   \n",
       "\n",
       "                                     Posterolateral_visual_area  \\\n",
       "ROW                                                               \n",
       "Anterior_amygdalar_area                                0.849980   \n",
       "Anterior_cingulate_area_dorsal_part                    0.891939   \n",
       "\n",
       "                                     posteromedial_visual_area  \\\n",
       "ROW                                                              \n",
       "Anterior_amygdalar_area                               0.866197   \n",
       "Anterior_cingulate_area_dorsal_part                   0.904911   \n",
       "\n",
       "                                     Ventral_medial_nucleus_of_the_thalamus  \\\n",
       "ROW                                                                           \n",
       "Anterior_amygdalar_area                                            0.863410   \n",
       "Anterior_cingulate_area_dorsal_part                                0.869791   \n",
       "\n",
       "                                     Ventromedial_hypothalamic_nucleus  \\\n",
       "ROW                                                                      \n",
       "Anterior_amygdalar_area                                       0.867540   \n",
       "Anterior_cingulate_area_dorsal_part                           0.818651   \n",
       "\n",
       "                                     Ventral_posterolateral_nucleus_of_the_thalamus  \\\n",
       "ROW                                                                                   \n",
       "Anterior_amygdalar_area                                                    0.887105   \n",
       "Anterior_cingulate_area_dorsal_part                                        0.849138   \n",
       "\n",
       "                                     Ventral_posteromedial_nucleus_of_the_thalamus  \\\n",
       "ROW                                                                                  \n",
       "Anterior_amygdalar_area                                                   0.866147   \n",
       "Anterior_cingulate_area_dorsal_part                                       0.842211   \n",
       "\n",
       "                                     Ventral_posteromedial_nucleus_of_the_thalamus_parvicellular_part  \\\n",
       "ROW                                                                                                     \n",
       "Anterior_amygdalar_area                                                       0.845258                  \n",
       "Anterior_cingulate_area_dorsal_part                                           0.859613                  \n",
       "\n",
       "                                     Ventral_tegmental_area  \\\n",
       "ROW                                                           \n",
       "Anterior_amygdalar_area                            0.880674   \n",
       "Anterior_cingulate_area_dorsal_part                0.862093   \n",
       "\n",
       "                                     Hypoglossal_nucleus  \n",
       "ROW                                                       \n",
       "Anterior_amygdalar_area                         0.822443  \n",
       "Anterior_cingulate_area_dorsal_part             0.813509  \n",
       "\n",
       "[2 rows x 213 columns]"
      ]
     },
     "execution_count": 13,
     "metadata": {},
     "output_type": "execute_result"
    }
   ],
   "source": [
    "Exp_Corr_DF = pd.read_csv(\"/Users/jiayao/Work/ASD_Circuits/dat/allen-mouse-conn/Dist_ExpressionCorrelation.csv\",\n",
    "                         index_col = \"ROW\")\n",
    "Exp_Corr_DF.head(2)"
   ]
  },
  {
   "cell_type": "code",
   "execution_count": 26,
   "metadata": {
    "hidden": true
   },
   "outputs": [
    {
     "data": {
      "text/plain": [
       "['Dentate_gyrus',\n",
       " 'Prelimbic_area',\n",
       " 'Orbital_area_lateral_part',\n",
       " 'Field_CA1',\n",
       " 'Infralimbic_area',\n",
       " 'Dorsal_peduncular_area',\n",
       " 'Nucleus_accumbens',\n",
       " 'Field_CA2',\n",
       " 'Lateral_posterior_nucleus_of_the_thalamus',\n",
       " 'Orbital_area_ventrolateral_part',\n",
       " 'Claustrum',\n",
       " 'Field_CA3',\n",
       " 'Anterior_olfactory_nucleus',\n",
       " 'Endopiriform_nucleus_dorsal_part',\n",
       " 'Subiculum_dorsal_part',\n",
       " 'Anterior_cingulate_area_dorsal_part',\n",
       " 'Primary_visual_area',\n",
       " 'Anteromedial_visual_area',\n",
       " 'Nucleus_of_reuniens',\n",
       " 'Accessory_olfactory_bulb',\n",
       " 'Retrosplenial_area_lateral_agranular_part',\n",
       " 'Orbital_area_medial_part',\n",
       " 'Secondary_motor_area',\n",
       " 'Anterior_cingulate_area_ventral_part',\n",
       " 'Presubiculum',\n",
       " 'Agranular_insular_area_ventral_part',\n",
       " 'Mediodorsal_nucleus_of_thalamus',\n",
       " 'Lateral_septal_nucleus_caudal_caudodorsal_part',\n",
       " 'Basolateral_amygdalar_nucleus',\n",
       " 'Submedial_nucleus_of_the_thalamus',\n",
       " 'Primary_somatosensory_area_trunk',\n",
       " 'Posterior_parietal_association_areas',\n",
       " 'Lateral_visual_area',\n",
       " 'Taenia_tecta']"
      ]
     },
     "execution_count": 26,
     "metadata": {},
     "output_type": "execute_result"
    }
   ],
   "source": [
    "list(InCirtuitNodes)"
   ]
  },
  {
   "cell_type": "markdown",
   "metadata": {},
   "source": [
    "### 2.2 Within/Cross Regions"
   ]
  },
  {
   "cell_type": "code",
   "execution_count": 45,
   "metadata": {},
   "outputs": [
    {
     "name": "stdout",
     "output_type": "stream",
     "text": [
      "CPU times: user 2 µs, sys: 1e+03 ns, total: 3 µs\n",
      "Wall time: 5.01 µs\n"
     ]
    }
   ],
   "source": [
    "#adj_mat_cir = adj_mat.loc[InCirtuitNodes, InCirtuitNodes]\n",
    "#str2reg = STR2Region()\n",
    "#adj_mat_cir \n",
    "%time\n",
    "ALL_STRs = adj_mat.index.values\n",
    "adj_mat_local = []\n",
    "adj_mat_distal = []\n",
    "for str_i in ALL_STRs:\n",
    "    tmp_local = []\n",
    "    tmp_distal = []\n",
    "    for str_j in ALL_STRs:\n",
    "        weight = adj_mat.loc[str_i, str_j]\n",
    "        if weight == 0:\n",
    "            tmp_local.append(0)\n",
    "            tmp_distal.append(0)\n",
    "        else:\n",
    "            rg_i = str2reg[str_i]\n",
    "            rg_j = str2reg[str_j]\n",
    "            if rg_i == rg_j:\n",
    "                tmp_local.append(weight)\n",
    "                tmp_distal.append(0)\n",
    "            else:\n",
    "                tmp_local.append(0)\n",
    "                tmp_distal.append(weight)\n",
    "    adj_mat_local.append(tmp_local)\n",
    "    adj_mat_distal.append(tmp_distal)\n",
    "adj_mat_local = pd.DataFrame(data=adj_mat_local, index=ALL_STRs, columns=ALL_STRs)\n",
    "adj_mat_distal = pd.DataFrame(data=adj_mat_distal, index=ALL_STRs, columns=ALL_STRs)"
   ]
  },
  {
   "cell_type": "code",
   "execution_count": 50,
   "metadata": {},
   "outputs": [],
   "source": [
    "###### local co\n",
    "type(\"xxx\") == str\n",
    "g_local = LoadConnectome2(ConnFil=adj_mat_local)\n",
    "g_distal = LoadConnectome2(ConnFil=adj_mat_distal)\n",
    "EdgeWeightsDict_local = EdgeDict(g_local, keyon=\"label\")\n",
    "EdgeWeightsDict_distal = EdgeDict(g_distal, keyon=\"label\")"
   ]
  },
  {
   "cell_type": "code",
   "execution_count": 122,
   "metadata": {},
   "outputs": [
    {
     "data": {
      "text/html": [
       "<div>\n",
       "<style scoped>\n",
       "    .dataframe tbody tr th:only-of-type {\n",
       "        vertical-align: middle;\n",
       "    }\n",
       "\n",
       "    .dataframe tbody tr th {\n",
       "        vertical-align: top;\n",
       "    }\n",
       "\n",
       "    .dataframe thead th {\n",
       "        text-align: right;\n",
       "    }\n",
       "</style>\n",
       "<table border=\"1\" class=\"dataframe\">\n",
       "  <thead>\n",
       "    <tr style=\"text-align: right;\">\n",
       "      <th></th>\n",
       "      <th>EFFECT</th>\n",
       "      <th>Rank</th>\n",
       "      <th>NGene</th>\n",
       "    </tr>\n",
       "    <tr>\n",
       "      <th>STR</th>\n",
       "      <th></th>\n",
       "      <th></th>\n",
       "      <th></th>\n",
       "    </tr>\n",
       "  </thead>\n",
       "  <tbody>\n",
       "    <tr>\n",
       "      <th>Dentate_gyrus</th>\n",
       "      <td>0.511273</td>\n",
       "      <td>1</td>\n",
       "      <td>95</td>\n",
       "    </tr>\n",
       "    <tr>\n",
       "      <th>Prelimbic_area</th>\n",
       "      <td>0.463267</td>\n",
       "      <td>2</td>\n",
       "      <td>95</td>\n",
       "    </tr>\n",
       "  </tbody>\n",
       "</table>\n",
       "</div>"
      ],
      "text/plain": [
       "                  EFFECT  Rank  NGene\n",
       "STR                                  \n",
       "Dentate_gyrus   0.511273     1     95\n",
       "Prelimbic_area  0.463267     2     95"
      ]
     },
     "execution_count": 122,
     "metadata": {},
     "output_type": "execute_result"
    }
   ],
   "source": [
    "meta_jon = pd.read_csv(\"dat/Jon_data/exp_bias-match-specific.csv\")\n",
    "meta_jon.columns = [\"STR\", \"EFFECT\", \"Rank\", \"NGene\"]\n",
    "meta_jon = meta_jon.set_index(\"STR\")\n",
    "meta_jon.head(2)\n"
   ]
  },
  {
   "cell_type": "code",
   "execution_count": 124,
   "metadata": {},
   "outputs": [
    {
     "data": {
      "text/plain": [
       "0.36263797442835155"
      ]
     },
     "execution_count": 124,
     "metadata": {},
     "output_type": "execute_result"
    }
   ],
   "source": [
    "Candidate = meta_jon.head(50).index.values\n",
    "np.mean(ScoreSTRSet(g, Candidate, EdgeWeightsDict))"
   ]
  },
  {
   "cell_type": "code",
   "execution_count": 126,
   "metadata": {},
   "outputs": [],
   "source": [
    "CandidateNodes = meta_jon.head(50).index.values\n",
    "Init_States = np.ones(len(CandidateNodes))\n",
    "for idx in range(len(Init_States)):\n",
    "    if np.random.rand() > 0.5:\n",
    "        Init_States[idx] = 0\n",
    "ins = MostCohesiveCirtuis(Init_States, g, CandidateNodes, EdgeWeightsDict, Direction=False, Weighted=False)"
   ]
  },
  {
   "cell_type": "code",
   "execution_count": 127,
   "metadata": {},
   "outputs": [
    {
     "name": "stderr",
     "output_type": "stream",
     "text": [
      "\n",
      " Temperature        Energy    Accept   Improve      Steps        Elapsed   Remaining\n",
      "     0.00010          0.62     0.00%     0.00%      20000.00     0:01:19     0:00:00"
     ]
    },
    {
     "name": "stdout",
     "output_type": "stream",
     "text": [
      "Done\n"
     ]
    }
   ],
   "source": [
    "ins.copy_strategy = \"deepcopy\"\n",
    "ins.Tmax=1\n",
    "ins.Tmin=0.0001\n",
    "Tmps, Energys, state, e = ins.anneal()\n",
    "print(\"Done\")"
   ]
  },
  {
   "cell_type": "code",
   "execution_count": 128,
   "metadata": {},
   "outputs": [
    {
     "name": "stdout",
     "output_type": "stream",
     "text": [
      "0.37967599066691526 [1. 1. 1. 1. 1. 1. 1. 1. 1. 0. 1. 0. 1. 1. 1. 1. 1. 1. 0. 1. 1. 0. 0. 1.\n",
      " 1. 0. 1. 1. 1. 1. 0. 0. 0. 0. 1. 1. 1. 1. 1. 0. 0. 1. 1. 1. 1. 1. 1. 1.\n",
      " 1. 1.]\n"
     ]
    }
   ],
   "source": [
    "print(1-e, state)\n",
    "InCirtuitNodes = ins.CandidateNodes[np.where(ins.state==1)[0]]"
   ]
  },
  {
   "cell_type": "code",
   "execution_count": null,
   "metadata": {},
   "outputs": [],
   "source": []
  },
  {
   "cell_type": "code",
   "execution_count": 117,
   "metadata": {},
   "outputs": [
    {
     "name": "stdout",
     "output_type": "stream",
     "text": [
      "0.5062177065637561\n"
     ]
    }
   ],
   "source": [
    "sim1 = pd.read_csv(\"/Users/jiayao/Work/ASD_Circuits/src/dat/circuits/ASD_Pad1_W_D_SA.csv\")\n",
    "candidates = sim1.columns.values\n",
    "Init_States = np.ones(len(candidates))\n",
    "#del ins\n",
    "ins = MostCohesiveCirtuis(Init_States, g_local, candidates, EdgeWeightsDict_local)\n",
    "Cohes = []\n",
    "for i, row in sim1.iterrows():\n",
    "    ins.state = row.values\n",
    "    InCirtuitNodes = ins.CandidateNodes[np.where(ins.state==1)[0]]\n",
    "    Cohes.append(1-ins.energy())\n",
    "best_id = np.argmax(Cohes)\n",
    "state = sim1.loc[1, :].values\n",
    "print(Cohes[best_id])"
   ]
  },
  {
   "cell_type": "code",
   "execution_count": 68,
   "metadata": {},
   "outputs": [
    {
     "name": "stdout",
     "output_type": "stream",
     "text": [
      "0.28887966996161585\n"
     ]
    }
   ],
   "source": [
    "sim1 = pd.read_csv(\"/Users/jiayao/Work/ASD_Circuits/src/dat/circuits/ASD_Pad1_W_D_SA.csv\")\n",
    "candidates = sim1.columns.values\n",
    "Init_States = np.ones(len(candidates))\n",
    "ins = MostCohesiveCirtuis(Init_States, g_distal, candidates, EdgeWeightsDict)\n",
    "Cohes = []\n",
    "for i, row in sim1.iterrows():\n",
    "    ins.state = row.values\n",
    "    InCirtuitNodes = ins.CandidateNodes[np.where(ins.state==1)[0]]\n",
    "    Cohes.append(1-ins.energy())\n",
    "best_id = np.argmax(Cohes)\n",
    "state = sim1.loc[1, :].values\n",
    "print(Cohes[best_id])"
   ]
  },
  {
   "cell_type": "code",
   "execution_count": 129,
   "metadata": {},
   "outputs": [],
   "source": [
    "local = ScoreSTRSet(g_local, InCirtuitNodes, EdgeWeightsDict)\n",
    "distal = ScoreSTRSet(g_distal, InCirtuitNodes, EdgeWeightsDict)\n",
    "total = ScoreSTRSet(g, InCirtuitNodes, EdgeWeightsDict)"
   ]
  },
  {
   "cell_type": "code",
   "execution_count": 130,
   "metadata": {},
   "outputs": [
    {
     "name": "stdout",
     "output_type": "stream",
     "text": [
      "0.4978755850951142 0.28891859917511553 0.37967599066691526\n"
     ]
    }
   ],
   "source": [
    "print(np.mean(local), np.mean(distal), np.mean(total))"
   ]
  },
  {
   "cell_type": "code",
   "execution_count": 121,
   "metadata": {},
   "outputs": [
    {
     "name": "stdout",
     "output_type": "stream",
     "text": [
      "0.4956158540290119 0.29083948169414986 0.36263797442835155\n"
     ]
    }
   ],
   "source": [
    "InCirtuitNodes = sim1.columns.values\n",
    "local = ScoreSTRSet(g_local, InCirtuitNodes, EdgeWeightsDict)\n",
    "distal = ScoreSTRSet(g_distal, InCirtuitNodes, EdgeWeightsDict)\n",
    "total = ScoreSTRSet(g, InCirtuitNodes, EdgeWeightsDict)\n",
    "print(np.mean(local), np.mean(distal), np.mean(total))"
   ]
  },
  {
   "cell_type": "code",
   "execution_count": 74,
   "metadata": {},
   "outputs": [
    {
     "data": {
      "image/png": "[encoded data removed]",
      "text/plain": [
       "<Figure size 480x320 with 1 Axes>"
      ]
     },
     "metadata": {
      "needs_background": "light"
     },
     "output_type": "display_data"
    }
   ],
   "source": [
    "plt.hist(local, label=\"local\", alpha=0.8)\n",
    "plt.hist(distal, label=\"distal\", alpha=0.8)\n",
    "plt.legend()\n",
    "plt.show()"
   ]
  },
  {
   "cell_type": "code",
   "execution_count": 75,
   "metadata": {},
   "outputs": [],
   "source": [
    "\n",
    "#InCirtuitNodes = df.columns.values[]"
   ]
  },
  {
   "cell_type": "code",
   "execution_count": 78,
   "metadata": {},
   "outputs": [
    {
     "data": {
      "text/plain": [
       "array([1., 1., 1., 1., 1., 1., 1., 1., 1., 1., 1., 1., 0., 1., 1., 1., 1.,\n",
       "       1., 1., 1., 0., 1., 1., 1., 1., 1., 0., 0., 1., 1., 0., 0., 1., 0.,\n",
       "       1., 0., 1., 0., 0., 0., 0., 0., 1., 1., 1., 1., 1., 1., 1., 0.])"
      ]
     },
     "execution_count": 78,
     "metadata": {},
     "output_type": "execute_result"
    }
   ],
   "source": [
    "df.loc[0,:].values"
   ]
  },
  {
   "cell_type": "code",
   "execution_count": null,
   "metadata": {},
   "outputs": [],
   "source": []
  },
  {
   "cell_type": "code",
   "execution_count": 104,
   "metadata": {},
   "outputs": [
    {
     "name": "stdout",
     "output_type": "stream",
     "text": [
      "0.3188506220012396 0.4150582970240224 0.26957693710191544\n"
     ]
    }
   ],
   "source": [
    "Complete, Local, Distal = [],[],[]\n",
    "for i in range(1000):\n",
    "    df = pd.read_csv(\"dat/cont.cir/ASD.MetaMatch.{}.csv\".format(i), names=None)\n",
    "    InCirtuitNodes = df.columns.values\n",
    "    complete = ScoreSTRSet(g, InCirtuitNodes, EdgeWeightsDict, False, False)\n",
    "    local = ScoreSTRSet(g_local, InCirtuitNodes, EdgeWeightsDict, False, False)\n",
    "    distal = ScoreSTRSet(g_distal, InCirtuitNodes, EdgeWeightsDict, False, False)\n",
    "    Complete.append(np.mean(complete))\n",
    "    Local.append(np.mean(local))\n",
    "    Distal.append(np.mean(distal))\n",
    "print(np.mean(Complete), np.mean(Local), np.mean(Distal))"
   ]
  },
  {
   "cell_type": "code",
   "execution_count": 102,
   "metadata": {},
   "outputs": [],
   "source": [
    "Complete, Local, Distal = [],[],[]\n",
    "for i in range(1000):\n",
    "    df = pd.read_csv(\"dat/cont.cir/ASD.MetaMatch.{}.csv\".format(i), names=None)\n",
    "    InCirtuitNodes = df.columns.values[np.where(df.loc[0,:].values==1)[0]]\n",
    "    complete = ScoreSTRSet(g, InCirtuitNodes, EdgeWeightsDict, False, False)\n",
    "    local = ScoreSTRSet(g_local, InCirtuitNodes, EdgeWeightsDict, False, False)\n",
    "    distal = ScoreSTRSet(g_distal, InCirtuitNodes, EdgeWeightsDict, False, False)\n",
    "    Complete.append(np.mean(complete))\n",
    "    Local.append(np.mean(local))\n",
    "    Distal.append(np.mean(distal))"
   ]
  },
  {
   "cell_type": "code",
   "execution_count": 103,
   "metadata": {},
   "outputs": [
    {
     "name": "stdout",
     "output_type": "stream",
     "text": [
      "0.36415218426412843 0.47525381440123765 0.2921850958076417\n"
     ]
    }
   ],
   "source": [
    "print(np.mean(Complete), np.mean(Local), np.mean(Distal))"
   ]
  },
  {
   "cell_type": "code",
   "execution_count": 99,
   "metadata": {},
   "outputs": [
    {
     "ename": "ZeroDivisionError",
     "evalue": "division by zero",
     "output_type": "error",
     "traceback": [
      "\u001b[0;31m---------------------------------------------------------------------------\u001b[0m",
      "\u001b[0;31mZeroDivisionError\u001b[0m                         Traceback (most recent call last)",
      "\u001b[0;32m<ipython-input-99-c1e600f55772>\u001b[0m in \u001b[0;36m<module>\u001b[0;34m\u001b[0m\n\u001b[1;32m      1\u001b[0m \u001b[0mcomplete\u001b[0m \u001b[0;34m=\u001b[0m \u001b[0mScoreSTRSet\u001b[0m\u001b[0;34m(\u001b[0m\u001b[0mg\u001b[0m\u001b[0;34m,\u001b[0m \u001b[0mInCirtuitNodes\u001b[0m\u001b[0;34m,\u001b[0m \u001b[0mEdgeWeightsDict\u001b[0m\u001b[0;34m,\u001b[0m \u001b[0;32mTrue\u001b[0m\u001b[0;34m,\u001b[0m \u001b[0;32mTrue\u001b[0m\u001b[0;34m)\u001b[0m\u001b[0;34m\u001b[0m\u001b[0;34m\u001b[0m\u001b[0m\n\u001b[0;32m----> 2\u001b[0;31m \u001b[0mlocal\u001b[0m \u001b[0;34m=\u001b[0m \u001b[0mScoreSTRSet\u001b[0m\u001b[0;34m(\u001b[0m\u001b[0mg_local\u001b[0m\u001b[0;34m,\u001b[0m \u001b[0mInCirtuitNodes\u001b[0m\u001b[0;34m,\u001b[0m \u001b[0mEdgeWeightsDict\u001b[0m\u001b[0;34m,\u001b[0m \u001b[0;32mTrue\u001b[0m\u001b[0;34m,\u001b[0m \u001b[0;32mTrue\u001b[0m\u001b[0;34m)\u001b[0m\u001b[0;34m\u001b[0m\u001b[0;34m\u001b[0m\u001b[0m\n\u001b[0m\u001b[1;32m      3\u001b[0m \u001b[0mdistal\u001b[0m \u001b[0;34m=\u001b[0m \u001b[0mScoreSTRSet\u001b[0m\u001b[0;34m(\u001b[0m\u001b[0mg_distal\u001b[0m\u001b[0;34m,\u001b[0m \u001b[0mInCirtuitNodes\u001b[0m\u001b[0;34m,\u001b[0m \u001b[0mEdgeWeightsDict\u001b[0m\u001b[0;34m,\u001b[0m \u001b[0;32mTrue\u001b[0m\u001b[0;34m,\u001b[0m \u001b[0;32mTrue\u001b[0m\u001b[0;34m)\u001b[0m\u001b[0;34m\u001b[0m\u001b[0;34m\u001b[0m\u001b[0m\n\u001b[1;32m      4\u001b[0m \u001b[0mprint\u001b[0m\u001b[0;34m(\u001b[0m\u001b[0mcomplete\u001b[0m\u001b[0;34m,\u001b[0m \u001b[0mlocal\u001b[0m\u001b[0;34m,\u001b[0m \u001b[0mdistal\u001b[0m\u001b[0;34m)\u001b[0m\u001b[0;34m\u001b[0m\u001b[0;34m\u001b[0m\u001b[0m\n",
      "\u001b[0;32m~/Work/ASD_Circuits/src/ASD_Circuits.py\u001b[0m in \u001b[0;36mScoreSTRSet\u001b[0;34m(Graph, CandidateNodes, WeightDict, Weighted, Direction)\u001b[0m\n\u001b[1;32m   1045\u001b[0m     \u001b[0mcohesives\u001b[0m \u001b[0;34m=\u001b[0m \u001b[0;34m[\u001b[0m\u001b[0;34m]\u001b[0m\u001b[0;34m\u001b[0m\u001b[0;34m\u001b[0m\u001b[0m\n\u001b[1;32m   1046\u001b[0m     \u001b[0;32mfor\u001b[0m \u001b[0mv\u001b[0m \u001b[0;32min\u001b[0m \u001b[0mg2\u001b[0m\u001b[0;34m.\u001b[0m\u001b[0mvs\u001b[0m\u001b[0;34m:\u001b[0m\u001b[0;34m\u001b[0m\u001b[0;34m\u001b[0m\u001b[0m\n\u001b[0;32m-> 1047\u001b[0;31m         \u001b[0mcoh\u001b[0m\u001b[0;34m,\u001b[0m \u001b[0mITR\u001b[0m \u001b[0;34m=\u001b[0m \u001b[0mCohesivenessSingleNodeMaxInOut\u001b[0m\u001b[0;34m(\u001b[0m\u001b[0mGraph\u001b[0m\u001b[0;34m,\u001b[0m \u001b[0mg2\u001b[0m\u001b[0;34m,\u001b[0m \u001b[0mv\u001b[0m\u001b[0;34m[\u001b[0m\u001b[0;34m\"label\"\u001b[0m\u001b[0;34m]\u001b[0m\u001b[0;34m,\u001b[0m \u001b[0mWeightDict\u001b[0m\u001b[0;34m,\u001b[0m \u001b[0mDirection\u001b[0m\u001b[0;34m=\u001b[0m\u001b[0mDirection\u001b[0m\u001b[0;34m,\u001b[0m \u001b[0mweighted\u001b[0m\u001b[0;34m=\u001b[0m\u001b[0mWeighted\u001b[0m\u001b[0;34m)\u001b[0m\u001b[0;34m\u001b[0m\u001b[0;34m\u001b[0m\u001b[0m\n\u001b[0m\u001b[1;32m   1048\u001b[0m         \u001b[0mcohesives\u001b[0m\u001b[0;34m.\u001b[0m\u001b[0mappend\u001b[0m\u001b[0;34m(\u001b[0m\u001b[0mcoh\u001b[0m\u001b[0;34m)\u001b[0m\u001b[0;34m\u001b[0m\u001b[0;34m\u001b[0m\u001b[0m\n\u001b[1;32m   1049\u001b[0m     \u001b[0;31m#return cohesives\u001b[0m\u001b[0;34m\u001b[0m\u001b[0;34m\u001b[0m\u001b[0;34m\u001b[0m\u001b[0m\n",
      "\u001b[0;32m~/Work/ASD_Circuits/src/ASD_Circuits.py\u001b[0m in \u001b[0;36mCohesivenessSingleNodeMaxInOut\u001b[0;34m(g, g_, STR, weightDict, weighted, Direction)\u001b[0m\n\u001b[1;32m   1016\u001b[0m         \u001b[0;32melse\u001b[0m\u001b[0;34m:\u001b[0m\u001b[0;34m\u001b[0m\u001b[0;34m\u001b[0m\u001b[0m\n\u001b[1;32m   1017\u001b[0m             \u001b[0mFrac_In\u001b[0m \u001b[0;34m=\u001b[0m \u001b[0mCircuit_In\u001b[0m\u001b[0;34m/\u001b[0m\u001b[0mTotal_In\u001b[0m\u001b[0;34m\u001b[0m\u001b[0;34m\u001b[0m\u001b[0m\n\u001b[0;32m-> 1018\u001b[0;31m         \u001b[0;32mreturn\u001b[0m \u001b[0mmax\u001b[0m\u001b[0;34m(\u001b[0m\u001b[0mFrac_In\u001b[0m\u001b[0;34m,\u001b[0m \u001b[0mFrac_Out\u001b[0m\u001b[0;34m)\u001b[0m\u001b[0;34m,\u001b[0m \u001b[0mFrac_In\u001b[0m\u001b[0;34m/\u001b[0m\u001b[0mFrac_Out\u001b[0m\u001b[0;34m\u001b[0m\u001b[0;34m\u001b[0m\u001b[0m\n\u001b[0m\u001b[1;32m   1019\u001b[0m     \u001b[0;32melse\u001b[0m\u001b[0;34m:\u001b[0m\u001b[0;34m\u001b[0m\u001b[0;34m\u001b[0m\u001b[0m\n\u001b[1;32m   1020\u001b[0m         \u001b[0;32mfor\u001b[0m \u001b[0m_node\u001b[0m \u001b[0;32min\u001b[0m \u001b[0mNode\u001b[0m\u001b[0;34m.\u001b[0m\u001b[0msuccessors\u001b[0m\u001b[0;34m(\u001b[0m\u001b[0;34m)\u001b[0m\u001b[0;34m:\u001b[0m\u001b[0;34m\u001b[0m\u001b[0;34m\u001b[0m\u001b[0m\n",
      "\u001b[0;31mZeroDivisionError\u001b[0m: division by zero"
     ]
    }
   ],
   "source": [
    "complete = ScoreSTRSet(g, InCirtuitNodes, EdgeWeightsDict, True, True)\n",
    "local = ScoreSTRSet(g_local, InCirtuitNodes, EdgeWeightsDict, True, True)\n",
    "distal = ScoreSTRSet(g_distal, InCirtuitNodes, EdgeWeightsDict, True, True)\n",
    "print(complete, local, distal)"
   ]
  },
  {
   "cell_type": "code",
   "execution_count": null,
   "metadata": {},
   "outputs": [],
   "source": []
  },
  {
   "cell_type": "code",
   "execution_count": null,
   "metadata": {},
   "outputs": [],
   "source": []
  },
  {
   "cell_type": "code",
   "execution_count": null,
   "metadata": {},
   "outputs": [],
   "source": []
  },
  {
   "cell_type": "code",
   "execution_count": null,
   "metadata": {},
   "outputs": [],
   "source": []
  },
  {
   "cell_type": "code",
   "execution_count": null,
   "metadata": {},
   "outputs": [],
   "source": []
  },
  {
   "cell_type": "code",
   "execution_count": null,
   "metadata": {},
   "outputs": [],
   "source": []
  },
  {
   "cell_type": "code",
   "execution_count": 39,
   "metadata": {},
   "outputs": [],
   "source": [
    "def ITR(Internal_In, Total_In, Internal_Out, Total_Out):\n",
    "    return (Internal_In/Total_In) / (Internal_Out/Total_Out)"
   ]
  },
  {
   "cell_type": "code",
   "execution_count": 40,
   "metadata": {},
   "outputs": [
    {
     "data": {
      "text/plain": [
       "6.0"
      ]
     },
     "execution_count": 40,
     "metadata": {},
     "output_type": "execute_result"
    }
   ],
   "source": [
    "ITR(4,6,1,9) # Brodcastor"
   ]
  },
  {
   "cell_type": "code",
   "execution_count": 41,
   "metadata": {},
   "outputs": [
    {
     "data": {
      "text/plain": [
       "0.1875"
      ]
     },
     "execution_count": 41,
     "metadata": {},
     "output_type": "execute_result"
    }
   ],
   "source": [
    "ITR(1,6,8,9) # Intergrator"
   ]
  },
  {
   "cell_type": "code",
   "execution_count": null,
   "metadata": {},
   "outputs": [],
   "source": []
  },
  {
   "cell_type": "markdown",
   "metadata": {},
   "source": [
    "### 2.3 Cartesian Ipsilateral distance"
   ]
  },
  {
   "cell_type": "code",
   "execution_count": null,
   "metadata": {},
   "outputs": [],
   "source": []
  }
 ],
 "metadata": {
  "kernelspec": {
   "display_name": "Python 3",
   "language": "python",
   "name": "python3"
  },
  "language_info": {
   "codemirror_mode": {
    "name": "ipython",
    "version": 3
   },
   "file_extension": ".py",
   "mimetype": "text/x-python",
   "name": "python",
   "nbconvert_exporter": "python",
   "pygments_lexer": "ipython3",
   "version": "3.7.1"
  }
 },
 "nbformat": 4,
 "nbformat_minor": 2
}
