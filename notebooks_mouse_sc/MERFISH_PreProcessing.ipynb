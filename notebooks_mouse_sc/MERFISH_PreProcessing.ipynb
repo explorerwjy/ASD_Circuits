{
 "cells": [
  {
   "cell_type": "code",
   "execution_count": 231,
   "id": "e7c7ecba",
   "metadata": {},
   "outputs": [],
   "source": [
    "import os\n",
    "import pandas as pd\n",
    "import numpy as np\n",
    "import json\n",
    "import matplotlib.pyplot as plt\n",
    "import requests\n",
    "import SimpleITK as sitk\n",
    "import pathlib"
   ]
  },
  {
   "cell_type": "code",
   "execution_count": 3,
   "id": "97cc35ec",
   "metadata": {},
   "outputs": [
    {
     "name": "stderr",
     "output_type": "stream",
     "text": [
      "/home/jw3514/anaconda3/lib/python3.9/site-packages/statsmodels/compat/pandas.py:61: FutureWarning: pandas.Int64Index is deprecated and will be removed from pandas in a future version. Use pandas.Index with the appropriate dtype instead.\n",
      "  from pandas import Int64Index as NumericIndex\n"
     ]
    }
   ],
   "source": [
    "import os\n",
    "import pandas as pd\n",
    "import numpy as np\n",
    "import anndata\n",
    "import time\n",
    "import matplotlib.pyplot as plt\n",
    "import json\n",
    "import requests\n",
    "import pickle\n",
    "import gzip as gz\n",
    "\n",
    "import sys\n",
    "sys.path.insert(1, '/home/jw3514/Work/CellType_Psy/src/')\n",
    "from CellType_PSY import *"
   ]
  },
  {
   "cell_type": "code",
   "execution_count": 4,
   "id": "0d92508e",
   "metadata": {},
   "outputs": [],
   "source": [
    "## Load CCF Annotations "
   ]
  },
  {
   "cell_type": "code",
   "execution_count": 5,
   "id": "f844939d",
   "metadata": {},
   "outputs": [],
   "source": [
    "CCF2020 = \"/home/jw3514/Work/data/Allen_Mouse_Brain_Cell_Atlas/abc_download_root/metadata/Allen-CCF-2020/20230630/\""
   ]
  },
  {
   "cell_type": "code",
   "execution_count": 57,
   "id": "71053aef",
   "metadata": {},
   "outputs": [],
   "source": [
    "file = \"parcellation_to_parcellation_term_membership_acronym.csv\"\n",
    "parcellation_annotation = pd.read_csv(\"{}/views/{}\".format(CCF2020, file))\n",
    "parcellation_annotation.set_index('parcellation_index',inplace=True)\n",
    "parcellation_annotation.columns = ['parcellation_%s'% x for x in  parcellation_annotation.columns]"
   ]
  },
  {
   "cell_type": "code",
   "execution_count": 58,
   "id": "783a4016",
   "metadata": {},
   "outputs": [],
   "source": [
    "file = \"parcellation_to_parcellation_term_membership_color.csv\"\n",
    "parcellation_color = pd.read_csv(\"{}/views/{}\".format(CCF2020, file))\n",
    "parcellation_color.set_index('parcellation_index',inplace=True)\n",
    "parcellation_color.columns = ['parcellation_%s'% x for x in  parcellation_color.columns]"
   ]
  },
  {
   "cell_type": "code",
   "execution_count": 59,
   "id": "e7536391",
   "metadata": {},
   "outputs": [],
   "source": [
    "CCF_V3_ontology = pd.read_csv(\"/home/jw3514/Work/CellType_Psy/AllenBrainCellAtlas/dat/MERFISH/CCF_V3_ISH_MERFISH.csv\", index_col=0)"
   ]
  },
  {
   "cell_type": "code",
   "execution_count": 60,
   "id": "7b89fadb",
   "metadata": {},
   "outputs": [],
   "source": [
    "ASD_STR_ISH_Bias = pd.read_csv(\"/home/jw3514/Work/ASD_Circuits/dat/Unionize_bias/Spark_Meta_EWS.Z2.bias.FDR.csv\", \n",
    "                               index_col=0)\n",
    "Structures_ISH = []\n",
    "for STR in ASD_STR_ISH_Bias.index.values:\n",
    "    New_Name = STR.replace(\"_\", \" \")\n",
    "    Structures_ISH.append(New_Name)"
   ]
  },
  {
   "cell_type": "code",
   "execution_count": 61,
   "id": "ed053c8a",
   "metadata": {
    "code_folding": [
     0
    ]
   },
   "outputs": [],
   "source": [
    "def Add_ISH_STR(cell_meta, CCF_V3_ontology, Structures_ISH):\n",
    "    for i, row in cell_meta.iterrows():\n",
    "        _str = row[\"parcellation_structure\"]\n",
    "        _substr = row[\"parcellation_substructure\"]\n",
    "        if _str in CCF_V3_ontology.index.values:\n",
    "            name_str = CCF_V3_ontology.loc[_str, \"CleanName\"]\n",
    "        else:\n",
    "            name_str = \"None\"\n",
    "        if _substr in CCF_V3_ontology.index.values:\n",
    "            name_substr = CCF_V3_ontology.loc[_substr, \"CleanName\"]\n",
    "        else:\n",
    "            name_substr = \"None\"\n",
    "        if name_str in Structures_ISH: # should capture most of them\n",
    "            ISH_STR = name_str\n",
    "        elif name_substr in Structures_ISH: # should capture AM IC MG MDRN\n",
    "            ISH_STR = name_substr\n",
    "        elif _str in [\"VISa\", \"VISrl\"]:\n",
    "            ISH_STR = \"Posterior parietal association areas\"\n",
    "        elif name_str == \"Subiculum\":\n",
    "            ISH_STR = \"Subiculum\"\n",
    "        else:\n",
    "            ISH_STR = \"Not in Connectome\"\n",
    "        cell_meta.loc[i, \"ISH_STR\"] = ISH_STR\n",
    "        cell_meta.loc[i, \"ISH_STR2\"] = \"_\".join(ISH_STR.split())\n",
    "    return cell_meta"
   ]
  },
  {
   "cell_type": "code",
   "execution_count": null,
   "id": "e92eef36",
   "metadata": {},
   "outputs": [],
   "source": []
  },
  {
   "cell_type": "markdown",
   "id": "52433028",
   "metadata": {
    "heading_collapsed": true
   },
   "source": [
    "### Test"
   ]
  },
  {
   "cell_type": "code",
   "execution_count": 70,
   "id": "5fe194ee",
   "metadata": {
    "hidden": true
   },
   "outputs": [],
   "source": [
    "MERFISH_Dir = \"/home/jw3514/Work/data/Allen_Mouse_Brain_Cell_Atlas/MERFISH_ZhuangLab/ABCA-4/\"\n",
    "outname = \"cell_metadata_with_cluster_str_annotation.csv\""
   ]
  },
  {
   "cell_type": "code",
   "execution_count": 71,
   "id": "c7f081df",
   "metadata": {
    "hidden": true
   },
   "outputs": [],
   "source": [
    "cell_meta = pd.read_csv(\"{}/cell_metadata_with_cluster_annotation.csv\".format(MERFISH_Dir), index_col=0)\n",
    "cell_meta.rename(columns={'x':'x_section','y':'y_section','z':'z_section'},inplace=True)\n",
    "cell_coords = pd.read_csv(\"{}/ccf_coordinates.csv\".format(MERFISH_Dir), index_col=0)\n",
    "cell_coords.rename(columns={'x':'x_ccf','y':'y_ccf','z':'z_ccf'},inplace=True)\n",
    "cell_meta = cell_meta.join(cell_coords,how='inner')\n",
    "cell_meta = cell_meta.join(parcellation_annotation,on='parcellation_index')\n",
    "cell_meta = cell_meta.join(parcellation_color,on='parcellation_index')\n",
    "cell_meta = Add_ISH_STR(cell_meta, CCF_V3_ontology, Structures_ISH)\n",
    "cell_meta.to_csv(\"{}/{}\".format(MERFISH_Dir, outname))"
   ]
  },
  {
   "cell_type": "code",
   "execution_count": null,
   "id": "5db39457",
   "metadata": {
    "hidden": true
   },
   "outputs": [],
   "source": []
  },
  {
   "cell_type": "code",
   "execution_count": 72,
   "id": "ff683198",
   "metadata": {
    "hidden": true
   },
   "outputs": [],
   "source": [
    "MERFISH_Dir = \"/home/jw3514/Work/data/Allen_Mouse_Brain_Cell_Atlas/MERFISH_ZhuangLab/ABCA-1/\"\n",
    "outname = \"cell_metadata_with_cluster_str_annotation.csv\"\n",
    "\n",
    "cell_meta = pd.read_csv(\"{}/cell_metadata_with_cluster_annotation.csv\".format(MERFISH_Dir), index_col=0)\n",
    "cell_meta.rename(columns={'x':'x_section','y':'y_section','z':'z_section'},inplace=True)\n",
    "cell_coords = pd.read_csv(\"{}/ccf_coordinates.csv\".format(MERFISH_Dir), index_col=0)\n",
    "cell_coords.rename(columns={'x':'x_ccf','y':'y_ccf','z':'z_ccf'},inplace=True)\n",
    "cell_meta = cell_meta.join(cell_coords,how='inner')\n",
    "cell_meta = cell_meta.join(parcellation_annotation,on='parcellation_index')\n",
    "cell_meta = cell_meta.join(parcellation_color,on='parcellation_index')\n",
    "cell_meta = Add_ISH_STR(cell_meta, CCF_V3_ontology, Structures_ISH)\n",
    "cell_meta.to_csv(\"{}/{}\".format(MERFISH_Dir, outname))"
   ]
  },
  {
   "cell_type": "code",
   "execution_count": null,
   "id": "1fa0c6d6",
   "metadata": {
    "hidden": true
   },
   "outputs": [],
   "source": []
  },
  {
   "cell_type": "code",
   "execution_count": 74,
   "id": "d1a41b09",
   "metadata": {
    "hidden": true
   },
   "outputs": [],
   "source": [
    "MERFISH_Dir = \"/home/jw3514/Work/data/Allen_Mouse_Brain_Cell_Atlas/MERFISH_ZhuangLab/ABCA-2/\"\n",
    "outname = \"cell_metadata_with_cluster_str_annotation.csv\"\n",
    "\n",
    "cell_meta = pd.read_csv(\"{}/cell_metadata_with_cluster_annotation.csv\".format(MERFISH_Dir), index_col=0)\n",
    "cell_meta.rename(columns={'x':'x_section','y':'y_section','z':'z_section'},inplace=True)\n",
    "cell_coords = pd.read_csv(\"{}/ccf_coordinates.csv\".format(MERFISH_Dir), index_col=0)\n",
    "cell_coords.rename(columns={'x':'x_ccf','y':'y_ccf','z':'z_ccf'},inplace=True)\n",
    "cell_meta = cell_meta.join(cell_coords,how='inner')\n",
    "cell_meta = cell_meta.join(parcellation_annotation,on='parcellation_index')\n",
    "cell_meta = cell_meta.join(parcellation_color,on='parcellation_index')\n",
    "cell_meta = Add_ISH_STR(cell_meta, CCF_V3_ontology, Structures_ISH)\n",
    "cell_meta.to_csv(\"{}/{}\".format(MERFISH_Dir, outname))"
   ]
  },
  {
   "cell_type": "code",
   "execution_count": 75,
   "id": "ed49e4b9",
   "metadata": {
    "hidden": true
   },
   "outputs": [],
   "source": [
    "MERFISH_Dir = \"/home/jw3514/Work/data/Allen_Mouse_Brain_Cell_Atlas/MERFISH_ZhuangLab/ABCA-3/\"\n",
    "outname = \"cell_metadata_with_cluster_str_annotation.csv\"\n",
    "\n",
    "cell_meta = pd.read_csv(\"{}/cell_metadata_with_cluster_annotation.csv\".format(MERFISH_Dir), index_col=0)\n",
    "cell_meta.rename(columns={'x':'x_section','y':'y_section','z':'z_section'},inplace=True)\n",
    "cell_coords = pd.read_csv(\"{}/ccf_coordinates.csv\".format(MERFISH_Dir), index_col=0)\n",
    "cell_coords.rename(columns={'x':'x_ccf','y':'y_ccf','z':'z_ccf'},inplace=True)\n",
    "cell_meta = cell_meta.join(cell_coords,how='inner')\n",
    "cell_meta = cell_meta.join(parcellation_annotation,on='parcellation_index')\n",
    "cell_meta = cell_meta.join(parcellation_color,on='parcellation_index')\n",
    "cell_meta = Add_ISH_STR(cell_meta, CCF_V3_ontology, Structures_ISH)\n",
    "cell_meta.to_csv(\"{}/{}\".format(MERFISH_Dir, outname))"
   ]
  },
  {
   "cell_type": "code",
   "execution_count": null,
   "id": "e8daa185",
   "metadata": {
    "hidden": true
   },
   "outputs": [],
   "source": []
  },
  {
   "cell_type": "code",
   "execution_count": null,
   "id": "35fd13e2",
   "metadata": {
    "hidden": true
   },
   "outputs": [],
   "source": []
  },
  {
   "cell_type": "code",
   "execution_count": 86,
   "id": "c884584b",
   "metadata": {
    "code_folding": [],
    "hidden": true
   },
   "outputs": [],
   "source": [
    "def GetBiasesForSTR(STR, MERFISH_STRAnn, ASD_CT_Bias_Cluster, CT_ID_SET, Non_Neuron_Class):\n",
    "    STR_MERFISH_DF = MERFISH_STRAnn[MERFISH_STRAnn[\"ISH_STR\"]==STR]\n",
    "    total_bias = 0\n",
    "    total_bias_neuro = 0\n",
    "    N_cell = 0\n",
    "    N_neuro = 0\n",
    "    for i, row in STR_MERFISH_DF.iterrows():\n",
    "        cluster_id = row[\"cluster\"]\n",
    "        if cluster_id not in CT_ID_SET:\n",
    "            continue\n",
    "        class_id = row[\"class\"]\n",
    "        asd_cluster_bias = ASD_CT_Bias_Cluster.loc[cluster_id, \"EFFECT\"]\n",
    "        if asd_cluster_bias == asd_cluster_bias:\n",
    "            total_bias += asd_cluster_bias\n",
    "            N_cell += 1\n",
    "            if class_id not in Non_Neuron_Class:\n",
    "                total_bias_neuro += asd_cluster_bias\n",
    "                N_neuro += 1\n",
    "    if N_cell > 0:\n",
    "        bias_per_cell = total_bias/N_cell\n",
    "    else:\n",
    "        bias_per_cell = 0\n",
    "    if N_neuro > 0:\n",
    "        bias_per_neuro = total_bias_neuro/N_neuro\n",
    "    else:\n",
    "        bias_per_neuro = 0\n",
    "    Vol = CCF_V3_STR.loc[STR, \"total_voxel_counts (10 um)\"]\n",
    "    bias_per_Vol = total_bias/Vol * 100\n",
    "    return bias_per_cell, bias_per_neuro, bias_per_Vol\n",
    "#STRs = list(set(MERFISH_STRAnn[\"ISH_STR\"]))\n",
    "#STRs.remove(\"Not in Connectome\")\n",
    "#CT_ID_SET = set(ASD_ClusterV3_Bias.index.values)\n",
    "Non_Neuron_Class = [\"30 Astro-Epen\",\"31 OPC-Oligo\",\"32 OEC\",\"33 Vascular\",\"34 Immune\"]\n",
    "CCF_V3_STR = pd.read_csv(\"/home/jw3514/Work/CellType_Psy/AllenBrainCellAtlas/dat/MERFISH/CCF_V3_ISH_MERFISH.csv\",\n",
    "                        index_col=\"CleanName\")"
   ]
  },
  {
   "cell_type": "code",
   "execution_count": 80,
   "id": "89eb6ca9",
   "metadata": {
    "hidden": true
   },
   "outputs": [],
   "source": [
    "MERFISH_Dir1 = \"/home/jw3514/Work/data/Allen_Mouse_Brain_Cell_Atlas/MERFISH_ZhuangLab/ABCA-1/\"\n",
    "MERFISH_Dir2 = \"/home/jw3514/Work/data/Allen_Mouse_Brain_Cell_Atlas/MERFISH_ZhuangLab/ABCA-2/\"\n",
    "MERFISH_Dir3 = \"/home/jw3514/Work/data/Allen_Mouse_Brain_Cell_Atlas/MERFISH_ZhuangLab/ABCA-3/\"\n",
    "MERFISH_Dir4 = \"/home/jw3514/Work/data/Allen_Mouse_Brain_Cell_Atlas/MERFISH_ZhuangLab/ABCA-4/\"\n",
    "MERFISH1 = pd.read_csv(\"{}/{}\".format(MERFISH_Dir1, outname))\n",
    "MERFISH2 = pd.read_csv(\"{}/{}\".format(MERFISH_Dir2, outname))\n",
    "MERFISH3 = pd.read_csv(\"{}/{}\".format(MERFISH_Dir3, outname))\n",
    "MERFISH4 = pd.read_csv(\"{}/{}\".format(MERFISH_Dir4, outname))"
   ]
  },
  {
   "cell_type": "code",
   "execution_count": 84,
   "id": "7eb0b549",
   "metadata": {
    "hidden": true
   },
   "outputs": [
    {
     "name": "stdout",
     "output_type": "stream",
     "text": [
      "(2616328, 39)\n",
      "(1056520, 39)\n",
      "(1566842, 39)\n",
      "(162361, 39)\n"
     ]
    }
   ],
   "source": [
    "print(MERFISH1.shape)\n",
    "print(MERFISH2.shape)\n",
    "print(MERFISH3.shape)\n",
    "print(MERFISH4.shape)"
   ]
  },
  {
   "cell_type": "code",
   "execution_count": 81,
   "id": "1c9d8084",
   "metadata": {
    "hidden": true
   },
   "outputs": [],
   "source": [
    "MERFISH_Combine = pd.concat([MERFISH1, MERFISH2, MERFISH3, MERFISH4])"
   ]
  },
  {
   "cell_type": "code",
   "execution_count": 174,
   "id": "7ab44f7e",
   "metadata": {
    "hidden": true
   },
   "outputs": [],
   "source": [
    "MERFISH_Combine.to_csv(\"dat/MERFISH_Zhuang/MERFISH_Zhuang_1-4_Combine.STR.Annot.csv\")"
   ]
  },
  {
   "cell_type": "code",
   "execution_count": 82,
   "id": "d5382844",
   "metadata": {
    "hidden": true
   },
   "outputs": [],
   "source": [
    "ASD_ClusterV3_Bias = pd.read_csv(\"dat/Bias/ASD.ClusterV3.top60.DN.Z2.csv\", index_col=0)\n",
    "STRs = list(set(MERFISH1[\"ISH_STR\"]))\n",
    "STRs.remove(\"Not in Connectome\")\n",
    "CT_ID_SET = set(ASD_ClusterV3_Bias.index.values)"
   ]
  },
  {
   "cell_type": "markdown",
   "id": "863d178b",
   "metadata": {
    "hidden": true
   },
   "source": [
    "#### test with cell meta 4"
   ]
  },
  {
   "cell_type": "code",
   "execution_count": 87,
   "id": "ba1d8798",
   "metadata": {
    "hidden": true,
    "scrolled": false
   },
   "outputs": [
    {
     "name": "stdout",
     "output_type": "stream",
     "text": [
      "Anteromedial nucleus ventral part -0.15852298564517195 -0.007907362218202046 -0.0366880767729821\n",
      "Substantia innominata -0.028034972965051964 0.22631181323494154 -0.00478160588106959\n",
      "Primary somatosensory area mouth 0.05389204727708635 0.23509737282626925 0.010152459716494023\n",
      "Ventral tegmental area -0.2213303603076673 -0.31058127822988685 -0.049520975678821924\n",
      "Posterolateral visual area 0.04843228731080594 0.24764637510760695 0.009705160623463188\n",
      "Midbrain reticular nucleus -0.2106244281686726 -0.18930308907549515 -0.03686460682443944\n",
      "Dorsal cochlear nucleus -0.10908044331785989 -0.03798998155600709 -0.02209419037598192\n",
      "Ectorhinal area 0.06960092992981169 0.2462275290584596 0.008422493065483292\n",
      "Nucleus of the optic tract -0.12721050536611 0.1206473958366952 -0.02519694164103892\n",
      "Posterior complex of the thalamus -0.17554917476915557 -0.1246795749077931 -0.016621294063810237\n",
      "Posterior parietal association areas 0.07722921064676774 0.26904400623226593 0.011240984605875602\n",
      "Lateral hypothalamic area -0.16211854750569807 -0.07341110201500843 -0.03535262158686974\n",
      "Tegmental reticular nucleus -0.3517178607532242 -0.7410723364993129 -0.09480609443732654\n",
      "Medial vestibular nucleus -0.19485823554311607 -0.23727629881188556 -0.03208425551938779\n",
      "Lateral posterior nucleus of the thalamus -0.16729156850610946 -0.06204708189758996 -0.01995205458385862\n",
      "Posterior limiting nucleus of the thalamus -0.1556069747415736 0.052635786415391676 -0.02021853241325619\n",
      "Medial habenula -0.11207956524474327 -0.051264776025977093 -0.04997610821685873\n",
      "Dorsal premammillary nucleus -0.11718295337829229 -0.023169878017719133 -0.0034567242884452\n",
      "Superior olivary complex -0.24683518923026204 -0.4141470790470826 -0.058341134948630996\n",
      "Supplemental somatosensory area 0.036023933541295634 0.2133053808462871 0.006658196251811794\n",
      "Subparaventricular zone 0.022097077559128427 0.12625234028997262 0.01329056401636792\n",
      "Taenia tecta -0.02469493762446867 0.2026106216979154 -0.003477175432585398\n",
      "Lateral septal nucleus rostral rostroventral part -0.11405533863136202 -0.04014365955303283 -0.02124241394149381\n",
      "Hypoglossal nucleus 0 0 0.0\n",
      "Anterior pretectal nucleus -0.157356773178057 -0.030944098194377594 -0.02436764385308118\n",
      "Medial geniculate complex medial part -0.18535743526669307 -0.134133610240712 -0.03087932983349087\n",
      "Medial septal nucleus -0.14884034913993546 -0.1039286521095223 -0.07345794362468393\n",
      "Pontine reticular nucleus caudal part -0.23438841772007768 -0.2808374386698155 -0.053561997299390096\n",
      "Dentate gyrus 0.15162604430354512 0.36333945742024865 0.04989712904172883\n",
      "Perirhinal area 0.00028325028379742466 0.21802461677230328 3.564872549919981e-05\n",
      "Submedial nucleus of the thalamus -0.12461338411482806 -0.044712230777688995 -0.01785793234435702\n",
      "Pontine gray -0.4285800849317967 -0.7588903059298797 -0.14078073679739572\n",
      "Lateral septal nucleus caudal caudodorsal part -0.08325425477728042 0.0037041613166808227 -0.012393554273785096\n",
      "Supratrigeminal nucleus -0.18192916496785605 -0.06992735654523881 -0.03840415346779087\n",
      "Interposed nucleus -0.21346231276862798 -0.21720553250744218 -0.013306112249467317\n",
      "Nucleus of reuniens -0.07871258492992843 -0.003818912219086002 -0.019791679176350194\n",
      "Dorsal part of the lateral geniculate complex -0.17927270278199453 -0.15161130881255136 -0.03896552849651423\n",
      "Ventral posteromedial nucleus of the thalamus parvicellular part -0.13719428134842981 0.016052574068516748 -0.025302720314843877\n",
      "Pontine central gray -0.13998431966552213 -0.10486113781740705 -0.03823945255000854\n",
      "Culmen 0.14870756350398168 0.24574245174708328 0.022039345244440036\n",
      "Paragigantocellular reticular nucleus dorsal part -0.19743097069072987 -0.32252373634636394 -0.027555261090604487\n",
      "Cuneiform nucleus -0.15703608125931168 -0.03290759318243325 -0.04069516965398137\n",
      "Piriform amygdalar area -0.0064973362839115594 0.20354113763501122 -0.0006826605495293159\n",
      "Endopiriform nucleus ventral part 0.013774185761428605 0.2423625934655597 0.0026678296547761327\n",
      "Anterior olfactory nucleus 0.18801558778974117 0.4055399110846594 0.06415565183587148\n",
      "Reticular nucleus of the thalamus -0.24551605598967804 -0.3237819001950906 -0.06739410308748278\n",
      "Principal sensory nucleus of the trigeminal -0.27361594220418617 -0.3891410276721954 -0.07841798726193049\n",
      "Medullary reticular nucleus dorsal part 0 0 0.0\n",
      "Ventral anterior lateral complex of the thalamus -0.209394312298316 -0.26802377966964097 -0.03570019203758356\n",
      "posteromedial visual area 0.11488229973190896 0.29038421737915193 0.020812725216600398\n",
      "Globus pallidus external segment -0.18562100979122245 -0.175036512265325 -0.05489808599309935\n",
      "Medial preoptic area -0.13711535606501896 -0.10557306272187253 -0.027199453203904544\n",
      "Periventricular hypothalamic nucleus preoptic part -0.09356547224892114 0.05525734850093846 -0.04778145730093638\n",
      "Subparafascicular nucleus magnocellular part -0.10809343493871118 0.014818972194648044 -0.011569209150902387\n",
      "Spinal nucleus of the trigeminal interpolar part 0 0 0.0\n",
      "Olfactory tubercle 0.2727248471930239 0.4311461629756809 0.05092613276713074\n",
      "Parvicellular reticular nucleus -0.21872736807801452 -0.271559593008434 -0.020699837534091\n",
      "Lateral preoptic area -0.11829045317956347 -0.047273341578337125 -0.024060464407675113\n",
      "Cortical amygdalar area posterior part 0.006865757081491282 0.15485440163832986 0.0007435661352967285\n",
      "Midbrain reticular nucleus retrorubral area -0.22167348123229608 -0.24011553490331256 -0.04939449449709304\n",
      "Visceral area 0.03803197437165308 0.24100418921681796 0.005998846465778542\n",
      "Anterolateral visual area 0.07996059891068902 0.2592880462527676 0.014816814222382577\n",
      "Medial preoptic nucleus -0.044578935036308755 0.011016515272013047 -0.011144185324760027\n",
      "Bed nuclei of the stria terminalis 0.023512604866264837 0.19878694979599132 0.004558004690633885\n",
      "Ventral posteromedial nucleus of the thalamus -0.1969953895522622 -0.21453704213278876 -0.026758582336759804\n",
      "Lateral septal nucleus ventral part -0.0408656136677578 0.028655688426047057 -0.008681409144287815\n",
      "Magnocellular nucleus -0.12613407257072184 -0.06676587422666144 -0.018074752627655073\n",
      "Parataenial nucleus -0.14259832925893445 -0.08996592972746438 -0.03540897491948388\n",
      "Spinal nucleus of the trigeminal caudal part 0 0 0.0\n",
      "Nucleus of the posterior commissure -0.15763956708255544 -0.11526479958334866 -0.03999374604970462\n",
      "Superior colliculus motor related -0.126566613048228 0.000959692678352393 -0.030483821129774817\n",
      "Claustrum -0.0010969201466098997 0.18095537548540322 -0.00018463316057860124\n",
      "Nucleus ambiguus 0 0 0.0\n",
      "Intermediate reticular nucleus -0.23133035696422571 -0.3889331978810818 -0.016607610637659996\n",
      "Paragigantocellular reticular nucleus lateral part -0.24215105655607627 -0.5010849530242387 -0.007938324349367056\n",
      "Substantia nigra reticular part -0.16700285751123936 -0.3041983275446473 -0.04236550990042382\n",
      "Endopiriform nucleus dorsal part -0.0021760555684399298 0.16705427478799867 -0.0004145762874773592\n",
      "Supramammillary nucleus -0.14408551592290195 -0.1032359788624904 -0.038351606769626304\n",
      "Subparafascicular area -0.08584981764167797 0.021981971422214853 -0.023108532812135475\n",
      "Superior colliculus sensory related -0.09346605518904368 -0.00036782084247578167 -0.03212544302179373\n",
      "Frontal pole cerebral cortex 0.0007240892238085464 0.1796514368690331 0.0001571785955430945\n",
      "Inferior colliculus central nucleus -0.2542869380293376 -0.32931864629715407 -0.09058024437912926\n",
      "Retrochiasmatic area -0.08359301279718329 0.05037621265784932 -0.021352835038993136\n",
      "Retrosplenial area ventral part 0.07092058491314385 0.26903045607562337 0.03273283365984456\n",
      "Motor nucleus of trigeminal -0.23213032037356285 -0.5001314231846521 -0.048420736692741675\n",
      "Ventral auditory area 0.07462732351614128 0.2810722760928182 0.009054333061452764\n",
      "Central lateral nucleus of the thalamus -0.1513696240724951 -0.12000085591222155 -0.01652360304446303\n",
      "Postsubiculum 0.07748413867508631 0.3583974948742752 0.021602016310232414\n",
      "Anterior cingulate area ventral part 0.03889342986890415 0.23352999942970357 0.010977557090837657\n",
      "Agranular insular area dorsal part 0.012700500583218312 0.2045934730899066 0.002233793224079126\n",
      "Ventromedial hypothalamic nucleus -0.10730807672002385 -0.09642509476688482 -0.023924185460844623\n",
      "Agranular insular area ventral part -0.011353045223021406 0.1835556301028493 -0.0018664010292684038\n"
     ]
    },
    {
     "name": "stdout",
     "output_type": "stream",
     "text": [
      "Periaqueductal gray -0.15364461169306842 -0.1465740211557552 -0.04074675925893853\n",
      "Posterior amygdalar nucleus 0.097509717952909 0.29231410597715696 0.017582168501364532\n",
      "Caudoputamen 0.1350118442507908 0.38276972028128436 0.03138888375805077\n",
      "Temporal association areas 0.07948741273308821 0.2654179359503004 0.010986816343565228\n",
      "Diagonal band nucleus -0.16144784392937686 -0.13339726087482945 -0.033383500269206716\n",
      "Periventricular hypothalamic nucleus posterior part -0.19221840343135094 0.054007281055373925 -0.01774684596300949\n",
      "Lateral visual area 0.11836344293061868 0.30724956917740226 0.023187423424836283\n",
      "Anterodorsal nucleus -0.30004688607953983 -0.48192285614844893 -0.11509178320763906\n",
      "Prelimbic area 0.015224414921301667 0.22026804187794813 0.003101857107353744\n",
      "Rhomboid nucleus -0.09176097195718057 -0.06953826456296847 -0.023371760559804076\n",
      "Nucleus of the solitary tract -0.20554964935983885 -0.16708211332125672 -0.0006780396242908444\n",
      "Primary visual area 0.14724235047648765 0.3312197671604211 0.03207466271974315\n",
      "Globus pallidus internal segment -0.224901049950177 -0.2390761056706139 -0.054369838648131226\n",
      "Nucleus incertus -0.1592159280952762 -0.093175980461313 -0.07281888977839945\n",
      "Magnocellular reticular nucleus -0.22349384565989588 -0.34928453273350324 -0.029333640576962774\n",
      "Lateral amygdalar nucleus 0.1466857963648665 0.4018376631603366 0.02536445386797753\n",
      "Dorsal auditory area 0.06962086734889371 0.2520329698894653 0.0107856164051986\n",
      "Postpiriform transition area -0.03252695662768937 0.13654447223190755 -0.003906322804861884\n",
      "Paramedian lobule 0.07697564809109657 0.1645843370468811 2.9950252389320716e-05\n",
      "Nucleus of the lateral olfactory tract 0.04994600776272883 0.21916409531872355 0.012350490213019837\n",
      "Lateral vestibular nucleus -0.23908029704291114 -0.3252970126051767 -0.047721945745543976\n",
      "Basomedial amygdalar nucleus 0.060804048219903616 0.2721954346600343 0.009015054941207966\n",
      "Dorsomedial nucleus of the hypothalamus 0.024253923132223233 0.1242195800819046 0.0060947283586086755\n",
      "Primary motor area 0.019956825080247403 0.1993572822367381 0.003726125499881895\n",
      "Median preoptic nucleus -0.016478627185443583 0.10198200664772057 -0.005689342222495425\n",
      "Red nucleus -0.23030752809873867 -0.36038440617722506 -0.040140376213186175\n",
      "Intercalated amygdalar nucleus 0.056975131714789094 0.226209886120298 0.011132218670807768\n",
      "Primary somatosensory area barrel field 0.07676099728781285 0.2556896456011442 0.014528698979962095\n",
      "Dentate nucleus -0.1517473924583409 -0.020640458728731506 -0.0346544178917891\n",
      "Central amygdalar nucleus 0.04670239650199657 0.21440182606603067 0.010234101465813371\n",
      "Posterior hypothalamic nucleus -0.11948568030509622 -0.03329042569511009 -0.02397777166806647\n",
      "Medial pretectal area -0.07249940460153771 0.07702556471498374 -0.014073374876977037\n",
      "Field CA1 0.038304568507984166 0.21841559069292715 0.0069091007136245445\n",
      "Main olfactory bulb 0.21017186731628174 0.3440079666192959 0.0998081168944815\n",
      "Field CA3 -0.10901695380123089 0.030702982930798883 -0.021330223568284904\n",
      "Inferior colliculus dorsal nucleus -0.17380720456564178 -0.17299630551733844 -0.06560759095503044\n",
      "Secondary motor area 0.008151509142420018 0.19637279934356133 0.0016808290045396094\n",
      "Primary somatosensory area nose 0.0631973293165364 0.248597861385074 0.015490157165175133\n",
      "Nucleus accumbens 0.23031243293011056 0.39961106241645317 0.054336865044767195\n",
      "Triangular nucleus of septum -0.1760228577419443 -0.10359131974750178 -0.0840418252925568\n",
      "Dorsal nucleus raphe -0.25808968461656995 -0.37484507427071156 -0.0990886670786742\n",
      "Paraventricular hypothalamic nucleus -0.04971105013667529 0.019148066748361534 -0.02783818807653816\n",
      "Medial amygdalar nucleus 0.09129756393369012 0.3056220209158913 0.014626822222838065\n",
      "Orbital area lateral part -0.019036374688245542 0.17912855052473603 -0.005428050876714625\n",
      "Accessory olfactory bulb 0.25306269307354573 0.3923026858996338 0.1485311957683763\n",
      "Retrosplenial area lateral agranular part 0.07972394414006123 0.26810205122114744 0.014226005906157673\n",
      "Lateral habenula -0.19424199553369703 -0.21954405844495406 -0.04964266387748452\n",
      "Septofimbrial nucleus -0.15008188525502447 -0.10125618048006302 -0.04179892864682201\n",
      "Pontine reticular nucleus -0.2231972220342139 -0.20696769953292918 -0.04222043095472792\n",
      "Spinal vestibular nucleus -0.2180485814812216 -0.16612099745600722 -0.00585098841460239\n",
      "Infralimbic area 0.061756255429876894 0.23868099663314404 0.015659919186680724\n",
      "Orbital area medial part 0.03152203037363318 0.21235247157852613 0.006971757577080734\n",
      "Piriform area -0.018770338298702945 0.1388262255097917 -0.002936411629987564\n",
      "Fundus of striatum 0.08119355430982124 0.32870463331657773 0.016220973909185046\n",
      "Lateral dorsal nucleus of thalamus -0.1777069446766043 -0.19016855228709975 -0.030069921891909702\n",
      "Inferior olivary complex 0 0 0.0\n",
      "Inferior colliculus external nucleus -0.18662517842865214 -0.1639836758678659 -0.05699242739617669\n",
      "Nucleus raphe magnus -0.2213336353180792 -0.2630335886221903 -0.1018348234881184\n",
      "Field CA2 -0.05777884418908046 0.10204172930635158 -0.008255334618236866\n",
      "Orbital area ventrolateral part 0.01093686721403448 0.19096440825103772 0.002699767985607452\n",
      "Central lobule 0.14185363843363508 0.2523610593112852 0.049266374860341466\n",
      "Gigantocellular reticular nucleus -0.23488543528525743 -0.38568371655422573 -0.026346518615865382\n",
      "Substantia nigra compact part -0.21397473344587947 -0.3285987064805876 -0.040013162073704034\n",
      "Central linear nucleus raphe -0.22247328997056057 -0.23009700588554338 -0.07917198931336675\n",
      "Entorhinal area lateral part -0.0017819005695585554 0.17376872165030866 -0.0002932356589950875\n",
      "Paraflocculus 0.11064077832474722 0.2750891684101944 0.0038334190641985226\n",
      "Ansiform lobule 0.13878189901819846 0.24015049739289646 0.008539628654501665\n",
      "Paraventricular nucleus of the thalamus -0.09777139306775826 -0.08890454141195712 -0.04256343211141733\n",
      "Gustatory areas 0.049163117126584124 0.24499127852322183 0.007181322521790067\n",
      "Subparafascicular nucleus parvicellular part -0.21846332998274542 -0.21633303791776373 -0.0076103829801724265\n",
      "Presubiculum 0.16376967234972312 0.4162245196389681 0.07994734138749315\n",
      "Central medial nucleus of the thalamus -0.13412527830877924 -0.13093335054039865 -0.033857805559374496\n",
      "Retrosplenial area dorsal part 0.03980798574448476 0.23563065585474915 0.008525524387437141\n",
      "Flocculus 0.1703202454920356 0.26548367175266174 0.03990330488672766\n",
      "Peripeduncular nucleus -0.12214202971011483 -0.012374201857914723 -0.04175010501343386\n",
      "Anteromedial visual area 0.06980791082231513 0.26183201670180345 0.014119103087492799\n",
      "Lateral reticular nucleus 0 0 0.0\n",
      "Simple lobule 0.14223235369851775 0.2367649000352002 0.027539807054662323\n",
      "Ventral part of the lateral geniculate complex -0.23205592747140746 -0.22011286497088453 -0.07269227336981601\n",
      "Subiculum 0.013631084134162296 0.24829522527647188 0.004303505025782174\n",
      "Arcuate hypothalamic nucleus -0.03841031161424884 0.07022452171487997 -0.011768327638220244\n",
      "Agranular insular area posterior part 0.015249829209236666 0.20848274026523778 0.0019467659173239566\n",
      "Medial mammillary nucleus -0.15738710147357307 -0.1688957267159133 -0.05941324035143289\n",
      "Primary somatosensory area trunk 0.07241079514922599 0.25555653415488105 0.013462424299591135\n",
      "Dorsal peduncular area -0.03628831053758844 0.17819935239938273 -0.008102893876973803\n",
      "Nucleus prepositus -0.16515283339892659 -0.18217314366532592 -0.019558088843659505\n",
      "Pedunculopontine nucleus -0.20612582541919794 -0.1634882736371618 -0.04131819453469804\n",
      "Interpeduncular nucleus -0.05459167537665701 0.0488749691769549 -0.021438534722473847\n",
      "Anterior hypothalamic nucleus -0.08798039642189065 -0.03109965557203414 -0.028575917463660495\n",
      "Ventral medial nucleus of the thalamus -0.2026321581229316 -0.23053471903194056 -0.03748366561381634\n",
      "Tuberal nucleus -0.13365444577879468 0.15516276112027766 -0.0291210643764384\n",
      "Parabrachial nucleus -0.14070135259551972 -0.056147252868697824 -0.03824660718929552\n",
      "Basolateral amygdalar nucleus 0.020297663499198322 0.1954209180408414 0.0027547318852903136\n",
      "Entorhinal area medial part dorsal zone -0.0196484296665917 0.12471585778182859 -0.003733311255690971\n",
      "Medial geniculate complex ventral part -0.16203580342131624 -0.09413755096340225 -0.03212065383038926\n",
      "Superior central nucleus raphe -0.1581357604714889 -0.05303813929503141 -0.04759958617504245\n"
     ]
    },
    {
     "name": "stdout",
     "output_type": "stream",
     "text": [
      "Pyramus VIII 0 0 0.0\n",
      "Anteroventral nucleus of thalamus -0.1821894264184108 -0.18055527654718997 -0.040812493622664946\n",
      "Superior vestibular nucleus -0.22524780986484663 -0.3367535198590019 -0.04693538365660485\n",
      "Facial motor nucleus -0.2277967890550434 -0.4670303010911415 -0.04496816310970561\n",
      "Ventral posterolateral nucleus of the thalamus -0.21884560228366304 -0.26006103355662125 -0.03541320382196463\n",
      "Spinal nucleus of the trigeminal oral part -0.2161931579862717 -0.15156924862868298 -0.028532974974351626\n",
      "Parasubiculum -0.028445476491118473 0.14277012349552698 -0.006610717076304337\n",
      "Mediodorsal nucleus of thalamus -0.15391524137298934 -0.1684086887438937 -0.023498000547911544\n",
      "Primary somatosensory area lower limb 0.044381718664496445 0.21802816916405937 0.011253332947089434\n",
      "Subthalamic nucleus -0.23181183327174423 -0.30552946341767884 -0.04300312014958873\n",
      "Intermediodorsal nucleus of the thalamus -0.1282164667052355 -0.1528409420380374 -0.027037313992601102\n",
      "Medullary reticular nucleus ventral part 0 0 0.0\n",
      "Anterior amygdalar area -0.06616299842243029 0.11920002656625052 -0.013838327643018978\n",
      "Medial geniculate complex dorsal part -0.1555245402071236 -0.06281794640555106 -0.03405384524727011\n",
      "Ventral cochlear nucleus -0.14204490143256557 -0.05833270890297431 -0.04883864494346415\n",
      "Cortical amygdalar area anterior part -0.00201339896175105 0.2453512365099628 -0.0002946081745939194\n",
      "Primary auditory area 0.055018691802517714 0.264855452113837 0.009703174967824142\n",
      "Nodulus X 0 0 0.0\n",
      "Anteromedial nucleus dorsal part -0.1508387110320999 -0.016979224125800857 -0.028528875628128773\n",
      "Fastigial nucleus -0.21381662096791867 -0.31292996181249877 -0.002342444397062268\n",
      "Primary somatosensory area upper limb 0.04809058707618566 0.22255853119001381 0.010280351696340327\n",
      "Parafascicular nucleus -0.16946366720649786 -0.1403793140608036 -0.03424184685341401\n",
      "Anterior cingulate area dorsal part 6.502820687591156e-05 0.20190553504166095 1.6164981516570754e-05\n",
      "Nucleus of the lateral lemniscus -0.22664234420650695 -0.2769661399316159 -0.051416821757193365\n"
     ]
    }
   ],
   "source": [
    "bias_dat_percell = []\n",
    "bias_dat_perneuro = []\n",
    "bias_dat_pervol = []\n",
    "for STR in STRs:\n",
    "    bias_percell, bias_per_neuro, bias_per_vol = GetBiasesForSTR(STR, MERFISH2, ASD_ClusterV3_Bias,\n",
    "                                                                 CT_ID_SET, Non_Neuron_Class)\n",
    "    bias_dat_percell.append(bias_percell)\n",
    "    bias_dat_perneuro.append(bias_per_neuro)\n",
    "    bias_dat_pervol.append(bias_per_vol)\n",
    "    print(STR, bias_percell, bias_per_neuro, bias_per_vol)"
   ]
  },
  {
   "cell_type": "code",
   "execution_count": 103,
   "id": "959a097b",
   "metadata": {
    "hidden": true
   },
   "outputs": [],
   "source": [
    "AggV2_ASD_DF_MERFISH2 = pd.DataFrame(data={\"STR2\":STRs, \"EFFECT_perCell\":bias_dat_percell, \"EFFECT_perNeuro\":bias_dat_perneuro,\n",
    "                                 \"EFFECT_perVol\":bias_dat_pervol, })\n",
    "AggV2_ASD_DF_MERFISH2 = AggV2_ASD_DF_MERFISH2.set_index(\"STR2\")"
   ]
  },
  {
   "cell_type": "code",
   "execution_count": 92,
   "id": "da6d76a0",
   "metadata": {
    "hidden": true
   },
   "outputs": [],
   "source": [
    "ASD_ISH = pd.read_csv(\"dat/Bias/ASD.ISH.bias.csv\", index_col=0)\n",
    "ASD_MERFISH_adj = pd.read_csv(\"dat/Bias/ASD.MERFISH.Agg.adj.bias.csv\", index_col=0)"
   ]
  },
  {
   "cell_type": "code",
   "execution_count": 101,
   "id": "ee7fefcc",
   "metadata": {
    "hidden": true
   },
   "outputs": [],
   "source": [
    "for i, row in AggV2_ASD_DF.iterrows():\n",
    "    \n",
    "    STR = \"_\".join(i.split())\n",
    "    if STR not in ASD_MERFISH_adj.index.values:\n",
    "        AggV2_ASD_DF.loc[i, \"STR\"] = \"\"\n",
    "        AggV2_ASD_DF.loc[i, \"REGION\"] = \"\"\n",
    "    else:\n",
    "        REG = ASD_MERFISH_adj.loc[STR, \"REGION\"]\n",
    "        AggV2_ASD_DF.loc[i, \"STR\"] = STR\n",
    "        AggV2_ASD_DF.loc[i, \"REGION\"] = REG\n",
    "    \n",
    "    \n",
    "    AggV2_ASD_DF.loc[i, \"EFFECT_ISH\"] = ASD_ISH.loc[STR, \"EFFECT\"]\n",
    "AggV2_ASD_DF = AggV2_ASD_DF.sort_values(\"EFFECT_perVol\", ascending=False)"
   ]
  },
  {
   "cell_type": "code",
   "execution_count": 102,
   "id": "b0e5eabe",
   "metadata": {
    "hidden": true
   },
   "outputs": [
    {
     "data": {
      "text/html": [
       "<div>\n",
       "<style scoped>\n",
       "    .dataframe tbody tr th:only-of-type {\n",
       "        vertical-align: middle;\n",
       "    }\n",
       "\n",
       "    .dataframe tbody tr th {\n",
       "        vertical-align: top;\n",
       "    }\n",
       "\n",
       "    .dataframe thead th {\n",
       "        text-align: right;\n",
       "    }\n",
       "</style>\n",
       "<table border=\"1\" class=\"dataframe\">\n",
       "  <thead>\n",
       "    <tr style=\"text-align: right;\">\n",
       "      <th></th>\n",
       "      <th>EFFECT_perCell</th>\n",
       "      <th>EFFECT_perNeuro</th>\n",
       "      <th>EFFECT_perVol</th>\n",
       "      <th>STR</th>\n",
       "      <th>REGION</th>\n",
       "      <th>EFFECT_ISH</th>\n",
       "    </tr>\n",
       "    <tr>\n",
       "      <th>STR2</th>\n",
       "      <th></th>\n",
       "      <th></th>\n",
       "      <th></th>\n",
       "      <th></th>\n",
       "      <th></th>\n",
       "      <th></th>\n",
       "    </tr>\n",
       "  </thead>\n",
       "  <tbody>\n",
       "    <tr>\n",
       "      <th>Accessory olfactory bulb</th>\n",
       "      <td>0.253063</td>\n",
       "      <td>0.392303</td>\n",
       "      <td>0.148531</td>\n",
       "      <td>Accessory_olfactory_bulb</td>\n",
       "      <td>Olfactory_areas</td>\n",
       "      <td>0.283606</td>\n",
       "    </tr>\n",
       "    <tr>\n",
       "      <th>Main olfactory bulb</th>\n",
       "      <td>0.210172</td>\n",
       "      <td>0.344008</td>\n",
       "      <td>0.099808</td>\n",
       "      <td>Main_olfactory_bulb</td>\n",
       "      <td>Olfactory_areas</td>\n",
       "      <td>0.001685</td>\n",
       "    </tr>\n",
       "    <tr>\n",
       "      <th>Presubiculum</th>\n",
       "      <td>0.163770</td>\n",
       "      <td>0.416225</td>\n",
       "      <td>0.079947</td>\n",
       "      <td>Presubiculum</td>\n",
       "      <td>Hippocampus</td>\n",
       "      <td>0.189091</td>\n",
       "    </tr>\n",
       "    <tr>\n",
       "      <th>Anterior olfactory nucleus</th>\n",
       "      <td>0.188016</td>\n",
       "      <td>0.405540</td>\n",
       "      <td>0.064156</td>\n",
       "      <td>Anterior_olfactory_nucleus</td>\n",
       "      <td>Olfactory_areas</td>\n",
       "      <td>0.485098</td>\n",
       "    </tr>\n",
       "    <tr>\n",
       "      <th>Nucleus accumbens</th>\n",
       "      <td>0.230312</td>\n",
       "      <td>0.399611</td>\n",
       "      <td>0.054337</td>\n",
       "      <td>Nucleus_accumbens</td>\n",
       "      <td>Striatum</td>\n",
       "      <td>0.553718</td>\n",
       "    </tr>\n",
       "    <tr>\n",
       "      <th>Olfactory tubercle</th>\n",
       "      <td>0.272725</td>\n",
       "      <td>0.431146</td>\n",
       "      <td>0.050926</td>\n",
       "      <td>Olfactory_tubercle</td>\n",
       "      <td>Striatum</td>\n",
       "      <td>0.193269</td>\n",
       "    </tr>\n",
       "    <tr>\n",
       "      <th>Dentate gyrus</th>\n",
       "      <td>0.151626</td>\n",
       "      <td>0.363339</td>\n",
       "      <td>0.049897</td>\n",
       "      <td>Dentate_gyrus</td>\n",
       "      <td>Hippocampus</td>\n",
       "      <td>0.498752</td>\n",
       "    </tr>\n",
       "    <tr>\n",
       "      <th>Central lobule</th>\n",
       "      <td>0.141854</td>\n",
       "      <td>0.252361</td>\n",
       "      <td>0.049266</td>\n",
       "      <td>Central_lobule</td>\n",
       "      <td>Cerebellum</td>\n",
       "      <td>-0.113617</td>\n",
       "    </tr>\n",
       "    <tr>\n",
       "      <th>Flocculus</th>\n",
       "      <td>0.170320</td>\n",
       "      <td>0.265484</td>\n",
       "      <td>0.039903</td>\n",
       "      <td>Flocculus</td>\n",
       "      <td>Cerebellum</td>\n",
       "      <td>-0.168618</td>\n",
       "    </tr>\n",
       "    <tr>\n",
       "      <th>Retrosplenial area ventral part</th>\n",
       "      <td>0.070921</td>\n",
       "      <td>0.269030</td>\n",
       "      <td>0.032733</td>\n",
       "      <td>Retrosplenial_area_ventral_part</td>\n",
       "      <td>Isocortex</td>\n",
       "      <td>0.001033</td>\n",
       "    </tr>\n",
       "    <tr>\n",
       "      <th>Primary visual area</th>\n",
       "      <td>0.147242</td>\n",
       "      <td>0.331220</td>\n",
       "      <td>0.032075</td>\n",
       "      <td>Primary_visual_area</td>\n",
       "      <td>Isocortex</td>\n",
       "      <td>0.394758</td>\n",
       "    </tr>\n",
       "    <tr>\n",
       "      <th>Caudoputamen</th>\n",
       "      <td>0.135012</td>\n",
       "      <td>0.382770</td>\n",
       "      <td>0.031389</td>\n",
       "      <td>Caudoputamen</td>\n",
       "      <td>Striatum</td>\n",
       "      <td>0.461481</td>\n",
       "    </tr>\n",
       "    <tr>\n",
       "      <th>Simple lobule</th>\n",
       "      <td>0.142232</td>\n",
       "      <td>0.236765</td>\n",
       "      <td>0.027540</td>\n",
       "      <td>Simple_lobule</td>\n",
       "      <td>Cerebellum</td>\n",
       "      <td>0.199035</td>\n",
       "    </tr>\n",
       "    <tr>\n",
       "      <th>Lateral amygdalar nucleus</th>\n",
       "      <td>0.146686</td>\n",
       "      <td>0.401838</td>\n",
       "      <td>0.025364</td>\n",
       "      <td>Lateral_amygdalar_nucleus</td>\n",
       "      <td>Amygdala</td>\n",
       "      <td>0.446470</td>\n",
       "    </tr>\n",
       "    <tr>\n",
       "      <th>Lateral visual area</th>\n",
       "      <td>0.118363</td>\n",
       "      <td>0.307250</td>\n",
       "      <td>0.023187</td>\n",
       "      <td>Lateral_visual_area</td>\n",
       "      <td>Isocortex</td>\n",
       "      <td>0.302997</td>\n",
       "    </tr>\n",
       "    <tr>\n",
       "      <th>Culmen</th>\n",
       "      <td>0.148708</td>\n",
       "      <td>0.245742</td>\n",
       "      <td>0.022039</td>\n",
       "      <td>Culmen</td>\n",
       "      <td>Cerebellum</td>\n",
       "      <td>0.079325</td>\n",
       "    </tr>\n",
       "    <tr>\n",
       "      <th>Postsubiculum</th>\n",
       "      <td>0.077484</td>\n",
       "      <td>0.358397</td>\n",
       "      <td>0.021602</td>\n",
       "      <td>Postsubiculum</td>\n",
       "      <td>Hippocampus</td>\n",
       "      <td>0.132878</td>\n",
       "    </tr>\n",
       "    <tr>\n",
       "      <th>posteromedial visual area</th>\n",
       "      <td>0.114882</td>\n",
       "      <td>0.290384</td>\n",
       "      <td>0.020813</td>\n",
       "      <td>posteromedial_visual_area</td>\n",
       "      <td>Isocortex</td>\n",
       "      <td>0.297550</td>\n",
       "    </tr>\n",
       "    <tr>\n",
       "      <th>Posterior amygdalar nucleus</th>\n",
       "      <td>0.097510</td>\n",
       "      <td>0.292314</td>\n",
       "      <td>0.017582</td>\n",
       "      <td>Posterior_amygdalar_nucleus</td>\n",
       "      <td>Amygdala</td>\n",
       "      <td>0.157249</td>\n",
       "    </tr>\n",
       "    <tr>\n",
       "      <th>Fundus of striatum</th>\n",
       "      <td>0.081194</td>\n",
       "      <td>0.328705</td>\n",
       "      <td>0.016221</td>\n",
       "      <td>Fundus_of_striatum</td>\n",
       "      <td>Striatum</td>\n",
       "      <td>0.246266</td>\n",
       "    </tr>\n",
       "    <tr>\n",
       "      <th>Infralimbic area</th>\n",
       "      <td>0.061756</td>\n",
       "      <td>0.238681</td>\n",
       "      <td>0.015660</td>\n",
       "      <td>Infralimbic_area</td>\n",
       "      <td>Isocortex</td>\n",
       "      <td>0.479460</td>\n",
       "    </tr>\n",
       "    <tr>\n",
       "      <th>Primary somatosensory area nose</th>\n",
       "      <td>0.063197</td>\n",
       "      <td>0.248598</td>\n",
       "      <td>0.015490</td>\n",
       "      <td>Primary_somatosensory_area_nose</td>\n",
       "      <td>Isocortex</td>\n",
       "      <td>0.246733</td>\n",
       "    </tr>\n",
       "    <tr>\n",
       "      <th>Anterolateral visual area</th>\n",
       "      <td>0.079961</td>\n",
       "      <td>0.259288</td>\n",
       "      <td>0.014817</td>\n",
       "      <td>Anterolateral_visual_area</td>\n",
       "      <td>Isocortex</td>\n",
       "      <td>0.228133</td>\n",
       "    </tr>\n",
       "    <tr>\n",
       "      <th>Medial amygdalar nucleus</th>\n",
       "      <td>0.091298</td>\n",
       "      <td>0.305622</td>\n",
       "      <td>0.014627</td>\n",
       "      <td>Medial_amygdalar_nucleus</td>\n",
       "      <td>Amygdala</td>\n",
       "      <td>-0.036695</td>\n",
       "    </tr>\n",
       "    <tr>\n",
       "      <th>Primary somatosensory area barrel field</th>\n",
       "      <td>0.076761</td>\n",
       "      <td>0.255690</td>\n",
       "      <td>0.014529</td>\n",
       "      <td>Primary_somatosensory_area_barrel_field</td>\n",
       "      <td>Isocortex</td>\n",
       "      <td>0.236207</td>\n",
       "    </tr>\n",
       "    <tr>\n",
       "      <th>Retrosplenial area lateral agranular part</th>\n",
       "      <td>0.079724</td>\n",
       "      <td>0.268102</td>\n",
       "      <td>0.014226</td>\n",
       "      <td>Retrosplenial_area_lateral_agranular_part</td>\n",
       "      <td>Isocortex</td>\n",
       "      <td>0.382511</td>\n",
       "    </tr>\n",
       "    <tr>\n",
       "      <th>Anteromedial visual area</th>\n",
       "      <td>0.069808</td>\n",
       "      <td>0.261832</td>\n",
       "      <td>0.014119</td>\n",
       "      <td>Anteromedial_visual_area</td>\n",
       "      <td>Isocortex</td>\n",
       "      <td>0.420279</td>\n",
       "    </tr>\n",
       "    <tr>\n",
       "      <th>Primary somatosensory area trunk</th>\n",
       "      <td>0.072411</td>\n",
       "      <td>0.255557</td>\n",
       "      <td>0.013462</td>\n",
       "      <td>Primary_somatosensory_area_trunk</td>\n",
       "      <td>Isocortex</td>\n",
       "      <td>0.337637</td>\n",
       "    </tr>\n",
       "    <tr>\n",
       "      <th>Subparaventricular zone</th>\n",
       "      <td>0.022097</td>\n",
       "      <td>0.126252</td>\n",
       "      <td>0.013291</td>\n",
       "      <td>Subparaventricular_zone</td>\n",
       "      <td>Hypothalamus</td>\n",
       "      <td>0.025034</td>\n",
       "    </tr>\n",
       "    <tr>\n",
       "      <th>Nucleus of the lateral olfactory tract</th>\n",
       "      <td>0.049946</td>\n",
       "      <td>0.219164</td>\n",
       "      <td>0.012350</td>\n",
       "      <td>Nucleus_of_the_lateral_olfactory_tract</td>\n",
       "      <td>Olfactory_areas</td>\n",
       "      <td>-0.080037</td>\n",
       "    </tr>\n",
       "    <tr>\n",
       "      <th>Primary somatosensory area lower limb</th>\n",
       "      <td>0.044382</td>\n",
       "      <td>0.218028</td>\n",
       "      <td>0.011253</td>\n",
       "      <td>Primary_somatosensory_area_lower_limb</td>\n",
       "      <td>Isocortex</td>\n",
       "      <td>0.476070</td>\n",
       "    </tr>\n",
       "    <tr>\n",
       "      <th>Posterior parietal association areas</th>\n",
       "      <td>0.077229</td>\n",
       "      <td>0.269044</td>\n",
       "      <td>0.011241</td>\n",
       "      <td>Posterior_parietal_association_areas</td>\n",
       "      <td>Isocortex</td>\n",
       "      <td>0.350922</td>\n",
       "    </tr>\n",
       "    <tr>\n",
       "      <th>Intercalated amygdalar nucleus</th>\n",
       "      <td>0.056975</td>\n",
       "      <td>0.226210</td>\n",
       "      <td>0.011132</td>\n",
       "      <td>Intercalated_amygdalar_nucleus</td>\n",
       "      <td>Amygdala</td>\n",
       "      <td>0.321215</td>\n",
       "    </tr>\n",
       "    <tr>\n",
       "      <th>Temporal association areas</th>\n",
       "      <td>0.079487</td>\n",
       "      <td>0.265418</td>\n",
       "      <td>0.010987</td>\n",
       "      <td>Temporal_association_areas</td>\n",
       "      <td>Isocortex</td>\n",
       "      <td>0.145456</td>\n",
       "    </tr>\n",
       "    <tr>\n",
       "      <th>Anterior cingulate area ventral part</th>\n",
       "      <td>0.038893</td>\n",
       "      <td>0.233530</td>\n",
       "      <td>0.010978</td>\n",
       "      <td>Anterior_cingulate_area_ventral_part</td>\n",
       "      <td>Isocortex</td>\n",
       "      <td>0.299615</td>\n",
       "    </tr>\n",
       "    <tr>\n",
       "      <th>Dorsal auditory area</th>\n",
       "      <td>0.069621</td>\n",
       "      <td>0.252033</td>\n",
       "      <td>0.010786</td>\n",
       "      <td>Dorsal_auditory_area</td>\n",
       "      <td>Isocortex</td>\n",
       "      <td>0.211795</td>\n",
       "    </tr>\n",
       "    <tr>\n",
       "      <th>Primary somatosensory area upper limb</th>\n",
       "      <td>0.048091</td>\n",
       "      <td>0.222559</td>\n",
       "      <td>0.010280</td>\n",
       "      <td>Primary_somatosensory_area_upper_limb</td>\n",
       "      <td>Isocortex</td>\n",
       "      <td>0.301143</td>\n",
       "    </tr>\n",
       "    <tr>\n",
       "      <th>Central amygdalar nucleus</th>\n",
       "      <td>0.046702</td>\n",
       "      <td>0.214402</td>\n",
       "      <td>0.010234</td>\n",
       "      <td>Central_amygdalar_nucleus</td>\n",
       "      <td>Amygdala</td>\n",
       "      <td>0.246900</td>\n",
       "    </tr>\n",
       "    <tr>\n",
       "      <th>Primary somatosensory area mouth</th>\n",
       "      <td>0.053892</td>\n",
       "      <td>0.235097</td>\n",
       "      <td>0.010152</td>\n",
       "      <td>Primary_somatosensory_area_mouth</td>\n",
       "      <td>Isocortex</td>\n",
       "      <td>0.202049</td>\n",
       "    </tr>\n",
       "    <tr>\n",
       "      <th>Posterolateral visual area</th>\n",
       "      <td>0.048432</td>\n",
       "      <td>0.247646</td>\n",
       "      <td>0.009705</td>\n",
       "      <td>Posterolateral_visual_area</td>\n",
       "      <td>Isocortex</td>\n",
       "      <td>0.245970</td>\n",
       "    </tr>\n",
       "    <tr>\n",
       "      <th>Primary auditory area</th>\n",
       "      <td>0.055019</td>\n",
       "      <td>0.264855</td>\n",
       "      <td>0.009703</td>\n",
       "      <td>Primary_auditory_area</td>\n",
       "      <td>Isocortex</td>\n",
       "      <td>-0.177154</td>\n",
       "    </tr>\n",
       "    <tr>\n",
       "      <th>Ventral auditory area</th>\n",
       "      <td>0.074627</td>\n",
       "      <td>0.281072</td>\n",
       "      <td>0.009054</td>\n",
       "      <td>Ventral_auditory_area</td>\n",
       "      <td>Isocortex</td>\n",
       "      <td>-0.145606</td>\n",
       "    </tr>\n",
       "    <tr>\n",
       "      <th>Basomedial amygdalar nucleus</th>\n",
       "      <td>0.060804</td>\n",
       "      <td>0.272195</td>\n",
       "      <td>0.009015</td>\n",
       "      <td>Basomedial_amygdalar_nucleus</td>\n",
       "      <td>Amygdala</td>\n",
       "      <td>0.363831</td>\n",
       "    </tr>\n",
       "    <tr>\n",
       "      <th>Ansiform lobule</th>\n",
       "      <td>0.138782</td>\n",
       "      <td>0.240150</td>\n",
       "      <td>0.008540</td>\n",
       "      <td>Ansiform_lobule</td>\n",
       "      <td>Cerebellum</td>\n",
       "      <td>0.174044</td>\n",
       "    </tr>\n",
       "    <tr>\n",
       "      <th>Retrosplenial area dorsal part</th>\n",
       "      <td>0.039808</td>\n",
       "      <td>0.235631</td>\n",
       "      <td>0.008526</td>\n",
       "      <td>Retrosplenial_area_dorsal_part</td>\n",
       "      <td>Isocortex</td>\n",
       "      <td>0.195059</td>\n",
       "    </tr>\n",
       "    <tr>\n",
       "      <th>Ectorhinal area</th>\n",
       "      <td>0.069601</td>\n",
       "      <td>0.246228</td>\n",
       "      <td>0.008422</td>\n",
       "      <td>Ectorhinal_area</td>\n",
       "      <td>Isocortex</td>\n",
       "      <td>-0.040346</td>\n",
       "    </tr>\n",
       "    <tr>\n",
       "      <th>Gustatory areas</th>\n",
       "      <td>0.049163</td>\n",
       "      <td>0.244991</td>\n",
       "      <td>0.007181</td>\n",
       "      <td>Gustatory_areas</td>\n",
       "      <td>Isocortex</td>\n",
       "      <td>0.362063</td>\n",
       "    </tr>\n",
       "    <tr>\n",
       "      <th>Orbital area medial part</th>\n",
       "      <td>0.031522</td>\n",
       "      <td>0.212352</td>\n",
       "      <td>0.006972</td>\n",
       "      <td>Orbital_area_medial_part</td>\n",
       "      <td>Isocortex</td>\n",
       "      <td>0.345293</td>\n",
       "    </tr>\n",
       "    <tr>\n",
       "      <th>Field CA1</th>\n",
       "      <td>0.038305</td>\n",
       "      <td>0.218416</td>\n",
       "      <td>0.006909</td>\n",
       "      <td>Field_CA1</td>\n",
       "      <td>Hippocampus</td>\n",
       "      <td>0.439351</td>\n",
       "    </tr>\n",
       "    <tr>\n",
       "      <th>Supplemental somatosensory area</th>\n",
       "      <td>0.036024</td>\n",
       "      <td>0.213305</td>\n",
       "      <td>0.006658</td>\n",
       "      <td>Supplemental_somatosensory_area</td>\n",
       "      <td>Isocortex</td>\n",
       "      <td>0.319234</td>\n",
       "    </tr>\n",
       "  </tbody>\n",
       "</table>\n",
       "</div>"
      ],
      "text/plain": [
       "                                           EFFECT_perCell  EFFECT_perNeuro  \\\n",
       "STR2                                                                         \n",
       "Accessory olfactory bulb                         0.253063         0.392303   \n",
       "Main olfactory bulb                              0.210172         0.344008   \n",
       "Presubiculum                                     0.163770         0.416225   \n",
       "Anterior olfactory nucleus                       0.188016         0.405540   \n",
       "Nucleus accumbens                                0.230312         0.399611   \n",
       "Olfactory tubercle                               0.272725         0.431146   \n",
       "Dentate gyrus                                    0.151626         0.363339   \n",
       "Central lobule                                   0.141854         0.252361   \n",
       "Flocculus                                        0.170320         0.265484   \n",
       "Retrosplenial area ventral part                  0.070921         0.269030   \n",
       "Primary visual area                              0.147242         0.331220   \n",
       "Caudoputamen                                     0.135012         0.382770   \n",
       "Simple lobule                                    0.142232         0.236765   \n",
       "Lateral amygdalar nucleus                        0.146686         0.401838   \n",
       "Lateral visual area                              0.118363         0.307250   \n",
       "Culmen                                           0.148708         0.245742   \n",
       "Postsubiculum                                    0.077484         0.358397   \n",
       "posteromedial visual area                        0.114882         0.290384   \n",
       "Posterior amygdalar nucleus                      0.097510         0.292314   \n",
       "Fundus of striatum                               0.081194         0.328705   \n",
       "Infralimbic area                                 0.061756         0.238681   \n",
       "Primary somatosensory area nose                  0.063197         0.248598   \n",
       "Anterolateral visual area                        0.079961         0.259288   \n",
       "Medial amygdalar nucleus                         0.091298         0.305622   \n",
       "Primary somatosensory area barrel field          0.076761         0.255690   \n",
       "Retrosplenial area lateral agranular part        0.079724         0.268102   \n",
       "Anteromedial visual area                         0.069808         0.261832   \n",
       "Primary somatosensory area trunk                 0.072411         0.255557   \n",
       "Subparaventricular zone                          0.022097         0.126252   \n",
       "Nucleus of the lateral olfactory tract           0.049946         0.219164   \n",
       "Primary somatosensory area lower limb            0.044382         0.218028   \n",
       "Posterior parietal association areas             0.077229         0.269044   \n",
       "Intercalated amygdalar nucleus                   0.056975         0.226210   \n",
       "Temporal association areas                       0.079487         0.265418   \n",
       "Anterior cingulate area ventral part             0.038893         0.233530   \n",
       "Dorsal auditory area                             0.069621         0.252033   \n",
       "Primary somatosensory area upper limb            0.048091         0.222559   \n",
       "Central amygdalar nucleus                        0.046702         0.214402   \n",
       "Primary somatosensory area mouth                 0.053892         0.235097   \n",
       "Posterolateral visual area                       0.048432         0.247646   \n",
       "Primary auditory area                            0.055019         0.264855   \n",
       "Ventral auditory area                            0.074627         0.281072   \n",
       "Basomedial amygdalar nucleus                     0.060804         0.272195   \n",
       "Ansiform lobule                                  0.138782         0.240150   \n",
       "Retrosplenial area dorsal part                   0.039808         0.235631   \n",
       "Ectorhinal area                                  0.069601         0.246228   \n",
       "Gustatory areas                                  0.049163         0.244991   \n",
       "Orbital area medial part                         0.031522         0.212352   \n",
       "Field CA1                                        0.038305         0.218416   \n",
       "Supplemental somatosensory area                  0.036024         0.213305   \n",
       "\n",
       "                                           EFFECT_perVol  \\\n",
       "STR2                                                       \n",
       "Accessory olfactory bulb                        0.148531   \n",
       "Main olfactory bulb                             0.099808   \n",
       "Presubiculum                                    0.079947   \n",
       "Anterior olfactory nucleus                      0.064156   \n",
       "Nucleus accumbens                               0.054337   \n",
       "Olfactory tubercle                              0.050926   \n",
       "Dentate gyrus                                   0.049897   \n",
       "Central lobule                                  0.049266   \n",
       "Flocculus                                       0.039903   \n",
       "Retrosplenial area ventral part                 0.032733   \n",
       "Primary visual area                             0.032075   \n",
       "Caudoputamen                                    0.031389   \n",
       "Simple lobule                                   0.027540   \n",
       "Lateral amygdalar nucleus                       0.025364   \n",
       "Lateral visual area                             0.023187   \n",
       "Culmen                                          0.022039   \n",
       "Postsubiculum                                   0.021602   \n",
       "posteromedial visual area                       0.020813   \n",
       "Posterior amygdalar nucleus                     0.017582   \n",
       "Fundus of striatum                              0.016221   \n",
       "Infralimbic area                                0.015660   \n",
       "Primary somatosensory area nose                 0.015490   \n",
       "Anterolateral visual area                       0.014817   \n",
       "Medial amygdalar nucleus                        0.014627   \n",
       "Primary somatosensory area barrel field         0.014529   \n",
       "Retrosplenial area lateral agranular part       0.014226   \n",
       "Anteromedial visual area                        0.014119   \n",
       "Primary somatosensory area trunk                0.013462   \n",
       "Subparaventricular zone                         0.013291   \n",
       "Nucleus of the lateral olfactory tract          0.012350   \n",
       "Primary somatosensory area lower limb           0.011253   \n",
       "Posterior parietal association areas            0.011241   \n",
       "Intercalated amygdalar nucleus                  0.011132   \n",
       "Temporal association areas                      0.010987   \n",
       "Anterior cingulate area ventral part            0.010978   \n",
       "Dorsal auditory area                            0.010786   \n",
       "Primary somatosensory area upper limb           0.010280   \n",
       "Central amygdalar nucleus                       0.010234   \n",
       "Primary somatosensory area mouth                0.010152   \n",
       "Posterolateral visual area                      0.009705   \n",
       "Primary auditory area                           0.009703   \n",
       "Ventral auditory area                           0.009054   \n",
       "Basomedial amygdalar nucleus                    0.009015   \n",
       "Ansiform lobule                                 0.008540   \n",
       "Retrosplenial area dorsal part                  0.008526   \n",
       "Ectorhinal area                                 0.008422   \n",
       "Gustatory areas                                 0.007181   \n",
       "Orbital area medial part                        0.006972   \n",
       "Field CA1                                       0.006909   \n",
       "Supplemental somatosensory area                 0.006658   \n",
       "\n",
       "                                                                                 STR  \\\n",
       "STR2                                                                                   \n",
       "Accessory olfactory bulb                                    Accessory_olfactory_bulb   \n",
       "Main olfactory bulb                                              Main_olfactory_bulb   \n",
       "Presubiculum                                                            Presubiculum   \n",
       "Anterior olfactory nucleus                                Anterior_olfactory_nucleus   \n",
       "Nucleus accumbens                                                  Nucleus_accumbens   \n",
       "Olfactory tubercle                                                Olfactory_tubercle   \n",
       "Dentate gyrus                                                          Dentate_gyrus   \n",
       "Central lobule                                                        Central_lobule   \n",
       "Flocculus                                                                  Flocculus   \n",
       "Retrosplenial area ventral part                      Retrosplenial_area_ventral_part   \n",
       "Primary visual area                                              Primary_visual_area   \n",
       "Caudoputamen                                                            Caudoputamen   \n",
       "Simple lobule                                                          Simple_lobule   \n",
       "Lateral amygdalar nucleus                                  Lateral_amygdalar_nucleus   \n",
       "Lateral visual area                                              Lateral_visual_area   \n",
       "Culmen                                                                        Culmen   \n",
       "Postsubiculum                                                          Postsubiculum   \n",
       "posteromedial visual area                                  posteromedial_visual_area   \n",
       "Posterior amygdalar nucleus                              Posterior_amygdalar_nucleus   \n",
       "Fundus of striatum                                                Fundus_of_striatum   \n",
       "Infralimbic area                                                    Infralimbic_area   \n",
       "Primary somatosensory area nose                      Primary_somatosensory_area_nose   \n",
       "Anterolateral visual area                                  Anterolateral_visual_area   \n",
       "Medial amygdalar nucleus                                    Medial_amygdalar_nucleus   \n",
       "Primary somatosensory area barrel field      Primary_somatosensory_area_barrel_field   \n",
       "Retrosplenial area lateral agranular part  Retrosplenial_area_lateral_agranular_part   \n",
       "Anteromedial visual area                                    Anteromedial_visual_area   \n",
       "Primary somatosensory area trunk                    Primary_somatosensory_area_trunk   \n",
       "Subparaventricular zone                                      Subparaventricular_zone   \n",
       "Nucleus of the lateral olfactory tract        Nucleus_of_the_lateral_olfactory_tract   \n",
       "Primary somatosensory area lower limb          Primary_somatosensory_area_lower_limb   \n",
       "Posterior parietal association areas            Posterior_parietal_association_areas   \n",
       "Intercalated amygdalar nucleus                        Intercalated_amygdalar_nucleus   \n",
       "Temporal association areas                                Temporal_association_areas   \n",
       "Anterior cingulate area ventral part            Anterior_cingulate_area_ventral_part   \n",
       "Dorsal auditory area                                            Dorsal_auditory_area   \n",
       "Primary somatosensory area upper limb          Primary_somatosensory_area_upper_limb   \n",
       "Central amygdalar nucleus                                  Central_amygdalar_nucleus   \n",
       "Primary somatosensory area mouth                    Primary_somatosensory_area_mouth   \n",
       "Posterolateral visual area                                Posterolateral_visual_area   \n",
       "Primary auditory area                                          Primary_auditory_area   \n",
       "Ventral auditory area                                          Ventral_auditory_area   \n",
       "Basomedial amygdalar nucleus                            Basomedial_amygdalar_nucleus   \n",
       "Ansiform lobule                                                      Ansiform_lobule   \n",
       "Retrosplenial area dorsal part                        Retrosplenial_area_dorsal_part   \n",
       "Ectorhinal area                                                      Ectorhinal_area   \n",
       "Gustatory areas                                                      Gustatory_areas   \n",
       "Orbital area medial part                                    Orbital_area_medial_part   \n",
       "Field CA1                                                                  Field_CA1   \n",
       "Supplemental somatosensory area                      Supplemental_somatosensory_area   \n",
       "\n",
       "                                                    REGION  EFFECT_ISH  \n",
       "STR2                                                                    \n",
       "Accessory olfactory bulb                   Olfactory_areas    0.283606  \n",
       "Main olfactory bulb                        Olfactory_areas    0.001685  \n",
       "Presubiculum                                   Hippocampus    0.189091  \n",
       "Anterior olfactory nucleus                 Olfactory_areas    0.485098  \n",
       "Nucleus accumbens                                 Striatum    0.553718  \n",
       "Olfactory tubercle                                Striatum    0.193269  \n",
       "Dentate gyrus                                  Hippocampus    0.498752  \n",
       "Central lobule                                  Cerebellum   -0.113617  \n",
       "Flocculus                                       Cerebellum   -0.168618  \n",
       "Retrosplenial area ventral part                  Isocortex    0.001033  \n",
       "Primary visual area                              Isocortex    0.394758  \n",
       "Caudoputamen                                      Striatum    0.461481  \n",
       "Simple lobule                                   Cerebellum    0.199035  \n",
       "Lateral amygdalar nucleus                         Amygdala    0.446470  \n",
       "Lateral visual area                              Isocortex    0.302997  \n",
       "Culmen                                          Cerebellum    0.079325  \n",
       "Postsubiculum                                  Hippocampus    0.132878  \n",
       "posteromedial visual area                        Isocortex    0.297550  \n",
       "Posterior amygdalar nucleus                       Amygdala    0.157249  \n",
       "Fundus of striatum                                Striatum    0.246266  \n",
       "Infralimbic area                                 Isocortex    0.479460  \n",
       "Primary somatosensory area nose                  Isocortex    0.246733  \n",
       "Anterolateral visual area                        Isocortex    0.228133  \n",
       "Medial amygdalar nucleus                          Amygdala   -0.036695  \n",
       "Primary somatosensory area barrel field          Isocortex    0.236207  \n",
       "Retrosplenial area lateral agranular part        Isocortex    0.382511  \n",
       "Anteromedial visual area                         Isocortex    0.420279  \n",
       "Primary somatosensory area trunk                 Isocortex    0.337637  \n",
       "Subparaventricular zone                       Hypothalamus    0.025034  \n",
       "Nucleus of the lateral olfactory tract     Olfactory_areas   -0.080037  \n",
       "Primary somatosensory area lower limb            Isocortex    0.476070  \n",
       "Posterior parietal association areas             Isocortex    0.350922  \n",
       "Intercalated amygdalar nucleus                    Amygdala    0.321215  \n",
       "Temporal association areas                       Isocortex    0.145456  \n",
       "Anterior cingulate area ventral part             Isocortex    0.299615  \n",
       "Dorsal auditory area                             Isocortex    0.211795  \n",
       "Primary somatosensory area upper limb            Isocortex    0.301143  \n",
       "Central amygdalar nucleus                         Amygdala    0.246900  \n",
       "Primary somatosensory area mouth                 Isocortex    0.202049  \n",
       "Posterolateral visual area                       Isocortex    0.245970  \n",
       "Primary auditory area                            Isocortex   -0.177154  \n",
       "Ventral auditory area                            Isocortex   -0.145606  \n",
       "Basomedial amygdalar nucleus                      Amygdala    0.363831  \n",
       "Ansiform lobule                                 Cerebellum    0.174044  \n",
       "Retrosplenial area dorsal part                   Isocortex    0.195059  \n",
       "Ectorhinal area                                  Isocortex   -0.040346  \n",
       "Gustatory areas                                  Isocortex    0.362063  \n",
       "Orbital area medial part                         Isocortex    0.345293  \n",
       "Field CA1                                      Hippocampus    0.439351  \n",
       "Supplemental somatosensory area                  Isocortex    0.319234  "
      ]
     },
     "execution_count": 102,
     "metadata": {},
     "output_type": "execute_result"
    }
   ],
   "source": [
    "AggV2_ASD_DF.head(50)"
   ]
  },
  {
   "cell_type": "code",
   "execution_count": 94,
   "id": "5f7e770a",
   "metadata": {
    "hidden": true
   },
   "outputs": [
    {
     "data": {
      "text/plain": [
       "(0.5396765377098126, 2.018609160870983e-17)"
      ]
     },
     "execution_count": 94,
     "metadata": {},
     "output_type": "execute_result"
    }
   ],
   "source": [
    "pearsonr(AggV2_ASD_DF[\"EFFECT_perCell\"].values, AggV2_ASD_DF[\"EFFECT_ISH\"].values)"
   ]
  },
  {
   "cell_type": "code",
   "execution_count": 95,
   "id": "1d992c20",
   "metadata": {
    "hidden": true
   },
   "outputs": [
    {
     "data": {
      "text/plain": [
       "(0.6424638894944562, 4.521159825365131e-26)"
      ]
     },
     "execution_count": 95,
     "metadata": {},
     "output_type": "execute_result"
    }
   ],
   "source": [
    "pearsonr(AggV2_ASD_DF[\"EFFECT_perNeuro\"].values, AggV2_ASD_DF[\"EFFECT_ISH\"].values)"
   ]
  },
  {
   "cell_type": "code",
   "execution_count": 96,
   "id": "962eeeb7",
   "metadata": {
    "hidden": true
   },
   "outputs": [
    {
     "data": {
      "text/plain": [
       "(0.43068227228828526, 5.5190039693782916e-11)"
      ]
     },
     "execution_count": 96,
     "metadata": {},
     "output_type": "execute_result"
    }
   ],
   "source": [
    "pearsonr(AggV2_ASD_DF[\"EFFECT_perVol\"].values, AggV2_ASD_DF[\"EFFECT_ISH\"].values)"
   ]
  },
  {
   "cell_type": "code",
   "execution_count": 97,
   "id": "26c68318",
   "metadata": {
    "hidden": true
   },
   "outputs": [
    {
     "data": {
      "text/plain": [
       "19"
      ]
     },
     "execution_count": 97,
     "metadata": {},
     "output_type": "execute_result"
    }
   ],
   "source": [
    "Bias1 = ASD_ISH\n",
    "Bias2 = AggV2_ASD_DF.sort_values(\"EFFECT_perNeuro\", ascending=False).set_index(\"STR\")\n",
    "STR_Com = len(set(Bias1.head(50).index.values).intersection(set(Bias2.head(50).index.values)))\n",
    "STR_Com"
   ]
  },
  {
   "cell_type": "code",
   "execution_count": 98,
   "id": "403484d8",
   "metadata": {
    "hidden": true
   },
   "outputs": [
    {
     "data": {
      "text/plain": [
       "20"
      ]
     },
     "execution_count": 98,
     "metadata": {},
     "output_type": "execute_result"
    }
   ],
   "source": [
    "Bias1 = ASD_ISH\n",
    "Bias2 = AggV2_ASD_DF.sort_values(\"EFFECT_perVol\", ascending=False).set_index(\"STR\")\n",
    "STR_Com = len(set(Bias1.head(50).index.values).intersection(set(Bias2.head(50).index.values)))\n",
    "STR_Com"
   ]
  },
  {
   "cell_type": "code",
   "execution_count": 99,
   "id": "464030c8",
   "metadata": {
    "hidden": true
   },
   "outputs": [
    {
     "data": {
      "text/plain": [
       "19"
      ]
     },
     "execution_count": 99,
     "metadata": {},
     "output_type": "execute_result"
    }
   ],
   "source": [
    "Bias1 = ASD_ISH\n",
    "Bias2 = AggV2_ASD_DF.sort_values(\"EFFECT_perCell\", ascending=False).set_index(\"STR\")\n",
    "STR_Com = len(set(Bias1.head(50).index.values).intersection(set(Bias2.head(50).index.values)))\n",
    "STR_Com"
   ]
  },
  {
   "cell_type": "markdown",
   "id": "df52ba68",
   "metadata": {
    "heading_collapsed": true
   },
   "source": [
    "# Test on Combine MERFISH"
   ]
  },
  {
   "cell_type": "code",
   "execution_count": 104,
   "id": "02ed45b0",
   "metadata": {
    "hidden": true
   },
   "outputs": [
    {
     "name": "stdout",
     "output_type": "stream",
     "text": [
      "Anteromedial nucleus ventral part -0.1590840763908721 -0.03775876565100202 -0.15693046633489294\n",
      "Substantia innominata -0.0066013454303676285 0.24663218453075433 -0.005607119713628451\n",
      "Primary somatosensory area mouth 0.05837573729899435 0.2288753283334137 0.0569579003460996\n",
      "Ventral tegmental area -0.20941827965738058 -0.28341696856916937 -0.15854731193934926\n",
      "Posterolateral visual area 0.040653567675774806 0.24058715223251434 0.02966379074956846\n",
      "Midbrain reticular nucleus -0.20910867955464607 -0.15568461067243156 -0.17276322859129656\n",
      "Dorsal cochlear nucleus -0.17272939927749548 -0.03622462134415252 -0.2300910576201046\n",
      "Ectorhinal area 0.074471007132955 0.23403105699576832 0.05199632821339539\n",
      "Nucleus of the optic tract -0.1434266548908903 0.05892671095217791 -0.12194197298733957\n",
      "Posterior complex of the thalamus -0.16350466083804943 -0.12973170908120657 -0.08450534594469598\n",
      "Posterior parietal association areas 0.09990474721091883 0.2758007149623729 0.08568743246285379\n",
      "Lateral hypothalamic area -0.16334226998693208 -0.074644108914699 -0.16698903323911501\n",
      "Tegmental reticular nucleus -0.34900672949401257 -0.7124596021594661 -0.42513536076686614\n",
      "Medial vestibular nucleus -0.20443446246870936 -0.25113137449182704 -0.25683405481680915\n",
      "Lateral posterior nucleus of the thalamus -0.15803472361305382 -0.07517890655311107 -0.09372685838333722\n",
      "Posterior limiting nucleus of the thalamus -0.16073908347617097 0.003043028304068964 -0.10200192946271203\n",
      "Medial habenula -0.12362429009416818 -0.05736679676008831 -0.27052036182129685\n",
      "Dorsal premammillary nucleus -0.1074391795235019 -0.06736481427101612 -0.1040992277207518\n",
      "Superior olivary complex -0.24713774025279817 -0.41260896978820566 -0.2198449544513687\n",
      "Supplemental somatosensory area 0.04289980362758192 0.21213049768156872 0.04257602962191419\n",
      "Subparaventricular zone 0.01760259030188213 0.12925901415566132 0.033016924405358444\n",
      "Taenia tecta -0.030819330516515992 0.1415032794943895 -0.02209327731444528\n",
      "Lateral septal nucleus rostral rostroventral part -0.11406596309760962 -0.03394092619507098 -0.10102148169086683\n",
      "Hypoglossal nucleus -0.2235702886292741 -0.4147435773574479 -0.12118145292633366\n",
      "Anterior pretectal nucleus -0.1448767209922307 -0.007422445240211057 -0.10495417083473198\n",
      "Medial geniculate complex medial part -0.18858714490948433 -0.13910245784115635 -0.13433377786489176\n",
      "Medial septal nucleus -0.16387153319023443 -0.12335017581359597 -0.2419186032938345\n",
      "Pontine reticular nucleus caudal part -0.2381541432283193 -0.3180268403019746 -0.22189754031583112\n",
      "Dentate gyrus 0.15959912652842032 0.3703026614574911 0.25675008971204116\n",
      "Perirhinal area 0.0029348397851120286 0.20302879081504585 0.001803729629691588\n",
      "Submedial nucleus of the thalamus -0.14434778362448816 -0.04166792189432739 -0.10752952386630434\n",
      "Pontine gray -0.413167361103537 -0.7508083359085121 -0.638259629005408\n",
      "Lateral septal nucleus caudal caudodorsal part -0.09156905463540675 0.001766217775073543 -0.07166601608879655\n",
      "Supratrigeminal nucleus -0.1975350877749078 -0.1306093613876685 -0.1594890385116359\n",
      "Interposed nucleus -0.1520248191180129 0.08045576515047735 -0.1474149633325338\n",
      "Nucleus of reuniens -0.0834512231026719 -0.004336539293345312 -0.08895212150397787\n",
      "Dorsal part of the lateral geniculate complex -0.170436722650085 -0.14040643907469608 -0.15127100906096344\n",
      "Ventral posteromedial nucleus of the thalamus parvicellular part -0.1192309858999236 -0.0036998927909380453 -0.09050694095479618\n",
      "Pontine central gray -0.1344514000115925 -0.09969244704859917 -0.21646938135152466\n",
      "Culmen 0.15510424757243083 0.2512047266364793 0.17343612316526458\n",
      "Paragigantocellular reticular nucleus dorsal part -0.23413406259656683 -0.34294192342126867 -0.24508408695254646\n",
      "Cuneiform nucleus -0.14910020554979728 -0.004015436790235302 -0.15371629089393313\n",
      "Piriform amygdalar area 0.0072802914682454116 0.19666431261180795 0.003867997744690528\n",
      "Endopiriform nucleus ventral part 0.011340359642665216 0.2386727689566251 0.009298721372591322\n",
      "Anterior olfactory nucleus 0.1491903679036312 0.3706612456189847 0.1608303607361094\n",
      "Reticular nucleus of the thalamus -0.2519565238010759 -0.33820119885941397 -0.32107327306178446\n",
      "Principal sensory nucleus of the trigeminal -0.2714463766565575 -0.4138263903308589 -0.29179707528655074\n",
      "Medullary reticular nucleus dorsal part -0.20585335138636418 -0.16493043552047576 -0.04256154814288578\n",
      "Ventral anterior lateral complex of the thalamus -0.20432387562585486 -0.23836258026359788 -0.16442559791639075\n",
      "posteromedial visual area 0.11603170330073803 0.2935241852239147 0.10834644118449217\n",
      "Globus pallidus external segment -0.17632176883419257 -0.08230569346070339 -0.22888467975333546\n",
      "Medial preoptic area -0.13450585548354477 -0.10756913884967693 -0.14130221097005874\n",
      "Periventricular hypothalamic nucleus preoptic part -0.08430139290184499 0.09378019071704072 -0.19846638066672978\n",
      "Subparafascicular nucleus magnocellular part -0.06646390400285469 0.03523085283158413 -0.061935852547113215\n",
      "Spinal nucleus of the trigeminal interpolar part -0.22675338805254833 -0.26128871525029307 -0.08497796017931332\n",
      "Olfactory tubercle 0.28625525653182904 0.4381407107217599 0.2905459942579041\n",
      "Parvicellular reticular nucleus -0.22116425761787775 -0.2429379607056302 -0.15548624226170726\n",
      "Lateral preoptic area -0.13659284627683352 -0.0749024450448433 -0.1485754794262956\n",
      "Cortical amygdalar area posterior part 0.022781390469223197 0.15680640191042022 0.011734211658620111\n",
      "Midbrain reticular nucleus retrorubral area -0.2147236425431681 -0.22713306295710778 -0.23611247129608903\n",
      "Visceral area 0.04109878855392304 0.23266476177148734 0.03329275449645113\n",
      "Anterolateral visual area 0.09463226089147314 0.2713237442280309 0.09767457555243159\n",
      "Medial preoptic nucleus -0.037344459837539486 0.016654004786723523 -0.05134610540135098\n",
      "Bed nuclei of the stria terminalis -0.002472908805150794 0.17761012382701835 -0.002438228741009437\n",
      "Ventral posteromedial nucleus of the thalamus -0.19725808885371485 -0.21259422134988812 -0.15708348167506372\n",
      "Lateral septal nucleus ventral part -0.037148226607962194 0.04289294022466605 -0.04304950145252093\n",
      "Magnocellular nucleus -0.13032279482939987 -0.04789461416479023 -0.11888311258993066\n",
      "Parataenial nucleus -0.13366453145075377 -0.06195446701250615 -0.15229311873824752\n",
      "Spinal nucleus of the trigeminal caudal part -0.12898612400694517 -0.020439503017603153 -0.016283433248502156\n",
      "Nucleus of the posterior commissure -0.15352831485038998 -0.08862093358778066 -0.16078427494445552\n",
      "Superior colliculus motor related -0.1288306002902099 0.002740435418347411 -0.13566516338048643\n",
      "Claustrum 0.023263612284311053 0.19003815612254152 0.01663865010002964\n",
      "Nucleus ambiguus -0.23858331088658136 -0.18828931783147684 -0.12403142786528551\n",
      "Intermediate reticular nucleus -0.2371344597550367 -0.36918817493764566 -0.19024694945275833\n",
      "Paragigantocellular reticular nucleus lateral part -0.24707800745611785 -0.42121479103437076 -0.2016232288332359\n",
      "Substantia nigra reticular part -0.1641998903664542 -0.2506378270069299 -0.171755744767101\n",
      "Endopiriform nucleus dorsal part -0.0013145671430127594 0.17651260721489598 -0.0013600898442035494\n",
      "Supramammillary nucleus -0.14673592039055347 -0.11505438100734762 -0.14061697916683324\n",
      "Subparafascicular area -0.0691304931599051 0.042308147626450764 -0.047067614171513034\n",
      "Superior colliculus sensory related -0.0842315763267152 0.005162095805421568 -0.12110231854857456\n",
      "Frontal pole cerebral cortex 0.040950210441338356 0.21297406100764762 0.04645959805625639\n",
      "Inferior colliculus central nucleus -0.26355930576484937 -0.33400113260499814 -0.46225710185106866\n",
      "Retrochiasmatic area -0.08859852026883712 0.06366580808948313 -0.09859996302119638\n",
      "Retrosplenial area ventral part 0.07465276390646845 0.2599380555548135 0.13991320521267442\n",
      "Motor nucleus of trigeminal -0.23870632116012613 -0.533991222067217 -0.20226498103139015\n",
      "Ventral auditory area 0.06709403245264277 0.25885156832210493 0.04792320186767466\n",
      "Central lateral nucleus of the thalamus -0.1620043038388356 -0.13888917521532423 -0.09511024664607926\n",
      "Postsubiculum 0.08289916470387461 0.35585492510558786 0.10476329397254254\n",
      "Anterior cingulate area ventral part 0.03510786137896699 0.22728604100819455 0.04383730739734199\n",
      "Agranular insular area dorsal part 0.024744001261640027 0.20589654825884768 0.01837140700171542\n"
     ]
    },
    {
     "name": "stdout",
     "output_type": "stream",
     "text": [
      "Ventromedial hypothalamic nucleus -0.08405900322015208 -0.06553806255361505 -0.10462741612994357\n",
      "Agranular insular area ventral part -0.005193282189719694 0.18859947672848 -0.003741325709557521\n",
      "Periaqueductal gray -0.14934022883207182 -0.12269289858462247 -0.16633051662457668\n",
      "Posterior amygdalar nucleus 0.10879572143846382 0.28545250988437515 0.08663968680063626\n",
      "Caudoputamen 0.13934645584187613 0.3841543266839031 0.15806608968689592\n",
      "Temporal association areas 0.09188480837195181 0.2616304586371736 0.07352189769392208\n",
      "Diagonal band nucleus -0.13740285203198943 -0.07602300434042157 -0.1429492378951383\n",
      "Periventricular hypothalamic nucleus posterior part -0.05523476572001471 0.04935070999860009 -0.03157336597621227\n",
      "Lateral visual area 0.11573602827787823 0.2974520740836246 0.11437396579225448\n",
      "Anterodorsal nucleus -0.2937416543698809 -0.49425706946799053 -0.439936077556589\n",
      "Prelimbic area 0.02877365575671073 0.21452257181049336 0.028675793731479413\n",
      "Rhomboid nucleus -0.12205371524285255 -0.04775161786125354 -0.09285847301648209\n",
      "Nucleus of the solitary tract -0.17335498030047863 -0.17499407433633982 -0.11920825185006782\n",
      "Primary visual area 0.16122873107717467 0.33976857621022544 0.18318053917081242\n",
      "Globus pallidus internal segment -0.2297950053164223 -0.24661274065444633 -0.21732922656454956\n",
      "Nucleus incertus -0.14957047948224186 -0.061730633279537594 -0.30942280657926596\n",
      "Magnocellular reticular nucleus -0.23948456548438551 -0.3563298960756321 -0.2923664820166115\n",
      "Lateral amygdalar nucleus 0.1554154501271105 0.4024453986898388 0.15998605758971993\n",
      "Dorsal auditory area 0.06668624143613353 0.23455884642382496 0.06212864069209576\n",
      "Postpiriform transition area -0.03592611512299519 0.14365101423158463 -0.019194224479867114\n",
      "Paramedian lobule 0.1804140443372628 0.25662940632133996 0.12835674332162625\n",
      "Nucleus of the lateral olfactory tract 0.0648087507149354 0.23448099139592574 0.06221623840074711\n",
      "Lateral vestibular nucleus -0.23484051916439358 -0.22385695177247716 -0.21290042406319734\n",
      "Basomedial amygdalar nucleus 0.06376335558324174 0.25867124360164717 0.04541866340928652\n",
      "Dorsomedial nucleus of the hypothalamus 0.0011351007042647776 0.10120542496971865 0.0013492190511308123\n",
      "Primary motor area 0.020579093312162986 0.18560235890416868 0.017827196008488828\n",
      "Median preoptic nucleus -0.04846202854109323 0.08122683943082197 -0.07932557577888832\n",
      "Red nucleus -0.23247044393669256 -0.3508986851317521 -0.19317303945709632\n",
      "Intercalated amygdalar nucleus 0.0863591592410419 0.2669298156350109 0.08422563228189228\n",
      "Primary somatosensory area barrel field 0.08759340293399756 0.2564130260282898 0.09582117420476047\n",
      "Dentate nucleus -0.14875902291537793 -0.0004475983412643568 -0.22168373486302828\n",
      "Central amygdalar nucleus 0.0680862380973972 0.245926081644256 0.06645258196689016\n",
      "Posterior hypothalamic nucleus -0.11074365262312201 -0.018077724098087628 -0.09973152559616143\n",
      "Medial pretectal area -0.07159189815007147 0.11863490260809606 -0.08174830792691087\n",
      "Field CA1 0.04668986440402325 0.2226630387927368 0.04185410109171457\n",
      "Main olfactory bulb 0.21633436444374696 0.3488313635008099 0.44615390336977484\n",
      "Field CA3 -0.09192591946672311 0.014153579313168135 -0.07923172976596271\n",
      "Inferior colliculus dorsal nucleus -0.17246651685938846 -0.17242103139299986 -0.2514818058090844\n",
      "Secondary motor area 0.018869274340261644 0.1929869477963259 0.017172601911006457\n",
      "Primary somatosensory area nose 0.07603999145226713 0.2493169247918851 0.09734825541627172\n",
      "Nucleus accumbens 0.24728876907476116 0.4082222347930639 0.30668336738971125\n",
      "Triangular nucleus of septum -0.16297373843197585 -0.11138886797081603 -0.2846372865968048\n",
      "Dorsal nucleus raphe -0.24466081048420435 -0.3526189551707805 -0.2813186463851812\n",
      "Paraventricular hypothalamic nucleus -0.05380666772341385 0.021443197361006403 -0.0976644469512137\n",
      "Medial amygdalar nucleus 0.10571297374609652 0.3131856924609736 0.08743310714144203\n",
      "Orbital area lateral part 0.001203885704390236 0.1824017270537478 0.001071753780345969\n",
      "Accessory olfactory bulb 0.18956776384987753 0.3658275711504258 0.34690361182529983\n",
      "Retrosplenial area lateral agranular part 0.09409640900162133 0.2824174407341465 0.08361387572691338\n",
      "Lateral habenula -0.18804817703938026 -0.20861775751544392 -0.25459095325535297\n",
      "Septofimbrial nucleus -0.18173836912811356 -0.10631034120221618 -0.21330542656050805\n",
      "Pontine reticular nucleus -0.2310297582642049 -0.25849651112677124 -0.21153942650327084\n",
      "Spinal vestibular nucleus -0.222013598218471 -0.25129137710763805 -0.16523588176048248\n",
      "Infralimbic area 0.0565166548714356 0.23305226486058075 0.06304157129379319\n",
      "Orbital area medial part 0.039397544252621874 0.22407093165941833 0.03955886536752896\n",
      "Piriform area -0.009323936928859824 0.1454722804164605 -0.007574863339247589\n",
      "Fundus of striatum 0.06353675156363273 0.3130238820773238 0.06291868631601277\n",
      "Lateral dorsal nucleus of thalamus -0.17775919939920823 -0.19644498854895642 -0.15838567738976994\n",
      "Inferior olivary complex -0.23437388993014094 -0.25455445601984567 -0.2635205238917674\n",
      "Inferior colliculus external nucleus -0.19005255130141024 -0.17240156466121112 -0.23727158818793334\n",
      "Nucleus raphe magnus -0.23744792093565417 -0.3392449528339319 -0.4095820276119578\n",
      "Field CA2 -0.05619182496709407 0.09923707366441666 -0.04406275939259872\n",
      "Orbital area ventrolateral part 0.04109831680415004 0.20622820475219977 0.037020696946645316\n",
      "Central lobule 0.16104164185948258 0.25738410058230077 0.28987274465732743\n",
      "Gigantocellular reticular nucleus -0.24592856308477049 -0.4356969029028042 -0.26432300737761727\n",
      "Substantia nigra compact part -0.19747359083986732 -0.3243500193445524 -0.1813258560549414\n",
      "Central linear nucleus raphe -0.23468507969741698 -0.2678697220151205 -0.29456961527856995\n",
      "Entorhinal area lateral part 0.017281709612802638 0.20188623040079576 0.014935277085661005\n",
      "Paraflocculus 0.13661519211477144 0.2429449768922274 0.11636449379852354\n",
      "Ansiform lobule 0.17539260723672237 0.25753886224827827 0.17783331922515316\n",
      "Paraventricular nucleus of the thalamus -0.09483291389789825 -0.07853059978504177 -0.12673291019553362\n",
      "Gustatory areas 0.05898773372621751 0.23164082920416829 0.04649796475115539\n",
      "Subparafascicular nucleus parvicellular part -0.1141216417531245 0.12801983610143297 -0.08695433353756504\n",
      "Presubiculum 0.1664960706268115 0.4112375659005328 0.29216592218775045\n",
      "Central medial nucleus of the thalamus -0.14524304085908973 -0.13721209675705276 -0.1241930717607475\n",
      "Retrosplenial area dorsal part 0.0602191914922025 0.24317537016491375 0.06444019292850153\n",
      "Flocculus 0.05849169929663888 0.20904050563673993 0.0970410404957002\n",
      "Peripeduncular nucleus -0.12057803186295728 0.03603082135518406 -0.1325206682780114\n",
      "Anteromedial visual area 0.07940510473720666 0.25803130136132185 0.06474173332574139\n",
      "Lateral reticular nucleus -0.22094893971471202 -0.24266196001053023 -0.12421576628851756\n",
      "Simple lobule 0.16678145142028888 0.254076746760845 0.2372311464988221\n",
      "Ventral part of the lateral geniculate complex -0.18740983600411823 -0.0834523273436977 -0.21039276264196424\n",
      "Subiculum 0.02695212644357755 0.23925539634455054 0.035060476792229726\n",
      "Arcuate hypothalamic nucleus -0.05098155198432511 0.07319221131569476 -0.07713362671070892\n",
      "Agranular insular area posterior part 0.020215566752394963 0.19879797106466968 0.014603942783865884\n",
      "Medial mammillary nucleus -0.167788308954086 -0.18095474058172314 -0.2328253209582169\n",
      "Primary somatosensory area trunk 0.07731524213104733 0.2402775277516455 0.07061362217550912\n",
      "Dorsal peduncular area -0.041217609953749054 0.1786500550249051 -0.03989301486449202\n",
      "Nucleus prepositus -0.20897292937496173 -0.31290222592650757 -0.28232641971711325\n",
      "Pedunculopontine nucleus -0.20038180756598087 -0.14008922936021487 -0.17521615198948945\n",
      "Interpeduncular nucleus -0.06038205299234134 0.06953315307058681 -0.08779052305350102\n",
      "Anterior hypothalamic nucleus -0.09248088322411496 -0.030499882682470284 -0.12574695166457903\n",
      "Ventral medial nucleus of the thalamus -0.19747297015808224 -0.21097837961935562 -0.15360166425354904\n",
      "Tuberal nucleus -0.03244058693731295 0.16587706872503974 -0.028595453303203136\n",
      "Parabrachial nucleus -0.15038753715947242 -0.05495492001329333 -0.155339745728636\n",
      "Basolateral amygdalar nucleus 0.032207576227235794 0.20422218178787122 0.02279280049507741\n"
     ]
    },
    {
     "name": "stdout",
     "output_type": "stream",
     "text": [
      "Entorhinal area medial part dorsal zone 0.008482611939711424 0.17338121649431715 0.007908462087969978\n",
      "Medial geniculate complex ventral part -0.15840444441946688 -0.0889378017595348 -0.14422595050129436\n",
      "Superior central nucleus raphe -0.1570679561838832 -0.04139625664334639 -0.18007997343255341\n",
      "Pyramus VIII 0.20469375565333253 0.27609144049427076 0.16821385252300675\n",
      "Anteroventral nucleus of thalamus -0.20576193554504343 -0.2286029533612341 -0.19531352819635914\n",
      "Superior vestibular nucleus -0.23005844834043615 -0.23654821062465284 -0.22830614985691894\n",
      "Facial motor nucleus -0.22719505081128227 -0.45342002789398844 -0.2505866027469247\n",
      "Ventral posterolateral nucleus of the thalamus -0.21514264153339174 -0.22718870966745094 -0.17384886744271044\n",
      "Spinal nucleus of the trigeminal oral part -0.22929045423235533 -0.21652529547180863 -0.15020311679141116\n",
      "Parasubiculum -0.028762386166813456 0.11698026258680647 -0.02879395808358998\n",
      "Mediodorsal nucleus of thalamus -0.16290172357862293 -0.17021982982324063 -0.1111140505344036\n",
      "Primary somatosensory area lower limb 0.05485061806704534 0.2197501971141381 0.0574058390135756\n",
      "Subthalamic nucleus -0.23381322547329253 -0.28624072631733294 -0.2608471287268849\n",
      "Intermediodorsal nucleus of the thalamus -0.11783906415776743 -0.10743093601065012 -0.08490077124002178\n",
      "Medullary reticular nucleus ventral part -0.24903613288514406 -0.40712879670117685 -0.07887271980048864\n",
      "Anterior amygdalar area -0.04136470559115155 0.14332734455208718 -0.03925869260547425\n",
      "Medial geniculate complex dorsal part -0.1467039369596483 -0.058773772284315955 -0.13586366107014633\n",
      "Ventral cochlear nucleus -0.17418609443418476 -0.09316878340115078 -0.22322021489384028\n",
      "Cortical amygdalar area anterior part 0.03016600871583228 0.2547093678359544 0.022105399128811945\n",
      "Primary auditory area 0.06964990125863631 0.2608101971331621 0.06402033784901615\n",
      "Nodulus X 0.12456908688946566 0.24321206411718085 0.17489388342151221\n",
      "Anteromedial nucleus dorsal part -0.15073279913266285 0.0021636264667293415 -0.12736418610955752\n",
      "Fastigial nucleus -0.13012745309081453 0.1824124858174488 -0.1288480446251741\n",
      "Primary somatosensory area upper limb 0.04946849937630999 0.21687655440283782 0.05276824362261905\n",
      "Parafascicular nucleus -0.15936893778876163 -0.13430837189866343 -0.13792469708258362\n",
      "Anterior cingulate area dorsal part 0.004984841867482767 0.19164656221504717 0.005211795927854336\n",
      "Nucleus of the lateral lemniscus -0.2321811181418326 -0.30596423394740446 -0.19715621678562983\n"
     ]
    }
   ],
   "source": [
    "bias_dat_percell = []\n",
    "bias_dat_perneuro = []\n",
    "bias_dat_pervol = []\n",
    "for STR in STRs:\n",
    "    bias_percell, bias_per_neuro, bias_per_vol = GetBiasesForSTR(STR, MERFISH_Combine, ASD_ClusterV3_Bias,\n",
    "                                                                 CT_ID_SET, Non_Neuron_Class)\n",
    "    bias_dat_percell.append(bias_percell)\n",
    "    bias_dat_perneuro.append(bias_per_neuro)\n",
    "    bias_dat_pervol.append(bias_per_vol)\n",
    "    print(STR, bias_percell, bias_per_neuro, bias_per_vol)"
   ]
  },
  {
   "cell_type": "code",
   "execution_count": 136,
   "id": "e67fdc07",
   "metadata": {
    "hidden": true
   },
   "outputs": [],
   "source": [
    "AggV2_ASD_DF_MERFISH_CB = pd.DataFrame(data={\"STR2\":STRs, \"EFFECT_perCell\":bias_dat_percell, \"EFFECT_perNeuro\":bias_dat_perneuro,\n",
    "                                 \"EFFECT_perVol\":bias_dat_pervol, })\n",
    "AggV2_ASD_DF_MERFISH_CB = AggV2_ASD_DF_MERFISH_CB.set_index(\"STR2\")"
   ]
  },
  {
   "cell_type": "code",
   "execution_count": 137,
   "id": "bece2282",
   "metadata": {
    "hidden": true
   },
   "outputs": [],
   "source": [
    "AggV2_ASD_DF_MERFISH_CB = AggV2_ASD_DF_MERFISH_CB.sort_values(\"EFFECT_perVol\", ascending=False)"
   ]
  },
  {
   "cell_type": "code",
   "execution_count": 138,
   "id": "987c2a23",
   "metadata": {
    "hidden": true
   },
   "outputs": [],
   "source": [
    "for i, row in AggV2_ASD_DF_MERFISH_CB.iterrows():\n",
    "    \n",
    "    STR = \"_\".join(i.split())\n",
    "    if STR not in ASD_MERFISH_adj.index.values:\n",
    "        AggV2_ASD_DF_MERFISH_CB.loc[i, \"STR\"] = \"\"\n",
    "        AggV2_ASD_DF_MERFISH_CB.loc[i, \"REGION\"] = \"\"\n",
    "    else:\n",
    "        REG = ASD_MERFISH_adj.loc[STR, \"REGION\"]\n",
    "        AggV2_ASD_DF_MERFISH_CB.loc[i, \"STR\"] = STR\n",
    "        AggV2_ASD_DF_MERFISH_CB.loc[i, \"REGION\"] = REG\n",
    "    \n",
    "    \n",
    "    AggV2_ASD_DF_MERFISH_CB.loc[i, \"EFFECT_ISH\"] = ASD_ISH.loc[STR, \"EFFECT\"]"
   ]
  },
  {
   "cell_type": "code",
   "execution_count": 139,
   "id": "d425b2e6",
   "metadata": {
    "hidden": true
   },
   "outputs": [
    {
     "data": {
      "text/html": [
       "<div>\n",
       "<style scoped>\n",
       "    .dataframe tbody tr th:only-of-type {\n",
       "        vertical-align: middle;\n",
       "    }\n",
       "\n",
       "    .dataframe tbody tr th {\n",
       "        vertical-align: top;\n",
       "    }\n",
       "\n",
       "    .dataframe thead th {\n",
       "        text-align: right;\n",
       "    }\n",
       "</style>\n",
       "<table border=\"1\" class=\"dataframe\">\n",
       "  <thead>\n",
       "    <tr style=\"text-align: right;\">\n",
       "      <th></th>\n",
       "      <th>EFFECT_perCell</th>\n",
       "      <th>EFFECT_perNeuro</th>\n",
       "      <th>EFFECT_perVol</th>\n",
       "      <th>STR</th>\n",
       "      <th>REGION</th>\n",
       "      <th>EFFECT_ISH</th>\n",
       "    </tr>\n",
       "    <tr>\n",
       "      <th>STR2</th>\n",
       "      <th></th>\n",
       "      <th></th>\n",
       "      <th></th>\n",
       "      <th></th>\n",
       "      <th></th>\n",
       "      <th></th>\n",
       "    </tr>\n",
       "  </thead>\n",
       "  <tbody>\n",
       "    <tr>\n",
       "      <th>Main olfactory bulb</th>\n",
       "      <td>0.216334</td>\n",
       "      <td>0.348831</td>\n",
       "      <td>0.446154</td>\n",
       "      <td>Main_olfactory_bulb</td>\n",
       "      <td>Olfactory_areas</td>\n",
       "      <td>0.001685</td>\n",
       "    </tr>\n",
       "    <tr>\n",
       "      <th>Accessory olfactory bulb</th>\n",
       "      <td>0.189568</td>\n",
       "      <td>0.365828</td>\n",
       "      <td>0.346904</td>\n",
       "      <td>Accessory_olfactory_bulb</td>\n",
       "      <td>Olfactory_areas</td>\n",
       "      <td>0.283606</td>\n",
       "    </tr>\n",
       "    <tr>\n",
       "      <th>Nucleus accumbens</th>\n",
       "      <td>0.247289</td>\n",
       "      <td>0.408222</td>\n",
       "      <td>0.306683</td>\n",
       "      <td>Nucleus_accumbens</td>\n",
       "      <td>Striatum</td>\n",
       "      <td>0.553718</td>\n",
       "    </tr>\n",
       "    <tr>\n",
       "      <th>Presubiculum</th>\n",
       "      <td>0.166496</td>\n",
       "      <td>0.411238</td>\n",
       "      <td>0.292166</td>\n",
       "      <td>Presubiculum</td>\n",
       "      <td>Hippocampus</td>\n",
       "      <td>0.189091</td>\n",
       "    </tr>\n",
       "    <tr>\n",
       "      <th>Olfactory tubercle</th>\n",
       "      <td>0.286255</td>\n",
       "      <td>0.438141</td>\n",
       "      <td>0.290546</td>\n",
       "      <td>Olfactory_tubercle</td>\n",
       "      <td>Striatum</td>\n",
       "      <td>0.193269</td>\n",
       "    </tr>\n",
       "    <tr>\n",
       "      <th>Central lobule</th>\n",
       "      <td>0.161042</td>\n",
       "      <td>0.257384</td>\n",
       "      <td>0.289873</td>\n",
       "      <td>Central_lobule</td>\n",
       "      <td>Cerebellum</td>\n",
       "      <td>-0.113617</td>\n",
       "    </tr>\n",
       "    <tr>\n",
       "      <th>Dentate gyrus</th>\n",
       "      <td>0.159599</td>\n",
       "      <td>0.370303</td>\n",
       "      <td>0.256750</td>\n",
       "      <td>Dentate_gyrus</td>\n",
       "      <td>Hippocampus</td>\n",
       "      <td>0.498752</td>\n",
       "    </tr>\n",
       "    <tr>\n",
       "      <th>Simple lobule</th>\n",
       "      <td>0.166781</td>\n",
       "      <td>0.254077</td>\n",
       "      <td>0.237231</td>\n",
       "      <td>Simple_lobule</td>\n",
       "      <td>Cerebellum</td>\n",
       "      <td>0.199035</td>\n",
       "    </tr>\n",
       "    <tr>\n",
       "      <th>Primary visual area</th>\n",
       "      <td>0.161229</td>\n",
       "      <td>0.339769</td>\n",
       "      <td>0.183181</td>\n",
       "      <td>Primary_visual_area</td>\n",
       "      <td>Isocortex</td>\n",
       "      <td>0.394758</td>\n",
       "    </tr>\n",
       "    <tr>\n",
       "      <th>Ansiform lobule</th>\n",
       "      <td>0.175393</td>\n",
       "      <td>0.257539</td>\n",
       "      <td>0.177833</td>\n",
       "      <td>Ansiform_lobule</td>\n",
       "      <td>Cerebellum</td>\n",
       "      <td>0.174044</td>\n",
       "    </tr>\n",
       "    <tr>\n",
       "      <th>Nodulus X</th>\n",
       "      <td>0.124569</td>\n",
       "      <td>0.243212</td>\n",
       "      <td>0.174894</td>\n",
       "      <td>Nodulus_X</td>\n",
       "      <td>Cerebellum</td>\n",
       "      <td>-0.501049</td>\n",
       "    </tr>\n",
       "    <tr>\n",
       "      <th>Culmen</th>\n",
       "      <td>0.155104</td>\n",
       "      <td>0.251205</td>\n",
       "      <td>0.173436</td>\n",
       "      <td>Culmen</td>\n",
       "      <td>Cerebellum</td>\n",
       "      <td>0.079325</td>\n",
       "    </tr>\n",
       "    <tr>\n",
       "      <th>Pyramus VIII</th>\n",
       "      <td>0.204694</td>\n",
       "      <td>0.276091</td>\n",
       "      <td>0.168214</td>\n",
       "      <td>Pyramus_VIII</td>\n",
       "      <td>Cerebellum</td>\n",
       "      <td>-0.037290</td>\n",
       "    </tr>\n",
       "    <tr>\n",
       "      <th>Anterior olfactory nucleus</th>\n",
       "      <td>0.149190</td>\n",
       "      <td>0.370661</td>\n",
       "      <td>0.160830</td>\n",
       "      <td>Anterior_olfactory_nucleus</td>\n",
       "      <td>Olfactory_areas</td>\n",
       "      <td>0.485098</td>\n",
       "    </tr>\n",
       "    <tr>\n",
       "      <th>Lateral amygdalar nucleus</th>\n",
       "      <td>0.155415</td>\n",
       "      <td>0.402445</td>\n",
       "      <td>0.159986</td>\n",
       "      <td>Lateral_amygdalar_nucleus</td>\n",
       "      <td>Amygdala</td>\n",
       "      <td>0.446470</td>\n",
       "    </tr>\n",
       "    <tr>\n",
       "      <th>Caudoputamen</th>\n",
       "      <td>0.139346</td>\n",
       "      <td>0.384154</td>\n",
       "      <td>0.158066</td>\n",
       "      <td>Caudoputamen</td>\n",
       "      <td>Striatum</td>\n",
       "      <td>0.461481</td>\n",
       "    </tr>\n",
       "    <tr>\n",
       "      <th>Retrosplenial area ventral part</th>\n",
       "      <td>0.074653</td>\n",
       "      <td>0.259938</td>\n",
       "      <td>0.139913</td>\n",
       "      <td>Retrosplenial_area_ventral_part</td>\n",
       "      <td>Isocortex</td>\n",
       "      <td>0.001033</td>\n",
       "    </tr>\n",
       "    <tr>\n",
       "      <th>Paramedian lobule</th>\n",
       "      <td>0.180414</td>\n",
       "      <td>0.256629</td>\n",
       "      <td>0.128357</td>\n",
       "      <td>Paramedian_lobule</td>\n",
       "      <td>Cerebellum</td>\n",
       "      <td>0.141488</td>\n",
       "    </tr>\n",
       "    <tr>\n",
       "      <th>Paraflocculus</th>\n",
       "      <td>0.136615</td>\n",
       "      <td>0.242945</td>\n",
       "      <td>0.116364</td>\n",
       "      <td>Paraflocculus</td>\n",
       "      <td>Cerebellum</td>\n",
       "      <td>-0.070510</td>\n",
       "    </tr>\n",
       "    <tr>\n",
       "      <th>Lateral visual area</th>\n",
       "      <td>0.115736</td>\n",
       "      <td>0.297452</td>\n",
       "      <td>0.114374</td>\n",
       "      <td>Lateral_visual_area</td>\n",
       "      <td>Isocortex</td>\n",
       "      <td>0.302997</td>\n",
       "    </tr>\n",
       "    <tr>\n",
       "      <th>posteromedial visual area</th>\n",
       "      <td>0.116032</td>\n",
       "      <td>0.293524</td>\n",
       "      <td>0.108346</td>\n",
       "      <td>posteromedial_visual_area</td>\n",
       "      <td>Isocortex</td>\n",
       "      <td>0.297550</td>\n",
       "    </tr>\n",
       "    <tr>\n",
       "      <th>Postsubiculum</th>\n",
       "      <td>0.082899</td>\n",
       "      <td>0.355855</td>\n",
       "      <td>0.104763</td>\n",
       "      <td>Postsubiculum</td>\n",
       "      <td>Hippocampus</td>\n",
       "      <td>0.132878</td>\n",
       "    </tr>\n",
       "    <tr>\n",
       "      <th>Anterolateral visual area</th>\n",
       "      <td>0.094632</td>\n",
       "      <td>0.271324</td>\n",
       "      <td>0.097675</td>\n",
       "      <td>Anterolateral_visual_area</td>\n",
       "      <td>Isocortex</td>\n",
       "      <td>0.228133</td>\n",
       "    </tr>\n",
       "    <tr>\n",
       "      <th>Primary somatosensory area nose</th>\n",
       "      <td>0.076040</td>\n",
       "      <td>0.249317</td>\n",
       "      <td>0.097348</td>\n",
       "      <td>Primary_somatosensory_area_nose</td>\n",
       "      <td>Isocortex</td>\n",
       "      <td>0.246733</td>\n",
       "    </tr>\n",
       "    <tr>\n",
       "      <th>Flocculus</th>\n",
       "      <td>0.058492</td>\n",
       "      <td>0.209041</td>\n",
       "      <td>0.097041</td>\n",
       "      <td>Flocculus</td>\n",
       "      <td>Cerebellum</td>\n",
       "      <td>-0.168618</td>\n",
       "    </tr>\n",
       "    <tr>\n",
       "      <th>Primary somatosensory area barrel field</th>\n",
       "      <td>0.087593</td>\n",
       "      <td>0.256413</td>\n",
       "      <td>0.095821</td>\n",
       "      <td>Primary_somatosensory_area_barrel_field</td>\n",
       "      <td>Isocortex</td>\n",
       "      <td>0.236207</td>\n",
       "    </tr>\n",
       "    <tr>\n",
       "      <th>Medial amygdalar nucleus</th>\n",
       "      <td>0.105713</td>\n",
       "      <td>0.313186</td>\n",
       "      <td>0.087433</td>\n",
       "      <td>Medial_amygdalar_nucleus</td>\n",
       "      <td>Amygdala</td>\n",
       "      <td>-0.036695</td>\n",
       "    </tr>\n",
       "    <tr>\n",
       "      <th>Posterior amygdalar nucleus</th>\n",
       "      <td>0.108796</td>\n",
       "      <td>0.285453</td>\n",
       "      <td>0.086640</td>\n",
       "      <td>Posterior_amygdalar_nucleus</td>\n",
       "      <td>Amygdala</td>\n",
       "      <td>0.157249</td>\n",
       "    </tr>\n",
       "    <tr>\n",
       "      <th>Posterior parietal association areas</th>\n",
       "      <td>0.099905</td>\n",
       "      <td>0.275801</td>\n",
       "      <td>0.085687</td>\n",
       "      <td>Posterior_parietal_association_areas</td>\n",
       "      <td>Isocortex</td>\n",
       "      <td>0.350922</td>\n",
       "    </tr>\n",
       "    <tr>\n",
       "      <th>Intercalated amygdalar nucleus</th>\n",
       "      <td>0.086359</td>\n",
       "      <td>0.266930</td>\n",
       "      <td>0.084226</td>\n",
       "      <td>Intercalated_amygdalar_nucleus</td>\n",
       "      <td>Amygdala</td>\n",
       "      <td>0.321215</td>\n",
       "    </tr>\n",
       "    <tr>\n",
       "      <th>Retrosplenial area lateral agranular part</th>\n",
       "      <td>0.094096</td>\n",
       "      <td>0.282417</td>\n",
       "      <td>0.083614</td>\n",
       "      <td>Retrosplenial_area_lateral_agranular_part</td>\n",
       "      <td>Isocortex</td>\n",
       "      <td>0.382511</td>\n",
       "    </tr>\n",
       "    <tr>\n",
       "      <th>Temporal association areas</th>\n",
       "      <td>0.091885</td>\n",
       "      <td>0.261630</td>\n",
       "      <td>0.073522</td>\n",
       "      <td>Temporal_association_areas</td>\n",
       "      <td>Isocortex</td>\n",
       "      <td>0.145456</td>\n",
       "    </tr>\n",
       "    <tr>\n",
       "      <th>Primary somatosensory area trunk</th>\n",
       "      <td>0.077315</td>\n",
       "      <td>0.240278</td>\n",
       "      <td>0.070614</td>\n",
       "      <td>Primary_somatosensory_area_trunk</td>\n",
       "      <td>Isocortex</td>\n",
       "      <td>0.337637</td>\n",
       "    </tr>\n",
       "    <tr>\n",
       "      <th>Central amygdalar nucleus</th>\n",
       "      <td>0.068086</td>\n",
       "      <td>0.245926</td>\n",
       "      <td>0.066453</td>\n",
       "      <td>Central_amygdalar_nucleus</td>\n",
       "      <td>Amygdala</td>\n",
       "      <td>0.246900</td>\n",
       "    </tr>\n",
       "    <tr>\n",
       "      <th>Anteromedial visual area</th>\n",
       "      <td>0.079405</td>\n",
       "      <td>0.258031</td>\n",
       "      <td>0.064742</td>\n",
       "      <td>Anteromedial_visual_area</td>\n",
       "      <td>Isocortex</td>\n",
       "      <td>0.420279</td>\n",
       "    </tr>\n",
       "    <tr>\n",
       "      <th>Retrosplenial area dorsal part</th>\n",
       "      <td>0.060219</td>\n",
       "      <td>0.243175</td>\n",
       "      <td>0.064440</td>\n",
       "      <td>Retrosplenial_area_dorsal_part</td>\n",
       "      <td>Isocortex</td>\n",
       "      <td>0.195059</td>\n",
       "    </tr>\n",
       "    <tr>\n",
       "      <th>Primary auditory area</th>\n",
       "      <td>0.069650</td>\n",
       "      <td>0.260810</td>\n",
       "      <td>0.064020</td>\n",
       "      <td>Primary_auditory_area</td>\n",
       "      <td>Isocortex</td>\n",
       "      <td>-0.177154</td>\n",
       "    </tr>\n",
       "    <tr>\n",
       "      <th>Infralimbic area</th>\n",
       "      <td>0.056517</td>\n",
       "      <td>0.233052</td>\n",
       "      <td>0.063042</td>\n",
       "      <td>Infralimbic_area</td>\n",
       "      <td>Isocortex</td>\n",
       "      <td>0.479460</td>\n",
       "    </tr>\n",
       "    <tr>\n",
       "      <th>Fundus of striatum</th>\n",
       "      <td>0.063537</td>\n",
       "      <td>0.313024</td>\n",
       "      <td>0.062919</td>\n",
       "      <td>Fundus_of_striatum</td>\n",
       "      <td>Striatum</td>\n",
       "      <td>0.246266</td>\n",
       "    </tr>\n",
       "    <tr>\n",
       "      <th>Nucleus of the lateral olfactory tract</th>\n",
       "      <td>0.064809</td>\n",
       "      <td>0.234481</td>\n",
       "      <td>0.062216</td>\n",
       "      <td>Nucleus_of_the_lateral_olfactory_tract</td>\n",
       "      <td>Olfactory_areas</td>\n",
       "      <td>-0.080037</td>\n",
       "    </tr>\n",
       "    <tr>\n",
       "      <th>Dorsal auditory area</th>\n",
       "      <td>0.066686</td>\n",
       "      <td>0.234559</td>\n",
       "      <td>0.062129</td>\n",
       "      <td>Dorsal_auditory_area</td>\n",
       "      <td>Isocortex</td>\n",
       "      <td>0.211795</td>\n",
       "    </tr>\n",
       "    <tr>\n",
       "      <th>Primary somatosensory area lower limb</th>\n",
       "      <td>0.054851</td>\n",
       "      <td>0.219750</td>\n",
       "      <td>0.057406</td>\n",
       "      <td>Primary_somatosensory_area_lower_limb</td>\n",
       "      <td>Isocortex</td>\n",
       "      <td>0.476070</td>\n",
       "    </tr>\n",
       "    <tr>\n",
       "      <th>Primary somatosensory area mouth</th>\n",
       "      <td>0.058376</td>\n",
       "      <td>0.228875</td>\n",
       "      <td>0.056958</td>\n",
       "      <td>Primary_somatosensory_area_mouth</td>\n",
       "      <td>Isocortex</td>\n",
       "      <td>0.202049</td>\n",
       "    </tr>\n",
       "    <tr>\n",
       "      <th>Primary somatosensory area upper limb</th>\n",
       "      <td>0.049468</td>\n",
       "      <td>0.216877</td>\n",
       "      <td>0.052768</td>\n",
       "      <td>Primary_somatosensory_area_upper_limb</td>\n",
       "      <td>Isocortex</td>\n",
       "      <td>0.301143</td>\n",
       "    </tr>\n",
       "    <tr>\n",
       "      <th>Ectorhinal area</th>\n",
       "      <td>0.074471</td>\n",
       "      <td>0.234031</td>\n",
       "      <td>0.051996</td>\n",
       "      <td>Ectorhinal_area</td>\n",
       "      <td>Isocortex</td>\n",
       "      <td>-0.040346</td>\n",
       "    </tr>\n",
       "    <tr>\n",
       "      <th>Ventral auditory area</th>\n",
       "      <td>0.067094</td>\n",
       "      <td>0.258852</td>\n",
       "      <td>0.047923</td>\n",
       "      <td>Ventral_auditory_area</td>\n",
       "      <td>Isocortex</td>\n",
       "      <td>-0.145606</td>\n",
       "    </tr>\n",
       "    <tr>\n",
       "      <th>Gustatory areas</th>\n",
       "      <td>0.058988</td>\n",
       "      <td>0.231641</td>\n",
       "      <td>0.046498</td>\n",
       "      <td>Gustatory_areas</td>\n",
       "      <td>Isocortex</td>\n",
       "      <td>0.362063</td>\n",
       "    </tr>\n",
       "    <tr>\n",
       "      <th>Frontal pole cerebral cortex</th>\n",
       "      <td>0.040950</td>\n",
       "      <td>0.212974</td>\n",
       "      <td>0.046460</td>\n",
       "      <td>Frontal_pole_cerebral_cortex</td>\n",
       "      <td>Isocortex</td>\n",
       "      <td>0.247194</td>\n",
       "    </tr>\n",
       "    <tr>\n",
       "      <th>Basomedial amygdalar nucleus</th>\n",
       "      <td>0.063763</td>\n",
       "      <td>0.258671</td>\n",
       "      <td>0.045419</td>\n",
       "      <td>Basomedial_amygdalar_nucleus</td>\n",
       "      <td>Amygdala</td>\n",
       "      <td>0.363831</td>\n",
       "    </tr>\n",
       "    <tr>\n",
       "      <th>Anterior cingulate area ventral part</th>\n",
       "      <td>0.035108</td>\n",
       "      <td>0.227286</td>\n",
       "      <td>0.043837</td>\n",
       "      <td>Anterior_cingulate_area_ventral_part</td>\n",
       "      <td>Isocortex</td>\n",
       "      <td>0.299615</td>\n",
       "    </tr>\n",
       "  </tbody>\n",
       "</table>\n",
       "</div>"
      ],
      "text/plain": [
       "                                           EFFECT_perCell  EFFECT_perNeuro  \\\n",
       "STR2                                                                         \n",
       "Main olfactory bulb                              0.216334         0.348831   \n",
       "Accessory olfactory bulb                         0.189568         0.365828   \n",
       "Nucleus accumbens                                0.247289         0.408222   \n",
       "Presubiculum                                     0.166496         0.411238   \n",
       "Olfactory tubercle                               0.286255         0.438141   \n",
       "Central lobule                                   0.161042         0.257384   \n",
       "Dentate gyrus                                    0.159599         0.370303   \n",
       "Simple lobule                                    0.166781         0.254077   \n",
       "Primary visual area                              0.161229         0.339769   \n",
       "Ansiform lobule                                  0.175393         0.257539   \n",
       "Nodulus X                                        0.124569         0.243212   \n",
       "Culmen                                           0.155104         0.251205   \n",
       "Pyramus VIII                                     0.204694         0.276091   \n",
       "Anterior olfactory nucleus                       0.149190         0.370661   \n",
       "Lateral amygdalar nucleus                        0.155415         0.402445   \n",
       "Caudoputamen                                     0.139346         0.384154   \n",
       "Retrosplenial area ventral part                  0.074653         0.259938   \n",
       "Paramedian lobule                                0.180414         0.256629   \n",
       "Paraflocculus                                    0.136615         0.242945   \n",
       "Lateral visual area                              0.115736         0.297452   \n",
       "posteromedial visual area                        0.116032         0.293524   \n",
       "Postsubiculum                                    0.082899         0.355855   \n",
       "Anterolateral visual area                        0.094632         0.271324   \n",
       "Primary somatosensory area nose                  0.076040         0.249317   \n",
       "Flocculus                                        0.058492         0.209041   \n",
       "Primary somatosensory area barrel field          0.087593         0.256413   \n",
       "Medial amygdalar nucleus                         0.105713         0.313186   \n",
       "Posterior amygdalar nucleus                      0.108796         0.285453   \n",
       "Posterior parietal association areas             0.099905         0.275801   \n",
       "Intercalated amygdalar nucleus                   0.086359         0.266930   \n",
       "Retrosplenial area lateral agranular part        0.094096         0.282417   \n",
       "Temporal association areas                       0.091885         0.261630   \n",
       "Primary somatosensory area trunk                 0.077315         0.240278   \n",
       "Central amygdalar nucleus                        0.068086         0.245926   \n",
       "Anteromedial visual area                         0.079405         0.258031   \n",
       "Retrosplenial area dorsal part                   0.060219         0.243175   \n",
       "Primary auditory area                            0.069650         0.260810   \n",
       "Infralimbic area                                 0.056517         0.233052   \n",
       "Fundus of striatum                               0.063537         0.313024   \n",
       "Nucleus of the lateral olfactory tract           0.064809         0.234481   \n",
       "Dorsal auditory area                             0.066686         0.234559   \n",
       "Primary somatosensory area lower limb            0.054851         0.219750   \n",
       "Primary somatosensory area mouth                 0.058376         0.228875   \n",
       "Primary somatosensory area upper limb            0.049468         0.216877   \n",
       "Ectorhinal area                                  0.074471         0.234031   \n",
       "Ventral auditory area                            0.067094         0.258852   \n",
       "Gustatory areas                                  0.058988         0.231641   \n",
       "Frontal pole cerebral cortex                     0.040950         0.212974   \n",
       "Basomedial amygdalar nucleus                     0.063763         0.258671   \n",
       "Anterior cingulate area ventral part             0.035108         0.227286   \n",
       "\n",
       "                                           EFFECT_perVol  \\\n",
       "STR2                                                       \n",
       "Main olfactory bulb                             0.446154   \n",
       "Accessory olfactory bulb                        0.346904   \n",
       "Nucleus accumbens                               0.306683   \n",
       "Presubiculum                                    0.292166   \n",
       "Olfactory tubercle                              0.290546   \n",
       "Central lobule                                  0.289873   \n",
       "Dentate gyrus                                   0.256750   \n",
       "Simple lobule                                   0.237231   \n",
       "Primary visual area                             0.183181   \n",
       "Ansiform lobule                                 0.177833   \n",
       "Nodulus X                                       0.174894   \n",
       "Culmen                                          0.173436   \n",
       "Pyramus VIII                                    0.168214   \n",
       "Anterior olfactory nucleus                      0.160830   \n",
       "Lateral amygdalar nucleus                       0.159986   \n",
       "Caudoputamen                                    0.158066   \n",
       "Retrosplenial area ventral part                 0.139913   \n",
       "Paramedian lobule                               0.128357   \n",
       "Paraflocculus                                   0.116364   \n",
       "Lateral visual area                             0.114374   \n",
       "posteromedial visual area                       0.108346   \n",
       "Postsubiculum                                   0.104763   \n",
       "Anterolateral visual area                       0.097675   \n",
       "Primary somatosensory area nose                 0.097348   \n",
       "Flocculus                                       0.097041   \n",
       "Primary somatosensory area barrel field         0.095821   \n",
       "Medial amygdalar nucleus                        0.087433   \n",
       "Posterior amygdalar nucleus                     0.086640   \n",
       "Posterior parietal association areas            0.085687   \n",
       "Intercalated amygdalar nucleus                  0.084226   \n",
       "Retrosplenial area lateral agranular part       0.083614   \n",
       "Temporal association areas                      0.073522   \n",
       "Primary somatosensory area trunk                0.070614   \n",
       "Central amygdalar nucleus                       0.066453   \n",
       "Anteromedial visual area                        0.064742   \n",
       "Retrosplenial area dorsal part                  0.064440   \n",
       "Primary auditory area                           0.064020   \n",
       "Infralimbic area                                0.063042   \n",
       "Fundus of striatum                              0.062919   \n",
       "Nucleus of the lateral olfactory tract          0.062216   \n",
       "Dorsal auditory area                            0.062129   \n",
       "Primary somatosensory area lower limb           0.057406   \n",
       "Primary somatosensory area mouth                0.056958   \n",
       "Primary somatosensory area upper limb           0.052768   \n",
       "Ectorhinal area                                 0.051996   \n",
       "Ventral auditory area                           0.047923   \n",
       "Gustatory areas                                 0.046498   \n",
       "Frontal pole cerebral cortex                    0.046460   \n",
       "Basomedial amygdalar nucleus                    0.045419   \n",
       "Anterior cingulate area ventral part            0.043837   \n",
       "\n",
       "                                                                                 STR  \\\n",
       "STR2                                                                                   \n",
       "Main olfactory bulb                                              Main_olfactory_bulb   \n",
       "Accessory olfactory bulb                                    Accessory_olfactory_bulb   \n",
       "Nucleus accumbens                                                  Nucleus_accumbens   \n",
       "Presubiculum                                                            Presubiculum   \n",
       "Olfactory tubercle                                                Olfactory_tubercle   \n",
       "Central lobule                                                        Central_lobule   \n",
       "Dentate gyrus                                                          Dentate_gyrus   \n",
       "Simple lobule                                                          Simple_lobule   \n",
       "Primary visual area                                              Primary_visual_area   \n",
       "Ansiform lobule                                                      Ansiform_lobule   \n",
       "Nodulus X                                                                  Nodulus_X   \n",
       "Culmen                                                                        Culmen   \n",
       "Pyramus VIII                                                            Pyramus_VIII   \n",
       "Anterior olfactory nucleus                                Anterior_olfactory_nucleus   \n",
       "Lateral amygdalar nucleus                                  Lateral_amygdalar_nucleus   \n",
       "Caudoputamen                                                            Caudoputamen   \n",
       "Retrosplenial area ventral part                      Retrosplenial_area_ventral_part   \n",
       "Paramedian lobule                                                  Paramedian_lobule   \n",
       "Paraflocculus                                                          Paraflocculus   \n",
       "Lateral visual area                                              Lateral_visual_area   \n",
       "posteromedial visual area                                  posteromedial_visual_area   \n",
       "Postsubiculum                                                          Postsubiculum   \n",
       "Anterolateral visual area                                  Anterolateral_visual_area   \n",
       "Primary somatosensory area nose                      Primary_somatosensory_area_nose   \n",
       "Flocculus                                                                  Flocculus   \n",
       "Primary somatosensory area barrel field      Primary_somatosensory_area_barrel_field   \n",
       "Medial amygdalar nucleus                                    Medial_amygdalar_nucleus   \n",
       "Posterior amygdalar nucleus                              Posterior_amygdalar_nucleus   \n",
       "Posterior parietal association areas            Posterior_parietal_association_areas   \n",
       "Intercalated amygdalar nucleus                        Intercalated_amygdalar_nucleus   \n",
       "Retrosplenial area lateral agranular part  Retrosplenial_area_lateral_agranular_part   \n",
       "Temporal association areas                                Temporal_association_areas   \n",
       "Primary somatosensory area trunk                    Primary_somatosensory_area_trunk   \n",
       "Central amygdalar nucleus                                  Central_amygdalar_nucleus   \n",
       "Anteromedial visual area                                    Anteromedial_visual_area   \n",
       "Retrosplenial area dorsal part                        Retrosplenial_area_dorsal_part   \n",
       "Primary auditory area                                          Primary_auditory_area   \n",
       "Infralimbic area                                                    Infralimbic_area   \n",
       "Fundus of striatum                                                Fundus_of_striatum   \n",
       "Nucleus of the lateral olfactory tract        Nucleus_of_the_lateral_olfactory_tract   \n",
       "Dorsal auditory area                                            Dorsal_auditory_area   \n",
       "Primary somatosensory area lower limb          Primary_somatosensory_area_lower_limb   \n",
       "Primary somatosensory area mouth                    Primary_somatosensory_area_mouth   \n",
       "Primary somatosensory area upper limb          Primary_somatosensory_area_upper_limb   \n",
       "Ectorhinal area                                                      Ectorhinal_area   \n",
       "Ventral auditory area                                          Ventral_auditory_area   \n",
       "Gustatory areas                                                      Gustatory_areas   \n",
       "Frontal pole cerebral cortex                            Frontal_pole_cerebral_cortex   \n",
       "Basomedial amygdalar nucleus                            Basomedial_amygdalar_nucleus   \n",
       "Anterior cingulate area ventral part            Anterior_cingulate_area_ventral_part   \n",
       "\n",
       "                                                    REGION  EFFECT_ISH  \n",
       "STR2                                                                    \n",
       "Main olfactory bulb                        Olfactory_areas    0.001685  \n",
       "Accessory olfactory bulb                   Olfactory_areas    0.283606  \n",
       "Nucleus accumbens                                 Striatum    0.553718  \n",
       "Presubiculum                                   Hippocampus    0.189091  \n",
       "Olfactory tubercle                                Striatum    0.193269  \n",
       "Central lobule                                  Cerebellum   -0.113617  \n",
       "Dentate gyrus                                  Hippocampus    0.498752  \n",
       "Simple lobule                                   Cerebellum    0.199035  \n",
       "Primary visual area                              Isocortex    0.394758  \n",
       "Ansiform lobule                                 Cerebellum    0.174044  \n",
       "Nodulus X                                       Cerebellum   -0.501049  \n",
       "Culmen                                          Cerebellum    0.079325  \n",
       "Pyramus VIII                                    Cerebellum   -0.037290  \n",
       "Anterior olfactory nucleus                 Olfactory_areas    0.485098  \n",
       "Lateral amygdalar nucleus                         Amygdala    0.446470  \n",
       "Caudoputamen                                      Striatum    0.461481  \n",
       "Retrosplenial area ventral part                  Isocortex    0.001033  \n",
       "Paramedian lobule                               Cerebellum    0.141488  \n",
       "Paraflocculus                                   Cerebellum   -0.070510  \n",
       "Lateral visual area                              Isocortex    0.302997  \n",
       "posteromedial visual area                        Isocortex    0.297550  \n",
       "Postsubiculum                                  Hippocampus    0.132878  \n",
       "Anterolateral visual area                        Isocortex    0.228133  \n",
       "Primary somatosensory area nose                  Isocortex    0.246733  \n",
       "Flocculus                                       Cerebellum   -0.168618  \n",
       "Primary somatosensory area barrel field          Isocortex    0.236207  \n",
       "Medial amygdalar nucleus                          Amygdala   -0.036695  \n",
       "Posterior amygdalar nucleus                       Amygdala    0.157249  \n",
       "Posterior parietal association areas             Isocortex    0.350922  \n",
       "Intercalated amygdalar nucleus                    Amygdala    0.321215  \n",
       "Retrosplenial area lateral agranular part        Isocortex    0.382511  \n",
       "Temporal association areas                       Isocortex    0.145456  \n",
       "Primary somatosensory area trunk                 Isocortex    0.337637  \n",
       "Central amygdalar nucleus                         Amygdala    0.246900  \n",
       "Anteromedial visual area                         Isocortex    0.420279  \n",
       "Retrosplenial area dorsal part                   Isocortex    0.195059  \n",
       "Primary auditory area                            Isocortex   -0.177154  \n",
       "Infralimbic area                                 Isocortex    0.479460  \n",
       "Fundus of striatum                                Striatum    0.246266  \n",
       "Nucleus of the lateral olfactory tract     Olfactory_areas   -0.080037  \n",
       "Dorsal auditory area                             Isocortex    0.211795  \n",
       "Primary somatosensory area lower limb            Isocortex    0.476070  \n",
       "Primary somatosensory area mouth                 Isocortex    0.202049  \n",
       "Primary somatosensory area upper limb            Isocortex    0.301143  \n",
       "Ectorhinal area                                  Isocortex   -0.040346  \n",
       "Ventral auditory area                            Isocortex   -0.145606  \n",
       "Gustatory areas                                  Isocortex    0.362063  \n",
       "Frontal pole cerebral cortex                     Isocortex    0.247194  \n",
       "Basomedial amygdalar nucleus                      Amygdala    0.363831  \n",
       "Anterior cingulate area ventral part             Isocortex    0.299615  "
      ]
     },
     "execution_count": 139,
     "metadata": {},
     "output_type": "execute_result"
    }
   ],
   "source": [
    "AggV2_ASD_DF_MERFISH_CB.head(50)"
   ]
  },
  {
   "cell_type": "code",
   "execution_count": 140,
   "id": "be4e3294",
   "metadata": {
    "hidden": true
   },
   "outputs": [
    {
     "data": {
      "text/plain": [
       "(0.6197718353448943, 6.952796288362997e-24)"
      ]
     },
     "execution_count": 140,
     "metadata": {},
     "output_type": "execute_result"
    }
   ],
   "source": [
    "pearsonr(AggV2_ASD_DF_MERFISH_CB[\"EFFECT_perCell\"].values, AggV2_ASD_DF_MERFISH_CB[\"EFFECT_ISH\"].values)"
   ]
  },
  {
   "cell_type": "code",
   "execution_count": 141,
   "id": "781f718b",
   "metadata": {
    "hidden": true
   },
   "outputs": [
    {
     "data": {
      "text/plain": [
       "(0.6688728377633365, 7.351408654516151e-29)"
      ]
     },
     "execution_count": 141,
     "metadata": {},
     "output_type": "execute_result"
    }
   ],
   "source": [
    "pearsonr(AggV2_ASD_DF_MERFISH_CB[\"EFFECT_perNeuro\"].values, AggV2_ASD_DF_MERFISH_CB[\"EFFECT_ISH\"].values)"
   ]
  },
  {
   "cell_type": "code",
   "execution_count": 142,
   "id": "80f5d2f4",
   "metadata": {
    "hidden": true
   },
   "outputs": [
    {
     "data": {
      "text/plain": [
       "(0.5487097230237232, 4.582134962025057e-18)"
      ]
     },
     "execution_count": 142,
     "metadata": {},
     "output_type": "execute_result"
    }
   ],
   "source": [
    "pearsonr(AggV2_ASD_DF_MERFISH_CB[\"EFFECT_perVol\"].values, AggV2_ASD_DF_MERFISH_CB[\"EFFECT_ISH\"].values)"
   ]
  },
  {
   "cell_type": "code",
   "execution_count": 143,
   "id": "a9815769",
   "metadata": {
    "hidden": true
   },
   "outputs": [
    {
     "data": {
      "text/plain": [
       "19"
      ]
     },
     "execution_count": 143,
     "metadata": {},
     "output_type": "execute_result"
    }
   ],
   "source": [
    "Bias1 = ASD_ISH\n",
    "Bias2 = AggV2_ASD_DF_MERFISH_CB.sort_values(\"EFFECT_perCell\", ascending=False).set_index(\"STR\")\n",
    "STR_Com = len(set(Bias1.head(50).index.values).intersection(set(Bias2.head(50).index.values)))\n",
    "STR_Com"
   ]
  },
  {
   "cell_type": "code",
   "execution_count": 144,
   "id": "d36d1964",
   "metadata": {
    "hidden": true
   },
   "outputs": [
    {
     "data": {
      "text/plain": [
       "17"
      ]
     },
     "execution_count": 144,
     "metadata": {},
     "output_type": "execute_result"
    }
   ],
   "source": [
    "Bias1 = ASD_ISH\n",
    "Bias2 = AggV2_ASD_DF_MERFISH_CB.sort_values(\"EFFECT_perNeuro\", ascending=False).set_index(\"STR\")\n",
    "STR_Com = len(set(Bias1.head(50).index.values).intersection(set(Bias2.head(50).index.values)))\n",
    "STR_Com"
   ]
  },
  {
   "cell_type": "code",
   "execution_count": 145,
   "id": "2055849b",
   "metadata": {
    "hidden": true
   },
   "outputs": [
    {
     "data": {
      "text/plain": [
       "17"
      ]
     },
     "execution_count": 145,
     "metadata": {},
     "output_type": "execute_result"
    }
   ],
   "source": [
    "Bias1 = ASD_ISH\n",
    "Bias2 = AggV2_ASD_DF_MERFISH_CB.sort_values(\"EFFECT_perVol\", ascending=False).set_index(\"STR\")\n",
    "STR_Com = len(set(Bias1.head(50).index.values).intersection(set(Bias2.head(50).index.values)))\n",
    "STR_Com"
   ]
  },
  {
   "cell_type": "code",
   "execution_count": 152,
   "id": "2cd52c60",
   "metadata": {
    "hidden": true
   },
   "outputs": [],
   "source": [
    "AggV2_ASD_DF_MERFISH_Allen = pd.read_csv(\"dat/Bias/ASD.STR.top60.MERFISH.csv\", index_col=0)"
   ]
  },
  {
   "cell_type": "code",
   "execution_count": 153,
   "id": "682d36be",
   "metadata": {
    "hidden": true
   },
   "outputs": [
    {
     "data": {
      "text/html": [
       "<div>\n",
       "<style scoped>\n",
       "    .dataframe tbody tr th:only-of-type {\n",
       "        vertical-align: middle;\n",
       "    }\n",
       "\n",
       "    .dataframe tbody tr th {\n",
       "        vertical-align: top;\n",
       "    }\n",
       "\n",
       "    .dataframe thead th {\n",
       "        text-align: right;\n",
       "    }\n",
       "</style>\n",
       "<table border=\"1\" class=\"dataframe\">\n",
       "  <thead>\n",
       "    <tr style=\"text-align: right;\">\n",
       "      <th></th>\n",
       "      <th>EFFECT_perCell</th>\n",
       "      <th>EFFECT_perNeuro</th>\n",
       "      <th>EFFECT_perVol</th>\n",
       "      <th>STR</th>\n",
       "      <th>REGION</th>\n",
       "      <th>EFFECT_ISH</th>\n",
       "    </tr>\n",
       "    <tr>\n",
       "      <th>STR2</th>\n",
       "      <th></th>\n",
       "      <th></th>\n",
       "      <th></th>\n",
       "      <th></th>\n",
       "      <th></th>\n",
       "      <th></th>\n",
       "    </tr>\n",
       "  </thead>\n",
       "  <tbody>\n",
       "    <tr>\n",
       "      <th>Main olfactory bulb</th>\n",
       "      <td>0.216334</td>\n",
       "      <td>0.348831</td>\n",
       "      <td>0.446154</td>\n",
       "      <td>Main_olfactory_bulb</td>\n",
       "      <td>Olfactory_areas</td>\n",
       "      <td>0.001685</td>\n",
       "    </tr>\n",
       "    <tr>\n",
       "      <th>Accessory olfactory bulb</th>\n",
       "      <td>0.189568</td>\n",
       "      <td>0.365828</td>\n",
       "      <td>0.346904</td>\n",
       "      <td>Accessory_olfactory_bulb</td>\n",
       "      <td>Olfactory_areas</td>\n",
       "      <td>0.283606</td>\n",
       "    </tr>\n",
       "    <tr>\n",
       "      <th>Nucleus accumbens</th>\n",
       "      <td>0.247289</td>\n",
       "      <td>0.408222</td>\n",
       "      <td>0.306683</td>\n",
       "      <td>Nucleus_accumbens</td>\n",
       "      <td>Striatum</td>\n",
       "      <td>0.553718</td>\n",
       "    </tr>\n",
       "    <tr>\n",
       "      <th>Presubiculum</th>\n",
       "      <td>0.166496</td>\n",
       "      <td>0.411238</td>\n",
       "      <td>0.292166</td>\n",
       "      <td>Presubiculum</td>\n",
       "      <td>Hippocampus</td>\n",
       "      <td>0.189091</td>\n",
       "    </tr>\n",
       "    <tr>\n",
       "      <th>Olfactory tubercle</th>\n",
       "      <td>0.286255</td>\n",
       "      <td>0.438141</td>\n",
       "      <td>0.290546</td>\n",
       "      <td>Olfactory_tubercle</td>\n",
       "      <td>Striatum</td>\n",
       "      <td>0.193269</td>\n",
       "    </tr>\n",
       "    <tr>\n",
       "      <th>...</th>\n",
       "      <td>...</td>\n",
       "      <td>...</td>\n",
       "      <td>...</td>\n",
       "      <td>...</td>\n",
       "      <td>...</td>\n",
       "      <td>...</td>\n",
       "    </tr>\n",
       "    <tr>\n",
       "      <th>Nucleus raphe magnus</th>\n",
       "      <td>-0.237448</td>\n",
       "      <td>-0.339245</td>\n",
       "      <td>-0.409582</td>\n",
       "      <td>Nucleus_raphe_magnus</td>\n",
       "      <td>Medulla</td>\n",
       "      <td>-0.461422</td>\n",
       "    </tr>\n",
       "    <tr>\n",
       "      <th>Tegmental reticular nucleus</th>\n",
       "      <td>-0.349007</td>\n",
       "      <td>-0.712460</td>\n",
       "      <td>-0.425135</td>\n",
       "      <td>Tegmental_reticular_nucleus</td>\n",
       "      <td>Pons</td>\n",
       "      <td>-0.457587</td>\n",
       "    </tr>\n",
       "    <tr>\n",
       "      <th>Anterodorsal nucleus</th>\n",
       "      <td>-0.293742</td>\n",
       "      <td>-0.494257</td>\n",
       "      <td>-0.439936</td>\n",
       "      <td>Anterodorsal_nucleus</td>\n",
       "      <td>Thalamus</td>\n",
       "      <td>-0.041317</td>\n",
       "    </tr>\n",
       "    <tr>\n",
       "      <th>Inferior colliculus central nucleus</th>\n",
       "      <td>-0.263559</td>\n",
       "      <td>-0.334001</td>\n",
       "      <td>-0.462257</td>\n",
       "      <td>Inferior_colliculus_central_nucleus</td>\n",
       "      <td>Midbrain</td>\n",
       "      <td>-0.124732</td>\n",
       "    </tr>\n",
       "    <tr>\n",
       "      <th>Pontine gray</th>\n",
       "      <td>-0.413167</td>\n",
       "      <td>-0.750808</td>\n",
       "      <td>-0.638260</td>\n",
       "      <td>Pontine_gray</td>\n",
       "      <td>Pons</td>\n",
       "      <td>-0.408265</td>\n",
       "    </tr>\n",
       "  </tbody>\n",
       "</table>\n",
       "<p>212 rows × 6 columns</p>\n",
       "</div>"
      ],
      "text/plain": [
       "                                     EFFECT_perCell  EFFECT_perNeuro  \\\n",
       "STR2                                                                   \n",
       "Main olfactory bulb                        0.216334         0.348831   \n",
       "Accessory olfactory bulb                   0.189568         0.365828   \n",
       "Nucleus accumbens                          0.247289         0.408222   \n",
       "Presubiculum                               0.166496         0.411238   \n",
       "Olfactory tubercle                         0.286255         0.438141   \n",
       "...                                             ...              ...   \n",
       "Nucleus raphe magnus                      -0.237448        -0.339245   \n",
       "Tegmental reticular nucleus               -0.349007        -0.712460   \n",
       "Anterodorsal nucleus                      -0.293742        -0.494257   \n",
       "Inferior colliculus central nucleus       -0.263559        -0.334001   \n",
       "Pontine gray                              -0.413167        -0.750808   \n",
       "\n",
       "                                     EFFECT_perVol  \\\n",
       "STR2                                                 \n",
       "Main olfactory bulb                       0.446154   \n",
       "Accessory olfactory bulb                  0.346904   \n",
       "Nucleus accumbens                         0.306683   \n",
       "Presubiculum                              0.292166   \n",
       "Olfactory tubercle                        0.290546   \n",
       "...                                            ...   \n",
       "Nucleus raphe magnus                     -0.409582   \n",
       "Tegmental reticular nucleus              -0.425135   \n",
       "Anterodorsal nucleus                     -0.439936   \n",
       "Inferior colliculus central nucleus      -0.462257   \n",
       "Pontine gray                             -0.638260   \n",
       "\n",
       "                                                                     STR  \\\n",
       "STR2                                                                       \n",
       "Main olfactory bulb                                  Main_olfactory_bulb   \n",
       "Accessory olfactory bulb                        Accessory_olfactory_bulb   \n",
       "Nucleus accumbens                                      Nucleus_accumbens   \n",
       "Presubiculum                                                Presubiculum   \n",
       "Olfactory tubercle                                    Olfactory_tubercle   \n",
       "...                                                                  ...   \n",
       "Nucleus raphe magnus                                Nucleus_raphe_magnus   \n",
       "Tegmental reticular nucleus                  Tegmental_reticular_nucleus   \n",
       "Anterodorsal nucleus                                Anterodorsal_nucleus   \n",
       "Inferior colliculus central nucleus  Inferior_colliculus_central_nucleus   \n",
       "Pontine gray                                                Pontine_gray   \n",
       "\n",
       "                                              REGION  EFFECT_ISH  \n",
       "STR2                                                              \n",
       "Main olfactory bulb                  Olfactory_areas    0.001685  \n",
       "Accessory olfactory bulb             Olfactory_areas    0.283606  \n",
       "Nucleus accumbens                           Striatum    0.553718  \n",
       "Presubiculum                             Hippocampus    0.189091  \n",
       "Olfactory tubercle                          Striatum    0.193269  \n",
       "...                                              ...         ...  \n",
       "Nucleus raphe magnus                         Medulla   -0.461422  \n",
       "Tegmental reticular nucleus                     Pons   -0.457587  \n",
       "Anterodorsal nucleus                        Thalamus   -0.041317  \n",
       "Inferior colliculus central nucleus         Midbrain   -0.124732  \n",
       "Pontine gray                                    Pons   -0.408265  \n",
       "\n",
       "[212 rows x 6 columns]"
      ]
     },
     "execution_count": 153,
     "metadata": {},
     "output_type": "execute_result"
    }
   ],
   "source": [
    "AggV2_ASD_DF_MERFISH_CB"
   ]
  },
  {
   "cell_type": "code",
   "execution_count": 154,
   "id": "460cc3b1",
   "metadata": {
    "hidden": true
   },
   "outputs": [
    {
     "data": {
      "text/html": [
       "<div>\n",
       "<style scoped>\n",
       "    .dataframe tbody tr th:only-of-type {\n",
       "        vertical-align: middle;\n",
       "    }\n",
       "\n",
       "    .dataframe tbody tr th {\n",
       "        vertical-align: top;\n",
       "    }\n",
       "\n",
       "    .dataframe thead th {\n",
       "        text-align: right;\n",
       "    }\n",
       "</style>\n",
       "<table border=\"1\" class=\"dataframe\">\n",
       "  <thead>\n",
       "    <tr style=\"text-align: right;\">\n",
       "      <th></th>\n",
       "      <th>EFFECT_perCell</th>\n",
       "      <th>EFFECT_perNeuro</th>\n",
       "      <th>EFFECT_perVol</th>\n",
       "      <th>STR</th>\n",
       "      <th>REGION</th>\n",
       "      <th>EFFECT_ISH</th>\n",
       "    </tr>\n",
       "    <tr>\n",
       "      <th>STR2</th>\n",
       "      <th></th>\n",
       "      <th></th>\n",
       "      <th></th>\n",
       "      <th></th>\n",
       "      <th></th>\n",
       "      <th></th>\n",
       "    </tr>\n",
       "  </thead>\n",
       "  <tbody>\n",
       "    <tr>\n",
       "      <th>Main olfactory bulb</th>\n",
       "      <td>0.216334</td>\n",
       "      <td>0.348831</td>\n",
       "      <td>0.446154</td>\n",
       "      <td>Main_olfactory_bulb</td>\n",
       "      <td>Olfactory_areas</td>\n",
       "      <td>0.001685</td>\n",
       "    </tr>\n",
       "    <tr>\n",
       "      <th>Accessory olfactory bulb</th>\n",
       "      <td>0.189568</td>\n",
       "      <td>0.365828</td>\n",
       "      <td>0.346904</td>\n",
       "      <td>Accessory_olfactory_bulb</td>\n",
       "      <td>Olfactory_areas</td>\n",
       "      <td>0.283606</td>\n",
       "    </tr>\n",
       "  </tbody>\n",
       "</table>\n",
       "</div>"
      ],
      "text/plain": [
       "                          EFFECT_perCell  EFFECT_perNeuro  EFFECT_perVol  \\\n",
       "STR2                                                                       \n",
       "Main olfactory bulb             0.216334         0.348831       0.446154   \n",
       "Accessory olfactory bulb        0.189568         0.365828       0.346904   \n",
       "\n",
       "                                               STR           REGION  \\\n",
       "STR2                                                                  \n",
       "Main olfactory bulb            Main_olfactory_bulb  Olfactory_areas   \n",
       "Accessory olfactory bulb  Accessory_olfactory_bulb  Olfactory_areas   \n",
       "\n",
       "                          EFFECT_ISH  \n",
       "STR2                                  \n",
       "Main olfactory bulb         0.001685  \n",
       "Accessory olfactory bulb    0.283606  "
      ]
     },
     "execution_count": 154,
     "metadata": {},
     "output_type": "execute_result"
    }
   ],
   "source": [
    "AggV2_ASD_DF_MERFISH_CB.head(2)"
   ]
  },
  {
   "cell_type": "code",
   "execution_count": 155,
   "id": "270c99f8",
   "metadata": {
    "hidden": true
   },
   "outputs": [
    {
     "data": {
      "text/html": [
       "<div>\n",
       "<style scoped>\n",
       "    .dataframe tbody tr th:only-of-type {\n",
       "        vertical-align: middle;\n",
       "    }\n",
       "\n",
       "    .dataframe tbody tr th {\n",
       "        vertical-align: top;\n",
       "    }\n",
       "\n",
       "    .dataframe thead th {\n",
       "        text-align: right;\n",
       "    }\n",
       "</style>\n",
       "<table border=\"1\" class=\"dataframe\">\n",
       "  <thead>\n",
       "    <tr style=\"text-align: right;\">\n",
       "      <th></th>\n",
       "      <th>EFFECT_perCell</th>\n",
       "      <th>EFFECT_perNeuro</th>\n",
       "      <th>EFFECT_perVol</th>\n",
       "      <th>STR</th>\n",
       "      <th>REGION</th>\n",
       "      <th>EFFECT_ISH</th>\n",
       "    </tr>\n",
       "    <tr>\n",
       "      <th>STR2</th>\n",
       "      <th></th>\n",
       "      <th></th>\n",
       "      <th></th>\n",
       "      <th></th>\n",
       "      <th></th>\n",
       "      <th></th>\n",
       "    </tr>\n",
       "  </thead>\n",
       "  <tbody>\n",
       "    <tr>\n",
       "      <th>Nucleus accumbens</th>\n",
       "      <td>0.260591</td>\n",
       "      <td>0.356963</td>\n",
       "      <td>0.270812</td>\n",
       "      <td>Nucleus_accumbens</td>\n",
       "      <td>Striatum</td>\n",
       "      <td>0.553718</td>\n",
       "    </tr>\n",
       "    <tr>\n",
       "      <th>Olfactory tubercle</th>\n",
       "      <td>0.330990</td>\n",
       "      <td>0.418657</td>\n",
       "      <td>0.262286</td>\n",
       "      <td>Olfactory_tubercle</td>\n",
       "      <td>Striatum</td>\n",
       "      <td>0.193269</td>\n",
       "    </tr>\n",
       "  </tbody>\n",
       "</table>\n",
       "</div>"
      ],
      "text/plain": [
       "                    EFFECT_perCell  EFFECT_perNeuro  EFFECT_perVol  \\\n",
       "STR2                                                                 \n",
       "Nucleus accumbens         0.260591         0.356963       0.270812   \n",
       "Olfactory tubercle        0.330990         0.418657       0.262286   \n",
       "\n",
       "                                   STR    REGION  EFFECT_ISH  \n",
       "STR2                                                          \n",
       "Nucleus accumbens    Nucleus_accumbens  Striatum    0.553718  \n",
       "Olfactory tubercle  Olfactory_tubercle  Striatum    0.193269  "
      ]
     },
     "execution_count": 155,
     "metadata": {},
     "output_type": "execute_result"
    }
   ],
   "source": [
    "AggV2_ASD_DF_MERFISH_Allen.head(2)"
   ]
  },
  {
   "cell_type": "code",
   "execution_count": 158,
   "id": "449fbc18",
   "metadata": {
    "hidden": true
   },
   "outputs": [],
   "source": [
    "AggV2_ASD_DF_MERFISH_XX = AggV2_ASD_DF_MERFISH_CB.join(AggV2_ASD_DF_MERFISH_Allen, on='STR2', how='inner',\n",
    "                                                      lsuffix=\"_Zhuang\", rsuffix=\"_Allen\")"
   ]
  },
  {
   "cell_type": "code",
   "execution_count": 159,
   "id": "b959e9d3",
   "metadata": {
    "hidden": true
   },
   "outputs": [
    {
     "data": {
      "text/html": [
       "<div>\n",
       "<style scoped>\n",
       "    .dataframe tbody tr th:only-of-type {\n",
       "        vertical-align: middle;\n",
       "    }\n",
       "\n",
       "    .dataframe tbody tr th {\n",
       "        vertical-align: top;\n",
       "    }\n",
       "\n",
       "    .dataframe thead th {\n",
       "        text-align: right;\n",
       "    }\n",
       "</style>\n",
       "<table border=\"1\" class=\"dataframe\">\n",
       "  <thead>\n",
       "    <tr style=\"text-align: right;\">\n",
       "      <th></th>\n",
       "      <th>EFFECT_perCell_Zhuang</th>\n",
       "      <th>EFFECT_perNeuro_Zhuang</th>\n",
       "      <th>EFFECT_perVol_Zhuang</th>\n",
       "      <th>STR_Zhuang</th>\n",
       "      <th>REGION_Zhuang</th>\n",
       "      <th>EFFECT_ISH_Zhuang</th>\n",
       "      <th>EFFECT_perCell_Allen</th>\n",
       "      <th>EFFECT_perNeuro_Allen</th>\n",
       "      <th>EFFECT_perVol_Allen</th>\n",
       "      <th>STR_Allen</th>\n",
       "      <th>REGION_Allen</th>\n",
       "      <th>EFFECT_ISH_Allen</th>\n",
       "    </tr>\n",
       "    <tr>\n",
       "      <th>STR2</th>\n",
       "      <th></th>\n",
       "      <th></th>\n",
       "      <th></th>\n",
       "      <th></th>\n",
       "      <th></th>\n",
       "      <th></th>\n",
       "      <th></th>\n",
       "      <th></th>\n",
       "      <th></th>\n",
       "      <th></th>\n",
       "      <th></th>\n",
       "      <th></th>\n",
       "    </tr>\n",
       "  </thead>\n",
       "  <tbody>\n",
       "    <tr>\n",
       "      <th>Main olfactory bulb</th>\n",
       "      <td>0.216334</td>\n",
       "      <td>0.348831</td>\n",
       "      <td>0.446154</td>\n",
       "      <td>Main_olfactory_bulb</td>\n",
       "      <td>Olfactory_areas</td>\n",
       "      <td>0.001685</td>\n",
       "      <td>0.245624</td>\n",
       "      <td>0.374748</td>\n",
       "      <td>0.11588</td>\n",
       "      <td>Main_olfactory_bulb</td>\n",
       "      <td>Olfactory_areas</td>\n",
       "      <td>0.001685</td>\n",
       "    </tr>\n",
       "    <tr>\n",
       "      <th>Accessory olfactory bulb</th>\n",
       "      <td>0.189568</td>\n",
       "      <td>0.365828</td>\n",
       "      <td>0.346904</td>\n",
       "      <td>Accessory_olfactory_bulb</td>\n",
       "      <td>Olfactory_areas</td>\n",
       "      <td>0.283606</td>\n",
       "      <td>-0.079178</td>\n",
       "      <td>0.122461</td>\n",
       "      <td>-0.01388</td>\n",
       "      <td>Accessory_olfactory_bulb</td>\n",
       "      <td>Olfactory_areas</td>\n",
       "      <td>0.283606</td>\n",
       "    </tr>\n",
       "  </tbody>\n",
       "</table>\n",
       "</div>"
      ],
      "text/plain": [
       "                          EFFECT_perCell_Zhuang  EFFECT_perNeuro_Zhuang  \\\n",
       "STR2                                                                      \n",
       "Main olfactory bulb                    0.216334                0.348831   \n",
       "Accessory olfactory bulb               0.189568                0.365828   \n",
       "\n",
       "                          EFFECT_perVol_Zhuang                STR_Zhuang  \\\n",
       "STR2                                                                       \n",
       "Main olfactory bulb                   0.446154       Main_olfactory_bulb   \n",
       "Accessory olfactory bulb              0.346904  Accessory_olfactory_bulb   \n",
       "\n",
       "                            REGION_Zhuang  EFFECT_ISH_Zhuang  \\\n",
       "STR2                                                           \n",
       "Main olfactory bulb       Olfactory_areas           0.001685   \n",
       "Accessory olfactory bulb  Olfactory_areas           0.283606   \n",
       "\n",
       "                          EFFECT_perCell_Allen  EFFECT_perNeuro_Allen  \\\n",
       "STR2                                                                    \n",
       "Main olfactory bulb                   0.245624               0.374748   \n",
       "Accessory olfactory bulb             -0.079178               0.122461   \n",
       "\n",
       "                          EFFECT_perVol_Allen                 STR_Allen  \\\n",
       "STR2                                                                      \n",
       "Main olfactory bulb                   0.11588       Main_olfactory_bulb   \n",
       "Accessory olfactory bulb             -0.01388  Accessory_olfactory_bulb   \n",
       "\n",
       "                             REGION_Allen  EFFECT_ISH_Allen  \n",
       "STR2                                                         \n",
       "Main olfactory bulb       Olfactory_areas          0.001685  \n",
       "Accessory olfactory bulb  Olfactory_areas          0.283606  "
      ]
     },
     "execution_count": 159,
     "metadata": {},
     "output_type": "execute_result"
    }
   ],
   "source": [
    "AggV2_ASD_DF_MERFISH_XX.head(2)"
   ]
  },
  {
   "cell_type": "code",
   "execution_count": 160,
   "id": "a96271d8",
   "metadata": {
    "hidden": true
   },
   "outputs": [
    {
     "data": {
      "text/plain": [
       "(0.9473143585356949, 8.551866314307442e-106)"
      ]
     },
     "execution_count": 160,
     "metadata": {},
     "output_type": "execute_result"
    }
   ],
   "source": [
    "pearsonr(AggV2_ASD_DF_MERFISH_XX[\"EFFECT_perCell_Zhuang\"].values, \n",
    "         AggV2_ASD_DF_MERFISH_XX[\"EFFECT_perCell_Allen\"].values)"
   ]
  },
  {
   "cell_type": "code",
   "execution_count": 162,
   "id": "3c6695ee",
   "metadata": {
    "hidden": true
   },
   "outputs": [
    {
     "data": {
      "text/plain": [
       "(0.8901202210666904, 1.3124595992394284e-73)"
      ]
     },
     "execution_count": 162,
     "metadata": {},
     "output_type": "execute_result"
    }
   ],
   "source": [
    "pearsonr(AggV2_ASD_DF_MERFISH_XX[\"EFFECT_perVol_Zhuang\"].values, \n",
    "         AggV2_ASD_DF_MERFISH_XX[\"EFFECT_perVol_Allen\"].values)"
   ]
  },
  {
   "cell_type": "code",
   "execution_count": 163,
   "id": "8e5fb01d",
   "metadata": {
    "hidden": true
   },
   "outputs": [
    {
     "data": {
      "text/plain": [
       "(0.9523508164803515, 2.9221691320152976e-110)"
      ]
     },
     "execution_count": 163,
     "metadata": {},
     "output_type": "execute_result"
    }
   ],
   "source": [
    "pearsonr(AggV2_ASD_DF_MERFISH_XX[\"EFFECT_perNeuro_Zhuang\"].values, \n",
    "         AggV2_ASD_DF_MERFISH_XX[\"EFFECT_perNeuro_Allen\"].values)"
   ]
  },
  {
   "cell_type": "code",
   "execution_count": 166,
   "id": "cc0abd68",
   "metadata": {
    "hidden": true
   },
   "outputs": [
    {
     "data": {
      "text/plain": [
       "40"
      ]
     },
     "execution_count": 166,
     "metadata": {},
     "output_type": "execute_result"
    }
   ],
   "source": [
    "Bias1 = AggV2_ASD_DF_MERFISH_XX.sort_values(\"EFFECT_perVol_Zhuang\", ascending=False)\n",
    "Bias2 = AggV2_ASD_DF_MERFISH_XX.sort_values(\"EFFECT_perVol_Allen\", ascending=False)\n",
    "STR_Com = len(set(Bias1.head(50).index.values).intersection(set(Bias2.head(50).index.values)))\n",
    "STR_Com"
   ]
  },
  {
   "cell_type": "code",
   "execution_count": 167,
   "id": "2aa1348b",
   "metadata": {
    "hidden": true
   },
   "outputs": [
    {
     "data": {
      "text/plain": [
       "41"
      ]
     },
     "execution_count": 167,
     "metadata": {},
     "output_type": "execute_result"
    }
   ],
   "source": [
    "Bias1 = AggV2_ASD_DF_MERFISH_XX.sort_values(\"EFFECT_perCell_Zhuang\", ascending=False)\n",
    "Bias2 = AggV2_ASD_DF_MERFISH_XX.sort_values(\"EFFECT_perCell_Allen\", ascending=False)\n",
    "STR_Com = len(set(Bias1.head(50).index.values).intersection(set(Bias2.head(50).index.values)))\n",
    "STR_Com"
   ]
  },
  {
   "cell_type": "code",
   "execution_count": 168,
   "id": "fe06c9d5",
   "metadata": {
    "hidden": true
   },
   "outputs": [
    {
     "data": {
      "text/plain": [
       "42"
      ]
     },
     "execution_count": 168,
     "metadata": {},
     "output_type": "execute_result"
    }
   ],
   "source": [
    "Bias1 = AggV2_ASD_DF_MERFISH_XX.sort_values(\"EFFECT_perNeuro_Zhuang\", ascending=False)\n",
    "Bias2 = AggV2_ASD_DF_MERFISH_XX.sort_values(\"EFFECT_perNeuro_Allen\", ascending=False)\n",
    "STR_Com = len(set(Bias1.head(50).index.values).intersection(set(Bias2.head(50).index.values)))\n",
    "STR_Com"
   ]
  },
  {
   "cell_type": "code",
   "execution_count": 172,
   "id": "0f0131d0",
   "metadata": {
    "hidden": true
   },
   "outputs": [
    {
     "data": {
      "text/html": [
       "<div>\n",
       "<style scoped>\n",
       "    .dataframe tbody tr th:only-of-type {\n",
       "        vertical-align: middle;\n",
       "    }\n",
       "\n",
       "    .dataframe tbody tr th {\n",
       "        vertical-align: top;\n",
       "    }\n",
       "\n",
       "    .dataframe thead th {\n",
       "        text-align: right;\n",
       "    }\n",
       "</style>\n",
       "<table border=\"1\" class=\"dataframe\">\n",
       "  <thead>\n",
       "    <tr style=\"text-align: right;\">\n",
       "      <th></th>\n",
       "      <th>EFFECT_perCell</th>\n",
       "      <th>EFFECT_perNeuro</th>\n",
       "      <th>EFFECT_perVol</th>\n",
       "      <th>STR</th>\n",
       "      <th>REGION</th>\n",
       "      <th>EFFECT_ISH</th>\n",
       "    </tr>\n",
       "    <tr>\n",
       "      <th>STR2</th>\n",
       "      <th></th>\n",
       "      <th></th>\n",
       "      <th></th>\n",
       "      <th></th>\n",
       "      <th></th>\n",
       "      <th></th>\n",
       "    </tr>\n",
       "  </thead>\n",
       "  <tbody>\n",
       "    <tr>\n",
       "      <th>Main olfactory bulb</th>\n",
       "      <td>0.216334</td>\n",
       "      <td>0.348831</td>\n",
       "      <td>0.446154</td>\n",
       "      <td>Main_olfactory_bulb</td>\n",
       "      <td>Olfactory_areas</td>\n",
       "      <td>0.001685</td>\n",
       "    </tr>\n",
       "    <tr>\n",
       "      <th>Accessory olfactory bulb</th>\n",
       "      <td>0.189568</td>\n",
       "      <td>0.365828</td>\n",
       "      <td>0.346904</td>\n",
       "      <td>Accessory_olfactory_bulb</td>\n",
       "      <td>Olfactory_areas</td>\n",
       "      <td>0.283606</td>\n",
       "    </tr>\n",
       "    <tr>\n",
       "      <th>Nucleus accumbens</th>\n",
       "      <td>0.247289</td>\n",
       "      <td>0.408222</td>\n",
       "      <td>0.306683</td>\n",
       "      <td>Nucleus_accumbens</td>\n",
       "      <td>Striatum</td>\n",
       "      <td>0.553718</td>\n",
       "    </tr>\n",
       "    <tr>\n",
       "      <th>Presubiculum</th>\n",
       "      <td>0.166496</td>\n",
       "      <td>0.411238</td>\n",
       "      <td>0.292166</td>\n",
       "      <td>Presubiculum</td>\n",
       "      <td>Hippocampus</td>\n",
       "      <td>0.189091</td>\n",
       "    </tr>\n",
       "    <tr>\n",
       "      <th>Olfactory tubercle</th>\n",
       "      <td>0.286255</td>\n",
       "      <td>0.438141</td>\n",
       "      <td>0.290546</td>\n",
       "      <td>Olfactory_tubercle</td>\n",
       "      <td>Striatum</td>\n",
       "      <td>0.193269</td>\n",
       "    </tr>\n",
       "    <tr>\n",
       "      <th>...</th>\n",
       "      <td>...</td>\n",
       "      <td>...</td>\n",
       "      <td>...</td>\n",
       "      <td>...</td>\n",
       "      <td>...</td>\n",
       "      <td>...</td>\n",
       "    </tr>\n",
       "    <tr>\n",
       "      <th>Nucleus raphe magnus</th>\n",
       "      <td>-0.237448</td>\n",
       "      <td>-0.339245</td>\n",
       "      <td>-0.409582</td>\n",
       "      <td>Nucleus_raphe_magnus</td>\n",
       "      <td>Medulla</td>\n",
       "      <td>-0.461422</td>\n",
       "    </tr>\n",
       "    <tr>\n",
       "      <th>Tegmental reticular nucleus</th>\n",
       "      <td>-0.349007</td>\n",
       "      <td>-0.712460</td>\n",
       "      <td>-0.425135</td>\n",
       "      <td>Tegmental_reticular_nucleus</td>\n",
       "      <td>Pons</td>\n",
       "      <td>-0.457587</td>\n",
       "    </tr>\n",
       "    <tr>\n",
       "      <th>Anterodorsal nucleus</th>\n",
       "      <td>-0.293742</td>\n",
       "      <td>-0.494257</td>\n",
       "      <td>-0.439936</td>\n",
       "      <td>Anterodorsal_nucleus</td>\n",
       "      <td>Thalamus</td>\n",
       "      <td>-0.041317</td>\n",
       "    </tr>\n",
       "    <tr>\n",
       "      <th>Inferior colliculus central nucleus</th>\n",
       "      <td>-0.263559</td>\n",
       "      <td>-0.334001</td>\n",
       "      <td>-0.462257</td>\n",
       "      <td>Inferior_colliculus_central_nucleus</td>\n",
       "      <td>Midbrain</td>\n",
       "      <td>-0.124732</td>\n",
       "    </tr>\n",
       "    <tr>\n",
       "      <th>Pontine gray</th>\n",
       "      <td>-0.413167</td>\n",
       "      <td>-0.750808</td>\n",
       "      <td>-0.638260</td>\n",
       "      <td>Pontine_gray</td>\n",
       "      <td>Pons</td>\n",
       "      <td>-0.408265</td>\n",
       "    </tr>\n",
       "  </tbody>\n",
       "</table>\n",
       "<p>212 rows × 6 columns</p>\n",
       "</div>"
      ],
      "text/plain": [
       "                                     EFFECT_perCell  EFFECT_perNeuro  \\\n",
       "STR2                                                                   \n",
       "Main olfactory bulb                        0.216334         0.348831   \n",
       "Accessory olfactory bulb                   0.189568         0.365828   \n",
       "Nucleus accumbens                          0.247289         0.408222   \n",
       "Presubiculum                               0.166496         0.411238   \n",
       "Olfactory tubercle                         0.286255         0.438141   \n",
       "...                                             ...              ...   \n",
       "Nucleus raphe magnus                      -0.237448        -0.339245   \n",
       "Tegmental reticular nucleus               -0.349007        -0.712460   \n",
       "Anterodorsal nucleus                      -0.293742        -0.494257   \n",
       "Inferior colliculus central nucleus       -0.263559        -0.334001   \n",
       "Pontine gray                              -0.413167        -0.750808   \n",
       "\n",
       "                                     EFFECT_perVol  \\\n",
       "STR2                                                 \n",
       "Main olfactory bulb                       0.446154   \n",
       "Accessory olfactory bulb                  0.346904   \n",
       "Nucleus accumbens                         0.306683   \n",
       "Presubiculum                              0.292166   \n",
       "Olfactory tubercle                        0.290546   \n",
       "...                                            ...   \n",
       "Nucleus raphe magnus                     -0.409582   \n",
       "Tegmental reticular nucleus              -0.425135   \n",
       "Anterodorsal nucleus                     -0.439936   \n",
       "Inferior colliculus central nucleus      -0.462257   \n",
       "Pontine gray                             -0.638260   \n",
       "\n",
       "                                                                     STR  \\\n",
       "STR2                                                                       \n",
       "Main olfactory bulb                                  Main_olfactory_bulb   \n",
       "Accessory olfactory bulb                        Accessory_olfactory_bulb   \n",
       "Nucleus accumbens                                      Nucleus_accumbens   \n",
       "Presubiculum                                                Presubiculum   \n",
       "Olfactory tubercle                                    Olfactory_tubercle   \n",
       "...                                                                  ...   \n",
       "Nucleus raphe magnus                                Nucleus_raphe_magnus   \n",
       "Tegmental reticular nucleus                  Tegmental_reticular_nucleus   \n",
       "Anterodorsal nucleus                                Anterodorsal_nucleus   \n",
       "Inferior colliculus central nucleus  Inferior_colliculus_central_nucleus   \n",
       "Pontine gray                                                Pontine_gray   \n",
       "\n",
       "                                              REGION  EFFECT_ISH  \n",
       "STR2                                                              \n",
       "Main olfactory bulb                  Olfactory_areas    0.001685  \n",
       "Accessory olfactory bulb             Olfactory_areas    0.283606  \n",
       "Nucleus accumbens                           Striatum    0.553718  \n",
       "Presubiculum                             Hippocampus    0.189091  \n",
       "Olfactory tubercle                          Striatum    0.193269  \n",
       "...                                              ...         ...  \n",
       "Nucleus raphe magnus                         Medulla   -0.461422  \n",
       "Tegmental reticular nucleus                     Pons   -0.457587  \n",
       "Anterodorsal nucleus                        Thalamus   -0.041317  \n",
       "Inferior colliculus central nucleus         Midbrain   -0.124732  \n",
       "Pontine gray                                    Pons   -0.408265  \n",
       "\n",
       "[212 rows x 6 columns]"
      ]
     },
     "execution_count": 172,
     "metadata": {},
     "output_type": "execute_result"
    }
   ],
   "source": [
    "AggV2_ASD_DF_MERFISH_CB"
   ]
  },
  {
   "cell_type": "code",
   "execution_count": null,
   "id": "d436d5bb",
   "metadata": {
    "hidden": true
   },
   "outputs": [],
   "source": []
  },
  {
   "cell_type": "code",
   "execution_count": null,
   "id": "8420034c",
   "metadata": {
    "hidden": true
   },
   "outputs": [],
   "source": []
  },
  {
   "cell_type": "code",
   "execution_count": null,
   "id": "acc71a1c",
   "metadata": {
    "hidden": true
   },
   "outputs": [],
   "source": []
  },
  {
   "cell_type": "code",
   "execution_count": null,
   "id": "09900f76",
   "metadata": {
    "hidden": true
   },
   "outputs": [],
   "source": []
  },
  {
   "cell_type": "code",
   "execution_count": 261,
   "id": "db0fc7a4",
   "metadata": {
    "hidden": true
   },
   "outputs": [],
   "source": [
    "STR_MERFISH_Zhuang_CM_Zmatch = pd.read_csv(\"dat/MERFISH_Zhuang/Z2Mat.ISH_STR.CellMean.SCMatch.Zmatch.csv\", index_col=0)\n",
    "STR_MERFISH_Zhuang_VM_Zmatch = pd.read_csv(\"dat/MERFISH_Zhuang/Z2Mat.ISH_STR.VolMean.SCMatch.Zmatch.csv\", index_col=0)\n",
    "head = STR_MERFISH_Z2Mat_CM.columns.values\n",
    "new_head = [X.replace(\" \", \"_\") for X in head]\n",
    "STR_MERFISH_Zhuang_CM_Zmatch.columns = new_head\n",
    "STR_MERFISH_Zhuang_VM_Zmatch.columns = new_head"
   ]
  },
  {
   "cell_type": "code",
   "execution_count": 263,
   "id": "8688bf74",
   "metadata": {
    "hidden": true
   },
   "outputs": [],
   "source": [
    "ASD_Bias_MERFISH_MIT_CM_ZM = AvgSTRZ_Weighted(STR_MERFISH_Zhuang_CM_Zmatch, ASD_GW) \n",
    "ASD_Bias_MERFISH_MIT_VM_ZM = AvgSTRZ_Weighted(STR_MERFISH_Zhuang_VM_Zmatch, ASD_GW) \n",
    "\n",
    "ASD_Bias_MERFISH_MIT_CM_ZM_adj = AvgSTRZ_Weighted(STR_MERFISH_Zhuang_CM_Zmatch, ASD_GW_adj) \n",
    "ASD_Bias_MERFISH_MIT_VM_ZM_adj = AvgSTRZ_Weighted(STR_MERFISH_Zhuang_VM_Zmatch, ASD_GW_adj) "
   ]
  },
  {
   "cell_type": "code",
   "execution_count": 264,
   "id": "fd571877",
   "metadata": {
    "hidden": true
   },
   "outputs": [
    {
     "name": "stdout",
     "output_type": "stream",
     "text": [
      "(0.7043673458264098, 4.3012685099031625e-33)\n"
     ]
    },
    {
     "data": {
      "image/png": "[encoded data removed]",
      "text/plain": [
       "<Figure size 640x320 with 2 Axes>"
      ]
     },
     "metadata": {
      "needs_background": "light"
     },
     "output_type": "display_data"
    }
   ],
   "source": [
    "BiasCorrelation(ASD_Bias_MERFISH_MIT_CM_ZM, ASD_ISH)"
   ]
  },
  {
   "cell_type": "code",
   "execution_count": 271,
   "id": "8af5000f",
   "metadata": {
    "hidden": true
   },
   "outputs": [
    {
     "name": "stdout",
     "output_type": "stream",
     "text": [
      "(0.7098616926199647, 8.347978766345164e-34)\n"
     ]
    },
    {
     "data": {
      "image/png": "[encoded data removed]",
      "text/plain": [
       "<Figure size 640x320 with 2 Axes>"
      ]
     },
     "metadata": {
      "needs_background": "light"
     },
     "output_type": "display_data"
    }
   ],
   "source": [
    "BiasCorrelation(ASD_Bias_MERFISH_MIT_CM_ZM_adj, ASD_ISH)"
   ]
  },
  {
   "cell_type": "code",
   "execution_count": 266,
   "id": "bf4a79b6",
   "metadata": {
    "hidden": true
   },
   "outputs": [
    {
     "data": {
      "text/plain": [
       "18"
      ]
     },
     "execution_count": 266,
     "metadata": {},
     "output_type": "execute_result"
    }
   ],
   "source": [
    "Bias1 = ASD_ISH\n",
    "Bias2 = ASD_Bias_MERFISH_MIT_CM_ZM\n",
    "STR_Com = len(set(Bias1.head(50).index.values).intersection(set(Bias2.head(50).index.values)))\n",
    "STR_Com"
   ]
  },
  {
   "cell_type": "code",
   "execution_count": 267,
   "id": "d9e26f34",
   "metadata": {
    "hidden": true
   },
   "outputs": [
    {
     "data": {
      "text/plain": [
       "26"
      ]
     },
     "execution_count": 267,
     "metadata": {},
     "output_type": "execute_result"
    }
   ],
   "source": [
    "Bias1 = ASD_ISH\n",
    "Bias2 = ASD_Bias_MERFISH_MIT_CM_ZM_adj\n",
    "STR_Com = len(set(Bias1.head(50).index.values).intersection(set(Bias2.head(50).index.values)))\n",
    "STR_Com"
   ]
  },
  {
   "cell_type": "code",
   "execution_count": 272,
   "id": "75a2a3b5",
   "metadata": {
    "hidden": true
   },
   "outputs": [],
   "source": [
    "ASD_Bias_MERFISH_Allen_CM_Zmatch = pd.read_csv(\"dat/Bias/MERFISH_STR_AggBias/ASD.MERFISH.Allen.CellMean.Zmatch.Z2.csv\", index_col=0)\n",
    "ASD_Bias_MERFISH_Allen_VM_Zmatch = pd.read_csv(\"dat/Bias/MERFISH_STR_AggBias/ASD.MERFISH.Allen.VolMean.Zmatch.Z2.csv\", index_col=0)"
   ]
  },
  {
   "cell_type": "code",
   "execution_count": 278,
   "id": "422cae1c",
   "metadata": {
    "hidden": true
   },
   "outputs": [
    {
     "name": "stdout",
     "output_type": "stream",
     "text": [
      "(0.9367453271536973, 1.0610724749757132e-97)\n"
     ]
    },
    {
     "data": {
      "image/png": "[encoded data removed]",
      "text/plain": [
       "<Figure size 640x320 with 2 Axes>"
      ]
     },
     "metadata": {
      "needs_background": "light"
     },
     "output_type": "display_data"
    }
   ],
   "source": [
    "BiasCorrelation(ASD_Bias_MERFISH_MIT_CM_ZM_adj, ASD_Bias_MERFISH_Allen_VM_Zmatch)"
   ]
  },
  {
   "cell_type": "code",
   "execution_count": 280,
   "id": "e84191c8",
   "metadata": {
    "hidden": true
   },
   "outputs": [
    {
     "data": {
      "text/plain": [
       "43"
      ]
     },
     "execution_count": 280,
     "metadata": {},
     "output_type": "execute_result"
    }
   ],
   "source": [
    "Bias1 = ASD_Bias_MERFISH_MIT_CM_ZM_adj\n",
    "Bias2 = ASD_Bias_MERFISH_Allen_VM_Zmatch\n",
    "STR_Com = len(set(Bias1.head(50).index.values).intersection(set(Bias2.head(50).index.values)))\n",
    "STR_Com"
   ]
  },
  {
   "cell_type": "code",
   "execution_count": null,
   "id": "78a6ad18",
   "metadata": {
    "hidden": true
   },
   "outputs": [],
   "source": []
  },
  {
   "cell_type": "code",
   "execution_count": null,
   "id": "7f3fc97d",
   "metadata": {
    "hidden": true
   },
   "outputs": [],
   "source": []
  },
  {
   "cell_type": "code",
   "execution_count": 281,
   "id": "46c35192",
   "metadata": {
    "hidden": true
   },
   "outputs": [],
   "source": [
    "STR_MERFISH_Z2Mat_CM = pd.read_csv(\"dat/MERFISH_Zhuang/Z2Mat.ISH_STR.CellMean.SCMatch.csv\", index_col=0)\n",
    "STR_MERFISH_Z2Mat_VM = pd.read_csv(\"dat/MERFISH_Zhuang/Z2Mat.ISH_STR.VolMean.SCMatch.csv\", index_col=0)\n",
    "head = STR_MERFISH_Z2Mat_CM.columns.values\n",
    "new_head = [X.replace(\" \", \"_\") for X in head]\n",
    "STR_MERFISH_Z2Mat_CM.columns = new_head\n",
    "STR_MERFISH_Z2Mat_VM.columns = new_head"
   ]
  },
  {
   "cell_type": "code",
   "execution_count": 282,
   "id": "49900e0d",
   "metadata": {
    "hidden": true
   },
   "outputs": [],
   "source": [
    "ASD_GW = Fil2Dict(\"../../ASD_Circuits/dat/Unionize_bias/Spark_Meta_EWS.GeneWeight.csv\")\n",
    "GeneExpCorr = pd.read_csv(\"dat/ISH_MERFISH_Gene_CorssSTR_Corr.v2.csv\", index_col=0)\n",
    "ASD_GW_adj = {}\n",
    "for k,v in ASD_GW.items():\n",
    "    if k in GeneExpCorr.index.values:\n",
    "        ASD_GW_adj[k] = v * (GeneExpCorr.loc[k, \"V2_V3_CT_Corr\"]**2)"
   ]
  },
  {
   "cell_type": "code",
   "execution_count": 287,
   "id": "36acd27a",
   "metadata": {
    "hidden": true
   },
   "outputs": [],
   "source": [
    "ASD_Bias_MERFISH_MIT_Z2_CM = AvgSTRZ_Weighted(STR_MERFISH_Z2Mat_CM, ASD_GW) \n",
    "ASD_Bias_MERFISH_MIT_Z2_VM = AvgSTRZ_Weighted(STR_MERFISH_Z2Mat_VM, ASD_GW) "
   ]
  },
  {
   "cell_type": "code",
   "execution_count": 288,
   "id": "2eed21cd",
   "metadata": {
    "hidden": true
   },
   "outputs": [],
   "source": [
    "ASD_Bias_MERFISH_MIT_Z2_CM_adj = AvgSTRZ_Weighted(STR_MERFISH_Z2Mat_CM, ASD_GW_adj) \n",
    "ASD_Bias_MERFISH_MIT_Z2_VM_adj = AvgSTRZ_Weighted(STR_MERFISH_Z2Mat_VM, ASD_GW_adj) "
   ]
  },
  {
   "cell_type": "code",
   "execution_count": 292,
   "id": "a1634f4f",
   "metadata": {
    "hidden": true
   },
   "outputs": [
    {
     "name": "stdout",
     "output_type": "stream",
     "text": [
      "(0.36595187830442166, 4.055718423787088e-08)\n"
     ]
    },
    {
     "data": {
      "image/png": "[encoded data removed]",
      "text/plain": [
       "<Figure size 640x320 with 2 Axes>"
      ]
     },
     "metadata": {
      "needs_background": "light"
     },
     "output_type": "display_data"
    },
    {
     "data": {
      "text/plain": [
       "15"
      ]
     },
     "execution_count": 292,
     "metadata": {},
     "output_type": "execute_result"
    }
   ],
   "source": [
    "BiasCorrelation(ASD_Bias_MERFISH_MIT_Z2_VM, ASD_ISH)\n",
    "Bias1 = ASD_ISH\n",
    "Bias2 = ASD_Bias_MERFISH_MIT_Z2_VM\n",
    "STR_Com = len(set(Bias1.head(50).index.values).intersection(set(Bias2.head(50).index.values)))\n",
    "STR_Com"
   ]
  },
  {
   "cell_type": "code",
   "execution_count": 291,
   "id": "7fea52ef",
   "metadata": {
    "hidden": true
   },
   "outputs": [
    {
     "name": "stdout",
     "output_type": "stream",
     "text": [
      "(0.5703799305402317, 1.082368920401923e-19)\n"
     ]
    },
    {
     "data": {
      "image/png": "[encoded data removed]",
      "text/plain": [
       "<Figure size 640x320 with 2 Axes>"
      ]
     },
     "metadata": {
      "needs_background": "light"
     },
     "output_type": "display_data"
    },
    {
     "data": {
      "text/plain": [
       "17"
      ]
     },
     "execution_count": 291,
     "metadata": {},
     "output_type": "execute_result"
    }
   ],
   "source": [
    "BiasCorrelation(ASD_Bias_MERFISH_MIT_Z2_VM_adj, ASD_ISH)\n",
    "Bias1 = ASD_ISH\n",
    "Bias2 = ASD_Bias_MERFISH_MIT_Z2_VM_adj\n",
    "STR_Com = len(set(Bias1.head(50).index.values).intersection(set(Bias2.head(50).index.values)))\n",
    "STR_Com"
   ]
  },
  {
   "cell_type": "code",
   "execution_count": 201,
   "id": "8f51631d",
   "metadata": {
    "hidden": true
   },
   "outputs": [
    {
     "name": "stdout",
     "output_type": "stream",
     "text": [
      "(0.5703799305402317, 1.082368920401923e-19)\n"
     ]
    },
    {
     "data": {
      "image/png": "[encoded data removed]",
      "text/plain": [
       "<Figure size 640x320 with 2 Axes>"
      ]
     },
     "metadata": {
      "needs_background": "light"
     },
     "output_type": "display_data"
    }
   ],
   "source": [
    "BiasCorrelation(ASD_Bias_MERFISH_STR_VM, ASD_ISH)"
   ]
  },
  {
   "cell_type": "code",
   "execution_count": 202,
   "id": "e9e36c73",
   "metadata": {
    "hidden": true
   },
   "outputs": [
    {
     "data": {
      "text/plain": [
       "17"
      ]
     },
     "execution_count": 202,
     "metadata": {},
     "output_type": "execute_result"
    }
   ],
   "source": [
    "Bias1 = ASD_ISH\n",
    "Bias2 = ASD_Bias_MERFISH_STR_VM\n",
    "STR_Com = len(set(Bias1.head(50).index.values).intersection(set(Bias2.head(50).index.values)))\n",
    "STR_Com"
   ]
  },
  {
   "cell_type": "code",
   "execution_count": 241,
   "id": "311f0fd5",
   "metadata": {
    "hidden": true
   },
   "outputs": [],
   "source": [
    "#ASD_Bias_MERFISH_STR_VM[ASD_Bias_MERFISH_STR_VM[\"REGION\"]==\"Thalamus\"]"
   ]
  },
  {
   "cell_type": "code",
   "execution_count": 242,
   "id": "6c284004",
   "metadata": {
    "hidden": true
   },
   "outputs": [],
   "source": [
    "#ASD_Bias_MERFISH_STR_VM[ASD_Bias_MERFISH_STR_VM[\"REGION\"]==\"Isocortex\"]"
   ]
  },
  {
   "cell_type": "code",
   "execution_count": 302,
   "id": "4374489e",
   "metadata": {
    "hidden": true
   },
   "outputs": [],
   "source": [
    "ASD_Bias_MERFISH_Allen_Z2_CM = pd.read_csv(\"dat/Bias/MERFISH_STR_AggBias/ASD.MERFISH.Allen.CellMean.Z2.csv\", index_col=0)\n",
    "ASD_Bias_MERFISH_Allen_Z2_VM = pd.read_csv(\"dat/Bias/MERFISH_STR_AggBias/ASD.MERFISH.Allen.VolMean.Z2.csv\", index_col=0)\n",
    "ASD_Bias_MERFISH_Allen_Z2_CM_adj = pd.read_csv(\"dat/Bias/MERFISH_STR_AggBias/ASD.MERFISH.Allen.CellMean.adj.Z2.csv\", index_col=0)\n",
    "ASD_Bias_MERFISH_Allen_Z2_VM_adj = pd.read_csv(\"dat/Bias/MERFISH_STR_AggBias/ASD.MERFISH.Allen.VolMean.adj.Z2.csv\", index_col=0)"
   ]
  },
  {
   "cell_type": "code",
   "execution_count": 304,
   "id": "53a5a53f",
   "metadata": {
    "hidden": true
   },
   "outputs": [
    {
     "name": "stdout",
     "output_type": "stream",
     "text": [
      "(0.835511982301591, 1.6072582639382115e-56)\n"
     ]
    },
    {
     "data": {
      "image/png": "[encoded data removed]",
      "text/plain": [
       "<Figure size 640x320 with 2 Axes>"
      ]
     },
     "metadata": {
      "needs_background": "light"
     },
     "output_type": "display_data"
    },
    {
     "data": {
      "text/plain": [
       "31"
      ]
     },
     "execution_count": 304,
     "metadata": {},
     "output_type": "execute_result"
    }
   ],
   "source": [
    "BiasCorrelation(ASD_Bias_MERFISH_Allen_Z2_VM, ASD_Bias_MERFISH_MIT_Z2_VM)\n",
    "Bias1 = ASD_Bias_MERFISH_Allen_Z2_VM\n",
    "Bias2 = ASD_Bias_MERFISH_MIT_Z2_VM\n",
    "STR_Com = len(set(Bias1.head(50).index.values).intersection(set(Bias2.head(50).index.values)))\n",
    "STR_Com"
   ]
  },
  {
   "cell_type": "code",
   "execution_count": 305,
   "id": "3b2b95c0",
   "metadata": {
    "hidden": true
   },
   "outputs": [
    {
     "name": "stdout",
     "output_type": "stream",
     "text": [
      "(0.8769388674926621, 9.36892210819283e-69)\n"
     ]
    },
    {
     "data": {
      "image/png": "[encoded data removed]",
      "text/plain": [
       "<Figure size 640x320 with 2 Axes>"
      ]
     },
     "metadata": {
      "needs_background": "light"
     },
     "output_type": "display_data"
    },
    {
     "data": {
      "text/plain": [
       "35"
      ]
     },
     "execution_count": 305,
     "metadata": {},
     "output_type": "execute_result"
    }
   ],
   "source": [
    "BiasCorrelation(ASD_Bias_MERFISH_Allen_Z2_VM_adj, ASD_Bias_MERFISH_MIT_Z2_VM_adj)\n",
    "Bias1 = ASD_Bias_MERFISH_Allen_Z2_VM_adj\n",
    "Bias2 = ASD_Bias_MERFISH_MIT_Z2_VM_adj\n",
    "STR_Com = len(set(Bias1.head(50).index.values).intersection(set(Bias2.head(50).index.values)))\n",
    "STR_Com"
   ]
  },
  {
   "cell_type": "code",
   "execution_count": null,
   "id": "1f74cbc8",
   "metadata": {
    "hidden": true
   },
   "outputs": [],
   "source": []
  },
  {
   "cell_type": "code",
   "execution_count": null,
   "id": "ace5c39c",
   "metadata": {
    "hidden": true
   },
   "outputs": [],
   "source": []
  },
  {
   "cell_type": "code",
   "execution_count": 295,
   "id": "9dcd32b2",
   "metadata": {
    "hidden": true
   },
   "outputs": [
    {
     "name": "stdout",
     "output_type": "stream",
     "text": [
      "(0.772068053681599, 3.2453983893161315e-43)\n"
     ]
    },
    {
     "data": {
      "image/png": "[encoded data removed]",
      "text/plain": [
       "<Figure size 640x320 with 2 Axes>"
      ]
     },
     "metadata": {
      "needs_background": "light"
     },
     "output_type": "display_data"
    }
   ],
   "source": [
    "BiasCorrelation(ASD_Bias_MERFISH_STR_VM, ASD_Bias_MERFISH_Allen_VM_Zmatch)"
   ]
  },
  {
   "cell_type": "code",
   "execution_count": 297,
   "id": "a475ff70",
   "metadata": {
    "hidden": true
   },
   "outputs": [
    {
     "name": "stdout",
     "output_type": "stream",
     "text": [
      "(0.8355119823015911, 1.6072582639381203e-56)\n"
     ]
    },
    {
     "data": {
      "image/png": "[encoded data removed]",
      "text/plain": [
       "<Figure size 640x320 with 2 Axes>"
      ]
     },
     "metadata": {
      "needs_background": "light"
     },
     "output_type": "display_data"
    },
    {
     "data": {
      "text/plain": [
       "31"
      ]
     },
     "execution_count": 297,
     "metadata": {},
     "output_type": "execute_result"
    }
   ],
   "source": [
    "BiasCorrelation(ASD_Bias_MERFISH_MIT_Z2_VM, ASD_Bias_MERFISH_Allen_VM)\n",
    "Bias1 = ASD_Bias_MERFISH_MIT_Z2_VM\n",
    "Bias2 = ASD_Bias_MERFISH_Allen_VM\n",
    "STR_Com = len(set(Bias1.head(50).index.values).intersection(set(Bias2.head(50).index.values)))\n",
    "STR_Com"
   ]
  },
  {
   "cell_type": "code",
   "execution_count": 210,
   "id": "d0ad5072",
   "metadata": {
    "hidden": true
   },
   "outputs": [
    {
     "data": {
      "text/plain": [
       "35"
      ]
     },
     "execution_count": 210,
     "metadata": {},
     "output_type": "execute_result"
    }
   ],
   "source": [
    "Bias1 = ASD_Bias_MERFISH_STR_VM\n",
    "Bias2 = ASD_Bias_MERFISH_Allen_VM\n",
    "STR_Com = len(set(Bias1.head(50).index.values).intersection(set(Bias2.head(50).index.values)))\n",
    "STR_Com"
   ]
  },
  {
   "cell_type": "code",
   "execution_count": null,
   "id": "969e8486",
   "metadata": {
    "hidden": true
   },
   "outputs": [],
   "source": []
  },
  {
   "cell_type": "code",
   "execution_count": 220,
   "id": "8e7a2a26",
   "metadata": {
    "hidden": true
   },
   "outputs": [],
   "source": [
    "MouseISH_Zmatch = pd.read_csv(\"dat/MERFISH/Z2Mat.ISH.Zmatch.csv\", index_col=0)"
   ]
  },
  {
   "cell_type": "code",
   "execution_count": 312,
   "id": "bd7c11e4",
   "metadata": {
    "hidden": true
   },
   "outputs": [],
   "source": [
    "MouseISH_Z1 = pd.read_csv(\"../../ASD_Circuits/dat/allen-mouse-exp/AllenMouse_z1_mat.0511.csv\", index_col=0)"
   ]
  },
  {
   "cell_type": "code",
   "execution_count": 314,
   "id": "fe17e8fe",
   "metadata": {
    "hidden": true
   },
   "outputs": [],
   "source": [
    "ASD_ISH_Z1 = AvgSTRZ_Weighted(MouseISH_Z1, ASD_GW) \n",
    "ASD_ISH_Z1 = FixSubiculum(ASD_ISH_Z1)"
   ]
  },
  {
   "cell_type": "code",
   "execution_count": 315,
   "id": "5eaee680",
   "metadata": {
    "hidden": true
   },
   "outputs": [
    {
     "name": "stdout",
     "output_type": "stream",
     "text": [
      "(0.9524627885056612, 2.296070411136828e-110)\n"
     ]
    },
    {
     "data": {
      "image/png": "[encoded data removed]",
      "text/plain": [
       "<Figure size 640x320 with 2 Axes>"
      ]
     },
     "metadata": {
      "needs_background": "light"
     },
     "output_type": "display_data"
    },
    {
     "data": {
      "text/plain": [
       "47"
      ]
     },
     "execution_count": 315,
     "metadata": {},
     "output_type": "execute_result"
    }
   ],
   "source": [
    "BiasCorrelation(ASD_ISH_Z1, ASD_ISH)\n",
    "Bias1 = ASD_ISH_Z1\n",
    "Bias2 = ASD_ISH\n",
    "STR_Com = len(set(Bias1.head(50).index.values).intersection(set(Bias2.head(50).index.values)))\n",
    "STR_Com"
   ]
  },
  {
   "cell_type": "code",
   "execution_count": 316,
   "id": "62f81525",
   "metadata": {
    "hidden": true
   },
   "outputs": [
    {
     "name": "stdout",
     "output_type": "stream",
     "text": [
      "(0.9217561295968527, 2.3765040899465764e-88)\n"
     ]
    },
    {
     "data": {
      "image/png": "[encoded data removed]",
      "text/plain": [
       "<Figure size 640x320 with 2 Axes>"
      ]
     },
     "metadata": {
      "needs_background": "light"
     },
     "output_type": "display_data"
    },
    {
     "data": {
      "text/plain": [
       "38"
      ]
     },
     "execution_count": 316,
     "metadata": {},
     "output_type": "execute_result"
    }
   ],
   "source": [
    "BiasCorrelation(ASD_ISH_Z1, ASD_ISH_v2)\n",
    "Bias1 = ASD_ISH_Z1\n",
    "Bias2 = ASD_ISH_v2\n",
    "STR_Com = len(set(Bias1.head(50).index.values).intersection(set(Bias2.head(50).index.values)))\n",
    "STR_Com"
   ]
  },
  {
   "cell_type": "code",
   "execution_count": null,
   "id": "5cb22438",
   "metadata": {
    "hidden": true
   },
   "outputs": [],
   "source": []
  },
  {
   "cell_type": "code",
   "execution_count": 223,
   "id": "6ecd69e1",
   "metadata": {
    "hidden": true
   },
   "outputs": [],
   "source": [
    "ASD_ISH_v2 = AvgSTRZ_Weighted(MouseISH_Zmatch, ASD_GW) \n",
    "ASD_ISH_v2_adj = AvgSTRZ_Weighted(MouseISH_Zmatch, ASD_GW_adj) "
   ]
  },
  {
   "cell_type": "code",
   "execution_count": 234,
   "id": "308fe6ae",
   "metadata": {
    "hidden": true
   },
   "outputs": [],
   "source": [
    "def FixSubiculum(DF):\n",
    "    X = DF.loc[\"Subiculum_dorsal_part\"]\n",
    "    Y = DF.loc[\"Subiculum_ventral_part\"]\n",
    "    Z = [(X[0]+Y[0])/2, \"Hippocampus\", 214]\n",
    "    DF.loc[\"Subiculum\"] = Z\n",
    "    DF = DF.drop([\"Subiculum_dorsal_part\", \"Subiculum_ventral_part\"])\n",
    "    return DF"
   ]
  },
  {
   "cell_type": "code",
   "execution_count": 235,
   "id": "242fe1bf",
   "metadata": {
    "hidden": true
   },
   "outputs": [],
   "source": [
    "ASD_ISH_v2 = FixSubiculum(ASD_ISH_v2)\n",
    "ASD_ISH_v2_adj = FixSubiculum(ASD_ISH_v2_adj)"
   ]
  },
  {
   "cell_type": "code",
   "execution_count": 226,
   "id": "07831ad0",
   "metadata": {
    "hidden": true
   },
   "outputs": [],
   "source": [
    "#ASD_ISH_v2.head(50)"
   ]
  },
  {
   "cell_type": "code",
   "execution_count": 227,
   "id": "e86a2532",
   "metadata": {
    "hidden": true
   },
   "outputs": [],
   "source": [
    "#ASD_ISH_v2[ASD_ISH_v2[\"REGION\"]==\"Thalamus\"]"
   ]
  },
  {
   "cell_type": "code",
   "execution_count": 301,
   "id": "b506d5a1",
   "metadata": {
    "hidden": true
   },
   "outputs": [
    {
     "name": "stdout",
     "output_type": "stream",
     "text": [
      "Thalamus\t7\tParafascicular_nucleus; Rhomboid_nucleus; Submedial_nucleus_of_the_thalamus; Nucleus_of_reuniens; Subparafascicular_nucleus_magnocellular_part; Ventral_posteromedial_nucleus_of_the_thalamus_parvicellular_part; Central_medial_nucleus_of_the_thalamus\n",
      "Amygdala\t3\tLateral_amygdalar_nucleus; Basomedial_amygdalar_nucleus; Basolateral_amygdalar_nucleus\n",
      "Striatum\t2\tNucleus_accumbens; Caudoputamen\n",
      "Olfactory_areas\t4\tDorsal_peduncular_area; Anterior_olfactory_nucleus; Accessory_olfactory_bulb; Postpiriform_transition_area\n",
      "Isocortex\t25\tAnteromedial_visual_area; Primary_visual_area; Retrosplenial_area_lateral_agranular_part; Prelimbic_area; Orbital_area_lateral_part; Orbital_area_ventrolateral_part; Primary_somatosensory_area_lower_limb; posteromedial_visual_area; Visceral_area; Lateral_visual_area; Posterolateral_visual_area; Secondary_motor_area; Infralimbic_area; Posterior_parietal_association_areas; Orbital_area_medial_part; Anterior_cingulate_area_dorsal_part; Primary_somatosensory_area_trunk; Anterolateral_visual_area; Agranular_insular_area_posterior_part; Supplemental_somatosensory_area; Primary_motor_area; Temporal_association_areas; Frontal_pole_cerebral_cortex; Primary_somatosensory_area_barrel_field; Dorsal_auditory_area\n",
      "Hippocampus\t6\tField_CA1; Field_CA2; Dentate_gyrus; Parasubiculum; Entorhinal_area_lateral_part; Field_CA3\n",
      "Cortical_subplate\t3\tClaustrum; Endopiriform_nucleus_dorsal_part; Endopiriform_nucleus_ventral_part\n",
      "\n"
     ]
    }
   ],
   "source": [
    "print(RegionDistributionsList(ASD_ISH_v2.head(50).index.values))"
   ]
  },
  {
   "cell_type": "code",
   "execution_count": 298,
   "id": "ae552211",
   "metadata": {
    "hidden": true
   },
   "outputs": [
    {
     "name": "stdout",
     "output_type": "stream",
     "text": [
      "(0.9678782583195921, 6.887670827015765e-128)\n"
     ]
    },
    {
     "data": {
      "image/png": "[encoded data removed]",
      "text/plain": [
       "<Figure size 640x320 with 2 Axes>"
      ]
     },
     "metadata": {
      "needs_background": "light"
     },
     "output_type": "display_data"
    },
    {
     "data": {
      "text/plain": [
       "36"
      ]
     },
     "execution_count": 298,
     "metadata": {},
     "output_type": "execute_result"
    }
   ],
   "source": [
    "BiasCorrelation(ASD_ISH_v2, ASD_ISH)\n",
    "Bias1 = ASD_ISH_v2\n",
    "Bias2 = ASD_ISH\n",
    "STR_Com = len(set(Bias1.head(50).index.values).intersection(set(Bias2.head(50).index.values)))\n",
    "STR_Com"
   ]
  },
  {
   "cell_type": "code",
   "execution_count": 237,
   "id": "065bd522",
   "metadata": {
    "hidden": true
   },
   "outputs": [
    {
     "name": "stdout",
     "output_type": "stream",
     "text": [
      "(0.9381955374602016, 1.0036242415215279e-98)\n"
     ]
    },
    {
     "data": {
      "image/png": "[encoded data removed]",
      "text/plain": [
       "<Figure size 640x320 with 2 Axes>"
      ]
     },
     "metadata": {
      "needs_background": "light"
     },
     "output_type": "display_data"
    }
   ],
   "source": [
    "BiasCorrelation(ASD_ISH_v2_adj, ASD_ISH)"
   ]
  },
  {
   "cell_type": "code",
   "execution_count": 238,
   "id": "4cf8d3fe",
   "metadata": {
    "hidden": true
   },
   "outputs": [
    {
     "name": "stdout",
     "output_type": "stream",
     "text": [
      "(0.7498494004010477, 1.54878815925137e-39)\n"
     ]
    },
    {
     "data": {
      "image/png": "[encoded data removed]",
      "text/plain": [
       "<Figure size 640x320 with 2 Axes>"
      ]
     },
     "metadata": {
      "needs_background": "light"
     },
     "output_type": "display_data"
    }
   ],
   "source": [
    "BiasCorrelation(ASD_ISH_v2, ASD_Bias_MERFISH_STR_VM_ZM)"
   ]
  },
  {
   "cell_type": "code",
   "execution_count": 239,
   "id": "b7303958",
   "metadata": {
    "hidden": true
   },
   "outputs": [
    {
     "name": "stdout",
     "output_type": "stream",
     "text": [
      "(0.8030609878977124, 4.172267169212268e-49)\n"
     ]
    },
    {
     "data": {
      "image/png": "[encoded data removed]",
      "text/plain": [
       "<Figure size 640x320 with 2 Axes>"
      ]
     },
     "metadata": {
      "needs_background": "light"
     },
     "output_type": "display_data"
    }
   ],
   "source": [
    "BiasCorrelation(ASD_ISH_v2, ASD_Bias_MERFISH_Allen_VM_Zmatch)"
   ]
  },
  {
   "cell_type": "code",
   "execution_count": 240,
   "id": "68d03960",
   "metadata": {
    "hidden": true
   },
   "outputs": [
    {
     "data": {
      "text/plain": [
       "29"
      ]
     },
     "execution_count": 240,
     "metadata": {},
     "output_type": "execute_result"
    }
   ],
   "source": [
    "Bias1 = ASD_ISH_v2\n",
    "Bias2 = ASD_Bias_MERFISH_Allen_VM_Zmatch\n",
    "STR_Com = len(set(Bias1.head(50).index.values).intersection(set(Bias2.head(50).index.values)))\n",
    "STR_Com"
   ]
  },
  {
   "cell_type": "markdown",
   "id": "0fe6e206",
   "metadata": {
    "heading_collapsed": true,
    "hidden": true
   },
   "source": [
    "## Clean UP"
   ]
  },
  {
   "cell_type": "code",
   "execution_count": null,
   "id": "cce6453f",
   "metadata": {
    "hidden": true
   },
   "outputs": [],
   "source": [
    "Merfish_Zhuang_Z2 = pd.read_csv(\"dat/MERFISH_Zhuang/Z2Mat.ISH_STR.VolMean.SCMatch.Zmatch.csv\")\n"
   ]
  },
  {
   "cell_type": "code",
   "execution_count": null,
   "id": "da19344d",
   "metadata": {
    "hidden": true
   },
   "outputs": [],
   "source": []
  },
  {
   "cell_type": "code",
   "execution_count": null,
   "id": "d5026ed4",
   "metadata": {
    "hidden": true
   },
   "outputs": [],
   "source": []
  },
  {
   "cell_type": "code",
   "execution_count": null,
   "id": "8557e69a",
   "metadata": {
    "hidden": true
   },
   "outputs": [],
   "source": []
  },
  {
   "cell_type": "code",
   "execution_count": null,
   "id": "8059245d",
   "metadata": {
    "hidden": true
   },
   "outputs": [],
   "source": []
  },
  {
   "cell_type": "code",
   "execution_count": null,
   "id": "cf907570",
   "metadata": {
    "hidden": true
   },
   "outputs": [],
   "source": []
  },
  {
   "cell_type": "markdown",
   "id": "67cb0a9e",
   "metadata": {
    "heading_collapsed": true
   },
   "source": [
    "# Expression L Compare of 2 MERFISH dataset"
   ]
  },
  {
   "cell_type": "code",
   "execution_count": 3,
   "id": "41fc97f9",
   "metadata": {
    "hidden": true
   },
   "outputs": [],
   "source": [
    "MERFISH_Allen_STR_ExpL = pd.read_csv(\"dat/MERFISH/STR_Vol_Mean_DF.UMI.csv\", index_col=0)\n",
    "MERFISH_Zhuang_STR_ExpL = pd.read_csv(\"dat/MERFISH_Zhuang/STR_Vol_Mean_DF.UMI.csv\", index_col=0)"
   ]
  },
  {
   "cell_type": "code",
   "execution_count": 4,
   "id": "4d840aea",
   "metadata": {
    "hidden": true
   },
   "outputs": [],
   "source": [
    "MERFISH_Allen_STR_Z1 = pd.read_csv(\"dat/MERFISH/STR_Vol_Mean_Z1Mat.clip.csv\", index_col=0)\n",
    "MERFISH_Zhuang_STR_Z1 = pd.read_csv(\"dat/MERFISH_Zhuang/STR_Vol_Mean_Z1Mat.clip.csv\", index_col=0)"
   ]
  },
  {
   "cell_type": "code",
   "execution_count": 7,
   "id": "c48af682",
   "metadata": {
    "hidden": true
   },
   "outputs": [],
   "source": [
    "GeneExpCorr = pd.read_csv(\"dat/ISH_MERFISH_Gene_CorssSTR_Corr.v2.csv\", index_col=0)"
   ]
  },
  {
   "cell_type": "code",
   "execution_count": 8,
   "id": "498c64cc",
   "metadata": {
    "hidden": true
   },
   "outputs": [
    {
     "data": {
      "text/html": [
       "<div>\n",
       "<style scoped>\n",
       "    .dataframe tbody tr th:only-of-type {\n",
       "        vertical-align: middle;\n",
       "    }\n",
       "\n",
       "    .dataframe tbody tr th {\n",
       "        vertical-align: top;\n",
       "    }\n",
       "\n",
       "    .dataframe thead th {\n",
       "        text-align: right;\n",
       "    }\n",
       "</style>\n",
       "<table border=\"1\" class=\"dataframe\">\n",
       "  <thead>\n",
       "    <tr style=\"text-align: right;\">\n",
       "      <th></th>\n",
       "      <th>Corr</th>\n",
       "      <th>Symbol</th>\n",
       "      <th>ISH_exp</th>\n",
       "      <th>MERFISH_exp</th>\n",
       "      <th>V2_V3_CT_Corr</th>\n",
       "    </tr>\n",
       "    <tr>\n",
       "      <th>Genes</th>\n",
       "      <th></th>\n",
       "      <th></th>\n",
       "      <th></th>\n",
       "      <th></th>\n",
       "      <th></th>\n",
       "    </tr>\n",
       "  </thead>\n",
       "  <tbody>\n",
       "    <tr>\n",
       "      <th>27132</th>\n",
       "      <td>0.939306</td>\n",
       "      <td>CPNE7</td>\n",
       "      <td>2.433352</td>\n",
       "      <td>1.604471</td>\n",
       "      <td>0.731995</td>\n",
       "    </tr>\n",
       "    <tr>\n",
       "      <th>140885</th>\n",
       "      <td>0.929601</td>\n",
       "      <td>SIRPA</td>\n",
       "      <td>2.349709</td>\n",
       "      <td>4.576162</td>\n",
       "      <td>0.768766</td>\n",
       "    </tr>\n",
       "  </tbody>\n",
       "</table>\n",
       "</div>"
      ],
      "text/plain": [
       "            Corr Symbol   ISH_exp  MERFISH_exp  V2_V3_CT_Corr\n",
       "Genes                                                        \n",
       "27132   0.939306  CPNE7  2.433352     1.604471       0.731995\n",
       "140885  0.929601  SIRPA  2.349709     4.576162       0.768766"
      ]
     },
     "execution_count": 8,
     "metadata": {},
     "output_type": "execute_result"
    }
   ],
   "source": [
    "GeneExpCorr.head(2)"
   ]
  },
  {
   "cell_type": "code",
   "execution_count": 9,
   "id": "5b661772",
   "metadata": {
    "hidden": true
   },
   "outputs": [],
   "source": [
    "for i, row in GeneExpCorr.iterrows():\n",
    "    row1 = MERFISH_Allen_STR_ExpL.loc[i, :].values\n",
    "    row2 = MERFISH_Zhuang_STR_ExpL.loc[i, :].values\n",
    "    r, p = pearsonr(row1, row2) #, nan_policy=\"omit\")\n",
    "    GeneExpCorr.loc[i, \"Two_MERFISH_STR_Corr\"] = r"
   ]
  },
  {
   "cell_type": "code",
   "execution_count": 10,
   "id": "dc6a9a14",
   "metadata": {
    "hidden": true
   },
   "outputs": [],
   "source": [
    "GeneExpCorr.to_csv(\"dat/ISH_MERFISH_Gene_CorssSTR_Corr.v3.csv\")"
   ]
  },
  {
   "cell_type": "code",
   "execution_count": 11,
   "id": "21fadaac",
   "metadata": {
    "hidden": true
   },
   "outputs": [
    {
     "data": {
      "text/plain": [
       "<matplotlib.collections.PathCollection at 0x7ff4977c1910>"
      ]
     },
     "execution_count": 11,
     "metadata": {},
     "output_type": "execute_result"
    },
    {
     "data": {
      "image/png": "[encoded data removed]",
      "text/plain": [
       "<Figure size 432x288 with 1 Axes>"
      ]
     },
     "metadata": {
      "needs_background": "light"
     },
     "output_type": "display_data"
    }
   ],
   "source": [
    "X = GeneExpCorr[\"V2_V3_CT_Corr\"]\n",
    "Y = GeneExpCorr[\"Two_MERFISH_STR_Corr\"]\n",
    "plt.scatter(X, Y, s=1)"
   ]
  },
  {
   "cell_type": "markdown",
   "id": "d633fb79",
   "metadata": {
    "hidden": true
   },
   "source": [
    "##### Corss STRs"
   ]
  },
  {
   "cell_type": "code",
   "execution_count": 13,
   "id": "a13c9ef2",
   "metadata": {
    "hidden": true
   },
   "outputs": [],
   "source": [
    "AllenMERFISH_MKExp = pd.read_csv(\"dat/MERFISH_MarkerG/STR_MERFISH_MarkerG.csv\", index_col=0)"
   ]
  },
  {
   "cell_type": "code",
   "execution_count": 14,
   "id": "33f817c1",
   "metadata": {
    "hidden": true
   },
   "outputs": [],
   "source": [
    "AllenMERFISH_MKGenes = AllenMERFISH_MKExp.index.values"
   ]
  },
  {
   "cell_type": "code",
   "execution_count": 15,
   "id": "b40a6df7",
   "metadata": {
    "hidden": true
   },
   "outputs": [
    {
     "data": {
      "text/plain": [
       "488"
      ]
     },
     "execution_count": 15,
     "metadata": {},
     "output_type": "execute_result"
    }
   ],
   "source": [
    "len(AllenMERFISH_MKGenes)"
   ]
  },
  {
   "cell_type": "code",
   "execution_count": 16,
   "id": "2a0b43c3",
   "metadata": {
    "hidden": true
   },
   "outputs": [
    {
     "name": "stderr",
     "output_type": "stream",
     "text": [
      "/home/jw3514/anaconda3/lib/python3.9/site-packages/scipy/stats/stats.py:4023: PearsonRConstantInputWarning: An input array is constant; the correlation coefficient is not defined.\n",
      "  warnings.warn(PearsonRConstantInputWarning())\n"
     ]
    }
   ],
   "source": [
    "Cross_STR_Rs = []\n",
    "Cross_STR_Rs_MKG = []\n",
    "for g, row in MERFISH_Allen_STR_ExpL.iterrows():\n",
    "    row1 = row.values\n",
    "    row2 = MERFISH_Zhuang_STR_ExpL.loc[g, :].values\n",
    "    r, p = pearsonr(row1, row2) #, nan_policy=\"omit\")\n",
    "    Cross_STR_Rs.append(r)\n",
    "    if g in AllenMERFISH_MKGenes:\n",
    "        Cross_STR_Rs_MKG.append(r)"
   ]
  },
  {
   "cell_type": "code",
   "execution_count": 17,
   "id": "1ccb8c61",
   "metadata": {
    "hidden": true
   },
   "outputs": [
    {
     "data": {
      "image/png": "[encoded data removed]",
      "text/plain": [
       "<Figure size 432x288 with 1 Axes>"
      ]
     },
     "metadata": {
      "needs_background": "light"
     },
     "output_type": "display_data"
    }
   ],
   "source": [
    "plt.hist(Cross_STR_Rs, bins=20)\n",
    "plt.xlabel(\"Correlation of ExpL cross STR for each gene\")\n",
    "plt.show()"
   ]
  },
  {
   "cell_type": "code",
   "execution_count": 18,
   "id": "5bb04204",
   "metadata": {
    "hidden": true
   },
   "outputs": [
    {
     "data": {
      "image/png": "[encoded data removed]",
      "text/plain": [
       "<Figure size 432x288 with 1 Axes>"
      ]
     },
     "metadata": {
      "needs_background": "light"
     },
     "output_type": "display_data"
    }
   ],
   "source": [
    "plt.hist(Cross_STR_Rs_MKG, bins=20)\n",
    "plt.xlabel(\"Correlation of ExpL cross STR for each gene\")\n",
    "plt.show()"
   ]
  },
  {
   "cell_type": "code",
   "execution_count": 19,
   "id": "0a2fdd16",
   "metadata": {
    "hidden": true
   },
   "outputs": [],
   "source": [
    "Cross_STR_Z1_Rs = []\n",
    "for g, row in MERFISH_Allen_STR_Z1.iterrows():\n",
    "    row1 = row.values\n",
    "    row2 = MERFISH_Zhuang_STR_Z1.loc[g, :].values\n",
    "    #r, p = pearsonr(row1, row2) #, nan_policy=\"omit\")\n",
    "    r, p = spearmanr(row1, row2, nan_policy=\"omit\")\n",
    "    Cross_STR_Z1_Rs.append(r)"
   ]
  },
  {
   "cell_type": "code",
   "execution_count": 20,
   "id": "8ee88c82",
   "metadata": {
    "hidden": true
   },
   "outputs": [
    {
     "data": {
      "image/png": "[encoded data removed]",
      "text/plain": [
       "<Figure size 432x288 with 1 Axes>"
      ]
     },
     "metadata": {
      "needs_background": "light"
     },
     "output_type": "display_data"
    }
   ],
   "source": [
    "plt.hist(Cross_STR_Z1_Rs, bins=20)\n",
    "plt.xlabel(\"Correlation of Z1 cross STR for each gene\")\n",
    "plt.show()"
   ]
  },
  {
   "cell_type": "markdown",
   "id": "4d2ae938",
   "metadata": {
    "hidden": true
   },
   "source": [
    "##### Cross genes Per STR"
   ]
  },
  {
   "cell_type": "code",
   "execution_count": 21,
   "id": "ab00fd4d",
   "metadata": {
    "hidden": true
   },
   "outputs": [],
   "source": [
    "STR_Cross_Gene_Exp_Rs = []\n",
    "#STR_Cross_Gene_Exp_Rs = []\n",
    "for STR in MERFISH_Allen_STR_ExpL.columns.values:\n",
    "    row1 = MERFISH_Allen_STR_ExpL[STR].values\n",
    "    row2 = MERFISH_Zhuang_STR_ExpL[STR].values\n",
    "    r, p = pearsonr(row1, row2) #, nan_policy=\"omit\")\n",
    "    STR_Cross_Gene_Exp_Rs.append(r)"
   ]
  },
  {
   "cell_type": "code",
   "execution_count": 22,
   "id": "a147e516",
   "metadata": {
    "hidden": true
   },
   "outputs": [
    {
     "name": "stdout",
     "output_type": "stream",
     "text": [
      "0.9920044862819719\n",
      "0.9946466023140896\n"
     ]
    }
   ],
   "source": [
    "print(np.mean(STR_Cross_Gene_Exp_Rs))\n",
    "print(np.median(STR_Cross_Gene_Exp_Rs))"
   ]
  },
  {
   "cell_type": "code",
   "execution_count": 23,
   "id": "783b528e",
   "metadata": {
    "hidden": true
   },
   "outputs": [
    {
     "data": {
      "image/png": "[encoded data removed]",
      "text/plain": [
       "<Figure size 432x288 with 1 Axes>"
      ]
     },
     "metadata": {
      "needs_background": "light"
     },
     "output_type": "display_data"
    }
   ],
   "source": [
    "#plt.hist(Cross_STR_Rs, bins=20, label=\"ExpL Cross STR\")\n",
    "#plt.hist(Cross_STR_Z1_Rs, bins=20, label=\"Z1 Cross STR\")\n",
    "plt.hist(STR_Cross_Gene_Exp_Rs, bins=20, label=\"Exp Cross Genes\")\n",
    "\n",
    "plt.xlabel(\"Correlation of ExpL cross Genes for each structure\")\n",
    "plt.show()"
   ]
  },
  {
   "cell_type": "code",
   "execution_count": null,
   "id": "99d94256",
   "metadata": {
    "hidden": true
   },
   "outputs": [],
   "source": []
  },
  {
   "cell_type": "code",
   "execution_count": null,
   "id": "f38ef081",
   "metadata": {
    "hidden": true
   },
   "outputs": [],
   "source": []
  },
  {
   "cell_type": "code",
   "execution_count": 24,
   "id": "d3ecf839",
   "metadata": {
    "hidden": true
   },
   "outputs": [],
   "source": [
    "df = pd.DataFrame(data={\"STR\":MERFISH_Allen_STR_ExpL.columns.values, \"GeneCorr\":STR_Cross_Gene_Exp_Rs})"
   ]
  },
  {
   "cell_type": "code",
   "execution_count": 25,
   "id": "b4fa1c1a",
   "metadata": {
    "hidden": true
   },
   "outputs": [],
   "source": [
    "df = df.sort_values(\"GeneCorr\")"
   ]
  },
  {
   "cell_type": "code",
   "execution_count": 26,
   "id": "3488ba5b",
   "metadata": {
    "hidden": true
   },
   "outputs": [
    {
     "data": {
      "text/html": [
       "<div>\n",
       "<style scoped>\n",
       "    .dataframe tbody tr th:only-of-type {\n",
       "        vertical-align: middle;\n",
       "    }\n",
       "\n",
       "    .dataframe tbody tr th {\n",
       "        vertical-align: top;\n",
       "    }\n",
       "\n",
       "    .dataframe thead th {\n",
       "        text-align: right;\n",
       "    }\n",
       "</style>\n",
       "<table border=\"1\" class=\"dataframe\">\n",
       "  <thead>\n",
       "    <tr style=\"text-align: right;\">\n",
       "      <th></th>\n",
       "      <th>STR</th>\n",
       "      <th>GeneCorr</th>\n",
       "    </tr>\n",
       "  </thead>\n",
       "  <tbody>\n",
       "    <tr>\n",
       "      <th>113</th>\n",
       "      <td>Rhomboid nucleus</td>\n",
       "      <td>0.948928</td>\n",
       "    </tr>\n",
       "    <tr>\n",
       "      <th>107</th>\n",
       "      <td>Intermediodorsal nucleus of the thalamus</td>\n",
       "      <td>0.955866</td>\n",
       "    </tr>\n",
       "    <tr>\n",
       "      <th>101</th>\n",
       "      <td>Posterior limiting nucleus of the thalamus</td>\n",
       "      <td>0.968649</td>\n",
       "    </tr>\n",
       "    <tr>\n",
       "      <th>97</th>\n",
       "      <td>Medial geniculate complex medial part</td>\n",
       "      <td>0.971720</td>\n",
       "    </tr>\n",
       "    <tr>\n",
       "      <th>109</th>\n",
       "      <td>Submedial nucleus of the thalamus</td>\n",
       "      <td>0.971815</td>\n",
       "    </tr>\n",
       "    <tr>\n",
       "      <th>115</th>\n",
       "      <td>Central lateral nucleus of the thalamus</td>\n",
       "      <td>0.972138</td>\n",
       "    </tr>\n",
       "    <tr>\n",
       "      <th>114</th>\n",
       "      <td>Central medial nucleus of the thalamus</td>\n",
       "      <td>0.973008</td>\n",
       "    </tr>\n",
       "    <tr>\n",
       "      <th>108</th>\n",
       "      <td>Mediodorsal nucleus of thalamus</td>\n",
       "      <td>0.973715</td>\n",
       "    </tr>\n",
       "    <tr>\n",
       "      <th>95</th>\n",
       "      <td>Medial geniculate complex dorsal part</td>\n",
       "      <td>0.974172</td>\n",
       "    </tr>\n",
       "    <tr>\n",
       "      <th>112</th>\n",
       "      <td>Nucleus of reuniens</td>\n",
       "      <td>0.975099</td>\n",
       "    </tr>\n",
       "    <tr>\n",
       "      <th>99</th>\n",
       "      <td>Lateral posterior nucleus of the thalamus</td>\n",
       "      <td>0.975378</td>\n",
       "    </tr>\n",
       "    <tr>\n",
       "      <th>100</th>\n",
       "      <td>Posterior complex of the thalamus</td>\n",
       "      <td>0.975874</td>\n",
       "    </tr>\n",
       "    <tr>\n",
       "      <th>157</th>\n",
       "      <td>Substantia nigra compact part</td>\n",
       "      <td>0.976322</td>\n",
       "    </tr>\n",
       "    <tr>\n",
       "      <th>103</th>\n",
       "      <td>Anteromedial nucleus dorsal part</td>\n",
       "      <td>0.976513</td>\n",
       "    </tr>\n",
       "    <tr>\n",
       "      <th>87</th>\n",
       "      <td>Ventral medial nucleus of the thalamus</td>\n",
       "      <td>0.978069</td>\n",
       "    </tr>\n",
       "    <tr>\n",
       "      <th>188</th>\n",
       "      <td>Medullary reticular nucleus dorsal part</td>\n",
       "      <td>0.979232</td>\n",
       "    </tr>\n",
       "    <tr>\n",
       "      <th>146</th>\n",
       "      <td>Ventral tegmental area</td>\n",
       "      <td>0.979619</td>\n",
       "    </tr>\n",
       "    <tr>\n",
       "      <th>111</th>\n",
       "      <td>Parataenial nucleus</td>\n",
       "      <td>0.979770</td>\n",
       "    </tr>\n",
       "    <tr>\n",
       "      <th>39</th>\n",
       "      <td>Accessory olfactory bulb</td>\n",
       "      <td>0.980817</td>\n",
       "    </tr>\n",
       "    <tr>\n",
       "      <th>104</th>\n",
       "      <td>Anteromedial nucleus ventral part</td>\n",
       "      <td>0.980856</td>\n",
       "    </tr>\n",
       "    <tr>\n",
       "      <th>182</th>\n",
       "      <td>Nucleus ambiguus</td>\n",
       "      <td>0.981153</td>\n",
       "    </tr>\n",
       "    <tr>\n",
       "      <th>117</th>\n",
       "      <td>Reticular nucleus of the thalamus</td>\n",
       "      <td>0.981835</td>\n",
       "    </tr>\n",
       "    <tr>\n",
       "      <th>88</th>\n",
       "      <td>Ventral posterolateral nucleus of the thalamus</td>\n",
       "      <td>0.982179</td>\n",
       "    </tr>\n",
       "    <tr>\n",
       "      <th>98</th>\n",
       "      <td>Dorsal part of the lateral geniculate complex</td>\n",
       "      <td>0.982197</td>\n",
       "    </tr>\n",
       "    <tr>\n",
       "      <th>96</th>\n",
       "      <td>Medial geniculate complex ventral part</td>\n",
       "      <td>0.982513</td>\n",
       "    </tr>\n",
       "    <tr>\n",
       "      <th>118</th>\n",
       "      <td>Ventral part of the lateral geniculate complex</td>\n",
       "      <td>0.982674</td>\n",
       "    </tr>\n",
       "    <tr>\n",
       "      <th>180</th>\n",
       "      <td>Spinal nucleus of the trigeminal oral part</td>\n",
       "      <td>0.982834</td>\n",
       "    </tr>\n",
       "    <tr>\n",
       "      <th>48</th>\n",
       "      <td>Postpiriform transition area</td>\n",
       "      <td>0.983542</td>\n",
       "    </tr>\n",
       "    <tr>\n",
       "      <th>171</th>\n",
       "      <td>Motor nucleus of trigeminal</td>\n",
       "      <td>0.984189</td>\n",
       "    </tr>\n",
       "    <tr>\n",
       "      <th>169</th>\n",
       "      <td>Supratrigeminal nucleus</td>\n",
       "      <td>0.984551</td>\n",
       "    </tr>\n",
       "    <tr>\n",
       "      <th>179</th>\n",
       "      <td>Spinal nucleus of the trigeminal interpolar part</td>\n",
       "      <td>0.984786</td>\n",
       "    </tr>\n",
       "    <tr>\n",
       "      <th>202</th>\n",
       "      <td>Pyramus VIII</td>\n",
       "      <td>0.985280</td>\n",
       "    </tr>\n",
       "    <tr>\n",
       "      <th>178</th>\n",
       "      <td>Spinal nucleus of the trigeminal caudal part</td>\n",
       "      <td>0.985348</td>\n",
       "    </tr>\n",
       "    <tr>\n",
       "      <th>106</th>\n",
       "      <td>Lateral dorsal nucleus of thalamus</td>\n",
       "      <td>0.985710</td>\n",
       "    </tr>\n",
       "    <tr>\n",
       "      <th>86</th>\n",
       "      <td>Ventral anterior lateral complex of the thalamus</td>\n",
       "      <td>0.985775</td>\n",
       "    </tr>\n",
       "    <tr>\n",
       "      <th>90</th>\n",
       "      <td>Ventral posteromedial nucleus of the thalamus ...</td>\n",
       "      <td>0.985988</td>\n",
       "    </tr>\n",
       "    <tr>\n",
       "      <th>102</th>\n",
       "      <td>Anteroventral nucleus of thalamus</td>\n",
       "      <td>0.986523</td>\n",
       "    </tr>\n",
       "    <tr>\n",
       "      <th>184</th>\n",
       "      <td>Inferior olivary complex</td>\n",
       "      <td>0.986729</td>\n",
       "    </tr>\n",
       "    <tr>\n",
       "      <th>42</th>\n",
       "      <td>Dorsal peduncular area</td>\n",
       "      <td>0.987175</td>\n",
       "    </tr>\n",
       "    <tr>\n",
       "      <th>160</th>\n",
       "      <td>Central linear nucleus raphe</td>\n",
       "      <td>0.987366</td>\n",
       "    </tr>\n",
       "    <tr>\n",
       "      <th>145</th>\n",
       "      <td>Substantia nigra reticular part</td>\n",
       "      <td>0.987570</td>\n",
       "    </tr>\n",
       "    <tr>\n",
       "      <th>154</th>\n",
       "      <td>Nucleus of the posterior commissure</td>\n",
       "      <td>0.988110</td>\n",
       "    </tr>\n",
       "    <tr>\n",
       "      <th>206</th>\n",
       "      <td>Paramedian lobule</td>\n",
       "      <td>0.988463</td>\n",
       "    </tr>\n",
       "    <tr>\n",
       "      <th>147</th>\n",
       "      <td>Midbrain reticular nucleus retrorubral area</td>\n",
       "      <td>0.988637</td>\n",
       "    </tr>\n",
       "    <tr>\n",
       "      <th>174</th>\n",
       "      <td>Pontine reticular nucleus</td>\n",
       "      <td>0.988702</td>\n",
       "    </tr>\n",
       "    <tr>\n",
       "      <th>189</th>\n",
       "      <td>Medullary reticular nucleus ventral part</td>\n",
       "      <td>0.989195</td>\n",
       "    </tr>\n",
       "    <tr>\n",
       "      <th>190</th>\n",
       "      <td>Parvicellular reticular nucleus</td>\n",
       "      <td>0.989201</td>\n",
       "    </tr>\n",
       "    <tr>\n",
       "      <th>193</th>\n",
       "      <td>Nucleus prepositus</td>\n",
       "      <td>0.990197</td>\n",
       "    </tr>\n",
       "    <tr>\n",
       "      <th>60</th>\n",
       "      <td>Endopiriform nucleus dorsal part</td>\n",
       "      <td>0.990246</td>\n",
       "    </tr>\n",
       "    <tr>\n",
       "      <th>135</th>\n",
       "      <td>Posterior hypothalamic nucleus</td>\n",
       "      <td>0.990876</td>\n",
       "    </tr>\n",
       "  </tbody>\n",
       "</table>\n",
       "</div>"
      ],
      "text/plain": [
       "                                                   STR  GeneCorr\n",
       "113                                   Rhomboid nucleus  0.948928\n",
       "107           Intermediodorsal nucleus of the thalamus  0.955866\n",
       "101         Posterior limiting nucleus of the thalamus  0.968649\n",
       "97               Medial geniculate complex medial part  0.971720\n",
       "109                  Submedial nucleus of the thalamus  0.971815\n",
       "115            Central lateral nucleus of the thalamus  0.972138\n",
       "114             Central medial nucleus of the thalamus  0.973008\n",
       "108                    Mediodorsal nucleus of thalamus  0.973715\n",
       "95               Medial geniculate complex dorsal part  0.974172\n",
       "112                                Nucleus of reuniens  0.975099\n",
       "99           Lateral posterior nucleus of the thalamus  0.975378\n",
       "100                  Posterior complex of the thalamus  0.975874\n",
       "157                      Substantia nigra compact part  0.976322\n",
       "103                   Anteromedial nucleus dorsal part  0.976513\n",
       "87              Ventral medial nucleus of the thalamus  0.978069\n",
       "188            Medullary reticular nucleus dorsal part  0.979232\n",
       "146                             Ventral tegmental area  0.979619\n",
       "111                                Parataenial nucleus  0.979770\n",
       "39                            Accessory olfactory bulb  0.980817\n",
       "104                  Anteromedial nucleus ventral part  0.980856\n",
       "182                                   Nucleus ambiguus  0.981153\n",
       "117                  Reticular nucleus of the thalamus  0.981835\n",
       "88      Ventral posterolateral nucleus of the thalamus  0.982179\n",
       "98       Dorsal part of the lateral geniculate complex  0.982197\n",
       "96              Medial geniculate complex ventral part  0.982513\n",
       "118     Ventral part of the lateral geniculate complex  0.982674\n",
       "180         Spinal nucleus of the trigeminal oral part  0.982834\n",
       "48                        Postpiriform transition area  0.983542\n",
       "171                        Motor nucleus of trigeminal  0.984189\n",
       "169                            Supratrigeminal nucleus  0.984551\n",
       "179   Spinal nucleus of the trigeminal interpolar part  0.984786\n",
       "202                                       Pyramus VIII  0.985280\n",
       "178       Spinal nucleus of the trigeminal caudal part  0.985348\n",
       "106                 Lateral dorsal nucleus of thalamus  0.985710\n",
       "86    Ventral anterior lateral complex of the thalamus  0.985775\n",
       "90   Ventral posteromedial nucleus of the thalamus ...  0.985988\n",
       "102                  Anteroventral nucleus of thalamus  0.986523\n",
       "184                           Inferior olivary complex  0.986729\n",
       "42                              Dorsal peduncular area  0.987175\n",
       "160                       Central linear nucleus raphe  0.987366\n",
       "145                    Substantia nigra reticular part  0.987570\n",
       "154                Nucleus of the posterior commissure  0.988110\n",
       "206                                  Paramedian lobule  0.988463\n",
       "147        Midbrain reticular nucleus retrorubral area  0.988637\n",
       "174                          Pontine reticular nucleus  0.988702\n",
       "189           Medullary reticular nucleus ventral part  0.989195\n",
       "190                    Parvicellular reticular nucleus  0.989201\n",
       "193                                 Nucleus prepositus  0.990197\n",
       "60                    Endopiriform nucleus dorsal part  0.990246\n",
       "135                     Posterior hypothalamic nucleus  0.990876"
      ]
     },
     "execution_count": 26,
     "metadata": {},
     "output_type": "execute_result"
    }
   ],
   "source": [
    "df.head(50)"
   ]
  },
  {
   "cell_type": "code",
   "execution_count": 27,
   "id": "0d25eb88",
   "metadata": {
    "hidden": true
   },
   "outputs": [
    {
     "data": {
      "text/html": [
       "<div>\n",
       "<style scoped>\n",
       "    .dataframe tbody tr th:only-of-type {\n",
       "        vertical-align: middle;\n",
       "    }\n",
       "\n",
       "    .dataframe tbody tr th {\n",
       "        vertical-align: top;\n",
       "    }\n",
       "\n",
       "    .dataframe thead th {\n",
       "        text-align: right;\n",
       "    }\n",
       "</style>\n",
       "<table border=\"1\" class=\"dataframe\">\n",
       "  <thead>\n",
       "    <tr style=\"text-align: right;\">\n",
       "      <th></th>\n",
       "      <th>STR</th>\n",
       "      <th>GeneCorr</th>\n",
       "    </tr>\n",
       "  </thead>\n",
       "  <tbody>\n",
       "    <tr>\n",
       "      <th>74</th>\n",
       "      <td>Anterior amygdalar area</td>\n",
       "      <td>0.996900</td>\n",
       "    </tr>\n",
       "    <tr>\n",
       "      <th>151</th>\n",
       "      <td>Anterior pretectal nucleus</td>\n",
       "      <td>0.996946</td>\n",
       "    </tr>\n",
       "    <tr>\n",
       "      <th>34</th>\n",
       "      <td>Posterior parietal association areas</td>\n",
       "      <td>0.996987</td>\n",
       "    </tr>\n",
       "    <tr>\n",
       "      <th>6</th>\n",
       "      <td>Primary somatosensory area mouth</td>\n",
       "      <td>0.996996</td>\n",
       "    </tr>\n",
       "    <tr>\n",
       "      <th>17</th>\n",
       "      <td>Lateral visual area</td>\n",
       "      <td>0.997018</td>\n",
       "    </tr>\n",
       "    <tr>\n",
       "      <th>132</th>\n",
       "      <td>Medial preoptic nucleus</td>\n",
       "      <td>0.997041</td>\n",
       "    </tr>\n",
       "    <tr>\n",
       "      <th>196</th>\n",
       "      <td>Spinal vestibular nucleus</td>\n",
       "      <td>0.997169</td>\n",
       "    </tr>\n",
       "    <tr>\n",
       "      <th>210</th>\n",
       "      <td>Interposed nucleus</td>\n",
       "      <td>0.997195</td>\n",
       "    </tr>\n",
       "    <tr>\n",
       "      <th>203</th>\n",
       "      <td>Nodulus X</td>\n",
       "      <td>0.997213</td>\n",
       "    </tr>\n",
       "    <tr>\n",
       "      <th>131</th>\n",
       "      <td>Supramammillary nucleus</td>\n",
       "      <td>0.997219</td>\n",
       "    </tr>\n",
       "    <tr>\n",
       "      <th>12</th>\n",
       "      <td>Dorsal auditory area</td>\n",
       "      <td>0.997244</td>\n",
       "    </tr>\n",
       "    <tr>\n",
       "      <th>3</th>\n",
       "      <td>Primary somatosensory area nose</td>\n",
       "      <td>0.997267</td>\n",
       "    </tr>\n",
       "    <tr>\n",
       "      <th>170</th>\n",
       "      <td>Tegmental reticular nucleus</td>\n",
       "      <td>0.997274</td>\n",
       "    </tr>\n",
       "    <tr>\n",
       "      <th>4</th>\n",
       "      <td>Primary somatosensory area barrel field</td>\n",
       "      <td>0.997367</td>\n",
       "    </tr>\n",
       "    <tr>\n",
       "      <th>8</th>\n",
       "      <td>Primary somatosensory area trunk</td>\n",
       "      <td>0.997390</td>\n",
       "    </tr>\n",
       "    <tr>\n",
       "      <th>49</th>\n",
       "      <td>Field CA1</td>\n",
       "      <td>0.997432</td>\n",
       "    </tr>\n",
       "    <tr>\n",
       "      <th>57</th>\n",
       "      <td>Presubiculum</td>\n",
       "      <td>0.997494</td>\n",
       "    </tr>\n",
       "    <tr>\n",
       "      <th>54</th>\n",
       "      <td>Entorhinal area medial part dorsal zone</td>\n",
       "      <td>0.997523</td>\n",
       "    </tr>\n",
       "    <tr>\n",
       "      <th>69</th>\n",
       "      <td>Olfactory tubercle</td>\n",
       "      <td>0.997569</td>\n",
       "    </tr>\n",
       "    <tr>\n",
       "      <th>172</th>\n",
       "      <td>Superior central nucleus raphe</td>\n",
       "      <td>0.997585</td>\n",
       "    </tr>\n",
       "    <tr>\n",
       "      <th>73</th>\n",
       "      <td>Septofimbrial nucleus</td>\n",
       "      <td>0.997612</td>\n",
       "    </tr>\n",
       "    <tr>\n",
       "      <th>32</th>\n",
       "      <td>Retrosplenial area dorsal part</td>\n",
       "      <td>0.997612</td>\n",
       "    </tr>\n",
       "    <tr>\n",
       "      <th>139</th>\n",
       "      <td>Subthalamic nucleus</td>\n",
       "      <td>0.997620</td>\n",
       "    </tr>\n",
       "    <tr>\n",
       "      <th>40</th>\n",
       "      <td>Anterior olfactory nucleus</td>\n",
       "      <td>0.997625</td>\n",
       "    </tr>\n",
       "    <tr>\n",
       "      <th>120</th>\n",
       "      <td>Lateral habenula</td>\n",
       "      <td>0.997641</td>\n",
       "    </tr>\n",
       "    <tr>\n",
       "      <th>44</th>\n",
       "      <td>Nucleus of the lateral olfactory tract</td>\n",
       "      <td>0.997659</td>\n",
       "    </tr>\n",
       "    <tr>\n",
       "      <th>140</th>\n",
       "      <td>Tuberal nucleus</td>\n",
       "      <td>0.997773</td>\n",
       "    </tr>\n",
       "    <tr>\n",
       "      <th>38</th>\n",
       "      <td>Main olfactory bulb</td>\n",
       "      <td>0.997828</td>\n",
       "    </tr>\n",
       "    <tr>\n",
       "      <th>142</th>\n",
       "      <td>Inferior colliculus central nucleus</td>\n",
       "      <td>0.997874</td>\n",
       "    </tr>\n",
       "    <tr>\n",
       "      <th>67</th>\n",
       "      <td>Nucleus accumbens</td>\n",
       "      <td>0.997900</td>\n",
       "    </tr>\n",
       "    <tr>\n",
       "      <th>68</th>\n",
       "      <td>Fundus of striatum</td>\n",
       "      <td>0.997987</td>\n",
       "    </tr>\n",
       "    <tr>\n",
       "      <th>75</th>\n",
       "      <td>Central amygdalar nucleus</td>\n",
       "      <td>0.998016</td>\n",
       "    </tr>\n",
       "    <tr>\n",
       "      <th>33</th>\n",
       "      <td>Retrosplenial area ventral part</td>\n",
       "      <td>0.998026</td>\n",
       "    </tr>\n",
       "    <tr>\n",
       "      <th>83</th>\n",
       "      <td>Diagonal band nucleus</td>\n",
       "      <td>0.998036</td>\n",
       "    </tr>\n",
       "    <tr>\n",
       "      <th>58</th>\n",
       "      <td>Subiculum</td>\n",
       "      <td>0.998038</td>\n",
       "    </tr>\n",
       "    <tr>\n",
       "      <th>18</th>\n",
       "      <td>Primary visual area</td>\n",
       "      <td>0.998039</td>\n",
       "    </tr>\n",
       "    <tr>\n",
       "      <th>207</th>\n",
       "      <td>Paraflocculus</td>\n",
       "      <td>0.998087</td>\n",
       "    </tr>\n",
       "    <tr>\n",
       "      <th>52</th>\n",
       "      <td>Dentate gyrus</td>\n",
       "      <td>0.998220</td>\n",
       "    </tr>\n",
       "    <tr>\n",
       "      <th>77</th>\n",
       "      <td>Medial amygdalar nucleus</td>\n",
       "      <td>0.998228</td>\n",
       "    </tr>\n",
       "    <tr>\n",
       "      <th>167</th>\n",
       "      <td>Pontine gray</td>\n",
       "      <td>0.998241</td>\n",
       "    </tr>\n",
       "    <tr>\n",
       "      <th>79</th>\n",
       "      <td>Globus pallidus internal segment</td>\n",
       "      <td>0.998278</td>\n",
       "    </tr>\n",
       "    <tr>\n",
       "      <th>159</th>\n",
       "      <td>Interpeduncular nucleus</td>\n",
       "      <td>0.998306</td>\n",
       "    </tr>\n",
       "    <tr>\n",
       "      <th>204</th>\n",
       "      <td>Simple lobule</td>\n",
       "      <td>0.998324</td>\n",
       "    </tr>\n",
       "    <tr>\n",
       "      <th>201</th>\n",
       "      <td>Culmen</td>\n",
       "      <td>0.998331</td>\n",
       "    </tr>\n",
       "    <tr>\n",
       "      <th>143</th>\n",
       "      <td>Inferior colliculus dorsal nucleus</td>\n",
       "      <td>0.998552</td>\n",
       "    </tr>\n",
       "    <tr>\n",
       "      <th>127</th>\n",
       "      <td>Periventricular hypothalamic nucleus preoptic ...</td>\n",
       "      <td>0.998753</td>\n",
       "    </tr>\n",
       "    <tr>\n",
       "      <th>134</th>\n",
       "      <td>Ventromedial hypothalamic nucleus</td>\n",
       "      <td>0.998756</td>\n",
       "    </tr>\n",
       "    <tr>\n",
       "      <th>72</th>\n",
       "      <td>Lateral septal nucleus ventral part</td>\n",
       "      <td>0.998809</td>\n",
       "    </tr>\n",
       "    <tr>\n",
       "      <th>130</th>\n",
       "      <td>Medial mammillary nucleus</td>\n",
       "      <td>0.999000</td>\n",
       "    </tr>\n",
       "    <tr>\n",
       "      <th>200</th>\n",
       "      <td>Central lobule</td>\n",
       "      <td>0.999459</td>\n",
       "    </tr>\n",
       "  </tbody>\n",
       "</table>\n",
       "</div>"
      ],
      "text/plain": [
       "                                                   STR  GeneCorr\n",
       "74                             Anterior amygdalar area  0.996900\n",
       "151                         Anterior pretectal nucleus  0.996946\n",
       "34                Posterior parietal association areas  0.996987\n",
       "6                     Primary somatosensory area mouth  0.996996\n",
       "17                                 Lateral visual area  0.997018\n",
       "132                            Medial preoptic nucleus  0.997041\n",
       "196                          Spinal vestibular nucleus  0.997169\n",
       "210                                 Interposed nucleus  0.997195\n",
       "203                                          Nodulus X  0.997213\n",
       "131                            Supramammillary nucleus  0.997219\n",
       "12                                Dorsal auditory area  0.997244\n",
       "3                      Primary somatosensory area nose  0.997267\n",
       "170                        Tegmental reticular nucleus  0.997274\n",
       "4              Primary somatosensory area barrel field  0.997367\n",
       "8                     Primary somatosensory area trunk  0.997390\n",
       "49                                           Field CA1  0.997432\n",
       "57                                        Presubiculum  0.997494\n",
       "54             Entorhinal area medial part dorsal zone  0.997523\n",
       "69                                  Olfactory tubercle  0.997569\n",
       "172                     Superior central nucleus raphe  0.997585\n",
       "73                               Septofimbrial nucleus  0.997612\n",
       "32                      Retrosplenial area dorsal part  0.997612\n",
       "139                                Subthalamic nucleus  0.997620\n",
       "40                          Anterior olfactory nucleus  0.997625\n",
       "120                                   Lateral habenula  0.997641\n",
       "44              Nucleus of the lateral olfactory tract  0.997659\n",
       "140                                    Tuberal nucleus  0.997773\n",
       "38                                 Main olfactory bulb  0.997828\n",
       "142                Inferior colliculus central nucleus  0.997874\n",
       "67                                   Nucleus accumbens  0.997900\n",
       "68                                  Fundus of striatum  0.997987\n",
       "75                           Central amygdalar nucleus  0.998016\n",
       "33                     Retrosplenial area ventral part  0.998026\n",
       "83                               Diagonal band nucleus  0.998036\n",
       "58                                           Subiculum  0.998038\n",
       "18                                 Primary visual area  0.998039\n",
       "207                                      Paraflocculus  0.998087\n",
       "52                                       Dentate gyrus  0.998220\n",
       "77                            Medial amygdalar nucleus  0.998228\n",
       "167                                       Pontine gray  0.998241\n",
       "79                    Globus pallidus internal segment  0.998278\n",
       "159                            Interpeduncular nucleus  0.998306\n",
       "204                                      Simple lobule  0.998324\n",
       "201                                             Culmen  0.998331\n",
       "143                 Inferior colliculus dorsal nucleus  0.998552\n",
       "127  Periventricular hypothalamic nucleus preoptic ...  0.998753\n",
       "134                  Ventromedial hypothalamic nucleus  0.998756\n",
       "72                 Lateral septal nucleus ventral part  0.998809\n",
       "130                          Medial mammillary nucleus  0.999000\n",
       "200                                     Central lobule  0.999459"
      ]
     },
     "execution_count": 27,
     "metadata": {},
     "output_type": "execute_result"
    }
   ],
   "source": [
    "df.tail(50)"
   ]
  },
  {
   "cell_type": "markdown",
   "id": "b93251f3",
   "metadata": {
    "heading_collapsed": true,
    "hidden": true
   },
   "source": [
    "## Compare Cell composition of 2 merfish"
   ]
  },
  {
   "cell_type": "code",
   "execution_count": 29,
   "id": "e7d310ee",
   "metadata": {
    "hidden": true
   },
   "outputs": [],
   "source": [
    "MERFISH_Allen = pd.read_csv(\"dat/MERFISH/MERFISH.ISH_Annot.clean.csv\", index_col=0)"
   ]
  },
  {
   "cell_type": "code",
   "execution_count": 30,
   "id": "6913fac0",
   "metadata": {
    "hidden": true
   },
   "outputs": [],
   "source": [
    "MERFISH_MIT = pd.read_csv(\"dat/MERFISH_Zhuang/MERFISH_Zhuang_1-4_Combine.STR.Annot.csv\", index_col=0)"
   ]
  },
  {
   "cell_type": "code",
   "execution_count": 32,
   "id": "9d2d2c1a",
   "metadata": {
    "hidden": true
   },
   "outputs": [
    {
     "data": {
      "text/plain": [
       "array(['brain_section_label', 'cluster_alias',\n",
       "       'average_correlation_score', 'feature_matrix_label', 'donor_label',\n",
       "       'donor_genotype', 'donor_sex', 'x_section', 'y_section',\n",
       "       'z_section', 'neurotransmitter', 'class', 'subclass', 'supertype',\n",
       "       'cluster', 'neurotransmitter_color', 'class_color',\n",
       "       'subclass_color', 'supertype_color', 'cluster_color',\n",
       "       'x_reconstructed', 'y_reconstructed', 'z_reconstructed',\n",
       "       'parcellation_index', 'x_ccf', 'y_ccf', 'z_ccf',\n",
       "       'parcellation_organ', 'parcellation_category',\n",
       "       'parcellation_division', 'parcellation_structure',\n",
       "       'parcellation_substructure', 'parcellation_organ_color',\n",
       "       'parcellation_category_color', 'parcellation_division_color',\n",
       "       'parcellation_structure_color', 'parcellation_substructure_color',\n",
       "       'ISH_STR'], dtype=object)"
      ]
     },
     "execution_count": 32,
     "metadata": {},
     "output_type": "execute_result"
    }
   ],
   "source": [
    "MERFISH_Allen.columns.values"
   ]
  },
  {
   "cell_type": "code",
   "execution_count": 34,
   "id": "a990163d",
   "metadata": {
    "hidden": true
   },
   "outputs": [],
   "source": [
    "ISH_STRs = set(MERFISH_Allen[\"ISH_STR\"])"
   ]
  },
  {
   "cell_type": "code",
   "execution_count": null,
   "id": "76fbed95",
   "metadata": {
    "hidden": true
   },
   "outputs": [],
   "source": [
    "def GetBiasesForSTR(STR, MERFISH_STRAnn, ASD_CT_Bias_Cluster, CT_ID_SET, Non_Neuron_Class):\n",
    "    STR_MERFISH_DF = MERFISH_STRAnn[MERFISH_STRAnn[\"ISH_STR\"]==STR]\n",
    "    total_bias = 0\n",
    "    total_bias_neuro = 0\n",
    "    N_cell = 0\n",
    "    N_neuro = 0\n",
    "    for i, row in STR_MERFISH_DF.iterrows():\n",
    "        cluster_id = row[\"cluster\"]\n",
    "        if cluster_id not in CT_ID_SET:\n",
    "            continue\n",
    "        class_id = row[\"class\"]\n",
    "        asd_cluster_bias = ASD_CT_Bias_Cluster.loc[cluster_id, \"EFFECT\"]\n",
    "        if asd_cluster_bias == asd_cluster_bias:\n",
    "            total_bias += asd_cluster_bias\n",
    "            N_cell += 1\n",
    "            if class_id not in Non_Neuron_Class:\n",
    "                total_bias_neuro += asd_cluster_bias\n",
    "                N_neuro += 1\n",
    "    if N_cell > 0:\n",
    "        bias_per_cell = total_bias/N_cell\n",
    "    else:\n",
    "        bias_per_cell = 0\n",
    "    if N_neuro > 0:\n",
    "        bias_per_neuro = total_bias_neuro/N_neuro\n",
    "    else:\n",
    "        bias_per_neuro = 0\n",
    "    Vol = CCF_V3_STR.loc[STR, \"total_voxel_counts (10 um)\"]\n",
    "    bias_per_Vol = total_bias/Vol * 100\n",
    "    return bias_per_cell, bias_per_neuro, bias_per_Vol"
   ]
  },
  {
   "cell_type": "code",
   "execution_count": 57,
   "id": "0d0a89e7",
   "metadata": {
    "hidden": true,
    "scrolled": true
   },
   "outputs": [],
   "source": [
    "N_Cell_Allen = []\n",
    "N_Cell_MIT = []\n",
    "ISH_STRs_Name = []\n",
    "for STR in ISH_STRs:\n",
    "    if STR == 'Not in Connectome':\n",
    "        continue\n",
    "    STR_name = \"_\".join(STR.split())\n",
    "    STR_MERFISH_Allen = MERFISH_Allen[MERFISH_Allen[\"ISH_STR\"]==STR]\n",
    "    STR_MERFISH_MIT = MERFISH_MIT[MERFISH_MIT[\"ISH_STR\"]==STR]\n",
    "    #print(\"STR:{} Allen:{} MIT:{}\".format(STR, STR_MERFISH_Allen.shape[0], STR_MERFISH_MIT.shape[0]))\n",
    "    ISH_STRs_Name.append(STR_name)\n",
    "    N_Cell_Allen.append(STR_MERFISH_Allen.shape[0])\n",
    "    N_Cell_MIT.append(STR_MERFISH_MIT.shape[0])"
   ]
  },
  {
   "cell_type": "code",
   "execution_count": 58,
   "id": "28e3bcd6",
   "metadata": {
    "hidden": true
   },
   "outputs": [],
   "source": [
    "ASD_ISH =  pd.read_csv(\"/home/jw3514/Work/ASD_Circuits/dat/Unionize_bias/Spark_Meta_EWS.Z2.bias.csv\", \n",
    "                               index_col=0)\n",
    "ASD_ISH = FixSubiculum(ASD_ISH)\n",
    "ASD_ISH[\"REGION\"] = ASD_ISH[\"REGION\"].replace(\"Amygdalar\", \"Amygdala\")"
   ]
  },
  {
   "cell_type": "code",
   "execution_count": 59,
   "id": "90cc064f",
   "metadata": {
    "hidden": true
   },
   "outputs": [],
   "source": [
    "df = pd.DataFrame(data={\"STR\":ISH_STRs_Name, \"N_Cell_Allen\":N_Cell_Allen, \"N_Cell_MIT\":N_Cell_MIT})"
   ]
  },
  {
   "cell_type": "code",
   "execution_count": 61,
   "id": "dee3340f",
   "metadata": {
    "hidden": true
   },
   "outputs": [],
   "source": [
    "Regions = [ASD_ISH.loc[X, \"REGION\"] for X in ISH_STRs_Name]"
   ]
  },
  {
   "cell_type": "code",
   "execution_count": 63,
   "id": "2ecd6f2b",
   "metadata": {
    "hidden": true
   },
   "outputs": [],
   "source": [
    "df[\"Region\"] = Regions "
   ]
  },
  {
   "cell_type": "code",
   "execution_count": 66,
   "id": "39cdd9d9",
   "metadata": {
    "hidden": true
   },
   "outputs": [],
   "source": [
    "df = df.set_index(\"STR\")"
   ]
  },
  {
   "cell_type": "code",
   "execution_count": 67,
   "id": "a318db36",
   "metadata": {
    "hidden": true
   },
   "outputs": [
    {
     "data": {
      "text/html": [
       "<div>\n",
       "<style scoped>\n",
       "    .dataframe tbody tr th:only-of-type {\n",
       "        vertical-align: middle;\n",
       "    }\n",
       "\n",
       "    .dataframe tbody tr th {\n",
       "        vertical-align: top;\n",
       "    }\n",
       "\n",
       "    .dataframe thead th {\n",
       "        text-align: right;\n",
       "    }\n",
       "</style>\n",
       "<table border=\"1\" class=\"dataframe\">\n",
       "  <thead>\n",
       "    <tr style=\"text-align: right;\">\n",
       "      <th></th>\n",
       "      <th>N_Cell_Allen</th>\n",
       "      <th>N_Cell_MIT</th>\n",
       "      <th>Region</th>\n",
       "    </tr>\n",
       "    <tr>\n",
       "      <th>STR</th>\n",
       "      <th></th>\n",
       "      <th></th>\n",
       "      <th></th>\n",
       "    </tr>\n",
       "  </thead>\n",
       "  <tbody>\n",
       "    <tr>\n",
       "      <th>Inferior_colliculus_central_nucleus</th>\n",
       "      <td>11880</td>\n",
       "      <td>19759</td>\n",
       "      <td>Midbrain</td>\n",
       "    </tr>\n",
       "    <tr>\n",
       "      <th>Anteromedial_visual_area</th>\n",
       "      <td>8729</td>\n",
       "      <td>6462</td>\n",
       "      <td>Isocortex</td>\n",
       "    </tr>\n",
       "  </tbody>\n",
       "</table>\n",
       "</div>"
      ],
      "text/plain": [
       "                                     N_Cell_Allen  N_Cell_MIT     Region\n",
       "STR                                                                     \n",
       "Inferior_colliculus_central_nucleus         11880       19759   Midbrain\n",
       "Anteromedial_visual_area                     8729        6462  Isocortex"
      ]
     },
     "execution_count": 67,
     "metadata": {},
     "output_type": "execute_result"
    }
   ],
   "source": [
    "df.head(2)"
   ]
  },
  {
   "cell_type": "code",
   "execution_count": 70,
   "id": "03a58a34",
   "metadata": {
    "hidden": true
   },
   "outputs": [
    {
     "data": {
      "text/plain": [
       "<matplotlib.collections.PathCollection at 0x7ff43246ec40>"
      ]
     },
     "execution_count": 70,
     "metadata": {},
     "output_type": "execute_result"
    },
    {
     "data": {
      "image/png": "[encoded data removed]",
      "text/plain": [
       "<Figure size 432x288 with 1 Axes>"
      ]
     },
     "metadata": {
      "needs_background": "light"
     },
     "output_type": "display_data"
    }
   ],
   "source": [
    "plt.scatter(np.log10(df[\"N_Cell_Allen\"].values), np.log10(df[\"N_Cell_MIT\"].values))"
   ]
  },
  {
   "cell_type": "code",
   "execution_count": null,
   "id": "83e308ba",
   "metadata": {
    "hidden": true
   },
   "outputs": [],
   "source": []
  },
  {
   "cell_type": "code",
   "execution_count": null,
   "id": "35b7a4eb",
   "metadata": {
    "hidden": true
   },
   "outputs": [],
   "source": []
  },
  {
   "cell_type": "code",
   "execution_count": null,
   "id": "5e0642ad",
   "metadata": {
    "hidden": true
   },
   "outputs": [],
   "source": []
  },
  {
   "cell_type": "code",
   "execution_count": 40,
   "id": "ea8faeab",
   "metadata": {
    "hidden": true
   },
   "outputs": [
    {
     "name": "stdout",
     "output_type": "stream",
     "text": [
      "STR:Mediodorsal nucleus of thalamus Allen:9656 MIT:9436\n"
     ]
    }
   ],
   "source": [
    "STR = \"Mediodorsal nucleus of thalamus\"\n",
    "STR_MERFISH_Allen = MERFISH_Allen[MERFISH_Allen[\"ISH_STR\"]==STR]\n",
    "STR_MERFISH_MIT = MERFISH_MIT[MERFISH_MIT[\"ISH_STR\"]==STR]\n",
    "print(\"STR:{} Allen:{} MIT:{}\".format(STR, STR_MERFISH_Allen.shape[0], STR_MERFISH_MIT.shape[0]))"
   ]
  },
  {
   "cell_type": "code",
   "execution_count": 46,
   "id": "8f4807c0",
   "metadata": {
    "hidden": true
   },
   "outputs": [
    {
     "data": {
      "text/plain": [
       "{'01 IT-ET Glut',\n",
       " '02 NP-CT-L6b Glut',\n",
       " '03 OB-CR Glut',\n",
       " '05 OB-IMN GABA',\n",
       " '06 CTX-CGE GABA',\n",
       " '07 CTX-MGE GABA',\n",
       " '08 CNU-MGE GABA',\n",
       " '09 CNU-LGE GABA',\n",
       " '11 CNU-HYa GABA',\n",
       " '13 CNU-HYa Glut',\n",
       " '30 Astro-Epen',\n",
       " '31 OPC-Oligo',\n",
       " '33 Vascular',\n",
       " '34 Immune'}"
      ]
     },
     "execution_count": 46,
     "metadata": {},
     "output_type": "execute_result"
    }
   ],
   "source": [
    "set(STR_MERFISH_Allen[\"class\"])"
   ]
  },
  {
   "cell_type": "markdown",
   "id": "a0be8a5e",
   "metadata": {},
   "source": [
    "# Figure out expl cal diff"
   ]
  },
  {
   "cell_type": "code",
   "execution_count": 6,
   "id": "d064fe4a",
   "metadata": {},
   "outputs": [],
   "source": [
    "MERFISH = pd.read_csv(\"/home/jw3514/Work/CellType_Psy/AllenBrainCellAtlas/dat/MERFISH/MERFISH.ISH_Annot.clean.csv\", index_col=0)\n",
    "Cluster_V3_Exp = pd.read_csv(\"/home/jw3514/Work/CellType_Psy/AllenBrainCellAtlas/dat/SC_UMI_Mats/cluster_MeanLogUMI.csv\", index_col=0)"
   ]
  },
  {
   "cell_type": "code",
   "execution_count": 24,
   "id": "78cdc2a5",
   "metadata": {},
   "outputs": [],
   "source": [
    "Non_Neuron_Class = [\"30 Astro-Epen\",\"31 OPC-Oligo\",\"32 OEC\",\"33 Vascular\",\"34 Immune\"]"
   ]
  },
  {
   "cell_type": "code",
   "execution_count": null,
   "id": "9a1f2052",
   "metadata": {},
   "outputs": [],
   "source": []
  },
  {
   "cell_type": "code",
   "execution_count": null,
   "id": "8f0c34ee",
   "metadata": {},
   "outputs": [],
   "source": []
  },
  {
   "cell_type": "code",
   "execution_count": 25,
   "id": "65bcf46d",
   "metadata": {},
   "outputs": [],
   "source": [
    "STR = \"Superior vestibular nucleus\"\n",
    "MERFISH_STR = MERFISH[MERFISH[\"ISH_STR\"]==STR]\n",
    "MERFISH_STR_Neur = MERFISH_STR[~MERFISH_STR[\"class\"].isin(Non_Neuron_Class)]"
   ]
  },
  {
   "cell_type": "code",
   "execution_count": 18,
   "id": "63771920",
   "metadata": {},
   "outputs": [],
   "source": [
    "test = MERFISH_STR[MERFISH_STR[\"cluster\"]==\"3464 SNr Six3 Gaba_1\"]"
   ]
  },
  {
   "cell_type": "code",
   "execution_count": 20,
   "id": "752426cc",
   "metadata": {},
   "outputs": [
    {
     "data": {
      "text/plain": [
       "(47, 38)"
      ]
     },
     "execution_count": 20,
     "metadata": {},
     "output_type": "execute_result"
    }
   ],
   "source": [
    "test.shape"
   ]
  },
  {
   "cell_type": "code",
   "execution_count": 26,
   "id": "ebf7147e",
   "metadata": {},
   "outputs": [],
   "source": [
    "cluster_counts = MERFISH_STR_Neur['cluster'].value_counts()\n",
    "cluster_counts_df = cluster_counts.reset_index()\n",
    "cluster_counts_df.columns = ['Cluster', 'Count']"
   ]
  },
  {
   "cell_type": "code",
   "execution_count": 28,
   "id": "66a47d59",
   "metadata": {},
   "outputs": [],
   "source": [
    "gene = 481"
   ]
  },
  {
   "cell_type": "code",
   "execution_count": 30,
   "id": "d1368e98",
   "metadata": {},
   "outputs": [],
   "source": [
    "for i, row in cluster_counts_df.iterrows():\n",
    "    cluster_counts_df.loc[i, \"exp\"] = Cluster_V3_Exp.loc[gene, row[\"Cluster\"]]"
   ]
  },
  {
   "cell_type": "code",
   "execution_count": 31,
   "id": "4d7c7fd6",
   "metadata": {},
   "outputs": [
    {
     "data": {
      "text/html": [
       "<div>\n",
       "<style scoped>\n",
       "    .dataframe tbody tr th:only-of-type {\n",
       "        vertical-align: middle;\n",
       "    }\n",
       "\n",
       "    .dataframe tbody tr th {\n",
       "        vertical-align: top;\n",
       "    }\n",
       "\n",
       "    .dataframe thead th {\n",
       "        text-align: right;\n",
       "    }\n",
       "</style>\n",
       "<table border=\"1\" class=\"dataframe\">\n",
       "  <thead>\n",
       "    <tr style=\"text-align: right;\">\n",
       "      <th></th>\n",
       "      <th>Cluster</th>\n",
       "      <th>Count</th>\n",
       "      <th>exp</th>\n",
       "    </tr>\n",
       "  </thead>\n",
       "  <tbody>\n",
       "    <tr>\n",
       "      <th>0</th>\n",
       "      <td>3464 SNr Six3 Gaba_1</td>\n",
       "      <td>47</td>\n",
       "      <td>7.257153</td>\n",
       "    </tr>\n",
       "    <tr>\n",
       "      <th>1</th>\n",
       "      <td>4561 VCO Mafa Meis2 Glut_2</td>\n",
       "      <td>43</td>\n",
       "      <td>7.277120</td>\n",
       "    </tr>\n",
       "    <tr>\n",
       "      <th>2</th>\n",
       "      <td>4521 CBN Neurod2 Pvalb Glut_1</td>\n",
       "      <td>37</td>\n",
       "      <td>5.846542</td>\n",
       "    </tr>\n",
       "    <tr>\n",
       "      <th>3</th>\n",
       "      <td>4935 MV-SPIV-PRP Dmbx1 Gly-Gaba_1</td>\n",
       "      <td>24</td>\n",
       "      <td>6.593847</td>\n",
       "    </tr>\n",
       "    <tr>\n",
       "      <th>4</th>\n",
       "      <td>4999 MV Pax6 Gly-Gaba_2</td>\n",
       "      <td>23</td>\n",
       "      <td>6.461407</td>\n",
       "    </tr>\n",
       "    <tr>\n",
       "      <th>...</th>\n",
       "      <td>...</td>\n",
       "      <td>...</td>\n",
       "      <td>...</td>\n",
       "    </tr>\n",
       "    <tr>\n",
       "      <th>61</th>\n",
       "      <td>4878 MY Lhx1 Gly-Gaba_2</td>\n",
       "      <td>1</td>\n",
       "      <td>6.522885</td>\n",
       "    </tr>\n",
       "    <tr>\n",
       "      <th>62</th>\n",
       "      <td>4420 SPVI-SPVC Tlx3 Ebf3 Glut_2</td>\n",
       "      <td>1</td>\n",
       "      <td>5.028480</td>\n",
       "    </tr>\n",
       "    <tr>\n",
       "      <th>63</th>\n",
       "      <td>4612 CS-RPO Meis2 Gaba_1</td>\n",
       "      <td>1</td>\n",
       "      <td>5.109227</td>\n",
       "    </tr>\n",
       "    <tr>\n",
       "      <th>64</th>\n",
       "      <td>4949 MV-SPIV-PRP Dmbx1 Gly-Gaba_3</td>\n",
       "      <td>1</td>\n",
       "      <td>5.594593</td>\n",
       "    </tr>\n",
       "    <tr>\n",
       "      <th>65</th>\n",
       "      <td>4483 MV-SPIV Phox2b Ebf3 Lbx1 Glut_1</td>\n",
       "      <td>1</td>\n",
       "      <td>5.041419</td>\n",
       "    </tr>\n",
       "  </tbody>\n",
       "</table>\n",
       "<p>66 rows × 3 columns</p>\n",
       "</div>"
      ],
      "text/plain": [
       "                                 Cluster  Count       exp\n",
       "0                   3464 SNr Six3 Gaba_1     47  7.257153\n",
       "1             4561 VCO Mafa Meis2 Glut_2     43  7.277120\n",
       "2          4521 CBN Neurod2 Pvalb Glut_1     37  5.846542\n",
       "3      4935 MV-SPIV-PRP Dmbx1 Gly-Gaba_1     24  6.593847\n",
       "4                4999 MV Pax6 Gly-Gaba_2     23  6.461407\n",
       "..                                   ...    ...       ...\n",
       "61               4878 MY Lhx1 Gly-Gaba_2      1  6.522885\n",
       "62       4420 SPVI-SPVC Tlx3 Ebf3 Glut_2      1  5.028480\n",
       "63              4612 CS-RPO Meis2 Gaba_1      1  5.109227\n",
       "64     4949 MV-SPIV-PRP Dmbx1 Gly-Gaba_3      1  5.594593\n",
       "65  4483 MV-SPIV Phox2b Ebf3 Lbx1 Glut_1      1  5.041419\n",
       "\n",
       "[66 rows x 3 columns]"
      ]
     },
     "execution_count": 31,
     "metadata": {},
     "output_type": "execute_result"
    }
   ],
   "source": [
    "cluster_counts_df"
   ]
  },
  {
   "cell_type": "code",
   "execution_count": 43,
   "id": "39eeb7da",
   "metadata": {},
   "outputs": [],
   "source": [
    "weighted_exp = (cluster_counts_df['exp'] * cluster_counts_df['Count']).sum() / cluster_counts_df['Count'].sum()"
   ]
  },
  {
   "cell_type": "code",
   "execution_count": 56,
   "id": "fea196f9",
   "metadata": {},
   "outputs": [
    {
     "data": {
      "text/plain": [
       "2440.026987617734"
      ]
     },
     "execution_count": 56,
     "metadata": {},
     "output_type": "execute_result"
    }
   ],
   "source": [
    "(cluster_counts_df['exp'] * cluster_counts_df['Count']).sum()"
   ]
  },
  {
   "cell_type": "code",
   "execution_count": 44,
   "id": "43bff550",
   "metadata": {},
   "outputs": [
    {
     "data": {
      "text/plain": [
       "6.0848553307175415"
      ]
     },
     "execution_count": 44,
     "metadata": {},
     "output_type": "execute_result"
    }
   ],
   "source": [
    "weighted_exp"
   ]
  },
  {
   "cell_type": "code",
   "execution_count": 54,
   "id": "a3dd1f04",
   "metadata": {},
   "outputs": [
    {
     "data": {
      "text/plain": [
       "401"
      ]
     },
     "execution_count": 54,
     "metadata": {},
     "output_type": "execute_result"
    }
   ],
   "source": [
    "cluster_counts_df['Count'].sum()"
   ]
  },
  {
   "cell_type": "code",
   "execution_count": 40,
   "id": "af879149",
   "metadata": {},
   "outputs": [],
   "source": [
    "JC_cluster_counts = pd.read_csv(\"dat/JonDat/Debug_STR_CellComp.csv\", index_col=0)\n",
    "JC_cluster_counts = JC_cluster_counts.sort_values(\"n\", ascending=False)\n",
    "JC_cluster_counts = JC_cluster_counts[JC_cluster_counts[\"exp\"]!=\"NaN\"]"
   ]
  },
  {
   "cell_type": "code",
   "execution_count": 41,
   "id": "a8cc314a",
   "metadata": {},
   "outputs": [
    {
     "data": {
      "text/html": [
       "<div>\n",
       "<style scoped>\n",
       "    .dataframe tbody tr th:only-of-type {\n",
       "        vertical-align: middle;\n",
       "    }\n",
       "\n",
       "    .dataframe tbody tr th {\n",
       "        vertical-align: top;\n",
       "    }\n",
       "\n",
       "    .dataframe thead th {\n",
       "        text-align: right;\n",
       "    }\n",
       "</style>\n",
       "<table border=\"1\" class=\"dataframe\">\n",
       "  <thead>\n",
       "    <tr style=\"text-align: right;\">\n",
       "      <th></th>\n",
       "      <th>ind.str</th>\n",
       "      <th>ind.cell</th>\n",
       "      <th>n</th>\n",
       "      <th>exp</th>\n",
       "    </tr>\n",
       "  </thead>\n",
       "  <tbody>\n",
       "    <tr>\n",
       "      <th>48134</th>\n",
       "      <td>Superior_vestibular_nucleus</td>\n",
       "      <td>5285 MOL NN_4</td>\n",
       "      <td>484</td>\n",
       "      <td>NaN</td>\n",
       "    </tr>\n",
       "    <tr>\n",
       "      <th>48133</th>\n",
       "      <td>Superior_vestibular_nucleus</td>\n",
       "      <td>5284 MOL NN_4</td>\n",
       "      <td>431</td>\n",
       "      <td>NaN</td>\n",
       "    </tr>\n",
       "    <tr>\n",
       "      <th>48117</th>\n",
       "      <td>Superior_vestibular_nucleus</td>\n",
       "      <td>5217 Astro-NT NN_2</td>\n",
       "      <td>307</td>\n",
       "      <td>NaN</td>\n",
       "    </tr>\n",
       "    <tr>\n",
       "      <th>48145</th>\n",
       "      <td>Superior_vestibular_nucleus</td>\n",
       "      <td>5310 Endo NN_1</td>\n",
       "      <td>266</td>\n",
       "      <td>NaN</td>\n",
       "    </tr>\n",
       "    <tr>\n",
       "      <th>48116</th>\n",
       "      <td>Superior_vestibular_nucleus</td>\n",
       "      <td>5216 Astro-NT NN_2</td>\n",
       "      <td>176</td>\n",
       "      <td>NaN</td>\n",
       "    </tr>\n",
       "    <tr>\n",
       "      <th>...</th>\n",
       "      <td>...</td>\n",
       "      <td>...</td>\n",
       "      <td>...</td>\n",
       "      <td>...</td>\n",
       "    </tr>\n",
       "    <tr>\n",
       "      <th>48079</th>\n",
       "      <td>Superior_vestibular_nucleus</td>\n",
       "      <td>4612 CS-RPO Meis2 Gaba_1</td>\n",
       "      <td>1</td>\n",
       "      <td>5.109227</td>\n",
       "    </tr>\n",
       "    <tr>\n",
       "      <th>48077</th>\n",
       "      <td>Superior_vestibular_nucleus</td>\n",
       "      <td>4548 NTS Dbh Glut_4</td>\n",
       "      <td>1</td>\n",
       "      <td>7.292396</td>\n",
       "    </tr>\n",
       "    <tr>\n",
       "      <th>48127</th>\n",
       "      <td>Superior_vestibular_nucleus</td>\n",
       "      <td>5276 COP NN_1</td>\n",
       "      <td>1</td>\n",
       "      <td>NaN</td>\n",
       "    </tr>\n",
       "    <tr>\n",
       "      <th>48071</th>\n",
       "      <td>Superior_vestibular_nucleus</td>\n",
       "      <td>4515 MV-SPIV Zic4 Neurod2 Glut_5</td>\n",
       "      <td>1</td>\n",
       "      <td>4.799886</td>\n",
       "    </tr>\n",
       "    <tr>\n",
       "      <th>48097</th>\n",
       "      <td>Superior_vestibular_nucleus</td>\n",
       "      <td>4996 MV Pax6 Gly-Gaba_1</td>\n",
       "      <td>1</td>\n",
       "      <td>5.280073</td>\n",
       "    </tr>\n",
       "  </tbody>\n",
       "</table>\n",
       "<p>104 rows × 4 columns</p>\n",
       "</div>"
      ],
      "text/plain": [
       "                           ind.str                          ind.cell    n  \\\n",
       "48134  Superior_vestibular_nucleus                     5285 MOL NN_4  484   \n",
       "48133  Superior_vestibular_nucleus                     5284 MOL NN_4  431   \n",
       "48117  Superior_vestibular_nucleus                5217 Astro-NT NN_2  307   \n",
       "48145  Superior_vestibular_nucleus                    5310 Endo NN_1  266   \n",
       "48116  Superior_vestibular_nucleus                5216 Astro-NT NN_2  176   \n",
       "...                            ...                               ...  ...   \n",
       "48079  Superior_vestibular_nucleus          4612 CS-RPO Meis2 Gaba_1    1   \n",
       "48077  Superior_vestibular_nucleus               4548 NTS Dbh Glut_4    1   \n",
       "48127  Superior_vestibular_nucleus                     5276 COP NN_1    1   \n",
       "48071  Superior_vestibular_nucleus  4515 MV-SPIV Zic4 Neurod2 Glut_5    1   \n",
       "48097  Superior_vestibular_nucleus           4996 MV Pax6 Gly-Gaba_1    1   \n",
       "\n",
       "            exp  \n",
       "48134       NaN  \n",
       "48133       NaN  \n",
       "48117       NaN  \n",
       "48145       NaN  \n",
       "48116       NaN  \n",
       "...         ...  \n",
       "48079  5.109227  \n",
       "48077  7.292396  \n",
       "48127       NaN  \n",
       "48071  4.799886  \n",
       "48097  5.280073  \n",
       "\n",
       "[104 rows x 4 columns]"
      ]
     },
     "execution_count": 41,
     "metadata": {},
     "output_type": "execute_result"
    }
   ],
   "source": [
    "JC_cluster_counts"
   ]
  },
  {
   "cell_type": "code",
   "execution_count": null,
   "id": "5ae680b3",
   "metadata": {},
   "outputs": [],
   "source": []
  },
  {
   "cell_type": "code",
   "execution_count": null,
   "id": "e3987754",
   "metadata": {},
   "outputs": [],
   "source": []
  },
  {
   "cell_type": "code",
   "execution_count": null,
   "id": "214d75b2",
   "metadata": {},
   "outputs": [],
   "source": []
  },
  {
   "cell_type": "code",
   "execution_count": 67,
   "id": "11f4609a",
   "metadata": {},
   "outputs": [
    {
     "data": {
      "text/plain": [
       "853"
      ]
     },
     "execution_count": 67,
     "metadata": {},
     "output_type": "execute_result"
    }
   ],
   "source": [
    "gene_idx = np.where(Cluster_V3_Exp.index.values==gene)[0][0]\n",
    "gene_idx"
   ]
  },
  {
   "cell_type": "code",
   "execution_count": 74,
   "id": "c611d87e",
   "metadata": {},
   "outputs": [
    {
     "name": "stdout",
     "output_type": "stream",
     "text": [
      "Processing Superior vestibular nucleus; No.Cells:2597\n"
     ]
    }
   ],
   "source": [
    "MERFISH_STR = MERFISH[MERFISH[\"ISH_STR\"]==STR]\n",
    "\n",
    "print(\"Processing {}; No.Cells:{}\".format(STR, MERFISH_STR.shape[0]))\n",
    "str_cell_sum_exp = np.zeros(Cluster_V3_Exp.shape[0])\n",
    "str_neuro_sum_exp = np.zeros(Cluster_V3_Exp.shape[0])\n",
    "str_neuro_count = 0 \n",
    "neuro_type_dict = {}\n",
    "neuro_type_gene_total_exp = 0\n",
    "for i, row in MERFISH_STR.iterrows():\n",
    "    cluster = row[\"cluster\"]\n",
    "    cell_class = row[\"class\"]\n",
    "    if cluster in Cluster_V3_Exp.columns.values:\n",
    "        cell_exp = Cluster_V3_Exp[cluster].values\n",
    "        #cell_exp = np.nan_to_num(cell_exp, nan=0)\n",
    "        str_cell_sum_exp += cell_exp\n",
    "        if cell_class not in Non_Neuron_Class:\n",
    "            str_neuro_sum_exp += cell_exp\n",
    "            str_neuro_count += 1\n",
    "            neuro_type_gene_total_exp += cell_exp[gene_idx]\n",
    "            if cluster not in neuro_type_dict:\n",
    "                neuro_type_dict[cluster] = [1, cell_exp[gene_idx]]\n",
    "            else:\n",
    "                neuro_type_dict[cluster][0] += 1\n",
    "if MERFISH_STR.shape[0] == 0:\n",
    "    cell_avg_exp = str_cell_sum_exp\n",
    "    neuro_avg_exp = str_neuro_sum_exp\n",
    "else:\n",
    "    cell_avg_exp = str_cell_sum_exp / MERFISH_STR.shape[0]\n",
    "    neuro_avg_exp = str_neuro_sum_exp / str_neuro_count"
   ]
  },
  {
   "cell_type": "code",
   "execution_count": 80,
   "id": "ad0549ab",
   "metadata": {},
   "outputs": [
    {
     "name": "stdout",
     "output_type": "stream",
     "text": [
      "2597 401\n"
     ]
    }
   ],
   "source": [
    "print(MERFISH_STR.shape[0], str_neuro_count)"
   ]
  },
  {
   "cell_type": "code",
   "execution_count": 75,
   "id": "4feb3e79",
   "metadata": {},
   "outputs": [
    {
     "data": {
      "text/plain": [
       "2440.0269876177363"
      ]
     },
     "execution_count": 75,
     "metadata": {},
     "output_type": "execute_result"
    }
   ],
   "source": [
    "neuro_type_gene_total_exp"
   ]
  },
  {
   "cell_type": "code",
   "execution_count": 69,
   "id": "8b662e25",
   "metadata": {},
   "outputs": [
    {
     "data": {
      "text/plain": [
       "{'4561 VCO Mafa Meis2 Glut_2': [43, 7.277120412929576],\n",
       " '4402 PGRN-PARN-MDRN Hoxb5 Glut_7': [7, 5.8208099640331135],\n",
       " '4198 PG-TRN-LRN Fat2 Glut_1': [5, 6.177691297065722],\n",
       " '4200 PG-TRN-LRN Fat2 Glut_1': [1, 5.960368361500289],\n",
       " '5175 DCO Il22 Gly-Gaba_3': [1, 5.188935798092312],\n",
       " '5183 CB PLI Gly-Gaba_3': [3, 5.314634350356681],\n",
       " '5174 DCO Il22 Gly-Gaba_3': [6, 5.300528707431973],\n",
       " '5176 DCO Il22 Gly-Gaba_3': [9, 6.689434549385259],\n",
       " '4925 MY Lhx1 Gly-Gaba_8': [7, 5.887274966310343],\n",
       " '4941 MV-SPIV-PRP Dmbx1 Gly-Gaba_1': [3, 5.976549708880401],\n",
       " '3464 SNr Six3 Gaba_1': [47, 7.257153429225832],\n",
       " '5185 CB PLI Gly-Gaba_4': [2, 2.6691614414362506],\n",
       " '5180 CB PLI Gly-Gaba_2': [2, 4.866617070418792],\n",
       " '5177 CB PLI Gly-Gaba_1': [19, 4.686203313180671],\n",
       " '5178 CB PLI Gly-Gaba_1': [3, 4.176728805308449],\n",
       " '4935 MV-SPIV-PRP Dmbx1 Gly-Gaba_1': [24, 6.593846883079757],\n",
       " '4977 MV Nkx6-1 Gly-Gaba_2': [3, 6.266302464293911],\n",
       " '5000 CBN Dmbx1 Gaba_1': [21, 4.5733878282520255],\n",
       " '4949 MV-SPIV-PRP Dmbx1 Gly-Gaba_3': [1, 5.594593005540119],\n",
       " '3539 PAG-ND-PCG Onecut1 Gaba_1': [11, 5.832131698105351],\n",
       " '4899 MY Lhx1 Gly-Gaba_3': [1, 3.89955143173184],\n",
       " '4197 MEV Ppp1r1c Glut_1': [1, 6.844803889204287],\n",
       " '4483 MV-SPIV Phox2b Ebf3 Lbx1 Glut_1': [1, 5.041419348378181],\n",
       " '4396 PGRN-PARN-MDRN Hoxb5 Glut_6': [1, 3.851337960333558],\n",
       " '4484 MV-SPIV Phox2b Ebf3 Lbx1 Glut_1': [1, 4.930025093307518],\n",
       " '4199 PG-TRN-LRN Fat2 Glut_1': [1, 5.7691076596569495],\n",
       " '4466 CU-ECU-SPVI Foxb1 Glut_1': [1, 5.398822822038341],\n",
       " '4548 NTS Dbh Glut_4': [1, 7.292395829953221],\n",
       " '4982 PAS-MV Ebf2 Gly-Gaba_1': [7, 5.837057336923201],\n",
       " '4420 SPVI-SPVC Tlx3 Ebf3 Glut_2': [1, 5.0284803439048575],\n",
       " '4148 PSV Pvalb Lhx2 Glut_1': [2, 5.71062785836356],\n",
       " '4515 MV-SPIV Zic4 Neurod2 Glut_5': [1, 4.799886106495931],\n",
       " '4981 PAS-MV Ebf2 Gly-Gaba_1': [7, 5.583949750534134],\n",
       " '3552 PAG-ND-PCG Onecut1 Gaba_3': [5, 5.579423631309914],\n",
       " '4516 MV-SPIV Zic4 Neurod2 Glut_5': [2, 6.42161690746949],\n",
       " '4612 CS-RPO Meis2 Gaba_1': [1, 5.109226668355303],\n",
       " '4663 PRNc Otp Gly-Gaba_5': [5, 5.722856310907535],\n",
       " '4522 CBN Neurod2 Pvalb Glut_1': [13, 5.191823486401443],\n",
       " '4521 CBN Neurod2 Pvalb Glut_1': [37, 5.846541567664048],\n",
       " '4878 MY Lhx1 Gly-Gaba_2': [1, 6.522885253633972],\n",
       " '4523 CBN Neurod2 Pvalb Glut_1': [5, 7.209296300868084],\n",
       " '4524 CBN Neurod2 Pvalb Glut_1': [3, 5.836964425346047],\n",
       " '4505 MV-SPIV Zic4 Neurod2 Glut_3': [6, 6.958775948120255],\n",
       " '4903 MY Lhx1 Gly-Gaba_3': [2, 4.8021101653429055],\n",
       " '4812 POR Spp1 Gly-Gaba_1': [10, 7.162874370419549],\n",
       " '4344 PGRN-PARN-MDRN Hoxb5 Glut_2': [4, 6.547049839103699],\n",
       " '5149 SPVI-SPVC Sall3 Lhx1 Gly-Gaba_1': [1, 5.502531864595732],\n",
       " '4995 MV Pax6 Gly-Gaba_1': [2, 5.210717841765434],\n",
       " '4996 MV Pax6 Gly-Gaba_1': [1, 5.280072547015837],\n",
       " '4997 MV Pax6 Gly-Gaba_1': [1, 5.240038802762605],\n",
       " '4998 MV Pax6 Gly-Gaba_2': [6, 5.642368622258808],\n",
       " '4401 PGRN-PARN-MDRN Hoxb5 Glut_7': [1, 5.399058326778023],\n",
       " '4891 MY Lhx1 Gly-Gaba_3': [1, 4.740658151028747],\n",
       " '4411 MV-SPIV Slc6a2 Glut_1': [1, 5.648340511335784],\n",
       " '4945 MV-SPIV-PRP Dmbx1 Gly-Gaba_1': [1, 5.82885174894248],\n",
       " '4936 MV-SPIV-PRP Dmbx1 Gly-Gaba_1': [7, 5.926914684545622],\n",
       " '3962 PSV Lmx1a Trpv6 Glut_1': [3, 4.0219406071504205],\n",
       " '4196 NLL-SOC Spp1 Glut_2': [2, 6.436206168018528],\n",
       " '3918 PB Lmx1a Glut_1': [2, 4.607951796657586],\n",
       " '3917 PB Lmx1a Glut_1': [1, 4.104935746344872],\n",
       " '4999 MV Pax6 Gly-Gaba_2': [23, 6.4614068251803705],\n",
       " '4449 CU-ECU-SPVI Foxb1 Glut_1': [2, 5.353091061376205],\n",
       " '4488 MV-SPIV Phox2b Ebf3 Lbx1 Glut_4': [2, 4.96753179210218],\n",
       " '4914 MY Lhx1 Gly-Gaba_5': [1, 6.319070746044866],\n",
       " '4514 MV-SPIV Zic4 Neurod2 Glut_4': [1, 4.838661643793108],\n",
       " '4400 PGRN-PARN-MDRN Hoxb5 Glut_7': [4, 5.709188481402415]}"
      ]
     },
     "execution_count": 69,
     "metadata": {},
     "output_type": "execute_result"
    }
   ],
   "source": [
    "neuro_type_dict"
   ]
  },
  {
   "cell_type": "code",
   "execution_count": 72,
   "id": "271f2bb9",
   "metadata": {},
   "outputs": [],
   "source": [
    "exp_sum = 0\n",
    "for k, v in neuro_type_dict.items():\n",
    "    v1, v2 = v\n",
    "    exp_sum += v1 * v2"
   ]
  },
  {
   "cell_type": "code",
   "execution_count": 76,
   "id": "8939dfde",
   "metadata": {},
   "outputs": [
    {
     "data": {
      "text/plain": [
       "6.084855330717542"
      ]
     },
     "execution_count": 76,
     "metadata": {},
     "output_type": "execute_result"
    }
   ],
   "source": [
    "exp_sum / str_neuro_count"
   ]
  },
  {
   "cell_type": "code",
   "execution_count": null,
   "id": "91d8f581",
   "metadata": {},
   "outputs": [],
   "source": []
  },
  {
   "cell_type": "code",
   "execution_count": 61,
   "id": "e0b05a1c",
   "metadata": {},
   "outputs": [
    {
     "data": {
      "text/plain": [
       "array([1532.18244206,    9.16311056,    5.64050482, ..., 1912.09160458,\n",
       "        807.8998545 , 2699.80017192])"
      ]
     },
     "execution_count": 61,
     "metadata": {},
     "output_type": "execute_result"
    }
   ],
   "source": [
    "str_neuro_sum_exp"
   ]
  },
  {
   "cell_type": "code",
   "execution_count": 62,
   "id": "7325f1f5",
   "metadata": {},
   "outputs": [
    {
     "data": {
      "text/plain": [
       "401"
      ]
     },
     "execution_count": 62,
     "metadata": {},
     "output_type": "execute_result"
    }
   ],
   "source": [
    "str_neuro_count"
   ]
  },
  {
   "cell_type": "code",
   "execution_count": 77,
   "id": "e6c30f1a",
   "metadata": {},
   "outputs": [
    {
     "data": {
      "text/plain": [
       "array([3.82090385, 0.02285065, 0.0140661 , ..., 4.76830824, 2.01471285,\n",
       "       6.73266876])"
      ]
     },
     "execution_count": 77,
     "metadata": {},
     "output_type": "execute_result"
    }
   ],
   "source": [
    "neuro_avg_exp"
   ]
  },
  {
   "cell_type": "code",
   "execution_count": 83,
   "id": "19f6e54d",
   "metadata": {},
   "outputs": [
    {
     "data": {
      "text/plain": [
       "2440.0269876177363"
      ]
     },
     "execution_count": 83,
     "metadata": {},
     "output_type": "execute_result"
    }
   ],
   "source": [
    "str_neuro_sum_exp[gene_idx]"
   ]
  },
  {
   "cell_type": "code",
   "execution_count": 103,
   "id": "d9e05a58",
   "metadata": {},
   "outputs": [],
   "source": [
    "neuro_avg_exp_df = pd.DataFrame(data={\"Gene\":Cluster_V3_Exp.index.values, \"exp\":neuro_avg_exp, \n",
    "                                      \"Neuro.sum.exp\":str_neuro_sum_exp})\n",
    "neuro_avg_exp_df = neuro_avg_exp_df.set_index(\"Gene\")"
   ]
  },
  {
   "cell_type": "code",
   "execution_count": 88,
   "id": "c58d04e2",
   "metadata": {},
   "outputs": [
    {
     "data": {
      "text/plain": [
       "481"
      ]
     },
     "execution_count": 88,
     "metadata": {},
     "output_type": "execute_result"
    }
   ],
   "source": [
    "gene"
   ]
  },
  {
   "cell_type": "code",
   "execution_count": 102,
   "id": "273c2d19",
   "metadata": {},
   "outputs": [
    {
     "data": {
      "text/html": [
       "<div>\n",
       "<style scoped>\n",
       "    .dataframe tbody tr th:only-of-type {\n",
       "        vertical-align: middle;\n",
       "    }\n",
       "\n",
       "    .dataframe tbody tr th {\n",
       "        vertical-align: top;\n",
       "    }\n",
       "\n",
       "    .dataframe thead th {\n",
       "        text-align: right;\n",
       "    }\n",
       "</style>\n",
       "<table border=\"1\" class=\"dataframe\">\n",
       "  <thead>\n",
       "    <tr style=\"text-align: right;\">\n",
       "      <th></th>\n",
       "      <th>Gene</th>\n",
       "      <th>exp</th>\n",
       "      <th>Neuro.sum.exp</th>\n",
       "    </tr>\n",
       "  </thead>\n",
       "  <tbody>\n",
       "    <tr>\n",
       "      <th>0</th>\n",
       "      <td>114786</td>\n",
       "      <td>3.820904</td>\n",
       "      <td>1532.182442</td>\n",
       "    </tr>\n",
       "    <tr>\n",
       "      <th>1</th>\n",
       "      <td>6101</td>\n",
       "      <td>0.022851</td>\n",
       "      <td>9.163111</td>\n",
       "    </tr>\n",
       "  </tbody>\n",
       "</table>\n",
       "</div>"
      ],
      "text/plain": [
       "     Gene       exp  Neuro.sum.exp\n",
       "0  114786  3.820904    1532.182442\n",
       "1    6101  0.022851       9.163111"
      ]
     },
     "execution_count": 102,
     "metadata": {},
     "output_type": "execute_result"
    }
   ],
   "source": [
    "neuro_avg_exp_df.head(2)"
   ]
  },
  {
   "cell_type": "code",
   "execution_count": 105,
   "id": "89566443",
   "metadata": {},
   "outputs": [
    {
     "data": {
      "text/plain": [
       "exp                 6.084855\n",
       "Neuro.sum.exp    2440.026988\n",
       "Name: 481, dtype: float64"
      ]
     },
     "execution_count": 105,
     "metadata": {},
     "output_type": "execute_result"
    }
   ],
   "source": [
    "neuro_avg_exp_df.loc[481, :]"
   ]
  },
  {
   "cell_type": "code",
   "execution_count": 86,
   "id": "c12eb1a2",
   "metadata": {},
   "outputs": [
    {
     "data": {
      "text/plain": [
       "(array([], dtype=int64),)"
      ]
     },
     "execution_count": 86,
     "metadata": {},
     "output_type": "execute_result"
    }
   ],
   "source": [
    "np.where(str_neuro_sum_exp==681.655797)"
   ]
  },
  {
   "cell_type": "code",
   "execution_count": 87,
   "id": "f1cbcb5d",
   "metadata": {},
   "outputs": [
    {
     "name": "stdout",
     "output_type": "stream",
     "text": [
      "853 Gene              481.000000\n",
      "exp                 6.084855\n",
      "Neuro.sum.exp    2440.026988\n",
      "Name: 853, dtype: float64\n"
     ]
    }
   ],
   "source": [
    "for i, row in neuro_avg_exp_df.iterrows():\n",
    "    total_exp = row[\"Neuro.sum.exp\"]\n",
    "    if total_exp > 2440 and total_exp < 2440.1:\n",
    "        print(i, row)"
   ]
  },
  {
   "cell_type": "code",
   "execution_count": 98,
   "id": "b77adbaa",
   "metadata": {},
   "outputs": [],
   "source": [
    "df = pd.read_csv(\"dat/MERFISH/STR_NEU_Mean_DF.UMI.csv\", index_col=0)\n",
    "df2 = pd.read_csv(\"dat/MERFISH/STR_Cell_Mean_DF.UMI.csv\", index_col=0)\n",
    "df3 = pd.read_csv(\"dat/MERFISH/STR_Vol_Mean_DF.UMI.csv\", index_col=0)"
   ]
  },
  {
   "cell_type": "code",
   "execution_count": 94,
   "id": "7fa474b1",
   "metadata": {},
   "outputs": [
    {
     "data": {
      "text/plain": [
       "6.084855330717547"
      ]
     },
     "execution_count": 94,
     "metadata": {},
     "output_type": "execute_result"
    }
   ],
   "source": [
    "df.loc[gene, STR]"
   ]
  },
  {
   "cell_type": "code",
   "execution_count": 96,
   "id": "f75c3789",
   "metadata": {},
   "outputs": [
    {
     "data": {
      "text/plain": [
       "1.954221952467568"
      ]
     },
     "execution_count": 96,
     "metadata": {},
     "output_type": "execute_result"
    }
   ],
   "source": [
    "df2.loc[gene, STR]"
   ]
  },
  {
   "cell_type": "code",
   "execution_count": 99,
   "id": "7664a527",
   "metadata": {},
   "outputs": [
    {
     "data": {
      "text/plain": [
       "0.0143488846589375"
      ]
     },
     "execution_count": 99,
     "metadata": {},
     "output_type": "execute_result"
    }
   ],
   "source": [
    "df3.loc[gene, STR]"
   ]
  },
  {
   "cell_type": "code",
   "execution_count": null,
   "id": "b97a5707",
   "metadata": {},
   "outputs": [],
   "source": []
  }
 ],
 "metadata": {
  "kernelspec": {
   "display_name": "Python 3 (ipykernel)",
   "language": "python",
   "name": "python3"
  },
  "language_info": {
   "codemirror_mode": {
    "name": "ipython",
    "version": 3
   },
   "file_extension": ".py",
   "mimetype": "text/x-python",
   "name": "python",
   "nbconvert_exporter": "python",
   "pygments_lexer": "ipython3",
   "version": "3.9.12"
  }
 },
 "nbformat": 4,
 "nbformat_minor": 5
}
