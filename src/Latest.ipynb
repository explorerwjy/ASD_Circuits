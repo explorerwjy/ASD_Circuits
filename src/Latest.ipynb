{
 "cells": [
  {
   "cell_type": "code",
   "execution_count": 1,
   "metadata": {},
   "outputs": [],
   "source": [
    "%load_ext autoreload\n",
    "%autoreload 2\n",
    "from ASD_Circuits import *\n",
    "from tabulate import tabulate"
   ]
  },
  {
   "cell_type": "code",
   "execution_count": 2,
   "metadata": {},
   "outputs": [],
   "source": [
    "adj_mat = pd.read_csv(ConnFil, index_col=0)\n",
    "g = LoadConnectome2(adj_mat) # Load Connectiome\n",
    "EdgeWeightsDict = EdgeDict(g, keyon=\"label\")\n",
    "str2reg = STR2Region()\n",
    "#str2reg_df = pd.read_csv(MajorBrainDivisions, delimiter=\"\\t\")"
   ]
  },
  {
   "cell_type": "code",
   "execution_count": 3,
   "metadata": {},
   "outputs": [],
   "source": [
    "Sib_Bias_avgz = pd.read_csv(\"dat/bias2/ASD.Siblings.spec.bias.csv\", index_col=\"STR\") # dat/bias2/ASD_LGD_Dmis2_spec.bias.csv\n",
    "Sib_Bias_avgz = pd.read_csv(\"dat/bias2/ASD_LGD_Dmis2_spec.bias.csv\", index_col=\"STR\")\n",
    "SparkMetaBias = pd.read_csv(\"dat/Jon_data/Spark_Final_ExpBias.csv\")\n",
    "SparkMetaBias.columns = [\"STR\", \"EFFECT\", \"Rank\", \"NGene\"]\n",
    "SparkMetaBias = SparkMetaBias.set_index(\"STR\")"
   ]
  },
  {
   "cell_type": "markdown",
   "metadata": {},
   "source": [
    "### Annotate Graph and save"
   ]
  },
  {
   "cell_type": "code",
   "execution_count": 23,
   "metadata": {},
   "outputs": [],
   "source": [
    "def CleanCluster(Clusters, verbose=False):\n",
    "    Kept, Dropped = [], []\n",
    "    for cluster in Clusters:\n",
    "        #print(len(cluster), cluster)\n",
    "        if len(cluster) < 2:\n",
    "            Dropped.extend(cluster)\n",
    "        else:\n",
    "            Kept.extend(cluster)\n",
    "            if verbose:\n",
    "                tabulate(nodeDF.loc[cluster, :])\n",
    "    return Kept, Dropped\n",
    "def dd(file, g, Nslices, topN = 50):\n",
    "    Spark_EWS = pd.read_csv(file, index_col=\"STR\")\n",
    "    Candidate_CircuitNodes = Spark_EWS.head(50).index.values\n",
    "    g2 = subgraph(g, Candidate_CircuitNodes)\n",
    "    dat = []\n",
    "    for v in g2.vs:\n",
    "        dat.append([v.index, v[\"label\"], str2reg[v[\"label\"]]])\n",
    "    nodeDF = pd.DataFrame(dat, columns=[\"index\", \"STR\", \"REG\"])\n",
    "    nodeDF = nodeDF.set_index(\"index\")\n",
    "    g2.to_undirected()\n",
    "    xx = g2.community_edge_betweenness()\n",
    "    \n",
    "    QScores = []\n",
    "    Nslices = np.arange(2,20,1)\n",
    "    Nkept = []\n",
    "    for N in Nslices:\n",
    "        clusters = xx.as_clustering(N)\n",
    "        Kept, Dropped = CleanCluster(clusters)\n",
    "        g2_kept = g2.subgraph(Kept)\n",
    "        Q = g2.modularity(clusters)\n",
    "        QScores.append(Q)\n",
    "        Nkept.append(len(Kept))\n",
    "    return xx, nodeDF, QScores\n",
    "\n",
    "def PlotMod(Nslices, QScores, idx):\n",
    "    fig, ax = plt.subplots(dpi=120)\n",
    "    ax.plot(Nslices, QScores, marker=\".\", color=\"black\")\n",
    "    ax.scatter(Nslices[idx], QScores[idx], s=100, marker=\"*\", color=\"red\")\n",
    "    ax.set_ylabel(\"Modularity\")\n",
    "    ax.set_xlabel(\"Number of clusters\")\n",
    "    ax.grid(True)\n",
    "    plt.show()"
   ]
  },
  {
   "cell_type": "code",
   "execution_count": 24,
   "metadata": {},
   "outputs": [],
   "source": [
    "SA_Z1 = \"dat/bias2/ASD.EW.pLI.z1.csv\"\n",
    "SA_Z2 = \"dat/bias2/ASD.EW.pLI.z2.csv\"\n",
    "SA_Z1_NoNeg = \"dat/bias2/ASD.EW.pLI.z1.NoNeg.csv\"\n",
    "SA_Z2_NoNeg = \"dat/bias2/ASD.EW.pLI.z2.NoNeg.csv\""
   ]
  },
  {
   "cell_type": "code",
   "execution_count": 25,
   "metadata": {
    "scrolled": false
   },
   "outputs": [
    {
     "data": {
      "image/png": "[encoded data removed]",
      "text/plain": [
       "<Figure size 720x480 with 1 Axes>"
      ]
     },
     "metadata": {
      "needs_background": "light"
     },
     "output_type": "display_data"
    },
    {
     "name": "stdout",
     "output_type": "stream",
     "text": [
      "(34, 2)\n",
      "--  ---------------------------------------  -----------------\n",
      " 0  Anterior_cingulate_area_dorsal_part      Isocortex\n",
      " 1  Nucleus_accumbens                        Striatum\n",
      " 2  Agranular_insular_area_posterior_part    Isocortex\n",
      " 3  Agranular_insular_area_ventral_part      Isocortex\n",
      " 4  Accessory_olfactory_bulb                 Olfactory_areas\n",
      " 5  Anterior_olfactory_nucleus               Olfactory_areas\n",
      " 7  Basolateral_amygdalar_nucleus            Amygdalar\n",
      " 9  Bed_nuclei_of_the_stria_terminalis       Pallidum\n",
      "13  Central_amygdalar_nucleus                Amygdalar\n",
      "14  Central_lateral_nucleus_of_the_thalamus  Thalamus\n",
      "15  Claustrum                                Cortical_subplate\n",
      "16  Caudoputamen                             Striatum\n",
      "18  Dorsal_peduncular_area                   Olfactory_areas\n",
      "19  Endopiriform_nucleus_dorsal_part         Cortical_subplate\n",
      "20  Endopiriform_nucleus_ventral_part        Cortical_subplate\n",
      "21  Frontal_pole_cerebral_cortex             Isocortex\n",
      "22  Gustatory_areas                          Isocortex\n",
      "23  Intercalated_amygdalar_nucleus           Amygdalar\n",
      "24  Infralimbic_area                         Isocortex\n",
      "28  Mediodorsal_nucleus_of_thalamus          Thalamus\n",
      "29  Primary_motor_area                       Isocortex\n",
      "30  Secondary_motor_area                     Isocortex\n",
      "31  Orbital_area_lateral_part                Isocortex\n",
      "32  Orbital_area_medial_part                 Isocortex\n",
      "33  Orbital_area_ventrolateral_part          Isocortex\n",
      "35  Parafascicular_nucleus                   Thalamus\n",
      "36  Piriform_area                            Olfactory_areas\n",
      "37  Prelimbic_area                           Isocortex\n",
      "38  Nucleus_of_reuniens                      Thalamus\n",
      "39  Rhomboid_nucleus                         Thalamus\n",
      "41  Submedial_nucleus_of_the_thalamus        Thalamus\n",
      "42  Primary_somatosensory_area_lower_limb    Isocortex\n",
      "43  Supplemental_somatosensory_area          Isocortex\n",
      "45  Visceral_area                            Isocortex\n",
      "--  ---------------------------------------  -----------------\n",
      "(1, 2)\n",
      "-  --------------------------  --------\n",
      "6  Anterior_pretectal_nucleus  Midbrain\n",
      "-  --------------------------  --------\n",
      "(1, 2)\n",
      "-  ----------------------------  ---------\n",
      "8  Basomedial_amygdalar_nucleus  Amygdalar\n",
      "-  ----------------------------  ---------\n",
      "(4, 2)\n",
      "--  -------------  -----------\n",
      "10  Field_CA1      Hippocampus\n",
      "11  Field_CA2      Hippocampus\n",
      "12  Field_CA3      Hippocampus\n",
      "17  Dentate_gyrus  Hippocampus\n",
      "--  -------------  -----------\n",
      "(1, 2)\n",
      "--  -------------------------  ---------\n",
      "25  Lateral_amygdalar_nucleus  Amygdalar\n",
      "--  -------------------------  ---------\n",
      "(6, 2)\n",
      "--  -----------------------------------------  ---------\n",
      "26  Lateral_posterior_nucleus_of_the_thalamus  Thalamus\n",
      "40  Retrosplenial_area_lateral_agranular_part  Isocortex\n",
      "46  Anteromedial_visual_area                   Isocortex\n",
      "47  Lateral_visual_area                        Isocortex\n",
      "48  Primary_visual_area                        Isocortex\n",
      "49  Posterolateral_visual_area                 Isocortex\n",
      "--  -----------------------------------------  ---------\n",
      "(1, 2)\n",
      "--  -----------------------------------  --------\n",
      "27  Lateral_septal_nucleus_ventral_part  Striatum\n",
      "--  -----------------------------------  --------\n",
      "(1, 2)\n",
      "--  -------------  -----------\n",
      "34  Parasubiculum  Hippocampus\n",
      "--  -------------  -----------\n",
      "(1, 2)\n",
      "--  ----------------------  -----------\n",
      "44  Subiculum_ventral_part  Hippocampus\n",
      "--  ----------------------  -----------\n"
     ]
    }
   ],
   "source": [
    "Nslices = np.arange(2,20,1)\n",
    "xx, nodeDF, QScores = dd(SA_Z1, g=g, Nslices=Nslices)\n",
    "idx = np.argmax(QScores)\n",
    "PlotMod(Nslices, QScores, idx)\n",
    "\n",
    "for cluster in xx.as_clustering(idx):\n",
    "    print(nodeDF.loc[cluster, :].shape)\n",
    "    print(tabulate(nodeDF.loc[cluster, :]))"
   ]
  },
  {
   "cell_type": "code",
   "execution_count": 26,
   "metadata": {
    "scrolled": false
   },
   "outputs": [
    {
     "data": {
      "image/png": "[encoded data removed]",
      "text/plain": [
       "<Figure size 720x480 with 1 Axes>"
      ]
     },
     "metadata": {
      "needs_background": "light"
     },
     "output_type": "display_data"
    },
    {
     "name": "stdout",
     "output_type": "stream",
     "text": [
      "(37, 2)\n",
      "--  -------------------------------------------------  -----------------\n",
      " 0  Anterior_cingulate_area_dorsal_part                Isocortex\n",
      " 1  Nucleus_accumbens                                  Striatum\n",
      " 2  Agranular_insular_area_posterior_part              Isocortex\n",
      " 3  Agranular_insular_area_ventral_part                Isocortex\n",
      " 4  Accessory_olfactory_bulb                           Olfactory_areas\n",
      " 5  Anterior_olfactory_nucleus                         Olfactory_areas\n",
      " 7  Basolateral_amygdalar_nucleus                      Amygdalar\n",
      " 8  Basomedial_amygdalar_nucleus                       Amygdalar\n",
      " 9  Bed_nuclei_of_the_stria_terminalis                 Pallidum\n",
      "13  Central_amygdalar_nucleus                          Amygdalar\n",
      "14  Central_lateral_nucleus_of_the_thalamus            Thalamus\n",
      "15  Claustrum                                          Cortical_subplate\n",
      "16  Caudoputamen                                       Striatum\n",
      "18  Dorsal_peduncular_area                             Olfactory_areas\n",
      "19  Endopiriform_nucleus_dorsal_part                   Cortical_subplate\n",
      "20  Endopiriform_nucleus_ventral_part                  Cortical_subplate\n",
      "21  Gustatory_areas                                    Isocortex\n",
      "22  Intercalated_amygdalar_nucleus                     Amygdalar\n",
      "23  Infralimbic_area                                   Isocortex\n",
      "27  Lateral_septal_nucleus_rostral_rostroventral_part  Striatum\n",
      "29  Mediodorsal_nucleus_of_thalamus                    Thalamus\n",
      "30  Primary_motor_area                                 Isocortex\n",
      "31  Secondary_motor_area                               Isocortex\n",
      "32  Orbital_area_lateral_part                          Isocortex\n",
      "33  Orbital_area_medial_part                           Isocortex\n",
      "34  Orbital_area_ventrolateral_part                    Isocortex\n",
      "36  Parafascicular_nucleus                             Thalamus\n",
      "37  Piriform_area                                      Olfactory_areas\n",
      "38  Prelimbic_area                                     Isocortex\n",
      "39  Parataenial_nucleus                                Thalamus\n",
      "40  Nucleus_of_reuniens                                Thalamus\n",
      "41  Rhomboid_nucleus                                   Thalamus\n",
      "43  Submedial_nucleus_of_the_thalamus                  Thalamus\n",
      "44  Primary_somatosensory_area_lower_limb              Isocortex\n",
      "45  Subiculum_ventral_part                             Hippocampus\n",
      "46  Visceral_area                                      Isocortex\n",
      "47  Anteromedial_visual_area                           Isocortex\n",
      "--  -------------------------------------------------  -----------------\n",
      "(1, 2)\n",
      "-  --------------------------  --------\n",
      "6  Anterior_pretectal_nucleus  Midbrain\n",
      "-  --------------------------  --------\n",
      "(5, 2)\n",
      "--  ----------------------------------------------  -----------\n",
      "10  Field_CA1                                       Hippocampus\n",
      "11  Field_CA2                                       Hippocampus\n",
      "12  Field_CA3                                       Hippocampus\n",
      "17  Dentate_gyrus                                   Hippocampus\n",
      "26  Lateral_septal_nucleus_caudal_caudodorsal_part  Striatum\n",
      "--  ----------------------------------------------  -----------\n",
      "(1, 2)\n",
      "--  -------------------------  ---------\n",
      "24  Lateral_amygdalar_nucleus  Amygdalar\n",
      "--  -------------------------  ---------\n",
      "(1, 2)\n",
      "--  -----------------------------------------  --------\n",
      "25  Lateral_posterior_nucleus_of_the_thalamus  Thalamus\n",
      "--  -----------------------------------------  --------\n",
      "(1, 2)\n",
      "--  -----------------------------------  --------\n",
      "28  Lateral_septal_nucleus_ventral_part  Striatum\n",
      "--  -----------------------------------  --------\n",
      "(1, 2)\n",
      "--  -------------  -----------\n",
      "35  Parasubiculum  Hippocampus\n",
      "--  -------------  -----------\n",
      "(1, 2)\n",
      "--  -----------------------------------------  ---------\n",
      "42  Retrosplenial_area_lateral_agranular_part  Isocortex\n",
      "--  -----------------------------------------  ---------\n",
      "(1, 2)\n",
      "--  -------------------  ---------\n",
      "48  Lateral_visual_area  Isocortex\n",
      "--  -------------------  ---------\n",
      "(1, 2)\n",
      "--  -------------------  ---------\n",
      "49  Primary_visual_area  Isocortex\n",
      "--  -------------------  ---------\n"
     ]
    }
   ],
   "source": [
    "Nslices = np.arange(2,20,1)\n",
    "xx, nodeDF, QScores = dd(SA_Z2, g=g, Nslices=Nslices)\n",
    "idx = np.argmax(QScores)\n",
    "PlotMod(Nslices, QScores, idx)\n",
    "\n",
    "for cluster in xx.as_clustering(idx):\n",
    "    print(nodeDF.loc[cluster, :].shape)\n",
    "    print(tabulate(nodeDF.loc[cluster, :]))"
   ]
  },
  {
   "cell_type": "code",
   "execution_count": 27,
   "metadata": {},
   "outputs": [
    {
     "data": {
      "image/png": "[encoded data removed]",
      "text/plain": [
       "<Figure size 720x480 with 1 Axes>"
      ]
     },
     "metadata": {
      "needs_background": "light"
     },
     "output_type": "display_data"
    },
    {
     "name": "stdout",
     "output_type": "stream",
     "text": [
      "(42, 2)\n",
      "--  -----------------------------------------  -----------------\n",
      " 0  Anterior_cingulate_area_dorsal_part        Isocortex\n",
      " 1  Nucleus_accumbens                          Striatum\n",
      " 2  Agranular_insular_area_posterior_part      Isocortex\n",
      " 4  Accessory_olfactory_bulb                   Olfactory_areas\n",
      " 5  Anterior_olfactory_nucleus                 Olfactory_areas\n",
      " 6  Anterior_pretectal_nucleus                 Midbrain\n",
      " 7  Basolateral_amygdalar_nucleus              Amygdalar\n",
      " 8  Basomedial_amygdalar_nucleus               Amygdalar\n",
      "12  Central_lateral_nucleus_of_the_thalamus    Thalamus\n",
      "13  Claustrum                                  Cortical_subplate\n",
      "14  Caudoputamen                               Striatum\n",
      "15  Superior_central_nucleus_raphe             Pons\n",
      "17  Dorsal_peduncular_area                     Olfactory_areas\n",
      "18  Endopiriform_nucleus_dorsal_part           Cortical_subplate\n",
      "19  Frontal_pole_cerebral_cortex               Isocortex\n",
      "20  Intercalated_amygdalar_nucleus             Amygdalar\n",
      "21  Infralimbic_area                           Isocortex\n",
      "22  Lateral_amygdalar_nucleus                  Amygdalar\n",
      "23  Lateral_posterior_nucleus_of_the_thalamus  Thalamus\n",
      "25  Mediodorsal_nucleus_of_thalamus            Thalamus\n",
      "26  Primary_motor_area                         Isocortex\n",
      "27  Secondary_motor_area                       Isocortex\n",
      "28  Orbital_area_lateral_part                  Isocortex\n",
      "29  Orbital_area_medial_part                   Isocortex\n",
      "30  Orbital_area_ventrolateral_part            Isocortex\n",
      "31  Piriform_amygdalar_area                    Amygdalar\n",
      "32  Prelimbic_area                             Isocortex\n",
      "34  Parataenial_nucleus                        Thalamus\n",
      "35  Nucleus_of_reuniens                        Thalamus\n",
      "36  Rhomboid_nucleus                           Thalamus\n",
      "37  Retrosplenial_area_lateral_agranular_part  Isocortex\n",
      "39  Primary_somatosensory_area_lower_limb      Isocortex\n",
      "40  Supplemental_somatosensory_area            Isocortex\n",
      "41  Subiculum_ventral_part                     Hippocampus\n",
      "42  Postpiriform_transition_area               Olfactory_areas\n",
      "43  Visceral_area                              Isocortex\n",
      "44  Anterolateral_visual_area                  Isocortex\n",
      "45  Anteromedial_visual_area                   Isocortex\n",
      "46  Lateral_visual_area                        Isocortex\n",
      "47  Primary_visual_area                        Isocortex\n",
      "48  Posterolateral_visual_area                 Isocortex\n",
      "49  posteromedial_visual_area                  Isocortex\n",
      "--  -----------------------------------------  -----------------\n",
      "(1, 2)\n",
      "-  ---------------  ----------\n",
      "3  Ansiform_lobule  Cerebellum\n",
      "-  ---------------  ----------\n",
      "(5, 2)\n",
      "--  -----------------  -----------\n",
      " 9  Field_CA1          Hippocampus\n",
      "10  Field_CA2          Hippocampus\n",
      "11  Field_CA3          Hippocampus\n",
      "16  Dentate_gyrus      Hippocampus\n",
      "33  Paramedian_lobule  Cerebellum\n",
      "--  -----------------  -----------\n",
      "(1, 2)\n",
      "--  -----------------------------------  --------\n",
      "24  Lateral_septal_nucleus_ventral_part  Striatum\n",
      "--  -----------------------------------  --------\n",
      "(1, 2)\n",
      "--  -------------  ----------\n",
      "38  Simple_lobule  Cerebellum\n",
      "--  -------------  ----------\n"
     ]
    }
   ],
   "source": [
    "Nslices = np.arange(2,20,1)\n",
    "xx, nodeDF, QScores = dd(SA_Z1_NoNeg, g=g, Nslices=Nslices)\n",
    "idx = np.argmax(QScores)\n",
    "PlotMod(Nslices, QScores, idx)\n",
    "\n",
    "for cluster in xx.as_clustering(idx):\n",
    "    print(nodeDF.loc[cluster, :].shape)\n",
    "    print(tabulate(nodeDF.loc[cluster, :]))"
   ]
  },
  {
   "cell_type": "code",
   "execution_count": 41,
   "metadata": {},
   "outputs": [
    {
     "name": "stdout",
     "output_type": "stream",
     "text": [
      "2\n"
     ]
    },
    {
     "data": {
      "image/png": "[encoded data removed]",
      "text/plain": [
       "<Figure size 720x480 with 1 Axes>"
      ]
     },
     "metadata": {
      "needs_background": "light"
     },
     "output_type": "display_data"
    },
    {
     "name": "stdout",
     "output_type": "stream",
     "text": [
      "(46, 2)\n",
      "--  -------------------------------------------------  -----------------\n",
      " 0  Anterior_cingulate_area_dorsal_part                Isocortex\n",
      " 1  Nucleus_accumbens                                  Striatum\n",
      " 2  Agranular_insular_area_posterior_part              Isocortex\n",
      " 3  Accessory_olfactory_bulb                           Olfactory_areas\n",
      " 4  Anterior_olfactory_nucleus                         Olfactory_areas\n",
      " 5  Anterior_pretectal_nucleus                         Midbrain\n",
      " 6  Basolateral_amygdalar_nucleus                      Amygdalar\n",
      " 7  Basomedial_amygdalar_nucleus                       Amygdalar\n",
      "11  Claustrum                                          Cortical_subplate\n",
      "12  Superior_central_nucleus_raphe                     Pons\n",
      "14  Dorsal_peduncular_area                             Olfactory_areas\n",
      "15  Endopiriform_nucleus_dorsal_part                   Cortical_subplate\n",
      "16  Endopiriform_nucleus_ventral_part                  Cortical_subplate\n",
      "17  Frontal_pole_cerebral_cortex                       Isocortex\n",
      "18  Gustatory_areas                                    Isocortex\n",
      "19  Intercalated_amygdalar_nucleus                     Amygdalar\n",
      "20  Infralimbic_area                                   Isocortex\n",
      "21  Lateral_amygdalar_nucleus                          Amygdalar\n",
      "22  Lateral_posterior_nucleus_of_the_thalamus          Thalamus\n",
      "23  Lateral_septal_nucleus_rostral_rostroventral_part  Striatum\n",
      "24  Lateral_septal_nucleus_ventral_part                Striatum\n",
      "25  Mediodorsal_nucleus_of_thalamus                    Thalamus\n",
      "26  Primary_motor_area                                 Isocortex\n",
      "27  Secondary_motor_area                               Isocortex\n",
      "28  Nucleus_of_the_posterior_commissure                Midbrain\n",
      "29  Orbital_area_lateral_part                          Isocortex\n",
      "30  Orbital_area_medial_part                           Isocortex\n",
      "31  Orbital_area_ventrolateral_part                    Isocortex\n",
      "32  Parafascicular_nucleus                             Thalamus\n",
      "33  Piriform_area                                      Olfactory_areas\n",
      "34  Prelimbic_area                                     Isocortex\n",
      "35  Parataenial_nucleus                                Thalamus\n",
      "36  Posterior_parietal_association_areas               Isocortex\n",
      "37  Nucleus_of_reuniens                                Thalamus\n",
      "38  Rhomboid_nucleus                                   Thalamus\n",
      "39  Retrosplenial_area_lateral_agranular_part          Isocortex\n",
      "40  Submedial_nucleus_of_the_thalamus                  Thalamus\n",
      "41  Primary_somatosensory_area_lower_limb              Isocortex\n",
      "42  Supplemental_somatosensory_area                    Isocortex\n",
      "43  Subiculum_ventral_part                             Hippocampus\n",
      "44  Visceral_area                                      Isocortex\n",
      "45  Anterolateral_visual_area                          Isocortex\n",
      "46  Anteromedial_visual_area                           Isocortex\n",
      "47  Lateral_visual_area                                Isocortex\n",
      "48  Primary_visual_area                                Isocortex\n",
      "49  posteromedial_visual_area                          Isocortex\n",
      "--  -------------------------------------------------  -----------------\n",
      "(4, 2)\n",
      "--  -------------  -----------\n",
      " 8  Field_CA1      Hippocampus\n",
      " 9  Field_CA2      Hippocampus\n",
      "10  Field_CA3      Hippocampus\n",
      "13  Dentate_gyrus  Hippocampus\n",
      "--  -------------  -----------\n"
     ]
    }
   ],
   "source": [
    "Nslices = np.arange(2,20,1)\n",
    "xx, nodeDF, QScores = dd(SA_Z2_NoNeg, g=g, Nslices=Nslices)\n",
    "idx = np.argmax(QScores)\n",
    "print(idx)\n",
    "PlotMod(Nslices, QScores, idx)\n",
    "\n",
    "for cluster in xx.as_clustering(2):\n",
    "    print(nodeDF.loc[cluster, :].shape)\n",
    "    print(tabulate(nodeDF.loc[cluster, :]))"
   ]
  },
  {
   "cell_type": "markdown",
   "metadata": {},
   "source": [
    "### Annotate Graph and save"
   ]
  },
  {
   "cell_type": "code",
   "execution_count": 6,
   "metadata": {},
   "outputs": [
    {
     "name": "stdout",
     "output_type": "stream",
     "text": [
      "50\n"
     ]
    },
    {
     "data": {
      "text/html": [
       "<div>\n",
       "<style scoped>\n",
       "    .dataframe tbody tr th:only-of-type {\n",
       "        vertical-align: middle;\n",
       "    }\n",
       "\n",
       "    .dataframe tbody tr th {\n",
       "        vertical-align: top;\n",
       "    }\n",
       "\n",
       "    .dataframe thead th {\n",
       "        text-align: right;\n",
       "    }\n",
       "</style>\n",
       "<table border=\"1\" class=\"dataframe\">\n",
       "  <thead>\n",
       "    <tr style=\"text-align: right;\">\n",
       "      <th></th>\n",
       "      <th>STR</th>\n",
       "      <th>REG</th>\n",
       "    </tr>\n",
       "    <tr>\n",
       "      <th>index</th>\n",
       "      <th></th>\n",
       "      <th></th>\n",
       "    </tr>\n",
       "  </thead>\n",
       "  <tbody>\n",
       "    <tr>\n",
       "      <th>0</th>\n",
       "      <td>Anterior_cingulate_area_dorsal_part</td>\n",
       "      <td>Isocortex</td>\n",
       "    </tr>\n",
       "    <tr>\n",
       "      <th>1</th>\n",
       "      <td>Nucleus_accumbens</td>\n",
       "      <td>Striatum</td>\n",
       "    </tr>\n",
       "  </tbody>\n",
       "</table>\n",
       "</div>"
      ],
      "text/plain": [
       "                                       STR        REG\n",
       "index                                                \n",
       "0      Anterior_cingulate_area_dorsal_part  Isocortex\n",
       "1                        Nucleus_accumbens   Striatum"
      ]
     },
     "execution_count": 6,
     "metadata": {},
     "output_type": "execute_result"
    }
   ],
   "source": [
    "#Spark_EWS = pd.read_csv(\"dat/bias2/ASD.EW.pLI.Spec.bias.csv\", index_col=\"STR\")\n",
    "#Spark_EWS = pd.read_csv(\"dat/bias2/ASD.EW.pLI.NonNeg.Spec.bias.csv\", index_col=\"STR\")\n",
    "Spark_EWS = pd.read_csv(\"dat/bias2/ASD.EW.pLI.z1.csv\", index_col=\"STR\")\n",
    "#Spark_EWS = pd.read_csv(\"dat/bias2/ASD.EW.Spec.bias.csv\", index_col=\"STR\")\n",
    "#Spark_EWS = pd.read_csv(\"dat/jon_data/exprank-asd.csv\", index_col=\"STR\")\n",
    "#Spark_EWS = SparkMetaBias\n",
    "\n",
    "#Test_STRs = [\"Basolateral_amygdalar_nucleus\", \"Rhomboid_nucleus\"]\n",
    "#Candidate_CircuitNodes = np.append(Spark_EWS.head(45).index.values, Test_STRs)\n",
    "Candidate_CircuitNodes = Spark_EWS.head(50).index.values# - [\"Lateral_visual_area\"]\n",
    "#Candidate_CircuitNodes = [x for x in Spark_EWS.head(50).index.values if x != \"Lateral_visual_area\"]\n",
    "##Candidate_CircuitNodes.remove(\"Lateral_visual_area\")\n",
    "print(len(Candidate_CircuitNodes))\n",
    "g2 = subgraph(g, Candidate_CircuitNodes)\n",
    "dat = []\n",
    "for v in g2.vs:\n",
    "    dat.append([v.index, v[\"label\"], str2reg[v[\"label\"]]])\n",
    "nodeDF = pd.DataFrame(dat, columns=[\"index\", \"STR\", \"REG\"])\n",
    "nodeDF = nodeDF.set_index(\"index\")\n",
    "nodeDF.head(2)"
   ]
  },
  {
   "cell_type": "code",
   "execution_count": 7,
   "metadata": {
    "scrolled": true
   },
   "outputs": [],
   "source": [
    "g2.to_undirected()\n",
    "xx = g2.community_edge_betweenness()\n",
    "#for cluster in xx.as_clustering(15):\n",
    "#    print(nodeDF.loc[cluster, :].shape)\n",
    "#    print(tabulate(nodeDF.loc[cluster, :]))"
   ]
  },
  {
   "cell_type": "code",
   "execution_count": 8,
   "metadata": {},
   "outputs": [
    {
     "name": "stdout",
     "output_type": "stream",
     "text": [
      "(28, 2)\n",
      "--  ---------------------------------------  -----------------\n",
      " 0  Anterior_cingulate_area_dorsal_part      Isocortex\n",
      " 2  Agranular_insular_area_posterior_part    Isocortex\n",
      " 3  Agranular_insular_area_ventral_part      Isocortex\n",
      " 4  Accessory_olfactory_bulb                 Olfactory_areas\n",
      " 7  Basolateral_amygdalar_nucleus            Amygdalar\n",
      "13  Central_amygdalar_nucleus                Amygdalar\n",
      "14  Central_lateral_nucleus_of_the_thalamus  Thalamus\n",
      "15  Claustrum                                Cortical_subplate\n",
      "16  Caudoputamen                             Striatum\n",
      "18  Dorsal_peduncular_area                   Olfactory_areas\n",
      "19  Endopiriform_nucleus_dorsal_part         Cortical_subplate\n",
      "21  Frontal_pole_cerebral_cortex             Isocortex\n",
      "22  Gustatory_areas                          Isocortex\n",
      "23  Intercalated_amygdalar_nucleus           Amygdalar\n",
      "24  Infralimbic_area                         Isocortex\n",
      "28  Mediodorsal_nucleus_of_thalamus          Thalamus\n",
      "29  Primary_motor_area                       Isocortex\n",
      "30  Secondary_motor_area                     Isocortex\n",
      "31  Orbital_area_lateral_part                Isocortex\n",
      "32  Orbital_area_medial_part                 Isocortex\n",
      "33  Orbital_area_ventrolateral_part          Isocortex\n",
      "36  Piriform_area                            Olfactory_areas\n",
      "37  Prelimbic_area                           Isocortex\n",
      "38  Nucleus_of_reuniens                      Thalamus\n",
      "39  Rhomboid_nucleus                         Thalamus\n",
      "41  Submedial_nucleus_of_the_thalamus        Thalamus\n",
      "42  Primary_somatosensory_area_lower_limb    Isocortex\n",
      "43  Supplemental_somatosensory_area          Isocortex\n",
      "--  ---------------------------------------  -----------------\n",
      "(1, 2)\n",
      "-  -----------------  --------\n",
      "1  Nucleus_accumbens  Striatum\n",
      "-  -----------------  --------\n",
      "(1, 2)\n",
      "-  --------------------------  ---------------\n",
      "5  Anterior_olfactory_nucleus  Olfactory_areas\n",
      "-  --------------------------  ---------------\n",
      "(1, 2)\n",
      "-  --------------------------  --------\n",
      "6  Anterior_pretectal_nucleus  Midbrain\n",
      "-  --------------------------  --------\n",
      "(1, 2)\n",
      "-  ----------------------------  ---------\n",
      "8  Basomedial_amygdalar_nucleus  Amygdalar\n",
      "-  ----------------------------  ---------\n",
      "(1, 2)\n",
      "-  ----------------------------------  --------\n",
      "9  Bed_nuclei_of_the_stria_terminalis  Pallidum\n",
      "-  ----------------------------------  --------\n",
      "(4, 2)\n",
      "--  -------------  -----------\n",
      "10  Field_CA1      Hippocampus\n",
      "11  Field_CA2      Hippocampus\n",
      "12  Field_CA3      Hippocampus\n",
      "17  Dentate_gyrus  Hippocampus\n",
      "--  -------------  -----------\n",
      "(1, 2)\n",
      "--  ---------------------------------  -----------------\n",
      "20  Endopiriform_nucleus_ventral_part  Cortical_subplate\n",
      "--  ---------------------------------  -----------------\n",
      "(1, 2)\n",
      "--  -------------------------  ---------\n",
      "25  Lateral_amygdalar_nucleus  Amygdalar\n",
      "--  -------------------------  ---------\n",
      "(6, 2)\n",
      "--  -----------------------------------------  ---------\n",
      "26  Lateral_posterior_nucleus_of_the_thalamus  Thalamus\n",
      "40  Retrosplenial_area_lateral_agranular_part  Isocortex\n",
      "46  Anteromedial_visual_area                   Isocortex\n",
      "47  Lateral_visual_area                        Isocortex\n",
      "48  Primary_visual_area                        Isocortex\n",
      "49  Posterolateral_visual_area                 Isocortex\n",
      "--  -----------------------------------------  ---------\n",
      "(1, 2)\n",
      "--  -----------------------------------  --------\n",
      "27  Lateral_septal_nucleus_ventral_part  Striatum\n",
      "--  -----------------------------------  --------\n",
      "(1, 2)\n",
      "--  -------------  -----------\n",
      "34  Parasubiculum  Hippocampus\n",
      "--  -------------  -----------\n",
      "(1, 2)\n",
      "--  ----------------------  --------\n",
      "35  Parafascicular_nucleus  Thalamus\n",
      "--  ----------------------  --------\n",
      "(1, 2)\n",
      "--  ----------------------  -----------\n",
      "44  Subiculum_ventral_part  Hippocampus\n",
      "--  ----------------------  -----------\n",
      "(1, 2)\n",
      "--  -------------  ---------\n",
      "45  Visceral_area  Isocortex\n",
      "--  -------------  ---------\n"
     ]
    }
   ],
   "source": [
    "for cluster in xx.as_clustering(15):\n",
    "    print(nodeDF.loc[cluster, :].shape)\n",
    "    print(tabulate(nodeDF.loc[cluster, :]))"
   ]
  },
  {
   "cell_type": "code",
   "execution_count": 20,
   "metadata": {},
   "outputs": [
    {
     "data": {
      "image/png": "[encoded data removed]",
      "text/plain": [
       "<Figure size 720x480 with 1 Axes>"
      ]
     },
     "metadata": {
      "needs_background": "light"
     },
     "output_type": "display_data"
    },
    {
     "name": "stdout",
     "output_type": "stream",
     "text": [
      "(34, 2)\n",
      "--  ---------------------------------------  -----------------\n",
      " 0  Anterior_cingulate_area_dorsal_part      Isocortex\n",
      " 1  Nucleus_accumbens                        Striatum\n",
      " 2  Agranular_insular_area_posterior_part    Isocortex\n",
      " 3  Agranular_insular_area_ventral_part      Isocortex\n",
      " 4  Accessory_olfactory_bulb                 Olfactory_areas\n",
      " 5  Anterior_olfactory_nucleus               Olfactory_areas\n",
      " 7  Basolateral_amygdalar_nucleus            Amygdalar\n",
      " 9  Bed_nuclei_of_the_stria_terminalis       Pallidum\n",
      "13  Central_amygdalar_nucleus                Amygdalar\n",
      "14  Central_lateral_nucleus_of_the_thalamus  Thalamus\n",
      "15  Claustrum                                Cortical_subplate\n",
      "16  Caudoputamen                             Striatum\n",
      "18  Dorsal_peduncular_area                   Olfactory_areas\n",
      "19  Endopiriform_nucleus_dorsal_part         Cortical_subplate\n",
      "20  Endopiriform_nucleus_ventral_part        Cortical_subplate\n",
      "21  Frontal_pole_cerebral_cortex             Isocortex\n",
      "22  Gustatory_areas                          Isocortex\n",
      "23  Intercalated_amygdalar_nucleus           Amygdalar\n",
      "24  Infralimbic_area                         Isocortex\n",
      "28  Mediodorsal_nucleus_of_thalamus          Thalamus\n",
      "29  Primary_motor_area                       Isocortex\n",
      "30  Secondary_motor_area                     Isocortex\n",
      "31  Orbital_area_lateral_part                Isocortex\n",
      "32  Orbital_area_medial_part                 Isocortex\n",
      "33  Orbital_area_ventrolateral_part          Isocortex\n",
      "35  Parafascicular_nucleus                   Thalamus\n",
      "36  Piriform_area                            Olfactory_areas\n",
      "37  Prelimbic_area                           Isocortex\n",
      "38  Nucleus_of_reuniens                      Thalamus\n",
      "39  Rhomboid_nucleus                         Thalamus\n",
      "41  Submedial_nucleus_of_the_thalamus        Thalamus\n",
      "42  Primary_somatosensory_area_lower_limb    Isocortex\n",
      "43  Supplemental_somatosensory_area          Isocortex\n",
      "45  Visceral_area                            Isocortex\n",
      "--  ---------------------------------------  -----------------\n",
      "(1, 2)\n",
      "-  --------------------------  --------\n",
      "6  Anterior_pretectal_nucleus  Midbrain\n",
      "-  --------------------------  --------\n",
      "(1, 2)\n",
      "-  ----------------------------  ---------\n",
      "8  Basomedial_amygdalar_nucleus  Amygdalar\n",
      "-  ----------------------------  ---------\n",
      "(4, 2)\n",
      "--  -------------  -----------\n",
      "10  Field_CA1      Hippocampus\n",
      "11  Field_CA2      Hippocampus\n",
      "12  Field_CA3      Hippocampus\n",
      "17  Dentate_gyrus  Hippocampus\n",
      "--  -------------  -----------\n",
      "(1, 2)\n",
      "--  -------------------------  ---------\n",
      "25  Lateral_amygdalar_nucleus  Amygdalar\n",
      "--  -------------------------  ---------\n",
      "(6, 2)\n",
      "--  -----------------------------------------  ---------\n",
      "26  Lateral_posterior_nucleus_of_the_thalamus  Thalamus\n",
      "40  Retrosplenial_area_lateral_agranular_part  Isocortex\n",
      "46  Anteromedial_visual_area                   Isocortex\n",
      "47  Lateral_visual_area                        Isocortex\n",
      "48  Primary_visual_area                        Isocortex\n",
      "49  Posterolateral_visual_area                 Isocortex\n",
      "--  -----------------------------------------  ---------\n",
      "(1, 2)\n",
      "--  -----------------------------------  --------\n",
      "27  Lateral_septal_nucleus_ventral_part  Striatum\n",
      "--  -----------------------------------  --------\n",
      "(1, 2)\n",
      "--  -------------  -----------\n",
      "34  Parasubiculum  Hippocampus\n",
      "--  -------------  -----------\n",
      "(1, 2)\n",
      "--  ----------------------  -----------\n",
      "44  Subiculum_ventral_part  Hippocampus\n",
      "--  ----------------------  -----------\n"
     ]
    }
   ],
   "source": [
    "Nslices = np.arange(2,20,1)\n",
    "xx, nodeDF, QScores = dd(SA_Z2, g=g, Nslices=Nslices)\n",
    "idx = np.argmax(QScores)\n",
    "PlotMod(Nslices, QScores, idx)\n",
    "\n",
    "for cluster in xx.as_clustering(idx):\n",
    "    print(nodeDF.loc[cluster, :].shape)\n",
    "    print(tabulate(nodeDF.loc[cluster, :]))"
   ]
  },
  {
   "cell_type": "code",
   "execution_count": null,
   "metadata": {},
   "outputs": [],
   "source": []
  },
  {
   "cell_type": "code",
   "execution_count": null,
   "metadata": {},
   "outputs": [],
   "source": []
  },
  {
   "cell_type": "code",
   "execution_count": null,
   "metadata": {},
   "outputs": [],
   "source": []
  },
  {
   "cell_type": "code",
   "execution_count": null,
   "metadata": {},
   "outputs": [],
   "source": []
  },
  {
   "cell_type": "code",
   "execution_count": null,
   "metadata": {},
   "outputs": [],
   "source": []
  },
  {
   "cell_type": "code",
   "execution_count": null,
   "metadata": {},
   "outputs": [],
   "source": []
  },
  {
   "cell_type": "code",
   "execution_count": null,
   "metadata": {},
   "outputs": [],
   "source": []
  },
  {
   "cell_type": "code",
   "execution_count": 9,
   "metadata": {},
   "outputs": [],
   "source": [
    "def CleanCluster(Clusters, verbose=False):\n",
    "    Kept, Dropped = [], []\n",
    "    for cluster in Clusters:\n",
    "        #print(len(cluster), cluster)\n",
    "        if len(cluster) < 2:\n",
    "            Dropped.extend(cluster)\n",
    "        else:\n",
    "            Kept.extend(cluster)\n",
    "            if verbose:\n",
    "                tabulate(nodeDF.loc[cluster, :])\n",
    "    return Kept, Dropped\n"
   ]
  },
  {
   "cell_type": "code",
   "execution_count": 10,
   "metadata": {},
   "outputs": [
    {
     "name": "stdout",
     "output_type": "stream",
     "text": [
      "2\n",
      "3\n",
      "4\n",
      "5\n",
      "6\n",
      "7\n",
      "8\n",
      "9\n",
      "10\n",
      "11\n",
      "12\n",
      "13\n",
      "14\n",
      "15\n",
      "16\n",
      "17\n",
      "18\n",
      "19\n"
     ]
    }
   ],
   "source": [
    "#Cluster_Directed = g2.community_edge_betweenness(directed=True)\n",
    "#Cluster_UnDirected = g2.community_edge_betweenness(directed=False)\n",
    "\n",
    "QScores = []\n",
    "Nslices = np.arange(2,20,1)\n",
    "Nkept = []\n",
    "for N in Nslices:\n",
    "    print(N)\n",
    "    clusters = xx.as_clustering(N)\n",
    "    Kept, Dropped = CleanCluster(clusters)\n",
    "    g2_kept = g2.subgraph(Kept)\n",
    "    #cohe, Degree = ScoreSTRSet(g2, g2_kept.vs[\"label\"], {}, False, False)\n",
    "    #print(cohe, Degree)\n",
    "    Q = g2.modularity(clusters)\n",
    "    #print(N, len(Kept), Q)\n",
    "    QScores.append(Q)\n",
    "    Nkept.append(len(Kept))"
   ]
  },
  {
   "cell_type": "code",
   "execution_count": 13,
   "metadata": {},
   "outputs": [
    {
     "data": {
      "image/png": "[encoded data removed]",
      "text/plain": [
       "<Figure size 720x480 with 1 Axes>"
      ]
     },
     "metadata": {
      "needs_background": "light"
     },
     "output_type": "display_data"
    }
   ],
   "source": [
    "fig, ax = plt.subplots(dpi=120)\n",
    "ax.plot(Nslices, QScores, marker=\".\", color=\"black\")\n",
    "idx=9\n",
    "ax.scatter(Nslices[idx], QScores[idx], s=100, marker=\"*\", color=\"red\")\n",
    "ax.set_ylabel(\"Modularity\")\n",
    "ax.set_xlabel(\"Number of clusters\")\n",
    "ax.grid(True)\n",
    "#plt.plot(Nslices, Nkept)\n",
    "plt.savefig(\"figs/Genes.61.GN.profile.pdf\")"
   ]
  },
  {
   "cell_type": "code",
   "execution_count": 14,
   "metadata": {
    "scrolled": false
   },
   "outputs": [
    {
     "name": "stdout",
     "output_type": "stream",
     "text": [
      "(34, 2)\n",
      "--  ---------------------------------------  -----------------\n",
      " 0  Anterior_cingulate_area_dorsal_part      Isocortex\n",
      " 1  Nucleus_accumbens                        Striatum\n",
      " 2  Agranular_insular_area_posterior_part    Isocortex\n",
      " 3  Agranular_insular_area_ventral_part      Isocortex\n",
      " 4  Accessory_olfactory_bulb                 Olfactory_areas\n",
      " 5  Anterior_olfactory_nucleus               Olfactory_areas\n",
      " 7  Basolateral_amygdalar_nucleus            Amygdalar\n",
      " 9  Bed_nuclei_of_the_stria_terminalis       Pallidum\n",
      "13  Central_amygdalar_nucleus                Amygdalar\n",
      "14  Central_lateral_nucleus_of_the_thalamus  Thalamus\n",
      "15  Claustrum                                Cortical_subplate\n",
      "16  Caudoputamen                             Striatum\n",
      "18  Dorsal_peduncular_area                   Olfactory_areas\n",
      "19  Endopiriform_nucleus_dorsal_part         Cortical_subplate\n",
      "20  Endopiriform_nucleus_ventral_part        Cortical_subplate\n",
      "21  Frontal_pole_cerebral_cortex             Isocortex\n",
      "22  Gustatory_areas                          Isocortex\n",
      "23  Intercalated_amygdalar_nucleus           Amygdalar\n",
      "24  Infralimbic_area                         Isocortex\n",
      "28  Mediodorsal_nucleus_of_thalamus          Thalamus\n",
      "29  Primary_motor_area                       Isocortex\n",
      "30  Secondary_motor_area                     Isocortex\n",
      "31  Orbital_area_lateral_part                Isocortex\n",
      "32  Orbital_area_medial_part                 Isocortex\n",
      "33  Orbital_area_ventrolateral_part          Isocortex\n",
      "35  Parafascicular_nucleus                   Thalamus\n",
      "36  Piriform_area                            Olfactory_areas\n",
      "37  Prelimbic_area                           Isocortex\n",
      "38  Nucleus_of_reuniens                      Thalamus\n",
      "39  Rhomboid_nucleus                         Thalamus\n",
      "41  Submedial_nucleus_of_the_thalamus        Thalamus\n",
      "42  Primary_somatosensory_area_lower_limb    Isocortex\n",
      "43  Supplemental_somatosensory_area          Isocortex\n",
      "45  Visceral_area                            Isocortex\n",
      "--  ---------------------------------------  -----------------\n",
      "(1, 2)\n",
      "-  --------------------------  --------\n",
      "6  Anterior_pretectal_nucleus  Midbrain\n",
      "-  --------------------------  --------\n",
      "(1, 2)\n",
      "-  ----------------------------  ---------\n",
      "8  Basomedial_amygdalar_nucleus  Amygdalar\n",
      "-  ----------------------------  ---------\n",
      "(4, 2)\n",
      "--  -------------  -----------\n",
      "10  Field_CA1      Hippocampus\n",
      "11  Field_CA2      Hippocampus\n",
      "12  Field_CA3      Hippocampus\n",
      "17  Dentate_gyrus  Hippocampus\n",
      "--  -------------  -----------\n",
      "(1, 2)\n",
      "--  -------------------------  ---------\n",
      "25  Lateral_amygdalar_nucleus  Amygdalar\n",
      "--  -------------------------  ---------\n",
      "(6, 2)\n",
      "--  -----------------------------------------  ---------\n",
      "26  Lateral_posterior_nucleus_of_the_thalamus  Thalamus\n",
      "40  Retrosplenial_area_lateral_agranular_part  Isocortex\n",
      "46  Anteromedial_visual_area                   Isocortex\n",
      "47  Lateral_visual_area                        Isocortex\n",
      "48  Primary_visual_area                        Isocortex\n",
      "49  Posterolateral_visual_area                 Isocortex\n",
      "--  -----------------------------------------  ---------\n",
      "(1, 2)\n",
      "--  -----------------------------------  --------\n",
      "27  Lateral_septal_nucleus_ventral_part  Striatum\n",
      "--  -----------------------------------  --------\n",
      "(1, 2)\n",
      "--  -------------  -----------\n",
      "34  Parasubiculum  Hippocampus\n",
      "--  -------------  -----------\n",
      "(1, 2)\n",
      "--  ----------------------  -----------\n",
      "44  Subiculum_ventral_part  Hippocampus\n",
      "--  ----------------------  -----------\n"
     ]
    }
   ],
   "source": [
    "for cluster in xx.as_clustering(idx):\n",
    "    print(nodeDF.loc[cluster, :].shape)\n",
    "    print(tabulate(nodeDF.loc[cluster, :]))"
   ]
  },
  {
   "cell_type": "markdown",
   "metadata": {},
   "source": [
    "### Community Detection"
   ]
  },
  {
   "cell_type": "code",
   "execution_count": null,
   "metadata": {},
   "outputs": [],
   "source": [
    "yyy = g2.community_optimal_modularity()"
   ]
  },
  {
   "cell_type": "code",
   "execution_count": null,
   "metadata": {},
   "outputs": [],
   "source": [
    "yyy"
   ]
  },
  {
   "cell_type": "code",
   "execution_count": null,
   "metadata": {},
   "outputs": [],
   "source": []
  },
  {
   "cell_type": "code",
   "execution_count": null,
   "metadata": {},
   "outputs": [],
   "source": []
  },
  {
   "cell_type": "code",
   "execution_count": null,
   "metadata": {},
   "outputs": [],
   "source": []
  },
  {
   "cell_type": "code",
   "execution_count": null,
   "metadata": {},
   "outputs": [],
   "source": []
  },
  {
   "cell_type": "code",
   "execution_count": null,
   "metadata": {},
   "outputs": [],
   "source": [
    "Candidate_CircuitNodes = SparkMetaBias.head(50).index.values\n",
    "g2 = subgraph(g, Candidate_CircuitNodes)\n",
    "dat = []\n",
    "for v in g2.vs:\n",
    "    #print(v.index, v[\"label\"])\n",
    "    dat.append([v.index, v[\"label\"], str2reg[v[\"label\"]]])\n",
    "nodeDF = pd.DataFrame(dat, columns=[\"index\", \"STR\", \"REG\"])\n",
    "nodeDF = nodeDF.set_index(\"index\")\n",
    "nodeDF.head(2)"
   ]
  },
  {
   "cell_type": "markdown",
   "metadata": {
    "heading_collapsed": true
   },
   "source": [
    "#### Info Map"
   ]
  },
  {
   "cell_type": "code",
   "execution_count": null,
   "metadata": {
    "hidden": true
   },
   "outputs": [],
   "source": [
    "xx = g2.community_infomap()"
   ]
  },
  {
   "cell_type": "code",
   "execution_count": null,
   "metadata": {
    "code_folding": [],
    "hidden": true
   },
   "outputs": [],
   "source": [
    "for cluster in xx:\n",
    "    print()\n",
    "    print(tabulate(nodeDF.loc[cluster, :]))"
   ]
  },
  {
   "cell_type": "markdown",
   "metadata": {},
   "source": [
    "####  Edge Betweeness"
   ]
  },
  {
   "cell_type": "code",
   "execution_count": null,
   "metadata": {
    "scrolled": true
   },
   "outputs": [],
   "source": [
    "g2.to_undirected()\n",
    "xx = g2.community_edge_betweenness()\n",
    "for cluster in xx.as_clustering(15):\n",
    "    print(nodeDF.loc[cluster, :].shape)\n",
    "    print(tabulate(nodeDF.loc[cluster, :]))"
   ]
  },
  {
   "cell_type": "code",
   "execution_count": null,
   "metadata": {},
   "outputs": [],
   "source": [
    "\n",
    "Cluster_Directed = g2.community_edge_betweenness(directed=True)\n",
    "Cluster_UnDirected = g2.community_edge_betweenness(directed=False)\n",
    "\n",
    "QScores = []\n",
    "Nslices = np.arange(1,40,1)\n",
    "Nkept = []\n",
    "for N in Nslices:\n",
    "    clusters = xx.as_clustering(N)\n",
    "    Kept, Dropped = CleanCluster(clusters)\n",
    "    g2_kept = g2.subgraph(Kept)\n",
    "    #cohe, Degree = ScoreSTRSet(g2, g2_kept.vs[\"label\"], {}, False, False)\n",
    "    #print(cohe, Degree)\n",
    "    Q = g2.modularity(clusters)\n",
    "    #print(N, len(Kept), Q)\n",
    "    QScores.append(Q)\n",
    "    Nkept.append(len(Kept))"
   ]
  },
  {
   "cell_type": "code",
   "execution_count": null,
   "metadata": {},
   "outputs": [],
   "source": [
    "fig, ax = plt.subplots(dpi=120)\n",
    "ax.plot(Nslices, QScores, marker=\".\", color=\"black\")\n",
    "idx=9\n",
    "ax.scatter(Nslices[idx], QScores[idx], s=100, marker=\"*\", color=\"red\")\n",
    "ax.set_ylabel(\"Modularity\")\n",
    "ax.set_xlabel(\"Number of clusters\")\n",
    "ax.grid(True)\n",
    "#plt.plot(Nslices, Nkept)"
   ]
  },
  {
   "cell_type": "code",
   "execution_count": null,
   "metadata": {
    "scrolled": false
   },
   "outputs": [],
   "source": [
    "for cluster in xx.as_clustering(10):\n",
    "    print(nodeDF.loc[cluster, :].shape)\n",
    "    print(tabulate(nodeDF.loc[cluster, :]))"
   ]
  },
  {
   "cell_type": "code",
   "execution_count": null,
   "metadata": {},
   "outputs": [],
   "source": [
    "Kept, Dropped = CleanCluster(xx.as_clustering(10))\n",
    "nodeDF.loc[Kept].to_csv(\"dat/Circuit_GN_42.csv\", index=False)\n",
    "CircuitSTRs = nodeDF.loc[Kept][\"STR\"].values"
   ]
  },
  {
   "cell_type": "code",
   "execution_count": null,
   "metadata": {},
   "outputs": [],
   "source": [
    "print(len(CircuitSTRs))\n",
    "CircuitSTRs"
   ]
  },
  {
   "cell_type": "code",
   "execution_count": null,
   "metadata": {},
   "outputs": [],
   "source": [
    "g3 = subgraph(g, nodeDF.loc[Kept][\"STR\"].values)"
   ]
  },
  {
   "cell_type": "code",
   "execution_count": null,
   "metadata": {},
   "outputs": [],
   "source": [
    "g3_Node_DF = pd.DataFrame(data={\"STR\":g3.vs[\"label\"], \n",
    "                                \"Region\":[str2reg[x] for x in g3.vs[\"label\"]]})"
   ]
  },
  {
   "cell_type": "code",
   "execution_count": null,
   "metadata": {},
   "outputs": [],
   "source": [
    "g3_Node_DF.head(3)"
   ]
  },
  {
   "cell_type": "code",
   "execution_count": null,
   "metadata": {},
   "outputs": [],
   "source": [
    "g3.is_directed()"
   ]
  },
  {
   "cell_type": "code",
   "execution_count": null,
   "metadata": {},
   "outputs": [],
   "source": [
    "ITRs = []\n",
    "plt.style.use('seaborn-talk')\n",
    "fig, ax = plt.subplots(dpi=720, figsize=(12,16), frameon=False)\n",
    "for v in g3.vs:\n",
    "    #print(v.indegree(), v.outdegree())\n",
    "    x, y = v.indegree(), v.outdegree()\n",
    "    ax.scatter(x,y)\n",
    "    ax.text(x,y, s=v[\"label\"], fontstyle=\"normal\", fontsize=10, fontweight=\"semibold\")\n",
    "#ax.grid(True)\n",
    "ax.set_xlabel(\"In degree\", fontsize=20)\n",
    "ax.set_ylabel(\"Out degree\", fontsize=20)\n",
    "ax.set_xlim(-1, 14)\n",
    "ax.set_ylim(-1, 22)\n",
    "\n",
    "for r in np.arange(4,20,4):\n",
    "    phi = np.linspace(0, 1/2*np.pi, 200)\n",
    "    x = r*np.cos(phi)\n",
    "    y = r*np.sin(phi)\n",
    "    plt.plot(x,y,'--',color=\"grey\", )\n",
    "\n",
    "lims = np.array([\n",
    "    0,  # min of both axes\n",
    "    np.max([ax.get_xlim(), ax.get_ylim()]),  # max of both axes\n",
    "])\n",
    "ax.plot(lims, lims, '--', alpha=0.5, zorder=0, color=\"grey\")\n",
    "ax.plot(lims, 2*lims, '--', alpha=0.5, zorder=0, color=\"grey\")\n",
    "ax.plot(lims, 0.5*lims, '--', alpha=0.5, zorder=0, color=\"grey\")\n"
   ]
  },
  {
   "cell_type": "code",
   "execution_count": null,
   "metadata": {},
   "outputs": [],
   "source": [
    "g3_Node_DF[\"betweenness\"] = g3.betweenness()\n",
    "g3_Node_DF[\"closeness\"] = g3.closeness()\n",
    "g3_Node_DF[\"harmonic_centrality\"] = g3.harmonic_centrality()"
   ]
  },
  {
   "cell_type": "code",
   "execution_count": null,
   "metadata": {},
   "outputs": [],
   "source": [
    "g3_Node_DF"
   ]
  },
  {
   "cell_type": "code",
   "execution_count": null,
   "metadata": {},
   "outputs": [],
   "source": [
    "g3_Node_DF.sort_values(\"harmonic_centrality\", ascending=False)"
   ]
  },
  {
   "cell_type": "code",
   "execution_count": null,
   "metadata": {},
   "outputs": [],
   "source": [
    "# Annotate Circuits\n",
    "# Node: Bias, Region\n",
    "# Edges: Exp dist, Cartesion dist, Cross Region (bool), "
   ]
  },
  {
   "cell_type": "markdown",
   "metadata": {},
   "source": [
    "### Let's try long distance"
   ]
  },
  {
   "cell_type": "markdown",
   "metadata": {},
   "source": [
    "##### 1. Real Connectome"
   ]
  },
  {
   "cell_type": "code",
   "execution_count": null,
   "metadata": {},
   "outputs": [],
   "source": [
    "Cartesian_distancesDF = pd.read_csv(\"../dat/allen-mouse-conn/Dist_CartesianDistance.csv\",\n",
    "                                   index_col=0)"
   ]
  },
  {
   "cell_type": "code",
   "execution_count": null,
   "metadata": {
    "code_folding": [
     1,
     17
    ]
   },
   "outputs": [],
   "source": [
    "# Mask Mat2 according to values in Mat1\n",
    "def MaskDistMat(Mat1, Mat2, cutoff, m='lt'):\n",
    "    New_Mat2 = Mat2.copy(deep=True)\n",
    "    for STR_i in Mat1.index.values:\n",
    "        for STR_j in Mat1.columns.values:\n",
    "            if m == 'gt':\n",
    "                if Mat1.loc[STR_i, STR_j] >= cutoff:\n",
    "                    New_Mat2.loc[STR_i, STR_j] = 0\n",
    "                else:\n",
    "                    New_Mat2.loc[STR_i, STR_j] = Mat2.loc[STR_i, STR_j]\n",
    "            elif m == \"lt\":\n",
    "                if Mat1.loc[STR_i, STR_j] <= cutoff:\n",
    "                    New_Mat2.loc[STR_i, STR_j] = 0\n",
    "                else:\n",
    "                    New_Mat2.loc[STR_i, STR_j] = Mat2.loc[STR_i, STR_j]\n",
    "    return New_Mat2\n",
    "\n",
    "def MaskDistMat_xx(distance_mat, Conn_mat, cutoff, keep='gt'):\n",
    "    Conn_mat_new = Conn_mat.copy(deep=True)\n",
    "    distance_mat_new = distance_mat.copy(deep=True)\n",
    "    for STR_i in distance_mat.index.values:\n",
    "        for STR_j in distance_mat.columns.values:\n",
    "            if keep == 'gt':\n",
    "                if distance_mat.loc[STR_i, STR_j] >= cutoff:\n",
    "                    Conn_mat_new.loc[STR_i, STR_j] = Conn_mat.loc[STR_i, STR_j]\n",
    "                    distance_mat_new.loc[STR_i, STR_j] = distance_mat.loc[STR_i, STR_j]\n",
    "                else:\n",
    "                    Conn_mat_new.loc[STR_i, STR_j] = 0\n",
    "                    distance_mat_new.loc[STR_i, STR_j] = 0\n",
    "            elif keep == \"lt\":\n",
    "                if distance_mat.loc[STR_i, STR_j] <= cutoff:\n",
    "                    Conn_mat_new.loc[STR_i, STR_j] = Conn_mat.loc[STR_i, STR_j]\n",
    "                    distance_mat_new.loc[STR_i, STR_j] = distance_mat.loc[STR_i, STR_j]\n",
    "                else:\n",
    "                    Conn_mat_new.loc[STR_i, STR_j] = 0\n",
    "                    distance_mat_new.loc[STR_i, STR_j] = 0                \n",
    "    return Conn_mat_new, distance_mat_new"
   ]
  },
  {
   "cell_type": "code",
   "execution_count": null,
   "metadata": {},
   "outputs": [],
   "source": [
    "Cartesian_distances_w_edge = MaskDistMat(adj_mat, Cartesian_distancesDF, cutoff=0)"
   ]
  },
  {
   "cell_type": "code",
   "execution_count": null,
   "metadata": {},
   "outputs": [],
   "source": [
    "CD_values = [x for x in Cartesian_distances_w_edge.values.flatten() if x > 0]\n",
    "CD_deciles = np.percentile(CD_values, np.arange(0, 100, 10))\n",
    "plt.hist(CD_values)\n",
    "plt.show()\n",
    "print(np.mean(CD_values))"
   ]
  },
  {
   "cell_type": "code",
   "execution_count": null,
   "metadata": {},
   "outputs": [],
   "source": [
    "CD_deciles"
   ]
  },
  {
   "cell_type": "code",
   "execution_count": null,
   "metadata": {},
   "outputs": [],
   "source": [
    "Distance_Cuts = [0, 1000, 2000, 3000, 4000, 5000, 6000]"
   ]
  },
  {
   "cell_type": "code",
   "execution_count": null,
   "metadata": {},
   "outputs": [],
   "source": [
    "Dist_cut_graphs = []\n",
    "#for i in range(10):\n",
    "N_Connections_total = []\n",
    "for cut in Distance_Cuts:\n",
    "    #Conn_mat_new, distance_mat_new = MaskDistMat_xx(Cartesian_distances_w_edge, adj_mat, \n",
    "    #                                            cutoff=Cartesian_distances_deciles[i])\n",
    "    Conn_mat_new, distance_mat_new = MaskDistMat_xx(Cartesian_distances_w_edge, adj_mat, \n",
    "                                                cutoff=cut)\n",
    "    N_Connections_total.append(np.count_nonzero(Conn_mat_new))\n",
    "    g_ = LoadConnectome2(Conn_mat_new)\n",
    "    Dist_cut_graphs.append(g_)"
   ]
  },
  {
   "cell_type": "code",
   "execution_count": null,
   "metadata": {},
   "outputs": [],
   "source": [
    "#Sib_Bias_avgz = pd.read_csv(\"dat/bias2/ASD_LGD_Dmis2_spec.bias.csv\", index_col=\"STR\")\n",
    "#SparkMetaBias = pd.read_csv(\"dat/Jon_data/Spark_Final_ExpBias.csv\")\n",
    "ASD_STRs = SparkMetaBias.head(49).index.values\n",
    "Sib_STRs = Sib_Bias_avgz.head(49).index.values\n",
    "ASD_top49_conn, Sib_top49_conn = [], []\n",
    "N_Connections_total = []\n",
    "for i,v in enumerate(Dist_cut_graphs):\n",
    "    g_ = Dist_cut_graphs[i]\n",
    "    N_Connections_total.append(len(g_.es))\n",
    "    cohe, Nconn = ScoreSTRSet(g_, ASD_STRs, EdgeWeightsDict)\n",
    "    ASD_top49_conn.append(Nconn)\n",
    "    cohe, Nconn = ScoreSTRSet(g_, Sib_STRs, EdgeWeightsDict)\n",
    "    Sib_top49_conn.append(Nconn)\n",
    "ASD_top49_conn = np.array(ASD_top49_conn)\n",
    "Sib_top49_conn = np.array(Sib_top49_conn)\n",
    "N_Connections_total = np.array(N_Connections_total)"
   ]
  },
  {
   "cell_type": "code",
   "execution_count": null,
   "metadata": {},
   "outputs": [],
   "source": [
    "g2_asd_49 = subgraph(g, ASD_STRs)\n",
    "g2_sib_49 = subgraph(g, Sib_STRs)\n",
    "bl_asd = len(g2_asd_49.es)/np.count_nonzero(adj_mat)\n",
    "bl_sib = len(g2_sib_49.es)/np.count_nonzero(adj_mat)"
   ]
  },
  {
   "cell_type": "code",
   "execution_count": null,
   "metadata": {},
   "outputs": [],
   "source": [
    "dat_asd/bl_asd"
   ]
  },
  {
   "cell_type": "code",
   "execution_count": null,
   "metadata": {},
   "outputs": [],
   "source": [
    "fig, (ax1, ax2) = plt.subplots(1, 2, dpi=120, figsize=(8,4))\n",
    "dat_asd = ASD_top49_conn/N_Connections_total\n",
    "dat_sib = Sib_top49_conn/N_Connections_total\n",
    "ax1.plot(Distance_Cuts, dat_asd/bl_asd, marker=\".\", label=\"ASD\")\n",
    "ax1.plot(Distance_Cuts, dat_sib/bl_sib, marker=\".\", label=\"Sib\")\n",
    "ax1.grid(True)\n",
    "ax1.legend()\n",
    "ax1.set_ylabel(\"Connections Enrichment\")\n",
    "ax1.set_xlabel(\"Distance Deciles\")\n",
    "\n",
    "ax2.plot(Distance_Cuts, dat_asd/dat_sib, marker=\".\")\n",
    "ax2.grid(True)\n",
    "ax2.set_ylabel(\"ASD/Sib Ratio\")\n",
    "ax2.set_xlabel(\"Distance Deciles\")\n",
    "fig.savefig(\"figs/CartesianDistDecile.pdf\")"
   ]
  },
  {
   "cell_type": "markdown",
   "metadata": {
    "heading_collapsed": true
   },
   "source": [
    "##### 2. permuted connectome"
   ]
  },
  {
   "cell_type": "code",
   "execution_count": null,
   "metadata": {
    "hidden": true
   },
   "outputs": [],
   "source": [
    "for i in range(5):\n",
    "    adj_permut = pd.read_csv(\"dat/permut_connectome/{}.csv\".format(i), index_col=0)\n",
    "    CD_w_edge_permut = MaskDistMat(adj_permut, Cartesian_distancesDF, cutoff=0)\n",
    "    CD_values = [x for x in CD_w_edge_permut.values.flatten() if x > 0]\n",
    "    CD_deciles = np.percentile(CD_values, np.arange(0, 100, 10))\n",
    "    plt.hist(CD_values)\n",
    "    plt.show()\n",
    "    print(np.mean(CD_values))"
   ]
  },
  {
   "cell_type": "markdown",
   "metadata": {},
   "source": [
    "### Neg bias genes"
   ]
  },
  {
   "cell_type": "code",
   "execution_count": null,
   "metadata": {},
   "outputs": [],
   "source": [
    "Zsco"
   ]
  },
  {
   "cell_type": "code",
   "execution_count": null,
   "metadata": {},
   "outputs": [],
   "source": []
  },
  {
   "cell_type": "code",
   "execution_count": null,
   "metadata": {},
   "outputs": [],
   "source": []
  },
  {
   "cell_type": "code",
   "execution_count": null,
   "metadata": {},
   "outputs": [],
   "source": []
  },
  {
   "cell_type": "markdown",
   "metadata": {
    "heading_collapsed": true
   },
   "source": [
    "#### Other"
   ]
  },
  {
   "cell_type": "code",
   "execution_count": null,
   "metadata": {
    "hidden": true
   },
   "outputs": [],
   "source": [
    "g2.to_undirected()\n",
    "xx = g2.community_spinglass()\n",
    "for cluster in xx:\n",
    "    print()\n",
    "    print(tabulate(nodeDF.loc[cluster, :]))"
   ]
  },
  {
   "cell_type": "code",
   "execution_count": null,
   "metadata": {
    "hidden": true
   },
   "outputs": [],
   "source": [
    "g2.to_undirected()\n",
    "xx = g2.community_walktrap()\n",
    "for cluster in xx.as_clustering():\n",
    "    print()\n",
    "    print(tabulate(nodeDF.loc[cluster, :]))"
   ]
  },
  {
   "cell_type": "code",
   "execution_count": null,
   "metadata": {
    "hidden": true
   },
   "outputs": [],
   "source": []
  },
  {
   "cell_type": "code",
   "execution_count": null,
   "metadata": {
    "hidden": true
   },
   "outputs": [],
   "source": []
  },
  {
   "cell_type": "code",
   "execution_count": null,
   "metadata": {
    "hidden": true
   },
   "outputs": [],
   "source": []
  },
  {
   "cell_type": "markdown",
   "metadata": {},
   "source": [
    "### DEV SA with fixed size\n",
    "\n"
   ]
  },
  {
   "cell_type": "markdown",
   "metadata": {
    "heading_collapsed": true
   },
   "source": [
    "#### test"
   ]
  },
  {
   "cell_type": "code",
   "execution_count": null,
   "metadata": {
    "hidden": true
   },
   "outputs": [],
   "source": [
    "N_size = 30\n",
    "CandidateNodes = SparkMetaBias.head(50).index.values\n",
    "Init_States = np.ones(len(CandidateNodes))\n",
    "for idx in range(len(Init_States)):\n",
    "    if idx > N_size-1:\n",
    "        Init_States[idx] = 0\n",
    "ins = MostCohesiveCirtuisGivenNCandidates(Init_States, g, CandidateNodes, EdgeWeightsDict, Weighted=False, Direction=False)"
   ]
  },
  {
   "cell_type": "code",
   "execution_count": null,
   "metadata": {
    "hidden": true
   },
   "outputs": [],
   "source": [
    "ins.copy_strategy = \"deepcopy\"\n",
    "ins.Tmax=1e-2\n",
    "ins.Tmin=1e-5\n",
    "Tmps, Energys, state, e = ins.anneal()\n",
    "print(\"Done\")"
   ]
  },
  {
   "cell_type": "code",
   "execution_count": null,
   "metadata": {
    "hidden": true
   },
   "outputs": [],
   "source": [
    "InCirtuitNodes = ins.CandidateNodes[np.where(ins.state==1)[0]]\n",
    "print(1-e, len(InCirtuitNodes))\n",
    "RegionDistributionsList(InCirtuitNodes)"
   ]
  },
  {
   "cell_type": "code",
   "execution_count": null,
   "metadata": {
    "hidden": true
   },
   "outputs": [],
   "source": [
    "InCirtuitNodes = ins.CandidateNodes[np.where(ins.state==1)[0]]\n",
    "print(1-e, len(InCirtuitNodes))\n",
    "RegionDistributionsList(InCirtuitNodes)"
   ]
  },
  {
   "cell_type": "code",
   "execution_count": null,
   "metadata": {
    "hidden": true
   },
   "outputs": [],
   "source": [
    "InCirtuitNodes = ins.CandidateNodes[np.where(ins.state==1)[0]]\n",
    "print(1-e, len(InCirtuitNodes))\n",
    "RegionDistributionsList(InCirtuitNodes)"
   ]
  },
  {
   "cell_type": "markdown",
   "metadata": {
    "heading_collapsed": true
   },
   "source": [
    "#### Load"
   ]
  },
  {
   "cell_type": "code",
   "execution_count": null,
   "metadata": {
    "hidden": true
   },
   "outputs": [],
   "source": [
    "real_SA = pd.read_csv(\"dat/SA.Real/real.w.50.csv\")"
   ]
  },
  {
   "cell_type": "code",
   "execution_count": null,
   "metadata": {
    "hidden": true
   },
   "outputs": [],
   "source": [
    "STRs = real_SA.columns.values\n",
    "xx, yy = [], []\n",
    "for i, row in real_SA.iterrows():\n",
    "    state = row.values\n",
    "    InCirtuitNodes = STRs[np.where(state==1)[0]] \n",
    "    score, x = ScoreSTRSet(g, InCirtuitNodes, EdgeWeightsDict, Weighted=True, Direction=False)\n",
    "    print(sum(state), score)\n",
    "    xx.append(sum(state))\n",
    "    yy.append(score)"
   ]
  },
  {
   "cell_type": "code",
   "execution_count": null,
   "metadata": {
    "hidden": true
   },
   "outputs": [],
   "source": [
    "plt.plot(xx, yy)"
   ]
  },
  {
   "cell_type": "markdown",
   "metadata": {
    "heading_collapsed": true
   },
   "source": [
    "### XX"
   ]
  },
  {
   "cell_type": "code",
   "execution_count": null,
   "metadata": {
    "hidden": true
   },
   "outputs": [],
   "source": [
    "Candidate_CircuitNodes = SparkMetaBias.head(49).index.values\n",
    "g2 = subgraph(g, Candidate_CircuitNodes)\n",
    "real_graph_size, real_stats, real_graphs, real_trimmed_vs = CircuitTrimming(g2, g2, {})"
   ]
  },
  {
   "cell_type": "code",
   "execution_count": null,
   "metadata": {
    "hidden": true
   },
   "outputs": [],
   "source": [
    "idx = 16\n",
    "print(len(real_graphs[idx].vs))\n",
    "RegionDistributionsList(real_graphs[idx].vs['label'])"
   ]
  },
  {
   "cell_type": "code",
   "execution_count": null,
   "metadata": {
    "hidden": true
   },
   "outputs": [],
   "source": [
    "for i, (x, y) in enumerate(zip(real_stats, real_trimmed_vs)):\n",
    "    print(i, 49-i, x,y[\"label\"])"
   ]
  },
  {
   "cell_type": "code",
   "execution_count": null,
   "metadata": {
    "hidden": true,
    "scrolled": true
   },
   "outputs": [],
   "source": [
    "All_perm_stats = []\n",
    "for i in range(1000):\n",
    "    print(i)\n",
    "    g_perm = Permutated_Graphs[i]\n",
    "    g2_perm = subgraph(g_perm, Candidate_CircuitNodes)\n",
    "    perm_graph_size, perm_stats, perm_graphs, perm_trimmed_vs = CircuitTrimming(g2_perm, g2_perm, {})\n",
    "    perm_stats = np.array(perm_stats)\n",
    "    All_perm_stats.append(perm_stats)\n",
    "All_perm_stats = np.array(All_perm_stats)"
   ]
  },
  {
   "cell_type": "code",
   "execution_count": null,
   "metadata": {
    "hidden": true
   },
   "outputs": [],
   "source": [
    "len(real_stats), All_perm_stats.shape"
   ]
  },
  {
   "cell_type": "code",
   "execution_count": null,
   "metadata": {
    "hidden": true
   },
   "outputs": [],
   "source": [
    "fig, (ax1, ax2) = plt.subplots(1,2, figsize=(12,4), dpi=240)\n",
    "Ratios = []\n",
    "for i, N_size in enumerate(range(49, 2, -1)):\n",
    "    ratio = real_stats[i]/np.mean(All_perm_stats[:, i])\n",
    "    #print(N_size, ratio)\n",
    "    ax1.vlines(N_size, min(All_perm_stats[:, i]), max(All_perm_stats[:, i]), color = \"blue\", lw=1)\n",
    "    ax1.scatter(N_size, real_stats[i], color=\"black\")\n",
    "    ax1.scatter(N_size, np.mean(All_perm_stats[:, i]), color=\"blue\")\n",
    "    Ratios.append(ratio)\n",
    "ax2.plot(range(49, 2, -1), Ratios, marker=\".\", color=\"black\")\n",
    "ax1.invert_xaxis()\n",
    "ax2.invert_xaxis()\n",
    "ax1.set_ylabel(\"Cohesivness\")\n",
    "ax2.set_ylabel(\"Cohesivness Ratio\")\n",
    "ax1.grid(True)\n",
    "ax2.grid(True)"
   ]
  },
  {
   "cell_type": "code",
   "execution_count": null,
   "metadata": {
    "hidden": true
   },
   "outputs": [],
   "source": []
  },
  {
   "cell_type": "markdown",
   "metadata": {
    "heading_collapsed": true
   },
   "source": [
    "### Trimming with fixed size and normlize with boostraped"
   ]
  },
  {
   "cell_type": "code",
   "execution_count": null,
   "metadata": {
    "hidden": true
   },
   "outputs": [],
   "source": [
    "# Preload permutated Graph\n",
    "Permutated_Graphs = []\n",
    "for i in range(1000):\n",
    "    adj_mat_perm = pd.read_csv(\"dat/permut_connectome/{}.csv\".format(i), index_col=0)\n",
    "    g_perm = LoadConnectome2(adj_mat_perm)\n",
    "    Permutated_Graphs.append(g_perm)"
   ]
  },
  {
   "cell_type": "code",
   "execution_count": null,
   "metadata": {
    "hidden": true
   },
   "outputs": [],
   "source": [
    "# Real Connectome\n",
    "Candidate_CircuitNodes = SparkMetaBias.head(50).index.values\n",
    "g2 = subgraph(g, Candidate_CircuitNodes)\n",
    "real_graph_size, real_stats, real_graphs, real_trimmed_vs = CircuitTrimming(g2, g, {})"
   ]
  },
  {
   "cell_type": "code",
   "execution_count": null,
   "metadata": {
    "hidden": true
   },
   "outputs": [],
   "source": [
    "g2.transitivity_undirected()"
   ]
  },
  {
   "cell_type": "code",
   "execution_count": null,
   "metadata": {
    "hidden": true
   },
   "outputs": [],
   "source": []
  },
  {
   "cell_type": "code",
   "execution_count": null,
   "metadata": {
    "hidden": true
   },
   "outputs": [],
   "source": [
    "real_stats"
   ]
  },
  {
   "cell_type": "code",
   "execution_count": null,
   "metadata": {
    "hidden": true
   },
   "outputs": [],
   "source": []
  },
  {
   "cell_type": "code",
   "execution_count": null,
   "metadata": {
    "hidden": true
   },
   "outputs": [],
   "source": []
  },
  {
   "cell_type": "code",
   "execution_count": null,
   "metadata": {
    "hidden": true
   },
   "outputs": [],
   "source": []
  },
  {
   "cell_type": "code",
   "execution_count": null,
   "metadata": {
    "hidden": true,
    "scrolled": true
   },
   "outputs": [],
   "source": [
    "All_perm_stats = []\n",
    "for i in range(1000):\n",
    "    print(i)\n",
    "    g_perm = Permutated_Graphs[i]\n",
    "    g2_perm = subgraph(g_perm, Candidate_CircuitNodes)\n",
    "    perm_graph_size, perm_stats, perm_graphs, perm_trimmed_vs = CircuitTrimming(g2_perm, g_perm, {})\n",
    "    perm_stats = np.array(perm_stats)\n",
    "    All_perm_stats.append(perm_stats)\n",
    "All_perm_stats = np.array(All_perm_stats)"
   ]
  },
  {
   "cell_type": "code",
   "execution_count": null,
   "metadata": {
    "hidden": true
   },
   "outputs": [],
   "source": [
    "All_perm_stats.shape"
   ]
  },
  {
   "cell_type": "code",
   "execution_count": null,
   "metadata": {
    "hidden": true
   },
   "outputs": [],
   "source": [
    "fig, (ax1, ax2) = plt.subplots(1,2, figsize=(12,4), dpi=240)\n",
    "Ratios = []\n",
    "for i, N_size in enumerate(range(50, 10, -1)):\n",
    "    ratio = real_stats[i]/np.mean(All_perm_stats[:, i])\n",
    "    #print(N_size, ratio)\n",
    "    ax1.vlines(N_size, min(All_perm_stats[:, i]), max(All_perm_stats[:, i]), color = \"blue\", lw=1)\n",
    "    ax1.scatter(N_size, real_stats[i], color=\"black\")\n",
    "    ax1.scatter(N_size, np.mean(All_perm_stats[:, i]), color=\"blue\")\n",
    "    Ratios.append(ratio)\n",
    "ax2.plot(range(50, 10, -1), Ratios, marker=\".\", color=\"black\")\n",
    "ax1.invert_xaxis()\n",
    "ax2.invert_xaxis()\n",
    "ax1.set_ylabel(\"Cohesivness\")\n",
    "ax2.set_ylabel(\"Cohesivness Ratio\")"
   ]
  },
  {
   "cell_type": "code",
   "execution_count": null,
   "metadata": {
    "hidden": true
   },
   "outputs": [],
   "source": [
    "XXX = real_graphs[idx].vs[\"label\"] + [\"Caudoputamen\", \"Nucleus_accumbens\"]"
   ]
  },
  {
   "cell_type": "code",
   "execution_count": null,
   "metadata": {
    "hidden": true
   },
   "outputs": [],
   "source": [
    "ScoreSTRSet(g, real_graphs[idx].vs[\"label\"], {},)"
   ]
  },
  {
   "cell_type": "code",
   "execution_count": null,
   "metadata": {
    "hidden": true
   },
   "outputs": [],
   "source": [
    "ScoreSTRSet(g, XXX, {},)"
   ]
  },
  {
   "cell_type": "code",
   "execution_count": null,
   "metadata": {
    "hidden": true
   },
   "outputs": [],
   "source": [
    "RegionDistributionsList(SparkMetaBias.head(50).index.values)"
   ]
  },
  {
   "cell_type": "code",
   "execution_count": null,
   "metadata": {
    "hidden": true
   },
   "outputs": [],
   "source": [
    "# real_graph_size, real_stats, real_graphs, real_trimmed_vs\n",
    "idx = 26\n",
    "print(real_graph_size[idx])\n",
    "RegionDistributionsList(real_graphs[idx].vs[\"label\"])"
   ]
  },
  {
   "cell_type": "code",
   "execution_count": null,
   "metadata": {
    "hidden": true
   },
   "outputs": [],
   "source": [
    "for idx, v in zip(real_graph_size, real_trimmed_vs):\n",
    "    print(idx, v['label'])"
   ]
  },
  {
   "cell_type": "code",
   "execution_count": null,
   "metadata": {
    "hidden": true
   },
   "outputs": [],
   "source": [
    "dat = []\n",
    "for idx, v in zip(real_graph_size, real_trimmed_vs):\n",
    "    print(idx, v['label'], SparkMetaBias.loc[v[\"label\"], \"EFFECT\"])\n",
    "    dat.append(SparkMetaBias.loc[v[\"label\"], \"EFFECT\"])"
   ]
  },
  {
   "cell_type": "code",
   "execution_count": null,
   "metadata": {
    "hidden": true
   },
   "outputs": [],
   "source": [
    "plt.plot(range(40), dat)"
   ]
  },
  {
   "cell_type": "markdown",
   "metadata": {
    "heading_collapsed": true
   },
   "source": [
    "### Triming Connectivity"
   ]
  },
  {
   "cell_type": "code",
   "execution_count": null,
   "metadata": {
    "hidden": true
   },
   "outputs": [],
   "source": [
    "Candidate_CircuitNodes = SparkMetaBias.head(50).index.values\n",
    "g2 = subgraph(g, Candidate_CircuitNodes)\n",
    "real_graph_size, real_stats, real_graphs, real_trimmed_vs = CircuitTrimming(g2, g, {})"
   ]
  },
  {
   "cell_type": "code",
   "execution_count": null,
   "metadata": {
    "hidden": true
   },
   "outputs": [],
   "source": [
    "plt.plot(range(40), real_stats)"
   ]
  },
  {
   "cell_type": "code",
   "execution_count": null,
   "metadata": {
    "hidden": true
   },
   "outputs": [],
   "source": [
    "real_trimmed_vs"
   ]
  },
  {
   "cell_type": "code",
   "execution_count": null,
   "metadata": {
    "hidden": true
   },
   "outputs": [],
   "source": []
  },
  {
   "cell_type": "code",
   "execution_count": null,
   "metadata": {
    "hidden": true
   },
   "outputs": [],
   "source": []
  },
  {
   "cell_type": "markdown",
   "metadata": {},
   "source": [
    "### Circuit Trimming With Cohesivness Effect Size (normlize with N)"
   ]
  },
  {
   "cell_type": "code",
   "execution_count": null,
   "metadata": {},
   "outputs": [],
   "source": [
    "# Preload permutated Graph\n",
    "Permutated_Graphs = []\n",
    "for i in range(1000):\n",
    "    adj_mat_perm = pd.read_csv(\"dat/permut_connectome/{}.csv\".format(i), index_col=0)\n",
    "    g_perm = LoadConnectome2(adj_mat_perm)\n",
    "    Permutated_Graphs.append(g_perm)"
   ]
  },
  {
   "cell_type": "code",
   "execution_count": null,
   "metadata": {},
   "outputs": [],
   "source": [
    "# Functions\n",
    "def GreedyTrim(DF, topN, graph, perm_graphs):\n",
    "    opt_stats, graphs, trimmed_Vs = [], [], [] \n",
    "    CircuitNodes = DF.head(topN).index.values\n",
    "    for i in range(topN, 1, -1):\n",
    "        CircuitNodes, stat, trimmed_v, p = argmax_optimize_stat(CircuitNodes, graph, perm_graphs)\n",
    "        graphs.append(CircuitNodes)\n",
    "        opt_stats.append(stat)\n",
    "        trimmed_Vs.append(trimmed_v)\n",
    "        \n",
    "        #print(i, stat, trimmed_v)\n",
    "        yield i, stat, trimmed_v, p\n",
    "    #idx = np.argmax(exp_stats)\n",
    "    #circuit_STRs = graphs[idx]\n",
    "    #cohe_norm = exp_stats[idx]\n",
    "    #return circuit_STRs, exp_stats[idx], trimmed_Vs\n",
    "        \n",
    "def argmax_optimize_stat(CircuitNodes, graph, perm_graphs):\n",
    "    opt_stats, CandidateCircuitGroup, vs, Pvalues = [], [], [], []\n",
    "    # Cohesivness of Real Graoh\n",
    "    for i, v in enumerate(CircuitNodes):\n",
    "        Candidate_CircuitNodes = list(copy.deepcopy(CircuitNodes))\n",
    "        Candidate_CircuitNodes.remove(v)\n",
    "        tmp_graph = subgraph(graph, Candidate_CircuitNodes)\n",
    "        #stat = CohesiveAVG(graph, tmp_graph)\n",
    "        stat = tmp_graph.transitivity_undirected()\n",
    "        stat_perms = []\n",
    "        for g_perm in perm_graphs:\n",
    "            tmp_graph_perm = subgraph(g_perm, Candidate_CircuitNodes)\n",
    "            #stat_perm = CohesiveAVG(g_perm, tmp_graph_perm)\n",
    "            stat_perm = tmp_graph_perm.transitivity_undirected()\n",
    "            stat_perms.append(stat_perm)\n",
    "        norm_cohe = stat/np.mean(stat_perms)\n",
    "        opt_stats.append(norm_cohe)\n",
    "        CandidateCircuitGroup.append(Candidate_CircuitNodes)\n",
    "        vs.append(v)\n",
    "        #print(norm_cohe, v)\n",
    "        Z, P = GetPermutationP(stat_perms, stat)\n",
    "        Pvalues.append(P)\n",
    "        \n",
    "    idx = np.argmax(opt_stats)\n",
    "    trimmed_v = vs[idx]\n",
    "    max_norm_cohe = opt_stats[idx]\n",
    "    P = Pvalues[idx]\n",
    "    return CandidateCircuitGroup[idx], max_norm_cohe, trimmed_v, P\n",
    "        \n",
    "def CohesiveAVG(completeGraph, subGraph):\n",
    "    cohesives = []\n",
    "    CandidateNodes = set(subGraph.vs[\"label\"])\n",
    "    for v in completeGraph.vs:\n",
    "        if v['label'] in CandidateNodes:\n",
    "            coh, _ = CohesivenessSingleNodeMaxInOut2(completeGraph, subGraph, v, {}, weighted=False)\n",
    "            cohesives.append(coh)\n",
    "    return np.mean(cohesives)"
   ]
  },
  {
   "cell_type": "code",
   "execution_count": null,
   "metadata": {
    "scrolled": false
   },
   "outputs": [],
   "source": [
    "#circuit_STRs, exp_stats[idx], removed = GreedyTrim(SparkMetaBias, 50, g, Permutated_Graphs)\n",
    "AA, BB = [], []\n",
    "for i, stat, trimmed_v, p in GreedyTrim(SparkMetaBias, 50, g, Permutated_Graphs):\n",
    "    print(i, stat, trimmed_v, p)\n",
    "    AA.append(stat)\n",
    "    BB.append(trimmed_v)"
   ]
  },
  {
   "cell_type": "code",
   "execution_count": null,
   "metadata": {},
   "outputs": [],
   "source": [
    "plt.plot(range(49), AA)"
   ]
  },
  {
   "cell_type": "markdown",
   "metadata": {
    "heading_collapsed": true
   },
   "source": [
    "### Trimming with fixed size and normlize with boostraped"
   ]
  },
  {
   "cell_type": "code",
   "execution_count": null,
   "metadata": {
    "hidden": true
   },
   "outputs": [],
   "source": [
    "# Functions\n",
    "def GreedyTrim(DF, topN, graph, perm_graphs):\n",
    "    opt_stats, graphs, trimmed_Vs = [], [], [] \n",
    "    CircuitNodes = DF.head(topN).index.values\n",
    "    for i in range(topN, 2, -1):\n",
    "        CircuitNodes, stat, trimmed_v, p = argmax_optimize_stat(CircuitNodes, graph, perm_graphs)\n",
    "        graphs.append(CircuitNodes)\n",
    "        opt_stats.append(stat)\n",
    "        trimmed_Vs.append(trimmed_v)\n",
    "        \n",
    "        yield i, stat, trimmed_v, p\n",
    "        \n",
    "def argmax_optimize_stat_at_sizeN(CircuitNodes, graph, perm_graphs):\n",
    "    opt_stats, CandidateCircuitGroup, vs, Pvalues = [], [], [], []\n",
    "    # Cohesivness of Real Graoh\n",
    "    for i, v in enumerate(CircuitNodes):\n",
    "        Candidate_CircuitNodes = list(copy.deepcopy(CircuitNodes))\n",
    "        Candidate_CircuitNodes.remove(v)\n",
    "        tmp_graph = subgraph(graph, Candidate_CircuitNodes)\n",
    "        stat = CohesiveAVG(graph, tmp_graph)\n",
    "        stat_perms = []\n",
    "        for g_perm in perm_graphs:\n",
    "            tmp_graph_perm = subgraph(g_perm, Candidate_CircuitNodes)\n",
    "            stat_perm = CohesiveAVG(g_perm, tmp_graph_perm)\n",
    "            stat_perms.append(stat_perm)\n",
    "        norm_cohe = stat/np.mean(stat_perms)\n",
    "        opt_stats.append(norm_cohe)\n",
    "        CandidateCircuitGroup.append(Candidate_CircuitNodes)\n",
    "        vs.append(v)\n",
    "        #print(norm_cohe, v)\n",
    "        Z, P = GetPermutationP(stat_perms, stat)\n",
    "        Pvalues.append(P)\n",
    "        \n",
    "    idx = np.argmax(opt_stats)\n",
    "    trimmed_v = vs[idx]\n",
    "    max_norm_cohe = opt_stats[idx]\n",
    "    P = Pvalues[idx]\n",
    "    return CandidateCircuitGroup[idx], max_norm_cohe, trimmed_v, P\n",
    "        \n",
    "def CohesiveAVG(completeGraph, subGraph):\n",
    "    cohesives = []\n",
    "    CandidateNodes = set(subGraph.vs[\"label\"])\n",
    "    for v in completeGraph.vs:\n",
    "        if v['label'] in CandidateNodes:\n",
    "            coh, _ = CohesivenessSingleNodeMaxInOut2(completeGraph, subGraph, v, {}, weighted=False)\n",
    "            cohesives.append(coh)\n",
    "    return np.mean(cohesives)"
   ]
  },
  {
   "cell_type": "code",
   "execution_count": null,
   "metadata": {
    "hidden": true
   },
   "outputs": [],
   "source": []
  }
 ],
 "metadata": {
  "kernelspec": {
   "display_name": "Python 3",
   "language": "python",
   "name": "python3"
  },
  "language_info": {
   "codemirror_mode": {
    "name": "ipython",
    "version": 3
   },
   "file_extension": ".py",
   "mimetype": "text/x-python",
   "name": "python",
   "nbconvert_exporter": "python",
   "pygments_lexer": "ipython3",
   "version": "3.7.1"
  }
 },
 "nbformat": 4,
 "nbformat_minor": 2
}
